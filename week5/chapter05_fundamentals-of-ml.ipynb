{
  "cells": [
    {
      "cell_type": "markdown",
      "metadata": {
        "id": "view-in-github",
        "colab_type": "text"
      },
      "source": [
        "<a href=\"https://colab.research.google.com/github/ytg000629/ai4dl/blob/main/week5/chapter05_fundamentals-of-ml.ipynb\" target=\"_parent\"><img src=\"https://colab.research.google.com/assets/colab-badge.svg\" alt=\"Open In Colab\"/></a>"
      ]
    },
    {
      "cell_type": "markdown",
      "metadata": {
        "id": "t--ATB0WWkNE"
      },
      "source": [
        "This is a companion notebook for the book [Deep Learning with Python, Second Edition](https://www.manning.com/books/deep-learning-with-python-second-edition?a_aid=keras&a_bid=76564dff). For readability, it only contains runnable code blocks and section titles, and omits everything else in the book: text paragraphs, figures, and pseudocode.\n",
        "\n",
        "**If you want to be able to follow what's going on, I recommend reading the notebook side by side with your copy of the book.**\n",
        "\n",
        "This notebook was generated for TensorFlow 2.6."
      ]
    },
    {
      "cell_type": "markdown",
      "metadata": {
        "id": "mERjSpIwWkNH"
      },
      "source": [
        "# Fundamentals of machine learning"
      ]
    },
    {
      "cell_type": "markdown",
      "metadata": {
        "id": "8OseK9yMWkNH"
      },
      "source": [
        "## Generalization: The goal of machine learning"
      ]
    },
    {
      "cell_type": "markdown",
      "metadata": {
        "id": "mnuObbBwWkNJ"
      },
      "source": [
        "### Underfitting and overfitting"
      ]
    },
    {
      "cell_type": "markdown",
      "metadata": {
        "id": "vwznKdOUWkNK"
      },
      "source": [
        "#### Noisy training data"
      ]
    },
    {
      "cell_type": "markdown",
      "metadata": {
        "id": "UHDJqF4HWkNK"
      },
      "source": [
        "#### Ambiguous features"
      ]
    },
    {
      "cell_type": "markdown",
      "metadata": {
        "id": "Iy8-1moPWkNK"
      },
      "source": [
        "#### Rare features and spurious correlations"
      ]
    },
    {
      "cell_type": "markdown",
      "metadata": {
        "id": "t4tmDENyWkNK"
      },
      "source": [
        "**Adding white-noise channels or all-zeros channels to MNIST**"
      ]
    },
    {
      "cell_type": "code",
      "execution_count": 1,
      "metadata": {
        "id": "ZAJHc0YcWkNK"
      },
      "outputs": [],
      "source": [
        "from tensorflow.keras.datasets import mnist\n",
        "import numpy as np\n",
        "\n",
        "(train_images, train_labels), _ = mnist.load_data()\n",
        "train_images = train_images.reshape((60000, 28 * 28))\n",
        "train_images = train_images.astype(\"float32\") / 255\n",
        "\n",
        "train_images_with_noise_channels = np.concatenate(\n",
        "    [train_images, np.random.random((len(train_images), 784))], axis=1)\n",
        "\n",
        "train_images_with_zeros_channels = np.concatenate(\n",
        "    [train_images, np.zeros((len(train_images), 784))], axis=1)\n",
        "\n",
        "#concatenate axis =1 : 열방향(좌->우)으로 배열 합치기"
      ]
    },
    {
      "cell_type": "code",
      "source": [
        "train_images.shape"
      ],
      "metadata": {
        "id": "z0RCJw-rYE7l",
        "outputId": "89eedc5b-9969-4c37-fc38-63ca59efd218",
        "colab": {
          "base_uri": "https://localhost:8080/"
        }
      },
      "execution_count": null,
      "outputs": [
        {
          "output_type": "execute_result",
          "data": {
            "text/plain": [
              "(60000, 784)"
            ]
          },
          "metadata": {},
          "execution_count": 2
        }
      ]
    },
    {
      "cell_type": "code",
      "source": [
        "np.random.random((len(train_images), 784)).shape"
      ],
      "metadata": {
        "id": "1QXwGh4DYJOQ",
        "outputId": "47916f7a-d8c6-42b7-a303-bf9ec39af925",
        "colab": {
          "base_uri": "https://localhost:8080/"
        }
      },
      "execution_count": null,
      "outputs": [
        {
          "output_type": "execute_result",
          "data": {
            "text/plain": [
              "(60000, 784)"
            ]
          },
          "metadata": {},
          "execution_count": 7
        }
      ]
    },
    {
      "cell_type": "code",
      "source": [
        "np.concatenate(\n",
        "    [train_images, np.random.random((len(train_images), 784))], axis=1).shape"
      ],
      "metadata": {
        "id": "Ysgs0dmWYK9b",
        "outputId": "3e2a0903-7fa6-440b-811c-e22e23ee47c4",
        "colab": {
          "base_uri": "https://localhost:8080/"
        }
      },
      "execution_count": null,
      "outputs": [
        {
          "output_type": "execute_result",
          "data": {
            "text/plain": [
              "(60000, 1568)"
            ]
          },
          "metadata": {},
          "execution_count": 8
        }
      ]
    },
    {
      "cell_type": "code",
      "source": [
        "train_images_with_noise_channels[0]"
      ],
      "metadata": {
        "id": "57h9Yu5lZCIs",
        "outputId": "593878a8-b563-4f77-fcf7-0956f3c221f1",
        "colab": {
          "base_uri": "https://localhost:8080/"
        }
      },
      "execution_count": null,
      "outputs": [
        {
          "output_type": "execute_result",
          "data": {
            "text/plain": [
              "array([0.        , 0.        , 0.        , ..., 0.45998036, 0.83883052,\n",
              "       0.02026337])"
            ]
          },
          "metadata": {},
          "execution_count": 9
        }
      ]
    },
    {
      "cell_type": "code",
      "source": [
        "train_images_with_zeros_channels[0]"
      ],
      "metadata": {
        "id": "qVx7Xo43ZNqL",
        "outputId": "bc5c884a-f4a3-430f-9f1d-3e5e6ceef9f2",
        "colab": {
          "base_uri": "https://localhost:8080/"
        }
      },
      "execution_count": null,
      "outputs": [
        {
          "output_type": "execute_result",
          "data": {
            "text/plain": [
              "array([0., 0., 0., ..., 0., 0., 0.])"
            ]
          },
          "metadata": {},
          "execution_count": 10
        }
      ]
    },
    {
      "cell_type": "markdown",
      "metadata": {
        "id": "8XlTwbOPWkNL"
      },
      "source": [
        "**Training the same model on MNIST data with noise channels or all-zero channels**"
      ]
    },
    {
      "cell_type": "code",
      "execution_count": 2,
      "metadata": {
        "id": "k4zMlILqWkNL",
        "outputId": "35748b8e-b01b-47c3-d660-56f01608415b",
        "colab": {
          "base_uri": "https://localhost:8080/"
        }
      },
      "outputs": [
        {
          "output_type": "stream",
          "name": "stdout",
          "text": [
            "Epoch 1/10\n",
            "375/375 [==============================] - 6s 4ms/step - loss: 0.6198 - accuracy: 0.8102 - val_loss: 0.3038 - val_accuracy: 0.9052\n",
            "Epoch 2/10\n",
            "375/375 [==============================] - 1s 3ms/step - loss: 0.2581 - accuracy: 0.9207 - val_loss: 0.2204 - val_accuracy: 0.9319\n",
            "Epoch 3/10\n",
            "375/375 [==============================] - 2s 4ms/step - loss: 0.1699 - accuracy: 0.9469 - val_loss: 0.1534 - val_accuracy: 0.9548\n",
            "Epoch 4/10\n",
            "375/375 [==============================] - 2s 5ms/step - loss: 0.1216 - accuracy: 0.9619 - val_loss: 0.1507 - val_accuracy: 0.9548\n",
            "Epoch 5/10\n",
            "375/375 [==============================] - 1s 4ms/step - loss: 0.0877 - accuracy: 0.9726 - val_loss: 0.1546 - val_accuracy: 0.9540\n",
            "Epoch 6/10\n",
            "375/375 [==============================] - 1s 3ms/step - loss: 0.0660 - accuracy: 0.9788 - val_loss: 0.1371 - val_accuracy: 0.9586\n",
            "Epoch 7/10\n",
            "375/375 [==============================] - 1s 4ms/step - loss: 0.0484 - accuracy: 0.9848 - val_loss: 0.1386 - val_accuracy: 0.9591\n",
            "Epoch 8/10\n",
            "375/375 [==============================] - 1s 3ms/step - loss: 0.0364 - accuracy: 0.9882 - val_loss: 0.1324 - val_accuracy: 0.9673\n",
            "Epoch 9/10\n",
            "375/375 [==============================] - 1s 3ms/step - loss: 0.0271 - accuracy: 0.9910 - val_loss: 0.1823 - val_accuracy: 0.9528\n",
            "Epoch 10/10\n",
            "375/375 [==============================] - 1s 4ms/step - loss: 0.0188 - accuracy: 0.9944 - val_loss: 0.1237 - val_accuracy: 0.9688\n",
            "Epoch 1/10\n",
            "375/375 [==============================] - 2s 4ms/step - loss: 0.2943 - accuracy: 0.9156 - val_loss: 0.1832 - val_accuracy: 0.9452\n",
            "Epoch 2/10\n",
            "375/375 [==============================] - 1s 3ms/step - loss: 0.1257 - accuracy: 0.9630 - val_loss: 0.1030 - val_accuracy: 0.9692\n",
            "Epoch 3/10\n",
            "375/375 [==============================] - 1s 3ms/step - loss: 0.0821 - accuracy: 0.9752 - val_loss: 0.0949 - val_accuracy: 0.9726\n",
            "Epoch 4/10\n",
            "375/375 [==============================] - 1s 3ms/step - loss: 0.0580 - accuracy: 0.9830 - val_loss: 0.0845 - val_accuracy: 0.9746\n",
            "Epoch 5/10\n",
            "375/375 [==============================] - 1s 3ms/step - loss: 0.0442 - accuracy: 0.9866 - val_loss: 0.0753 - val_accuracy: 0.9774\n",
            "Epoch 6/10\n",
            "375/375 [==============================] - 1s 3ms/step - loss: 0.0333 - accuracy: 0.9901 - val_loss: 0.0723 - val_accuracy: 0.9775\n",
            "Epoch 7/10\n",
            "375/375 [==============================] - 1s 3ms/step - loss: 0.0252 - accuracy: 0.9928 - val_loss: 0.0880 - val_accuracy: 0.9752\n",
            "Epoch 8/10\n",
            "375/375 [==============================] - 1s 4ms/step - loss: 0.0190 - accuracy: 0.9946 - val_loss: 0.0785 - val_accuracy: 0.9789\n",
            "Epoch 9/10\n",
            "375/375 [==============================] - 2s 4ms/step - loss: 0.0141 - accuracy: 0.9963 - val_loss: 0.0741 - val_accuracy: 0.9795\n",
            "Epoch 10/10\n",
            "375/375 [==============================] - 1s 4ms/step - loss: 0.0102 - accuracy: 0.9979 - val_loss: 0.0756 - val_accuracy: 0.9787\n",
            "Epoch 1/10\n",
            "375/375 [==============================] - 2s 4ms/step - loss: 0.2887 - accuracy: 0.9176 - val_loss: 0.1488 - val_accuracy: 0.9583\n",
            "Epoch 2/10\n",
            "375/375 [==============================] - 1s 3ms/step - loss: 0.1204 - accuracy: 0.9646 - val_loss: 0.1102 - val_accuracy: 0.9681\n",
            "Epoch 3/10\n",
            "375/375 [==============================] - 1s 3ms/step - loss: 0.0792 - accuracy: 0.9766 - val_loss: 0.0921 - val_accuracy: 0.9732\n",
            "Epoch 4/10\n",
            "375/375 [==============================] - 1s 3ms/step - loss: 0.0565 - accuracy: 0.9831 - val_loss: 0.0860 - val_accuracy: 0.9732\n",
            "Epoch 5/10\n",
            "375/375 [==============================] - 1s 3ms/step - loss: 0.0431 - accuracy: 0.9866 - val_loss: 0.0792 - val_accuracy: 0.9759\n",
            "Epoch 6/10\n",
            "375/375 [==============================] - 1s 3ms/step - loss: 0.0322 - accuracy: 0.9908 - val_loss: 0.0859 - val_accuracy: 0.9752\n",
            "Epoch 7/10\n",
            "375/375 [==============================] - 1s 4ms/step - loss: 0.0238 - accuracy: 0.9930 - val_loss: 0.0754 - val_accuracy: 0.9785\n",
            "Epoch 8/10\n",
            "375/375 [==============================] - 2s 4ms/step - loss: 0.0182 - accuracy: 0.9948 - val_loss: 0.0734 - val_accuracy: 0.9793\n",
            "Epoch 9/10\n",
            "375/375 [==============================] - 2s 4ms/step - loss: 0.0137 - accuracy: 0.9966 - val_loss: 0.0805 - val_accuracy: 0.9793\n",
            "Epoch 10/10\n",
            "375/375 [==============================] - 1s 3ms/step - loss: 0.0102 - accuracy: 0.9975 - val_loss: 0.0734 - val_accuracy: 0.9808\n"
          ]
        }
      ],
      "source": [
        "from tensorflow import keras\n",
        "from tensorflow.keras import layers\n",
        "\n",
        "def get_model():\n",
        "    model = keras.Sequential([\n",
        "        layers.Dense(512, activation=\"relu\"),\n",
        "        layers.Dense(10, activation=\"softmax\")\n",
        "    ])\n",
        "    model.compile(optimizer=\"rmsprop\",\n",
        "                  loss=\"sparse_categorical_crossentropy\",\n",
        "                  metrics=[\"accuracy\"])\n",
        "    return model\n",
        "\n",
        "model = get_model()\n",
        "history_noise = model.fit(\n",
        "    train_images_with_noise_channels, train_labels,\n",
        "    epochs=10,\n",
        "    batch_size=128,\n",
        "    validation_split=0.2)\n",
        "\n",
        "model = get_model()\n",
        "history_zeros = model.fit(\n",
        "    train_images_with_zeros_channels, train_labels,\n",
        "    epochs=10,\n",
        "    batch_size=128,\n",
        "    validation_split=0.2)\n",
        "\n",
        "model = get_model()\n",
        "history_original = model.fit(\n",
        "    train_images, train_labels,\n",
        "    epochs=10,\n",
        "    batch_size=128,\n",
        "    validation_split=0.2)"
      ]
    },
    {
      "cell_type": "markdown",
      "metadata": {
        "id": "S8wdB34IWkNM"
      },
      "source": [
        "**Plotting a validation accuracy comparison**"
      ]
    },
    {
      "cell_type": "code",
      "execution_count": 7,
      "metadata": {
        "id": "Lcon2h2IWkNM",
        "outputId": "b2460cc1-2a96-4bf5-83b5-d2128f20b536",
        "colab": {
          "base_uri": "https://localhost:8080/",
          "height": 490
        }
      },
      "outputs": [
        {
          "output_type": "execute_result",
          "data": {
            "text/plain": [
              "<matplotlib.legend.Legend at 0x7f5272738460>"
            ]
          },
          "metadata": {},
          "execution_count": 7
        },
        {
          "output_type": "display_data",
          "data": {
            "text/plain": [
              "<Figure size 640x480 with 1 Axes>"
            ],
            "image/png": "[encoded data removed]"
          },
          "metadata": {}
        }
      ],
      "source": [
        "import matplotlib.pyplot as plt\n",
        "val_acc_noise = history_noise.history[\"val_accuracy\"]\n",
        "val_acc_zeros = history_zeros.history[\"val_accuracy\"]\n",
        "val_acc_original = history_original.history['val_accuracy']\n",
        "epochs = range(1, 11)\n",
        "plt.plot(epochs, val_acc_noise, \"b-\",\n",
        "         label=\"Validation accuracy with noise channels\")\n",
        "plt.plot(epochs, val_acc_zeros, \"b--\",\n",
        "         label=\"Validation accuracy with zeros channels\")\n",
        "plt.plot(epochs, val_acc_original, 'r',\n",
        "         label = 'Validation accuracy with origianl data')\n",
        "plt.title(\"Effect of noise channels on validation accuracy\")\n",
        "plt.xlabel(\"Epochs\")\n",
        "plt.ylabel(\"Accuracy\")\n",
        "plt.legend()"
      ]
    },
    {
      "cell_type": "markdown",
      "source": [
        "noisy information을 딥러닝 모델에 넣었을 때 퍼포먼스 하락\n",
        "feature engineering을 통해 퍼포먼스 향상 가능할 수 있다\n",
        "\n",
        "딥러닝에서 feature engineering이 필요하지 않다? 일부는 맞는 얘기\n",
        "\n",
        "딥러닝에서는 모델이 중요한 feature를 스스로 learn, train 가능\n",
        "하지만 feature engineering을 올바른 방식으로 한다면 더 나은 퍼포먼스를 얻을 수 있음\n",
        "\n",
        "noisy dataset을 제거하는 게 딥러닝에서 여전히 중요"
      ],
      "metadata": {
        "id": "CGWtUn3raNPa"
      }
    },
    {
      "cell_type": "markdown",
      "metadata": {
        "id": "S3JFpn9MWkNM"
      },
      "source": [
        "### The nature of generalization in deep learning"
      ]
    },
    {
      "cell_type": "markdown",
      "metadata": {
        "id": "8eMg2sOdWkNM"
      },
      "source": [
        "**Fitting a MNIST model with randomly shuffled labels**"
      ]
    },
    {
      "cell_type": "code",
      "execution_count": 8,
      "metadata": {
        "id": "gEi_aibRWkNM",
        "outputId": "1f9f62d7-f968-4c91-9d9d-4e8a64b33564",
        "colab": {
          "base_uri": "https://localhost:8080/"
        }
      },
      "outputs": [
        {
          "output_type": "stream",
          "name": "stdout",
          "text": [
            "Epoch 1/100\n",
            "375/375 [==============================] - 2s 4ms/step - loss: 2.3155 - accuracy: 0.1029 - val_loss: 2.3044 - val_accuracy: 0.1092\n",
            "Epoch 2/100\n",
            "375/375 [==============================] - 2s 5ms/step - loss: 2.2993 - accuracy: 0.1149 - val_loss: 2.3097 - val_accuracy: 0.1065\n",
            "Epoch 3/100\n",
            "375/375 [==============================] - 2s 5ms/step - loss: 2.2913 - accuracy: 0.1273 - val_loss: 2.3146 - val_accuracy: 0.1063\n",
            "Epoch 4/100\n",
            "375/375 [==============================] - 2s 4ms/step - loss: 2.2799 - accuracy: 0.1375 - val_loss: 2.3242 - val_accuracy: 0.1032\n",
            "Epoch 5/100\n",
            "375/375 [==============================] - 1s 3ms/step - loss: 2.2653 - accuracy: 0.1516 - val_loss: 2.3297 - val_accuracy: 0.1026\n",
            "Epoch 6/100\n",
            "375/375 [==============================] - 1s 3ms/step - loss: 2.2457 - accuracy: 0.1664 - val_loss: 2.3402 - val_accuracy: 0.1029\n",
            "Epoch 7/100\n",
            "375/375 [==============================] - 1s 3ms/step - loss: 2.2229 - accuracy: 0.1794 - val_loss: 2.3526 - val_accuracy: 0.1035\n",
            "Epoch 8/100\n",
            "375/375 [==============================] - 1s 3ms/step - loss: 2.1968 - accuracy: 0.1948 - val_loss: 2.3761 - val_accuracy: 0.1023\n",
            "Epoch 9/100\n",
            "375/375 [==============================] - 1s 3ms/step - loss: 2.1687 - accuracy: 0.2089 - val_loss: 2.3981 - val_accuracy: 0.1011\n",
            "Epoch 10/100\n",
            "375/375 [==============================] - 1s 3ms/step - loss: 2.1362 - accuracy: 0.2269 - val_loss: 2.4216 - val_accuracy: 0.0996\n",
            "Epoch 11/100\n",
            "375/375 [==============================] - 1s 3ms/step - loss: 2.1017 - accuracy: 0.2430 - val_loss: 2.4341 - val_accuracy: 0.1037\n",
            "Epoch 12/100\n",
            "375/375 [==============================] - 1s 3ms/step - loss: 2.0669 - accuracy: 0.2606 - val_loss: 2.4588 - val_accuracy: 0.0979\n",
            "Epoch 13/100\n",
            "375/375 [==============================] - 2s 4ms/step - loss: 2.0308 - accuracy: 0.2776 - val_loss: 2.4945 - val_accuracy: 0.0993\n",
            "Epoch 14/100\n",
            "375/375 [==============================] - 2s 4ms/step - loss: 1.9912 - accuracy: 0.2974 - val_loss: 2.5297 - val_accuracy: 0.1001\n",
            "Epoch 15/100\n",
            "375/375 [==============================] - 1s 3ms/step - loss: 1.9545 - accuracy: 0.3088 - val_loss: 2.5657 - val_accuracy: 0.1007\n",
            "Epoch 16/100\n",
            "375/375 [==============================] - 1s 3ms/step - loss: 1.9131 - accuracy: 0.3261 - val_loss: 2.5897 - val_accuracy: 0.0996\n",
            "Epoch 17/100\n",
            "375/375 [==============================] - 1s 3ms/step - loss: 1.8753 - accuracy: 0.3441 - val_loss: 2.6221 - val_accuracy: 0.1026\n",
            "Epoch 18/100\n",
            "375/375 [==============================] - 1s 3ms/step - loss: 1.8369 - accuracy: 0.3571 - val_loss: 2.6785 - val_accuracy: 0.0978\n",
            "Epoch 19/100\n",
            "375/375 [==============================] - 1s 4ms/step - loss: 1.7962 - accuracy: 0.3757 - val_loss: 2.7029 - val_accuracy: 0.0976\n",
            "Epoch 20/100\n",
            "375/375 [==============================] - 1s 3ms/step - loss: 1.7597 - accuracy: 0.3884 - val_loss: 2.7412 - val_accuracy: 0.1011\n",
            "Epoch 21/100\n",
            "375/375 [==============================] - 1s 3ms/step - loss: 1.7231 - accuracy: 0.4046 - val_loss: 2.7761 - val_accuracy: 0.1039\n",
            "Epoch 22/100\n",
            "375/375 [==============================] - 1s 3ms/step - loss: 1.6853 - accuracy: 0.4180 - val_loss: 2.8307 - val_accuracy: 0.1002\n",
            "Epoch 23/100\n",
            "375/375 [==============================] - 2s 4ms/step - loss: 1.6502 - accuracy: 0.4297 - val_loss: 2.8600 - val_accuracy: 0.1002\n",
            "Epoch 24/100\n",
            "375/375 [==============================] - 2s 4ms/step - loss: 1.6148 - accuracy: 0.4441 - val_loss: 2.9316 - val_accuracy: 0.0998\n",
            "Epoch 25/100\n",
            "375/375 [==============================] - 1s 3ms/step - loss: 1.5793 - accuracy: 0.4591 - val_loss: 2.9582 - val_accuracy: 0.0983\n",
            "Epoch 26/100\n",
            "375/375 [==============================] - 1s 3ms/step - loss: 1.5440 - accuracy: 0.4711 - val_loss: 3.0336 - val_accuracy: 0.0993\n",
            "Epoch 27/100\n",
            "375/375 [==============================] - 1s 3ms/step - loss: 1.5126 - accuracy: 0.4811 - val_loss: 3.0616 - val_accuracy: 0.0983\n",
            "Epoch 28/100\n",
            "375/375 [==============================] - 1s 3ms/step - loss: 1.4782 - accuracy: 0.4958 - val_loss: 3.1053 - val_accuracy: 0.1004\n",
            "Epoch 29/100\n",
            "375/375 [==============================] - 1s 3ms/step - loss: 1.4465 - accuracy: 0.5062 - val_loss: 3.1514 - val_accuracy: 0.1003\n",
            "Epoch 30/100\n",
            "375/375 [==============================] - 1s 3ms/step - loss: 1.4166 - accuracy: 0.5196 - val_loss: 3.1989 - val_accuracy: 0.0962\n",
            "Epoch 31/100\n",
            "375/375 [==============================] - 1s 3ms/step - loss: 1.3855 - accuracy: 0.5294 - val_loss: 3.2739 - val_accuracy: 0.0974\n",
            "Epoch 32/100\n",
            "375/375 [==============================] - 1s 3ms/step - loss: 1.3573 - accuracy: 0.5378 - val_loss: 3.3021 - val_accuracy: 0.0988\n",
            "Epoch 33/100\n",
            "375/375 [==============================] - 1s 4ms/step - loss: 1.3261 - accuracy: 0.5518 - val_loss: 3.3603 - val_accuracy: 0.0992\n",
            "Epoch 34/100\n",
            "375/375 [==============================] - 2s 4ms/step - loss: 1.2997 - accuracy: 0.5603 - val_loss: 3.4446 - val_accuracy: 0.0983\n",
            "Epoch 35/100\n",
            "375/375 [==============================] - 1s 4ms/step - loss: 1.2700 - accuracy: 0.5731 - val_loss: 3.4704 - val_accuracy: 0.1016\n",
            "Epoch 36/100\n",
            "375/375 [==============================] - 1s 3ms/step - loss: 1.2437 - accuracy: 0.5807 - val_loss: 3.5158 - val_accuracy: 0.0988\n",
            "Epoch 37/100\n",
            "375/375 [==============================] - 1s 3ms/step - loss: 1.2177 - accuracy: 0.5906 - val_loss: 3.6003 - val_accuracy: 0.0986\n",
            "Epoch 38/100\n",
            "375/375 [==============================] - 1s 3ms/step - loss: 1.1925 - accuracy: 0.6022 - val_loss: 3.6126 - val_accuracy: 0.0982\n",
            "Epoch 39/100\n",
            "375/375 [==============================] - 1s 3ms/step - loss: 1.1668 - accuracy: 0.6112 - val_loss: 3.7131 - val_accuracy: 0.0987\n",
            "Epoch 40/100\n",
            "375/375 [==============================] - 1s 3ms/step - loss: 1.1420 - accuracy: 0.6174 - val_loss: 3.7506 - val_accuracy: 0.0996\n",
            "Epoch 41/100\n",
            "375/375 [==============================] - 1s 3ms/step - loss: 1.1190 - accuracy: 0.6261 - val_loss: 3.8156 - val_accuracy: 0.1006\n",
            "Epoch 42/100\n",
            "375/375 [==============================] - 1s 3ms/step - loss: 1.0980 - accuracy: 0.6330 - val_loss: 3.8659 - val_accuracy: 0.0965\n",
            "Epoch 43/100\n",
            "375/375 [==============================] - 1s 4ms/step - loss: 1.0739 - accuracy: 0.6416 - val_loss: 3.9365 - val_accuracy: 0.1005\n",
            "Epoch 44/100\n",
            "375/375 [==============================] - 2s 5ms/step - loss: 1.0506 - accuracy: 0.6522 - val_loss: 3.9766 - val_accuracy: 0.0984\n",
            "Epoch 45/100\n",
            "375/375 [==============================] - 2s 4ms/step - loss: 1.0301 - accuracy: 0.6568 - val_loss: 4.0255 - val_accuracy: 0.0994\n",
            "Epoch 46/100\n",
            "375/375 [==============================] - 1s 3ms/step - loss: 1.0086 - accuracy: 0.6664 - val_loss: 4.0954 - val_accuracy: 0.0966\n",
            "Epoch 47/100\n",
            "375/375 [==============================] - 1s 3ms/step - loss: 0.9880 - accuracy: 0.6727 - val_loss: 4.1799 - val_accuracy: 0.0995\n",
            "Epoch 48/100\n",
            "375/375 [==============================] - 1s 3ms/step - loss: 0.9658 - accuracy: 0.6836 - val_loss: 4.2519 - val_accuracy: 0.0996\n",
            "Epoch 49/100\n",
            "375/375 [==============================] - 1s 3ms/step - loss: 0.9468 - accuracy: 0.6877 - val_loss: 4.2813 - val_accuracy: 0.0992\n",
            "Epoch 50/100\n",
            "375/375 [==============================] - 2s 4ms/step - loss: 0.9266 - accuracy: 0.6960 - val_loss: 4.3785 - val_accuracy: 0.0998\n",
            "Epoch 51/100\n",
            "375/375 [==============================] - 1s 4ms/step - loss: 0.9104 - accuracy: 0.7013 - val_loss: 4.4604 - val_accuracy: 0.0965\n",
            "Epoch 52/100\n",
            "375/375 [==============================] - 2s 6ms/step - loss: 0.8915 - accuracy: 0.7068 - val_loss: 4.5138 - val_accuracy: 0.1007\n",
            "Epoch 53/100\n",
            "375/375 [==============================] - 3s 8ms/step - loss: 0.8720 - accuracy: 0.7145 - val_loss: 4.5824 - val_accuracy: 0.1008\n",
            "Epoch 54/100\n",
            "375/375 [==============================] - 2s 4ms/step - loss: 0.8555 - accuracy: 0.7216 - val_loss: 4.6202 - val_accuracy: 0.1019\n",
            "Epoch 55/100\n",
            "375/375 [==============================] - 3s 7ms/step - loss: 0.8379 - accuracy: 0.7272 - val_loss: 4.6763 - val_accuracy: 0.0967\n",
            "Epoch 56/100\n",
            "375/375 [==============================] - 2s 6ms/step - loss: 0.8189 - accuracy: 0.7351 - val_loss: 4.7454 - val_accuracy: 0.1009\n",
            "Epoch 57/100\n",
            "375/375 [==============================] - 1s 3ms/step - loss: 0.8038 - accuracy: 0.7383 - val_loss: 4.8089 - val_accuracy: 0.0993\n",
            "Epoch 58/100\n",
            "375/375 [==============================] - 2s 4ms/step - loss: 0.7891 - accuracy: 0.7406 - val_loss: 4.9101 - val_accuracy: 0.0991\n",
            "Epoch 59/100\n",
            "375/375 [==============================] - 2s 4ms/step - loss: 0.7720 - accuracy: 0.7487 - val_loss: 4.9333 - val_accuracy: 0.0925\n",
            "Epoch 60/100\n",
            "375/375 [==============================] - 2s 4ms/step - loss: 0.7596 - accuracy: 0.7539 - val_loss: 4.9910 - val_accuracy: 0.0993\n",
            "Epoch 61/100\n",
            "375/375 [==============================] - 1s 3ms/step - loss: 0.7441 - accuracy: 0.7583 - val_loss: 5.0970 - val_accuracy: 0.0972\n",
            "Epoch 62/100\n",
            "375/375 [==============================] - 1s 3ms/step - loss: 0.7294 - accuracy: 0.7643 - val_loss: 5.1618 - val_accuracy: 0.0980\n",
            "Epoch 63/100\n",
            "375/375 [==============================] - 1s 3ms/step - loss: 0.7143 - accuracy: 0.7682 - val_loss: 5.2064 - val_accuracy: 0.0965\n",
            "Epoch 64/100\n",
            "375/375 [==============================] - 2s 4ms/step - loss: 0.6988 - accuracy: 0.7752 - val_loss: 5.2848 - val_accuracy: 0.1002\n",
            "Epoch 65/100\n",
            "375/375 [==============================] - 1s 4ms/step - loss: 0.6840 - accuracy: 0.7795 - val_loss: 5.3393 - val_accuracy: 0.0988\n",
            "Epoch 66/100\n",
            "375/375 [==============================] - 2s 4ms/step - loss: 0.6728 - accuracy: 0.7835 - val_loss: 5.4071 - val_accuracy: 0.0958\n",
            "Epoch 67/100\n",
            "375/375 [==============================] - 2s 5ms/step - loss: 0.6595 - accuracy: 0.7873 - val_loss: 5.5108 - val_accuracy: 0.0988\n",
            "Epoch 68/100\n",
            "375/375 [==============================] - 2s 4ms/step - loss: 0.6469 - accuracy: 0.7922 - val_loss: 5.5771 - val_accuracy: 0.0981\n",
            "Epoch 69/100\n",
            "375/375 [==============================] - 2s 4ms/step - loss: 0.6327 - accuracy: 0.7968 - val_loss: 5.6440 - val_accuracy: 0.0968\n",
            "Epoch 70/100\n",
            "375/375 [==============================] - 1s 3ms/step - loss: 0.6208 - accuracy: 0.8020 - val_loss: 5.7540 - val_accuracy: 0.0982\n",
            "Epoch 71/100\n",
            "375/375 [==============================] - 1s 3ms/step - loss: 0.6102 - accuracy: 0.8052 - val_loss: 5.7410 - val_accuracy: 0.1001\n",
            "Epoch 72/100\n",
            "375/375 [==============================] - 2s 4ms/step - loss: 0.5972 - accuracy: 0.8079 - val_loss: 5.8565 - val_accuracy: 0.0986\n",
            "Epoch 73/100\n",
            "375/375 [==============================] - 2s 4ms/step - loss: 0.5868 - accuracy: 0.8133 - val_loss: 5.9107 - val_accuracy: 0.0989\n",
            "Epoch 74/100\n",
            "375/375 [==============================] - 2s 6ms/step - loss: 0.5768 - accuracy: 0.8152 - val_loss: 5.9483 - val_accuracy: 0.1001\n",
            "Epoch 75/100\n",
            "375/375 [==============================] - 1s 3ms/step - loss: 0.5624 - accuracy: 0.8221 - val_loss: 6.0787 - val_accuracy: 0.0977\n",
            "Epoch 76/100\n",
            "375/375 [==============================] - 2s 5ms/step - loss: 0.5531 - accuracy: 0.8248 - val_loss: 6.0969 - val_accuracy: 0.0999\n",
            "Epoch 77/100\n",
            "375/375 [==============================] - 2s 5ms/step - loss: 0.5441 - accuracy: 0.8267 - val_loss: 6.1880 - val_accuracy: 0.0975\n",
            "Epoch 78/100\n",
            "375/375 [==============================] - 2s 4ms/step - loss: 0.5326 - accuracy: 0.8304 - val_loss: 6.2529 - val_accuracy: 0.0989\n",
            "Epoch 79/100\n",
            "375/375 [==============================] - 1s 3ms/step - loss: 0.5215 - accuracy: 0.8344 - val_loss: 6.3278 - val_accuracy: 0.1002\n",
            "Epoch 80/100\n",
            "375/375 [==============================] - 1s 3ms/step - loss: 0.5136 - accuracy: 0.8380 - val_loss: 6.4227 - val_accuracy: 0.0969\n",
            "Epoch 81/100\n",
            "375/375 [==============================] - 1s 4ms/step - loss: 0.5046 - accuracy: 0.8408 - val_loss: 6.4360 - val_accuracy: 0.0980\n",
            "Epoch 82/100\n",
            "375/375 [==============================] - 1s 3ms/step - loss: 0.4911 - accuracy: 0.8466 - val_loss: 6.5537 - val_accuracy: 0.0964\n",
            "Epoch 83/100\n",
            "375/375 [==============================] - 1s 3ms/step - loss: 0.4863 - accuracy: 0.8465 - val_loss: 6.6331 - val_accuracy: 0.0987\n",
            "Epoch 84/100\n",
            "375/375 [==============================] - 1s 4ms/step - loss: 0.4770 - accuracy: 0.8488 - val_loss: 6.7265 - val_accuracy: 0.1009\n",
            "Epoch 85/100\n",
            "375/375 [==============================] - 2s 5ms/step - loss: 0.4664 - accuracy: 0.8549 - val_loss: 6.7849 - val_accuracy: 0.1002\n",
            "Epoch 86/100\n",
            "375/375 [==============================] - 3s 8ms/step - loss: 0.4600 - accuracy: 0.8561 - val_loss: 6.8487 - val_accuracy: 0.0982\n",
            "Epoch 87/100\n",
            "375/375 [==============================] - 2s 5ms/step - loss: 0.4505 - accuracy: 0.8598 - val_loss: 6.8836 - val_accuracy: 0.0972\n",
            "Epoch 88/100\n",
            "375/375 [==============================] - 1s 4ms/step - loss: 0.4410 - accuracy: 0.8615 - val_loss: 7.0346 - val_accuracy: 0.0964\n",
            "Epoch 89/100\n",
            "375/375 [==============================] - 2s 4ms/step - loss: 0.4325 - accuracy: 0.8634 - val_loss: 7.0369 - val_accuracy: 0.0987\n",
            "Epoch 90/100\n",
            "375/375 [==============================] - 2s 5ms/step - loss: 0.4236 - accuracy: 0.8684 - val_loss: 7.1889 - val_accuracy: 0.0993\n",
            "Epoch 91/100\n",
            "375/375 [==============================] - 1s 4ms/step - loss: 0.4157 - accuracy: 0.8714 - val_loss: 7.1895 - val_accuracy: 0.0992\n",
            "Epoch 92/100\n",
            "375/375 [==============================] - 1s 3ms/step - loss: 0.4102 - accuracy: 0.8730 - val_loss: 7.2714 - val_accuracy: 0.0988\n",
            "Epoch 93/100\n",
            "375/375 [==============================] - 1s 4ms/step - loss: 0.4015 - accuracy: 0.8755 - val_loss: 7.3495 - val_accuracy: 0.0988\n",
            "Epoch 94/100\n",
            "375/375 [==============================] - 2s 5ms/step - loss: 0.3929 - accuracy: 0.8780 - val_loss: 7.4452 - val_accuracy: 0.1001\n",
            "Epoch 95/100\n",
            "375/375 [==============================] - 2s 4ms/step - loss: 0.3860 - accuracy: 0.8812 - val_loss: 7.5026 - val_accuracy: 0.0978\n",
            "Epoch 96/100\n",
            "375/375 [==============================] - 1s 4ms/step - loss: 0.3801 - accuracy: 0.8835 - val_loss: 7.5884 - val_accuracy: 0.1001\n",
            "Epoch 97/100\n",
            "375/375 [==============================] - 1s 4ms/step - loss: 0.3747 - accuracy: 0.8851 - val_loss: 7.6540 - val_accuracy: 0.0992\n",
            "Epoch 98/100\n",
            "375/375 [==============================] - 1s 4ms/step - loss: 0.3672 - accuracy: 0.8870 - val_loss: 7.7341 - val_accuracy: 0.1022\n",
            "Epoch 99/100\n",
            "375/375 [==============================] - 1s 4ms/step - loss: 0.3625 - accuracy: 0.8879 - val_loss: 7.7883 - val_accuracy: 0.1010\n",
            "Epoch 100/100\n",
            "375/375 [==============================] - 1s 3ms/step - loss: 0.3554 - accuracy: 0.8903 - val_loss: 7.8453 - val_accuracy: 0.0994\n"
          ]
        }
      ],
      "source": [
        "(train_images, train_labels), _ = mnist.load_data()\n",
        "train_images = train_images.reshape((60000, 28 * 28))\n",
        "train_images = train_images.astype(\"float32\") / 255\n",
        "\n",
        "random_train_labels = train_labels[:]\n",
        "np.random.shuffle(random_train_labels)\n",
        "\n",
        "model = keras.Sequential([\n",
        "    layers.Dense(512, activation=\"relu\"),\n",
        "    layers.Dense(10, activation=\"softmax\")\n",
        "])\n",
        "model.compile(optimizer=\"rmsprop\",\n",
        "              loss=\"sparse_categorical_crossentropy\",\n",
        "              metrics=[\"accuracy\"])\n",
        "history = model.fit(train_images, random_train_labels,\n",
        "          epochs=100,\n",
        "          batch_size=128,\n",
        "          validation_split=0.2)"
      ]
    },
    {
      "cell_type": "code",
      "source": [
        "history_dict = history.history\n",
        "history_dict.keys()"
      ],
      "metadata": {
        "id": "515rlqfw0Njj",
        "outputId": "d0584d39-2d6c-49e4-a205-35454d10c178",
        "colab": {
          "base_uri": "https://localhost:8080/"
        }
      },
      "execution_count": 9,
      "outputs": [
        {
          "output_type": "execute_result",
          "data": {
            "text/plain": [
              "dict_keys(['loss', 'accuracy', 'val_loss', 'val_accuracy'])"
            ]
          },
          "metadata": {},
          "execution_count": 9
        }
      ]
    },
    {
      "cell_type": "code",
      "source": [
        "import matplotlib.pyplot as plt\n",
        "history_dict = history.history\n",
        "train_accuracy = history_dict[\"accuracy\"]\n",
        "val_accuracy = history_dict[\"val_accuracy\"]\n",
        "epochs = range(1, len(train_accuracy) + 1)\n",
        "plt.plot(epochs, train_accuracy, \"bo\", label=\"Training accuracy\")\n",
        "plt.plot(epochs, val_accuracy, \"b\", label=\"Validation accuracy\")\n",
        "plt.title(\"Training and validation accuracy\")\n",
        "plt.xlabel(\"Epochs\")\n",
        "plt.ylabel(\"Accuracy\")\n",
        "plt.legend()\n",
        "plt.show()"
      ],
      "metadata": {
        "id": "SePYTacr0E4v",
        "outputId": "b99a45d2-a711-4bd4-da81-60734050d7d2",
        "colab": {
          "base_uri": "https://localhost:8080/",
          "height": 472
        }
      },
      "execution_count": 12,
      "outputs": [
        {
          "output_type": "display_data",
          "data": {
            "text/plain": [
              "<Figure size 640x480 with 1 Axes>"
            ],
            "image/png": "[encoded data removed]"
          },
          "metadata": {}
        }
      ]
    },
    {
      "cell_type": "markdown",
      "source": [
        "라벨을 셔플 했음\n",
        "\n",
        "0~9까지의 라벨을 분류하는 모델이니까 처음 train_accuracy는 0.1 정도\n",
        "\n",
        "딥러닝에서 어떤 dataset으로도 train 하면 train_accuracy는 always 증가\n",
        "하지만 val_accuracy를 보고 generalization power를 확인해야함\n",
        "\n",
        "위의 사례에선 train_accuracy가 0.9정도로 높지만 val_accuracy는 0.1\n",
        "generalization이 잘 이루어지지 않음"
      ],
      "metadata": {
        "id": "TD6IEHdncmyn"
      }
    },
    {
      "cell_type": "markdown",
      "metadata": {
        "id": "f04jtdKLWkNN"
      },
      "source": [
        "#### The manifold hypothesis"
      ]
    },
    {
      "cell_type": "markdown",
      "metadata": {
        "id": "E8VGF5ZPWkNN"
      },
      "source": [
        "#### Interpolation as a source of generalization"
      ]
    },
    {
      "cell_type": "markdown",
      "metadata": {
        "id": "l1m9SkuiWkNN"
      },
      "source": [
        "#### Why deep learning works"
      ]
    },
    {
      "cell_type": "markdown",
      "metadata": {
        "id": "-m9KD3_BWkNO"
      },
      "source": [
        "#### Training data is paramount"
      ]
    },
    {
      "cell_type": "markdown",
      "metadata": {
        "id": "6MpUEFlRWkNO"
      },
      "source": [
        "## Evaluating machine-learning models"
      ]
    },
    {
      "cell_type": "markdown",
      "metadata": {
        "id": "DYSopxbTWkNO"
      },
      "source": [
        "### Training, validation, and test sets"
      ]
    },
    {
      "cell_type": "markdown",
      "metadata": {
        "id": "BbfpyJs0WkNO"
      },
      "source": [
        "#### Simple hold-out validation"
      ]
    },
    {
      "cell_type": "markdown",
      "metadata": {
        "id": "0auZbQEhWkNO"
      },
      "source": [
        "#### K-fold validation"
      ]
    },
    {
      "cell_type": "markdown",
      "metadata": {
        "id": "TFIKjBkUWkNO"
      },
      "source": [
        "#### Iterated K-fold validation with shuffling"
      ]
    },
    {
      "cell_type": "markdown",
      "metadata": {
        "id": "v2RoMvtMWkNO"
      },
      "source": [
        "### Beating a common-sense baseline"
      ]
    },
    {
      "cell_type": "markdown",
      "metadata": {
        "id": "Je8Yx4P1WkNO"
      },
      "source": [
        "### Things to keep in mind about model evaluation"
      ]
    },
    {
      "cell_type": "markdown",
      "metadata": {
        "id": "FeNm0xAeWkNP"
      },
      "source": [
        "## Improving model fit"
      ]
    },
    {
      "cell_type": "markdown",
      "metadata": {
        "id": "UJ_frYTGWkNP"
      },
      "source": [
        "### Tuning key gradient descent parameters"
      ]
    },
    {
      "cell_type": "markdown",
      "metadata": {
        "id": "KUmPFP5sWkNP"
      },
      "source": [
        "**Training a MNIST model with an incorrectly high learning rate**"
      ]
    },
    {
      "cell_type": "code",
      "execution_count": null,
      "metadata": {
        "id": "TwvuFmooWkNP"
      },
      "outputs": [],
      "source": [
        "(train_images, train_labels), _ = mnist.load_data()\n",
        "train_images = train_images.reshape((60000, 28 * 28))\n",
        "train_images = train_images.astype(\"float32\") / 255\n",
        "\n",
        "model = keras.Sequential([\n",
        "    layers.Dense(512, activation=\"relu\"),\n",
        "    layers.Dense(10, activation=\"softmax\")\n",
        "])\n",
        "model.compile(optimizer=keras.optimizers.RMSprop(1.),\n",
        "              loss=\"sparse_categorical_crossentropy\",\n",
        "              metrics=[\"accuracy\"])\n",
        "model.fit(train_images, train_labels,\n",
        "          epochs=10,\n",
        "          batch_size=128,\n",
        "          validation_split=0.2)"
      ]
    },
    {
      "cell_type": "markdown",
      "metadata": {
        "id": "eth1AXWsWkNP"
      },
      "source": [
        "**The same model with a more appropriate learning rate**"
      ]
    },
    {
      "cell_type": "code",
      "execution_count": null,
      "metadata": {
        "id": "O7LBjvY9WkNP"
      },
      "outputs": [],
      "source": [
        "model = keras.Sequential([\n",
        "    layers.Dense(512, activation=\"relu\"),\n",
        "    layers.Dense(10, activation=\"softmax\")\n",
        "])\n",
        "model.compile(optimizer=keras.optimizers.RMSprop(1e-2),\n",
        "              loss=\"sparse_categorical_crossentropy\",\n",
        "              metrics=[\"accuracy\"])\n",
        "model.fit(train_images, train_labels,\n",
        "          epochs=10,\n",
        "          batch_size=128,\n",
        "          validation_split=0.2)"
      ]
    },
    {
      "cell_type": "markdown",
      "metadata": {
        "id": "UFXbKo45WkNP"
      },
      "source": [
        "### Leveraging better architecture priors"
      ]
    },
    {
      "cell_type": "markdown",
      "metadata": {
        "id": "CkHGPqSQWkNQ"
      },
      "source": [
        "### Increasing model capacity"
      ]
    },
    {
      "cell_type": "markdown",
      "metadata": {
        "id": "CclmsmC3WkNQ"
      },
      "source": [
        "**A simple logistic regression on MNIST**"
      ]
    },
    {
      "cell_type": "code",
      "execution_count": 13,
      "metadata": {
        "id": "Fzs3k98fWkNQ",
        "outputId": "cb139081-b1cd-448b-fab1-c2bb499e74d6",
        "colab": {
          "base_uri": "https://localhost:8080/"
        }
      },
      "outputs": [
        {
          "output_type": "stream",
          "name": "stdout",
          "text": [
            "Epoch 1/20\n",
            "375/375 [==============================] - 2s 4ms/step - loss: 2.3284 - accuracy: 0.1035 - val_loss: 2.3171 - val_accuracy: 0.1013\n",
            "Epoch 2/20\n",
            "375/375 [==============================] - 1s 3ms/step - loss: 2.3120 - accuracy: 0.1105 - val_loss: 2.3165 - val_accuracy: 0.1047\n",
            "Epoch 3/20\n",
            "375/375 [==============================] - 1s 3ms/step - loss: 2.3059 - accuracy: 0.1164 - val_loss: 2.3236 - val_accuracy: 0.1011\n",
            "Epoch 4/20\n",
            "375/375 [==============================] - 2s 4ms/step - loss: 2.3020 - accuracy: 0.1176 - val_loss: 2.3204 - val_accuracy: 0.1054\n",
            "Epoch 5/20\n",
            "375/375 [==============================] - 1s 3ms/step - loss: 2.2989 - accuracy: 0.1209 - val_loss: 2.3255 - val_accuracy: 0.0996\n",
            "Epoch 6/20\n",
            "375/375 [==============================] - 1s 3ms/step - loss: 2.2966 - accuracy: 0.1237 - val_loss: 2.3200 - val_accuracy: 0.1042\n",
            "Epoch 7/20\n",
            "375/375 [==============================] - 1s 3ms/step - loss: 2.2943 - accuracy: 0.1270 - val_loss: 2.3233 - val_accuracy: 0.1028\n",
            "Epoch 8/20\n",
            "375/375 [==============================] - 1s 4ms/step - loss: 2.2927 - accuracy: 0.1273 - val_loss: 2.3234 - val_accuracy: 0.1011\n",
            "Epoch 9/20\n",
            "375/375 [==============================] - 1s 4ms/step - loss: 2.2914 - accuracy: 0.1281 - val_loss: 2.3231 - val_accuracy: 0.1036\n",
            "Epoch 10/20\n",
            "375/375 [==============================] - 1s 4ms/step - loss: 2.2896 - accuracy: 0.1301 - val_loss: 2.3231 - val_accuracy: 0.1068\n",
            "Epoch 11/20\n",
            "375/375 [==============================] - 1s 3ms/step - loss: 2.2883 - accuracy: 0.1297 - val_loss: 2.3245 - val_accuracy: 0.1036\n",
            "Epoch 12/20\n",
            "375/375 [==============================] - 1s 3ms/step - loss: 2.2868 - accuracy: 0.1321 - val_loss: 2.3245 - val_accuracy: 0.1014\n",
            "Epoch 13/20\n",
            "375/375 [==============================] - 1s 3ms/step - loss: 2.2855 - accuracy: 0.1341 - val_loss: 2.3248 - val_accuracy: 0.1039\n",
            "Epoch 14/20\n",
            "375/375 [==============================] - 1s 3ms/step - loss: 2.2853 - accuracy: 0.1337 - val_loss: 2.3274 - val_accuracy: 0.1073\n",
            "Epoch 15/20\n",
            "375/375 [==============================] - 1s 3ms/step - loss: 2.2836 - accuracy: 0.1351 - val_loss: 2.3293 - val_accuracy: 0.0989\n",
            "Epoch 16/20\n",
            "375/375 [==============================] - 1s 3ms/step - loss: 2.2828 - accuracy: 0.1365 - val_loss: 2.3313 - val_accuracy: 0.1048\n",
            "Epoch 17/20\n",
            "375/375 [==============================] - 1s 3ms/step - loss: 2.2820 - accuracy: 0.1382 - val_loss: 2.3270 - val_accuracy: 0.1013\n",
            "Epoch 18/20\n",
            "375/375 [==============================] - 1s 3ms/step - loss: 2.2812 - accuracy: 0.1360 - val_loss: 2.3295 - val_accuracy: 0.1048\n",
            "Epoch 19/20\n",
            "375/375 [==============================] - 1s 4ms/step - loss: 2.2804 - accuracy: 0.1378 - val_loss: 2.3356 - val_accuracy: 0.1007\n",
            "Epoch 20/20\n",
            "375/375 [==============================] - 1s 4ms/step - loss: 2.2795 - accuracy: 0.1379 - val_loss: 2.3403 - val_accuracy: 0.1018\n"
          ]
        }
      ],
      "source": [
        "model = keras.Sequential([layers.Dense(10, activation=\"softmax\")])\n",
        "model.compile(optimizer=\"rmsprop\",\n",
        "              loss=\"sparse_categorical_crossentropy\",\n",
        "              metrics=[\"accuracy\"])\n",
        "history_small_model = model.fit(\n",
        "    train_images, train_labels,\n",
        "    epochs=20,\n",
        "    batch_size=128,\n",
        "    validation_split=0.2)"
      ]
    },
    {
      "cell_type": "code",
      "execution_count": 14,
      "metadata": {
        "id": "FGpYMX1oWkNQ",
        "outputId": "a9084b4b-bb70-4f9d-e424-3d68ca63d4f7",
        "colab": {
          "base_uri": "https://localhost:8080/"
        }
      },
      "outputs": [
        {
          "output_type": "stream",
          "name": "stdout",
          "text": [
            "Epoch 1/20\n",
            "375/375 [==============================] - 3s 4ms/step - loss: 2.3058 - accuracy: 0.1031 - val_loss: 2.3021 - val_accuracy: 0.1123\n",
            "Epoch 2/20\n",
            "375/375 [==============================] - 1s 3ms/step - loss: 2.3016 - accuracy: 0.1109 - val_loss: 2.3025 - val_accuracy: 0.1107\n",
            "Epoch 3/20\n",
            "375/375 [==============================] - 1s 3ms/step - loss: 2.2989 - accuracy: 0.1141 - val_loss: 2.3044 - val_accuracy: 0.1097\n",
            "Epoch 4/20\n",
            "375/375 [==============================] - 2s 4ms/step - loss: 2.2957 - accuracy: 0.1202 - val_loss: 2.3058 - val_accuracy: 0.1095\n",
            "Epoch 5/20\n",
            "375/375 [==============================] - 2s 5ms/step - loss: 2.2908 - accuracy: 0.1267 - val_loss: 2.3089 - val_accuracy: 0.1086\n",
            "Epoch 6/20\n",
            "375/375 [==============================] - 1s 3ms/step - loss: 2.2841 - accuracy: 0.1304 - val_loss: 2.3153 - val_accuracy: 0.1014\n",
            "Epoch 7/20\n",
            "375/375 [==============================] - 1s 3ms/step - loss: 2.2767 - accuracy: 0.1371 - val_loss: 2.3181 - val_accuracy: 0.1056\n",
            "Epoch 8/20\n",
            "375/375 [==============================] - 1s 3ms/step - loss: 2.2670 - accuracy: 0.1498 - val_loss: 2.3295 - val_accuracy: 0.1023\n",
            "Epoch 9/20\n",
            "375/375 [==============================] - 1s 3ms/step - loss: 2.2575 - accuracy: 0.1540 - val_loss: 2.3308 - val_accuracy: 0.1028\n",
            "Epoch 10/20\n",
            "375/375 [==============================] - 1s 4ms/step - loss: 2.2462 - accuracy: 0.1635 - val_loss: 2.3378 - val_accuracy: 0.1037\n",
            "Epoch 11/20\n",
            "375/375 [==============================] - 1s 3ms/step - loss: 2.2342 - accuracy: 0.1693 - val_loss: 2.3624 - val_accuracy: 0.0990\n",
            "Epoch 12/20\n",
            "375/375 [==============================] - 1s 3ms/step - loss: 2.2229 - accuracy: 0.1747 - val_loss: 2.3604 - val_accuracy: 0.1057\n",
            "Epoch 13/20\n",
            "375/375 [==============================] - 1s 3ms/step - loss: 2.2095 - accuracy: 0.1837 - val_loss: 2.3788 - val_accuracy: 0.1007\n",
            "Epoch 14/20\n",
            "375/375 [==============================] - 2s 5ms/step - loss: 2.1955 - accuracy: 0.1924 - val_loss: 2.3904 - val_accuracy: 0.0999\n",
            "Epoch 15/20\n",
            "375/375 [==============================] - 2s 5ms/step - loss: 2.1824 - accuracy: 0.1974 - val_loss: 2.4022 - val_accuracy: 0.1018\n",
            "Epoch 16/20\n",
            "375/375 [==============================] - 1s 3ms/step - loss: 2.1696 - accuracy: 0.2052 - val_loss: 2.4264 - val_accuracy: 0.0985\n",
            "Epoch 17/20\n",
            "375/375 [==============================] - 1s 4ms/step - loss: 2.1550 - accuracy: 0.2139 - val_loss: 2.4269 - val_accuracy: 0.1012\n",
            "Epoch 18/20\n",
            "375/375 [==============================] - 1s 4ms/step - loss: 2.1407 - accuracy: 0.2174 - val_loss: 2.4527 - val_accuracy: 0.1016\n",
            "Epoch 19/20\n",
            "375/375 [==============================] - 1s 3ms/step - loss: 2.1265 - accuracy: 0.2252 - val_loss: 2.4578 - val_accuracy: 0.0993\n",
            "Epoch 20/20\n",
            "375/375 [==============================] - 1s 4ms/step - loss: 2.1144 - accuracy: 0.2302 - val_loss: 2.4809 - val_accuracy: 0.0943\n"
          ]
        }
      ],
      "source": [
        "model = keras.Sequential([\n",
        "    layers.Dense(96, activation=\"relu\"),\n",
        "    layers.Dense(96, activation=\"relu\"),\n",
        "    layers.Dense(10, activation=\"softmax\"),\n",
        "])\n",
        "model.compile(optimizer=\"rmsprop\",\n",
        "              loss=\"sparse_categorical_crossentropy\",\n",
        "              metrics=[\"accuracy\"])\n",
        "history_large_model = model.fit(\n",
        "    train_images, train_labels,\n",
        "    epochs=20,\n",
        "    batch_size=128,\n",
        "    validation_split=0.2)"
      ]
    },
    {
      "cell_type": "markdown",
      "metadata": {
        "id": "PK3gSEkEWkNQ"
      },
      "source": [
        "## Improving generalization"
      ]
    },
    {
      "cell_type": "markdown",
      "metadata": {
        "id": "wFTQmlA_WkNQ"
      },
      "source": [
        "### Dataset curation"
      ]
    },
    {
      "cell_type": "markdown",
      "metadata": {
        "id": "C3whnNvaWkNQ"
      },
      "source": [
        "### Feature engineering"
      ]
    },
    {
      "cell_type": "markdown",
      "metadata": {
        "id": "CzIuUyVvWkNR"
      },
      "source": [
        "### Using early stopping"
      ]
    },
    {
      "cell_type": "markdown",
      "metadata": {
        "id": "TSHsDsdsWkNR"
      },
      "source": [
        "### Regularizing your model"
      ]
    },
    {
      "cell_type": "markdown",
      "metadata": {
        "id": "Bq7ik3FkWkNS"
      },
      "source": [
        "#### Reducing the network's size"
      ]
    },
    {
      "cell_type": "markdown",
      "metadata": {
        "id": "MUveY-UeWkNS"
      },
      "source": [
        "**Original model**"
      ]
    },
    {
      "cell_type": "code",
      "execution_count": 18,
      "metadata": {
        "id": "qfvBaNifWkNS",
        "outputId": "a782e8af-be14-4b41-d783-e27b2a9fcd44",
        "colab": {
          "base_uri": "https://localhost:8080/"
        }
      },
      "outputs": [
        {
          "output_type": "stream",
          "name": "stdout",
          "text": [
            "Downloading data from https://storage.googleapis.com/tensorflow/tf-keras-datasets/imdb.npz\n",
            "17464789/17464789 [==============================] - 0s 0us/step\n",
            "Epoch 1/20\n",
            "30/30 [==============================] - 4s 74ms/step - loss: 0.5510 - accuracy: 0.7799 - val_loss: 0.4255 - val_accuracy: 0.8554\n",
            "Epoch 2/20\n",
            "30/30 [==============================] - 1s 27ms/step - loss: 0.3473 - accuracy: 0.8888 - val_loss: 0.3506 - val_accuracy: 0.8605\n",
            "Epoch 3/20\n",
            "30/30 [==============================] - 1s 37ms/step - loss: 0.2608 - accuracy: 0.9122 - val_loss: 0.2865 - val_accuracy: 0.8897\n",
            "Epoch 4/20\n",
            "30/30 [==============================] - 1s 29ms/step - loss: 0.2100 - accuracy: 0.9281 - val_loss: 0.2790 - val_accuracy: 0.8892\n",
            "Epoch 5/20\n",
            "30/30 [==============================] - 1s 34ms/step - loss: 0.1756 - accuracy: 0.9403 - val_loss: 0.2745 - val_accuracy: 0.8905\n",
            "Epoch 6/20\n",
            "30/30 [==============================] - 1s 38ms/step - loss: 0.1497 - accuracy: 0.9520 - val_loss: 0.3087 - val_accuracy: 0.8799\n",
            "Epoch 7/20\n",
            "30/30 [==============================] - 1s 40ms/step - loss: 0.1292 - accuracy: 0.9585 - val_loss: 0.2943 - val_accuracy: 0.8843\n",
            "Epoch 8/20\n",
            "30/30 [==============================] - 1s 39ms/step - loss: 0.1130 - accuracy: 0.9659 - val_loss: 0.3023 - val_accuracy: 0.8846\n",
            "Epoch 9/20\n",
            "30/30 [==============================] - 1s 36ms/step - loss: 0.0997 - accuracy: 0.9707 - val_loss: 0.3592 - val_accuracy: 0.8727\n",
            "Epoch 10/20\n",
            "30/30 [==============================] - 1s 30ms/step - loss: 0.0894 - accuracy: 0.9737 - val_loss: 0.3348 - val_accuracy: 0.8812\n",
            "Epoch 11/20\n",
            "30/30 [==============================] - 1s 39ms/step - loss: 0.0737 - accuracy: 0.9804 - val_loss: 0.3514 - val_accuracy: 0.8798\n",
            "Epoch 12/20\n",
            "30/30 [==============================] - 1s 30ms/step - loss: 0.0685 - accuracy: 0.9807 - val_loss: 0.3683 - val_accuracy: 0.8789\n",
            "Epoch 13/20\n",
            "30/30 [==============================] - 1s 28ms/step - loss: 0.0582 - accuracy: 0.9851 - val_loss: 0.4183 - val_accuracy: 0.8707\n",
            "Epoch 14/20\n",
            "30/30 [==============================] - 1s 30ms/step - loss: 0.0510 - accuracy: 0.9885 - val_loss: 0.4221 - val_accuracy: 0.8742\n",
            "Epoch 15/20\n",
            "30/30 [==============================] - 1s 26ms/step - loss: 0.0426 - accuracy: 0.9915 - val_loss: 0.4322 - val_accuracy: 0.8748\n",
            "Epoch 16/20\n",
            "30/30 [==============================] - 1s 36ms/step - loss: 0.0391 - accuracy: 0.9917 - val_loss: 0.4595 - val_accuracy: 0.8729\n",
            "Epoch 17/20\n",
            "30/30 [==============================] - 1s 47ms/step - loss: 0.0288 - accuracy: 0.9952 - val_loss: 0.5733 - val_accuracy: 0.8584\n",
            "Epoch 18/20\n",
            "30/30 [==============================] - 1s 38ms/step - loss: 0.0294 - accuracy: 0.9943 - val_loss: 0.5220 - val_accuracy: 0.8699\n",
            "Epoch 19/20\n",
            "30/30 [==============================] - 1s 35ms/step - loss: 0.0244 - accuracy: 0.9957 - val_loss: 0.5264 - val_accuracy: 0.8720\n",
            "Epoch 20/20\n",
            "30/30 [==============================] - 1s 24ms/step - loss: 0.0196 - accuracy: 0.9969 - val_loss: 0.5539 - val_accuracy: 0.8697\n"
          ]
        }
      ],
      "source": [
        "from tensorflow.keras.datasets import imdb\n",
        "(train_data, train_labels), _ = imdb.load_data(num_words=10000)\n",
        "\n",
        "def vectorize_sequences(sequences, dimension=10000):\n",
        "    results = np.zeros((len(sequences), dimension))\n",
        "    for i, sequence in enumerate(sequences):\n",
        "        results[i, sequence] = 1.\n",
        "    return results\n",
        "train_data = vectorize_sequences(train_data)\n",
        "\n",
        "model = keras.Sequential([\n",
        "    layers.Dense(16, activation=\"relu\"),\n",
        "    layers.Dense(16, activation=\"relu\"),\n",
        "    layers.Dense(1, activation=\"sigmoid\")\n",
        "])\n",
        "model.compile(optimizer=\"rmsprop\",\n",
        "              loss=\"binary_crossentropy\",\n",
        "              metrics=[\"accuracy\"])\n",
        "history_original = model.fit(train_data, train_labels,\n",
        "                             epochs=20, batch_size=512, validation_split=0.4)"
      ]
    },
    {
      "cell_type": "markdown",
      "metadata": {
        "id": "gr1ntKuTWkNT"
      },
      "source": [
        "**Version of the model with lower capacity**"
      ]
    },
    {
      "cell_type": "code",
      "execution_count": 19,
      "metadata": {
        "id": "6rbZdPxUWkNT",
        "outputId": "0ae7fdc2-f855-4804-d854-1a8feae94fcc",
        "colab": {
          "base_uri": "https://localhost:8080/"
        }
      },
      "outputs": [
        {
          "output_type": "stream",
          "name": "stdout",
          "text": [
            "Epoch 1/20\n",
            "30/30 [==============================] - 3s 59ms/step - loss: 0.5929 - accuracy: 0.7375 - val_loss: 0.5043 - val_accuracy: 0.7972\n",
            "Epoch 2/20\n",
            "30/30 [==============================] - 1s 39ms/step - loss: 0.4299 - accuracy: 0.8745 - val_loss: 0.4003 - val_accuracy: 0.8694\n",
            "Epoch 3/20\n",
            "30/30 [==============================] - 1s 30ms/step - loss: 0.3379 - accuracy: 0.8993 - val_loss: 0.3411 - val_accuracy: 0.8779\n",
            "Epoch 4/20\n",
            "30/30 [==============================] - 1s 29ms/step - loss: 0.2788 - accuracy: 0.9157 - val_loss: 0.3087 - val_accuracy: 0.8868\n",
            "Epoch 5/20\n",
            "30/30 [==============================] - 1s 29ms/step - loss: 0.2381 - accuracy: 0.9259 - val_loss: 0.2985 - val_accuracy: 0.8818\n",
            "Epoch 6/20\n",
            "30/30 [==============================] - 1s 41ms/step - loss: 0.2073 - accuracy: 0.9356 - val_loss: 0.2881 - val_accuracy: 0.8845\n",
            "Epoch 7/20\n",
            "30/30 [==============================] - 1s 24ms/step - loss: 0.1841 - accuracy: 0.9421 - val_loss: 0.2750 - val_accuracy: 0.8898\n",
            "Epoch 8/20\n",
            "30/30 [==============================] - 1s 26ms/step - loss: 0.1643 - accuracy: 0.9496 - val_loss: 0.2731 - val_accuracy: 0.8914\n",
            "Epoch 9/20\n",
            "30/30 [==============================] - 1s 24ms/step - loss: 0.1474 - accuracy: 0.9557 - val_loss: 0.2746 - val_accuracy: 0.8896\n",
            "Epoch 10/20\n",
            "30/30 [==============================] - 1s 24ms/step - loss: 0.1329 - accuracy: 0.9597 - val_loss: 0.2806 - val_accuracy: 0.8877\n",
            "Epoch 11/20\n",
            "30/30 [==============================] - 1s 25ms/step - loss: 0.1209 - accuracy: 0.9645 - val_loss: 0.2915 - val_accuracy: 0.8860\n",
            "Epoch 12/20\n",
            "30/30 [==============================] - 1s 26ms/step - loss: 0.1089 - accuracy: 0.9689 - val_loss: 0.2915 - val_accuracy: 0.8854\n",
            "Epoch 13/20\n",
            "30/30 [==============================] - 1s 22ms/step - loss: 0.0989 - accuracy: 0.9733 - val_loss: 0.3028 - val_accuracy: 0.8834\n",
            "Epoch 14/20\n",
            "30/30 [==============================] - 1s 24ms/step - loss: 0.0895 - accuracy: 0.9767 - val_loss: 0.3123 - val_accuracy: 0.8834\n",
            "Epoch 15/20\n",
            "30/30 [==============================] - 1s 23ms/step - loss: 0.0817 - accuracy: 0.9777 - val_loss: 0.3216 - val_accuracy: 0.8830\n",
            "Epoch 16/20\n",
            "30/30 [==============================] - 1s 23ms/step - loss: 0.0737 - accuracy: 0.9817 - val_loss: 0.3354 - val_accuracy: 0.8803\n",
            "Epoch 17/20\n",
            "30/30 [==============================] - 1s 25ms/step - loss: 0.0668 - accuracy: 0.9846 - val_loss: 0.3473 - val_accuracy: 0.8808\n",
            "Epoch 18/20\n",
            "30/30 [==============================] - 1s 23ms/step - loss: 0.0610 - accuracy: 0.9857 - val_loss: 0.3604 - val_accuracy: 0.8787\n",
            "Epoch 19/20\n",
            "30/30 [==============================] - 1s 23ms/step - loss: 0.0548 - accuracy: 0.9875 - val_loss: 0.3815 - val_accuracy: 0.8774\n",
            "Epoch 20/20\n",
            "30/30 [==============================] - 1s 29ms/step - loss: 0.0496 - accuracy: 0.9899 - val_loss: 0.3918 - val_accuracy: 0.8771\n"
          ]
        }
      ],
      "source": [
        "model = keras.Sequential([\n",
        "    layers.Dense(4, activation=\"relu\"),\n",
        "    layers.Dense(4, activation=\"relu\"),\n",
        "    layers.Dense(1, activation=\"sigmoid\")\n",
        "])\n",
        "model.compile(optimizer=\"rmsprop\",\n",
        "              loss=\"binary_crossentropy\",\n",
        "              metrics=[\"accuracy\"])\n",
        "history_smaller_model = model.fit(\n",
        "    train_data, train_labels,\n",
        "    epochs=20, batch_size=512, validation_split=0.4)"
      ]
    },
    {
      "cell_type": "markdown",
      "metadata": {
        "id": "ZBcPSTzoWkNU"
      },
      "source": [
        "**Version of the model with higher capacity**"
      ]
    },
    {
      "cell_type": "code",
      "execution_count": 20,
      "metadata": {
        "id": "SOMTo5lxWkNU",
        "outputId": "d9b76055-133a-405b-e7f0-e4fa8836d639",
        "colab": {
          "base_uri": "https://localhost:8080/"
        }
      },
      "outputs": [
        {
          "output_type": "stream",
          "name": "stdout",
          "text": [
            "Epoch 1/20\n",
            "30/30 [==============================] - 3s 60ms/step - loss: 0.5760 - accuracy: 0.7288 - val_loss: 0.4992 - val_accuracy: 0.7462\n",
            "Epoch 2/20\n",
            "30/30 [==============================] - 1s 28ms/step - loss: 0.3168 - accuracy: 0.8711 - val_loss: 0.2816 - val_accuracy: 0.8842\n",
            "Epoch 3/20\n",
            "30/30 [==============================] - 1s 28ms/step - loss: 0.2669 - accuracy: 0.8941 - val_loss: 0.2829 - val_accuracy: 0.8827\n",
            "Epoch 4/20\n",
            "30/30 [==============================] - 1s 28ms/step - loss: 0.1917 - accuracy: 0.9272 - val_loss: 0.2830 - val_accuracy: 0.8867\n",
            "Epoch 5/20\n",
            "30/30 [==============================] - 1s 28ms/step - loss: 0.1453 - accuracy: 0.9449 - val_loss: 0.2904 - val_accuracy: 0.8882\n",
            "Epoch 6/20\n",
            "30/30 [==============================] - 1s 32ms/step - loss: 0.1101 - accuracy: 0.9621 - val_loss: 0.4762 - val_accuracy: 0.8449\n",
            "Epoch 7/20\n",
            "30/30 [==============================] - 1s 42ms/step - loss: 0.1074 - accuracy: 0.9582 - val_loss: 0.3294 - val_accuracy: 0.8831\n",
            "Epoch 8/20\n",
            "30/30 [==============================] - 1s 33ms/step - loss: 0.0798 - accuracy: 0.9765 - val_loss: 0.3151 - val_accuracy: 0.8845\n",
            "Epoch 9/20\n",
            "30/30 [==============================] - 1s 27ms/step - loss: 0.0190 - accuracy: 0.9977 - val_loss: 0.4134 - val_accuracy: 0.8830\n",
            "Epoch 10/20\n",
            "30/30 [==============================] - 1s 49ms/step - loss: 0.0878 - accuracy: 0.9817 - val_loss: 0.3919 - val_accuracy: 0.8833\n",
            "Epoch 11/20\n",
            "30/30 [==============================] - 1s 28ms/step - loss: 0.0064 - accuracy: 0.9996 - val_loss: 0.4741 - val_accuracy: 0.8830\n",
            "Epoch 12/20\n",
            "30/30 [==============================] - 1s 28ms/step - loss: 0.0903 - accuracy: 0.9804 - val_loss: 0.3996 - val_accuracy: 0.8832\n",
            "Epoch 13/20\n",
            "30/30 [==============================] - 1s 29ms/step - loss: 0.0049 - accuracy: 1.0000 - val_loss: 0.4907 - val_accuracy: 0.8835\n",
            "Epoch 14/20\n",
            "30/30 [==============================] - 1s 28ms/step - loss: 0.0019 - accuracy: 1.0000 - val_loss: 0.5650 - val_accuracy: 0.8841\n",
            "Epoch 15/20\n",
            "30/30 [==============================] - 1s 27ms/step - loss: 0.1050 - accuracy: 0.9823 - val_loss: 0.4579 - val_accuracy: 0.8828\n",
            "Epoch 16/20\n",
            "30/30 [==============================] - 1s 27ms/step - loss: 0.0025 - accuracy: 1.0000 - val_loss: 0.5119 - val_accuracy: 0.8842\n",
            "Epoch 17/20\n",
            "30/30 [==============================] - 1s 27ms/step - loss: 0.0012 - accuracy: 1.0000 - val_loss: 0.5815 - val_accuracy: 0.8833\n",
            "Epoch 18/20\n",
            "30/30 [==============================] - 1s 28ms/step - loss: 6.8360e-04 - accuracy: 1.0000 - val_loss: 0.6259 - val_accuracy: 0.8833\n",
            "Epoch 19/20\n",
            "30/30 [==============================] - 1s 28ms/step - loss: 4.3669e-04 - accuracy: 1.0000 - val_loss: 0.6638 - val_accuracy: 0.8832\n",
            "Epoch 20/20\n",
            "30/30 [==============================] - 1s 43ms/step - loss: 3.0767e-04 - accuracy: 1.0000 - val_loss: 0.6909 - val_accuracy: 0.8833\n"
          ]
        }
      ],
      "source": [
        "model = keras.Sequential([\n",
        "    layers.Dense(512, activation=\"relu\"),\n",
        "    layers.Dense(512, activation=\"relu\"),\n",
        "    layers.Dense(1, activation=\"sigmoid\")\n",
        "])\n",
        "model.compile(optimizer=\"rmsprop\",\n",
        "              loss=\"binary_crossentropy\",\n",
        "              metrics=[\"accuracy\"])\n",
        "history_larger_model = model.fit(\n",
        "    train_data, train_labels,\n",
        "    epochs=20, batch_size=512, validation_split=0.4)"
      ]
    },
    {
      "cell_type": "code",
      "source": [
        "import matplotlib.pyplot as plt\n",
        "val_loss_small_model = history_smaller_model.history[\"val_loss\"]\n",
        "val_loss_large_model = history_larger_model.history['val_loss']\n",
        "val_loss_original_model = history_original.history['val_loss']\n",
        "epochs = range(1, 21)\n",
        "plt.plot(epochs, val_loss_small_model, \"b--\",\n",
        "         label=\"Validation loss of smaller model\")\n",
        "plt.plot(epochs, val_loss_large_model, \"r--\",\n",
        "         label=\"Validation loss of larger model\")\n",
        "plt.plot(epochs, val_loss_original_model, \"c--\",\n",
        "         label=\"Validation loss of original model\")\n",
        "plt.title(\"Effect of insufficient model capacity on validation loss\")\n",
        "plt.xlabel(\"Epochs\")\n",
        "plt.ylabel(\"Loss\")\n",
        "plt.legend()\n",
        "plt.show()"
      ],
      "metadata": {
        "id": "rlOuhkrM5sdY",
        "outputId": "bb9b4992-86ac-4d25-b144-cd951ff590d6",
        "colab": {
          "base_uri": "https://localhost:8080/",
          "height": 472
        }
      },
      "execution_count": 21,
      "outputs": [
        {
          "output_type": "display_data",
          "data": {
            "text/plain": [
              "<Figure size 640x480 with 1 Axes>"
            ],
            "image/png": "[encoded data removed]"
          },
          "metadata": {}
        }
      ]
    },
    {
      "cell_type": "markdown",
      "metadata": {
        "id": "bGun7XMvWkNU"
      },
      "source": [
        "#### Adding weight regularization"
      ]
    },
    {
      "cell_type": "markdown",
      "metadata": {
        "id": "fAo853NVWkNU"
      },
      "source": [
        "**Adding L2 weight regularization to the model**"
      ]
    },
    {
      "cell_type": "code",
      "execution_count": null,
      "metadata": {
        "id": "8rT58fz0WkNV"
      },
      "outputs": [],
      "source": [
        "from tensorflow.keras import regularizers\n",
        "model = keras.Sequential([\n",
        "    layers.Dense(16,\n",
        "                 kernel_regularizer=regularizers.l2(0.002),\n",
        "                 activation=\"relu\"),\n",
        "    layers.Dense(16,\n",
        "                 kernel_regularizer=regularizers.l2(0.002),\n",
        "                 activation=\"relu\"),\n",
        "    layers.Dense(1, activation=\"sigmoid\")\n",
        "])\n",
        "model.compile(optimizer=\"rmsprop\",\n",
        "              loss=\"binary_crossentropy\",\n",
        "              metrics=[\"accuracy\"])\n",
        "history_l2_reg = model.fit(\n",
        "    train_data, train_labels,\n",
        "    epochs=20, batch_size=512, validation_split=0.4)"
      ]
    },
    {
      "cell_type": "markdown",
      "metadata": {
        "id": "-7nfP8VBWkNV"
      },
      "source": [
        "**Different weight regularizers available in Keras**"
      ]
    },
    {
      "cell_type": "code",
      "execution_count": null,
      "metadata": {
        "id": "UiR22rSCWkNV"
      },
      "outputs": [],
      "source": [
        "from tensorflow.keras import regularizers\n",
        "regularizers.l1(0.001)\n",
        "regularizers.l1_l2(l1=0.001, l2=0.001)"
      ]
    },
    {
      "cell_type": "markdown",
      "metadata": {
        "id": "U5jA0LX3WkNV"
      },
      "source": [
        "#### Adding dropout"
      ]
    },
    {
      "cell_type": "markdown",
      "metadata": {
        "id": "Gl4cI0wBWkNW"
      },
      "source": [
        "**Adding dropout to the IMDB model**"
      ]
    },
    {
      "cell_type": "code",
      "execution_count": 22,
      "metadata": {
        "id": "EllhKxmuWkNW",
        "outputId": "ee3f4197-3962-48a8-9cd9-c233d80a7c19",
        "colab": {
          "base_uri": "https://localhost:8080/"
        }
      },
      "outputs": [
        {
          "output_type": "stream",
          "name": "stdout",
          "text": [
            "Epoch 1/20\n",
            "30/30 [==============================] - 5s 122ms/step - loss: 0.6570 - accuracy: 0.6065 - val_loss: 0.6051 - val_accuracy: 0.7978\n",
            "Epoch 2/20\n",
            "30/30 [==============================] - 1s 25ms/step - loss: 0.5794 - accuracy: 0.7689 - val_loss: 0.5333 - val_accuracy: 0.8573\n",
            "Epoch 3/20\n",
            "30/30 [==============================] - 1s 31ms/step - loss: 0.5129 - accuracy: 0.8191 - val_loss: 0.4574 - val_accuracy: 0.8706\n",
            "Epoch 4/20\n",
            "30/30 [==============================] - 1s 32ms/step - loss: 0.4536 - accuracy: 0.8534 - val_loss: 0.4170 - val_accuracy: 0.8819\n",
            "Epoch 5/20\n",
            "30/30 [==============================] - 1s 29ms/step - loss: 0.4064 - accuracy: 0.8743 - val_loss: 0.3793 - val_accuracy: 0.8736\n",
            "Epoch 6/20\n",
            "30/30 [==============================] - 1s 42ms/step - loss: 0.3616 - accuracy: 0.8943 - val_loss: 0.3425 - val_accuracy: 0.8885\n",
            "Epoch 7/20\n",
            "30/30 [==============================] - 1s 44ms/step - loss: 0.3248 - accuracy: 0.9099 - val_loss: 0.3310 - val_accuracy: 0.8885\n",
            "Epoch 8/20\n",
            "30/30 [==============================] - 1s 25ms/step - loss: 0.2956 - accuracy: 0.9202 - val_loss: 0.3087 - val_accuracy: 0.8903\n",
            "Epoch 9/20\n",
            "30/30 [==============================] - 1s 25ms/step - loss: 0.2689 - accuracy: 0.9267 - val_loss: 0.3318 - val_accuracy: 0.8865\n",
            "Epoch 10/20\n",
            "30/30 [==============================] - 1s 29ms/step - loss: 0.2425 - accuracy: 0.9386 - val_loss: 0.3464 - val_accuracy: 0.8831\n",
            "Epoch 11/20\n",
            "30/30 [==============================] - 1s 25ms/step - loss: 0.2209 - accuracy: 0.9445 - val_loss: 0.3088 - val_accuracy: 0.8890\n",
            "Epoch 12/20\n",
            "30/30 [==============================] - 1s 40ms/step - loss: 0.2097 - accuracy: 0.9460 - val_loss: 0.3778 - val_accuracy: 0.8806\n",
            "Epoch 13/20\n",
            "30/30 [==============================] - 1s 37ms/step - loss: 0.1826 - accuracy: 0.9545 - val_loss: 0.3286 - val_accuracy: 0.8874\n",
            "Epoch 14/20\n",
            "30/30 [==============================] - 2s 53ms/step - loss: 0.1709 - accuracy: 0.9580 - val_loss: 0.3942 - val_accuracy: 0.8811\n",
            "Epoch 15/20\n",
            "30/30 [==============================] - 2s 51ms/step - loss: 0.1584 - accuracy: 0.9601 - val_loss: 0.3652 - val_accuracy: 0.8859\n",
            "Epoch 16/20\n",
            "30/30 [==============================] - 1s 25ms/step - loss: 0.1474 - accuracy: 0.9634 - val_loss: 0.4188 - val_accuracy: 0.8829\n",
            "Epoch 17/20\n",
            "30/30 [==============================] - 1s 24ms/step - loss: 0.1386 - accuracy: 0.9657 - val_loss: 0.4967 - val_accuracy: 0.8747\n",
            "Epoch 18/20\n",
            "30/30 [==============================] - 1s 23ms/step - loss: 0.1258 - accuracy: 0.9705 - val_loss: 0.4652 - val_accuracy: 0.8819\n",
            "Epoch 19/20\n",
            "30/30 [==============================] - 1s 31ms/step - loss: 0.1216 - accuracy: 0.9700 - val_loss: 0.4318 - val_accuracy: 0.8830\n",
            "Epoch 20/20\n",
            "30/30 [==============================] - 1s 25ms/step - loss: 0.1163 - accuracy: 0.9710 - val_loss: 0.5068 - val_accuracy: 0.8798\n"
          ]
        }
      ],
      "source": [
        "model = keras.Sequential([\n",
        "    layers.Dense(16, activation=\"relu\"),\n",
        "    layers.Dropout(0.5),\n",
        "    layers.Dense(16, activation=\"relu\"),\n",
        "    layers.Dropout(0.5),\n",
        "    layers.Dense(1, activation=\"sigmoid\")\n",
        "])\n",
        "model.compile(optimizer=\"rmsprop\",\n",
        "              loss=\"binary_crossentropy\",\n",
        "              metrics=[\"accuracy\"])\n",
        "history_dropout = model.fit(\n",
        "    train_data, train_labels,\n",
        "    epochs=20, batch_size=512, validation_split=0.4)"
      ]
    },
    {
      "cell_type": "code",
      "source": [
        "model = keras.Sequential([\n",
        "    layers.Dense(16, activation=\"relu\"),\n",
        "    \n",
        "    layers.Dense(16, activation=\"relu\"),\n",
        "    \n",
        "    layers.Dense(1, activation=\"sigmoid\")\n",
        "])\n",
        "model.compile(optimizer=\"rmsprop\",\n",
        "              loss=\"binary_crossentropy\",\n",
        "              metrics=[\"accuracy\"])\n",
        "history_original = model.fit(\n",
        "    train_data, train_labels,\n",
        "    epochs=20, batch_size=512, validation_split=0.4)"
      ],
      "metadata": {
        "id": "vflF7PrE8HwS",
        "outputId": "d75fb7a8-b505-4d18-f6b4-bb3fe364d4f9",
        "colab": {
          "base_uri": "https://localhost:8080/"
        }
      },
      "execution_count": 23,
      "outputs": [
        {
          "output_type": "stream",
          "name": "stdout",
          "text": [
            "Epoch 1/20\n",
            "30/30 [==============================] - 4s 63ms/step - loss: 0.5567 - accuracy: 0.7657 - val_loss: 0.4408 - val_accuracy: 0.8675\n",
            "Epoch 2/20\n",
            "30/30 [==============================] - 1s 22ms/step - loss: 0.3620 - accuracy: 0.8895 - val_loss: 0.3389 - val_accuracy: 0.8823\n",
            "Epoch 3/20\n",
            "30/30 [==============================] - 1s 27ms/step - loss: 0.2702 - accuracy: 0.9128 - val_loss: 0.2933 - val_accuracy: 0.8909\n",
            "Epoch 4/20\n",
            "30/30 [==============================] - 1s 25ms/step - loss: 0.2151 - accuracy: 0.9325 - val_loss: 0.3024 - val_accuracy: 0.8788\n",
            "Epoch 5/20\n",
            "30/30 [==============================] - 1s 22ms/step - loss: 0.1809 - accuracy: 0.9435 - val_loss: 0.3002 - val_accuracy: 0.8799\n",
            "Epoch 6/20\n",
            "30/30 [==============================] - 1s 24ms/step - loss: 0.1562 - accuracy: 0.9509 - val_loss: 0.2905 - val_accuracy: 0.8852\n",
            "Epoch 7/20\n",
            "30/30 [==============================] - 1s 23ms/step - loss: 0.1324 - accuracy: 0.9597 - val_loss: 0.2906 - val_accuracy: 0.8869\n",
            "Epoch 8/20\n",
            "30/30 [==============================] - 1s 26ms/step - loss: 0.1137 - accuracy: 0.9665 - val_loss: 0.3015 - val_accuracy: 0.8857\n",
            "Epoch 9/20\n",
            "30/30 [==============================] - 1s 23ms/step - loss: 0.0980 - accuracy: 0.9721 - val_loss: 0.3697 - val_accuracy: 0.8700\n",
            "Epoch 10/20\n",
            "30/30 [==============================] - 1s 23ms/step - loss: 0.0843 - accuracy: 0.9758 - val_loss: 0.3521 - val_accuracy: 0.8765\n",
            "Epoch 11/20\n",
            "30/30 [==============================] - 1s 24ms/step - loss: 0.0749 - accuracy: 0.9807 - val_loss: 0.3605 - val_accuracy: 0.8779\n",
            "Epoch 12/20\n",
            "30/30 [==============================] - 1s 23ms/step - loss: 0.0645 - accuracy: 0.9843 - val_loss: 0.3742 - val_accuracy: 0.8767\n",
            "Epoch 13/20\n",
            "30/30 [==============================] - 1s 23ms/step - loss: 0.0554 - accuracy: 0.9869 - val_loss: 0.3921 - val_accuracy: 0.8785\n",
            "Epoch 14/20\n",
            "30/30 [==============================] - 1s 23ms/step - loss: 0.0461 - accuracy: 0.9901 - val_loss: 0.4199 - val_accuracy: 0.8759\n",
            "Epoch 15/20\n",
            "30/30 [==============================] - 1s 39ms/step - loss: 0.0409 - accuracy: 0.9909 - val_loss: 0.4336 - val_accuracy: 0.8764\n",
            "Epoch 16/20\n",
            "30/30 [==============================] - 1s 41ms/step - loss: 0.0329 - accuracy: 0.9941 - val_loss: 0.4599 - val_accuracy: 0.8742\n",
            "Epoch 17/20\n",
            "30/30 [==============================] - 1s 27ms/step - loss: 0.0286 - accuracy: 0.9946 - val_loss: 0.5433 - val_accuracy: 0.8597\n",
            "Epoch 18/20\n",
            "30/30 [==============================] - 1s 22ms/step - loss: 0.0261 - accuracy: 0.9951 - val_loss: 0.5038 - val_accuracy: 0.8718\n",
            "Epoch 19/20\n",
            "30/30 [==============================] - 1s 25ms/step - loss: 0.0204 - accuracy: 0.9967 - val_loss: 0.5251 - val_accuracy: 0.8714\n",
            "Epoch 20/20\n",
            "30/30 [==============================] - 1s 23ms/step - loss: 0.0160 - accuracy: 0.9981 - val_loss: 0.5511 - val_accuracy: 0.8715\n"
          ]
        }
      ]
    },
    {
      "cell_type": "code",
      "source": [
        "import matplotlib.pyplot as plt\n",
        "val_loss_dropout_model = history_dropout.history[\"val_loss\"]\n",
        "val_loss_original_model = history_original.history['val_loss']\n",
        "epochs = range(1, 21)\n",
        "plt.plot(epochs, val_loss_dropout_model, \"b--\",\n",
        "         label=\"Validation loss of dropout model\")\n",
        "plt.plot(epochs, val_loss_original_model, \"c--\",\n",
        "         label=\"Validation loss of original model\")\n",
        "plt.title(\"Effect of dropout on validation loss\")\n",
        "plt.xlabel(\"Epochs\")\n",
        "plt.ylabel(\"Loss\")\n",
        "plt.legend()\n",
        "plt.show()"
      ],
      "metadata": {
        "id": "FWzUUTax8VE-",
        "outputId": "6ed6c90a-070f-4a56-9aca-48f290523885",
        "colab": {
          "base_uri": "https://localhost:8080/",
          "height": 472
        }
      },
      "execution_count": 25,
      "outputs": [
        {
          "output_type": "display_data",
          "data": {
            "text/plain": [
              "<Figure size 640x480 with 1 Axes>"
            ],
            "image/png": "[encoded data removed]"
          },
          "metadata": {}
        }
      ]
    },
    {
      "cell_type": "markdown",
      "source": [
        "accuracy도 중요.\n",
        "\n",
        "이 그래프가 시사하는 바는 드롭아웃의 효과. 과적합의 지연?"
      ],
      "metadata": {
        "id": "zrZQfT6UANpD"
      }
    },
    {
      "cell_type": "markdown",
      "metadata": {
        "id": "SlYEvWunWkNX"
      },
      "source": [
        "## Summary"
      ]
    }
  ],
  "metadata": {
    "colab": {
      "name": "chapter05_fundamentals-of-ml.i",
      "provenance": [],
      "toc_visible": true,
      "include_colab_link": true
    },
    "kernelspec": {
      "display_name": "Python 3",
      "language": "python",
      "name": "python3"
    },
    "language_info": {
      "codemirror_mode": {
        "name": "ipython",
        "version": 3
      },
      "file_extension": ".py",
      "mimetype": "text/x-python",
      "name": "python",
      "nbconvert_exporter": "python",
      "pygments_lexer": "ipython3",
      "version": "3.7.0"
    },
    "accelerator": "GPU",
    "gpuClass": "standard"
  },
  "nbformat": 4,
  "nbformat_minor": 0
}