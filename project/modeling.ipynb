{
  "cells": [
    {
      "cell_type": "markdown",
      "metadata": {
        "id": "view-in-github",
        "colab_type": "text"
      },
      "source": [
        "<a href=\"https://colab.research.google.com/github/ytg000629/ai4dl/blob/main/project/modeling.ipynb\" target=\"_parent\"><img src=\"https://colab.research.google.com/assets/colab-badge.svg\" alt=\"Open In Colab\"/></a>"
      ]
    },
    {
      "cell_type": "markdown",
      "source": [
        "# 라이브러리 설치,import, 데이터 준비\n",
        "\n"
      ],
      "metadata": {
        "id": "93y-No3c9vFa"
      }
    },
    {
      "cell_type": "code",
      "source": [
        "!pip install keras_preprocessing"
      ],
      "metadata": {
        "id": "s5GNjkvXn6jh",
        "outputId": "67353b22-9f56-4e25-ff37-1288ba08f7e5",
        "colab": {
          "base_uri": "https://localhost:8080/"
        }
      },
      "execution_count": 10,
      "outputs": [
        {
          "output_type": "stream",
          "name": "stdout",
          "text": [
            "Looking in indexes: https://pypi.org/simple, https://us-python.pkg.dev/colab-wheels/public/simple/\n",
            "Requirement already satisfied: keras_preprocessing in /usr/local/lib/python3.10/dist-packages (1.1.2)\n",
            "Requirement already satisfied: numpy>=1.9.1 in /usr/local/lib/python3.10/dist-packages (from keras_preprocessing) (1.22.4)\n",
            "Requirement already satisfied: six>=1.9.0 in /usr/local/lib/python3.10/dist-packages (from keras_preprocessing) (1.16.0)\n"
          ]
        }
      ]
    },
    {
      "cell_type": "code",
      "source": [
        "!pip install emoji"
      ],
      "metadata": {
        "id": "ms11RtN3q7K1",
        "outputId": "2fe44715-d398-4985-e7ff-3f6283feff8d",
        "colab": {
          "base_uri": "https://localhost:8080/"
        }
      },
      "execution_count": 11,
      "outputs": [
        {
          "output_type": "stream",
          "name": "stdout",
          "text": [
            "Looking in indexes: https://pypi.org/simple, https://us-python.pkg.dev/colab-wheels/public/simple/\n",
            "Requirement already satisfied: emoji in /usr/local/lib/python3.10/dist-packages (2.4.0)\n"
          ]
        }
      ]
    },
    {
      "cell_type": "code",
      "source": [
        "!pip install autocorrect"
      ],
      "metadata": {
        "colab": {
          "base_uri": "https://localhost:8080/"
        },
        "id": "zaN9KLEadOp9",
        "outputId": "e26e7faf-56b2-40ba-f38d-646730043248"
      },
      "execution_count": 12,
      "outputs": [
        {
          "output_type": "stream",
          "name": "stdout",
          "text": [
            "Looking in indexes: https://pypi.org/simple, https://us-python.pkg.dev/colab-wheels/public/simple/\n",
            "Requirement already satisfied: autocorrect in /usr/local/lib/python3.10/dist-packages (2.6.1)\n"
          ]
        }
      ]
    },
    {
      "cell_type": "code",
      "source": [
        "import nltk\n",
        "nltk.download('punkt')\n",
        "nltk.download('stopwords')\n",
        "from nltk.corpus import stopwords"
      ],
      "metadata": {
        "id": "1m4AvoWrnYw7",
        "outputId": "6eb1fa9e-fb90-4948-ffae-9980f11aaee9",
        "colab": {
          "base_uri": "https://localhost:8080/"
        }
      },
      "execution_count": 13,
      "outputs": [
        {
          "output_type": "stream",
          "name": "stderr",
          "text": [
            "[nltk_data] Downloading package punkt to /root/nltk_data...\n",
            "[nltk_data]   Package punkt is already up-to-date!\n",
            "[nltk_data] Downloading package stopwords to /root/nltk_data...\n",
            "[nltk_data]   Package stopwords is already up-to-date!\n"
          ]
        }
      ]
    },
    {
      "cell_type": "code",
      "source": [
        "import pandas as pd\n",
        "import matplotlib.pyplot as plt\n",
        "import seaborn as sns\n",
        "import numpy as np\n",
        "\n",
        "from nltk.util import ngrams\n",
        "from sklearn.feature_extraction.text import CountVectorizer\n",
        "from collections import defaultdict\n",
        "from collections import  Counter\n",
        "plt.style.use('ggplot')\n",
        "\n",
        "import re\n",
        "from nltk.tokenize import word_tokenize\n",
        "import wordcloud\n",
        "import gensim\n",
        "import string\n",
        "from keras.preprocessing.text import Tokenizer\n",
        "from keras_preprocessing.sequence import pad_sequences #keras_preprocessing\n",
        "\n",
        "from tqdm import tqdm\n",
        "from keras.models import Sequential\n",
        "from keras.layers import Embedding,LSTM,Dense,SpatialDropout1D\n",
        "from keras.initializers import Constant\n",
        "from sklearn.model_selection import train_test_split\n",
        "\n",
        "import os \n",
        "import warnings\n",
        "warnings.filterwarnings(action  = 'ignore')\n",
        "\n",
        "import tensorflow as tf\n",
        "from tensorflow import keras\n",
        "from tensorflow.keras import layers\n",
        "from tensorflow.keras.optimizers import Adam\n",
        "from tensorflow.keras.callbacks import EarlyStopping\n",
        "from keras.callbacks import ReduceLROnPlateau\n",
        "from tensorflow.keras.initializers import TruncatedNormal\n",
        "from tensorflow.keras.losses import CategoricalCrossentropy,BinaryCrossentropy\n",
        "from tensorflow.keras.metrics import CategoricalAccuracy,BinaryAccuracy\n",
        "from tensorflow.keras.utils import to_categorical\n",
        "from tensorflow.keras.utils import plot_model\n",
        "\n",
        "from autocorrect import Speller "
      ],
      "metadata": {
        "id": "kgMw6dTnnMCX"
      },
      "execution_count": 14,
      "outputs": []
    },
    {
      "cell_type": "code",
      "source": [
        "#%config Completer.use_jedi = False"
      ],
      "metadata": {
        "id": "yMQH_aeInMNe"
      },
      "execution_count": 15,
      "outputs": []
    },
    {
      "cell_type": "code",
      "source": [
        "from google.colab import drive\n",
        "drive.mount('/content/drive')"
      ],
      "metadata": {
        "id": "mnf4tDo-oxeZ",
        "outputId": "b0a7987d-bdfe-4f0a-fc4c-78357d81e281",
        "colab": {
          "base_uri": "https://localhost:8080/"
        }
      },
      "execution_count": 16,
      "outputs": [
        {
          "output_type": "stream",
          "name": "stdout",
          "text": [
            "Drive already mounted at /content/drive; to attempt to forcibly remount, call drive.mount(\"/content/drive\", force_remount=True).\n"
          ]
        }
      ]
    },
    {
      "cell_type": "code",
      "source": [
        "df_train = pd.read_csv('drive/MyDrive/nlp-getting-started/train.csv')\n",
        "df_test = pd.read_csv('drive/MyDrive//nlp-getting-started/test.csv')\n",
        "df_sample = pd.read_csv('drive/MyDrive//nlp-getting-started/sample_submission.csv')"
      ],
      "metadata": {
        "id": "8oSs_FkQoo5L"
      },
      "execution_count": 17,
      "outputs": []
    },
    {
      "cell_type": "code",
      "source": [
        "df_train.head()"
      ],
      "metadata": {
        "id": "sMx-tzcTnMQI",
        "outputId": "4b30de1b-5915-4b62-8ba2-2eab8cdfcd2c",
        "colab": {
          "base_uri": "https://localhost:8080/",
          "height": 206
        }
      },
      "execution_count": 18,
      "outputs": [
        {
          "output_type": "execute_result",
          "data": {
            "text/plain": [
              "   id keyword location                                               text  \\\n",
              "0   1     NaN      NaN  Our Deeds are the Reason of this #earthquake M...   \n",
              "1   4     NaN      NaN             Forest fire near La Ronge Sask. Canada   \n",
              "2   5     NaN      NaN  All residents asked to 'shelter in place' are ...   \n",
              "3   6     NaN      NaN  13,000 people receive #wildfires evacuation or...   \n",
              "4   7     NaN      NaN  Just got sent this photo from Ruby #Alaska as ...   \n",
              "\n",
              "   target  \n",
              "0       1  \n",
              "1       1  \n",
              "2       1  \n",
              "3       1  \n",
              "4       1  "
            ],
            "text/html": [
              "\n",
              "  <div id=\"df-9c071ff6-8632-4866-88a7-d43b0bdaad5a\">\n",
              "    <div class=\"colab-df-container\">\n",
              "      <div>\n",
              "<style scoped>\n",
              "    .dataframe tbody tr th:only-of-type {\n",
              "        vertical-align: middle;\n",
              "    }\n",
              "\n",
              "    .dataframe tbody tr th {\n",
              "        vertical-align: top;\n",
              "    }\n",
              "\n",
              "    .dataframe thead th {\n",
              "        text-align: right;\n",
              "    }\n",
              "</style>\n",
              "<table border=\"1\" class=\"dataframe\">\n",
              "  <thead>\n",
              "    <tr style=\"text-align: right;\">\n",
              "      <th></th>\n",
              "      <th>id</th>\n",
              "      <th>keyword</th>\n",
              "      <th>location</th>\n",
              "      <th>text</th>\n",
              "      <th>target</th>\n",
              "    </tr>\n",
              "  </thead>\n",
              "  <tbody>\n",
              "    <tr>\n",
              "      <th>0</th>\n",
              "      <td>1</td>\n",
              "      <td>NaN</td>\n",
              "      <td>NaN</td>\n",
              "      <td>Our Deeds are the Reason of this #earthquake M...</td>\n",
              "      <td>1</td>\n",
              "    </tr>\n",
              "    <tr>\n",
              "      <th>1</th>\n",
              "      <td>4</td>\n",
              "      <td>NaN</td>\n",
              "      <td>NaN</td>\n",
              "      <td>Forest fire near La Ronge Sask. Canada</td>\n",
              "      <td>1</td>\n",
              "    </tr>\n",
              "    <tr>\n",
              "      <th>2</th>\n",
              "      <td>5</td>\n",
              "      <td>NaN</td>\n",
              "      <td>NaN</td>\n",
              "      <td>All residents asked to 'shelter in place' are ...</td>\n",
              "      <td>1</td>\n",
              "    </tr>\n",
              "    <tr>\n",
              "      <th>3</th>\n",
              "      <td>6</td>\n",
              "      <td>NaN</td>\n",
              "      <td>NaN</td>\n",
              "      <td>13,000 people receive #wildfires evacuation or...</td>\n",
              "      <td>1</td>\n",
              "    </tr>\n",
              "    <tr>\n",
              "      <th>4</th>\n",
              "      <td>7</td>\n",
              "      <td>NaN</td>\n",
              "      <td>NaN</td>\n",
              "      <td>Just got sent this photo from Ruby #Alaska as ...</td>\n",
              "      <td>1</td>\n",
              "    </tr>\n",
              "  </tbody>\n",
              "</table>\n",
              "</div>\n",
              "      <button class=\"colab-df-convert\" onclick=\"convertToInteractive('df-9c071ff6-8632-4866-88a7-d43b0bdaad5a')\"\n",
              "              title=\"Convert this dataframe to an interactive table.\"\n",
              "              style=\"display:none;\">\n",
              "        \n",
              "  <svg xmlns=\"http://www.w3.org/2000/svg\" height=\"24px\"viewBox=\"0 0 24 24\"\n",
              "       width=\"24px\">\n",
              "    <path d=\"M0 0h24v24H0V0z\" fill=\"none\"/>\n",
              "    <path d=\"M18.56 5.44l.94 2.06.94-2.06 2.06-.94-2.06-.94-.94-2.06-.94 2.06-2.06.94zm-11 1L8.5 8.5l.94-2.06 2.06-.94-2.06-.94L8.5 2.5l-.94 2.06-2.06.94zm10 10l.94 2.06.94-2.06 2.06-.94-2.06-.94-.94-2.06-.94 2.06-2.06.94z\"/><path d=\"M17.41 7.96l-1.37-1.37c-.4-.4-.92-.59-1.43-.59-.52 0-1.04.2-1.43.59L10.3 9.45l-7.72 7.72c-.78.78-.78 2.05 0 2.83L4 21.41c.39.39.9.59 1.41.59.51 0 1.02-.2 1.41-.59l7.78-7.78 2.81-2.81c.8-.78.8-2.07 0-2.86zM5.41 20L4 18.59l7.72-7.72 1.47 1.35L5.41 20z\"/>\n",
              "  </svg>\n",
              "      </button>\n",
              "      \n",
              "  <style>\n",
              "    .colab-df-container {\n",
              "      display:flex;\n",
              "      flex-wrap:wrap;\n",
              "      gap: 12px;\n",
              "    }\n",
              "\n",
              "    .colab-df-convert {\n",
              "      background-color: #E8F0FE;\n",
              "      border: none;\n",
              "      border-radius: 50%;\n",
              "      cursor: pointer;\n",
              "      display: none;\n",
              "      fill: #1967D2;\n",
              "      height: 32px;\n",
              "      padding: 0 0 0 0;\n",
              "      width: 32px;\n",
              "    }\n",
              "\n",
              "    .colab-df-convert:hover {\n",
              "      background-color: #E2EBFA;\n",
              "      box-shadow: 0px 1px 2px rgba(60, 64, 67, 0.3), 0px 1px 3px 1px rgba(60, 64, 67, 0.15);\n",
              "      fill: #174EA6;\n",
              "    }\n",
              "\n",
              "    [theme=dark] .colab-df-convert {\n",
              "      background-color: #3B4455;\n",
              "      fill: #D2E3FC;\n",
              "    }\n",
              "\n",
              "    [theme=dark] .colab-df-convert:hover {\n",
              "      background-color: #434B5C;\n",
              "      box-shadow: 0px 1px 3px 1px rgba(0, 0, 0, 0.15);\n",
              "      filter: drop-shadow(0px 1px 2px rgba(0, 0, 0, 0.3));\n",
              "      fill: #FFFFFF;\n",
              "    }\n",
              "  </style>\n",
              "\n",
              "      <script>\n",
              "        const buttonEl =\n",
              "          document.querySelector('#df-9c071ff6-8632-4866-88a7-d43b0bdaad5a button.colab-df-convert');\n",
              "        buttonEl.style.display =\n",
              "          google.colab.kernel.accessAllowed ? 'block' : 'none';\n",
              "\n",
              "        async function convertToInteractive(key) {\n",
              "          const element = document.querySelector('#df-9c071ff6-8632-4866-88a7-d43b0bdaad5a');\n",
              "          const dataTable =\n",
              "            await google.colab.kernel.invokeFunction('convertToInteractive',\n",
              "                                                     [key], {});\n",
              "          if (!dataTable) return;\n",
              "\n",
              "          const docLinkHtml = 'Like what you see? Visit the ' +\n",
              "            '<a target=\"_blank\" href=https://colab.research.google.com/notebooks/data_table.ipynb>data table notebook</a>'\n",
              "            + ' to learn more about interactive tables.';\n",
              "          element.innerHTML = '';\n",
              "          dataTable['output_type'] = 'display_data';\n",
              "          await google.colab.output.renderOutput(dataTable, element);\n",
              "          const docLink = document.createElement('div');\n",
              "          docLink.innerHTML = docLinkHtml;\n",
              "          element.appendChild(docLink);\n",
              "        }\n",
              "      </script>\n",
              "    </div>\n",
              "  </div>\n",
              "  "
            ]
          },
          "metadata": {},
          "execution_count": 18
        }
      ]
    },
    {
      "cell_type": "code",
      "source": [
        "df_train.shape"
      ],
      "metadata": {
        "id": "zi58Xu9qqKJf",
        "outputId": "f33645b2-6278-40b9-e837-0b49a589e7b1",
        "colab": {
          "base_uri": "https://localhost:8080/"
        }
      },
      "execution_count": 19,
      "outputs": [
        {
          "output_type": "execute_result",
          "data": {
            "text/plain": [
              "(7613, 5)"
            ]
          },
          "metadata": {},
          "execution_count": 19
        }
      ]
    },
    {
      "cell_type": "code",
      "source": [
        "df_test.shape"
      ],
      "metadata": {
        "id": "eqq3SSkDqISy",
        "outputId": "a62af603-32a4-473b-bc20-21fbd0047be9",
        "colab": {
          "base_uri": "https://localhost:8080/"
        }
      },
      "execution_count": 20,
      "outputs": [
        {
          "output_type": "execute_result",
          "data": {
            "text/plain": [
              "(3263, 4)"
            ]
          },
          "metadata": {},
          "execution_count": 20
        }
      ]
    },
    {
      "cell_type": "code",
      "source": [
        "df_test.head()"
      ],
      "metadata": {
        "colab": {
          "base_uri": "https://localhost:8080/",
          "height": 206
        },
        "id": "qTxk3CgWoGA4",
        "outputId": "3daae299-cef9-4b29-eb94-d9448203927a"
      },
      "execution_count": 21,
      "outputs": [
        {
          "output_type": "execute_result",
          "data": {
            "text/plain": [
              "   id keyword location                                               text\n",
              "0   0     NaN      NaN                 Just happened a terrible car crash\n",
              "1   2     NaN      NaN  Heard about #earthquake is different cities, s...\n",
              "2   3     NaN      NaN  there is a forest fire at spot pond, geese are...\n",
              "3   9     NaN      NaN           Apocalypse lighting. #Spokane #wildfires\n",
              "4  11     NaN      NaN      Typhoon Soudelor kills 28 in China and Taiwan"
            ],
            "text/html": [
              "\n",
              "  <div id=\"df-762284bd-f84e-446c-8035-f5c62e915a8c\">\n",
              "    <div class=\"colab-df-container\">\n",
              "      <div>\n",
              "<style scoped>\n",
              "    .dataframe tbody tr th:only-of-type {\n",
              "        vertical-align: middle;\n",
              "    }\n",
              "\n",
              "    .dataframe tbody tr th {\n",
              "        vertical-align: top;\n",
              "    }\n",
              "\n",
              "    .dataframe thead th {\n",
              "        text-align: right;\n",
              "    }\n",
              "</style>\n",
              "<table border=\"1\" class=\"dataframe\">\n",
              "  <thead>\n",
              "    <tr style=\"text-align: right;\">\n",
              "      <th></th>\n",
              "      <th>id</th>\n",
              "      <th>keyword</th>\n",
              "      <th>location</th>\n",
              "      <th>text</th>\n",
              "    </tr>\n",
              "  </thead>\n",
              "  <tbody>\n",
              "    <tr>\n",
              "      <th>0</th>\n",
              "      <td>0</td>\n",
              "      <td>NaN</td>\n",
              "      <td>NaN</td>\n",
              "      <td>Just happened a terrible car crash</td>\n",
              "    </tr>\n",
              "    <tr>\n",
              "      <th>1</th>\n",
              "      <td>2</td>\n",
              "      <td>NaN</td>\n",
              "      <td>NaN</td>\n",
              "      <td>Heard about #earthquake is different cities, s...</td>\n",
              "    </tr>\n",
              "    <tr>\n",
              "      <th>2</th>\n",
              "      <td>3</td>\n",
              "      <td>NaN</td>\n",
              "      <td>NaN</td>\n",
              "      <td>there is a forest fire at spot pond, geese are...</td>\n",
              "    </tr>\n",
              "    <tr>\n",
              "      <th>3</th>\n",
              "      <td>9</td>\n",
              "      <td>NaN</td>\n",
              "      <td>NaN</td>\n",
              "      <td>Apocalypse lighting. #Spokane #wildfires</td>\n",
              "    </tr>\n",
              "    <tr>\n",
              "      <th>4</th>\n",
              "      <td>11</td>\n",
              "      <td>NaN</td>\n",
              "      <td>NaN</td>\n",
              "      <td>Typhoon Soudelor kills 28 in China and Taiwan</td>\n",
              "    </tr>\n",
              "  </tbody>\n",
              "</table>\n",
              "</div>\n",
              "      <button class=\"colab-df-convert\" onclick=\"convertToInteractive('df-762284bd-f84e-446c-8035-f5c62e915a8c')\"\n",
              "              title=\"Convert this dataframe to an interactive table.\"\n",
              "              style=\"display:none;\">\n",
              "        \n",
              "  <svg xmlns=\"http://www.w3.org/2000/svg\" height=\"24px\"viewBox=\"0 0 24 24\"\n",
              "       width=\"24px\">\n",
              "    <path d=\"M0 0h24v24H0V0z\" fill=\"none\"/>\n",
              "    <path d=\"M18.56 5.44l.94 2.06.94-2.06 2.06-.94-2.06-.94-.94-2.06-.94 2.06-2.06.94zm-11 1L8.5 8.5l.94-2.06 2.06-.94-2.06-.94L8.5 2.5l-.94 2.06-2.06.94zm10 10l.94 2.06.94-2.06 2.06-.94-2.06-.94-.94-2.06-.94 2.06-2.06.94z\"/><path d=\"M17.41 7.96l-1.37-1.37c-.4-.4-.92-.59-1.43-.59-.52 0-1.04.2-1.43.59L10.3 9.45l-7.72 7.72c-.78.78-.78 2.05 0 2.83L4 21.41c.39.39.9.59 1.41.59.51 0 1.02-.2 1.41-.59l7.78-7.78 2.81-2.81c.8-.78.8-2.07 0-2.86zM5.41 20L4 18.59l7.72-7.72 1.47 1.35L5.41 20z\"/>\n",
              "  </svg>\n",
              "      </button>\n",
              "      \n",
              "  <style>\n",
              "    .colab-df-container {\n",
              "      display:flex;\n",
              "      flex-wrap:wrap;\n",
              "      gap: 12px;\n",
              "    }\n",
              "\n",
              "    .colab-df-convert {\n",
              "      background-color: #E8F0FE;\n",
              "      border: none;\n",
              "      border-radius: 50%;\n",
              "      cursor: pointer;\n",
              "      display: none;\n",
              "      fill: #1967D2;\n",
              "      height: 32px;\n",
              "      padding: 0 0 0 0;\n",
              "      width: 32px;\n",
              "    }\n",
              "\n",
              "    .colab-df-convert:hover {\n",
              "      background-color: #E2EBFA;\n",
              "      box-shadow: 0px 1px 2px rgba(60, 64, 67, 0.3), 0px 1px 3px 1px rgba(60, 64, 67, 0.15);\n",
              "      fill: #174EA6;\n",
              "    }\n",
              "\n",
              "    [theme=dark] .colab-df-convert {\n",
              "      background-color: #3B4455;\n",
              "      fill: #D2E3FC;\n",
              "    }\n",
              "\n",
              "    [theme=dark] .colab-df-convert:hover {\n",
              "      background-color: #434B5C;\n",
              "      box-shadow: 0px 1px 3px 1px rgba(0, 0, 0, 0.15);\n",
              "      filter: drop-shadow(0px 1px 2px rgba(0, 0, 0, 0.3));\n",
              "      fill: #FFFFFF;\n",
              "    }\n",
              "  </style>\n",
              "\n",
              "      <script>\n",
              "        const buttonEl =\n",
              "          document.querySelector('#df-762284bd-f84e-446c-8035-f5c62e915a8c button.colab-df-convert');\n",
              "        buttonEl.style.display =\n",
              "          google.colab.kernel.accessAllowed ? 'block' : 'none';\n",
              "\n",
              "        async function convertToInteractive(key) {\n",
              "          const element = document.querySelector('#df-762284bd-f84e-446c-8035-f5c62e915a8c');\n",
              "          const dataTable =\n",
              "            await google.colab.kernel.invokeFunction('convertToInteractive',\n",
              "                                                     [key], {});\n",
              "          if (!dataTable) return;\n",
              "\n",
              "          const docLinkHtml = 'Like what you see? Visit the ' +\n",
              "            '<a target=\"_blank\" href=https://colab.research.google.com/notebooks/data_table.ipynb>data table notebook</a>'\n",
              "            + ' to learn more about interactive tables.';\n",
              "          element.innerHTML = '';\n",
              "          dataTable['output_type'] = 'display_data';\n",
              "          await google.colab.output.renderOutput(dataTable, element);\n",
              "          const docLink = document.createElement('div');\n",
              "          docLink.innerHTML = docLinkHtml;\n",
              "          element.appendChild(docLink);\n",
              "        }\n",
              "      </script>\n",
              "    </div>\n",
              "  </div>\n",
              "  "
            ]
          },
          "metadata": {},
          "execution_count": 21
        }
      ]
    },
    {
      "cell_type": "markdown",
      "source": [
        "# EDA"
      ],
      "metadata": {
        "id": "jkxF_Rw8_Bfi"
      }
    },
    {
      "cell_type": "code",
      "source": [
        "def create_corpus(target):\n",
        "    corpus = []\n",
        "    for x in df_train[df_train[\"target\"] == target][\"text\"].str.split():\n",
        "        print(x)\n",
        "        for i in x:\n",
        "            corpus.append(i)\n",
        "            \n",
        "    return corpus"
      ],
      "metadata": {
        "id": "4MQAzX2J4dKS"
      },
      "execution_count": null,
      "outputs": []
    },
    {
      "cell_type": "code",
      "source": [
        "corpus = create_corpus(0)\n",
        "\n",
        "stop = set(stopwords.words(\"english\"))\n",
        "\n",
        "dictionary = defaultdict(int)\n",
        "for word in corpus:\n",
        "    if word in stop:\n",
        "        dictionary[word] +=1\n",
        "        \n",
        "top = sorted(dictionary.items(), key = lambda x:x[1], reverse=True)[:10]"
      ],
      "metadata": {
        "id": "-OWzND5o4hk2"
      },
      "execution_count": null,
      "outputs": []
    },
    {
      "cell_type": "code",
      "source": [
        "x, y = zip(*top)\n",
        "\n",
        "plt.grid()\n",
        "plt.bar(x,y)\n",
        "plt.title(\"top words 0\")"
      ],
      "metadata": {
        "colab": {
          "base_uri": "https://localhost:8080/",
          "height": 471
        },
        "id": "4EJJ-sfQ6LwJ",
        "outputId": "fa0e86ec-c082-4b18-cd2e-8fd0e8c0efd3"
      },
      "execution_count": null,
      "outputs": [
        {
          "output_type": "execute_result",
          "data": {
            "text/plain": [
              "Text(0.5, 1.0, 'top words 0')"
            ]
          },
          "metadata": {},
          "execution_count": 21
        },
        {
          "output_type": "display_data",
          "data": {
            "text/plain": [
              "<Figure size 640x480 with 1 Axes>"
            ],
            "image/png": "[encoded data removed]"
          },
          "metadata": {}
        }
      ]
    },
    {
      "cell_type": "code",
      "source": [
        "corpus = create_corpus(1)\n",
        "\n",
        "stop = set(stopwords.words(\"english\"))\n",
        "\n",
        "dictionary = defaultdict(int)\n",
        "for word in corpus:\n",
        "    if word in stop:\n",
        "        dictionary[word] +=1\n",
        "        \n",
        "top = sorted(dictionary.items(), key = lambda x:x[1], reverse=True)[:10]"
      ],
      "metadata": {
        "id": "0c6oX8EH6PAi"
      },
      "execution_count": null,
      "outputs": []
    },
    {
      "cell_type": "code",
      "source": [
        "x, y = zip(*top)\n",
        "\n",
        "plt.grid()\n",
        "plt.bar(x,y, color = 'r')\n",
        "plt.title(\"top words 1\")"
      ],
      "metadata": {
        "colab": {
          "base_uri": "https://localhost:8080/",
          "height": 471
        },
        "id": "62wmk00t6wU4",
        "outputId": "9c629209-2de1-402f-bd7f-aa39aa7c8a14"
      },
      "execution_count": null,
      "outputs": [
        {
          "output_type": "execute_result",
          "data": {
            "text/plain": [
              "Text(0.5, 1.0, 'top words 1')"
            ]
          },
          "metadata": {},
          "execution_count": 25
        },
        {
          "output_type": "display_data",
          "data": {
            "text/plain": [
              "<Figure size 640x480 with 1 Axes>"
            ],
            "image/png": "[encoded data removed]"
          },
          "metadata": {}
        }
      ]
    },
    {
      "cell_type": "code",
      "source": [
        "corpus = create_corpus(1)\n",
        "\n",
        "dictionary = defaultdict(int)\n",
        "\n",
        "import string\n",
        "\n",
        "special_char = string.punctuation\n",
        "\n",
        "for i in corpus:\n",
        "    if i in special_char:\n",
        "        dictionary[i] +=1"
      ],
      "metadata": {
        "id": "srfmXCED61lP"
      },
      "execution_count": null,
      "outputs": []
    },
    {
      "cell_type": "code",
      "source": [
        "x,y = zip(*dictionary.items())\n",
        "\n",
        "plt.grid()\n",
        "plt.bar(x,y)\n",
        "plt.title(\"Punctuation disaster 1\")"
      ],
      "metadata": {
        "colab": {
          "base_uri": "https://localhost:8080/",
          "height": 472
        },
        "id": "iR8b_9Fv6NF-",
        "outputId": "6a6de572-845d-4fb3-8e99-32228dba1855"
      },
      "execution_count": null,
      "outputs": [
        {
          "output_type": "execute_result",
          "data": {
            "text/plain": [
              "Text(0.5, 1.0, 'Punctuation disaster 1')"
            ]
          },
          "metadata": {},
          "execution_count": 27
        },
        {
          "output_type": "display_data",
          "data": {
            "text/plain": [
              "<Figure size 640x480 with 1 Axes>"
            ],
            "image/png": "[encoded data removed]"
          },
          "metadata": {}
        }
      ]
    },
    {
      "cell_type": "code",
      "source": [
        "corpus = create_corpus(0)\n",
        "\n",
        "dictionary = defaultdict(int)\n",
        "\n",
        "import string\n",
        "\n",
        "special_char = string.punctuation\n",
        "\n",
        "for i in corpus:\n",
        "    if i in special_char:\n",
        "        dictionary[i] +=1"
      ],
      "metadata": {
        "id": "7ViSlo2X7GxP"
      },
      "execution_count": null,
      "outputs": []
    },
    {
      "cell_type": "code",
      "source": [
        "x,y = zip(*dictionary.items())\n",
        "\n",
        "plt.grid()\n",
        "plt.bar(x,y, color = 'r')\n",
        "plt.title(\"Punctuation disaster 0\")"
      ],
      "metadata": {
        "colab": {
          "base_uri": "https://localhost:8080/",
          "height": 472
        },
        "id": "LkI86-kH7Vlk",
        "outputId": "559a5e74-31f8-4ad6-c45f-d405a1f0ea95"
      },
      "execution_count": null,
      "outputs": [
        {
          "output_type": "execute_result",
          "data": {
            "text/plain": [
              "Text(0.5, 1.0, 'Punctuation disaster 0')"
            ]
          },
          "metadata": {},
          "execution_count": 30
        },
        {
          "output_type": "display_data",
          "data": {
            "text/plain": [
              "<Figure size 640x480 with 1 Axes>"
            ],
            "image/png": "[encoded data removed]"
          },
          "metadata": {}
        }
      ]
    },
    {
      "cell_type": "code",
      "source": [
        "counter = Counter(corpus)\n",
        "most = counter.most_common()\n",
        "x = []\n",
        "y = []\n",
        "\n",
        "for word, count in most[:40]:\n",
        "    if word not in stop:\n",
        "        x.append(word)\n",
        "        y.append(count)"
      ],
      "metadata": {
        "id": "I3stcZvv7fbQ"
      },
      "execution_count": null,
      "outputs": []
    },
    {
      "cell_type": "code",
      "source": [
        "plt.title(\"most common words\")\n",
        "plt.grid()\n",
        "sns.barplot(x = y, y = x)"
      ],
      "metadata": {
        "colab": {
          "base_uri": "https://localhost:8080/",
          "height": 471
        },
        "id": "fjeZVaZE7hWQ",
        "outputId": "10381ae9-54d8-4bb2-d982-7212319c28cd"
      },
      "execution_count": null,
      "outputs": [
        {
          "output_type": "execute_result",
          "data": {
            "text/plain": [
              "<Axes: title={'center': 'most common words'}>"
            ]
          },
          "metadata": {},
          "execution_count": 33
        },
        {
          "output_type": "display_data",
          "data": {
            "text/plain": [
              "<Figure size 640x480 with 1 Axes>"
            ],
            "image/png": "[encoded data removed]"
          },
          "metadata": {}
        }
      ]
    },
    {
      "cell_type": "markdown",
      "source": [
        "# 데이터 전처리"
      ],
      "metadata": {
        "id": "BwCp4wUX_INK"
      }
    },
    {
      "cell_type": "code",
      "source": [
        "import emoji\n",
        "stop=set(stopwords.words('english'))\n",
        "\n",
        "def text_preproccessing(df):  \n",
        "    \n",
        "    df = df.copy()\n",
        "    \n",
        "    def remove_URL(text):\n",
        "        url = re.compile(r'https?://\\S+|www\\.\\S+')\n",
        "        return url.sub(r'',text)\n",
        "\n",
        "    def remove_html(text):\n",
        "        html=re.compile(r'<.*?>')\n",
        "        return html.sub(r'',text)\n",
        "\n",
        "    def remove_punct(text):\n",
        "        table=str.maketrans('','',string.punctuation)\n",
        "        return text.translate(table)\n",
        "\n",
        "    # Reference : https://gist.github.com/slowkow/7a7f61f495e3dbb7e3d767f97bd7304b\n",
        "    def remove_emoji(text):\n",
        "        emoji_pattern = re.compile(\"[\"\n",
        "                               u\"\\U0001F600-\\U0001F64F\"  # emoticons\n",
        "                               u\"\\U0001F300-\\U0001F5FF\"  # symbols & pictographs\n",
        "                               u\"\\U0001F680-\\U0001F6FF\"  # transport & map symbols\n",
        "                               u\"\\U0001F1E0-\\U0001F1FF\"  # flags (iOS)\n",
        "                               u\"\\U00002702-\\U000027B0\"\n",
        "                               u\"\\U000024C2-\\U0001F251\"\n",
        "                               \"]+\", flags=re.UNICODE)\n",
        "        return emoji_pattern.sub(r'', text)\n",
        "\n",
        "    def remove_stopwords(x):\n",
        "        return ' '.join([i for i in x.split() if i not in stop])\n",
        "\n",
        "    def spell_check(x):\n",
        "        spell = Speller(lang='en')\n",
        "        return \" \".join([spell(i) for i in x.split()])\n",
        "\n",
        "    df['text']=df['text'].apply(lambda x : remove_URL(x))\n",
        "    df['text']=df['text'].apply(lambda x : remove_html(x))\n",
        "    df['text']=df['text'].apply(lambda x : remove_punct(x))\n",
        "    df['text']=df['text'].apply(lambda x : remove_emoji(x))\n",
        "    df['text']=df['text'].apply(lambda x : remove_stopwords(x))\n",
        "    #df['text']=df['text'].apply(lambda x : spell_check(x))\n",
        "\n",
        "    return df\n"
      ],
      "metadata": {
        "id": "H5LB77HDq0yE"
      },
      "execution_count": 29,
      "outputs": []
    },
    {
      "cell_type": "code",
      "source": [
        "df_train = text_preproccessing(df_train)\n",
        "df_test = text_preproccessing(df_test)"
      ],
      "metadata": {
        "id": "JS3VdyZ7hzAv"
      },
      "execution_count": 30,
      "outputs": []
    },
    {
      "cell_type": "code",
      "source": [
        "df_train.shape"
      ],
      "metadata": {
        "id": "KYdrMISrufO1",
        "outputId": "e36ad7bd-3963-4990-9c02-f6e3aeae7ea2",
        "colab": {
          "base_uri": "https://localhost:8080/"
        }
      },
      "execution_count": 31,
      "outputs": [
        {
          "output_type": "execute_result",
          "data": {
            "text/plain": [
              "(7613, 5)"
            ]
          },
          "metadata": {},
          "execution_count": 31
        }
      ]
    },
    {
      "cell_type": "code",
      "source": [
        "df_train.head()"
      ],
      "metadata": {
        "colab": {
          "base_uri": "https://localhost:8080/",
          "height": 0
        },
        "id": "MPuBo_0XiNLS",
        "outputId": "6743946c-a4f3-4e1b-9f48-a90455debc1f"
      },
      "execution_count": 32,
      "outputs": [
        {
          "output_type": "execute_result",
          "data": {
            "text/plain": [
              "   id keyword location                                               text  \\\n",
              "0   1     NaN      NaN   Our Deeds Reason earthquake May ALLAH Forgive us   \n",
              "1   4     NaN      NaN              Forest fire near La Ronge Sask Canada   \n",
              "2   5     NaN      NaN  All residents asked shelter place notified off...   \n",
              "3   6     NaN      NaN  13000 people receive wildfires evacuation orde...   \n",
              "4   7     NaN      NaN  Just got sent photo Ruby Alaska smoke wildfire...   \n",
              "\n",
              "   target  \n",
              "0       1  \n",
              "1       1  \n",
              "2       1  \n",
              "3       1  \n",
              "4       1  "
            ],
            "text/html": [
              "\n",
              "  <div id=\"df-5cc0dd59-658a-4927-953e-411da40b0f6f\">\n",
              "    <div class=\"colab-df-container\">\n",
              "      <div>\n",
              "<style scoped>\n",
              "    .dataframe tbody tr th:only-of-type {\n",
              "        vertical-align: middle;\n",
              "    }\n",
              "\n",
              "    .dataframe tbody tr th {\n",
              "        vertical-align: top;\n",
              "    }\n",
              "\n",
              "    .dataframe thead th {\n",
              "        text-align: right;\n",
              "    }\n",
              "</style>\n",
              "<table border=\"1\" class=\"dataframe\">\n",
              "  <thead>\n",
              "    <tr style=\"text-align: right;\">\n",
              "      <th></th>\n",
              "      <th>id</th>\n",
              "      <th>keyword</th>\n",
              "      <th>location</th>\n",
              "      <th>text</th>\n",
              "      <th>target</th>\n",
              "    </tr>\n",
              "  </thead>\n",
              "  <tbody>\n",
              "    <tr>\n",
              "      <th>0</th>\n",
              "      <td>1</td>\n",
              "      <td>NaN</td>\n",
              "      <td>NaN</td>\n",
              "      <td>Our Deeds Reason earthquake May ALLAH Forgive us</td>\n",
              "      <td>1</td>\n",
              "    </tr>\n",
              "    <tr>\n",
              "      <th>1</th>\n",
              "      <td>4</td>\n",
              "      <td>NaN</td>\n",
              "      <td>NaN</td>\n",
              "      <td>Forest fire near La Ronge Sask Canada</td>\n",
              "      <td>1</td>\n",
              "    </tr>\n",
              "    <tr>\n",
              "      <th>2</th>\n",
              "      <td>5</td>\n",
              "      <td>NaN</td>\n",
              "      <td>NaN</td>\n",
              "      <td>All residents asked shelter place notified off...</td>\n",
              "      <td>1</td>\n",
              "    </tr>\n",
              "    <tr>\n",
              "      <th>3</th>\n",
              "      <td>6</td>\n",
              "      <td>NaN</td>\n",
              "      <td>NaN</td>\n",
              "      <td>13000 people receive wildfires evacuation orde...</td>\n",
              "      <td>1</td>\n",
              "    </tr>\n",
              "    <tr>\n",
              "      <th>4</th>\n",
              "      <td>7</td>\n",
              "      <td>NaN</td>\n",
              "      <td>NaN</td>\n",
              "      <td>Just got sent photo Ruby Alaska smoke wildfire...</td>\n",
              "      <td>1</td>\n",
              "    </tr>\n",
              "  </tbody>\n",
              "</table>\n",
              "</div>\n",
              "      <button class=\"colab-df-convert\" onclick=\"convertToInteractive('df-5cc0dd59-658a-4927-953e-411da40b0f6f')\"\n",
              "              title=\"Convert this dataframe to an interactive table.\"\n",
              "              style=\"display:none;\">\n",
              "        \n",
              "  <svg xmlns=\"http://www.w3.org/2000/svg\" height=\"24px\"viewBox=\"0 0 24 24\"\n",
              "       width=\"24px\">\n",
              "    <path d=\"M0 0h24v24H0V0z\" fill=\"none\"/>\n",
              "    <path d=\"M18.56 5.44l.94 2.06.94-2.06 2.06-.94-2.06-.94-.94-2.06-.94 2.06-2.06.94zm-11 1L8.5 8.5l.94-2.06 2.06-.94-2.06-.94L8.5 2.5l-.94 2.06-2.06.94zm10 10l.94 2.06.94-2.06 2.06-.94-2.06-.94-.94-2.06-.94 2.06-2.06.94z\"/><path d=\"M17.41 7.96l-1.37-1.37c-.4-.4-.92-.59-1.43-.59-.52 0-1.04.2-1.43.59L10.3 9.45l-7.72 7.72c-.78.78-.78 2.05 0 2.83L4 21.41c.39.39.9.59 1.41.59.51 0 1.02-.2 1.41-.59l7.78-7.78 2.81-2.81c.8-.78.8-2.07 0-2.86zM5.41 20L4 18.59l7.72-7.72 1.47 1.35L5.41 20z\"/>\n",
              "  </svg>\n",
              "      </button>\n",
              "      \n",
              "  <style>\n",
              "    .colab-df-container {\n",
              "      display:flex;\n",
              "      flex-wrap:wrap;\n",
              "      gap: 12px;\n",
              "    }\n",
              "\n",
              "    .colab-df-convert {\n",
              "      background-color: #E8F0FE;\n",
              "      border: none;\n",
              "      border-radius: 50%;\n",
              "      cursor: pointer;\n",
              "      display: none;\n",
              "      fill: #1967D2;\n",
              "      height: 32px;\n",
              "      padding: 0 0 0 0;\n",
              "      width: 32px;\n",
              "    }\n",
              "\n",
              "    .colab-df-convert:hover {\n",
              "      background-color: #E2EBFA;\n",
              "      box-shadow: 0px 1px 2px rgba(60, 64, 67, 0.3), 0px 1px 3px 1px rgba(60, 64, 67, 0.15);\n",
              "      fill: #174EA6;\n",
              "    }\n",
              "\n",
              "    [theme=dark] .colab-df-convert {\n",
              "      background-color: #3B4455;\n",
              "      fill: #D2E3FC;\n",
              "    }\n",
              "\n",
              "    [theme=dark] .colab-df-convert:hover {\n",
              "      background-color: #434B5C;\n",
              "      box-shadow: 0px 1px 3px 1px rgba(0, 0, 0, 0.15);\n",
              "      filter: drop-shadow(0px 1px 2px rgba(0, 0, 0, 0.3));\n",
              "      fill: #FFFFFF;\n",
              "    }\n",
              "  </style>\n",
              "\n",
              "      <script>\n",
              "        const buttonEl =\n",
              "          document.querySelector('#df-5cc0dd59-658a-4927-953e-411da40b0f6f button.colab-df-convert');\n",
              "        buttonEl.style.display =\n",
              "          google.colab.kernel.accessAllowed ? 'block' : 'none';\n",
              "\n",
              "        async function convertToInteractive(key) {\n",
              "          const element = document.querySelector('#df-5cc0dd59-658a-4927-953e-411da40b0f6f');\n",
              "          const dataTable =\n",
              "            await google.colab.kernel.invokeFunction('convertToInteractive',\n",
              "                                                     [key], {});\n",
              "          if (!dataTable) return;\n",
              "\n",
              "          const docLinkHtml = 'Like what you see? Visit the ' +\n",
              "            '<a target=\"_blank\" href=https://colab.research.google.com/notebooks/data_table.ipynb>data table notebook</a>'\n",
              "            + ' to learn more about interactive tables.';\n",
              "          element.innerHTML = '';\n",
              "          dataTable['output_type'] = 'display_data';\n",
              "          await google.colab.output.renderOutput(dataTable, element);\n",
              "          const docLink = document.createElement('div');\n",
              "          docLink.innerHTML = docLinkHtml;\n",
              "          element.appendChild(docLink);\n",
              "        }\n",
              "      </script>\n",
              "    </div>\n",
              "  </div>\n",
              "  "
            ]
          },
          "metadata": {},
          "execution_count": 32
        }
      ]
    },
    {
      "cell_type": "code",
      "source": [
        "df_test.shape"
      ],
      "metadata": {
        "id": "07YGosD8u4m2",
        "outputId": "6ec318c0-069e-40bf-a8a3-d5503d74d996",
        "colab": {
          "base_uri": "https://localhost:8080/"
        }
      },
      "execution_count": 33,
      "outputs": [
        {
          "output_type": "execute_result",
          "data": {
            "text/plain": [
              "(3263, 4)"
            ]
          },
          "metadata": {},
          "execution_count": 33
        }
      ]
    },
    {
      "cell_type": "code",
      "source": [
        "df_test.head()"
      ],
      "metadata": {
        "colab": {
          "base_uri": "https://localhost:8080/",
          "height": 0
        },
        "id": "_w4IUpGnhcMw",
        "outputId": "eb4a4829-816c-4185-a08b-3fc95019bcbc"
      },
      "execution_count": 34,
      "outputs": [
        {
          "output_type": "execute_result",
          "data": {
            "text/plain": [
              "   id keyword location                                               text\n",
              "0   0     NaN      NaN                   Just happened terrible car crash\n",
              "1   2     NaN      NaN  Heard earthquake different cities stay safe ev...\n",
              "2   3     NaN      NaN  forest fire spot pond geese fleeing across str...\n",
              "3   9     NaN      NaN              Apocalypse lighting Spokane wildfires\n",
              "4  11     NaN      NaN             Typhoon Soudelor kills 28 China Taiwan"
            ],
            "text/html": [
              "\n",
              "  <div id=\"df-ed9c9ffe-4b50-4aa1-8b25-76a35297435b\">\n",
              "    <div class=\"colab-df-container\">\n",
              "      <div>\n",
              "<style scoped>\n",
              "    .dataframe tbody tr th:only-of-type {\n",
              "        vertical-align: middle;\n",
              "    }\n",
              "\n",
              "    .dataframe tbody tr th {\n",
              "        vertical-align: top;\n",
              "    }\n",
              "\n",
              "    .dataframe thead th {\n",
              "        text-align: right;\n",
              "    }\n",
              "</style>\n",
              "<table border=\"1\" class=\"dataframe\">\n",
              "  <thead>\n",
              "    <tr style=\"text-align: right;\">\n",
              "      <th></th>\n",
              "      <th>id</th>\n",
              "      <th>keyword</th>\n",
              "      <th>location</th>\n",
              "      <th>text</th>\n",
              "    </tr>\n",
              "  </thead>\n",
              "  <tbody>\n",
              "    <tr>\n",
              "      <th>0</th>\n",
              "      <td>0</td>\n",
              "      <td>NaN</td>\n",
              "      <td>NaN</td>\n",
              "      <td>Just happened terrible car crash</td>\n",
              "    </tr>\n",
              "    <tr>\n",
              "      <th>1</th>\n",
              "      <td>2</td>\n",
              "      <td>NaN</td>\n",
              "      <td>NaN</td>\n",
              "      <td>Heard earthquake different cities stay safe ev...</td>\n",
              "    </tr>\n",
              "    <tr>\n",
              "      <th>2</th>\n",
              "      <td>3</td>\n",
              "      <td>NaN</td>\n",
              "      <td>NaN</td>\n",
              "      <td>forest fire spot pond geese fleeing across str...</td>\n",
              "    </tr>\n",
              "    <tr>\n",
              "      <th>3</th>\n",
              "      <td>9</td>\n",
              "      <td>NaN</td>\n",
              "      <td>NaN</td>\n",
              "      <td>Apocalypse lighting Spokane wildfires</td>\n",
              "    </tr>\n",
              "    <tr>\n",
              "      <th>4</th>\n",
              "      <td>11</td>\n",
              "      <td>NaN</td>\n",
              "      <td>NaN</td>\n",
              "      <td>Typhoon Soudelor kills 28 China Taiwan</td>\n",
              "    </tr>\n",
              "  </tbody>\n",
              "</table>\n",
              "</div>\n",
              "      <button class=\"colab-df-convert\" onclick=\"convertToInteractive('df-ed9c9ffe-4b50-4aa1-8b25-76a35297435b')\"\n",
              "              title=\"Convert this dataframe to an interactive table.\"\n",
              "              style=\"display:none;\">\n",
              "        \n",
              "  <svg xmlns=\"http://www.w3.org/2000/svg\" height=\"24px\"viewBox=\"0 0 24 24\"\n",
              "       width=\"24px\">\n",
              "    <path d=\"M0 0h24v24H0V0z\" fill=\"none\"/>\n",
              "    <path d=\"M18.56 5.44l.94 2.06.94-2.06 2.06-.94-2.06-.94-.94-2.06-.94 2.06-2.06.94zm-11 1L8.5 8.5l.94-2.06 2.06-.94-2.06-.94L8.5 2.5l-.94 2.06-2.06.94zm10 10l.94 2.06.94-2.06 2.06-.94-2.06-.94-.94-2.06-.94 2.06-2.06.94z\"/><path d=\"M17.41 7.96l-1.37-1.37c-.4-.4-.92-.59-1.43-.59-.52 0-1.04.2-1.43.59L10.3 9.45l-7.72 7.72c-.78.78-.78 2.05 0 2.83L4 21.41c.39.39.9.59 1.41.59.51 0 1.02-.2 1.41-.59l7.78-7.78 2.81-2.81c.8-.78.8-2.07 0-2.86zM5.41 20L4 18.59l7.72-7.72 1.47 1.35L5.41 20z\"/>\n",
              "  </svg>\n",
              "      </button>\n",
              "      \n",
              "  <style>\n",
              "    .colab-df-container {\n",
              "      display:flex;\n",
              "      flex-wrap:wrap;\n",
              "      gap: 12px;\n",
              "    }\n",
              "\n",
              "    .colab-df-convert {\n",
              "      background-color: #E8F0FE;\n",
              "      border: none;\n",
              "      border-radius: 50%;\n",
              "      cursor: pointer;\n",
              "      display: none;\n",
              "      fill: #1967D2;\n",
              "      height: 32px;\n",
              "      padding: 0 0 0 0;\n",
              "      width: 32px;\n",
              "    }\n",
              "\n",
              "    .colab-df-convert:hover {\n",
              "      background-color: #E2EBFA;\n",
              "      box-shadow: 0px 1px 2px rgba(60, 64, 67, 0.3), 0px 1px 3px 1px rgba(60, 64, 67, 0.15);\n",
              "      fill: #174EA6;\n",
              "    }\n",
              "\n",
              "    [theme=dark] .colab-df-convert {\n",
              "      background-color: #3B4455;\n",
              "      fill: #D2E3FC;\n",
              "    }\n",
              "\n",
              "    [theme=dark] .colab-df-convert:hover {\n",
              "      background-color: #434B5C;\n",
              "      box-shadow: 0px 1px 3px 1px rgba(0, 0, 0, 0.15);\n",
              "      filter: drop-shadow(0px 1px 2px rgba(0, 0, 0, 0.3));\n",
              "      fill: #FFFFFF;\n",
              "    }\n",
              "  </style>\n",
              "\n",
              "      <script>\n",
              "        const buttonEl =\n",
              "          document.querySelector('#df-ed9c9ffe-4b50-4aa1-8b25-76a35297435b button.colab-df-convert');\n",
              "        buttonEl.style.display =\n",
              "          google.colab.kernel.accessAllowed ? 'block' : 'none';\n",
              "\n",
              "        async function convertToInteractive(key) {\n",
              "          const element = document.querySelector('#df-ed9c9ffe-4b50-4aa1-8b25-76a35297435b');\n",
              "          const dataTable =\n",
              "            await google.colab.kernel.invokeFunction('convertToInteractive',\n",
              "                                                     [key], {});\n",
              "          if (!dataTable) return;\n",
              "\n",
              "          const docLinkHtml = 'Like what you see? Visit the ' +\n",
              "            '<a target=\"_blank\" href=https://colab.research.google.com/notebooks/data_table.ipynb>data table notebook</a>'\n",
              "            + ' to learn more about interactive tables.';\n",
              "          element.innerHTML = '';\n",
              "          dataTable['output_type'] = 'display_data';\n",
              "          await google.colab.output.renderOutput(dataTable, element);\n",
              "          const docLink = document.createElement('div');\n",
              "          docLink.innerHTML = docLinkHtml;\n",
              "          element.appendChild(docLink);\n",
              "        }\n",
              "      </script>\n",
              "    </div>\n",
              "  </div>\n",
              "  "
            ]
          },
          "metadata": {},
          "execution_count": 34
        }
      ]
    },
    {
      "cell_type": "code",
      "source": [
        "df=pd.concat([df_train,df_test])\n",
        "df.shape"
      ],
      "metadata": {
        "colab": {
          "base_uri": "https://localhost:8080/"
        },
        "id": "5P6QY6DBSqxT",
        "outputId": "450a793f-b826-462f-f397-dfedc828af00"
      },
      "execution_count": 35,
      "outputs": [
        {
          "output_type": "execute_result",
          "data": {
            "text/plain": [
              "(10876, 5)"
            ]
          },
          "metadata": {},
          "execution_count": 35
        }
      ]
    },
    {
      "cell_type": "markdown",
      "source": [
        "#  simple RNN"
      ],
      "metadata": {
        "id": "-1CxzPtonTa1"
      }
    },
    {
      "cell_type": "code",
      "source": [
        "tokenizer = Tokenizer()\n",
        "tokenizer.fit_on_texts(df['text'])\n",
        "X_train_encoded = tokenizer.texts_to_sequences(df['text']) #단어를 숫자로\n",
        "\n",
        "print(X_train_encoded[:5])"
      ],
      "metadata": {
        "colab": {
          "base_uri": "https://localhost:8080/"
        },
        "id": "aIuY3E4Yn1yf",
        "outputId": "33592e81-cbdf-4de1-cdce-a0b703d69c83"
      },
      "execution_count": null,
      "outputs": [
        {
          "output_type": "stream",
          "name": "stdout",
          "text": [
            "[[642, 5761, 761, 182, 82, 1873, 3684, 16], [97, 7, 144, 762, 8487, 8488, 1354], [123, 1522, 1434, 2187, 665, 8489, 1729, 79, 210, 2187, 665, 1615, 1179], [3121, 12, 4452, 1222, 210, 1615, 41], [141, 38, 1435, 231, 5762, 2432, 218, 1222, 8490, 142]]\n"
          ]
        }
      ]
    },
    {
      "cell_type": "code",
      "source": [
        "word_to_index = tokenizer.word_index\n",
        "print(word_to_index)"
      ],
      "metadata": {
        "id": "WFwMuTU3o-8v"
      },
      "execution_count": null,
      "outputs": []
    },
    {
      "cell_type": "code",
      "source": [
        "threshold = 2\n",
        "total_cnt = len(word_to_index) # 단어의 수\n",
        "rare_cnt = 0 # 등장 빈도수가 1인 것들 개수 카운트\n",
        "total_freq = 0 # 훈련 데이터 전체 단어 빈도수 총 합\n",
        "rare_freq = 0 # 등장 빈도수가 1인 것들의 등장 빈도수의 총 합\n",
        "\n",
        "# 단어와 빈도수의 쌍(pair)을 key와 value로 받는다.\n",
        "for key, value in tokenizer.word_counts.items():\n",
        "    total_freq = total_freq + value\n",
        "\n",
        "    if(value < threshold):\n",
        "        rare_cnt = rare_cnt + 1\n",
        "        rare_freq = rare_freq + value\n",
        "\n",
        "print('등장 빈도가 %s번 이하인 희귀 단어의 수: %s'%(threshold - 1, rare_cnt))\n",
        "print(\"단어 집합(vocabulary)에서 희귀 단어의 비율:\", (rare_cnt / total_cnt)*100)\n",
        "print(\"전체 등장 빈도에서 희귀 단어 등장 빈도 비율:\", (rare_freq / total_freq)*100)"
      ],
      "metadata": {
        "colab": {
          "base_uri": "https://localhost:8080/"
        },
        "id": "dLGg4ttCpa57",
        "outputId": "a0e89988-1dba-469e-bf29-b2da072f894d"
      },
      "execution_count": null,
      "outputs": [
        {
          "output_type": "stream",
          "name": "stdout",
          "text": [
            "등장 빈도가 1번 이하인 희귀 단어의 수: 14308\n",
            "단어 집합(vocabulary)에서 희귀 단어의 비율: 62.77090462402387\n",
            "전체 등장 빈도에서 희귀 단어 등장 빈도 비율: 12.831596506017615\n"
          ]
        }
      ]
    },
    {
      "cell_type": "code",
      "source": [
        "a = []\n",
        "for i in range(len(X_train_encoded)):\n",
        "    a.append(len(X_train_encoded[i]))\n",
        "max(a)\n",
        "\n",
        "#가장 긴 tweet의 길이 : 28개의 단어"
      ],
      "metadata": {
        "colab": {
          "base_uri": "https://localhost:8080/"
        },
        "id": "pKHnregpsAre",
        "outputId": "1f90d6d1-c9bd-4f8a-9d26-27506082ccb9"
      },
      "execution_count": null,
      "outputs": [
        {
          "output_type": "execute_result",
          "data": {
            "text/plain": [
              "28"
            ]
          },
          "metadata": {},
          "execution_count": 24
        }
      ]
    },
    {
      "cell_type": "code",
      "source": [
        "tokenizer.word_counts.items()\n",
        "#등장 빈도가 1번인 애들 살펴보기"
      ],
      "metadata": {
        "id": "6ApWBsEYqaHD"
      },
      "execution_count": null,
      "outputs": []
    },
    {
      "cell_type": "code",
      "source": [
        "total_cnt - rare_cnt + 1"
      ],
      "metadata": {
        "colab": {
          "base_uri": "https://localhost:8080/"
        },
        "id": "W2DUOmtmy1uY",
        "outputId": "f39498a5-4bf1-4019-b05c-2ac88a14b532"
      },
      "execution_count": null,
      "outputs": [
        {
          "output_type": "execute_result",
          "data": {
            "text/plain": [
              "8487"
            ]
          },
          "metadata": {},
          "execution_count": 26
        }
      ]
    },
    {
      "cell_type": "markdown",
      "source": [
        "# RNN 한번만 나오는 단어 제거"
      ],
      "metadata": {
        "id": "tBsfWBHz6bVq"
      }
    },
    {
      "cell_type": "code",
      "source": [
        "tokenizer = Tokenizer(num_words = total_cnt - rare_cnt + 1)    #한번만 나오는 단어 제거, 단어 빈도가 많은 순서로 5767개 단어 보존\n",
        "tokenizer.fit_on_texts(df['text'])                             #key value로 이루어진 딕셔너리 만들기    \n",
        "X_train_encoded = tokenizer.texts_to_sequences(df['text'])     #단어를 숫자로\n",
        "\n",
        "print(X_train_encoded[:5])"
      ],
      "metadata": {
        "colab": {
          "base_uri": "https://localhost:8080/"
        },
        "id": "s8DCpj8uvSLO",
        "outputId": "ee715ad0-6635-4a37-a870-cd8f4447c7f6"
      },
      "execution_count": null,
      "outputs": [
        {
          "output_type": "stream",
          "name": "stdout",
          "text": [
            "[[642, 5761, 761, 182, 82, 1873, 3684, 16], [97, 7, 144, 762, 1354], [123, 1522, 1434, 2187, 665, 1729, 79, 210, 2187, 665, 1615, 1179], [3121, 12, 4452, 1222, 210, 1615, 41], [141, 38, 1435, 231, 5762, 2432, 218, 1222, 142]]\n"
          ]
        }
      ]
    },
    {
      "cell_type": "code",
      "source": [
        "a = []\n",
        "for i in range(len(X_train_encoded)):\n",
        "    a.append(len(X_train_encoded[i]))\n",
        "max(a)\n",
        "\n",
        "#등장 빈도 1번인 애들 제거 후 가장 긴 tweet의 길이 : 26개의 단어"
      ],
      "metadata": {
        "colab": {
          "base_uri": "https://localhost:8080/"
        },
        "id": "1BoyJRb2v5YL",
        "outputId": "14ace74f-8c61-4874-8da9-07f0543c3d9d"
      },
      "execution_count": null,
      "outputs": [
        {
          "output_type": "execute_result",
          "data": {
            "text/plain": [
              "26"
            ]
          },
          "metadata": {},
          "execution_count": 28
        }
      ]
    },
    {
      "cell_type": "code",
      "source": [
        "max_len = 26\n",
        "X_train_padded = pad_sequences(X_train_encoded, maxlen = max_len)     # padding\n",
        "print(\"훈련 데이터의 크기(shape):\", X_train_padded.shape)"
      ],
      "metadata": {
        "colab": {
          "base_uri": "https://localhost:8080/"
        },
        "id": "fK0aPQKiwZQW",
        "outputId": "7893a331-7c86-44d3-cec5-a84077823425"
      },
      "execution_count": null,
      "outputs": [
        {
          "output_type": "stream",
          "name": "stdout",
          "text": [
            "훈련 데이터의 크기(shape): (10876, 26)\n"
          ]
        }
      ]
    },
    {
      "cell_type": "code",
      "source": [
        "vocab_size = total_cnt - rare_cnt + 1\n",
        "print('단어 집합의 크기: {}'.format((vocab_size)))"
      ],
      "metadata": {
        "colab": {
          "base_uri": "https://localhost:8080/"
        },
        "id": "8vm5_aOpwst3",
        "outputId": "3d0096ed-f64f-49ea-ab64-17485ae77030"
      },
      "execution_count": null,
      "outputs": [
        {
          "output_type": "stream",
          "name": "stdout",
          "text": [
            "단어 집합의 크기: 8487\n"
          ]
        }
      ]
    },
    {
      "cell_type": "code",
      "source": [
        "train_data, val_data, train_labels, val_labels = train_test_split(X_train_padded[:df_train.shape[0]], df_train['target'].values, test_size=0.2, random_state=0, stratify=df_train['target'].values)\n",
        "#stratify=df_train['target'].values -> train, test에서 0,1의 비율이 똑같"
      ],
      "metadata": {
        "id": "kgo9T6aAnYG3"
      },
      "execution_count": null,
      "outputs": []
    },
    {
      "cell_type": "code",
      "source": [
        "from tensorflow.keras.layers import SimpleRNN, Embedding, Dense\n",
        "from tensorflow.keras.models import Sequential\n",
        "\n",
        "embedding_dim = 32\n",
        "hidden_units = 32\n",
        "\n",
        "model = Sequential()\n",
        "model.add(Embedding(vocab_size, embedding_dim))\n",
        "model.add(SimpleRNN(hidden_units))\n",
        "model.add(Dense(1, activation='sigmoid'))\n",
        "\n",
        "optimzer=Adam(learning_rate=1e-4)\n",
        "\n",
        "model.compile(loss='binary_crossentropy',optimizer=optimzer,metrics=['accuracy'])\n",
        "\n",
        "callbacks_list = [\n",
        "    tf.keras.callbacks.EarlyStopping(\n",
        "        monitor='val_accuracy',                    \n",
        "        patience=5                                 \n",
        "    ),\n",
        "    tf.keras.callbacks.ModelCheckpoint(                \n",
        "        filepath=\"checkpoint_path.keras\",        \n",
        "        monitor='val_accuracy',                          \n",
        "        save_best_only=True,                       \n",
        "        verbose=1                                   \n",
        "    ),\n",
        "    tf.keras.callbacks.ReduceLROnPlateau(\n",
        "        monitor='val_loss',  \n",
        "        factor=0.5,          # callback 호출시 학습률을 1/2로 줄입니다\n",
        "        patience=5,         # epoch 5 동안 개선되지 않으면 callback이 호출됩니다\n",
        ")\n",
        "]\n",
        "\n",
        "\n",
        "history = model.fit(train_data, train_labels, \n",
        "                    validation_data = [val_data, val_labels], \n",
        "                    epochs=50,                           #그래프 보면서 에포크 늘려봤음 \n",
        "                    batch_size=64, \n",
        "                    callbacks = callbacks_list)"
      ],
      "metadata": {
        "colab": {
          "base_uri": "https://localhost:8080/"
        },
        "id": "u31zFcQfwjR_",
        "outputId": "ff213a8b-a891-4ef6-f8e4-0d184dddebf9"
      },
      "execution_count": null,
      "outputs": [
        {
          "output_type": "stream",
          "name": "stdout",
          "text": [
            "Epoch 1/50\n",
            "96/96 [==============================] - ETA: 0s - loss: 0.6826 - accuracy: 0.5609\n",
            "Epoch 1: val_accuracy improved from -inf to 0.57058, saving model to checkpoint_path.keras\n",
            "96/96 [==============================] - 22s 159ms/step - loss: 0.6826 - accuracy: 0.5609 - val_loss: 0.6749 - val_accuracy: 0.5706 - lr: 1.0000e-04\n",
            "Epoch 2/50\n",
            "96/96 [==============================] - ETA: 0s - loss: 0.6633 - accuracy: 0.5993\n",
            "Epoch 2: val_accuracy improved from 0.57058 to 0.60473, saving model to checkpoint_path.keras\n",
            "96/96 [==============================] - 11s 117ms/step - loss: 0.6633 - accuracy: 0.5993 - val_loss: 0.6629 - val_accuracy: 0.6047 - lr: 1.0000e-04\n",
            "Epoch 3/50\n",
            "96/96 [==============================] - ETA: 0s - loss: 0.6381 - accuracy: 0.6654\n",
            "Epoch 3: val_accuracy improved from 0.60473 to 0.64150, saving model to checkpoint_path.keras\n",
            "96/96 [==============================] - 5s 54ms/step - loss: 0.6381 - accuracy: 0.6654 - val_loss: 0.6437 - val_accuracy: 0.6415 - lr: 1.0000e-04\n",
            "Epoch 4/50\n",
            "96/96 [==============================] - ETA: 0s - loss: 0.5987 - accuracy: 0.7304\n",
            "Epoch 4: val_accuracy improved from 0.64150 to 0.68221, saving model to checkpoint_path.keras\n",
            "96/96 [==============================] - 4s 43ms/step - loss: 0.5987 - accuracy: 0.7304 - val_loss: 0.6114 - val_accuracy: 0.6822 - lr: 1.0000e-04\n",
            "Epoch 5/50\n",
            "96/96 [==============================] - ETA: 0s - loss: 0.5345 - accuracy: 0.7691\n",
            "Epoch 5: val_accuracy improved from 0.68221 to 0.73145, saving model to checkpoint_path.keras\n",
            "96/96 [==============================] - 6s 57ms/step - loss: 0.5345 - accuracy: 0.7691 - val_loss: 0.5577 - val_accuracy: 0.7315 - lr: 1.0000e-04\n",
            "Epoch 6/50\n",
            "96/96 [==============================] - ETA: 0s - loss: 0.4625 - accuracy: 0.8125\n",
            "Epoch 6: val_accuracy improved from 0.73145 to 0.74590, saving model to checkpoint_path.keras\n",
            "96/96 [==============================] - 4s 38ms/step - loss: 0.4625 - accuracy: 0.8125 - val_loss: 0.5273 - val_accuracy: 0.7459 - lr: 1.0000e-04\n",
            "Epoch 7/50\n",
            "96/96 [==============================] - ETA: 0s - loss: 0.4037 - accuracy: 0.8414\n",
            "Epoch 7: val_accuracy improved from 0.74590 to 0.76297, saving model to checkpoint_path.keras\n",
            "96/96 [==============================] - 3s 35ms/step - loss: 0.4037 - accuracy: 0.8414 - val_loss: 0.5091 - val_accuracy: 0.7630 - lr: 1.0000e-04\n",
            "Epoch 8/50\n",
            "96/96 [==============================] - ETA: 0s - loss: 0.3532 - accuracy: 0.8675\n",
            "Epoch 8: val_accuracy improved from 0.76297 to 0.76822, saving model to checkpoint_path.keras\n",
            "96/96 [==============================] - 6s 63ms/step - loss: 0.3532 - accuracy: 0.8675 - val_loss: 0.5043 - val_accuracy: 0.7682 - lr: 1.0000e-04\n",
            "Epoch 9/50\n",
            "96/96 [==============================] - ETA: 0s - loss: 0.3167 - accuracy: 0.8823\n",
            "Epoch 9: val_accuracy did not improve from 0.76822\n",
            "96/96 [==============================] - 3s 33ms/step - loss: 0.3167 - accuracy: 0.8823 - val_loss: 0.4950 - val_accuracy: 0.7682 - lr: 1.0000e-04\n",
            "Epoch 10/50\n",
            "96/96 [==============================] - ETA: 0s - loss: 0.2828 - accuracy: 0.8951\n",
            "Epoch 10: val_accuracy did not improve from 0.76822\n",
            "96/96 [==============================] - 3s 35ms/step - loss: 0.2828 - accuracy: 0.8951 - val_loss: 0.5205 - val_accuracy: 0.7630 - lr: 1.0000e-04\n",
            "Epoch 11/50\n",
            "96/96 [==============================] - ETA: 0s - loss: 0.2591 - accuracy: 0.9080\n",
            "Epoch 11: val_accuracy did not improve from 0.76822\n",
            "96/96 [==============================] - 3s 35ms/step - loss: 0.2591 - accuracy: 0.9080 - val_loss: 0.5121 - val_accuracy: 0.7636 - lr: 1.0000e-04\n",
            "Epoch 12/50\n",
            "96/96 [==============================] - ETA: 0s - loss: 0.2335 - accuracy: 0.9176\n",
            "Epoch 12: val_accuracy improved from 0.76822 to 0.77741, saving model to checkpoint_path.keras\n",
            "96/96 [==============================] - 5s 51ms/step - loss: 0.2335 - accuracy: 0.9176 - val_loss: 0.5148 - val_accuracy: 0.7774 - lr: 1.0000e-04\n",
            "Epoch 13/50\n",
            "96/96 [==============================] - ETA: 0s - loss: 0.2143 - accuracy: 0.9264\n",
            "Epoch 13: val_accuracy did not improve from 0.77741\n",
            "96/96 [==============================] - 3s 33ms/step - loss: 0.2143 - accuracy: 0.9264 - val_loss: 0.5146 - val_accuracy: 0.7715 - lr: 1.0000e-04\n",
            "Epoch 14/50\n",
            "96/96 [==============================] - ETA: 0s - loss: 0.1993 - accuracy: 0.9315\n",
            "Epoch 14: val_accuracy did not improve from 0.77741\n",
            "96/96 [==============================] - 3s 31ms/step - loss: 0.1993 - accuracy: 0.9315 - val_loss: 0.5326 - val_accuracy: 0.7722 - lr: 1.0000e-04\n",
            "Epoch 15/50\n",
            "96/96 [==============================] - ETA: 0s - loss: 0.1833 - accuracy: 0.9388\n",
            "Epoch 15: val_accuracy did not improve from 0.77741\n",
            "96/96 [==============================] - 4s 42ms/step - loss: 0.1833 - accuracy: 0.9388 - val_loss: 0.5560 - val_accuracy: 0.7584 - lr: 1.0000e-04\n",
            "Epoch 16/50\n",
            "96/96 [==============================] - ETA: 0s - loss: 0.1710 - accuracy: 0.9435\n",
            "Epoch 16: val_accuracy did not improve from 0.77741\n",
            "96/96 [==============================] - 4s 46ms/step - loss: 0.1710 - accuracy: 0.9435 - val_loss: 0.5686 - val_accuracy: 0.7610 - lr: 1.0000e-04\n",
            "Epoch 17/50\n",
            "96/96 [==============================] - ETA: 0s - loss: 0.1612 - accuracy: 0.9476\n",
            "Epoch 17: val_accuracy did not improve from 0.77741\n",
            "96/96 [==============================] - 4s 40ms/step - loss: 0.1612 - accuracy: 0.9476 - val_loss: 0.5714 - val_accuracy: 0.7715 - lr: 1.0000e-04\n"
          ]
        }
      ]
    },
    {
      "cell_type": "code",
      "source": [
        "history_dict = history.history\n",
        "history_dict.keys()"
      ],
      "metadata": {
        "colab": {
          "base_uri": "https://localhost:8080/"
        },
        "id": "UqqpX3pB0l0v",
        "outputId": "aea7d8c4-c552-465f-f5b2-3124e13e3988"
      },
      "execution_count": null,
      "outputs": [
        {
          "output_type": "execute_result",
          "data": {
            "text/plain": [
              "dict_keys(['loss', 'accuracy', 'val_loss', 'val_accuracy', 'lr'])"
            ]
          },
          "metadata": {},
          "execution_count": 33
        }
      ]
    },
    {
      "cell_type": "code",
      "source": [
        "history_dict = history.history\n",
        "loss_values = history_dict[\"loss\"]\n",
        "val_loss_values = history_dict[\"val_loss\"]\n",
        "epochs = range(1, len(loss_values) + 1)\n",
        "plt.plot(epochs, loss_values, \"bo\", label=\"Training loss\")\n",
        "plt.plot(epochs, val_loss_values, \"b\", label=\"Validation loss\")\n",
        "plt.title(\"Training and validation loss\")\n",
        "plt.xlabel(\"Epochs\")\n",
        "plt.ylabel(\"Loss\")\n",
        "plt.legend()\n",
        "plt.show()"
      ],
      "metadata": {
        "colab": {
          "base_uri": "https://localhost:8080/",
          "height": 477
        },
        "id": "h0s9gMBt1n4y",
        "outputId": "bdcdc7a9-e1fd-423f-c5ef-cef161b13e8c"
      },
      "execution_count": null,
      "outputs": [
        {
          "output_type": "display_data",
          "data": {
            "text/plain": [
              "<Figure size 640x480 with 1 Axes>"
            ],
            "image/png": "[encoded data removed]"
          },
          "metadata": {}
        }
      ]
    },
    {
      "cell_type": "code",
      "source": [
        "plt.clf()\n",
        "acc = history_dict[\"accuracy\"]\n",
        "val_acc = history_dict[\"val_accuracy\"]\n",
        "plt.plot(epochs, acc, \"bo\", label=\"Training acc\")\n",
        "plt.plot(epochs, val_acc, \"b\", label=\"Validation acc\")\n",
        "plt.title(\"Training and validation accuracy\")\n",
        "plt.xlabel(\"Epochs\")\n",
        "plt.ylabel(\"Accuracy\")\n",
        "plt.legend()\n",
        "plt.show()"
      ],
      "metadata": {
        "colab": {
          "base_uri": "https://localhost:8080/",
          "height": 477
        },
        "id": "PhPKlxqg0ZfC",
        "outputId": "596d437f-4c17-4642-b66d-ac987b7c3628"
      },
      "execution_count": null,
      "outputs": [
        {
          "output_type": "display_data",
          "data": {
            "text/plain": [
              "<Figure size 640x480 with 1 Axes>"
            ],
            "image/png": "[encoded data removed]"
          },
          "metadata": {}
        }
      ]
    },
    {
      "cell_type": "code",
      "source": [
        "loaded_model = tf.keras.models.load_model('checkpoint_path.keras')\n",
        "predicted = loaded_model.predict(X_train_padded[df_train.shape[0]:])\n",
        "y_predicted = np.where(predicted>0.5,1,0)\n",
        "y_predicted = y_predicted.reshape((1,3263))[0]\n",
        "df_sample['id'] = df_test.id\n",
        "df_sample['target'] = y_predicted\n",
        "df_sample.to_csv('submission.csv',index = False)\n",
        "#리더보드 결과 : "
      ],
      "metadata": {
        "colab": {
          "base_uri": "https://localhost:8080/"
        },
        "id": "HD2uGqOm1T7i",
        "outputId": "a298ffb0-1f93-4961-9004-15c729878695"
      },
      "execution_count": null,
      "outputs": [
        {
          "output_type": "stream",
          "name": "stdout",
          "text": [
            "102/102 [==============================] - 1s 5ms/step\n"
          ]
        }
      ]
    },
    {
      "cell_type": "markdown",
      "source": [
        "#RNN 한번만 나오는 단어 제거 X"
      ],
      "metadata": {
        "id": "0F9A2V_V6jFS"
      }
    },
    {
      "cell_type": "code",
      "source": [
        "tokenizer = Tokenizer()                                        #한번만 나오는 단어 제거X\n",
        "tokenizer.fit_on_texts(df['text'])                             #key value로 이루어진 딕셔너리 만들기    \n",
        "X_train_encoded = tokenizer.texts_to_sequences(df['text'])     #단어를 숫자로\n",
        "\n",
        "print(X_train_encoded[:5])"
      ],
      "metadata": {
        "colab": {
          "base_uri": "https://localhost:8080/"
        },
        "id": "-aFhwMep6xd2",
        "outputId": "04164078-8a28-4e27-d392-98a5d7405821"
      },
      "execution_count": null,
      "outputs": [
        {
          "output_type": "stream",
          "name": "stdout",
          "text": [
            "[[642, 5761, 761, 182, 82, 1873, 3684, 16], [97, 7, 144, 762, 8487, 8488, 1354], [123, 1522, 1434, 2187, 665, 8489, 1729, 79, 210, 2187, 665, 1615, 1179], [3121, 12, 4452, 1222, 210, 1615, 41], [141, 38, 1435, 231, 5762, 2432, 218, 1222, 8490, 142]]\n"
          ]
        }
      ]
    },
    {
      "cell_type": "code",
      "source": [
        "a = []\n",
        "for i in range(len(X_train_encoded)):\n",
        "    a.append(len(X_train_encoded[i]))\n",
        "max(a)\n",
        "\n",
        "#등장 빈도 1번인 애들 제거 후 가장 긴 tweet의 길이 : 28개의 단어"
      ],
      "metadata": {
        "outputId": "6540b714-ad6e-498f-efa8-8e084d81cec5",
        "colab": {
          "base_uri": "https://localhost:8080/"
        },
        "id": "eVTaKo9_7ALW"
      },
      "execution_count": null,
      "outputs": [
        {
          "output_type": "execute_result",
          "data": {
            "text/plain": [
              "28"
            ]
          },
          "metadata": {},
          "execution_count": 37
        }
      ]
    },
    {
      "cell_type": "code",
      "source": [
        "max_len = 28\n",
        "X_train_padded = pad_sequences(X_train_encoded, maxlen = max_len)     # padding\n",
        "print(\"훈련 데이터의 크기(shape):\", X_train_padded.shape)"
      ],
      "metadata": {
        "outputId": "a14cad65-7d8e-4a0c-840d-e768f7a4292c",
        "colab": {
          "base_uri": "https://localhost:8080/"
        },
        "id": "f7zJsm537ALe"
      },
      "execution_count": null,
      "outputs": [
        {
          "output_type": "stream",
          "name": "stdout",
          "text": [
            "훈련 데이터의 크기(shape): (10876, 28)\n"
          ]
        }
      ]
    },
    {
      "cell_type": "code",
      "source": [
        "vocab_size = len(word_to_index) + 1\n",
        "print('단어 집합의 크기: {}'.format((vocab_size)))"
      ],
      "metadata": {
        "outputId": "5d9fc3a7-127b-4b39-cb3b-cb0fd1441191",
        "colab": {
          "base_uri": "https://localhost:8080/"
        },
        "id": "zOC1bxGz7ALe"
      },
      "execution_count": null,
      "outputs": [
        {
          "output_type": "stream",
          "name": "stdout",
          "text": [
            "단어 집합의 크기: 22795\n"
          ]
        }
      ]
    },
    {
      "cell_type": "code",
      "source": [
        "train_data, val_data, train_labels, val_labels = train_test_split(X_train_padded[:df_train.shape[0]], df_train['target'].values, test_size=0.2, random_state=0, stratify=df_train['target'].values)\n",
        "#stratify=df_train['target'].values -> train, test에서 0,1의 비율이 똑같"
      ],
      "metadata": {
        "id": "PMOp6bIF7ALe"
      },
      "execution_count": null,
      "outputs": []
    },
    {
      "cell_type": "code",
      "source": [
        "from tensorflow.keras.layers import SimpleRNN, Embedding, Dense\n",
        "from tensorflow.keras.models import Sequential\n",
        "\n",
        "embedding_dim = 32\n",
        "hidden_units = 32\n",
        "\n",
        "model = Sequential()\n",
        "model.add(Embedding(vocab_size, embedding_dim))\n",
        "model.add(SimpleRNN(hidden_units))\n",
        "model.add(Dense(1, activation='sigmoid'))\n",
        "\n",
        "optimzer=Adam(learning_rate=1e-4)\n",
        "\n",
        "model.compile(loss='binary_crossentropy',optimizer=optimzer,metrics=['accuracy'])\n",
        "\n",
        "callbacks_list = [\n",
        "    tf.keras.callbacks.EarlyStopping(\n",
        "        monitor='val_accuracy',                    \n",
        "        patience=5                                 \n",
        "    ),\n",
        "    tf.keras.callbacks.ModelCheckpoint(                \n",
        "        filepath=\"checkpoint_path.keras\",        \n",
        "        monitor='val_accuracy',                          \n",
        "        save_best_only=True,                       \n",
        "        verbose=1                                   \n",
        "    ),\n",
        "    tf.keras.callbacks.ReduceLROnPlateau(\n",
        "        monitor='val_loss',  \n",
        "        factor=0.5,          # callback 호출시 학습률을 1/2로 줄입니다\n",
        "        patience=5,         # epoch 5 동안 개선되지 않으면 callback이 호출됩니다\n",
        ")\n",
        "]\n",
        "\n",
        "\n",
        "history = model.fit(train_data, train_labels, \n",
        "                    validation_data = [val_data, val_labels], \n",
        "                    epochs=50,                           #그래프 보면서 에포크 늘려봤음 \n",
        "                    batch_size=64, \n",
        "                    callbacks = callbacks_list)"
      ],
      "metadata": {
        "outputId": "d3295412-ab30-46b5-bcbc-b8c53767e23f",
        "colab": {
          "base_uri": "https://localhost:8080/"
        },
        "id": "vG5F8LQS7ALf"
      },
      "execution_count": null,
      "outputs": [
        {
          "output_type": "stream",
          "name": "stdout",
          "text": [
            "Epoch 1/50\n",
            "96/96 [==============================] - ETA: 0s - loss: 0.6785 - accuracy: 0.5634\n",
            "Epoch 1: val_accuracy improved from -inf to 0.57321, saving model to checkpoint_path.keras\n",
            "96/96 [==============================] - 20s 189ms/step - loss: 0.6785 - accuracy: 0.5634 - val_loss: 0.6735 - val_accuracy: 0.5732 - lr: 1.0000e-04\n",
            "Epoch 2/50\n",
            "96/96 [==============================] - ETA: 0s - loss: 0.6574 - accuracy: 0.6141\n",
            "Epoch 2: val_accuracy improved from 0.57321 to 0.62443, saving model to checkpoint_path.keras\n",
            "96/96 [==============================] - 11s 111ms/step - loss: 0.6574 - accuracy: 0.6141 - val_loss: 0.6567 - val_accuracy: 0.6244 - lr: 1.0000e-04\n",
            "Epoch 3/50\n",
            "96/96 [==============================] - ETA: 0s - loss: 0.6226 - accuracy: 0.7016\n",
            "Epoch 3: val_accuracy improved from 0.62443 to 0.68155, saving model to checkpoint_path.keras\n",
            "96/96 [==============================] - 5s 53ms/step - loss: 0.6226 - accuracy: 0.7016 - val_loss: 0.6298 - val_accuracy: 0.6815 - lr: 1.0000e-04\n",
            "Epoch 4/50\n",
            "96/96 [==============================] - ETA: 0s - loss: 0.5608 - accuracy: 0.7685\n",
            "Epoch 4: val_accuracy improved from 0.68155 to 0.71701, saving model to checkpoint_path.keras\n",
            "96/96 [==============================] - 7s 74ms/step - loss: 0.5608 - accuracy: 0.7685 - val_loss: 0.5778 - val_accuracy: 0.7170 - lr: 1.0000e-04\n",
            "Epoch 5/50\n",
            "96/96 [==============================] - ETA: 0s - loss: 0.4671 - accuracy: 0.8182\n",
            "Epoch 5: val_accuracy improved from 0.71701 to 0.75181, saving model to checkpoint_path.keras\n",
            "96/96 [==============================] - 4s 47ms/step - loss: 0.4671 - accuracy: 0.8182 - val_loss: 0.5242 - val_accuracy: 0.7518 - lr: 1.0000e-04\n",
            "Epoch 6/50\n",
            "95/96 [============================>.] - ETA: 0s - loss: 0.3879 - accuracy: 0.8554\n",
            "Epoch 6: val_accuracy improved from 0.75181 to 0.76231, saving model to checkpoint_path.keras\n",
            "96/96 [==============================] - 4s 47ms/step - loss: 0.3877 - accuracy: 0.8555 - val_loss: 0.5005 - val_accuracy: 0.7623 - lr: 1.0000e-04\n",
            "Epoch 7/50\n",
            "96/96 [==============================] - ETA: 0s - loss: 0.3224 - accuracy: 0.8867\n",
            "Epoch 7: val_accuracy improved from 0.76231 to 0.76297, saving model to checkpoint_path.keras\n",
            "96/96 [==============================] - 6s 58ms/step - loss: 0.3224 - accuracy: 0.8867 - val_loss: 0.4964 - val_accuracy: 0.7630 - lr: 1.0000e-04\n",
            "Epoch 8/50\n",
            "96/96 [==============================] - ETA: 0s - loss: 0.2740 - accuracy: 0.9053\n",
            "Epoch 8: val_accuracy improved from 0.76297 to 0.76625, saving model to checkpoint_path.keras\n",
            "96/96 [==============================] - 4s 42ms/step - loss: 0.2740 - accuracy: 0.9053 - val_loss: 0.5012 - val_accuracy: 0.7663 - lr: 1.0000e-04\n",
            "Epoch 9/50\n",
            "96/96 [==============================] - ETA: 0s - loss: 0.2343 - accuracy: 0.9212\n",
            "Epoch 9: val_accuracy did not improve from 0.76625\n",
            "96/96 [==============================] - 4s 41ms/step - loss: 0.2343 - accuracy: 0.9212 - val_loss: 0.5237 - val_accuracy: 0.7597 - lr: 1.0000e-04\n",
            "Epoch 10/50\n",
            "96/96 [==============================] - ETA: 0s - loss: 0.2015 - accuracy: 0.9332\n",
            "Epoch 10: val_accuracy did not improve from 0.76625\n",
            "96/96 [==============================] - 5s 56ms/step - loss: 0.2015 - accuracy: 0.9332 - val_loss: 0.5286 - val_accuracy: 0.7623 - lr: 1.0000e-04\n",
            "Epoch 11/50\n",
            "96/96 [==============================] - ETA: 0s - loss: 0.1802 - accuracy: 0.9440\n",
            "Epoch 11: val_accuracy did not improve from 0.76625\n",
            "96/96 [==============================] - 3s 35ms/step - loss: 0.1802 - accuracy: 0.9440 - val_loss: 0.5571 - val_accuracy: 0.7571 - lr: 1.0000e-04\n",
            "Epoch 12/50\n",
            "96/96 [==============================] - ETA: 0s - loss: 0.1597 - accuracy: 0.9488\n",
            "Epoch 12: val_accuracy did not improve from 0.76625\n",
            "96/96 [==============================] - 3s 35ms/step - loss: 0.1597 - accuracy: 0.9488 - val_loss: 0.5596 - val_accuracy: 0.7617 - lr: 1.0000e-04\n",
            "Epoch 13/50\n",
            "96/96 [==============================] - ETA: 0s - loss: 0.1414 - accuracy: 0.9558\n",
            "Epoch 13: val_accuracy did not improve from 0.76625\n",
            "96/96 [==============================] - 5s 50ms/step - loss: 0.1414 - accuracy: 0.9558 - val_loss: 0.5883 - val_accuracy: 0.7538 - lr: 5.0000e-05\n"
          ]
        }
      ]
    },
    {
      "cell_type": "code",
      "source": [
        "history_dict = history.history\n",
        "history_dict.keys()"
      ],
      "metadata": {
        "outputId": "2c0ef39b-9c1f-43b9-c396-ba12a29de508",
        "colab": {
          "base_uri": "https://localhost:8080/"
        },
        "id": "Unh3HZTz7Hif"
      },
      "execution_count": null,
      "outputs": [
        {
          "output_type": "execute_result",
          "data": {
            "text/plain": [
              "dict_keys(['loss', 'accuracy', 'val_loss', 'val_accuracy', 'lr'])"
            ]
          },
          "metadata": {},
          "execution_count": 42
        }
      ]
    },
    {
      "cell_type": "code",
      "source": [
        "history_dict = history.history\n",
        "loss_values = history_dict[\"loss\"]\n",
        "val_loss_values = history_dict[\"val_loss\"]\n",
        "epochs = range(1, len(loss_values) + 1)\n",
        "plt.plot(epochs, loss_values, \"bo\", label=\"Training loss\")\n",
        "plt.plot(epochs, val_loss_values, \"b\", label=\"Validation loss\")\n",
        "plt.title(\"Training and validation loss\")\n",
        "plt.xlabel(\"Epochs\")\n",
        "plt.ylabel(\"Loss\")\n",
        "plt.legend()\n",
        "plt.show()"
      ],
      "metadata": {
        "outputId": "7b200104-9905-471c-9112-cde6ce3364f4",
        "colab": {
          "base_uri": "https://localhost:8080/",
          "height": 477
        },
        "id": "5i8KDyGV7Hig"
      },
      "execution_count": null,
      "outputs": [
        {
          "output_type": "display_data",
          "data": {
            "text/plain": [
              "<Figure size 640x480 with 1 Axes>"
            ],
            "image/png": "[encoded data removed]"
          },
          "metadata": {}
        }
      ]
    },
    {
      "cell_type": "code",
      "source": [
        "plt.clf()\n",
        "acc = history_dict[\"accuracy\"]\n",
        "val_acc = history_dict[\"val_accuracy\"]\n",
        "plt.plot(epochs, acc, \"bo\", label=\"Training acc\")\n",
        "plt.plot(epochs, val_acc, \"b\", label=\"Validation acc\")\n",
        "plt.title(\"Training and validation accuracy\")\n",
        "plt.xlabel(\"Epochs\")\n",
        "plt.ylabel(\"Accuracy\")\n",
        "plt.legend()\n",
        "plt.show()"
      ],
      "metadata": {
        "outputId": "23dc1f4a-16d1-426d-de8d-6a3e71fb1cde",
        "colab": {
          "base_uri": "https://localhost:8080/",
          "height": 477
        },
        "id": "jqZqpMlf7Hig"
      },
      "execution_count": null,
      "outputs": [
        {
          "output_type": "display_data",
          "data": {
            "text/plain": [
              "<Figure size 640x480 with 1 Axes>"
            ],
            "image/png": "[encoded data removed]"
          },
          "metadata": {}
        }
      ]
    },
    {
      "cell_type": "code",
      "source": [
        "loaded_model = tf.keras.models.load_model('checkpoint_path.keras')\n",
        "predicted = loaded_model.predict(X_train_padded[df_train.shape[0]:])\n",
        "y_predicted = np.where(predicted>0.5,1,0)\n",
        "y_predicted = y_predicted.reshape((1,3263))[0]\n",
        "df_sample['id'] = df_test.id\n",
        "df_sample['target'] = y_predicted\n",
        "df_sample.to_csv('submission.csv',index = False)\n",
        "#리더보드 결과 : "
      ],
      "metadata": {
        "outputId": "38845480-3bfd-4418-f25c-d749ec8f3832",
        "colab": {
          "base_uri": "https://localhost:8080/"
        },
        "id": "76KzeqIs7Hig"
      },
      "execution_count": null,
      "outputs": [
        {
          "output_type": "stream",
          "name": "stdout",
          "text": [
            "102/102 [==============================] - 1s 4ms/step\n"
          ]
        }
      ]
    },
    {
      "cell_type": "markdown",
      "source": [
        "# LSTM"
      ],
      "metadata": {
        "id": "_JYIQpTv9elK"
      }
    },
    {
      "cell_type": "code",
      "source": [
        "tokenizer = Tokenizer()                                        \n",
        "tokenizer.fit_on_texts(df['text'])                                \n",
        "X_train_encoded = tokenizer.texts_to_sequences(df['text'])     \n",
        "\n",
        "print(X_train_encoded[:5])"
      ],
      "metadata": {
        "id": "TjADGCzuywu8",
        "outputId": "aaa77bf6-403b-4498-e6d1-bb7f02d0040a",
        "colab": {
          "base_uri": "https://localhost:8080/"
        }
      },
      "execution_count": null,
      "outputs": [
        {
          "output_type": "stream",
          "name": "stdout",
          "text": [
            "[[642, 5761, 761, 182, 82, 1873, 3684, 16], [97, 7, 144, 762, 8487, 8488, 1354], [123, 1522, 1434, 2187, 665, 8489, 1729, 79, 210, 2187, 665, 1615, 1179], [3121, 12, 4452, 1222, 210, 1615, 41], [141, 38, 1435, 231, 5762, 2432, 218, 1222, 8490, 142]]\n"
          ]
        }
      ]
    },
    {
      "cell_type": "code",
      "source": [
        "a = []\n",
        "for i in range(len(X_train_encoded)):\n",
        "    a.append(len(X_train_encoded[i]))\n",
        "max(a)\n",
        "\n",
        "#가장 긴 tweet의 길이 : 28개의 단어"
      ],
      "metadata": {
        "id": "ymoovllby8oT",
        "outputId": "bfe086c1-ddbf-4e0c-f2d1-5737d3eccb13",
        "colab": {
          "base_uri": "https://localhost:8080/"
        }
      },
      "execution_count": null,
      "outputs": [
        {
          "output_type": "execute_result",
          "data": {
            "text/plain": [
              "28"
            ]
          },
          "metadata": {},
          "execution_count": 48
        }
      ]
    },
    {
      "cell_type": "code",
      "source": [
        "max_len = 28\n",
        "X_train_padded = pad_sequences(X_train_encoded, maxlen = max_len)     # padding\n",
        "print(\"훈련 데이터의 크기(shape):\", X_train_padded.shape)"
      ],
      "metadata": {
        "id": "l0p3fITXzH9S",
        "outputId": "49d0e466-6f8d-482e-f0aa-fda28aab2215",
        "colab": {
          "base_uri": "https://localhost:8080/"
        }
      },
      "execution_count": null,
      "outputs": [
        {
          "output_type": "stream",
          "name": "stdout",
          "text": [
            "훈련 데이터의 크기(shape): (10876, 28)\n"
          ]
        }
      ]
    },
    {
      "cell_type": "code",
      "source": [
        "vocab_size = len(word_to_index)\n",
        "print('단어 집합의 크기: {}'.format((vocab_size)))"
      ],
      "metadata": {
        "id": "aK6FhKOrzT7P",
        "outputId": "4d49e1d0-99c2-4dce-fc7c-123a66452e12",
        "colab": {
          "base_uri": "https://localhost:8080/"
        }
      },
      "execution_count": null,
      "outputs": [
        {
          "output_type": "stream",
          "name": "stdout",
          "text": [
            "단어 집합의 크기: 22794\n"
          ]
        }
      ]
    },
    {
      "cell_type": "code",
      "source": [
        "train_data, val_data, train_labels, val_labels = train_test_split(X_train_padded[:df_train.shape[0]], df_train['target'].values, test_size=0.2, random_state=0, stratify=df_train['target'].values)\n",
        "#stratify=df_train['target'].values -> train, test에서 0,1의 비율이 똑같"
      ],
      "metadata": {
        "id": "ipiwXt2xxs17"
      },
      "execution_count": null,
      "outputs": []
    },
    {
      "cell_type": "code",
      "source": [
        "from tensorflow.keras.layers import SimpleRNN, Embedding, Dense, Bidirectional\n",
        "from tensorflow.keras.models import Sequential\n",
        "\n",
        "embedding_dim = 128\n",
        "\n",
        "\n",
        "model = Sequential()\n",
        "model.add(Embedding(vocab_size, embedding_dim))\n",
        "model.add(Bidirectional(tf.keras.layers.LSTM(128,  return_sequences=True)))\n",
        "model.add(Bidirectional(tf.keras.layers.LSTM(64)))\n",
        "model.add(Dense(64, activation='relu'))\n",
        "model.add(Dense(1, activation='sigmoid'))\n",
        "\n",
        "optimzer=Adam(learning_rate=1e-4)\n",
        "\n",
        "model.compile(loss='binary_crossentropy',optimizer=optimzer,metrics=['accuracy'])\n",
        "\n",
        "callbacks_list = [\n",
        "    tf.keras.callbacks.EarlyStopping(\n",
        "        monitor='val_accuracy',                    \n",
        "        patience=5                                 \n",
        "    ),\n",
        "    tf.keras.callbacks.ModelCheckpoint(                \n",
        "        filepath=\"checkpoint_path.keras\",        \n",
        "        monitor='val_accuracy',                          \n",
        "        save_best_only=True,                       \n",
        "        verbose=1                                   \n",
        "    ),\n",
        "    tf.keras.callbacks.ReduceLROnPlateau(\n",
        "        monitor='val_loss',  \n",
        "        factor=0.5,          # callback 호출시 학습률을 1/2로 줄입니다\n",
        "        patience=5,          # epoch 5 동안 개선되지 않으면 callback이 호출됩니다\n",
        ")\n",
        "]\n",
        "\n",
        "\n",
        "history = model.fit(train_data, train_labels, \n",
        "                    validation_data = [val_data, val_labels], \n",
        "                    epochs=50,                           #그래프 보면서 에포크 늘려봤음 \n",
        "                    batch_size=64, \n",
        "                    callbacks = callbacks_list)"
      ],
      "metadata": {
        "id": "rPEKVsfv9ho6",
        "outputId": "fe8f5f3f-88f9-41aa-d204-6708e9102cf7",
        "colab": {
          "base_uri": "https://localhost:8080/"
        }
      },
      "execution_count": null,
      "outputs": [
        {
          "output_type": "stream",
          "name": "stdout",
          "text": [
            "Epoch 1/50\n",
            "96/96 [==============================] - ETA: 0s - loss: 0.6814 - accuracy: 0.5691\n",
            "Epoch 1: val_accuracy improved from -inf to 0.57058, saving model to checkpoint_path.keras\n",
            "96/96 [==============================] - 22s 150ms/step - loss: 0.6814 - accuracy: 0.5691 - val_loss: 0.6716 - val_accuracy: 0.5706 - lr: 1.0000e-04\n",
            "Epoch 2/50\n",
            "96/96 [==============================] - ETA: 0s - loss: 0.6169 - accuracy: 0.6668\n",
            "Epoch 2: val_accuracy improved from 0.57058 to 0.77544, saving model to checkpoint_path.keras\n",
            "96/96 [==============================] - 7s 74ms/step - loss: 0.6169 - accuracy: 0.6668 - val_loss: 0.5235 - val_accuracy: 0.7754 - lr: 1.0000e-04\n",
            "Epoch 3/50\n",
            "96/96 [==============================] - ETA: 0s - loss: 0.3744 - accuracy: 0.8504\n",
            "Epoch 3: val_accuracy improved from 0.77544 to 0.79383, saving model to checkpoint_path.keras\n",
            "96/96 [==============================] - 4s 37ms/step - loss: 0.3744 - accuracy: 0.8504 - val_loss: 0.4772 - val_accuracy: 0.7938 - lr: 1.0000e-04\n",
            "Epoch 4/50\n",
            "96/96 [==============================] - ETA: 0s - loss: 0.2376 - accuracy: 0.9115\n",
            "Epoch 4: val_accuracy improved from 0.79383 to 0.79448, saving model to checkpoint_path.keras\n",
            "96/96 [==============================] - 3s 31ms/step - loss: 0.2376 - accuracy: 0.9115 - val_loss: 0.5376 - val_accuracy: 0.7945 - lr: 1.0000e-04\n",
            "Epoch 5/50\n",
            "96/96 [==============================] - ETA: 0s - loss: 0.1562 - accuracy: 0.9466\n",
            "Epoch 5: val_accuracy did not improve from 0.79448\n",
            "96/96 [==============================] - 2s 18ms/step - loss: 0.1562 - accuracy: 0.9466 - val_loss: 0.6282 - val_accuracy: 0.7800 - lr: 1.0000e-04\n",
            "Epoch 6/50\n",
            "96/96 [==============================] - ETA: 0s - loss: 0.1127 - accuracy: 0.9644\n",
            "Epoch 6: val_accuracy did not improve from 0.79448\n",
            "96/96 [==============================] - 2s 21ms/step - loss: 0.1127 - accuracy: 0.9644 - val_loss: 0.6913 - val_accuracy: 0.7682 - lr: 1.0000e-04\n",
            "Epoch 7/50\n",
            "96/96 [==============================] - ETA: 0s - loss: 0.0926 - accuracy: 0.9732\n",
            "Epoch 7: val_accuracy did not improve from 0.79448\n",
            "96/96 [==============================] - 3s 30ms/step - loss: 0.0926 - accuracy: 0.9732 - val_loss: 0.6907 - val_accuracy: 0.7781 - lr: 1.0000e-04\n",
            "Epoch 8/50\n",
            "96/96 [==============================] - ETA: 0s - loss: 0.0738 - accuracy: 0.9757\n",
            "Epoch 8: val_accuracy did not improve from 0.79448\n",
            "96/96 [==============================] - 2s 17ms/step - loss: 0.0738 - accuracy: 0.9757 - val_loss: 0.7869 - val_accuracy: 0.7682 - lr: 1.0000e-04\n",
            "Epoch 9/50\n",
            "96/96 [==============================] - ETA: 0s - loss: 0.0534 - accuracy: 0.9824\n",
            "Epoch 9: val_accuracy did not improve from 0.79448\n",
            "96/96 [==============================] - 2s 22ms/step - loss: 0.0534 - accuracy: 0.9824 - val_loss: 0.8541 - val_accuracy: 0.7663 - lr: 5.0000e-05\n"
          ]
        }
      ]
    },
    {
      "cell_type": "code",
      "source": [
        "history_dict = history.history\n",
        "history_dict.keys()"
      ],
      "metadata": {
        "outputId": "7213ddb9-02a6-4fc2-bd7b-20aeeb2c5381",
        "colab": {
          "base_uri": "https://localhost:8080/"
        },
        "id": "XHSQdWcw09V2"
      },
      "execution_count": null,
      "outputs": [
        {
          "output_type": "execute_result",
          "data": {
            "text/plain": [
              "dict_keys(['loss', 'accuracy', 'val_loss', 'val_accuracy', 'lr'])"
            ]
          },
          "metadata": {},
          "execution_count": 64
        }
      ]
    },
    {
      "cell_type": "code",
      "source": [
        "history_dict = history.history\n",
        "loss_values = history_dict[\"loss\"]\n",
        "val_loss_values = history_dict[\"val_loss\"]\n",
        "epochs = range(1, len(loss_values) + 1)\n",
        "plt.plot(epochs, loss_values, \"bo\", label=\"Training loss\")\n",
        "plt.plot(epochs, val_loss_values, \"b\", label=\"Validation loss\")\n",
        "plt.title(\"Training and validation loss\")\n",
        "plt.xlabel(\"Epochs\")\n",
        "plt.ylabel(\"Loss\")\n",
        "plt.legend()\n",
        "plt.show()"
      ],
      "metadata": {
        "outputId": "06458219-c109-4d9b-bb2e-69dc39453bd5",
        "colab": {
          "base_uri": "https://localhost:8080/",
          "height": 477
        },
        "id": "l0gEJ7P809V4"
      },
      "execution_count": null,
      "outputs": [
        {
          "output_type": "display_data",
          "data": {
            "text/plain": [
              "<Figure size 640x480 with 1 Axes>"
            ],
            "image/png": "[encoded data removed]"
          },
          "metadata": {}
        }
      ]
    },
    {
      "cell_type": "code",
      "source": [
        "plt.clf()\n",
        "acc = history_dict[\"accuracy\"]\n",
        "val_acc = history_dict[\"val_accuracy\"]\n",
        "plt.plot(epochs, acc, \"bo\", label=\"Training acc\")\n",
        "plt.plot(epochs, val_acc, \"b\", label=\"Validation acc\")\n",
        "plt.title(\"Training and validation accuracy\")\n",
        "plt.xlabel(\"Epochs\")\n",
        "plt.ylabel(\"Accuracy\")\n",
        "plt.legend()\n",
        "plt.show()"
      ],
      "metadata": {
        "outputId": "49ee931a-f9ce-4e29-8e06-d2cc1766916d",
        "colab": {
          "base_uri": "https://localhost:8080/",
          "height": 477
        },
        "id": "WXQqlgrt09V4"
      },
      "execution_count": null,
      "outputs": [
        {
          "output_type": "display_data",
          "data": {
            "text/plain": [
              "<Figure size 640x480 with 1 Axes>"
            ],
            "image/png": "[encoded data removed]"
          },
          "metadata": {}
        }
      ]
    },
    {
      "cell_type": "code",
      "source": [
        "loaded_model = tf.keras.models.load_model('checkpoint_path.keras')\n",
        "predicted = loaded_model.predict(X_train_padded[df_train.shape[0]:])\n",
        "y_predicted = np.where(predicted>0.5,1,0)\n",
        "y_predicted = y_predicted.reshape((1,3263))[0]\n",
        "df_sample['id'] = df_test.id\n",
        "df_sample['target'] = y_predicted\n",
        "df_sample.to_csv('submission.csv',index = False)\n",
        "#리더보드 결과 : "
      ],
      "metadata": {
        "outputId": "db26d70a-faae-44bb-f38f-a50d0a5b480a",
        "colab": {
          "base_uri": "https://localhost:8080/"
        },
        "id": "GEyDDcUr09V5"
      },
      "execution_count": null,
      "outputs": [
        {
          "output_type": "stream",
          "name": "stdout",
          "text": [
            "102/102 [==============================] - 2s 5ms/step\n"
          ]
        }
      ]
    },
    {
      "cell_type": "markdown",
      "source": [
        "# GLOVE"
      ],
      "metadata": {
        "id": "GtXo_job9ZkC"
      }
    },
    {
      "cell_type": "code",
      "source": [
        "def create_corpus(df):\n",
        "    corpus=[]\n",
        "    for tweet in tqdm(df['text']):\n",
        "        words=[word.lower() for word in word_tokenize(tweet) if((word.isalpha()==1) & (word not in stop))]\n",
        "        corpus.append(words)\n",
        "    return corpus"
      ],
      "metadata": {
        "id": "ABinmDVqUeFQ"
      },
      "execution_count": 63,
      "outputs": []
    },
    {
      "cell_type": "code",
      "source": [
        "corpus=create_corpus(df)"
      ],
      "metadata": {
        "colab": {
          "base_uri": "https://localhost:8080/"
        },
        "id": "yOqh8ghvU46G",
        "outputId": "4f73e8d1-7f3d-42d6-8d1f-920c26343cc6"
      },
      "execution_count": 64,
      "outputs": [
        {
          "output_type": "stream",
          "name": "stderr",
          "text": [
            "100%|██████████| 10876/10876 [00:00<00:00, 11093.85it/s]\n"
          ]
        }
      ]
    },
    {
      "cell_type": "code",
      "source": [
        "from urllib.request import urlretrieve, urlopen\n",
        "import gzip\n",
        "import zipfile\n",
        "\n",
        "#pre-trained word embedding download\n",
        "urlretrieve(\"http://nlp.stanford.edu/data/glove.6B.zip\", filename=\"glove.6B.zip\")\n",
        "zf = zipfile.ZipFile('glove.6B.zip')\n",
        "zf.extractall() \n",
        "zf.close()"
      ],
      "metadata": {
        "id": "v5FQpeyuGB-s"
      },
      "execution_count": 65,
      "outputs": []
    },
    {
      "cell_type": "code",
      "source": [
        "embedding_dict = dict()\n",
        "\n",
        "f = open('glove.6B.100d.txt', encoding=\"utf8\")\n",
        "\n",
        "for line in f:\n",
        "    word_vector = line.split()\n",
        "    word = word_vector[0]\n",
        "\n",
        "    #100개의 값을 가지는 array로 변환\n",
        "    word_vector_arr = np.asarray(word_vector[1:], dtype='float32')\n",
        "    embedding_dict[word] = word_vector_arr\n",
        "f.close()\n",
        "\n",
        "print('%s개의 Embedding vector가 있습니다.' % len(embedding_dict))"
      ],
      "metadata": {
        "id": "ueNE__xpGppP",
        "colab": {
          "base_uri": "https://localhost:8080/"
        },
        "outputId": "c1e32cc9-4976-4610-c4a4-bb17c8069eec"
      },
      "execution_count": 66,
      "outputs": [
        {
          "output_type": "stream",
          "name": "stdout",
          "text": [
            "400000개의 Embedding vector가 있습니다.\n"
          ]
        }
      ]
    },
    {
      "cell_type": "code",
      "source": [
        "embedding_dict['described']\n",
        "#임의의 단어의 임베딩 벡터"
      ],
      "metadata": {
        "id": "HjiFhGE8QRdP",
        "colab": {
          "base_uri": "https://localhost:8080/"
        },
        "outputId": "3e87bab1-8073-4b61-960b-70db7757c213"
      },
      "execution_count": 67,
      "outputs": [
        {
          "output_type": "execute_result",
          "data": {
            "text/plain": [
              "array([-0.77675  , -0.39544  , -0.23503  ,  0.12374  , -0.062412 ,\n",
              "        0.16114  ,  0.41224  , -0.1183   , -0.24595  , -0.0042676,\n",
              "       -0.46711  , -0.1773   ,  0.22936  , -0.15351  ,  0.19196  ,\n",
              "        0.3456   ,  0.19291  , -0.48402  , -0.62981  , -0.05973  ,\n",
              "        0.30394  , -0.20145  ,  0.12788  , -0.29756  ,  0.014653 ,\n",
              "       -0.042935 , -0.097113 ,  0.043257 ,  0.02393  ,  0.73688  ,\n",
              "        0.22381  ,  0.18879  , -0.30323  ,  0.012293 ,  0.29425  ,\n",
              "        0.24309  ,  0.048583 ,  0.26707  , -0.056675 , -0.10544  ,\n",
              "       -0.80896  ,  0.23054  ,  0.70457  ,  0.37263  , -0.036724 ,\n",
              "       -0.23211  ,  0.12504  ,  0.044823 , -0.060565 , -0.14451  ,\n",
              "        0.66952  , -0.42189  ,  0.94151  ,  0.78102  , -0.50328  ,\n",
              "       -2.0984   , -0.18119  , -0.18671  ,  0.6576   ,  0.55676  ,\n",
              "       -0.081965 ,  0.61956  , -0.18996  , -0.38323  ,  0.94778  ,\n",
              "       -0.45197  ,  0.62815  ,  0.42958  ,  0.20367  ,  0.18164  ,\n",
              "       -0.2055   ,  0.35146  , -0.19534  , -0.034256 ,  0.2947   ,\n",
              "       -0.23132  ,  0.42717  , -0.19503  , -1.2855   ,  0.012154 ,\n",
              "        0.11264  ,  0.16971  , -0.2398   , -0.14967  , -1.1604   ,\n",
              "       -0.41215  , -0.19192  , -0.53752  , -0.61696  , -0.40836  ,\n",
              "        0.30794  , -0.41041  ,  0.028309 ,  0.25701  ,  0.30928  ,\n",
              "        0.09268  , -1.0273   , -0.74498  , -0.054252 , -0.2868   ],\n",
              "      dtype=float32)"
            ]
          },
          "metadata": {},
          "execution_count": 67
        }
      ]
    },
    {
      "cell_type": "code",
      "source": [
        "print('벡터의 차원 수 :',len(embedding_dict['described']))"
      ],
      "metadata": {
        "id": "MCQKSgUfQs7v",
        "colab": {
          "base_uri": "https://localhost:8080/"
        },
        "outputId": "f4d43576-c9b4-48c5-d41f-746808f4f3c7"
      },
      "execution_count": 68,
      "outputs": [
        {
          "output_type": "stream",
          "name": "stdout",
          "text": [
            "벡터의 차원 수 : 100\n"
          ]
        }
      ]
    },
    {
      "cell_type": "code",
      "source": [
        "MAX_LEN=28\n",
        "tokenizer_obj=Tokenizer()\n",
        "tokenizer_obj.fit_on_texts(corpus)\n",
        "\n",
        "sequences=tokenizer_obj.texts_to_sequences(corpus)\n",
        "\n",
        "pad=pad_sequences(sequences,maxlen=MAX_LEN,truncating='post',padding='post')"
      ],
      "metadata": {
        "id": "9WaYXIM7VMSm"
      },
      "execution_count": 69,
      "outputs": []
    },
    {
      "cell_type": "code",
      "source": [
        "word_index=tokenizer_obj.word_index\n",
        "print('Number of unique words:',len(word_index))"
      ],
      "metadata": {
        "id": "qRgAwpWlVPqT",
        "colab": {
          "base_uri": "https://localhost:8080/"
        },
        "outputId": "9f563ef3-111c-4834-f4b5-c8828775fb87"
      },
      "execution_count": 70,
      "outputs": [
        {
          "output_type": "stream",
          "name": "stdout",
          "text": [
            "Number of unique words: 20342\n"
          ]
        }
      ]
    },
    {
      "cell_type": "code",
      "source": [
        "num_words=len(word_index)\n",
        "print(num_words)"
      ],
      "metadata": {
        "id": "yZJBPJQlXPXW",
        "colab": {
          "base_uri": "https://localhost:8080/"
        },
        "outputId": "cb0ae774-cefb-49db-947a-6417b6194381"
      },
      "execution_count": 71,
      "outputs": [
        {
          "output_type": "stream",
          "name": "stdout",
          "text": [
            "20342\n"
          ]
        }
      ]
    },
    {
      "cell_type": "code",
      "source": [
        "embedding_matrix = np.zeros((num_words, 100))"
      ],
      "metadata": {
        "id": "ORI44SDXXuE1"
      },
      "execution_count": 72,
      "outputs": []
    },
    {
      "cell_type": "code",
      "source": [
        "for word,i in tqdm(word_index.items()):\n",
        "    if i > num_words:\n",
        "        continue\n",
        "    emb_vec=embedding_dict.get(word)\n",
        "    if emb_vec is not None:\n",
        "        embedding_matrix[i]=emb_vec"
      ],
      "metadata": {
        "id": "lspV0kZybNXo",
        "colab": {
          "base_uri": "https://localhost:8080/"
        },
        "outputId": "790bead1-0f45-43e4-f933-0a0d54e8d938"
      },
      "execution_count": 73,
      "outputs": [
        {
          "output_type": "stream",
          "name": "stderr",
          "text": [
            "100%|██████████| 20342/20342 [00:00<00:00, 610225.66it/s]\n"
          ]
        }
      ]
    },
    {
      "cell_type": "code",
      "source": [
        "embedding_matrix.shape"
      ],
      "metadata": {
        "id": "WwwjJ67-bhgI",
        "colab": {
          "base_uri": "https://localhost:8080/"
        },
        "outputId": "d9f891dd-a192-42a1-e94a-fc88fa809c61"
      },
      "execution_count": 74,
      "outputs": [
        {
          "output_type": "execute_result",
          "data": {
            "text/plain": [
              "(20342, 100)"
            ]
          },
          "metadata": {},
          "execution_count": 74
        }
      ]
    },
    {
      "cell_type": "code",
      "source": [
        "pad[0][0:]"
      ],
      "metadata": {
        "id": "FUYE4calOFaM",
        "colab": {
          "base_uri": "https://localhost:8080/"
        },
        "outputId": "62c4c6fe-54b7-4806-aec0-c59bc9501576"
      },
      "execution_count": 75,
      "outputs": [
        {
          "output_type": "execute_result",
          "data": {
            "text/plain": [
              "array([ 622, 5467,  738,  175,   80, 1805, 3529,   16,    0,    0,    0,\n",
              "          0,    0,    0,    0,    0,    0,    0,    0,    0,    0,    0,\n",
              "          0,    0,    0,    0,    0,    0], dtype=int32)"
            ]
          },
          "metadata": {},
          "execution_count": 75
        }
      ]
    },
    {
      "cell_type": "code",
      "source": [
        "from tensorflow.keras.layers import SimpleRNN, Embedding, Dense, Bidirectional\n",
        "from tensorflow.keras.models import Sequential\n",
        "\n",
        "model=Sequential()\n",
        "\n",
        "output_dim = 100\n",
        "embedding=Embedding(num_words,output_dim,embeddings_initializer=Constant(embedding_matrix),\n",
        "                   input_length=MAX_LEN,trainable=False)\n",
        "\n",
        "model.add(embedding)\n",
        "model.add(Bidirectional(tf.keras.layers.LSTM(128,  return_sequences=True)))\n",
        "model.add(Bidirectional(tf.keras.layers.LSTM(64)))\n",
        "model.add(Dense(64, activation='relu'))\n",
        "model.add(Dense(1, activation='sigmoid'))\n",
        "\n",
        "optimzer=Adam(learning_rate=1e-5)\n",
        "\n",
        "model.compile(loss='binary_crossentropy',optimizer=optimzer,metrics=['accuracy'])\n",
        "\n",
        "callbacks_list = [\n",
        "    tf.keras.callbacks.EarlyStopping(\n",
        "        monitor='val_accuracy',                    \n",
        "        patience=10                                 \n",
        "    ),\n",
        "    tf.keras.callbacks.ModelCheckpoint(                \n",
        "        filepath=\"checkpoint_path.keras\",        \n",
        "        monitor='val_accuracy',                          \n",
        "        save_best_only=True,                       \n",
        "        verbose=1                                   \n",
        "    ),\n",
        "    tf.keras.callbacks.ReduceLROnPlateau(\n",
        "        monitor='val_loss',  \n",
        "        factor=0.5,          # callback 호출시 학습률을 1/2로 줄입니다\n",
        "        patience=5,          # epoch 5 동안 개선되지 않으면 callback이 호출됩니다\n",
        ")\n",
        "]"
      ],
      "metadata": {
        "id": "SrgvMwsNkK_t"
      },
      "execution_count": 76,
      "outputs": []
    },
    {
      "cell_type": "code",
      "source": [
        "model.summary()"
      ],
      "metadata": {
        "id": "8T1Wnr5dlh7K",
        "colab": {
          "base_uri": "https://localhost:8080/"
        },
        "outputId": "ddcb71a2-6ae4-408f-e754-d8e2b87e3614"
      },
      "execution_count": 77,
      "outputs": [
        {
          "output_type": "stream",
          "name": "stdout",
          "text": [
            "Model: \"sequential\"\n",
            "_________________________________________________________________\n",
            " Layer (type)                Output Shape              Param #   \n",
            "=================================================================\n",
            " embedding (Embedding)       (None, 28, 100)           2034200   \n",
            "                                                                 \n",
            " bidirectional (Bidirectiona  (None, 28, 256)          234496    \n",
            " l)                                                              \n",
            "                                                                 \n",
            " bidirectional_1 (Bidirectio  (None, 128)              164352    \n",
            " nal)                                                            \n",
            "                                                                 \n",
            " dense_2 (Dense)             (None, 64)                8256      \n",
            "                                                                 \n",
            " dense_3 (Dense)             (None, 1)                 65        \n",
            "                                                                 \n",
            "=================================================================\n",
            "Total params: 2,441,369\n",
            "Trainable params: 407,169\n",
            "Non-trainable params: 2,034,200\n",
            "_________________________________________________________________\n"
          ]
        }
      ]
    },
    {
      "cell_type": "code",
      "source": [
        "train_data, val_data, train_labels, val_labels = train_test_split(pad[:df_train.shape[0]], df_train['target'].values, test_size=0.2, stratify=df_train['target'].values, random_state=10)\n",
        "\n",
        "print('Shape of train',train_data.shape)\n",
        "print(\"Shape of Validation \",val_data.shape)"
      ],
      "metadata": {
        "id": "lZ2X2bCKn_H2",
        "colab": {
          "base_uri": "https://localhost:8080/"
        },
        "outputId": "0da8daab-fe4f-4abc-d08e-76e3e9039f6d"
      },
      "execution_count": 78,
      "outputs": [
        {
          "output_type": "stream",
          "name": "stdout",
          "text": [
            "Shape of train (6090, 28)\n",
            "Shape of Validation  (1523, 28)\n"
          ]
        }
      ]
    },
    {
      "cell_type": "code",
      "source": [
        "history = model.fit(train_data, train_labels, \n",
        "                    validation_data = [val_data, val_labels], \n",
        "                    epochs=50,                           #그래프 보면서 에포크 늘려봤음 \n",
        "                    batch_size=64, \n",
        "                    callbacks = callbacks_list)"
      ],
      "metadata": {
        "id": "0j5aWhEKpLVl",
        "colab": {
          "base_uri": "https://localhost:8080/"
        },
        "outputId": "c23d6578-c62d-4dfa-8964-581b918f0f54"
      },
      "execution_count": 79,
      "outputs": [
        {
          "output_type": "stream",
          "name": "stdout",
          "text": [
            "Epoch 1/50\n",
            "95/96 [============================>.] - ETA: 0s - loss: 0.6852 - accuracy: 0.5992\n",
            "Epoch 1: val_accuracy improved from -inf to 0.62640, saving model to checkpoint_path.keras\n",
            "96/96 [==============================] - 13s 40ms/step - loss: 0.6852 - accuracy: 0.5995 - val_loss: 0.6762 - val_accuracy: 0.6264 - lr: 1.0000e-05\n",
            "Epoch 2/50\n",
            "93/96 [============================>.] - ETA: 0s - loss: 0.6672 - accuracy: 0.6428\n",
            "Epoch 2: val_accuracy improved from 0.62640 to 0.67892, saving model to checkpoint_path.keras\n",
            "96/96 [==============================] - 3s 33ms/step - loss: 0.6667 - accuracy: 0.6448 - val_loss: 0.6564 - val_accuracy: 0.6789 - lr: 1.0000e-05\n",
            "Epoch 3/50\n",
            "93/96 [============================>.] - ETA: 0s - loss: 0.6446 - accuracy: 0.7016\n",
            "Epoch 3: val_accuracy improved from 0.67892 to 0.74590, saving model to checkpoint_path.keras\n",
            "96/96 [==============================] - 3s 29ms/step - loss: 0.6438 - accuracy: 0.7028 - val_loss: 0.6296 - val_accuracy: 0.7459 - lr: 1.0000e-05\n",
            "Epoch 4/50\n",
            "92/96 [===========================>..] - ETA: 0s - loss: 0.6146 - accuracy: 0.7524\n",
            "Epoch 4: val_accuracy improved from 0.74590 to 0.77150, saving model to checkpoint_path.keras\n",
            "96/96 [==============================] - 2s 25ms/step - loss: 0.6134 - accuracy: 0.7542 - val_loss: 0.5951 - val_accuracy: 0.7715 - lr: 1.0000e-05\n",
            "Epoch 5/50\n",
            "95/96 [============================>.] - ETA: 0s - loss: 0.5763 - accuracy: 0.7760\n",
            "Epoch 5: val_accuracy improved from 0.77150 to 0.78661, saving model to checkpoint_path.keras\n",
            "96/96 [==============================] - 2s 25ms/step - loss: 0.5764 - accuracy: 0.7757 - val_loss: 0.5550 - val_accuracy: 0.7866 - lr: 1.0000e-05\n",
            "Epoch 6/50\n",
            "95/96 [============================>.] - ETA: 0s - loss: 0.5368 - accuracy: 0.7817\n",
            "Epoch 6: val_accuracy improved from 0.78661 to 0.79251, saving model to checkpoint_path.keras\n",
            "96/96 [==============================] - 3s 33ms/step - loss: 0.5365 - accuracy: 0.7821 - val_loss: 0.5160 - val_accuracy: 0.7925 - lr: 1.0000e-05\n",
            "Epoch 7/50\n",
            "96/96 [==============================] - ETA: 0s - loss: 0.5034 - accuracy: 0.7885\n",
            "Epoch 7: val_accuracy improved from 0.79251 to 0.79777, saving model to checkpoint_path.keras\n",
            "96/96 [==============================] - 4s 38ms/step - loss: 0.5034 - accuracy: 0.7885 - val_loss: 0.4901 - val_accuracy: 0.7978 - lr: 1.0000e-05\n",
            "Epoch 8/50\n",
            "96/96 [==============================] - ETA: 0s - loss: 0.4840 - accuracy: 0.7939\n",
            "Epoch 8: val_accuracy did not improve from 0.79777\n",
            "96/96 [==============================] - 1s 13ms/step - loss: 0.4840 - accuracy: 0.7939 - val_loss: 0.4756 - val_accuracy: 0.7978 - lr: 1.0000e-05\n",
            "Epoch 9/50\n",
            "95/96 [============================>.] - ETA: 0s - loss: 0.4731 - accuracy: 0.7993\n",
            "Epoch 9: val_accuracy did not improve from 0.79777\n",
            "96/96 [==============================] - 1s 13ms/step - loss: 0.4731 - accuracy: 0.7993 - val_loss: 0.4669 - val_accuracy: 0.7978 - lr: 1.0000e-05\n",
            "Epoch 10/50\n",
            "96/96 [==============================] - ETA: 0s - loss: 0.4656 - accuracy: 0.7989\n",
            "Epoch 10: val_accuracy improved from 0.79777 to 0.80171, saving model to checkpoint_path.keras\n",
            "96/96 [==============================] - 2s 25ms/step - loss: 0.4656 - accuracy: 0.7989 - val_loss: 0.4599 - val_accuracy: 0.8017 - lr: 1.0000e-05\n",
            "Epoch 11/50\n",
            "92/96 [===========================>..] - ETA: 0s - loss: 0.4571 - accuracy: 0.8028\n",
            "Epoch 11: val_accuracy did not improve from 0.80171\n",
            "96/96 [==============================] - 1s 12ms/step - loss: 0.4589 - accuracy: 0.8008 - val_loss: 0.4551 - val_accuracy: 0.8017 - lr: 1.0000e-05\n",
            "Epoch 12/50\n",
            "95/96 [============================>.] - ETA: 0s - loss: 0.4540 - accuracy: 0.8038\n",
            "Epoch 12: val_accuracy improved from 0.80171 to 0.80565, saving model to checkpoint_path.keras\n",
            "96/96 [==============================] - 2s 25ms/step - loss: 0.4541 - accuracy: 0.8038 - val_loss: 0.4508 - val_accuracy: 0.8056 - lr: 1.0000e-05\n",
            "Epoch 13/50\n",
            "92/96 [===========================>..] - ETA: 0s - loss: 0.4493 - accuracy: 0.8045\n",
            "Epoch 13: val_accuracy improved from 0.80565 to 0.80893, saving model to checkpoint_path.keras\n",
            "96/96 [==============================] - 3s 33ms/step - loss: 0.4498 - accuracy: 0.8043 - val_loss: 0.4476 - val_accuracy: 0.8089 - lr: 1.0000e-05\n",
            "Epoch 14/50\n",
            "94/96 [============================>.] - ETA: 0s - loss: 0.4458 - accuracy: 0.8077\n",
            "Epoch 14: val_accuracy improved from 0.80893 to 0.81156, saving model to checkpoint_path.keras\n",
            "96/96 [==============================] - 3s 28ms/step - loss: 0.4463 - accuracy: 0.8071 - val_loss: 0.4452 - val_accuracy: 0.8116 - lr: 1.0000e-05\n",
            "Epoch 15/50\n",
            "93/96 [============================>.] - ETA: 0s - loss: 0.4437 - accuracy: 0.8073\n",
            "Epoch 15: val_accuracy did not improve from 0.81156\n",
            "96/96 [==============================] - 1s 12ms/step - loss: 0.4437 - accuracy: 0.8071 - val_loss: 0.4424 - val_accuracy: 0.8096 - lr: 1.0000e-05\n",
            "Epoch 16/50\n",
            "95/96 [============================>.] - ETA: 0s - loss: 0.4407 - accuracy: 0.8086\n",
            "Epoch 16: val_accuracy improved from 0.81156 to 0.81221, saving model to checkpoint_path.keras\n",
            "96/96 [==============================] - 2s 25ms/step - loss: 0.4408 - accuracy: 0.8082 - val_loss: 0.4397 - val_accuracy: 0.8122 - lr: 1.0000e-05\n",
            "Epoch 17/50\n",
            "95/96 [============================>.] - ETA: 0s - loss: 0.4390 - accuracy: 0.8087\n",
            "Epoch 17: val_accuracy did not improve from 0.81221\n",
            "96/96 [==============================] - 1s 13ms/step - loss: 0.4388 - accuracy: 0.8087 - val_loss: 0.4378 - val_accuracy: 0.8109 - lr: 1.0000e-05\n",
            "Epoch 18/50\n",
            "95/96 [============================>.] - ETA: 0s - loss: 0.4367 - accuracy: 0.8094\n",
            "Epoch 18: val_accuracy improved from 0.81221 to 0.81287, saving model to checkpoint_path.keras\n",
            "96/96 [==============================] - 2s 25ms/step - loss: 0.4364 - accuracy: 0.8095 - val_loss: 0.4374 - val_accuracy: 0.8129 - lr: 1.0000e-05\n",
            "Epoch 19/50\n",
            "92/96 [===========================>..] - ETA: 0s - loss: 0.4332 - accuracy: 0.8098\n",
            "Epoch 19: val_accuracy did not improve from 0.81287\n",
            "96/96 [==============================] - 1s 13ms/step - loss: 0.4343 - accuracy: 0.8097 - val_loss: 0.4351 - val_accuracy: 0.8102 - lr: 1.0000e-05\n",
            "Epoch 20/50\n",
            "94/96 [============================>.] - ETA: 0s - loss: 0.4327 - accuracy: 0.8100\n",
            "Epoch 20: val_accuracy did not improve from 0.81287\n",
            "96/96 [==============================] - 2s 17ms/step - loss: 0.4326 - accuracy: 0.8100 - val_loss: 0.4341 - val_accuracy: 0.8089 - lr: 1.0000e-05\n",
            "Epoch 21/50\n",
            "94/96 [============================>.] - ETA: 0s - loss: 0.4317 - accuracy: 0.8113\n",
            "Epoch 21: val_accuracy did not improve from 0.81287\n",
            "96/96 [==============================] - 1s 16ms/step - loss: 0.4311 - accuracy: 0.8115 - val_loss: 0.4331 - val_accuracy: 0.8076 - lr: 1.0000e-05\n",
            "Epoch 22/50\n",
            "96/96 [==============================] - ETA: 0s - loss: 0.4301 - accuracy: 0.8122\n",
            "Epoch 22: val_accuracy did not improve from 0.81287\n",
            "96/96 [==============================] - 1s 12ms/step - loss: 0.4301 - accuracy: 0.8122 - val_loss: 0.4324 - val_accuracy: 0.8070 - lr: 1.0000e-05\n",
            "Epoch 23/50\n",
            "93/96 [============================>.] - ETA: 0s - loss: 0.4292 - accuracy: 0.8103\n",
            "Epoch 23: val_accuracy did not improve from 0.81287\n",
            "96/96 [==============================] - 1s 12ms/step - loss: 0.4288 - accuracy: 0.8112 - val_loss: 0.4319 - val_accuracy: 0.8102 - lr: 1.0000e-05\n",
            "Epoch 24/50\n",
            "94/96 [============================>.] - ETA: 0s - loss: 0.4273 - accuracy: 0.8132\n",
            "Epoch 24: val_accuracy did not improve from 0.81287\n",
            "96/96 [==============================] - 1s 12ms/step - loss: 0.4272 - accuracy: 0.8130 - val_loss: 0.4312 - val_accuracy: 0.8109 - lr: 1.0000e-05\n",
            "Epoch 25/50\n",
            "96/96 [==============================] - ETA: 0s - loss: 0.4261 - accuracy: 0.8130\n",
            "Epoch 25: val_accuracy did not improve from 0.81287\n",
            "96/96 [==============================] - 1s 12ms/step - loss: 0.4261 - accuracy: 0.8130 - val_loss: 0.4307 - val_accuracy: 0.8129 - lr: 1.0000e-05\n",
            "Epoch 26/50\n",
            "95/96 [============================>.] - ETA: 0s - loss: 0.4247 - accuracy: 0.8140\n",
            "Epoch 26: val_accuracy did not improve from 0.81287\n",
            "96/96 [==============================] - 1s 13ms/step - loss: 0.4248 - accuracy: 0.8140 - val_loss: 0.4296 - val_accuracy: 0.8109 - lr: 1.0000e-05\n",
            "Epoch 27/50\n",
            "94/96 [============================>.] - ETA: 0s - loss: 0.4249 - accuracy: 0.8132\n",
            "Epoch 27: val_accuracy did not improve from 0.81287\n",
            "96/96 [==============================] - 1s 13ms/step - loss: 0.4240 - accuracy: 0.8135 - val_loss: 0.4302 - val_accuracy: 0.8083 - lr: 1.0000e-05\n",
            "Epoch 28/50\n",
            "96/96 [==============================] - ETA: 0s - loss: 0.4226 - accuracy: 0.8146\n",
            "Epoch 28: val_accuracy did not improve from 0.81287\n",
            "96/96 [==============================] - 1s 12ms/step - loss: 0.4226 - accuracy: 0.8146 - val_loss: 0.4290 - val_accuracy: 0.8096 - lr: 1.0000e-05\n"
          ]
        }
      ]
    },
    {
      "cell_type": "code",
      "source": [
        "history_dict = history.history\n",
        "history_dict.keys()"
      ],
      "metadata": {
        "outputId": "214c0a17-7b11-4b0b-bc04-dd55f6c51cad",
        "colab": {
          "base_uri": "https://localhost:8080/"
        },
        "id": "7mF8E3LpmEer"
      },
      "execution_count": 80,
      "outputs": [
        {
          "output_type": "execute_result",
          "data": {
            "text/plain": [
              "dict_keys(['loss', 'accuracy', 'val_loss', 'val_accuracy', 'lr'])"
            ]
          },
          "metadata": {},
          "execution_count": 80
        }
      ]
    },
    {
      "cell_type": "code",
      "source": [
        "history_dict = history.history\n",
        "loss_values = history_dict[\"loss\"]\n",
        "val_loss_values = history_dict[\"val_loss\"]\n",
        "epochs = range(1, len(loss_values) + 1)\n",
        "plt.plot(epochs, loss_values, \"bo\", label=\"Training loss\")\n",
        "plt.plot(epochs, val_loss_values, \"b\", label=\"Validation loss\")\n",
        "plt.title(\"Training and validation loss\")\n",
        "plt.xlabel(\"Epochs\")\n",
        "plt.ylabel(\"Loss\")\n",
        "plt.legend()\n",
        "plt.show()"
      ],
      "metadata": {
        "outputId": "322abb7e-281d-4f90-a2bf-c3c27c9ea100",
        "colab": {
          "base_uri": "https://localhost:8080/",
          "height": 477
        },
        "id": "IgXU2TX-mEes"
      },
      "execution_count": 81,
      "outputs": [
        {
          "output_type": "display_data",
          "data": {
            "text/plain": [
              "<Figure size 640x480 with 1 Axes>"
            ],
            "image/png": "[encoded data removed]"
          },
          "metadata": {}
        }
      ]
    },
    {
      "cell_type": "code",
      "source": [
        "plt.clf()\n",
        "acc = history_dict[\"accuracy\"]\n",
        "val_acc = history_dict[\"val_accuracy\"]\n",
        "plt.plot(epochs, acc, \"bo\", label=\"Training acc\")\n",
        "plt.plot(epochs, val_acc, \"b\", label=\"Validation acc\")\n",
        "plt.title(\"Training and validation accuracy\")\n",
        "plt.xlabel(\"Epochs\")\n",
        "plt.ylabel(\"Accuracy\")\n",
        "plt.legend()\n",
        "plt.show()"
      ],
      "metadata": {
        "outputId": "b46330d3-c9b3-40ae-a073-f426c897d0fc",
        "colab": {
          "base_uri": "https://localhost:8080/",
          "height": 477
        },
        "id": "KHEE1LdumEet"
      },
      "execution_count": 82,
      "outputs": [
        {
          "output_type": "display_data",
          "data": {
            "text/plain": [
              "<Figure size 640x480 with 1 Axes>"
            ],
            "image/png": "[encoded data removed]"
          },
          "metadata": {}
        }
      ]
    },
    {
      "cell_type": "code",
      "source": [
        "loaded_model = tf.keras.models.load_model('checkpoint_path.keras')\n",
        "predicted = loaded_model.predict(pad[df_train.shape[0]:])\n",
        "y_predicted = np.where(predicted>0.5,1,0)\n",
        "y_predicted = y_predicted.reshape((1,3263))[0]\n",
        "df_sample['id'] = df_test.id\n",
        "df_sample['target'] = y_predicted\n",
        "df_sample.to_csv('submission.csv',index = False)\n",
        "#리더보드 결과 : 0.79098"
      ],
      "metadata": {
        "id": "U2T_gXAwQoX8",
        "colab": {
          "base_uri": "https://localhost:8080/"
        },
        "outputId": "a4b612ad-59c5-45e9-bbf9-844f9e3fe8be"
      },
      "execution_count": 83,
      "outputs": [
        {
          "output_type": "stream",
          "name": "stdout",
          "text": [
            "102/102 [==============================] - 2s 5ms/step\n"
          ]
        }
      ]
    },
    {
      "cell_type": "code",
      "source": [
        "b = df_sample['target']"
      ],
      "metadata": {
        "id": "bXrk1URWhel0"
      },
      "execution_count": 84,
      "outputs": []
    },
    {
      "cell_type": "code",
      "source": [
        "b"
      ],
      "metadata": {
        "id": "d2Bwoddshhvm",
        "outputId": "0efc84b8-0602-46ff-e300-def44b17cb60",
        "colab": {
          "base_uri": "https://localhost:8080/"
        }
      },
      "execution_count": 85,
      "outputs": [
        {
          "output_type": "execute_result",
          "data": {
            "text/plain": [
              "0       1\n",
              "1       1\n",
              "2       1\n",
              "3       1\n",
              "4       1\n",
              "       ..\n",
              "3258    1\n",
              "3259    1\n",
              "3260    1\n",
              "3261    1\n",
              "3262    0\n",
              "Name: target, Length: 3263, dtype: int64"
            ]
          },
          "metadata": {},
          "execution_count": 85
        }
      ]
    },
    {
      "cell_type": "markdown",
      "source": [
        "# BERT"
      ],
      "metadata": {
        "id": "QsTn9g1b9ac4"
      }
    },
    {
      "cell_type": "code",
      "source": [
        "max_length = max([len(sent.split()) for sent in df.text ])\n",
        "print(max_length)"
      ],
      "metadata": {
        "colab": {
          "base_uri": "https://localhost:8080/"
        },
        "id": "jvnYvpV_ifRP",
        "outputId": "f51d9772-6430-4eca-e75d-163f0199bd7c"
      },
      "execution_count": 86,
      "outputs": [
        {
          "output_type": "stream",
          "name": "stdout",
          "text": [
            "28\n"
          ]
        }
      ]
    },
    {
      "cell_type": "code",
      "source": [
        "!pip install transformers"
      ],
      "metadata": {
        "id": "ZoJP4Vo_r6Yc",
        "outputId": "fab8161f-4f0c-4b5c-8d39-e73c417e3418",
        "colab": {
          "base_uri": "https://localhost:8080/"
        }
      },
      "execution_count": 87,
      "outputs": [
        {
          "output_type": "stream",
          "name": "stdout",
          "text": [
            "Looking in indexes: https://pypi.org/simple, https://us-python.pkg.dev/colab-wheels/public/simple/\n",
            "Collecting transformers\n",
            "  Downloading transformers-4.29.2-py3-none-any.whl (7.1 MB)\n",
            "\u001b[2K     \u001b[90m━━━━━━━━━━━━━━━━━━━━━━━━━━━━━━━━━━━━━━━━\u001b[0m \u001b[32m7.1/7.1 MB\u001b[0m \u001b[31m31.3 MB/s\u001b[0m eta \u001b[36m0:00:00\u001b[0m\n",
            "\u001b[?25hRequirement already satisfied: filelock in /usr/local/lib/python3.10/dist-packages (from transformers) (3.12.0)\n",
            "Collecting huggingface-hub<1.0,>=0.14.1 (from transformers)\n",
            "  Downloading huggingface_hub-0.15.1-py3-none-any.whl (236 kB)\n",
            "\u001b[2K     \u001b[90m━━━━━━━━━━━━━━━━━━━━━━━━━━━━━━━━━━━━━━\u001b[0m \u001b[32m236.8/236.8 kB\u001b[0m \u001b[31m26.7 MB/s\u001b[0m eta \u001b[36m0:00:00\u001b[0m\n",
            "\u001b[?25hRequirement already satisfied: numpy>=1.17 in /usr/local/lib/python3.10/dist-packages (from transformers) (1.22.4)\n",
            "Requirement already satisfied: packaging>=20.0 in /usr/local/lib/python3.10/dist-packages (from transformers) (23.1)\n",
            "Requirement already satisfied: pyyaml>=5.1 in /usr/local/lib/python3.10/dist-packages (from transformers) (6.0)\n",
            "Requirement already satisfied: regex!=2019.12.17 in /usr/local/lib/python3.10/dist-packages (from transformers) (2022.10.31)\n",
            "Requirement already satisfied: requests in /usr/local/lib/python3.10/dist-packages (from transformers) (2.27.1)\n",
            "Collecting tokenizers!=0.11.3,<0.14,>=0.11.1 (from transformers)\n",
            "  Downloading tokenizers-0.13.3-cp310-cp310-manylinux_2_17_x86_64.manylinux2014_x86_64.whl (7.8 MB)\n",
            "\u001b[2K     \u001b[90m━━━━━━━━━━━━━━━━━━━━━━━━━━━━━━━━━━━━━━━━\u001b[0m \u001b[32m7.8/7.8 MB\u001b[0m \u001b[31m73.4 MB/s\u001b[0m eta \u001b[36m0:00:00\u001b[0m\n",
            "\u001b[?25hRequirement already satisfied: tqdm>=4.27 in /usr/local/lib/python3.10/dist-packages (from transformers) (4.65.0)\n",
            "Requirement already satisfied: fsspec in /usr/local/lib/python3.10/dist-packages (from huggingface-hub<1.0,>=0.14.1->transformers) (2023.4.0)\n",
            "Requirement already satisfied: typing-extensions>=3.7.4.3 in /usr/local/lib/python3.10/dist-packages (from huggingface-hub<1.0,>=0.14.1->transformers) (4.5.0)\n",
            "Requirement already satisfied: urllib3<1.27,>=1.21.1 in /usr/local/lib/python3.10/dist-packages (from requests->transformers) (1.26.15)\n",
            "Requirement already satisfied: certifi>=2017.4.17 in /usr/local/lib/python3.10/dist-packages (from requests->transformers) (2022.12.7)\n",
            "Requirement already satisfied: charset-normalizer~=2.0.0 in /usr/local/lib/python3.10/dist-packages (from requests->transformers) (2.0.12)\n",
            "Requirement already satisfied: idna<4,>=2.5 in /usr/local/lib/python3.10/dist-packages (from requests->transformers) (3.4)\n",
            "Installing collected packages: tokenizers, huggingface-hub, transformers\n",
            "Successfully installed huggingface-hub-0.15.1 tokenizers-0.13.3 transformers-4.29.2\n"
          ]
        }
      ]
    },
    {
      "cell_type": "code",
      "source": [
        "from transformers import AutoTokenizer, TFBertModel\n",
        "tokenizer = AutoTokenizer.from_pretrained('bert-base-uncased')\n",
        "bert = TFBertModel.from_pretrained('bert-base-uncased')"
      ],
      "metadata": {
        "id": "HnCf0kAgryyx",
        "outputId": "d0fed7c9-ef6b-4154-f67f-1ba830f7058d",
        "colab": {
          "base_uri": "https://localhost:8080/",
          "height": 289,
          "referenced_widgets": [
            "7010ee5a7cf847cf875bb379cb7d66ce",
            "c182d35a48634125ade2c7b163234de2",
            "713ab0ba17784d4495f2222ab374a538",
            "6b72c42ea30e442e93c801e0189372c4",
            "baf8bf85a9c540d792c16edd1c7ca5b0",
            "2b542b0d03dd4cff831311cb99e6b4bc",
            "6c07ff1c37874d1ab99abee09f1da268",
            "524147e4a71b417ca231fbf9939148d8",
            "d8073905a836445dbfa8766a14ee0457",
            "44ba70fbcaeb466e854bf4febdc287bc",
            "ab8f1f794aa24d8ea25609010b80dda1",
            "2317d372a72b43c0a902ea75bf2dfb3a",
            "170bc3828ab7462e9ab9b470c87b36d5",
            "8499fe8fb2f8471990bb1921649bbe1b",
            "9378782328a04d8ab001ed70494d9f6c",
            "899887b121424a1b87c2f6a15b7ec608",
            "73cfafdbaff04e8082d1f667aca79b15",
            "f1e6804ab7484783832fa34a3a5158ea",
            "63a6e1c76f5b492cbdfd93684b16caea",
            "a94425b7b11d4e0eb504a6b1d897da12",
            "a9aeca2a8034455bb96d252a9e8e12ee",
            "7d8a792307bf4dd4b83138df2b6fe10c",
            "41d721a962514a658466b986d6427518",
            "6d685d1b259c4f099ac62048630b0c73",
            "32af59de14eb40008775966c2b617f89",
            "d7fca1b68a2448699e2004dfe8a80910",
            "b467cafe7e95421f8a38291e1e1a71ec",
            "0bc0fc602a684f629cf17aed07e17573",
            "b58518323da941e0b620d0ef96308e26",
            "0e059c18db8d42188bb702c79c8fa057",
            "7d99070529dd41d290c80d0999ba1f7e",
            "0af9398c0af44281b67462fb9fc077ff",
            "5a214132875242cfaad90d00d9de130f",
            "f8cdaa5fe8c745f8b3e183148b2a5697",
            "942ddd36b3d847c6949f693600950d93",
            "14af3b615b9b4cdda85ac914e038bfe4",
            "9e503cd2749f42c68c71e1697822126f",
            "a309bc91db4f4fb7be653b509af7612b",
            "e55ef77a2d45493ba0c98b1e947e3995",
            "1c6097696f234e8b8cec3c1a865d80e5",
            "200b31ea63a0496b9f65f5f87010c406",
            "8e40100e6f02467680b4972c6ac7b6fb",
            "e6ebfdb9b5df4814998a19f196e05070",
            "c90447d71bd940d386a177fdb5aec71d",
            "9e45540985114013ac152ffd8b73b1e9",
            "971a8e17f1b94120a8602d0818357bbb",
            "550e0c8d27d44660b540015050551cc8",
            "c52b65f432dc464f8de8dfeeed7fd97f",
            "54dccd6d43f04332a008e1c12b52d01d",
            "4c60d73fe29c4262a5c0320eec848daf",
            "bbef66a1ea60409489e09f7f06fb297e",
            "a1701ef32a89478b87d0310e4ef9fb16",
            "9625557407fd46bc8d7fef70e14d76b6",
            "3494b36e6b15466295489c0926d45837",
            "28d49a7e16cf4d4699e14f4f16cb0c84"
          ]
        }
      },
      "execution_count": 88,
      "outputs": [
        {
          "output_type": "display_data",
          "data": {
            "text/plain": [
              "Downloading (…)okenizer_config.json:   0%|          | 0.00/28.0 [00:00<?, ?B/s]"
            ],
            "application/vnd.jupyter.widget-view+json": {
              "version_major": 2,
              "version_minor": 0,
              "model_id": "7010ee5a7cf847cf875bb379cb7d66ce"
            }
          },
          "metadata": {}
        },
        {
          "output_type": "display_data",
          "data": {
            "text/plain": [
              "Downloading (…)lve/main/config.json:   0%|          | 0.00/570 [00:00<?, ?B/s]"
            ],
            "application/vnd.jupyter.widget-view+json": {
              "version_major": 2,
              "version_minor": 0,
              "model_id": "2317d372a72b43c0a902ea75bf2dfb3a"
            }
          },
          "metadata": {}
        },
        {
          "output_type": "display_data",
          "data": {
            "text/plain": [
              "Downloading (…)solve/main/vocab.txt:   0%|          | 0.00/232k [00:00<?, ?B/s]"
            ],
            "application/vnd.jupyter.widget-view+json": {
              "version_major": 2,
              "version_minor": 0,
              "model_id": "41d721a962514a658466b986d6427518"
            }
          },
          "metadata": {}
        },
        {
          "output_type": "display_data",
          "data": {
            "text/plain": [
              "Downloading (…)/main/tokenizer.json:   0%|          | 0.00/466k [00:00<?, ?B/s]"
            ],
            "application/vnd.jupyter.widget-view+json": {
              "version_major": 2,
              "version_minor": 0,
              "model_id": "f8cdaa5fe8c745f8b3e183148b2a5697"
            }
          },
          "metadata": {}
        },
        {
          "output_type": "display_data",
          "data": {
            "text/plain": [
              "Downloading tf_model.h5:   0%|          | 0.00/536M [00:00<?, ?B/s]"
            ],
            "application/vnd.jupyter.widget-view+json": {
              "version_major": 2,
              "version_minor": 0,
              "model_id": "9e45540985114013ac152ffd8b73b1e9"
            }
          },
          "metadata": {}
        },
        {
          "output_type": "stream",
          "name": "stderr",
          "text": [
            "Some layers from the model checkpoint at bert-base-uncased were not used when initializing TFBertModel: ['nsp___cls', 'mlm___cls']\n",
            "- This IS expected if you are initializing TFBertModel from the checkpoint of a model trained on another task or with another architecture (e.g. initializing a BertForSequenceClassification model from a BertForPreTraining model).\n",
            "- This IS NOT expected if you are initializing TFBertModel from the checkpoint of a model that you expect to be exactly identical (initializing a BertForSequenceClassification model from a BertForSequenceClassification model).\n",
            "All the layers of TFBertModel were initialized from the model checkpoint at bert-base-uncased.\n",
            "If your task is similar to the task the model of the checkpoint was trained on, you can already use TFBertModel for predictions without further training.\n"
          ]
        }
      ]
    },
    {
      "cell_type": "code",
      "source": [
        "#train_data, val_data, train_labels, val_labels = train_test_split(df_train.text.values, df_train.target.values, test_size=0.2, random_state=10)\n",
        "train_data, val_data, train_labels, val_labels = train_test_split(df['text'][:df_train.shape[0]].values, df_train['target'].values, test_size=0.2, stratify=df_train['target'].values, random_state=10)"
      ],
      "metadata": {
        "id": "ItPpGxy_T9y8"
      },
      "execution_count": 89,
      "outputs": []
    },
    {
      "cell_type": "code",
      "source": [
        "train_data = tokenizer(\n",
        "text = train_data.tolist(),\n",
        "    add_special_tokens = True,\n",
        "    max_length = max_length,\n",
        "    truncation = True,\n",
        "    padding = True,\n",
        "    return_tensors = 'tf',\n",
        "    return_token_type_ids = False,\n",
        "    return_attention_mask = True,\n",
        "    verbose = True\n",
        "    \n",
        ")"
      ],
      "metadata": {
        "id": "H6rBXI7wiRqg"
      },
      "execution_count": 90,
      "outputs": []
    },
    {
      "cell_type": "code",
      "source": [
        "train_data"
      ],
      "metadata": {
        "colab": {
          "base_uri": "https://localhost:8080/"
        },
        "id": "dV8bNxFDjYKi",
        "outputId": "c73149fd-09f8-4daa-fd17-b68f82196fc8"
      },
      "execution_count": 91,
      "outputs": [
        {
          "output_type": "execute_result",
          "data": {
            "text/plain": [
              "{'input_ids': <tf.Tensor: shape=(6090, 28), dtype=int32, numpy=\n",
              "array([[  101,  2610,  3102, ...,     0,     0,     0],\n",
              "       [  101,  1049,  2232, ...,     0,     0,     0],\n",
              "       [  101, 11352,  5856, ...,     0,     0,     0],\n",
              "       ...,\n",
              "       [  101, 12632,  3521, ...,     0,     0,     0],\n",
              "       [  101,  2017,  4148, ...,     0,     0,     0],\n",
              "       [  101,  2018,  3167, ...,     0,     0,     0]], dtype=int32)>, 'attention_mask': <tf.Tensor: shape=(6090, 28), dtype=int32, numpy=\n",
              "array([[1, 1, 1, ..., 0, 0, 0],\n",
              "       [1, 1, 1, ..., 0, 0, 0],\n",
              "       [1, 1, 1, ..., 0, 0, 0],\n",
              "       ...,\n",
              "       [1, 1, 1, ..., 0, 0, 0],\n",
              "       [1, 1, 1, ..., 0, 0, 0],\n",
              "       [1, 1, 1, ..., 0, 0, 0]], dtype=int32)>}"
            ]
          },
          "metadata": {},
          "execution_count": 91
        }
      ]
    },
    {
      "cell_type": "code",
      "source": [
        "val_data = tokenizer(\n",
        "text = val_data.tolist(),\n",
        "    add_special_tokens = True,\n",
        "    max_length = max_length,\n",
        "    truncation = True,\n",
        "    padding = True,\n",
        "    return_tensors = 'tf',\n",
        "    return_token_type_ids = False,\n",
        "    return_attention_mask = True,\n",
        "    verbose = True\n",
        "    \n",
        ")"
      ],
      "metadata": {
        "id": "tNPeY2I7VaiQ"
      },
      "execution_count": 92,
      "outputs": []
    },
    {
      "cell_type": "markdown",
      "source": [
        "##Model"
      ],
      "metadata": {
        "id": "bPr9J2yCisih"
      }
    },
    {
      "cell_type": "code",
      "source": [
        "import tensorflow as tf\n",
        "from tensorflow import keras\n",
        "from tensorflow.keras import layers\n",
        "from tensorflow.keras.optimizers import Adam\n",
        "from tensorflow.keras.callbacks import EarlyStopping\n",
        "from tensorflow.keras.initializers import TruncatedNormal\n",
        "from tensorflow.keras.losses import CategoricalCrossentropy,BinaryCrossentropy\n",
        "from tensorflow.keras.metrics import CategoricalAccuracy,BinaryAccuracy\n",
        "from tensorflow.keras.utils import to_categorical\n",
        "from tensorflow.keras.utils import plot_model"
      ],
      "metadata": {
        "id": "cyoE3br3isa_"
      },
      "execution_count": 93,
      "outputs": []
    },
    {
      "cell_type": "code",
      "source": [
        "max_len = 28\n",
        "\n",
        "\n",
        "input_ids = keras.Input(shape = (max_len,), dtype = tf.int32, name = 'input_ids')\n",
        "input_mask = keras.Input(shape = (max_len,), dtype = tf.int32, name = 'input_mask')\n",
        "\n",
        "embeddings = bert([input_ids, input_mask])[1]\n",
        "\n",
        "out = tf.keras.layers.Dropout(0.1)(embeddings)\n",
        "\n",
        "out = Dense(128, activation='relu')(out)\n",
        "out = tf.keras.layers.Dropout(0.1)(out)\n",
        "out = Dense(32,activation = 'relu')(out)\n",
        "\n",
        "y = Dense(1,activation = 'sigmoid')(out)\n",
        "    \n",
        "model = tf.keras.Model(inputs=[input_ids, input_mask], outputs=y)\n",
        "model.layers[2].trainable = True"
      ],
      "metadata": {
        "id": "MK942QLUkISi"
      },
      "execution_count": 94,
      "outputs": []
    },
    {
      "cell_type": "code",
      "source": [
        "model.summary()"
      ],
      "metadata": {
        "id": "gvigHui-kRwh",
        "colab": {
          "base_uri": "https://localhost:8080/"
        },
        "outputId": "4b56591d-5da1-4b25-8500-66a1c8f6658b"
      },
      "execution_count": 95,
      "outputs": [
        {
          "output_type": "stream",
          "name": "stdout",
          "text": [
            "Model: \"model_2\"\n",
            "__________________________________________________________________________________________________\n",
            " Layer (type)                   Output Shape         Param #     Connected to                     \n",
            "==================================================================================================\n",
            " input_ids (InputLayer)         [(None, 28)]         0           []                               \n",
            "                                                                                                  \n",
            " input_mask (InputLayer)        [(None, 28)]         0           []                               \n",
            "                                                                                                  \n",
            " tf_bert_model (TFBertModel)    TFBaseModelOutputWi  109482240   ['input_ids[0][0]',              \n",
            "                                thPoolingAndCrossAt               'input_mask[0][0]']             \n",
            "                                tentions(last_hidde                                               \n",
            "                                n_state=(None, 28,                                                \n",
            "                                768),                                                             \n",
            "                                 pooler_output=(Non                                               \n",
            "                                e, 768),                                                          \n",
            "                                 past_key_values=No                                               \n",
            "                                ne, hidden_states=N                                               \n",
            "                                one, attentions=Non                                               \n",
            "                                e, cross_attentions                                               \n",
            "                                =None)                                                            \n",
            "                                                                                                  \n",
            " dropout_37 (Dropout)           (None, 768)          0           ['tf_bert_model[0][1]']          \n",
            "                                                                                                  \n",
            " dense_4 (Dense)                (None, 128)          98432       ['dropout_37[0][0]']             \n",
            "                                                                                                  \n",
            " dropout_38 (Dropout)           (None, 128)          0           ['dense_4[0][0]']                \n",
            "                                                                                                  \n",
            " dense_5 (Dense)                (None, 32)           4128        ['dropout_38[0][0]']             \n",
            "                                                                                                  \n",
            " dense_6 (Dense)                (None, 1)            33          ['dense_5[0][0]']                \n",
            "                                                                                                  \n",
            "==================================================================================================\n",
            "Total params: 109,584,833\n",
            "Trainable params: 109,584,833\n",
            "Non-trainable params: 0\n",
            "__________________________________________________________________________________________________\n"
          ]
        }
      ]
    },
    {
      "cell_type": "code",
      "source": [
        "train_data['input_ids']"
      ],
      "metadata": {
        "id": "N-n-g8PKmG9O",
        "colab": {
          "base_uri": "https://localhost:8080/"
        },
        "outputId": "f711937c-124a-431b-c625-547decd99fbd"
      },
      "execution_count": 96,
      "outputs": [
        {
          "output_type": "execute_result",
          "data": {
            "text/plain": [
              "<tf.Tensor: shape=(6090, 28), dtype=int32, numpy=\n",
              "array([[  101,  2610,  3102, ...,     0,     0,     0],\n",
              "       [  101,  1049,  2232, ...,     0,     0,     0],\n",
              "       [  101, 11352,  5856, ...,     0,     0,     0],\n",
              "       ...,\n",
              "       [  101, 12632,  3521, ...,     0,     0,     0],\n",
              "       [  101,  2017,  4148, ...,     0,     0,     0],\n",
              "       [  101,  2018,  3167, ...,     0,     0,     0]], dtype=int32)>"
            ]
          },
          "metadata": {},
          "execution_count": 96
        }
      ]
    },
    {
      "cell_type": "code",
      "source": [
        "from keras.optimizers import Adam\n",
        "optimizer = Adam(\n",
        "    learning_rate=6e-06, # this learning rate is for bert model , taken from huggingface website \n",
        "    epsilon=1e-08,\n",
        "    decay=0.01,\n",
        "    clipnorm=1.0)\n",
        "\n",
        "loss = BinaryCrossentropy(from_logits = True)\n",
        "metric = BinaryAccuracy('accuracy')\n",
        "\n",
        "\n",
        "model.compile(\n",
        "    optimizer = optimizer,\n",
        "    loss = loss, \n",
        "    metrics = metric)\n",
        "\n",
        "callbacks_list = [\n",
        "    tf.keras.callbacks.EarlyStopping(\n",
        "        monitor='val_accuracy',                    \n",
        "        patience=5                                \n",
        "    ),\n",
        "    tf.keras.callbacks.ModelCheckpoint(                \n",
        "        filepath=\"checkpoint_path.keras\",        \n",
        "        monitor='val_accuracy',                          \n",
        "        save_best_only=True,                       \n",
        "        verbose=1                                   \n",
        "    ),\n",
        "    tf.keras.callbacks.ReduceLROnPlateau(\n",
        "        monitor='val_loss',  \n",
        "        factor=0.5,          # callback 호출시 학습률을 1/2로 줄입니다\n",
        "        patience=5,          # epoch 5 동안 개선되지 않으면 callback이 호출됩니다\n",
        ")\n",
        "]"
      ],
      "metadata": {
        "id": "5F8X-6wekX3E"
      },
      "execution_count": 97,
      "outputs": []
    },
    {
      "cell_type": "code",
      "source": [
        "history = model.fit(\n",
        "    x ={'input_ids':train_data['input_ids'],'input_mask':train_data['attention_mask']} ,\n",
        "    y = train_labels,\n",
        "    validation_data = ({'input_ids':val_data['input_ids'],'input_mask':val_data['attention_mask']},val_labels),\n",
        "    callbacks=callbacks_list,\n",
        "    #validation_split = 0.1,\n",
        "    epochs=50,\n",
        "    batch_size=32\n",
        ")"
      ],
      "metadata": {
        "colab": {
          "base_uri": "https://localhost:8080/",
          "height": 1000
        },
        "id": "tlFyzInUkS2W",
        "outputId": "997ac4b7-f43d-4776-e5e4-4b4dbe64afd8"
      },
      "execution_count": 98,
      "outputs": [
        {
          "output_type": "stream",
          "name": "stdout",
          "text": [
            "Epoch 1/50\n",
            "191/191 [==============================] - ETA: 0s - loss: 0.5704 - accuracy: 0.7187\n",
            "Epoch 1: val_accuracy improved from -inf to 0.78267, saving model to checkpoint_path.keras\n",
            "191/191 [==============================] - 106s 440ms/step - loss: 0.5704 - accuracy: 0.7187 - val_loss: 0.4843 - val_accuracy: 0.7827 - lr: 6.0000e-06\n",
            "Epoch 2/50\n",
            "191/191 [==============================] - ETA: 0s - loss: 0.4546 - accuracy: 0.8064\n",
            "Epoch 2: val_accuracy improved from 0.78267 to 0.81550, saving model to checkpoint_path.keras\n",
            "191/191 [==============================] - 62s 326ms/step - loss: 0.4546 - accuracy: 0.8064 - val_loss: 0.4259 - val_accuracy: 0.8155 - lr: 6.0000e-06\n",
            "Epoch 3/50\n",
            "191/191 [==============================] - ETA: 0s - loss: 0.4174 - accuracy: 0.8238\n",
            "Epoch 3: val_accuracy did not improve from 0.81550\n",
            "191/191 [==============================] - 46s 241ms/step - loss: 0.4174 - accuracy: 0.8238 - val_loss: 0.4223 - val_accuracy: 0.8135 - lr: 6.0000e-06\n",
            "Epoch 4/50\n",
            "191/191 [==============================] - ETA: 0s - loss: 0.4058 - accuracy: 0.8312\n",
            "Epoch 4: val_accuracy improved from 0.81550 to 0.81747, saving model to checkpoint_path.keras\n",
            "191/191 [==============================] - 68s 354ms/step - loss: 0.4058 - accuracy: 0.8312 - val_loss: 0.4288 - val_accuracy: 0.8175 - lr: 6.0000e-06\n",
            "Epoch 5/50\n",
            "191/191 [==============================] - ETA: 0s - loss: 0.3974 - accuracy: 0.8381\n",
            "Epoch 5: val_accuracy did not improve from 0.81747\n",
            "191/191 [==============================] - 46s 242ms/step - loss: 0.3974 - accuracy: 0.8381 - val_loss: 0.4218 - val_accuracy: 0.8162 - lr: 6.0000e-06\n",
            "Epoch 6/50\n",
            "191/191 [==============================] - ETA: 0s - loss: 0.3911 - accuracy: 0.8456\n",
            "Epoch 6: val_accuracy did not improve from 0.81747\n",
            "191/191 [==============================] - 47s 244ms/step - loss: 0.3911 - accuracy: 0.8456 - val_loss: 0.4232 - val_accuracy: 0.8148 - lr: 6.0000e-06\n",
            "Epoch 7/50\n",
            "191/191 [==============================] - ETA: 0s - loss: 0.3839 - accuracy: 0.8435\n",
            "Epoch 7: val_accuracy did not improve from 0.81747\n",
            "191/191 [==============================] - 45s 238ms/step - loss: 0.3839 - accuracy: 0.8435 - val_loss: 0.4210 - val_accuracy: 0.8168 - lr: 6.0000e-06\n",
            "Epoch 8/50\n",
            "191/191 [==============================] - ETA: 0s - loss: 0.3734 - accuracy: 0.8509\n",
            "Epoch 8: val_accuracy improved from 0.81747 to 0.81944, saving model to checkpoint_path.keras\n",
            "191/191 [==============================] - 75s 394ms/step - loss: 0.3734 - accuracy: 0.8509 - val_loss: 0.4185 - val_accuracy: 0.8194 - lr: 6.0000e-06\n",
            "Epoch 9/50\n",
            "191/191 [==============================] - ETA: 0s - loss: 0.3725 - accuracy: 0.8519\n",
            "Epoch 9: val_accuracy did not improve from 0.81944\n",
            "191/191 [==============================] - 46s 243ms/step - loss: 0.3725 - accuracy: 0.8519 - val_loss: 0.4265 - val_accuracy: 0.8155 - lr: 6.0000e-06\n",
            "Epoch 10/50\n",
            "191/191 [==============================] - ETA: 0s - loss: 0.3700 - accuracy: 0.8502\n",
            "Epoch 10: val_accuracy did not improve from 0.81944\n",
            "191/191 [==============================] - 45s 238ms/step - loss: 0.3700 - accuracy: 0.8502 - val_loss: 0.4222 - val_accuracy: 0.8142 - lr: 6.0000e-06\n",
            "Epoch 11/50\n",
            "191/191 [==============================] - ETA: 0s - loss: 0.3673 - accuracy: 0.8558\n",
            "Epoch 11: val_accuracy did not improve from 0.81944\n",
            "191/191 [==============================] - 47s 246ms/step - loss: 0.3673 - accuracy: 0.8558 - val_loss: 0.4291 - val_accuracy: 0.8194 - lr: 6.0000e-06\n",
            "Epoch 12/50\n",
            "191/191 [==============================] - ETA: 0s - loss: 0.3635 - accuracy: 0.8560\n",
            "Epoch 12: val_accuracy improved from 0.81944 to 0.82009, saving model to checkpoint_path.keras\n",
            "191/191 [==============================] - 78s 411ms/step - loss: 0.3635 - accuracy: 0.8560 - val_loss: 0.4195 - val_accuracy: 0.8201 - lr: 6.0000e-06\n",
            "Epoch 13/50\n",
            "191/191 [==============================] - ETA: 0s - loss: 0.3604 - accuracy: 0.8562\n",
            "Epoch 13: val_accuracy did not improve from 0.82009\n",
            "191/191 [==============================] - 46s 243ms/step - loss: 0.3604 - accuracy: 0.8562 - val_loss: 0.4310 - val_accuracy: 0.8188 - lr: 6.0000e-06\n",
            "Epoch 14/50\n",
            "191/191 [==============================] - ETA: 0s - loss: 0.3561 - accuracy: 0.8571\n",
            "Epoch 14: val_accuracy did not improve from 0.82009\n",
            "191/191 [==============================] - 47s 247ms/step - loss: 0.3561 - accuracy: 0.8571 - val_loss: 0.4268 - val_accuracy: 0.8188 - lr: 3.0000e-06\n",
            "Epoch 15/50\n",
            "191/191 [==============================] - ETA: 0s - loss: 0.3602 - accuracy: 0.8603\n",
            "Epoch 15: val_accuracy did not improve from 0.82009\n",
            "191/191 [==============================] - 46s 239ms/step - loss: 0.3602 - accuracy: 0.8603 - val_loss: 0.4223 - val_accuracy: 0.8201 - lr: 3.0000e-06\n",
            "Epoch 16/50\n",
            "191/191 [==============================] - ETA: 0s - loss: 0.3549 - accuracy: 0.8614\n",
            "Epoch 16: val_accuracy did not improve from 0.82009\n",
            "191/191 [==============================] - 47s 246ms/step - loss: 0.3549 - accuracy: 0.8614 - val_loss: 0.4226 - val_accuracy: 0.8201 - lr: 3.0000e-06\n",
            "Epoch 17/50\n",
            "191/191 [==============================] - ETA: 0s - loss: 0.3576 - accuracy: 0.8581\n",
            "Epoch 17: val_accuracy improved from 0.82009 to 0.82075, saving model to checkpoint_path.keras\n",
            "191/191 [==============================] - 76s 401ms/step - loss: 0.3576 - accuracy: 0.8581 - val_loss: 0.4248 - val_accuracy: 0.8207 - lr: 3.0000e-06\n",
            "Epoch 18/50\n",
            "191/191 [==============================] - ETA: 0s - loss: 0.3610 - accuracy: 0.8547"
          ]
        },
        {
          "output_type": "error",
          "ename": "KeyboardInterrupt",
          "evalue": "ignored",
          "traceback": [
            "\u001b[0;31m---------------------------------------------------------------------------\u001b[0m",
            "\u001b[0;31mKeyboardInterrupt\u001b[0m                         Traceback (most recent call last)",
            "\u001b[0;32m<ipython-input-98-07b7e822f29a>\u001b[0m in \u001b[0;36m<cell line: 1>\u001b[0;34m()\u001b[0m\n\u001b[0;32m----> 1\u001b[0;31m history = model.fit(\n\u001b[0m\u001b[1;32m      2\u001b[0m     \u001b[0mx\u001b[0m \u001b[0;34m=\u001b[0m\u001b[0;34m{\u001b[0m\u001b[0;34m'input_ids'\u001b[0m\u001b[0;34m:\u001b[0m\u001b[0mtrain_data\u001b[0m\u001b[0;34m[\u001b[0m\u001b[0;34m'input_ids'\u001b[0m\u001b[0;34m]\u001b[0m\u001b[0;34m,\u001b[0m\u001b[0;34m'input_mask'\u001b[0m\u001b[0;34m:\u001b[0m\u001b[0mtrain_data\u001b[0m\u001b[0;34m[\u001b[0m\u001b[0;34m'attention_mask'\u001b[0m\u001b[0;34m]\u001b[0m\u001b[0;34m}\u001b[0m \u001b[0;34m,\u001b[0m\u001b[0;34m\u001b[0m\u001b[0;34m\u001b[0m\u001b[0m\n\u001b[1;32m      3\u001b[0m     \u001b[0my\u001b[0m \u001b[0;34m=\u001b[0m \u001b[0mtrain_labels\u001b[0m\u001b[0;34m,\u001b[0m\u001b[0;34m\u001b[0m\u001b[0;34m\u001b[0m\u001b[0m\n\u001b[1;32m      4\u001b[0m     \u001b[0mvalidation_data\u001b[0m \u001b[0;34m=\u001b[0m \u001b[0;34m(\u001b[0m\u001b[0;34m{\u001b[0m\u001b[0;34m'input_ids'\u001b[0m\u001b[0;34m:\u001b[0m\u001b[0mval_data\u001b[0m\u001b[0;34m[\u001b[0m\u001b[0;34m'input_ids'\u001b[0m\u001b[0;34m]\u001b[0m\u001b[0;34m,\u001b[0m\u001b[0;34m'input_mask'\u001b[0m\u001b[0;34m:\u001b[0m\u001b[0mval_data\u001b[0m\u001b[0;34m[\u001b[0m\u001b[0;34m'attention_mask'\u001b[0m\u001b[0;34m]\u001b[0m\u001b[0;34m}\u001b[0m\u001b[0;34m,\u001b[0m\u001b[0mval_labels\u001b[0m\u001b[0;34m)\u001b[0m\u001b[0;34m,\u001b[0m\u001b[0;34m\u001b[0m\u001b[0;34m\u001b[0m\u001b[0m\n\u001b[1;32m      5\u001b[0m     \u001b[0mcallbacks\u001b[0m\u001b[0;34m=\u001b[0m\u001b[0mcallbacks_list\u001b[0m\u001b[0;34m,\u001b[0m\u001b[0;34m\u001b[0m\u001b[0;34m\u001b[0m\u001b[0m\n",
            "\u001b[0;32m/usr/local/lib/python3.10/dist-packages/keras/utils/traceback_utils.py\u001b[0m in \u001b[0;36merror_handler\u001b[0;34m(*args, **kwargs)\u001b[0m\n\u001b[1;32m     63\u001b[0m         \u001b[0mfiltered_tb\u001b[0m \u001b[0;34m=\u001b[0m \u001b[0;32mNone\u001b[0m\u001b[0;34m\u001b[0m\u001b[0;34m\u001b[0m\u001b[0m\n\u001b[1;32m     64\u001b[0m         \u001b[0;32mtry\u001b[0m\u001b[0;34m:\u001b[0m\u001b[0;34m\u001b[0m\u001b[0;34m\u001b[0m\u001b[0m\n\u001b[0;32m---> 65\u001b[0;31m             \u001b[0;32mreturn\u001b[0m \u001b[0mfn\u001b[0m\u001b[0;34m(\u001b[0m\u001b[0;34m*\u001b[0m\u001b[0margs\u001b[0m\u001b[0;34m,\u001b[0m \u001b[0;34m**\u001b[0m\u001b[0mkwargs\u001b[0m\u001b[0;34m)\u001b[0m\u001b[0;34m\u001b[0m\u001b[0;34m\u001b[0m\u001b[0m\n\u001b[0m\u001b[1;32m     66\u001b[0m         \u001b[0;32mexcept\u001b[0m \u001b[0mException\u001b[0m \u001b[0;32mas\u001b[0m \u001b[0me\u001b[0m\u001b[0;34m:\u001b[0m\u001b[0;34m\u001b[0m\u001b[0;34m\u001b[0m\u001b[0m\n\u001b[1;32m     67\u001b[0m             \u001b[0mfiltered_tb\u001b[0m \u001b[0;34m=\u001b[0m \u001b[0m_process_traceback_frames\u001b[0m\u001b[0;34m(\u001b[0m\u001b[0me\u001b[0m\u001b[0;34m.\u001b[0m\u001b[0m__traceback__\u001b[0m\u001b[0;34m)\u001b[0m\u001b[0;34m\u001b[0m\u001b[0;34m\u001b[0m\u001b[0m\n",
            "\u001b[0;32m/usr/local/lib/python3.10/dist-packages/keras/engine/training.py\u001b[0m in \u001b[0;36mfit\u001b[0;34m(self, x, y, batch_size, epochs, verbose, callbacks, validation_split, validation_data, shuffle, class_weight, sample_weight, initial_epoch, steps_per_epoch, validation_steps, validation_batch_size, validation_freq, max_queue_size, workers, use_multiprocessing)\u001b[0m\n\u001b[1;32m   1727\u001b[0m                             \u001b[0msteps_per_execution\u001b[0m\u001b[0;34m=\u001b[0m\u001b[0mself\u001b[0m\u001b[0;34m.\u001b[0m\u001b[0m_steps_per_execution\u001b[0m\u001b[0;34m,\u001b[0m\u001b[0;34m\u001b[0m\u001b[0;34m\u001b[0m\u001b[0m\n\u001b[1;32m   1728\u001b[0m                         )\n\u001b[0;32m-> 1729\u001b[0;31m                     val_logs = self.evaluate(\n\u001b[0m\u001b[1;32m   1730\u001b[0m                         \u001b[0mx\u001b[0m\u001b[0;34m=\u001b[0m\u001b[0mval_x\u001b[0m\u001b[0;34m,\u001b[0m\u001b[0;34m\u001b[0m\u001b[0;34m\u001b[0m\u001b[0m\n\u001b[1;32m   1731\u001b[0m                         \u001b[0my\u001b[0m\u001b[0;34m=\u001b[0m\u001b[0mval_y\u001b[0m\u001b[0;34m,\u001b[0m\u001b[0;34m\u001b[0m\u001b[0;34m\u001b[0m\u001b[0m\n",
            "\u001b[0;32m/usr/local/lib/python3.10/dist-packages/keras/utils/traceback_utils.py\u001b[0m in \u001b[0;36merror_handler\u001b[0;34m(*args, **kwargs)\u001b[0m\n\u001b[1;32m     63\u001b[0m         \u001b[0mfiltered_tb\u001b[0m \u001b[0;34m=\u001b[0m \u001b[0;32mNone\u001b[0m\u001b[0;34m\u001b[0m\u001b[0;34m\u001b[0m\u001b[0m\n\u001b[1;32m     64\u001b[0m         \u001b[0;32mtry\u001b[0m\u001b[0;34m:\u001b[0m\u001b[0;34m\u001b[0m\u001b[0;34m\u001b[0m\u001b[0m\n\u001b[0;32m---> 65\u001b[0;31m             \u001b[0;32mreturn\u001b[0m \u001b[0mfn\u001b[0m\u001b[0;34m(\u001b[0m\u001b[0;34m*\u001b[0m\u001b[0margs\u001b[0m\u001b[0;34m,\u001b[0m \u001b[0;34m**\u001b[0m\u001b[0mkwargs\u001b[0m\u001b[0;34m)\u001b[0m\u001b[0;34m\u001b[0m\u001b[0;34m\u001b[0m\u001b[0m\n\u001b[0m\u001b[1;32m     66\u001b[0m         \u001b[0;32mexcept\u001b[0m \u001b[0mException\u001b[0m \u001b[0;32mas\u001b[0m \u001b[0me\u001b[0m\u001b[0;34m:\u001b[0m\u001b[0;34m\u001b[0m\u001b[0;34m\u001b[0m\u001b[0m\n\u001b[1;32m     67\u001b[0m             \u001b[0mfiltered_tb\u001b[0m \u001b[0;34m=\u001b[0m \u001b[0m_process_traceback_frames\u001b[0m\u001b[0;34m(\u001b[0m\u001b[0me\u001b[0m\u001b[0;34m.\u001b[0m\u001b[0m__traceback__\u001b[0m\u001b[0;34m)\u001b[0m\u001b[0;34m\u001b[0m\u001b[0;34m\u001b[0m\u001b[0m\n",
            "\u001b[0;32m/usr/local/lib/python3.10/dist-packages/keras/engine/training.py\u001b[0m in \u001b[0;36mevaluate\u001b[0;34m(self, x, y, batch_size, verbose, sample_weight, steps, callbacks, max_queue_size, workers, use_multiprocessing, return_dict, **kwargs)\u001b[0m\n\u001b[1;32m   2070\u001b[0m                         ):\n\u001b[1;32m   2071\u001b[0m                             \u001b[0mcallbacks\u001b[0m\u001b[0;34m.\u001b[0m\u001b[0mon_test_batch_begin\u001b[0m\u001b[0;34m(\u001b[0m\u001b[0mstep\u001b[0m\u001b[0;34m)\u001b[0m\u001b[0;34m\u001b[0m\u001b[0;34m\u001b[0m\u001b[0m\n\u001b[0;32m-> 2072\u001b[0;31m                             \u001b[0mtmp_logs\u001b[0m \u001b[0;34m=\u001b[0m \u001b[0mself\u001b[0m\u001b[0;34m.\u001b[0m\u001b[0mtest_function\u001b[0m\u001b[0;34m(\u001b[0m\u001b[0miterator\u001b[0m\u001b[0;34m)\u001b[0m\u001b[0;34m\u001b[0m\u001b[0;34m\u001b[0m\u001b[0m\n\u001b[0m\u001b[1;32m   2073\u001b[0m                             \u001b[0;32mif\u001b[0m \u001b[0mdata_handler\u001b[0m\u001b[0;34m.\u001b[0m\u001b[0mshould_sync\u001b[0m\u001b[0;34m:\u001b[0m\u001b[0;34m\u001b[0m\u001b[0;34m\u001b[0m\u001b[0m\n\u001b[1;32m   2074\u001b[0m                                 \u001b[0mcontext\u001b[0m\u001b[0;34m.\u001b[0m\u001b[0masync_wait\u001b[0m\u001b[0;34m(\u001b[0m\u001b[0;34m)\u001b[0m\u001b[0;34m\u001b[0m\u001b[0;34m\u001b[0m\u001b[0m\n",
            "\u001b[0;32m/usr/local/lib/python3.10/dist-packages/tensorflow/python/util/traceback_utils.py\u001b[0m in \u001b[0;36merror_handler\u001b[0;34m(*args, **kwargs)\u001b[0m\n\u001b[1;32m    148\u001b[0m     \u001b[0mfiltered_tb\u001b[0m \u001b[0;34m=\u001b[0m \u001b[0;32mNone\u001b[0m\u001b[0;34m\u001b[0m\u001b[0;34m\u001b[0m\u001b[0m\n\u001b[1;32m    149\u001b[0m     \u001b[0;32mtry\u001b[0m\u001b[0;34m:\u001b[0m\u001b[0;34m\u001b[0m\u001b[0;34m\u001b[0m\u001b[0m\n\u001b[0;32m--> 150\u001b[0;31m       \u001b[0;32mreturn\u001b[0m \u001b[0mfn\u001b[0m\u001b[0;34m(\u001b[0m\u001b[0;34m*\u001b[0m\u001b[0margs\u001b[0m\u001b[0;34m,\u001b[0m \u001b[0;34m**\u001b[0m\u001b[0mkwargs\u001b[0m\u001b[0;34m)\u001b[0m\u001b[0;34m\u001b[0m\u001b[0;34m\u001b[0m\u001b[0m\n\u001b[0m\u001b[1;32m    151\u001b[0m     \u001b[0;32mexcept\u001b[0m \u001b[0mException\u001b[0m \u001b[0;32mas\u001b[0m \u001b[0me\u001b[0m\u001b[0;34m:\u001b[0m\u001b[0;34m\u001b[0m\u001b[0;34m\u001b[0m\u001b[0m\n\u001b[1;32m    152\u001b[0m       \u001b[0mfiltered_tb\u001b[0m \u001b[0;34m=\u001b[0m \u001b[0m_process_traceback_frames\u001b[0m\u001b[0;34m(\u001b[0m\u001b[0me\u001b[0m\u001b[0;34m.\u001b[0m\u001b[0m__traceback__\u001b[0m\u001b[0;34m)\u001b[0m\u001b[0;34m\u001b[0m\u001b[0;34m\u001b[0m\u001b[0m\n",
            "\u001b[0;32m/usr/local/lib/python3.10/dist-packages/tensorflow/python/eager/polymorphic_function/polymorphic_function.py\u001b[0m in \u001b[0;36m__call__\u001b[0;34m(self, *args, **kwds)\u001b[0m\n\u001b[1;32m    892\u001b[0m \u001b[0;34m\u001b[0m\u001b[0m\n\u001b[1;32m    893\u001b[0m       \u001b[0;32mwith\u001b[0m \u001b[0mOptionalXlaContext\u001b[0m\u001b[0;34m(\u001b[0m\u001b[0mself\u001b[0m\u001b[0;34m.\u001b[0m\u001b[0m_jit_compile\u001b[0m\u001b[0;34m)\u001b[0m\u001b[0;34m:\u001b[0m\u001b[0;34m\u001b[0m\u001b[0;34m\u001b[0m\u001b[0m\n\u001b[0;32m--> 894\u001b[0;31m         \u001b[0mresult\u001b[0m \u001b[0;34m=\u001b[0m \u001b[0mself\u001b[0m\u001b[0;34m.\u001b[0m\u001b[0m_call\u001b[0m\u001b[0;34m(\u001b[0m\u001b[0;34m*\u001b[0m\u001b[0margs\u001b[0m\u001b[0;34m,\u001b[0m \u001b[0;34m**\u001b[0m\u001b[0mkwds\u001b[0m\u001b[0;34m)\u001b[0m\u001b[0;34m\u001b[0m\u001b[0;34m\u001b[0m\u001b[0m\n\u001b[0m\u001b[1;32m    895\u001b[0m \u001b[0;34m\u001b[0m\u001b[0m\n\u001b[1;32m    896\u001b[0m       \u001b[0mnew_tracing_count\u001b[0m \u001b[0;34m=\u001b[0m \u001b[0mself\u001b[0m\u001b[0;34m.\u001b[0m\u001b[0mexperimental_get_tracing_count\u001b[0m\u001b[0;34m(\u001b[0m\u001b[0;34m)\u001b[0m\u001b[0;34m\u001b[0m\u001b[0;34m\u001b[0m\u001b[0m\n",
            "\u001b[0;32m/usr/local/lib/python3.10/dist-packages/tensorflow/python/eager/polymorphic_function/polymorphic_function.py\u001b[0m in \u001b[0;36m_call\u001b[0;34m(self, *args, **kwds)\u001b[0m\n\u001b[1;32m    931\u001b[0m       \u001b[0;31m# In this case we have not created variables on the first call. So we can\u001b[0m\u001b[0;34m\u001b[0m\u001b[0;34m\u001b[0m\u001b[0m\n\u001b[1;32m    932\u001b[0m       \u001b[0;31m# run the first trace but we should fail if variables are created.\u001b[0m\u001b[0;34m\u001b[0m\u001b[0;34m\u001b[0m\u001b[0m\n\u001b[0;32m--> 933\u001b[0;31m       \u001b[0mresults\u001b[0m \u001b[0;34m=\u001b[0m \u001b[0mself\u001b[0m\u001b[0;34m.\u001b[0m\u001b[0m_variable_creation_fn\u001b[0m\u001b[0;34m(\u001b[0m\u001b[0;34m*\u001b[0m\u001b[0margs\u001b[0m\u001b[0;34m,\u001b[0m \u001b[0;34m**\u001b[0m\u001b[0mkwds\u001b[0m\u001b[0;34m)\u001b[0m\u001b[0;34m\u001b[0m\u001b[0;34m\u001b[0m\u001b[0m\n\u001b[0m\u001b[1;32m    934\u001b[0m       \u001b[0;32mif\u001b[0m \u001b[0mself\u001b[0m\u001b[0;34m.\u001b[0m\u001b[0m_created_variables\u001b[0m \u001b[0;32mand\u001b[0m \u001b[0;32mnot\u001b[0m \u001b[0mALLOW_DYNAMIC_VARIABLE_CREATION\u001b[0m\u001b[0;34m:\u001b[0m\u001b[0;34m\u001b[0m\u001b[0;34m\u001b[0m\u001b[0m\n\u001b[1;32m    935\u001b[0m         raise ValueError(\"Creating variables on a non-first call to a function\"\n",
            "\u001b[0;32m/usr/local/lib/python3.10/dist-packages/tensorflow/python/eager/polymorphic_function/tracing_compiler.py\u001b[0m in \u001b[0;36m__call__\u001b[0;34m(self, *args, **kwargs)\u001b[0m\n\u001b[1;32m    141\u001b[0m       (concrete_function,\n\u001b[1;32m    142\u001b[0m        filtered_flat_args) = self._maybe_define_function(args, kwargs)\n\u001b[0;32m--> 143\u001b[0;31m     return concrete_function._call_flat(\n\u001b[0m\u001b[1;32m    144\u001b[0m         filtered_flat_args, captured_inputs=concrete_function.captured_inputs)  # pylint: disable=protected-access\n\u001b[1;32m    145\u001b[0m \u001b[0;34m\u001b[0m\u001b[0m\n",
            "\u001b[0;32m/usr/local/lib/python3.10/dist-packages/tensorflow/python/eager/polymorphic_function/monomorphic_function.py\u001b[0m in \u001b[0;36m_call_flat\u001b[0;34m(self, args, captured_inputs, cancellation_manager)\u001b[0m\n\u001b[1;32m   1755\u001b[0m         and executing_eagerly):\n\u001b[1;32m   1756\u001b[0m       \u001b[0;31m# No tape is watching; skip to running the function.\u001b[0m\u001b[0;34m\u001b[0m\u001b[0;34m\u001b[0m\u001b[0m\n\u001b[0;32m-> 1757\u001b[0;31m       return self._build_call_outputs(self._inference_function.call(\n\u001b[0m\u001b[1;32m   1758\u001b[0m           ctx, args, cancellation_manager=cancellation_manager))\n\u001b[1;32m   1759\u001b[0m     forward_backward = self._select_forward_and_backward_functions(\n",
            "\u001b[0;32m/usr/local/lib/python3.10/dist-packages/tensorflow/python/eager/polymorphic_function/monomorphic_function.py\u001b[0m in \u001b[0;36mcall\u001b[0;34m(self, ctx, args, cancellation_manager)\u001b[0m\n\u001b[1;32m    379\u001b[0m       \u001b[0;32mwith\u001b[0m \u001b[0m_InterpolateFunctionError\u001b[0m\u001b[0;34m(\u001b[0m\u001b[0mself\u001b[0m\u001b[0;34m)\u001b[0m\u001b[0;34m:\u001b[0m\u001b[0;34m\u001b[0m\u001b[0;34m\u001b[0m\u001b[0m\n\u001b[1;32m    380\u001b[0m         \u001b[0;32mif\u001b[0m \u001b[0mcancellation_manager\u001b[0m \u001b[0;32mis\u001b[0m \u001b[0;32mNone\u001b[0m\u001b[0;34m:\u001b[0m\u001b[0;34m\u001b[0m\u001b[0;34m\u001b[0m\u001b[0m\n\u001b[0;32m--> 381\u001b[0;31m           outputs = execute.execute(\n\u001b[0m\u001b[1;32m    382\u001b[0m               \u001b[0mstr\u001b[0m\u001b[0;34m(\u001b[0m\u001b[0mself\u001b[0m\u001b[0;34m.\u001b[0m\u001b[0msignature\u001b[0m\u001b[0;34m.\u001b[0m\u001b[0mname\u001b[0m\u001b[0;34m)\u001b[0m\u001b[0;34m,\u001b[0m\u001b[0;34m\u001b[0m\u001b[0;34m\u001b[0m\u001b[0m\n\u001b[1;32m    383\u001b[0m               \u001b[0mnum_outputs\u001b[0m\u001b[0;34m=\u001b[0m\u001b[0mself\u001b[0m\u001b[0;34m.\u001b[0m\u001b[0m_num_outputs\u001b[0m\u001b[0;34m,\u001b[0m\u001b[0;34m\u001b[0m\u001b[0;34m\u001b[0m\u001b[0m\n",
            "\u001b[0;32m/usr/local/lib/python3.10/dist-packages/tensorflow/python/eager/execute.py\u001b[0m in \u001b[0;36mquick_execute\u001b[0;34m(op_name, num_outputs, inputs, attrs, ctx, name)\u001b[0m\n\u001b[1;32m     50\u001b[0m   \u001b[0;32mtry\u001b[0m\u001b[0;34m:\u001b[0m\u001b[0;34m\u001b[0m\u001b[0;34m\u001b[0m\u001b[0m\n\u001b[1;32m     51\u001b[0m     \u001b[0mctx\u001b[0m\u001b[0;34m.\u001b[0m\u001b[0mensure_initialized\u001b[0m\u001b[0;34m(\u001b[0m\u001b[0;34m)\u001b[0m\u001b[0;34m\u001b[0m\u001b[0;34m\u001b[0m\u001b[0m\n\u001b[0;32m---> 52\u001b[0;31m     tensors = pywrap_tfe.TFE_Py_Execute(ctx._handle, device_name, op_name,\n\u001b[0m\u001b[1;32m     53\u001b[0m                                         inputs, attrs, num_outputs)\n\u001b[1;32m     54\u001b[0m   \u001b[0;32mexcept\u001b[0m \u001b[0mcore\u001b[0m\u001b[0;34m.\u001b[0m\u001b[0m_NotOkStatusException\u001b[0m \u001b[0;32mas\u001b[0m \u001b[0me\u001b[0m\u001b[0;34m:\u001b[0m\u001b[0;34m\u001b[0m\u001b[0;34m\u001b[0m\u001b[0m\n",
            "\u001b[0;31mKeyboardInterrupt\u001b[0m: "
          ]
        }
      ]
    },
    {
      "cell_type": "code",
      "source": [
        "loaded_model = tf.keras.models.load_model('checkpoint_path.keras', custom_objects={\"TFBertModel\": TFBertModel})"
      ],
      "metadata": {
        "id": "eFeY60bMxDa4"
      },
      "execution_count": 99,
      "outputs": []
    },
    {
      "cell_type": "code",
      "source": [
        "history_dict = history.history\n",
        "history_dict.keys()"
      ],
      "metadata": {
        "outputId": "2c1c76f3-23a1-4c19-e8e8-8d12ccb65a71",
        "colab": {
          "base_uri": "https://localhost:8080/"
        },
        "id": "NZkFjrYKvKSO"
      },
      "execution_count": 100,
      "outputs": [
        {
          "output_type": "execute_result",
          "data": {
            "text/plain": [
              "dict_keys(['loss', 'accuracy', 'val_loss', 'val_accuracy', 'lr'])"
            ]
          },
          "metadata": {},
          "execution_count": 100
        }
      ]
    },
    {
      "cell_type": "code",
      "source": [
        "history_dict = history.history\n",
        "loss_values = history_dict[\"loss\"]\n",
        "val_loss_values = history_dict[\"val_loss\"]\n",
        "epochs = range(1, len(loss_values) + 1)\n",
        "plt.plot(epochs, loss_values, \"bo\", label=\"Training loss\")\n",
        "plt.plot(epochs, val_loss_values, \"b\", label=\"Validation loss\")\n",
        "plt.title(\"Training and validation loss\")\n",
        "plt.xlabel(\"Epochs\")\n",
        "plt.ylabel(\"Loss\")\n",
        "plt.legend()\n",
        "plt.show()"
      ],
      "metadata": {
        "outputId": "cd6c44da-b7ad-43fc-ebe6-c97dab6f3d37",
        "colab": {
          "base_uri": "https://localhost:8080/",
          "height": 477
        },
        "id": "0DUw0bJAvKSO"
      },
      "execution_count": 101,
      "outputs": [
        {
          "output_type": "display_data",
          "data": {
            "text/plain": [
              "<Figure size 640x480 with 1 Axes>"
            ],
            "image/png": "[encoded data removed]"
          },
          "metadata": {}
        }
      ]
    },
    {
      "cell_type": "code",
      "source": [
        "plt.clf()\n",
        "acc = history_dict[\"accuracy\"]\n",
        "val_acc = history_dict[\"val_accuracy\"]\n",
        "plt.plot(epochs, acc, \"bo\", label=\"Training acc\")\n",
        "plt.plot(epochs, val_acc, \"b\", label=\"Validation acc\")\n",
        "plt.title(\"Training and validation accuracy\")\n",
        "plt.xlabel(\"Epochs\")\n",
        "plt.ylabel(\"Accuracy\")\n",
        "plt.legend()\n",
        "plt.show()"
      ],
      "metadata": {
        "outputId": "ea776f0c-d7a7-4a5c-8bae-8df5d1b97b73",
        "colab": {
          "base_uri": "https://localhost:8080/",
          "height": 477
        },
        "id": "1RrbO1hdvKSP"
      },
      "execution_count": 102,
      "outputs": [
        {
          "output_type": "display_data",
          "data": {
            "text/plain": [
              "<Figure size 640x480 with 1 Axes>"
            ],
            "image/png": "[encoded data removed]"
          },
          "metadata": {}
        }
      ]
    },
    {
      "cell_type": "code",
      "source": [
        "x_test = tokenizer(\n",
        "    text=df_test.text.tolist(),\n",
        "    add_special_tokens=True,\n",
        "    max_length=max_length,\n",
        "    truncation=True,\n",
        "    padding=True, \n",
        "    return_tensors='tf',\n",
        "    return_token_type_ids = False,\n",
        "    return_attention_mask = True,\n",
        "    verbose = True)"
      ],
      "metadata": {
        "id": "kS2bWiTIyD07"
      },
      "execution_count": 103,
      "outputs": []
    },
    {
      "cell_type": "code",
      "source": [
        "x_test['attention_mask']"
      ],
      "metadata": {
        "id": "emw0XBARyHVO",
        "colab": {
          "base_uri": "https://localhost:8080/"
        },
        "outputId": "ccd72e5f-600a-4b24-8e89-f1df1368daff"
      },
      "execution_count": 104,
      "outputs": [
        {
          "output_type": "execute_result",
          "data": {
            "text/plain": [
              "<tf.Tensor: shape=(3263, 28), dtype=int32, numpy=\n",
              "array([[1, 1, 1, ..., 0, 0, 0],\n",
              "       [1, 1, 1, ..., 0, 0, 0],\n",
              "       [1, 1, 1, ..., 0, 0, 0],\n",
              "       ...,\n",
              "       [1, 1, 1, ..., 0, 0, 0],\n",
              "       [1, 1, 1, ..., 0, 0, 0],\n",
              "       [1, 1, 1, ..., 0, 0, 0]], dtype=int32)>"
            ]
          },
          "metadata": {},
          "execution_count": 104
        }
      ]
    },
    {
      "cell_type": "code",
      "source": [
        "predicted = loaded_model.predict({'input_ids':x_test['input_ids'],'input_mask':x_test['attention_mask']})"
      ],
      "metadata": {
        "id": "93xTYO0ayJCW",
        "colab": {
          "base_uri": "https://localhost:8080/"
        },
        "outputId": "e52366be-5823-441f-e471-0e2d7fb89f45"
      },
      "execution_count": 105,
      "outputs": [
        {
          "output_type": "stream",
          "name": "stdout",
          "text": [
            "102/102 [==============================] - 10s 76ms/step\n"
          ]
        }
      ]
    },
    {
      "cell_type": "code",
      "source": [
        "y_predicted = np.where(predicted>0.5,1,0)\n",
        "y_predicted = y_predicted.reshape((1,3263))[0]\n",
        "df_sample['id'] = df_test.id\n",
        "df_sample['target'] = y_predicted\n",
        "df_sample.to_csv('submission.csv',index = False)\n",
        "# 리더보드 0.82929"
      ],
      "metadata": {
        "id": "YJRUShIzyg8o"
      },
      "execution_count": 106,
      "outputs": []
    },
    {
      "cell_type": "code",
      "source": [
        "c = df_sample['target']\n",
        "c"
      ],
      "metadata": {
        "id": "jpy2Q5K7h7Wz",
        "outputId": "e60185f4-92f5-4986-930e-9970fd260698",
        "colab": {
          "base_uri": "https://localhost:8080/"
        }
      },
      "execution_count": 107,
      "outputs": [
        {
          "output_type": "execute_result",
          "data": {
            "text/plain": [
              "0       1\n",
              "1       1\n",
              "2       1\n",
              "3       1\n",
              "4       1\n",
              "       ..\n",
              "3258    1\n",
              "3259    1\n",
              "3260    1\n",
              "3261    1\n",
              "3262    1\n",
              "Name: target, Length: 3263, dtype: int64"
            ]
          },
          "metadata": {},
          "execution_count": 107
        }
      ]
    },
    {
      "cell_type": "markdown",
      "source": [
        "# BERT - StratifiedKFold CV"
      ],
      "metadata": {
        "id": "3uZ36qS5dYY0"
      }
    },
    {
      "cell_type": "markdown",
      "source": [
        "# roBerta"
      ],
      "metadata": {
        "id": "tcjFs-EKqHqB"
      }
    },
    {
      "cell_type": "code",
      "source": [
        "import tensorflow_hub as hub\n",
        "module_url = \"https://tfhub.dev/tensorflow/bert_en_uncased_L-24_H-1024_A-16/1\"\n",
        "bert_layer = hub.KerasLayer(module_url, trainable=True)"
      ],
      "metadata": {
        "id": "OCzGSN2_Om-K"
      },
      "execution_count": 37,
      "outputs": []
    },
    {
      "cell_type": "code",
      "source": [
        "#!pip install tokenization"
      ],
      "metadata": {
        "colab": {
          "base_uri": "https://localhost:8080/"
        },
        "id": "OJFHpcREPLj8",
        "outputId": "1e087005-4ccd-417e-a5fc-bef2b3fd3851"
      },
      "execution_count": 26,
      "outputs": [
        {
          "output_type": "stream",
          "name": "stdout",
          "text": [
            "Looking in indexes: https://pypi.org/simple, https://us-python.pkg.dev/colab-wheels/public/simple/\n",
            "Collecting tokenization\n",
            "  Downloading tokenization-1.0.7-py3-none-any.whl (10 kB)\n",
            "Requirement already satisfied: regex in /usr/local/lib/python3.10/dist-packages (from tokenization) (2022.10.31)\n",
            "Installing collected packages: tokenization\n",
            "Successfully installed tokenization-1.0.7\n"
          ]
        }
      ]
    },
    {
      "cell_type": "code",
      "source": [
        "#!pip install bert"
      ],
      "metadata": {
        "colab": {
          "base_uri": "https://localhost:8080/"
        },
        "id": "C4NdWudoQIVx",
        "outputId": "a2390e28-526c-4d68-bc1f-7ecc6f1a83d8"
      },
      "execution_count": 32,
      "outputs": [
        {
          "output_type": "stream",
          "name": "stdout",
          "text": [
            "Looking in indexes: https://pypi.org/simple, https://us-python.pkg.dev/colab-wheels/public/simple/\n",
            "Collecting bert\n",
            "  Downloading bert-2.2.0.tar.gz (3.5 kB)\n",
            "  Preparing metadata (setup.py) ... \u001b[?25l\u001b[?25hdone\n",
            "Collecting erlastic (from bert)\n",
            "  Downloading erlastic-2.0.0.tar.gz (6.8 kB)\n",
            "  Preparing metadata (setup.py) ... \u001b[?25l\u001b[?25hdone\n",
            "Building wheels for collected packages: bert, erlastic\n",
            "  Building wheel for bert (setup.py) ... \u001b[?25l\u001b[?25hdone\n",
            "  Created wheel for bert: filename=bert-2.2.0-py3-none-any.whl size=3745 sha256=06e1f08379158eac5799c35bda6a6f0467d3ec4416dbe4d87820a7646eaf1962\n",
            "  Stored in directory: /root/.cache/pip/wheels/d0/97/c8/5775d57c323970511488d9b53ce66cf0ded394fe4b4f6e0afb\n",
            "  Building wheel for erlastic (setup.py) ... \u001b[?25l\u001b[?25hdone\n",
            "  Created wheel for erlastic: filename=erlastic-2.0.0-py3-none-any.whl size=6777 sha256=a70345ab00e11323321528070702033b2da8cc793c4c4042a82fd7fc9c92a098\n",
            "  Stored in directory: /root/.cache/pip/wheels/f5/ca/b1/ce71c2e0e9e0df3786697d06d53574be03ef86cd4fb0e2cb99\n",
            "Successfully built bert erlastic\n",
            "Installing collected packages: erlastic, bert\n",
            "Successfully installed bert-2.2.0 erlastic-2.0.0\n"
          ]
        }
      ]
    },
    {
      "cell_type": "code",
      "source": [
        "!pip install bert-tensorflow"
      ],
      "metadata": {
        "colab": {
          "base_uri": "https://localhost:8080/"
        },
        "id": "aqRjLYdyQTxA",
        "outputId": "0a6c4bb6-e499-4099-e036-a671642b7c88"
      },
      "execution_count": 1,
      "outputs": [
        {
          "output_type": "stream",
          "name": "stdout",
          "text": [
            "Looking in indexes: https://pypi.org/simple, https://us-python.pkg.dev/colab-wheels/public/simple/\n",
            "Requirement already satisfied: bert-tensorflow in /usr/local/lib/python3.10/dist-packages (1.0.4)\n",
            "Requirement already satisfied: six in /usr/local/lib/python3.10/dist-packages (from bert-tensorflow) (1.16.0)\n"
          ]
        }
      ]
    },
    {
      "cell_type": "code",
      "source": [
        "def bert_encode(texts, tokenizer, max_len=512):\n",
        "    all_tokens = []\n",
        "    all_masks = []\n",
        "    all_segments = []\n",
        "    \n",
        "    for text in texts:\n",
        "        text = tokenizer.tokenize(text)\n",
        "            \n",
        "        text = text[:max_len-2]\n",
        "        input_sequence = [\"[CLS]\"] + text + [\"[SEP]\"]\n",
        "        pad_len = max_len - len(input_sequence)\n",
        "        \n",
        "        tokens = tokenizer.convert_tokens_to_ids(input_sequence)\n",
        "        tokens += [0] * pad_len\n",
        "        pad_masks = [1] * len(input_sequence) + [0] * pad_len\n",
        "        segment_ids = [0] * max_len\n",
        "        \n",
        "        all_tokens.append(tokens)\n",
        "        all_masks.append(pad_masks)\n",
        "        all_segments.append(segment_ids)\n",
        "    \n",
        "    return np.array(all_tokens), np.array(all_masks), np.array(all_segments)"
      ],
      "metadata": {
        "id": "AsOE5LfxOPIA"
      },
      "execution_count": 39,
      "outputs": []
    },
    {
      "cell_type": "code",
      "source": [
        "def build_model(bert_layer, max_len=512):\n",
        "    input_word_ids = Input(shape=(max_len,), dtype=tf.int32, name=\"input_word_ids\")\n",
        "    input_mask = Input(shape=(max_len,), dtype=tf.int32, name=\"input_mask\")\n",
        "    segment_ids = Input(shape=(max_len,), dtype=tf.int32, name=\"segment_ids\")\n",
        "\n",
        "    #could be pooled_output, sequence_output yet sequence output provides for each input token (in context)\n",
        "    _, sequence_output = bert_layer([input_word_ids, input_mask, segment_ids])\n",
        "    clf_output = sequence_output[:, 0, :]\n",
        "    out = Dense(1, activation='sigmoid')(clf_output)\n",
        "    \n",
        "    model = Model(inputs=[input_word_ids, input_mask, segment_ids], outputs=out)\n",
        "    \n",
        "    #specifying optimizer\n",
        "    model.compile(Adam(learning_rate=1e-5), loss='binary_crossentropy', metrics=['accuracy'])\n",
        "    \n",
        "    return model"
      ],
      "metadata": {
        "id": "P2xKNAHOOf4i"
      },
      "execution_count": 40,
      "outputs": []
    },
    {
      "cell_type": "code",
      "source": [
        "from bert import tokenization"
      ],
      "metadata": {
        "id": "UF-OFQIrPpQI"
      },
      "execution_count": 41,
      "outputs": []
    },
    {
      "cell_type": "code",
      "source": [
        "import sys\n",
        "from absl import flags\n",
        "sys.argv=['preserve_unused_tokens=False']\n",
        "flags.FLAGS(sys.argv)"
      ],
      "metadata": {
        "colab": {
          "base_uri": "https://localhost:8080/"
        },
        "id": "0B9HHoP-Rmrn",
        "outputId": "c14ad8f0-c918-4aa7-f1e2-6d7661d8e6ea"
      },
      "execution_count": 43,
      "outputs": [
        {
          "output_type": "execute_result",
          "data": {
            "text/plain": [
              "['preserve_unused_tokens=False']"
            ]
          },
          "metadata": {},
          "execution_count": 43
        }
      ]
    },
    {
      "cell_type": "code",
      "source": [
        "#vocab file from pre-trained BERT for tokenization\n",
        "vocab_file = bert_layer.resolved_object.vocab_file.asset_path.numpy()\n",
        "\n",
        "#returns true/false depending on if we selected cased/uncased bert layer\n",
        "do_lower_case = bert_layer.resolved_object.do_lower_case.numpy()\n",
        "\n",
        "#Create the tokenizer\n",
        "tokenizer = tokenization.FullTokenizer(vocab_file, do_lower_case)\n",
        "\n",
        "#tokenizing the training and testing data\n",
        "train_input = bert_encode(df_train.text.values, tokenizer, max_len=160)\n",
        "test_input = bert_encode(df_test.text.values, tokenizer, max_len=160)\n",
        "train_labels = df_train.target.values"
      ],
      "metadata": {
        "id": "wucwchbJOzha"
      },
      "execution_count": 44,
      "outputs": []
    },
    {
      "cell_type": "code",
      "source": [
        "import numpy as np\n",
        "import pandas as pd\n",
        "import tensorflow as tf\n",
        "from tensorflow.keras.layers import Dense, Input\n",
        "from tensorflow.keras.optimizers import Adam\n",
        "from tensorflow.keras.models import Model\n",
        "from tensorflow.keras.callbacks import ModelCheckpoint\n",
        "\n",
        "model = build_model(bert_layer, max_len=160)\n",
        "model.summary()"
      ],
      "metadata": {
        "colab": {
          "base_uri": "https://localhost:8080/"
        },
        "id": "hGFbhuIKO7ug",
        "outputId": "de56363a-dd09-42ce-8a56-2a4bdc459927"
      },
      "execution_count": 48,
      "outputs": [
        {
          "output_type": "stream",
          "name": "stdout",
          "text": [
            "Model: \"model_1\"\n",
            "__________________________________________________________________________________________________\n",
            " Layer (type)                   Output Shape         Param #     Connected to                     \n",
            "==================================================================================================\n",
            " input_word_ids (InputLayer)    [(None, 160)]        0           []                               \n",
            "                                                                                                  \n",
            " input_mask (InputLayer)        [(None, 160)]        0           []                               \n",
            "                                                                                                  \n",
            " segment_ids (InputLayer)       [(None, 160)]        0           []                               \n",
            "                                                                                                  \n",
            " keras_layer (KerasLayer)       [(None, 1024),       335141889   ['input_word_ids[0][0]',         \n",
            "                                 (None, 160, 1024)]               'input_mask[0][0]',             \n",
            "                                                                  'segment_ids[0][0]']            \n",
            "                                                                                                  \n",
            " tf.__operators__.getitem_1 (Sl  (None, 1024)        0           ['keras_layer[1][1]']            \n",
            " icingOpLambda)                                                                                   \n",
            "                                                                                                  \n",
            " dense_1 (Dense)                (None, 1)            1025        ['tf.__operators__.getitem_1[0][0\n",
            "                                                                 ]']                              \n",
            "                                                                                                  \n",
            "==================================================================================================\n",
            "Total params: 335,142,914\n",
            "Trainable params: 335,142,913\n",
            "Non-trainable params: 1\n",
            "__________________________________________________________________________________________________\n"
          ]
        }
      ]
    },
    {
      "cell_type": "code",
      "source": [
        "checkpoint = ModelCheckpoint('model.h5', monitor='val_accuracy', save_best_only=True)\n",
        "\n",
        "train_history = model.fit(\n",
        "    train_input, train_labels,\n",
        "    validation_split=0.1,\n",
        "    epochs=3,\n",
        "    callbacks=[checkpoint],\n",
        "    batch_size=16\n",
        ")"
      ],
      "metadata": {
        "colab": {
          "base_uri": "https://localhost:8080/"
        },
        "id": "4EWUuI_iO_Df",
        "outputId": "cd0cbdde-d785-4def-c3be-758c6c9d508c"
      },
      "execution_count": 49,
      "outputs": [
        {
          "output_type": "stream",
          "name": "stdout",
          "text": [
            "Epoch 1/3\n",
            "429/429 [==============================] - 839s 2s/step - loss: 0.4362 - accuracy: 0.8116 - val_loss: 0.4043 - val_accuracy: 0.8307\n",
            "Epoch 2/3\n",
            "429/429 [==============================] - 709s 2s/step - loss: 0.3544 - accuracy: 0.8488 - val_loss: 0.4086 - val_accuracy: 0.8268\n",
            "Epoch 3/3\n",
            "429/429 [==============================] - 699s 2s/step - loss: 0.2755 - accuracy: 0.8867 - val_loss: 0.4799 - val_accuracy: 0.8268\n"
          ]
        }
      ]
    },
    {
      "cell_type": "code",
      "source": [
        "test_pred = model.predict(test_input)\n",
        "df_sample['target'] = test_pred.round().astype(int)\n",
        "df_sample.to_csv('submission.csv', index=False)\n",
        "#리더보드 0.825"
      ],
      "metadata": {
        "colab": {
          "base_uri": "https://localhost:8080/",
          "height": 247
        },
        "id": "nSDCcnVWR-SN",
        "outputId": "e77e50a3-919b-4a65-f39f-9e34b28a5ec4"
      },
      "execution_count": 50,
      "outputs": [
        {
          "output_type": "stream",
          "name": "stdout",
          "text": [
            "102/102 [==============================] - 124s 1s/step\n"
          ]
        },
        {
          "output_type": "error",
          "ename": "NameError",
          "evalue": "ignored",
          "traceback": [
            "\u001b[0;31m---------------------------------------------------------------------------\u001b[0m",
            "\u001b[0;31mNameError\u001b[0m                                 Traceback (most recent call last)",
            "\u001b[0;32m<ipython-input-50-0479ccaaa892>\u001b[0m in \u001b[0;36m<cell line: 3>\u001b[0;34m()\u001b[0m\n\u001b[1;32m      1\u001b[0m \u001b[0mtest_pred\u001b[0m \u001b[0;34m=\u001b[0m \u001b[0mmodel\u001b[0m\u001b[0;34m.\u001b[0m\u001b[0mpredict\u001b[0m\u001b[0;34m(\u001b[0m\u001b[0mtest_input\u001b[0m\u001b[0;34m)\u001b[0m\u001b[0;34m\u001b[0m\u001b[0;34m\u001b[0m\u001b[0m\n\u001b[1;32m      2\u001b[0m \u001b[0;34m\u001b[0m\u001b[0m\n\u001b[0;32m----> 3\u001b[0;31m \u001b[0msubmission\u001b[0m\u001b[0;34m[\u001b[0m\u001b[0;34m'target'\u001b[0m\u001b[0;34m]\u001b[0m \u001b[0;34m=\u001b[0m \u001b[0mtest_pred\u001b[0m\u001b[0;34m.\u001b[0m\u001b[0mround\u001b[0m\u001b[0;34m(\u001b[0m\u001b[0;34m)\u001b[0m\u001b[0;34m.\u001b[0m\u001b[0mastype\u001b[0m\u001b[0;34m(\u001b[0m\u001b[0mint\u001b[0m\u001b[0;34m)\u001b[0m\u001b[0;34m\u001b[0m\u001b[0;34m\u001b[0m\u001b[0m\n\u001b[0m\u001b[1;32m      4\u001b[0m \u001b[0msubmission\u001b[0m\u001b[0;34m.\u001b[0m\u001b[0mto_csv\u001b[0m\u001b[0;34m(\u001b[0m\u001b[0;34m'submission.csv'\u001b[0m\u001b[0;34m,\u001b[0m \u001b[0mindex\u001b[0m\u001b[0;34m=\u001b[0m\u001b[0;32mFalse\u001b[0m\u001b[0;34m)\u001b[0m\u001b[0;34m\u001b[0m\u001b[0;34m\u001b[0m\u001b[0m\n",
            "\u001b[0;31mNameError\u001b[0m: name 'submission' is not defined"
          ]
        }
      ]
    },
    {
      "cell_type": "code",
      "source": [
        "a = df_sample['target']"
      ],
      "metadata": {
        "id": "kHLZzukAf5wz"
      },
      "execution_count": 54,
      "outputs": []
    },
    {
      "cell_type": "code",
      "source": [
        "a"
      ],
      "metadata": {
        "id": "BWnaWCJlf9XU",
        "outputId": "8a343631-d986-431a-ad03-f76319df5a4b",
        "colab": {
          "base_uri": "https://localhost:8080/"
        }
      },
      "execution_count": 60,
      "outputs": [
        {
          "output_type": "execute_result",
          "data": {
            "text/plain": [
              "0       1\n",
              "1       1\n",
              "2       1\n",
              "3       1\n",
              "4       1\n",
              "       ..\n",
              "3258    1\n",
              "3259    1\n",
              "3260    1\n",
              "3261    1\n",
              "3262    1\n",
              "Name: target, Length: 3263, dtype: int64"
            ]
          },
          "metadata": {},
          "execution_count": 60
        }
      ]
    },
    {
      "cell_type": "code",
      "source": [
        "b"
      ],
      "metadata": {
        "id": "m9ZJD_lxgDcI",
        "outputId": "29021dac-f978-4fd3-b250-812d532023fe",
        "colab": {
          "base_uri": "https://localhost:8080/"
        }
      },
      "execution_count": 108,
      "outputs": [
        {
          "output_type": "execute_result",
          "data": {
            "text/plain": [
              "0       1\n",
              "1       1\n",
              "2       1\n",
              "3       1\n",
              "4       1\n",
              "       ..\n",
              "3258    1\n",
              "3259    1\n",
              "3260    1\n",
              "3261    1\n",
              "3262    0\n",
              "Name: target, Length: 3263, dtype: int64"
            ]
          },
          "metadata": {},
          "execution_count": 108
        }
      ]
    },
    {
      "cell_type": "code",
      "source": [
        "c"
      ],
      "metadata": {
        "id": "W2ynFrmil5Cb",
        "outputId": "4ec609d4-448e-47b8-fedb-b60fe91dd517",
        "colab": {
          "base_uri": "https://localhost:8080/"
        }
      },
      "execution_count": 109,
      "outputs": [
        {
          "output_type": "execute_result",
          "data": {
            "text/plain": [
              "0       1\n",
              "1       1\n",
              "2       1\n",
              "3       1\n",
              "4       1\n",
              "       ..\n",
              "3258    1\n",
              "3259    1\n",
              "3260    1\n",
              "3261    1\n",
              "3262    1\n",
              "Name: target, Length: 3263, dtype: int64"
            ]
          },
          "metadata": {},
          "execution_count": 109
        }
      ]
    },
    {
      "cell_type": "code",
      "source": [
        "d = (a+b+c)/3\n",
        "d"
      ],
      "metadata": {
        "id": "5gOAcD6zhsuc",
        "outputId": "dbf7222b-0e79-41e5-9030-f20e526a058e",
        "colab": {
          "base_uri": "https://localhost:8080/"
        }
      },
      "execution_count": 111,
      "outputs": [
        {
          "output_type": "execute_result",
          "data": {
            "text/plain": [
              "0       1.000000\n",
              "1       1.000000\n",
              "2       1.000000\n",
              "3       1.000000\n",
              "4       1.000000\n",
              "          ...   \n",
              "3258    1.000000\n",
              "3259    1.000000\n",
              "3260    1.000000\n",
              "3261    1.000000\n",
              "3262    0.666667\n",
              "Name: target, Length: 3263, dtype: float64"
            ]
          },
          "metadata": {},
          "execution_count": 111
        }
      ]
    },
    {
      "cell_type": "code",
      "source": [
        "e = np.where(d >= 0.5, 1, 0)\n",
        "e"
      ],
      "metadata": {
        "id": "XRUO8Dx-htDJ",
        "outputId": "57e5072c-c062-4764-d5db-473e295c08a7",
        "colab": {
          "base_uri": "https://localhost:8080/"
        }
      },
      "execution_count": 112,
      "outputs": [
        {
          "output_type": "execute_result",
          "data": {
            "text/plain": [
              "array([1, 1, 1, ..., 1, 1, 1])"
            ]
          },
          "metadata": {},
          "execution_count": 112
        }
      ]
    },
    {
      "cell_type": "code",
      "source": [
        "df_sample['target'] = e\n",
        "df_sample.to_csv('submission.csv', index=False)\n",
        "#리더보드 0.825"
      ],
      "metadata": {
        "id": "LUY98uEHiJkC"
      },
      "execution_count": 113,
      "outputs": []
    }
  ],
  "metadata": {
    "colab": {
      "provenance": [],
      "gpuType": "T4",
      "include_colab_link": true
    },
    "kernelspec": {
      "display_name": "Python 3",
      "name": "python3"
    },
    "widgets": {
      "application/vnd.jupyter.widget-state+json": {
        "7010ee5a7cf847cf875bb379cb7d66ce": {
          "model_module": "@jupyter-widgets/controls",
          "model_name": "HBoxModel",
          "model_module_version": "1.5.0",
          "state": {
            "_dom_classes": [],
            "_model_module": "@jupyter-widgets/controls",
            "_model_module_version": "1.5.0",
            "_model_name": "HBoxModel",
            "_view_count": null,
            "_view_module": "@jupyter-widgets/controls",
            "_view_module_version": "1.5.0",
            "_view_name": "HBoxView",
            "box_style": "",
            "children": [
              "IPY_MODEL_c182d35a48634125ade2c7b163234de2",
              "IPY_MODEL_713ab0ba17784d4495f2222ab374a538",
              "IPY_MODEL_6b72c42ea30e442e93c801e0189372c4"
            ],
            "layout": "IPY_MODEL_baf8bf85a9c540d792c16edd1c7ca5b0"
          }
        },
        "c182d35a48634125ade2c7b163234de2": {
          "model_module": "@jupyter-widgets/controls",
          "model_name": "HTMLModel",
          "model_module_version": "1.5.0",
          "state": {
            "_dom_classes": [],
            "_model_module": "@jupyter-widgets/controls",
            "_model_module_version": "1.5.0",
            "_model_name": "HTMLModel",
            "_view_count": null,
            "_view_module": "@jupyter-widgets/controls",
            "_view_module_version": "1.5.0",
            "_view_name": "HTMLView",
            "description": "",
            "description_tooltip": null,
            "layout": "IPY_MODEL_2b542b0d03dd4cff831311cb99e6b4bc",
            "placeholder": "​",
            "style": "IPY_MODEL_6c07ff1c37874d1ab99abee09f1da268",
            "value": "Downloading (…)okenizer_config.json: 100%"
          }
        },
        "713ab0ba17784d4495f2222ab374a538": {
          "model_module": "@jupyter-widgets/controls",
          "model_name": "FloatProgressModel",
          "model_module_version": "1.5.0",
          "state": {
            "_dom_classes": [],
            "_model_module": "@jupyter-widgets/controls",
            "_model_module_version": "1.5.0",
            "_model_name": "FloatProgressModel",
            "_view_count": null,
            "_view_module": "@jupyter-widgets/controls",
            "_view_module_version": "1.5.0",
            "_view_name": "ProgressView",
            "bar_style": "success",
            "description": "",
            "description_tooltip": null,
            "layout": "IPY_MODEL_524147e4a71b417ca231fbf9939148d8",
            "max": 28,
            "min": 0,
            "orientation": "horizontal",
            "style": "IPY_MODEL_d8073905a836445dbfa8766a14ee0457",
            "value": 28
          }
        },
        "6b72c42ea30e442e93c801e0189372c4": {
          "model_module": "@jupyter-widgets/controls",
          "model_name": "HTMLModel",
          "model_module_version": "1.5.0",
          "state": {
            "_dom_classes": [],
            "_model_module": "@jupyter-widgets/controls",
            "_model_module_version": "1.5.0",
            "_model_name": "HTMLModel",
            "_view_count": null,
            "_view_module": "@jupyter-widgets/controls",
            "_view_module_version": "1.5.0",
            "_view_name": "HTMLView",
            "description": "",
            "description_tooltip": null,
            "layout": "IPY_MODEL_44ba70fbcaeb466e854bf4febdc287bc",
            "placeholder": "​",
            "style": "IPY_MODEL_ab8f1f794aa24d8ea25609010b80dda1",
            "value": " 28.0/28.0 [00:00&lt;00:00, 1.03kB/s]"
          }
        },
        "baf8bf85a9c540d792c16edd1c7ca5b0": {
          "model_module": "@jupyter-widgets/base",
          "model_name": "LayoutModel",
          "model_module_version": "1.2.0",
          "state": {
            "_model_module": "@jupyter-widgets/base",
            "_model_module_version": "1.2.0",
            "_model_name": "LayoutModel",
            "_view_count": null,
            "_view_module": "@jupyter-widgets/base",
            "_view_module_version": "1.2.0",
            "_view_name": "LayoutView",
            "align_content": null,
            "align_items": null,
            "align_self": null,
            "border": null,
            "bottom": null,
            "display": null,
            "flex": null,
            "flex_flow": null,
            "grid_area": null,
            "grid_auto_columns": null,
            "grid_auto_flow": null,
            "grid_auto_rows": null,
            "grid_column": null,
            "grid_gap": null,
            "grid_row": null,
            "grid_template_areas": null,
            "grid_template_columns": null,
            "grid_template_rows": null,
            "height": null,
            "justify_content": null,
            "justify_items": null,
            "left": null,
            "margin": null,
            "max_height": null,
            "max_width": null,
            "min_height": null,
            "min_width": null,
            "object_fit": null,
            "object_position": null,
            "order": null,
            "overflow": null,
            "overflow_x": null,
            "overflow_y": null,
            "padding": null,
            "right": null,
            "top": null,
            "visibility": null,
            "width": null
          }
        },
        "2b542b0d03dd4cff831311cb99e6b4bc": {
          "model_module": "@jupyter-widgets/base",
          "model_name": "LayoutModel",
          "model_module_version": "1.2.0",
          "state": {
            "_model_module": "@jupyter-widgets/base",
            "_model_module_version": "1.2.0",
            "_model_name": "LayoutModel",
            "_view_count": null,
            "_view_module": "@jupyter-widgets/base",
            "_view_module_version": "1.2.0",
            "_view_name": "LayoutView",
            "align_content": null,
            "align_items": null,
            "align_self": null,
            "border": null,
            "bottom": null,
            "display": null,
            "flex": null,
            "flex_flow": null,
            "grid_area": null,
            "grid_auto_columns": null,
            "grid_auto_flow": null,
            "grid_auto_rows": null,
            "grid_column": null,
            "grid_gap": null,
            "grid_row": null,
            "grid_template_areas": null,
            "grid_template_columns": null,
            "grid_template_rows": null,
            "height": null,
            "justify_content": null,
            "justify_items": null,
            "left": null,
            "margin": null,
            "max_height": null,
            "max_width": null,
            "min_height": null,
            "min_width": null,
            "object_fit": null,
            "object_position": null,
            "order": null,
            "overflow": null,
            "overflow_x": null,
            "overflow_y": null,
            "padding": null,
            "right": null,
            "top": null,
            "visibility": null,
            "width": null
          }
        },
        "6c07ff1c37874d1ab99abee09f1da268": {
          "model_module": "@jupyter-widgets/controls",
          "model_name": "DescriptionStyleModel",
          "model_module_version": "1.5.0",
          "state": {
            "_model_module": "@jupyter-widgets/controls",
            "_model_module_version": "1.5.0",
            "_model_name": "DescriptionStyleModel",
            "_view_count": null,
            "_view_module": "@jupyter-widgets/base",
            "_view_module_version": "1.2.0",
            "_view_name": "StyleView",
            "description_width": ""
          }
        },
        "524147e4a71b417ca231fbf9939148d8": {
          "model_module": "@jupyter-widgets/base",
          "model_name": "LayoutModel",
          "model_module_version": "1.2.0",
          "state": {
            "_model_module": "@jupyter-widgets/base",
            "_model_module_version": "1.2.0",
            "_model_name": "LayoutModel",
            "_view_count": null,
            "_view_module": "@jupyter-widgets/base",
            "_view_module_version": "1.2.0",
            "_view_name": "LayoutView",
            "align_content": null,
            "align_items": null,
            "align_self": null,
            "border": null,
            "bottom": null,
            "display": null,
            "flex": null,
            "flex_flow": null,
            "grid_area": null,
            "grid_auto_columns": null,
            "grid_auto_flow": null,
            "grid_auto_rows": null,
            "grid_column": null,
            "grid_gap": null,
            "grid_row": null,
            "grid_template_areas": null,
            "grid_template_columns": null,
            "grid_template_rows": null,
            "height": null,
            "justify_content": null,
            "justify_items": null,
            "left": null,
            "margin": null,
            "max_height": null,
            "max_width": null,
            "min_height": null,
            "min_width": null,
            "object_fit": null,
            "object_position": null,
            "order": null,
            "overflow": null,
            "overflow_x": null,
            "overflow_y": null,
            "padding": null,
            "right": null,
            "top": null,
            "visibility": null,
            "width": null
          }
        },
        "d8073905a836445dbfa8766a14ee0457": {
          "model_module": "@jupyter-widgets/controls",
          "model_name": "ProgressStyleModel",
          "model_module_version": "1.5.0",
          "state": {
            "_model_module": "@jupyter-widgets/controls",
            "_model_module_version": "1.5.0",
            "_model_name": "ProgressStyleModel",
            "_view_count": null,
            "_view_module": "@jupyter-widgets/base",
            "_view_module_version": "1.2.0",
            "_view_name": "StyleView",
            "bar_color": null,
            "description_width": ""
          }
        },
        "44ba70fbcaeb466e854bf4febdc287bc": {
          "model_module": "@jupyter-widgets/base",
          "model_name": "LayoutModel",
          "model_module_version": "1.2.0",
          "state": {
            "_model_module": "@jupyter-widgets/base",
            "_model_module_version": "1.2.0",
            "_model_name": "LayoutModel",
            "_view_count": null,
            "_view_module": "@jupyter-widgets/base",
            "_view_module_version": "1.2.0",
            "_view_name": "LayoutView",
            "align_content": null,
            "align_items": null,
            "align_self": null,
            "border": null,
            "bottom": null,
            "display": null,
            "flex": null,
            "flex_flow": null,
            "grid_area": null,
            "grid_auto_columns": null,
            "grid_auto_flow": null,
            "grid_auto_rows": null,
            "grid_column": null,
            "grid_gap": null,
            "grid_row": null,
            "grid_template_areas": null,
            "grid_template_columns": null,
            "grid_template_rows": null,
            "height": null,
            "justify_content": null,
            "justify_items": null,
            "left": null,
            "margin": null,
            "max_height": null,
            "max_width": null,
            "min_height": null,
            "min_width": null,
            "object_fit": null,
            "object_position": null,
            "order": null,
            "overflow": null,
            "overflow_x": null,
            "overflow_y": null,
            "padding": null,
            "right": null,
            "top": null,
            "visibility": null,
            "width": null
          }
        },
        "ab8f1f794aa24d8ea25609010b80dda1": {
          "model_module": "@jupyter-widgets/controls",
          "model_name": "DescriptionStyleModel",
          "model_module_version": "1.5.0",
          "state": {
            "_model_module": "@jupyter-widgets/controls",
            "_model_module_version": "1.5.0",
            "_model_name": "DescriptionStyleModel",
            "_view_count": null,
            "_view_module": "@jupyter-widgets/base",
            "_view_module_version": "1.2.0",
            "_view_name": "StyleView",
            "description_width": ""
          }
        },
        "2317d372a72b43c0a902ea75bf2dfb3a": {
          "model_module": "@jupyter-widgets/controls",
          "model_name": "HBoxModel",
          "model_module_version": "1.5.0",
          "state": {
            "_dom_classes": [],
            "_model_module": "@jupyter-widgets/controls",
            "_model_module_version": "1.5.0",
            "_model_name": "HBoxModel",
            "_view_count": null,
            "_view_module": "@jupyter-widgets/controls",
            "_view_module_version": "1.5.0",
            "_view_name": "HBoxView",
            "box_style": "",
            "children": [
              "IPY_MODEL_170bc3828ab7462e9ab9b470c87b36d5",
              "IPY_MODEL_8499fe8fb2f8471990bb1921649bbe1b",
              "IPY_MODEL_9378782328a04d8ab001ed70494d9f6c"
            ],
            "layout": "IPY_MODEL_899887b121424a1b87c2f6a15b7ec608"
          }
        },
        "170bc3828ab7462e9ab9b470c87b36d5": {
          "model_module": "@jupyter-widgets/controls",
          "model_name": "HTMLModel",
          "model_module_version": "1.5.0",
          "state": {
            "_dom_classes": [],
            "_model_module": "@jupyter-widgets/controls",
            "_model_module_version": "1.5.0",
            "_model_name": "HTMLModel",
            "_view_count": null,
            "_view_module": "@jupyter-widgets/controls",
            "_view_module_version": "1.5.0",
            "_view_name": "HTMLView",
            "description": "",
            "description_tooltip": null,
            "layout": "IPY_MODEL_73cfafdbaff04e8082d1f667aca79b15",
            "placeholder": "​",
            "style": "IPY_MODEL_f1e6804ab7484783832fa34a3a5158ea",
            "value": "Downloading (…)lve/main/config.json: 100%"
          }
        },
        "8499fe8fb2f8471990bb1921649bbe1b": {
          "model_module": "@jupyter-widgets/controls",
          "model_name": "FloatProgressModel",
          "model_module_version": "1.5.0",
          "state": {
            "_dom_classes": [],
            "_model_module": "@jupyter-widgets/controls",
            "_model_module_version": "1.5.0",
            "_model_name": "FloatProgressModel",
            "_view_count": null,
            "_view_module": "@jupyter-widgets/controls",
            "_view_module_version": "1.5.0",
            "_view_name": "ProgressView",
            "bar_style": "success",
            "description": "",
            "description_tooltip": null,
            "layout": "IPY_MODEL_63a6e1c76f5b492cbdfd93684b16caea",
            "max": 570,
            "min": 0,
            "orientation": "horizontal",
            "style": "IPY_MODEL_a94425b7b11d4e0eb504a6b1d897da12",
            "value": 570
          }
        },
        "9378782328a04d8ab001ed70494d9f6c": {
          "model_module": "@jupyter-widgets/controls",
          "model_name": "HTMLModel",
          "model_module_version": "1.5.0",
          "state": {
            "_dom_classes": [],
            "_model_module": "@jupyter-widgets/controls",
            "_model_module_version": "1.5.0",
            "_model_name": "HTMLModel",
            "_view_count": null,
            "_view_module": "@jupyter-widgets/controls",
            "_view_module_version": "1.5.0",
            "_view_name": "HTMLView",
            "description": "",
            "description_tooltip": null,
            "layout": "IPY_MODEL_a9aeca2a8034455bb96d252a9e8e12ee",
            "placeholder": "​",
            "style": "IPY_MODEL_7d8a792307bf4dd4b83138df2b6fe10c",
            "value": " 570/570 [00:00&lt;00:00, 33.6kB/s]"
          }
        },
        "899887b121424a1b87c2f6a15b7ec608": {
          "model_module": "@jupyter-widgets/base",
          "model_name": "LayoutModel",
          "model_module_version": "1.2.0",
          "state": {
            "_model_module": "@jupyter-widgets/base",
            "_model_module_version": "1.2.0",
            "_model_name": "LayoutModel",
            "_view_count": null,
            "_view_module": "@jupyter-widgets/base",
            "_view_module_version": "1.2.0",
            "_view_name": "LayoutView",
            "align_content": null,
            "align_items": null,
            "align_self": null,
            "border": null,
            "bottom": null,
            "display": null,
            "flex": null,
            "flex_flow": null,
            "grid_area": null,
            "grid_auto_columns": null,
            "grid_auto_flow": null,
            "grid_auto_rows": null,
            "grid_column": null,
            "grid_gap": null,
            "grid_row": null,
            "grid_template_areas": null,
            "grid_template_columns": null,
            "grid_template_rows": null,
            "height": null,
            "justify_content": null,
            "justify_items": null,
            "left": null,
            "margin": null,
            "max_height": null,
            "max_width": null,
            "min_height": null,
            "min_width": null,
            "object_fit": null,
            "object_position": null,
            "order": null,
            "overflow": null,
            "overflow_x": null,
            "overflow_y": null,
            "padding": null,
            "right": null,
            "top": null,
            "visibility": null,
            "width": null
          }
        },
        "73cfafdbaff04e8082d1f667aca79b15": {
          "model_module": "@jupyter-widgets/base",
          "model_name": "LayoutModel",
          "model_module_version": "1.2.0",
          "state": {
            "_model_module": "@jupyter-widgets/base",
            "_model_module_version": "1.2.0",
            "_model_name": "LayoutModel",
            "_view_count": null,
            "_view_module": "@jupyter-widgets/base",
            "_view_module_version": "1.2.0",
            "_view_name": "LayoutView",
            "align_content": null,
            "align_items": null,
            "align_self": null,
            "border": null,
            "bottom": null,
            "display": null,
            "flex": null,
            "flex_flow": null,
            "grid_area": null,
            "grid_auto_columns": null,
            "grid_auto_flow": null,
            "grid_auto_rows": null,
            "grid_column": null,
            "grid_gap": null,
            "grid_row": null,
            "grid_template_areas": null,
            "grid_template_columns": null,
            "grid_template_rows": null,
            "height": null,
            "justify_content": null,
            "justify_items": null,
            "left": null,
            "margin": null,
            "max_height": null,
            "max_width": null,
            "min_height": null,
            "min_width": null,
            "object_fit": null,
            "object_position": null,
            "order": null,
            "overflow": null,
            "overflow_x": null,
            "overflow_y": null,
            "padding": null,
            "right": null,
            "top": null,
            "visibility": null,
            "width": null
          }
        },
        "f1e6804ab7484783832fa34a3a5158ea": {
          "model_module": "@jupyter-widgets/controls",
          "model_name": "DescriptionStyleModel",
          "model_module_version": "1.5.0",
          "state": {
            "_model_module": "@jupyter-widgets/controls",
            "_model_module_version": "1.5.0",
            "_model_name": "DescriptionStyleModel",
            "_view_count": null,
            "_view_module": "@jupyter-widgets/base",
            "_view_module_version": "1.2.0",
            "_view_name": "StyleView",
            "description_width": ""
          }
        },
        "63a6e1c76f5b492cbdfd93684b16caea": {
          "model_module": "@jupyter-widgets/base",
          "model_name": "LayoutModel",
          "model_module_version": "1.2.0",
          "state": {
            "_model_module": "@jupyter-widgets/base",
            "_model_module_version": "1.2.0",
            "_model_name": "LayoutModel",
            "_view_count": null,
            "_view_module": "@jupyter-widgets/base",
            "_view_module_version": "1.2.0",
            "_view_name": "LayoutView",
            "align_content": null,
            "align_items": null,
            "align_self": null,
            "border": null,
            "bottom": null,
            "display": null,
            "flex": null,
            "flex_flow": null,
            "grid_area": null,
            "grid_auto_columns": null,
            "grid_auto_flow": null,
            "grid_auto_rows": null,
            "grid_column": null,
            "grid_gap": null,
            "grid_row": null,
            "grid_template_areas": null,
            "grid_template_columns": null,
            "grid_template_rows": null,
            "height": null,
            "justify_content": null,
            "justify_items": null,
            "left": null,
            "margin": null,
            "max_height": null,
            "max_width": null,
            "min_height": null,
            "min_width": null,
            "object_fit": null,
            "object_position": null,
            "order": null,
            "overflow": null,
            "overflow_x": null,
            "overflow_y": null,
            "padding": null,
            "right": null,
            "top": null,
            "visibility": null,
            "width": null
          }
        },
        "a94425b7b11d4e0eb504a6b1d897da12": {
          "model_module": "@jupyter-widgets/controls",
          "model_name": "ProgressStyleModel",
          "model_module_version": "1.5.0",
          "state": {
            "_model_module": "@jupyter-widgets/controls",
            "_model_module_version": "1.5.0",
            "_model_name": "ProgressStyleModel",
            "_view_count": null,
            "_view_module": "@jupyter-widgets/base",
            "_view_module_version": "1.2.0",
            "_view_name": "StyleView",
            "bar_color": null,
            "description_width": ""
          }
        },
        "a9aeca2a8034455bb96d252a9e8e12ee": {
          "model_module": "@jupyter-widgets/base",
          "model_name": "LayoutModel",
          "model_module_version": "1.2.0",
          "state": {
            "_model_module": "@jupyter-widgets/base",
            "_model_module_version": "1.2.0",
            "_model_name": "LayoutModel",
            "_view_count": null,
            "_view_module": "@jupyter-widgets/base",
            "_view_module_version": "1.2.0",
            "_view_name": "LayoutView",
            "align_content": null,
            "align_items": null,
            "align_self": null,
            "border": null,
            "bottom": null,
            "display": null,
            "flex": null,
            "flex_flow": null,
            "grid_area": null,
            "grid_auto_columns": null,
            "grid_auto_flow": null,
            "grid_auto_rows": null,
            "grid_column": null,
            "grid_gap": null,
            "grid_row": null,
            "grid_template_areas": null,
            "grid_template_columns": null,
            "grid_template_rows": null,
            "height": null,
            "justify_content": null,
            "justify_items": null,
            "left": null,
            "margin": null,
            "max_height": null,
            "max_width": null,
            "min_height": null,
            "min_width": null,
            "object_fit": null,
            "object_position": null,
            "order": null,
            "overflow": null,
            "overflow_x": null,
            "overflow_y": null,
            "padding": null,
            "right": null,
            "top": null,
            "visibility": null,
            "width": null
          }
        },
        "7d8a792307bf4dd4b83138df2b6fe10c": {
          "model_module": "@jupyter-widgets/controls",
          "model_name": "DescriptionStyleModel",
          "model_module_version": "1.5.0",
          "state": {
            "_model_module": "@jupyter-widgets/controls",
            "_model_module_version": "1.5.0",
            "_model_name": "DescriptionStyleModel",
            "_view_count": null,
            "_view_module": "@jupyter-widgets/base",
            "_view_module_version": "1.2.0",
            "_view_name": "StyleView",
            "description_width": ""
          }
        },
        "41d721a962514a658466b986d6427518": {
          "model_module": "@jupyter-widgets/controls",
          "model_name": "HBoxModel",
          "model_module_version": "1.5.0",
          "state": {
            "_dom_classes": [],
            "_model_module": "@jupyter-widgets/controls",
            "_model_module_version": "1.5.0",
            "_model_name": "HBoxModel",
            "_view_count": null,
            "_view_module": "@jupyter-widgets/controls",
            "_view_module_version": "1.5.0",
            "_view_name": "HBoxView",
            "box_style": "",
            "children": [
              "IPY_MODEL_6d685d1b259c4f099ac62048630b0c73",
              "IPY_MODEL_32af59de14eb40008775966c2b617f89",
              "IPY_MODEL_d7fca1b68a2448699e2004dfe8a80910"
            ],
            "layout": "IPY_MODEL_b467cafe7e95421f8a38291e1e1a71ec"
          }
        },
        "6d685d1b259c4f099ac62048630b0c73": {
          "model_module": "@jupyter-widgets/controls",
          "model_name": "HTMLModel",
          "model_module_version": "1.5.0",
          "state": {
            "_dom_classes": [],
            "_model_module": "@jupyter-widgets/controls",
            "_model_module_version": "1.5.0",
            "_model_name": "HTMLModel",
            "_view_count": null,
            "_view_module": "@jupyter-widgets/controls",
            "_view_module_version": "1.5.0",
            "_view_name": "HTMLView",
            "description": "",
            "description_tooltip": null,
            "layout": "IPY_MODEL_0bc0fc602a684f629cf17aed07e17573",
            "placeholder": "​",
            "style": "IPY_MODEL_b58518323da941e0b620d0ef96308e26",
            "value": "Downloading (…)solve/main/vocab.txt: 100%"
          }
        },
        "32af59de14eb40008775966c2b617f89": {
          "model_module": "@jupyter-widgets/controls",
          "model_name": "FloatProgressModel",
          "model_module_version": "1.5.0",
          "state": {
            "_dom_classes": [],
            "_model_module": "@jupyter-widgets/controls",
            "_model_module_version": "1.5.0",
            "_model_name": "FloatProgressModel",
            "_view_count": null,
            "_view_module": "@jupyter-widgets/controls",
            "_view_module_version": "1.5.0",
            "_view_name": "ProgressView",
            "bar_style": "success",
            "description": "",
            "description_tooltip": null,
            "layout": "IPY_MODEL_0e059c18db8d42188bb702c79c8fa057",
            "max": 231508,
            "min": 0,
            "orientation": "horizontal",
            "style": "IPY_MODEL_7d99070529dd41d290c80d0999ba1f7e",
            "value": 231508
          }
        },
        "d7fca1b68a2448699e2004dfe8a80910": {
          "model_module": "@jupyter-widgets/controls",
          "model_name": "HTMLModel",
          "model_module_version": "1.5.0",
          "state": {
            "_dom_classes": [],
            "_model_module": "@jupyter-widgets/controls",
            "_model_module_version": "1.5.0",
            "_model_name": "HTMLModel",
            "_view_count": null,
            "_view_module": "@jupyter-widgets/controls",
            "_view_module_version": "1.5.0",
            "_view_name": "HTMLView",
            "description": "",
            "description_tooltip": null,
            "layout": "IPY_MODEL_0af9398c0af44281b67462fb9fc077ff",
            "placeholder": "​",
            "style": "IPY_MODEL_5a214132875242cfaad90d00d9de130f",
            "value": " 232k/232k [00:00&lt;00:00, 2.99MB/s]"
          }
        },
        "b467cafe7e95421f8a38291e1e1a71ec": {
          "model_module": "@jupyter-widgets/base",
          "model_name": "LayoutModel",
          "model_module_version": "1.2.0",
          "state": {
            "_model_module": "@jupyter-widgets/base",
            "_model_module_version": "1.2.0",
            "_model_name": "LayoutModel",
            "_view_count": null,
            "_view_module": "@jupyter-widgets/base",
            "_view_module_version": "1.2.0",
            "_view_name": "LayoutView",
            "align_content": null,
            "align_items": null,
            "align_self": null,
            "border": null,
            "bottom": null,
            "display": null,
            "flex": null,
            "flex_flow": null,
            "grid_area": null,
            "grid_auto_columns": null,
            "grid_auto_flow": null,
            "grid_auto_rows": null,
            "grid_column": null,
            "grid_gap": null,
            "grid_row": null,
            "grid_template_areas": null,
            "grid_template_columns": null,
            "grid_template_rows": null,
            "height": null,
            "justify_content": null,
            "justify_items": null,
            "left": null,
            "margin": null,
            "max_height": null,
            "max_width": null,
            "min_height": null,
            "min_width": null,
            "object_fit": null,
            "object_position": null,
            "order": null,
            "overflow": null,
            "overflow_x": null,
            "overflow_y": null,
            "padding": null,
            "right": null,
            "top": null,
            "visibility": null,
            "width": null
          }
        },
        "0bc0fc602a684f629cf17aed07e17573": {
          "model_module": "@jupyter-widgets/base",
          "model_name": "LayoutModel",
          "model_module_version": "1.2.0",
          "state": {
            "_model_module": "@jupyter-widgets/base",
            "_model_module_version": "1.2.0",
            "_model_name": "LayoutModel",
            "_view_count": null,
            "_view_module": "@jupyter-widgets/base",
            "_view_module_version": "1.2.0",
            "_view_name": "LayoutView",
            "align_content": null,
            "align_items": null,
            "align_self": null,
            "border": null,
            "bottom": null,
            "display": null,
            "flex": null,
            "flex_flow": null,
            "grid_area": null,
            "grid_auto_columns": null,
            "grid_auto_flow": null,
            "grid_auto_rows": null,
            "grid_column": null,
            "grid_gap": null,
            "grid_row": null,
            "grid_template_areas": null,
            "grid_template_columns": null,
            "grid_template_rows": null,
            "height": null,
            "justify_content": null,
            "justify_items": null,
            "left": null,
            "margin": null,
            "max_height": null,
            "max_width": null,
            "min_height": null,
            "min_width": null,
            "object_fit": null,
            "object_position": null,
            "order": null,
            "overflow": null,
            "overflow_x": null,
            "overflow_y": null,
            "padding": null,
            "right": null,
            "top": null,
            "visibility": null,
            "width": null
          }
        },
        "b58518323da941e0b620d0ef96308e26": {
          "model_module": "@jupyter-widgets/controls",
          "model_name": "DescriptionStyleModel",
          "model_module_version": "1.5.0",
          "state": {
            "_model_module": "@jupyter-widgets/controls",
            "_model_module_version": "1.5.0",
            "_model_name": "DescriptionStyleModel",
            "_view_count": null,
            "_view_module": "@jupyter-widgets/base",
            "_view_module_version": "1.2.0",
            "_view_name": "StyleView",
            "description_width": ""
          }
        },
        "0e059c18db8d42188bb702c79c8fa057": {
          "model_module": "@jupyter-widgets/base",
          "model_name": "LayoutModel",
          "model_module_version": "1.2.0",
          "state": {
            "_model_module": "@jupyter-widgets/base",
            "_model_module_version": "1.2.0",
            "_model_name": "LayoutModel",
            "_view_count": null,
            "_view_module": "@jupyter-widgets/base",
            "_view_module_version": "1.2.0",
            "_view_name": "LayoutView",
            "align_content": null,
            "align_items": null,
            "align_self": null,
            "border": null,
            "bottom": null,
            "display": null,
            "flex": null,
            "flex_flow": null,
            "grid_area": null,
            "grid_auto_columns": null,
            "grid_auto_flow": null,
            "grid_auto_rows": null,
            "grid_column": null,
            "grid_gap": null,
            "grid_row": null,
            "grid_template_areas": null,
            "grid_template_columns": null,
            "grid_template_rows": null,
            "height": null,
            "justify_content": null,
            "justify_items": null,
            "left": null,
            "margin": null,
            "max_height": null,
            "max_width": null,
            "min_height": null,
            "min_width": null,
            "object_fit": null,
            "object_position": null,
            "order": null,
            "overflow": null,
            "overflow_x": null,
            "overflow_y": null,
            "padding": null,
            "right": null,
            "top": null,
            "visibility": null,
            "width": null
          }
        },
        "7d99070529dd41d290c80d0999ba1f7e": {
          "model_module": "@jupyter-widgets/controls",
          "model_name": "ProgressStyleModel",
          "model_module_version": "1.5.0",
          "state": {
            "_model_module": "@jupyter-widgets/controls",
            "_model_module_version": "1.5.0",
            "_model_name": "ProgressStyleModel",
            "_view_count": null,
            "_view_module": "@jupyter-widgets/base",
            "_view_module_version": "1.2.0",
            "_view_name": "StyleView",
            "bar_color": null,
            "description_width": ""
          }
        },
        "0af9398c0af44281b67462fb9fc077ff": {
          "model_module": "@jupyter-widgets/base",
          "model_name": "LayoutModel",
          "model_module_version": "1.2.0",
          "state": {
            "_model_module": "@jupyter-widgets/base",
            "_model_module_version": "1.2.0",
            "_model_name": "LayoutModel",
            "_view_count": null,
            "_view_module": "@jupyter-widgets/base",
            "_view_module_version": "1.2.0",
            "_view_name": "LayoutView",
            "align_content": null,
            "align_items": null,
            "align_self": null,
            "border": null,
            "bottom": null,
            "display": null,
            "flex": null,
            "flex_flow": null,
            "grid_area": null,
            "grid_auto_columns": null,
            "grid_auto_flow": null,
            "grid_auto_rows": null,
            "grid_column": null,
            "grid_gap": null,
            "grid_row": null,
            "grid_template_areas": null,
            "grid_template_columns": null,
            "grid_template_rows": null,
            "height": null,
            "justify_content": null,
            "justify_items": null,
            "left": null,
            "margin": null,
            "max_height": null,
            "max_width": null,
            "min_height": null,
            "min_width": null,
            "object_fit": null,
            "object_position": null,
            "order": null,
            "overflow": null,
            "overflow_x": null,
            "overflow_y": null,
            "padding": null,
            "right": null,
            "top": null,
            "visibility": null,
            "width": null
          }
        },
        "5a214132875242cfaad90d00d9de130f": {
          "model_module": "@jupyter-widgets/controls",
          "model_name": "DescriptionStyleModel",
          "model_module_version": "1.5.0",
          "state": {
            "_model_module": "@jupyter-widgets/controls",
            "_model_module_version": "1.5.0",
            "_model_name": "DescriptionStyleModel",
            "_view_count": null,
            "_view_module": "@jupyter-widgets/base",
            "_view_module_version": "1.2.0",
            "_view_name": "StyleView",
            "description_width": ""
          }
        },
        "f8cdaa5fe8c745f8b3e183148b2a5697": {
          "model_module": "@jupyter-widgets/controls",
          "model_name": "HBoxModel",
          "model_module_version": "1.5.0",
          "state": {
            "_dom_classes": [],
            "_model_module": "@jupyter-widgets/controls",
            "_model_module_version": "1.5.0",
            "_model_name": "HBoxModel",
            "_view_count": null,
            "_view_module": "@jupyter-widgets/controls",
            "_view_module_version": "1.5.0",
            "_view_name": "HBoxView",
            "box_style": "",
            "children": [
              "IPY_MODEL_942ddd36b3d847c6949f693600950d93",
              "IPY_MODEL_14af3b615b9b4cdda85ac914e038bfe4",
              "IPY_MODEL_9e503cd2749f42c68c71e1697822126f"
            ],
            "layout": "IPY_MODEL_a309bc91db4f4fb7be653b509af7612b"
          }
        },
        "942ddd36b3d847c6949f693600950d93": {
          "model_module": "@jupyter-widgets/controls",
          "model_name": "HTMLModel",
          "model_module_version": "1.5.0",
          "state": {
            "_dom_classes": [],
            "_model_module": "@jupyter-widgets/controls",
            "_model_module_version": "1.5.0",
            "_model_name": "HTMLModel",
            "_view_count": null,
            "_view_module": "@jupyter-widgets/controls",
            "_view_module_version": "1.5.0",
            "_view_name": "HTMLView",
            "description": "",
            "description_tooltip": null,
            "layout": "IPY_MODEL_e55ef77a2d45493ba0c98b1e947e3995",
            "placeholder": "​",
            "style": "IPY_MODEL_1c6097696f234e8b8cec3c1a865d80e5",
            "value": "Downloading (…)/main/tokenizer.json: 100%"
          }
        },
        "14af3b615b9b4cdda85ac914e038bfe4": {
          "model_module": "@jupyter-widgets/controls",
          "model_name": "FloatProgressModel",
          "model_module_version": "1.5.0",
          "state": {
            "_dom_classes": [],
            "_model_module": "@jupyter-widgets/controls",
            "_model_module_version": "1.5.0",
            "_model_name": "FloatProgressModel",
            "_view_count": null,
            "_view_module": "@jupyter-widgets/controls",
            "_view_module_version": "1.5.0",
            "_view_name": "ProgressView",
            "bar_style": "success",
            "description": "",
            "description_tooltip": null,
            "layout": "IPY_MODEL_200b31ea63a0496b9f65f5f87010c406",
            "max": 466062,
            "min": 0,
            "orientation": "horizontal",
            "style": "IPY_MODEL_8e40100e6f02467680b4972c6ac7b6fb",
            "value": 466062
          }
        },
        "9e503cd2749f42c68c71e1697822126f": {
          "model_module": "@jupyter-widgets/controls",
          "model_name": "HTMLModel",
          "model_module_version": "1.5.0",
          "state": {
            "_dom_classes": [],
            "_model_module": "@jupyter-widgets/controls",
            "_model_module_version": "1.5.0",
            "_model_name": "HTMLModel",
            "_view_count": null,
            "_view_module": "@jupyter-widgets/controls",
            "_view_module_version": "1.5.0",
            "_view_name": "HTMLView",
            "description": "",
            "description_tooltip": null,
            "layout": "IPY_MODEL_e6ebfdb9b5df4814998a19f196e05070",
            "placeholder": "​",
            "style": "IPY_MODEL_c90447d71bd940d386a177fdb5aec71d",
            "value": " 466k/466k [00:00&lt;00:00, 9.28MB/s]"
          }
        },
        "a309bc91db4f4fb7be653b509af7612b": {
          "model_module": "@jupyter-widgets/base",
          "model_name": "LayoutModel",
          "model_module_version": "1.2.0",
          "state": {
            "_model_module": "@jupyter-widgets/base",
            "_model_module_version": "1.2.0",
            "_model_name": "LayoutModel",
            "_view_count": null,
            "_view_module": "@jupyter-widgets/base",
            "_view_module_version": "1.2.0",
            "_view_name": "LayoutView",
            "align_content": null,
            "align_items": null,
            "align_self": null,
            "border": null,
            "bottom": null,
            "display": null,
            "flex": null,
            "flex_flow": null,
            "grid_area": null,
            "grid_auto_columns": null,
            "grid_auto_flow": null,
            "grid_auto_rows": null,
            "grid_column": null,
            "grid_gap": null,
            "grid_row": null,
            "grid_template_areas": null,
            "grid_template_columns": null,
            "grid_template_rows": null,
            "height": null,
            "justify_content": null,
            "justify_items": null,
            "left": null,
            "margin": null,
            "max_height": null,
            "max_width": null,
            "min_height": null,
            "min_width": null,
            "object_fit": null,
            "object_position": null,
            "order": null,
            "overflow": null,
            "overflow_x": null,
            "overflow_y": null,
            "padding": null,
            "right": null,
            "top": null,
            "visibility": null,
            "width": null
          }
        },
        "e55ef77a2d45493ba0c98b1e947e3995": {
          "model_module": "@jupyter-widgets/base",
          "model_name": "LayoutModel",
          "model_module_version": "1.2.0",
          "state": {
            "_model_module": "@jupyter-widgets/base",
            "_model_module_version": "1.2.0",
            "_model_name": "LayoutModel",
            "_view_count": null,
            "_view_module": "@jupyter-widgets/base",
            "_view_module_version": "1.2.0",
            "_view_name": "LayoutView",
            "align_content": null,
            "align_items": null,
            "align_self": null,
            "border": null,
            "bottom": null,
            "display": null,
            "flex": null,
            "flex_flow": null,
            "grid_area": null,
            "grid_auto_columns": null,
            "grid_auto_flow": null,
            "grid_auto_rows": null,
            "grid_column": null,
            "grid_gap": null,
            "grid_row": null,
            "grid_template_areas": null,
            "grid_template_columns": null,
            "grid_template_rows": null,
            "height": null,
            "justify_content": null,
            "justify_items": null,
            "left": null,
            "margin": null,
            "max_height": null,
            "max_width": null,
            "min_height": null,
            "min_width": null,
            "object_fit": null,
            "object_position": null,
            "order": null,
            "overflow": null,
            "overflow_x": null,
            "overflow_y": null,
            "padding": null,
            "right": null,
            "top": null,
            "visibility": null,
            "width": null
          }
        },
        "1c6097696f234e8b8cec3c1a865d80e5": {
          "model_module": "@jupyter-widgets/controls",
          "model_name": "DescriptionStyleModel",
          "model_module_version": "1.5.0",
          "state": {
            "_model_module": "@jupyter-widgets/controls",
            "_model_module_version": "1.5.0",
            "_model_name": "DescriptionStyleModel",
            "_view_count": null,
            "_view_module": "@jupyter-widgets/base",
            "_view_module_version": "1.2.0",
            "_view_name": "StyleView",
            "description_width": ""
          }
        },
        "200b31ea63a0496b9f65f5f87010c406": {
          "model_module": "@jupyter-widgets/base",
          "model_name": "LayoutModel",
          "model_module_version": "1.2.0",
          "state": {
            "_model_module": "@jupyter-widgets/base",
            "_model_module_version": "1.2.0",
            "_model_name": "LayoutModel",
            "_view_count": null,
            "_view_module": "@jupyter-widgets/base",
            "_view_module_version": "1.2.0",
            "_view_name": "LayoutView",
            "align_content": null,
            "align_items": null,
            "align_self": null,
            "border": null,
            "bottom": null,
            "display": null,
            "flex": null,
            "flex_flow": null,
            "grid_area": null,
            "grid_auto_columns": null,
            "grid_auto_flow": null,
            "grid_auto_rows": null,
            "grid_column": null,
            "grid_gap": null,
            "grid_row": null,
            "grid_template_areas": null,
            "grid_template_columns": null,
            "grid_template_rows": null,
            "height": null,
            "justify_content": null,
            "justify_items": null,
            "left": null,
            "margin": null,
            "max_height": null,
            "max_width": null,
            "min_height": null,
            "min_width": null,
            "object_fit": null,
            "object_position": null,
            "order": null,
            "overflow": null,
            "overflow_x": null,
            "overflow_y": null,
            "padding": null,
            "right": null,
            "top": null,
            "visibility": null,
            "width": null
          }
        },
        "8e40100e6f02467680b4972c6ac7b6fb": {
          "model_module": "@jupyter-widgets/controls",
          "model_name": "ProgressStyleModel",
          "model_module_version": "1.5.0",
          "state": {
            "_model_module": "@jupyter-widgets/controls",
            "_model_module_version": "1.5.0",
            "_model_name": "ProgressStyleModel",
            "_view_count": null,
            "_view_module": "@jupyter-widgets/base",
            "_view_module_version": "1.2.0",
            "_view_name": "StyleView",
            "bar_color": null,
            "description_width": ""
          }
        },
        "e6ebfdb9b5df4814998a19f196e05070": {
          "model_module": "@jupyter-widgets/base",
          "model_name": "LayoutModel",
          "model_module_version": "1.2.0",
          "state": {
            "_model_module": "@jupyter-widgets/base",
            "_model_module_version": "1.2.0",
            "_model_name": "LayoutModel",
            "_view_count": null,
            "_view_module": "@jupyter-widgets/base",
            "_view_module_version": "1.2.0",
            "_view_name": "LayoutView",
            "align_content": null,
            "align_items": null,
            "align_self": null,
            "border": null,
            "bottom": null,
            "display": null,
            "flex": null,
            "flex_flow": null,
            "grid_area": null,
            "grid_auto_columns": null,
            "grid_auto_flow": null,
            "grid_auto_rows": null,
            "grid_column": null,
            "grid_gap": null,
            "grid_row": null,
            "grid_template_areas": null,
            "grid_template_columns": null,
            "grid_template_rows": null,
            "height": null,
            "justify_content": null,
            "justify_items": null,
            "left": null,
            "margin": null,
            "max_height": null,
            "max_width": null,
            "min_height": null,
            "min_width": null,
            "object_fit": null,
            "object_position": null,
            "order": null,
            "overflow": null,
            "overflow_x": null,
            "overflow_y": null,
            "padding": null,
            "right": null,
            "top": null,
            "visibility": null,
            "width": null
          }
        },
        "c90447d71bd940d386a177fdb5aec71d": {
          "model_module": "@jupyter-widgets/controls",
          "model_name": "DescriptionStyleModel",
          "model_module_version": "1.5.0",
          "state": {
            "_model_module": "@jupyter-widgets/controls",
            "_model_module_version": "1.5.0",
            "_model_name": "DescriptionStyleModel",
            "_view_count": null,
            "_view_module": "@jupyter-widgets/base",
            "_view_module_version": "1.2.0",
            "_view_name": "StyleView",
            "description_width": ""
          }
        },
        "9e45540985114013ac152ffd8b73b1e9": {
          "model_module": "@jupyter-widgets/controls",
          "model_name": "HBoxModel",
          "model_module_version": "1.5.0",
          "state": {
            "_dom_classes": [],
            "_model_module": "@jupyter-widgets/controls",
            "_model_module_version": "1.5.0",
            "_model_name": "HBoxModel",
            "_view_count": null,
            "_view_module": "@jupyter-widgets/controls",
            "_view_module_version": "1.5.0",
            "_view_name": "HBoxView",
            "box_style": "",
            "children": [
              "IPY_MODEL_971a8e17f1b94120a8602d0818357bbb",
              "IPY_MODEL_550e0c8d27d44660b540015050551cc8",
              "IPY_MODEL_c52b65f432dc464f8de8dfeeed7fd97f"
            ],
            "layout": "IPY_MODEL_54dccd6d43f04332a008e1c12b52d01d"
          }
        },
        "971a8e17f1b94120a8602d0818357bbb": {
          "model_module": "@jupyter-widgets/controls",
          "model_name": "HTMLModel",
          "model_module_version": "1.5.0",
          "state": {
            "_dom_classes": [],
            "_model_module": "@jupyter-widgets/controls",
            "_model_module_version": "1.5.0",
            "_model_name": "HTMLModel",
            "_view_count": null,
            "_view_module": "@jupyter-widgets/controls",
            "_view_module_version": "1.5.0",
            "_view_name": "HTMLView",
            "description": "",
            "description_tooltip": null,
            "layout": "IPY_MODEL_4c60d73fe29c4262a5c0320eec848daf",
            "placeholder": "​",
            "style": "IPY_MODEL_bbef66a1ea60409489e09f7f06fb297e",
            "value": "Downloading tf_model.h5: 100%"
          }
        },
        "550e0c8d27d44660b540015050551cc8": {
          "model_module": "@jupyter-widgets/controls",
          "model_name": "FloatProgressModel",
          "model_module_version": "1.5.0",
          "state": {
            "_dom_classes": [],
            "_model_module": "@jupyter-widgets/controls",
            "_model_module_version": "1.5.0",
            "_model_name": "FloatProgressModel",
            "_view_count": null,
            "_view_module": "@jupyter-widgets/controls",
            "_view_module_version": "1.5.0",
            "_view_name": "ProgressView",
            "bar_style": "success",
            "description": "",
            "description_tooltip": null,
            "layout": "IPY_MODEL_a1701ef32a89478b87d0310e4ef9fb16",
            "max": 536063208,
            "min": 0,
            "orientation": "horizontal",
            "style": "IPY_MODEL_9625557407fd46bc8d7fef70e14d76b6",
            "value": 536063208
          }
        },
        "c52b65f432dc464f8de8dfeeed7fd97f": {
          "model_module": "@jupyter-widgets/controls",
          "model_name": "HTMLModel",
          "model_module_version": "1.5.0",
          "state": {
            "_dom_classes": [],
            "_model_module": "@jupyter-widgets/controls",
            "_model_module_version": "1.5.0",
            "_model_name": "HTMLModel",
            "_view_count": null,
            "_view_module": "@jupyter-widgets/controls",
            "_view_module_version": "1.5.0",
            "_view_name": "HTMLView",
            "description": "",
            "description_tooltip": null,
            "layout": "IPY_MODEL_3494b36e6b15466295489c0926d45837",
            "placeholder": "​",
            "style": "IPY_MODEL_28d49a7e16cf4d4699e14f4f16cb0c84",
            "value": " 536M/536M [00:18&lt;00:00, 22.1MB/s]"
          }
        },
        "54dccd6d43f04332a008e1c12b52d01d": {
          "model_module": "@jupyter-widgets/base",
          "model_name": "LayoutModel",
          "model_module_version": "1.2.0",
          "state": {
            "_model_module": "@jupyter-widgets/base",
            "_model_module_version": "1.2.0",
            "_model_name": "LayoutModel",
            "_view_count": null,
            "_view_module": "@jupyter-widgets/base",
            "_view_module_version": "1.2.0",
            "_view_name": "LayoutView",
            "align_content": null,
            "align_items": null,
            "align_self": null,
            "border": null,
            "bottom": null,
            "display": null,
            "flex": null,
            "flex_flow": null,
            "grid_area": null,
            "grid_auto_columns": null,
            "grid_auto_flow": null,
            "grid_auto_rows": null,
            "grid_column": null,
            "grid_gap": null,
            "grid_row": null,
            "grid_template_areas": null,
            "grid_template_columns": null,
            "grid_template_rows": null,
            "height": null,
            "justify_content": null,
            "justify_items": null,
            "left": null,
            "margin": null,
            "max_height": null,
            "max_width": null,
            "min_height": null,
            "min_width": null,
            "object_fit": null,
            "object_position": null,
            "order": null,
            "overflow": null,
            "overflow_x": null,
            "overflow_y": null,
            "padding": null,
            "right": null,
            "top": null,
            "visibility": null,
            "width": null
          }
        },
        "4c60d73fe29c4262a5c0320eec848daf": {
          "model_module": "@jupyter-widgets/base",
          "model_name": "LayoutModel",
          "model_module_version": "1.2.0",
          "state": {
            "_model_module": "@jupyter-widgets/base",
            "_model_module_version": "1.2.0",
            "_model_name": "LayoutModel",
            "_view_count": null,
            "_view_module": "@jupyter-widgets/base",
            "_view_module_version": "1.2.0",
            "_view_name": "LayoutView",
            "align_content": null,
            "align_items": null,
            "align_self": null,
            "border": null,
            "bottom": null,
            "display": null,
            "flex": null,
            "flex_flow": null,
            "grid_area": null,
            "grid_auto_columns": null,
            "grid_auto_flow": null,
            "grid_auto_rows": null,
            "grid_column": null,
            "grid_gap": null,
            "grid_row": null,
            "grid_template_areas": null,
            "grid_template_columns": null,
            "grid_template_rows": null,
            "height": null,
            "justify_content": null,
            "justify_items": null,
            "left": null,
            "margin": null,
            "max_height": null,
            "max_width": null,
            "min_height": null,
            "min_width": null,
            "object_fit": null,
            "object_position": null,
            "order": null,
            "overflow": null,
            "overflow_x": null,
            "overflow_y": null,
            "padding": null,
            "right": null,
            "top": null,
            "visibility": null,
            "width": null
          }
        },
        "bbef66a1ea60409489e09f7f06fb297e": {
          "model_module": "@jupyter-widgets/controls",
          "model_name": "DescriptionStyleModel",
          "model_module_version": "1.5.0",
          "state": {
            "_model_module": "@jupyter-widgets/controls",
            "_model_module_version": "1.5.0",
            "_model_name": "DescriptionStyleModel",
            "_view_count": null,
            "_view_module": "@jupyter-widgets/base",
            "_view_module_version": "1.2.0",
            "_view_name": "StyleView",
            "description_width": ""
          }
        },
        "a1701ef32a89478b87d0310e4ef9fb16": {
          "model_module": "@jupyter-widgets/base",
          "model_name": "LayoutModel",
          "model_module_version": "1.2.0",
          "state": {
            "_model_module": "@jupyter-widgets/base",
            "_model_module_version": "1.2.0",
            "_model_name": "LayoutModel",
            "_view_count": null,
            "_view_module": "@jupyter-widgets/base",
            "_view_module_version": "1.2.0",
            "_view_name": "LayoutView",
            "align_content": null,
            "align_items": null,
            "align_self": null,
            "border": null,
            "bottom": null,
            "display": null,
            "flex": null,
            "flex_flow": null,
            "grid_area": null,
            "grid_auto_columns": null,
            "grid_auto_flow": null,
            "grid_auto_rows": null,
            "grid_column": null,
            "grid_gap": null,
            "grid_row": null,
            "grid_template_areas": null,
            "grid_template_columns": null,
            "grid_template_rows": null,
            "height": null,
            "justify_content": null,
            "justify_items": null,
            "left": null,
            "margin": null,
            "max_height": null,
            "max_width": null,
            "min_height": null,
            "min_width": null,
            "object_fit": null,
            "object_position": null,
            "order": null,
            "overflow": null,
            "overflow_x": null,
            "overflow_y": null,
            "padding": null,
            "right": null,
            "top": null,
            "visibility": null,
            "width": null
          }
        },
        "9625557407fd46bc8d7fef70e14d76b6": {
          "model_module": "@jupyter-widgets/controls",
          "model_name": "ProgressStyleModel",
          "model_module_version": "1.5.0",
          "state": {
            "_model_module": "@jupyter-widgets/controls",
            "_model_module_version": "1.5.0",
            "_model_name": "ProgressStyleModel",
            "_view_count": null,
            "_view_module": "@jupyter-widgets/base",
            "_view_module_version": "1.2.0",
            "_view_name": "StyleView",
            "bar_color": null,
            "description_width": ""
          }
        },
        "3494b36e6b15466295489c0926d45837": {
          "model_module": "@jupyter-widgets/base",
          "model_name": "LayoutModel",
          "model_module_version": "1.2.0",
          "state": {
            "_model_module": "@jupyter-widgets/base",
            "_model_module_version": "1.2.0",
            "_model_name": "LayoutModel",
            "_view_count": null,
            "_view_module": "@jupyter-widgets/base",
            "_view_module_version": "1.2.0",
            "_view_name": "LayoutView",
            "align_content": null,
            "align_items": null,
            "align_self": null,
            "border": null,
            "bottom": null,
            "display": null,
            "flex": null,
            "flex_flow": null,
            "grid_area": null,
            "grid_auto_columns": null,
            "grid_auto_flow": null,
            "grid_auto_rows": null,
            "grid_column": null,
            "grid_gap": null,
            "grid_row": null,
            "grid_template_areas": null,
            "grid_template_columns": null,
            "grid_template_rows": null,
            "height": null,
            "justify_content": null,
            "justify_items": null,
            "left": null,
            "margin": null,
            "max_height": null,
            "max_width": null,
            "min_height": null,
            "min_width": null,
            "object_fit": null,
            "object_position": null,
            "order": null,
            "overflow": null,
            "overflow_x": null,
            "overflow_y": null,
            "padding": null,
            "right": null,
            "top": null,
            "visibility": null,
            "width": null
          }
        },
        "28d49a7e16cf4d4699e14f4f16cb0c84": {
          "model_module": "@jupyter-widgets/controls",
          "model_name": "DescriptionStyleModel",
          "model_module_version": "1.5.0",
          "state": {
            "_model_module": "@jupyter-widgets/controls",
            "_model_module_version": "1.5.0",
            "_model_name": "DescriptionStyleModel",
            "_view_count": null,
            "_view_module": "@jupyter-widgets/base",
            "_view_module_version": "1.2.0",
            "_view_name": "StyleView",
            "description_width": ""
          }
        }
      }
    },
    "accelerator": "GPU",
    "gpuClass": "standard"
  },
  "nbformat": 4,
  "nbformat_minor": 0
}