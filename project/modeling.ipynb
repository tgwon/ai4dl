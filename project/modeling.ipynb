{
  "cells": [
    {
      "cell_type": "markdown",
      "metadata": {
        "id": "view-in-github",
        "colab_type": "text"
      },
      "source": [
        "<a href=\"https://colab.research.google.com/github/ytg000629/ai4dl/blob/main/project/modeling.ipynb\" target=\"_parent\"><img src=\"https://colab.research.google.com/assets/colab-badge.svg\" alt=\"Open In Colab\"/></a>"
      ]
    },
    {
      "cell_type": "markdown",
      "source": [
        "# 라이브러리 설치,import, 데이터 준비\n",
        "\n"
      ],
      "metadata": {
        "id": "93y-No3c9vFa"
      }
    },
    {
      "cell_type": "code",
      "source": [
        "!pip install keras_preprocessing"
      ],
      "metadata": {
        "id": "s5GNjkvXn6jh",
        "outputId": "f252b643-239a-473d-b731-5fcad8d9e19e",
        "colab": {
          "base_uri": "https://localhost:8080/"
        }
      },
      "execution_count": 1,
      "outputs": [
        {
          "output_type": "stream",
          "name": "stdout",
          "text": [
            "Looking in indexes: https://pypi.org/simple, https://us-python.pkg.dev/colab-wheels/public/simple/\n",
            "Collecting keras_preprocessing\n",
            "  Downloading Keras_Preprocessing-1.1.2-py2.py3-none-any.whl (42 kB)\n",
            "\u001b[2K     \u001b[90m━━━━━━━━━━━━━━━━━━━━━━━━━━━━━━━━━━━━━━━━\u001b[0m \u001b[32m42.6/42.6 kB\u001b[0m \u001b[31m5.7 MB/s\u001b[0m eta \u001b[36m0:00:00\u001b[0m\n",
            "\u001b[?25hRequirement already satisfied: numpy>=1.9.1 in /usr/local/lib/python3.10/dist-packages (from keras_preprocessing) (1.22.4)\n",
            "Requirement already satisfied: six>=1.9.0 in /usr/local/lib/python3.10/dist-packages (from keras_preprocessing) (1.16.0)\n",
            "Installing collected packages: keras_preprocessing\n",
            "Successfully installed keras_preprocessing-1.1.2\n"
          ]
        }
      ]
    },
    {
      "cell_type": "code",
      "source": [
        "!pip install emoji"
      ],
      "metadata": {
        "id": "ms11RtN3q7K1",
        "outputId": "162c07bc-4677-48ff-861f-1766a36878ff",
        "colab": {
          "base_uri": "https://localhost:8080/"
        }
      },
      "execution_count": 2,
      "outputs": [
        {
          "output_type": "stream",
          "name": "stdout",
          "text": [
            "Looking in indexes: https://pypi.org/simple, https://us-python.pkg.dev/colab-wheels/public/simple/\n",
            "Collecting emoji\n",
            "  Downloading emoji-2.4.0.tar.gz (353 kB)\n",
            "\u001b[2K     \u001b[90m━━━━━━━━━━━━━━━━━━━━━━━━━━━━━━━━━━━━━━\u001b[0m \u001b[32m353.7/353.7 kB\u001b[0m \u001b[31m18.4 MB/s\u001b[0m eta \u001b[36m0:00:00\u001b[0m\n",
            "\u001b[?25h  Preparing metadata (setup.py) ... \u001b[?25l\u001b[?25hdone\n",
            "Building wheels for collected packages: emoji\n",
            "  Building wheel for emoji (setup.py) ... \u001b[?25l\u001b[?25hdone\n",
            "  Created wheel for emoji: filename=emoji-2.4.0-py2.py3-none-any.whl size=350809 sha256=057a3b0180cf0a4c0ab755f0845352cd934e7f59cb6c48d1296528ef93c71ba3\n",
            "  Stored in directory: /root/.cache/pip/wheels/79/29/1c/234cae4632803c2ba4a76a71a679eb1383cf590775714e2a21\n",
            "Successfully built emoji\n",
            "Installing collected packages: emoji\n",
            "Successfully installed emoji-2.4.0\n"
          ]
        }
      ]
    },
    {
      "cell_type": "code",
      "source": [
        "!pip install autocorrect"
      ],
      "metadata": {
        "colab": {
          "base_uri": "https://localhost:8080/"
        },
        "id": "zaN9KLEadOp9",
        "outputId": "bf0f6892-7907-4118-e38e-cdb4664eb134"
      },
      "execution_count": 3,
      "outputs": [
        {
          "output_type": "stream",
          "name": "stdout",
          "text": [
            "Looking in indexes: https://pypi.org/simple, https://us-python.pkg.dev/colab-wheels/public/simple/\n",
            "Collecting autocorrect\n",
            "  Downloading autocorrect-2.6.1.tar.gz (622 kB)\n",
            "\u001b[2K     \u001b[90m━━━━━━━━━━━━━━━━━━━━━━━━━━━━━━━━━━━━━━\u001b[0m \u001b[32m622.8/622.8 kB\u001b[0m \u001b[31m24.3 MB/s\u001b[0m eta \u001b[36m0:00:00\u001b[0m\n",
            "\u001b[?25h  Preparing metadata (setup.py) ... \u001b[?25l\u001b[?25hdone\n",
            "Building wheels for collected packages: autocorrect\n",
            "  Building wheel for autocorrect (setup.py) ... \u001b[?25l\u001b[?25hdone\n",
            "  Created wheel for autocorrect: filename=autocorrect-2.6.1-py3-none-any.whl size=622363 sha256=a22b25dde71d3bafaba950e5b2e52e603ebc8dacbf7c9f670e0788c94f58bad6\n",
            "  Stored in directory: /root/.cache/pip/wheels/b5/7b/6d/b76b29ce11ff8e2521c8c7dd0e5bfee4fb1789d76193124343\n",
            "Successfully built autocorrect\n",
            "Installing collected packages: autocorrect\n",
            "Successfully installed autocorrect-2.6.1\n"
          ]
        }
      ]
    },
    {
      "cell_type": "code",
      "source": [
        "import nltk\n",
        "nltk.download('punkt')\n",
        "nltk.download('stopwords')\n",
        "from nltk.corpus import stopwords"
      ],
      "metadata": {
        "id": "1m4AvoWrnYw7",
        "outputId": "724b6079-39f7-4c5c-a881-6d3b2fc9a8a0",
        "colab": {
          "base_uri": "https://localhost:8080/"
        }
      },
      "execution_count": 4,
      "outputs": [
        {
          "output_type": "stream",
          "name": "stderr",
          "text": [
            "[nltk_data] Downloading package punkt to /root/nltk_data...\n",
            "[nltk_data]   Unzipping tokenizers/punkt.zip.\n",
            "[nltk_data] Downloading package stopwords to /root/nltk_data...\n",
            "[nltk_data]   Unzipping corpora/stopwords.zip.\n"
          ]
        }
      ]
    },
    {
      "cell_type": "code",
      "source": [
        "import pandas as pd\n",
        "import matplotlib.pyplot as plt\n",
        "import seaborn as sns\n",
        "import numpy as np\n",
        "\n",
        "from nltk.util import ngrams\n",
        "from sklearn.feature_extraction.text import CountVectorizer\n",
        "from collections import defaultdict\n",
        "from collections import  Counter\n",
        "plt.style.use('ggplot')\n",
        "\n",
        "import re\n",
        "from nltk.tokenize import word_tokenize\n",
        "import wordcloud\n",
        "import gensim\n",
        "import string\n",
        "from keras.preprocessing.text import Tokenizer\n",
        "from keras_preprocessing.sequence import pad_sequences #keras_preprocessing\n",
        "\n",
        "from tqdm import tqdm\n",
        "from keras.models import Sequential\n",
        "from keras.layers import Embedding,LSTM,Dense,SpatialDropout1D\n",
        "from keras.initializers import Constant\n",
        "from sklearn.model_selection import train_test_split\n",
        "\n",
        "import os \n",
        "import warnings\n",
        "warnings.filterwarnings(action  = 'ignore')\n",
        "\n",
        "import tensorflow as tf\n",
        "from tensorflow import keras\n",
        "from tensorflow.keras import layers\n",
        "from tensorflow.keras.optimizers import Adam\n",
        "from tensorflow.keras.callbacks import EarlyStopping\n",
        "from tensorflow.keras.initializers import TruncatedNormal\n",
        "from tensorflow.keras.losses import CategoricalCrossentropy,BinaryCrossentropy\n",
        "from tensorflow.keras.metrics import CategoricalAccuracy,BinaryAccuracy\n",
        "from tensorflow.keras.utils import to_categorical\n",
        "from tensorflow.keras.utils import plot_model\n",
        "\n",
        "from autocorrect import Speller "
      ],
      "metadata": {
        "id": "kgMw6dTnnMCX"
      },
      "execution_count": 5,
      "outputs": []
    },
    {
      "cell_type": "code",
      "source": [
        "#%config Completer.use_jedi = False"
      ],
      "metadata": {
        "id": "yMQH_aeInMNe"
      },
      "execution_count": 6,
      "outputs": []
    },
    {
      "cell_type": "code",
      "source": [
        "from google.colab import drive\n",
        "drive.mount('/content/drive')"
      ],
      "metadata": {
        "id": "mnf4tDo-oxeZ",
        "outputId": "01839468-2655-4fd5-94cb-9a24dc6952a1",
        "colab": {
          "base_uri": "https://localhost:8080/"
        }
      },
      "execution_count": 7,
      "outputs": [
        {
          "output_type": "stream",
          "name": "stdout",
          "text": [
            "Mounted at /content/drive\n"
          ]
        }
      ]
    },
    {
      "cell_type": "code",
      "source": [
        "df_train = pd.read_csv('drive/MyDrive/nlp-getting-started/train.csv')\n",
        "df_test = pd.read_csv('drive/MyDrive//nlp-getting-started/test.csv')\n",
        "df_sample = pd.read_csv('drive/MyDrive//nlp-getting-started/sample_submission.csv')"
      ],
      "metadata": {
        "id": "8oSs_FkQoo5L"
      },
      "execution_count": 8,
      "outputs": []
    },
    {
      "cell_type": "code",
      "source": [
        "df_train.head()"
      ],
      "metadata": {
        "id": "sMx-tzcTnMQI",
        "outputId": "08d57df9-6235-4a12-c34d-61ddd6808338",
        "colab": {
          "base_uri": "https://localhost:8080/",
          "height": 0
        }
      },
      "execution_count": 9,
      "outputs": [
        {
          "output_type": "execute_result",
          "data": {
            "text/plain": [
              "   id keyword location                                               text  \\\n",
              "0   1     NaN      NaN  Our Deeds are the Reason of this #earthquake M...   \n",
              "1   4     NaN      NaN             Forest fire near La Ronge Sask. Canada   \n",
              "2   5     NaN      NaN  All residents asked to 'shelter in place' are ...   \n",
              "3   6     NaN      NaN  13,000 people receive #wildfires evacuation or...   \n",
              "4   7     NaN      NaN  Just got sent this photo from Ruby #Alaska as ...   \n",
              "\n",
              "   target  \n",
              "0       1  \n",
              "1       1  \n",
              "2       1  \n",
              "3       1  \n",
              "4       1  "
            ],
            "text/html": [
              "\n",
              "  <div id=\"df-1f0beb31-e275-494b-a5ce-3a4740417928\">\n",
              "    <div class=\"colab-df-container\">\n",
              "      <div>\n",
              "<style scoped>\n",
              "    .dataframe tbody tr th:only-of-type {\n",
              "        vertical-align: middle;\n",
              "    }\n",
              "\n",
              "    .dataframe tbody tr th {\n",
              "        vertical-align: top;\n",
              "    }\n",
              "\n",
              "    .dataframe thead th {\n",
              "        text-align: right;\n",
              "    }\n",
              "</style>\n",
              "<table border=\"1\" class=\"dataframe\">\n",
              "  <thead>\n",
              "    <tr style=\"text-align: right;\">\n",
              "      <th></th>\n",
              "      <th>id</th>\n",
              "      <th>keyword</th>\n",
              "      <th>location</th>\n",
              "      <th>text</th>\n",
              "      <th>target</th>\n",
              "    </tr>\n",
              "  </thead>\n",
              "  <tbody>\n",
              "    <tr>\n",
              "      <th>0</th>\n",
              "      <td>1</td>\n",
              "      <td>NaN</td>\n",
              "      <td>NaN</td>\n",
              "      <td>Our Deeds are the Reason of this #earthquake M...</td>\n",
              "      <td>1</td>\n",
              "    </tr>\n",
              "    <tr>\n",
              "      <th>1</th>\n",
              "      <td>4</td>\n",
              "      <td>NaN</td>\n",
              "      <td>NaN</td>\n",
              "      <td>Forest fire near La Ronge Sask. Canada</td>\n",
              "      <td>1</td>\n",
              "    </tr>\n",
              "    <tr>\n",
              "      <th>2</th>\n",
              "      <td>5</td>\n",
              "      <td>NaN</td>\n",
              "      <td>NaN</td>\n",
              "      <td>All residents asked to 'shelter in place' are ...</td>\n",
              "      <td>1</td>\n",
              "    </tr>\n",
              "    <tr>\n",
              "      <th>3</th>\n",
              "      <td>6</td>\n",
              "      <td>NaN</td>\n",
              "      <td>NaN</td>\n",
              "      <td>13,000 people receive #wildfires evacuation or...</td>\n",
              "      <td>1</td>\n",
              "    </tr>\n",
              "    <tr>\n",
              "      <th>4</th>\n",
              "      <td>7</td>\n",
              "      <td>NaN</td>\n",
              "      <td>NaN</td>\n",
              "      <td>Just got sent this photo from Ruby #Alaska as ...</td>\n",
              "      <td>1</td>\n",
              "    </tr>\n",
              "  </tbody>\n",
              "</table>\n",
              "</div>\n",
              "      <button class=\"colab-df-convert\" onclick=\"convertToInteractive('df-1f0beb31-e275-494b-a5ce-3a4740417928')\"\n",
              "              title=\"Convert this dataframe to an interactive table.\"\n",
              "              style=\"display:none;\">\n",
              "        \n",
              "  <svg xmlns=\"http://www.w3.org/2000/svg\" height=\"24px\"viewBox=\"0 0 24 24\"\n",
              "       width=\"24px\">\n",
              "    <path d=\"M0 0h24v24H0V0z\" fill=\"none\"/>\n",
              "    <path d=\"M18.56 5.44l.94 2.06.94-2.06 2.06-.94-2.06-.94-.94-2.06-.94 2.06-2.06.94zm-11 1L8.5 8.5l.94-2.06 2.06-.94-2.06-.94L8.5 2.5l-.94 2.06-2.06.94zm10 10l.94 2.06.94-2.06 2.06-.94-2.06-.94-.94-2.06-.94 2.06-2.06.94z\"/><path d=\"M17.41 7.96l-1.37-1.37c-.4-.4-.92-.59-1.43-.59-.52 0-1.04.2-1.43.59L10.3 9.45l-7.72 7.72c-.78.78-.78 2.05 0 2.83L4 21.41c.39.39.9.59 1.41.59.51 0 1.02-.2 1.41-.59l7.78-7.78 2.81-2.81c.8-.78.8-2.07 0-2.86zM5.41 20L4 18.59l7.72-7.72 1.47 1.35L5.41 20z\"/>\n",
              "  </svg>\n",
              "      </button>\n",
              "      \n",
              "  <style>\n",
              "    .colab-df-container {\n",
              "      display:flex;\n",
              "      flex-wrap:wrap;\n",
              "      gap: 12px;\n",
              "    }\n",
              "\n",
              "    .colab-df-convert {\n",
              "      background-color: #E8F0FE;\n",
              "      border: none;\n",
              "      border-radius: 50%;\n",
              "      cursor: pointer;\n",
              "      display: none;\n",
              "      fill: #1967D2;\n",
              "      height: 32px;\n",
              "      padding: 0 0 0 0;\n",
              "      width: 32px;\n",
              "    }\n",
              "\n",
              "    .colab-df-convert:hover {\n",
              "      background-color: #E2EBFA;\n",
              "      box-shadow: 0px 1px 2px rgba(60, 64, 67, 0.3), 0px 1px 3px 1px rgba(60, 64, 67, 0.15);\n",
              "      fill: #174EA6;\n",
              "    }\n",
              "\n",
              "    [theme=dark] .colab-df-convert {\n",
              "      background-color: #3B4455;\n",
              "      fill: #D2E3FC;\n",
              "    }\n",
              "\n",
              "    [theme=dark] .colab-df-convert:hover {\n",
              "      background-color: #434B5C;\n",
              "      box-shadow: 0px 1px 3px 1px rgba(0, 0, 0, 0.15);\n",
              "      filter: drop-shadow(0px 1px 2px rgba(0, 0, 0, 0.3));\n",
              "      fill: #FFFFFF;\n",
              "    }\n",
              "  </style>\n",
              "\n",
              "      <script>\n",
              "        const buttonEl =\n",
              "          document.querySelector('#df-1f0beb31-e275-494b-a5ce-3a4740417928 button.colab-df-convert');\n",
              "        buttonEl.style.display =\n",
              "          google.colab.kernel.accessAllowed ? 'block' : 'none';\n",
              "\n",
              "        async function convertToInteractive(key) {\n",
              "          const element = document.querySelector('#df-1f0beb31-e275-494b-a5ce-3a4740417928');\n",
              "          const dataTable =\n",
              "            await google.colab.kernel.invokeFunction('convertToInteractive',\n",
              "                                                     [key], {});\n",
              "          if (!dataTable) return;\n",
              "\n",
              "          const docLinkHtml = 'Like what you see? Visit the ' +\n",
              "            '<a target=\"_blank\" href=https://colab.research.google.com/notebooks/data_table.ipynb>data table notebook</a>'\n",
              "            + ' to learn more about interactive tables.';\n",
              "          element.innerHTML = '';\n",
              "          dataTable['output_type'] = 'display_data';\n",
              "          await google.colab.output.renderOutput(dataTable, element);\n",
              "          const docLink = document.createElement('div');\n",
              "          docLink.innerHTML = docLinkHtml;\n",
              "          element.appendChild(docLink);\n",
              "        }\n",
              "      </script>\n",
              "    </div>\n",
              "  </div>\n",
              "  "
            ]
          },
          "metadata": {},
          "execution_count": 9
        }
      ]
    },
    {
      "cell_type": "code",
      "source": [
        "df_train.shape"
      ],
      "metadata": {
        "id": "zi58Xu9qqKJf",
        "outputId": "7c2bf64b-ee44-4343-a558-950f2f190171",
        "colab": {
          "base_uri": "https://localhost:8080/"
        }
      },
      "execution_count": 10,
      "outputs": [
        {
          "output_type": "execute_result",
          "data": {
            "text/plain": [
              "(7613, 5)"
            ]
          },
          "metadata": {},
          "execution_count": 10
        }
      ]
    },
    {
      "cell_type": "code",
      "source": [
        "df_test.shape"
      ],
      "metadata": {
        "id": "eqq3SSkDqISy",
        "outputId": "df0e6652-d762-4a62-d293-00382349c0bd",
        "colab": {
          "base_uri": "https://localhost:8080/"
        }
      },
      "execution_count": 11,
      "outputs": [
        {
          "output_type": "execute_result",
          "data": {
            "text/plain": [
              "(3263, 4)"
            ]
          },
          "metadata": {},
          "execution_count": 11
        }
      ]
    },
    {
      "cell_type": "code",
      "source": [
        "df_test.head()"
      ],
      "metadata": {
        "colab": {
          "base_uri": "https://localhost:8080/",
          "height": 0
        },
        "id": "qTxk3CgWoGA4",
        "outputId": "5559758e-9481-42e5-95d7-aa9c3fcd8885"
      },
      "execution_count": 12,
      "outputs": [
        {
          "output_type": "execute_result",
          "data": {
            "text/plain": [
              "   id keyword location                                               text\n",
              "0   0     NaN      NaN                 Just happened a terrible car crash\n",
              "1   2     NaN      NaN  Heard about #earthquake is different cities, s...\n",
              "2   3     NaN      NaN  there is a forest fire at spot pond, geese are...\n",
              "3   9     NaN      NaN           Apocalypse lighting. #Spokane #wildfires\n",
              "4  11     NaN      NaN      Typhoon Soudelor kills 28 in China and Taiwan"
            ],
            "text/html": [
              "\n",
              "  <div id=\"df-e0e94b2e-62e7-4b2f-835c-fca24609c84b\">\n",
              "    <div class=\"colab-df-container\">\n",
              "      <div>\n",
              "<style scoped>\n",
              "    .dataframe tbody tr th:only-of-type {\n",
              "        vertical-align: middle;\n",
              "    }\n",
              "\n",
              "    .dataframe tbody tr th {\n",
              "        vertical-align: top;\n",
              "    }\n",
              "\n",
              "    .dataframe thead th {\n",
              "        text-align: right;\n",
              "    }\n",
              "</style>\n",
              "<table border=\"1\" class=\"dataframe\">\n",
              "  <thead>\n",
              "    <tr style=\"text-align: right;\">\n",
              "      <th></th>\n",
              "      <th>id</th>\n",
              "      <th>keyword</th>\n",
              "      <th>location</th>\n",
              "      <th>text</th>\n",
              "    </tr>\n",
              "  </thead>\n",
              "  <tbody>\n",
              "    <tr>\n",
              "      <th>0</th>\n",
              "      <td>0</td>\n",
              "      <td>NaN</td>\n",
              "      <td>NaN</td>\n",
              "      <td>Just happened a terrible car crash</td>\n",
              "    </tr>\n",
              "    <tr>\n",
              "      <th>1</th>\n",
              "      <td>2</td>\n",
              "      <td>NaN</td>\n",
              "      <td>NaN</td>\n",
              "      <td>Heard about #earthquake is different cities, s...</td>\n",
              "    </tr>\n",
              "    <tr>\n",
              "      <th>2</th>\n",
              "      <td>3</td>\n",
              "      <td>NaN</td>\n",
              "      <td>NaN</td>\n",
              "      <td>there is a forest fire at spot pond, geese are...</td>\n",
              "    </tr>\n",
              "    <tr>\n",
              "      <th>3</th>\n",
              "      <td>9</td>\n",
              "      <td>NaN</td>\n",
              "      <td>NaN</td>\n",
              "      <td>Apocalypse lighting. #Spokane #wildfires</td>\n",
              "    </tr>\n",
              "    <tr>\n",
              "      <th>4</th>\n",
              "      <td>11</td>\n",
              "      <td>NaN</td>\n",
              "      <td>NaN</td>\n",
              "      <td>Typhoon Soudelor kills 28 in China and Taiwan</td>\n",
              "    </tr>\n",
              "  </tbody>\n",
              "</table>\n",
              "</div>\n",
              "      <button class=\"colab-df-convert\" onclick=\"convertToInteractive('df-e0e94b2e-62e7-4b2f-835c-fca24609c84b')\"\n",
              "              title=\"Convert this dataframe to an interactive table.\"\n",
              "              style=\"display:none;\">\n",
              "        \n",
              "  <svg xmlns=\"http://www.w3.org/2000/svg\" height=\"24px\"viewBox=\"0 0 24 24\"\n",
              "       width=\"24px\">\n",
              "    <path d=\"M0 0h24v24H0V0z\" fill=\"none\"/>\n",
              "    <path d=\"M18.56 5.44l.94 2.06.94-2.06 2.06-.94-2.06-.94-.94-2.06-.94 2.06-2.06.94zm-11 1L8.5 8.5l.94-2.06 2.06-.94-2.06-.94L8.5 2.5l-.94 2.06-2.06.94zm10 10l.94 2.06.94-2.06 2.06-.94-2.06-.94-.94-2.06-.94 2.06-2.06.94z\"/><path d=\"M17.41 7.96l-1.37-1.37c-.4-.4-.92-.59-1.43-.59-.52 0-1.04.2-1.43.59L10.3 9.45l-7.72 7.72c-.78.78-.78 2.05 0 2.83L4 21.41c.39.39.9.59 1.41.59.51 0 1.02-.2 1.41-.59l7.78-7.78 2.81-2.81c.8-.78.8-2.07 0-2.86zM5.41 20L4 18.59l7.72-7.72 1.47 1.35L5.41 20z\"/>\n",
              "  </svg>\n",
              "      </button>\n",
              "      \n",
              "  <style>\n",
              "    .colab-df-container {\n",
              "      display:flex;\n",
              "      flex-wrap:wrap;\n",
              "      gap: 12px;\n",
              "    }\n",
              "\n",
              "    .colab-df-convert {\n",
              "      background-color: #E8F0FE;\n",
              "      border: none;\n",
              "      border-radius: 50%;\n",
              "      cursor: pointer;\n",
              "      display: none;\n",
              "      fill: #1967D2;\n",
              "      height: 32px;\n",
              "      padding: 0 0 0 0;\n",
              "      width: 32px;\n",
              "    }\n",
              "\n",
              "    .colab-df-convert:hover {\n",
              "      background-color: #E2EBFA;\n",
              "      box-shadow: 0px 1px 2px rgba(60, 64, 67, 0.3), 0px 1px 3px 1px rgba(60, 64, 67, 0.15);\n",
              "      fill: #174EA6;\n",
              "    }\n",
              "\n",
              "    [theme=dark] .colab-df-convert {\n",
              "      background-color: #3B4455;\n",
              "      fill: #D2E3FC;\n",
              "    }\n",
              "\n",
              "    [theme=dark] .colab-df-convert:hover {\n",
              "      background-color: #434B5C;\n",
              "      box-shadow: 0px 1px 3px 1px rgba(0, 0, 0, 0.15);\n",
              "      filter: drop-shadow(0px 1px 2px rgba(0, 0, 0, 0.3));\n",
              "      fill: #FFFFFF;\n",
              "    }\n",
              "  </style>\n",
              "\n",
              "      <script>\n",
              "        const buttonEl =\n",
              "          document.querySelector('#df-e0e94b2e-62e7-4b2f-835c-fca24609c84b button.colab-df-convert');\n",
              "        buttonEl.style.display =\n",
              "          google.colab.kernel.accessAllowed ? 'block' : 'none';\n",
              "\n",
              "        async function convertToInteractive(key) {\n",
              "          const element = document.querySelector('#df-e0e94b2e-62e7-4b2f-835c-fca24609c84b');\n",
              "          const dataTable =\n",
              "            await google.colab.kernel.invokeFunction('convertToInteractive',\n",
              "                                                     [key], {});\n",
              "          if (!dataTable) return;\n",
              "\n",
              "          const docLinkHtml = 'Like what you see? Visit the ' +\n",
              "            '<a target=\"_blank\" href=https://colab.research.google.com/notebooks/data_table.ipynb>data table notebook</a>'\n",
              "            + ' to learn more about interactive tables.';\n",
              "          element.innerHTML = '';\n",
              "          dataTable['output_type'] = 'display_data';\n",
              "          await google.colab.output.renderOutput(dataTable, element);\n",
              "          const docLink = document.createElement('div');\n",
              "          docLink.innerHTML = docLinkHtml;\n",
              "          element.appendChild(docLink);\n",
              "        }\n",
              "      </script>\n",
              "    </div>\n",
              "  </div>\n",
              "  "
            ]
          },
          "metadata": {},
          "execution_count": 12
        }
      ]
    },
    {
      "cell_type": "markdown",
      "source": [
        "# EDA"
      ],
      "metadata": {
        "id": "jkxF_Rw8_Bfi"
      }
    },
    {
      "cell_type": "code",
      "source": [
        "def create_corpus(target):\n",
        "    corpus = []\n",
        "    for x in df_train[df_train[\"target\"] == target][\"text\"].str.split():\n",
        "        print(x)\n",
        "        for i in x:\n",
        "            corpus.append(i)\n",
        "            \n",
        "    return corpus"
      ],
      "metadata": {
        "id": "4MQAzX2J4dKS"
      },
      "execution_count": null,
      "outputs": []
    },
    {
      "cell_type": "code",
      "source": [
        "corpus = create_corpus(0)\n",
        "\n",
        "stop = set(stopwords.words(\"english\"))\n",
        "\n",
        "dictionary = defaultdict(int)\n",
        "for word in corpus:\n",
        "    if word in stop:\n",
        "        dictionary[word] +=1\n",
        "        \n",
        "top = sorted(dictionary.items(), key = lambda x:x[1], reverse=True)[:10]"
      ],
      "metadata": {
        "id": "-OWzND5o4hk2"
      },
      "execution_count": null,
      "outputs": []
    },
    {
      "cell_type": "code",
      "source": [
        "x, y = zip(*top)\n",
        "\n",
        "plt.grid()\n",
        "plt.bar(x,y)\n",
        "plt.title(\"top words 0\")"
      ],
      "metadata": {
        "colab": {
          "base_uri": "https://localhost:8080/",
          "height": 471
        },
        "id": "4EJJ-sfQ6LwJ",
        "outputId": "fa0e86ec-c082-4b18-cd2e-8fd0e8c0efd3"
      },
      "execution_count": null,
      "outputs": [
        {
          "output_type": "execute_result",
          "data": {
            "text/plain": [
              "Text(0.5, 1.0, 'top words 0')"
            ]
          },
          "metadata": {},
          "execution_count": 21
        },
        {
          "output_type": "display_data",
          "data": {
            "text/plain": [
              "<Figure size 640x480 with 1 Axes>"
            ],
            "image/png": "[encoded data removed]"
          },
          "metadata": {}
        }
      ]
    },
    {
      "cell_type": "code",
      "source": [
        "corpus = create_corpus(1)\n",
        "\n",
        "stop = set(stopwords.words(\"english\"))\n",
        "\n",
        "dictionary = defaultdict(int)\n",
        "for word in corpus:\n",
        "    if word in stop:\n",
        "        dictionary[word] +=1\n",
        "        \n",
        "top = sorted(dictionary.items(), key = lambda x:x[1], reverse=True)[:10]"
      ],
      "metadata": {
        "id": "0c6oX8EH6PAi"
      },
      "execution_count": null,
      "outputs": []
    },
    {
      "cell_type": "code",
      "source": [
        "x, y = zip(*top)\n",
        "\n",
        "plt.grid()\n",
        "plt.bar(x,y, color = 'r')\n",
        "plt.title(\"top words 1\")"
      ],
      "metadata": {
        "colab": {
          "base_uri": "https://localhost:8080/",
          "height": 471
        },
        "id": "62wmk00t6wU4",
        "outputId": "9c629209-2de1-402f-bd7f-aa39aa7c8a14"
      },
      "execution_count": null,
      "outputs": [
        {
          "output_type": "execute_result",
          "data": {
            "text/plain": [
              "Text(0.5, 1.0, 'top words 1')"
            ]
          },
          "metadata": {},
          "execution_count": 25
        },
        {
          "output_type": "display_data",
          "data": {
            "text/plain": [
              "<Figure size 640x480 with 1 Axes>"
            ],
            "image/png": "[encoded data removed]"
          },
          "metadata": {}
        }
      ]
    },
    {
      "cell_type": "code",
      "source": [
        "corpus = create_corpus(1)\n",
        "\n",
        "dictionary = defaultdict(int)\n",
        "\n",
        "import string\n",
        "\n",
        "special_char = string.punctuation\n",
        "\n",
        "for i in corpus:\n",
        "    if i in special_char:\n",
        "        dictionary[i] +=1"
      ],
      "metadata": {
        "id": "srfmXCED61lP"
      },
      "execution_count": null,
      "outputs": []
    },
    {
      "cell_type": "code",
      "source": [
        "x,y = zip(*dictionary.items())\n",
        "\n",
        "plt.grid()\n",
        "plt.bar(x,y)\n",
        "plt.title(\"Punctuation disaster 1\")"
      ],
      "metadata": {
        "colab": {
          "base_uri": "https://localhost:8080/",
          "height": 472
        },
        "id": "iR8b_9Fv6NF-",
        "outputId": "6a6de572-845d-4fb3-8e99-32228dba1855"
      },
      "execution_count": null,
      "outputs": [
        {
          "output_type": "execute_result",
          "data": {
            "text/plain": [
              "Text(0.5, 1.0, 'Punctuation disaster 1')"
            ]
          },
          "metadata": {},
          "execution_count": 27
        },
        {
          "output_type": "display_data",
          "data": {
            "text/plain": [
              "<Figure size 640x480 with 1 Axes>"
            ],
            "image/png": "[encoded data removed]"
          },
          "metadata": {}
        }
      ]
    },
    {
      "cell_type": "code",
      "source": [
        "corpus = create_corpus(0)\n",
        "\n",
        "dictionary = defaultdict(int)\n",
        "\n",
        "import string\n",
        "\n",
        "special_char = string.punctuation\n",
        "\n",
        "for i in corpus:\n",
        "    if i in special_char:\n",
        "        dictionary[i] +=1"
      ],
      "metadata": {
        "id": "7ViSlo2X7GxP"
      },
      "execution_count": null,
      "outputs": []
    },
    {
      "cell_type": "code",
      "source": [
        "x,y = zip(*dictionary.items())\n",
        "\n",
        "plt.grid()\n",
        "plt.bar(x,y, color = 'r')\n",
        "plt.title(\"Punctuation disaster 0\")"
      ],
      "metadata": {
        "colab": {
          "base_uri": "https://localhost:8080/",
          "height": 472
        },
        "id": "LkI86-kH7Vlk",
        "outputId": "559a5e74-31f8-4ad6-c45f-d405a1f0ea95"
      },
      "execution_count": null,
      "outputs": [
        {
          "output_type": "execute_result",
          "data": {
            "text/plain": [
              "Text(0.5, 1.0, 'Punctuation disaster 0')"
            ]
          },
          "metadata": {},
          "execution_count": 30
        },
        {
          "output_type": "display_data",
          "data": {
            "text/plain": [
              "<Figure size 640x480 with 1 Axes>"
            ],
            "image/png": "[encoded data removed]"
          },
          "metadata": {}
        }
      ]
    },
    {
      "cell_type": "code",
      "source": [
        "counter = Counter(corpus)\n",
        "most = counter.most_common()\n",
        "x = []\n",
        "y = []\n",
        "\n",
        "for word, count in most[:40]:\n",
        "    if word not in stop:\n",
        "        x.append(word)\n",
        "        y.append(count)"
      ],
      "metadata": {
        "id": "I3stcZvv7fbQ"
      },
      "execution_count": null,
      "outputs": []
    },
    {
      "cell_type": "code",
      "source": [
        "plt.title(\"most common words\")\n",
        "plt.grid()\n",
        "sns.barplot(x = y, y = x)"
      ],
      "metadata": {
        "colab": {
          "base_uri": "https://localhost:8080/",
          "height": 471
        },
        "id": "fjeZVaZE7hWQ",
        "outputId": "10381ae9-54d8-4bb2-d982-7212319c28cd"
      },
      "execution_count": null,
      "outputs": [
        {
          "output_type": "execute_result",
          "data": {
            "text/plain": [
              "<Axes: title={'center': 'most common words'}>"
            ]
          },
          "metadata": {},
          "execution_count": 33
        },
        {
          "output_type": "display_data",
          "data": {
            "text/plain": [
              "<Figure size 640x480 with 1 Axes>"
            ],
            "image/png": "[encoded data removed]"
          },
          "metadata": {}
        }
      ]
    },
    {
      "cell_type": "markdown",
      "source": [
        "# 데이터 전처리"
      ],
      "metadata": {
        "id": "BwCp4wUX_INK"
      }
    },
    {
      "cell_type": "code",
      "source": [
        "import emoji\n",
        "stop=set(stopwords.words('english'))\n",
        "\n",
        "def text_preproccessing(df):  \n",
        "    \n",
        "    df = df.copy()\n",
        "    \n",
        "    def remove_URL(text):\n",
        "        url = re.compile(r'https?://\\S+|www\\.\\S+')\n",
        "        return url.sub(r'',text)\n",
        "\n",
        "    def remove_html(text):\n",
        "        html=re.compile(r'<.*?>')\n",
        "        return html.sub(r'',text)\n",
        "\n",
        "    def remove_punct(text):\n",
        "        table=str.maketrans('','',string.punctuation)\n",
        "        return text.translate(table)\n",
        "\n",
        "    # Reference : https://gist.github.com/slowkow/7a7f61f495e3dbb7e3d767f97bd7304b\n",
        "    def remove_emoji(text):\n",
        "        emoji_pattern = re.compile(\"[\"\n",
        "                               u\"\\U0001F600-\\U0001F64F\"  # emoticons\n",
        "                               u\"\\U0001F300-\\U0001F5FF\"  # symbols & pictographs\n",
        "                               u\"\\U0001F680-\\U0001F6FF\"  # transport & map symbols\n",
        "                               u\"\\U0001F1E0-\\U0001F1FF\"  # flags (iOS)\n",
        "                               u\"\\U00002702-\\U000027B0\"\n",
        "                               u\"\\U000024C2-\\U0001F251\"\n",
        "                               \"]+\", flags=re.UNICODE)\n",
        "        return emoji_pattern.sub(r'', text)\n",
        "\n",
        "    def remove_stopwords(x):\n",
        "        return ' '.join([i for i in x.split() if i not in stop])\n",
        "\n",
        "    def spell_check(x):\n",
        "        spell = Speller(lang='en')\n",
        "        return \" \".join([spell(i) for i in x.split()])\n",
        "\n",
        "    df['text']=df['text'].apply(lambda x : remove_URL(x))\n",
        "    df['text']=df['text'].apply(lambda x : remove_html(x))\n",
        "    df['text']=df['text'].apply(lambda x : remove_punct(x))\n",
        "    df['text']=df['text'].apply(lambda x : remove_emoji(x))\n",
        "    df['text']=df['text'].apply(lambda x : remove_stopwords(x))\n",
        "    #df['text']=df['text'].apply(lambda x : spell_check(x))\n",
        "\n",
        "    return df\n"
      ],
      "metadata": {
        "id": "H5LB77HDq0yE"
      },
      "execution_count": 14,
      "outputs": []
    },
    {
      "cell_type": "code",
      "source": [
        "df_train = text_preproccessing(df_train)\n",
        "df_test = text_preproccessing(df_test)"
      ],
      "metadata": {
        "id": "JS3VdyZ7hzAv"
      },
      "execution_count": 15,
      "outputs": []
    },
    {
      "cell_type": "code",
      "source": [
        "df_train.shape"
      ],
      "metadata": {
        "id": "KYdrMISrufO1",
        "outputId": "9ff2246b-f7a4-42f2-9a2b-72bfdc5f86f4",
        "colab": {
          "base_uri": "https://localhost:8080/"
        }
      },
      "execution_count": 16,
      "outputs": [
        {
          "output_type": "execute_result",
          "data": {
            "text/plain": [
              "(7613, 5)"
            ]
          },
          "metadata": {},
          "execution_count": 16
        }
      ]
    },
    {
      "cell_type": "code",
      "source": [
        "df_train.head()"
      ],
      "metadata": {
        "colab": {
          "base_uri": "https://localhost:8080/",
          "height": 0
        },
        "id": "MPuBo_0XiNLS",
        "outputId": "984d673f-c9b2-4482-a0bc-0dee1dada2fb"
      },
      "execution_count": 17,
      "outputs": [
        {
          "output_type": "execute_result",
          "data": {
            "text/plain": [
              "   id keyword location                                               text  \\\n",
              "0   1     NaN      NaN   Our Deeds Reason earthquake May ALLAH Forgive us   \n",
              "1   4     NaN      NaN              Forest fire near La Ronge Sask Canada   \n",
              "2   5     NaN      NaN  All residents asked shelter place notified off...   \n",
              "3   6     NaN      NaN  13000 people receive wildfires evacuation orde...   \n",
              "4   7     NaN      NaN  Just got sent photo Ruby Alaska smoke wildfire...   \n",
              "\n",
              "   target  \n",
              "0       1  \n",
              "1       1  \n",
              "2       1  \n",
              "3       1  \n",
              "4       1  "
            ],
            "text/html": [
              "\n",
              "  <div id=\"df-baf64ca2-680c-4ef4-9ee4-4514c10d3552\">\n",
              "    <div class=\"colab-df-container\">\n",
              "      <div>\n",
              "<style scoped>\n",
              "    .dataframe tbody tr th:only-of-type {\n",
              "        vertical-align: middle;\n",
              "    }\n",
              "\n",
              "    .dataframe tbody tr th {\n",
              "        vertical-align: top;\n",
              "    }\n",
              "\n",
              "    .dataframe thead th {\n",
              "        text-align: right;\n",
              "    }\n",
              "</style>\n",
              "<table border=\"1\" class=\"dataframe\">\n",
              "  <thead>\n",
              "    <tr style=\"text-align: right;\">\n",
              "      <th></th>\n",
              "      <th>id</th>\n",
              "      <th>keyword</th>\n",
              "      <th>location</th>\n",
              "      <th>text</th>\n",
              "      <th>target</th>\n",
              "    </tr>\n",
              "  </thead>\n",
              "  <tbody>\n",
              "    <tr>\n",
              "      <th>0</th>\n",
              "      <td>1</td>\n",
              "      <td>NaN</td>\n",
              "      <td>NaN</td>\n",
              "      <td>Our Deeds Reason earthquake May ALLAH Forgive us</td>\n",
              "      <td>1</td>\n",
              "    </tr>\n",
              "    <tr>\n",
              "      <th>1</th>\n",
              "      <td>4</td>\n",
              "      <td>NaN</td>\n",
              "      <td>NaN</td>\n",
              "      <td>Forest fire near La Ronge Sask Canada</td>\n",
              "      <td>1</td>\n",
              "    </tr>\n",
              "    <tr>\n",
              "      <th>2</th>\n",
              "      <td>5</td>\n",
              "      <td>NaN</td>\n",
              "      <td>NaN</td>\n",
              "      <td>All residents asked shelter place notified off...</td>\n",
              "      <td>1</td>\n",
              "    </tr>\n",
              "    <tr>\n",
              "      <th>3</th>\n",
              "      <td>6</td>\n",
              "      <td>NaN</td>\n",
              "      <td>NaN</td>\n",
              "      <td>13000 people receive wildfires evacuation orde...</td>\n",
              "      <td>1</td>\n",
              "    </tr>\n",
              "    <tr>\n",
              "      <th>4</th>\n",
              "      <td>7</td>\n",
              "      <td>NaN</td>\n",
              "      <td>NaN</td>\n",
              "      <td>Just got sent photo Ruby Alaska smoke wildfire...</td>\n",
              "      <td>1</td>\n",
              "    </tr>\n",
              "  </tbody>\n",
              "</table>\n",
              "</div>\n",
              "      <button class=\"colab-df-convert\" onclick=\"convertToInteractive('df-baf64ca2-680c-4ef4-9ee4-4514c10d3552')\"\n",
              "              title=\"Convert this dataframe to an interactive table.\"\n",
              "              style=\"display:none;\">\n",
              "        \n",
              "  <svg xmlns=\"http://www.w3.org/2000/svg\" height=\"24px\"viewBox=\"0 0 24 24\"\n",
              "       width=\"24px\">\n",
              "    <path d=\"M0 0h24v24H0V0z\" fill=\"none\"/>\n",
              "    <path d=\"M18.56 5.44l.94 2.06.94-2.06 2.06-.94-2.06-.94-.94-2.06-.94 2.06-2.06.94zm-11 1L8.5 8.5l.94-2.06 2.06-.94-2.06-.94L8.5 2.5l-.94 2.06-2.06.94zm10 10l.94 2.06.94-2.06 2.06-.94-2.06-.94-.94-2.06-.94 2.06-2.06.94z\"/><path d=\"M17.41 7.96l-1.37-1.37c-.4-.4-.92-.59-1.43-.59-.52 0-1.04.2-1.43.59L10.3 9.45l-7.72 7.72c-.78.78-.78 2.05 0 2.83L4 21.41c.39.39.9.59 1.41.59.51 0 1.02-.2 1.41-.59l7.78-7.78 2.81-2.81c.8-.78.8-2.07 0-2.86zM5.41 20L4 18.59l7.72-7.72 1.47 1.35L5.41 20z\"/>\n",
              "  </svg>\n",
              "      </button>\n",
              "      \n",
              "  <style>\n",
              "    .colab-df-container {\n",
              "      display:flex;\n",
              "      flex-wrap:wrap;\n",
              "      gap: 12px;\n",
              "    }\n",
              "\n",
              "    .colab-df-convert {\n",
              "      background-color: #E8F0FE;\n",
              "      border: none;\n",
              "      border-radius: 50%;\n",
              "      cursor: pointer;\n",
              "      display: none;\n",
              "      fill: #1967D2;\n",
              "      height: 32px;\n",
              "      padding: 0 0 0 0;\n",
              "      width: 32px;\n",
              "    }\n",
              "\n",
              "    .colab-df-convert:hover {\n",
              "      background-color: #E2EBFA;\n",
              "      box-shadow: 0px 1px 2px rgba(60, 64, 67, 0.3), 0px 1px 3px 1px rgba(60, 64, 67, 0.15);\n",
              "      fill: #174EA6;\n",
              "    }\n",
              "\n",
              "    [theme=dark] .colab-df-convert {\n",
              "      background-color: #3B4455;\n",
              "      fill: #D2E3FC;\n",
              "    }\n",
              "\n",
              "    [theme=dark] .colab-df-convert:hover {\n",
              "      background-color: #434B5C;\n",
              "      box-shadow: 0px 1px 3px 1px rgba(0, 0, 0, 0.15);\n",
              "      filter: drop-shadow(0px 1px 2px rgba(0, 0, 0, 0.3));\n",
              "      fill: #FFFFFF;\n",
              "    }\n",
              "  </style>\n",
              "\n",
              "      <script>\n",
              "        const buttonEl =\n",
              "          document.querySelector('#df-baf64ca2-680c-4ef4-9ee4-4514c10d3552 button.colab-df-convert');\n",
              "        buttonEl.style.display =\n",
              "          google.colab.kernel.accessAllowed ? 'block' : 'none';\n",
              "\n",
              "        async function convertToInteractive(key) {\n",
              "          const element = document.querySelector('#df-baf64ca2-680c-4ef4-9ee4-4514c10d3552');\n",
              "          const dataTable =\n",
              "            await google.colab.kernel.invokeFunction('convertToInteractive',\n",
              "                                                     [key], {});\n",
              "          if (!dataTable) return;\n",
              "\n",
              "          const docLinkHtml = 'Like what you see? Visit the ' +\n",
              "            '<a target=\"_blank\" href=https://colab.research.google.com/notebooks/data_table.ipynb>data table notebook</a>'\n",
              "            + ' to learn more about interactive tables.';\n",
              "          element.innerHTML = '';\n",
              "          dataTable['output_type'] = 'display_data';\n",
              "          await google.colab.output.renderOutput(dataTable, element);\n",
              "          const docLink = document.createElement('div');\n",
              "          docLink.innerHTML = docLinkHtml;\n",
              "          element.appendChild(docLink);\n",
              "        }\n",
              "      </script>\n",
              "    </div>\n",
              "  </div>\n",
              "  "
            ]
          },
          "metadata": {},
          "execution_count": 17
        }
      ]
    },
    {
      "cell_type": "code",
      "source": [
        "df_test.shape"
      ],
      "metadata": {
        "id": "07YGosD8u4m2",
        "outputId": "83fc92ab-5292-4b1c-b589-16e78126d98c",
        "colab": {
          "base_uri": "https://localhost:8080/"
        }
      },
      "execution_count": 18,
      "outputs": [
        {
          "output_type": "execute_result",
          "data": {
            "text/plain": [
              "(3263, 4)"
            ]
          },
          "metadata": {},
          "execution_count": 18
        }
      ]
    },
    {
      "cell_type": "code",
      "source": [
        "df_test.head()"
      ],
      "metadata": {
        "colab": {
          "base_uri": "https://localhost:8080/",
          "height": 0
        },
        "id": "_w4IUpGnhcMw",
        "outputId": "7b8cedfa-86fb-4dfb-df7d-42f593ad54dc"
      },
      "execution_count": 19,
      "outputs": [
        {
          "output_type": "execute_result",
          "data": {
            "text/plain": [
              "   id keyword location                                               text\n",
              "0   0     NaN      NaN                   Just happened terrible car crash\n",
              "1   2     NaN      NaN  Heard earthquake different cities stay safe ev...\n",
              "2   3     NaN      NaN  forest fire spot pond geese fleeing across str...\n",
              "3   9     NaN      NaN              Apocalypse lighting Spokane wildfires\n",
              "4  11     NaN      NaN             Typhoon Soudelor kills 28 China Taiwan"
            ],
            "text/html": [
              "\n",
              "  <div id=\"df-76406e94-258a-44d3-afb5-d2e4b3779da5\">\n",
              "    <div class=\"colab-df-container\">\n",
              "      <div>\n",
              "<style scoped>\n",
              "    .dataframe tbody tr th:only-of-type {\n",
              "        vertical-align: middle;\n",
              "    }\n",
              "\n",
              "    .dataframe tbody tr th {\n",
              "        vertical-align: top;\n",
              "    }\n",
              "\n",
              "    .dataframe thead th {\n",
              "        text-align: right;\n",
              "    }\n",
              "</style>\n",
              "<table border=\"1\" class=\"dataframe\">\n",
              "  <thead>\n",
              "    <tr style=\"text-align: right;\">\n",
              "      <th></th>\n",
              "      <th>id</th>\n",
              "      <th>keyword</th>\n",
              "      <th>location</th>\n",
              "      <th>text</th>\n",
              "    </tr>\n",
              "  </thead>\n",
              "  <tbody>\n",
              "    <tr>\n",
              "      <th>0</th>\n",
              "      <td>0</td>\n",
              "      <td>NaN</td>\n",
              "      <td>NaN</td>\n",
              "      <td>Just happened terrible car crash</td>\n",
              "    </tr>\n",
              "    <tr>\n",
              "      <th>1</th>\n",
              "      <td>2</td>\n",
              "      <td>NaN</td>\n",
              "      <td>NaN</td>\n",
              "      <td>Heard earthquake different cities stay safe ev...</td>\n",
              "    </tr>\n",
              "    <tr>\n",
              "      <th>2</th>\n",
              "      <td>3</td>\n",
              "      <td>NaN</td>\n",
              "      <td>NaN</td>\n",
              "      <td>forest fire spot pond geese fleeing across str...</td>\n",
              "    </tr>\n",
              "    <tr>\n",
              "      <th>3</th>\n",
              "      <td>9</td>\n",
              "      <td>NaN</td>\n",
              "      <td>NaN</td>\n",
              "      <td>Apocalypse lighting Spokane wildfires</td>\n",
              "    </tr>\n",
              "    <tr>\n",
              "      <th>4</th>\n",
              "      <td>11</td>\n",
              "      <td>NaN</td>\n",
              "      <td>NaN</td>\n",
              "      <td>Typhoon Soudelor kills 28 China Taiwan</td>\n",
              "    </tr>\n",
              "  </tbody>\n",
              "</table>\n",
              "</div>\n",
              "      <button class=\"colab-df-convert\" onclick=\"convertToInteractive('df-76406e94-258a-44d3-afb5-d2e4b3779da5')\"\n",
              "              title=\"Convert this dataframe to an interactive table.\"\n",
              "              style=\"display:none;\">\n",
              "        \n",
              "  <svg xmlns=\"http://www.w3.org/2000/svg\" height=\"24px\"viewBox=\"0 0 24 24\"\n",
              "       width=\"24px\">\n",
              "    <path d=\"M0 0h24v24H0V0z\" fill=\"none\"/>\n",
              "    <path d=\"M18.56 5.44l.94 2.06.94-2.06 2.06-.94-2.06-.94-.94-2.06-.94 2.06-2.06.94zm-11 1L8.5 8.5l.94-2.06 2.06-.94-2.06-.94L8.5 2.5l-.94 2.06-2.06.94zm10 10l.94 2.06.94-2.06 2.06-.94-2.06-.94-.94-2.06-.94 2.06-2.06.94z\"/><path d=\"M17.41 7.96l-1.37-1.37c-.4-.4-.92-.59-1.43-.59-.52 0-1.04.2-1.43.59L10.3 9.45l-7.72 7.72c-.78.78-.78 2.05 0 2.83L4 21.41c.39.39.9.59 1.41.59.51 0 1.02-.2 1.41-.59l7.78-7.78 2.81-2.81c.8-.78.8-2.07 0-2.86zM5.41 20L4 18.59l7.72-7.72 1.47 1.35L5.41 20z\"/>\n",
              "  </svg>\n",
              "      </button>\n",
              "      \n",
              "  <style>\n",
              "    .colab-df-container {\n",
              "      display:flex;\n",
              "      flex-wrap:wrap;\n",
              "      gap: 12px;\n",
              "    }\n",
              "\n",
              "    .colab-df-convert {\n",
              "      background-color: #E8F0FE;\n",
              "      border: none;\n",
              "      border-radius: 50%;\n",
              "      cursor: pointer;\n",
              "      display: none;\n",
              "      fill: #1967D2;\n",
              "      height: 32px;\n",
              "      padding: 0 0 0 0;\n",
              "      width: 32px;\n",
              "    }\n",
              "\n",
              "    .colab-df-convert:hover {\n",
              "      background-color: #E2EBFA;\n",
              "      box-shadow: 0px 1px 2px rgba(60, 64, 67, 0.3), 0px 1px 3px 1px rgba(60, 64, 67, 0.15);\n",
              "      fill: #174EA6;\n",
              "    }\n",
              "\n",
              "    [theme=dark] .colab-df-convert {\n",
              "      background-color: #3B4455;\n",
              "      fill: #D2E3FC;\n",
              "    }\n",
              "\n",
              "    [theme=dark] .colab-df-convert:hover {\n",
              "      background-color: #434B5C;\n",
              "      box-shadow: 0px 1px 3px 1px rgba(0, 0, 0, 0.15);\n",
              "      filter: drop-shadow(0px 1px 2px rgba(0, 0, 0, 0.3));\n",
              "      fill: #FFFFFF;\n",
              "    }\n",
              "  </style>\n",
              "\n",
              "      <script>\n",
              "        const buttonEl =\n",
              "          document.querySelector('#df-76406e94-258a-44d3-afb5-d2e4b3779da5 button.colab-df-convert');\n",
              "        buttonEl.style.display =\n",
              "          google.colab.kernel.accessAllowed ? 'block' : 'none';\n",
              "\n",
              "        async function convertToInteractive(key) {\n",
              "          const element = document.querySelector('#df-76406e94-258a-44d3-afb5-d2e4b3779da5');\n",
              "          const dataTable =\n",
              "            await google.colab.kernel.invokeFunction('convertToInteractive',\n",
              "                                                     [key], {});\n",
              "          if (!dataTable) return;\n",
              "\n",
              "          const docLinkHtml = 'Like what you see? Visit the ' +\n",
              "            '<a target=\"_blank\" href=https://colab.research.google.com/notebooks/data_table.ipynb>data table notebook</a>'\n",
              "            + ' to learn more about interactive tables.';\n",
              "          element.innerHTML = '';\n",
              "          dataTable['output_type'] = 'display_data';\n",
              "          await google.colab.output.renderOutput(dataTable, element);\n",
              "          const docLink = document.createElement('div');\n",
              "          docLink.innerHTML = docLinkHtml;\n",
              "          element.appendChild(docLink);\n",
              "        }\n",
              "      </script>\n",
              "    </div>\n",
              "  </div>\n",
              "  "
            ]
          },
          "metadata": {},
          "execution_count": 19
        }
      ]
    },
    {
      "cell_type": "code",
      "source": [
        "df=pd.concat([df_train,df_test])\n",
        "df.shape"
      ],
      "metadata": {
        "colab": {
          "base_uri": "https://localhost:8080/"
        },
        "id": "5P6QY6DBSqxT",
        "outputId": "53ae39db-d0b1-4bef-f9dd-91c054860bad"
      },
      "execution_count": 20,
      "outputs": [
        {
          "output_type": "execute_result",
          "data": {
            "text/plain": [
              "(10876, 5)"
            ]
          },
          "metadata": {},
          "execution_count": 20
        }
      ]
    },
    {
      "cell_type": "markdown",
      "source": [
        "#  simple RNN"
      ],
      "metadata": {
        "id": "-1CxzPtonTa1"
      }
    },
    {
      "cell_type": "code",
      "source": [
        "tokenizer = Tokenizer()\n",
        "tokenizer.fit_on_texts(df['text'])\n",
        "X_train_encoded = tokenizer.texts_to_sequences(df['text']) #단어를 숫자로\n",
        "\n",
        "print(X_train_encoded[:5])"
      ],
      "metadata": {
        "colab": {
          "base_uri": "https://localhost:8080/"
        },
        "id": "aIuY3E4Yn1yf",
        "outputId": "8fc92884-7443-4286-e226-aecc8044aa3a"
      },
      "execution_count": 67,
      "outputs": [
        {
          "output_type": "stream",
          "name": "stdout",
          "text": [
            "[[642, 5761, 761, 182, 82, 1873, 3684, 16], [97, 7, 144, 762, 8487, 8488, 1354], [123, 1522, 1434, 2187, 665, 8489, 1729, 79, 210, 2187, 665, 1615, 1179], [3121, 12, 4452, 1222, 210, 1615, 41], [141, 38, 1435, 231, 5762, 2432, 218, 1222, 8490, 142]]\n"
          ]
        }
      ]
    },
    {
      "cell_type": "code",
      "source": [
        "word_to_index = tokenizer.word_index\n",
        "print(word_to_index)"
      ],
      "metadata": {
        "colab": {
          "base_uri": "https://localhost:8080/"
        },
        "id": "WFwMuTU3o-8v",
        "outputId": "f6ef546a-9e6e-45a6-dd8f-51fbe9ed06ea"
      },
      "execution_count": 68,
      "outputs": [
        {
          "output_type": "stream",
          "name": "stdout",
          "text": [
            "{'i': 1, 'the': 2, 'like': 3, 'amp': 4, 'im': 5, 'a': 6, 'fire': 7, 'get': 8, 'new': 9, 'via': 10, 'news': 11, 'people': 12, 'one': 13, 'in': 14, 'dont': 15, 'us': 16, '2': 17, 'emergency': 18, 'video': 19, 'disaster': 20, 'would': 21, 'this': 22, 'to': 23, 'police': 24, 'still': 25, 'is': 26, 'you': 27, 'my': 28, 'suicide': 29, 'body': 30, 'crash': 31, 'burning': 32, 'first': 33, 'storm': 34, 'rt': 35, 'attack': 36, 'time': 37, 'got': 38, 'back': 39, 'know': 40, 'california': 41, 'fires': 42, 'buildings': 43, 'see': 44, 'going': 45, 'and': 46, '3': 47, 'man': 48, 'day': 49, 'love': 50, 'two': 51, 'world': 52, 'cant': 53, 'bomb': 54, 'if': 55, 'nuclear': 56, 'full': 57, 'go': 58, 'hiroshima': 59, 'dead': 60, 'youtube': 61, 'watch': 62, 'today': 63, 'life': 64, 'think': 65, 'car': 66, 'train': 67, 'last': 68, 'killed': 69, 'it': 70, 'accident': 71, 'its': 72, 'good': 73, 'of': 74, 'say': 75, 'we': 76, 'make': 77, 'war': 78, 'no': 79, 'how': 80, 'could': 81, 'may': 82, 'many': 83, 'more': 84, 'years': 85, 'families': 86, 'need': 87, 'now': 88, 'even': 89, 'want': 90, 'u': 91, 'way': 92, 'best': 93, 'right': 94, 'collapse': 95, 'bombing': 96, 'forest': 97, 'army': 98, 'mass': 99, 'what': 100, '1': 101, 'home': 102, 'work': 103, 'take': 104, 'for': 105, 'year': 106, 'really': 107, 'death': 108, 'wildfire': 109, 'so': 110, 'black': 111, 'another': 112, 'lol': 113, 'please': 114, 'never': 115, 'water': 116, '5': 117, 'bomber': 118, 'on': 119, 'look': 120, 'hot': 121, 'mh370': 122, 'all': 123, 'help': 124, 'pm': 125, 'when': 126, 'youre': 127, 'god': 128, '4': 129, 'but': 130, '\\x89û': 131, 'northern': 132, 'fatal': 133, 'live': 134, '2015': 135, 'let': 136, 'much': 137, 'feel': 138, 'old': 139, 'obama': 140, 'just': 141, 'school': 142, 'flood': 143, 'near': 144, 'are': 145, 'great': 146, 'read': 147, 'he': 148, 'wild': 149, 'city': 150, 'with': 151, 'said': 152, 'latest': 153, 'not': 154, 'night': 155, 'stop': 156, 'homes': 157, 'top': 158, 'shit': 159, 'why': 160, 'floods': 161, 'come': 162, 'services': 163, 'legionnaires': 164, 'hope': 165, 'japan': 166, 'atomic': 167, 'ever': 168, 'flames': 169, 'getting': 170, 'truck': 171, 'house': 172, 'injured': 173, 'fear': 174, 'wreck': 175, 'post': 176, 'ass': 177, 'every': 178, 'content': 179, 'by': 180, 'thats': 181, 'earthquake': 182, 'coming': 183, 'that': 184, 'there': 185, 'well': 186, 'plan': 187, 'oil': 188, 'severe': 189, 'found': 190, 'state': 191, 'since': 192, 'military': 193, 'after': 194, 'up': 195, 'as': 196, 'damage': 197, 'at': 198, 'w': 199, 'everyone': 200, 'debris': 201, 'weather': 202, 'change': 203, 'summer': 204, 'family': 205, 'food': 206, 'without': 207, 'from': 208, 'thunderstorm': 209, 'evacuation': 210, 'gonna': 211, 'always': 212, 'next': 213, 'also': 214, 'cause': 215, 'will': 216, 'natural': 217, 'smoke': 218, 'heat': 219, '\\x89ûò': 220, 'wounded': 221, 'set': 222, 'little': 223, 'hit': 224, 'national': 225, 'lightning': 226, 'times': 227, 'looks': 228, 'survive': 229, 'destroyed': 230, 'photo': 231, 'flooding': 232, 'check': 233, 'ill': 234, 'fucking': 235, 'bloody': 236, 'murder': 237, 'face': 238, 'boy': 239, 'liked': 240, 'bad': 241, 'story': 242, 'service': 243, 'trapped': 244, 'malaysia': 245, 'ive': 246, 'terrorist': 247, 'says': 248, 'fall': 249, 'failure': 250, 'spill': 251, 'injuries': 252, 'loud': 253, 'rain': 254, 'free': 255, 'movie': 256, 'show': 257, 'saudi': 258, 'oh': 259, 'cross': 260, 'thunder': 261, 'around': 262, 'red': 263, 'girl': 264, 'put': 265, 'boat': 266, 'confirmed': 267, 'landslide': 268, 'survived': 269, 'game': 270, 'someone': 271, 'air': 272, 'call': 273, 'weapon': 274, 'bag': 275, 'refugees': 276, 'reddit': 277, 'theres': 278, 'they': 279, 'screaming': 280, 'destroy': 281, 'kills': 282, '70': 283, 'an': 284, 'released': 285, 'rescue': 286, 'panic': 287, 'do': 288, 'burned': 289, 'run': 290, 'hes': 291, 'whole': 292, 'survivors': 293, 'save': 294, 'missing': 295, 'attacked': 296, 'weapons': 297, 'wind': 298, 'hurricane': 299, 'breaking': 300, 'week': 301, 'past': 302, 'heard': 303, 'blood': 304, 'apocalypse': 305, 'warning': 306, 'hail': 307, 'big': 308, 'mosque': 309, 'report': 310, 'bridge': 311, 'drought': 312, 'migrants': 313, 'head': 314, 'tonight': 315, 'thing': 316, 'trauma': 317, 'violent': 318, 'fuck': 319, 'terrorism': 320, 'women': 321, 'some': 322, 'responders': 323, 'rescued': 324, 'drowning': 325, 'end': 326, 'island': 327, 'saw': 328, 'keep': 329, 'bags': 330, 'rescuers': 331, 'sinking': 332, 'collapsed': 333, 'hundreds': 334, 'deaths': 335, 'demolished': 336, 'county': 337, 'crashed': 338, 'destruction': 339, 'made': 340, 'lives': 341, 'catastrophic': 342, 'dust': 343, 'massacre': 344, 'sinkhole': 345, 'due': 346, 'ambulance': 347, 'ok': 348, 'away': 349, 'charged': 350, 'white': 351, 'hostage': 352, 'tragedy': 353, 'market': 354, 'were': 355, 'evacuate': 356, 'derailment': 357, 'catastrophe': 358, 'collided': 359, 'stock': 360, 'screamed': 361, 'exploded': 362, 'wreckage': 363, 'lava': 364, 'outbreak': 365, 'update': 366, 'wave': 367, 'least': 368, 'injury': 369, 'explosion': 370, 'river': 371, 'august': 372, 'bleeding': 373, 'blew': 374, 'drown': 375, 'blown': 376, 'explode': 377, 'hazard': 378, 'ruin': 379, 'traumatised': 380, 'hazardous': 381, 'crush': 382, 'trouble': 383, 'electrocuted': 384, 'quarantine': 385, 'structural': 386, 'better': 387, 'suspect': 388, 'high': 389, 'real': 390, 'anniversary': 391, 'riot': 392, '6': 393, 'curfew': 394, 'wounds': 395, 'blast': 396, 'engulfed': 397, 'investigators': 398, 'bang': 399, 'inundated': 400, 'panicking': 401, 'quarantined': 402, 'area': 403, 'bus': 404, '40': 405, 'horrible': 406, 's': 407, 'meltdown': 408, 'airplane': 409, 'your': 410, 'sirens': 411, 'must': 412, 'thought': 413, 'group': 414, 'baby': 415, 'rioting': 416, 'displaced': 417, 'cliff': 418, 'crushed': 419, 'deluged': 420, 'detonation': 421, 'mudslide': 422, 'obliterate': 423, 'obliterated': 424, 'sandstorm': 425, 'screams': 426, 'wrecked': 427, 'something': 428, 'road': 429, '15': 430, 'part': 431, 'arson': 432, 'calgary': 433, 'battle': 434, 'security': 435, 'bagging': 436, 'send': 437, 'casualties': 438, 'caused': 439, 'collide': 440, 'danger': 441, 'derail': 442, 'desolation': 443, 'devastation': 444, 'seismic': 445, 'flattened': 446, 'hijacking': 447, 'hostages': 448, 'obliteration': 449, 'twister': 450, 'three': 451, 'died': 452, 'use': 453, 'phone': 454, 'went': 455, 'id': 456, 'sure': 457, 'fedex': 458, 'pkk': 459, 'cyclone': 460, 'demolish': 461, 'whirlwind': 462, 'came': 463, 'airport': 464, 'heart': 465, 'things': 466, 'longer': 467, 'light': 468, 'bombed': 469, 'harm': 470, 'typhoon': 471, 'derailed': 472, 'volcano': 473, 'razed': 474, 'rubble': 475, 'snowstorm': 476, 'detonated': 477, 'didnt': 478, 'gets': 479, 'ebay': 480, 'annihilated': 481, 'me': 482, 'armageddon': 483, 'fan': 484, 'sound': 485, 'twitter': 486, 'woman': 487, 'trying': 488, 'power': 489, 'line': 490, 'ur': 491, 'affected': 492, 'chemical': 493, 'detonate': 494, 'evacuated': 495, 'eyewitness': 496, 'famine': 497, 'hijack': 498, 'hijacker': 499, 'building': 500, 'far': 501, 'used': 502, 'minute': 503, 'goes': 504, 'government': 505, 'be': 506, 'zone': 507, 'yet': 508, 'remember': 509, 'blazing': 510, 'song': 511, 'turkey': 512, 'drowned': 513, 'tsunami': 514, 'electrocute': 515, 'sunk': 516, 'windstorm': 517, 'shooting': 518, 'iran': 519, 'kill': 520, 'long': 521, 'bioterror': 522, 'lets': 523, 'half': 524, 'shoulder': 525, 'deluge': 526, 'under': 527, 'fatalities': 528, 'rainstorm': 529, 'stretcher': 530, '\\x89ûó': 531, 'kids': 532, 'possible': 533, 'hell': 534, 'fight': 535, 'soon': 536, 'tomorrow': 537, 'avalanche': 538, 'doesnt': 539, 'land': 540, 'isis': 541, 'pandemonium': 542, '16yr': 543, 'tornado': 544, 'ablaze': 545, 'st': 546, 'thanks': 547, 'tell': 548, 'actually': 549, 'issues': 550, 'done': 551, 'play': 552, 'reunion': 553, 'plane': 554, 'lot': 555, 'annihilation': 556, '8': 557, 'india': 558, 'bioterrorism': 559, 'health': 560, 'wanna': 561, 'nothing': 562, 'officer': 563, 'collision': 564, 'demolition': 565, 'fatality': 566, 'prebreak': 567, 'murderer': 568, 'south': 569, 'days': 570, 'cool': 571, 'site': 572, 'care': 573, 'left': 574, 'already': 575, 'believe': 576, 'start': 577, 'caught': 578, 'officials': 579, 'israeli': 580, 'music': 581, 'yes': 582, 'pic': 583, 'blight': 584, 'though': 585, 'who': 586, 'upheaval': 587, 'whats': 588, 'west': 589, '30': 590, 'brown': 591, 'fun': 592, 'stay': 593, 'media': 594, 'person': 595, 'low': 596, 'nearby': 597, 'bush': 598, 'casualty': 599, '20': 600, '9': 601, 'ago': 602, 'horror': 603, 'park': 604, 'order': 605, '7': 606, 'abc': 607, 'street': 608, 'try': 609, 'north': 610, 'thank': 611, 'making': 612, 'men': 613, 'wake': 614, 'wont': 615, 'israel': 616, 'case': 617, 'data': 618, 'american': 619, 're\\x89û': 620, 'hear': 621, 'rise': 622, 'desolate': 623, 'hailstorm': 624, 'hellfire': 625, 'mayhem': 626, 'wait': 627, 'second': 628, 'n': 629, 'plans': 630, 'die': 631, 'bc': 632, 'hours': 633, 'damn': 634, 'pretty': 635, 'policy': 636, 'watching': 637, 'aug': 638, 'takes': 639, 'declares': 640, 'swallowed': 641, 'our': 642, 'inside': 643, 'theyre': 644, 'almost': 645, 'eyes': 646, 'omg': 647, 'reuters': 648, 'history': 649, 'give': 650, 'pick': 651, 'children': 652, 'over': 653, 'yeah': 654, 'guys': 655, 'deal': 656, 'words': 657, 'pay': 658, 'find': 659, 'mp': 660, 'emmerdale': 661, 'saipan': 662, 'sue': 663, 'conclusively': 664, 'place': 665, 'shot': 666, 'happy': 667, 'or': 668, 'traffic': 669, 'finally': 670, 'support': 671, 'anyone': 672, 'might': 673, 'feared': 674, 'crazy': 675, 'everything': 676, 'maybe': 677, 'isnt': 678, 'tv': 679, 'anything': 680, 'makes': 681, 'lab': 682, 'move': 683, 'money': 684, 'bigger': 685, 'waves': 686, 'effect': 687, 'trench': 688, 'reactor': 689, 'aftershock': 690, '12': 691, 'helicopter': 692, 'bar': 693, 'stand': 694, 'crisis': 695, 'business': 696, 'literally': 697, 'transport': 698, 'out': 699, 'probably': 700, '60': 701, 'memories': 702, 'devastated': 703, 'hat': 704, 'am': 705, 'side': 706, 'outside': 707, 'huge': 708, 'guy': 709, 'job': 710, 'have': 711, 'seen': 712, 'peace': 713, '10': 714, 'beautiful': 715, 'searching': 716, 'wow': 717, 'houses': 718, 'saved': 719, 'typhoondevastated': 720, 'bestnaijamade': 721, 'leave': 722, 'mom': 723, 'happened': 724, 'book': 725, 'sorry': 726, 'hey': 727, 'called': 728, 'team': 729, 'fukushima': 730, 'public': 731, 'photos': 732, 'likely': 733, 'crews': 734, 'bbc': 735, '13': 736, 'soudelor': 737, 'nowplaying': 738, 'america': 739, 'salt': 740, 'name': 741, 'gt': 742, 'truth': 743, 'amid': 744, 'blaze': 745, 'muslims': 746, 'taken': 747, 'hollywood': 748, 'level': 749, 'blizzard': 750, 'spot': 751, 'marks': 752, 'pray': 753, 'businesses': 754, 'room': 755, 'bodies': 756, 'signs': 757, 'islam': 758, 'manslaughter': 759, 'offensive': 760, 'reason': 761, 'la': 762, 'lost': 763, 'flag': 764, 'center': 765, 'aircraft': 766, 'hate': 767, 'ball': 768, 'major': 769, 'womens': 770, 'town': 771, 'green': 772, 'listen': 773, 'playing': 774, 'australia': 775, 'anthrax': 776, 'about': 777, 'computers': 778, 'morning': 779, 'drake': 780, 'appears': 781, 'giant': 782, 'become': 783, 'course': 784, 'quiz': 785, 'knock': 786, 'projected': 787, 'led': 788, 'gems': 789, 'siren': 790, 'fast': 791, 'bring': 792, 'arsonist': 793, 'climate': 794, 'else': 795, 'can': 796, 'pakistan': 797, 'horse': 798, 'self': 799, 'b': 800, 'leather': 801, 'feeling': 802, 'running': 803, 'mad': 804, 'russian': 805, '70th': 806, 'being': 807, 'flight': 808, 'banned': 809, 'ignition': 810, 'virgin': 811, 'closed': 812, 'flash': 813, 'across': 814, 'cars': 815, 'others': 816, 'talk': 817, 'property': 818, 'dog': 819, 'safety': 820, 'country': 821, 'child': 822, 'comes': 823, '100': 824, 'mop': 825, 'control': 826, 'reports': 827, 'texas': 828, 'shift': 829, 'christian': 830, 'needs': 831, 'nearly': 832, 'follow': 833, 'aint': 834, 'link': 835, 'thursday': 836, 'village': 837, 'trains': 838, 'issued': 839, '11yearold': 840, 'ancient': 841, 'refugio': 842, 'costlier': 843, 'heavy': 844, 'haha': 845, 'was': 846, 'lord': 847, 'thousands': 848, 'hard': 849, 'rd': 850, 'has': 851, 'wrong': 852, 'shes': 853, '11': 854, 'radio': 855, 'ca': 856, 'claims': 857, 'militants': 858, 'okay': 859, 'temple': 860, 'worst': 861, 'favorite': 862, 'eye': 863, 'space': 864, '50': 865, 'miss': 866, 'germs': 867, 'mishaps': 868, 'action': 869, 'firefighters': 870, 'online': 871, 'she': 872, 'entire': 873, 'told': 874, 'open': 875, 'large': 876, 'super': 877, 'ladies': 878, 'insurance': 879, 'cnn': 880, 'picking': 881, 'funtenna': 882, 'unconfirmed': 883, 'neighbours': 884, 'chinas': 885, 'galactic': 886, 'miners': 887, 'taking': 888, 'r': 889, 'front': 890, 'vehicle': 891, 'win': 892, 'daily': 893, 'moment': 894, 'four': 895, 'official': 896, 'hand': 897, 'earth': 898, 'united': 899, 'class': 900, 'learn': 901, 'east': 902, 'true': 903, 'mount': 904, 'youth': 905, 'piece': 906, 'enough': 907, 'rock': 908, 'meek': 909, 'mph': 910, 'ppl': 911, 'strong': 912, 'human': 913, 'china': 914, 'apollo': 915, 'declaration': 916, 'disea': 917, 'season': 918, 'alone': 919, 'seeing': 920, 'global': 921, 'behind': 922, 'thinking': 923, 'jobs': 924, 'tried': 925, 'experts': 926, 'following': 927, 'film': 928, 'toddler': 929, 'date': 930, 'victims': 931, 'hiring': 932, 'driving': 933, 'star': 934, 'added': 935, 'king': 936, 'young': 937, 'cut': 938, 'problem': 939, 'looking': 940, 'living': 941, 'did': 942, 'pain': 943, '25': 944, 'washington': 945, 'libya': 946, 'islamic': 947, 'sounds': 948, 'sad': 949, 'friends': 950, 'coaches': 951, 'm': 952, 'wonder': 953, 'cree': 954, 'reddits': 955, 'subreddits': 956, 'myanmar': 957, 'awesome': 958, 'drive': 959, 'members': 960, 'ship': 961, 'any': 962, 'wasnt': 963, 'usa': 964, 'potus': 965, 'sign': 966, 'poor': 967, '05': 968, 'suspected': 969, 'shows': 970, 'terror': 971, 'view': 972, 'lady': 973, 'centre': 974, 'nagasaki': 975, 'gbbo': 976, 'press': 977, 'chance': 978, 'angry': 979, 'here': 980, 'break': 981, 'nigerian': 982, '19': 983, 'wanted': 984, 'upon': 985, 'sleeping': 986, 'happen': 987, 'scene': 988, 'early': 989, 'couple': 990, 'trust': 991, 'driver': 992, 'pile': 993, 'share': 994, 'join': 995, 'escape': 996, 'friend': 997, 'blue': 998, 'beach': 999, 'theater': 1000, 'gun': 1001, 'pamela': 1002, 'research': 1003, 'does': 1004, 'ebola': 1005, 'e': 1006, 'tweet': 1007, 'turn': 1008, 'cake': 1009, 'text': 1010, 'biggest': 1011, 'fashion': 1012, 'saying': 1013, 'holding': 1014, 'ross': 1015, 'brother': 1016, 'absolutely': 1017, 'landing': 1018, 'york': 1019, 'shape': 1020, 'patience': 1021, 'former': 1022, 'madhya': 1023, 'pradesh': 1024, 'rules': 1025, 'offroad': 1026, 'lamp': 1027, 'nws': 1028, 'rly': 1029, 'chile': 1030, 'causes': 1031, 'aba': 1032, 'wife': 1033, 'michael': 1034, 'double': 1035, 'risk': 1036, 'guess': 1037, 'france': 1038, 'fact': 1039, 'ready': 1040, 'total': 1041, 'vs': 1042, 'started': 1043, 'took': 1044, 'dad': 1045, 'only': 1046, 'till': 1047, 'direction': 1048, 'udhampur': 1049, 'gave': 1050, 'gop': 1051, 'waving': 1052, 'geller': 1053, 'playlist': 1054, 'ahead': 1055, 'event': 1056, 'party': 1057, 'dude': 1058, 'soul': 1059, 'central': 1060, 'outrage': 1061, 'downtown': 1062, 'camp': 1063, 'social': 1064, 'x': 1065, 'instead': 1066, 'either': 1067, 'uk': 1068, 'tree': 1069, 'download': 1070, 'spring': 1071, 'passengers': 1072, 'internally': 1073, 'information': 1074, 'brooklyn': 1075, 'bayelsa': 1076, 'colorado': 1077, 'london': 1078, 'ave': 1079, 'secret': 1080, 'reported': 1081, 'wednesday': 1082, 'close': 1083, 'pakistani': 1084, 'episode': 1085, '2014': 1086, 'disease': 1087, 'mod': 1088, 'totally': 1089, 'series': 1090, 'govt': 1091, 'japanese': 1092, 'bombs': 1093, 'them': 1094, 'album': 1095, 'cover': 1096, 'lies': 1097, 'cold': 1098, 'giving': 1099, 'arent': 1100, 'buy': 1101, 'wall': 1102, 'tote': 1103, 'handbag': 1104, 'killing': 1105, 'record': 1106, 'small': 1107, 'colour': 1108, 'ashes': 1109, 'etc': 1110, 'planned': 1111, 'account': 1112, 'denver': 1113, 'british': 1114, 'don\\x89ûªt': 1115, 'fans': 1116, 'delivers': 1117, 'interesting': 1118, 'local': 1119, 'international': 1120, 'marians': 1121, 'travel': 1122, '12000': 1123, 'parole': 1124, 'recount': 1125, 'alive': 1126, 'training': 1127, 'shots': 1128, 'means': 1129, '16': 1130, 'comment': 1131, 'using': 1132, 'mode': 1133, 'bit': 1134, 'waiting': 1135, 'short': 1136, 'tonto': 1137, 'block': 1138, 'scared': 1139, 'department': 1140, 'havent': 1141, 'yesterday': 1142, 'working': 1143, 'funny': 1144, 'build': 1145, 'burn': 1146, 'nice': 1147, 'lmao': 1148, 'internet': 1149, 'general': 1150, 'occurred': 1151, 'future': 1152, 'broken': 1153, 'niggas': 1154, 'sun': 1155, 'info': 1156, 'metro': 1157, 'art': 1158, 'gone': 1159, 'broke': 1160, 'mean': 1161, 'winds': 1162, 'middle': 1163, 'investigating': 1164, 'worse': 1165, 'minutes': 1166, 'parents': 1167, 'sex': 1168, 'continue': 1169, 'guide': 1170, 'sea': 1171, 'enugu': 1172, 'cdt': 1173, 'apc': 1174, 'grows': 1175, 'jonathan': 1176, 'alabama': 1177, 'cameroon': 1178, 'expected': 1179, 'lake': 1180, 'happening': 1181, 'metal': 1182, 'sky': 1183, 'had': 1184, 'involving': 1185, 'dance': 1186, 'wants': 1187, 'victim': 1188, 'drunk': 1189, 'seconds': 1190, 'fighting': 1191, 'bed': 1192, 'prepare': 1193, 'russia': 1194, 'indian': 1195, 'million': 1196, 'act': 1197, 'program': 1198, 'youll': 1199, 'months': 1200, 'silver': 1201, 'p': 1202, 'brain': 1203, 'walk': 1204, 'smh': 1205, 'strike': 1206, 'point': 1207, 'together': 1208, 'idea': 1209, 'forever': 1210, 'states': 1211, 'trent': 1212, 'wish': 1213, 'felt': 1214, 'cable': 1215, 'taiwan': 1216, 'alarm': 1217, 'sick': 1218, 'governor': 1219, '\\x89ûïwhen': 1220, 'plunging': 1221, 'wildfires': 1222, '18': 1223, 'eat': 1224, 'chicago': 1225, 'single': 1226, 'later': 1227, 'students': 1228, '2013': 1229, 'among': 1230, 'dies': 1231, 'turned': 1232, 'sometimes': 1233, 'begin': 1234, 'wtf': 1235, 'serious': 1236, '17': 1237, 'career': 1238, 'beat': 1239, 'arrested': 1240, 'captures': 1241, 'court': 1242, 'louis': 1243, 'happens': 1244, 'hold': 1245, 'threat': 1246, 'pool': 1247, 'hair': 1248, 'rn': 1249, 'bitch': 1250, 'friday': 1251, 'glad': 1252, 'faux': 1253, 'purse': 1254, 'along': 1255, '0': 1256, 'picture': 1257, 'board': 1258, 'coast': 1259, 'ground': 1260, 'pass': 1261, 'currently': 1262, 'different': 1263, 'ban': 1264, 'emotional': 1265, 'gas': 1266, 'remove': 1267, 'de': 1268, 'search': 1269, 'kit': 1270, 'smaug': 1271, 'sensorsenso': 1272, 'utc20150805': 1273, 'oklahoma': 1274, 'roosevelt': 1275, 'crematoria': 1276, 'provoke': 1277, 'massive': 1278, 'stadium': 1279, 'office': 1280, 'month': 1281, 'blocked': 1282, 'teen': 1283, 'sunday': 1284, 'her': 1285, 'financial': 1286, 'gtgt': 1287, 'cannot': 1288, 'hospital': 1289, 'twelve': 1290, 'lucky': 1291, 'nigga': 1292, 'feat': 1293, 'syrian': 1294, 'false': 1295, '24': 1296, 'feels': 1297, 'imagine': 1298, 'sense': 1299, 'door': 1300, 'too': 1301, 'where': 1302, 'ap': 1303, 'gay': 1304, 'palestinian': 1305, 'bay': 1306, 'worry': 1307, 'trump': 1308, 'answer': 1309, 'v': 1310, 'worth': 1311, '2nd': 1312, 'foxnews': 1313, 'f': 1314, 'test': 1315, 'weekend': 1316, 'agree': 1317, 'expect': 1318, 'walking': 1319, 'glass': 1320, 'wedding': 1321, 'brought': 1322, '1st': 1323, 'falling': 1324, 'ones': 1325, 'deep': 1326, 'stories': 1327, 'amazon': 1328, 'runs': 1329, 'effects': 1330, 'soldiers': 1331, 'amazing': 1332, 'five': 1333, 'western': 1334, 'ocean': 1335, 'changes': 1336, 'sleep': 1337, 'worlds': 1338, 'dan': 1339, 'character': 1340, 'release': 1341, 'boys': 1342, 'earlier': 1343, 'evening': 1344, 'invoices': 1345, 'selfimage': 1346, 'updates': 1347, '600': 1348, 'yyc': 1349, 'waste': 1350, 'abandoned': 1351, 'repatriated': 1352, 'spaceship': 1353, 'canada': 1354, 'nyc': 1355, 'setting': 1356, 'edm': 1357, 'owner': 1358, 'french': 1359, 'common': 1360, 'target': 1361, 'number': 1362, 'then': 1363, 'less': 1364, 'played': 1365, 'reading': 1366, 'mountain': 1367, 'science': 1368, 'loved': 1369, 'late': 1370, 'el': 1371, 'wwii': 1372, 'linked': 1373, 'ice': 1374, 'drink': 1375, 'warnings': 1376, 'spos': 1377, 'fat': 1378, 'mine': 1379, 'signed': 1380, 'games': 1381, 'special': 1382, 'welcome': 1383, 'seek': 1384, 'word': 1385, 'joe': 1386, 'tears': 1387, 'feet': 1388, 'talking': 1389, 'watched': 1390, 'bank': 1391, 'off': 1392, 'tho': 1393, 'gotta': 1394, 'killer': 1395, 'rather': 1396, 'hasnt': 1397, 'football': 1398, 'calls': 1399, 'carrying': 1400, 'turkish': 1401, 'matter': 1402, 'rocky': 1403, 'safe': 1404, 'seems': 1405, 'civilian': 1406, 'evil': 1407, 'population': 1408, 'rate': 1409, 'mix': 1410, 'company': 1411, 'tent': 1412, 'president': 1413, 'ask': 1414, 'gold': 1415, 'attacks': 1416, 'most': 1417, 'airlines': 1418, 'helping': 1419, 'ft': 1420, 'wrought': 1421, 'lack': 1422, 'extreme': 1423, 'reasons': 1424, 'combo': 1425, 'storms': 1426, 'allows': 1427, 'held': 1428, '1980': 1429, 'radiation': 1430, 'seeks': 1431, 'richmond': 1432, 'exchanging': 1433, 'asked': 1434, 'sent': 1435, 'd': 1436, 'dr': 1437, 'nc': 1438, 'issue': 1439, 'bro': 1440, 'terrible': 1441, '14': 1442, 'medical': 1443, 'petition': 1444, 'hour': 1445, 'meeting': 1446, 'weve': 1447, 'stopped': 1448, 'match': 1449, 'minecraft': 1450, '911': 1451, 'girls': 1452, 'stage': 1453, 'directioners': 1454, 'vote': 1455, 'dogs': 1456, 'rea\\x89û': 1457, 'navy': 1458, 'todays': 1459, 'response': 1460, 'em': 1461, 'hits': 1462, 'dc': 1463, 'son': 1464, 'usatoday': 1465, 'sir': 1466, 'gm': 1467, 'fears': 1468, 'facebook': 1469, 'fine': 1470, 'cute': 1471, 'leaving': 1472, 'technology': 1473, 'stars': 1474, 'standard': 1475, 'related': 1476, 'seriously': 1477, 'down': 1478, 'meet': 1479, 'sitting': 1480, 'mind': 1481, 'limited': 1482, 'tablet': 1483, 'straight': 1484, 'according': 1485, 'cranes': 1486, 'cops': 1487, 'co': 1488, 'understand': 1489, 'cancer': 1490, 'express': 1491, 'repair': 1492, 'anymore': 1493, 'ha': 1494, 'continues': 1495, 'force': 1496, 'rains': 1497, 'san': 1498, 'final': 1499, 'capsizes': 1500, 'med': 1501, '1000': 1502, 'relief': 1503, 'antioch': 1504, 'struggles': 1505, 'mediterranean': 1506, 'return': 1507, 'genocide': 1508, 'trees': 1509, 'time20150806': 1510, 'usgs': 1511, 'hawaii': 1512, 'map': 1513, 'cat': 1514, 'municipal': 1515, 'wouldnt': 1516, 'sh': 1517, 'pdp': 1518, 'specially': 1519, 'browser': 1520, 'canaanites': 1521, 'residents': 1522, 'perfect': 1523, 'route': 1524, 'moving': 1525, 'knew': 1526, 'details': 1527, 'david': 1528, 'avoid': 1529, 'examining': 1530, 'july': 1531, 'rip': 1532, 'incident': 1533, 'baseball': 1534, 'un': 1535, 'during': 1536, 'completely': 1537, 'his': 1538, 'pres': 1539, 'voice': 1540, 'birthday': 1541, 'kinda': 1542, 'question': 1543, 'queen': 1544, 'tax': 1545, 'tracks': 1546, 'lead': 1547, 'hero': 1548, 'squad': 1549, 'forces': 1550, 'lie': 1551, 'google': 1552, 'yo': 1553, 'ya': 1554, 'ships': 1555, 'these': 1556, 'potential': 1557, 'beyond': 1558, 'complete': 1559, 'max': 1560, 'everywhere': 1561, 'loving': 1562, 'app': 1563, 'community': 1564, 'holy': 1565, 'floor': 1566, 'hobo': 1567, 'enjoy': 1568, 'dangerous': 1569, 'coffee': 1570, 'dropped': 1571, 'legacy': 1572, 'gunman': 1573, 'impact': 1574, 'forget': 1575, 'stuff': 1576, 'multiple': 1577, 'yall': 1578, 'wired': 1579, 'parenthood': 1580, 'causing': 1581, 'calling': 1582, 'industry': 1583, 'prevent': 1584, 'hilarious': 1585, 'southern': 1586, 'opening': 1587, 'animal': 1588, 'buses': 1589, '26': 1590, 'damaged': 1591, 'migrant': 1592, 'th': 1593, 'posts': 1594, 'chief': 1595, 'freak': 1596, 'hobbit': 1597, 'philippines': 1598, 'insurer': 1599, 'sismo': 1600, 'which': 1601, 'abstorm': 1602, 'nursing': 1603, 'budget': 1604, 'quick': 1605, 'portland': 1606, '1945': 1607, 'edt': 1608, 'desires': 1609, 'tension': 1610, 'threatens': 1611, 'c130': 1612, 'modified': 1613, 'problems': 1614, 'orders': 1615, 'arrived': 1616, 'lovely': 1617, 'quite': 1618, 'weird': 1619, 'steve': 1620, 'mile': 1621, '31': 1622, 'able': 1623, 'youve': 1624, 'motorcyclist': 1625, 'deadly': 1626, 'dream': 1627, 'bin': 1628, 'festival': 1629, 'cop': 1630, 'sister': 1631, 'leading': 1632, 'shall': 1633, 'their': 1634, 'before': 1635, 'paul': 1636, 'project': 1637, 'into': 1638, 'mention': 1639, 'books': 1640, 'heres': 1641, 'careful': 1642, 'version': 1643, 'bought': 1644, 'based': 1645, 'economic': 1646, 'leader': 1647, 'review': 1648, 'mtvhottest': 1649, 'authorities': 1650, 'against': 1651, 'illegal': 1652, 'gaza': 1653, 'tweets': 1654, 'box': 1655, 'fully': 1656, 'original': 1657, 'pathogens': 1658, 'region': 1659, 'carry': 1660, 'weeks': 1661, 'sale': 1662, 'fantasy': 1663, 'rare': 1664, 'starts': 1665, 'those': 1666, 'cook': 1667, 'associated': 1668, 'tired': 1669, 'hello': 1670, 'player': 1671, 'woke': 1672, 'mini': 1673, 'handbags': 1674, '22': 1675, 'guardian': 1676, 'flat': 1677, 'africa': 1678, 'bathroom': 1679, 'england': 1680, '06': 1681, 'fox': 1682, 'babies': 1683, 'destroys': 1684, 'cheese': 1685, 'sparked': 1686, 'apply': 1687, 'conference': 1688, 'ran': 1689, 'reduce': 1690, 'fix': 1691, 'mother': 1692, 'ceo': 1693, 'units': 1694, 'seattle': 1695, 'lil': 1696, 'vine': 1697, 'shut': 1698, 'tropical': 1699, 'phoenix': 1700, 'falls': 1701, 'recent': 1702, 'it\\x89ûªs': 1703, 'arianagrande': 1704, 'percent': 1705, 'confirms': 1706, 'malaysian': 1707, 'articles': 1708, 'italian': 1709, 'struck': 1710, 'tube': 1711, 'loose': 1712, 'image': 1713, 'catch': 1714, 'size': 1715, 'message': 1716, 'sensor': 1717, '5km': 1718, 'type': 1719, 'advisory': 1720, 'john': 1721, 'saturday': 1722, '4wd': 1723, 'outlook': 1724, 'inundation': 1725, 'mediterran': 1726, 'exploration': 1727, 'reality': 1728, 'officers': 1729, 'streets': 1730, 'areas': 1731, 'crying': 1732, 'hotel': 1733, 'onto': 1734, 'manchester': 1735, 'exit': 1736, 'ir': 1737, 'dubstep': 1738, 'dnb': 1739, 'protect': 1740, 'lose': 1741, 'dying': 1742, 'laden': 1743, 'including': 1744, 'charity': 1745, 'humanity': 1746, 'quickly': 1747, 'forecast': 1748, 'begins': 1749, 'snow': 1750, 'angel': 1751, 'dark': 1752, 'blog': 1753, 'rule': 1754, 'survival': 1755, 'round': 1756, 'sport': 1757, 'rubber': 1758, 'jackson': 1759, 'leads': 1760, 'terrorists': 1761, 'cases': 1762, 'crime': 1763, 'hunt': 1764, 'system': 1765, 'sit': 1766, 'feminists': 1767, 'ii': 1768, 'civilians': 1769, 'lots': 1770, 'wars': 1771, 'fleets': 1772, 'totaling': 1773, 'attention': 1774, 'stops': 1775, 'certain': 1776, 'needed': 1777, 'irandeal': 1778, 'experience': 1779, 'guns': 1780, 'throwing': 1781, 'ways': 1782, 'hands': 1783, 'universe': 1784, 'result': 1785, 'estimate': 1786, 'miles': 1787, 'hi': 1788, 'updated': 1789, 'ideas': 1790, 'bruh': 1791, 'nah': 1792, 'kindle': 1793, 'se': 1794, 'supposed': 1795, 'read\\x89û': 1796, 'missed': 1797, 'shouldnt': 1798, 'track': 1799, 'concert': 1800, 'firefighter': 1801, 'drinking': 1802, 'main': 1803, 'ends': 1804, 'cities': 1805, 'situation': 1806, 'stealing': 1807, 'greatest': 1808, 'saving': 1809, 'afternoon': 1810, 'seven': 1811, 'shower': 1812, 'moon': 1813, 'twice': 1814, '500': 1815, 'keeps': 1816, 'tickets': 1817, 'field': 1818, 'results': 1819, 'learning': 1820, 'stream': 1821, 'md': 1822, 'companies': 1823, 'pop': 1824, 'trip': 1825, 'interview': 1826, 'powerful': 1827, 'highway': 1828, 'bicyclist': 1829, 'trfc': 1830, '4000': 1831, 'honestly': 1832, 'mhtw4fnet': 1833, 'disney': 1834, 'ar': 1835, 'fish': 1836, 'diving': 1837, 'mikeparractor': 1838, 'recognize': 1839, 'usually': 1840, 'feed': 1841, 'strategy': 1842, 'kidnapped': 1843, 'grill': 1844, 'destiny': 1845, 'wmata': 1846, 'rail': 1847, 'crackdown': 1848, 'stuart': 1849, 'plant': 1850, 'i\\x89ûªm': 1851, 'nepal': 1852, 'cost': 1853, 'couldnt': 1854, 'bringing': 1855, 'memorial': 1856, 'create': 1857, 'troops': 1858, 'access': 1859, 'ridge': 1860, 'screen': 1861, 'dramatic': 1862, 'heroes': 1863, 'parts': 1864, 'hwo': 1865, 'linkury': 1866, 'disco': 1867, 'exchange': 1868, 'china\\x89ûªs': 1869, 'swallows': 1870, 'quran': 1871, 'ukraine': 1872, 'allah': 1873, 'built': 1874, 'cruz': 1875, 'energy': 1876, 'videos': 1877, 'mac': 1878, 'lane': 1879, '320': 1880, 'icemoon': 1881, 'djicemoon': 1882, 'trapmusic': 1883, 'ices\\x89û': 1884, 'gov': 1885, '29': 1886, 'began': 1887, 'choice': 1888, 'ny': 1889, 'worldnews': 1890, 'mets': 1891, 'ended': 1892, 'easy': 1893, 'jeb': 1894, '2011': 1895, 'zombie': 1896, 'shadow': 1897, 'unless': 1898, 'ben': 1899, 'mining': 1900, 'points': 1901, 'sadly': 1902, 'beyhive': 1903, 'da': 1904, 'member': 1905, 'add': 1906, 'notices': 1907, 'stabbing': 1908, 'sets': 1909, 'lt': 1910, 'secrets': 1911, 'inner': 1912, 'tank': 1913, 'lifted': 1914, '4x4': 1915, 'o784': 1916, 'electronic': 1917, 'hearing': 1918, 'auth': 1919, 'blk': 1920, 'preparedness': 1921, 'drill': 1922, 'list': 1923, 'dutch': 1924, 'writing': 1925, 'respect': 1926, 'kid': 1927, 'because': 1928, 'roads': 1929, 'society': 1930, 'releases': 1931, 'cream': 1932, 'bout': 1933, 'thoughts': 1934, 'pressure': 1935, 'somebody': 1936, 'listening': 1937, 'mary': 1938, 'al': 1939, 'mill': 1940, 'window': 1941, 'players': 1942, 'knows': 1943, 'h': 1944, 'within': 1945, 'afghanistan': 1946, 'recover': 1947, 'yrs': 1948, 'toll': 1949, 'throw': 1950, 'upset': 1951, 'nation': 1952, 'equipment': 1953, 'burns': 1954, 'several': 1955, 'tips': 1956, 'acres': 1957, 'progress': 1958, '90': 1959, 'crap': 1960, 'complex': 1961, 'idk': 1962, 'tech': 1963, 'iraq': 1964, 'millions': 1965, 'opens': 1966, 'political': 1967, 'eruption': 1968, 'excited': 1969, 'debt': 1970, 'audio': 1971, 'management': 1972, 'price': 1973, 'tongue': 1974, 'simple': 1975, 'none': 1976, 'broadway': 1977, 'blvd': 1978, '33': 1979, 'avoiding': 1980, 'asking': 1981, 'photography': 1982, 'calm': 1983, 'given': 1984, 'very': 1985, 'drop': 1986, 'deals': 1987, 'af': 1988, 'thunderstorms': 1989, 'especially': 1990, 'debate': 1991, 'summerfate': 1992, 'lunch': 1993, 'arabia': 1994, 'pls': 1995, 'discovered': 1996, 'workers': 1997, 'wa': 1998, 'moved': 1999, 'root': 2000, 'enemy': 2001, 'wheavenly': 2002, 'blessings': 2003, 'soundcloud': 2004, 'broad': 2005, 'jeff': 2006, 'van': 2007, 'created': 2008, 'autistic': 2009, 'costs': 2010, 'computer': 2011, 'canyon': 2012, 'tribal': 2013, 'dear': 2014, 'epicentre': 2015, 'tram': 2016, 'rocks': 2017, 'moments': 2018, 'fog': 2019, 't': 2020, 'clash': 2021, 'okwx': 2022, 'sinjar': 2023, 'yazidis': 2024, 'alps': 2025, 'rome': 2026, 'meatloving': 2027, 'somalia': 2028, 'hwy': 2029, 'hill': 2030, 'florida': 2031, 'markets': 2032, 'plus': 2033, 'grow': 2034, 'church': 2035, 'click': 2036, 'scary': 2037, 'kick': 2038, 'runway': 2039, 'drone': 2040, 'passing': 2041, 'viralspell': 2042, 'spent': 2043, 'thus': 2044, 'exactly': 2045, 'gang': 2046, 'thx': 2047, 'bob': 2048, 'indeed': 2049, 'beginning': 2050, 'through': 2051, 'gods': 2052, 'again': 2053, 'fake': 2054, 'stir': 2055, 'chicagoarea': 2056, 'admits': 2057, 'scheme': 2058, 'serial': 2059, 'italy': 2060, 'mumbai': 2061, 'machine': 2062, 'covers': 2063, 'than': 2064, 'incredible': 2065, 'trailer': 2066, 'warcraft': 2067, 'german': 2068, 'tcot': 2069, 'breakingnews': 2070, 'aka': 2071, 'page': 2072, 'c': 2073, 'roof': 2074, 'sending': 2075, 'apparently': 2076, 'ears': 2077, 'apartment': 2078, 'heights': 2079, 'swear': 2080, 'shame': 2081, 'ah': 2082, 'headed': 2083, 'steel': 2084, 'club': 2085, 'seat': 2086, 'republicans': 2087, 'vuitton': 2088, '35': 2089, 'smoking': 2090, 'tea': 2091, 'definitely': 2092, 'mark': 2093, 'kept': 2094, 'fruit': 2095, 'pics': 2096, 'sports': 2097, 'documents': 2098, 'syria': 2099, 'hopefully': 2100, 'epic': 2101, 'australian': 2102, 'largest': 2103, 'write': 2104, 'remains': 2105, 'clothes': 2106, 'questions': 2107, 'except': 2108, 'store': 2109, 'stupid': 2110, 'september': 2111, 'interest': 2112, 'controlled': 2113, 'bottom': 2114, 'bombings': 2115, 'should': 2116, 'pipe': 2117, 'alert': 2118, 'snap': 2119, 'visit': 2120, 'him': 2121, 'singing': 2122, 'hughes': 2123, 'hurt': 2124, 'justinbieber': 2125, 'inj': 2126, 'anti': 2127, 'rear': 2128, 'microlight': 2129, 'loss': 2130, 'shares': 2131, 'judge': 2132, 'ten': 2133, 'dry': 2134, 'rest': 2135, 'nd': 2136, 'named': 2137, 'rights': 2138, 'steps': 2139, 'age': 2140, 'rì©union': 2141, 'nature': 2142, 'important': 2143, 'structures': 2144, 'consider': 2145, 'tubestrike': 2146, 'dozens': 2147, 'wash': 2148, 'mess': 2149, 'fly': 2150, 'quote': 2151, 'conditions': 2152, 'township': 2153, 'anchorage': 2154, 'animals': 2155, 'charging': 2156, 'blow': 2157, 'charger': 2158, 'nurse': 2159, 'activates': 2160, 'veterans': 2161, 'chaos': 2162, 'faan': 2163, 'by\\x89û': 2164, 'rising': 2165, '53inch': 2166, '300w': 2167, 'curved': 2168, 'unveiled': 2169, 'boston': 2170, 'battlefield': 2171, 'vulnerable': 2172, 'prophet': 2173, 'southampton': 2174, 'disneys': 2175, 'sidelines': 2176, 'newest': 2177, 'nyt': 2178, 'nigeria': 2179, 'gabon': 2180, '3g': 2181, 'gunfire': 2182, 'satellite': 2183, 'be\\x89û': 2184, 'mayan': 2185, 'cramer': 2186, 'shelter': 2187, 'afraid': 2188, 'followers': 2189, 'sunset': 2190, 'cuz': 2191, 'father': 2192, 'accidents': 2193, 'mins': 2194, 'lanes': 2195, 'treatment': 2196, 'bargain': 2197, 'thomas': 2198, 'remembering': 2199, 'shell': 2200, 'pilot': 2201, 'wings': 2202, 'mexico': 2203, 'ride': 2204, 'boss': 2205, 'automatic': 2206, 'practice': 2207, 'hunters': 2208, 'officially': 2209, 'hashtag': 2210, 'legion': 2211, 'whos': 2212, 'horses': 2213, 'allow': 2214, 'spirit': 2215, 'xbox': 2216, 'luck': 2217, 'movies': 2218, 'library': 2219, 'christmas': 2220, 'lights': 2221, 'fingers': 2222, 'g': 2223, 'mourning': 2224, '\\x89û÷politics': 2225, 'grief\\x89ûª': 2226, 'failed': 2227, 'plot': 2228, 'mo': 2229, 'salem': 2230, 'lmfao': 2231, 'tbt': 2232, 'nashville': 2233, 'diamond': 2234, 'defend': 2235, 'theatre': 2236, 'homeless': 2237, 'evidence': 2238, 'once': 2239, 'female': 2240, 'somehow': 2241, 'responsible': 2242, 'defense': 2243, 'bet': 2244, 'sweet': 2245, 'shipping': 2246, 'usagov': 2247, 'virus': 2248, 'daughter': 2249, 'concerned': 2250, 'efforts': 2251, 'lt3': 2252, 'o': 2253, 'fort': 2254, 'fail': 2255, 'dollar': 2256, 'bowl': 2257, 'threw': 2258, 'pulled': 2259, 'mentions': 2260, 'skin': 2261, 'economy': 2262, 'jack': 2263, 'wed': 2264, 'actual': 2265, 'rolling': 2266, 'clutch': 2267, 'treat': 2268, 'shoes': 2269, 'jesus': 2270, '5sos': 2271, 'everyday': 2272, 'been': 2273, 'awful': 2274, 'arms': 2275, 'crew': 2276, 'shop': 2277, 'helps': 2278, 'monogram': 2279, 'edition': 2280, 'bath': 2281, 'satchel': 2282, 'style': 2283, 'camera': 2284, 'fit': 2285, 'tough': 2286, 'putting': 2287, 'congress': 2288, 'anyway': 2289, 'mission': 2290, 'protest': 2291, 'threatening': 2292, 'maintenance': 2293, 'schools': 2294, 'such': 2295, 'damages': 2296, 'rage': 2297, 'residential': 2298, 'contained': 2299, 'youd': 2300, 'stone': 2301, 'port': 2302, 'winter': 2303, 'wet': 2304, 'robots': 2305, 'sees': 2306, 'warns': 2307, 'toronto': 2308, 'commercial': 2309, 'brings': 2310, 'nytimes': 2311, 'suffering': 2312, 'ultimate': 2313, 'prime': 2314, 'regular': 2315, '48': 2316, 'replace': 2317, 'theyll': 2318, 'respond': 2319, 'manager': 2320, 'collapses': 2321, 'facts': 2322, 'actions': 2323, 'talks': 2324, 'correction': 2325, 'pak': 2326, 'burst': 2327, 'forced': 2328, 'fav': 2329, 'ep': 2330, 'cigarette': 2331, 'heads': 2332, 'starting': 2333, 'valley': 2334, 'delays': 2335, 'bug': 2336, 'bear': 2337, 'places': 2338, 'aim': 2339, 'stuck': 2340, 'di': 2341, 'maximum': 2342, 'pieces': 2343, 'key': 2344, 'np': 2345, 'pussy': 2346, 'cry': 2347, 'law': 2348, 'val': 2349, 'adult': 2350, 'ring': 2351, 'focus': 2352, 'minister': 2353, 'heaven': 2354, 'sing': 2355, 'intensity': 2356, 'negative': 2357, 'zionist': 2358, 'sat': 2359, 'kaduna': 2360, 'mr': 2361, 'remain': 2362, 'smithsonian': 2363, 'campaign': 2364, '21': 2365, 'recovery': 2366, 'passenger': 2367, 'mt': 2368, 'loop': 2369, 'path': 2370, 'tryna': 2371, 'couples': 2372, 'cinema': 2373, 'strategicpatience': 2374, 'idp': 2375, 'materials': 2376, 'cloud': 2377, 'gusts': 2378, 'utc': 2379, 'apocalyptic': 2380, 'unlocked': 2381, 'fair': 2382, 'plug': 2383, 'worked': 2384, 'present': 2385, 'nw': 2386, 'parleys': 2387, 'golf': 2388, 'powerlines': 2389, 'speak': 2390, 'sites': 2391, 'murderous': 2392, 'aid': 2393, 'station': 2394, 'investigation': 2395, 'dk': 2396, 'eastern': 2397, 'mortal': 2398, 'kombat': 2399, 'picked': 2400, 'drove': 2401, 'structure': 2402, 'toward': 2403, 'wx': 2404, 'beam': 2405, 'coastal': 2406, 'approaches': 2407, 'itunes': 2408, 'profile': 2409, 'triggered': 2410, 'olap': 2411, 'surrounded': 2412, 'egypt': 2413, 'arrive': 2414, 'channel': 2415, 'executives': 2416, 'prosecuted': 2417, 'finnish': 2418, 'plains': 2419, 'communities': 2420, 'animalrescue': 2421, 'speaker': 2422, '3d': 2423, 'you\\x89ûªve': 2424, 'realise': 2425, 'towel': 2426, 'min': 2427, 'brakes': 2428, 'drawn': 2429, 'folks': 2430, 'pickens': 2431, 'alaska': 2432, 'wonderful': 2433, 'dvd': 2434, 'mma': 2435, 'alberta': 2436, 'forward': 2437, 'effort': 2438, 'victory': 2439, 'nobody': 2440, 'yourself': 2441, 'tells': 2442, 'trap': 2443, 'george': 2444, 'slayer': 2445, 'politics': 2446, 'mlb': 2447, 'brazil': 2448, 'can\\x89ûªt': 2449, 'pilots': 2450, 'drones': 2451, 'fights': 2452, 'nine': 2453, 'per': 2454, 'ems': 2455, 'education': 2456, 'pulls': 2457, 'became': 2458, 'arabian': 2459, 'laws': 2460, 'wither': 2461, 'putin': 2462, 'let\\x89ûªs': 2463, 'prepared': 2464, 'collection': 2465, 'windows': 2466, 'averted': 2467, 'ww1': 2468, 'extremely': 2469, 'staff': 2470, 'eh': 2471, 'slightly': 2472, 'hosting': 2473, 'lion': 2474, 'americas': 2475, 'involved': 2476, 'ugly': 2477, 'lgbt': 2478, 'tennessee': 2479, 'calif': 2480, 'legal': 2481, 'dick': 2482, 'popular': 2483, 'muslim': 2484, 'accused': 2485, 'acid': 2486, 'senior': 2487, 'rape': 2488, 'yay': 2489, 'claim': 2490, 'unit': 2491, 'targeting': 2492, 'while': 2493, 'student': 2494, 'upper': 2495, 'classic': 2496, 'hampshire': 2497, 'bat': 2498, 'responds': 2499, 'wht': 2500, 'wire': 2501, 'wealth': 2502, 'extra': 2503, 'tour': 2504, 'americans': 2505, 'ugh': 2506, 'calories': 2507, 'promise': 2508, 'ms': 2509, 'nose': 2510, 'dinner': 2511, 'violence': 2512, 'fell': 2513, 'cup': 2514, 'fired': 2515, 'realized': 2516, 'housing': 2517, 'vacant': 2518, 'article': 2519, 'card': 2520, 'print': 2521, 'pc': 2522, 'paper': 2523, 'jeans': 2524, 'hurts': 2525, 'donate': 2526, 'fuckin': 2527, 'looked': 2528, 'flying': 2529, 're': 2530, 'bb17': 2531, 'ankle': 2532, 'toilet': 2533, 'messenger': 2534, 'vintage': 2535, 'coach': 2536, 'league': 2537, 'bitches': 2538, 'pack': 2539, 'snacks': 2540, 'va': 2541, 'handle': 2542, 'heal': 2543, 'smile': 2544, 'mail': 2545, 'dat': 2546, '2008': 2547, 'oops': 2548, 'bell': 2549, 'jet': 2550, 'yr': 2551, 'third': 2552, 'generation': 2553, 'germany': 2554, 'traditional': 2555, 'bells': 2556, 'relationship': 2557, 'distance': 2558, 'often': 2559, 'dreams': 2560, 'uganda': 2561, 'losing': 2562, 'grateful': 2563, 'riots': 2564, 'vehicles': 2565, 'finger': 2566, 'counter': 2567, 'accidentally': 2568, 'proud': 2569, 'asap': 2570, 'afghan': 2571, 'levels': 2572, 'yemen': 2573, 'laughing': 2574, 'operation': 2575, 'reach': 2576, 'iphone': 2577, 'silent': 2578, 'success': 2579, 'vegas': 2580, 'clear': 2581, 'brothers': 2582, 'bride': 2583, 'lower': 2584, 'revealed': 2585, 'row': 2586, 'chocolate': 2587, 'considering': 2588, 'strange': 2589, 'wouldve': 2590, 'posted': 2591, 'i5': 2592, 'mansehra': 2593, 'persons': 2594, 'clearly': 2595, 'until': 2596, 'grove': 2597, 'freedom': 2598, 'annual': 2599, 'tom': 2600, 'asia': 2601, 'address': 2602, 'fate': 2603, 'rohingya': 2604, 'gta': 2605, 'knee': 2606, 'anger': 2607, 'study': 2608, 'b4': 2609, 'ferguson': 2610, 'predicted': 2611, 'pregnant': 2612, 'other': 2613, '370': 2614, 'relatives': 2615, 'truly': 2616, 'owners': 2617, 'feelings': 2618, 'abbswinston': 2619, 'mood': 2620, 'ex': 2621, 'subject': 2622, 'sw': 2623, 'assembly': 2624, 'barely': 2625, 'freakiest': 2626, 'garden': 2627, 'gotten': 2628, 'brutally': 2629, 'thriller': 2630, 'digital': 2631, 'hd': 2632, 'multiplayer': 2633, 'reportedly': 2634, 'fuel': 2635, 'standuser': 2636, 'fashionable': 2637, 'mountaineering': 2638, 'waterresistant': 2639, 'leisure': 2640, 'tab\\x89û': 2641, 'jam': 2642, 'abcnews': 2643, 'attempt': 2644, 'arrest': 2645, 'tracking': 2646, 'caitlin': 2647, 'kiernan': 2648, 'centipede': 2649, 'numbered': 2650, 'screenshots': 2651, 'combat': 2652, 'sicily': 2653, 'users': 2654, 'factory': 2655, 'supply': 2656, 'activated': 2657, 'english': 2658, 'prompts': 2659, 'served': 2660, 'registered': 2661, 'ie': 2662, 'madinah': 2663, 'prophetmuhammad': 2664, 'vietnam': 2665, 'goal': 2666, 'explosionproof': 2667, 'tempered': 2668, 'protector': 2669, 'blackberry': 2670, 'z10': 2671, 'recalls': 2672, 'slow': 2673, 'charges': 2674, 'poll': 2675, '101': 2676, 'wit': 2677, 'grass': 2678, 'depth': 2679, 'harry': 2680, 'zouma': 2681, 'statement': 2682, '2pcs': 2683, '18w': 2684, 'bjp': 2685, 'spending': 2686, 'tape': 2687, 'email': 2688, 'swansea': 2689, 'piling': 2690, 'kind': 2691, 'sub': 2692, 'criminals': 2693, 'transfer': 2694, 'america\\x89ûªs': 2695, 'croatian': 2696, 'guillermo': 2697, 'injuryi495': 2698, '97georgia': 2699, 'youngheroesid': 2700, 'pantherattack': 2701, 'murdered': 2702, 'everybody': 2703, 'subs': 2704, 'absolute': 2705, 'university': 2706, 'cofounder': 2707, 'huffman': 2708, 'thru': 2709, '360wisenews': 2710, 'dumb': 2711, 'selfies': 2712, 'pond': 2713, 'lowndes': 2714, 'copilot': 2715, 'citizens': 2716, 'militant': 2717, 'haunting': 2718, '1030': 2719, 'amsterdam': 2720, '010401': 2721, '150401': 2722, 'parker': 2723, 'aftermath': 2724, 'twia': 2725, 'igers': 2726, 'springs': 2727, 'tampa': 2728, 'flooded': 2729, 'girlfriend': 2730, 'wholesale': 2731, 'theyve': 2732, 'doubt': 2733, 'santa': 2734, 'gained': 2735, 'wear': 2736, 'six': 2737, 'hearts': 2738, 'gift': 2739, 'los': 2740, 'angeles': 2741, 'sb': 2742, 'crossed': 2743, 'motorcycle': 2744, 'delay': 2745, 'blocking': 2746, 'options': 2747, 'ps': 2748, 'basement': 2749, 'prices': 2750, 'speaking': 2751, 'stands': 2752, 'error': 2753, 'insane': 2754, 'exp': 2755, 'worried': 2756, 'device': 2757, 'parking': 2758, 'surprised': 2759, 'uribe': 2760, 'status': 2761, 'aware': 2762, 'rob': 2763, 'humans': 2764, 'showcase': 2765, 'planet': 2766, 'revolution': 2767, 'romance': 2768, 'bears': 2769, 'justice': 2770, 'l': 2771, 'entertainment': 2772, 'christians': 2773, 'gtgtgt': 2774, 'beyonce': 2775, '5th': 2776, 'richard': 2777, 'trial': 2778, 'kisii': 2779, 'impressed': 2780, 'alleged': 2781, 'minor': 2782, 'wheres': 2783, 'blamed': 2784, 'moves': 2785, 'newyork': 2786, 'civil': 2787, 'private': 2788, 'raid': 2789, 'palestine': 2790, 'maria': 2791, '2016': 2792, 'anxiety': 2793, 'abuse': 2794, 'flew': 2795, 'checked': 2796, '34': 2797, 'bands': 2798, 'cast': 2799, 'own': 2800, 'external': 2801, 'remembered': 2802, 'jacksonville': 2803, 'willing': 2804, 'iii': 2805, 'nasa': 2806, '90blksamp8whts': 2807, 'colluded': 2808, 'hostageamp2': 2809, 'wbioterrorismampuse': 2810, 'lglorg': 2811, 'idis': 2812, 'yea': 2813, 'exist': 2814, 'activity': 2815, '27': 2816, 'poverty': 2817, 'losses': 2818, 'battling': 2819, 'covered': 2820, 'letting': 2821, 'huh': 2822, 'marketing': 2823, 'pictures': 2824, 'spanish': 2825, 'beating': 2826, 'blessed': 2827, 'tune': 2828, 'sisters': 2829, 'throat': 2830, 'written': 2831, 'stab': 2832, 'eating': 2833, 'til': 2834, 'characters': 2835, 'solar': 2836, 'tf': 2837, 'ray': 2838, 'recommend': 2839, 'beer': 2840, 'loan': 2841, 'sexual': 2842, 'wins': 2843, 'breaks': 2844, 'butter': 2845, 'include': 2846, 'shed': 2847, 'innocent': 2848, 'entered': 2849, 'stephen': 2850, 'mega': 2851, 'mystery': 2852, 'bedroom': 2853, 'website': 2854, 'james': 2855, 'bottle': 2856, 'buffalo': 2857, 'rose': 2858, 'meekmill': 2859, 'philly': 2860, 'acting': 2861, 'diss': 2862, 'patient': 2863, 'solid': 2864, 'japans': 2865, 'known': 2866, 'playoffs': 2867, 'bluejays': 2868, 'countries': 2869, 'armed': 2870, 'majority': 2871, 'kurtschlichter': 2872, 'villages': 2873, 'notice': 2874, 'marked': 2875, 'clinton': 2876, 'australias': 2877, 'reminds': 2878, 'shocked': 2879, 'construction': 2880, 'register': 2881, 'looting': 2882, 'blows': 2883, 'confirm': 2884, 'ages': 2885, 'barn': 2886, 'fr': 2887, 'pace': 2888, 'skinny': 2889, 'chris': 2890, 'certainly': 2891, 'er': 2892, 'returned': 2893, 'bored': 2894, 'goals': 2895, 'acts': 2896, 'diet': 2897, 'individuals': 2898, 'chinese': 2899, 'ted': 2900, 'omfg': 2901, 'spain': 2902, 'swimming': 2903, 'warfighting': 2904, 'premature': 2905, 'purple': 2906, 'passed': 2907, 'movement': 2908, 'pacific': 2909, 'groups': 2910, 'quality': 2911, 'arsenal': 2912, 'tag': 2913, 'recall': 2914, 'nuke': 2915, 'agreed': 2916, 'joy': 2917, 'teacher': 2918, 'bless': 2919, 'lorries': 2920, 'becomes': 2921, 'ptsd': 2922, 'wearing': 2923, 'sf': 2924, 'underway': 2925, 'planning': 2926, 'cleanup': 2927, 'billings': 2928, 'brian': 2929, 'crack': 2930, 'easily': 2931, 'vinyl': 2932, 'greeces': 2933, 'revenues': 2934, 'images': 2935, 'sa': 2936, 'crowd': 2937, 'rid': 2938, 'answers': 2939, 'duty': 2940, 'magic': 2941, 'electric': 2942, 'suddenly': 2943, 'åê': 2944, 'targets': 2945, 'selfie': 2946, 'suffered': 2947, 'however': 2948, 'monsoon': 2949, 'towards': 2950, 'sac': 2951, 'franklin': 2952, 'hills': 2953, 'faster': 2954, 'justin': 2955, 'nike': 2956, 'gps': 2957, 'spend': 2958, 'foxtrot': 2959, 'blind': 2960, 'cats': 2961, 'decided': 2962, 'pays': 2963, 'bulletin': 2964, 'solution': 2965, 'offer': 2966, 'critical': 2967, 'plague': 2968, 'pro': 2969, 'analysis': 2970, 'bigamist': 2971, 'blame': 2972, 'resulted': 2973, 'walmart': 2974, 'uses': 2975, 'wing': 2976, 'washed': 2977, 'floated': 2978, 'seem': 2979, 'decide': 2980, 'shepherd': 2981, 'peaceful': 2982, 'senate': 2983, 'republican': 2984, 'hungry': 2985, 'radar': 2986, 'jordan': 2987, 'xd': 2988, 'opinion': 2989, 'integrity': 2990, 'just\\x89û': 2991, 'saddlebrooke': 2992, 'palestinians': 2993, 'election': 2994, 'michigan': 2995, 'giveaway': 2996, 'here\\x89ûªs': 2997, 'bid': 2998, 'derails': 2999, 'villagers': 3000, 'twin': 3001, 'charge': 3002, 'cta': 3003, '39': 3004, '10th': 3005, 'childhood': 3006, 'swim': 3007, 'restricted': 3008, 'touch': 3009, 'fits': 3010, 'electrical': 3011, 'aussies': 3012, 'the\\x89û': 3013, 'wo': 3014, 'sittwe': 3015, 'prison': 3016, 'nema': 3017, 'opened': 3018, 'museum': 3019, 'disasters': 3020, 'rapidly': 3021, 'surprise': 3022, 'saves': 3023, 'limit': 3024, 'sm': 3025, 'unsafe': 3026, 'senator': 3027, 'worker': 3028, 'wondering': 3029, 'gear': 3030, 'ak': 3031, 'electricity': 3032, 'providence': 3033, 'grey': 3034, 'normal': 3035, 'doors': 3036, 'ordered': 3037, 'of\\x89û': 3038, 'dating': 3039, 'dress': 3040, 'warship': 3041, 'mental': 3042, 'cape': 3043, 'button': 3044, 'accounts': 3045, 'crane': 3046, 'porn': 3047, 'particularly': 3048, 'married': 3049, 'example': 3050, 'feeding': 3051, 'eight': 3052, 'numbers': 3053, 'estimated': 3054, 'captain': 3055, 'combined': 3056, 'cried': 3057, 'reno': 3058, 'trash': 3059, '133': 3060, 'monster': 3061, 'mansion': 3062, 'funds': 3063, 'environment': 3064, 'lrt': 3065, 'tornadoes': 3066, 'farrakhan': 3067, 'nj': 3068, 'j': 3069, 'ducks': 3070, 'stamp': 3071, 'showing': 3072, 'prefer': 3073, 'afterlife': 3074, 'beware': 3075, 'virgil': 3076, 'europe': 3077, 'possibly': 3078, '75': 3079, 'floyds': 3080, 'hmm': 3081, 'collins': 3082, 'footage': 3083, 'step': 3084, 'raynbowaffair': 3085, 'editor': 3086, 'diamondkesawn': 3087, 'ramag': 3088, 'models': 3089, '4playthursdays': 3090, '1716': 3091, 'uniform': 3092, 'lulgzimbestpicts': 3093, 'design': 3094, 'responsibility': 3095, 'sarah': 3096, 'meals': 3097, 'larger': 3098, 'pipeline': 3099, 'edinburgh': 3100, 'promises': 3101, 'specif': 3102, 'elevated': 3103, 'beauty': 3104, 'advance': 3105, 'realmandyrain': 3106, 'met': 3107, 'fresh': 3108, 'disrupts': 3109, 'unhappiness': 3110, 'smells': 3111, 'captured': 3112, 'kurdish': 3113, 'hieroglyphics': 3114, 'honors': 3115, 'lowly': 3116, 'pov': 3117, 'lethal': 3118, 'cali': 3119, 'kerricktrial': 3120, '13000': 3121, 'rockyfire': 3122, 'jamaica': 3123, 'nsfw': 3124, 'jail': 3125, 'section': 3126, 'ig': 3127, 'fb': 3128, 'torch': 3129, 'impossible': 3130, 'usual': 3131, 'nb': 3132, 'advice': 3133, 'motor': 3134, 'i77': 3135, 'av': 3136, 'pissed': 3137, 'rider': 3138, 'turning': 3139, '150': 3140, 'changed': 3141, 'leaders': 3142, 'kenya': 3143, 'charles': 3144, 'conflict': 3145, 'terrifying': 3146, 'profit': 3147, 'joel': 3148, 'context': 3149, 'engine': 3150, '29072015': 3151, 'kca': 3152, 'votejkt48id': 3153, 'although': 3154, 'crashes': 3155, 'esp': 3156, 'sprinter': 3157, 'frontline': 3158, 'lez': 3159, 'compliant': 3160, 'assistance': 3161, 'mercy': 3162, 'previous': 3163, 'seasons': 3164, 'boom': 3165, 'ability': 3166, 'reviews': 3167, 'cell': 3168, 'arizona': 3169, 'souls': 3170, 'current': 3171, 'charlie': 3172, 'plays': 3173, 'posters': 3174, 'clean': 3175, 'flags': 3176, 'occasion': 3177, 'taste': 3178, 'paid': 3179, 'vladimir': 3180, 'kingdom': 3181, 'prepper': 3182, 'salvation': 3183, 'rally': 3184, 'swiss': 3185, 'spears': 3186, 'mido': 3187, 'jewish': 3188, 'solve': 3189, 'localarsonist': 3190, 'restaurant': 3191, 'frank': 3192, 'elliott': 3193, 'telegraph': 3194, 'credit': 3195, 'demand': 3196, 'knowing': 3197, 'provide': 3198, 'rocket': 3199, 'prior': 3200, 'simply': 3201, 'patrick': 3202, 'racist': 3203, 'kalle': 3204, 'mattson': 3205, '103': 3206, 'kings': 3207, 'appreciate': 3208, 'musician': 3209, 'clever': 3210, 'leaves': 3211, 'purchase': 3212, 'dragon': 3213, 'clip': 3214, 'hole': 3215, 'internal': 3216, '800': 3217, 'interested': 3218, 'faced': 3219, 'sanctions': 3220, 'gopdebate': 3221, 'cdc': 3222, 'specimens': 3223, 'apple': 3224, 'deliver': 3225, 'journal': 3226, 'concerns': 3227, 'cia': 3228, 'college': 3229, 'scientists': 3230, 'sucks': 3231, 'olympic': 3232, 'base': 3233, 'cleveland': 3234, 'dj': 3235, 'farm': 3236, 'works': 3237, 'palms': 3238, 'morgan': 3239, 'grade': 3240, 'beats': 3241, 'delta': 3242, 'fifth': 3243, 'degree': 3244, 'physical': 3245, 'chicken': 3246, 'bunch': 3247, 'allowed': 3248, 'foot': 3249, 'silence': 3250, 'someones': 3251, 'favourite': 3252, 'soccer': 3253, 'kicked': 3254, 'active': 3255, 'ty': 3256, 'sean': 3257, 'zayn': 3258, 'reward': 3259, 'load': 3260, 'memphis': 3261, 'author': 3262, 'lands': 3263, '5000': 3264, 'peanut': 3265, 'announcement': 3266, 'everyones': 3267, 'candy': 3268, 'lonewolffur': 3269, 'ima': 3270, '45': 3271, 'mid': 3272, 'drug': 3273, 'roll': 3274, 'personal': 3275, 'daughters': 3276, 'sin': 3277, 'enter': 3278, 'dare': 3279, 'sink': 3280, 'williams': 3281, 'walls': 3282, 'fucked': 3283, 'theyd': 3284, 'utterly': 3285, 'minds': 3286, '6th': 3287, 'genuine': 3288, 'oak': 3289, 'sophie': 3290, 'hip': 3291, 'å': 3292, 'yankees': 3293, 'hop': 3294, 'buckle': 3295, 'variety': 3296, 'probe': 3297, 'chain': 3298, 'garbage': 3299, 'legs': 3300, 'shoot': 3301, 'packs': 3302, 'beforeitsnews': 3303, 'comments': 3304, 'fantastic': 3305, 'threats': 3306, 'arm': 3307, 'kyle': 3308, 'pepper': 3309, 'arts': 3310, 'democracy': 3311, 'recently': 3312, 'finds': 3313, 'fed': 3314, 'yard': 3315, 'bill': 3316, 'logic': 3317, 'cricket': 3318, 'calamity': 3319, 'warne': 3320, 'aussie': 3321, 'gadgets': 3322, 'disgusting': 3323, 'thousand': 3324, 'forgot': 3325, 'weak': 3326, 'winston': 3327, 'alcohol': 3328, 'struggle': 3329, 'hinton': 3330, 'trucks': 3331, 'lighting': 3332, '300': 3333, 'derby': 3334, 'plate': 3335, 'wood': 3336, 'degrees': 3337, 'dirt': 3338, 'sparks': 3339, 'workout': 3340, 'mountains': 3341, 'desire': 3342, 'table': 3343, 'amongst': 3344, 'retweet': 3345, 'pulling': 3346, 'crashing': 3347, 'sydney': 3348, '\\x89ûïwe': 3349, 'holiday': 3350, 'relax': 3351, '28': 3352, 'scotland': 3353, 'photographer': 3354, 'sharp': 3355, 'eventually': 3356, 'higher': 3357, 'reminder': 3358, 'iranian': 3359, 'idc': 3360, '2009': 3361, 'bound': 3362, 'btw': 3363, 'islands': 3364, 'telling': 3365, 'agrees': 3366, 'committed': 3367, 'race': 3368, 'werent': 3369, 'yorker': 3370, 'åè': 3371, 'simulate': 3372, 'nu': 3373, 'bees': 3374, 'marijuana': 3375, 'plants': 3376, 'slip': 3377, 'capture': 3378, 'streak': 3379, 'option': 3380, 'yahoo': 3381, 'circus': 3382, 'loves': 3383, 'standing': 3384, 'lungs': 3385, 'breathe': 3386, 'ruled': 3387, 'betrayed': 3388, 'bake': 3389, 'planted': 3390, 'fill': 3391, 'houston': 3392, 'cyclist': 3393, 'quest': 3394, 'driven': 3395, '200': 3396, 'restore': 3397, '852015': 3398, 'eb': 3399, 'collisionno': 3400, 'con': 3401, 'learned': 3402, 'lover': 3403, 'alright': 3404, 'warned': 3405, 'fwy': 3406, 'prayers': 3407, 'tools': 3408, 'tutorial': 3409, 'pump': 3410, 'tuesday': 3411, 'log': 3412, 'phones': 3413, 'sources': 3414, 'realize': 3415, 'bio': 3416, 'stress': 3417, 'reap': 3418, 'agency': 3419, 'reporting': 3420, 'fighters': 3421, 'campus': 3422, 'cancel': 3423, 'doctor': 3424, 'steal': 3425, 'unlocking': 3426, 'dis': 3427, 'tribune': 3428, 'ne': 3429, 'panel': 3430, 'speed': 3431, 'fitness': 3432, 'transit': 3433, '3rd': 3434, 'model': 3435, 'asian': 3436, 'occurs': 3437, 'wound': 3438, 'constantly': 3439, 'union': 3440, 'fettilootch': 3441, 'slanglucci': 3442, 'oppressions': 3443, 'cave': 3444, 'spider': 3445, 'atmosphere': 3446, 'legit': 3447, 'gameplay': 3448, 'rep': 3449, 'journalist': 3450, 'cecilthelion': 3451, 'rises': 3452, 'redlight': 3453, 'stewart': 3454, 'born': 3455, 'increased': 3456, 'discovery': 3457, 'cakes': 3458, 'camping': 3459, 'tonights': 3460, 'client': 3461, 'therapy': 3462, 'historic': 3463, 'nfl': 3464, 'wanting': 3465, 'tons': 3466, 'meant': 3467, 'whether': 3468, 'apartments': 3469, 'psa': 3470, '233liveonline': 3471, 'weight': 3472, 'schedule': 3473, 'birth': 3474, 'giants': 3475, 'realdonaldtrump': 3476, 'title': 3477, 'offers': 3478, 'biker': 3479, 'sentinel': 3480, 'prabhu': 3481, 'attitude': 3482, 'mum': 3483, 'i\\x89û': 3484, 'wicked': 3485, 'ops': 3486, 'smash': 3487, 'asleep': 3488, 'twins': 3489, 'lonely': 3490, 'emotionally': 3491, 'grenade': 3492, 'abomb': 3493, 'drives': 3494, 'ruined': 3495, 'surface': 3496, 'apollobrown': 3497, 'i\\x89ûªve': 3498, 'beckarnley': 3499, 'famous': 3500, 'anybody': 3501, 'utter': 3502, 'shock': 3503, 'cnbc': 3504, 'urgent': 3505, 'starter': 3506, 'emotions': 3507, 'pitch': 3508, 'msf': 3509, '55': 3510, 'accuses': 3511, 'expert': 3512, 'columbia': 3513, 'ego': 3514, 'weed': 3515, 'affects': 3516, 'pizza': 3517, 'desert': 3518, 'memory': 3519, 'existence': 3520, 'kisses': 3521, 'grace': 3522, 'epilepsy': 3523, 'yesterdays': 3524, 'magnum': 3525, 'opus': 3526, 'eq': 3527, 'blanket': 3528, 'tries': 3529, 'asshole': 3530, 'stick': 3531, 'lightening': 3532, 'elephant': 3533, 'vacation': 3534, 'knife': 3535, 'teams': 3536, 'blonde': 3537, 'messages': 3538, 'slide': 3539, 'robinson': 3540, 'edmonton': 3541, 'wrapped': 3542, 'mall': 3543, 'trafford': 3544, 'odeon': 3545, 'miami': 3546, 'sandy': 3547, 'gives': 3548, 'earners': 3549, 'mouth': 3550, 'hitting': 3551, 'otrametlife': 3552, 'matches': 3553, 'mentioned': 3554, 'hahaha': 3555, 'attendance': 3556, 'southeast': 3557, 'logo': 3558, 'strikes': 3559, 'writer': 3560, 'projects': 3561, 'auctions': 3562, 'suffer': 3563, 'waimate': 3564, 'stockton': 3565, 'crimes': 3566, 'las': 3567, 'itll': 3568, 'mkx': 3569, 'zero': 3570, 'increase': 3571, 'falcon': 3572, 'understanding': 3573, 'opposite': 3574, 'unknown': 3575, 'pants': 3576, 'teachers': 3577, 'taco': 3578, 'maryland': 3579, 'chest': 3580, 'harper': 3581, 'steam': 3582, 'slowly': 3583, 'socialnews': 3584, '72w': 3585, 'alloy': 3586, 'outdoor': 3587, 'plaguing': 3588, 'throughout': 3589, 'affecting': 3590, 'yycstorm': 3591, 'stranded': 3592, 'politicians': 3593, 'choking': 3594, 'eden': 3595, 'leg': 3596, 'pdx911': 3597, 'olive': 3598, 'enjoying': 3599, 'warfare': 3600, 'description': 3601, 'sight': 3602, 'haram': 3603, 'headphones': 3604, 'leveled': 3605, 'director': 3606, 'shark': 3607, 'whales': 3608, 'minority': 3609, 'commit': 3610, 'decisions': 3611, 'copycat': 3612, 'reflects': 3613, 'experiments': 3614, '731': 3615, 'leadership': 3616, 'socialism': 3617, 'server': 3618, 'triple': 3619, 'reduced': 3620, 'worldnetdaily': 3621, '02': 3622, 'returns': 3623, 'flip': 3624, 'boot': 3625, 'bounty': 3626, '\\x89û÷extremely': 3627, 'offensive\\x89ûª': 3628, 'pink': 3629, 'yobe': 3630, 'newlyweds': 3631, 'whao': 3632, 'lived': 3633, 'buried': 3634, 'carryi': 3635, 'nickcannon': 3636, 'listenbuy': 3637, 'itunesmusic': 3638, 'blowmandyup': 3639, '\\x89û¢': 3640, 'venezuela': 3641, 'decision': 3642, 'forbes': 3643, 'darude': 3644, 'walked': 3645, 'detectado': 3646, 'japìn': 3647, 'jst': 3648, 'maps': 3649, 'survey': 3650, 'georgia': 3651, 'trolley': 3652, 'crater': 3653, 'blunt': 3654, 'desk': 3655, 'nasahurricane': 3656, 'invalid': 3657, 'grazed': 3658, 'rexyy': 3659, 'danielle': 3660, 'braking': 3661, 'dozen': 3662, 'stomach': 3663, 'crossborder': 3664, 'redhanded': 3665, 'naved': 3666, 'metrofmtalk': 3667, 'overnight': 3668, 'mama': 3669, 'nba': 3670, 'livingsafely': 3671, 'distinct': 3672, 'starring': 3673, 'anywhere': 3674, 'godslove': 3675, 'thanku': 3676, 'landfall': 3677, 'similar': 3678, 'cheyenne': 3679, 'idfire': 3680, 'gresham': 3681, 'mines': 3682, 'turnpike': 3683, 'forgive': 3684, 'raining': 3685, 'count': 3686, 'ridiculous': 3687, 'hype': 3688, 'deputies': 3689, 'cargo': 3690, 'kiss': 3691, 'expecting': 3692, 'filled': 3693, 'en': 3694, 'fallen': 3695, 'skies': 3696, 'ian': 3697, 'magnitude': 3698, 'split': 3699, 'slower': 3700, 'marker': 3701, '86': 3702, 'gon': 3703, 'range': 3704, '23': 3705, 'sr': 3706, 'previously': 3707, '2010': 3708, 'orange': 3709, 'eu': 3710, 'cr': 3711, 'wedn': 3712, 'coahuila': 3713, 'dtn': 3714, 'responding': 3715, 'bare': 3716, 'britain': 3717, 'instantly': 3718, 'fraction': 3719, 'nations': 3720, 'fueling': 3721, 'christie': 3722, 'tied': 3723, 'julie': 3724, 'lone': 3725, 'doc': 3726, 'reveals': 3727, 'enjoyed': 3728, 'pbban': 3729, 'temporary300': 3730, 'xp': 3731, 'vid': 3732, 'microsoft': 3733, '360': 3734, 'sixth': 3735, 'cd': 3736, '125': 3737, 'ultimalucha': 3738, 'comedy': 3739, 'charts': 3740, '5sosfam': 3741, 'code': 3742, 'mens': 3743, '78': 3744, 'britney': 3745, 'del': 3746, 'satan': 3747, 'thick': 3748, 'shira': 3749, 'treated': 3750, 'theadvocatemag': 3751, 'lesbian': 3752, 'vegetarian': 3753, 'headlines': 3754, 'trick': 3755, 'nasty': 3756, 'recycling': 3757, 'produced': 3758, 'guilty': 3759, 'brigade': 3760, 'isil': 3761, 'horrific': 3762, 'blasts': 3763, 'karachi': 3764, 'psychological': 3765, 'donald': 3766, 'chill': 3767, 'cotton': 3768, 'tix': 3769, 'frozen': 3770, 'grand': 3771, 'designs': 3772, 'deck': 3773, 'recreates': 3774, 'faith': 3775, 'preseason': 3776, 'performance': 3777, 'chevy': 3778, 'prince': 3779, 'shirt': 3780, 'rappers': 3781, 'believing': 3782, 'letter': 3783, 'z': 3784, 'chat': 3785, 'throwback': 3786, 'item': 3787, 'marvel': 3788, 'both': 3789, 'painting': 3790, 'gallipoli': 3791, 'atlanta': 3792, 'facilities': 3793, 'launch': 3794, 'pathogen': 3795, 'contact': 3796, 'warrior': 3797, 'regional': 3798, 'fbi': 3799, 'listed': 3800, 'jays': 3801, 'hating': 3802, 'que': 3803, 'bars': 3804, 'shout': 3805, 'hottest': 3806, 'hiphop': 3807, 'skills': 3808, 'leaked': 3809, 'racing': 3810, 'latin': 3811, '95': 3812, 'bullets': 3813, 'fam': 3814, 'proof': 3815, 'lip': 3816, 'gel': 3817, 'safer': 3818, 'suit': 3819, 'ear': 3820, 'timeline': 3821, 'instagram': 3822, 'notifications': 3823, 'keeping': 3824, 'snapchat': 3825, 'hoax': 3826, 'pair': 3827, 'theory': 3828, 'kicks': 3829, 'remix': 3830, 'matters': 3831, 'ohio': 3832, 'refugee': 3833, 'detroit': 3834, 'blizzarddraco': 3835, 'dq': 3836, 'caution': 3837, 'pocket': 3838, 'doing': 3839, 'bp': 3840, 'excellent': 3841, 'tested': 3842, 'sons': 3843, 'items': 3844, 'nightmare': 3845, 'invasion': 3846, 'tokyo': 3847, 'sexy': 3848, 'drama': 3849, 'turns': 3850, 'choices': 3851, 'inning': 3852, 'values': 3853, 'todd': 3854, 'sand': 3855, 'butt': 3856, 'whoever': 3857, 'grab': 3858, 'nicki': 3859, 'thin': 3860, 'ipad': 3861, 'johnson': 3862, 'score': 3863, 'dudes': 3864, 'stacey': 3865, 'color': 3866, 'stylish': 3867, 'pockets': 3868, 'arriving': 3869, 'flower': 3870, 'sized': 3871, 'pattern': 3872, 'buying': 3873, 'positive': 3874, 'location': 3875, 'concept': 3876, '1100': 3877, 'cos': 3878, 'harbor': 3879, 'feminist': 3880, 'background': 3881, 'daesh': 3882, 'network': 3883, 'justified': 3884, 'nato': 3885, 'australia\\x89ûªs': 3886, 'injures': 3887, 'legendary': 3888, 'parade': 3889, 'batting': 3890, 'ooh': 3891, 'ed': 3892, 'cash': 3893, 'blacklivesmatter': 3894, 'neighbors': 3895, 'boxer': 3896, 'mentally': 3897, 'ronaldo': 3898, 'lit': 3899, 'pledge': 3900, 'pope': 3901, 'installation': 3902, 'cladding': 3903, 'mitigation': 3904, '2pm': 3905, 'dam': 3906, 'estate': 3907, '3alarm': 3908, 'nh': 3909, 'joke': 3910, 'lifting': 3911, '43': 3912, 'boyfriend': 3913, 'bike': 3914, 'brush': 3915, 'nap': 3916, 'that\\x89ûªs': 3917, 'method': 3918, 'muscle': 3919, 'michael5sos': 3920, 'experiencing': 3921, 'you\\x89ûªre': 3922, 'soup': 3923, 'recipes': 3924, 't\\x89û': 3925, 'deserve': 3926, 'attacking': 3927, 'burnt': 3928, 'mitt\\x89û\\x9d': 3929, 'tiny': 3930, 'fuels': 3931, 'blames': 3932, 'standwithpp': 3933, 'intensifies': 3934, 'honest': 3935, 'explodes': 3936, 'drinks': 3937, 'shooter': 3938, '\\x89ûïthe': 3939, 'tuned': 3940, 'highest': 3941, 'rates': 3942, '80s': 3943, 'cord': 3944, 'whale': 3945, 'calum5sos': 3946, 'warships': 3947, 'repay': 3948, 'builds': 3949, 'insurers': 3950, 'republic': 3951, 'grounds': 3952, 'diff': 3953, 'scenes': 3954, 'loans': 3955, 'temper': 3956, 'benefits': 3957, 'follows': 3958, 'mistake': 3959, 'armory': 3960, 'illinois': 3961, 'biological': 3962, 'exercise': 3963, 'bee': 3964, 'operations': 3965, 'toxic': 3966, 'dependency': 3967, 'counselor': 3968, 'intern': 3969, 'drugs': 3970, 'suppose': 3971, 'term': 3972, 'fortunately': 3973, 'proceeds': 3974, 'chunks': 3975, 'climb': 3976, 'groom': 3977, 'alex': 3978, 'adding': 3979, 'edge': 3980, 'kidding': 3981, 'talkradio': 3982, 'proposed': 3983, 'growth': 3984, 'roh3': 3985, 'catching': 3986, 'confused': 3987, 'cum': 3988, 'whipped': 3989, 'fools': 3990, 'immediately': 3991, 'bracelet': 3992, 'castle': 3993, 'vancouver': 3994, 'host': 3995, 'events': 3996, 'runner': 3997, '300000': 3998, 'managed': 3999, 'ebike': 4000, 'lock': 4001, 'firing': 4002, 'tyre': 4003, 'fishing': 4004, 'intersection': 4005, 'local\\x89û': 4006, 'baltimore': 4007, 'coal': 4008, 'innovation': 4009, 'tragic': 4010, 'riding': 4011, 'occupants': 4012, 'cleared': 4013, 'approaching': 4014, 'value': 4015, 'source': 4016, 'photoshop': 4017, 'tool': 4018, 'euro': 4019, 'northwest': 4020, 'husband': 4021, 'bieber': 4022, 'holland': 4023, 'jimmyfallon': 4024, 'bones': 4025, 'worstsummerjob': 4026, 'hopes': 4027, 'christ': 4028, 'km': 4029, 'nikeplus': 4030, 'empire': 4031, 'brief': 4032, '2030': 4033, '5pm': 4034, '9pm': 4035, 'pam': 4036, 'powers': 4037, 'cherry': 4038, 'wy': 4039, 'homeowners': 4040, 'devil': 4041, 'initial': 4042, 'rockin': 4043, 'preview': 4044, 'imagined': 4045, 'concern': 4046, 'uber': 4047, 'investigate': 4048, 'robert': 4049, 'loads': 4050, 'flaming': 4051, 'bff': 4052, 'grandma': 4053, 'hang': 4054, 'shitty': 4055, 'shouting': 4056, 'mexican': 4057, 'seemed': 4058, 'warn': 4059, 'auto': 4060, 'average': 4061, 'surely': 4062, 'novel': 4063, 'explains': 4064, 'resources': 4065, 'despite': 4066, 'odd': 4067, 'swing': 4068, 'surf': 4069, 'perhaps': 4070, 'exposed': 4071, 'bible': 4072, 'fixed': 4073, 'warm': 4074, 'emails': 4075, 'darkness': 4076, 'rainfall': 4077, 'abe': 4078, 'accionempresa': 4079, 'gerenciatodos': 4080, 'å¨': 4081, 'sell': 4082, 'selection': 4083, 'psychiatric': 4084, 'waterways': 4085, 'paint': 4086, '1200': 4087, 'bloomberg': 4088, 'dallas': 4089, 'unsuckdcmetro': 4090, 'yahoonews': 4091, 'note': 4092, 'whoa': 4093, 'links': 4094, 'jon': 4095, 'dropping': 4096, 'modiministry': 4097, 'producer': 4098, 'abomination': 4099, 'neighborhood': 4100, 'figure': 4101, 'conspiracy': 4102, 'letters': 4103, 'neither': 4104, 'tumblr': 4105, 'interviews': 4106, 'servers': 4107, 'moth': 4108, 'stocks': 4109, 'hated': 4110, 'recap': 4111, 'cock': 4112, 'ford': 4113, 'frontlines': 4114, 'demonstratio': 4115, 'border': 4116, 'equal': 4117, 'tinyjecht': 4118, 'spinningbot': 4119, 'connectorconnecto': 4120, 'regarding': 4121, 'brand': 4122, 'consequences': 4123, 'barack': 4124, 'ticket': 4125, 'allegations': 4126, 'alternatives': 4127, 'quake': 4128, 'settlement': 4129, 'ja': 4130, 'architect': 4131, 'ihhen': 4132, 'openly': 4133, 'idps': 4134, 'memes': 4135, 'trace': 4136, 'carried': 4137, 'elem': 4138, 'gofundme': 4139, 'affect': 4140, 'okanagan': 4141, 'humidity': 4142, 'that\\x89û': 4143, 'californias': 4144, 'graysondolan': 4145, 'noise': 4146, 'horizon': 4147, 'clev': 4148, 'rat': 4149, 'superhero': 4150, 'nineyearold': 4151, 'maine': 4152, 'dove': 4153, 'challenge': 4154, 'bridges': 4155, 'rs': 4156, 'clouds': 4157, 'blowing': 4158, 'guard': 4159, 'unreal': 4160, 'brewing': 4161, 'circle': 4162, 'pit': 4163, 'tasmanias': 4164, 'shelli': 4165, 'time20150805': 4166, '15km': 4167, '09': 4168, 'significant': 4169, 'm194': 4170, '0800': 4171, '6aug': 4172, 'atm': 4173, 'encouragement': 4174, 'batteries': 4175, 'weallheartonedirection': 4176, 'wouldn\\x89ûªt': 4177, 'connection': 4178, 'penalty': 4179, 'columbus': 4180, 'lawsuit': 4181, 'supervisor': 4182, 'dental': 4183, 'designed': 4184, 'seeds': 4185, 'vegetable': 4186, 'repairs': 4187, 'fund': 4188, 'non': 4189, 'closing': 4190, 'cityofcalgary': 4191, 'capacity': 4192, 'retail': 4193, 'primarily': 4194, 'mi': 4195, 'vets': 4196, 'approach': 4197, 'fte': 4198, 'committee': 4199, 'vet': 4200, 'systems': 4201, 'nowhere': 4202, 'prompted': 4203, 'replacing': 4204, 'refuses': 4205, 'grew': 4206, 'criminal': 4207, 'tr': 4208, 'safely': 4209, 'shore': 4210, 'yellow': 4211, 'ink': 4212, '\\x89ûïa': 4213, 'saint': 4214, 'reaching': 4215, 'versethe': 4216, 'mechanical': 4217, 'greg': 4218, 'artwork': 4219, 'battery': 4220, 'penn': 4221, 'climatechange': 4222, 'denmark': 4223, 'closure': 4224, 'erected': 4225, 'experienced': 4226, 'smell': 4227, 'conquest': 4228, 'growing': 4229, 'walker': 4230, 'vermont': 4231, 'courts': 4232, 'adults': 4233, 'meat': 4234, 'pedestrian': 4235, 'capsized': 4236, 'irish': 4237, 'primary': 4238, 'artists': 4239, 'wisdom': 4240, 'catches': 4241, 'sigalert': 4242, 'irvine': 4243, 'wayne': 4244, 'choose': 4245, 'fl': 4246, 'sept': 4247, 'curb': 4248, 'brave': 4249, 'gains': 4250, 'heading': 4251, 'hatcap': 4252, 'silvergray': 4253, 'embroidered': 4254, 'birds': 4255, 'hide': 4256, 'bluetooth': 4257, 'earrings': 4258, 'cue': 4259, 'a\\x89û': 4260, 'shelby': 4261, 'mud': 4262, 'prone': 4263, '166': 4264, 'birmingham': 4265, '69': 4266, 'pisgah': 4267, '375': 4268, 'q': 4269, 'firefighting': 4270, 'mike': 4271, 's\\x89û': 4272, 'penalties': 4273, 'cupcake': 4274, 'treating': 4275, 'scars': 4276, 'form': 4277, 'fooled': 4278, 'singles': 4279, 'highly': 4280, 'personally': 4281, 'chelsea': 4282, 'lionel': 4283, 'basically': 4284, 'meg': 4285, 'arnhem': 4286, 'longest': 4287, 'tripledigit': 4288, 'cooler': 4289, 'describes': 4290, 'surah': 4291, 'humaza': 4292, 'reflect': 4293, 'os': 4294, 'exploit': 4295, 'dijk': 4296, 'jeep': 4297, 'oregon': 4298, 'medieval': 4299, 'files': 4300, 'msnbc': 4301, 'role': 4302, 'cod': 4303, 'boko': 4304, 'noaa': 4305, 'looping': 4306, 'wedaug5th': 4307, 'turbine': 4308, '41': 4309, 'wireless': 4310, 'stereo': 4311, 'snowden': 4312, 'katrina': 4313, 'scott': 4314, 'forgotten': 4315, 'male': 4316, 'hatchet': 4317, 'rush': 4318, 'devalue': 4319, 'digits': 4320, 'clearedincident': 4321, 'volga': 4322, 'prediction': 4323, 'jump': 4324, 'lions': 4325, 'banana': 4326, 'employee': 4327, 'realtime': 4328, 'opposition': 4329, 'exited': 4330, 'reshapes': 4331, 'gusty': 4332, 'autobiography': 4333, 'lawton': 4334, 'auspol': 4335, 'chewing': 4336, 'laugh': 4337, 'noahanyname': 4338, 'faroeislands': 4339, 'administration': 4340, 'gunsense': 4341, 'massmurderer': 4342, 'cbs': 4343, 'march': 4344, 'barackobama': 4345, 'hannemans': 4346, 'difference': 4347, 'manage': 4348, 'drum': 4349, 'sp': 4350, 'discusses': 4351, 'supreme': 4352, 'unique': 4353, 'mirage': 4354, 'net': 4355, 'billion': 4356, 'chernobyl': 4357, 'spoke': 4358, 'pretend': 4359, 'ministers': 4360, 'fennovoima': 4361, 'palin': 4362, 'bb4sp': 4363, 'productive': 4364, 'predict': 4365, 'labour': 4366, 'startup': 4367, 'briefing': 4368, '42': 4369, 'atlantic': 4370, 'gate': 4371, 'jim': 4372, 'robotrainstorm': 4373, 'hardly': 4374, 'sandiego': 4375, 'reaad': 4376, 'plsss': 4377, 'oc': 4378, 'shared': 4379, 'zakbagans': 4380, 'friendship': 4381, 'marin': 4382, 'salvador': 4383, 'happiness': 4384, 'minded': 4385, 'wee': 4386, 'cousin': 4387, 'camilacabello97': 4388, 'channels': 4389, 'sa15t': 4390, 'okinawa': 4391, '10km': 4392, 'bethlehem': 4393, 'titanic': 4394, 'whelen': 4395, 'ww2': 4396, 'instructions': 4397, 'changing': 4398, 'southdowns': 4399, 'june': 4400, 'francis': 4401, '3inspired': 4402, 'busy': 4403, 'witter': 4404, 'shoe': 4405, 'inspections': 4406, 'ntsb': 4407, 'lessons': 4408, 'hamas': 4409, 'egged': 4410, '361': 4411, 'reputation': 4412, 'affiliate': 4413, 'cain': 4414, 'shanghai': 4415, 'chattanooga': 4416, 'citizen': 4417, 'tire': 4418, '1030pm': 4419, 'continued': 4420, 'penny': 4421, '400': 4422, 'having': 4423, 'soudelors': 4424, 'precipitation': 4425, 'measurement': 4426, 'fergusons': 4427, 'hardy': 4428, 'aus': 4429, 'coping': 4430, 'tunein': 4431, 'bolt': 4432, 'karymsky': 4433, 'ronnie': 4434, 'specialist': 4435, 'dannyonpc': 4436, 'gaming': 4437, 'rapidcity': 4438, 'pa': 4439, 'dates': 4440, 'hike': 4441, 'gunmen': 4442, 'salvadoran': 4443, 'bullet': 4444, '7news': 4445, 'albania': 4446, 'hates': 4447, 'tanker': 4448, 'employees': 4449, 'closer': 4450, 'goo': 4451, 'receive': 4452, 'woods': 4453, 'hah': 4454, '80': 4455, 'multi': 4456, 'pasta': 4457, 'stats': 4458, 'brighton': 4459, 'niece': 4460, 'salmon': 4461, 'offices': 4462, 'intl': 4463, 'peeps': 4464, 'edit': 4465, '118': 4466, 'fyi': 4467, 'taxi': 4468, 'halfway': 4469, 'determine': 4470, 'mfs': 4471, 'glorious': 4472, 'tc': 4473, 'roller': 4474, 'hybrid': 4475, 'ps4': 4476, 'strict': 4477, 'aviation': 4478, 'lifetime': 4479, 'odds': 4480, 'ambulances': 4481, 'yugvani': 4482, 'halt': 4483, 'hella': 4484, 'pits': 4485, 'tilnow': 4486, 'fouseytube': 4487, 'johns': 4488, 'thinks': 4489, 'dual': 4490, 'and\\x89û': 4491, 'nhs': 4492, 'showed': 4493, 'laid': 4494, 'behalf': 4495, 'h\\x89û': 4496, 'nights': 4497, 'uptotheminute': 4498, '2005': 4499, 'gig': 4500, 'survivor': 4501, 'formed': 4502, 'apart': 4503, 'transformation': 4504, 'org': 4505, 'punished': 4506, 'gilbert23': 4507, 'nova': 4508, 'dante': 4509, 'johnny': 4510, 'enormous': 4511, 'conversations': 4512, 'audience': 4513, 'impending': 4514, 'cairo': 4515, 'titan': 4516, 'trubgme': 4517, 'hidden': 4518, 'heavenly': 4519, 'gaining': 4520, 'impressive': 4521, 'european': 4522, 'roberts': 4523, 'fathers': 4524, 'queens': 4525, 'quartz': 4526, 'fabric': 4527, 'videoveranomtv': 4528, 'rey': 4529, 'rejects': 4530, 'wwi': 4531, 'struggling': 4532, 'hamilton': 4533, 'newsintweets': 4534, 'burglary': 4535, 'protests': 4536, 'shoulders': 4537, 'banki': 4538, 'latimes': 4539, 'mc': 4540, 'facing': 4541, 'removing': 4542, 'pleaded': 4543, 'trusting': 4544, 'constant': 4545, 'grabbers': 4546, '\\x89ûïhatchet': 4547, 'control\\x89û\\x9d': 4548, '56': 4549, 'hospitals': 4550, 'user': 4551, 'idiot': 4552, 'simulation': 4553, 'prevention': 4554, 'scholars': 4555, 'ik': 4556, 'abused': 4557, 'earned': 4558, 'bitcoin': 4559, 'hockey': 4560, 'fury': 4561, 'mgm': 4562, '1620': 4563, 'col': 4564, 'communication': 4565, 'creating': 4566, 'len': 4567, 'chip': 4568, 'sniping': 4569, 'songs': 4570, 'bts': 4571, '53': 4572, 'pickup': 4573, 'premium': 4574, 'droid': 4575, 'tanks': 4576, 'tb': 4577, 'ripped': 4578, 'saturn': 4579, 'rap': 4580, 'transporting': 4581, 'frontpage': 4582, 'rickperry': 4583, 'labs': 4584, 'agents': 4585, 'corp': 4586, 'jax': 4587, 'scoopit': 4588, 'procedures': 4589, 'automation': 4590, 'horrors': 4591, 'homeland': 4592, 'describing': 4593, 'rio': 4594, 'craving': 4595, 'trade': 4596, 'hack': 4597, 'dems': 4598, 'detained': 4599, 'y': 4600, 'features': 4601, 'leo': 4602, 'fireman': 4603, 'weddings': 4604, 'listenlive': 4605, 'rejected': 4606, 'trail': 4607, 'gem': 4608, 'bu': 4609, 'swarm': 4610, 'fm': 4611, '32': 4612, 's3xleak': 4613, 'ph0tos': 4614, '19yrs': 4615, 'ashwo': 4616, 'festac': 4617, 'exp0sed': 4618, 'bbm': 4619, 'temperature': 4620, 'origin': 4621, 'meaning': 4622, 'freezing': 4623, 'bother': 4624, 'mb': 4625, 'vampiro': 4626, 'toe': 4627, 'stepped': 4628, 'pun': 4629, 'wears': 4630, 'wannabe': 4631, 'artist': 4632, 'jazz': 4633, 'desperate': 4634, 'lolol': 4635, 'rick': 4636, 'gambit': 4637, 'ironically': 4638, 'skirt': 4639, 'rice': 4640, 'honey': 4641, 'ye': 4642, 'cycling': 4643, 'required': 4644, 'welfare': 4645, 'shaker': 4646, 'carl': 4647, 'gates': 4648, '37': 4649, 'square': 4650, 'available': 4651, 'hrs': 4652, 'mic': 4653, 'tomorrows': 4654, 'shocking': 4655, 'lizard': 4656, 'regret': 4657, 'dryer': 4658, 'tattoo': 4659, 'grandpa': 4660, 'monitor': 4661, 'stressful': 4662, 'chapter': 4663, 'royal': 4664, 'psalms': 4665, 'abortion': 4666, 'jay': 4667, 'xxx': 4668, 'sony': 4669, 'bs': 4670, 'insomnia': 4671, 'ga': 4672, 'product': 4673, 'landscape': 4674, 'chair': 4675, 'moms': 4676, 'aunt': 4677, 'loses': 4678, 'blake': 4679, 'ee': 4680, 'extension': 4681, 'buddy': 4682, 'delayed': 4683, 'cunts': 4684, 'minaj': 4685, 'amirite': 4686, 'soft': 4687, 'healthy': 4688, 'backpack': 4689, 'corners': 4690, 'cage': 4691, 'dealing': 4692, 'jp': 4693, 'rondarousey': 4694, 'idgaf': 4695, 'wwe': 4696, '2k15': 4697, 'meanwhile': 4698, 'lay': 4699, 'po': 4700, 'bestseller': 4701, 'casual': 4702, 'fossil': 4703, 'hall': 4704, 'charlotte': 4705, 'fairfax': 4706, 'placed': 4707, 'admin': 4708, 'dept': 4709, 'locker': 4710, 'printed': 4711, 'scottwalker': 4712, 'crossbody': 4713, 'waist': 4714, 'atom': 4715, 'prepares': 4716, 'longs': 4717, 'ahh': 4718, 'enemies': 4719, 'spray': 4720, '1965': 4721, 'mf': 4722, 'shouldve': 4723, 'kanye': 4724, 'plummeted': 4725, 'repeat': 4726, 'sharing': 4727, 'poland': 4728, 'specific': 4729, 'lauren': 4730, 'fleeing': 4731, 'gif': 4732, 'hardest': 4733, 'dive': 4734, 'cryptic': 4735, 'guided': 4736, 'visited': 4737, 'moral': 4738, 'entrepreneur': 4739, 'nbcnews': 4740, 'narrative': 4741, 'marshall': 4742, 'prosyn': 4743, 'unfolded': 4744, 'bundled': 4745, 'btwn': 4746, 'manmade': 4747, 'icymi': 4748, 'johannesburg': 4749, 'mainland': 4750, 'lying': 4751, 'deserves': 4752, 'outta': 4753, 'basic': 4754, 'infosec': 4755, 'chases': 4756, 'rockbottomradfm': 4757, 'challenges': 4758, 'rescuing': 4759, 'corner': 4760, 'noncompliant': 4761, 'detectors': 4762, 'busting': 4763, 'sweden': 4764, 'fourth': 4765, 'in\\x89û': 4766, 'band': 4767, 'wmur9': 4768, 'expensive': 4769, 'damaging': 4770, 'myfitnesspal': 4771, 'mcdonalds': 4772, 'recorded': 4773, 'figured': 4774, 'blocks': 4775, 'nuggets': 4776, 'cutting': 4777, 'hermancranston': 4778, 'atk': 4779, 'letsfootball': 4780, 'dem': 4781, 'demon': 4782, 'balls': 4783, 'jerry': 4784, 'attempting': 4785, 'evacuations': 4786, 'coquitlam': 4787, 'puppies': 4788, 'contemplating': 4789, 'gays': 4790, 'destroying': 4791, 'strikers': 4792, 'striking': 4793, 'acted': 4794, 'chase': 4795, 'murderers': 4796, 'explain': 4797, 'co2': 4798, 'freaking': 4799, 'hillary': 4800, 'warming': 4801, 'eggs': 4802, 'thankful': 4803, '1m': 4804, 'command': 4805, 'washingtonpost': 4806, 'allies': 4807, 'propertycasualty': 4808, 'aids': 4809, 'grown': 4810, 'agent': 4811, 'sends': 4812, 'metrics': 4813, 'greenharvard': 4814, 'tens': 4815, 'recording': 4816, 'pjnet': 4817, 'megynkelly': 4818, 'peterjukes': 4819, 'barry': 4820, 'solo': 4821, 'generally': 4822, 'liberty': 4823, 'mutual': 4824, 'chances': 4825, 'perfectly': 4826, 'wolves': 4827, 'studio': 4828, 'sheer': 4829, 'weathernetwork': 4830, 'acute': 4831, 'chem': 4832, 'sharethis': 4833, 'radioactive': 4834, 'nbc': 4835, 'savebees': 4836, 'cnnbrk': 4837, 'heroine': 4838, 'obsessed': 4839, 'object': 4840, 'plumbing': 4841, 'draw': 4842, 'mate': 4843, 'ruebs': 4844, 'endures': 4845, '4500feet': 4846, 'minions': 4847, 'favor': 4848, 'elite': 4849, 'balance': 4850, '87': 4851, 'production': 4852, 'runaway': 4853, 'dublin': 4854, 'paramedic': 4855, 'ponting': 4856, 'materialism': 4857, 'blowout': 4858, 'oral': 4859, 'fixing': 4860, 'wi': 4861, 'bites': 4862, 'dorrets': 4863, 'gateau': 4864, 'bowling': 4865, 'district': 4866, 'heartless': 4867, 'jan': 4868, 'greek': 4869, 'species': 4870, 'tide': 4871, 'locked': 4872, 'chosen': 4873, 'avenue': 4874, 'pierce': 4875, 'veil': 4876, 'waits': 4877, 'supernatural': 4878, 'roanoke': 4879, 'verdict': 4880, 'podcast': 4881, 'portugal': 4882, 'assault': 4883, 'suv': 4884, 'closes': 4885, 'anna': 4886, 'horn': 4887, 'happily': 4888, 'monkey': 4889, 'antonio': 4890, 'oo': 4891, 'harrybecareful': 4892, 'pole': 4893, 'collision1141': 4894, 'enrt': 4895, 'enroute': 4896, 'tunnel': 4897, 'bore': 4898, 'i405': 4899, 'southbound': 4900, 'collisionunkn': 4901, 'claimed': 4902, 'joining': 4903, '900': 4904, '43rd': 4905, '\\x89ûïyou': 4906, 'worries': 4907, 'medium': 4908, 'beginners': 4909, 'lesson': 4910, 'apparent': 4911, 'cpanel': 4912, 'experiences': 4913, 'heroin': 4914, 'sampling': 4915, 'maj': 4916, 'countrys': 4917, 'restive': 4918, 'doctors': 4919, '84': 4920, 'parked': 4921, 'intact': 4922, 'posting': 4923, 'wen': 4924, 'wrapup': 4925, '2us': 4926, 'disappoints': 4927, 'pressed': 4928, 'gym': 4929, 'sportwatch': 4930, 'papi': 4931, 'drivers': 4932, 'jones': 4933, 'slate': 4934, 'teenagers': 4935, 'stolen': 4936, 'wnd': 4937, 'inst': 4938, 'apch': 4939, 'rwy': 4940, 'oper': 4941, 'taxiways': 4942, 'navbl': 4943, 'tmp': 4944, 'appointment': 4945, 'condition': 4946, '\\x89ûïhannaph\\x89û\\x9d': 4947, 'komen': 4948, 'asks': 4949, 'talent': 4950, 'bangladesh': 4951, 'upcoming': 4952, 'peoples': 4953, 'mercury': 4954, 'core': 4955, 'cobra': 4956, 'passion': 4957, 'quarter': 4958, 'ds': 4959, 'jailed': 4960, 'emergencies': 4961, 'outfit': 4962, 'unions': 4963, 'advanced': 4964, '2500': 4965, 'trillion': 4966, 'crosses': 4967, 'instant': 4968, 'inc': 4969, 'cam': 4970, 'nude': 4971, 'madison': 4972, 'puncture': 4973, 'foreign': 4974, 'encounter': 4975, 'claytonbryant': 4976, 'artistsunited': 4977, 'eaten': 4978, 'preservation': 4979, 'african': 4980, 'permits': 4981, 'hunting': 4982, 'excitement': 4983, 'courage': 4984, 'luis': 4985, 'sake': 4986, 'trend': 4987, 'ending': 4988, 'shaped': 4989, 'console': 4990, 'supports': 4991, 'comparison': 4992, 'iranians': 4993, 'mullah': 4994, 'omars': 4995, 'nephew': 4996, 'voter': 4997, 'shipwreck': 4998, 'milk': 4999, 'stalled': 5000, 'older': 5001, 'province': 5002, 'annoying': 5003, 'cancers': 5004, 'adam': 5005, 'disappearance': 5006, 'najib': 5007, 'belongs': 5008, 'inevitable': 5009, 'sympathy': 5010, 'scale': 5011, 'period': 5012, 'portion': 5013, 'teaching': 5014, 'tops': 5015, 'william': 5016, 'glimpses': 5017, 'hyderabad': 5018, 'junk': 5019, 'holds': 5020, 'spam': 5021, 'protecting': 5022, 'hatred': 5023, 'capital': 5024, 'tower': 5025, 'brady': 5026, 'boundaries': 5027, 'inspiration': 5028, 'android': 5029, 'colts': 5030, 'finish': 5031, 'hebron': 5032, 'davidvonderhaar': 5033, 'halifax': 5034, 'factors': 5035, 'remaining': 5036, 'frog': 5037, '\\x89û¢åêdemolition': 5038, 'achimota': 5039, 'fkn': 5040, 'finishing': 5041, 'cont': 5042, 'widespread': 5043, 'removal': 5044, 'battles': 5045, 'incredibly': 5046, 'necessary': 5047, 'modi': 5048, 'federal': 5049, 'commute': 5050, 'subway': 5051, 'wout': 5052, '2000': 5053, 'lines': 5054, 'empty': 5055, 'crippling': 5056, 'si': 5057, 'reaches': 5058, 'dw': 5059, 'undercover': 5060, 'leaks': 5061, 'resumed': 5062, 'garfield': 5063, 'railway': 5064, 'ndtv': 5065, 'csx': 5066, 'knoxville': 5067, 'cow': 5068, 'fd': 5069, 'indiannews': 5070, 'harda': 5071, 'anxious': 5072, 'topstories': 5073, 'sail': 5074, 'fran': 5075, 'swells': 5076, 'sacrifice': 5077, 'abuseddesolateamplost': 5078, 'diesis': 5079, 'jerusalem': 5080, 'matt': 5081, 'photoset': 5082, 'sheeran': 5083, 'suspense': 5084, 'despair': 5085, 'forth': 5086, 'restaurants': 5087, 'december': 5088, 'putins': 5089, 'fandom': 5090, 'casino': 5091, 'zaynmalik': 5092, 'sj': 5093, '148': 5094, 'produce': 5095, 'hunger': 5096, 'ate': 5097, 'ut': 5098, 'pitchers': 5099, 'gamescom': 5100, 'abuses': 5101, 'ontario': 5102, 'sanctioned': 5103, 'imported': 5104, 'independent': 5105, 'matthew': 5106, 'irans': 5107, 'como': 5108, 'aw': 5109, 'grandeur': 5110, 'autumn': 5111, 'featuring': 5112, 'dorman': 5113, 'connector': 5114, 'quotes': 5115, 'esteemed': 5116, 'touching': 5117, 'realistic': 5118, 'entering': 5119, 'acdelco': 5120, 'tyler': 5121, '\\x89ûïrichmond': 5122, 'sitting\\x89û': 5123, 'declared': 5124, 'realised': 5125, 'goodbye': 5126, 'latestnews': 5127, 'www': 5128, 'decades': 5129, 'thorium': 5130, 'environmental': 5131, 'korea': 5132, 'terms': 5133, 'haiyan': 5134, 'locke': 5135, 'slipped': 5136, 'fist': 5137, 'ke': 5138, 'scifi': 5139, 'wom': 5140, 'ruins': 5141, 'nm': 5142, 'torture': 5143, 'nv': 5144, 'relentless': 5145, 'finding': 5146, 'customers': 5147, 'drops': 5148, 'spreading': 5149, 'potentially': 5150, 'sorrows': 5151, 'steak': 5152, 'sort': 5153, 'gamergate': 5154, 'peterduttonmp': 5155, 'couldve': 5156, 'asylum': 5157, 'dollars': 5158, 'rivers': 5159, 'mourns': 5160, 'provided': 5161, 'jacket': 5162, 'spirits': 5163, 'ns': 5164, 'disappear': 5165, 'atmospheric': 5166, 'newzsacramento': 5167, 'april': 5168, 'outflow': 5169, 'fee': 5170, 'eastbound': 5171, 'i15': 5172, 'raw': 5173, 'fest': 5174, 'ml': 5175, 'cs': 5176, 'epicenter': 5177, 'legislation': 5178, '001116': 5179, '161116': 5180, 'nnw': 5181, 'tear': 5182, 'at\\x89û': 5183, 'extends': 5184, 'niall': 5185, 'danisnotonfire': 5186, 'ac': 5187, 'jr': 5188, 'beard': 5189, 'any1': 5190, 'conversation': 5191, '17000': 5192, 'bbcnews': 5193, 'whistle': 5194, 'surgery': 5195, 'tooth': 5196, 'teeth': 5197, 'medicine': 5198, 'kuwait': 5199, 'declaring': 5200, '11000': 5201, 'mre': 5202, 'indiana': 5203, 'reopening': 5204, 'lafayette': 5205, 'healthcare': 5206, 'buffer': 5207, 'excuse': 5208, 'responded': 5209, 'wolf': 5210, 'declined': 5211, 'workplace': 5212, 'vietnamese': 5213, 'calgarys': 5214, 'deactivated': 5215, 'tflbusalerts': 5216, 'personnel': 5217, 'tx': 5218, 'followme': 5219, 'cope': 5220, 'locksmith': 5221, 'thurs': 5222, 'trained': 5223, 'kodiak': 5224, 'henry': 5225, 'stressed': 5226, 'indifference': 5227, 'performing': 5228, 'nurses': 5229, 'literarycakes': 5230, 'incapable': 5231, 'garage': 5232, 'cart': 5233, 'summit': 5234, 'headline': 5235, 'census': 5236, 'becoming': 5237, 'efak': 5238, 'abandon': 5239, 'alarms': 5240, 'milkshake': 5241, 'pre': 5242, 'reopens': 5243, 'liveonk2': 5244, 'koin6news': 5245, '60000': 5246, 'casper': 5247, 'mandatory': 5248, 'patch': 5249, 'bend': 5250, 'individual': 5251, 'guessing': 5252, 'cabin': 5253, 'ryan': 5254, 'spinning': 5255, 'philadelphia': 5256, 'alpha': 5257, 'duck': 5258, 'tie': 5259, 'chick': 5260, 'pets': 5261, 'puppy': 5262, 'noticed': 5263, 'squeeze': 5264, 'sailors': 5265, 'poured': 5266, 'corey': 5267, 'orchard': 5268, 'bluff': 5269, 'timelapse': 5270, 'voting': 5271, 'demolishes': 5272, 'hoisting': 5273, 'shedding': 5274, 'soviet': 5275, 'function': 5276, 'feast': 5277, 'receiving': 5278, 'adventures': 5279, 'kiev': 5280, 'stronger': 5281, 'punjab': 5282, 'refused': 5283, 'lego': 5284, 'francisco': 5285, 'bail': 5286, 'sundays': 5287, 'permanent': 5288, 'news3lv': 5289, 'seattles': 5290, 'deadliest': 5291, 'hiroshima70': 5292, 'tremor': 5293, 'language': 5294, '8th': 5295, 'yep': 5296, 'display': 5297, 'cyclists': 5298, 'dm': 5299, 'sx': 5300, '109': 5301, 'sws': 5302, 'soldier': 5303, 'midnight': 5304, 'refuse': 5305, 'unawares': 5306, 'films': 5307, 'risks': 5308, 'hundred': 5309, 'thrones': 5310, 'politifiact': 5311, 'reids': 5312, 'catalinas': 5313, 'langley': 5314, 'pull': 5315, 'chp': 5316, 'push': 5317, 'njturnpike': 5318, 'besides': 5319, 'mnpdnashville': 5320, 'priority': 5321, 'vip': 5322, 'technical': 5323, 'luchaunderground': 5324, 'directly': 5325, 'guest': 5326, 'gain': 5327, 'sam': 5328, 'marine': 5329, 'fallacy': 5330, 'jewelry': 5331, 'sided': 5332, 'linerless': 5333, 'caps': 5334, 'waters': 5335, 'tractor': 5336, 'cuban': 5337, 'midwest': 5338, 'random': 5339, 'mmda': 5340, 'displace': 5341, 'vision': 5342, 'drums': 5343, 'travis': 5344, 'deputy': 5345, 'jus': 5346, 'writers': 5347, 'camps': 5348, 'whatever': 5349, 'sunshine': 5350, 'bengal': 5351, 'cm': 5352, 'mamata': 5353, 'banerjee': 5354, 'dvc': 5355, 'otherwise': 5356, 'sumn': 5357, 'neck': 5358, 'cole': 5359, 'sharply': 5360, 'algae': 5361, 'boise': 5362, 'spread': 5363, 'indonesia': 5364, 'tahoe': 5365, 'contain': 5366, 'angels': 5367, 'poss': 5368, 'arwx': 5369, 'stays': 5370, 'glasses': 5371, 'sturgis': 5372, 'kotaweather': 5373, 'melt': 5374, 'custer': 5375, 'sd': 5376, 'organic': 5377, 'proven': 5378, 'intense': 5379, 'northeast': 5380, 'commuters': 5381, 'celebrities': 5382, 'sticks': 5383, 'harmkid': 5384, 'tests': 5385, 'foul': 5386, 'plannedparenthood': 5387, 'lifestyle': 5388, 'kraft': 5389, 'closures': 5390, 'argument': 5391, 'keen': 5392, 'precious': 5393, 'foodscare': 5394, 'offers2go': 5395, 'nestleindia': 5396, 'slips': 5397, 'magginoodle': 5398, 'humanconsumption': 5399, 'multidimensi': 5400, 'maintain': 5401, 'breathing': 5402, 'sneak': 5403, 'needle': 5404, 'tweeting': 5405, 'typos': 5406, 'extract': 5407, 'surges': 5408, 'misery': 5409, 'matching': 5410, 'greatbritishbakeoff': 5411, 'ianhellfire': 5412, 'sewing': 5413, 'diablo': 5414, '0day': 5415, 'patched': 5416, 'bypass': 5417, 'password': 5418, 'cherokee': 5419, 'cmon': 5420, '1976': 5421, 'earnings': 5422, 'cooper': 5423, 'enabled': 5424, 'quoted': 5425, 'tomislav': 5426, 'salopek': 5427, 'croat': 5428, 'recovered': 5429, 'denied': 5430, 'stood': 5431, 'journalism': 5432, 'fortune': 5433, '96': 5434, 'ts': 5435, 'nri': 5436, 'trs': 5437, 'tdp': 5438, 'referring': 5439, 'messed': 5440, 'hurricanedolce': 5441, 'bluedio': 5442, 'headset': 5443, 'coral': 5444, 'tastes': 5445, 'surge': 5446, 'pattonoswalt': 5447, 'lately': 5448, 'chains': 5449, 'foster': 5450, 'settle': 5451, 'mcilroy': 5452, 'forgiven': 5453, 'regardless': 5454, 'professional': 5455, 'longterm': 5456, 'bite': 5457, 'costa': 5458, 'define': 5459, 'it\\x89û\\x9d': 5460, 'poster': 5461, 'domestic': 5462, 'lance': 5463, 'adamrubinespn': 5464, 'cowboys': 5465, 'punishment': 5466, 'applications': 5467, 'requests': 5468, 'bot': 5469, 'sides': 5470, 'platform': 5471, 'martinmj22': 5472, 'yougov': 5473, '36': 5474, 'veteran': 5475, 'dundee': 5476, 'hehe': 5477, 'tory': 5478, 'blacks': 5479, '67': 5480, 'ud': 5481, 'soak': 5482, 'erupting': 5483, 'molten': 5484, 'cries': 5485, 'certified': 5486, 'patrol': 5487, 'filmed': 5488, 'abbott': 5489, 'correlation': 5490, 'cbc': 5491, '10000': 5492, 'debatequestionswewanttohear': 5493, 'blah': 5494, 'belonged': 5495, 'therefore': 5496, 'challenged': 5497, 'honor': 5498, 'avoided': 5499, 'andy': 5500, 'bully': 5501, 'bass': 5502, 'respected': 5503, 'commoditiesåêare': 5504, 'def': 5505, 'midst': 5506, 'badge': 5507, 'olds': 5508, 'dorret': 5509, 'britishbakeoff': 5510, 'wishing': 5511, 'bakeofffriends': 5512, 'grid': 5513, 'unavoidable': 5514, 'consequence': 5515, 'cheap': 5516, 'askconnor': 5517, 'ignore': 5518, 'afp': 5519, 'financing': 5520, 'circuit': 5521, 'nucleardeal': 5522, 'indojapan': 5523, 'pact': 5524, 'reactorbased': 5525, 'rworldnews': 5526, 'likes': 5527, 'sonia': 5528, 'spurs': 5529, 'genius': 5530, 'spectacular': 5531, 'trials': 5532, 'battleship': 5533, 'accept': 5534, 'globalwarming': 5535, 'batters': 5536, 'dose': 5537, '03': 5538, 'kerry': 5539, 'littledeath': 5540, 'deepwater': 5541, 'bankstown': 5542, 'wattle': 5543, 'bronx': 5544, 'mania': 5545, 'newbie': 5546, 'overwhelming': 5547, 'acoustic': 5548, 'linden': 5549, 'shook': 5550, 'hurry': 5551, 'sponsor': 5552, 'trending': 5553, 'chiefs': 5554, 'liverpool': 5555, 'onlinecommunities': 5556, 'offensiveåêcontent': 5557, 'edward': 5558, 'exposure': 5559, 'monitoring': 5560, 'ccot': 5561, 'waking': 5562, 'wowo': 5563, 'dedicated': 5564, 'refugees\\x89û': 5565, 'vice': 5566, '46': 5567, 'ppact': 5568, '367': 5569, 'britons': 5570, 'himalaya': 5571, 'strangers': 5572, 'swept': 5573, 'sins': 5574, 'guides': 5575, 'migrants\\x89û': 5576, 'drag': 5577, 'ally': 5578, 'intervene': 5579, 'vitesse': 5580, 'supporters': 5581, 'buildup': 5582, 'ireland': 5583, 'eric': 5584, 'cindy': 5585, 'noonancindynoonanheartbreak': 5586, 'yahistorical': 5587, 'undergroundrailraod': 5588, 'plenty': 5589, 'bhramabull': 5590, 'jewels': 5591, 'socially': 5592, 'duo': 5593, 'bounce': 5594, 'p2': 5595, 'hs': 5596, 'cheat': 5597, 'languages': 5598, 'externally': 5599, 'cultural': 5600, 'lemme': 5601, 'hears': 5602, '2d': 5603, 'sixmeter': 5604, '150foot': 5605, 'evansville': 5606, 'stayed': 5607, 'flesh': 5608, 'edsheeran': 5609, 'void': 5610, '295ss100': 5611, 'amplifier': 5612, 'jennifer': 5613, 'aniston': 5614, 'hacked': 5615, 'tony': 5616, 'winner': 5617, 'raised': 5618, 'cancelled': 5619, 'alot': 5620, 'naked': 5621, 'locomotives': 5622, 'magnetraction': 5623, 'ash': 5624, 'hoping': 5625, 'sassy': 5626, 'hunk': 5627, 'smoky': 5628, 'aoms': 5629, 'ibooklove': 5630, 'bookboost': 5631, 'treeporn': 5632, 'dolls': 5633, 'boeing': 5634, 'pillow': 5635, 'packed': 5636, 'chairs': 5637, 'rightways': 5638, 'defects': 5639, 'testing': 5640, 'vest': 5641, 'homs': 5642, 'grupdates': 5643, 'historical': 5644, 'anthony': 5645, 'ornament': 5646, 'decor': 5647, 'scream': 5648, 'cared': 5649, 'forex': 5650, 'driverless': 5651, 'cafe': 5652, 'nears': 5653, 'faces': 5654, 'omega': 5655, 'religion': 5656, 'assad': 5657, 'regime': 5658, 'license': 5659, 'burger': 5660, 'buddys': 5661, 'shakes': 5662, 'usnwsgov': 5663, 'oun': 5664, '1115': 5665, '61': 5666, 'mdt': 5667, 'tornadogiveaway': 5668, 'teases': 5669, 'cbcca': 5670, 'greater': 5671, 'collective': 5672, 'for\\x89û': 5673, 'nz': 5674, 'ptsdchat': 5675, 'hempoil': 5676, 'ignorant': 5677, 'properly': 5678, 'flashbacks': 5679, 'amen': 5680, 'shania': 5681, 'laughs': 5682, 'gg': 5683, 'remind': 5684, 'revolt': 5685, 'impacted': 5686, 'schiphol': 5687, 'auckland': 5688, 'jupiters': 5689, 'belly': 5690, '0104': 5691, 'asics': 5692, 'gtii': 5693, 'fieg': 5694, 'kith': 5695, '3m': 5696, 'earthquakes': 5697, 'kitchen': 5698, 'firearm': 5699, 'rifle': 5700, 'screwed': 5701, 'au': 5702, 'slosher': 5703, 'mixed': 5704, 'resort': 5705, 'hardline': 5706, 'throwingknifes': 5707, 'testimony': 5708, 'luhan': 5709, 'raging': 5710, 'fart': 5711, 'approves': 5712, 'association': 5713, 'directors': 5714, 'gunshot': 5715, 'heals': 5716, 'florence': 5717, 'buzzfeed': 5718, 'makeup': 5719, 'hitchbot': 5720, 'smith': 5721, 'transmission': 5722, 'balloon': 5723, 'acquisition': 5724, 'properties': 5725, 'bananas': 5726, 'camouflage': 5727, '20000': 5728, 'shane': 5729, 'doesn\\x89ûªt': 5730, 'bushfire': 5731, '2040': 5732, 'bacup': 5733, 'launched': 5734, 'lifes': 5735, 'raleigh': 5736, 'outskirts': 5737, 'received': 5738, 'shaunking': 5739, 'poetry': 5740, 'nonsense': 5741, 'obvious': 5742, 'performs': 5743, 'golan': 5744, 'influence': 5745, 'rescues': 5746, 'hp': 5747, 'toy': 5748, 'warwick': 5749, 'beads': 5750, 'manipur': 5751, 'iris': 5752, 'tontitowngrape': 5753, 'tgf2015': 5754, 'archive': 5755, 'raise': 5756, 'harun': 5757, 'ìàekdar': 5758, 'portions': 5759, 'wolverine': 5760, 'deeds': 5761, 'ruby': 5762, 'cafire': 5763, 'bago': 5764, 'fruits': 5765, 'mufc': 5766, 'acquisitions': 5767, 'inec': 5768, 'abia': 5769, 'elizabeth': 5770, 'visiting': 5771, 'cfc': 5772, 'vida': 5773, 'soooo': 5774, 'preaching': 5775, 'turkmen': 5776, 'vandalized': 5777, 'skyline': 5778, 'wmv': 5779, 'pens': 5780, 'rene': 5781, 'mar': 5782, 'hood': 5783, 'bicycle': 5784, 'us101': 5785, 'pkwy': 5786, 'solicitor': 5787, 'overturned': 5788, 'awareness': 5789, 'mooresville': 5790, 'iredell': 5791, 'rover': 5792, 'donnie': 5793, 'interstate': 5794, 'carolina': 5795, 'traveling': 5796, 'cadfyi': 5797, 'piner': 5798, 'rdhorndale': 5799, 'rammed': 5800, 'actress': 5801, 'backup': 5802, 'alternate': 5803, 'ongoing': 5804, 'aftershockdelo': 5805, 'scuf': 5806, 'painful': 5807, 'roger': 5808, 'dwight': 5809, 'eisenhower': 5810, 'remembers': 5811, 'xb1': 5812, 'clay': 5813, 'coaster': 5814, 'habits': 5815, 'improve': 5816, 'streaming': 5817, 'belief': 5818, 'ministry': 5819, 'shaw': 5820, 'andrew': 5821, 'pu': 5822, 'hmu': 5823, 'liability': 5824, 'awwww': 5825, 'ironic': 5826, 'ocampo': 5827, 'airplanes': 5828, 'coworker': 5829, 'airplaneåê29072015': 5830, 'vicinity': 5831, 'begging': 5832, 'welcomes': 5833, 'travelling': 5834, 'nanotech': 5835, 'clots': 5836, 'hahahah': 5837, 'ltlt': 5838, 'compete': 5839, 'abs': 5840, 'luka': 5841, 'alois': 5842, 'trancy': 5843, 'fella': 5844, 'entirely': 5845, 'wnukes': 5846, '100000': 5847, 'tryouts': 5848, 'philip': 5849, 'scorpions': 5850, 'skipping': 5851, 'bummer': 5852, 'tomcatarts': 5853, 'imperfect': 5854, 'brock': 5855, 'sold': 5856, 'civilization': 5857, 'aliens': 5858, 'exterminate': 5859, 'dieplease': 5860, 'petitiontake': 5861, 'reject': 5862, 'az': 5863, 'wildhorses': 5864, 'saltriverwildhorses': 5865, 'taylor': 5866, 'ohh': 5867, '0802pm': 5868, 'stages': 5869, 'gf': 5870, 'popularmmos': 5871, '211023': 5872, 'peak': 5873, 'dystopian': 5874, 'xmen': 5875, 'xv': 5876, '4pm': 5877, 'gmt': 5878, 'zombies': 5879, 'boxing': 5880, 'reminded': 5881, 'doublecups': 5882, 'prod': 5883, 'thisizbwright': 5884, 'ouvindo': 5885, 'truelove': 5886, 'lith': 5887, 'voodoo': 5888, 'seduction': 5889, 'astrology': 5890, 'rtrrt': 5891, 'lotz': 5892, 'coat': 5893, 'worn': 5894, 'certainty': 5895, 'nsa': 5896, 'software': 5897, 'sketch': 5898, 'plz': 5899, 'rohnertparkdps': 5900, 'income': 5901, 'monkeys': 5902, 'auction': 5903, 'karnythia': 5904, 'doomsday': 5905, '2a': 5906, 'microsofts': 5907, 'ethics': 5908, 'blueprint': 5909, 'tories': 5910, '77': 5911, 'billboard': 5912, 'dial': 5913, 'wrist': 5914, 'nylon': 5915, 'victorinox': 5916, '241487': 5917, 'mtvsummerstar': 5918, 'lana': 5919, 'commission': 5920, 'killings': 5921, 'spokane': 5922, 'attend': 5923, 'protesting': 5924, 'familia': 5925, 'lesbians': 5926, 'cracks': 5927, 'countynews': 5928, 'mariah': 5929, 'cloudygoldrush': 5930, 'arsonistmusic': 5931, 'safyuan': 5932, 'citation': 5933, 'diamorfiend': 5934, 'casperrmg': 5935, 'torching': 5936, 'bk': 5937, 'strictly': 5938, 'tonight\\x89ûªs': 5939, 'veronicadlcruz': 5940, 'chuck': 5941, 'cracking': 5942, 'inspiring': 5943, 'demi': 5944, 'stans': 5945, 'scares': 5946, 'versions': 5947, 'governments': 5948, 'funniest': 5949, 'yakub': 5950, 'delhi': 5951, 'goat': 5952, 'graveyard': 5953, 'volleyball': 5954, 'premier': 5955, 'cdnpoli': 5956, 'oth': 5957, 'alien': 5958, 'strongly': 5959, 'condemn': 5960, 'cyber': 5961, 'nwo': 5962, 'gunfight': 5963, 'envw98': 5964, 'nickcocofree': 5965, 'juliedicaro': 5966, 'jdabe80': 5967, 'helicopters': 5968, 'completed': 5969, 'greece': 5970, 'pt': 5971, 'cab': 5972, 'troll': 5973, 'pol': 5974, 'questioning': 5975, 'robotlvl': 5976, 'satoshis': 5977, 'robotcoingame': 5978, 'freebitcoin': 5979, 'uranium': 5980, 'digging': 5981, 'blues': 5982, 'tshirt': 5983, 'xl': 5984, 'nhl': 5985, 'xvii': 5986, 'wrote': 5987, 'roses': 5988, 'poplar': 5989, 'tumbling': 5990, 'saver': 5991, 'chevrolet': 5992, 'sens': 5993, 'coloradoavalanche': 5994, 'rudd': 5995, 'gordon': 5996, 'overall': 5997, 'wide': 5998, 'jerseys': 5999, 'wd': 6000, 'b\\x89û': 6001, 'jedi': 6002, 'hasbro': 6003, 'bull': 6004, 'rotten': 6005, 'tomatoes': 6006, 'assistant': 6007, 'neverending': 6008, 'cbsbigbrother': 6009, 'motivation': 6010, '1916': 6011, '582': 6012, 'avengers': 6013, 'goats': 6014, 'lonepine': 6015, 'descendants': 6016, '666canberra': 6017, 'gary': 6018, 'dixie': 6019, 'postbattle': 6020, 'ampamp': 6021, 'commerce': 6022, 'mobile': 6023, 'exclusive': 6024, 'researchers': 6025, 'select': 6026, 'nyse': 6027, 'fdx': 6028, 'packages': 6029, 'chronicle': 6030, 'les': 6031, 'manufactured': 6032, 'gardens': 6033, 'foxnew\\x89û': 6034, 'biolab': 6035, 'targeted': 6036, 'extensive': 6037, 'handling': 6038, 'infectious': 6039, 'tale': 6040, 'ai': 6041, 'transgender': 6042, 'fold': 6043, 'difficult': 6044, 'volunteers': 6045, 'centers': 6046, 'possibility': 6047, 'therapies': 6048, 'technologies': 6049, 'harvardu': 6050, 'cdcgov': 6051, 'dey': 6052, 'fir': 6053, 'cannon': 6054, 'pendleton': 6055, 'standup': 6056, 'apt': 6057, 'balcony': 6058, 'weekold': 6059, 'rages': 6060, 'cary': 6061, 'babes': 6062, 'facility': 6063, 'rapper': 6064, 'drew': 6065, 'socialmedia': 6066, 'fire\\x89û': 6067, 'mixtape': 6068, 'smooth': 6069, 'asf': 6070, 'bright': 6071, 'vibez': 6072, 'montgomery': 6073, 'transcendblazing': 6074, 'diversified': 6075, '1880': 6076, 'dmpl': 6077, 'cameo': 6078, 'rev': 6079, 'silenced': 6080, 'master': 6081, 'sweat': 6082, 'summertime': 6083, 'ch': 6084, 'pl': 6085, 'etisalat': 6086, 'tak': 6087, 'concrete': 6088, 'liberal': 6089, 'pileup': 6090, 'wise': 6091, 'te': 6092, 'oomf': 6093, 'follower': 6094, 'featured': 6095, 'probs': 6096, 'gtfo': 6097, 'michele': 6098, 'catfish': 6099, 'retweeted': 6100, 'conservative': 6101, 'harperanetflixshow': 6102, 'clue': 6103, 'clicks': 6104, 'magisters': 6105, 'dwarves': 6106, 'exacerbated': 6107, 'contract': 6108, 'snuff': 6109, 'someday': 6110, 'thda': 6111, 'antiblight': 6112, 'infinity': 6113, 'develop': 6114, 'anellatulip': 6115, 'locks': 6116, 'nuts': 6117, 'rolo': 6118, 'ashayo': 6119, 'vods': 6120, 'dolphin': 6121, 'ight': 6122, 'controllers': 6123, 'trinity': 6124, 'wod': 6125, 'disappointed': 6126, 'hardcore': 6127, 'blizzardcs': 6128, 'hearthstone': 6129, 'brownie': 6130, 'knockout': 6131, 'butterfinger': 6132, 'snowy': 6133, 'fragile': 6134, 'cuffs': 6135, '20s': 6136, 'porridge': 6137, 'phenomenal': 6138, 'hoe': 6139, 'document': 6140, 'thirsty': 6141, 'encounters': 6142, 'favorites': 6143, 'aggressive': 6144, 'sally': 6145, '83': 6146, 'elm': 6147, 'bdisgusting': 6148, 'amends': 6149, 'weekends': 6150, 'new\\x89û': 6151, 'diarrhea': 6152, 'ronda': 6153, 'rousey': 6154, 'floyd': 6155, 'elbow': 6156, 'paints': 6157, 'thighs': 6158, 'marvellous': 6159, 'juice': 6160, 'monday': 6161, 'marlon': 6162, 'shuffle': 6163, 'legend': 6164, 's2g': 6165, 'manutd': 6166, 'lmfaoooo': 6167, 'confederate': 6168, 'salty': 6169, 'taylorswift13': 6170, 'bump': 6171, 'approval': 6172, 'anyways': 6173, 'patterns': 6174, 'twos': 6175, 'guaranteed': 6176, 'mutant': 6177, 'mosquito': 6178, 'syndrome': 6179, 'hackers': 6180, 'escaped': 6181, 'tan': 6182, 'copper': 6183, 'en\\x89û': 6184, 'saumur': 6185, '723': 6186, '4193': 6187, 'authentic': 6188, 'bangin': 6189, 'mics': 6190, 'bodys': 6191, 'cuffed': 6192, 'ovofest': 6193, 'ovo': 6194, 'bodybagging': 6195, 'capable': 6196, 'ghostwriter': 6197, 'flow': 6198, 'file': 6199, 'beef': 6200, 'spit': 6201, 'freshman': 6202, 'micom': 6203, 'contrast': 6204, 'cartoon': 6205, 'trunk': 6206, 'zippers': 6207, 'chairman': 6208, 'typical': 6209, 'you\\x89ûªll': 6210, 'geometric': 6211, 'totes': 6212, 'canvas': 6213, 'editorial': 6214, 'cas': 6215, 'bye': 6216, 'collab': 6217, 'pointing': 6218, 'ratio': 6219, 'tacos': 6220, 'hatchetwielding': 6221, 'vocal': 6222, 'slept': 6223, 'screenshot': 6224, 'cyhitheprynce': 6225, 'citys': 6226, '200000': 6227, 'jets': 6228, 'exhibition': 6229, 'abubaraa1': 6230, 'iraqis': 6231, 'whitehouse': 6232, 'uncle': 6233, 'compassion': 6234, 'visits': 6235, 'johnejefferson': 6236, 'obviously': 6237, 'redskins': 6238, 'wr': 6239, 'teamstream': 6240, 'ri': 6241, 'cityamp3others': 6242, '20000k': 6243, 'schedule\\x89û': 6244, 'november': 6245, 'congratulations': 6246, 'capturing': 6247, 'indiscriminate': 6248, 'claiming': 6249, 'snapharmony': 6250, 'sanitised': 6251, 'hiroshimas': 6252, 'tolled': 6253, 'generalnews': 6254, 'dambisa': 6255, 'moyo': 6256, 'oped': 6257, 'ameenshaikh3': 6258, 'cement': 6259, 'caribbean': 6260, 'kosher': 6261, 'reacted': 6262, 'ani': 6263, 'engvaus': 6264, 'urgentthere': 6265, 'storey': 6266, 'bstop': 6267, 'oworoshoki': 6268, 'infrastructure': 6269, 'sustainability': 6270, 'mmmmmm': 6271, 'oooooohhhh': 6272, 'oooh': 6273, 'themagickidraps': 6274, 'executing': 6275, 'kou': 6276, 'minimehh': 6277, 'cjoyner': 6278, 'overlooking': 6279, 'fewmoretweets': 6280, 'preparing': 6281, '9newsmornings': 6282, 'messi': 6283, 'strikesstrikes': 6284, 'allegiance': 6285, 'ruining': 6286, 'leeds': 6287, 'jealous': 6288, 'objects': 6289, 'soaking': 6290, 'stores': 6291, 'witness': 6292, 'webinar': 6293, 'et': 6294, 'ton': 6295, '160': 6296, 'auburn': 6297, 'brick': 6298, 'architecture': 6299, 'tweetlikeitsseptember11th2001': 6300, 'evacuating': 6301, 'confirmation': 6302, 'explosions': 6303, 'grenades': 6304, 'thrown': 6305, 'grills': 6306, 'condos': 6307, 'aust': 6308, 'troy': 6309, 'albany': 6310, 'towns': 6311, 'threealarm': 6312, '1943': 6313, 'prisoners': 6314, 'nazi': 6315, 'tore': 6316, 'swooping': 6317, 'drifting': 6318, 'glue': 6319, 'uh': 6320, 'popcorn': 6321, 'touched': 6322, 'loseit': 6323, 'crusty': 6324, 'brisk': 6325, 'grilled': 6326, 'gettin': 6327, 'fool': 6328, 'coverage': 6329, 'material': 6330, 'bugs': 6331, 'candle': 6332, 'skanndtyagi': 6333, '501': 6334, 'dere': 6335, 'fatburning': 6336, '201516': 6337, 'zionism': 6338, 'attendees': 6339, 'visible': 6340, 'tucson': 6341, 'lightningcaused': 6342, 'interval': 6343, 'shaping': 6344, 'paying': 6345, 'tuning': 6346, 'pp': 6347, 'mv': 6348, 'louistomlinson': 6349, 'dancing': 6350, 'atleast': 6351, 'rioters': 6352, 'looters': 6353, 'forestservice': 6354, 'dhsscitech': 6355, 'buildings\\x89ûówe': 6356, 'screw': 6357, 'heros': 6358, 'magics': 6359, 'descriptions': 6360, 'planes': 6361, 'kitten': 6362, 'mistreated': 6363, 'volcanoes': 6364, 'toes': 6365, 'jamaicaobserver': 6366, 'cnewslive': 6367, 'nsw': 6368, 'advised': 6369, 'countless': 6370, 'globe': 6371, 'pine': 6372, 'followup': 6373, 'honshu': 6374, 'allied': 6375, 'thankfully': 6376, 'wrap': 6377, 'pbs': 6378, 'paved': 6379, 'hypocrisy': 6380, 'sucked': 6381, 'pertains': 6382, 'patna': 6383, 'branch': 6384, 'state\\x89û': 6385, 'endangered': 6386, 'marines': 6387, 'increasingly': 6388, 'disconnected': 6389, 'scriptettesar': 6390, '1986': 6391, 'estimates': 6392, 'setlist': 6393, 'documenting': 6394, '5sosfamupdater': 6395, 'canceling': 6396, 'messy': 6397, 'delivered': 6398, 'robdelaney': 6399, 'unable': 6400, 'athlete': 6401, 'twist': 6402, 'placing': 6403, 'requiring': 6404, 'chucker': 6405, 'council': 6406, 'promote': 6407, 'rated': 6408, 'imdb': 6409, 'evolve': 6410, 'reckless': 6411, 'rockstar': 6412, 'alaskas': 6413, 'denali': 6414, 'finished': 6415, 'discussion': 6416, 'invading': 6417, 'diplomacy': 6418, 'newyorker': 6419, 'custom': 6420, 'rom': 6421, 'uniforms': 6422, 'destructive': 6423, 'wealthy': 6424, 'reversal': 6425, 'jamesmelville': 6426, 'netanyahu': 6427, 'religious': 6428, 'assume': 6429, 'åç': 6430, 'occurrence': 6431, 'hazmat': 6432, 'nuclearbiologicalchemical': 6433, 'davidcameron': 6434, 'krefeld': 6435, 'leak': 6436, 'cocaine': 6437, 'northwestern\\x89û': 6438, 'bits': 6439, 'evanston': 6440, 'pill': 6441, 'neil': 6442, 'decent': 6443, 'humble': 6444, 'sweaty': 6445, 'dignity': 6446, 'ferry': 6447, 'knocking': 6448, 'cliffs': 6449, 'cilla': 6450, 'stroke': 6451, 'technique': 6452, 'bundle': 6453, 'relive': 6454, 'investing': 6455, 'securing': 6456, 'lasting': 6457, 'knees': 6458, '4th': 6459, 'sl': 6460, 'sham': 6461, 'bailout': 6462, 'jfb': 6463, 'tfb': 6464, 'alrasyid448iturasya': 6465, 'smantibatam': 6466, 'roh3smantibatam': 6467, 'pancakes': 6468, 'entrances': 6469, 'musik': 6470, 'offs': 6471, 'alley': 6472, 'phil': 6473, 'gravel': 6474, 'cpr': 6475, 'zimbabwe': 6476, 'exhausted': 6477, 'entity': 6478, 'sewer': 6479, 'closet': 6480, '3x': 6481, 'heels': 6482, 'trusty': 6483, 'spontaneously': 6484, 'musicians': 6485, 'awkward': 6486, 'trek': 6487, 'pluto': 6488, 'wristband': 6489, 'sibling': 6490, 'rivalry': 6491, '100s': 6492, 'tlc': 6493, 'coincide': 6494, 'wattpad': 6495, 'greenway': 6496, 'curse': 6497, 'nonlife': 6498, 'newswatch': 6499, 'lansdowne': 6500, 'sts': 6501, 'ptbo': 6502, 'emerg': 6503, 'jake': 6504, 'punch': 6505, 'skull': 6506, 'pleasure': 6507, 'lifethreatening': 6508, '18wheeler': 6509, 'harwich': 6510, '530': 6511, 'hadnt': 6512, 'mlg': 6513, 'carted': 6514, 'knob': 6515, 'elkhorn': 6516, 'walerga': 6517, 'rainier': 6518, 'florin': 6519, 'cambridge': 6520, 'opp': 6521, 'ag': 6522, 'i95': 6523, '548': 6524, 'mchenry': 6525, 'techesback': 6526, 'bernardino': 6527, 'i10': 6528, 'creek': 6529, 'i580': 6530, 'twovehicle': 6531, 'volunteer': 6532, 'sacramento': 6533, 'sr37': 6534, 'offramp': 6535, 'removed': 6536, 'gadget': 6537, 'layout': 6538, 'meinlcymbals': 6539, 'sterlingknight': 6540, 'knight': 6541, 'moreland': 6542, 'rant': 6543, 'xoxo': 6544, 'playstation': 6545, 'invited': 6546, 'feelin': 6547, 'so\\x89û': 6548, 'liable': 6549, 'hoffman': 6550, 'muzzamil': 6551, 'offr': 6552, 'mi17': 6553, 'ux': 6554, 'pos': 6555, 'ipod': 6556, 'knocked': 6557, '2day': 6558, 'strength': 6559, 'thief': 6560, 'stole': 6561, 'fled': 6562, 'skype': 6563, 'notes': 6564, 'wce': 6565, 'bestfriends': 6566, 'ina': 6567, 'ron': 6568, 'fez': 6569, 'gorgeous': 6570, 'bouta': 6571, 'sooo': 6572, 'squirrel': 6573, 'priorities': 6574, 'ortiz': 6575, 'ouch': 6576, 'nick': 6577, 'dothraki': 6578, 'wine': 6579, 'thirst': 6580, 'ypg': 6581, 'violations': 6582, 'bicycles': 6583, 'cus': 6584, 'overtime': 6585, 'kodak': 6586, '0306': 6587, 'cld': 6588, 'nope': 6589, 'bloke': 6590, 'rite': 6591, 'fi': 6592, 'knw': 6593, 'walter': 6594, 'outlet': 6595, 'guam': 6596, 'jhaustin': 6597, 'ames': 6598, 'on\\x89û': 6599, 'retract': 6600, 'wordpressdotcom': 6601, 'norman': 6602, 'ante': 6603, 'hanna': 6604, 'vanuatu': 6605, 'encouraged': 6606, 'phantom': 6607, 'broadcasting': 6608, '1970': 6609, 'moulding': 6610, '429cj': 6611, 'emperor': 6612, 'trim': 6613, 'gust': 6614, 'wfp': 6615, 'na': 6616, 'windy': 6617, 'baggage': 6618, 'royals': 6619, 'fairy': 6620, 'tail': 6621, 'bradleybrad47': 6622, 'upgraded': 6623, 'playthrough': 6624, 'tor': 6625, 'enhanced': 6626, 'imo': 6627, 'contractor': 6628, 'nda': 6629, 'cleric': 6630, 'boobs': 6631, 'fluid': 6632, 'optic': 6633, 'nerve': 6634, 'nail': 6635, 'blizzheroes': 6636, 'signup': 6637, 'cawx': 6638, 'grains': 6639, 'slides': 6640, 'petersburg': 6641, 'partnerships': 6642, 'ham': 6643, 'afc': 6644, 'underwater': 6645, 'protection': 6646, 'rails': 6647, 'complaints': 6648, 'engage': 6649, 'attained': 6650, 'goku': 6651, 'sore': 6652, 'attractive': 6653, 'misled': 6654, 'jones94kyle': 6655, 'askcharley': 6656, 'perspectives': 6657, 'era': 6658, 'prez': 6659, 'cousins': 6660, 'rss': 6661, 'samesex': 6662, 'certificate': 6663, 'loyalty': 6664, 'unto': 6665, 'thereof': 6666, 'screamqueens': 6667, 'katherines': 6668, 'bashes': 6669, 'uploading': 6670, 'cyprus': 6671, 'talibans': 6672, 'slain': 6673, 'measles': 6674, 'complications': 6675, 'looses': 6676, 'crickets': 6677, '\\x89û÷first\\x89ûª': 6678, '\\x89û÷second\\x89ûª': 6679, 'u\\x89û': 6680, 'palermo': 6681, 'insas': 6682, 'rifles': 6683, 'worldwide': 6684, 'contributing': 6685, 'pedestrians': 6686, 'illness': 6687, 'dears': 6688, 'irony': 6689, 'beliefs': 6690, 'publichealth': 6691, 'julian': 6692, 'applies': 6693, 'equate': 6694, 'blackpool': 6695, 'kowing': 6696, 'beclearoncancer': 6697, 'reverse': 6698, 'mothe': 6699, 'disappeared': 6700, 'billneelynbc': 6701, 'isla': 6702, 'scmpnews': 6703, 'whatsapp': 6704, 'smiles': 6705, 'embrace': 6706, 'unprecedented': 6707, 'favs': 6708, 'recommended': 6709, 'motion': 6710, 'programme': 6711, 'incessant': 6712, 'applied': 6713, 'backs': 6714, 'differently': 6715, 'mishacollins': 6716, 'ren': 6717, 'healing': 6718, 'vince': 6719, 'mcmahon': 6720, 'billionaire': 6721, 'caring': 6722, 'canadian': 6723, 'themed': 6724, 'timing': 6725, 'shade': 6726, 'poorly': 6727, 'indie': 6728, 'fiction': 6729, 'teens': 6730, 'escaping': 6731, 'ris': 6732, 'eurotunnel': 6733, 'urs': 6734, 'alerts': 6735, 'ant': 6736, 'rand': 6737, 'pauls': 6738, 'birminghams': 6739, 'patriot': 6740, 'coworkers': 6741, 'hahah': 6742, 'bal': 6743, 'midget': 6744, 'laundry': 6745, 'kp': 6746, 'manhood': 6747, 'rihanna': 6748, 'nostrils': 6749, 'engineers': 6750, 'folk': 6751, 'jar': 6752, 'i\\x89ûªd': 6753, 'indy': 6754, 'meerkat': 6755, 'periscope': 6756, 'snowball': 6757, 'salvis': 6758, 'bistro': 6759, 'carlos': 6760, 'arab': 6761, 'bo3': 6762, 'consistently': 6763, 'resulting': 6764, 'sections': 6765, 'witnessed': 6766, 'burton': 6767, 'mistakes': 6768, '2002': 6769, 'flint': 6770, 'metropolis': 6771, 'highsmith': 6772, 'der': 6773, 'purchased': 6774, '9am': 6775, 'appreciated': 6776, 'comp': 6777, 'injustice': 6778, 'tone': 6779, 'quarters': 6780, 'jose': 6781, 'canberras': 6782, 'tookem': 6783, 'dominant': 6784, 'morn': 6785, 'blaming': 6786, 'activities': 6787, 'gridlock': 6788, 'simultaneous': 6789, 'alllivesmatter': 6790, 'announced': 6791, 'various': 6792, 'buyout': 6793, 'determined': 6794, 'establishment': 6795, 'democrats': 6796, 'clintons': 6797, 'adani': 6798, 'tip': 6799, 'illustration': 6800, 'sixcar': 6801, 'identitytheft': 6802, 'reopen': 6803, 'cqnow': 6804, 'breakfast': 6805, 'adamtuss': 6806, 'wheel': 6807, 'closest': 6808, 'timkaine': 6809, '\\x89û÷it\\x89ûªs': 6810, 'followback': 6811, '61st': 6812, 'calumet': 6813, 'consent': 6814, 'fault': 6815, 'applaud': 6816, 'indi': 6817, 'immediate': 6818, 'suresh': 6819, 'ignored': 6820, 'ttes': 6821, 'helpline': 6822, 'ctafails': 6823, 'disruptive': 6824, 'glacier': 6825, 'transformed': 6826, 'hav': 6827, 'maketh': 6828, 'corleonedaboss': 6829, 'electro': 6830, 'redeemeth': 6831, 'servants': 6832, 'costly': 6833, 'comingsoon': 6834, 'premiere': 6835, 'coyotes': 6836, 'lizards': 6837, 'jamessnyder22': 6838, 'nails': 6839, '157': 6840, 'lamb': 6841, 'daniels': 6842, 'persistent': 6843, 'lakes': 6844, 'sudden': 6845, 'thy': 6846, 'fotoset': 6847, 'carpet': 6848, 'alcoholismaddiction': 6849, 'forgiving': 6850, 'condemnation': 6851, 'revelation': 6852, 'temptation': 6853, 'isolation': 6854, 'firemen': 6855, 'defeat': 6856, 'snd': 6857, 'competitive': 6858, 'slander': 6859, 'shantae': 6860, 'everytime': 6861, 'yiayplan': 6862, 'bets': 6863, 'displeased': 6864, 'spots': 6865, 'congrats': 6866, 'silly': 6867, 'commonwealth': 6868, 'gist': 6869, 'ambition': 6870, 'voted': 6871, 'foxa': 6872, 'cmcsa': 6873, 'sni': 6874, 'amcx': 6875, 'viab': 6876, 'twx': 6877, 'basis': 6878, 'donå«t': 6879, '3942': 6880, 'customs': 6881, 'phew': 6882, 'hoes': 6883, 'careers': 6884, 'canadas': 6885, 'chopped': 6886, 'gh': 6887, 'greed': 6888, 'thisiswhywecanthavenicethings': 6889, 'divided': 6890, 'singled': 6891, 'invest': 6892, 'symphony': 6893, '1998': 6894, '57': 6895, 'propelled': 6896, 'piles': 6897, 'wb': 6898, 'marquei': 6899, 'visto': 6900, 'bancodeseries': 6901, 'illegally': 6902, 'stuns': 6903, 'stearns': 6904, 'rapping': 6905, 'lemon': 6906, 'mello': 6907, 'motorcraft': 6908, 'ks94': 6909, 'belt': 6910, 'mashup': 6911, 'bmw': 6912, 'sensorknock': 6913, 'delphi': 6914, 'talkin': 6915, 'malik': 6916, 'perrie': 6917, 'losdelsonido': 6918, 'ma': 6919, 'ivanberroa': 6920, 'actor': 6921, 'indoors': 6922, 'wartime': 6923, 'wroug': 6924, 'factor': 6925, 'pmharper': 6926, 'argentina': 6927, 'murders': 6928, 'jurors': 6929, '2006': 6930, 'starbucks': 6931, 'pandemic': 6932, 'blasting': 6933, 'jakartapost': 6934, 'strengthening': 6935, 'mì¼sica': 6936, 'exciting': 6937, 'browsers': 6938, 'gosh': 6939, '12news': 6940, 'housed': 6941, '90th': 6942, 'osborn': 6943, 'extinguished': 6944, 'meme': 6945, '180': 6946, '9000': 6947, 'photographs': 6948, 'mandate': 6949, 'gn': 6950, 'pomo': 6951, 'label': 6952, 'llf': 6953, 'rating': 6954, 'sep': 6955, 'surrounding': 6956, 'have\\x89û': 6957, 'moderate': 6958, 'bud': 6959, 'scwx': 6960, 'meets': 6961, 'gawx': 6962, 'eerie': 6963, 'raiders': 6964, 'demons': 6965, 'ev': 6966, 'native': 6967, 'urine': 6968, 'pride': 6969, 'cheer': 6970, 'kiddie': 6971, 'florida\\x89û': 6972, 'are\\x89û': 6973, 'dwenglish': 6974, 'ashley': 6975, 'remorse': 6976, 'vi': 6977, 'idiots': 6978, 'bradley': 6979, 'diebold': 6980, 'request': 6981, 'medic': 6982, 'modis': 6983, 'morocco': 6984, 'straits': 6985, 'gibraltar': 6986, 'duststorm': 6987, 'weakening': 6988, 'lubbock': 6989, 'boundary': 6990, 'yelling': 6991, 'vantage': 6992, 'visibility': 6993, 'riyadh': 6994, 'idaho': 6995, 'dakota': 6996, 'rolls': 6997, 'formation': 6998, 'loading': 6999, '60mph': 7000, 'barrier': 7001, '4km': 7002, 'interlaken': 7003, '005225': 7004, '175225': 7005, '143': 7006, 'contruction': 7007, 'upgrading': 7008, 'ferries': 7009, 'standards': 7010, 'vashon': 7011, 'mukilteo': 7012, 'renison': 7013, 'tin': 7014, '23km': 7015, 'twentynine': 7016, '235409': 7017, 'ssw': 7018, 'anza': 7019, '070': 7020, 'thi\\x89û': 7021, '015025': 7022, '44': 7023, 'creates': 7024, '8615': 7025, '10401': 7026, 'unnecessary': 7027, 'rossum': 7028, '06jst': 7029, '0700': 7030, 'darchambau': 7031, 'emsc': 7032, 'puerto': 7033, 'rico': 7034, 'kindly': 7035, 'heated': 7036, 'aa': 7037, 'teslas': 7038, 'socket': 7039, 'badly': 7040, 'delete': 7041, 'cooking': 7042, 'crucial': 7043, 'pakistannews': 7044, 'pakpattan': 7045, 'correspondent': 7046, 'backyard': 7047, 'cables': 7048, 'tigers': 7049, 'earbuds': 7050, 'golem': 7051, 'nankana': 7052, 'sahib': 7053, 'dt': 7054, 'faulty': 7055, 'elsa': 7056, 'forbid': 7057, 'archipelagowolves': 7058, 'heartbeat': 7059, 'sounding': 7060, 'specialists': 7061, 'stl': 7062, 'ace': 7063, 'i65': 7064, 'conservation': 7065, 'reinstate': 7066, 'protectdenaliwolves': 7067, 'quicker': 7068, 'fucks': 7069, 'firetruck': 7070, 'batfanuk': 7071, '2007': 7072, 'install': 7073, 'builder': 7074, 'announces': 7075, 'forreal': 7076, 'incase': 7077, 'senators': 7078, 'feinstein': 7079, 'arabic': 7080, 'overload': 7081, 'celebrations': 7082, 'comparing': 7083, 'task': 7084, 'presents': 7085, 'proper': 7086, 'circa': 7087, 'missionhills': 7088, 'shutdown': 7089, 'goulburn': 7090, 'hysteria': 7091, 'returning': 7092, 'simon': 7093, 'pediatric': 7094, 'freeway': 7095, 'tidal': 7096, 'smiling': 7097, 'fiery': 7098, 'equally': 7099, 'emerges': 7100, 'ghost': 7101, 'badass': 7102, 'puny': 7103, 'vault': 7104, 'tanzania': 7105, 'petty': 7106, 'lollapalooza': 7107, 'studying': 7108, 'poem': 7109, 'disregard': 7110, 'jumped': 7111, 'metlife': 7112, 'dealbreaker': 7113, 'sos': 7114, 'rutherford': 7115, 'fifa16': 7116, 'nazis': 7117, 'murfreesboro': 7118, '9newsgoldcoast': 7119, 'hahahaha': 7120, 'glink': 7121, 'hook': 7122, 'ahrar': 7123, 'zabadani': 7124, 'sunnis': 7125, 'katunews': 7126, 'sr14': 7127, '1700': 7128, 'surfers': 7129, 'noted': 7130, 'swayback': 7131, 'ifak': 7132, 'prompt': 7133, 'todayngr': 7134, 'voluntary': 7135, 'pickerel': 7136, 'reid': 7137, 'veld': 7138, 'feelingmanly': 7139, 'misses': 7140, 'serve': 7141, 'upwards': 7142, 'ks': 7143, 'shizune': 7144, 'schwarber': 7145, 'kendall': 7146, 'jenner': 7147, 'cans': 7148, 'stout': 7149, 'admit': 7150, 'tesco': 7151, '105': 7152, 'whose': 7153, 'anime': 7154, 'microphone': 7155, 'mans': 7156, 'sarcasm': 7157, 'kai': 7158, 'bean': 7159, '1665': 7160, 'artillery': 7161, 'cartridges': 7162, 'loaded': 7163, 'joint': 7164, 'chargers': 7165, 'pharaoh': 7166, 'gmmbc': 7167, 'gaelite': 7168, 'dye': 7169, 'dope': 7170, 'pyrotechnic': 7171, 'blossom': 7172, 'correct': 7173, 'brass': 7174, 'kindermorgan': 7175, 'freestyle': 7176, 'expo': 7177, '14th': 7178, 'theological': 7179, 'aesthetic': 7180, 'moore': 7181, 'wpri': 7182, 'hamburg': 7183, 'deny': 7184, 'pony': 7185, 'seal': 7186, 'testimonials': 7187, 'wftv': 7188, 'mornings': 7189, 'stagetwo': 7190, '10pm': 7191, 'moscow': 7192, 'capitalism': 7193, 'perished': 7194, 'africans': 7195, 'starving': 7196, 'ethiopian': 7197, 'ethiopia': 7198, 'artificial': 7199, 'potatoes': 7200, 'presence': 7201, 'elijah': 7202, 'attraction': 7203, 'witnesses': 7204, 'nra': 7205, 'kindness': 7206, 'overlooked': 7207, 'statements': 7208, 'vital': 7209, 'unprepared': 7210, 'emp': 7211, 'pushing': 7212, 'intersections': 7213, 'interlocking': 7214, 'predator': 7215, 'hometown': 7216, 'rcmp': 7217, 'tch': 7218, 'whitbourne': 7219, 'bn': 7220, '1979': 7221, 'dlc': 7222, 'journeys': 7223, 'downfall': 7224, 'logistics': 7225, 'fatalityus': 7226, 'vgbootcamp': 7227, 'sn': 7228, 'vabengal': 7229, 'zss': 7230, 'pan': 7231, 'rig': 7232, 'homie': 7233, 'kosciusko': 7234, 'lebanon': 7235, 'loretta': 7236, 'behold': 7237, 'endless': 7238, 'aggressively': 7239, 'creativity': 7240, 'partner': 7241, 'growingupblack': 7242, 'shaking': 7243, 'curiosity': 7244, 'to\\x89û': 7245, 'p\\x89û': 7246, 'gd': 7247, 'sterling': 7248, 'kissed': 7249, 'avi': 7250, 'retro': 7251, 'gasoline': 7252, 'tha': 7253, 'rent': 7254, 'overwork': 7255, 'smelling': 7256, 'phase': 7257, 'detouring': 7258, 'knx1070': 7259, 'pumper': 7260, 'plastic': 7261, '58': 7262, 'lukebox': 7263, 'help\\x89ûª': 7264, 'responder': 7265, 'hightech': 7266, 'int': 7267, 'dart': 7268, 'fees': 7269, 'infoorder': 7270, 'sms087809233445': 7271, 'fever': 7272, 'yoga': 7273, 'pity': 7274, 'chose': 7275, 'optimistic': 7276, 'pivot': 7277, 'witnessing': 7278, 'ell': 7279, 'graph': 7280, 'regard': 7281, 'mississauga': 7282, 'sumo': 7283, 'dock': 7284, 'shuffled': 7285, 'thee': 7286, 'striker': 7287, 'hay': 7288, 'iconic': 7289, 'raynor': 7290, 'albertans': 7291, 'kurt': 7292, 'jkl': 7293, 'cancels': 7294, 'ky': 7295, 'motors': 7296, '452': 7297, '10x': 7298, '27w': 7299, 'utv': 7300, 'hana': 7301, 'maui': 7302, 'alwx': 7303, 'grants': 7304, 'wxky': 7305, 'urban': 7306, 'sponge': 7307, 'docks': 7308, 'jams': 7309, 'womb': 7310, 'midsouth': 7311, 'trekkers': 7312, 'himalayas': 7313, 'insubcontinent': 7314, 'iraqi': 7315, 'valleywx': 7316, 'nycha': 7317, 'assisting': 7318, 'sheriff': 7319, 'soo': 7320, 'tornados': 7321, 'granted': 7322, 'rspca': 7323, 'stunned': 7324, 'reckon': 7325, 'priceless': 7326, 'abc7chicago': 7327, 'grief': 7328, '1999': 7329, 'donation': 7330, 'pagasa': 7331, 'negros': 7332, 'lowlying': 7333, 'landslides': 7334, 'worldvision': 7335, 'm\\x89û': 7336, '05082015': 7337, 'combust': 7338, 'ch4': 7339, 'careless': 7340, 'campfire': 7341, 'routecomplex': 7342, 'sweet2young': 7343, 'nuff': 7344, 'pet': 7345, 'elephants': 7346, 'gilmanrocks7': 7347, 'denier': 7348, 'spends': 7349, 'tales': 7350, '430': 7351, 'deployed': 7352, 'rogue': 7353, 'riversiskiyou': 7354, 'area\\x89û': 7355, 'consumes': 7356, 'cites': 7357, 'increasing': 7358, '075': 7359, 'japton': 7360, 'outage': 7361, 'cheryl': 7362, 'thou': 7363, 'fahlowcw': 7364, 'queenåê': 7365, 'kno': 7366, 'sunny': 7367, 'unr': 7368, 'weston': 7369, 'pennington': 7370, '715': 7371, 'sustainable': 7372, 'pounded': 7373, 'holmes': 7374, 'lawrence': 7375, 'haleywhaley': 7376, 'ofclans': 7377, 'nixon': 7378, 'hiding': 7379, 'pokemon': 7380, 'maxi': 7381, 'bobcats': 7382, 'backyards': 7383, 'yycweather': 7384, 'slam': 7385, 'knocks': 7386, '20k': 7387, 'logan': 7388, 'jamaicaplain': 7389, 'tuesdays': 7390, 'pcps': 7391, 'physicians': 7392, 'harms': 7393, 'hung': 7394, 'surveys': 7395, 'cc': 7396, 'illegals': 7397, 'infinite': 7398, 'fading': 7399, 'bans': 7400, 'irwin': 7401, 'righteous': 7402, 'continually': 7403, 'views': 7404, 'dukes': 7405, 'harden': 7406, 'aguero': 7407, 'raped': 7408, 'switch': 7409, 'oem': 7410, 'recalled': 7411, 'londonfire': 7412, 'lickin': 7413, '1500': 7414, 'unstable': 7415, 'andor': 7416, 'dlh': 7417, 'gms': 7418, 'keratin': 7419, 'treatments': 7420, 'brazilian': 7421, 'copycats': 7422, 'humid': 7423, 'flared': 7424, 'oli': 7425, 'unrelenting': 7426, 'expand': 7427, 'pete': 7428, 'canoe': 7429, 'temps': 7430, 'internallydisplaced': 7431, 'gazans': 7432, 'presstv': 7433, 'bcuz': 7434, 'dances': 7435, 'witch': 7436, 'rude': 7437, 'dame': 7438, 'missiles': 7439, 'homosexuality': 7440, 'ars': 7441, 'technica': 7442, 'slammed': 7443, 'fiat': 7444, 'chrysler': 7445, 'mcgsecure': 7446, '\\x89û÷plot': 7447, 'dijk\\x89ûª': 7448, 'chan': 7449, 'liveleakfun': 7450, 'chills': 7451, 'fresno': 7452, 'weighs': 7453, 'notexplained': 7454, 'infamous': 7455, 'db': 7456, 'jagexsupport': 7457, 'softenza': 7458, 'earnest': 7459, 'pletch\\x89ûªs': 7460, 'coldblooded': 7461, '\\x89û÷good': 7462, 'samaritans\\x89ûª': 7463, '20150805': 7464, 'whomever': 7465, 'wifi': 7466, 'skill': 7467, 'perform': 7468, '263chat': 7469, 'earn': 7470, 'threaten': 7471, 'chilling': 7472, 'excuses': 7473, '1974': 7474, 'lockdown': 7475, 'rumor': 7476, 'bartender': 7477, 'pmarca': 7478, 'affiliation': 7479, 'dysfunctional': 7480, 'nationals': 7481, 'surrender': 7482, 'holmgren': 7483, 'lous': 7484, 'deosl86': 7485, 'distress': 7486, 'teddy': 7487, 'minhazmerchant': 7488, 'supermarket': 7489, 'yazidi': 7490, 'janaq': 7491, 'fought': 7492, 'meteoearth': 7493, 'hurricanes': 7494, 'names': 7495, 'terrified': 7496, 'ad': 7497, 'pirate': 7498, 'mock': 7499, 'angelriveralib\\x89û': 7500, 'prob': 7501, 'insult': 7502, 'yelp': 7503, 'patients': 7504, 'suryaray': 7505, 'injured\\x89û': 7506, 'killers': 7507, 'rvacchianonydn': 7508, 'michaelgbaron': 7509, 'wilshere': 7510, 'smugglers': 7511, 'allegedly': 7512, 'cosponsor': 7513, '928': 7514, 'renew911health': 7515, 'rory': 7516, 'cursed': 7517, 'riders': 7518, 'crossing': 7519, 'inevitably': 7520, 'forsure': 7521, 'barring': 7522, 'texans': 7523, 'wasn\\x89ûªt': 7524, 'mx': 7525, 'ergo': 7526, 'rotator': 7527, 'cuff': 7528, 'lamha': 7529, 'vikings': 7530, 'wednesdays': 7531, 'rb': 7532, 'dunbar': 7533, 'daytoday': 7534, 'defending': 7535, 'espn': 7536, 'browns': 7537, 'bwp': 7538, 'laois': 7539, 'advertised': 7540, 'lovedup': 7541, 'shops': 7542, 'moist': 7543, 'vzwsupport': 7544, 'bread': 7545, 'urged': 7546, 'hr': 7547, '140': 7548, 'unfortunately': 7549, 'bounds': 7550, 'nats': 7551, 'geneva': 7552, 'a1': 7553, 'a5': 7554, 'venice': 7555, 'waferthin': 7556, 'winning': 7557, 'votes': 7558, 'reince': 7559, 'smart': 7560, 'assholes': 7561, 'lamps': 7562, 'pixar': 7563, 'neighbor': 7564, 'chilis': 7565, '8415': 7566, 'quit': 7567, 'pinpoint': 7568, 'reshape': 7569, 'minerals': 7570, 'crystal': 7571, '8pin': 7572, '21a': 7573, '5s': 7574, '5c': 7575, 'rained': 7576, 'downpours': 7577, 'icaseit': 7578, 'mfi': 7579, 'altamonte': 7580, 'shuts': 7581, 'rpics': 7582, 'tarmineta3': 7583, 'campbell': 7584, 'gum': 7585, 'noises': 7586, 'kmatakobot': 7587, 'peacefully': 7588, 'downstairs': 7589, 'froze': 7590, 'pops': 7591, 'matakomilk': 7592, 'samanthaturne19': 7593, 'tanstaafl23': 7594, 'impulse': 7595, 'publicizing': 7596, 'innocents': 7597, 'endorses': 7598, 'behavior': 7599, 'riceechrispies': 7600, 'examples': 7601, 'hows': 7602, 'royalcarribean': 7603, 'fredolsencruise': 7604, 'itinerary': 7605, 'dolphins': 7606, 'aurora': 7607, 'baruch': 7608, 'goldstein': 7609, 'che': 7610, 'jury': 7611, 'dickheads': 7612, 'aspect': 7613, 'honour': 7614, 'theeconomist': 7615, 'dealings': 7616, 'screening': 7617, 'mouse': 7618, 'subtle': 7619, 'sikh': 7620, 'hateviolence': 7621, 'colorlines': 7622, 'incite': 7623, 'bestie': 7624, 'medals': 7625, 'shells': 7626, 'wsj': 7627, 'tunisia': 7628, 'permanently': 7629, 'twain': 7630, 'reads': 7631, 'itsjustinstuart': 7632, 'alexbelloli': 7633, 'masterchef': 7634, 'nosurrender': 7635, 'proportions': 7636, 'grimes': 7637, 'voters': 7638, 'whenever': 7639, 'byproduct': 7640, 'bubble': 7641, 'ushanka': 7642, 'fur': 7643, 'alarmed': 7644, 'harassed': 7645, 'magner': 7646, 'm151a1': 7647, 'mutt': 7648, 'm416': 7649, 'intelligence': 7650, 'contribute': 7651, 'hillaryclinton': 7652, '2012': 7653, 'teamhendrick': 7654, 'oks': 7655, 'ruling': 7656, 'sputnik': 7657, 'wider': 7658, 'militarydotcom': 7659, 'stu': 7660, 'fundraiser': 7661, 'oso': 7662, 'smug': 7663, 'iceland': 7664, 'icelandreview': 7665, 'opener': 7666, 'maker': 7667, 'delicious': 7668, 'gbbo2015': 7669, 'persecution': 7670, 'spoiled': 7671, 'raì¼l': 7672, 'condolence': 7673, 'colder': 7674, 'pointless': 7675, 'addition': 7676, 'slipping': 7677, 'hug': 7678, 'unrest': 7679, 'ay': 7680, 'savings': 7681, 'guatemala': 7682, 'alarming': 7683, 'fukushimatepco': 7684, 'thyroid': 7685, 'denial': 7686, 'unaware': 7687, 'mailonline': 7688, 'reactors': 7689, 'manual': 7690, 'secured': 7691, 'rtamerica': 7692, 'prophecy': 7693, 'jonvoyage': 7694, 'skynews': 7695, 'gymtime': 7696, 'mosquitoes': 7697, 'shorts': 7698, 'damnnnn': 7699, 'gmcr': 7700, 'dried': 7701, 'texting': 7702, '7k': 7703, 'michelebachman': 7704, 'firey': 7705, 'inferno': 7706, 'acc': 7707, 'tt': 7708, 'accustomed': 7709, 'cte': 7710, 'sis': 7711, 'renovation': 7712, 'smallbiz': 7713, 'activate': 7714, 'justifying': 7715, 'dune': 7716, 'spilled': 7717, 'crude': 7718, 'gulf': 7719, 'disclos': 7720, 'slicker': 7721, 'legio': 7722, 'sebee': 7723, 'fo': 7724, 'element': 7725, 'bills': 7726, 'sfa': 7727, 'soonpandemonium': 7728, 'tgirl': 7729, 'hillside': 7730, 'carefully': 7731, 'boring': 7732, 'faceåêphotos': 7733, 'platinum': 7734, 'douchebag': 7735, 'fairly': 7736, 'gospel': 7737, 'corn': 7738, 'montetjwitter11': 7739, 'pictured': 7740, 'dressed': 7741, 'rhymes': 7742, 'attic': 7743, 'sucking': 7744, 'worrying': 7745, 'abusing': 7746, 'policerun': 7747, 'obispo': 7748, 'billy': 7749, 'queensland': 7750, 'maid': 7751, 'holistic': 7752, 'pot': 7753, 'abc7': 7754, 'ruler': 7755, 'informant\\x89ûªs': 7756, 'dailykos': 7757, 'distributed': 7758, 'departments': 7759, 'episcopal': 7760, 'interracial': 7761, '816': 7762, 'karma': 7763, 'milwaukee': 7764, 'violation': 7765, 'amageddon': 7766, 'freespeech': 7767, 'startups': 7768, 'meowing': 7769, 'dl': 7770, 'wipp': 7771, 'zones': 7772, 'rec': 7773, 'gloucester': 7774, 'further': 7775, 'float': 7776, 'leagues': 7777, 'cards': 7778, 'react': 7779, 'njenga': 7780, 'razing': 7781, 'zippednews': 7782, 'justmarried': 7783, 'lnp': 7784, 'aisle': 7785, 'serbian': 7786, 'foods': 7787, 'clothing': 7788, 'tonyabbottmhr': 7789, 'banquet': 7790, 'feeds': 7791, 'paris': 7792, 'ypres': 7793, 'sammy': 7794, 'opera': 7795, 'dopey': 7796, '10monthold': 7797, 'coastguard': 7798, 'awaits': 7799, 'kittens': 7800, 'c4news': 7801, 'beached': 7802, 'heartwarming': 7803, 'naval': 7804, 'vessel': 7805, 'carr': 7806, 'woman\\x89ûªs': 7807, 'nan': 7808, 'fu': 7809, 'sfgate': 7810, '37yearold': 7811, 'vulcan': 7812, 'headquarters': 7813, 'careerbest': 7814, 'figures': 7815, 'soundtrack': 7816, 'shield': 7817, 'preorder': 7818, 'hired': 7819, 'incompetent': 7820, 'crowns': 7821, 'runjewels': 7822, 'discuss': 7823, 'championship': 7824, 'blutz10': 7825, 'signing': 7826, 'household': 7827, 'fame': 7828, 'suh': 7829, 'elses': 7830, 'holidays': 7831, 'intentions': 7832, 'greedy': 7833, 'vanessa': 7834, '15th': 7835, 'woodland': 7836, 'tryout': 7837, 'unconscious': 7838, 'lyrics': 7839, 'grabbed': 7840, 'pandora': 7841, 'tbh': 7842, 'theme': 7843, 'upstairs': 7844, 'chonce': 7845, 'loudest': 7846, 'brooke': 7847, 'dislike': 7848, 'fierce': 7849, 'vent': 7850, 'txt': 7851, '1d': 7852, 'encore': 7853, 'ahhhh': 7854, 'omgggg': 7855, '666': 7856, 'pillows': 7857, 'robbed': 7858, 'scare': 7859, 'win10': 7860, 'appropriation': 7861, 'looney': 7862, 'organizations': 7863, 'insight': 7864, 'summary': 7865, 'toss': 7866, 'padded': 7867, 'qty': 7868, 'kml': 7869, 'vessels': 7870, 'offshore': 7871, 'm38': 7872, 'oilandgas': 7873, 'seismicsoftware': 7874, 'sales': 7875, 'subcontractor': 7876, 'cgg': 7877, 'w\\x89û': 7878, 'oddball': 7879, 'observer': 7880, 'miyagi': 7881, 'belie': 7882, 'beneath': 7883, 'fdny': 7884, 'yonews': 7885, 'depression': 7886, 'usage': 7887, 'developed': 7888, 'jfc': 7889, 'dig': 7890, 'versus': 7891, 'payment': 7892, 'wooden': 7893, 'gander': 7894, 'exercised': 7895, 'investment': 7896, 'darkest': 7897, 'lara': 7898, 'mafia': 7899, 'bumper': 7900, 'foxysiren': 7901, 'coursing': 7902, 'weyreygidi': 7903, 'firms': 7904, 'aquarius': 7905, 'concluded': 7906, 'fevwarrior': 7907, 'attila': 7908, 'thu': 7909, 'segment': 7910, 'feature': 7911, 'diverse': 7912, 'kurd': 7913, 'um': 7914, 'postcards': 7915, 'polaroids': 7916, 'lloyd': 7917, 'brooo': 7918, 'smokes': 7919, 'selling': 7920, '1950': 7921, 'austin': 7922, 'breath': 7923, 'wsazbrittany': 7924, 'kellyannwx': 7925, 'sweater': 7926, 'freddie': 7927, '\\x89ûïmake': 7928, 'cockpit': 7929, 'mothernaturenetwork': 7930, 'lakeeffect': 7931, 'twill': 7932, 'denim': 7933, 'jackets': 7934, 'lame': 7935, 'effective': 7936, 'vortex': 7937, 'hobby': 7938, 'lobby': 7939, 'sportinggoods': 7940, 'johngreen': 7941, 'finna': 7942, 'hurting': 7943, 'skys': 7944, 'today\\x89ûªs': 7945, 'extender': 7946, 'siding': 7947, 'ofentsetsie': 7948, 'pllolz': 7949, 'veggies': 7950, '\\x89ûïstretcher': 7951, 'deck\\x89û\\x9d': 7952, 'breakdown': 7953, 'rightwaystan': 7954, 'wests': 7955, 'examiner': 7956, 'cap': 7957, 'catoinstitute': 7958, 'manifestation': 7959, 'democratic': 7960, 'msoreo': 7961, 'llll': 7962, '64': 7963, 'mercados': 7964, 'compound': 7965, 'detonates': 7966, 'taught': 7967, 'suicidebombing': 7968, 'suruì¤': 7969, 'premonitions': 7970, 'suruc': 7971, 'beit': 7972, 'aquarium': 7973, 'sailing': 7974, 'destroyer': 7975, 'crest': 7976, 'credits': 7977, 'yup': 7978, 'idol': 7979, 'dreaming': 7980, 'parental': 7981, 'offspring': 7982, 'classes': 7983, 'trading': 7984, 'gloria': 7985, 'arvindkejriwal': 7986, 'narendramodi': 7987, 'autoinsurance': 7988, 'clueless': 7989, 'bash': 7990, 'cheated': 7991, 'berlin': 7992, 'wud': 7993, 'mute': 7994, 'outcomes': 7995, 'focuses': 7996, 'ghetto': 7997, 'reunite': 7998, 'netflix': 7999, 'holed': 8000, 'glenn': 8001, 'lu': 8002, 'remembrance': 8003, 'phillips': 8004, 'explores': 8005, 'rayner': 8006, 'newsarama': 8007, 'ctd': 8008, 'suspects': 8009, 'unity': 8010, 'alliance': 8011, 'appraisal': 8012, 'pakistan\\x89ûªs': 8013, 'antiterrorism': 8014, 'mohammed': 8015, 'pulwama': 8016, 'nia': 8017, 'quizzed': 8018, 'denies': 8019, 'kasab': 8020, 'idek': 8021, 'tht': 8022, 'whoops': 8023, 'haaretz': 8024, 'stopping': 8025, 'acquire': 8026, 'newscomauhq': 8027, 'privacy': 8028, 'jihad': 8029, 'types': 8030, 'originalfunko': 8031, 'spencers': 8032, 'snipe': 8033, 'leonalewis': 8034, 'durant': 8035, 'jersey': 8036, '1040pm': 8037, 'lincoln': 8038, '1038pm': 8039, 'oklahomaok': 8040, 'cest': 8041, '68': 8042, '05th': 8043, '2029': 8044, '1145': 8045, 'showers': 8046, 'thebookclub': 8047, 'ski': 8048, 'skye': 8049, '915pm': 8050, 'eastward': 8051, 'brunette': 8052, 'spreads': 8053, 'pounding': 8054, 'villa': 8055, 'hayden': 8056, 'timesofindia': 8057, 'comfortable': 8058, 'railways': 8059, 'lewis': 8060, 'gr': 8061, 'commons': 8062, 'marriage': 8063, 'grande': 8064, 'innit': 8065, 'beautifully': 8066, 'manga': 8067, 'triangle': 8068, 'salute': 8069, 'somewhere': 8070, 'eudrylantiqua': 8071, 'holly': 8072, 'santiago': 8073, 'zarry': 8074, 'newsdict': 8075, 'panda': 8076, 'lavenderpoetrycafe': 8077, 'qz': 8078, 'hospitalized': 8079, 'eightynine': 8080, 'cannabis': 8081, 'unaddressed': 8082, 'usg': 8083, 'concussion': 8084, 'overturn': 8085, 'protesters': 8086, 'spell': 8087, 'abortions': 8088, 'hopped': 8089, 'mustve': 8090, 'strawberries': 8091, 'buffetts': 8092, 'sectors': 8093, 'danny': 8094, 'speech': 8095, 'dvbbs': 8096, 'tsunamiesh': 8097, 'esh': 8098, 'tides': 8099, 'uncertain': 8100, 'nostalgia': 8101, 'ghosts': 8102, 'beacon': 8103, 'greenlacey': 8104, '950': 8105, '1061thetwister': 8106, 'outbid': 8107, 'oneself': 8108, 'hew': 8109, 'woodchucks': 8110, 'nino': 8111, 'diesel': 8112, 'laura': 8113, 'rtcom': 8114, 'territory': 8115, 'gpm': 8116, 'bullseye': 8117, 'ferguson\\x89ûªs': 8118, 'thegame': 8119, 'newberg': 8120, 'jacque': 8121, 'betz': 8122, 'dixon': 8123, 'aladdin': 8124, 'economies': 8125, 'rich': 8126, 'soil': 8127, 'perquisite': 8128, 'diageos': 8129, 'stresses': 8130, 'livescience': 8131, 'watertown': 8132, 'bruise': 8133, 'stormchase': 8134, 'ef5': 8135, 'northland': 8136, 'battered': 8137, 'nasasolarsystem': 8138, 'traverse': 8139, 'pup': 8140, 'wth': 8141, 'flights': 8142, 'raung': 8143, 'aogashima': 8144, 'diaporama': 8145, 'sixpenceee': 8146, 'located': 8147, 'volcanoåêinåêrussia': 8148, 'utc5km': 8149, 'perspective': 8150, 'flowers': 8151, 'thuggin': 8152, 'seasonfrom': 8153, 'onshit': 8154, 'ct': 8155, 'mindset': 8156, 'irons': 8157, 'insanelimits': 8158, 'plugin': 8159, 'limits': 8160, 'dub': 8161, 'checks': 8162, 'friendly': 8163, 'esports': 8164, 'corruption': 8165, 'gal': 8166, 'splash': 8167, 'reagan': 8168, 'piss': 8169, 'thailand': 8170, 'pawsox': 8171, 'durham': 8172, 'libs': 8173, 'attending': 8174, 'fa': 8175, 'tinder': 8176, 'beast': 8177, 'institute': 8178, 'sen': 8179, 'ariaahrary': 8180, 'thetawniest': 8181, 'troubling': 8182, 'fingerrockfire': 8183, 'sheet': 8184, '2082676773': 8185, 'agencies': 8186, 'scariest': 8187, 'solitude': 8188, 'lancaster': 8189, 'easternoregon\\x89û': 8190, 'fifty': 8191, '299': 8192, 'weigh': 8193, 'upwindstorm': 8194, 'inspection': 8195, 'natures': 8196, 'bury': 8197, 'exc': 8198, 'fatally': 8199, 'wocowae': 8200, 'ushed': 8201, 'bicep': 8202, 'chesttorso': 8203, 'jonathanferrell': 8204, 'kashmir': 8205, 'selfesteem': 8206, 'wiped': 8207, 'healed': 8208, 'woodlawn': 8209, 'enemity': 8210, 'friggin': 8211, 'rams': 8212, 'buck': 8213, 'septic': 8214, 'northbound': 8215, 'sequel': 8216, 'ralph': 8217, 'nervous': 8218, 'furious': 8219, 'stare': 8220, 'audi': 8221, 'exploding': 8222, 'diva': 8223, 'myself': 8224, 'recorder': 8225, 'vista': 8226, 'afford': 8227, 'compensation': 8228, 'fifteen': 8229, 'korean': 8230, 'supplies': 8231, 'privileged': 8232, 'described': 8233, 'beloved': 8234, 'shred': 8235, 'thehill': 8236, 'conservatives': 8237, 'futuristic': 8238, 'script': 8239, 'universal': 8240, 'patent': 8241, 'pending': 8242, 'stainless': 8243, 'filed': 8244, 'saginaw': 8245, 'fave': 8246, 'norcal': 8247, 'newcastle': 8248, 'competing': 8249, '16000': 8250, 'fallout': 8251, 'asteroid': 8252, 'guidelines': 8253, 'irrelevant': 8254, 'kimery': 8255, 'syfy': 8256, 'rogan': 8257, 'hiv': 8258, 'gimme': 8259, 'reaction': 8260, 'ashens': 8261, 'erased': 8262, 'ignoring': 8263, 'reynolds': 8264, 'ups': 8265, 'leaf': 8266, 'stamford': 8267, 'appeal': 8268, 'devotion': 8269, 'golden': 8270, 'dentists': 8271, 'zealand': 8272, 'camo': 8273, 'wallet': 8274, 'nikon': 8275, 'd50': 8276, 'slr': 8277, 'twotone': 8278, 'eish': 8279, 'thugs': 8280, 'complexmag': 8281, 'shld': 8282, 'princess': 8283, 'minneapolis': 8284, 'ricky': 8285, 'originally': 8286, 'denisleary': 8287, 'trueheroes': 8288, 'shooters': 8289, '8nn': 8290, 'incl': 8291, 'development': 8292, 'melbourne': 8293, 'stepping': 8294, 'welp': 8295, 'dungeons': 8296, 'ti5': 8297, 'ure': 8298, 'vict': 8299, 'goddamn': 8300, 'minimum': 8301, 'vpzedd': 8302, 'thomasistrash': 8303, 'wp': 8304, 'wages': 8305, 'nyclass': 8306, 'wh': 8307, 'sentedcruz': 8308, 'shoreline': 8309, 'rossendale': 8310, 'hammondville': 8311, 'tribute': 8312, 'carpenter': 8313, 'twisted': 8314, 'inquiry': 8315, 'furniture': 8316, 'hilton': 8317, 'carrier': 8318, 'maru': 8319, 'ht': 8320, 'sr91': 8321, 'mustang': 8322, 'helped': 8323, 'olhead': 8324, 'php': 8325, '08': 8326, 'wrestling': 8327, '51': 8328, 'undo': 8329, 'shades': 8330, 'joenbc': 8331, 'hanging': 8332, 'scorpioncbs': 8333, 'poisoning': 8334, 'heartbroken': 8335, 'confession': 8336, 'statistics': 8337, 'fil': 8338, 'enforcement': 8339, 'candidate': 8340, 'havin': 8341, 'ashton': 8342, 'demolitiondodging': 8343, 'affordable': 8344, 'opponents': 8345, 'pumpkinmaribot': 8346, 'quivk': 8347, 'wusa9': 8348, 'educated': 8349, 'skate': 8350, 'noble': 8351, 'billdanzemop': 8352, 'famemop': 8353, 'jerusalempost': 8354, 'bitchy': 8355, 'perla': 8356, 'sauce': 8357, 'mommy': 8358, 'piggy': 8359, 'forgiveness': 8360, 'irin': 8361, 'tangles': 8362, 'reconstruction': 8363, 'reduction': 8364, 'microsoft\\x89ûªs': 8365, 'nokia': 8366, 'counties': 8367, 'leftover': 8368, 'mars': 8369, 'prevail': 8370, 'unitedstates': 8371, 'somebodys': 8372, 'macys': 8373, 'sharks': 8374, 'brake': 8375, 'emergencyresponse': 8376, 'plumber': 8377, 'peds': 8378, 'fellowship': 8379, 'intimate': 8380, 'walks': 8381, 'oaks': 8382, 'nothin': 8383, 'hardwell': 8384, 'hint': 8385, 'replied': 8386, 'straw': 8387, 'sprint': 8388, 'fracking': 8389, 'monument': 8390, 'ukrainian': 8391, 'msm': 8392, 'counts': 8393, 'noobde': 8394, 'spade': 8395, 'conquer': 8396, 'cpu': 8397, 'hallett': 8398, 'providing': 8399, 'memorialday': 8400, 'raising': 8401, 'terri': 8402, 'pin': 8403, 'unlike': 8404, 'hotchip': 8405, 'borders': 8406, 'pasco': 8407, 'ofa': 8408, 'kolkata': 8409, 'mostly': 8410, 'yellowstone': 8411, '40s': 8412, 'herald': 8413, 'calgaryweather': 8414, 'intend': 8415, 'accurate': 8416, 'nvidia': 8417, 'pipelines': 8418, 'dumped': 8419, 'rash': 8420, 'melting': 8421, 'patches': 8422, 'stagefright': 8423, 'ign': 8424, 'overpowered': 8425, 'thine': 8426, 'lasvegas': 8427, 'wdsu': 8428, 'peer': 8429, 'cardinals': 8430, 'bihar': 8431, 'newborn': 8432, 'houze': 8433, 'kermit': 8434, 'waffle': 8435, 'investors': 8436, 'meltdownshow': 8437, 'bayonet': 8438, 'regulatory': 8439, 'submarines': 8440, 'constitution': 8441, 'endurance': 8442, 'dire': 8443, 'highlight': 8444, 'zerohedge': 8445, 'ebolaåêcase': 8446, 'reform': 8447, 'maintaining': 8448, 'hindu': 8449, 'scissors': 8450, 'nairobi': 8451, 'msg': 8452, 'beings': 8453, 'gma': 8454, 'avocado': 8455, 'mature': 8456, 'tbi': 8457, 'braininjury': 8458, 'b30wu1f2': 8459, 'wishes': 8460, 'reminding': 8461, 'position': 8462, 'creepy': 8463, 'wnba': 8464, '\\x89û¢åênigeria': 8465, 'smartest': 8466, 'dannic': 8467, 'urges': 8468, 'critics': 8469, 'gymnastics': 8470, 'layers': 8471, 'devices': 8472, 'gsp': 8473, 'northeastern': 8474, 'mountain\\x89û': 8475, 'teambrianmundial': 8476, 'ncjfcj': 8477, 'edsa': 8478, 'cubao': 8479, '753': 8480, 'parson': 8481, 'parse': 8482, 'quezon': 8483, 'ketep': 8484, 'punisher': 8485, 'truely': 8486, 'ronge': 8487, 'sask': 8488, 'notified': 8489, 'pours': 8490, 'directions': 8491, 'manitou': 8492, 'fvck': 8493, 'tampabay': 8494, 'goooooooaaaaaal': 8495, 'skiing': 8496, 'looooool': 8497, 'wayi': 8498, 'cooool': 8499, 'bbcmtd': 8500, 'africanbaze': 8501, 'newsnigeria': 8502, 'phdsquares': 8503, 'epl': 8504, 'barbados': 8505, 'bridgetown': 8506, 'superintende': 8507, 'ancop': 8508, 'tita': 8509, 'pumped': 8510, 'southridgelife': 8511, 'tracklist': 8512, 'retainers': 8513, 'superintendent': 8514, 'lanford': 8515, 'deliberately': 8516, 'carolinaåêablaze': 8517, 'noches': 8518, 'elbestia': 8519, 'alexissanchez': 8520, 'teammates': 8521, 'goodnight': 8522, 'gunners': 8523, 'kurds': 8524, 'trampling': 8525, 'diyala': 8526, 'r21': 8527, 'voortrekker': 8528, 'tambo': 8529, 'lips': 8530, 'revel': 8531, 'farewell': 8532, 'gtxrwm': 8533, 'progressive': 8534, 'greetings': 8535, 'publications': 8536, 'jacinta': 8537, '2k13': 8538, 'navista7': 8539, 'tinderbox': 8540, 'clown': 8541, 'news24680': 8542, 'buff': 8543, 'nxwestmidlands': 8544, 'testicles': 8545, 'i24': 8546, 'nashvilletraffic': 8547, '8m': 8548, 'santaclara': 8549, 'bayarea': 8550, 'personalinjury': 8551, 'otleyhour': 8552, 'stlouis': 8553, 'caraccidentlawyer': 8554, 'speeding': 8555, 'tee\\x89û': 8556, 'curry': 8557, 'herman': 8558, 'stephenson': 8559, 'bigrigradio': 8560, 'ramp': 8561, 'sleepjunkies': 8562, 'pills': 8563, 'cabrillo': 8564, 'hwymagellan': 8565, 'mir': 8566, '080615': 8567, '110358': 8568, 'congestion': 8569, 'pastor': 8570, 'accidentwho': 8571, 'wished': 8572, 'spilt': 8573, 'mayonnaise': 8574, 'truckcrash': 8575, 'overturns': 8576, 'fortworth': 8577, 'crashgt': 8578, 'ashville': 8579, '752': 8580, 'i540': 8581, 'median': 8582, 'damagenhs999': 8583, 'naayf': 8584, 'chandanee': 8585, 'magu': 8586, 'conf\\x89û': 8587, '293': 8588, 'eddy': 8589, 'nh3a': 8590, 'damagewpd1600': 8591, '17th': 8592, '862015209': 8593, '2781': 8594, 'willis': 8595, 'foreman': 8596, 'aashiqui': 8597, 'anu': 8598, 'aggarwal': 8599, 'nearfatal': 8600, 'suffield': 8601, 'southaccident': 8602, 'langtree': 8603, 'rdconsider': 8604, '115': 8605, 'financially': 8606, 'hagerstown': 8607, 'your4state': 8608, 'whag': 8609, 'flowri': 8610, 'marinading': 8611, 'norwaymfa': 8612, 'bahrain': 8613, 'disciplinary': 8614, 'measuresarrestpastornganga': 8615, 'cya': 8616, 'bannister': 8617, 'schulz': 8618, 'harder': 8619, 'triumph': 8620, 'paine': 8621, 'growingupspoiled': 8622, 'pigeon': 8623, 'disclaimer': 8624, 'kjfordays': 8625, 'wisdomwed': 8626, 'bonus': 8627, 'lifehacks': 8628, 'wiedemer': 8629, 'http': 8630, 'silverwood': 8631, '\\x89ã¢': 8632, 'full\\x89ã¢': 8633, 'esquireattire': 8634, 'difficulties': 8635, 'osteen': 8636, 'praise': 8637, 'wdyouth': 8638, 'biblestudy': 8639, 'onfireanders': 8640, 'bb': 8641, 'interrupt': 8642, 'bernard': 8643, 'oyster': 8644, 'carnegie': 8645, 'cod8sandscrims': 8646, 'empirikgaming': 8647, 'codawscrims': 8648, '4tpkotc': 8649, '4tpfa': 8650, 'aftershockorg': 8651, 'component': 8652, 'crobscarla': 8653, '8015': 8654, 'alexalltimelow': 8655, 'cuties': 8656, 'osama': 8657, 'mhmmm': 8658, 'cessna': 8659, 'watchthevideo': 8660, 'wednesday\\x89û': 8661, 'mbataweel': 8662, 'binladen': 8663, 'nudes': 8664, 'mickinyman': 8665, 'theatlantic': 8666, 'unbelievably': 8667, 'aeroplane': 8668, 'freaky\\x89û': 8669, 'usama': 8670, 'ladins': 8671, 'naturally': 8672, 'carfest': 8673, '\\x89ûïairplane\\x89û\\x9d': 8674, 'nicole': 8675, 'fletcher': 8676, 'jetengine': 8677, 'turbojet': 8678, 'boing': 8679, 'g90': 8680, 'statistically': 8681, 'colombia': 8682, 'airports': 8683, 'wher': 8684, 'rodkiai': 8685, 'lorry': 8686, 'emsne\\x89û': 8687, 'aberystwythshrewsbury': 8688, 'shrews': 8689, '20skyhawkmm20': 8690, 'traplord29': 8691, 'fredosantana300': 8692, 'lilreese300': 8693, 'mosh': 8694, 'justsaying': 8695, 'randomthought': 8696, 'dna': 8697, 'tanslash': 8698, 'thenissonian': 8699, 'rejectdcartoons': 8700, 'nissan': 8701, 'ems1': 8702, 'emts': 8703, '\\x89û÷minimum': 8704, 'wage\\x89ûª': 8705, 'paramedics': 8706, 'kiwikaryn': 8707, '\\x89ûïleoblakecarter': 8708, 'hatzolah': 8709, 'lesotho': 8710, 'medic914': 8711, 'aaceorg': 8712, 'standardised': 8713, 'clinical': 8714, 'jwalk': 8715, 'trunks': 8716, 'freiza': 8717, 'cleanest': 8718, 'petebests': 8719, 'dessicated': 8720, 'kneel': 8721, 'marksmaponyane': 8722, 'heysundowns': 8723, 'celticindeed': 8724, 'improvement': 8725, 'volfan326': 8726, 'tneazzy': 8727, 'mizzou': 8728, 'muschamps': 8729, 'bama': 8730, 'mba': 8731, 'careen': 8732, 'eovm': 8733, 'acarewornheart': 8734, 'amirkingkhan': 8735, 'floydmayweather': 8736, 'suregod': 8737, 'promised': 8738, 'butthe': 8739, 'violentfeminazi': 8740, 'armenians': 8741, 'annihilate': 8742, 'minus': 8743, 'toenail': 8744, '1960s': 8745, 'oryx': 8746, 'symbol': 8747, 'peninsula': 8748, 'bucs': 8749, 'philipduncan': 8750, 'breakfastone': 8751, 'domain': 8752, 'sophistication': 8753, 'closely': 8754, 'zrnf': 8755, 'stormbeard': 8756, 'steellord': 8757, 'judas': 8758, 'priest': 8759, 'astonishing': 8760, 'fantasticfourfant4sticwhatever': 8761, 'explaining': 8762, 'evolved': 8763, 'godlike': 8764, 'cech': 8765, 'keegan': 8766, 'sirbrandonknt': 8767, 'lesnarcena': 8768, 'summerslam': 8769, 'damascus': 8770, 'grinds': 8771, '\\x89û÷alloosh': 8772, 'manure': 8773, 'thatdes': 8774, 'forthright': 8775, 'coma': 8776, 'kebabtahinipickles': 8777, 'wfries': 8778, 'happyhour': 8779, 'simmons': 8780, 'camden': 8781, 'handsome': 8782, 'juanny': 8783, 'beisbol': 8784, 'lgm': 8785, 'rvfriedmann': 8786, 'lodisilverado': 8787, 'ritzyjewels': 8788, 'evildead': 8789, 'annihilating': 8790, 'quarterstaff': 8791, 'starmade': 8792, 'stardate': 8793, 'planetary': 8794, 'kimkardashian': 8795, 'theellenshow': 8796, '54000': 8797, 'signatureschange': 8798, 'withåêannihilation': 8799, 'calfreedommom': 8800, 'steph93065': 8801, 'contributor': 8802, 'willienelson': 8803, 'misguided': 8804, 'prophets': 8805, 'imprison': 8806, 'kasich': 8807, 'barbitwins': 8808, 'helphorses': 8809, 'whippenz': 8810, 'tantonationalforest': 8811, 'rollingstones': 8812, 'singalong': 8813, 'sonofbaldwin': 8814, 'bookslast': 8815, 'checkedhe': 8816, 'fukurodani': 8817, 'bokuto': 8818, 'ppor': 8819, 'jocelyn': 8820, 'janenelson097': 8821, 'stephenscifi': 8822, 'adaptation': 8823, 'optioned': 8824, 'sciencefiction': 8825, 'internetradio': 8826, 'collegeradi\\x89û': 8827, 'honeybunzgem': 8828, 'primalkitchen': 8829, 'pullup': 8830, 'm8': 8831, 'interpretation': 8832, 'romeo': 8833, 'juliet': 8834, 'warmbodies': 8835, 'fittscott': 8836, 'vi\\x89û': 8837, 'ourmothermary': 8838, 'candylit': 8839, 'sarumi': 8840, 'zonewolf123': 8841, 'mo\\x89û': 8842, 'biblical': 8843, 'alexandrapullin': 8844, 'grizzly': 8845, 'yahootv': 8846, 'pierc': 8847, 'geekapocalypse': 8848, 'hesse': 8849, 'etcpb': 8850, 'bryansinger': 8851, 'rupaul': 8852, 'alexshipppp': 8853, 'liveaction': 8854, 'freshly': 8855, 'coiffed': 8856, 'avysss': 8857, 'russaky89': 8858, 'faction': 8859, 'katiekatcubs': 8860, 'ophiuchus2613': 8861, '1008pla\\x89û': 8862, 'hsu': 8863, 'hao': 8864, 'flawless': 8865, 'enews': 8866, 'afflecki': 8867, 'wifekids': 8868, 'eonlinechat': 8869, 'spying': 8870, 'hyiderghost2': 8871, 'rtrrtcoach': 8872, '1008planet\\x89û': 8873, 'fighterdena': 8874, 'startrek': 8875, 'tos': 8876, 'aberdeenfc': 8877, 'aberdeenfanpage': 8878, 'coefficient': 8879, 'paddytomlinson1': 8880, '20yrs': 8881, 'brucewillis': 8882, 'goof': 8883, 'guild': 8884, 'saunders': 8885, 'preppers': 8886, 'shtf': 8887, 'preppertalk': 8888, 'erker': 8889, 'eep': 8890, 'ahamedis': 8891, 'messiah': 8892, 'dajaal': 8893, 'gog': 8894, 'magog': 8895, 'patron': 8896, 'samihonkonen': 8897, 'fitba': 8898, 'cufi': 8899, 'jews': 8900, 'convert': 8901, 'preseasonworkouts': 8902, 'lee': 8903, '\\x89ûïleejasper': 8904, 'interestraterise\\x89û\\x9d': 8905, 'prove': 8906, 'begun': 8907, 'tren': 8908, 'craig': 8909, 'brics': 8910, 'goofballs': 8911, 'pd': 8912, 'thereal': 8913, 'comin': 8914, 'celtic': 8915, 'aberdeen': 8916, 'x1402': 8917, '22beyonce': 8918, '17beyonce': 8919, 'x1411': 8920, 'whitewalkers': 8921, 'intrigued': 8922, 'lzktjnox': 8923, 'hosts': 8924, 'reconnect': 8925, 'rally\\x89û': 8926, 'fanarmyfaceoff': 8927, 'x1392': 8928, 'infantry': 8929, 'lume': 8930, 'analog': 8931, 'x1441': 8932, 'drayesha4': 8933, 'indiakomuntorjawabdo': 8934, 'ki\\x89û': 8935, 'ìñ1': 8936, 'x1386': 8937, 'stony': 8938, 'felons': 8939, '72': 8940, '7beyonce': 8941, '66': 8942, '6beyonce': 8943, 'appoints': 8944, 'brig': 8945, 'gen': 8946, 'kaiser': 8947, 'mississippi': 8948, 'mrc': 8949, 'x1434': 8950, 'historicchurch': 8951, 'organized': 8952, 'relaxinpr': 8953, 'miprv': 8954, 'prayed': 8955, 'huffpostrelig': 8956, 'saynae': 8957, 'faked': 8958, 'arson\\x89û': 8959, '301dc': 8960, 'possesion': 8961, 'decriminalized': 8962, 'substance': 8963, 'forgets': 8964, 'bloorossington': 8965, 'mattress': 8966, 'northumberland': 8967, 'cbcto': 8968, 'vegan': 8969, 'govegan': 8970, 'uniteblue': 8971, 'nightbeat': 8972, '2minutemix': 8973, 'sought': 8974, '58hif': 8975, 'spotlight': 8976, 'paradise': 8977, 'wniagospel': 8978, 'melted': 8979, 'cube': 8980, 'arsonists': 8981, 'plastics': 8982, 'adelaide': 8983, 'pcaldicott7': 8984, '7newsadl': 8985, 'hotboy': 8986, 'zodiac': 8987, 'trey': 8988, 'dupree': 8989, 'sparkz': 8990, 'beatz': 8991, 'sanfrancisco': 8992, 'doofus': 8993, 'jokin': 8994, 'slimebeast': 8995, 'bestcomedyvine': 8996, 'mink': 8997, 'earl': 8998, 'inviting': 8999, 'vigilent': 9000, 'liberties': 9001, 'nativehuman': 9002, 'myreligion': 9003, 'pfannebeckers': 9004, 'rediscover': 9005, 'fantabulous': 9006, 'copies': 9007, 'dattomm': 9008, '4head': 9009, 'liveleak': 9010, '\\x89ûª93': 9011, 'yeda': 9012, 'etribune': 9013, '4suspected': 9014, 'waziristan': 9015, 'acebreakingnews': 9016, 'livemint': 9017, 'allthenews': 9018, 'darkreading': 9019, 'smb': 9020, 'relay': 9021, 'steals': 9022, 'credentials': 9023, 'handside': 9024, 'notleys': 9025, 'tactful': 9026, 'direct': 9027, 'harpers': 9028, 'albertas': 9029, 'ableg': 9030, 'assailant': 9031, 'caixxum5sos': 9032, 'shud': 9033, 'pakthey': 9034, 'attackshare': 9035, 'contries': 9036, 'obamadhs': 9037, 'offenses': 9038, 'ary': 9039, 'cowardly': 9040, 'mentality': 9041, 'blazerfan': 9042, 'ignoranceshe': 9043, 'latinoand': 9044, 'benothing': 9045, 'morebut': 9046, 'secondhand': 9047, 'daytonarea': 9048, 'vita': 9049, 'infowars': 9050, 'pugprobs': 9051, 'frail': 9052, 'messeymetoo': 9053, 'cis': 9054, 'offended': 9055, 'transgendered': 9056, 'exercises': 9057, 'imprisoning': 9058, 'telnet': 9059, '1241317240': 9060, 'streamyxhomesouthern': 9061, 'kane': 9062, 'rivals': 9063, 'loosers': 9064, 'empathy': 9065, 'kelly': 9066, 'osbourne': 9067, 'remark': 9068, 'latinos': 9069, 'eunicenjoki': 9070, 'aiii': 9071, 'calmly': 9072, '6615434': 9073, 'christinalavv': 9074, 'lindsaywynn3': 9075, 'mageavexis': 9076, 'welovela': 9077, 'nhlducks': 9078, 'sportsroadhouse': 9079, 'reebok': 9080, 'rowaa': 9081, 'greatly': 9082, 'roy': 9083, '199899': 9084, 'spx': 9085, '171': 9086, 'finite': 9087, 'mint': 9088, 'akito': 9089, 'frothy': 9090, 'gyp': 9091, 'weddinghour': 9092, '929': 9093, 'scotiabank': 9094, 'saddledome': 9095, 'catechize': 9096, 'confidential': 9097, 'respects': 9098, 'ordained': 9099, 'spurgeon': 9100, 'punk': 9101, 'ghostoftheav': 9102, 'montroseband': 9103, 'fuelgas': 9104, 'tahoeblazeravalanches10': 9105, '\\x89û÷avalanche\\x89ûª': 9106, 'ltz': 9107, 'chiasson': 9108, 'emile': 9109, 'hirsch': 9110, 'qampa': 9111, 'filmmakers': 9112, 'entretenimento': 9113, 'neal': 9114, 'rigga': 9115, 'bigperm28': 9116, 'drafted': 9117, '124': 9118, 'utahgrizz': 9119, 'funkflex': 9120, 'flex': 9121, 'awake': 9122, 'kallemattsons': 9123, 'nowplay': 9124, 'snowflake': 9125, 'colonel': 9126, 'rottentomatoes': 9127, 'arti': 9128, 'kaboom': 9129, '4kus': 9130, '15moferadio': 9131, 'heavybag201': 9132, 'battledom': 9133, 'qotring': 9134, 'battlerapchris': 9135, 'hughes1128': 9136, 'baaaack': 9137, 'petersens': 9138, 'bowhunting': 9139, 'bows': 9140, 'kelby': 9141, 'tomlinson': 9142, 'mildmannered': 9143, 'baseman': 9144, 'metropolitan': 9145, 'rbi': 9146, 'sfgiants': 9147, 'm27329': 9148, '1236': 9149, 'eytay': 9150, 'neur0sis': 9151, 'animations': 9152, 'du19': 9153, 'phantasmal': 9154, 'cummerbund': 9155, 'stormtrooper': 9156, 'engaged': 9157, 'somme': 9158, 'ìñ': 9159, 'utahcanary': 9160, 'sigh': 9161, 'sexydragonmagic': 9162, 'realization': 9163, 'span': 9164, 'detroitpls': 9165, '4103': 9166, 'buseys': 9167, 'fiddle': 9168, 'celebration': 9169, 'sequence': 9170, 'busines': 9171, 'aphl': 9172, 'åêfedex': 9173, 'atlbizchron': 9174, 'subcommittee': 9175, '728': 9176, 'oversight': 9177, 'htt\\x89û': 9178, 'alisonannyoung': 9179, 'hmmthis': 9180, 'microbes': 9181, 'orchardalley': 9182, 'repression': 9183, 'abcnorio': 9184, 'biz': 9185, 'bioter\\x89û': 9186, 'trucking': 9187, 'wxiatv': 9188, 'dumbfounded': 9189, 'fema': 9190, 'lithium': 9191, 'firepower': 9192, 'resource': 9193, 'diseases': 9194, 'cagov': 9195, 'hersvp': 9196, 'darrellissa': 9197, 'pox': 9198, 'infectiousdiseases': 9199, 'superbug': 9200, 'biolabs': 9201, 'epidemics': 9202, 'biosurveillance': 9203, 'outbreaks': 9204, 'creation': 9205, 'workforce': 9206, 'inequality': 9207, 'horowitz': 9208, 'vaccines': 9209, 'omagazine': 9210, 'satans': 9211, '50ft': 9212, 'drrichardbesser': 9213, '8892': 9214, 'dispersed': 9215, 'participate': 9216, 'simulating': 9217, 'hvnewsnetwork': 9218, 'meyerbjoern': 9219, 'thelonevirologi': 9220, 'mackayim': 9221, 'newspaper': 9222, '2n': 9223, 'organisms': 9224, 'hhs': 9225, 'selects': 9226, 'stationcdrkelly': 9227, 'sys': 9228, 'clergyforced': 9229, 'youngerampgrossly': 9230, 'disfigured': 9231, 'bioterrorismap': 9232, '70amp': 9233, 'mysteries': 9234, 'sexuality': 9235, 'diagnosis': 9236, 'digitalhealth': 9237, 'hcsm': 9238, 'aphiabeta1907': 9239, 'wugliness': 9240, 'uglyamesocialaction': 9241, 'frats': 9242, 'bioterrorismim': 9243, 'tolewantg': 9244, 'homeabc': 9245, 'howardu': 9246, 'cspanwj': 9247, 'onufrance': 9248, '7475': 9249, 'rockefellerchirockefellerunivheiress': 9250, 'evade': 9251, 'lgl': 9252, 'prosecute': 9253, 'blks': 9254, 'kidnapgafp': 9255, 'agreements': 9256, 'allay': 9257, 'glanders': 9258, 'equestrian': 9259, 'horsetalknz': 9260, 'kaotixblaze': 9261, 'raisinfingers': 9262, 'hammond': 9263, 'listing': 9264, 'amazin': 9265, 'dedication': 9266, 'shayoly': 9267, 'virtual': 9268, 'listings': 9269, '547': 9270, 'dorrie': 9271, 'caruana': 9272, 'horno': 9273, 'djryanwolf': 9274, 'djcoreygrand': 9275, 'djknyce': 9276, 'djoneplustwo': 9277, 'officialcoredjs': 9278, 'iamtonyneal': 9279, 'bellalinn': 9280, 'alrighty': 9281, 'slave': 9282, 'fade': 9283, 'condo': 9284, 'audacityjamesta': 9285, 'lan': 9286, 'iamrrsb': 9287, 'skywars': 9288, 'flechadas': 9289, 'sinistras': 9290, 'agochicago': 9291, 'interrogation': 9292, 'pizzas': 9293, 'thisispublichealth': 9294, 'jackass': 9295, 'stuffin': 9296, 'beautifuljuic1': 9297, 'babysweet420': 9298, '420': 9299, 'guiltygearxxacp': 9300, 'personalize': 9301, 'customer': 9302, 'djjohnblaze': 9303, 'sothwest': 9304, 'beginnings': 9305, 'christycroley': 9306, 'vela': 9307, 'uabstephenlong': 9308, 'courtlizcamp': 9309, 'goin': 9310, 'itzsteven': 9311, 'xdojjjj': 9312, 'whopperjr760': 9313, 'bedrooms': 9314, 'baths': 9315, 'acee': 9316, 'daem': 9317, 'artisteoftheweekfact': 9318, 'coast2coastdjs': 9319, 'crystalblaz': 9320, 'jiwonle': 9321, 'clubbanger': 9322, 'weatherstay': 9323, 'stds': 9324, 'slogan': 9325, 'danryckert': 9326, 'drewscanlon': 9327, 'stealth': 9328, 'm4': 9329, 'pacquiao': 9330, 'marquez': 9331, 'unfilled': 9332, 'durvod': 9333, 'radios': 9334, 'stoponesounds': 9335, 'airwaves': 9336, '1079': 9337, 'stickynyc': 9338, '95roots': 9339, 'baseballquotes1': 9340, 'inch': 9341, 'dynasty': 9342, 'hinatobot': 9343, 'blazingben': 9344, 'pattyds50': 9345, 'gwfrazee': 9346, 'joshuaassaraf': 9347, 'shouout': 9348, 'kasad1lla': 9349, 'vocals': 9350, 'harmony': 9351, 'omgbethersss': 9352, 'bethanymota': 9353, 'dmac1043': 9354, 'reddish': 9355, 'colored': 9356, 'dummies': 9357, 'pronouncing': 9358, 'midday': 9359, 'not\\x89û': 9360, 'bekahw': 9361, 'acousticmaloley': 9362, 'officialtjonez': 9363, 'escorts': 9364, 'gfe': 9365, 'dubai': 9366, 'srajapakse': 9367, 'missy': 9368, 'suited': 9369, 'yeehaw': 9370, 'asukager': 9371, 'magical': 9372, 'elwoods': 9373, 'blazingelwoods': 9374, 'dougs': 9375, '1921': 9376, 'satin': 9377, '100mb': 9378, 'tecno': 9379, 'q1': 9380, 'ime': 9381, 'funkylilshack': 9382, 'mariaf30': 9383, 'slapping': 9384, 'showdown': 9385, 'edwelchmusic': 9386, 'unpacked': 9387, 'archetype': 9388, 'wellgrounded': 9389, 'readiness': 9390, 'fpoj': 9391, 'nugget': 9392, 'slit': 9393, 'apologize': 9394, 'landolina': 9395, 'realestate': 9396, 'typewriter': 9397, 'gunk': 9398, 'jaydennotjared': 9399, 'hugs': 9400, 'takis': 9401, 'rubbing': 9402, 'darrylb1979': 9403, 'thatnot': 9404, '2017': 9405, '2019': 9406, 'coreyashe': 9407, 'kingnaruto': 9408, 'madara': 9409, 'sedar': 9410, 'waited': 9411, 'cams': 9412, 'uptownjorge': 9413, 'jannet2208': 9414, 'katramsland': 9415, 'deadpool': 9416, 'beckyfeigin': 9417, 'defs': 9418, 'sodamntrue': 9419, 'chaosmagician97': 9420, 'burberryant': 9421, 'tammyw1997': 9422, 'elijahmallari': 9423, 'coloiccarnality': 9424, 'instincts': 9425, 'scratches': 9426, 'stefano': 9427, 'benjm1': 9428, 'tourofutah': 9429, 'b1grego': 9430, 'rave': 9431, 'damnaarielle': 9432, 'mfalcon21': 9433, 'instagrams': 9434, 'b24fowler': 9435, 'usagi': 9436, 'airhead': 9437, 'misstep': 9438, 'benkin97': 9439, 'mili5499': 9440, 'receipts': 9441, 'hopeinhearts': 9442, 'encouraging': 9443, 'hw18': 9444, '90100': 9445, '2fast2furious': 9446, 'catfishmtv': 9447, 'morty': 9448, 'codythompson25': 9449, 'onlyftf': 9450, 'tusky': 9451, 'robsimss': 9452, 'cantmisskid': 9453, 'rq': 9454, 'anakin': 9455, 'wbc2015': 9456, 'iphooey': 9457, 'bachmann': 9458, 'wron': 9459, 'whistled': 9460, 'imawesome7986': 9461, 'freyas': 9462, 'yahooschwab': 9463, 'fiascothat': 9464, 'shoppe': 9465, 'elxn42': 9466, 'stopharper': 9467, 'fireball': 9468, 'weloverobdyrdek': 9469, 'adrianpeel': 9470, 'daorcey': 9471, 'nsit': 9472, 'graywardens': 9473, 'damidnighter': 9474, 'athletics': 9475, 'doping': 9476, 'monetary': 9477, 'kynespeace': 9478, 'realhotcullen': 9479, 'lyrium': 9480, 'spongea': 9481, 'prysmian': 9482, 'secures': 9483, 'toddcalfee': 9484, 'mattburgener': 9485, 'everest': 9486, 'cobes': 9487, 'whitt': 9488, 'frost': 9489, 'godly': 9490, 'greenspace': 9491, 'development\\x89û': 9492, 'demetae12': 9493, 'planing': 9494, 'constellation': 9495, 'gaia': 9496, 'iclowns': 9497, 'drumstep': 9498, '2iclown': 9499, 'achieve': 9500, 'excellence': 9501, 'habit': 9502, 'hendy21': 9503, 'purdies': 9504, 'tracy': 9505, 'apperception': 9506, 'bridgework': 9507, 'xxhjesc': 9508, 'dotish': 9509, 'revolutionblight': 9510, 'acebabes': 9511, 'healthweekly1': 9512, 'amateurnester': 9513, 'uncover': 9514, 'slumber': 9515, 'willhillbet': 9516, 'parksboardfacts': 9517, 'zippoline': 9518, 'moveit': 9519, 'cle': 9520, 'cuyahoga': 9521, 'greening': 9522, 'taint': 9523, 'jackman': 9524, 'downgraded': 9525, 'locksmithingart': 9526, 'respecting': 9527, 'elaboration': 9528, 'lpdkl': 9529, 'jakeblight': 9530, 'wealilknowa': 9531, 'cunt': 9532, 'ranked': 9533, 'te\\x89û': 9534, 'kamon': 9535, 'stevenontwatter': 9536, 'pussyxdestroyer': 9537, 'flavored': 9538, 'auz': 9539, 'cst': 9540, 'radioriffrocks': 9541, 'hump': 9542, 'msmiggi': 9543, 'presentation': 9544, 'tweet4taiji': 9545, 'worship': 9546, 'superstitions': 9547, 'blizzardfans': 9548, 'lucio': 9549, 'overwatch': 9550, 'blizzardgamin': 9551, 'cookie': 9552, 'dough': 9553, 'expansion': 9554, 'bard': 9555, 'daborsch': 9556, 'lured': 9557, 'fanbase': 9558, 'wizard': 9559, 'lwb': 9560, 'fairx818x': 9561, 'playoverwatch': 9562, 'bubblycuteone': 9563, 'okayyyyyy': 9564, 'tora': 9565, 'tcgreno': 9566, 'reset': 9567, 'batter': 9568, 'activision': 9569, 'cognizant': 9570, 'sg': 9571, 'chiefcg': 9572, 'invincible': 9573, 'nailreal': 9574, '290': 9575, 'reviewers': 9576, 'boxset': 9577, 'lindsay': 9578, 'buroker': 9579, 'gastric': 9580, 'carcinoma': 9581, 'bookanother': 9582, 'gene': 9583, 'beside': 9584, 'dialyses': 9585, 'setzorah': 9586, 'omron': 9587, 'hem712c': 9588, 'chamberedblood': 9589, 'speakingfromexperience': 9590, 'decisionsondecisions': 9591, 'imouto': 9592, 'ugliest': 9593, 'tight': 9594, 'dangerousbeans': 9595, 'scotto519': 9596, 'shii': 9597, 'intended': 9598, 'hastle': 9599, 'filling': 9600, 'sbee': 9601, 'gypsy': 9602, 'loboparanoico': 9603, 'nightsad': 9604, 'rockn': 9605, 'rolandonabeats': 9606, 'ellie': 9607, 'goulding': 9608, 'acesse': 9609, 'nosso': 9610, 'para': 9611, 'ouvir': 9612, 'olrules': 9613, 'anthxvy': 9614, 'sethalphaeus': 9615, 'paramore': 9616, 'muse': 9617, 'polluted': 9618, '10638': 9619, 'pone': 9620, 'cantar': 9621, 'everwhe': 9622, 'blood\\x89û': 9623, 'looooooooooool': 9624, 'infected': 9625, 'piercings': 9626, 'aggressif': 9627, 'butterlondon': 9628, 'crayons': 9629, 'beram0s': 9630, 'bbloggers': 9631, 'slsandpet': 9632, 'emailed': 9633, 'awol': 9634, 'argh': 9635, 'resigninshame': 9636, 'lauradeholanda': 9637, 'forrest': 9638, 'remade': 9639, 'king\\x89ûªs': 9640, '\\x89û÷the': 9641, 'tower\\x89ûª': 9642, 'stephenking': 9643, 'thedarktower': 9644, 'tradcatknight': 9645, 'okanowa': 9646, 'mainline': 9647, 'grrrr': 9648, 'zhenghxn': 9649, 'akame': 9650, 'ghoul': 9651, 'fantosex': 9652, 'suck': 9653, 'summers': 9654, 'vaca': 9655, 'mrtophypup': 9656, 'drools': 9657, 'acne': 9658, 'mayweathers': 9659, 'a3': 9660, 'oils': 9661, 'itsmegss': 9662, 'barking': 9663, 'cleav': 9664, 'expose': 9665, 'cleavage': 9666, 'mariasherwood2': 9667, 'johnjcampbell': 9668, 'beet': 9669, 'melrises': 9670, 'gayler1969': 9671, 'wwwbigbaldhead': 9672, 'jessienojoke': 9673, 'melissaross9847': 9674, 'monty': 9675, 'python': 9676, 'rs5': 9677, 'zzzz': 9678, 'chxrmingprince': 9679, 'jonesluna': 9680, 'folding': 9681, 'reafs': 9682, 'indiansfor': 9683, 'smirking': 9684, 'remorseless': 9685, 'boasting': 9686, 's01e09': 9687, 'bloodymonday': 9688, 'tvshowtime': 9689, 'elvis': 9690, 'presley': 9691, 'panther': 9692, 'shopping': 9693, 'ezralevant': 9694, 'papcrdoll': 9695, 'deactivate': 9696, 'emilymcfcheslop': 9697, 'pilloried': 9698, 'greinke': 9699, 'marge': 9700, 'eheks': 9701, 'troylercraft': 9702, 'spammers': 9703, 'supposedly': 9704, 'representing': 9705, 'cgi': 9706, 'machinegunkelly': 9707, 'underground': 9708, 'thisdayinhistory': 9709, '1862': 9710, 'uhc': 9711, 'creeper': 9712, 'libraryeliza': 9713, 'musicadvisory': 9714, 'truckload': 9715, 'panics': 9716, 'kashs': 9717, 'foundation': 9718, 'magazines': 9719, 'kaylak369': 9720, 'we\\x89ûªre': 9721, 'we\\x89ûªve': 9722, 'theboyofmasks': 9723, 'manor': 9724, 'loner': 9725, 'diaries': 9726, 'choked': 9727, 'bsg': 9728, 'sufficiently': 9729, 'hyped': 9730, 'vanessas': 9731, 'gentlementhe': 9732, 'bitten': 9733, 'tozlet': 9734, 'leprosy': 9735, 'fullblown': 9736, 'jerkface': 9737, 'lateral': 9738, 'lisp': 9739, 'rickets': 9740, 'kalinandmyles': 9741, 'kalinwhite': 9742, 'givebackkalinwhiteaccount': 9743, 'lukewinkie': 9744, 'directing': 9745, 'recognition': 9746, 'princessduck': 9747, 'orbette': 9748, 'dog\\x89ûªs': 9749, 'kennel': 9750, 'yorkshire': 9751, 'espn2': 9752, 'hopefulbatgirl': 9753, 'beaten': 9754, 'ra': 9755, 'ghul': 9756, 'thebriankrause': 9757, 'leos': 9758, 'metaphorically': 9759, 'piperwearsthepants': 9760, 'charmed': 9761, 'anarchicteapot': 9762, 'boironusa': 9763, 'zeno001': 9764, 'glononium': 9765, '6c': 9766, 'bashing': 9767, 'nitroglycerin': 9768, 'questergirl': 9769, 'ditto': 9770, 'drank': 9771, 'vodka': 9772, 'mulberry': 9773, 'antony': 9774, 'å£27900end': 9775, 'cultsierre': 9776, 'ameribag': 9777, 'khaki': 9778, 'beige': 9779, 'cosmetic': 9780, 'periwinkle': 9781, 'piping': 9782, 'å¤': 9783, 'trjdavis': 9784, 'longaberger': 9785, 'floral': 9786, 'strap': 9787, 'ìü': 9788, 'zipped': 9789, 'pochette': 9790, 'bosphore': 9791, 'bag\\x89û': 9792, '9973': 9793, '1699': 9794, 'bids': 9795, 'nuu': 9796, 'fwt': 9797, 'rhee1975': 9798, 'deliciousvomit': 9799, 'mattbez': 9800, 'ohmyloz': 9801, 'fuckyeahcarey': 9802, 'bornverified': 9803, 'trollingtilmeekdiss': 9804, 'broseidonrex': 9805, 'dapurplesharpie': 9806, 'skimmed': 9807, 'lyrically': 9808, 'bomairinge': 9809, 'elutranscendent': 9810, 'friendships': 9811, 'mopheme': 9812, 'bigstar': 9813, 'vuzuhustle': 9814, 'today4got': 9815, 'editaxohaze': 9816, 'ziphimup': 9817, 'amaramin3': 9818, 'br': 9819, 'mycareer': 9820, 'ep18': 9821, 'tyrone': 9822, 'sensitive': 9823, 'hush': 9824, 'hushhes': 9825, 'mzgraciebaby': 9826, 'jumpin': 9827, 'officialrealrap': 9828, 'bagged': 9829, 'dlac': 9830, 'im2ad': 9831, '\\x89ûïmacdaddyleo': 9832, 'caption': 9833, 'aubrey': 9834, 'groceries': 9835, 'aching': 9836, 'slikrickdarula': 9837, 'jengriffinfnc': 9838, 'arrival': 9839, 'bowknot': 9840, 'womengirls': 9841, 'zip': 9842, 'convertible': 9843, '23800': 9844, 'pvc': 9845, 'dawson': 9846, 'es\\x89û': 9847, '9800': 9848, 'boomerangtime': 9849, 'rskarim1': 9850, 'sopameer': 9851, 'wattashit3': 9852, 'ridah': 9853, '08072015': 9854, '0730': 9855, 'tremont': 9856, 'chips': 9857, 'redbull': 9858, 'snack': 9859, 'rchs': 9860, 'coffins': 9861, 'rooms': 9862, 'tommorow': 9863, 'messengers': 9864, 'deeeznvtzzz': 9865, '\\x89û÷institute': 9866, 'peace\\x89ûª': 9867, 'administrative': 9868, 'baskgod': 9869, 'laterim': 9870, 'moving2k15': 9871, 'expertwhiner': 9872, 'shop\\x89ûªs': 9873, 'cutekitten': 9874, 'catsofinstagram': 9875, 'summerinsweden': 9876, 'katt': 9877, 'katterpì´instagram': 9878, 'dumle': 9879, 'dagens\\x89û': 9880, 'lattice': 9881, 'studded': 9882, 'takin': 9883, '\\x89ûïparties': 9884, 'driving\\x89û\\x9d': 9885, 'limpar33': 9886, 'sweeping': 9887, 'gasparc\\x89û': 9888, 'designer': 9889, 'qualit': 9890, 'asymbina': 9891, 'tithenai': 9892, 'hampered': 9893, 'liking': 9894, 'ella': 9895, 'vickers': 9896, 'washable': 9897, 'zicac': 9898, 'briefcase': 9899, '\\x89û÷body': 9900, 'bags\\x89ûª': 9901, 'zipper': 9902, 'norge2040': 9903, 'derivatives': 9904, 'quadrillion': 9905, 'v\\x89û': 9906, 'theaf': 9907, 'firework': 9908, 'namjoons': 9909, 'halsey': 9910, 'troye': 9911, 'aaronthefm': 9912, 'cranboonitz': 9913, 'hereticofethics': 9914, '\\x89ûïdylanmcclure55': 9915, 'zumiez': 9916, 'jen': 9917, 'daniglasgow45': 9918, 'smallforestelf': 9919, 'umm': 9920, 'danielsahyounie': 9921, 'itd': 9922, 'enolagay': 9923, 'disarmed': 9924, 'dopeitsval': 9925, 'praiz8': 9926, 'fragrance': 9927, 'bathe': 9928, 'carajdeievingnc': 9929, 'js': 9930, 'swellyjetevo': 9931, 'disneyland': 9932, 'flavafraz21': 9933, 'whatcanthedo': 9934, '70year': 9935, 'appropriate': 9936, 'jamaicans': 9937, 'okinawan': 9938, 'lyrical': 9939, 'vocalist': 9940, 'themalemadonna': 9941, 'melanie': 9942, 'fiona': 9943, 'ehutch': 9944, 'rocking': 9945, 'joeybats19': 9946, 'rogers': 9947, 'moseby': 9948, 'barfield': 9949, 'stankyboy88': 9950, 'sweetiebirks': 9951, 'mirrorlady2': 9952, 'slatukip': 9953, 'invadedbombed': 9954, 'aside': 9955, 'bombedout': 9956, 'myfriendmina': 9957, 'targe': 9958, 'elephantintheroom': 9959, 'dramatically': 9960, 'abombed': 9961, 'therein': 9962, 'zergele': 9963, 'qendil': 9964, 'nicklee8': 9965, 'london3': 9966, 'loo': 9967, 'qpr1980': 9968, 'rorington95': 9969, 'nowt': 9970, 'fergie': 9971, 'drinkers': 9972, 'wenger': 9973, '1800': 9974, 'oooureli': 9975, 'tolerance': 9976, 'mutilated': 9977, 'brodyfrieling': 9978, 'hannabrooksie': 9979, 'shadowflame': 9980, 'wraith': 9981, 'invaded': 9982, 'pearl': 9983, 'preemptive': 9984, 'cheetosarabia': 9985, 'crudes': 9986, 'cheetos': 9987, 'christopherszen': 9988, 'hunterlove1995': 9989, 'tblack': 9990, 'raniakhalek': 9991, 'falphil': 9992, 'sexist': 9993, 'bannukes': 9994, 'rlauren83199': 9995, 'xojademarie124': 9996, 'batista': 9997, 'vagersedolla': 9998, 'antpips67': 9999, 'bellybombed': 10000, 'lax': 10001, 'benedict': 10002, 'cumberbatch': 10003, '120000': 10004, 'africansinsf': 10005, 'beyondgps': 10006, 'floatin': 10007, 'wasp': 10008, 'misfitrarity': 10009, 'misfit': 10010, 'voltaire': 10011, 'humbled': 10012, 'moscowghost': 10013, 'sayedridha': 10014, 'aminakh': 10015, 'besieged': 10016, 'banthebomb': 10017, 'setting4success': 10018, 'smallbusiness': 10019, 'pearlharbor': 10020, 'rinkydnk2': 10021, 'zaibatsunews': 10022, 'neoprogressive1': 10023, 'push2left': 10024, 'talkecologyamphuman': 10025, 'rtsampdemocracy': 10026, 'afghetcleft': 10027, 'humanitarian': 10028, 'hindustan': 10029, 'kinder': 10030, '70\\x89û': 10031, 'sanjaynirupam': 10032, 'sureshprabhu': 10033, 'sioux': 10034, 'siouxland': 10035, 'siouxlan': 10036, 'kansas': 10037, 'hyatt': 10038, 'aias': 10039, 'cote': 10040, 'huffpostarts': 10041, 'englands': 10042, '90s': 10043, 'jewishpress': 10044, 'mpp': 10045, 'lambasts': 10046, 'kanglaonline': 10047, 'bloopandablast': 10048, 'latino': 10049, 'traintragedy': 10050, 'blowers': 10051, 'tuffers': 10052, 'bbctms': 10053, 'slingnews': 10054, 'followlasg': 10055, 'killsåêone': 10056, 'restoring': 10057, 'alphen': 10058, 'aan': 10059, 'den': 10060, 'rijn': 10061, 'leicestermerc': 10062, 'upgrade': 10063, 'sureshpprabhu': 10064, 'sonofliberty357': 10065, 'illuminated': 10066, 'brightly': 10067, 'gemini': 10068, 'dougmartin17': 10069, 'doug': 10070, 'whatevs': 10071, '7000': 10072, 'tattoos': 10073, 'skip': 10074, '1acd4900c1424d1': 10075, 'joshcorman': 10076, 'kellys': 10077, 'doctorfluxx': 10078, 'stefanejones': 10079, 'spinnellii': 10080, 'themermacorn': 10081, 'embarrassing': 10082, 'bradford': 10083, 'weep': 10084, 'epcotexplorer': 10085, 'ransacked': 10086, 'awesomeeeeeeee': 10087, 'zourryart': 10088, 'tonne': 10089, 'mat': 10090, 'ppfa': 10091, 'mikecroninwmur': 10092, 'xela': 10093, 'dcfd': 10094, 'chr3lyc': 10095, 'iaff36': 10096, 'croydon': 10097, 'crowds': 10098, 'reeves': 10099, 'croydonization': 10100, 'greenbuildermag': 10101, 'nfpa': 10102, '819': 10103, 'firewise': 10104, 'michelenfpa': 10105, 'thestrain': 10106, 'booty': 10107, 'shevlinhixon': 10108, 'gansey': 10109, 'routes': 10110, 'newyork\\x89û': 10111, 'langata': 10112, '222pm': 10113, 'shootings': 10114, 'baffles': 10115, 'meis': 10116, 'prohibits': 10117, 'decks': 10118, 'highrise': 10119, 'displaces': 10120, 'ppsellsbabyparts': 10121, 'bbcintroducing': 10122, 'purpleturtlerdg': 10123, 'giantgiantsound': 10124, 'rdg': 10125, 'nh1news': 10126, 'bigsim50': 10127, 'pundits': 10128, 'mafireems': 10129, 'kcarosawmur': 10130, 'wsls': 10131, 'childcare': 10132, 'jennasjems': 10133, 'patrickwsls': 10134, 'charred': 10135, 'rips': 10136, 'neighboring': 10137, 'treblinka': 10138, 'rebelled': 10139, 'seizing': 10140, 'mht': 10141, 'okcfox': 10142, 'straighten': 10143, 'temecula': 10144, 'sigmund': 10145, 'freud': 10146, 'hgf52611': 10147, 'robbie': 10148, 'redsox': 10149, 'wildlionx3': 10150, 'flushes': 10151, 'lining': 10152, 'mizuta': 10153, 'calorie': 10154, 'klondike': 10155, 'alton': 10156, 'livestream': 10157, 'nut': 10158, 'couches': 10159, 'runkeeper': 10160, 'stevie': 10161, 'photoop': 10162, '129': 10163, 'flame': 10164, 'tounge': 10165, 'pepperoni': 10166, 'weights': 10167, 'qvc': 10168, 'coolest': 10169, '202': 10170, 'rl': 10171, 'kennethbauer': 10172, 'noodles': 10173, 'sandwich': 10174, 'joked': 10175, 'innings': 10176, 'cubstalk': 10177, '14028': 10178, 'thomasvissman22': 10179, 'keithyyl': 10180, 'keithyy': 10181, 'oven': 10182, 'allpro': 10183, 'microwave': 10184, 'intead': 10185, 'landowner': 10186, '10\\x89û': 10187, 'cocoa': 10188, 'sip': 10189, 'awesomesauce': 10190, 'mandem': 10191, 'totteham': 10192, 'maddddd': 10193, 'ting': 10194, 'aubilenon': 10195, 'markkriegsman': 10196, '8minute': 10197, 'routine': 10198, 'weightless': 10199, 'burnfat': 10200, 'bulletproof': 10201, 'funeral': 10202, 'stacdemon': 10203, 'mullin': 10204, 'john\\x89ûªs': 10205, 'sjubb': 10206, 'johnsontionne': 10207, 'kanger': 10208, 'coils': 10209, 'rvaping101': 10210, 'huffpostcomedy': 10211, 'steep': 10212, 'terrain': 10213, 'mountains\\x89û': 10214, 'neon': 10215, 'modest': 10216, 'sniff': 10217, 'sniiiiiiff': 10218, 'donny': 10219, 'integrates': 10220, 'format': 10221, 'techniqu': 10222, 'lou': 10223, 'holtz': 10224, 'uhhhhh': 10225, 'crusade': 10226, 'web': 10227, 'nagelashley': 10228, 'vicken52': 10229, 'basedlarock': 10230, 'goonc1ty': 10231, 'rubi': 10232, 'stacks': 10233, 'alexandrian': 10234, 'reporters': 10235, 'influencers': 10236, 'socialtimes': 10237, 'minsuwoongs': 10238, 'ika': 10239, 'recip': 10240, 'lighter': 10241, 'demonstrations': 10242, 'strutting': 10243, 'bg': 10244, 'foxnewsvideo': 10245, 'aiiamericangiri': 10246, 'anhqdc': 10247, 'duckvillelol': 10248, 'flips': 10249, 'grabs': 10250, 'be4': 10251, 'delanys': 10252, 'dhalgren': 10253, 'beastly': 10254, 'downing': 10255, 'mofanon': 10256, 'monsters': 10257, 'ali': 10258, 'booradleyvancullen': 10259, 'pouring': 10260, 'storen': 10261, 'curing': 10262, 'disrespect': 10263, 'meteors': 10264, 'phalaborwa': 10265, 'flamethrower': 10266, 'rendered': 10267, 'kshllcenterpri1': 10268, 'progress4ohio': 10269, 'churches': 10270, 'understood': 10271, 'thoroughly': 10272, 'brutality': 10273, 'nvr': 10274, 'streetlight': 10275, 'spouting': 10276, 'marcoarment': 10277, 'slashandburn': 10278, 'doricreates': 10279, 'alhanda': 10280, 'moonbeam': 10281, 'tokes': 10282, 'appreciativeinquiry': 10283, 'sunbathe': 10284, 'californian': 10285, 'oct': 10286, '1895': 10287, 'dacherryontop13': 10288, 'scaryeven': 10289, 'scarier': 10290, 'johnfromcranber': 10291, 'pleas': 10292, 'wolter': 10293, 'peeters': 10294, 'rural': 10295, 'la\\x89û': 10296, 'oblivious': 10297, 'govts': 10298, 'triumphant': 10299, 'yolk': 10300, 'ieee': 10301, 'spectrum': 10302, 'attackclose': 10303, 'libertarianluke': 10304, 'rampage': 10305, 'recordhigh': 10306, 'bottling': 10307, 'orchestrated': 10308, 'disinfo': 10309, 'criticalmedia': 10310, 'poignant': 10311, 'lasvegaslocally': 10312, 'vitalvegas': 10313, 'reined': 10314, 'fallingoffstool': 10315, 'albums': 10316, 'sorrow': 10317, 'throwin': 10318, 'catwoman1775': 10319, 'crazier': 10320, 'sutherland': 10321, 'theleadernews': 10322, 'flyopinemonkey': 10323, 'coronet': 10324, '30m': 10325, 'alcoholandmetal': 10326, 'trusted': 10327, 'countermoonbat': 10328, 'voodooben': 10329, 'casualties\\x89û\\x9d': 10330, 'francisunderwood': 10331, 'hoc': 10332, 'revise': 10333, 'scenario': 10334, 'ftsn': 10335, 'ftsnnewsdesk': 10336, 'irishspy': 10337, 'whimsy': 10338, 'surety': 10339, 'underwritersenior': 10340, 'underwriter': 10341, 'courses': 10342, 'propertycasu': 10343, 'they\\x89ûªd': 10344, 'david\\x89û': 10345, 'sanity': 10346, 'casualtygray': 10347, 'critically': 10348, 'thomashcrown': 10349, 'grandfather': 10350, 'predictions': 10351, 'licensed': 10352, 'produc': 10353, 'benzema': 10354, 'benitezs': 10355, '5050': 10356, 'gritty': 10357, 'thursdays': 10358, 'amicos': 10359, 'amicospizzato': 10360, 'seeyouatamicos': 10361, 'unpredictable': 10362, 'northbayhealth': 10363, 'shines': 10364, 'multicasualty': 10365, 'katiecool447': 10366, '30th': 10367, 'avbronstein': 10368, 'popehat': 10369, 'instapundit': 10370, 'homealone2': 10371, 'film4': 10372, 'correlate': 10373, 'bests': 10374, 'marketwatch': 10375, 'independence': 10376, 'rowyso': 10377, 'scasualty': 10378, 'conning': 10379, 'portfolio': 10380, 'diversification': 10381, 'reriellechan': 10382, 'lich': 10383, 'roleplay': 10384, 'willinghearted': 10385, 'rpn': 10386, 'albeit': 10387, 'unsuccessful': 10388, 'mackinnon08': 10389, 'hardstyle': 10390, 'mixify': 10391, 'stavernise': 10392, 'ejaculating': 10393, 'appleofficlal': 10394, 'migrating': 10395, 'iphoto': 10396, 'wasted': 10397, 'hrsto': 10398, 'cultivating': 10399, 'tcotåêccot': 10400, 'borrowers': 10401, 'uriminzok': 10402, 'puppet': 10403, 'naemolgo': 10404, 'firmly': 10405, 'yiraneuni': 10406, 'misfortunebut': 10407, 'deb117': 10408, '730': 10409, 'wanother': 10410, 'principle': 10411, 'fulfilling': 10412, 'clerical': 10413, 'duties': 10414, 'ov': 10415, 'gemmahentsch': 10416, 'dloesch': 10417, 'envision': 10418, 'adoption': 10419, 'stylist': 10420, 'whod': 10421, 'maatmhi': 10422, 'pros': 10423, 'failures': 10424, 'pisces': 10425, 'cara': 10426, 'vmas': 10427, 'pixelsmovie': 10428, 'burford': 10429, 'adjuster': 10430, 'safeco': 10431, 'spark': 10432, 'payday': 10433, 'finance': 10434, 'liqd': 10435, '810': 10436, 'aiginsurance': 10437, 'divestitures': 10438, 'q2': 10439, 'vanilla': 10440, 'nar': 10441, 'phuket': 10442, 'masochisticmage': 10443, 'coffees': 10444, 'savedenaliwolves': 10445, 'tweetstorm': 10446, 'markargent': 10447, 'r5live': 10448, 'herring': 10449, 'scraptrident': 10450, 'frustration': 10451, 'pieceofme': 10452, 'precedent': 10453, 'undetected': 10454, 'catastrophicfallenangel': 10455, 'reveillertm': 10456, 'macabrelolita': 10457, '\\x89û÷amino': 10458, 'acids\\x89ûª': 10459, 'marginoferror': 10460, 'managers': 10461, 'implication': 10462, 'glove': 10463, 'volcanic': 10464, 'thirtyfive': 10465, 'myvintagesoul': 10466, 'manservant': 10467, 'pampered': 10468, 'brit': 10469, 'apano55': 10470, '99': 10471, 'deluded': 10472, 'senschumer': 10473, 'our\\x89û': 10474, 'kessler': 10475, 'exponential': 10476, 'proliferation': 10477, 'satellites': 10478, 'gravitymovie': 10479, 'ensuing': 10480, 'defendant': 10481, 'syringetoanger': 10482, 'disagreements': 10483, 'principles': 10484, 'practices': 10485, 'femas': 10486, 'weeklong': 10487, 'upsetting': 10488, 'reportly': 10489, 'ntvde': 10490, 'spillevacuationsred': 10491, 'beaumont': 10492, 'benews': 10493, 'ijetalerts': 10494, 'loot': 10495, 'ricin': 10496, 'cartel': 10497, 'kidnap': 10498, 'bust': 10499, 'watersafety': 10500, 'pjcoyle': 10501, 'included': 10502, 'nueva': 10503, 'favorita': 10504, 'deezercolombia': 10505, 'liquidation': 10506, 'usar2015': 10507, 'usar15': 10508, 'ruor': 10509, 'profithungry': 10510, 'laevantine': 10511, 'reworked': 10512, 'glitter': 10513, 'chemicalbabe': 10514, 'v452': 10515, 'lindenow': 10516, '315pm': 10517, 'ibiza': 10518, 'dannyjohnjules': 10519, 'spencerfearon': 10520, 'christielinford': 10521, 'd33munni': 10522, 'jeannamibian': 10523, 'noooooooo': 10524, 'somethingyr': 10525, 'crossfit': 10526, 'billers': 10527, 'promoted': 10528, '2leezy': 10529, 'grabbing': 10530, 'regress': 10531, 'faved': 10532, 'funnynews': 10533, '107': 10534, 'alexjacobsonpfs': 10535, 'andre': 10536, 'gore': 10537, 'thinkpink': 10538, 'magichairbump': 10539, 'punkblunts': 10540, 'sincerelyevelnn': 10541, 'szmnextdoor': 10542, 'gulfport': 10543, 'allin': 10544, 'realizations': 10545, 'jumps': 10546, '627': 10547, 'striked': 10548, 'otm': 10549, 'yoenis': 10550, 'esn': 10551, 'next\\x89û': 10552, 'shadows': 10553, 'nieuws': 10554, 'minion': 10555, 'collapseblow': 10556, 'halloikbenwill': 10557, 'geoffrickly': 10558, 'tee': 10559, 'basildudin': 10560, 'barbaric': 10561, 'saudies': 10562, 'austrian': 10563, 'strategies': 10564, 'clowns': 10565, 'implode': 10566, 'dccomics': 10567, 'imagecomics': 10568, 'darkhorsecomics': 10569, 'idwpublishing': 10570, 'enabling': 10571, 'eurocrisis': 10572, '\\x89ââ': 10573, 'commodity': 10574, 'eminem': 10575, 'nate': 10576, 'dogg': 10577, 'timestack': 10578, 'sunsets': 10579, 'mesmerizing': 10580, 'spike': 10581, '30min': 10582, 'ckec': 10583, 'behindashield': 10584, 'warsgoddess': 10585, 'reactions': 10586, 'absolutsumya15': 10587, 'ferrochrome': 10588, 'verge': 10589, 'fixingmatch': 10590, 'rsa': 10591, 'bd': 10592, 'exhaustion': 10593, 'reacts': 10594, 'theashes': 10595, 'dries': 10596, 'bhp': 10597, 'billiton': 10598, 'åèmgnafricaå¨': 10599, 'pin263789f4': 10600, 'wizkidayo': 10601, '\\x89ûïthehighfessions': 10602, 'blastedi': 10603, 'iowa': 10604, 'high\\x89û\\x9d': 10605, 'sholt87': 10606, 'mtgrotto': 10607, 'eco11c': 10608, 'carlsbadbugkil1': 10609, 'usbush': 10610, 'lowered': 10611, 'wmiddle': 10612, '401ks': 10613, 'gut': 10614, 'deutsch': 10615, 'monarchy': 10616, 'ltbgtbakeltbgt': 10617, 'ltbgtchocolateltbgt': 10618, 'jan\\x89û': 10619, 'organicallyrude': 10620, '1rockstar62': 10621, 'mattingly': 10622, 'bundy': 10623, 'mcgwire': 10624, 'kezi9': 10625, 'sobbing': 10626, 'endlessly': 10627, 'oneheartonemindonecss': 10628, 'panama': 10629, 'gorpuazikinak': 10630, 'puddle': 10631, 'indiepopmom': 10632, 'dictator': 10633, 'durrellb': 10634, 'punishing': 10635, 'montego': 10636, 'tvjnews': 10637, 'influential': 10638, 'severing': 10639, 'portable': 10640, 'rokiieee': 10641, 'moir': 10642, 'mortified': 10643, 'tsipras': 10644, 'cost\\x89û': 10645, 'wallybaiter': 10646, 'quora': 10647, 'moderately': 10648, 'flickershowell': 10649, 'munch': 10650, 'xdescry': 10651, 'sqwizzix': 10652, 'piano': 10653, 'entertainer\\x89û\\x9d': 10654, 'ripple': 10655, 'lesleychappelle': 10656, 'jogger': 10657, 'efs300': 10658, 'charon': 10659, 'gucci': 10660, 'shanghai\\x89ûªs': 10661, 'masses': 10662, 'untill': 10663, 'frisat': 10664, 'nlccollide': 10665, 'touchdown': 10666, 'madisonpa': 10667, 'soultech': 10668, 'gassymexican': 10669, 'realities': 10670, 'glitch': 10671, 'mattcohen4fake': 10672, 'gamma': 10673, 'january': 10674, 'witches': 10675, 'wogc': 10676, 'align': 10677, 'bowery': 10678, 'tackettdc': 10679, 'tidalhifi': 10680, 'mutekmontreal': 10681, 'isea2015': 10682, 'britains': 10683, 'isle': 10684, 'pageparkescorp': 10685, 'chloeunguyen': 10686, 'laurensicle': 10687, 'charstevens97': 10688, 'tiaramarei': 10689, 'gemma': 10690, 'bowe\\x89û': 10691, 'collideworship': 10692, 'thedoolinggroup': 10693, 'slams': 10694, 'bordento': 10695, 'finer': 10696, 'subatomic': 10697, 'spells': 10698, 'devia': 10699, 'ler': 10700, 'wattys2015': 10701, 'teenfiction': 10702, 'roanoketimes': 10703, 'lennonparham': 10704, 'jessicastclair': 10705, 'gilmoreguysshow': 10706, 'ihave44episodesofgg': 10707, 'nojoke': 10708, 'redcoatjackpot': 10709, 'lanjut': 10710, 'dirumah': 10711, 'yagitudeh': 10712, 'rumah': 10713, 'cipinang': 10714, 'femalegilgameshs': 10715, 'useless': 10716, 'penetrate': 10717, 'scored': 10718, '111020': 10719, 'squeaky': 10720, 'huzzah': 10721, 'mollythetanzs': 10722, 'vermilion': 10723, 'glassanimals': 10724, 'slithering': 10725, 'viscous': 10726, 'yeahs': 10727, 'erykah': 10728, 'badu\\x89û': 10729, 'eau': 10730, 'claire': 10731, 'sentenced': 10732, 'chippewa': 10733, 'shotgun': 10734, 'denton': 10735, 'then\\x89û': 10736, '688': 10737, 'happen\\x89û': 10738, 'butgod': 10739, 'ijustine': 10740, 'alaskaseafood': 10741, 'askforalaska': 10742, 'junction': 10743, 'beep': 10744, 'ssp': 10745, 'aeg': 10746, '061': 10747, 'akrams': 10748, 'carhot': 10749, 'exchanged': 10750, 'air1bullet': 10751, 'ninja': 10752, 'commence': 10753, 'pple': 10754, 'boatnews': 10755, 'drob': 10756, 'crashing\\x89û': 10757, 'guards': 10758, 'bicyclesuv': 10759, 'mesick': 10760, 'm115': 10761, 'constitutional': 10762, 'politic\\x89û': 10763, 'harrystyles': 10764, 'cern': 10765, 'journey': 10766, 'cows': 10767, 'southwest': 10768, 'omaha': 10769, 'utility': 10770, 'stepkans': 10771, 'lvictoria': 10772, 'pvris': 10773, 'zojadelin': 10774, 'beatg3': 10775, '608': 10776, '15000270653': 10777, 'beatb2': 10778, 'fremont': 10779, '652': 10780, '15000270364': 10781, 'hwy401': 10782, 'fe': 10783, 'studebaker': 10784, 'headon': 10785, 'kenai': 10786, 'spur': 10787, 'nort': 10788, 'dilawri': 10789, 'shopcollision': 10790, 'thisisfaz': 10791, 'eo': 10792, 'redlands': 10793, 'flynn': 10794, 'onr': 10795, 'westminister': 10796, 'sr22': 10797, 'knott': 10798, 'missjadebrown': 10799, 'midmorning': 10800, 'fowlers': 10801, 'excite': 10802, '713pm': 10803, 'mapleridge': 10804, 'lougheed': 10805, '203rd': 10806, 'dewdney': 10807, 'eto': 10808, 'division': 10809, 'solano': 10810, 'skaggs': 10811, 'qew': 10812, 'erie': 10813, '405': 10814, 'niagaravehicles': 10815, 'kierannicholson': 10816, 'ofr': 10817, 'celestial': 10818, 'separate': 10819, 'trajectories': 10820, 'intertwine': 10821, 'wall\\x89û\\x9d': 10822, 'weren\\x89ûªt': 10823, 'warned\\x89û\\x9d': 10824, 'grtvnews': 10825, 'rhett': 10826, 'motogp': 10827, 'indianapolis': 10828, 'espargaro': 10829, 'endorsement': 10830, 'html5': 10831, 'slamming': 10832, 'crashsterlingwho': 10833, 'carmel': 10834, 'joeysterling': 10835, 'daewony0406': 10836, 'bestival': 10837, 'molloy': 10838, '21st': 10839, 'i75': 10840, 'mm': 10841, '459': 10842, 'pikin': 10843, 'pascoe': 10844, 'vale': 10845, 'outbound': 10846, 'tullamarine': 10847, 'citylink': 10848, '8000': 10849, 'destinythegame': 10850, 'bungie': 10851, 'chelsdelong12': 10852, 'kendraleigh13': 10853, 'josh': 10854, 'salyersblairhall': 10855, 'jennas': 10856, 'cs6': 10857, 'kinetic': 10858, 'typography': 10859, 'akilah': 10860, 'barrington': 10861, 'estates': 10862, 'singlecar': 10863, 'afte': 10864, 'helmet': 10865, 'silvery': 10866, 'floors': 10867, 'karnal': 10868, 'pbcanpcx': 10869, 'scheer': 10870, 'huebels': 10871, 'spicybreads': 10872, 'coxytown': 10873, 'downloading': 10874, 'landi': 10875, 'peritoengrafoscopia': 10876, '4am': 10877, 'neileastwood77': 10878, 'knobhead': 10879, 'brianroemmele': 10880, 'emv': 10881, 'insert': 10882, 'stripe': 10883, 'reader': 10884, 'hamayun': 10885, 'shaheed': 10886, 'mi7': 10887, 'heli': 10888, 'rosewell': 10889, 'rochdale': 10890, 'heywood': 10891, 'weloveyoulouis': 10892, 'johndcgow': 10893, 'olliebailey11': 10894, 'havnt': 10895, 'windows10': 10896, 'intactmh370partliftsoddsplaneglidednotcrashedintosea': 10897, 'yahoofinancehope': 10898, 'yday': 10899, 'almighty': 10900, 'hicksville': 10901, 'smusx16475': 10902, 'overtook': 10903, 'tru': 10904, 'luv': 10905, 'typing': 10906, 'ants': 10907, 'nightmarish': 10908, 'modestmouseremix': 10909, 'truestory': 10910, 'f496d': 10911, 'ttw': 10912, 'skh': 10913, 'ashton5sos': 10914, 'luke5sos': 10915, 'lifts': 10916, 'glided': 10917, 'kuualohax': 10918, 'mondays': 10919, 'womem': 10920, 'mommyisbomb': 10921, 'jorrynja': 10922, 'bfgfcrush': 10923, 'terell': 10924, 'explicitpretty': 10925, 'wedneday': 10926, 'taykreidler': 10927, 'loveyouuuu': 10928, 'aintsheperty': 10929, 'yourboyshawn': 10930, 'buted': 10931, 'samelsamel': 10932, 'crushit': 10933, 'overrated': 10934, 'experiencesmh': 10935, 'pydisney': 10936, 'crushmtvhottest': 10937, 'master0fsloths': 10938, 'daves': 10939, 'moe': 10940, 'fridays': 10941, 'mrrobinson': 10942, 'thesteveharveyshow': 10943, 'vibe': 10944, 'lively': 10945, 'khadidon': 10946, 'yhngsjlg': 10947, 'tweeted': 10948, 'starflamegirl': 10949, 'marketingåêmediocrity': 10950, 'sevenfigz': 10951, 'tiffanyfrizzell': 10952, 'nykaed': 10953, 'jaureguiswisdom': 10954, 'fitz': 10955, 'tantrums': 10956, 'cristianinspire': 10957, 'playa': 10958, 'kenny': 10959, 'popeyes': 10960, 'bhavanas': 10961, 'mortar': 10962, 'pestle': 10963, 'edwin': 10964, 'mango': 10965, 'icegtgtgtgt': 10966, 'charcoal': 10967, 'handled': 10968, 'exceptionally': 10969, 'crushed2': 10970, 'cor48': 10971, 'edwing': 10972, 'flurry': 10973, 'jmastrodonato': 10974, 'bunting': 10975, 'forefathers': 10976, 'clelliyou': 10977, '541': 10978, '112': 10979, '746': 10980, 'moly': 10981, 'ayekoradio': 10982, 'brasswork': 10983, 'shaken': 10984, 'netlabel': 10985, 'electronicmusic': 10986, 'ccmusic': 10987, 'commenters': 10988, 'westerosnah': 10989, 'underestimate': 10990, 'disillusioned': 10991, 'crowe': 10992, 'tropes': 10993, 'nora': 10994, 'markwschaefer': 10995, 'chapoutier': 10996, 'crozes': 10997, 'hermitage': 10998, 'violets': 10999, 'yum': 11000, 'thecomedyquote': 11001, '50shadezofgrey': 11002, 'p45perez': 11003, 'ara': 11004, 'infiltrated': 11005, 'ashrafiyah': 11006, 'afrin': 11007, 'imposed': 11008, 'keampurley': 11009, 'michelleellle': 11010, 'bobbyxfisher': 11011, 'exofficio': 11012, 'sct014': 11013, 'bkn032': 11014, 'emaaalay': 11015, 'tutor': 11016, 'preferably': 11017, 'aptlyengineerd': 11018, 'emmychappy': 11019, 'oclock': 11020, 'reddakushgodd': 11021, 'smfh': 11022, 'scotrail': 11023, 'cosits': 11024, 'hassle': 11025, 'freefrom': 11026, 'obligations': 11027, 'daviskawalya': 11028, 'mauryn143': 11029, 'goodbyes': 11030, 'graduated': 11031, 'stupidniggr': 11032, '0605': 11033, 'damp': 11034, 'qnh': 11035, '1028': 11036, 'oldest': 11037, 'donthate': 11038, 'sct012': 11039, 'bkn025': 11040, 'tlk': 11041, 'widout': 11042, 'nuh': 11043, 'itz': 11044, 'rubbery': 11045, 'bc19': 11046, 'bark': 11047, 'wonders': 11048, 'lim': 11049, 'leh': 11050, 'rewatchingthepilot': 11051, 'teamscorpion': 11052, 'hoops': 11053, 'recruiting': 11054, '0215': 11055, 'boltåêcyclone': 11056, 'pp400dr': 11057, 'packåêfor': 11058, '30\\x89û': 11059, 'mccauleysdesign': 11060, 'abysmaljoiner': 11061, 'dyamiplotke': 11062, 'purpose': 11063, '4k': 11064, 'forming': 11065, 'molave': 11066, 'xhnews': 11067, 'easton': 11068, 'softball': 11069, 'fastpitch': 11070, '2920': 11071, 'sk398': 11072, 'derives': 11073, 'vincent': 11074, 'peale': 11075, 'roughdeal1': 11076, 'hudhud': 11077, 'chandrababu': 11078, 'valle': 11079, 'devastates': 11080, 'misdirection': 11081, 'ignite': 11082, 'vanishing': 11083, 'kurokobot': 11084, 'comdev': 11085, 'stations': 11086, 'programs': 11087, 'imperialism': 11088, 'spins': 11089, 'militarism': 11090, 'crushes': 11091, 'overblown': 11092, 'majesty': 11093, 'salman': 11094, 'khans': 11095, 'unstoppable': 11096, 'bajrangi': 11097, 'bhaijaan': 11098, 'crosed': 11099, '945hpa': 11100, '45ms': 11101, '60ms': 11102, 'cyclonereizei': 11103, 'cyclonesama': 11104, 'rindou': 11105, 'vroman': 11106, 'blending': 11107, '165000': 11108, 'dhaka': 11109, '\\x89ûòthe': 11110, 'kyee': 11111, 'nockthie': 11112, 'hamlet': 11113, 'taungbazar': 11114, 'buthidaung': 11115, 'severely': 11116, 'kasitaroch': 11117, 'vivianunhcr': 11118, 'ootd': 11119, 'doubleghats': 11120, 'thelegendblue': 11121, 'cozmo23': 11122, 'ascend': 11123, 'supportive': 11124, 'economically': 11125, 'å£300m': 11126, 'collateral': 11127, 'damage3460': 11128, 'limestone': 11129, 'lncolyellowstone': 11130, 'wayfieldstone': 11131, 'dr08052015': 11132, '193635': 11133, 'complaining': 11134, 'emblem': 11135, 'gigant': 11136, 'difficulty': 11137, 'capicapricapri': 11138, 'brentobento': 11139, 'wha': 11140, 'ny35': 11141, 'writebothfists': 11142, 'reusing': 11143, 'equipments': 11144, 'drumming': 11145, 'champaign': 11146, 'fdbdp': 11147, 'indigo6e': 11148, 'carful': 11149, 'spotting': 11150, 'outs': 11151, 'drothvader': 11152, 'cmnevalistis': 11153, 'arachys': 11154, 'mages': 11155, 'specialize': 11156, 'natsu': 11157, 'dragneel': 11158, 'shitton': 11159, 'exclusively': 11160, 'fence': 11161, 'joedawg42': 11162, 'wording': 11163, 'hfxstanfield': 11164, 'beelievedc': 11165, 'discoverycntr': 11166, 'swb1192': 11167, 'prolly': 11168, 'fieldwide': 11169, 'metallica': 11170, 'inmates': 11171, 'remand': 11172, 'crosssectarian': 11173, 'shia': 11174, 'militias': 11175, 'withdrawur': 11176, 'fightin': 11177, 'uve': 11178, 'wonderousallure': 11179, 'hhello': 11180, 'thesensualeye': 11181, 'apr': 11182, 'runin': 11183, 'roadwayproperty': 11184, '15901': 11185, 'statesville': 11186, 'vergil': 11187, 'agnus': 11188, 'dmd': 11189, 'leedstraif': 11190, 'glaucoma': 11191, 'eyefacts': 11192, 'jsunnews': 11193, 's61231a': 11194, 'index': 11195, 'icd10': 11196, 'richarkkirkarch': 11197, 'ausinstarchitect': 11198, 'queenswharf': 11199, 'brisbane': 11200, 'financialreview': 11201, 'fuckboy': 11202, 'pseudojuuzo': 11203, 'michaelwestbiz': 11204, 'gettinglost': 11205, 'jennellensbb': 11206, 'munclejim': 11207, 'superficial': 11208, 'dustinbrowder': 11209, 'frequently': 11210, 'distraction': 11211, 'wildlife': 11212, 'dyannbridges': 11213, 'yeshayad': 11214, 'nwsbayarea': 11215, 'carsonrex': 11216, 'spaceangelseven': 11217, 'poisoned': 11218, 'parks': 11219, 'imposition': 11220, 'wheat': 11221, 'trespass': 11222, 'lest': 11223, 'therealrittz': 11224, 'morehouse64': 11225, 'ethical': 11226, 'relevance': 11227, 'outnumbering': 11228, 'licenses': 11229, 'floridas': 11230, 'riverroaming': 11231, 'bluebirddenver': 11232, 'nonprofit': 11233, 'victorias': 11234, 'turnedonfetaboo': 11235, 'hsjb215': 11236, 'thetxi': 11237, 'gunnersfan89': 11238, 'relegation': 11239, 'remainontop': 11240, 'dehydration': 11241, 'smth': 11242, 'pundit': 11243, 'grave': 11244, 'skyler': 11245, 'mueller': 11246, 'nov': 11247, 'meson': 11248, 'modibo': 11249, 'maiga': 11250, 'fucktard': 11251, 'coyi': 11252, '228': 11253, '217': 11254, 'remote': 11255, 'silent0siris': 11256, 'norse': 11257, 'landscapes': 11258, 'boringdead': 11259, 'snotgreen': 11260, 'wastelands': 11261, 'hairbut': 11262, 'cjbanning': 11263, '4sake': 11264, 'argsuppose': 11265, 'preborn': 11266, 'individl': 11267, 'rightsgenerally': 11268, 'courtof': 11269, 'forbids': 11270, 'birb': 11271, 'naaa': 11272, 'hhahaha': 11273, 'soapscoop': 11274, 'yh': 11275, 'gailsimone': 11276, 'iwasdisappointedby': 11277, 'telltales': 11278, 'ampstory': 11279, 'libyan': 11280, 'waved': 11281, 'don': 11282, 'stark': 11283, 'writings': 11284, 'contributions': 11285, 'hlportal': 11286, 'kg4vaal': 11287, 'lmaovv': 11288, 'babalmaowelcome': 11289, 'nyozi': 11290, 'kwaaaaadead': 11291, 'noooooooooooo': 11292, 'bailed': 11293, 'nite': 11294, 'showwent': 11295, 'moores': 11296, 'suing': 11297, 'atchisonsean': 11298, 'wyrmwood': 11299, 'otp': 11300, 'ssshhheeesshh': 11301, 'vibrator': 11302, 'vape': 11303, 'busted': 11304, 'gainesville': 11305, 'papiichampoo': 11306, 'civility': 11307, 'jeromekem': 11308, 'spouse': 11309, 'involves': 11310, 'kicking': 11311, 'nobleman': 11312, 'elven': 11313, 'weirdo': 11314, 'seemeth': 11315, 'kellkane': 11316, 'narrowly': 11317, 'allahsfinest12': 11318, 'starve': 11319, 'punishable': 11320, 'smoochy': 11321, 'awakenings': 11322, 'clips': 11323, 'bicentennial': 11324, 'ranks': 11325, 'demise': 11326, 'deathholy': 11327, 'molys': 11328, 'unknowingly': 11329, 'breitbartnews': 11330, 'sedan': 11331, 'pusssssssssy': 11332, 'shoook': 11333, 'postponed': 11334, 'marilyn': 11335, 'monroes': 11336, 'ripriprip': 11337, 'aris': 11338, 'hints': 11339, 'snippets': 11340, 'vaxshill': 11341, 'airlift': 11342, '\\x89ûïlolgop': 11343, 'fraud': 11344, 'vra50\\x89û\\x9d': 11345, 'bsf': 11346, 'jawans': 11347, 'fidayeen': 11348, 'aks': 11349, 'breast': 11350, 'superfood': 11351, '800000': 11352, 'bicyclists': 11353, 'runners': 11354, 'truediagnosis': 11355, '250k': 11356, 'physician': 11357, 'cdcwhistleblower': 11358, 'foodborne': 11359, 'frackfreelancs': 11360, 'deccgovuk': 11361, 'frackfreeeu': 11362, 'tarletonsophie': 11363, 'drfriedencdc': 11364, 'resistant': 11365, 'infectionsdeaths': 11366, 'adiossuperbacterias': 11367, 'strickskin': 11368, 'nickscomics': 11369, 'objective': 11370, 'nghlth': 11371, 'eazzyp': 11372, 'warranted': 11373, 'japs': 11374, 'constitute': 11375, 'epidemic': 11376, 'weyburn': 11377, 'fentanyl': 11378, 'gregorysanders': 11379, 'usdot': 11380, 'stat': 11381, 'lightrail': 11382, 'highqualitybird': 11383, 'specifically': 11384, 'utilized': 11385, 'chrissie': 11386, 'finn': 11387, 'mathewisangry': 11388, 'z3kesk1': 11389, 'saladinahmed': 11390, 'fco': 11391, 'tobiasellwood': 11392, 'condemns': 11393, 'critters': 11394, '1940': 11395, 'angela': 11396, 'sanders': 11397, 'roundhouse': 11398, 'innovative': 11399, 'beluga': 11400, 'seaworld': 11401, 'opseaworld': 11402, 'mayoroflondon': 11403, 'compulsory': 11404, 'notrocketscience': 11405, 'aerospace': 11406, 'exec': 11407, '17months': 11408, 'jet\\x89ûªs': 11409, 'nbcnightlynews': 11410, 'razak': 11411, 'kamindoz': 11412, 'breakth': 11413, 'onlinemh370': 11414, 'onlinea': 11415, 'onlin': 11416, 'dustpiggies': 11417, 'awash': 11418, 'abstract': 11419, 'dustpig': 11420, 'xeni': 11421, 'joshsternberg': 11422, 'romeocrow': 11423, 'organizing': 11424, 'niagara': 11425, 'package': 11426, 'tours': 11427, 'yyeso': 11428, 'apologise': 11429, 'sincerely': 11430, 'grudges': 11431, 'unfollow': 11432, 'baking': 11433, 'nlmdimrc': 11434, 'providers': 11435, 'towboat': 11436, 'vtc': 11437, 'eulogies': 11438, 'gtgtthis': 11439, 'tormented': 11440, 'matias': 11441, 'xavier': 11442, 'yahoo7': 11443, 'delaying': 11444, 'fundamentals': 11445, 'valuations': 11446, 'fantasticfour': 11447, 'ocuana': 11448, 'bloodyminded': 11449, 'forrestmankins': 11450, 'troisrivieres': 11451, 'legionstrackandfield': 11452, 'halfnaked': 11453, 'normally': 11454, 'torso': 11455, 'theburnageblue': 11456, 'torrent': 11457, 'java': 11458, 'predynastic': 11459, 'dumuzid': 11460, 'theghostparty': 11461, 'amsosorry': 11462, 'vines': 11463, 'encaustic': 11464, 'cerography': 11465, 'byityf': 11466, 'stephaniemarija': 11467, 'dressing': 11468, 'childsexabuse': 11469, 'coverup': 11470, 'unloads': 11471, 'descriptive': 11472, 'indecency': 11473, 'chuckswindoll': 11474, 'iflcanada': 11475, 'pt1': 11476, 'slew': 11477, 'unfml': 11478, 'boyhaus': 11479, 'jakeåê': 11480, '\\x89ûïafter': 11481, 'montana\\x89ûªs': 11482, 'famping': 11483, 'gishwhes': 11484, 'soaked': 11485, 'pads': 11486, 'tampons': 11487, 'fiendnikki': 11488, 'wrinkled': 11489, 'decayed': 11490, 'schelbertgeorg': 11491, 'shadowman': 11492, 'monstrosities': 11493, 'houghjeff': 11494, 'dougkessler': 11495, 'b2b': 11496, 'b2bagency': 11497, 'slideshare': 11498, 'contentmarketing': 11499, 'heredeluge': 11500, 'ampwanted': 11501, 'translated': 11502, '350': 11503, 'deflategate': 11504, 'incremental': 11505, 'frustrated': 11506, 'quantit\\x89û': 11507, 'asae15': 11508, 'exhibitor': 11509, 'assnchat': 11510, 'meditationbymsg': 11511, '45600': 11512, 'meditation': 11513, 'ampgot': 11514, 'divine': 11515, 'blessing': 11516, 'aroundthe': 11517, 'downright': 11518, 'novalismi': 11519, 'joseph': 11520, 'mallord': 11521, 'turner': 11522, '1843': 11523, 'clicca': 11524, 'sul': 11525, 'titolo': 11526, 'telemarketing': 11527, 'thewesterngaz': 11528, 'susinesses': 11529, 'stlnd': 11530, 'colo': 11531, 'lzkely': 11532, 'amazons': 11533, 'farms': 11534, 'togthe': 11535, 'paypile': 11536, 'invokces': 11537, 'shapeand': 11538, 'lisatoddsutton': 11539, 'bcz': 11540, 'murphy': 11541, 'thesewphist': 11542, 'fuckfacewineisdumbcom': 11543, 'tarp': 11544, 'outfield': 11545, 'infield': 11546, 'inroicesmake': 11547, 'squabble': 11548, 'immigration': 11549, 'ukfrance': 11550, 'oup': 11551, 'invzices': 11552, 'itsllikely': 11553, 'pileq': 11554, 'com': 11555, 'ogt': 11556, 'colomr': 11557, 'aredeluged': 11558, 'valdes1978': 11559, 'testy': 11560, 'afterwards': 11561, 'savour': 11562, 'prolong': 11563, 'sigue': 11564, 'winged': 11565, 'insects': 11566, 'doone': 11567, 'architects': 11568, 'permission': 11569, 'natwest': 11570, 'city\\x89ûªs': 11571, 'tallest': 11572, 'createdunique23': 11573, 'kerenserpa': 11574, 'arianareed11': 11575, 'ce': 11576, 'badotweet': 11577, 'kirkmin': 11578, 'barthubbuch': 11579, 'weei': 11580, 'bait': 11581, 'hater': 11582, 'demolishdeep': 11583, 'etoffe': 11584, 'charmeuse': 11585, 'clothesless': 11586, 'precisionistic': 11587, 'vestment': 11588, 'psfda': 11589, 'xgninfinity': 11590, 'ronincarbon': 11591, 'preset': 11592, 'nades': 11593, 'unconsciously': 11594, 'mariomaraczi': 11595, 'freaked': 11596, 'akwa': 11597, 'ibom': 11598, 'uruan': 11599, 'exassembly': 11600, 'udom': 11601, 'emmanuel': 11602, 'absurdly': 11603, 'men\\x89ûªs': 11604, 'avigdorliberman': 11605, 'susiya': 11606, 'beheadings': 11607, 'postal': 11608, 'murlo': 11609, 'tribez': 11610, 'androidgames': 11611, 'gameinsight': 11612, 'jollyjinu': 11613, 'babri': 11614, 'todayhave': 11615, 'revenge': 11616, 'businessman': 11617, 'foiled': 11618, 'troupe': 11619, 'multiracial': 11620, 'breakdancers': 11621, 'orianna': 11622, 'drakes': 11623, 'ghostwriting': 11624, 'arin': 11625, 'gummy': 11626, 'grumpout': 11627, 'srsly': 11628, 'partners': 11629, 'ampstart': 11630, 'dribbling': 11631, 'ampask': 11632, 'urself': 11633, 'embarrassment': 11634, 'charminar': 11635, 'telangana': 11636, 'beastin': 11637, 'tapas': 11638, 'funtimes': 11639, '64oz': 11640, 'patriots': 11641, '5007': 11642, 'whine': 11643, 'cantmakeitup': 11644, 'patriotsnation': 11645, 'flunkie': 11646, 'angusmacneilsnp': 11647, 'embarrassed': 11648, 'stiiilo': 11649, 'gamer': 11650, 'backtoback': 11651, 'chargedup': 11652, 'media420': 11653, 'papicongress': 11654, 'journo': 11655, 'pragnik': 11656, 'sounders': 11657, '\\x89ûïsplottdave': 11658, 'teampalestina': 11659, '28700': 11660, '1967': 11661, 'home2': 11662, 'suites': 11663, 'make\\x89û': 11664, 'bbsnews': 11665, 'david5fernandez': 11666, 'theblaze': 11667, 'stallion150': 11668, 'kbeastx': 11669, 'genisys': 11670, 'jackmulholland1': 11671, 'marquis': 11672, 'charlies': 11673, 'dublins': 11674, 'unrecognized': 11675, 'epa': 11676, 'yo\\x89û': 11677, 'freestyles': 11678, 'maxsys': 11679, 'metrotown': 11680, 'maintained': 11681, 'burnaby': 11682, 'changefortheworse': 11683, 'noxdv': 11684, 'greystone': 11685, '85885473': 11686, '159': 11687, 'messnermatthew': 11688, 'newcity': 11689, 'abbruchsimulator': 11690, 'delmonts': 11691, 'onion': 11692, 'czallstarwes': 11693, 'demolitiond': 11694, 'pleb': 11695, 'ffa': 11696, 'foodstand': 11697, 'fairgrounds': 11698, 'demo': 11699, 'kenosha': 11700, 'mentalhealthgov': 11701, 'ahhhhh': 11702, 'alec': 11703, 'tort': 11704, 'mh': 11705, 'samajp32': 11706, 'soonersportstv': 11707, 'dren': 11708, 'treyarch': 11709, 'detains': 11710, 'churchs': 11711, 'orcas': 11712, 'zhejiang': 11713, 'willow': 11714, 'glen': 11715, 'trestle': 11716, 'fluffy': 11717, 'intriguing': 11718, 'jobbing': 11719, 'clist': 11720, 'shantaeskyy': 11721, 'sms': 11722, 'modelbubbles': 11723, 'emiiliexirwin': 11724, 'agreeshe': 11725, 'isi': 11726, 'bv': 11727, 'publish': 11728, 'unite': 11729, 'freesikhpoliticalprisnors': 11730, 'bapusuratsingh': 11731, 'temecafreeman': 11732, 'thejenmorillo': 11733, 'gloriavelez': 11734, 'pisco': 11735, 'coya': 11736, 'wsjthinktank': 11737, 'colleenmnelson': 11738, 'kamayani': 11739, 'janata': 11740, 'gratia': 11741, 'å£6bn': 11742, 'worldpay': 11743, 'ipo': 11744, 'skyåênews': 11745, 'renamed': 11746, 'goonda': 11747, 'motley': 11748, 'hooligans': 11749, 'selfavowed': 11750, 'crooks': 11751, 'mzmandilynn': 11752, 'donzilla': 11753, 'trump2016': 11754, 'rushlimbaugh': 11755, 'meddling': 11756, 'judgement': 11757, 'mpc': 11758, 'ohmygoshi': 11759, 'metrobus': 11760, 'fox5newsdc': 11761, 'indiabacked': 11762, 'jozerphine': 11763, 'everythign': 11764, 'mcpherson': 11765, 'worthless': 11766, 'trustymclusty': 11767, 'fcked': 11768, 'crocodile': 11769, 'gravy': 11770, 'kidscompany': 11771, 'epicinsanity': 11772, 'grimrail': 11773, 'depot': 11774, 'nopassenger': 11775, 'hell\\x89û': 11776, 'stury': 11777, 'freeing': 11778, 'newidea': 11779, 'wtwitter': 11780, 'requa': 11781, 'taxreturn': 11782, 'cleaning': 11783, 'cri': 11784, '7000series': 11785, 'suspending': 11786, 'ser': 11787, 'eve': 11788, 'honored': 11789, 'starbs': 11790, 'ls': 11791, 'climbing': 11792, '12007': 11793, 'vern': 11794, 'sq': 11795, 'episodes': 11796, 'nigh': 11797, 'bobbyofhomewood': 11798, 'joxroundtable': 11799, 'nosports': 11800, 'top25': 11801, 'janta': 11802, 'firstpostin': 11803, 'orangeblue': 11804, 'joelsherman1': 11805, 'chipper': 11806, 'cools': 11807, 'durban': 11808, 'robertwelch': 11809, 'cutlery': 11810, 'halfderailed': 11811, 'halfrailed': 11812, 'deepthoughts': 11813, 'beatdown': 11814, 'prodemocracy': 11815, 'nypdnews': 11816, 'itsqueenbaby': 11817, 'derailedbenchmark': 11818, 'paths': 11819, 'resque': 11820, 'gerryconnolly': 11821, 'repdonbeyer': 11822, 'debacle': 11823, 'wderailed': 11824, 'nonpassenger': 11825, 'mgr': 11826, 'ohyayyyyay': 11827, 'residual': 11828, 'accidents\\x89ûª': 11829, 'teamfollowback': 11830, '2121': 11831, 'chicagoscanner': 11832, 'indiatv': 11833, 'greateranglia': 11834, 'alarmems': 11835, 'cinstg': 11836, 'raishimi33': 11837, 'alvinnelson07': 11838, 'withstand': 11839, 'collisions': 11840, 'regr': 11841, 'mumbai24x7': 11842, 'ind': 11843, 'cottage': 11844, 'mpmy': 11845, 'deepest': 11846, 'condolences': 11847, 'mishap': 11848, 'officeofrg': 11849, '63rdprairie': 11850, 'mumbaitimes': 11851, 'roadworks': 11852, 'tottenham': 11853, 'perceive': 11854, 'faintly': 11855, 'sputtering': 11856, 'vast': 11857, 'eternity': 11858, 'gyrsi': 11859, 'danielkemp6': 11860, 'likened': 11861, 'ib': 11862, 'sauldale305': 11863, 'naturalexample': 11864, 'thriving': 11865, 'hub': 11866, 'hi\\x89ûótech': 11867, 'onthisday': 11868, 'mayflower': 11869, 'laphamsquart': 11870, 'jusreign': 11871, 'sht': 11872, 'atl': 11873, 'r3do': 11874, 'daniel': 11875, '1211': 11876, 'significance': 11877, 'unexercised': 11878, 'honda': 11879, 'rundown': 11880, 'psqd': 11881, 'mallelis': 11882, 'wereonadesolateplanet': 11883, 'belowthemasondixonline': 11884, 'violin': 11885, 'binellithresa': 11886, 'psalm3422': 11887, 'joshacagan': 11888, 'stack': 11889, 'dvds': 11890, 'fotofill': 11891, '3422': 11892, 'booksbyroger': 11893, 'billroose': 11894, 'justdepressing': 11895, 'hundredodd': 11896, 'pilgrims': 11897, 'unimpressed': 11898, 'mirad': 11899, 'antichrist': 11900, 'desecrates': 11901, '927': 11902, '241': 11903, 'risky': 11904, 'spyro': 11905, 'texture': 11906, 'hacks': 11907, 'ingame': 11908, 'stockholm': 11909, 'copperfields': 11910, 'ep03': 11911, 'finalise': 11912, 'alt': 11913, 'littlebitofbass': 11914, 'silinski': 11915, 'onåêthe': 11916, 'thranduil': 11917, 'mirkwood': 11918, 'theconspiracytheory': 11919, 'newep': 11920, 'tangled': 11921, '710': 11922, 'isai': 11923, '601': 11924, 'psm': 11925, '1388': 11926, 'scattered': 11927, 'freediscountbks': 11928, 'amreading': 11929, 'kurtkamka': 11930, 'ariz\\x89û': 11931, 'uv': 11932, 'gin': 11933, 'listia': 11934, 'josephus': 11935, 'antiochus': 11936, 'epiphanes': 11937, 'redo': 11938, 'ayyy': 11939, 'introdesolation': 11940, 'fastings': 11941, 'nikostar': 11942, 'abject': 11943, 'theatres': 11944, 'cometh': 11945, 'elanorofrohan': 11946, 'zurich': 11947, 'ghe': 11948, 'orshow': 11949, 'kaiseiw': 11950, 'desperation': 11951, 'dislocation': 11952, 'separation': 11953, 'bilingual': 11954, 'necros': 11955, 'agalloch': 11956, 'imagini': 11957, 'noi': 11958, 'clipuri': 11959, 'cliptv': 11960, 'desolationofsmaug': 11961, 'poze': 11962, 'thehobbit': 11963, 'sow': 11964, 'masse': 11965, 'backlash': 11966, 'futurea': 11967, 'totalitarian': 11968, 'employs': 11969, 'literature': 11970, 'rebahes': 11971, 'zenandemcfen': 11972, 'ndzedze': 11973, 'ashes2ashes': 11974, 'ginga': 11975, 'ldrago': 11976, 'hunted': 11977, 'dilutional': 11978, 'institutionalize': 11979, 'sued': 11980, 'wii': 11981, 'shantaeforsmash': 11982, 'shantaehalfgeniehero': 11983, 'nintendo': 11984, 'ng2x5': 11985, 'memebaiting': 11986, 'camper': 11987, 'foxsportscom': 11988, 'anthonys': 11989, 'raidersreporter': 11990, '957thegame': 11991, 'galaxy': 11992, 'flatliners': 11993, 'creativitybalancelongevity': 11994, 'lucifer': 11995, 'magnets': 11996, 'nicolekidman': 11997, 'oprah': 11998, 'grubbing': 11999, 'kikes': 12000, 'cluei': 12001, 'telekinesis': 12002, 'amiibos': 12003, 'å£150': 12004, 'boylesports': 12005, 'petchary': 12006, 'reggaeboyz': 12007, 'cameronciletti': 12008, 'tigersjostun': 12009, 'copped': 12010, 'eur': 12011, 'bwin': 12012, 'sarniamakchris': 12013, 'hromadske': 12014, 'kasiadear33': 12015, 'reg': 12016, 'competitiveness': 12017, 'oversaturated': 12018, 'brockton': 12019, '12m': 12020, 'regc': 12021, 'ppc': 12022, 'beconfident': 12023, 'weaknesses': 12024, 'brbrs': 12025, 'fousey': 12026, '2hours': 12027, 'streetjamzdotnet': 12028, 'msmigot': 12029, 'convincing': 12030, 'compelling': 12031, 'deniers': 12032, 'tend': 12033, 'givingevidence': 12034, 'preschool': 12035, 'riches': 12036, 'decrease': 12037, 'sapphirescallop': 12038, 'oppa': 12039, 'haaaaaa': 12040, 'dazzle': 12041, 'monwabisi': 12042, 'hlongwane': 12043, 'ryt': 12044, 'ashestoashes': 12045, 'engineermatarai': 12046, 'mataas': 12047, 'kc': 12048, 'ratingbut': 12049, 'ratings': 12050, 'elgeotaofeeq': 12051, 'justicemalala': 12052, 'nkeajresq': 12053, 'nkea': 12054, 'gambia': 12055, 'mercenary': 12056, '3941': 12057, 'lifeguard': 12058, 'alanhahn': 12059, 'hdumpty39': 12060, 'daughtery': 12061, 'rants': 12062, 'factual': 12063, 'reddevil4life': 12064, 'illusions': 12065, 'fn': 12066, 'everydaynaija': 12067, '3967': 12068, '319': 12069, 'meats': 12070, 'incinerator': 12071, 'pulkovo': 12072, 'freemurphy': 12073, 'hitchhiking': 12074, 'garbagebot': 12075, 'sorely': 12076, 'semasirtalks': 12077, 'namekians': 12078, 'ryanoss123': 12079, 'hitters': 12080, 'ethereal': 12081, 'destroyd': 12082, 'hiroshima\\x89ûóbbc': 12083, 'cnv': 12084, 'vigils': 12085, 'davidvitter': 12086, '2003': 12087, '3945': 12088, 'zaire2005': 12089, 'specialguest': 12090, 'crapgamer': 12091, 'hotteennsfwpornmilf': 12092, 'oiled': 12093, 'closeup': 12094, '3934': 12095, 'silas': 12096, 'sliced': 12097, 'headlinelike': 12098, 'cabbage': 12099, 'harbhajansingh': 12100, 'stuartbroad8': 12101, 'believeis': 12102, 'yuvi': 12103, '3939': 12104, 'developer': 12105, 'danhrothschild': 12106, 'selfdestruction': 12107, 'takecare': 12108, 'cinla1964': 12109, 'windowgatribble': 12110, 'contrasts': 12111, 'foreboding': 12112, 'expansive': 12113, 'divisions': 12114, 'saturation': 12115, 'hue': 12116, 'homebuyer': 12117, 'miscalculation': 12118, 'mwjcdk': 12119, 'workspace': 12120, 'forsee': 12121, 'badkitty': 12122, 'lt3dave': 12123, 'specs': 12124, 'lore': 12125, 'salvages': 12126, 'styled': 12127, 'undergroundbestsellers': 12128, 'decree': 12129, 'russiaukraine': 12130, '1232': 12131, 'megadethsymphony': 12132, 'planners': 12133, 'thingsihate': 12134, 'hassanrouhani': 12135, 'doomed': 12136, 'blossominglilac': 12137, 'arrogant': 12138, 'megadeth': 12139, 'appetite': 12140, 'alexeivolkov1': 12141, 'mcfaul': 12142, 'roskomnadzor': 12143, 'ridiculously': 12144, 'politicized': 12145, 'bonn1egreer': 12146, '1x1': 12147, 'destructions': 12148, 'unimaginable': 12149, 'tenn': 12150, 'tennessean': 12151, 'furiosoxv': 12152, 'mythgriy': 12153, 'boulder': 12154, 'jtw': 12155, 'bldrcosheriff': 12156, 'younger': 12157, 'cbsdenver': 12158, 'heavyweight': 12159, 'noperiferico': 12160, 'orapinforma': 12161, '52214904': 12162, '5139055': 12163, 'hilversum': 12164, 'meters': 12165, 'opticscumper': 12166, 'channelstvthats': 12167, 'intel': 12168, 'hhbu': 12169, 'woundedpigeon': 12170, 'mwnhappy': 12171, 'nottingham': 12172, 'autoames': 12173, 'hoped': 12174, 'ventilated': 12175, 'bandolier': 12176, 'dix': 12177, 'fiya': 12178, 'sourmashnumber7': 12179, 'tomfromireland': 12180, 'rfcgeom66': 12181, 'bbctalkback': 12182, 'succeed': 12183, 'detonateampshots': 12184, 'apollobrowns': 12185, 'ftåêmop': 12186, '\\x89ûïdetonate\\x89û\\x9d': 12187, 'lta': 12188, 'href': 12189, '0308': 12190, 'mazda': 12191, '30lv6': 12192, 'wpt994': 12193, 'ks161': 12194, 'ks57': 12195, '917033': 12196, 'esevu': 12197, 'googlemaps': 12198, 'calculates': 12199, 'methods': 12200, 'obtaing': 12201, 'rank': 12202, 'transcription': 12203, 'butiqob': 12204, '0106': 12205, '325ci': 12206, '25ll6': 12207, 'as10004': 12208, 'wpt410': 12209, '1580853': 12210, 'assets': 12211, 'koz': 12212, 'smp': 12213, 'ks315': 12214, 'ks100': 12215, 'waterproof': 12216, 'weiqin': 12217, 'michel': 12218, 'lujo': 12219, 'ca\\x89û': 12220, '1581017': 12221, '213924': 12222, 'trivium': 12223, 'rrusa': 12224, 'appys': 12225, 'myths': 12226, 'obscuring': 12227, 'salon': 12228, '2134678': 12229, '0206': 12230, 'acura': 12231, 'rsx': 12232, '20ll4': 12233, '917141': 12234, 'icrc': 12235, '9798': 12236, 'f250': 12237, '46lv8': 12238, 'ks111': 12239, 'meganbee92': 12240, 'kadiegrr': 12241, 'blackburns': 12242, 'pll': 12243, 'currensy': 12244, 'edwards': 12245, 'engagement': 12246, 'she\\x89ûªs': 12247, '\\x89û÷devastated\\x89ûª': 12248, 'gujaratriot': 12249, 'mumbairiot9293': 12250, '1000amp1000': 12251, 'indianperpetrated': 12252, 'chawalchorbjp': 12253, 'unwomen': 12254, 'unnewsteam': 12255, 'foto': 12256, '\\x89ûïlove': 12257, 'isn\\x89ûªt': 12258, 'rossbarton': 12259, 'gobsmackeddevastated': 12260, 'bairstow': 12261, 'buffet': 12262, 'lad': 12263, 'arfur': 12264, 'georgecole': 12265, 'argentings': 12266, 'aaaaaaallll': 12267, 'keegan172': 12268, 'cainsuch': 12269, 'wesleylowery': 12270, 'kalmikya': 12271, 'astrakhan': 12272, 'volgagrad': 12273, 'dagestan': 12274, 'locusts': 12275, 'timeworld': 12276, 'obsolete': 12277, 'ashes2015': 12278, 'c\\x89û': 12279, 'cllrraymogford': 12280, 'comprehensive': 12281, 'ssssnell': 12282, 'ropes': 12283, 'angers': 12284, 'hiroshimanagasaki': 12285, 'hungerarticles': 12286, 'rebuilding': 12287, 'livelihoods': 12288, 'breaches': 12289, 'pampalmater': 12290, 'perrybellegarde': 12291, 'firstnations': 12292, 'idlenomore': 12293, 'cndpoli': 12294, 'yyj': 12295, 'scandals': 12296, 'elation': 12297, 'themselves': 12298, 'hintdevastation': 12299, 'beyondthebomb': 12300, 'fascinating': 12301, 'propaganda': 12302, '10m': 12303, 'illustrations': 12304, 'newyear': 12305, 'momneedscoffee': 12306, 'iwontmakeit': 12307, 'devastation\\x89û': 12308, 'benediction': 12309, 'sanelesstheory': 12310, 'lovelylikelaura': 12311, 'å¬only': 12312, 'msfsea': 12313, 'massgrave': 12314, 'mclaughlin': 12315, 'timaroberts': 12316, 'nana': 12317, 'restlessness': 12318, 'afterhaiyan': 12319, 'yolandaph': 12320, 'livelihood': 12321, 'disasterrecovery': 12322, 'staining': 12323, 'cw500': 12324, 'listeria': 12325, 'theneeds': 12326, 'fin': 12327, 'pirates': 12328, 'acquired': 12329, 'blowltan': 12330, 'metepec': 12331, 'disastereoficial': 12332, 'nitclub': 12333, 'vitaly': 12334, 'churkin': 12335, 'briliantly': 12336, 'exposes': 12337, 'ukraines': 12338, 'klimkin': 12339, 'mh17': 12340, '\\x89û¢im': 12341, 'disaster\\x89û¢': 12342, 'hollyorange8': 12343, 'peoplecommunication': 12344, 'iron': 12345, 'gurmeetramrahim': 12346, 'msgdoing111welfareworks': 12347, 'appx': 12348, '65000': 12349, 'har': 12350, 'ki': 12351, 'liye': 12352, 'tyar': 12353, 'hai': 12354, 'cncpts': 12355, 'solelinks': 12356, 'amznfavorites': 12357, 'devereaux': 12358, 'askin': 12359, 'rbcinsurance': 12360, 'machines': 12361, 'nonexistant': 12362, 'photogenic': 12363, '\\x89û÷hoax': 12364, 'device\\x89ûª': 12365, 'atåêcinema': 12366, 'positively': 12367, 'nuys': 12368, '530pm': 12369, 'vannuyscouncil': 12370, 'youssefyamani': 12371, 'equation': 12372, 'recipe': 12373, 'boarding': 12374, 'galleria': 12375, 'apts': 12376, '1200000': 12377, '11000000': 12378, 'prisonlike': 12379, 'conditionsprivation': 12380, 'lizhphoto': 12381, 'outburst': 12382, 'aggression': 12383, 'sux': 12384, 'iamtalia': 12385, 'sgc72': 12386, 'displacedinjuredkilled': 12387, 'opportunity': 12388, '2065': 12389, 'origins': 12390, 'reliefweb': 12391, '1800s': 12392, 'circular': 12393, '11st': 12394, 'diplomat': 12395, 'pennlive': 12396, 'mechanicsburg': 12397, 'killeddisplaced': 12398, 'systematic': 12399, 'grahamwp': 12400, 'phelimkine': 12401, 'billboards': 12402, 'chart': 12403, 'socialmediadriven': 12404, 'refugeesmatter': 12405, 'cityofhummus': 12406, 'ilnewsflash': 12407, 'diasporas': 12408, 'nevadas': 12409, '\\x89û÷exceptional\\x89ûª': 12410, 'steady': 12411, 'droughtgov': 12412, 'dampen': 12413, 'nigerians': 12414, 'makewaterwork': 12415, 'maxed': 12416, 'westerncanadadrought': 12417, '91å¡f': 12418, 'dominicana': 12419, 'treasures': 12420, 'drains': 12421, 'trib': 12422, 'suspended': 12423, 'droughtcheck': 12424, 'iot': 12425, 'conserve': 12426, 'gfrost1985': 12427, 'jeffpalmer16': 12428, 'dqsvyusy': 12429, 'worsen': 12430, 'droughtmonitor': 12431, 'contig': 12432, '80m': 12433, 'neat': 12434, 'karinagarciaxo': 12435, 'californians': 12436, 'africas': 12437, 'sahel': 12438, 'chore': 12439, 'anderson': 12440, 'droughtfueled': 12441, 'macon': 12442, 'warnerrobins': 12443, 'milledgeville': 12444, 'ashj': 12445, 'gaabyx': 12446, 'activist': 12447, 'mydrought': 12448, 'water\\x89û': 12449, 'revealing': 12450, 'cadrought': 12451, 'lakeisabella': 12452, 'jpanzar': 12453, 'mane': 12454, '106': 12455, 'karijobe': 12456, 'tambourine': 12457, 'codycarnes': 12458, 'agusa': 12459, 'gecko': 12460, 'chillin': 12461, 'drown\\x89û': 12462, 'anchors': 12463, 'porcupine': 12464, 'lowkey': 12465, 'chromsucks': 12466, 'choke': 12467, 'k': 12468, 'cameronhigdon34': 12469, 'lwilliams13': 12470, 'cortneymo': 12471, 'mfsloose': 12472, 'buffs': 12473, 'jasminehuerta24': 12474, 'mustard': 12475, 'australians': 12476, 'oceans': 12477, 'insults': 12478, 'devote': 12479, 'reprocussions': 12480, 'retroactive': 12481, 'whiskey': 12482, 'nathans': 12483, 'jonesboro': 12484, 'utp': 12485, 'brb': 12486, 'kessily': 12487, 'allthekidneybeansandsorbet4misha': 12488, 'dmerida': 12489, 'nataly': 12490, 'cleverbot': 12491, 'ursula': 12492, 'drool': 12493, 'protoshoggoth': 12494, 'ploppy': 12495, 'stephengeorg': 12496, 'yellows': 12497, 'abcnews24': 12498, 'younoone': 12499, 'labor': 12500, 'fnaf': 12501, 'fanfiction': 12502, 'trixiedrowned': 12503, 'pageshi': 12504, 'proxies': 12505, 'promo': 12506, 'ufo4ublogeurope': 12507, 'visting': 12508, 'georgina': 12509, 'cafeawful': 12510, 'emotion': 12511, 'itsdanie': 12512, 'noooo': 12513, 'fetch': 12514, 'pyjamas': 12515, 'swam': 12516, 'bounced': 12517, 'suffice': 12518, 'uplifting': 12519, 'anchor': 12520, 'austinpearcy22': 12521, 'seeker': 12522, 'alameda': 12523, 'coke': 12524, 'scraped': 12525, 'summer2k15': 12526, 'calais\\x89û': 12527, 'eeasterling2': 12528, 'dinosaurdracula': 12529, 'jasons': 12530, 'coalitions': 12531, 'fondness': 12532, 'backing': 12533, '1984style': 12534, 'totalitarianism': 12535, 'copied': 12536, 'janiethekillr': 12537, 'sketchbook': 12538, 'biting': 12539, 'mask': 12540, 'howre': 12541, 'fences': 12542, 'swollen': 12543, 'iiii': 12544, 'riveeeeeer': 12545, 'epileptic\\x89û': 12546, '2his': 12547, 'explanation': 12548, 'acrylic': 12549, '080515': 12550, 'annoucement': 12551, 'jeesss': 12552, 'ethereal7': 12553, 'jlabuz': 12554, 'heyimbeeyt': 12555, 'nashsnewvideo': 12556, 'sometimesi': 12557, 'anxietyproblems': 12558, 'sweatfyi': 12559, 'nigeltanner1': 12560, 'newly': 12561, 'maple': 12562, 'dravet': 12563, 'drowns': 12564, 'brochure': 12565, 'downside': 12566, 'jarmusch': 12567, 'vampires': 12568, 'itblank': 12569, 'expressioncheeks': 12570, 'clapping': 12571, 'facemarvins': 12572, 'subtlety': 12573, 'breakingfalling': 12574, 'actavis': 12575, 'homukami': 12576, 'srs': 12577, 'hw': 12578, 'ohlordy': 12579, 'nwspocatello': 12580, 'bg16': 12581, 'brunt': 12582, 'grayed': 12583, 'interspersed': 12584, 'sods': 12585, 'amman': 12586, 'diverted': 12587, 'gurion': 12588, 'totoooooo': 12589, 'totoooooooooo': 12590, 'historicalmages': 12591, 'stratford': 12592, '18th': 12593, '1935': 12594, 'windits': 12595, 'alice': 12596, 'uluru': 12597, 'sneezing': 12598, 'smack': 12599, 'trailed': 12600, 'colin': 12601, 'goodness': 12602, 'rotary': 12603, 'uvopwz': 12604, 'retiredfilth': 12605, 'stormlike': 12606, 'i90': 12607, 'backups': 12608, 'geyser': 12609, 'cogxbox': 12610, 'xboxone': 12611, 'windmy': 12612, 'watches': 12613, '500th': 12614, 'duststormfilm': 12615, 'idwx': 12616, 'economics': 12617, 'hubert': 12618, 'humphrey': 12619, 'challenging': 12620, 'legacyofthesith': 12621, 'sagacioussaber': 12622, 'lordofbetrayal': 12623, 'crescent': 12624, 'trails': 12625, '82ndabndiv': 12626, 'paratroopers': 12627, 'deadlydemi': 12628, 'staying': 12629, 'tìüp': 12630, 'goggles': 12631, '07': 12632, 'helens': 12633, '0936': 12634, 'q13': 12635, 'earthquakenews': 12636, '3novices': 12637, 'tem\\x89û': 12638, 'entitlement': 12639, 'aftershocks': 12640, 'magnitudeåêåêml': 12641, '24regionåêåênear': 12642, '8km': 12643, '012624': 12644, '182624': 12645, '0011': 12646, 'raffirc': 12647, 'sustainourearth': 12648, 'wells': 12649, 'utc20150806': 12650, 'earthtwerk': 12651, 'scseestapreparando': 12652, 'mag': 12653, '73km': 12654, 'khuzdar': 12655, 'wednes': 12656, 'volcanodiscover': 12657, '165409': 12658, 'ageekyfangirl14': 12659, 'humor': 12660, 'farts': 12661, 'loupascale': 12662, 'euroquake': 12663, 'gns': 12664, 'emily': 12665, 'difficultpeople': 12666, '080': 12667, 'upgrades': 12668, 'vulnera': 12669, 'gpv': 12670, 'wnw': 12671, '12jst': 12672, '18jst': 12673, 'm157': 12674, '0111': 12675, 'utc3km': 12676, 'henshaw': 12677, '1km': 12678, 'nne': 12679, 'geysers': 12680, '234021': 12681, '164021': 12682, 'emmy': 12683, 'megaquake': 12684, '96km': 12685, 'brenas': 12686, '103424': 12687, '063424': 12688, '0400': 12689, 'adanne': 12690, 'devonbreneman': 12691, 'elecman': 12692, 'tub': 12693, 'jinx': 12694, 'edison': 12695, 'lightbulb': 12696, 'wank': 12697, 'achievement': 12698, 'replaced': 12699, 'ielectrocute': 12700, 'zxathetis': 12701, 'mmchale13': 12702, 'erally': 12703, 'unplug': 12704, 'myelf': 12705, 'lightseraphs': 12706, 'pikachu': 12707, 'omarmolina036': 12708, 'milioooo': 12709, 'emilio': 12710, 'kayla': 12711, 'armys': 12712, 'bangtan': 12713, 'policies': 12714, 'buckley': 12715, 'hideous': 12716, 'uglypeople': 12717, 'wouldelectrocute': 12718, 'eltorroloco': 12719, 'psychic': 12720, 'cactusborderlands': 12721, 'borderlands2': 12722, 'oocvg': 12723, 'ftw': 12724, 'redblood': 12725, 'videoclip': 12726, 'thatfatguy': 12727, 'khulna': 12728, 'rowysolouisville': 12729, 'steveycheese99': 12730, 'mapmyrun': 12731, 'stung': 12732, 'mwlippert': 12733, 'southkorea': 12734, 'preparedelectrocutedboiling': 12735, 'waterfur': 12736, 'hairdryer': 12737, 'earthsvoice': 12738, 'appalling': 12739, 'businessmen': 12740, 'saveti': 12741, 'drying': 12742, 'sweated': 12743, 'sockets': 12744, 'queer': 12745, 'sultry': 12746, 'rosenbergs': 12747, 'zotar50': 12748, 'skeleton': 12749, 'alchemist': 12750, 'atamathon': 12751, 'electr': 12752, 'mumbailocals': 12753, 'lessonforlife': 12754, 'marinelines': 12755, 'pressing': 12756, 'tshirts': 12757, 'docked': 12758, 'penneys': 12759, 'whistleblower': 12760, 'mp3': 12761, 'rar': 12762, 'dispatchers': 12763, 'boone': 12764, '37592': 12765, 'temporary': 12766, 'replacement': 12767, 'cosme\\x89û': 12768, 'contacts': 12769, 'alaska\\x89ûªs': 12770, 'wales': 12771, 'nearing': 12772, 'extinction': 12773, 'standforwolves': 12774, 'importance': 12775, 'exits': 12776, 'familiar': 12777, 'newyorkcity': 12778, 'lennox': 12779, 'drjustinmazur': 12780, 'diverts': 12781, 'radychildrens': 12782, 'grille': 12783, 'mounts': 12784, 'speedtech': 12785, 'amber': 12786, '544': 12787, 'x2': 12788, 'quests': 12789, '415': 12790, '7510880': 12791, 'sheltersupport': 12792, 'nonenglish': 12793, 'canal': 12794, 'tookitlikeaman': 12795, 'lovemydentist': 12796, 'runnerjoy': 12797, 'clients': 12798, 'wart': 12799, 'childfund': 12800, 'careemergencies': 12801, 'appeals': 12802, 'practitioner': 12803, 'recruitment': 12804, 'counselors': 12805, 'wasilla': 12806, 'expense': 12807, 'broader': 12808, 'akgovbillwalker': 12809, 'aul': 12810, '\\x89ûï': 12811, 'advances': 12812, 'treasurehouse': 12813, 'outbreed': 12814, 'takehome': 12815, 'akx': 12816, 'peacetime': 12817, 'leandotorg': 12818, 'lean': 12819, 'addict': 12820, 'busty': 12821, 'natalia': 12822, 'starr': 12823, 'mineenjoyfire': 12824, 'sirens\\x89û': 12825, 'adndotcom': 12826, 'chowtaxis': 12827, 'newport': 12828, 'jackie': 12829, 'bristol': 12830, 'frp': 12831, 'tunas': 12832, 'kijangbank': 12833, 'negara': 12834, '20150814': 12835, 'odai': 12836, 'bucharest': 12837, 'romania': 12838, 'dyingthey': 12839, 'each': 12840, 'printable': 12841, 'templates': 12842, 'dec': 12843, 'h20': 12844, 'deploy': 12845, 'poconorecord': 12846, 'emergencymgtmag': 12847, 'households': 12848, 'blackmail': 12849, 'devise': 12850, 'nieces': 12851, 'megan': 12852, 'swanger': 12853, 'ruthann': 12854, 'mccormick': 12855, 'daisy': 12856, 'henley': 12857, 'rs40000cr': 12858, 'lifeline': 12859, 'fci': 12860, '3612': 12861, '311': 12862, '660': 12863, 'counterstrike': 12864, 'roomsgrrrr': 12865, '\\x89ûïbasedgeorgie': 12866, 'president\\x89û\\x9d': 12867, 'whipe': 12868, 'rebeccaforreal': 12869, 'accepts': 12870, 'wisconsin': 12871, 'govwalker': 12872, 'nbc15': 12873, 'cruises': 12874, 'biztip': 12875, 'alternative': 12876, 'sami': 12877, 'autism': 12878, 'specialneeds': 12879, 'cochrane': 12880, 'enacted': 12881, 'cbccalgary': 12882, 'underpasses': 12883, 'enacts': 12884, 'undone': 12885, 'adverse': 12886, 'gotriangle': 12887, 'concludes': 12888, 'chrisroth98': 12889, 'chaselabsports': 12890, 'chillimik': 12891, 'hushlegs': 12892, 'brilliant': 12893, 'arse': 12894, 'ilford': 12895, 'glenstannard': 12896, 'essexweather': 12897, 'abouts': 12898, 'torrance': 12899, 'levy': 12900, 'wdtv': 12901, 'olympia': 12902, 'iiemergency': 12903, 'servicesft7p7a': 12904, 'ensure': 12905, 'treatmen': 12906, 'unsure': 12907, 'paging': 12908, 'domesticate': 12909, 'mechanic': 12910, 'clock': 12911, 'gba': 12912, 'sunyorange': 12913, '315': 12914, 'ctr': 12915, 'goshen': 12916, '7a730p': 12917, 'siena': 12918, 'henderson': 12919, 'karen': 12920, 'enviromental': 12921, 'tfl': 12922, 'downtime': 12923, '3p': 12924, '330a': 12925, 'lima': 12926, '247': 12927, 'swedish': 12928, 'bilsen': 12929, 'his\\x89û': 12930, 'tarzana': 12931, 'misty': 12932, 'southline': 12933, 'yennora': 12934, 'cabramatta': 12935, 'swayoung01': 12936, 'recognised': 12937, 'specialized': 12938, 'trafficalert': 12939, '210': 12940, 'citrus': 12941, 'azusa': 12942, 'motorcycles': 12943, 'crosslondon': 12944, 'accepte': 12945, 'carinduced': 12946, 'fnaftalkmc': 12947, 'inåêchaos': 12948, 'jumper': 12949, 'godsfirstson1': 12950, 'practically': 12951, 'raheelsharif': 12952, 'manifesting': 12953, 'helm': 12954, 'darkstormytidalsea': 12955, 'disdain': 12956, 'nothingness': 12957, 'blaise': 12958, 'pascal': 12959, 'propane': 12960, 'sunnymeade': 12961, 'suelinflower': 12962, 'describe': 12963, 'painthey': 12964, 'lifeits': 12965, 'zachzaidman': 12966, '670thescore': 12967, 'wld': 12968, 'boycottbears': 12969, 'parley\\x89ûªs': 12970, 'baffling': 12971, 'lucas': 12972, 'duda': 12973, 'nic': 12974, 'carneross': 12975, 'remarkably': 12976, 'postcapitalism': 12977, 'epoch': 12978, 'aliveafter5': 12979, 'elisagxrcia': 12980, 'specials': 12981, 'calestous': 12982, 'defeater': 12983, 'yeaahh': 12984, 'cydia': 12985, 'tweak': 12986, 'phillipten': 12987, 'rjailbreak': 12988, 'mkayla': 12989, 'cee': 12990, 'childish': 12991, 'organizers': 12992, 'warnings900037': 12993, 'zehrs': 12994, 'amp039monsteramp039': 12995, 'firefigthers': 12996, 'northampton': 12997, 'carriage': 12998, 'tennews': 12999, 'cascada': 13000, 'dancefloor': 13001, 'fwd': 13002, 'alllll': 13003, 'nittys': 13004, 'stockwell': 13005, 'aimlessly': 13006, 'detersion': 13007, 'hlg': 13008, 'alexis': 13009, 'joonma': 13010, 'dungeon': 13011, 'mygc': 13012, 'suspend': 13013, 'dispatch': 13014, '1000s': 13015, 'ahhtheenikki': 13016, 'pantalonesfuego': 13017, 'mthe': 13018, 'premises': 13019, 'meetkakarotto': 13020, 'offline': 13021, 'hinata': 13022, 'emilee': 13023, 'tournaments': 13024, 'whocares': 13025, 'dnjcom': 13026, 'disrupted': 13027, 'gc': 13028, '9newsbrisbane': 13029, 'bickleton': 13030, 'campers': 13031, 'blazes': 13032, 'bukidnon': 13033, 'missleylaha': 13034, 'elementary': 13035, '\\x89û÷bomb': 13036, 'threat\\x89ûª': 13037, 'twi': 13038, 'manchesterlite': 13039, 'norfolk': 13040, '115film': 13041, 'unstablethe': 13042, 'negotiations': 13043, 'seclusion': 13044, 'compliance': 13045, 'morevoices': 13046, 'travellers': 13047, 'todayng': 13048, 'humboldt': 13049, 'cty': 13050, 'sheriffs': 13051, 'residence': 13052, 'lassics': 13053, '71st': 13054, 'highland': 13055, 'medics': 13056, 'veldfest': 13057, 'refunds': 13058, 'markoturner': 13059, 'annaciclismo': 13060, 'roofing': 13061, 'halfhr': 13062, 'areavoluntaryinciwebmad': 13063, 'calfires': 13064, 'indexing': 13065, 'remedial': 13066, 'angioplasty': 13067, 'dissertation': 13068, 'dismayed\\x89û': 13069, 'roofers': 13070, 'neces': 13071, 'ericbulak': 13072, 'jaclynsonne': 13073, 'oliviaann': 13074, 'ultimatum': 13075, 'dailytimesngr': 13076, 'evac': 13077, 'gnwt': 13078, 'accidently': 13079, 'exams': 13080, 'lolla': 13081, 'addresses': 13082, 'refund': 13083, 'trc': 13084, 'torontorc': 13085, 'time\\x89û\\x9d': 13086, 'cabins': 13087, 'reidlake': 13088, 'maca': 13089, 'nwt': 13090, 'yzf': 13091, 'ibrahimmisau': 13092, 'campground': 13093, 'ariabrisard': 13094, 'leiaorganasolo': 13095, 'komo': 13096, 'noahcrothman': 13097, 'minutiae': 13098, 'champagne': 13099, 'newåêheights': 13100, 'annealiz1': 13101, 'redhead': 13102, 'attjcdemos': 13103, 'folieacat': 13104, 'timebomb': 13105, 'destined': 13106, 'loadampexplode': 13107, 'joys': 13108, 'swea': 13109, 'jonas': 13110, 'kaldi': 13111, 'rin': 13112, 'misha': 13113, 'emi': 13114, 'kenji': 13115, 'yuuko': 13116, 'nomiya': 13117, 'hisao': 13118, 'eagles\\x89ûª': 13119, 'matthews': 13120, 'hotnewscake': 13121, 'deniseromano': 13122, 'cervelli': 13123, 'puff': 13124, 'allenenbot': 13125, 'brains': 13126, 'tagged': 13127, 'attackonstiles': 13128, 'apunk': 13129, 'doll': 13130, 'greasy': 13131, 'anonchimp': 13132, 'deldryden': 13133, 'twitch': 13134, 'leafs': 13135, 'masturbates': 13136, 'crimsonfuckingv': 13137, 'bitchl0vecannon': 13138, 'seras': 13139, 'sasha': 13140, 'peice': 13141, 'sidewalk': 13142, 'kakeru': 13143, 'teduka': 13144, 'bfore': 13145, '70years': 13146, 'bomd': 13147, 'complaint': 13148, 'chelseadogs': 13149, 'kopiteluke1892': 13150, 'brandonskeie': 13151, 'samsmithworld': 13152, 'medinah': 13153, '49': 13154, 'imkeepingmydayjob': 13155, 'chaning': 13156, 'junko': 13157, 'drako': 13158, 'zarharzar': 13159, 'bluewestlo': 13160, '38745': 13161, 'luke': 13162, 'ovaries': 13163, 'kingmyth1999': 13164, 'itsnasb': 13165, 'meter': 13166, 'forbath': 13167, 'merycormier': 13168, 'cosima': 13169, 'shay': 13170, 'yumiko': 13171, 'woah': 13172, 'lenkaiswaifu': 13173, 'sparking': 13174, 'akxbskdn': 13175, 'lunasagalle': 13176, 'synapsenkotze': 13177, 'bastard': 13178, 'okgooner': 13179, 'liver': 13180, 'fallontonight': 13181, 'brewer': 13182, '51point': 13183, 'dancer': 13184, '2500fps': 13185, 'aluminum': 13186, 'missouri': 13187, 'renaomino': 13188, 'exploring': 13189, 'miì©ville': 13190, 'moregtosha': 13191, 'siteinvestigating': 13192, 'noranda': 13193, 'kfvs12': 13194, 'girardeau': 13195, 'carbondale': 13196, 'isao': 13197, 'hashimoto': 13198, 'atomicbomb': 13199, 'kircut1': 13200, 'dopest': 13201, 'strategyhua': 13202, 'aspiring': 13203, 'colinhoffman29': 13204, 'cai': 13205, 'guoqiang': 13206, 'aminespn': 13207, 'mencius': 13208, 'lordrsbiscuits': 13209, 'begforcum': 13210, 'alldaycumshots': 13211, 'cumcovered': 13212, 'sexycumshots': 13213, 'cumtown': 13214, 'bjnutt': 13215, 'cumslut2': 13216, 'girlslovecum': 13217, 'saddle': 13218, 'accountable': 13219, 'preferable': 13220, 'tawfmcaw': 13221, 'hangout': 13222, '830pm': 13223, 'est': 13224, 'amalie': 13225, 'arena': 13226, 'sunflower': 13227, 'elevator': 13228, 'noses': 13229, 'checkout': 13230, 'nurgle': 13231, 'snuck': 13232, 'khrones': 13233, 'keith': 13234, 'gusto': 13235, 'persist': 13236, 'emptypated': 13237, 'hpssjd': 13238, 'insides': 13239, 'customized': 13240, 'dcubecrafts': 13241, 'greetingcards\\x89û': 13242, 'powder': 13243, 'discussed': 13244, 'introduction': 13245, 'pittsburgh': 13246, 'barcousky': 13247, 'pb': 13248, 'squibby': 13249, 'identification': 13250, 'rhode': 13251, 'modernize': 13252, 'eyewitness\\x89û': 13253, 'gleaned': 13254, 'actively': 13255, 'embraced': 13256, 'audiences': 13257, 'emhub': 13258, 'ugc': 13259, 'anarchy': 13260, 'kaputt21': 13261, 'gregory': 13262, 'wickett': 13263, 'cbs3': 13264, 'redwing': 13265, 'team\\x89û': 13266, 'wexler': 13267, 'sanford': 13268, 'hardcover': 13269, '\\x89ûïlittle': 13270, 'boy\\x89û\\x9d': 13271, 'schoolboy\\x89ûªs': 13272, 'tn': 13273, 'psychologist': 13274, 'kern': 13275, 'airing': 13276, 'kbak': 13277, 'cbs29': 13278, 'liveonkbak': 13279, 'illustrated': 13280, 'horrifying': 13281, 'organ': 13282, 'harvesting': 13283, 'patrickjbutler': 13284, 'damiengayle': 13285, 'expect\\x89û': 13286, 'notorious': 13287, 'laboratory': 13288, 'dealer': 13289, 'peta': 13290, 'wbre': 13291, 'wyou': 13292, 'dorling': 13293, 'kindersley': 13294, 'publishing': 13295, 'staff\\x89û': 13296, 'honduran': 13297, 'minors': 13298, 'freed': 13299, 'bokoharam': 13300, 'captives': 13301, '\\x89ûïi': 13302, 'macia': 13303, 'testified': 13304, 'macia\\x89ûªs': 13305, 'oct336': 13306, 'wsoaring': 13307, 'zonesthank': 13308, 'gallup': 13309, 'ari\\x89û': 13310, 'unu': 13311, 'redeem': 13312, 'serene': 13313, 'robertmeyer9': 13314, 'farmers': 13315, 'peoplegt': 13316, 'holodomor': 13317, 'exporting': 13318, 'solving': 13319, 'you\\x89û': 13320, 'bluebell': 13321, 'tasted': 13322, 'writes4coffee': 13323, 'iartg': 13324, 'rwa': 13325, 'tw4rw': 13326, 'rrbc': 13327, 'financialtimes': 13328, 'regimes': 13329, 'faminemega': 13330, '0840728': 13331, 'dynamix': 13332, '\\x89û÷food': 13333, 'crematoria\\x89ûª': 13334, 'famineåêmemories': 13335, 'bolshevik': 13336, 'monopolized': 13337, 'seize': 13338, 'hunhry': 13339, 'rotting': 13340, 'smelled': 13341, 'savagenation': 13342, 'peasants': 13343, 'stalins': 13344, 'redistribute': 13345, 'faminedeath': 13346, '1russian': 13347, 'recal': 13348, 'mineness': 13349, 'guidofawkes': 13350, 'mediaguido': 13351, 'provokes': 13352, 'maratha': 13353, 'scorched': 13354, 'bengalis': 13355, 'hopeinchrist': 13356, 'lifelettercafe': 13357, 'surfphoto': 13358, 'squeezed': 13359, 'blubber': 13360, 'goodells': 13361, 'appeared': 13362, 'apd': 13363, 'asianshawtyy': 13364, '30s': 13365, 'hitandrun': 13366, 'khqa': 13367, 'winnipeg': 13368, 'arlington': 13369, 'chrisdanielshow': 13370, 'nearlyfatal': 13371, 'pee': 13372, 'remaster': 13373, 'frame': 13374, 'windwakerstyle': 13375, 'dubbo': 13376, 'dailyliberal': 13377, 'wrongway': 13378, 'flaws': 13379, 'driveby': 13380, 'dispute': 13381, 'gunfail': 13382, 'immigrant': 13383, 'arrests': 13384, 'spookyfob': 13385, 'feelslikefob': 13386, 'stump': 13387, 'adopt': 13388, 'whyor': 13389, 'ballews': 13390, '3yearold': 13391, '179': 13392, 'onduty': 13393, 'nypd': 13394, '3åê\\x89û': 13395, 'econom': 13396, 'possess': 13397, 'implores': 13398, 'motorists': 13399, 'reserves': 13400, 'kyrikoni': 13401, 'expressandstar': 13402, 'veg': 13403, 'engines': 13404, '6month': 13405, '662': 13406, '114': 13407, 'hse': 13408, 'stretched': 13409, 'its\\x89û': 13410, '11382': 13411, 'illnesses': 13412, 'osage': 13413, 'coolweird': 13414, 'skinless': 13415, 'abha': 13416, 'wisely': 13417, 'carnage': 13418, 'continuinglet': 13419, 'ggindependencmessage': 13420, 'gross': 13421, 'xrays': 13422, 'dwilliams313': 13423, 'ieansquad': 13424, 'kitana': 13425, 'slay': 13426, '\\x89ûókody': 13427, 'kombatfans33': 13428, 'osp': 13429, 'mounting': 13430, 'hiroshimasized': 13431, 'allocating': 13432, 'veneto': 13433, 'biterelated': 13434, 'fatalitiesxray': 13435, 'motordom': 13436, 'lobbied': 13437, 'visionzero': 13438, 'failing': 13439, 'yield': 13440, 'segas': 13441, 'reduces': 13442, 'kevinedwardsjr': 13443, 'fatalitiesxrays': 13444, '400000\\x89ûò800000': 13445, 'healthandsafety': 13446, 'immensely': 13447, 'policylab': 13448, 'cecanfs': 13449, 'neglect': 13450, 'freemarketeer': 13451, 'dibang': 13452, 'enca': 13453, 'onboard': 13454, 'boards': 13455, '616': 13456, 'ebrointheam': 13457, 'jaybig': 13458, 'lpunbiggiewrap': 13459, 'overzero': 13460, 'questionfatalityflawless': 13461, 'jakeadavis': 13462, 'cuddling': 13463, 'trulystings': 13464, 'savages': 13465, 'gangstermail': 13466, 'samsung': 13467, 'hibernating': 13468, 'pbx': 13469, 'irrespective': 13470, 'careerism': 13471, 'crbzfz': 13472, 'lyme': 13473, 'hripsk': 13474, 'corpse': 13475, 'jittering': 13476, 'tellyfckngo': 13477, 'jaycootchi': 13478, 'sond': 13479, 'babality': 13480, 'bardissimo': 13481, 'baskets': 13482, 'charming': 13483, 'tonyakappes11': 13484, 'paranormal': 13485, 'highestranking': 13486, 'babybackreeve': 13487, '08315': 13488, 'utica': 13489, 'pleasant': 13490, 'aveblack': 13491, 'paws': 13492, 'pxnatosil': 13493, 'renunciedilma': 13494, 'jaxmk2': 13495, 'fatalityuudlk': 13496, 'mileena': 13497, 'chrisman528': 13498, '40w': 13499, 'us70': 13500, 'lindasocvat': 13501, 'deathmule': 13502, 'mk': 13503, 'tremors': 13504, 'stalag': 13505, 'ermac': 13506, 'tournament': 13507, 'ssb4': 13508, 'losers': 13509, 'fuddy': 13510, 'authenticating': 13511, 'sole': 13512, 'overcome': 13513, 'tcc': 13514, 'phnotf': 13515, 'cheekiness': 13516, 'bleeds': 13517, 'recoil': 13518, 'strongminded': 13519, 'keeper': 13520, 'runnin': 13521, 'disappointing': 13522, 'passive': 13523, 'coerced': 13524, 'commitment': 13525, 'organizationsfluctuations': 13526, 'disturbances': 13527, 'imbalancesare': 13528, 'margaret': 13529, 'wheatley': 13530, 'musicvideo': 13531, 'luzukokoti': 13532, 'umntu': 13533, 'wakho': 13534, 'referencereference': 13535, 'xekstrin': 13536, 'partake': 13537, 'baileysmsteach': 13538, 'doing\\x89ûahhh\\x89ûthat': 13539, 'perrychat': 13540, 'blackinamerica': 13541, 'cowgirllawyer': 13542, 'intoxicated': 13543, 'ampor': 13544, 'creative': 13545, 'interviewed': 13546, 'anatomy': 13547, 'loathing': 13548, 'vegassolitude': 13549, 'xmas': 13550, 'shakjn': 13551, 'c7': 13552, 'magnums': 13553, 'choosegod': 13554, 'restoringpaths': 13555, 'scottdpierce': 13556, 'billharristv': 13557, 'harrisgle': 13558, 'beezersun': 13559, 'forfeiting': 13560, 'xfiles': 13561, 'thexfiles201days': 13562, 'balanced': 13563, 'ought': 13564, 'untangle': 13565, 'besttalkradio': 13566, 'spin': 13567, '23rd': 13568, 'mcnabbychic': 13569, 'knowledge': 13570, 'foolish': 13571, 'amsal': 13572, 'denying': 13573, 'polar': 13574, 'sensanders': 13575, 'wrked': 13576, 'reed': 13577, '8437150124': 13578, 'achieving': 13579, 'deltachildren': 13580, 'instaquote': 13581, 'quoteoftheday': 13582, 'waltdisney': 13583, 'motivator': 13584, 'reflections': 13585, 'forms': 13586, 'selfdelusion': 13587, 'selfseeking': 13588, 'selfpity': 13589, 'morganite': 13590, 'gemstone': 13591, 'opal': 13592, '925': 13593, 'r1354': 13594, '3x5': 13595, 'salisbury': 13596, '325': 13597, 'cypress': 13598, '10am': 13599, 'misshomasttopa': 13600, 'nowwwwww': 13601, 'header': 13602, 'canonusaimaging': 13603, 'canonbringit': 13604, 'canontattoo': 13605, 'mn': 13606, 'theresmorewherethatcamefrom': 13607, 'seanhannity': 13608, 'wcw': 13609, 'catsandsyrup': 13610, 'icy': 13611, 'rum': 13612, 'daughterofnai': 13613, 'tenshi': 13614, 'yukis': 13615, 'shakingcatching': 13616, 'fireand': 13617, 'overcharging': 13618, 'justinling': 13619, 'rainbows': 13620, 'cyhi': 13621, 'run\\x89û': 13622, 'zomatoaus': 13623, 'lovefood': 13624, 'obstacles': 13625, 'dontexpectnothing': 13626, 'bon': 13627, 'smores': 13628, 'brant': 13629, 'drummond': 13630, 'rfp': 13631, 'f450': 13632, 'transporta': 13633, 'pugwash': 13634, 'population6': 13635, '3n133': 13636, 'ufn': 13637, 'brooktekle': 13638, 'pat': 13639, 'spen': 13640, 'kapokekito': 13641, 'northgate': 13642, 'wompppp': 13643, 'k3': 13644, 'prayforsaipan': 13645, 'eeenice221': 13646, 'justinejayyy': 13647, 'ohgod': 13648, 'mineenjoybabes': 13649, 'reopened': 13650, '1952': 13651, 'dodge': 13652, 'bodied': 13653, 'libby': 13654, 'ori\\x89û': 13655, 'trident': 13656, '90225': 13657, 'ims': 13658, 'ho': 13659, '187': 13660, 'bedding': 13661, 'sticker': 13662, 'decals': 13663, 'racer': 13664, 'clogs': 13665, 'rgj': 13666, 'cebu': 13667, 'philippi': 13668, 'nno': 13669, 'jaymcleanauthor': 13670, 'filipino': 13671, 'jade': 13672, 'nashvillefd': 13673, 'swiftly': 13674, 'praying': 13675, '10k': 13676, 'doningtondash': 13677, '11am': 13678, 'donington': 13679, 'detkenlang': 13680, 'smartteks': 13681, 'gpsbased': 13682, 'mpers': 13683, '\\x89û÷we': 13684, 'carmike': 13685, 'cinemas': 13686, 'roadid': 13687, 'vimeo': 13688, 'juneau': 13689, 'reds': 13690, 'lightly': 13691, 'reserved': 13692, 'kirsten': 13693, 'gillibrand': 13694, 'extend': 13695, 'convene': 13696, 'awards': 13697, 'gis': 13698, 'gisuserpr': 13699, 'geotech': 13700, '\\x89û÷badges': 13701, 'blood\\x89ûª': 13702, 'resilience': 13703, 'factsheet': 13704, 'iafflocal4416': 13705, 'bridgeportspeed': 13706, '999day': 13707, 'participating': 13708, 'intensive': 13709, 'antiochhickoryhollowtn': 13710, 'lender': 13711, 'linkedin': 13712, 'pantofel': 13713, 'pin23928835': 13714, 'pictwittercompnpizody': 13715, 'elreynetwork': 13716, 'summon': 13717, 'fineme': 13718, 'momdies': 13719, 'chachi': 13720, 'kelworldpeace': 13721, 'taxstone': 13722, 'sbnation': 13723, 'igs': 13724, 'partys': 13725, 'gilderoy': 13726, '100nd': 13727, 'tadhgtgmtel': 13728, 'manly': 13729, 'pin2327564d': 13730, 'shocking\\x89ûï': 13731, 'benstracy': 13732, 'rp': 13733, 'silo': 13734, '260th': 13735, 'hartford': 13736, 'we\\x89ûªll': 13737, 'bod': 13738, 'portgassdk': 13739, 'bravery': 13740, 'erinmariefishy': 13741, 'flamesnation': 13742, 'pardon': 13743, 'mindless': 13744, 'awickedassassin': 13745, 'hugged': 13746, 'tightly': 13747, 'selmoooooo': 13748, 'edvinnn': 13749, 'imtariik': 13750, 'dzaficharis': 13751, 'selmo': 13752, 'slaughter': 13753, 'rubybot': 13754, 'thh': 13755, 'furst': 13756, 'aisumage': 13757, 'akumareisu': 13758, 'gray': 13759, 'ophelia': 13760, 'soloquiero': 13761, 'firefighte': 13762, 'cwhoops': 13763, 'advantages': 13764, 'apropos': 13765, 'favorable': 13766, 'pwhvgwax': 13767, 'cartoonylike': 13768, 'papa': 13769, 'pennies': 13770, 'wrestler': 13771, 'muaytai': 13772, 'wantmyabsback': 13773, 'hiroshima70000': 13774, 'outright': 13775, 'yosemite': 13776, 'drumpf': 13777, '\\x89ûïnobody': 13778, '\\x89û÷ill': 13779, 'rabbit': 13780, 'ahuh': 13781, 'say\\x89û\\x9d': 13782, 'grabakahitman': 13783, 'izigarcia': 13784, 'machidadid': 13785, 'fightnope': 13786, 'floored4': 13787, 'cups': 13788, 'lag': 13789, 'drink\\x89û': 13790, 'conklin': 13791, 'masonite': 13792, 'wahpeton': 13793, 'fylde': 13794, 'preston\\x89ûªs': 13795, 'disappearing': 13796, 'iamhorsefly': 13797, 'mbiwa': 13798, 'jimmozel': 13799, 'puckflattened': 13800, 'implicit': 13801, 'kainyusanagi': 13802, 'grummz': 13803, 'pixelcanuck': 13804, 'balding': 13805, 'emo': 13806, 'generic': 13807, 'seanpeconi': 13808, 'jasonfloyd': 13809, 'lynchonsports': 13810, 'criscyborg': 13811, 'mums': 13812, 'muppet': 13813, 'tweetinglew': 13814, 'tersestuff': 13815, 'notley': 13816, 'heartland': 13817, 'tfw': 13818, 'slaves': 13819, 'twilightfairy': 13820, 'robertcalifornia': 13821, 'thereisonlysex': 13822, 'bigburgerboi55': 13823, 'footballs': 13824, 'spartans': 13825, 'crushing': 13826, 'satanaofhell': 13827, 'dreamy': 13828, 'fizzy': 13829, 'seats': 13830, 'harlan': 13831, 'knox': 13832, 'bigåêconsequences': 13833, 'homecoming': 13834, 'prom': 13835, 'fighter': 13836, 'creationmin': 13837, 'rwrabbit': 13838, 'gooneratheist': 13839, 'atheistic1': 13840, 'lolatjesus': 13841, 'robertbenglunds': 13842, 'atlarnxx': 13843, 'hellotybeeren': 13844, '12v': 13845, '24v': 13846, '85v265v': 13847, '10w': 13848, 'pir': 13849, 'auc': 13850, 'iembothfo': 13851, 'atv': 13852, 'basics': 13853, 'defective': 13854, 'intertissue': 13855, 'guabxfv': 13856, 'bmx': 13857, 'areal': 13858, 'grantfactory': 13859, 'weymouth': 13860, 'seawalls': 13861, '428pm': 13862, 'peeked': 13863, 'immune': 13864, 'deafening': 13865, 'westchester': 13866, 'eligible': 13867, 'arrives': 13868, 'sittway': 13869, '710pm': 13870, '800pm': 13871, 'elk': 13872, 'monday\\x89ûªs': 13873, 'while\\x89û': 13874, 'warlordqueen': 13875, 'thrusts': 13876, '1130a': 13877, 'showersstorms': 13878, 'areasminor': 13879, 'hunwx': 13880, 'joints': 13881, 'eliminate': 13882, 'homeimprovement': 13883, 'adorableappple': 13884, 'ten4': 13885, 'laos': 13886, 'ukfloods': 13887, 'slopeofhope': 13888, 'dilute': 13889, 'mold': 13890, 'proudgreenhome': 13891, 'seekers': 13892, 'ndetention': 13893, 'wunscreened': 13894, 'dcclothesline': 13895, 'netkicorp': 13896, 'guests': 13897, 'themaine': 13898, 'janice': 13899, '\\x89ûïbbcengland': 13900, 'no2': 13901, 'crabbycale': 13902, 'ny1': 13903, 'ny1burst': 13904, 'ocnj': 13905, 'kwislo': 13906, 'prompting': 13907, 'joined\\x89û': 13908, 'lakh\\x89û': 13909, 'thankkk': 13910, 'notificationsu': 13911, 'parsholics': 13912, 'superb': 13913, 'awesomelove': 13914, 'frvrgrateful': 13915, 'sliding': 13916, 'wtony': 13917, 'nester': 13918, 'sonoranrattler': 13919, 'writingtips': 13920, 'landsli': 13921, '119000': 13922, '966': 13923, 'ictyosaur': 13924, 'madonnamking': 13925, 'density': 13926, 'cyberdemon531': 13927, 'dew': 13928, 'erodes': 13929, 'dmt': 13930, 'heared': 13931, 'fab': 13932, 'albertsons': 13933, 'naypyidaw': 13934, 'prensa': 13935, 'latina': 13936, 'casewrites': 13937, 'taxes': 13938, 'glory': 13939, 'luiz': 13940, 'santos': 13941, 'contactenergy': 13942, 'clyde': 13943, 'releasing': 13944, 'speccy': 13945, 'bamenda': 13946, 'portaloos': 13947, 'sentient': 13948, 'chieftain': 13949, 'tasks': 13950, 'dickson': 13951, 'n15b': 13952, '712am': 13953, 'panay': 13954, 'guimaras': 13955, 'mountainous': 13956, '40hourfamine': 13957, 'paraguay': 13958, 'etp': 13959, 'dua': 13960, '250000': 13961, 'philippines\\x89û': 13962, 'gtas': 13963, 'gtservers': 13964, 'gtmaintenance': 13965, 'anew': 13966, 'e112': 13967, 'particulatebreak': 13968, 'voltaic': 13969, 'vocpetroleum': 13970, 'bacteria': 13971, 'decomposition': 13972, 'beaverton': 13973, 'ori': 13974, 'bind': 13975, 'wardens': 13976, 'ashenforest': 13977, 'floorburnt': 13978, 'manzanita': 13979, 'timber': 13980, 'hornybigbadwolf': 13981, 'column': 13982, 'inbetween': 13983, '515p': 13984, 'fme': 13985, 'tmake': 13986, 'tthe': 13987, 'bhome': 13988, '7p': 13989, 'socal': 13990, 'ybtheprophet': 13991, 'realhiphop': 13992, 'ruhl': 13993, '38': 13994, 'modoc': 13995, 'temporarily': 13996, 'reassigned': 13997, 'usfs': 13998, 'acronym': 13999, 'naturaldisasters': 14000, 'nycdivorcelaw': 14001, 'bloom': 14002, 'alska': 14003, 'seeweed': 14004, 'caribean': 14005, 'inhofe': 14006, 'gt50': 14007, 'qave': 14008, 'knowlddge': 14009, 'rstormcoming': 14010, 'palmoil': 14011, 'forestfires': 14012, 'smokey': 14013, 'nightmares': 14014, 'bcpoli': 14015, 'canpoli': 14016, 'vanpoli': 14017, 'braves': 14018, 'dumping': 14019, 'heartdisease': 14020, 'pharrell': 14021, 'inciweb': 14022, '8515': 14023, 'nf': 14024, 'abbyairshow': 14025, 'simpson\\x89û': 14026, 'campsite': 14027, 'recommendations': 14028, 'toilets': 14029, 'pub': 14030, 'midges': 14031, 'snakes': 14032, 'straightfire': 14033, 'b1g': 14034, 'bmurph1019': 14035, 'hailyoutsey': 14036, 'termn8r13': 14037, 'goblue': 14038, 'wrestleon': 14039, 'avenged': 14040, 'sevenfold': 14041, 'szuter': 14042, 'tremblayeh': 14043, 'sirmixalot': 14044, 'lzk': 14045, '815': 14046, 'dawgs': 14047, 'dak': 14048, 'jak': 14049, 'rnk': 14050, 'rockingham': 14051, 'stokes': 14052, 'chojo': 14053, 'pumpkin': 14054, 'wxii': 14055, 'davidson': 14056, 'heyseto': 14057, 'kmactwn': 14058, 'meaganerd': 14059, 'cereal': 14060, 'kelloggs': 14061, 'sugar': 14062, 'crunchy': 14063, 'modnao23': 14064, 'migraine': 14065, 'fazerain': 14066, 'hailzel': 14067, 'overhead': 14068, 'oakridge': 14069, 'hailyycstorm': 14070, 'heyitsepark': 14071, 'flow397': 14072, 'atcha': 14073, 'golfball': 14074, 'parkchat': 14075, 'lt75': 14076, 'kevin': 14077, 'chefs': 14078, 'pastures': 14079, 'caesars': 14080, 'darkndtatted': 14081, 'hires': 14082, 'doppler': 14083, 'edmond': 14084, 'meade': 14085, 'postering': 14086, 'calgaryfringe': 14087, 'mothernature': 14088, 'yycfringe': 14089, 'killhard': 14090, '375000': 14091, 'produces': 14092, 'autobody': 14093, 'peterhowenecn': 14094, '630830': 14095, 'necn': 14096, 'tricky': 14097, 'dicky': 14098, 'hailthe': 14099, 'summons': 14100, 'adriasimon': 14101, 'round2': 14102, 'crazyweather': 14103, 'pummel': 14104, 'sworn': 14105, 'errrr': 14106, 'notgoingoutinthat': 14107, 'hellonwheelsamc': 14108, 'howfans': 14109, 'talkinghell': 14110, 'hailing': 14111, 'haildamage': 14112, 'captureyyc': 14113, 'sto\\x89û': 14114, 'xpost': 14115, 'rcityporn': 14116, '4608ìñ2474': 14117, 'carlilescanoelivery': 14118, 'lovemyjob': 14119, 'cowx': 14120, 'councilscc': 14121, 'hailstorm\\x89û': 14122, 'pots': 14123, 'iamdowntown': 14124, 'avoids': 14125, 'reviewing': 14126, 'hail\\x89û': 14127, 'tareksocal': 14128, 'stones': 14129, 'vanderbilt': 14130, 'leedsrouge': 14131, 'himself': 14132, 'annoyed': 14133, 'audaciousspunk': 14134, 'dumbass': 14135, 'concur': 14136, 'mmk': 14137, 'tagging': 14138, 'dinallyhot': 14139, 'isisi': 14140, 'liferebooting': 14141, 'mindblowing': 14142, 'improvements': 14143, '198': 14144, 'wayward': 14145, 'qzloremft': 14146, 'meampbeat': 14147, 'otratmetlife': 14148, 'standardized': 14149, 'parentsacrossam': 14150, 'billgates': 14151, '\\x89ûïfor': 14152, 'you\\x89û\\x9d': 14153, '\\x89ûïplans': 14154, 'prosper': 14155, 'laurenmiller7': 14156, 'angelstar39': 14157, 'protected': 14158, 'vilelunar': 14159, 'trickshot': 14160, 'controller': 14161, 'ads': 14162, 'gards': 14163, 'reblogged': 14164, 'wowsavannah': 14165, 'collectibles': 14166, 'randy': 14167, '5hvzlaradio': 14168, 'bros': 14169, 'wwexdreamer': 14170, 'malistkiss': 14171, 'shias': 14172, 'defeats': 14173, 'ideals': 14174, 'news4buffalo': 14175, 'guardrails': 14176, 'spacewolverine': 14177, 'tastemycupcakee': 14178, 'lmfaooo': 14179, 'nawh': 14180, 'rjg0789': 14181, 'idki': 14182, 'sterotypical': 14183, 'annddd': 14184, 'colorism': 14185, 'prevalent': 14186, 'classycolkett': 14187, 'thorgan': 14188, 'gladbach': 14189, '\\x89û÷it': 14190, 'sick\\x89ûª': 14191, 'deemed': 14192, '\\x89û÷hazard\\x89ûª': 14193, 'longbreastyat': 14194, 'chaboyyhd': 14195, 'phiddleface': 14196, 'cascade': 14197, 'childress': 14198, 'uphill': 14199, 'hazarddi': 14200, 'daviss': 14201, 'judith': 14202, 'hopfer': 14203, 'deglin': 14204, 'vallerand': 14205, 'sanchez': 14206, 'bolasie': 14207, 'thatpersianguy': 14208, 'youngsafe': 14209, 'flopping': 14210, 'identical': 14211, 'fanboys': 14212, 'dannyraynard': 14213, 'berahino': 14214, 'arsenals': 14215, 'hector': 14216, 'bellerin': 14217, 'hazard\\x89û': 14218, 'dismissed': 14219, 'occupational': 14220, '9503': 14221, '528': 14222, '540': 14223, '740': 14224, '20177707d': 14225, 'talisman': 14226, 'cristiano': 14227, 'mipasho': 14228, 'deaddreamer15': 14229, 'thatd': 14230, 'onesie': 14231, 'tomdean86': 14232, 'hazardwillian': 14233, 'shifted': 14234, '862015132': 14235, 'deans': 14236, 'mav': 14237, 'sthing': 14238, 'hazarddangerous': 14239, 'tipster': 14240, 'previews': 14241, '481': 14242, 'donuts': 14243, 'hazardu': 14244, 'wingers': 14245, 'prem': 14246, 'willian': 14247, '862015108': 14248, 'wrightsboro': 14249, 'wholeteam3': 14250, 'wholesaleent': 14251, 'offloading': 14252, 'saturated': 14253, 'hillymountain': 14254, 'assessment': 14255, 'optimization': 14256, 'routing': 14257, 'igmpj': 14258, 'dangling': 14259, 'piercing': 14260, 'crystals': 14261, 'nonhazardous': 14262, 'chemicals': 14263, 'strives': 14264, 'ecofriendly': 14265, 'multidimensional': 14266, 'quarrels': 14267, '0913': 14268, 'hearitfrompa': 14269, 'hearitfrompatty': 14270, 'inject': 14271, 'veins': 14272, 'theblackshag': 14273, 'dannyoneil': 14274, 'toxiccancerdiseasehazardous': 14275, 'wastenoxious': 14276, 'joshlado': 14277, 'joshua': 14278, 'eversafe': 14279, 'rushhour': 14280, 'jumperca\\x89û': 14281, 'mtr': 14282, 'terwilliger': 14283, 'pp15000266858': 14284, '1726': 14285, 'psd': 14286, 'startelegram': 14287, 'rawfoodbliss': 14288, 'forehead': 14289, 'tbs': 14290, 'lawx': 14291, 'lightman': 14292, 'apocalpytic': 14293, 'heebsterrr': 14294, 'waseembadami': 14295, 'condemning': 14296, 'gv': 14297, 'heirs': 14298, 'frightening': 14299, 'creationsbykole': 14300, 'cork': 14301, 'irelandwe': 14302, 'todaythat': 14303, 'hollywarnexx': 14304, 'apaz': 14305, 'ltpgtan': 14306, 'states\\x89û': 14307, 'uae': 14308, 'mideast': 14309, 'heatwave': 14310, 'ncms': 14311, 'thundering': 14312, 'klarajoelsson': 14313, '43c': 14314, 'revitup': 14315, 'pizzarev': 14316, 'wfaaweather': 14317, 'frisco': 14318, 'scouts': 14319, 'okla': 14320, '7amdollela': 14321, '3la': 14322, 'kulli': 14323, '7aal': 14324, 'thoughwill': 14325, 'nbc10': 14326, 'rachelcaine': 14327, 'weatherit': 14328, 'chilli': 14329, 'doritos': 14330, 'compensations': 14331, 'palinfoen': 14332, 'lipstick': 14333, 'rediscovered': 14334, 'nars\\x89ûª': 14335, '\\x89û÷heat': 14336, 'wave\\x89ûª': 14337, 'emilyschuman': 14338, 'startide': 14339, 'hotter': 14340, 'kristenkoin6': 14341, 'pdxabq': 14342, '\\x89û÷05': 14343, 'youheat': 14344, 'vol': 14345, '5\\x89ûª': 14346, 'deejayempiresound': 14347, 'founding': 14348, 'orchid': 14349, 'shite': 14350, 'plez': 14351, 'deedeecasey': 14352, 'caves': 14353, 'silentmind': 14354, 'bookofdaniel': 14355, 'jyheffect': 14356, 'hellfireev': 14357, 'jackperu1': 14358, 'oversee': 14359, 'hunchback': 14360, 'notre': 14361, 'reply': 14362, 'cocktail': 14363, 'mas': 14364, 'verde': 14365, 'mezcal': 14366, 'chartreuse': 14367, 'cucumber': 14368, 'bitters': 14369, 'ggkeeponrockin': 14370, 'strawberrysoryu': 14371, 'suspicious': 14372, 'fel': 14373, 'zakuun': 14374, 'gargoyle': 14375, 'hoof': 14376, 'coil': 14377, 'mechamacgyver': 14378, 'fadc': 14379, 'usarmy': 14380, 'jagm': 14381, 'tow': 14382, 'scam': 14383, 'sarcastic': 14384, 'dreamoforgonon': 14385, 'teeess': 14386, 'bona': 14387, 'fide': 14388, 'cislady': 14389, 'incidental': 14390, 'gaybi': 14391, 'macs': 14392, 'everton': 14393, '14yearold': 14394, 'wonderkid': 14395, 'donjazzy': 14396, 'policeng': 14397, 'humanrights': 14398, 'expresident': 14399, 'goodluck': 14400, 'mockingpanems': 14401, 'cuddlesforjen': 14402, 'music212': 14403, 'bayelsaåêstate': 14404, 'harman': 14405, 'consumerist': 14406, 'entension': 14407, 'apcåêpdp': 14408, 'welshninja87': 14409, 'vuln': 14410, 'cautious': 14411, 'rickybonessxm': 14412, 'u2': 14413, 'sirius': 14414, 'sayin': 14415, 'jasoncundy05': 14416, 'utd': 14417, 'pedro20': 14418, 'chowchilla': 14419, 'schoenfeld': 14420, 'hijackerturnedsattutor': 14421, 'evaded': 14422, 'browseråêhijacker': 14423, 'testa': 14424, 'distinction': 14425, 'divers': 14426, 'htarvrgly': 14427, '\\x89û÷hijacker': 14428, 'cops\\x89ûª': 14429, 'mauds99': 14430, 'jagexhelpdibi': 14431, 'jag': 14432, 'demco': 14433, '8550013': 14434, 'hitch': 14435, '21k': 14436, 'ultra': 14437, 'casting': 14438, 'deviating': 14439, 'dyxtmrydu': 14440, 'anthelmintic': 14441, 'drawing': 14442, 'ladyfleur': 14443, 'cafì©': 14444, 'whashtag': 14445, 'skateboards': 14446, 'saferåê': 14447, 'ampmdash': 14448, 'bronville': 14449, 'waiver': 14450, 'koreans': 14451, 'vosloorus': 14452, 'gauteng': 14453, '2300': 14454, 'toyota': 14455, 'bkb066gp': 14456, 'drsarwatzaib070': 14457, 'mcourt': 14458, 'parliment': 14459, 'hotspot': 14460, 'oneman': 14461, 'twimbos': 14462, 'zimpapersviews': 14463, 'mcr': 14464, 'snort': 14465, 'flavorchargedtea': 14466, 'egyptian': 14467, '1717': 14468, '\\x89û÷ransomware\\x89ûª': 14469, 'man\\x89ûªs': 14470, 'wilsons': 14471, 'other\\x89û': 14472, 'windowsill': 14473, '\\x89û÷muslim': 14474, 'women\\x89ûª': 14475, 'aren\\x89ûªt': 14476, 'heregtcnn': 14477, 'purported': 14478, 'susanj357': 14479, 'allinwithchris': 14480, 'radical': 14481, 'mugged': 14482, 'holdin': 14483, 'evahanderek': 14484, 'marleyknysh': 14485, 'trinna': 14486, 'adoptive': 14487, 'mylittlepwnies3': 14488, 'earlymay': 14489, 'anathemazhiv': 14490, 'tonysandos': 14491, 'positivity': 14492, 'behead': 14493, 'tlvfaces': 14494, 'tlvfacesauspol': 14495, 'airasia': 14496, 'wut': 14497, 'ditched': 14498, 'hungrier': 14499, 'captivity': 14500, 'introduced': 14501, 'compensate': 14502, '53\\x89û': 14503, 'gideonstrumpet': 14504, 'mcconnell': 14505, 'judicial': 14506, 'nominations': 14507, 'govern': 14508, 'unharmed': 14509, 'who\\x89û': 14510, 'hannahkauthor': 14511, 'freeamirnow': 14512, 'freeallfour': 14513, 'superiority': 14514, 'unconditional': 14515, 'broadcast': 14516, 'quottelevision': 14517, 'quotoperations': 14518, 'since3g': 14519, 'superv': 14520, 'overåêhostages': 14521, 'natalie': 14522, 'stavola': 14523, 'costar': 14524, 'lhmovie': 14525, 'indiefilm': 14526, 'render': 14527, 'proxy': 14528, 'ssu': 14529, 'xaviermarquis': 14530, 'meaningless': 14531, 'damsels': 14532, 'peers': 14533, 'texansdc': 14534, 'kylekrenek': 14535, 'zepp1978': 14536, 'frobeusns': 14537, 'submitt': 14538, 'aviationaddicts': 14539, 'referred': 14540, 'barak': 14541, 'depends': 14542, 'favors': 14543, 'banditregina': 14544, 'caroline': 14545, 'bigsby': 14546, '\\x89û÷leaves': 14547, 'languishing': 14548, 'iran\\x89ûª': 14549, 'noirandeal': 14550, 'tedcruz2016': 14551, '178': 14552, 'florid': 14553, 'contd': 14554, '40pg': 14555, 'movt': 14556, 'nervana1': 14557, 'behaviour': 14558, 'pleasantly': 14559, 'div': 14560, 'zaynmaiikist': 14561, 'grapes': 14562, 'eggalie': 14563, 'guyreginald': 14564, 'hurricanedame': 14565, 'lavapixcom': 14566, 'chubbysquirrel': 14567, 'hurricanesurge': 14568, 'gt33333': 14569, 'shanaynay': 14570, 'shootas': 14571, 'burner': 14572, '30stm': 14573, 'quem': 14574, 'lembra': 14575, 'dancers': 14576, 'margarita': 14577, 'engle': 14578, 'holt': 14579, 'byr': 14580, 'sunburned': 14581, 'freegeezy17': 14582, 'mixxtail': 14583, 'watermelon': 14584, 'loko': 14585, 'brittsand9': 14586, 'vinustrip': 14587, 'hurricanetyphoon': 14588, 'ratingscategories': 14589, 'defined': 14590, 'hwrf': 14591, 'lashes': 14592, 'taipei': 14593, 'fecal': 14594, 'turdnado': 14595, 'forgeting': 14596, 'entertain': 14597, 'websites': 14598, 'updateme': 14599, '91': 14600, 'edna': 14601, 'jeffersonampdoris': 14602, 'sherfield72': 14603, 'unlicensed': 14604, 'urogyn': 14605, 'mesh': 14606, 'offenders': 14607, 'meshnewsdesk': 14608, 'bolsters': 14609, 'investigative': 14610, 'yug': 14611, 'arian': 14612, 'yeat': 14613, 'wakeupflorida': 14614, 'floridians': 14615, 'killedinjured': 14616, 'trophyhunt': 14617, 'chikislizeth08': 14618, 'war\\x89û': 14619, 'blevins': 14620, 'barcelona': 14621, 'fullback': 14622, 'alba': 14623, 'lefties': 14624, '184': 14625, 'paulista': 14626, '8392': 14627, 'deluxe': 14628, 'supporthealthhomebathroomsupportelderlyinjureds\\x89û': 14629, 'ogun': 14630, 'shootoutåê': 14631, 'christiec733': 14632, 'thehammers': 14633, 'tonycottee1986': 14634, 'alsowhat': 14635, 'injuredthen': 14636, 'bilic': 14637, 'slated': 14638, 'themhe': 14639, 'pga': 14640, 'speculation': 14641, 'fueled': 14642, 'speculatio': 14643, 'wearethenews': 14644, 'welles7': 14645, 'aesop': 14646, 'kinesiology': 14647, 'ironmanå¨': 14648, 'longlasting': 14649, 'durability': 14650, 'effectiveness': 14651, 'tayiorrmade': 14652, 'megatronafc': 14653, 'ankles': 14654, 'creeping': 14655, 'inflicted': 14656, 'derma': 14657, 'brackets': 14658, 'calum36chambers': 14659, 'slating': 14660, 'gpaulista5': 14661, 'jackwilsheres': 14662, 'disgrace': 14663, 'upah': 14664, 'cramp': 14665, 'wreak': 14666, 'seatbelt': 14667, 'jamienye': 14668, 'coaching': 14669, 'defence': 14670, 'attended': 14671, 'romford': 14672, 'peel': 14673, 'southdown': 14674, 'windsor': 14675, 'likeavillasboas': 14676, 'richchandler': 14677, 'nalathekoala': 14678, 'sequalae': 14679, 'suicides': 14680, 'homicides': 14681, 'nyack': 14682, 'pineview': 14683, 'railroad': 14684, 'nj36': 14685, '516leonardville': 14686, 'fkhanage': 14687, 'shad': 14688, 'forsythe': 14689, 'adhd': 14690, 'imsushickoflove': 14691, 'alekalicante': 14692, 'gauze': 14693, 'buffoonmike': 14694, 'influenced': 14695, 'disabledveterans': 14696, 'groin': 14697, 'thepartyofmeanness': 14698, 'carterville': 14699, 'gameday': 14700, 'dallascowboys': 14701, 'strains': 14702, 'sprains': 14703, 'fosterfloyd': 14704, 'terminated': 14705, 'judson1360': 14706, 'xtra1360': 14707, 'oline': 14708, 'roster': 14709, 'diego': 14710, 'urg': 14711, 'nflexpertpicks': 14712, 'chinadotcom': 14713, 'joboozoso': 14714, 'usat': 14715, 'usatodaynfl': 14716, 'recordand': 14717, 'behaviors': 14718, 'helparsenal': 14719, 'nepdloyko': 14720, 'sergiopiaggio': 14721, 'law\\x89ûónegligence': 14722, 'fireworks': 14723, 'incidents': 14724, 'garza': 14725, 'atlas': 14726, 'leones': 14727, 'copa': 14728, 'usmnt': 14729, 'converting': 14730, 'ba': 14731, 'iccrealckt': 14732, 'sundaydont': 14733, 'infact': 14734, 'zimmer': 14735, 'isinjury': 14736, 'dal': 14737, 'exums': 14738, 'stem': 14739, 'jazzs': 14740, 'hopedfor': 14741, 'stern': 14742, 'alas': 14743, 'tennis': 14744, 'champ': 14745, 'svetlana': 14746, 'kuznetsova': 14747, 'withdraws': 14748, 'citi': 14749, 'pft': 14750, 'barkevious': 14751, 'mingo': 14752, 'patriciatraina': 14753, 'mcclain': 14754, 'practicenyg': 14755, 'follownflnews': 14756, 'mcfadden': 14757, 'hamstring': 14758, 'titadom': 14759, 'sporten': 14760, 'jjdirty': 14761, 'mlstransfers': 14762, 'greggmair': 14763, 'gio': 14764, 'skc': 14765, 'nycfc': 14766, 'quirk': 14767, 'dantmatrafajlo': 14768, 'woes': 14769, 'claiborne': 14770, 'climbed': 14771, 'wheelsio': 14772, 'hawkhis': 14773, 'beltmr': 14774, 'srk': 14775, 'ngata': 14776, 'lennlen': 14777, 'ddnt': 14778, 'reigncoco': 14779, 'ostentatious': 14780, 'wk': 14781, 'seward': 14782, 'seattledot': 14783, 'seattletimes': 14784, 'dented': 14785, 'deductible': 14786, 'wcvb': 14787, 'fionagilbert': 14788, 'presume': 14789, 'soggy': 14790, 'lashings': 14791, 'texts': 14792, 'assassinkpg': 14793, 'friendshipyou': 14794, 'commercials': 14795, 'frankly': 14796, 'bentossell': 14797, 'producthunt': 14798, 'yahoocare': 14799, 'waimea': 14800, 'bushman': 14801, 'safaris': 14802, 'palmer': 14803, 'cecil': 14804, 'commentes': 14805, 'deconstruct': 14806, 'kerri': 14807, 'sackville': 14808, 'tms7': 14809, 'mistresspip': 14810, 'amazed': 14811, 'mistress': 14812, 'allyinwondrland': 14813, 'trader': 14814, 'joes': 14815, 'wknd': 14816, 'grandad': 14817, 'sophieingle01': 14818, 'angharadjames16': 14819, 'gifts': 14820, 'malt': 14821, 'loaf': 14822, 'worm': 14823, 'bangladeshaffected': 14824, 'watersland': 14825, 'bangladeshflood': 14826, 'tonymcguinness': 14827, 'creamfields': 14828, 'mainstage': 14829, 'bcfcticketlady': 14830, 'mraamirjavaid': 14831, 'kro': 14832, 'westeros': 14833, 'between': 14834, 'swords': 14835, 's5': 14836, 'starks': 14837, 'greyjoys': 14838, 'myanmars': 14839, 'coun\\x89û': 14840, 'teahivetweets': 14841, 'pornhub': 14842, 'paperwork': 14843, 'hronlinetweets': 14844, 'simplify': 14845, 'staffing': 14846, 'brace': 14847, 'samaritans': 14848, 'depressed': 14849, 'ledofficial1': 14850, 'samples': 14851, 'sweets': 14852, 'micountryhick': 14853, 'pfft': 14854, 'unhinged': 14855, 'machismo': 14856, 'bullshit': 14857, 'withering': 14858, 'undermined': 14859, 'mustering': 14860, 'bilsko': 14861, 'humofthecity': 14862, 'trad': 14863, 'authors': 14864, 'plummeting': 14865, 'legna989': 14866, 'megalpolis': 14867, 'petting': 14868, 'shiver': 14869, 'overflow': 14870, 'commencement': 14871, 'zachlowenba': 14872, 'boots': 14873, 'apologies': 14874, 'inundation\\x89û': 14875, 'kathrynschulz': 14876, 'mousse': 14877, 'sprinklers': 14878, 'faq': 14879, 'lawn': 14880, 'answered': 14881, 'ebb': 14882, 'kemalatlay': 14883, 'holes': 14884, 'avalanchesgtgt': 14885, 'hoodedu': 14886, 'berlatsky': 14887, 'fleetwood': 14888, 'q99': 14889, 'bullets\\x89û': 14890, '255': 14891, 'pollster': 14892, 'inbounds': 14893, 'nl': 14894, 'toddstarnes': 14895, '1130bst': 14896, 'a10gtparis': 14897, 'a40': 14898, 'a7': 14899, 'mons': 14900, 'a2gthanover': 14901, 'karlsruhe': 14902, 'gotthard': 14903, 'lifelong': 14904, 'alltime': 14905, 'memorable': 14906, 'debates': 14907, '60second': 14908, 'knowitall': 14909, 'ronald': 14910, 'reagans': 14911, 'romp': 14912, 'awadgolf': 14913, 'capitalist': 14914, 'elect': 14915, 'freebesieged': 14916, 'g\\x89û': 14917, 'smashing': 14918, 'pumpkins': 14919, '89x': 14920, 'garbanzobean23': 14921, 'cutest': 14922, 'indot': 14923, 'bias': 14924, 'crowtherjohn': 14925, 'effiedeans': 14926, 'lbr': 14927, '97': 14928, 'situ': 14929, 'contemplation': 14930, 'bridal': 14931, 'wiwnpfxa': 14932, 'sleeper': 14933, 'derailing': 14934, 'since1970the': 14935, 'depreciations': 14936, 'cadusd': 14937, 'b4federal': 14938, 'wlandslide': 14939, 'flashflood': 14940, 'gilgit': 14941, 'farmland': 14942, '365disasters': 14943, 'skardu': 14944, 'ronwyden': 14945, 'lyndon': 14946, 'hubris': 14947, 'reqd': 14948, 'rigour': 14949, 'nominates': 14950, 'ohhsehuns': 14951, 'heavyåêrain': 14952, 'morningjoe': 14953, 'presssec': 14954, 'fond': 14955, 'jamilazzaini': 14956, 'alifaditha': 14957, 'uke': 14958, 'kidsthesedays': 14959, 'eleskaylee': 14960, 'jannellix0': 14961, 'puts': 14962, 'breeder': 14963, 'bred': 14964, 'dragonvale': 14965, 'dieanpink95': 14966, 'yunita99': 14967, 'skippy6gaming': 14968, 'ps3': 14969, 'savior': 14970, 'dserialpcilp': 14971, 'pci': 14972, '16550': 14973, 'e\\x89û': 14974, 'bleachers': 14975, 'cunayyh': 14976, 'taufikcj': 14977, 'olivers': 14978, 'waterboarding': 14979, 'dipping': 14980, 'sivan': 14981, 'basalt': 14982, 'massage': 14983, 'piece\\x89û': 14984, 'amumumux': 14985, 'actin': 14986, 'mirmanda11': 14987, 'evaaasr': 14988, 'shakeology': 14989, 'protein': 14990, 'shake': 14991, 'foothill': 14992, 'guthrie': 14993, 'op': 14994, 'assumes': 14995, '034': 14996, 'ip\\x89û': 14997, 'randomtourist': 14998, 'jackholes': 14999, 'blink': 15000, 'wolforth': 15001, 'twoout': 15002, 'benjidevos': 15003, 'vivid': 15004, 'triad': 15005, 'vancouveråêisland': 15006, 'dantwitty52': 15007, 'eighth': 15008, 'suns': 15009, 'lightningooc': 15010, 'subjected': 15011, 'unwarranted': 15012, 'lightningwolf': 15013, 'directory': 15014, 'resting': 15015, '629': 15016, 'reps': 15017, 'dip': 15018, 'scichat': 15019, '\\x89û÷em': 15020, 'kabwandi': 15021, 'tkyonly1fmk': 15022, 'actionmoviestaughtus': 15023, 'laylovetournay': 15024, 'ryrotheunaware': 15025, 'groaning': 15026, 'ercjmnea': 15027, 'chibi877': 15028, 'shouted': 15029, 'kotolily': 15030, 'shawie17shawie': 15031, 'bruv': 15032, 'tianta': 15033, 'me\\x89ûturns': 15034, 'resemblance': 15035, 'chews': 15036, 'nikoniko12022': 15037, 'swtrains': 15038, 'epsom': 15039, 'wimbledon': 15040, 'jrowah': 15041, 'kijimamatako': 15042, 'matako3': 15043, '230': 15044, 'morningampi': 15045, 'tellyampi': 15046, 'bangampmy': 15047, 'dadwho': 15048, 'legwalked': 15049, 'ykelquiban': 15050, 'toxicsavior': 15051, 'daviesmutia': 15052, 'bangmeupguk': 15053, 'artbrut': 15054, 'brut': 15055, 'cafetiere': 15056, 'crockery': 15057, 'colnharun': 15058, 'nagaski': 15059, 'imply': 15060, 'causation': 15061, 'coldmpress': 15062, 'commiting': 15063, 'iit': 15064, 'logically': 15065, 'sanction': 15066, 'explicitly': 15067, 'doctordryadma': 15068, 'owenrbroadhurst': 15069, 'juanmthompson': 15070, 'hist\\x89û': 15071, 'blowjobs': 15072, 'cannibalism': 15073, 'masturbation': 15074, 'concentration': 15075, 'd1ff3r3nt1sg00d': 15076, 'tuicruises': 15077, 'aidade': 15078, 'cruise': 15079, 'faroe': 15080, 'historys': 15081, 'atombomb': 15082, 'domination': 15083, 'utopian': 15084, 'gulags': 15085, 'attempted': 15086, 'comings': 15087, 'labelled': 15088, 'flgovscott': 15089, 'males': 15090, 'yelllowheather': 15091, 'undeserving': 15092, 'reshrimplevy': 15093, 'jakegint': 15094, 'bothered': 15095, 'traditionalist': 15096, 'montalbanony': 15097, 'billyhodge': 15098, 'notoriety': 15099, 'wahhabism': 15100, 'horrendous': 15101, 'carlachamorros': 15102, 'kach': 15103, '1994': 15104, 'palestinian\\x89û': 15105, 'trillac': 15106, 'guevara': 15107, 'greeting': 15108, 'creelyou': 15109, 'moron': 15110, 'brainless': 15111, 'dobut': 15112, 'gfzs': 15113, 'minuscule': 15114, 'theatershooting': 15115, 'defendantmass': 15116, 'testify': 15117, 'crossexam': 15118, 'atljw': 15119, 'polit': 15120, 'tirelessly': 15121, 'defendbutera': 15122, 'libertygeek83': 15123, 'kissing': 15124, 'conveniently': 15125, 'zionists': 15126, 'revere': 15127, 'movietheatre': 15128, '615': 15129, 'scvsupremecourt': 15130, 'dismisses': 15131, 'prisoner': 15132, 'quantum': 15133, 'bettyfreedoms': 15134, 'abninfvet': 15135, 'supremacist': 15136, 'anders': 15137, 'breivik': 15138, 'unsurprisingly': 15139, 'antifeminist': 15140, 'portrait': 15141, 'yuan': 15142, 'victoriagittins': 15143, 'neanderrebel': 15144, 'democrat': 15145, 'dissuaded': 15146, 'telegraphworld': 15147, 'mmmm': 15148, 'frautrapani': 15149, 'benignovito': 15150, 'libertybell1000': 15151, 'hillarymass': 15152, 'vaccine': 15153, 'blairmcdougall': 15154, 'commenting': 15155, 'taylors': 15156, 'arkan': 15157, 'afk10': 15158, 'drjohanfranzen': 15159, 'orchs': 15160, 'tyrant': 15161, 'cameronwate': 15162, 'tunisian': 15163, 'bardo': 15164, 'surviving': 15165, 'abc3340': 15166, 'alamodc': 15167, 'palm': 15168, 'grindhouse': 15169, 'texaschainsawmassacre': 15170, 'morbidmovies': 15171, 'animallogic': 15172, 'lotg': 15173, 'smoothed': 15174, 'bird': 15175, 'chalked': 15176, 'dviyer': 15177, 'yazidishingalgenocide': 15178, 'ezidigenocide': 15179, 'mitigating': 15180, 'uninvestigated': 15181, 'kabarmesir': 15182, 'badr58': 15183, 'rabaa': 15184, 'observed': 15185, 'rememberrabaa': 15186, 'eileenmfl': 15187, 'chainsaw': 15188, 'petitionno': 15189, '1890': 15190, 'bloodbathtv': 15191, 'introducing': 15192, 'nanking': 15193, 'massacre4': 15194, 'eyewitnesses': 15195, 'wpo': 15196, 'daddy': 15197, 'becarefulharry': 15198, 'freddiedeboer': 15199, 'thucydiplease': 15200, 'coates': 15201, 'charleston': 15202, 'broadly': 15203, 'bromleythe': 15204, 'gigagil': 15205, 'iof': 15206, '513': 15207, 'moralityzionism': 15208, 'sousse': 15209, 'tunis': 15210, 'soap': 15211, 'rescind': 15212, 'nataliealund': 15213, 'wkrn': 15214, 'martynwaites': 15215, 'wellknown': 15216, 'valentines': 15217, 'oompahperiod': 15218, 'martyrs': 15219, 'young\\x89û': 15220, 'spså¨': 15221, 'creepiest': 15222, 'stuckinbooks': 15223, 'cvinchwaow': 15224, 'stacy': 15225, 'pages': 15226, 'mayhem114': 15227, 'panicked': 15228, 'kissimmee': 15229, 'ganseyman': 15230, 'rt4amention': 15231, 'ferrell': 15232, 'zach': 15233, 'galifianakis': 15234, 'comic': 15235, 'farce': 15236, 'asbury': 15237, 'asburyparkpress': 15238, 'jmcwrites': 15239, 'pitchwars': 15240, 'realism': 15241, 'observations': 15242, 'akcsl': 15243, 'venture': 15244, 'suitable': 15245, 'ltmeltdown': 15246, 'commences': 15247, 'dubloadz': 15248, 'droppd': 15249, 'meelllttting': 15250, 'deepak': 15251, 'chopras': 15252, 'ol': 15253, 'drdrewhln': 15254, 'areva': 15255, 'tinybaby': 15256, 'adultblackmale': 15257, 'mattytalks': 15258, 'mwednesday': 15259, 'kinkyconnors': 15260, 'candidates': 15261, 'demis': 15262, 'nashhmu': 15263, 'beccacaitlyn99': 15264, 'dfr': 15265, 'ep016': 15266, 'monthly': 15267, 'dnbheaven': 15268, '20150806': 15269, 'seagull07': 15270, 'aleisstokes': 15271, 'intelligencebar': 15272, 'justintrudeau': 15273, 'g7': 15274, 'g20': 15275, 'crowdtappers': 15276, 'joinvroom': 15277, 'ohhhh': 15278, 'tangletalk': 15279, 'dmoneydemi': 15280, 'dtb': 15281, 'watchout': 15282, 'nprfreshair': 15283, 'meltdowni': 15284, 'emini': 15285, 'letdown': 15286, 'equals': 15287, 'conclusions': 15288, 'padres': 15289, 'fiasco': 15290, 'uncontrollable': 15291, 'pams': 15292, 'lemairelee': 15293, 'danharmon': 15294, 'comics': 15295, 'representative': 15296, 'sample': 15297, 'examinercom': 15298, 'warthen': 15299, 'bullpen': 15300, 'warriorcord': 15301, '550': 15302, 'paracord': 15303, 'milc5040h': 15304, 'strand': 15305, '516': 15306, 'furtrix': 15307, 'cougars': 15308, 'xl6162': 15309, 'ymcglaun': 15310, 'connects': 15311, 'univsfoundation': 15312, 'kgb': 15313, 'cossack': 15314, 'kiranahmedd': 15315, 'deployments': 15316, 'suckers': 15317, 'stfxuniversity': 15318, 'infantryman': 15319, 'experimental': 15320, 'tutorials': 15321, 'assertative': 15322, '2for1lapdances': 15323, 'callin': 15324, 'courageous': 15325, 'beth': 15326, 'underwood': 15327, 'gravity': 15328, 'ririnsider': 15329, 'hendricks': 15330, 'hospitality': 15331, 'neanea2724': 15332, 'universityoflaw': 15333, 'clancy': 15334, 'novels': 15335, 'paperback': 15336, 'tomclancy': 15337, 'cochisecollege': 15338, 'empower': 15339, 'milita': 15340, 'bolstering': 15341, 'cooperation': 15342, 'sputnikint': 15343, 'mofo': 15344, 'unarmed': 15345, 'gunned': 15346, 'worseits': 15347, 'asses': 15348, 'belter': 15349, 'sterlingscott': 15350, 'beetroot': 15351, 'peterknox': 15352, 'gemmasterful': 15353, 'hipster': 15354, 'doretts': 15355, 'marcholl': 15356, 'nennicook': 15357, 'aitchkaycee': 15358, 'vixstuart': 15359, 'benjbeckwith': 15360, 'paulhollywood': 15361, 'fjords': 15362, 'gasping': 15363, 'giggling': 15364, 'stew': 15365, 'sophiewisey': 15366, 'dorette': 15367, 'rabidmonkeys1': 15368, 'brobread': 15369, 'lollyknickers': 15370, 'vaginaorcake': 15371, 'impressions': 15372, 'lieu': 15373, 'triumphs': 15374, 'hazelannmac': 15375, 'hatman': 15376, 'urufusanragu': 15377, 'newhart2010': 15378, 'mariankeyes': 15379, 'bae': 15380, 'backroom': 15381, 'physically': 15382, 'gasped': 15383, 'invested': 15384, 'nikistitz': 15385, 'doylech': 15386, 'cali74142290': 15387, 'disasterhospital': 15388, 'rationing': 15389, 'tattooed': 15390, 'arkansas': 15391, 'nola': 15392, 'twoptwips': 15393, 'sifting': 15394, 'mateo': 15395, 'newser': 15396, 'roblox': 15397, 'suncorp': 15398, '113': 15399, 'professionally': 15400, 'unsensibly': 15401, 'outrun': 15402, 'burma': 15403, 'enduring': 15404, 'connorfranta': 15405, 'overrun': 15406, 'hazardsdisaster': 15407, 'hashtags': 15408, 'booktubeathon': 15409, 'seamstress': 15410, 'elvia': 15411, 'nonucleariran': 15412, 'badirandeal': 15413, 'jebbush': 15414, 'disasteramp': 15415, 'cgt': 15416, 'integrative': 15417, 'japanjapan': 15418, 'inferior': 15419, 'standardanonymous': 15420, 'preserve': 15421, 'ajw': 15422, 'jishine': 15423, 'minamisoma': 15424, 'allowing': 15425, 'dalailama': 15426, 'upi': 15427, 'irannucleardeal': 15428, 'worldlets': 15429, 'damage\\x89û\\x9d': 15430, 'wps': 15431, 'drvox': 15432, 'agw': 15433, 'sanitizing': 15434, 'impairs': 15435, 'sweep': 15436, 'whackamole': 15437, 'kennedys': 15438, 'avert': 15439, 'bolster': 15440, '573': 15441, '\\x89û÷nuclear': 15442, 'disasterrelated': 15443, 'deaths\\x89ûª': 15444, 'annonymous': 15445, 'respondents': 15446, 'consciousness': 15447, 'wikipedia': 15448, 'encyclopedia': 15449, 'err509': 15450, 'ges': 15451, 'robot': 15452, 'securedgt': 15453, 'defensenewscomus': 15454, 'subsd': 15455, 'gigawatts': 15456, 'installed': 15457, 'gwatt': 15458, 'railguns': 15459, 't1000s': 15460, 'robertharding': 15461, 'repjohnkatko': 15462, 'flush': 15463, 'construct': 15464, 'uk\\x89ûªs': 15465, 'restart': 15466, 'fleet': 15467, 'mistaken': 15468, 'cataclysmic': 15469, 'reator': 15470, 'melts': 15471, 'willieami': 15472, 'justthebottle': 15473, 'cooling': 15474, 'winechat': 15475, 'magnetic': 15476, 'electrostatic': 15477, 'fusion': 15478, 'stunckle': 15479, 'gordonr74': 15480, 'crazydoctorlady': 15481, 'rods': 15482, 'creatures': 15483, 'sandunes': 15484, 'gentle': 15485, 'lapping': 15486, 'gulls': 15487, 'sizewell': 15488, '40mln': 15489, 'filming': 15490, 'sonyprousa': 15491, 'lumixusa': 15492, 'djiglobal': 15493, 'profbriancox': 15494, 'calhoun': 15495, 'nrc': 15496, 'snowywolf5': 15497, 'thegreenparty': 15498, 'hamptonroadsforme': 15499, 'scout': 15500, 'dicehateme': 15501, 'puppyshogun': 15502, 'proc': 15503, 'philippine': 15504, 'changepilipinas': 15505, 'notion': 15506, 'seemly': 15507, 'narcissism': 15508, 'richhomeydon': 15509, 'swag': 15510, 'instagramers': 15511, 'bu\\x89û': 15512, 'souda': 15513, 'kneelbot': 15514, 'klavierstuk': 15515, 'lvg': 15516, 'smaller': 15517, 'lcb': 15518, 'cl': 15519, 'whereas': 15520, 'jez': 15521, 'printing': 15522, 'plymouth': 15523, '\\x89û÷let\\x89ûªs': 15524, 'litter\\x89ûª': 15525, 'combining\\x89û': 15526, 'josebasedgod': 15527, 'realm': 15528, 'mccainenl': 15529, 'stonewall': 15530, 'scum': 15531, '149': 15532, 'themthen': 15533, 'gymflow': 15534, 'assassins\\x89û': 15535, 'gargron': 15536, 'holymileyray': 15537, 'mooniighthunty': 15538, 'obedience': 15539, 'jesuss': 15540, 'gap': 15541, 'superstition': 15542, 'swami': 15543, 'agnivesh': 15544, 'satisfying': 15545, 'freshness': 15546, 'macbreck': 15547, 'meansit': 15548, 'presbad': 15549, 'math': 15550, 'enterprise': 15551, 'horiikawa': 15552, 'rizzo': 15553, 'accordingly': 15554, 'sunrays': 15555, 'hairy': 15556, 'spiderweb': 15557, 'breakingnewslh': 15558, 'breemars': 15559, 'cnns': 15560, 'seventies': 15561, 'wackoes': 15562, 'zimmerman': 15563, 'rzimmermanjr': 15564, 'renewsit': 15565, 'sock': 15566, 'stripped': 15567, 'mixes': 15568, 'byebyesoundcloud': 15569, 'cocky': 15570, 'strutted': 15571, 'wackos': 15572, 'silverhusky': 15573, 'shtap': 15574, 'salted': 15575, 'poway': 15576, 'hcg': 15577, 'ensures': 15578, 'mole': 15579, 'whensoever': 15580, 'nevermore': 15581, 'sizygwwf': 15582, 'theevilolives': 15583, 'hypo': 15584, 'deserved': 15585, 'kevinbacon': 15586, 'soz': 15587, 'kontrolled': 15588, 'ww3': 15589, 'dice': 15590, 'demonization': 15591, 'interestingwhy': 15592, 'laurenjauregui': 15593, 'teamhennessy': 15594, 'tprimo24': 15595, 'djeddygnj': 15596, 'colombian': 15597, 'festival\\x89û': 15598, 'arcade': 15599, 'overpriced': 15600, 'thatsabinegirl': 15601, 'slabs': 15602, 'ripping': 15603, 'labourleadership': 15604, 'contest': 15605, 'auntiedote': 15606, 'rioslade': 15607, 'lockewiggins': 15608, 'akarb74': 15609, 'tiggr': 15610, 'eganator2000': 15611, '716': 15612, 'ashberxo': 15613, 'mindmischief': 15614, 'traces': 15615, 'worldnetdailyhomosexuality': 15616, 'truthsof': 15617, 'alhaji': 15618, 'sha': 15619, 'ibeto': 15620, 'competitor': 15621, 'imminent': 15622, 'extent': 15623, 'privilege': 15624, 'unfair': 15625, 'favoritism': 15626, 'oldtimey': 15627, 'quarrel': 15628, 'bene': 15629, 'gesserit': 15630, 'litany': 15631, 'atgrannyshouse': 15632, 'kylewappler': 15633, 'thisishavehope': 15634, 'sb57': 15635, 'distribution': 15636, 'sydtraffic': 15637, 'trafficnetwork': 15638, 'ksbynews': 15639, 'lilitan': 15640, 'syd': 15641, 'wendell': 15642, 'berry': 15643, 'oi': 15644, 'hannah': 15645, 'disclosed': 15646, 'osi2016': 15647, 'losangelestimes': 15648, 'cantwont': 15649, 'cityofkamloops': 15650, 'sec': 15651, 'kamloops': 15652, 'troyslaby22': 15653, 'voices': 15654, 'wowthe': 15655, 'legionnairesdisease': 15656, 'pneumonia': 15657, 'americanlegion': 15658, 'convention': 15659, '197629': 15660, 'muhamadjabal': 15661, 'legionna': 15662, 'senatemajldr': 15663, 'dratomic420': 15664, 'trophies': 15665, 'worstever': 15666, 'losangeles': 15667, 'bivideo': 15668, 'hashtagteaclub': 15669, 'pars': 15670, 'defender': 15671, 'tod': 15672, 'ensued': 15673, 'j3lyon': 15674, 'ffvii': 15675, 'exclamation': 15676, 'midweek': 15677, 'westmarch': 15678, 'arreat': 15679, 'upa': 15680, 'joegoodmanjr': 15681, 'copalibertadores': 15682, 'argentinean': 15683, 'pandemoniumiso': 15684, 'psp': 15685, 'requiem': 15686, 'oliver': 15687, 'khalidkkazi': 15688, 'gidiexclusixe': 15689, '\\x89û÷faceless\\x89ûª': 15690, 'bennycapricon': 15691, 'drbaseball41': 15692, 'granttamane8': 15693, 'drewwtaylor': 15694, 'dtop77': 15695, 'shestooyoung': 15696, 'exquisite': 15697, 'sto': 15698, 'cumshot': 15699, 'porno': 15700, 'pbohanna': 15701, 'justaguess': 15702, 'deadgirltalking': 15703, 'unfortunemelody': 15704, 'jaylenejoybeligan': 15705, 'tarynel': 15706, 'dredougie': 15707, 'santanicopandemonium': 15708, 'frenzy': 15709, 'disorder': 15710, 'astounding': 15711, 'catovitch': 15712, 'ps1': 15713, 'raredealsuk': 15714, 'obligatory': 15715, 'brokenscnecal': 15716, 'spokes': 15717, 'raptorsbeg': 15718, 'differ': 15719, 'rang': 15720, 'goodlookrunning': 15721, 'autismawareness': 15722, 'jesse': 15723, 'suffers': 15724, 'timmicallef': 15725, 'troubleonmymind': 15726, 'jetixrestored': 15727, 'teamo': 15728, 'supremo': 15729, 'pogo': 15730, 'girlsgirlsboys': 15731, 'elielcruz': 15732, 'streams': 15733, 'welladjusted': 15734, 'lolo': 15735, 'strain': 15736, 'headdesk': 15737, 'savs': 15738, 'convinced': 15739, 'guage': 15740, 'eyeball': 15741, 'jamesjustus': 15742, 'flakes': 15743, 'nolesfan05': 15744, 'nutsandboltssp': 15745, 'audreyp77': 15746, 'teena797': 15747, 'darrylbrooks': 15748, 'elitesportsny': 15749, 'lopezandthelion': 15750, 'natsnation': 15751, 'biggangvh1': 15752, 'lite': 15753, 'cure': 15754, 'lind': 15755, 'afycso': 15756, 'romantic': 15757, 'sensei': 15758, 'collar': 15759, 'amo': 15760, 'laughtraders': 15761, 'capitulation': 15762, 'quotesttg': 15763, 'helios': 15764, 'dirknomissski': 15765, 'faints': 15766, 'mumbling': 15767, 'cackling': 15768, 'istg': 15769, 'idm': 15770, 'gotham': 15771, 'bcs': 15772, 'ianbartlett': 15773, 'hs2': 15774, 'astroturfers': 15775, 'crumbling': 15776, '1130': 15777, 'adumbbb': 15778, 'beauscoven': 15779, 'debbie': 15780, 'tindering': 15781, '20mins': 15782, 'ushiocomics': 15783, 'submitting': 15784, 'brits': 15785, 'redeemer': 15786, 'romanticsuspense': 15787, 'fundwhen': 15788, 'alarmingly': 15789, 'cpinto001': 15790, 'orpik': 15791, 'jeannathomas': 15792, 'vichardy': 15793, 'freeman': 15794, 'practicing': 15795, 'ogtomd': 15796, 'ar15': 15797, 'carmi': 15798, 'breaking411': 15799, 'qld': 15800, 'suicidebycop': 15801, 'aåêmiddleaged': 15802, 'manåêarmed': 15803, 'retard': 15804, 'drain': 15805, 'dccc': 15806, 'vj44': 15807, 'jbouie': 15808, 'mmfa': 15809, 'dh30000': 15810, 'ana': 15811, 'dispensary': 15812, 'smartnews': 15813, 'vinnie': 15814, 'northumbria': 15815, 'provocation': 15816, 'beloeil': 15817, 'richelieusaintlaurent': 15818, 'expanding': 15819, 'bayonets': 15820, 'randpaul': 15821, 'evilempire': 15822, 'jadehelm15': 15823, 'unwanted': 15824, '12th': 15825, 'pp15000266818': 15826, '1710': 15827, 'priests': 15828, 'harrowing': 15829, 'harassment': 15830, 'fife': 15831, 'georgegalloway': 15832, 'galloway4mayor': 15833, 'pickpocket': 15834, 'stree': 15835, 'brandonmulcahy': 15836, 'fpine': 15837, 'kill\\x89û': 15838, 'robbiewilliams': 15839, 'asswipe': 15840, 'police\\x89û': 15841, 'arizonadot': 15842, 'salado': 15843, 'crackin': 15844, 'bridgeport': 15845, 'burglar': 15846, 'blowin': 15847, 'grandmother': 15848, 'wasnamp8217t': 15849, 'lastma': 15850, 'lagos': 15851, 'helpme': 15852, 'ticketed': 15853, 'cycle': 15854, 'slosheriff': 15855, 'huntington': 15856, 'quarantine\\x89û': 15857, 'technews': 15858, 'puledotechupdate': 15859, '630': 15860, 'bangalore': 15861, 'aannnnd': 15862, 'missambear': 15863, 'censor': 15864, 'offensive\\x89û': 15865, 'aaarrrgghhh': 15866, 'rantipozi': 15867, 'cucks': 15868, 'scrambledeggs': 15869, 'kia': 15870, 'khan': 15871, 'gmtty': 15872, 'bluehand': 15873, 'hm': 15874, 'ebolatrends': 15875, 'rconspiracy': 15876, 'bathroomits': 15877, 'louderthings': 15878, '0npzp': 15879, 'wander': 15880, 'oc73x': 15881, 'symantec': 15882, 'sejorg': 15883, '47km': 15884, 'northwestproof': 15885, 'filter': 15886, 'offsite': 15887, 'israel\\x89ûªs': 15888, 'ashdod': 15889, 'emittin': 15890, 'decorating': 15891, 'iwk': 15892, 'capeann': 15893, 'seagulls': 15894, 'triciaoneill': 15895, 'triciaoneillphoto': 15896, 'myrtlegroggins': 15897, 'ltgaspgt': 15898, 'aampb': 15899, 'pipeliners': 15900, 'damatu': 15901, 'alves': 15902, 'newrelease': 15903, 'jimmy': 15904, 'lapaka': 15905, 'ireporter': 15906, 'crowned': 15907, 'tends': 15908, 'drift': 15909, 'storming': 15910, 'bebacksoon': 15911, 'roar': 15912, 'rolling\\x89û': 15913, 'vacancies': 15914, 'damaturu': 15915, '600\\x89û': 15916, 'soaker': 15917, 'nathanfillion': 15918, 'receives': 15919, 'impacting': 15920, 'imsort': 15921, 'fonts': 15922, 'lizzie363': 15923, 'cstsmith': 15924, 'floodrainstorm': 15925, '14000': 15926, 'thnk': 15927, 'doe': 15928, 'kooks': 15929, 'gearing': 15930, 'deadgrassandflowers': 15931, 'italianåêalps': 15932, 'surfspa': 15933, 'office\\x89ûªs': 15934, 'razedåê\\x89ûò': 15935, 'ikpeazu': 15936, 'apga': 15937, 'lynchburg': 15938, 'tafs': 15939, 'fb100': 15940, 'petereallen': 15941, 'huffpostuk': 15942, 'bbc5live': 15943, 'substantial': 15944, 'sincere': 15945, 'dualcom': 15946, 'imrazed': 15947, 'easter': 15948, 'northerncalifornia': 15949, 'vassalboro': 15950, 'gazebo': 15951, 'petelmcguire': 15952, 'jihadis': 15953, 'freedomoutpost': 15954, 'gesture': 15955, 'repulsive': 15956, 'refugeesvictimiserdutton': 15957, 'evangelicalliarabbott': 15958, 'dupe': 15959, 'overdrive': 15960, 'choppergatebronwynbishopauspol': 15961, 'repatriating': 15962, 'connections': 15963, 'indiegogo': 15964, 'overboard': 15965, 'christianvalues': 15966, 'marrie': 15967, 'fadelurker': 15968, 'dalinthanelan': 15969, 'camped': 15970, 'redcliffe': 15971, 'aidan': 15972, 'flee': 15973, 'burundis': 15974, 'kristindavis': 15975, 'pacic': 15976, 'rsf': 15977, 'gag': 15978, 'generous': 15979, 'thedailybeast': 15980, 'dutton': 15981, 'presser': 15982, 'chpsre': 15983, 'rezaphotography': 15984, 'policyholders': 15985, 'clico': 15986, 'panik': 15987, 'kelbytomlinson': 15988, 'blackwhite': 15989, 'newbeginningsanimalrescue': 15990, 'meds': 15991, 'ecstatic': 15992, 'racco': 15993, 'suggs': 15994, 'vivian': 15995, 'psychrewatch': 15996, 'lengths': 15997, 'kfc': 15998, 'peaceloverescue': 15999, 'plantations': 16000, 'forests': 16001, 'rainforestresq': 16002, 'floodzone': 16003, 'raheel': 16004, 'sharif': 16005, 'chitral': 16006, 'lauded': 16007, 'fwo': 16008, 'lisavanderpump': 16009, 'sabrina': 16010, 'tennoatax': 16011, 'tenno': 16012, 'dojo': 16013, 'summervibes': 16014, 'pitmix': 16015, 'brixton': 16016, 'banksy': 16017, 'mybabies': 16018, 'skyrim': 16019, 'rescuedagain': 16020, 'pioneer': 16021, 'paleface': 16022, 'raft': 16023, 'container': 16024, 'enkelbiljett': 16025, 'menolippu': 16026, 'bovines': 16027, 'smugglersåênabbed': 16028, 'cocker': 16029, 'spaniels': 16030, 'romanatwoodvlogs': 16031, 'inspi': 16032, 'stray': 16033, 'reshareworthy': 16034, 'brittanypetko': 16035, 'giorgio': 16036, 'hiatt': 16037, 'rescued\\x89û': 16038, 'irishtimesworld': 16039, 'springer': 16040, 'spaniel': 16041, 'ribbon': 16042, 'offtrackhorse': 16043, 'isaiah': 16044, '4422': 16045, 'contemporary': 16046, 'cardboard': 16047, 'mistrustful': 16048, 'onegreenplanet': 16049, 'await': 16050, 'disembarkment': 16051, 'tconnellyr\\x89û': 16052, 'durbanknight': 16053, 'nosybe': 16054, 'unexplainable': 16055, 'childhooddefined': 16056, 'roddypiperautos': 16057, 'andygilder': 16058, 'rescuersthe': 16059, 'infomercial': 16060, 'crept': 16061, 'shaolin': 16062, 'shen': 16063, 'chiang': 16064, 'venoms': 16065, 'kung': 16066, 'favori': 16067, 'hundreds\\x89û': 16068, 'ahmazing': 16069, 'thenewshype': 16070, 'allergic': 16071, 'womans': 16072, 'fem': 16073, 'piprhys': 16074, 'teamvodg': 16075, 'rascal': 16076, 'flatts': 16077, 'concertaugust': 16078, '20152': 16079, 'hasåêarrived': 16080, 'tactical': 16081, 'daniriot': 16082, 'daysweeks': 16083, 'liveworkshop': 16084, 'booth': 16085, 'kappa': 16086, 'acaciapenn': 16087, 'shidddd': 16088, 'bah': 16089, 'autumnwinter': 16090, 'menswear': 16091, 'urbanfashion\\x89û': 16092, 'abrancaballero': 16093, 'thorins': 16094, 'sandbox': 16095, 'silverman': 16096, 'sarahksilverman': 16097, 'tracey': 16098, 'ullman': 16099, 'teemo': 16100, 'bytorrecilla': 16101, 'torrecilla': 16102, '600000': 16103, 'transwomen': 16104, 'butch': 16105, 'credited': 16106, 'inciting': 16107, 'eac4au': 16108, '915': 16109, 'fried': 16110, 'ravioliåêwith': 16111, 'porcini': 16112, 'ricotta\\x89û': 16113, 'oliviamiles01': 16114, 'davidjordan88': 16115, 'stephanenny': 16116, 'particular': 16117, 'trollkrattos': 16118, 'juan': 16119, 'champions': 16120, 'championsblackfoot': 16121, 'sweetpeas': 16122, 'allotment': 16123, 'brightening': 16124, 'rainy': 16125, 'jwalkerlyle': 16126, 'cracker': 16127, 'protestors': 16128, 'skyscrapers': 16129, 'plantcovered': 16130, 'doco': 16131, 'setanta': 16132, 'freeview': 16133, 'clapton': 16134, 'hyperbole': 16135, 'saintsfc': 16136, 'rio2016': 16137, 'relations': 16138, 'loveislove': 16139, 'embra': 16140, 'tier': 16141, 'dee': 16142, 'dum': 16143, 'cloydrivers': 16144, 'tosu': 16145, 'evacide': 16146, 'amp163163millions': 16147, 'contr': 16148, 'invented': 16149, 'insomniacs': 16150, 'justiceno': 16151, 'justicepeace': 16152, 'gmail': 16153, 'jasalhad': 16154, 'brianboru67': 16155, 'jimskiv92': 16156, 'hijinks1967': 16157, 'ryleedowns02': 16158, 'nevaehburton33': 16159, 'directed': 16160, 'gr\\x89û': 16161, 'davidolszak': 16162, 'aelinrhee': 16163, 'mascara': 16164, 'smeared': 16165, 'nffc': 16166, 'wesley': 16167, 'verhoek': 16168, 'dontpanic': 16169, 'georgous': 16170, 'demonstration': 16171, 'halljh1720': 16172, 'indictment': 16173, 'point\\x89û': 16174, 'usamisan': 16175, 'hooligan': 16176, 'uknews': 16177, 'insurers163millions': 16178, 'fa07af174a71408': 16179, 'tolerated': 16180, 'shovel': 16181, 'expirehc': 16182, 'su': 16183, 'churchill': 16184, 'impulsive': 16185, 'redesigned': 16186, 'bricks': 16187, 'crazyideascollege': 16188, 'bulls': 16189, 'betting': 16190, 'rebound': 16191, 'd\\x89û': 16192, 'jasonpope2': 16193, 'johnfugelsang': 16194, 'jun': 16195, 'yemenis': 16196, 'san\\x89ûªa': 16197, 'forbesasia': 16198, 'buscemi': 16199, 'firefightr': 16200, 'workd': 16201, '12hr': 16202, 'shifts': 16203, 'diggin': 16204, 'wtc': 16205, 'lookg': 16206, 'tnn': 16207, 'roimentor': 16208, 'yycwalks': 16209, 'postapocalypticflimflam': 16210, 'prodding': 16211, 'okgabby': 16212, 'carpooling': 16213, 'uncomfortable': 16214, 'smokers': 16215, 'chrisdyson16': 16216, 'mta': 16217, 'sorrybutitstrue': 16218, 'yuppies': 16219, 'tourists': 16220, 'unhappy': 16221, 'purposely': 16222, 'lookss': 16223, 'savannahross4': 16224, 'terrific': 16225, 'wordk': 16226, 'zmne': 16227, 'wale': 16228, 'bleed': 16229, 'masterpiece': 16230, 'foo': 16231, '9tarbox': 16232, 'sour': 16233, 'freezerdummy': 16234, 'connormidd': 16235, 'bastards': 16236, 'fullscreen': 16237, 'censorship': 16238, 'juliechen': 16239, 'clnv': 16240, 'reboot': 16241, 'belair': 16242, 'cervix': 16243, 'odell': 16244, 'babe': 16245, 'ctaztrophe31': 16246, 'hienshi': 16247, 'gbay99': 16248, 'coated': 16249, 'east\\x89ûªs': 16250, 'layer': 16251, 'grit': 16252, 'woo': 16253, 'hoo': 16254, 'booze': 16255, 'socialwots': 16256, 'globiinclusion': 16257, 'nrcmiddleeast': 16258, 'engulfs': 16259, 'caravans': 16260, 'tents': 16261, 'zaatari': 16262, 'sundercr': 16263, 'remixes': 16264, 'merged': 16265, 'betweensong': 16266, '3430pm': 16267, '4306pm': 16268, 'villicanaalicia': 16269, 'airhorns': 16270, 'ahahahga': 16271, 'infinitegrace7': 16272, 'sidjsjdjekdjskdjd': 16273, 'godofmischief': 16274, 'lokis': 16275, 'daggers': 16276, 'jammed': 16277, 'minas': 16278, 'thigh': 16279, 'mina': 16280, 'sif': 16281, 'microchip': 16282, 'steven': 16283, 'mogacola': 16284, 'zamtriossu': 16285, 'cryibg': 16286, 'higuains': 16287, 'offside': 16288, 'politely': 16289, 'jared': 16290, 'cortezera': 16291, 'mommys': 16292, 'timed': 16293, 'femnism': 16294, 'twentysix': 16295, 'cedarglade2015': 16296, 'asb': 16297, 'wwa': 16298, 'oamsgajagahahah': 16299, 'laighign': 16300, 'realliampayne': 16301, 'addtexastonext1dtour': 16302, 'thatwitchem': 16303, 'emmachosenone': 16304, 'jessienovoarp': 16305, 'jessienovoa': 16306, 'liananovoa': 16307, 'hond': 16308, 'toddyrockstar': 16309, 'gtlt': 16310, 'slsp': 16311, 'quiet': 16312, 'phandom': 16313, 'fangirling': 16314, 'mannequin': 16315, 'jariana': 16316, 'bizzlemahomie': 16317, 'estellasrevenge': 16318, 'swiming': 16319, 'smelltaste': 16320, 'mariahcarey': 16321, 'lhh': 16322, 'mastered': 16323, 'noahshack': 16324, 'harshness': 16325, 'pacing': 16326, 'tyleroakley': 16327, 'scalpium': 16328, 'camilas': 16329, 'spree': 16330, 'stvmlly': 16331, 'safferoonicle': 16332, 'yell': 16333, 'chords': 16334, 'funnydadcoach': 16335, '54': 16336, 'missdaoh': 16337, 'idols': 16338, '22days': 16339, 'wdym': 16340, 'kamkasteiiano': 16341, 'bluntedjayt': 16342, 'nochilllukehammings': 16343, 'advertise': 16344, 'blanksocietyx': 16345, 'trombonetristan': 16346, 'ooooohshit': 16347, 'ooohshit': 16348, 'danemillar1': 16349, 'worstoverdose': 16350, 'jaileens': 16351, 'caked': 16352, 'himeruisu': 16353, 'ram': 16354, 'shove': 16355, 'muffle': 16356, 'rhiannon': 16357, 'hungover': 16358, 'uhmmmm': 16359, 'tailor': 16360, 'kay': 16361, 'attached': 16362, 'drag0nking0201': 16363, 'screamsdont': 16364, 'animatronics': 16365, 'echoes': 16366, 'jimin': 16367, 'casually': 16368, 'jasmine': 16369, 'realjaxclone': 16370, 'itscreams': 16371, 'vibrates': 16372, 'sakuuchiha': 16373, 'yaboiluke': 16374, 'saku': 16375, 'genitals': 16376, 'heyot6': 16377, 'lawsonofficial': 16378, 'followed': 16379, 'thankyou': 16380, '4tiles': 16381, 'zacb': 16382, 'dell': 16383, 'ollymursaus': 16384, 'buddhas': 16385, 'tunesblake': 16386, 'griffin': 16387, 'mash': 16388, 'queenwendy': 16389, 'anytime': 16390, 'wisdc': 16391, 'death2usa': 16392, 'harveymaine': 16393, 'aaaa': 16394, 'roomr': 16395, 'oppose': 16396, 'powerwow': 16397, 'studies': 16398, 'calabria': 16399, 'malta': 16400, 'hebrooon': 16401, 'derivative': 16402, 'formula': 16403, 'ey': 16404, 'worldoil': 16405, 'subscription': 16406, '08062015': 16407, 'alabamaquake': 16408, 'marek1330': 16409, 'zar': 16410, 'cringes': 16411, 'marek': 16412, '010156': 16413, 'm40': 16414, 'perforated': 16415, 'shear': 16416, 'sfor': 16417, 'seismicresistant': 16418, '182245': 16419, 'ibaraki': 16420, 'prefecture': 16421, 'offing': 16422, 'm55': 16423, '60km': 16424, 'benson': 16425, 'clegg': 16426, '0025': 16427, 'kakajambori': 16428, 'yor': 16429, '010217': 16430, 'ipa': 16431, 'radler': 16432, 'enablement': 16433, 'panoramic': 16434, 'cuts': 16435, 'dogger': 16436, 'westward': 16437, 'regent': 16438, 'towing': 16439, '8400': 16440, 'metre': 16441, '063243': 16442, 'mrw': 16443, 'ifunny': 16444, 'goz': 16445, 'manually': 16446, 'ru': 16447, 'domains': 16448, 'coop': 16449, 'surprises': 16450, 'sinkhole\\x89û': 16451, 'occasion2b': 16452, '10news': 16453, 'falmer': 16454, 'azimel': 16455, 'scientist': 16456, 'deceased': 16457, 'gaping': 16458, '\\x89ûïfdny': 16459, 'onscene': 16460, 'nycbuildings': 16461, 'wctv35': 16462, 'accidentalprophecy': 16463, 'moorlandschmbr': 16464, 'algeria': 16465, 'lomasvisto': 16466, 'hipsters': 16467, 'devours': 16468, 'intersectio': 16469, 'cadenadeseguidores': 16470, 'twitsandiego': 16471, 'asphalt': 16472, 'sa\\x89û': 16473, 'sel': 16474, 'hinterestin': 16475, 'davidcovucci': 16476, 'wews': 16477, 'presinkhole': 16478, 'leaking': 16479, 'sewage': 16480, 'independent3': 16481, 'mtsalert': 16482, 'large\\x89û': 16483, 'few': 16484, 'afloat': 16485, 'pension': 16486, 'hogan': 16487, 'thanking': 16488, 'publicityalthough': 16489, 'supernovalester': 16490, 'unsigned': 16491, 'snapping': 16492, 'abandonedpics': 16493, 'abbandoned': 16494, 'darsena': 16495, 'castello': 16496, 'scaligero': 16497, 'sirmione': 16498, 'hoke': 16499, 'excepting': 16500, 'dfljev': 16501, 'currency': 16502, 'transgress': 16503, 'paydayprison': 16504, 'ward': 16505, 'sinkingfund': 16506, 'unsecured': 16507, 'jbumzqpk': 16508, 'onnnn': 16509, 'plank': 16510, 'sinkingshipindy': 16511, 'scarlet': 16512, 'lenore': 16513, 'saison': 16514, 'stonebrewingco': 16515, '\\x89û¢\\x89û¢if': 16516, 'onå¡å¡': 16517, 'tna': 16518, 'appease': 16519, 'morbid': 16520, 'destinationimpact': 16521, 'att': 16522, 'keurig': 16523, 'thirdquarter': 16524, 'afterhours': 16525, 'wccorosen': 16526, 'lloyds': 16527, 'insure': 16528, 'corycove': 16529, 'slipper': 16530, 'jota': 16531, 'esse': 16532, 'carb': 16533, 'consultative': 16534, 'subconscious': 16535, 'xkdrx': 16536, 'clawing': 16537, 'wonderfully': 16538, 'installment': 16539, 'wasting': 16540, 'tribe': 16541, 'pitched': 16542, 'ofnsixjks': 16543, 'corii': 16544, 'spoil': 16545, 'wishlist': 16546, 'ma3route': 16547, 'imeshika': 16548, 'hapa': 16549, 'mats': 16550, 'aar': 16551, 'ambulancewe': 16552, 'bonnieg434': 16553, 'piga': 16554, 'kijan': 16555, 'stacedemon': 16556, 'ibeyiofficial': 16557, 'amateur': 16558, 'reprises': 16559, 'horrormoviesca': 16560, 'j2bone': 16561, 'healingreviving': 16562, 'demoness': 16563, 'beckoning': 16564, 'this\\x89û': 16565, 'sirenvoice': 16566, 'liveonstreamate': 16567, 'frusciante': 16568, 'marriedfoxysiren': 16569, 'announce': 16570, 'dull': 16571, 'monotonous': 16572, 'herei': 16573, 'hunterston': 16574, 'process': 16575, 'smithereens': 16576, 'tomarse99': 16577, 'intending': 16578, 'signal': 16579, 'arenanone': 16580, 'cybersecurity': 16581, 'angelina': 16582, 'jolie': 16583, 'sef': 16584, 'gameplaywalkthrough': 16585, 'optich3cz': 16586, 'askh3cz': 16587, 'elgato': 16588, 'bday': 16589, 'themayhoka': 16590, 'longfoxysiren': 16591, 'envyseven': 16592, 'queenmy': 16593, 'pretenses': 16594, 'overturesplease': 16595, 'songfor': 16596, 'pharma': 16597, 'overloaded': 16598, 'sirensong21': 16599, 'bucks': 16600, 'nsf': 16601, 'argue': 16602, 'dyersburg': 16603, 'heavydirtysoul': 16604, 'serephina': 16605, 'lasiren': 16606, 'vvorm': 16607, 'fgcu': 16608, 'soonermagic': 16609, 'indyfest': 16610, 'breachgamingorg': 16611, 'screeching': 16612, 'accompanying': 16613, 'warped': 16614, '012032': 16615, 'gmt0000': 16616, 'millcityio': 16617, '20150613': 16618, 'theramin': 16619, 'raychielovesu': 16620, 'sirensamp': 16621, 'lemonade': 16622, 'semi': 16623, 'vhs': 16624, 'anthology': 16625, 'dangdaddy': 16626, 'thinner': 16627, 'awn': 16628, 'sirensicebreaker': 16629, 'kiro7seattle': 16630, 'dill': 16631, 'pickle': 16632, 'marketforce': 16633, 'perth': 16634, 'iinet': 16635, 'nbn': 16636, 'buffering': 16637, 'travelelixir': 16638, 'helo': 16639, 'goooooooo': 16640, 'midfield': 16641, 'soni': 16642, 'soner': 16643, 'sonisoner': 16644, 'hakogaku': 16645, 'åêi': 16646, 'ik4len': 16647, 'abc7eyewitness': 16648, 'hometownglory': 16649, 'connor': 16650, 'franta': 16651, 'howell': 16652, 'gostei': 16653, 'vìdeo': 16654, 'christinartnd': 16655, 'marketforce\\x89ûªs': 16656, '\\x89ûïcat': 16657, 'shark\\x89û\\x9d': 16658, 'cher': 16659, 'vai': 16660, 'vir': 16661, 'pra': 16662, 'halfhourhotel': 16663, 'edgarsgift': 16664, 'promotion': 16665, 'lifeaintfairkid': 16666, 'blunts': 16667, 'snoop': 16668, 'collie': 16669, 'buddz': 16670, 'hmmm': 16671, 'radneck': 16672, 'kidneys': 16673, 'sidelinesavage': 16674, 'crqck': 16675, 'becyme': 16676, 'mayor': 16677, 'includes': 16678, 'foursquare': 16679, 'burp': 16680, 'youngins': 16681, 'pianohands': 16682, 'taxis': 16683, '55436': 16684, 'sammysosita': 16685, 'ciggs': 16686, 'toooooo': 16687, 'bck': 16688, 'thetshirtkid': 16689, 'trynna': 16690, 'tj': 16691, 'billmccabe': 16692, 'cigs': 16693, 'tray': 16694, 'bremorrow': 16695, 'josie': 16696, 'splifs': 16697, 'mentaltwitter': 16698, 'reminders': 16699, 'teamatowinner': 16700, 'mino': 16701, 'commas': 16702, '36x36': 16703, 'manuel': 16704, 'accuracy': 16705, 'improves': 16706, 'chann': 16707, '3am': 16708, 'footed': 16709, 'pajamas': 16710, 'sorryi': 16711, 'rtirishirr': 16712, 'mchapmanwsaz': 16713, 'grouponuk': 16714, 'purified': 16715, 'pale': 16716, 'moonlight': 16717, 'lalaloopsy': 16718, 'seed': 16719, 'sunburst': 16720, 'seashore': 16721, 'spice': 16722, 'habbo': 16723, 'tic': 16724, 'tac': 16725, 'battleships': 16726, 'matchwood': 16727, 'dirktrossen': 16728, 'snowstormhailstorm': 16729, '\\x89ûïlordbrathwaite': 16730, 'growingupincolorado\\x89û\\x9d': 16731, 'cacheadvance': 16732, 'sippin': 16733, 'transportation': 16734, '18wheelers': 16735, 'stop\\x89û\\x9d': 16736, 'amssummer': 16737, 'pyrbliss': 16738, 'inches': 16739, 'longll': 16740, 'benjamin': 16741, 'leftwich': 16742, 'treescape': 16743, '737': 16744, 'takeoff': 16745, 'atc': 16746, 'thundersnow': 16747, 'uncommon': 16748, 'go\\x89û': 16749, 'refer': 16750, 'boi': 16751, 'he\\x89ûªs': 16752, '\\x89ûïsippin\\x89ûª': 16753, 'prablematicla': 16754, 'adweek': 16755, 'snowstormdespite': 16756, 'romes': 16757, '358': 16758, 'gamefeed': 16759, 'videogame': 16760, 'trooper': 16761, 'bobble': 16762, 'funko': 16763, 'kesabaran': 16764, 'membuahkan': 16765, 'hasil': 16766, 'indah': 16767, 'pada': 16768, 'saat': 16769, 'tepat': 16770, 'jenniferarri': 16771, 'comeeeee': 16772, 'tonyhsieh': 16773, 'anonymous': 16774, 'catcher': 16775, 'stormfree': 16776, 'happenings': 16777, 'eventspalmbeach': 16778, 'ama': 16779, 'hawaiianpaddlesports': 16780, 'prints': 16781, 'lulu': 16782, 'mypillowstudio': 16783, 'robthieren': 16784, 'expanded': 16785, 'slight': 16786, 'twcnews': 16787, 'ncwx': 16788, 'calgarians': 16789, 'boutta': 16790, 'tstorm': 16791, '345pm': 16792, 'sara': 16793, 'pacifics': 16794, 'hilda': 16795, 'th\\x89û': 16796, 'lesleymariiee': 16797, 'temp': 16798, 'doves': 16799, 'proms': 16800, 'pt4': 16801, 'tomorrow\\x89ûªs': 16802, 'greet': 16803, 'bask': 16804, 'warmth': 16805, 'bliss': 16806, 'coachkeith44': 16807, 'hannomottola': 16808, 'trpreston01': 16809, 'mlrydalch': 16810, 'lumbar': 16811, 'ouwbball': 16812, 'ferno': 16813, 'engineering': 16814, 'inspect': 16815, 'components': 16816, 'expander': 16817, 'fujiwara': 16818, 'shunichiro': 16819, 'freeze': 16820, 'homemade': 16821, 'yogurt': 16822, '1pack': 16823, '2pack': 16824, '3pack': 16825, 'fleek': 16826, 'capoeira': 16827, 'stretcherbearer': 16828, 'favorited': 16829, 'stressing': 16830, 'mxaaaa': 16831, 'adjust': 16832, 'shaper': 16833, 'width': 16834, 'adjustable': 16835, 'niqqa': 16836, 'stretcherbearers': 16837, 'daretotaha': 16838, 'foreskin': 16839, 'spacex': 16840, 'founder': 16841, 'musk': 16842, 'lizbon': 16843, 'kidicalmassdc': 16844, 'failure\\x89û': 16845, 'sirtitan45': 16846, 'correcting': 16847, 'excessive': 16848, 'emerging': 16849, 'topdown': 16850, 'coercion': 16851, 'weakness': 16852, 'ensuring': 16853, 'co\\x89û': 16854, 'preventative': 16855, 'cabling': 16856, 'bracing': 16857, '9058778591': 16858, 'cts': 16859, 'galactics': 16860, 'spaceshiptwo': 16861, 'kpcc': 16862, 'sirtophamhat': 16863, 'scynic1': 16864, 'nafeezahmed': 16865, 'jeremyduns': 16866, 'represents': 16867, 'shortfalls': 16868, 'sabcnewsroom': 16869, 'sabotagei': 16870, 'deeply': 16871, 'solved': 16872, 'slums': 16873, 'illegality': 16874, 'discourse': 16875, 'confounds': 16876, 'stopevictions': 16877, 'whvholst': 16878, 'leashless': 16879, 'competence': 16880, 'soc': 16881, 'parties': 16882, 'illogical': 16883, 'virg': 16884, 'foxnewsinsider': 16885, 'rembr': 16886, 'alfapedia': 16887, 'committing': 16888, 'trench\\x89û': 16889, 'zaman': 16890, 'alwsl': 16891, 'hashd': 16892, 'shaabi': 16893, 'theft': 16894, '19th': 16895, '17jul2015': 16896, 'timesap': 16897, 'tripoli': 16898, 'taliban': 16899, 'explosivesrigged': 16900, 'josephjett': 16901, 'saudiarabia': 16902, 'canadasuicide': 16903, 's\\x89ûªarabia': 16904, 'aseer': 16905, 'southwestern': 16906, 'deai': 16907, 'saudiåêmosque': 16908, 'bbclaurak': 16909, 'stowing': 16910, 'aboard': 16911, 'noahj456': 16912, 'sticky': 16913, 'thursd': 16914, '1970s': 16915, 'piracy': 16916, 'slavery': 16917, 'purely': 16918, 'reoccur': 16919, 'launches': 16920, 'airstrikes': 16921, 'kurdistan': 16922, 'daisycuttertz': 16923, 'grogparty': 16924, 'tonyburke': 16925, 'imam': 16926, 'sonofbobbob': 16927, 'shimmyfab': 16928, 'trickxie': 16929, 'chopping': 16930, 'rooftops': 16931, 'rightly': 16932, 'despicable': 16933, 'ocalan': 16934, 'marxism': 16935, 'offshoot': 16936, 'jewhaditm': 16937, 'rebecca': 16938, 'roga': 16939, 'infographic': 16940, 'saadthe': 16941, 'kpdied': 16942, '2007he': 16943, 'kppolice': 16944, 'kabul': 16945, 'rayquazaerk': 16946, 'employed': 16947, 'joined': 16948, 'confesses': 16949, 'hajihunter762': 16950, 'middleeasteye': 16951, 'muzzies': 16952, 'payback': 16953, 'reached': 16954, 'erdogans': 16955, 'socialists': 16956, 'shareaholic': 16957, 'nbcpolitics': 16958, '911bombing': 16959, 'barracks': 16960, 'bombers': 16961, 'harakiri': 16962, 'mordechai': 16963, 'yehuda': 16964, 'friedman': 16965, 'ramat': 16966, 'shemesh': 16967, 'marlene': 16968, 'menahem': 16969, 'moshav': 16970, 'safsufa': 16971, 'absence': 16972, 'interactions': 16973, 'backty': 16974, 'peeped': 16975, 'frontin': 16976, 'jeepåêsunk': 16977, 'tinted': 16978, 'bumpin': 16979, 'diver': 16980, 'steamship': 16981, 'shattered': 16982, 'visage': 16983, 'aphyr': 16984, 'long\\x89û': 16985, 'somethin\\x89ûª': 16986, 'descended': 16987, 'shadowed': 16988, 'harshly': 16989, 'capsize': 16990, 'b5': 16991, 'fuso': 16992, 'yamashiro': 16993, 'cachet': 16994, 'blaaaaaaa': 16995, 'vibrate': 16996, 'resolutevanity': 16997, 'marr': 16998, 'primal': 16999, 'codemew': 17000, 'sunk\\x89û1': 17001, 'mil': 17002, 'side\\x89û': 17003, 'pull\\x89ûone\\x89ûyou': 17004, 'saintrobinho86': 17005, 'demonstrated': 17006, 'untameddirewolf': 17007, 'sansa': 17008, 'blinked': 17009, 'benaffleck': 17010, 'stil': 17011, 'mraffleck': 17012, 'arrestpastornganga': 17013, 'collaborating': 17014, 'time4mesews': 17015, 'lonelyness': 17016, 'depressing': 17017, 'court\\x89ûªs': 17018, 'prestige': 17019, 'prosser': 17020, 'resoluteshield': 17021, 'shekhargupta': 17022, 'mihirssharma': 17023, 'trp': 17024, 'adsit': 17025, 'mockery': 17026, 'bonhomme37': 17027, 'unrealtouch': 17028, 'silverstar58200': 17029, 'romero': 17030, 'hutch': 17031, 'mlk': 17032, 'seas': 17033, 'giannis': 17034, 'submerged': 17035, 'reef': 17036, 'hank': 17037, 'preconditioning': 17038, 'corals': 17039, 'lucypalladino': 17040, 'ish': 17041, 'ayhhhhhdjjfjrjjrdjjeks': 17042, 'martial': 17043, 'thruuu': 17044, 'tootrue': 17045, 'dorrian': 17046, 'marketers': 17047, 'marketer': 17048, 'elitist': 17049, 'thomassmonson': 17050, 'lds': 17051, 'mormon': 17052, 'chim': 17053, 'gaynor': 17054, 'oktaviana': 17055, 'devi': 17056, 'captors': 17057, 'wildlooking': 17058, 'recluse': 17059, 'stylishly': 17060, 'separated': 17061, 'teamsurvivors': 17062, 'zombiefunrun2014': 17063, 'mochichiiiii': 17064, 'hikagezero': 17065, 'ww': 17066, 'wew': 17067, 'definition': 17068, 'ddnewslive': 17069, 'nitishkumar': 17070, 'zeros': 17071, 'adriennetomah': 17072, 'healthinsurance': 17073, 'driverlesscars': 17074, 'superpower': 17075, '2025': 17076, 'buchana': 17077, 'navigating': 17078, 'fastest': 17079, 'thedailyshow': 17080, 'mahalo': 17081, 'nui': 17082, 'loa': 17083, 'holomua': 17084, 'thoutaylorbrown': 17085, 'taaylordarr': 17086, 'scofield': 17087, 'hotbox': 17088, 'sona': 17089, 'miracle': 17090, 'mankind': 17091, 'thesmallclark': 17092, 'trigger': 17093, 'daubt': 17094, 'chubychux': 17095, 'rjkrraj': 17096, 'karnakarank': 17097, 'vimvith': 17098, 'thalapathi': 17099, 'destination': 17100, 'sessions': 17101, 'klitschko': 17102, 'makinmemories': 17103, '2am': 17104, '390': 17105, 'bonsai': 17106, 'natgeo': 17107, 'tsutomi': 17108, 'yamaguchi': 17109, 'otd': 17110, '12step': 17111, 'addiction': 17112, 'chronicillness': 17113, 'mylifestory': 17114, 'livin': 17115, 'zoom': 17116, 'pow': 17117, 'talked': 17118, 'pixeljanosz': 17119, 'angelheartnight': 17120, 'thr': 17121, 'thrarchives': 17122, '1928': 17123, 'duchovbutt': 17124, 'starbuckscully': 17125, 'madmakny': 17126, 'davidduchovny': 17127, 'plotted': 17128, 'ritual': 17129, '\\x89ûïbbcwomanshour': 17130, 'setsuko': 17131, 'thurlow': 17132, 'ì¢': 17133, 'tricycle': 17134, 'patientreported': 17135, 'metastatic': 17136, 'colorectal': 17137, 'humanityi': 17138, 'apologized': 17139, 'survivorsr': 17140, 'sojapan': 17141, 'nuclearweapons': 17142, 'coppednews': 17143, 'kotowsa': 17144, 'sudan\\x89ûªs': 17145, 'mithitennis': 17146, 'crackedgem': 17147, 'molecularly': 17148, 'lungcancer': 17149, 'violators': 17150, 'improved': 17151, 'hurled': 17152, 'nuked': 17153, 'arovolturi3000': 17154, 'fedporn': 17155, 'absurd': 17156, 'satire': 17157, 'indistinguishable': 17158, '\\x89û÷faceless': 17159, 'sister\\x89ûª': 17160, 'documentary': 17161, 'narrated': 17162, 'parter': 17163, 'lawfulsurvivor': 17164, 'tdog': 17165, 'morales': 17166, 'andrea': 17167, 'jacqui': 17168, 'merle': 17169, 'stemming': 17170, 'cubs': 17171, 'rosters': 17172, 'arizzo44': 17173, 'jlester34cubs': 17174, 'haley': 17175, 'richardson': 17176, 'news786uk': 17177, 'islamist': 17178, 'anjem': 17179, 'choudary': 17180, 'robpulsenews': 17181, 'huyovoetripolye': 17182, 'ldnrterrorists': 17183, 'preacher': 17184, 'sneaks': 17185, 'democracy\\x89ûªs': 17186, 'dawabsha': 17187, 'erode': 17188, 'homegrown': 17189, 'orangi': 17190, 'counterterrorism': 17191, 'sindh': 17192, 'diretube': 17193, 'fightåêterrorism': 17194, 'muslimsterrorism': 17195, 'catholicismhomophobia': 17196, 'jihadi': 17197, 'protostates': 17198, 'dhs': 17199, '\\x89û÷islamic': 17200, 'terrorism\\x89ûª': 17201, 'pakistans': 17202, 'ifs': 17203, 'ands': 17204, 'buts': 17205, 'incitement': 17206, 'beinart': 17207, 'adamnibloe': 17208, 'negotiating': 17209, 'initiative': 17210, 'lubrication': 17211, 'officialmqm': 17212, 'convivted': 17213, '1n': 17214, 'jampampk': 17215, 'elections': 17216, 'achedin': 17217, 'bjpsamvad': 17218, 'warra': 17219, 'rahulkanwal': 17220, 'jammu': 17221, 'disowned': 17222, 'disowns': 17223, 'an\\x89û': 17224, 'kasabwe': 17225, 'biryani': 17226, 'shipsxanchors': 17227, 'roles': 17228, 'swiftycommissh': 17229, 'taoistinsight': 17230, 'immortaltech': 17231, 'killin': 17232, 'mccain\\x89ûªs': 17233, 'photographed': 17234, 'isis\\x89û': 17235, 'acmilan': 17236, 'udhampuragain': 17237, 'lovemywife1983': 17238, 'shedid': 17239, '4the': 17240, 'bushs': 17241, 'washard': 17242, 'traitor': 17243, 'alipaper': 17244, 'keepingtheviginaclean': 17245, 'threatconnect': 17246, 'dfir': 17247, 'threatintel': 17248, 'kinggerudo': 17249, 'moblins': 17250, 'hed': 17251, 'duh': 17252, 'generational': 17253, '\\x89û÷british': 17254, 'schism\\x89ûª': 17255, 'bhusa': 17256, '\\x89ûïall': 17257, 'islamaphobe': 17258, 'dmassa5': 17259, 'definite': 17260, 'crown': 17261, 'drake\\x89ûªs': 17262, 'wedgie': 17263, 'illusoria': 17264, 'icarus': 17265, 'playingnow': 17266, 'bloodbound': 17267, 'kristyleemusic': 17268, 'devinjoslyn': 17269, 'atlevents': 17270, 'convection': 17271, 'spits': 17272, 'nlwx': 17273, 'lightumupbeast': 17274, 'waldo': 17275, '12u': 17276, 'cooperstown': 17277, 'joestrong': 17278, 'gokitgo': 17279, 'heheh': 17280, 'frequent': 17281, 'uptown': 17282, 'midtown': 17283, 'cn': 17284, '8960': 17285, 'driller': 17286, 'boxed': 17287, 'torrential': 17288, 'relaxing': 17289, 'soothmyslumber': 17290, 'watermeloann': 17291, 'populardemand': 17292, 'thewebbeffect19': 17293, 'wc': 17294, 'weebly': 17295, 'l9udest': 17296, 'asimtanvir': 17297, 'nemesiskpes': 17298, 'kevr7': 17299, 'sheeting': 17300, 'aaaaaand': 17301, 'essenceofme': 17302, 'gloomy': 17303, 'wthat': 17304, 'adidas': 17305, 'swingman': 17306, 'rumbling': 17307, 'haydnexists': 17308, 'didn\\x89ûªt': 17309, 'lorr': 17310, 'noah': 17311, '931pm': 17312, '1015pm': 17313, 'museawayfic': 17314, 'beenghosting': 17315, 'xylodemon': 17316, 'rachelrofe': 17317, '536': 17318, 'buren': 17319, 'inws': 17320, 'spsgsp': 17321, '1040': 17322, 'fforecast': 17323, 'fri': 17324, '933pm': 17325, 'skywarn': 17326, 'russellville': 17327, 'clarksville': 17328, 'dardanelle': 17329, '1015': 17330, 'vivaargentina': 17331, 'pea': 17332, 'choctaw': 17333, 'lethbridge': 17334, 'helsinki': 17335, 'lightningstrike': 17336, 'helsinki\\x89û': 17337, '935': 17338, 'mainly': 17339, 'cloudy': 17340, 'ocd': 17341, 'soonergrunt': 17342, 'brrookkllyynnr': 17343, 'ticklemeshawn': 17344, 'evebrigid': 17345, 'lily': 17346, 'xo': 17347, 'cowgirl': 17348, 'courtney': 17349, 'laudner': 17350, 'panties': 17351, '73rd': 17352, 'goode': 17353, 'championships': 17354, 'mon': 17355, '912pm': 17356, '945pm': 17357, 'sunday\\x89ûªs': 17358, 'horny': 17359, 'juicy': 17360, '829pm': 17361, 'lexi': 17362, 'belle': 17363, 'sakhalintribune': 17364, 'superman': 17365, 'slowpoke': 17366, 'poc': 17367, 'thunderstormtornado': 17368, 'woken': 17369, 'kunalkapoor': 17370, 'chaser': 17371, 'pod': 17372, 'heather': 17373, 'ava': 17374, 'sparxxx': 17375, 'threesome': 17376, 'stretches': 17377, 'victorian': 17378, 'sofa': 17379, 'rebelmage2': 17380, 'reference': 17381, 'heller': 17382, 'marley': 17383, 'brinx': 17384, 'striptease': 17385, 'rotation': 17386, 'condenses': 17387, 'mcv': 17388, 'subtornado': 17389, 'ayshuntornado': 17390, 'giselle': 17391, 'end\\x89û': 17392, 'toocodtodd': 17393, 'wyattb23': 17394, '20homers': 17395, 'tulowitzki': 17396, 'poses': 17397, 'strips': 17398, 'soulja': 17399, 'maaaaan': 17400, 'sorrowful': 17401, 'redemption': 17402, 'platt': 17403, 'homeworldgym': 17404, 'thisisperidot': 17405, 'monicas': 17406, 'wm': 17407, '\\x89û÷vulnerable\\x89ûª': 17408, 'toiindianews': 17409, 'ofcourse': 17410, 'caued': 17411, 'washing': 17412, 'tanehisicoates': 17413, 'laced': 17414, 'monologue': 17415, 'charlize': 17416, 'coulda': 17417, 'tbr': 17418, 'browsing': 17419, 'homepage': 17420, 'sriramk': 17421, 'dlin71': 17422, 'ownership': 17423, 'itssselenaluna': 17424, 'gagnon': 17425, 'imposing': 17426, 'my\\x89û': 17427, 'gunning': 17428, 'heartache': 17429, 'hirochii0': 17430, 'ariana': 17431, 'csaresu': 17432, 'leitchfield': 17433, 'bella': 17434, 'rosalie': 17435, 'rescueadoptionlocal': 17436, 'homessponsorships': 17437, 'almusafirah': 17438, 'suvs': 17439, 'prettyboyshyflizzy': 17440, 'onihimedesu': 17441, 'explosive': 17442, 'tween': 17443, 'battleroyalemod': 17444, 'teleported': 17445, 'decides': 17446, 'billionaires': 17447, 'blakeschmidt': 17448, 'victorious': 17449, 'rv': 17450, 'hollyw': 17451, 'remodeled': 17452, 'dramaallama': 17453, 'lilourry': 17454, 'stan': 17455, 'narry': 17456, 'boyinahorsemask': 17457, 'hugomatz': 17458, 'lilithsaintcrow': 17459, 'encoded': 17460, 'sensory': 17461, 'cognitive': 17462, 'addicts': 17463, 'defensive': 17464, 'decreases': 17465, 'vulnerability': 17466, 'taraswart': 17467, 'viviangiang': 17468, 'nissannews': 17469, '2car': 17470, 'a1a': 17471, 'bings': 17472, 'raabchar28': 17473, 'drphil': 17474, 'morganlawgrp': 17475, 'selfinflict': 17476, 'consistent': 17477, 'dimensions': 17478, 'agdq': 17479, 'kororinpa': 17480, 'marble': 17481, 'tloz': 17482, 'oracle': 17483, 'metroid': 17484, 'crazyindapeg': 17485, 'vets78734': 17486, 'understandable': 17487, 'eshop': 17488, 'affliction': 17489, 'extraordinaire': 17490, 'rosenthalauthor': 17491, 'communicate': 17492, 'gravitychat': 17493, 'ashghebranious': 17494, '60s': 17495, 'transgenerational': 17496, 'thetimepast': 17497, 'saalon': 17498, 'resolved': 17499, 'fricken': 17500, 'marijuana\\x89û': 17501, 'intragenerational': 17502, 'sandra': 17503, 'bland': 17504, 'haircuts': 17505, 'minimal': 17506, 'arobotlegion': 17507, 'oppressed': 17508, 'keithboykin': 17509, 'randallpinkston': 17510, 'pozarmy': 17511, 'abcs': 17512, 'parent': 17513, 'paeds': 17514, 'imaging': 17515, 'foamed': 17516, 'foamcc': 17517, 'partially': 17518, 'mustachemurse': 17519, 'dateswhitecoats': 17520, 'mocked': 17521, 'simmering': 17522, 'pioneerpress': 17523, 'uchicago': 17524, 'faculty': 17525, 'defines': 17526, 'perpetrators': 17527, 'oneborn': 17528, 'sadtraumatised': 17529, 'parisian': 17530, 'ruddyyyyyy': 17531, 'jamiegriff97': 17532, 'jamie': 17533, 'annmarieronan': 17534, 'niamhosullivanx': 17535, 'tat': 17536, 'pyramidhead76': 17537, 'ianokavo96': 17538, 'orphanage': 17539, 'mprnews': 17540, 'yessum': 17541, 'perkpearl': 17542, 'viennabutcher': 17543, 'wrongdejavu': 17544, 'malabamiandsons': 17545, 'disneyirh': 17546, 'snapchatselfie': 17547, 'wrongperson': 17548, 'emily4everever': 17549, 'alrightbut': 17550, 'judemugabi': 17551, '\\x89ûïkeits': 17552, 'livagotta': 17553, 'understand\\x89û\\x9d': 17554, 'ciaramckendry': 17555, 'renewed': 17556, 'vickybrush': 17557, 'topic': 17558, 'kushwush': 17559, 'hogging': 17560, 'cwheate': 17561, 'megancoopy': 17562, 'laurathorne97': 17563, 'argentaelite': 17564, 'brookesddl': 17565, 'varagesale': 17566, 'candacedx': 17567, 'rotations': 17568, 'leftleaning': 17569, 'learni': 17570, 'lucysforsale': 17571, 'afrikaan': 17572, 'thebargain': 17573, 'canagal': 17574, 'badastronomer': 17575, 'farther': 17576, 'noel': 17577, 'smoakqueen': 17578, 'jusstdoitgirl': 17579, 'wbu': 17580, 'comcastcares': 17581, 'happing': 17582, 'annajhm': 17583, 'jcomanse': 17584, 'paulstaubs': 17585, 'rslm72254': 17586, 'blanktgt': 17587, 'fartanxiety': 17588, 'ryans': 17589, 'boyd': 17590, 'detroitnews': 17591, '\\x89ûïymcglaun': 17592, 'juliekragt': 17593, 'wildwestsixgun': 17594, 'way\\x89û\\x9dyeah': 17595, 'stable': 17596, 'caaaaaall': 17597, 'troubleniallhariss': 17598, 'simplyvain': 17599, 'cspan': 17600, 'nikki': 17601, 'charleyisqueen': 17602, 'barber': 17603, 'egg': 17604, 'trashed': 17605, 'kerrykatona7': 17606, 'bak': 17607, 'tjrobertson2': 17608, 'charlieputh': 17609, 'nkulw': 17610, 'astros': 17611, 'stunningly': 17612, 'pitcher': 17613, 'bats': 17614, 'mia': 17615, 'princeoffencing': 17616, 'frickin': 17617, 'motivated': 17618, 'donnelly': 17619, 'puth': 17620, 'nopower': 17621, 'heleneyancey': 17622, 'helene': 17623, 'freefromwolves': 17624, 'baan': 17625, 'thai': 17626, 'sushi': 17627, 'bbshelli': 17628, 'crptotech': 17629, 'banks': 17630, 'banking': 17631, 'bitcoing': 17632, 'blockchain': 17633, 'optical': 17634, 'illusion': 17635, 'switzerland': 17636, 'borgeous': 17637, 'arceen': 17638, 'trends': 17639, 'tsunaminopeach': 17640, 'slone': 17641, 'ripples': 17642, 'clears': 17643, 'authormike': 17644, 'eyesss': 17645, 'tsunamis': 17646, 'kamunt': 17647, 'youuu': 17648, 'campanha': 17649, 'brinco': 17650, 'erictsunami': 17651, 'alil': 17652, 'gail': 17653, 'russell': 17654, 'dalroy': 17655, '\\x89û÷nother\\x89û\\x9d': 17656, 'other\\x89û\\x9d': 17657, 'tonguetwister': 17658, 'tumbles': 17659, 'todayim': 17660, 'sweeps': 17661, 'bitchruns': 17662, '1061': 17663, 'maddie': 17664, 'tae': 17665, 'oktxduo': 17666, 'homefolks': 17667, 'opinionated': 17668, 'proposal': 17669, 'modernized': 17670, 'omw': 17671, 'friend59': 17672, 'sharper': 17673, 'viper': 17674, 'hardside': 17675, 'telly': 17676, 'structuring': 17677, 'edcxo': 17678, 'dunking': 17679, 'sarahmcpants': 17680, 'justjon': 17681, 'titty': 17682, 'catlow': 17683, 'c720': 17684, 'swivels': 17685, '3dc': 17686, 'shar': 17687, 'discount': 17688, 'redesigning': 17689, 'itrawcwb': 17690, 'riser': 17691, 'dierks': 17692, 'bentley': 17693, 'iheartradio': 17694, 'bulgarian': 17695, 'tittie': 17696, 'noemotion': 17697, 'edk': 17698, 'pathfinders': 17699, 'ellenfromnowon': 17700, '7speed': 17701, 'nexus': 17702, 'shifter': 17703, 'å£9': 17704, 'toosoon': 17705, 'friend50': 17706, 'briannafrost': 17707, 'paxton': 17708, 'helen': 17709, 'carolinagutierr': 17710, 'sticking': 17711, 'boost': 17712, 'elianaraquel': 17713, 'wilden': 17714, 'llegaste': 17715, 'tu': 17716, 'm6x100': 17717, 'thread': 17718, 'rodarmer21': 17719, 'dolla': 17720, 'potter': 17721, 'mrsbinker': 17722, 'emiliorivera48': 17723, 'davidlabrava': 17724, 'breed': 17725, 'pug': 17726, 'thebuffshow': 17727, 'thetwisterokc': 17728, 'shaniatwain': 17729, 'twisterlovesshania': 17730, 'curls': 17731, 'repped': 17732, 'milne': 17733, 'thejonesesvoice': 17734, 'liguistic': 17735, 'jrlallo': 17736, 'narrator': 17737, 'chemically': 17738, 'lavatory': 17739, 'db5': 17740, 'breaking144': 17741, 'declarat': 17742, 'acenewsdesk': 17743, 'devpeace': 17744, 'mrobama': 17745, 'cnmi': 17746, '2slow2report': 17747, 'nbanews': 17748, 'typhoon\\x89û': 17749, 'vegetables': 17750, 'andåêchina': 17751, 'spies': 17752, '4yygb': 17753, 'strongest': 17754, 'buddha': 17755, 'urbanisation': 17756, 'brahmans': 17757, 'dominance': 17758, 'usw': 17759, 'abandoning': 17760, 'uncertaintyeconomic': 17761, 'rlyeh': 17762, 'finale': 17763, 'answer\\x89û': 17764, 'elderly': 17765, 'companionship': 17766, 'chester': 17767, 'chestertweetsuk': 17768, 'indepth': 17769, 'entershikari': 17770, 'kettlebell': 17771, 'lopez': 17772, 'hindsight': 17773, 'jhmnye': 17774, 'roman': 17775, 'foreclosed': 17776, 'ontejc': 17777, 'jungle': 17778, 'postexistence': 17779, 'elevation': 17780, 'brzjc': 17781, '1600yearold': 17782, 'horoscope': 17783, 'lyf': 17784, 'winik': 17785, 'navigate': 17786, 'audit': 17787, 'orcot': 17788, 'orpol': 17789, 'scandal': 17790, 'parliamentary': 17791, 'expenses': 17792, 'subsequent': 17793, 'sackings': 17794, 'pounds': 17795, 'uprooting': 17796, 'agony': 17797, 'trophy': 17798, 'badchoices': 17799, 'bantrophyhunting': 17800, 'scourgue': 17801, 'uspacific': 17802, 'disappears': 17803, 'skarletan': 17804, 'swell': 17805, 'vickie627': 17806, 'unqualified': 17807, 'treaty': 17808, 'teafrystlik': 17809, 'darken': 17810, 'ungodly': 17811, 'slightest': 17812, 'stirring': 17813, 'blitzes': 17814, 'seminars': 17815, 'blitzed': 17816, 'tra': 17817, 'belligerent': 17818, 'unfold': 17819, 'iateyourfood': 17820, 'yikes': 17821, 'uprootin': 17822, 'clap': 17823, 'rotating': 17824, 'jetstar': 17825, 'bali': 17826, 'nside': 17827, 'dragons': 17828, 'kamchatka': 17829, 'å©daniel': 17830, 'korzhonov': 17831, 'maailiss': 17832, '194': 17833, 'indonesian': 17834, 'mrmikeeaton': 17835, 'muazimusprime': 17836, 'hil': 17837, 'songhey89': 17838, 'kiddos': 17839, 'gi': 17840, 'sang': 17841, 'alextucker': 17842, 'jj': 17843, 'hickson': 17844, 'kenneth': 17845, 'faried': 17846, 'lamarcus': 17847, 'aldridge': 17848, 'west\\x89ûªs': 17849, 'zeal': 17850, 'indecisiveness': 17851, 'lexipurduee': 17852, 'volcanotornado': 17853, 'csismica': 17854, 'latechwatch': 17855, 'cityofmemphis': 17856, 'enders': 17857, 'mgs2': 17858, 'dpagexxi': 17859, 'ps2': 17860, 'scegnews': 17861, 'roving': 17862, 'raccoons': 17863, 'toughens': 17864, 'gears': 17865, '1preview': 17866, 'jasmines': 17867, 'littlewomenla': 17868, 'thugging': 17869, 'warzone': 17870, 'homies': 17871, 'inmate': 17872, 'worldwatchesferguson': 17873, 'govjaynixon': 17874, 'clairecmc': 17875, 'packing': 17876, 'kasiakosek': 17877, 'flour': 17878, 'robertoneill31': 17879, 'frying': 17880, 'decision\\x89û': 17881, 'jsdf': 17882, 'reiterate': 17883, 'coats': 17884, 'sprite': 17885, 'roguewatson': 17886, 'junsuisengen': 17887, 'dwarfonjetpack': 17888, 'xii': 17889, 'nightmarishly': 17890, 'brutal': 17891, 'ritualistic': 17892, 'vector': 17893, 'cutter': 17894, 'rosemarytravale': 17895, 'weaponxmusic': 17896, 'muttatek': 17897, 'kwwwkwwwk': 17898, 'jiahahahha': 17899, 'yeyeulala': 17900, 'esoteric': 17901, 'astrologian': 17902, 'pulse': 17903, 'es': 17904, 'tps': 17905, 'tdm': 17906, '400t': 17907, 'abes': 17908, 'camilla33': 17909, 'craykain': 17910, 'shatter': 17911, 'delusions': 17912, 'choppas': 17913, 'splatdown': 17914, 'switching': 17915, 'splatling': 17916, 'thatrussianman': 17917, 'splatoon': 17918, 'default': 17919, 'splattershot': 17920, 'nelson': 17921, 'mandela': 17922, 'salmanmydarling': 17923, 'snazzychipz': 17924, 'catalogue': 17925, 'powerhiroshima': 17926, '030811': 17927, '41yearold': 17928, 'citing': 17929, 'casing': 17930, 'infested': 17931, 'wimp': 17932, 'servicin': 17933, 'lurkin': 17934, 'danagould': 17935, 'waynesteratl': 17936, 'equalizer': 17937, 'hendrixonfire': 17938, 'blackcats': 17939, 'noob': 17940, 'violated': 17941, 'kdr': 17942, 'legitimate': 17943, 'needing': 17944, 'argus99': 17945, 'heidia1438': 17946, 'easier': 17947, 'incredulous': 17948, 'outcry': 17949, 'taxpayers': 17950, 'objection': 17951, 'å£100bn': 17952, 'chemicalweapons': 17953, 'lcc': 17954, '96355': 17955, 'bloggers': 17956, 'ineedexposure': 17957, 'uswarcrimes': 17958, 'wooooooo': 17959, 'gamerant': 17960, 'dismantling': 17961, 'knives': 17962, 'ojoubot': 17963, 'nro': 17964, 'unauthorized': 17965, 'argues': 17966, 'pelosis': 17967, 'dorismatsui': 17968, 'supporting': 17969, 'mere': 17970, 'conflicts': 17971, 'tactics': 17972, 'infiltration': 17973, 'router': 17974, 'ddos': 17975, 'eyecuts': 17976, 'erasuterism': 17977, 'deco': 17978, 'trickier': 17979, '1942': 17980, 'retirement': 17981, 'instruction': 17982, 'bookmobile': 17983, 'libraries': 17984, 'bigbrother': 17985, 'x37bs': 17986, '66m': 17987, 'pledged': 17988, 'davidhurn': 17989, 'tokteacher': 17990, 'skynet': 17991, 'adamantly': 17992, 'opposed': 17993, 'kirstiealley': 17994, 'animaladvocate': 17995, 'safari': 17996, 'otherwisethey': 17997, 'finsup': 17998, 'glosblue66': 17999, 'certificates': 18000, 'safes': 18001, 'arranged': 18002, 'guatemalan': 18003, 'submissions': 18004, 'moan': 18005, 'demeanor': 18006, 'staid': 18007, 'cramming': 18008, '14hours': 18009, 'jaiden': 18010, 'affair': 18011, 'exo': 18012, 'millennium': 18013, 'plaza': 18014, 'drmartyfox': 18015, 'tacoma': 18016, 'vixmeldrew': 18017, 'medusa': 18018, 'snake': 18019, 'inputs': 18020, 'baekhyun': 18021, 'suho': 18022, 'syjexo': 18023, 'byuwnbeki': 18024, 'tacit': 18025, 'mantra': 18026, 'south\\x89û': 18027, 'lasted': 18028, 'standstill': 18029, 'lucymayofficial': 18030, '30pcs': 18031, '12mm': 18032, 'ab': 18033, 'resin': 18034, 'flatback': 18035, 'rhinestone': 18036, 'decoration': 18037, 'scissor': 18038, 'alexhammerstone': 18039, 'kttape': 18040, 'ktfounder': 18041, 'remymarcel': 18042, 'frofrofro\\x89û': 18043, 'drained': 18044, 'theemobrago': 18045, 'jitsu': 18046, 'hexagon': 18047, 'yelled': 18048, 'ckosova': 18049, 'edfringe': 18050, 'm00nf00l': 18051, 'titania': 18052, 'summerhallery': 18053, 'reimagining': 18054, 'shakespeares': 18055, 'midsummer': 18056, 'scourge': 18057, 'whedonesque': 18058, 'fanged': 18059, 'cantwaittoplayinminneapolis': 18060, 'picthis': 18061, 'amazingness': 18062, 'finall\\x89û': 18063, 'athens': 18064, 'lisowski': 18065, 'whitewashes': 18066, 'masters': 18067, 'quals': 18068, 'snooker': 18069, 'blacken': 18070, 'parched': 18071, 'harris': 18072, 'articals': 18073, 'brothernlaw': 18074, 'riooooos': 18075, 'cal': 18076, 'sanonofre': 18077, 'foxdebatequestions': 18078, 'obamas': 18079, 'sharia': 18080, 'darwinism': 18081, 'jennife29916207': 18082, 'cnni': 18083, 'prisonplanet': 18084, 'warningwild': 18085, 'noting': 18086, 'senfeinstein': 18087, 'uncontrolled': 18088, 'droughts': 18089, 'connecticut': 18090, 'thedayct': 18091, 'wn': 18092, '080215': 18093, 'morels': 18094, 'ambleside': 18095, 'farmr': 18096, 'martsunmushroom': 18097, 'foragesecret': 18098, 'randerson62': 18099, 'enzasbargains': 18100, 'donated': 18101, 'handi': 18102, 'wipes': 18103, 'profittothepeople': 18104, 'wbcshirl2': 18105, 'doessnt': 18106, 'rejoice': 18107, 'calamities': 18108, 'ect': 18109, 'effected': 18110, 'foliage': 18111, 'ignited': 18112, 'hiker': 18113, 'azwx': 18114, 'kc5kh': 18115, 'wsoc': 18116, 'mattkroschel': 18117, 'vail': 18118, 'hearths': 18119, 'freaks': 18120, '75000': 18121, 'ember': 18122, 'kcrw': 18123, 'bengston': 18124, '\\x89ûïnumbers': 18125, 'upward': 18126, 'trend\\x89û\\x9d': 18127, 'smem': 18128, 'khq': 18129, 'firenews': 18130, 'utfire': 18131, 'lancasteronline': 18132, 'mulan': 18133, 'calwildfires': 18134, 'oregons': 18135, 'slows': 18136, 'hikers': 18137, 'signin': 18138, 'trailheads': 18139, 'wqow': 18140, 'galvnews': 18141, 'lastingness': 18142, 'acquiesce': 18143, 'retreat': 18144, 'ziuw': 18145, 'bampn': 18146, 'nook': 18147, 'thebachelorette': 18148, 'ij': 18149, 'niiiice': 18150, 'windstormåêinsurer': 18151, 'wsvr1686b': 18152, 'vhull': 18153, 'runabout': 18154, 'eurostyle': 18155, 'ekiti': 18156, 'rainwindstorm': 18157, 'odeekiti': 18158, 'gbonyin': 18159, 'lga': 18160, 'wzbt': 18161, 'txlege': 18162, 'diegt': 18163, 'hardball': 18164, 'chriscesq': 18165, 'bigtent': 18166, 'hailstormwindstorm': 18167, 'charlesadler': 18168, 'lees': 18169, 'browner': 18170, 'battleanother': 18171, 'shirley': 18172, 'caesar': 18173, 'patio': 18174, 'umbrella': 18175, 'flipped': 18176, 'mystical': 18177, 'calmstillness': 18178, 'eyecenter': 18179, 'aspects': 18180, 'leelanau': 18181, '2b': 18182, 'extended': 18183, 'besafe': 18184, 'damnwas': 18185, 'blakeshelton': 18186, 'windstormfollow': 18187, 'jeez': 18188, 'ijournal': 18189, 'bong': 18190, 'datingtips': 18191, 'goodreads': 18192, 'rangerkaitimay': 18193, 'jacksoncalm': 18194, 'retooled': 18195, 'retirees': 18196, 'handicapped': 18197, 'nomorehandouts': 18198, 'salvadors': 18199, 'bit\\x89û': 18200, 'twilights': 18201, 'jacquie': 18202, 'biggar': 18203, 'kindlecountdown': 18204, 'mfrwauthor': 18205, 'mgtab': 18206, 'phillip': 18207, 'amritsar': 18208, '\\x89ûïthat\\x89ûªs': 18209, 'exaggerated': 18210, 'wounded\\x89û\\x9d': 18211, 'claimin': 18212, 'zenit': 18213, 'asterpuppet': 18214, 'academia': 18215, 'an247': 18216, 'assured': 18217, 'officerrelated': 18218, 'investigated': 18219, 'wwp': 18220, 'serving': 18221, '75k': 18222, '52k': 18223, 'oifoef': 18224, 'invisible': 18225, 'aampw': 18226, '2pmclose': 18227, 'donations': 18228, 'senzu': 18229, 'gohan\\x89ûªs': 18230, 'pouch': 18231, 'charlesdagnall': 18232, 'rub': 18233, 'nout': 18234, 'rubbin': 18235, 'unhealed': 18236, 'unending': 18237, 'endoccupation': 18238, 'endconflict': 18239, 'freekashmir': 18240, 'mirrors': 18241, 'reflected': 18242, 'conducted': 18243, 'skims': 18244, 'morethan': 18245, 'disorders': 18246, 'kashmirconflict': 18247, 'dianneg': 18248, 'owen': 18249, 'ferrells': 18250, 'twcnewsclt': 18251, 'mattmosley': 18252, 'pour': 18253, 'celebrety': 18254, 'nogo': 18255, 'surgical': 18256, '79yearold': 18257, 'bishopfred': 18258, 'scrolling': 18259, 'didbut': 18260, 'exact': 18261, 'baked': 18262, 'alaskan': 18263, 'neverforget': 18264, 'egoresolution': 18265, 'session': 18266, 'discussing': 18267, 'icymagistrate': 18268, '\\x89ûóher': 18269, 'arm\\x89ûò': 18270, 'icicle': 18271, 'projectiles\\x89ûò': 18272, 'miniature': 18273, 'more\\x89ûó': 18274, 'strip': 18275, 'nicolaclements4': 18276, 'covering': 18277, 'scabs': 18278, 'dauntedpsyche': 18279, 'gently': 18280, 'dabbed': 18281, 'rag': 18282, 'crawling': 18283, 'hea': 18284, 'soldi': 18285, 'sorrower': 18286, 'squeaver': 18287, 'hangin': 18288, 'watchin': 18289, 'captainnmorgan': 18290, 'destiel': 18291, 'gazette': 18292, 'scratching': 18293, 'pedals': 18294, 'aqua': 18295, 'memenaar': 18296, 'kindof': 18297, 'restrospect': 18298, 'pokemoncards': 18299, 'icequeenfroslas': 18300, 'ranking': 18301, 'artectura': 18302, 'pop2015': 18303, 'nå¼36': 18304, 'gimp': 18305, 'newave': 18306, 'progressives': 18307, '\\x89ûïnews\\x89û\\x9d': 18308, 'livestreaming': 18309, 'girlthatsrio': 18310, 'uncles': 18311, 'georgefoster72': 18312, 'edmund': 18313, 'fitzgerald': 18314, 'blockage': 18315, 'woodward': 18316, 'davison': 18317, 'shoalstraffic': 18318, 'blinker': 18319, 'misscharleywebb': 18320, 'greer': 18321, 'amazondeals': 18322, 'skylanders': 18323, '453': 18324, '045': 18325, '949': 18326, '994': 18327, 'staged': 18328, 'locomotive': 18329, 'titortau': 18330, 'lynch': 18331, 'factchecking': 18332, 'ombudsmanship': 18333, 'raineishida': 18334, 'lolim': 18335, 'takeaways': 18336, 'amazon\\x89ûªs': 18337, 'magnificent': 18338, 'janeenorman': 18339, 'probability': 18340, 'kuala': 18341, 'lumpur': 18342, 'ajabrown': 18343, 'ministersays': 18344, 'firstever': 18345, '777': 18346, 'vanished': 18347, '239': 18348, 'najibrazak': 18349, 'malaysiaairlines': 18350, 'yahoonewsdigest': 18351, 'julianlage': 18352, 'grantgordy': 18353, 'rossmartin7': 18354, 'pastie': 18355, 'industrial': 18356, 'costing': 18357, 'apiece': 18358, 'iger\\x89ûªs': 18359, 'disney\\x89ûªs': 18360, '\\x89ûòåêcnbc': 18361, 'liv': 18362, 'oliviaapalmerr': 18363, 'thatswhatfriendsarefor': 18364, 'kunstler': 18365, 'residualincome': 18366, 'mlm': 18367, 'coleslaw': 18368, '300k': 18369, 'exotic': 18370, 'tuneswgg': 18371, 'ohhmyjoshh': 18372, 'stevenrulles': 18373, 'riddler': 18374, 'earlyexit': 18375, 'presidential': 18376, 'marynmck': 18377, 'adorable': 18378, 'topnews': 18379, 'caitsroberts': 18380, 'barra': 18381, 'kirafrog': 18382, 'mountwario': 18383, 'widda16': 18384, 'goner': 18385, 'jtruff23': 18386, 'cameronhacker': 18387, 'shoutout': 18388, 'fx': 18389, 'engineshed': 18390, 'boxes': 18391, 'gameofkittens': 18392, 'explodingkittens\\x89û': 18393, '154107': 18394, 'iwate': 18395, 'ayyo': 18396, 'dei': 18397, 'explosivespacked': 18398, 'tnwx': 18399, 'fatherofthree': 18400, 'overtaking': 18401, 'bathandnortheastsomerset': 18402, '9km': 18403, 'forney': 18404, 'developing': 18405, 'symptoms': 18406, 'geese': 18407, 'shakingits': 18408, 'nooooooooo': 18409, 'sunkxssedharry': 18410, 'previouslyondoyintv': 18411, 'toke': 18412, 'makinwa\\x89ûªs': 18413, 'splitting': 18414, 'personalities': 18415, 'techies': 18416, 'ablazeco': 18417, 'burners': 18418, 'sierra': 18419, 'leone': 18420, 'guap': 18421, 'turban': 18422, 'etsy': 18423, '16yearold': 18424, 'ablaze\\x89û': 18425, 'ctvtoronto': 18426, 'bins': 18427, 'wer': 18428, 'hydro': 18429, 'alfons': 18430, 'puls': 18431, 'pulsradio': 18432, 'rahm': 18433, 'mayoral': 18434, 'effigy': 18435, 'tall': 18436, 'johnkass': 18437, 'philippaeilhart': 18438, 'dhublath': 18439, 'insulted': 18440, 'paturnpike': 18441, 'patp': 18442, 'pa18': 18443, 'cranberry': 18444, 'curling': 18445, 'wand': 18446, 'cuase': 18447, 'badging': 18448, 'zeroedgeå¨': 18449, 'duallens': 18450, 'trafficdriving': 18451, 'historyaccident': 18452, 'camcorder': 18453, 'coincidence': 18454, 'unresolved': 18455, 'trafficsouthe': 18456, 'roadpoleast': 18457, 'a27': 18458, 'lewes': 18459, 'kingston': 18460, 'roundabout': 18461, 'a283': 18462, 'sakumaen': 18463, 'hei': 18464, 'darker': 18465, 'referral': 18466, '1800injured': 18467, '180046587332': 18468, 'slipandfall': 18469, 'dogbite': 18470, 'gauges': 18471, 'robynjilllian': 18472, 'wlsdomteeths': 18473, 'teesha': 18474, 'm42': 18475, 'junctions': 18476, 'j3': 18477, 'j3a': 18478, 'daveoshry': 18479, 'soembie': 18480, 'jelly': 18481, 'dave': 18482, 'ter': 18483, 'pg15000044357': 18484, '1035': 18485, 'polevaulter': 18486, 'kira': 18487, 'grìnberg': 18488, 'paraplegic': 18489, 'indoor': 18490, 'trampoline': 18491, 'bxckylynch': 18492, 'foi': 18493, 'roh': 18494, 'procura': 18495, 'tem': 18496, 'schoolboy': 18497, 'excision': 18498, 'skism': 18499, 'sexism': 18500, 'firebeatz': 18501, 'schella': 18502, 'lacofd': 18503, 'october': 18504, 'nxt': 18505, 'gradschoolapps': 18506, 'bond': 18507, 'bo2': 18508, 'invahnwetrust': 18509, 'cataclysm': 18510, 'jadeformkx': 18511, 'variation': 18512, 'counters': 18513, 'carelessness': 18514, 'rewindmusic': 18515, 'todayregarding': 18516, 'mintechan': 18517, 'hihow': 18518, 'keio': 18519, 'stationright': 18520, 'chofu': 18521, '72925': 18522, 'subsecretariat': 18523, 'garcia': 18524, 'castells': 18525, 'luggage': 18526, 'twp': 18527, 'jfk': 18528, 'thugiauren': 18529, 'greats': 18530, 'mbelly': 18531, 'brightasastar': 18532, 'disneyxrowbrina': 18533, 'margaretcho': 18534, 'fag': 18535, 'rainbowpower': 18536, 'vballplaya2296': 18537, 'dads': 18538, '29800': 18539, 'gayuk': 18540, 'whatsyouremergency': 18541, 'kdunning1919': 18542, 'hsnowberger': 18543, 'gabrielasmith29': 18544, 'rosiegray': 18545, 'sincerety': 18546, 'johnboywest': 18547, 'drodrolagi': 18548, 'handplacementgoals': 18549, 'jacksfilms': 18550, 'dreamworks': 18551, 'appropriates': 18552, 'ninahoag': 18553, 'psych': 18554, 'wiimington': 18555, 'prkng': 18556, 'liberals': 18557, 'amphave': 18558, '1915\\x89ûókaiserjaegers': 18559, 'josephs': 18560, 'regiment': 18561, 'carso': 18562, 'plateau': 18563, 'albertbreer': 18564, 'dd': 18565, 'longe': 18566, 'rgreen': 18567, 'mountainstock': 18568, 'nizer': 18569, 'roundup': 18570, 'bosteenauthfest': 18571, 'savewildhorses': 18572, 'saltriverhorses': 18573, 'jackienatalydlt': 18574, 'iced': 18575, 'incindia': 18576, 'gandhi': 18577, 'victorytotal': 18578, 'spherulitic': 18579, 'teamtwiistz': 18580, 'thomasa56': 18581, 'rrs': 18582, 'itskingriffyall': 18583, 'franchise': 18584, 'tmfkco': 18585, 'exclusion': 18586, 'ura': 18587, 'fictionsharecropping': 18588, '5sostag': 18589, 'enthusiastic': 18590, 'princes': 18591, 'dampd': 18592, 'superstar': 18593, 'invades': 18594, 'carousel': 18595, 'compromise': 18596, 'watchmen': 18597, 'mustread': 18598, 'pcraigroberts': 18599, 'rus': 18600, 'x1421': 18601, '12beyonce': 18602, 'receipt': 18603, 'x1431': 18604, 'x1435': 18605, 'x1415': 18606, 'wabash': 18607, 'reservoirs': 18608, 'louisvilleusace': 18609, 'sixteenth': 18610, 'x1424': 18611, 'ìñ2': 18612, 'cheesehead': 18613, 'duma': 18614, 'westarson': 18615, 'pnutsmama': 18616, 'felony': 18617, 'anopus': 18618, 'probation': 18619, 'fines': 18620, '1179': 18621, 'sketches': 18622, 'charlton': 18623, 'winery': 18624, 'wehtwtvwlocal': 18625, 'shawnee': 18626, 'olathe': 18627, 'kan': 18628, '960kzim': 18629, 'steele': 18630, 'vixuhn': 18631, 'lgbtq': 18632, 'contra': 18633, 'torches': 18634, 'getaway': 18635, 'surrey': 18636, 'richardgearl': 18637, 'å£70000': 18638, '\\x89û÷crying': 18639, 'christinkpix5': 18640, 'nightbeattv': 18641, 'kbcwtv': 18642, 'gay4bb': 18643, 'slapped': 18644, 'trapvodka': 18645, 'surveillance': 18646, 'ktla': 18647, 'aapatwork': 18648, 'catch22': 18649, 'industryinsights': 18650, 'realtwanbrown': 18651, 'texas\\x89ûªs': 18652, 'gratuitously': 18653, 'cruel': 18654, 'gayåêman': 18655, 'pooper': 18656, 'detected': 18657, 'ebony': 18658, 'blackhaired': 18659, 'blowjob': 18660, 'tilly': 18661, 'overcomes': 18662, 'vìa': 18663, 'sunnyclaribel': 18664, 'dpjhodges': 18665, '\\x89û÷assault': 18666, 'accountability\\x89ûª': 18667, 'her\\x89û': 18668, 'dreadfully': 18669, 'slut': 18670, 'schoolgirl': 18671, 'seaton': 18672, 'delaval': 18673, 'davidwarner31': 18674, 'sura': 18675, '911åêcall': 18676, 'belittled': 18677, 'bashed': 18678, 'demoralized': 18679, 'hot97': 18680, 'memo': 18681, 'resident': 18682, 'logitechg': 18683, 'aol': 18684, 'idiocy': 18685, 'output': 18686, 'hhw': 18687, 'decapitated': 18688, 'glance': 18689, 'repost': 18690, 'gregskazphotography': 18691, 'repostapp': 18692, 'åáåáåá': 18693, 'rainierarms': 18694, 'ambi': 18695, 'cierranb5678': 18696, 'maths': 18697, 'collectable': 18698, 'windriver': 18699, '60ml': 18700, 'mendealsuk': 18701, 'silveradoavalancheblazertahoe': 18702, 'dorion': 18703, 'consistency': 18704, '216': 18705, 'rowl': 18706, 'fc': 18707, '04': 18708, 'axle': 18709, '2055271': 18710, 'hoffmans': 18711, 'coloradoavs': 18712, 'nhlavalanche': 18713, 'manotwits': 18714, 'kolaveriboy': 18715, 'avast': 18716, 'andals': 18717, 'anaheim': 18718, '90sangelicmalik': 18719, 'wtm': 18720, 'lunatics': 18721, 'livingontheedge': 18722, 'jackisheaffer': 18723, 'exoticengram': 18724, 'therasputin': 18725, 'raspy': 18726, 'ttks': 18727, 'sharpino1990': 18728, 'pokì©mon': 18729, 'sapphire': 18730, 'cjs064': 18731, 'bonner': 18732, 'scalabrine': 18733, 'screwattack': 18734, 'knuckles': 18735, 'punches': 18736, 'unsurprisingstill': 18737, 'dismaying': 18738, 'watchcbs19': 18739, 'lapses': 18740, 'watchdog': 18741, 'dugway': 18742, 'proving': 18743, 'offbeat': 18744, 'stopislam': 18745, 'makedclisten': 18746, 'teaparty': 18747, 'atlasobscura': 18748, 'hedge': 18749, 'impacts': 18750, 'uscourt': 18751, 'bbcworld': 18752, 'populated': 18753, 'erea': 18754, 'bishoyragheb': 18755, 'bsc': 18756, 'debtassassin': 18757, 'hsts': 18758, 'aggravated': 18759, 'hivisnotacrime': 18760, 'carpediem': 18761, 'gacourts': 18762, 'hen': 18763, 'prsnvns': 18764, 'mariashriver': 18765, 'fultoninfocourt': 18766, 'strangersblkampwhtfrom': 18767, 'ssapress': 18768, 'forfeit': 18769, 'lookap': 18770, 'afrojazz': 18771, 'fuckwe': 18772, 'junesnowpaw': 18773, 'creamy': 18774, 'determines': 18775, 'warmer': 18776, 'atgames': 18777, 'handheld': 18778, 'slurpees': 18779, 'ovoizic': 18780, 'baddiemoneysign': 18781, 'lithgow': 18782, 'blazinsmasher': 18783, 'buzzy': 18784, 'kame': 18785, 'lovethyfamily': 18786, 'cruisingblazing': 18787, 'banging': 18788, 'bryanvsbracey': 18789, 'ustadium': 18790, 'watt': 18791, 'obj': 18792, 'le': 18793, 'kkarmstrongg': 18794, 'breeze': 18795, 'thruand': 18796, 'horn\\x89û': 18797, 'satelite': 18798, 'compl': 18799, 'speeds': 18800, 'unlimited': 18801, 'nyndesigns': 18802, 'blazingroselia': 18803, 'timedoes': 18804, 'tia': 18805, 'int\\x89ûªl': 18806, 'airline': 18807, 'battlehork': 18808, 'mundo': 18809, 'leona': 18810, 'dinah': 18811, 'tombrevoort': 18812, 'brevoort': 18813, 'bleedinglove': 18814, 'acapella': 18815, 'singer': 18816, 'canadiansinger\\x89û': 18817, 'kriszellner': 18818, 'triplemania': 18819, 'villano': 18820, 'whooping': 18821, 'myztiziziziziz': 18822, 'montano': 18823, 'imkanomate': 18824, 'skarlet': 18825, 'pushed': 18826, 'backwards': 18827, 'scratch': 18828, 'dogsarebetterthancats': 18829, 'aichmomanic': 18830, 'wraps': 18831, 'cloth': 18832, 'dudeandpal': 18833, 'idkimnotfunny': 18834, 'abbss13': 18835, 'atlwtmgc': 18836, 'cieistea': 18837, 'funnychubbyguy': 18838, 'tokyodotcom': 18839, 'popped': 18840, 'thefierygrave': 18841, 'mw3': 18842, 'champs': 18843, 'orgs': 18844, 'westmdcountypa': 18845, 'latrobe': 18846, '20th': 18847, 'susceptible': 18848, 'ny2': 18849, 'trama': 18850, 'wcfgt2015': 18851, 'colemcfadyean': 18852, 'awakened': 18853, 'biomarkdarrah': 18854, 'mikelaidlaw': 18855, 'tightens': 18856, 'dilapitated': 18857, 'sits': 18858, 'halferect': 18859, 'hickory': 18860, 'topix': 18861, 'clevelanddotcom': 18862, 'councilman': 18863, 'oneill': 18864, '220': 18865, 'michelgrabowy': 18866, 'vegetablefarmer': 18867, 'loser': 18868, 'snide': 18869, 'remarks': 18870, 'inquisition': 18871, 'darkspawn': 18872, 'norwalk': 18873, 'ordinance': 18874, 'ripe': 18875, 'peeling': 18876, 'servile': 18877, 'justinfenton': 18878, 'monumentalized': 18879, 'renewable': 18880, 'windfarms': 18881, 'slaps': 18882, 'curds': 18883, 'ebook': 18884, 'timzak': 18885, 'rhyming': 18886, 'kidsbook': 18887, 'eddietrunk': 18888, 'ozz': 18889, 'gunnar': 18890, 'optiks': 18891, 'siege': 18892, 'onyxfire': 18893, 'probaly': 18894, 'subliminal': 18895, 'relate': 18896, 'billie': 18897, 'jean': 18898, 'buybloodonthedanceflooronitunes': 18899, 'xoxoxxxooo': 18900, 'rutinaofficial': 18901, 'nbchannibal': 18902, 'hannibal': 18903, 'stained': 18904, 'nor0603': 18905, 'crip': 18906, 'bloodim': 18907, 'doin': 18908, 'sucker': 18909, 'criess': 18910, 'wook': 18911, 'sirbeezalot': 18912, 'youngthug': 18913, 'sosa': 18914, 'bellydo': 18915, 'homework': 18916, 'shaylencarroll': 18917, '1860': 18918, 'bloods': 18919, 'octagonal': 18920, 'cds': 18921, '1ìâå¢': 18922, '15l18': 18923, 'gp': 18924, 'thicker': 18925, 'chizu': 18926, 'gender': 18927, 'pasokon': 18928, 'radionz': 18929, 'ashwilliams1': 18930, 'iloveggletters': 18931, 'outrageous': 18932, 'maisy': 18933, 'martha': 18934, 'jeremyclarkson': 18935, 'tomm3h': 18936, 'refereeing': 18937, 'imfc': 18938, 'issit': 18939, 'shtballplayrsdo': 18940, 'pree': 18941, 'halfpeachh': 18942, 'caitlincavanah': 18943, '\\x89û÷a': 18944, 'street\\x89ûª': 18945, 'remade\\x89û': 18946, 'liam': 18947, 'stiless': 18948, 'pleeease': 18949, 'mtvteenwolf': 18950, 'luckily': 18951, 'mexicans': 18952, 'woulda': 18953, 'adultress': 18954, 'killary': 18955, 'azz': 18956, 'sassynreal': 18957, 'indifferent': 18958, 'iverson': 18959, 'malone': 18960, 'kaylagbaby1': 18961, 'jaykpurdy': 18962, 'shush': 18963, 'dodgersnation': 18964, 'winnable': 18965, 'sissy': 18966, 'fe\\x89û': 18967, 'flavor': 18968, 'blowvape': 18969, 'strawberry': 18970, '15\\x89û': 18971, 'lastwitchhunter': 18972, 'malikchaimaa': 18973, 'whilst': 18974, 'coldwood': 18975, 'bmrow': 18976, 'blownup': 18977, 'mortem': 18978, 'wallets': 18979, '3682': 18980, 'dracula': 18981, 'vampire': 18982, 'willyt': 18983, 'ksl': 18984, '126': 18985, '7294': 18986, '\\x89û¼': 18987, 'suzes': 18988, 'contents': 18989, 'loccitane': 18990, 'lavera': 18991, 'aborted': 18992, 'bonesymcbones': 18993, 'beartooth': 18994, 'smartphone': 18995, 'shipped': 18996, 'dians': 18997, 'consulted': 18998, 'kendricklamar': 18999, 'rouseys': 19000, 'ridiculing': 19001, 'getin': 19002, 'traintuesday': 19003, 'lesmills': 19004, 'cameron13131313': 19005, 'otooledalton': 19006, 'averywelch23': 19007, 'otoole1055': 19008, 'halo': 19009, 'pamanian': 19010, 'wolfgangjoc': 19011, 'homage': 19012, 'biggie': 19013, 'smalls': 19014, 'hypnotize': 19015, 'zvch4': 19016, 'jokal': 19017, 'photographers': 19018, 'drizzy': 19019, 'sandrabland': 19020, 'spitters': 19021, 'watered': 19022, 'esmcampy': 19023, 'werewolf': 19024, 'idiota': 19025, '1993': 19026, 'lenngonewin': 19027, 'defenseless': 19028, 'pushat': 19029, 'hamosh84': 19030, 'loo\\x89û': 19031, 'khalil': 19032, 'abdulrasheed': 19033, 'vuca': 19034, 'raghu': 19035, 'pearls': 19036, 'hanbags': 19037, 'rted': 19038, 'joannabomb': 19039, 'eventchase': 19040, 'mtv': 19041, 'mtvnews': 19042, 'atw': 19043, 'weneeda5hvmaperformance': 19044, 'peytonlaynec': 19045, 'ohhh': 19046, 'ajenews': 19047, 'world\\x89ûªs': 19048, 'joshrogin': 19049, 'slwsew379': 19050, 'jimsciutto': 19051, 'natseccnn': 19052, 'jonathanshainin': 19053, 'raises': 19054, 'sorts': 19055, 'censors': 19056, 'supressed': 19057, 'safemode': 19058, 'johncusack': 19059, '1946': 19060, 'beachis': 19061, 'hansel': 19062, 'gretel': 19063, 'yeh': 19064, 'ltkyodonewsgt': 19065, 'update1': 19066, 'anniv': 19067, 'eroded': 19068, 'pacifism': 19069, 'mattielbreaux': 19070, 'shhhh': 19071, '\\x89ûïtell': 19072, 'shinichi': 19073, 'kudo': 19074, 'moriya': 19075, 'teiji': 19076, 'skyscraper': 19077, 'nowish': 19078, 'nomorehiroshimas': 19079, 'vjday70': 19080, 'fepow': 19081, 'steamroller': 19082, 'squashed': 19083, 'boyampcarried': 19084, 'enola': 19085, 'allenpeacock': 19086, 'cleariran': 19087, 'abandons': 19088, 'bombedits': 19089, 'davej798': 19090, 'somaliaeritrea': 19091, 'applicants': 19092, 'sitctips': 19093, 'vlog': 19094, 'videobombed': 19095, 'campaigns': 19096, 'nhk': 19097, 'marke': 19098, 'hapless': 19099, 'syndicate': 19100, 'akinwunmiambode': 19101, 'berggrueninst': 19102, 'berggruen': 19103, 'dambisamoyo': 19104, 'grea': 19105, 'metropol': 19106, 'ctvkathyle': 19107, '\\x89ûïburning': 19108, 'work\\x89û\\x9d\\x89ûonly\\x89ûit': 19109, 'chistate33': 19110, 'vandalzing': 19111, '1\\x89ûòdon\\x89ûªt': 19112, '2\\x89ûòdon\\x89ûªt': 19113, '3\\x89ûòdon\\x89ûªt': 19114, 'awaken': 19115, 'speechgirlam': 19116, 'par': 19117, 'travdave': 19118, 'kornbreadicu': 19119, 'pines\\x89û': 19120, 'jane': 19121, 'kelsey': 19122, '530\\x89ûò730pm': 19123, 'wgton': 19124, 'tpp': 19125, 'tradeinservicesagreement': 19126, 'alejandro': 19127, 'jodorowsky': 19128, 'buildingsonfire': 19129, 'blainescronuts': 19130, 'firetrucks': 19131, 'dnr': 19132, 'res': 19133, 'shelled': 19134, 'gorlovka': 19135, 'janjuly': 19136, '2015\\x89ûó': 19137, '164': 19138, 'gilsimmons': 19139, 'groton': 19140, 'taiz': 19141, 'houthi': 19142, 'saleh': 19143, 'shelling': 19144, 'tahreer': 19145, 'tisas': 19146, 'niceville': 19147, 'tristapnwfdn': 19148, 'wmur': 19149, 'agricultural': 19150, 'aldwark': 19151, 'nyorks': 19152, 'grim': 19153, 'fewer': 19154, 'piglets': 19155, 'pensioner': 19156, 'housesbuildings': 19157, 'kalispell': 19158, 'heartbrokenmobile': 19159, 'nellis': 19160, 'stake': 19161, 'brandace': 19162, 'ntc': 19163, 'allwe': 19164, '500\\x89û': 19165, 'irsolichin': 19166, '9tawan99': 19167, '178kakapo': 19168, 'grandest': 19169, 'scales': 19170, 'kyraelizabethh': 19171, 'shelia1965a': 19172, '163': 19173, 'cardio': 19174, '21dayfix': 19175, 'curlin': 19176, 'necks': 19177, 'blackhatwriter': 19178, 'alfred00dle': 19179, 'pdleague': 19180, 'crit': 19181, 'bibles': 19182, 'prodigal': 19183, 'widouglass': 19184, 'kurrrlyw': 19185, 'dunce': 19186, 'mattharvey33': 19187, '88': 19188, 'pitches': 19189, 'inn': 19190, 'burned\\x89û': 19191, 'stabbed': 19192, 'budgets': 19193, 'jalapenos': 19194, 'burninglavaonfire': 19195, 'gloves': 19196, 'peppers': 19197, 'geoengineering': 19198, '165å¡': 19199, 'sargiuliani': 19200, 'janellebrown117': 19201, 'comrades': 19202, 'sweatseeking': 19203, 'calorieburning': 19204, 'cardiotorture': 19205, 'nod': 19206, 'slouching': 19207, 'isles': 19208, 'warlords': 19209, 'draenor': 19210, 'crusad': 19211, 'thevenskus': 19212, 'thesweatshoppe': 19213, 'worktime': 19214, 'auditiontime': 19215, 'roccotime': 19216, 'nobs': 19217, 'peddle': 19218, 'floorboard': 19219, 'backroad': 19220, 'out\\x89û': 19221, 'now\\x89û': 19222, 'forte': 19223, 'entry': 19224, 'beloooow': 19225, 'swallow': 19226, 'whooooole': 19227, 'autocracies': 19228, 'tarekfatah': 19229, '8goingon80': 19230, 'sunscreen': 19231, 'raids': 19232, 'legion\\x89û': 19233, 'accomplishing': 19234, 'ti5quotes': 19235, '120v': 19236, 'breaker': 19237, 'threshold': 19238, 'awg': 19239, 'commonly': 19240, '1800w': 19241, 'outlets': 19242, 'kron4news': 19243, 'mrjamesob': 19244, 'crawl': 19245, 'jakey': 19246, 'clare': 19247, 'zx': 19248, 'ost': 19249, 't17': 19250, 'ogre': 19251, 'claw': 19252, 'trubeque': 19253, 'soaring': 19254, 'temperatures': 19255, 'scotgov': 19256, 'tweetlikekez': 19257, 'halts': 19258, 'jiminswang': 19259, 'pamelamueller': 19260, 'privlege': 19261, 'therealpbarry': 19262, 'believers': 19263, 'eugene': 19264, 'conspiracies': 19265, 'gtiso': 19266, 'unfortunate': 19267, 'nzmorningreport': 19268, 'utilises': 19269, 'welly': 19270, 'aucklnd': 19271, 'esksf': 19272, 'joshdaniel': 19273, 'mikegiarrusso': 19274, 'untrained': 19275, 'lambasted': 19276, 'joke\\x89û\\x9d': 19277, 'maddow': 19278, 'jimwinnm': 19279, 'predicting': 19280, 'prevented': 19281, 'dontestallworth': 19282, 'stevesgoddard': 19283, 'iwo': 19284, 'jima': 19285, 'cameronsurname': 19286, 'chrisg0000': 19287, 'rxcasualty': 19288, 'dainttm': 19289, 'legaljobs': 19290, 'litigation': 19291, 'attorney': 19292, 'scottsdale': 19293, 'bodily': 19294, '\\x89ûïmaccocktail': 19295, 'hiram': 19296, 'blairs': 19297, 'georgian': 19298, 'wines': 19299, 'russias': 19300, 'bruminthecity': 19301, 'espresso': 19302, 'busiest': 19303, 'rollingmeadows': 19304, 'catering': 19305, 'auditory': 19306, 'hcxvneoav': 19307, '\\x89ûï5sosglobalsquad': 19308, '5sos\\x89û\\x9d': 19309, 'retweeting': 19310, 'datshemmings': 19311, 'moi': 19312, 'plutot': 19313, 'heartbreak': 19314, 'ufhguhfidt': 19315, 'stannis': 19316, 'shaneryanhere': 19317, 'quietly': 19318, 'personality': 19319, 'modern': 19320, 'bds': 19321, 'caradelevingne': 19322, 'hotness': 19323, 'swifties': 19324, 'twlldun': 19325, 'postwar': 19326, 'kylie': 19327, 'bruce': 19328, 'alexander': 19329, 'vaunwilmott': 19330, 'paystara': 19331, 'shirtless': 19332, 'dominion': 19333, 'decimated': 19334, 'apocaly\\x89û': 19335, 'å£1': 19336, 'wage': 19337, 'unitednyblogs': 19338, 'insidecityhall': 19339, '500k': 19340, 'mailer': 19341, 'looming': 19342, 'carlyfiorina': 19343, 'feelthebern': 19344, 'rickards': 19345, 'expecte': 19346, 'regulations': 19347, 'laladeviluke': 19348, 'informed': 19349, 'fifteenmilehigh': 19350, 'plume': 19351, 'blissfully': 19352, 'bathed': 19353, 'resorted': 19354, 'tying': 19355, 'thrift': 19356, 'trustory': 19357, 'shortages': 19358, 'drills': 19359, 'spohn': 19360, 'mixers': 19361, 'purposesjyb': 19362, 'jewell': 19363, 'bendwavy': 19364, 'rinse': 19365, 'pmbreedlove': 19366, 'redruthåêuk': 19367, 'pushes': 19368, 'teach': 19369, 'rarasathie': 19370, 'spencervh': 19371, 'usetheiight': 19372, 'falloffcliff': 19373, '80ft': 19374, 'shaldon': 19375, 'mattbuek': 19376, 'gracefully': 19377, 'johnnieguilbert': 19378, 'cheering': 19379, 'hiking': 19380, 'excitedmuch': 19381, 'ntsouthwest': 19382, 'tasty': 19383, 'erosion': 19384, 'crumbly': 19385, 'hnlnow': 19386, 'paso': 19387, 'fresh\\x89û': 19388, 'oikawa': 19389, 'karasuno': 19390, 'thane': 19391, 'unfortun': 19392, 'wlb': 19393, '343': 19394, 'arnejungjohann': 19395, 'energiewende': 19396, 'rampant': 19397, 'humiliate': 19398, 'rival': 19399, '\\x89ââ86bn': 19400, 'testament': 19401, 'thedemocrats': 19402, 'lockstep': 19403, 'sheriffclarke': 19404, 'freeamerican100': 19405, 'rebuild': 19406, '35w': 19407, 'honoring': 19408, 'ceiling': 19409, 'billowing': 19410, 'southtowne': 19411, 'lashak': 19412, 'diamond6612': 19413, 'quinlo': 19414, 'lsedig': 19415, 'yemmely': 19416, 'holly16252': 19417, 'inmianajones': 19418, 'tut': 19419, 'albertville': 19420, 'jessicalauraxo': 19421, '3pronged': 19422, 'hongkong': 19423, 'retailer': 19424, 'dsc': 19425, 'spectators\\x89û': 19426, 'jemmaswans': 19427, 'breather': 19428, 'sack': 19429, 'prayer': 19430, 'get\\x89û': 19431, 'howie': 19432, 'gateway': 19433, 'tables': 19434, 'collidenlc': 19435, 'perez': 19436, 'niley': 19437, 'shipper': 19438, 'justine': 19439, 'vamos': 19440, 'newells': 19441, 'funfact': 19442, 'lizzie': 19443, 'explore': 19444, 'unjust': 19445, 'samuel': 19446, 'motherjones': 19447, 'lastword': 19448, 'farhankvirk': 19449, 'ptisalarkhan': 19450, 'promoting': 19451, 'arc': 19452, 'emery': 19453, 'lords': 19454, 'thestartofemandyou': 19455, 'mollywood': 19456, 'marketplace': 19457, 'bolapm': 19458, 'imaginator1dx': 19459, 'dresser': 19460, 'stairs': 19461, 'maritime': 19462, 'shinto': 19463, 'hoshin': 19464, 'nautical': 19465, 'sastars': 19466, 'alyssaspencer28': 19467, 'beau': 19468, 'i40': 19469, 'daaamn': 19470, 'sr121': 19471, 'riverside': 19472, 'techerit': 19473, 'broadwater': 19474, 'banjo': 19475, 'pilon': 19476, 'skateboarding': 19477, 'wamberal': 19478, '10yearold': 19479, 'whipping': 19480, 'sns': 19481, 'crashmatrix': 19482, 'themercedesxxx': 19483, 'minivan': 19484, 'nonpower': 19485, 'playoff': 19486, 'hairity': 19487, 'rainbow': 19488, 'spitty': 19489, 'pie': 19490, 'spikebot': 19491, 'thieves': 19492, 'dealership': 19493, 'killeen': 19494, 'portmoody': 19495, 'clarke': 19496, 'seaview': 19497, 'kemsley': 19498, 'gatensbury': 19499, 'natethewolf': 19500, 'fairport': 19501, 'bgc14': 19502, 'emilynoel95': 19503, 'joeylawrence': 19504, 'abcfmelissajoey': 19505, 'melissaandjoeychat': 19506, 'bordentown': 19507, 'sown': 19508, 'husbands': 19509, 'whoevers': 19510, 'rookie': 19511, 'thomicks': 19512, 'rosannebarr': 19513, 'suggest': 19514, 'qatar': 19515, 'pahandabear': 19516, 'nethaera': 19517, 'aqgco': 19518, 'departed': 19519, 'malfunctioning': 19520, 'scripts': 19521, 'database': 19522, 'majors': 19523, 'martyred': 19524, 'corps': 19525, '9m': 19526, 'iplayer': 19527, 'commentary': 19528, 'pkadlik': 19529, 'jojowizphilipp': 19530, 'viptickets': 19531, 'imgunnashakeitallnight': 19532, 'aramis': 19533, 'strop': 19534, 'secretly': 19535, 'lmk': 19536, 'mmx': 19537, 'appadvice\\x89û': 19538, 'designgeeks': 19539, 'freakingg': 19540, 'sandy0013': 19541, 'butterflieshes': 19542, 'teambarrowman': 19543, 'necessarily': 19544, '130': 19545, 'neptunia': 19546, 'nonsrank': 19547, 'colosseum': 19548, 'grinding': 19549, 'amyramponi': 19550, 'they\\x89ûªre': 19551, 'selffulfilling': 19552, 'selftalk': 19553, 'psychat': 19554, 'parlor': 19555, 'waitress': 19556, 'arthritis': 19557, 'dancingonhwy': 19558, 'joins': 19559, 'ff': 19560, 'aichi': 19561, 'psy': 19562, 'misaki': 19563, 'avril': 19564, 'curtainpanel': 19565, 'curtains': 19566, 'blinds': 19567, 'mwcahill5': 19568, 'mcutchen': 19569, 'gameofthrones': 19570, 'cantstoplaughing': 19571, 'loraccee': 19572, 'viewers': 19573, 'sells': 19574, 'brandonwarne': 19575, '462': 19576, 'welcoming': 19577, 'crushed\\x89û': 19578, 'spicenthingsup': 19579, 'ghazalabaji': 19580, 'kenye': 19581, 'bedtime': 19582, 'nows': 19583, 'btsprep': 19584, 'parenting': 19585, 'karliknox': 19586, 'curfewbeagle': 19587, 'beaglefreedom': 19588, 'benznibeadel': 19589, 'annaesterly': 19590, 'dometufnellpark': 19591, 'havoc': 19592, 'sexthemed': 19593, 'ebooks': 19594, 'tropics': 19595, 'cbsmiami': 19596, 'miamiherald': 19597, 'scorpion': 19598, 'revival': 19599, 'cardinal': 19600, 'bo': 19601, 'sdb': 19602, 'cnua': 19603, 'orochinagicom': 19604, 'gigatech': 19605, 'coney': 19606, 'aliyeskii': 19607, 'wquddin': 19608, 'tunkhin80': 19609, 'maungkyawnu': 19610, 'drkhubybe': 19611, 'nslwin': 19612, 'ibrahimdubashi': 19613, 'mdskar': 19614, 'zarnikyaw': 19615, 'kyawthu043': 19616, 'erpestar': 19617, 'popobawa': 19618, 'revolves': 19619, 'tropicalweather': 19620, '1245z': 19621, 'tropicalupdate': 19622, 'waige': 19623, 'scorpionpilot': 19624, '\\x89ûï\\x89û\\x9d': 19625, 'soudelor15': 19626, 'mariana': 19627, '0600': 19628, 'localeventcountdown': 19629, 'curtain': 19630, 'rstoday': 19631, 'rodder': 19632, 'keeling': 19633, '427': 19634, 'barracuda': 19635, 'riviera': 19636, 'smexaminer': 19637, '\\x89û¢this': 19638, 'perps': 19639, 'lm\\x89ûªs': 19640, 'frauncestavern': 19641, 'nygovcuomo': 19642, 'globepolitics': 19643, 'positions': 19644, 'pandering': 19645, 'hardright': 19646, 'divides': 19647, 'corrodes': 19648, 'goodwill': 19649, 'nyy': 19650, 'fbody95': 19651, 'gaymaro': 19652, 'alpine': 19653, 'fuckkkkkk': 19654, 'gatorgmuzik': 19655, 'scully': 19656, 'sfe': 19657, 'hipsbeforehands': 19658, 'onceaho': 19659, 'abella': 19660, 'alwaysaho': 19661, '\\x89ûïthis': 19662, 'mind\\x89û\\x89û\\x9d': 19663, 'importantly': 19664, 'dangers': 19665, 'interruptions': 19666, 'annoy': 19667, 'theelmagoo': 19668, 'gopteens': 19669, 'pukesmoothie': 19670, 'mlpdelrim': 19671, 'prada': 19672, 'allen': 19673, 'fresenius': 19674, 'same': 19675, 'ppe': 19676, 'jamesmaynot': 19677, 'amusicvideoaday': 19678, 'knelligan12': 19679, 'kingruckus': 19680, 'operate': 19681, 'unitedutilities': 19682, 'parasite': 19683, 'dangeri': 19684, 'transplantee': 19685, 'kidney': 19686, 'considered': 19687, 'makers': 19688, 'possum': 19689, 'vals': 19690, 'nooooo': 19691, 'hotty': 19692, '411naija': 19693, 'boyfriends': 19694, 'niggah': 19695, 'prater': 19696, 'pronounced': 19697, 'tonedidit': 19698, 'ripross': 19699, 'baeffee': 19700, 'randompelar': 19701, 'whoo': 19702, 'bunkd': 19703, 'chants': 19704, 'rrod': 19705, 'headache': 19706, 'itristontyler': 19707, 'hamster': 19708, 'medue': 19709, 'maintenance\\x89û': 19710, 'swearyg': 19711, 'tradery': 19712, 'spirituality': 19713, 'againspiritual': 19714, 'awakening': 19715, 'charlesfrize': 19716, 'frizemedia': 19717, 'dynamicfrize': 19718, 'kaaypaat': 19719, 'betrayedhunter': 19720, 'paused': 19721, 'deeper': 19722, 'mother\\x89û': 19723, '1outside': 19724, 'liz': 19725, 'tim55081': 19726, 'bootlegalbano': 19727, 'profits': 19728, 'mohammedzismail': 19729, 'gunsmissilesbombs': 19730, 'abombs': 19731, 'infections': 19732, 'neonatal': 19733, 'guyana': 19734, 'msha': 19735, 'elkodaily': 19736, 'confident': 19737, 'malaysias': 19738, 'rmt': 19739, 'browne': 19740, 'listeners': 19741, '2100': 19742, '\\x89ûïliquidslap': 19743, 'song\\x89û\\x9d': 19744, 'we3fordemocracy': 19745, 'rowers': 19746, 'celeb': 19747, 'endorsements': 19748, 'ciostrategyau': 19749, 'applicable': 19750, 'ensembles': 19751, 'operational': 19752, 'counterpart': 19753, 'weimar': 19754, 'hustlin': 19755, 'unter': 19756, 'bigdata': 19757, 'decadelong': 19758, 'billiondollar': 19759, 'harperslegacy': 19760, 'floodwater': 19761, 'anq': 19762, 'likkly': 19763, 'tetovo\\x89û': 19764, 'deutsche': 19765, 'sprache': 19766, 'cre': 19767, 'cile': 19768, 'doczone': 19769, 'yoursstand': 19770, 'standwout': 19771, 'invoicesx': 19772, 'ou': 19773, 'olour': 19774, 'invoicew': 19775, 'colouj': 19776, 'ikely': 19777, 'kickstarter': 19778, 'ivoices': 19779, 'friending': 19780, 'ltbgthyderabadltbgt': 19781, 'heading\\x89û': 19782, 'dismay': 19783, 'surrendered': 19784, 'descending': 19785, 'disturbed': 19786, 'sunrisehaiku': 19787, 'wimberley': 19788, 'atxsmtx': 19789, 'cruddy': 19790, 'ostensibly': 19791, 'macabre': 19792, 'bartonleclay': 19793, 'cottages': 19794, 'southend': 19795, 'goodrich': 19796, 'bankruptcy': 19797, 'tulsa': 19798, 'manufacturing': 19799, 'corrupt': 19800, 'vandalise': 19801, 'aliyu': 19802, 'mani': 19803, 'secschoolinnigeria': 19804, 'anakasparian': 19805, 'whiny': 19806, 'aboooooortiooooonnnnns': 19807, 'defundpp': 19808, 'buys': 19809, 'napa': 19810, '5sosquotes': 19811, 'pen': 19812, 'economists': 19813, 'propagating': 19814, 'winningwhit': 19815, 'assemble': 19816, 'wagingnv': 19817, 'bigfoot': 19818, 'landmark': 19819, 'bosvsnyy': 19820, 'bananalivesmatter': 19821, 'hoteplivesmatter': 19822, 'hotepina': 19823, 'alfredo': 19824, 'ramdog1980': 19825, 'kahel': 19826, 'rims': 19827, 'helpabrotherout': 19828, 'chik': 19829, 'uttarakhand': 19830, 'journalists': 19831, 'oneindia': 19832, 'ilovenuiharime': 19833, 'underconstruction': 19834, 'luxuryhomes': 19835, 'townhouses': 19836, 'opticdkarma': 19837, '528472': 19838, 'whomikejoness': 19839, 'fridge': 19840, 'reallife': 19841, 'consis': 19842, 'dewatering': 19843, 'defends': 19844, 'cemetery': 19845, 'infuriates': 19846, 'carthage': 19847, 'celebrity': 19848, 'currong': 19849, 'buzzing': 19850, 'york\\x89ûªs': 19851, 'nassau': 19852, 'coliseum\\x89û': 19853, 'johnnydetroit': 19854, 'intro': 19855, 'motel': 19856, 'inthespiritwebuild': 19857, '2gether': 19858, 'seattle\\x89ûªs': 19859, '\\x89û÷up\\x89ûª': 19860, 'oufootball': 19861, 'hajirah': 19862, 'aleshabell': 19863, 'indias': 19864, 'pitfalls': 19865, 'queenbrittani': 19866, 'hereamp8217s': 19867, 'hollycleggs': 19868, 'lowcarb': 19869, 'treats': 19870, 'diabetes': 19871, 'meal': 19872, 'thedx': 19873, 'ashleydniece': 19874, 'hillary\\x89ûªs': 19875, 'bimbo': 19876, 'eruptions': 19877, 'questionable': 19878, 'politicsisdirty': 19879, 'bcc': 19880, 'increases': 19881, 'commentating': 19882, 'decis': 19883, 'vivigraubard': 19884, 'shortsideness': 19885, 'graf': 19886, 'backtracking': 19887, 'whywebike': 19888, 'bikecommute': 19889, 'dysfunctionalredline': 19890, 'coolbreezet': 19891, 'smithsonianno': 19892, 'trainthen': 19893, 'disabled': 19894, 'fh': 19895, 'bethesda': 19896, 'janeannmorrison': 19897, 'fixwmata': 19898, 'sidewalks': 19899, 'lenfant': 19900, 'mobbed': 19901, 'nightmarecommute': 19902, 'lizkhalifa': 19903, 'cbcnorth': 19904, 'sacred': 19905, 'rr': 19906, 'talston': 19907, 'kristnmalea': 19908, 'derailingdistractions': 19909, 'wmatametro': 19910, 'shuttle': 19911, 'unsurprised': 19912, 'disrupting': 19913, 'noon': 19914, 'group\\x89ûªs': 19915, 'garfieldcottage': 19916, 'tribunes': 19917, 'terrence': 19918, 'ti': 19919, 'wbbmnewsradio': 19920, 'resume': 19921, 'amtrak': 19922, 'coloradogambling': 19923, '2338': 19924, 'nasb': 19925, 'sank': 19926, 'submarine': 19927, 'bickford\\x89ûªs': 19928, 'stale': 19929, 'fugazzi\\x89ûªs': 19930, 'appalled': 19931, 'heavens': 19932, 'evils': 19933, 'multimillion': 19934, 'chop': 19935, 'billet': 19936, 'frugal': 19937, 'companionate': 19938, 'anacrusis': 19939, 'vacantldn': 19940, 'peculiar': 19941, 'compliment': 19942, 'headspace': 19943, 'provides': 19944, 'uneducated': 19945, 'steviede83': 19946, 'roathboy': 19947, 'badgeofhonour': 19948, 'horns': 19949, 'harlet': 19950, 'williamtcooper': 19951, 'mtnredneck': 19952, 'peregrinekiwi': 19953, 'boymonster': 19954, 'cp2020': 19955, 'blighted': 19956, 'corporate': 19957, 'wilderness': 19958, 'iglxenix': 19959, 'pvp': 19960, 'bombardment': 19961, '2disc': 19962, 'copy': 19963, 'cameos': 19964, 'colbert': 19965, 'amidst': 19966, 'olympus\\x89û': 19967, 'becauseim': 19968, 'interestud': 19969, 'thrusting': 19970, 'techfree': 19971, 'reenslave': 19972, 'adz77': 19973, 'spelled': 19974, 'lads': 19975, 'there\\x89ûªs': 19976, 'ponds': 19977, 'momtherbot': 19978, 'strengthen': 19979, 'pure': 19980, 'alexhern': 19981, 'vr': 19982, 'taguatinga': 19983, 'campeonatos': 19984, 'dwarfs': 19985, 'villain': 19986, 'nbcthewiz': 19987, 'musketeiro': 19988, 'nusrah': 19989, 'thesun': 19990, '3946': 19991, 'evdaikoku': 19992, 'zjwhitman': 19993, 'carp': 19994, 'leftside': 19995, 'dudehe': 19996, 'valerielol': 19997, 'otpdestroyed': 19998, 'kiki': 19999, 'fixitjesus': 20000, 'sokoto': 20001, 'soohell': 20002, 'repentance': 20003, 'childrens': 20004, '3936': 20005, 'bomban': 20006, 'recur': 20007, 'travels': 20008, 'greeted': 20009, 'm1tchell1987': 20010, 'mee': 20011, '19000': 20012, 'rebuilt': 20013, 'blockade': 20014, 'opengaza': 20015, 'kaytlinmartinez': 20016, 'blizzards': 20017, 'lyk': 20018, 'anncoulter': 20019, 'immigrantsdeserves': 20020, 'defeated': 20021, 'destroyedits': 20022, 'clarion': 20023, 'azeroth': 20024, 'onc': 20025, 'peterarnottglas': 20026, 'rae': 20027, 'commissioned': 20028, 'mull': 20029, 'airportwatch': 20030, 'motorways': 20031, '2reduce': 20032, 'fumes': 20033, 'iamdestruction': 20034, 'abounds': 20035, 'destructiondefundpp': 20036, '80000': 20037, 'sometime': 20038, 'otsuka': 20039, 'bureaucrats': 20040, 'codeveloped': 20041, 'åêwas': 20042, 'hjudeboudreaux': 20043, 'henchman': 20044, 'browndetonate': 20045, 'listenpurchase': 20046, 'nickkristof': 20047, 'contradictory': 20048, 'uninhabited': 20049, 'alternatives\\x89ûócategorically\\x89ûówere': 20050, 'someone92883220': 20051, 'wwiiera': 20052, 'newer': 20053, '9395': 20054, '28lv6': 20055, 'indicator': 20056, 'irretrievable': 20057, 'airborne': 20058, 'controls': 20059, 'sjfeb': 20060, 'as10012': 20061, 'jcenters': 20062, 'uhoh': 20063, '1580992': 20064, '9096': 20065, 'subaru': 20066, '22lh4': 20067, '1581028': 20068, '213296': 20069, 'ks225': 20070, '917032': 20071, 'altitude': 20072, 'israelnews': 20073, 'polishedstone': 20074, 'yeetrpan': 20075, 'martinbarrow': 20076, 'aaron': 20077, 'dannybmiller': 20078, 'hunter': 20079, 'hayes': 20080, 'antebellum': 20081, 'tagliatelle': 20082, 'meatballs': 20083, 'draining': 20084, 'humblethepoet': 20085, 'lillys': 20086, 'superbactor': 20087, 'gags': 20088, 'nomorepod': 20089, 'coleenlisa': 20090, 'otrabaltimore': 20091, 'mpd': 20092, 'armstrong': 20093, 'cnnhotd': 20094, 'handcuffed': 20095, 'hookup': 20096, 'dones': 20097, 'bordering': 20098, 'packard': 20099, 'emerged': 20100, '\\x89ûïeven': 20101, 'freedom\\x89û\\x9d': 20102, 'hqhed': 20103, 'walkthrough': 20104, 'przez': 20105, 'hid': 20106, 'shown': 20107, 'preserved': 20108, 'nikkihaley': 20109, 'gilgitbaltistan': 20110, 'quinhii': 20111, 'otl': 20112, 'suggested': 20113, 'i74': 20114, 'crawfordsville': 20115, 'privatisation': 20116, 'reade': 20117, 'greedyrich': 20118, 'paladins': 20119, 'overpopulation': 20120, 'brats': 20121, 'sassed': 20122, 'ndp': 20123, '\\x89û÷disaster': 20124, 'huffpostalberta': 20125, 'harperblamesalbertans': 20126, '735m': 20127, 'transocean': 20128, 'bps': 20129, 'recovers\\x89û': 20130, 'debut': 20131, 'severino': 20132, 'adjustments': 20133, 'disadvantaged': 20134, 'mightyworld': 20135, 'displac': 20136, 'oof': 20137, 'vassals': 20138, 'ineedjakadeeja': 20139, 'justbitching': 20140, 'lists': 20141, 'abnormally': 20142, 'setxnews': 20143, 'droughttolerant': 20144, 'perennials': 20145, 'monte': 20146, 'attempts': 20147, 'delinquency': 20148, 'pasadena': 20149, 'marcvegan': 20150, 'nondairykerry': 20151, 'lb': 20152, 'hamburger': 20153, 'etx': 20154, 'marionharrison': 20155, 'kltv7': 20156, 'thompson': 20157, 'kondobyjaymoni': 20158, 'anticipate': 20159, 'jonbuda': 20160, 'tattooine': 20161, 'dolphfan36': 20162, 'itdidnt': 20163, 'ladytraining': 20164, 'craft': 20165, 'clementines': 20166, 'genuinely': 20167, 'reallyyy': 20168, 'affection': 20169, 'wagyu': 20170, 'heaping': 20171, 'smuckers': 20172, 'grape': 20173, 'vanquiishher': 20174, '700': 20175, 'tlot': 20176, 'waar': 20177, 'ctot': 20178, 'nlu': 20179, 'oilersjaysfan': 20180, 'bullied': 20181, 'hoodie': 20182, 'lj': 20183, 'ej': 20184, 'beastburger': 20185, 'beyondmeat': 20186, 'ketchup': 20187, 'wdijon': 20188, 'abrianna': 20189, 'benwunsch': 20190, 'broth': 20191, 'epilept': 20192, 'lend': 20193, 'fcking': 20194, 'dìäjìû': 20195, 'vuuuuu': 20196, 'befoooooooore': 20197, 'erecting': 20198, 'monuments': 20199, 'newsvideos': 20200, 'dusts': 20201, 'fidgets': 20202, 'ricochet': 20203, 'ghostprotocol': 20204, 'susfu': 20205, 'cptesco': 20206, '0939pm': 20207, 'been\\x89û': 20208, 'christinaperri': 20209, 'askceeps': 20210, 'colinodonoghue1': 20211, 'hookier': 20212, 'stills': 20213, 'whatupdave': 20214, '2075': 20215, 'pickathon': 20216, 'sunsetballard': 20217, 'tomonakayama': 20218, 'lasts': 20219, 'pheonix': 20220, '140km': 20221, 'ferndale': 20222, 'lizxy': 20223, 'mechanisms': 20224, 'manuscript': 20225, 'suspiciously': 20226, 'viayoutube': 20227, 'fiji': 20228, 'epicen': 20229, 'ramona': 20230, 'maeisdumb': 20231, 'whoahahahahhdjs': 20232, 'dnt': 20233, 'unhealthyeat': 20234, 'samsmith': 20235, 'baano': 20236, 'pepsi': 20237, 'spoilers': 20238, 'thanksgiving': 20239, 'joelheyman': 20240, '750k': 20241, 'anythin\\x89û': 20242, 'hooked': 20243, 'flicks': 20244, 'boomshunga': 20245, 'ellaemusic': 20246, 'plugging': 20247, 'philadper2014': 20248, 'earphones': 20249, 'bedhair': 20250, 'vagrant': 20251, 'hairdryer180': 20252, 'shgames': 20253, 'disable': 20254, 'eco': 20255, 'magically': 20256, 'iwouldntgetelectedbecause': 20257, 'wireswait': 20258, 'elected': 20259, 'nevermind': 20260, 'repairing': 20261, '11211': 20262, 'offerings': 20263, 'uac': 20264, 'knobbootemergency': 20265, '5\\x89û': 20266, 'nashnewvideo': 20267, 'nashgrier': 20268, 'dilemma': 20269, 'setback': 20270, 'righteousness': 20271, 'jah': 20272, 'supplemental': 20273, 'modesto': 20274, 'stephghinojosa': 20275, 'jk': 20276, 'kits': 20277, 'alertness': 20278, 'gmanews': 20279, '119': 20280, 'sri': 20281, 'lankas': 20282, 'go2markfranco': 20283, 'caleen': 20284, 'sisk': 20285, 'shastadam': 20286, 'funded': 20287, 'wfocus': 20288, 'winnemem': 20289, 'businsmagazine': 20290, '660news': 20291, 'nenshi': 20292, 'prosyndicate': 20293, 'airdrie': 20294, 'okotoks': 20295, 'activation': 20296, 'kimacheson': 20297, 'ballina': 20298, 'sighting': 20299, 'genefmyburgh': 20300, 'crimeairnetwork': 20301, 'delivery': 20302, 'thisisafrica': 20303, 'processes': 20304, 'streamlined': 20305, 'insofar': 20306, 'organizationabbog': 20307, 'jinxy1888': 20308, 'economist': 20309, 'payforithow': 20310, 'mended': 20311, 'body\\x89ûªs': 20312, 'dials': 20313, 'awesomejobsiri': 20314, 'localplumber': 20315, 'mickbland27': 20316, 'disturbing': 20317, 'careerarc': 20318, 'issaquah': 20319, 'bodminmoor1': 20320, 'expertise': 20321, 'cornwalls': 20322, 'finest': 20323, 'snackwavejulie': 20324, 'flamecored': 20325, 'colliding': 20326, 'projectile': 20327, 'fishiest': 20328, 'crown769': 20329, 'heartburn': 20330, 'salha1harry': 20331, 'styles2u': 20332, 'peoplehurryevacuate': 20333, 'fromhelljust': 20334, 'shahadaamppickmeclasssick': 20335, 'deploying': 20336, 'hence': 20337, 'fronts': 20338, 'farted': 20339, 'broom': 20340, 'lookin': 20341, 'yourgirlhaileyy': 20342, 'leaveevacuateexitbe': 20343, 'banished': 20344, 'regal': 20345, 'worsens': 20346, 'misschaela': 20347, 'evaucation': 20348, 'kocomcaboy': 20349, 'orakei': 20350, 'felled': 20351, 'chesterfield': 20352, 'newsbrokenemergency': 20353, 'servicesgold': 20354, 'coastpowerlinetramtr': 20355, 'fortitudevalley': 20356, '7am': 20357, 'bunker': 20358, 'cheney': 20359, 'catered': 20360, 'ktchn': 20361, 'clearlake': 20362, 'lik': 20363, 'pelling': 20364, 'hotels': 20365, 'strings': 20366, 'concealment': 20367, 'rejuvenating': 20368, 'pqhaxp': 20369, 'anatomic': 20370, 'remodeling': 20371, 'iaavroiv': 20372, '40money': 20373, 'aboveandbeyond': 20374, 'stillnotoverit': 20375, 'neediness': 20376, 'ulcerated': 20377, 'waggon': 20378, 'cornwall': 20379, 'bnvfdag': 20380, 'kcem': 20381, 'whitner': 20382, 'hale': 20383, 'madrivercomplex': 20384, 'casrf': 20385, 'calfirepio': 20386, 'willowfire': 20387, '52': 20388, 'wyattmccab': 20389, 'copenhagen': 20390, 'wintergreen': 20391, 'bblf': 20392, 'magicallester': 20393, 'more\\x89û': 20394, 'sooooooo': 20395, 'hour\\x89û\\x89û': 20396, 'explodelight': 20397, 'checking': 20398, 'aphid': 20399, 'northiowa': 20400, 'fromthefield': 20401, 'alltheway80s': 20402, 'carpenters': 20403, 'bleach': 20404, 'thongshudder': 20405, 'boudoir': 20406, 'outfits': 20407, 'eyeballs': 20408, '649': 20409, 'metrolink': 20410, 'thatink': 20411, '7080000': 20412, 'advantage': 20413, 'micros': 20414, 'shironuakaineko': 20415, 'tap': 20416, 'rickoshea': 20417, 'anthonyshead': 20418, 'nicholasbrendon': 20419, 'dublincomiccon': 20420, 'rte2fm': 20421, 'whattt': 20422, 'fangirl': 20423, 'marymc21': 20424, 'sorta': 20425, 'lto5': 20426, 'lump': 20427, 'warehouse': 20428, 'divestment': 20429, 'pmngiqy': 20430, 'paradigm': 20431, 'shawlarmedeai': 20432, 'abh': 20433, 'mrbrianorl': 20434, 'liquid': 20435, 'naples': 20436, 'theblacklink': 20437, 'informer': 20438, 'rasaudauthor': 20439, 'caiguoqiang': 20440, 'philadelphiamuseu\\x89û': 20441, 'promotes': 20442, 'mankinds': 20443, 'invention': 20444, 'wilson': 20445, 'karaman': 20446, 'brendan': 20447, 'gawlowski': 20448, 'eyewitnesswv': 20449, 'ecocide': 20450, 'edmundadamus': 20451, 'campionjoanne': 20452, 'carters': 20453, '79': 20454, 'jpii': 20455, 'toread': 20456, 'newsthousands': 20457, 'repmikerogersal': 20458, 'benghazi': 20459, 'werenotgrubervoters': 20460, 'extremeåêweather': 20461, 'gopcontrolled': 20462, 'approved': 20463, 'busta': 20464, 'splashed': 20465, 'reliable': 20466, 'intldevelopment': 20467, 'wuckforld': 20468, 'lioniskingrtac': 20469, 'heroic': 20470, 'shameful': 20471, 'kyiv': 20472, 'europeradio': 20473, 'ua': 20474, 'exaggeration': 20475, 'dwell': 20476, 'confines': 20477, 'botha': 20478, 'apartheid': 20479, 'tutu': 20480, 'nobel': 20481, 'prize': 20482, 'ira': 20483, '71': 20484, 'fatalit': 20485, 'f16': 20486, 'media\\x89ûthe': 20487, 'ladyshaxx': 20488, 'seatbelts': 20489, 'recks': 20490, 'intrusion': 20491, 'interior': 20492, 'comingsoonnet': 20493, 'yeeessss': 20494, 'kp2': 20495, 'kombatants': 20496, 'kostumes': 20497, 'uptick': 20498, 'statewide': 20499, 'courier': 20500, 'figureskate': 20501, 'toshikazukatayama': 20502, 'reportonlyquakenews': 20503, 'earthquakereport\\x89û': 20504, 'wsea': 20505, 'king5seattle': 20506, 'martinsymiguel': 20507, 'filipecoelho92': 20508, 'flourishing': 20509, 'sleigh': 20510, 'toothsome': 20511, 'onrhpz': 20512, 'blawnndee': 20513, 'mortalkombat': 20514, 'mortalkombatx': 20515, 'fanart': 20516, 'youtube\\x89û': 20517, 'asher': 20518, 'lotm': 20519, 'writingweekly': 20520, 'thrive': 20521, 'addictionis': 20522, 'paulrogers002': 20523, 'oncology': 20524, 'achieved': 20525, 'godhuntsltv': 20526, 'fatalityafter': 20527, 'enemys': 20528, 'kindamortal': 20529, 'kombats': 20530, 'datvi': 20531, 'fleshgod': 20532, 'blinded': 20533, 'jeremycorbyn': 20534, 'savvy': 20535, 'owenjones84': 20536, 'gs': 20537, 'simulator': 20538, 'oculusrift': 20539, 'virtualreality': 20540, 'skydragonforce': 20541, 'opinions': 20542, 'nazir': 20543, 'crackdowns\\x89û': 20544, 'waynerooneyina': 20545, '3nach9': 20546, 'tatort': 20547, 'hbwahl': 20548, 'weserkurier': 20549, 'hbbuergerschaft': 20550, 'titled': 20551, 'emmeryn': 20552, 'pinky': 20553, 'freaky': 20554, '21joseph': 20555, 'hotdogs': 20556, 'usb': 20557, 'chromebook': 20558, 'bogged': 20559, 'minutemaniac': 20560, 'shieldmaidn': 20561, 'bigfatdave': 20562, '2x10': 20563, 'trakt': 20564, 'nicksimboli': 20565, 'equivalent': 20566, 'traplordthings': 20567, 'din': 20568, 'memez': 20569, 'åà': 20570, 'tractortrailers': 20571, 'kampers': 20572, 'sprays': 20573, 'hose': 20574, 'ltd': 20575, 'tonka': 20576, 'tfd': 20577, 'dmon2112': 20578, 'ctmorgan': 20579, 'rings': 20580, 'appealing': 20581, 'atop': 20582, 'latternno2015': 20583, 'calendars': 20584, 'driscoll': 20585, 'snags': 20586, 'parkway': 20587, 'langhornemiddletown': 20588, 'njdotcom': 20589, 'xshanemichaelsx': 20590, 'instaxbooty': 20591, 'johnnyxphixxle': 20592, 'tumbleon': 20593, 'educate': 20594, 'adapt': 20595, 'feedback': 20596, 'firstnet': 20597, 'lowers': 20598, 'tuition': 20599, 'cfr': 20600, 'hancock': 20601, 'sallie': 20602, 'eufaula': 20603, 'tankerfire': 20604, 'educators': 20605, 'relied': 20606, 'pnppro1': 20607, 'trainees': 20608, 'mlsudders': 20609, 'spd': 20610, 'shreveport': 20611, '930pm': 20612, 'canteen': 20613, 'allergan': 20614, 'refresh': 20615, 'myhometown': 20616, 'livesmatter': 20617, 'sadness': 20618, 'needless': 20619, 'aljavieera': 20620, 'publicsafetyfirst': 20621, 'cedar': 20622, 'linford': 20623, '4353271148': 20624, 'extant': 20625, 'writersshe': 20626, 'overextant': 20627, 'xodeemorgss': 20628, 'tipped': 20629, 'clockworkheart': 20630, 'mrs': 20631, 'gah': 20632, 'zion': 20633, 'shin': 20634, 'noodle': 20635, 'jackcarter22': 20636, 'bricktop': 20637, 'vavazouma': 20638, 'donaldson': 20639, 'johndavidblake': 20640, 'whites': 20641, 'curly': 20642, 'impure': 20643, '80pcs': 20644, 'tibetan': 20645, 'spacer': 20646, '55x1': 20647, 'st3ph007': 20648, 'pedagogypractice': 20649, 'bfc630nz': 20650, 'fiorentina': 20651, 'lustig': 20652, 'flattenedhe': 20653, '00': 20654, '76mins': 20655, 'breh': 20656, 'cheesecake': 20657, 'followerofdole': 20658, 'ner': 20659, 'cyberman': 20660, 'satisfaction': 20661, 'reasoned': 20662, 'floodmagazine': 20663, 'greektheatrela': 20664, '8132748811': 20665, 'hst': 20666, 'waianapanapa': 20667, '435pm': 20668, 'regions': 20669, 'dwindling': 20670, 'suppl': 20671, '700am': 20672, 'morning1200pm': 20673, 'perry': 20674, 'schwarzenegger': 20675, 'focused': 20676, 'immigrants': 20677, 'endofus': 20678, 'jessica': 20679, 'hollis': 20680, 'awh': 20681, 'tl': 20682, 'repaired': 20683, 'massiveåêflooding': 20684, 'caseyliss': 20685, 'fathom': 20686, 'byebyeroad': 20687, 'jokes': 20688, 'popmech': 20689, 'duplicate': 20690, 'trolls': 20691, 'ampautomated': 20692, 'netbots': 20693, 'complimentary': 20694, 'upclose': 20695, 'areas\\x89û': 20696, 'asgharchohan86': 20697, 'adilghumro': 20698, 'kpk': 20699, 'dams': 20700, 'thar': 20701, 'copolitics': 20702, 'intime': 20703, 'pastors': 20704, 'asylum\\x89û': 20705, 'draws': 20706, 'news5': 20707, 'ibalita': 20708, 'gaga': 20709, 'laleh': 20710, 'occur': 20711, 'cruising': 20712, 'pandaw': 20713, 'expeditions': 20714, 'operating': 20715, 'myanmarflood': 20716, 'jackiekatu': 20717, 'firedamn': 20718, 'krnv': 20719, 'chopper': 20720, '3acre': 20721, 'slownewsday': 20722, 'agen': 20723, 'cossackshussars': 20724, 'riggd': 20725, 'rough': 20726, 'shelters': 20727, 'gladewere': 20728, 'kindlng': 20729, 'glowng': 20730, 'hollow': 20731, 'frnch': 20732, 'lldubs': 20733, 'vineyards': 20734, 'lvl': 20735, 'stubborn': 20736, 'provinces': 20737, 'rz': 20738, 'iranelection': 20739, 'peopleforestswildlifewater': 20740, 'bitterroot': 20741, 'mountaintop': 20742, 'scented': 20743, 'wildflowers': 20744, 'distant': 20745, 'fieldworksmells': 20746, 'rivercomplex': 20747, 'cashf': 20748, 'fellow': 20749, 'eagles': 20750, 'froilancanin': 20751, 'delight': 20752, 'byz': 20753, 'hvy': 20754, 'spann': 20755, 'magnafis': 20756, 'arcadia': 20757, 'crop': 20758, 'shine': 20759, 'sleet': 20760, 'shannon': 20761, 'adolwyn': 20762, 'jwagstaffe': 20763, 'oldsfiredept': 20764, 'hwy27': 20765, 'approximately': 20766, 'then0mads0ul': 20767, 'richie': 20768, 'thebrokencity': 20769, '2night': 20770, 'thebanffcentre': 20771, 'bald': 20772, 'jplocalfirst': 20773, 'eliotschool': 20774, 'artful': 20775, 'yyctraffic': 20776, 'caller': 20777, 'overpasses': 20778, 'crowchild': 20779, 'smallsized': 20780, 'yychail': 20781, 'olde': 20782, 'fashioned': 20783, 'prairie': 20784, 'realdepression': 20785, 'harsh': 20786, 'felon': 20787, 'stored': 20788, '\\x89ûïwarning\\x89û\\x9d': 20789, 'altered': 20790, 'norcinu': 20791, 'thebodyshopaust': 20792, 'thomaldo': 20793, 'cosmetics': 20794, 'scrubs': 20795, 'toothpaste': 20796, 'aquatic': 20797, 'ecosystems': 20798, '2u': 20799, 'lift': 20800, 'nameamen': 20801, '12k': 20802, 'ibrahimovic': 20803, 'mercurial': 20804, 'vapor': 20805, 'footballfreestyle247': 20806, 'compared': 20807, 'faded': 20808, 'kagawa': 20809, 'januzaj': 20810, '3match': 20811, 'mishavelgos': 20812, 'mattbacal8': 20813, 'feroze17': 20814, 'warandsetpiece': 20815, 'depays': 20816, 'overtake': 20817, 'tablets': 20818, '2001': 20819, 'volvo': 20820, 'xc70': 20821, 'dashboard': 20822, 'wvent': 20823, 'fplhints': 20824, 'depay': 20825, 'ozil': 20826, 'ritchie': 20827, 'midfielders': 20828, 'fplboss': 20829, 'hazzel': 20830, 'batman': 20831, 'terry': 20832, 'sergio': 20833, 'honourable': 20834, 'nemanja': 20835, 'matic': 20836, 'hazardvn': 20837, 'accuracyesports': 20838, 'superbobbypires': 20839, 'cantona': 20840, 'pepe': 20841, 'lashed': 20842, 'ine': 20843, 'instyle': 20844, 'disposal': 20845, 'feeble': 20846, 'marketresearch': 20847, 'alfa': 20848, 'multidimen': 20849, 'moneymaker32931': 20850, 'chs': 20851, 'dsp': 20852, 'multidimensio': 20853, 'tsa': 20854, 'abide': 20855, 'codes': 20856, 'osha': 20857, 'codesstructurs': 20858, 'marie': 20859, 'therese': 20860, 'dominguez': 20861, 'administrator': 20862, 'phmsa': 20863, 'multidimensiona': 20864, '50k': 20865, 'delirious': 20866, 'peter': 20867, 'multidime': 20868, 'kaimai': 20869, 'ranges': 20870, 'aatraffic': 20871, 'gtalaskapublic': 20872, 'cheaply': 20873, 'brokelyn': 20874, 'brokelynati': 20875, 'durden': 20876, 'dhhj': 20877, 'crawlieswithcri': 20878, 'rob0sullivan': 20879, '25c': 20880, 'ingescott': 20881, 'activists': 20882, 'camplogistics': 20883, 'autopsy': 20884, 'klinenberg': 20885, 'sportguyshow': 20886, 'extinctionp': 20887, '\\x89ûïheat': 20888, 'dome\\x89û\\x9d': 20889, 'facilitydude': 20890, 'facilitiesmanagement': 20891, 'hydrated': 20892, 'wave\\x89û': 20893, 'walpurgisnightz': 20894, 'laptop': 20895, 'spikepoint': 20896, 'skie': 20897, 'emmap645': 20898, 'vickygeex': 20899, 'nickgroff': 20900, 'aarongoodwin': 20901, 'investigatin': 20902, 'qelricdk': 20903, 'citadel': 20904, 'joanns': 20905, 'defecting': 20906, 'himika': 20907, 'amase': 20908, 'foresaw': 20909, 'jps': 20910, 'feb': 20911, 'malyasiaairlines': 20912, 'former\\x89û': 20913, 'wirelessly': 20914, 'steering': 20915, 'iso27001': 20916, 'daehyvn': 20917, 'graham': 20918, 'canceled': 20919, 'justgiving': 20920, 'fundraise': 20921, 'donbas': 20922, 'tickens': 20923, 'spencerellmore': 20924, 'centretransfer': 20925, 'norwich': 20926, 'pita': 20927, 'hijacks': 20928, 'shortcuts': 20929, 'abc7newsbayarea': 20930, 'give\\x89û': 20931, 'daysonly': 20932, 'coz': 20933, 'kidsbut': 20934, 'laters': 20935, 'ykjl': 20936, 'sahelnews': 20937, 'mch2601': 20938, 'realdb4prez16': 20939, 'albert': 20940, 'demanding': 20941, 'publication': 20942, 'fatima': 20943, 'bivens': 20944, 'csgpelmash': 20945, 'eatshit': 20946, 'momentsathill': 20947, 'nunus': 20948, 'timas': 20949, 'bikes': 20950, 'feastdll': 20951, 'dll': 20952, 'reasonvsfear': 20953, 'nonononono': 20954, 'hijackings': 20955, 'blackhat': 20956, 'elasticainc': 20957, 'aunft': 20958, 'intruders': 20959, 'dailygleaner': 20960, 'tjprovincial': 20961, 'tjgreatersj': 20962, 'diane': 20963, 'randomactsofromance': 20964, 'sinai': 20965, 'execute': 20966, 'concealed': 20967, 'attacker': 20968, '4is': 20969, '48åêhours': 20970, 'chacos': 20971, '8pm': 20972, 'crunchysensible': 20973, 'footwear': 20974, 'bitdefender': 20975, 'antivirus': 20976, 'vendor': 20977, 'damballa': 20978, 'teamnyle': 20979, 'thechive': 20980, 'bidtime': 20981, 'bluecurls8': 20982, 'worthfull1': 20983, 'beta': 20984, 'chapters': 20985, 'tobias': 20986, 'hankel': 20987, '5oilworker': 20988, 'manorial': 20989, 'gnocchi': 20990, 'rbpk': 20991, 'snctions': 20992, 'miltary150bilno': 20993, 'inspctkps': 20994, 'hostagesthrosw': 20995, 'gutrkps': 20996, 'hlps': 20997, 'ajmal': 20998, '30005000': 20999, 'enslaved': 21000, 'indiatoday': 21001, 'iamtssudhir': 21002, 'nationfirst': 21003, 'nit': 21004, 'extracting': 21005, 'watchmanis216': 21006, 'althegoon': 21007, 'habor': 21008, 'slix': 21009, 'rides': 21010, 'wavy': 21011, 'hershey': 21012, 'orleans': 21013, 'orlean': 21014, 'reinhardbonnke': 21015, 'leeranaldo': 21016, 'expressing': 21017, 'lcoutofdoors': 21018, 'bpgviigoat': 21019, 'sandy\\x89ûªs': 21020, 'times4': 21021, 'newsbreaker': 21022, 'sothathappened': 21023, 'radcliff': 21024, 'policeman': 21025, 'karjo': 21026, 'macomb': 21027, 'desean': 21028, 'skinson9': 21029, 'hegot': 21030, 'loganmeadows11': 21031, 'christianstec': 21032, 'sled': 21033, 'bravesninja': 21034, 'davidbrelsford': 21035, 'toiindia': 21036, 'neelum': 21037, 'dud': 21038, 'muzaffarabad': 21039, 'teenage': 21040, 'wral': 21041, 'wellington': 21042, 'lp': 21043, 'edmontonesks': 21044, 'adarius': 21045, 'bowman': 21046, 'yeg': 21047, '85': 21048, 'jaron': 21049, 'nydnsports': 21050, 'rebirth': 21051, 'nflnetwork': 21052, 'azcardinals': 21053, 'jaesmoothcyb': 21054, 'rusher': 21055, 'ly': 21056, 'i80': 21057, 'mva': 21058, 'e7': 21059, 'requesting': 21060, 'r7': 21061, 'sunstar': 21062, 'injuries\\x89û': 21063, 'ringsau': 21064, 'tb4': 21065, 'birdgang': 21066, 'michiganautolaws': 21067, 'stevegursten': 21068, 'autoaccidents': 21069, 'socalled': 21070, 'mild': 21071, 'tbis': 21072, 'justicedotorg': 21073, 'tyuler': 21074, 'dirks': 21075, 'injuriesthat': 21076, 'uiseful': 21077, 'pricing': 21078, 'alredy': 21079, 'asx100': 21080, 'spurs\\x89ûª': 21081, 'marjanovic': 21082, 'eurobasket': 21083, 'nflweek1picks': 21084, 'dunbaramp039s': 21085, 'keypsters': 21086, 'qb': 21087, 'unaffected': 21088, 'fosteramp039s': 21089, 'heenan': 21090, 'wildlifeif': 21091, 'eliistender10': 21092, 'splats': 21093, 'joketheyre': 21094, 'thebrooklynlife': 21095, 'ryanair': 21096, 'beaches': 21097, 'acceptable': 21098, 'typeed': 21099, 'illustrative': 21100, 'dictionarycoms': 21101, 'wordoftheday': 21102, 'twitterpated': 21103, 'useyourwords': 21104, 'highlighted': 21105, 'string': 21106, 'replenish': 21107, 'leader\\x89ûªs': 21108, 'weary': 21109, 'notsorry': 21110, 'gls15': 21111, 'rossifumibhai': 21112, 'alexeeles': 21113, '38degrees': 21114, 'unilever': 21115, 'epao': 21116, 'marsac': 21117, 'causin': 21118, 'womanxking': 21119, 'ideasthe': 21120, 'sociologist': 21121, 'relative': 21122, 'doer': 21123, 'mhl': 21124, 'tommygshow': 21125, 'burlington': 21126, 'landslidedamaged': 21127, 'virtu': 21128, 'dkhqgv': 21129, 'kdudakia': 21130, 'electoral': 21131, 'preetichopra2': 21132, 'chinmaykrvd': 21133, 'nitish': 21134, 'castes': 21135, 'artifacts': 21136, 'horseshoe': 21137, 'chihaya': 21138, 'relatively': 21139, 'static': 21140, 'develops': 21141, 'seeiey': 21142, 'seeley': 21143, 'ge2015': 21144, 'rakestrawjeff': 21145, 'sums': 21146, 'krag': 21147, 'todos': 21148, 'administer': 21149, 'apps': 21150, 'qct': 21151, 'chicks': 21152, 'lides': 21153, 'ceciltownship': 21154, 'southpointe': 21155, 'boulevard': 21156, 'statesmanlike': 21157, 'cv': 21158, 'draft': 21159, 'inaugural': 21160, 'jgisavq': 21161, 'disneypixars': 21162, 'animated': 21163, 'missinstiinctz': 21164, 'kherr122': 21165, '07222015': 21166, 'kofapp': 21167, 'steaks': 21168, 'lavamobiles': 21169, '402': 21170, 'misti': 21171, 'bestdayeva': 21172, 'mirnawan13': 21173, 'zakiakiia': 21174, 'nether': 21175, 'spawning': 21176, 'alienateplays': 21177, 'bracelet10mm': 21178, 'etsymntt': 21179, 'handmadejewelry': 21180, 'souuul': 21181, 'throws': 21182, 'sinks': 21183, 'niastewart3': 21184, 'nrmawa': 21185, 'dominos': 21186, 'culinary': 21187, 'cuisine': 21188, 'gracemccreave': 21189, 'jamisonevann': 21190, 'jaceswain': 21191, 'laneyslife': 21192, 'jacksonlaurie1': 21193, 'jgf': 21194, 'rebeccafav': 21195, 'awhile': 21196, 'trolleys': 21197, 'ramify': 21198, 'multitudinal': 21199, 'disposed': 21200, 'kwxggt': 21201, 'ltdalius': 21202, 'villanova': 21203, 'selected': 21204, 'academy': 21205, 'award': 21206, 'finalists': 21207, 'struck\\x89û': 21208, 'followtheblonde': 21209, 'reba': 21210, 'leesburg': 21211, 'scoreless': 21212, 'seventh': 21213, 'fcsl': 21214, 'ibliz140': 21215, 'tksgs0810': 21216, 'kiilud': 21217, 'kimanzi': 21218, 'shrnnclbautista': 21219, 'sunofgod': 21220, 'dumpster': 21221, 'ijreview': 21222, 'aggravating': 21223, 'snickers': 21224, 'johnmtaita': 21225, 'amaas': 21226, 'jdmarsh22': 21227, 'candlelight': 21228, 'vigil': 21229, 'alexthemurder': 21230, 'absol': 21231, 'blankets': 21232, 'sheets': 21233, 'personits': 21234, 'redscarebot': 21235, 'musim': 21236, 'rawrheem': 21237, 'verses': 21238, 'massmurder': 21239, 'massrape': 21240, 'conservatexian': 21241, 'cynicalreality': 21242, 'letsberational': 21243, 'mishaweller': 21244, 'llr517': 21245, '140000': 21246, 'campepperr': 21247, 'greta': 21248, 'impeach': 21249, 'zuma': 21250, 'bashir': 21251, 'sudan': 21252, 'geno\\x89û': 21253, 'asad': 21254, 'emekagift': 21255, 'vpsay': 21256, 'muhammadu': 21257, 'buhari': 21258, 'pedophile': 21259, 'sooooo': 21260, 'theaters': 21261, 'aparra210': 21262, 'stereotyping': 21263, 'itv2im': 21264, 'reread': 21265, 'syvret': 21266, 'gojamiam': 21267, 'tomb': 21268, 'raider': 21269, 'uncharted': 21270, 'croft': 21271, 'nathan': 21272, 'ruthless': 21273, 'disgusted': 21274, 'libertarianism': 21275, 'celebrating': 21276, 'fanatical': 21277, 'hygiene': 21278, 'sensible': 21279, 'convicted': 21280, 'theatertrial': 21281, 'loki': 21282, 'nicely': 21283, 'phoenixblue': 21284, 'rumors': 21285, 'fromthedesk': 21286, 'kenyatta': 21287, 'muumbo': 21288, 'quantumdatainformatics': 21289, 'staging': 21290, 'stefsy14': 21291, 'xmissxanthippex': 21292, 'wcbd': 21293, 'iraq\\x89ûªs': 21294, 'stoodampwatched': 21295, 'serbs': 21296, 'yougslavia': 21297, 'timesnewsdesk': 21298, 'glencoe': 21299, 'haired': 21300, 'clam': 21301, 'clambake': 21302, 'showgirldayoff': 21303, 'tomlandrys': 21304, 'infamy': 21305, 'adventure': 21306, 'terraria': 21307, 'hijinks': 21308, 'eswenrage': 21309, 'halloween': 21310, 'pakistanexfederal': 21311, 'fia': 21312, 'tariq': 21313, 'khosa': 21314, 'avalon': 21315, 'bdays': 21316, '818': 21317, '4478427': 21318, 'dash': 21319, 'designers': 21320, 'yorks': 21321, 'thedreaminggoat': 21322, 'mayhem0407': 21323, 'robertosaguedes': 21324, 'followngain': 21325, 'themgwvboss': 21326, 'ynovak': 21327, 'iammrcash': 21328, 'frankiesstyle': 21329, 'mamanyadana': 21330, 'mayhem4u': 21331, 'concertphotography': 21332, 'livemusic': 21333, 'canon\\x89û': 21334, 'pnc': 21335, 'holmdel': 21336, 'nabbed': 21337, 'el\\x89û': 21338, 'shelly': 21339, 'madonna': 21340, '1987': 21341, 'nowyouknow': 21342, 'featcha': 21343, 'metzthebands': 21344, 'edkins': 21345, 'subpopsigned': 21346, 'jarring': 21347, 'julescheff': 21348, 'zhoffman96': 21349, 'zack': 21350, 'madsummer': 21351, 'sebastianstanisaliveandwell': 21352, 'civilwar': 21353, 'rymathieson': 21354, 'apples': 21355, 'momentum': 21356, 'timcook': 21357, 'ronfunches': 21358, 'funches': 21359, '2000s': 21360, 'mortgage': 21361, 'kumailn': 21362, 'irongiant': 21363, 'gramzd': 21364, 'dabs': 21365, 'anomaly': 21366, 'yknow': 21367, 'outcome': 21368, 'chelseavperettis': 21369, 'sbjohn12': 21370, 'trailers': 21371, 'btm': 21372, '9th': 21373, '2out': 21374, 'flirt': 21375, 'inspectors': 21376, 'admiral': 21377, 'nationwide': 21378, 'shortchanging': 21379, 'boonie': 21380, 'usmc': 21381, 'airsoft': 21382, 'paintball': 21383, 'cp030': 21384, 'texian': 21385, 'iliad': 21386, 'hardin': 21387, '951': 21388, 'automechanics': 21389, 'vols': 21390, '1944': 21391, 'eagle': 21392, 'oiler': 21393, 'gpw': 21394, 'weakley00': 21395, 'socialjerkblog': 21396, 'shuffling': 21397, 'videogt': 21398, '\\x89ûïprefers': 21399, 'negotiation\\x89û\\x9d': 21400, 'gatewaypundit': 21401, 'm9a1': 21402, 'phrobis': 21403, 'sheath': 21404, 'nr': 21405, 'gorillathumbz': 21406, 'jonathanserrie': 21407, 'alexxpage': 21408, 'tajikistan': 21409, 'mudslides': 21410, 'mudslidehit': 21411, 'tajiks': 21412, 'bbcone': 21413, 'burrito': 21414, 'happenedlooks': 21415, 'dorrett': 21416, 'blackforestgateau': 21417, 'picniclester': 21418, 'ineedcake': 21419, 'curryspcworld': 21420, 'melindahaunton': 21421, 'bottleowhite': 21422, 'toopainful': 21423, 'patrickandsam': 21424, 'ghaccount': 21425, 'inventories': 21426, 'rattles': 21427, 'dolakha': 21428, 'bono': 21429, 'probononews': 21430, 'planetx': 21431, 'jaysen': 21432, 'wormwood': 21433, 'washi': 21434, 'ep7': 21435, '2079': 21436, 'bacon': 21437, 'erasureisnotequality': 21438, 'jonk': 21439, 'jamucsb': 21440, '15day': 21441, 'railwayproper': 21442, 'chronicles': 21443, 'disasterhiroshima': 21444, 'yale': 21445, 'archives': 21446, 'confidence': 21447, 'anonymous\\x89û': 21448, 'consuming': 21449, 'truthfrequencyradio': 21450, 'nonukes': 21451, 'amerikkka': 21452, 'whiteterrorism': 21453, 'offering': 21454, 'fubiz': 21455, 'weakened': 21456, 'authoritarian': 21457, 'wdr': 21458, 'lacci': 21459, 'renewables': 21460, 'sealed': 21461, 'maximeristavi': 21462, 'finland': 21463, 'rosatom': 21464, 'nuclearpower': 21465, 'thorcon': 21466, 'nuclearrcsa': 21467, 'sideline': 21468, 'navys': 21469, 'defensenews': 21470, 'writes': 21471, 'fission': 21472, 'jukkaoksaharju': 21473, 'ollirehn': 21474, 'juhasipila': 21475, 'albertbrooks': 21476, 'ayatollah': 21477, 'khomeini': 21478, 'onofre': 21479, 'payer': 21480, 'trinityfox': 21481, 'insanity': 21482, 'battyafterdawn': 21483, 'drawliomdraw': 21484, 'nathaniel': 21485, 'rateliff': 21486, 'sweats': 21487, 'mileswithtate': 21488, 'weaponry': 21489, 'lunacy': 21490, 'paulosergiomdc': 21491, 'theirandeal': 21492, 'vowed': 21493, 'mirajane': 21494, 'lionofjudah1948': 21495, 'americanjewry': 21496, 'pursued': 21497, 'ambitions': 21498, 'itstiimothy': 21499, 'bhill': 21500, 'beez': 21501, 'cavaliers': 21502, '7071': 21503, 'lakers': 21504, 'rubs': 21505, 'greets': 21506, 'genie': 21507, 'youcantsitwithus': 21508, '21day': 21509, 'wadeycakes': 21510, 'thundercasttv': 21511, 'heyooo': 21512, 'ohnoeunhae': 21513, 'hyukkie': 21514, 'chullie': 21515, 'eunhae': 21516, 'koscielnyfc': 21517, 'gabriel': 21518, 'fibula': 21519, 'its2015america': 21520, 'derek': 21521, 'skeeter': 21522, 'hasn\\x89ûªt': 21523, 'alloutash23sn': 21524, 'brotherboyfriend': 21525, 'mdva': 21526, 'roquey': 21527, 'mollusk': 21528, 'dinnerwithjulie': 21529, 'fishtails': 21530, 'cent': 21531, 'natty': 21532, 'davies': 21533, '301': 21534, 'leonc1963': 21535, 'romangaul': 21536, 'makrina91': 21537, 'conventional': 21538, 'yanks': 21539, 'nuks': 21540, 'wormhole': 21541, 'devastating': 21542, 'lie\\x89û': 21543, 'mindkiller': 21544, 'ping': 21545, 'schematization': 21546, 'dependable': 21547, 'virtue': 21548, 'obliterationxmwte': 21549, 'xlgamesru': 21550, 'fearfear': 21551, 'mindkillerfear': 21552, 'obliterationi': 21553, 'bradohearne': 21554, 'bcwilliams92': 21555, 'scotus': 21556, 'michael0000': 21557, 'oppression': 21558, 'retaliation': 21559, 'kdonhoops': 21560, 'raps': 21561, 'meeks': 21562, 'oldfolkexplainstuff': 21563, 'renderings': 21564, 'gallups': 21565, 'biltz': 21566, 'jethroharrup': 21567, 'hangarback': 21568, 'walkers': 21569, 'opponent': 21570, 'rapturous': 21571, 'facade': 21572, 'deplorable': 21573, 'pipeline\\x89û': 21574, 'globetrottingwino': 21575, 'norris': 21576, 'plugged': 21577, 'itwith': 21578, '1138am': 21579, '1154am': 21580, 'mumps': 21581, 'misslyndaleigh': 21582, 'lust': 21583, 'leigh': 21584, 'westmeath': 21585, 'iblmapleleafs': 21586, 'ibl1919': 21587, 'fails': 21588, 'transact': 21589, 'ogbor': 21590, 'sublime': 21591, 'kayhow21': 21592, 'coinflip': 21593, 'sixsecondcov': 21594, '4get': 21595, 'spawns': 21596, 'concentrate': 21597, 'relates': 21598, 'videothanks': 21599, 'shtfplan': 21600, 'puzzledtriangle': 21601, 'inform': 21602, 'accurately': 21603, 'tragedies': 21604, 'roppongi': 21605, '22pm': 21606, 'candydulfer': 21607, 'smoked': 21608, 'meca': 21609, 'rabbisocial': 21610, 'ballad': 21611, 'mona': 21612, 'lisa': 21613, 'underrrtow': 21614, 'molly': 21615, 'bexrayandvav': 21616, 'freshers': 21617, 'estrella': 21618, 'stall': 21619, 'bizinsider': 21620, 'continuing': 21621, 'medal': 21622, 'scarfacedcully': 21623, 'sawyerdaa': 21624, 'guerrilladawg': 21625, 'chug': 21626, 'estus': 21627, 'rudyhavenstein': 21628, 'readers': 21629, 'milefromhome': 21630, 'sitc': 21631, 'organisation': 21632, 'punched': 21633, '4700': 21634, '11th': 21635, 'pg15000044153': 21636, 'eff': 21637, 'muckrock': 21638, 'biometrics': 21639, 'pio': 21640, 'philcollinsfeed': 21641, 'latenitemix': 21642, 'corporation': 21643, 'ubc': 21644, '98fm': 21645, 'mbblive': 21646, 'tcbinaflash77': 21647, 'chanelwestcoast': 21648, '1oak': 21649, 'assist': 21650, 'pp15000266835': 21651, '1711': 21652, 'longshipdriver': 21653, 'gents': 21654, 'chickmt123': 21655, 'http\\x89û': 21656, 'callofduty': 21657, 'advancedwarfare': 21658, 'reckoning': 21659, 'astolfialessio': 21660, 'kirillzubovsky': 21661, 'changelessly': 21662, 'folders': 21663, 'solemnity': 21664, 'hjt': 21665, 'enforced': 21666, 'contamination': 21667, 'weirdos': 21668, 'wweapons': 21669, 'mcgtech': 21670, 'seriousnow': 21671, 'admins': 21672, 'volatile': 21673, 'removedquarantined': 21674, 'famoushorse': 21675, 'jew': 21676, 'freeagent1717': 21677, 'chaseingram': 21678, 'amandagiroux28': 21679, 'lifesaving': 21680, 'haiti': 21681, 'proposes': 21682, '250': 21683, 'msv': 21684, 'situations': 21685, 'gangs': 21686, 'pollution': 21687, 'unemployment': 21688, '7302015': 21689, 'admitted': 21690, 'sb228': 21691, 'relating': 21692, 'tmh': 21693, 'brining': 21694, 'brooks': 21695, 'nearåêdinosaur': 21696, 'provincial': 21697, 'sylvia': 21698, 'plath': 21699, 'petrichour': 21700, 'werdemup': 21701, 'avery': 21702, 'savanahresnik': 21703, 'cbs12': 21704, 'coldstone': 21705, 'monterrey': 21706, 'harare': 21707, 'newsgtgt': 21708, 'anterior': 21709, 'razedonit': 21710, 'honeystaysuper': 21711, 'changetheworld': 21712, 'syrianrefugees': 21713, 'boarders': 21714, 'dirtylying': 21715, 'dishonest': 21716, 'whitegenocide': 21717, 'bcook28': 21718, 'zacktiller30': 21719, 'shaft': 21720, 'xmankitty': 21721, 'wolvenbeauty': 21722, 'nickwilson': 21723, 'shitalright': 21724, 'wcvh01': 21725, '1233newcastle': 21726, 'aaronkearneyaus': 21727, 'lesmckeownuk': 21728, 'kitties': 21729, 'noagenda': 21730, 'mvdint': 21731, 'kayaking': 21732, 'mtech': 21733, 'assisted': 21734, 'mta801bl': 21735, 'zix': 21736, '4552': 21737, '50mixed': 21738, 'colors': 21739, 'firstaid': 21740, 'tr\\x89û': 21741, 'lexington': 21742, 'veterinarians': 21743, 'revel8ion': 21744, 'selfish': 21745, 'summerside': 21746, 'fusionfestival': 21747, 'mgs': 21748, 'zeroes': 21749, 'hideokojimaen': 21750, 'amazingsept': 21751, 'intention': 21752, 'sanctuary': 21753, 'kidnapping': 21754, 'trafficking': 21755, '4month': 21756, 'kontagora': 21757, 'nigeriantribune': 21758, 'incheon': 21759, 'prosecutors': 21760, 'nami': 21761, 'kim': 21762, 'hangi': 21763, 'piglet': 21764, 'oink': 21765, 'dorset': 21766, 'people\\x89û': 21767, 'netflix\\x89û': 21768, 'theonion': 21769, 'heroically': 21770, 'oceanåê': 21771, 'chold': 21772, 'rsl': 21773, 'bateman': 21774, 'scores': 21775, 'cazorlaplay': 21776, '325000': 21777, 'alexandbondarev': 21778, 'hawknancy': 21779, 'owenharris82': 21780, 'riotsweet': 21781, 'jfwong': 21782, 'mtgodoc': 21783, 'joshleekwai': 21784, 'pax': 21785, 'ulzzang': 21786, 'hyung': 21787, 'seok': 21788, '92': 21789, 'liners': 21790, 'bleased': 21791, 'baume': 21792, 'digs': 21793, 'controversial': 21794, '\\x89û÷stonewall\\x89ûª': 21795, 'leg\\x89û': 21796, 'shootn': 21797, 'gameswow': 21798, 'ghee': 21799, 'faker': 21800, 'kog': 21801, 'amiestager': 21802, 'misogynyracismreligionfueled': 21803, 'allahuakbar': 21804, 'abbydphillip': 21805, 'dahboo7': 21806, 'shhits': 21807, 'foxandfriends': 21808, 'brownblaze': 21809, 'daynight': 21810, 'elsewere': 21811, 'changea': 21812, 'outnumber': 21813, 'lobbyists': 21814, 'wakeupamerica': 21815, 'cleanpowerplan': 21816, 'appear': 21817, 'extras': 21818, 'aboriginal': 21819, 'cricketer': 21820, 'jpmorgan': 21821, 'apartmentloan': 21822, 'wamu': 21823, 'badcredit': 21824, 'pemantaujkt48': 21825, 'melodyjkt\\x89û': 21826, 'clearing': 21827, 'ecommerce': 21828, 'alibaba': 21829, 'baba': 21830, 'tencent': 21831, 'jd': 21832, 'revenue': 21833, 'rococo': 21834, 'alan': 21835, 'perlis': 21836, 'smothered': 21837, 'jayelectronica': 21838, 'eurpoe': 21839, 'mustered': 21840, 'collecting': 21841, 'nickelodeon': 21842, 'paw': 21843, 'lyricaleyes': 21844, 'buries': 21845, 'aleppo': 21846, 'orianaarzola': 21847, 'manners': 21848, 'peens': 21849, 'aubreys': 21850, 'fic': 21851, 'raunchy': 21852, 'phenomenally': 21853, 'harveys': 21854, 'metaphor': 21855, 'nooo': 21856, 'batch': 21857, 'spoiler': 21858, 'centralupload': 21859, 'sayingdarude': 21860, 'negatively': 21861, 'gmontani': 21862, 'jessemontani': 21863, 'amazingracecanada': 21864, 'rosie': 21865, 'o\\x89ûªdonnell': 21866, 'fosters': 21867, 'awe': 21868, 'whyyyy': 21869, 'redwedding': 21870, 'wahlburgers': 21871, 'joshshatsays': 21872, 'aunts': 21873, 'keller': 21874, 'theboysftvines': 21875, 'yessss': 21876, 'omlette': 21877, '\\x89ûïbeachboyirh': 21878, 'ooorrrr': 21879, 'sbujdjsjs': 21880, 'xuskak': 21881, 'frailnerves': 21882, 'moganwilson': 21883, 'verrry': 21884, 'topherbreezy': 21885, 'cokeboys': 21886, 'troylwiggins': 21887, 'shawn': 21888, 'akfnejf': 21889, 'gotdamn': 21890, 'hsbfuckjsj': 21891, 'beyoncì©fy': 21892, 'tunes': 21893, 'yaaasss': 21894, 'xfactor': 21895, 'rendition': 21896, 'burna': 21897, 'imm': 21898, 'ari': 21899, 'prodigy': 21900, 'graphic': 21901, 'gabrielleaplin': 21902, 'lordminion777': 21903, 'meganrestivo': 21904, 'patiently': 21905, 'lydia': 21906, '4x11': 21907, 'dereks': 21908, 'loft': 21909, 'mckenzieblackw1': 21910, 'simplyysacred': 21911, 'sugayiffer': 21912, 'hanayo': 21913, 'shojoshit': 21914, 'curvaceous': 21915, 'kot': 21916, 'atpworldtour': 21917, 'citiopen': 21918, 'melodores': 21919, 'hozier': 21920, 'dicks': 21921, 'touches': 21922, 'elephino': 21923, 'thrusta1': 21924, 'convenient': 21925, 'enhance': 21926, 'updating': 21927, 'delivering': 21928, 'fj': 21929, 'migration': 21930, 'humane': 21931, 'kc8ysl': 21932, 'andreas': 21933, 'antifracking': 21934, 'lancashire': 21935, 'axwave': 21936, 'enables': 21937, 'gpu': 21938, '104527jst': 21939, 'aug06first': 21940, 'm41': 21941, 'chiba': 21942, 'pref': 21943, '3581408': 21944, 'vibrating': 21945, 'mri': 21946, 'readout': 21947, 'faultline': 21948, 'aging': 21949, 'analogy': 21950, 'deetelecare': 21951, 'worldoilåêsubscription': 21952, 'retrofitting': 21953, 'fukushimaactu': 21954, '010242': 21955, 'nuclearpowered': 21956, 'brassiere': 21957, '0327': 21958, 'goone': 21959, 'stellar': 21960, 'undercard': 21961, 'filler': 21962, 'statoilasa': 21963, 'visualise': 21964, 'yarbrough': 21965, 'caved': 21966, '64th': 21967, 'newsbeatsocial': 21968, 'muh': 21969, 'andreajmarkley': 21970, 'edjschenk': 21971, 'cesspool': 21972, 'buildingmuseum': 21973, 'thebeachdc': 21974, 'vscocam': 21975, 'acreativedc': 21976, 'dctography': 21977, 'vscodc\\x89û': 21978, 'kundalini121': 21979, 'manyvids': 21980, 'ryandefreitas': 21981, 'revs': 21982, 'sirensix': 21983, 'boo': 21984, 'kronykal': 21985, 'countering': 21986, 'skewed': 21987, 'crhedrys': 21988, 'nkofoxysiren': 21989, 'fre': 21990, 'sa314': 21991, 'bracket': 21992, 'screws': 21993, 'husnaavhora': 21994, 'bobbycakes50': 21995, 'beg': 21996, 'hago': 21997, 'escuchando': 21998, 'pedo': 21999, 'dans': 22000, 'complained': 22001, 'wails': 22002, 'chord': 22003, 'jassycurtis': 22004, 'fckng': 22005, 'spookyerica': 22006, 'salempolice': 22007, 'underskirt': 22008, 'sonic': 22009, 'wizkhalifa': 22010, 'tre': 22011, 'misocapnist': 22012, 'tobacco': 22013, 'unusualwords': 22014, '55433': 22015, '1954': 22016, 'asthma': 22017, 'roosevelts': 22018, 'cigars': 22019, 'ounce': 22020, 'disrespectful': 22021, 'spliff': 22022, '55432': 22023, 'zouis': 22024, 'tess': 22025, 'vbac': 22026, 'naturalbirth': 22027, 'lofty': 22028, 'transported': 22029, 'oz': 22030, 'lilybell82': 22031, 'yasummer': 22032, 'toed': 22033, '676': 22034, '67676': 22035, 'overpass': 22036, 'woodelijah': 22037, 'writerslife': 22038, 'rtphotographyuk': 22039, 'art\\x89û': 22040, 'casey': 22041, 'cone': 22042, 'bigbangcbs': 22043, 'wowokumthat': 22044, 'erincandy': 22045, 'hr15': 22046, 'snowstormi': 22047, 'snowmobiles': 22048, 'numb': 22049, 'irishirr': 22050, 'adjusted': 22051, 'thermostat': 22052, 'wsaz': 22053, 'technically': 22054, 'geologic': 22055, '40urty': 22056, 'donofniketown': 22057, 'whistlerblckcmb': 22058, 'snowbacksunday': 22059, 'momentumcamps': 22060, 'shining': 22061, 'asda': 22062, 'parallel': 22063, 'orphan': 22064, 'gazing': 22065, 'cozy': 22066, 'affluent': 22067, 'lobster': 22068, 'paperstorm': 22069, 'flaunt': 22070, 'itthen': 22071, 'gamechanger': 22072, 'throwbackthursday': 22073, 'kinky': 22074, 'kristy': 22075, 'kylesalive': 22076, 'rehearsing': 22077, 'doinghashtagsright': 22078, '3331116': 22079, '4671416': 22080, 'dovahswag': 22081, 'graygreymane': 22082, 'dota': 22083, 'legends': 22084, '\\x89û÷sexist\\x89ûª': 22085, 'timeshighered': 22086, 'violently': 22087, 'coworkerunaware': 22088, 'periodstories': 22089, 'renewing': 22090, 'cabinets': 22091, 'sdotjr': 22092, 'pctool': 22093, 'niggaeven': 22094, 'thejasontaylorr': 22095, 'stablize': 22096, 'aiden': 22097, 'salivation': 22098, 'beds': 22099, 'kegm': 22100, 'jimmiejohnson': 22101, '0518': 22102, '16950': 22103, 'wedne\\x89û': 22104, 'yc': 22105, 'hc': 22106, '446': 22107, '2523': 22108, 'georgegallagher': 22109, 'robin\\x89û': 22110, 'paulmyerscough': 22111, 'imagination': 22112, 'institutionalstructural': 22113, 'industrys': 22114, 'imprudent': 22115, 'lookout': 22116, '\\x89ûïnewshour': 22117, 'bbclive': 22118, 'gazellebundchen': 22119, 'negate': 22120, 'noticias': 22121, 'shiite': 22122, 'saud': 22123, 'qtszg': 22124, 'barbarism': 22125, 'zeenews': 22126, 'qn': 22127, 'asir': 22128, 'jou': 22129, 'kabari': 22130, 'jihadist': 22131, 'detona': 22132, 'psychos': 22133, 'jrehling': 22134, 'myytwocentss': 22135, 'heavenwell': 22136, 'reprisal': 22137, 'erdogan\\x89ûªs': 22138, 'zirngast': 22139, 'jacobin': 22140, 'thirtyone': 22141, 'samfbiddle': 22142, 'gawker': 22143, 'f35s': 22144, 'capabilities': 22145, 'explosives': 22146, 't4': 22147, 'airbase': 22148, 'wasthe': 22149, 'thing2': 22150, 'allahgodjesusthe': 22151, 'muhammad': 22152, 'killedsomebody': 22153, 'huffington': 22154, 'pierocastellano': 22155, 'nipped': 22156, 'sgtmaj': 22157, 'roni': 22158, 'ghanem': 22159, 'maghar': 22160, 'mehdirhasan': 22161, 'percentages': 22162, 'pew': 22163, 'yaounde': 22164, 'mosques': 22165, '61alvin': 22166, 'craigyb74': 22167, 'nomar4eva': 22168, 'shahasda80': 22169, 'wherepond': 22170, 'trensabby': 22171, 'parallelpond': 22172, 'checkpoints': 22173, 'alqaryatayn': 22174, 'mustsee': 22175, 'gabbyogbechie1tpgazette': 22176, 'tabloids': 22177, 'iceberg': 22178, 'butterflies': 22179, 'swarmed': 22180, 'vengefulknaves': 22181, 'canines': 22182, '581941': 22183, '1941': 22184, 'kumasian': 22185, 'torpedoedsunk': 22186, 'crewlist': 22187, 'widowelena': 22188, 'stelenaalways': 22189, 'jeezus': 22190, 'lightroom': 22191, '\\x89ûïjordyne': 22192, 'sunk\\x89û\\x9d': 22193, 'birdyword': 22194, 'rbs': 22195, 'sunkcost': 22196, 'disposition': 22197, 'ta': 22198, 'thinkin': 22199, 'yal': 22200, 'asolidrighthook': 22201, 'amyschumer': 22202, 'admired': 22203, 'xcom': 22204, 'superheroes': 22205, 'surviverepopulate': 22206, 'superiorhot': 22207, 'thewalkingdead': 22208, 'thezlong': 22209, 'energyqfor': 22210, 'sciencedaily': 22211, 'rookiebluetv': 22212, 'rookieblueabc': 22213, 'mperegrym': 22214, 'pizzeria': 22215, 'wildestsdream': 22216, 'idkidk': 22217, 'purchases': 22218, 'sgm': 22219, 't34': 22220, 'lanparty': 22221, 'grandmas': 22222, 'kidsteenagers': 22223, 'bombeffects': 22224, 'rainstorms': 22225, 'barton': 22226, 'pompey': 22227, 'dreamland': 22228, 'babypicturethis': 22229, 'wampp': 22230, 'bucket': 22231, 'presentations': 22232, 'citymapper': 22233, '390yearold': 22234, 'justgetawayx': 22235, 'lpomampm': 22236, 'pleased': 22237, 'achievements': 22238, '015': 22239, '1346': 22240, 'juliepower': 22241, 'croakeyblog': 22242, 'incubusband': 22243, 'thematthewcookes': 22244, 'survivorsguidetoearth': 22245, 'incubustour2015': 22246, 'aya': 22247, 'kano\\x89ûªs': 22248, 'yogal700': 22249, 'thejournalielìä': 22250, 'niamh': 22251, 'orlando': 22252, 'bums': 22253, 'bowel': 22254, 'womensweeklymag': 22255, 'remake': 22256, 'flp': 22257, 'flpfamily': 22258, 'syedihusain': 22259, 'penelopephoto': 22260, 'thenerdsofcolor': 22261, 'georgetakei': 22262, 'narrates': 22263, 'progessive': 22264, 'schoolgirls': 22265, 'isabel': 22266, 'hodgins': 22267, 'miller': 22268, 'norton': 22269, 'charnock': 22270, 'behindthescenes': 22271, 'viatimesofindia': 22272, 'bbcnewsasia': 22273, 'sponsored': 22274, 'judges': 22275, 'radicalisation': 22276, 'combating': 22277, 'terrorismturn': 22278, 'ampveterans': 22279, 'vfp': 22280, 'supporter': 22281, 'daggy1': 22282, '1980s': 22283, 'jampk': 22284, 'lupe': 22285, 'polls': 22286, 'unborn': 22287, 'mothers': 22288, 'spared': 22289, 'faisal': 22290, 'devjis': 22291, 'extremists': 22292, 'sympathyonlf': 22293, 'affiliated': 22294, 'shabab': 22295, 'tltltltltlttlt': 22296, 'pgrolsh': 22297, 'wololo': 22298, 'bldy': 22299, 'toremove': 22300, 'govtotherwise': 22301, 'terroristbstrd': 22302, 'takig': 22303, 'sculrismfinisem': 22304, 'wrongsuddenly': 22305, 'deres': 22306, 'anoderdid': 22307, 'contingency': 22308, 'congi': 22309, 'presstitutes': 22310, 'sympathising': 22311, 'jammuif': 22312, 'regajha': 22313, 'sethiankit': 22314, 'racial': 22315, 'perturbs': 22316, 'szuniverse': 22317, 'slowed': 22318, 'pose': 22319, 'lawmakers': 22320, 'cider': 22321, 'bottles': 22322, 'barrel': 22323, 'threat\\x89û': 22324, 'prescient': 22325, 'tropic': 22326, 'fatsuit': 22327, 'comedies': 22328, '2401': 22329, 'ws': 22330, 'summerdo': 22331, 'otherull': 22332, 'darshanravaldz': 22333, 'goddess': 22334, 'perknas': 22335, 'praam\\x81ius': 22336, 'dievas': 22337, 'interrupted': 22338, 'fatloss': 22339, 'bolts': 22340, 'icouldsitinthismomentforever': 22341, 'ithats': 22342, 'trashcans': 22343, 'deer': 22344, 'myswc': 22345, 'tryin': 22346, 'settling': 22347, 'okc': 22348, 'chadbourn': 22349, 'singapore': 22350, 'cookbook': 22351, 'hammer': 22352, 'headlinesapp': 22353, '844pm': 22354, 'saams': 22355, 'olilafont': 22356, 'mythology': 22357, 'marquisdespade': 22358, 'yer': 22359, 'hymn': 22360, 'abba': 22361, 'tornadochick': 22362, 'sarahnandola': 22363, 'libertyville': 22364, 'deadlast': 22365, 'lasso': 22366, 'amanda': 22367, 'enjoltair': 22368, 'tedmed': 22369, 'weisberg': 22370, '\\x89ûïif': 22371, 'gat': 22372, 'statistic': 22373, 'stalin': 22374, 'theocracy': 22375, 'mindfulyoga': 22376, 'huggermugger': 22377, 'owe': 22378, 'apology': 22379, 'remedyyyy': 22380, 'jiwa': 22381, 'bonded': 22382, 'laurae303b': 22383, 'sheilagunnreid': 22384, 'yezidi': 22385, 'slaveswe': 22386, 'quell': 22387, 'introvert': 22388, '150squarefoot': 22389, 'westie': 22390, 'believes': 22391, 'slrqxcrls': 22392, 'mottas': 22393, 'pandamoanimum': 22394, 'duly': 22395, 'notedthe': 22396, 'involuntary': 22397, 'wince': 22398, 'holibobs': 22399, '1961': 22400, 'wozni': 22401, 'trapping': 22402, 'jetsetextra': 22403, 'a2': 22404, 'circumstances': 22405, 'jsett': 22406, 'divorce': 22407, 'mmeaustin': 22408, 'cann\\x89û': 22409, 'sickmund': 22410, 'byrne': 22411, 'natl': 22412, 'clevel\\x89û': 22413, 'counciling': 22414, 'newauthors': 22415, 'maimonides': 22416, 'mountsinainyc': 22417, 'beingtweets': 22418, 'susancares2x': 22419, 'onbeingwithkristatippett': 22420, 'whiv': 22421, 'angstattack': 22422, 'marijuananews': 22423, 'gutted': 22424, 'fracture': 22425, 'clinic': 22426, 'gnr': 22427, 'sageuk': 22428, 'refill': 22429, 'tourniquet': 22430, 'ipok': 22431, 'aims': 22432, '1922': 22433, 'judithabarrow': 22434, 'makoto': 22435, 'tremendoustroye': 22436, 'royale': 22437, 'jamesbond': 22438, 'michellemccann': 22439, 'dawg': 22440, 'huddling': 22441, 'davidwilliamso': 22442, 'tanishaa': 22443, 'measly': 22444, 'å£3million': 22445, 'lisajdavidson1': 22446, 'nataliealana87': 22447, 'westendshiv': 22448, 'fringe': 22449, 'purposes': 22450, 'sunakawa': 22451, 'lovestheworld55': 22452, 'semimooch': 22453, 'dandoherty': 22454, 'tomcenci': 22455, 'hrwright': 22456, 'ibautumn': 22457, 'titusoreily': 22458, 'hiss': 22459, 'occupied': 22460, '\\x89ûïboonew': 22461, 'boonew\\x89û\\x9d': 22462, 'double\\x89û\\x9d': 22463, 'pl\\x89ûªs': 22464, 'midi': 22465, 'occupied\\x89û': 22466, 'tribulation': 22467, 'wrld': 22468, 'sauntered': 22469, 'fred': 22470, 'shallwedance': 22471, 'summerunderthestars': 22472, 'tcmparty': 22473, 'bribe': 22474, 'efcc': 22475, 'operatives': 22476, 'mouna': 22477, 'modcloth': 22478, 'corcoran30': 22479, 'kmurphalurph': 22480, 'great\\x89û': 22481, 'infotechnews': 22482, 'reddit\\x89ûªs': 22483, 'recode': 22484, 'kian': 22485, 'pretended': 22486, 'ashniggas': 22487, 'tink': 22488, 'team0epiphany': 22489, 'mods': 22490, 'thediyhacks': 22491, 'illusionimagess': 22492, 'terrif77': 22493, 'wasabi': 22494, 'snowman': 22495, 'walktrough': 22496, 'part8': 22497, 'dang': 22498, 'stlcards': 22499, 'ta7lplays': 22500, 'twitchbang': 22501, 'maliceqt': 22502, 'zelse007': 22503, 'rhyareegaming': 22504, 'dougiedabandit': 22505, 'sphere': 22506, 'bbmeg': 22507, 'hope4japan': 22508, 'pray4japan': 22509, 'lizjillies': 22510, 'otto': 22511, 'reggie': 22512, 'recentlu': 22513, 'kady': 22514, 'bamagaga': 22515, 'kipmooremusic': 22516, '1019': 22517, 'workrelated': 22518, 'shortest': 22519, 'makurazaki': 22520, 'remnants': 22521, 'viral': 22522, 'rumblevideo': 22523, 'sushmaswaraj': 22524, 'childs': 22525, 'timbering': 22526, 'entryway': 22527, 'fjizztxk': 22528, 'bharat': 22529, 'fulfill': 22530, 'retired': 22531, 'dgm': 22532, 'nabard': 22533, 'mgs4': 22534, 'mgsv': 22535, 'iffy': 22536, 'buzz': 22537, 'pvdrdljvc': 22538, 'permutable': 22539, 'qwkd': 22540, 'abcnetwork': 22541, 'shondarhimes': 22542, 'ellenpompeo': 22543, 'prognosis': 22544, 'retailers': 22545, 'consumers': 22546, 'roxyunkfalls': 22547, '1915': 22548, 'manayunk': 22549, 'hippiexox': 22550, 'cyclonic': 22551, 'sumthng': 22552, 'evng': 22553, 'approachng': 22554, 'suddendly': 22555, 'proclaims': 22556, 'calgarysun': 22557, 'dryden': 22558, 'spotted': 22559, 'spun': 22560, 'sylvan': 22561, 'bravo': 22562, 'evergreen': 22563, 'kjc': 22564, 'axegressor': 22565, 'psalm': 22566, 'uninformed': 22567, '2012shells': 22568, '250foottall': 22569, 'drilling': 22570, 'towlineampdrifted': 22571, 'shellno': 22572, '120': 22573, 'capsule': 22574, 'catholicmomva': 22575, 'humidifier': 22576, 'sicklife': 22577, 'jesssssssee': 22578, 'eevans17': 22579, 'illuminati': 22580, 'rnb': 22581, 'starz': 22582, 'epicente': 22583, 'seenfirethe': 22584, 'suna': 22585, 'jamal': 22586, 'cangt': 22587, 'thelovatoagent': 22588, 'scone': 22589, 'tackle': 22590, 'condom': 22591, 'packets': 22592, 'shirts': 22593, 'changin': 22594, 'dandre5': 22595, 'resistance': 22596, 'guerrilla': 22597, 'kpa': 22598, 'wartorn': 22599, 'whooped': 22600, 'teamduval': 22601, 'terrellt': 22602, '212': 22603, 'surgeon': 22604, 'neutron': 22605, 'callofmini': 22606, 'doubleshot': 22607, 'rapidfire': 22608, 'splattling': 22609, 'fucboi': 22610, 'warpeople': 22611, 'vickysuewrites': 22612, 'boyxboy': 22613, 'knavetbe': 22614, 'sindy642498': 22615, 'nowlike': 22616, 'usthe': 22617, 'connected': 22618, 'jpens4real21': 22619, 'geno': 22620, 'benefit': 22621, 'believer': 22622, 'engineer': 22623, 'rpm': 22624, 'helpful': 22625, 'nuking': 22626, 'typewriters': 22627, '1915\\x89ûókill': 22628, 'italians': 22629, 'excel': 22630, 'deray': 22631, 'marstu67': 22632, 'benefitsgreat': 22633, 'salary': 22634, 'foodfree': 22635, 'impunity': 22636, '6pm': 22637, 'byow': 22638, 'abolishing': 22639, 'nukes': 22640, 'cmdr': 22641, 'sidearm': 22642, 'nosc': 22643, 'upgrad': 22644, 'bokoharm': 22645, 'bombarded': 22646, 'kunais': 22647, 'barstoolbigcat': 22648, 'louisan': 22649, 'referential': 22650, 'chelsearosette': 22651, 'peek': 22652, 'wip': 22653, 'amwriting': 22654, 'rona': 22655, 'vid150806': 22656, 'youku': 22657, 'instore': 22658, 'freshoutofthebox': 22659, 'getitbeforeitsgone': 22660, 'under50': 22661, 'newnewnew': 22662, 'saddles': 22663, 'complain': 22664, 'opted': 22665, 'historically': 22666, 'lanahillman': 22667, 'bonfires': 22668, 'firesrain': 22669, 'netnewsledger': 22670, 'thereåêwere': 22671, 'myralynn24': 22672, 'becuase': 22673, 'firesclearly': 22674, 'excess': 22675, 'mrrat395': 22676, 'stampedes': 22677, 'tame': 22678, 'audiobook': 22679, 'bynr': 22680, 'beingauthor': 22681, 'upshit': 22682, 'jacobhoggard': 22683, 'therealmattleaf': 22684, 'californiaand': 22685, 'droughtthis': 22686, '1157am': 22687, 'mynabirds': 22688, 'lovers': 22689, 'taviiikenney': 22690, '1am': 22691, 'wawildfire': 22692, 'chelan': 22693, 'salad': 22694, 'alynacarol': 22695, 'smhrn': 22696, 'scfd': 22697, 'lakecounty': 22698, 'katu': 22699, 'patricio': 22700, 'jm': 22701, 'lozano': 22702, 'newstexas': 22703, 'vixen': 22704, '2in1': 22705, 'marc': 22706, 'bolan': 22707, 'tlitt44': 22708, 'presquile': 22709, 'familyampfriendslots': 22710, 'funnot': 22711, 'pqphistoryweekend': 22712, 'seeking': 22713, 'rhodeisland': 22714, 'takeshimas': 22715, 'fisherman': 22716, 'occupies': 22717, 'dimemiloko': 22718, 'suspe': 22719, 'lordjewcup': 22720, 'helloimivan': 22721, 'chiraq': 22722, 'travelled': 22723, 'rural\\x89û': 22724, 'iniquities': 22725, 'isa': 22726, '535': 22727, 'bkanioros': 22728, 'lizeth': 22729, 'googlefacts': 22730, 'lick': 22731, 'selfinflicted': 22732, '3060': 22733, 'cash7nigga': 22734, 'insomniac': 22735, 'fester': 22736, 'andåêword': 22737, 'forgivenwife': 22738, 'worldrunners': 22739, 'runningroom': 22740, '3ampmy': 22741, 'offdishduty': 22742, 'policemen': 22743, 'indicate': 22744, 'wounding': 22745, 'emm': 22746, 'burnin': 22747, 'fromåêwounds': 22748, 'numbing': 22749, 'gums': 22750, 'therapist': 22751, 'wreckit': 22752, 'ftcarsonpao': 22753, 'carsonmwr': 22754, 'rental': 22755, 'fml': 22756, 'dukeskywalker': 22757, 'facialabuse': 22758, 'competetion': 22759, 'xxxmrbootleg': 22760, 'claudiomeloni': 22761, 'penetrator': 22762, 'alc': 22763, 'upload': 22764, 'whatstheimportantvideo': 22765, 'uneven': 22766, 'herologist': 22767, 'janisctv': 22768, 'manner': 22769, 'parcel': 22770, 'dtom2': 22771, 'nathan26rfc': 22772, 'ease': 22773, 'yakuboobs': 22774, 'iger': 22775, 'smackdown': 22776, 'tyme': 22777, 'thrillhho': 22778, 'jsyk': 22779, 'abt': 22780, 'remus': 22781, 'slumped': 22782, 'stighefootball': 22783, 'begovic': 22784, 'reserve': 22785, 'hattrick': 22786, 'ebolaoutbreak': 22787, 'ala': 22788, 'issuicide': 22789, 'rajman': 22790, 'hasaka': 22791, 'risen': 22792, 'fasteners': 22793, 'xrwn': 22794}\n"
          ]
        }
      ]
    },
    {
      "cell_type": "code",
      "source": [
        "threshold = 2\n",
        "total_cnt = len(word_to_index) # 단어의 수\n",
        "rare_cnt = 0 # 등장 빈도수가 1인 것들 개수 카운트\n",
        "total_freq = 0 # 훈련 데이터 전체 단어 빈도수 총 합\n",
        "rare_freq = 0 # 등장 빈도수가 1인 것들의 등장 빈도수의 총 합\n",
        "\n",
        "# 단어와 빈도수의 쌍(pair)을 key와 value로 받는다.\n",
        "for key, value in tokenizer.word_counts.items():\n",
        "    total_freq = total_freq + value\n",
        "\n",
        "    if(value < threshold):\n",
        "        rare_cnt = rare_cnt + 1\n",
        "        rare_freq = rare_freq + value\n",
        "\n",
        "print('등장 빈도가 %s번 이하인 희귀 단어의 수: %s'%(threshold - 1, rare_cnt))\n",
        "print(\"단어 집합(vocabulary)에서 희귀 단어의 비율:\", (rare_cnt / total_cnt)*100)\n",
        "print(\"전체 등장 빈도에서 희귀 단어 등장 빈도 비율:\", (rare_freq / total_freq)*100)"
      ],
      "metadata": {
        "colab": {
          "base_uri": "https://localhost:8080/"
        },
        "id": "dLGg4ttCpa57",
        "outputId": "750a3c11-8561-4b8e-f30b-8358742cd059"
      },
      "execution_count": 69,
      "outputs": [
        {
          "output_type": "stream",
          "name": "stdout",
          "text": [
            "등장 빈도가 1번 이하인 희귀 단어의 수: 14308\n",
            "단어 집합(vocabulary)에서 희귀 단어의 비율: 62.77090462402387\n",
            "전체 등장 빈도에서 희귀 단어 등장 빈도 비율: 12.831596506017615\n"
          ]
        }
      ]
    },
    {
      "cell_type": "code",
      "source": [
        "a = []\n",
        "for i in range(len(X_train_encoded)):\n",
        "    a.append(len(X_train_encoded[i]))\n",
        "max(a)\n",
        "\n",
        "#가장 긴 tweet의 길이 : 28개의 단어"
      ],
      "metadata": {
        "colab": {
          "base_uri": "https://localhost:8080/"
        },
        "id": "pKHnregpsAre",
        "outputId": "6c9efb55-5145-4e65-ee07-1d37ac82fe9e"
      },
      "execution_count": 70,
      "outputs": [
        {
          "output_type": "execute_result",
          "data": {
            "text/plain": [
              "28"
            ]
          },
          "metadata": {},
          "execution_count": 70
        }
      ]
    },
    {
      "cell_type": "code",
      "source": [
        "tokenizer.word_counts.items()\n",
        "#등장 빈도가 1번인 애들 살펴보기"
      ],
      "metadata": {
        "id": "6ApWBsEYqaHD"
      },
      "execution_count": null,
      "outputs": []
    },
    {
      "cell_type": "code",
      "source": [
        "total_cnt - rare_cnt + 1"
      ],
      "metadata": {
        "colab": {
          "base_uri": "https://localhost:8080/"
        },
        "id": "W2DUOmtmy1uY",
        "outputId": "6f691ee6-ca44-42da-cf3e-676cb8103e1f"
      },
      "execution_count": 72,
      "outputs": [
        {
          "output_type": "execute_result",
          "data": {
            "text/plain": [
              "8487"
            ]
          },
          "metadata": {},
          "execution_count": 72
        }
      ]
    },
    {
      "cell_type": "markdown",
      "source": [
        "# RNN 한번만 나오는 단어 제거"
      ],
      "metadata": {
        "id": "tBsfWBHz6bVq"
      }
    },
    {
      "cell_type": "code",
      "source": [
        "tokenizer = Tokenizer(num_words = total_cnt - rare_cnt + 1)    #한번만 나오는 단어 제거, 단어 빈도가 많은 순서로 5767개 단어 보존\n",
        "tokenizer.fit_on_texts(df['text'])                             #key value로 이루어진 딕셔너리 만들기    \n",
        "X_train_encoded = tokenizer.texts_to_sequences(df['text'])     #단어를 숫자로\n",
        "\n",
        "print(X_train_encoded[:5])"
      ],
      "metadata": {
        "colab": {
          "base_uri": "https://localhost:8080/"
        },
        "id": "s8DCpj8uvSLO",
        "outputId": "ecdc88ae-4191-453e-9829-784c95d158ca"
      },
      "execution_count": 74,
      "outputs": [
        {
          "output_type": "stream",
          "name": "stdout",
          "text": [
            "[[642, 5761, 761, 182, 82, 1873, 3684, 16], [97, 7, 144, 762, 1354], [123, 1522, 1434, 2187, 665, 1729, 79, 210, 2187, 665, 1615, 1179], [3121, 12, 4452, 1222, 210, 1615, 41], [141, 38, 1435, 231, 5762, 2432, 218, 1222, 142]]\n"
          ]
        }
      ]
    },
    {
      "cell_type": "code",
      "source": [
        "a = []\n",
        "for i in range(len(X_train_encoded)):\n",
        "    a.append(len(X_train_encoded[i]))\n",
        "max(a)\n",
        "\n",
        "#등장 빈도 1번인 애들 제거 후 가장 긴 tweet의 길이 : 26개의 단어"
      ],
      "metadata": {
        "colab": {
          "base_uri": "https://localhost:8080/"
        },
        "id": "1BoyJRb2v5YL",
        "outputId": "b5e04126-ad1d-4155-f37a-39d51c64c940"
      },
      "execution_count": 75,
      "outputs": [
        {
          "output_type": "execute_result",
          "data": {
            "text/plain": [
              "26"
            ]
          },
          "metadata": {},
          "execution_count": 75
        }
      ]
    },
    {
      "cell_type": "code",
      "source": [
        "max_len = 26\n",
        "X_train_padded = pad_sequences(X_train_encoded, maxlen = max_len)     # padding\n",
        "print(\"훈련 데이터의 크기(shape):\", X_train_padded.shape)"
      ],
      "metadata": {
        "colab": {
          "base_uri": "https://localhost:8080/"
        },
        "id": "fK0aPQKiwZQW",
        "outputId": "208fb43b-4243-4106-fcdb-73acc6fbbb27"
      },
      "execution_count": 76,
      "outputs": [
        {
          "output_type": "stream",
          "name": "stdout",
          "text": [
            "훈련 데이터의 크기(shape): (10876, 26)\n"
          ]
        }
      ]
    },
    {
      "cell_type": "code",
      "source": [
        "vocab_size = total_cnt - rare_cnt + 1\n",
        "print('단어 집합의 크기: {}'.format((vocab_size)))"
      ],
      "metadata": {
        "colab": {
          "base_uri": "https://localhost:8080/"
        },
        "id": "8vm5_aOpwst3",
        "outputId": "235eaa5c-1d9e-488d-c3a0-ba8a512e5daa"
      },
      "execution_count": 77,
      "outputs": [
        {
          "output_type": "stream",
          "name": "stdout",
          "text": [
            "단어 집합의 크기: 8487\n"
          ]
        }
      ]
    },
    {
      "cell_type": "code",
      "source": [
        "train_data, val_data, train_labels, val_labels = train_test_split(X_train_padded[:df_train.shape[0]], df_train['target'].values, test_size=0.2, random_state=0, stratify=df_train['target'].values)\n",
        "#stratify=df_train['target'].values -> train, test에서 0,1의 비율이 똑같"
      ],
      "metadata": {
        "id": "kgo9T6aAnYG3"
      },
      "execution_count": 80,
      "outputs": []
    },
    {
      "cell_type": "code",
      "source": [
        "from tensorflow.keras.layers import SimpleRNN, Embedding, Dense\n",
        "from tensorflow.keras.models import Sequential\n",
        "\n",
        "embedding_dim = 32\n",
        "hidden_units = 32\n",
        "\n",
        "model = Sequential()\n",
        "model.add(Embedding(vocab_size, embedding_dim))\n",
        "model.add(SimpleRNN(hidden_units))\n",
        "model.add(Dense(1, activation='sigmoid'))\n",
        "\n",
        "optimzer=Adam(learning_rate=1e-5)\n",
        "\n",
        "model.compile(loss='binary_crossentropy',optimizer=optimzer,metrics=['accuracy'])\n",
        "\n",
        "callbacks_list = [\n",
        "    tf.keras.callbacks.EarlyStopping(\n",
        "        monitor='val_accuracy',                    \n",
        "        patience=5                                 \n",
        "    ),\n",
        "    tf.keras.callbacks.ModelCheckpoint(                \n",
        "        filepath=\"checkpoint_path.keras\",        \n",
        "        monitor='val_accuracy',                          \n",
        "        save_best_only=True,                       \n",
        "        verbose=1                                   \n",
        "    )\n",
        "]\n",
        "\n",
        "\n",
        "history = model.fit(train_data, train_labels, \n",
        "                    validation_data = [val_data, val_labels], \n",
        "                    epochs=50,                           #그래프 보면서 에포크 늘려봤음 \n",
        "                    batch_size=64, \n",
        "                    callbacks = callbacks_list, validation_split=0.2)"
      ],
      "metadata": {
        "colab": {
          "base_uri": "https://localhost:8080/"
        },
        "id": "u31zFcQfwjR_",
        "outputId": "52a8b5c3-39a5-4c86-d72a-9882d912310b"
      },
      "execution_count": 81,
      "outputs": [
        {
          "output_type": "stream",
          "name": "stdout",
          "text": [
            "Epoch 1/50\n",
            "96/96 [==============================] - ETA: 0s - loss: 0.6905 - accuracy: 0.5394\n",
            "Epoch 1: val_accuracy improved from -inf to 0.53775, saving model to checkpoint_path.keras\n",
            "96/96 [==============================] - 19s 171ms/step - loss: 0.6905 - accuracy: 0.5394 - val_loss: 0.6904 - val_accuracy: 0.5378\n",
            "Epoch 2/50\n",
            "96/96 [==============================] - ETA: 0s - loss: 0.6862 - accuracy: 0.5663\n",
            "Epoch 2: val_accuracy improved from 0.53775 to 0.55023, saving model to checkpoint_path.keras\n",
            "96/96 [==============================] - 9s 98ms/step - loss: 0.6862 - accuracy: 0.5663 - val_loss: 0.6874 - val_accuracy: 0.5502\n",
            "Epoch 3/50\n",
            "96/96 [==============================] - ETA: 0s - loss: 0.6831 - accuracy: 0.5732\n",
            "Epoch 3: val_accuracy improved from 0.55023 to 0.55548, saving model to checkpoint_path.keras\n",
            "96/96 [==============================] - 5s 51ms/step - loss: 0.6831 - accuracy: 0.5732 - val_loss: 0.6853 - val_accuracy: 0.5555\n",
            "Epoch 4/50\n",
            "96/96 [==============================] - ETA: 0s - loss: 0.6806 - accuracy: 0.5775\n",
            "Epoch 4: val_accuracy improved from 0.55548 to 0.56336, saving model to checkpoint_path.keras\n",
            "96/96 [==============================] - 6s 63ms/step - loss: 0.6806 - accuracy: 0.5775 - val_loss: 0.6837 - val_accuracy: 0.5634\n",
            "Epoch 5/50\n",
            "96/96 [==============================] - ETA: 0s - loss: 0.6786 - accuracy: 0.5803\n",
            "Epoch 5: val_accuracy improved from 0.56336 to 0.56993, saving model to checkpoint_path.keras\n",
            "96/96 [==============================] - 4s 37ms/step - loss: 0.6786 - accuracy: 0.5803 - val_loss: 0.6824 - val_accuracy: 0.5699\n",
            "Epoch 6/50\n",
            "96/96 [==============================] - ETA: 0s - loss: 0.6769 - accuracy: 0.5823\n",
            "Epoch 6: val_accuracy improved from 0.56993 to 0.57452, saving model to checkpoint_path.keras\n",
            "96/96 [==============================] - 4s 46ms/step - loss: 0.6769 - accuracy: 0.5823 - val_loss: 0.6815 - val_accuracy: 0.5745\n",
            "Epoch 7/50\n",
            "96/96 [==============================] - ETA: 0s - loss: 0.6753 - accuracy: 0.5833\n",
            "Epoch 7: val_accuracy improved from 0.57452 to 0.57715, saving model to checkpoint_path.keras\n",
            "96/96 [==============================] - 6s 68ms/step - loss: 0.6753 - accuracy: 0.5833 - val_loss: 0.6806 - val_accuracy: 0.5772\n",
            "Epoch 8/50\n",
            "96/96 [==============================] - ETA: 0s - loss: 0.6737 - accuracy: 0.5849\n",
            "Epoch 8: val_accuracy did not improve from 0.57715\n",
            "96/96 [==============================] - 4s 44ms/step - loss: 0.6737 - accuracy: 0.5849 - val_loss: 0.6798 - val_accuracy: 0.5772\n",
            "Epoch 9/50\n",
            "96/96 [==============================] - ETA: 0s - loss: 0.6722 - accuracy: 0.5857\n",
            "Epoch 9: val_accuracy did not improve from 0.57715\n",
            "96/96 [==============================] - 5s 57ms/step - loss: 0.6722 - accuracy: 0.5857 - val_loss: 0.6790 - val_accuracy: 0.5765\n",
            "Epoch 10/50\n",
            "95/96 [============================>.] - ETA: 0s - loss: 0.6706 - accuracy: 0.5872\n",
            "Epoch 10: val_accuracy improved from 0.57715 to 0.57846, saving model to checkpoint_path.keras\n",
            "96/96 [==============================] - 7s 76ms/step - loss: 0.6705 - accuracy: 0.5872 - val_loss: 0.6782 - val_accuracy: 0.5785\n",
            "Epoch 11/50\n",
            "96/96 [==============================] - ETA: 0s - loss: 0.6689 - accuracy: 0.5901\n",
            "Epoch 11: val_accuracy did not improve from 0.57846\n",
            "96/96 [==============================] - 3s 36ms/step - loss: 0.6689 - accuracy: 0.5901 - val_loss: 0.6774 - val_accuracy: 0.5785\n",
            "Epoch 12/50\n",
            "96/96 [==============================] - ETA: 0s - loss: 0.6672 - accuracy: 0.5908\n",
            "Epoch 12: val_accuracy did not improve from 0.57846\n",
            "96/96 [==============================] - 5s 48ms/step - loss: 0.6672 - accuracy: 0.5908 - val_loss: 0.6766 - val_accuracy: 0.5785\n",
            "Epoch 13/50\n",
            "96/96 [==============================] - ETA: 0s - loss: 0.6654 - accuracy: 0.5985\n",
            "Epoch 13: val_accuracy improved from 0.57846 to 0.57978, saving model to checkpoint_path.keras\n",
            "96/96 [==============================] - 4s 46ms/step - loss: 0.6654 - accuracy: 0.5985 - val_loss: 0.6757 - val_accuracy: 0.5798\n",
            "Epoch 14/50\n",
            "95/96 [============================>.] - ETA: 0s - loss: 0.6635 - accuracy: 0.6021\n",
            "Epoch 14: val_accuracy did not improve from 0.57978\n",
            "96/96 [==============================] - 3s 31ms/step - loss: 0.6636 - accuracy: 0.6018 - val_loss: 0.6749 - val_accuracy: 0.5785\n",
            "Epoch 15/50\n",
            "96/96 [==============================] - ETA: 0s - loss: 0.6617 - accuracy: 0.6120\n",
            "Epoch 15: val_accuracy improved from 0.57978 to 0.58043, saving model to checkpoint_path.keras\n",
            "96/96 [==============================] - 4s 38ms/step - loss: 0.6617 - accuracy: 0.6120 - val_loss: 0.6739 - val_accuracy: 0.5804\n",
            "Epoch 16/50\n",
            "96/96 [==============================] - ETA: 0s - loss: 0.6597 - accuracy: 0.6123\n",
            "Epoch 16: val_accuracy improved from 0.58043 to 0.58569, saving model to checkpoint_path.keras\n",
            "96/96 [==============================] - 5s 52ms/step - loss: 0.6597 - accuracy: 0.6123 - val_loss: 0.6730 - val_accuracy: 0.5857\n",
            "Epoch 17/50\n",
            "96/96 [==============================] - ETA: 0s - loss: 0.6577 - accuracy: 0.6210\n",
            "Epoch 17: val_accuracy improved from 0.58569 to 0.59094, saving model to checkpoint_path.keras\n",
            "96/96 [==============================] - 3s 34ms/step - loss: 0.6577 - accuracy: 0.6210 - val_loss: 0.6720 - val_accuracy: 0.5909\n",
            "Epoch 18/50\n",
            "95/96 [============================>.] - ETA: 0s - loss: 0.6554 - accuracy: 0.6237\n",
            "Epoch 18: val_accuracy improved from 0.59094 to 0.59685, saving model to checkpoint_path.keras\n",
            "96/96 [==============================] - 3s 35ms/step - loss: 0.6554 - accuracy: 0.6238 - val_loss: 0.6710 - val_accuracy: 0.5968\n",
            "Epoch 19/50\n",
            "96/96 [==============================] - ETA: 0s - loss: 0.6531 - accuracy: 0.6310\n",
            "Epoch 19: val_accuracy did not improve from 0.59685\n",
            "96/96 [==============================] - 3s 34ms/step - loss: 0.6531 - accuracy: 0.6310 - val_loss: 0.6700 - val_accuracy: 0.5968\n",
            "Epoch 20/50\n",
            "96/96 [==============================] - ETA: 0s - loss: 0.6507 - accuracy: 0.6345\n",
            "Epoch 20: val_accuracy improved from 0.59685 to 0.59816, saving model to checkpoint_path.keras\n",
            "96/96 [==============================] - 5s 54ms/step - loss: 0.6507 - accuracy: 0.6345 - val_loss: 0.6688 - val_accuracy: 0.5982\n",
            "Epoch 21/50\n",
            "96/96 [==============================] - ETA: 0s - loss: 0.6482 - accuracy: 0.6381\n",
            "Epoch 21: val_accuracy improved from 0.59816 to 0.60079, saving model to checkpoint_path.keras\n",
            "96/96 [==============================] - 4s 37ms/step - loss: 0.6482 - accuracy: 0.6381 - val_loss: 0.6677 - val_accuracy: 0.6008\n",
            "Epoch 22/50\n",
            "96/96 [==============================] - ETA: 0s - loss: 0.6455 - accuracy: 0.6470\n",
            "Epoch 22: val_accuracy improved from 0.60079 to 0.60538, saving model to checkpoint_path.keras\n",
            "96/96 [==============================] - 3s 33ms/step - loss: 0.6455 - accuracy: 0.6470 - val_loss: 0.6665 - val_accuracy: 0.6054\n",
            "Epoch 23/50\n",
            "96/96 [==============================] - ETA: 0s - loss: 0.6427 - accuracy: 0.6550\n",
            "Epoch 23: val_accuracy improved from 0.60538 to 0.60867, saving model to checkpoint_path.keras\n",
            "96/96 [==============================] - 4s 47ms/step - loss: 0.6427 - accuracy: 0.6550 - val_loss: 0.6653 - val_accuracy: 0.6087\n",
            "Epoch 24/50\n",
            "96/96 [==============================] - ETA: 0s - loss: 0.6397 - accuracy: 0.6611\n",
            "Epoch 24: val_accuracy improved from 0.60867 to 0.61064, saving model to checkpoint_path.keras\n",
            "96/96 [==============================] - 9s 98ms/step - loss: 0.6397 - accuracy: 0.6611 - val_loss: 0.6641 - val_accuracy: 0.6106\n",
            "Epoch 25/50\n",
            "96/96 [==============================] - ETA: 0s - loss: 0.6365 - accuracy: 0.6672\n",
            "Epoch 25: val_accuracy improved from 0.61064 to 0.61326, saving model to checkpoint_path.keras\n",
            "96/96 [==============================] - 10s 105ms/step - loss: 0.6365 - accuracy: 0.6672 - val_loss: 0.6627 - val_accuracy: 0.6133\n",
            "Epoch 26/50\n",
            "96/96 [==============================] - ETA: 0s - loss: 0.6332 - accuracy: 0.6750\n",
            "Epoch 26: val_accuracy improved from 0.61326 to 0.61392, saving model to checkpoint_path.keras\n",
            "96/96 [==============================] - 8s 89ms/step - loss: 0.6332 - accuracy: 0.6750 - val_loss: 0.6613 - val_accuracy: 0.6139\n",
            "Epoch 27/50\n",
            "96/96 [==============================] - ETA: 0s - loss: 0.6297 - accuracy: 0.6775\n",
            "Epoch 27: val_accuracy did not improve from 0.61392\n",
            "96/96 [==============================] - 5s 56ms/step - loss: 0.6297 - accuracy: 0.6775 - val_loss: 0.6599 - val_accuracy: 0.6126\n",
            "Epoch 28/50\n",
            "96/96 [==============================] - ETA: 0s - loss: 0.6260 - accuracy: 0.6854\n",
            "Epoch 28: val_accuracy improved from 0.61392 to 0.61458, saving model to checkpoint_path.keras\n",
            "96/96 [==============================] - 3s 33ms/step - loss: 0.6260 - accuracy: 0.6854 - val_loss: 0.6584 - val_accuracy: 0.6146\n",
            "Epoch 29/50\n",
            "96/96 [==============================] - ETA: 0s - loss: 0.6221 - accuracy: 0.6941\n",
            "Epoch 29: val_accuracy improved from 0.61458 to 0.61589, saving model to checkpoint_path.keras\n",
            "96/96 [==============================] - 3s 34ms/step - loss: 0.6221 - accuracy: 0.6941 - val_loss: 0.6568 - val_accuracy: 0.6159\n",
            "Epoch 30/50\n",
            "96/96 [==============================] - ETA: 0s - loss: 0.6181 - accuracy: 0.6985\n",
            "Epoch 30: val_accuracy improved from 0.61589 to 0.62377, saving model to checkpoint_path.keras\n",
            "96/96 [==============================] - 4s 40ms/step - loss: 0.6181 - accuracy: 0.6985 - val_loss: 0.6551 - val_accuracy: 0.6238\n",
            "Epoch 31/50\n",
            "96/96 [==============================] - ETA: 0s - loss: 0.6138 - accuracy: 0.7041\n",
            "Epoch 31: val_accuracy improved from 0.62377 to 0.62640, saving model to checkpoint_path.keras\n",
            "96/96 [==============================] - 4s 46ms/step - loss: 0.6138 - accuracy: 0.7041 - val_loss: 0.6534 - val_accuracy: 0.6264\n",
            "Epoch 32/50\n",
            "96/96 [==============================] - ETA: 0s - loss: 0.6094 - accuracy: 0.7097\n",
            "Epoch 32: val_accuracy improved from 0.62640 to 0.62771, saving model to checkpoint_path.keras\n",
            "96/96 [==============================] - 3s 35ms/step - loss: 0.6094 - accuracy: 0.7097 - val_loss: 0.6518 - val_accuracy: 0.6277\n",
            "Epoch 33/50\n",
            "95/96 [============================>.] - ETA: 0s - loss: 0.6048 - accuracy: 0.7140\n",
            "Epoch 33: val_accuracy improved from 0.62771 to 0.63099, saving model to checkpoint_path.keras\n",
            "96/96 [==============================] - 3s 31ms/step - loss: 0.6047 - accuracy: 0.7141 - val_loss: 0.6499 - val_accuracy: 0.6310\n",
            "Epoch 34/50\n",
            "96/96 [==============================] - ETA: 0s - loss: 0.6000 - accuracy: 0.7159\n",
            "Epoch 34: val_accuracy improved from 0.63099 to 0.63362, saving model to checkpoint_path.keras\n",
            "96/96 [==============================] - 5s 49ms/step - loss: 0.6000 - accuracy: 0.7159 - val_loss: 0.6480 - val_accuracy: 0.6336\n",
            "Epoch 35/50\n",
            "95/96 [============================>.] - ETA: 0s - loss: 0.5950 - accuracy: 0.7332\n",
            "Epoch 35: val_accuracy improved from 0.63362 to 0.63493, saving model to checkpoint_path.keras\n",
            "96/96 [==============================] - 4s 38ms/step - loss: 0.5951 - accuracy: 0.7330 - val_loss: 0.6459 - val_accuracy: 0.6349\n",
            "Epoch 36/50\n",
            "96/96 [==============================] - ETA: 0s - loss: 0.5900 - accuracy: 0.7281\n",
            "Epoch 36: val_accuracy improved from 0.63493 to 0.63624, saving model to checkpoint_path.keras\n",
            "96/96 [==============================] - 3s 33ms/step - loss: 0.5900 - accuracy: 0.7281 - val_loss: 0.6439 - val_accuracy: 0.6362\n",
            "Epoch 37/50\n",
            "96/96 [==============================] - ETA: 0s - loss: 0.5848 - accuracy: 0.7335\n",
            "Epoch 37: val_accuracy improved from 0.63624 to 0.63821, saving model to checkpoint_path.keras\n",
            "96/96 [==============================] - 3s 33ms/step - loss: 0.5848 - accuracy: 0.7335 - val_loss: 0.6415 - val_accuracy: 0.6382\n",
            "Epoch 38/50\n",
            "96/96 [==============================] - ETA: 0s - loss: 0.5792 - accuracy: 0.7419\n",
            "Epoch 38: val_accuracy improved from 0.63821 to 0.63887, saving model to checkpoint_path.keras\n",
            "96/96 [==============================] - 5s 52ms/step - loss: 0.5792 - accuracy: 0.7419 - val_loss: 0.6391 - val_accuracy: 0.6389\n",
            "Epoch 39/50\n",
            "96/96 [==============================] - ETA: 0s - loss: 0.5739 - accuracy: 0.7456\n",
            "Epoch 39: val_accuracy improved from 0.63887 to 0.63953, saving model to checkpoint_path.keras\n",
            "96/96 [==============================] - 3s 35ms/step - loss: 0.5739 - accuracy: 0.7456 - val_loss: 0.6365 - val_accuracy: 0.6395\n",
            "Epoch 40/50\n",
            "95/96 [============================>.] - ETA: 0s - loss: 0.5681 - accuracy: 0.7564\n",
            "Epoch 40: val_accuracy improved from 0.63953 to 0.64150, saving model to checkpoint_path.keras\n",
            "96/96 [==============================] - 3s 31ms/step - loss: 0.5681 - accuracy: 0.7563 - val_loss: 0.6338 - val_accuracy: 0.6415\n",
            "Epoch 41/50\n",
            "96/96 [==============================] - ETA: 0s - loss: 0.5621 - accuracy: 0.7627\n",
            "Epoch 41: val_accuracy improved from 0.64150 to 0.64347, saving model to checkpoint_path.keras\n",
            "96/96 [==============================] - 3s 32ms/step - loss: 0.5621 - accuracy: 0.7627 - val_loss: 0.6309 - val_accuracy: 0.6435\n",
            "Epoch 42/50\n",
            "96/96 [==============================] - ETA: 0s - loss: 0.5562 - accuracy: 0.7690\n",
            "Epoch 42: val_accuracy improved from 0.64347 to 0.64806, saving model to checkpoint_path.keras\n",
            "96/96 [==============================] - 5s 53ms/step - loss: 0.5562 - accuracy: 0.7690 - val_loss: 0.6278 - val_accuracy: 0.6481\n",
            "Epoch 43/50\n",
            "96/96 [==============================] - ETA: 0s - loss: 0.5499 - accuracy: 0.7729\n",
            "Epoch 43: val_accuracy improved from 0.64806 to 0.65200, saving model to checkpoint_path.keras\n",
            "96/96 [==============================] - 3s 32ms/step - loss: 0.5499 - accuracy: 0.7729 - val_loss: 0.6246 - val_accuracy: 0.6520\n",
            "Epoch 44/50\n",
            "96/96 [==============================] - ETA: 0s - loss: 0.5440 - accuracy: 0.7782\n",
            "Epoch 44: val_accuracy improved from 0.65200 to 0.65463, saving model to checkpoint_path.keras\n",
            "96/96 [==============================] - 3s 30ms/step - loss: 0.5440 - accuracy: 0.7782 - val_loss: 0.6213 - val_accuracy: 0.6546\n",
            "Epoch 45/50\n",
            "96/96 [==============================] - ETA: 0s - loss: 0.5379 - accuracy: 0.7849\n",
            "Epoch 45: val_accuracy improved from 0.65463 to 0.66185, saving model to checkpoint_path.keras\n",
            "96/96 [==============================] - 3s 34ms/step - loss: 0.5379 - accuracy: 0.7849 - val_loss: 0.6181 - val_accuracy: 0.6619\n",
            "Epoch 46/50\n",
            "95/96 [============================>.] - ETA: 0s - loss: 0.5321 - accuracy: 0.7867\n",
            "Epoch 46: val_accuracy improved from 0.66185 to 0.66973, saving model to checkpoint_path.keras\n",
            "96/96 [==============================] - 5s 55ms/step - loss: 0.5321 - accuracy: 0.7869 - val_loss: 0.6148 - val_accuracy: 0.6697\n",
            "Epoch 47/50\n",
            "95/96 [============================>.] - ETA: 0s - loss: 0.5254 - accuracy: 0.7919\n",
            "Epoch 47: val_accuracy did not improve from 0.66973\n",
            "96/96 [==============================] - 3s 30ms/step - loss: 0.5253 - accuracy: 0.7921 - val_loss: 0.6125 - val_accuracy: 0.6592\n",
            "Epoch 48/50\n",
            "96/96 [==============================] - ETA: 0s - loss: 0.5192 - accuracy: 0.7944\n",
            "Epoch 48: val_accuracy improved from 0.66973 to 0.68089, saving model to checkpoint_path.keras\n",
            "96/96 [==============================] - 3s 34ms/step - loss: 0.5192 - accuracy: 0.7944 - val_loss: 0.6084 - val_accuracy: 0.6809\n",
            "Epoch 49/50\n",
            "96/96 [==============================] - ETA: 0s - loss: 0.5127 - accuracy: 0.8044\n",
            "Epoch 49: val_accuracy improved from 0.68089 to 0.68680, saving model to checkpoint_path.keras\n",
            "96/96 [==============================] - 3s 34ms/step - loss: 0.5127 - accuracy: 0.8044 - val_loss: 0.6048 - val_accuracy: 0.6868\n",
            "Epoch 50/50\n",
            "95/96 [============================>.] - ETA: 0s - loss: 0.5070 - accuracy: 0.8072\n",
            "Epoch 50: val_accuracy did not improve from 0.68680\n",
            "96/96 [==============================] - 5s 52ms/step - loss: 0.5070 - accuracy: 0.8072 - val_loss: 0.6021 - val_accuracy: 0.6861\n"
          ]
        }
      ]
    },
    {
      "cell_type": "code",
      "source": [
        "history_dict = history.history\n",
        "history_dict.keys()"
      ],
      "metadata": {
        "colab": {
          "base_uri": "https://localhost:8080/"
        },
        "id": "UqqpX3pB0l0v",
        "outputId": "83f4a0d8-3caa-4155-8b72-17e32ba9cea6"
      },
      "execution_count": 83,
      "outputs": [
        {
          "output_type": "execute_result",
          "data": {
            "text/plain": [
              "dict_keys(['loss', 'accuracy', 'val_loss', 'val_accuracy'])"
            ]
          },
          "metadata": {},
          "execution_count": 83
        }
      ]
    },
    {
      "cell_type": "code",
      "source": [
        "history_dict = history.history\n",
        "loss_values = history_dict[\"loss\"]\n",
        "val_loss_values = history_dict[\"val_loss\"]\n",
        "epochs = range(1, len(loss_values) + 1)\n",
        "plt.plot(epochs, loss_values, \"bo\", label=\"Training loss\")\n",
        "plt.plot(epochs, val_loss_values, \"b\", label=\"Validation loss\")\n",
        "plt.title(\"Training and validation loss\")\n",
        "plt.xlabel(\"Epochs\")\n",
        "plt.ylabel(\"Loss\")\n",
        "plt.legend()\n",
        "plt.show()"
      ],
      "metadata": {
        "colab": {
          "base_uri": "https://localhost:8080/",
          "height": 477
        },
        "id": "h0s9gMBt1n4y",
        "outputId": "20f42a26-18c7-4f11-fbf6-1e64320351f5"
      },
      "execution_count": 84,
      "outputs": [
        {
          "output_type": "display_data",
          "data": {
            "text/plain": [
              "<Figure size 640x480 with 1 Axes>"
            ],
            "image/png": "[encoded data removed]"
          },
          "metadata": {}
        }
      ]
    },
    {
      "cell_type": "code",
      "source": [
        "plt.clf()\n",
        "acc = history_dict[\"accuracy\"]\n",
        "val_acc = history_dict[\"val_accuracy\"]\n",
        "plt.plot(epochs, acc, \"bo\", label=\"Training acc\")\n",
        "plt.plot(epochs, val_acc, \"b\", label=\"Validation acc\")\n",
        "plt.title(\"Training and validation accuracy\")\n",
        "plt.xlabel(\"Epochs\")\n",
        "plt.ylabel(\"Accuracy\")\n",
        "plt.legend()\n",
        "plt.show()"
      ],
      "metadata": {
        "colab": {
          "base_uri": "https://localhost:8080/",
          "height": 477
        },
        "id": "PhPKlxqg0ZfC",
        "outputId": "d5210b7d-d499-4538-9c14-89e8c03d30d2"
      },
      "execution_count": 85,
      "outputs": [
        {
          "output_type": "display_data",
          "data": {
            "text/plain": [
              "<Figure size 640x480 with 1 Axes>"
            ],
            "image/png": "[encoded data removed]"
          },
          "metadata": {}
        }
      ]
    },
    {
      "cell_type": "code",
      "source": [
        "loaded_model = tf.keras.models.load_model('checkpoint_path.keras')\n",
        "predicted = loaded_model.predict(X_train_padded[df_train.shape[0]:])\n",
        "y_predicted = np.where(predicted>0.5,1,0)\n",
        "y_predicted = y_predicted.reshape((1,3263))[0]\n",
        "df_sample['id'] = df_test.id\n",
        "df_sample['target'] = y_predicted\n",
        "df_sample.to_csv('submission.csv',index = False)\n",
        "#리더보드 결과 : 0.69169"
      ],
      "metadata": {
        "colab": {
          "base_uri": "https://localhost:8080/"
        },
        "id": "HD2uGqOm1T7i",
        "outputId": "a298ffb0-1f93-4961-9004-15c729878695"
      },
      "execution_count": 86,
      "outputs": [
        {
          "output_type": "stream",
          "name": "stdout",
          "text": [
            "102/102 [==============================] - 1s 5ms/step\n"
          ]
        }
      ]
    },
    {
      "cell_type": "markdown",
      "source": [
        "#RNN 한번만 나오는 단어 제거 X"
      ],
      "metadata": {
        "id": "0F9A2V_V6jFS"
      }
    },
    {
      "cell_type": "code",
      "source": [
        "tokenizer = Tokenizer()                                        #한번만 나오는 단어 제거X\n",
        "tokenizer.fit_on_texts(df['text'])                             #key value로 이루어진 딕셔너리 만들기    \n",
        "X_train_encoded = tokenizer.texts_to_sequences(df['text'])     #단어를 숫자로\n",
        "\n",
        "print(X_train_encoded[:5])"
      ],
      "metadata": {
        "colab": {
          "base_uri": "https://localhost:8080/"
        },
        "id": "-aFhwMep6xd2",
        "outputId": "b97017e2-61c0-4b22-dc92-65fe7932d52e"
      },
      "execution_count": 88,
      "outputs": [
        {
          "output_type": "stream",
          "name": "stdout",
          "text": [
            "[[642, 5761, 761, 182, 82, 1873, 3684, 16], [97, 7, 144, 762, 8487, 8488, 1354], [123, 1522, 1434, 2187, 665, 8489, 1729, 79, 210, 2187, 665, 1615, 1179], [3121, 12, 4452, 1222, 210, 1615, 41], [141, 38, 1435, 231, 5762, 2432, 218, 1222, 8490, 142]]\n"
          ]
        }
      ]
    },
    {
      "cell_type": "code",
      "source": [
        "a = []\n",
        "for i in range(len(X_train_encoded)):\n",
        "    a.append(len(X_train_encoded[i]))\n",
        "max(a)\n",
        "\n",
        "#등장 빈도 1번인 애들 제거 후 가장 긴 tweet의 길이 : 28개의 단어"
      ],
      "metadata": {
        "outputId": "601e63d6-83d7-4917-adda-c375d851b794",
        "colab": {
          "base_uri": "https://localhost:8080/"
        },
        "id": "eVTaKo9_7ALW"
      },
      "execution_count": 89,
      "outputs": [
        {
          "output_type": "execute_result",
          "data": {
            "text/plain": [
              "28"
            ]
          },
          "metadata": {},
          "execution_count": 89
        }
      ]
    },
    {
      "cell_type": "code",
      "source": [
        "max_len = 28\n",
        "X_train_padded = pad_sequences(X_train_encoded, maxlen = max_len)     # padding\n",
        "print(\"훈련 데이터의 크기(shape):\", X_train_padded.shape)"
      ],
      "metadata": {
        "outputId": "bfa6dd4d-d0b0-4e27-cac8-aad23002ad11",
        "colab": {
          "base_uri": "https://localhost:8080/"
        },
        "id": "f7zJsm537ALe"
      },
      "execution_count": 90,
      "outputs": [
        {
          "output_type": "stream",
          "name": "stdout",
          "text": [
            "훈련 데이터의 크기(shape): (10876, 28)\n"
          ]
        }
      ]
    },
    {
      "cell_type": "code",
      "source": [
        "vocab_size = len(word_to_index) + 1\n",
        "print('단어 집합의 크기: {}'.format((vocab_size)))"
      ],
      "metadata": {
        "outputId": "4c177d87-4778-49b0-9228-b67687433017",
        "colab": {
          "base_uri": "https://localhost:8080/"
        },
        "id": "zOC1bxGz7ALe"
      },
      "execution_count": 92,
      "outputs": [
        {
          "output_type": "stream",
          "name": "stdout",
          "text": [
            "단어 집합의 크기: 22795\n"
          ]
        }
      ]
    },
    {
      "cell_type": "code",
      "source": [
        "train_data, val_data, train_labels, val_labels = train_test_split(X_train_padded[:df_train.shape[0]], df_train['target'].values, test_size=0.2, random_state=0, stratify=df_train['target'].values)\n",
        "#stratify=df_train['target'].values -> train, test에서 0,1의 비율이 똑같"
      ],
      "metadata": {
        "id": "PMOp6bIF7ALe"
      },
      "execution_count": 93,
      "outputs": []
    },
    {
      "cell_type": "code",
      "source": [
        "from tensorflow.keras.layers import SimpleRNN, Embedding, Dense\n",
        "from tensorflow.keras.models import Sequential\n",
        "\n",
        "embedding_dim = 32\n",
        "hidden_units = 32\n",
        "\n",
        "model = Sequential()\n",
        "model.add(Embedding(vocab_size, embedding_dim))\n",
        "model.add(SimpleRNN(hidden_units))\n",
        "model.add(Dense(1, activation='sigmoid'))\n",
        "\n",
        "optimzer=Adam(learning_rate=1e-5)\n",
        "\n",
        "model.compile(loss='binary_crossentropy',optimizer=optimzer,metrics=['accuracy'])\n",
        "\n",
        "callbacks_list = [\n",
        "    tf.keras.callbacks.EarlyStopping(\n",
        "        monitor='val_accuracy',                    \n",
        "        patience=5                                 \n",
        "    ),\n",
        "    tf.keras.callbacks.ModelCheckpoint(                \n",
        "        filepath=\"checkpoint_path.keras\",        \n",
        "        monitor='val_accuracy',                          \n",
        "        save_best_only=True,                       \n",
        "        verbose=1                                   \n",
        "    )\n",
        "]\n",
        "\n",
        "\n",
        "history = model.fit(train_data, train_labels, \n",
        "                    validation_data = [val_data, val_labels], \n",
        "                    epochs=50,                           #그래프 보면서 에포크 늘려봤음 \n",
        "                    batch_size=64, \n",
        "                    callbacks = callbacks_list, validation_split=0.2)"
      ],
      "metadata": {
        "outputId": "249b168d-5ae2-4e29-cd62-757dddf531fa",
        "colab": {
          "base_uri": "https://localhost:8080/"
        },
        "id": "vG5F8LQS7ALf"
      },
      "execution_count": 94,
      "outputs": [
        {
          "output_type": "stream",
          "name": "stdout",
          "text": [
            "Epoch 1/50\n",
            "96/96 [==============================] - ETA: 0s - loss: 0.6878 - accuracy: 0.5545\n",
            "Epoch 1: val_accuracy improved from -inf to 0.57124, saving model to checkpoint_path.keras\n",
            "96/96 [==============================] - 20s 183ms/step - loss: 0.6878 - accuracy: 0.5545 - val_loss: 0.6812 - val_accuracy: 0.5712\n",
            "Epoch 2/50\n",
            "96/96 [==============================] - ETA: 0s - loss: 0.6826 - accuracy: 0.5714\n",
            "Epoch 2: val_accuracy did not improve from 0.57124\n",
            "96/96 [==============================] - 11s 112ms/step - loss: 0.6826 - accuracy: 0.5714 - val_loss: 0.6781 - val_accuracy: 0.5673\n",
            "Epoch 3/50\n",
            "96/96 [==============================] - ETA: 0s - loss: 0.6791 - accuracy: 0.5750\n",
            "Epoch 3: val_accuracy did not improve from 0.57124\n",
            "96/96 [==============================] - 7s 68ms/step - loss: 0.6791 - accuracy: 0.5750 - val_loss: 0.6764 - val_accuracy: 0.5673\n",
            "Epoch 4/50\n",
            "96/96 [==============================] - ETA: 0s - loss: 0.6764 - accuracy: 0.5791\n",
            "Epoch 4: val_accuracy improved from 0.57124 to 0.57452, saving model to checkpoint_path.keras\n",
            "96/96 [==============================] - 6s 63ms/step - loss: 0.6764 - accuracy: 0.5791 - val_loss: 0.6752 - val_accuracy: 0.5745\n",
            "Epoch 5/50\n",
            "96/96 [==============================] - ETA: 0s - loss: 0.6741 - accuracy: 0.5818\n",
            "Epoch 5: val_accuracy improved from 0.57452 to 0.57584, saving model to checkpoint_path.keras\n",
            "96/96 [==============================] - 5s 47ms/step - loss: 0.6741 - accuracy: 0.5818 - val_loss: 0.6743 - val_accuracy: 0.5758\n",
            "Epoch 6/50\n",
            "96/96 [==============================] - ETA: 0s - loss: 0.6719 - accuracy: 0.5851\n",
            "Epoch 6: val_accuracy did not improve from 0.57584\n",
            "96/96 [==============================] - 4s 45ms/step - loss: 0.6719 - accuracy: 0.5851 - val_loss: 0.6733 - val_accuracy: 0.5758\n",
            "Epoch 7/50\n",
            "96/96 [==============================] - ETA: 0s - loss: 0.6695 - accuracy: 0.5872\n",
            "Epoch 7: val_accuracy improved from 0.57584 to 0.57846, saving model to checkpoint_path.keras\n",
            "96/96 [==============================] - 7s 71ms/step - loss: 0.6695 - accuracy: 0.5872 - val_loss: 0.6723 - val_accuracy: 0.5785\n",
            "Epoch 8/50\n",
            "96/96 [==============================] - ETA: 0s - loss: 0.6672 - accuracy: 0.5959\n",
            "Epoch 8: val_accuracy improved from 0.57846 to 0.57912, saving model to checkpoint_path.keras\n",
            "96/96 [==============================] - 4s 42ms/step - loss: 0.6672 - accuracy: 0.5959 - val_loss: 0.6713 - val_accuracy: 0.5791\n",
            "Epoch 9/50\n",
            "96/96 [==============================] - ETA: 0s - loss: 0.6648 - accuracy: 0.6008\n",
            "Epoch 9: val_accuracy improved from 0.57912 to 0.58175, saving model to checkpoint_path.keras\n",
            "96/96 [==============================] - 4s 47ms/step - loss: 0.6648 - accuracy: 0.6008 - val_loss: 0.6703 - val_accuracy: 0.5817\n",
            "Epoch 10/50\n",
            "96/96 [==============================] - ETA: 0s - loss: 0.6623 - accuracy: 0.6077\n",
            "Epoch 10: val_accuracy improved from 0.58175 to 0.58634, saving model to checkpoint_path.keras\n",
            "96/96 [==============================] - 6s 65ms/step - loss: 0.6623 - accuracy: 0.6077 - val_loss: 0.6692 - val_accuracy: 0.5863\n",
            "Epoch 11/50\n",
            "96/96 [==============================] - ETA: 0s - loss: 0.6597 - accuracy: 0.6138\n",
            "Epoch 11: val_accuracy improved from 0.58634 to 0.58963, saving model to checkpoint_path.keras\n",
            "96/96 [==============================] - 4s 39ms/step - loss: 0.6597 - accuracy: 0.6138 - val_loss: 0.6681 - val_accuracy: 0.5896\n",
            "Epoch 12/50\n",
            "96/96 [==============================] - ETA: 0s - loss: 0.6570 - accuracy: 0.6215\n",
            "Epoch 12: val_accuracy improved from 0.58963 to 0.59094, saving model to checkpoint_path.keras\n",
            "96/96 [==============================] - 4s 37ms/step - loss: 0.6570 - accuracy: 0.6215 - val_loss: 0.6669 - val_accuracy: 0.5909\n",
            "Epoch 13/50\n",
            "96/96 [==============================] - ETA: 0s - loss: 0.6542 - accuracy: 0.6335\n",
            "Epoch 13: val_accuracy improved from 0.59094 to 0.59488, saving model to checkpoint_path.keras\n",
            "96/96 [==============================] - 6s 61ms/step - loss: 0.6542 - accuracy: 0.6335 - val_loss: 0.6656 - val_accuracy: 0.5949\n",
            "Epoch 14/50\n",
            "96/96 [==============================] - ETA: 0s - loss: 0.6513 - accuracy: 0.6330\n",
            "Epoch 14: val_accuracy improved from 0.59488 to 0.60276, saving model to checkpoint_path.keras\n",
            "96/96 [==============================] - 4s 41ms/step - loss: 0.6513 - accuracy: 0.6330 - val_loss: 0.6643 - val_accuracy: 0.6028\n",
            "Epoch 15/50\n",
            "96/96 [==============================] - ETA: 0s - loss: 0.6482 - accuracy: 0.6509\n",
            "Epoch 15: val_accuracy improved from 0.60276 to 0.60538, saving model to checkpoint_path.keras\n",
            "96/96 [==============================] - 4s 43ms/step - loss: 0.6482 - accuracy: 0.6509 - val_loss: 0.6629 - val_accuracy: 0.6054\n",
            "Epoch 16/50\n",
            "95/96 [============================>.] - ETA: 0s - loss: 0.6449 - accuracy: 0.6531\n",
            "Epoch 16: val_accuracy improved from 0.60538 to 0.60670, saving model to checkpoint_path.keras\n",
            "96/96 [==============================] - 5s 55ms/step - loss: 0.6450 - accuracy: 0.6529 - val_loss: 0.6614 - val_accuracy: 0.6067\n",
            "Epoch 17/50\n",
            "96/96 [==============================] - ETA: 0s - loss: 0.6415 - accuracy: 0.6683\n",
            "Epoch 17: val_accuracy improved from 0.60670 to 0.61261, saving model to checkpoint_path.keras\n",
            "96/96 [==============================] - 4s 38ms/step - loss: 0.6415 - accuracy: 0.6683 - val_loss: 0.6598 - val_accuracy: 0.6126\n",
            "Epoch 18/50\n",
            "96/96 [==============================] - ETA: 0s - loss: 0.6379 - accuracy: 0.6741\n",
            "Epoch 18: val_accuracy improved from 0.61261 to 0.61326, saving model to checkpoint_path.keras\n",
            "96/96 [==============================] - 3s 36ms/step - loss: 0.6379 - accuracy: 0.6741 - val_loss: 0.6580 - val_accuracy: 0.6133\n",
            "Epoch 19/50\n",
            "96/96 [==============================] - ETA: 0s - loss: 0.6339 - accuracy: 0.6787\n",
            "Epoch 19: val_accuracy improved from 0.61326 to 0.62049, saving model to checkpoint_path.keras\n",
            "96/96 [==============================] - 4s 42ms/step - loss: 0.6339 - accuracy: 0.6787 - val_loss: 0.6561 - val_accuracy: 0.6205\n",
            "Epoch 20/50\n",
            "96/96 [==============================] - ETA: 0s - loss: 0.6298 - accuracy: 0.6920\n",
            "Epoch 20: val_accuracy improved from 0.62049 to 0.62114, saving model to checkpoint_path.keras\n",
            "96/96 [==============================] - 5s 51ms/step - loss: 0.6298 - accuracy: 0.6920 - val_loss: 0.6540 - val_accuracy: 0.6211\n",
            "Epoch 21/50\n",
            "96/96 [==============================] - ETA: 0s - loss: 0.6253 - accuracy: 0.6992\n",
            "Epoch 21: val_accuracy improved from 0.62114 to 0.63690, saving model to checkpoint_path.keras\n",
            "96/96 [==============================] - 4s 38ms/step - loss: 0.6253 - accuracy: 0.6992 - val_loss: 0.6517 - val_accuracy: 0.6369\n",
            "Epoch 22/50\n",
            "96/96 [==============================] - ETA: 0s - loss: 0.6204 - accuracy: 0.7056\n",
            "Epoch 22: val_accuracy improved from 0.63690 to 0.64018, saving model to checkpoint_path.keras\n",
            "96/96 [==============================] - 4s 39ms/step - loss: 0.6204 - accuracy: 0.7056 - val_loss: 0.6493 - val_accuracy: 0.6402\n",
            "Epoch 23/50\n",
            "96/96 [==============================] - ETA: 0s - loss: 0.6152 - accuracy: 0.7236\n",
            "Epoch 23: val_accuracy improved from 0.64018 to 0.64215, saving model to checkpoint_path.keras\n",
            "96/96 [==============================] - 8s 79ms/step - loss: 0.6152 - accuracy: 0.7236 - val_loss: 0.6461 - val_accuracy: 0.6422\n",
            "Epoch 24/50\n",
            "96/96 [==============================] - ETA: 0s - loss: 0.6094 - accuracy: 0.7294\n",
            "Epoch 24: val_accuracy improved from 0.64215 to 0.64478, saving model to checkpoint_path.keras\n",
            "96/96 [==============================] - 4s 43ms/step - loss: 0.6094 - accuracy: 0.7294 - val_loss: 0.6428 - val_accuracy: 0.6448\n",
            "Epoch 25/50\n",
            "96/96 [==============================] - ETA: 0s - loss: 0.6032 - accuracy: 0.7332\n",
            "Epoch 25: val_accuracy improved from 0.64478 to 0.65857, saving model to checkpoint_path.keras\n",
            "96/96 [==============================] - 7s 78ms/step - loss: 0.6032 - accuracy: 0.7332 - val_loss: 0.6391 - val_accuracy: 0.6586\n",
            "Epoch 26/50\n",
            "96/96 [==============================] - ETA: 0s - loss: 0.5961 - accuracy: 0.7475\n",
            "Epoch 26: val_accuracy improved from 0.65857 to 0.66316, saving model to checkpoint_path.keras\n",
            "96/96 [==============================] - 4s 39ms/step - loss: 0.5961 - accuracy: 0.7475 - val_loss: 0.6349 - val_accuracy: 0.6632\n",
            "Epoch 27/50\n",
            "96/96 [==============================] - ETA: 0s - loss: 0.5887 - accuracy: 0.7491\n",
            "Epoch 27: val_accuracy improved from 0.66316 to 0.67958, saving model to checkpoint_path.keras\n",
            "96/96 [==============================] - 4s 41ms/step - loss: 0.5887 - accuracy: 0.7491 - val_loss: 0.6307 - val_accuracy: 0.6796\n",
            "Epoch 28/50\n",
            "96/96 [==============================] - ETA: 0s - loss: 0.5804 - accuracy: 0.7631\n",
            "Epoch 28: val_accuracy improved from 0.67958 to 0.68680, saving model to checkpoint_path.keras\n",
            "96/96 [==============================] - 5s 51ms/step - loss: 0.5804 - accuracy: 0.7631 - val_loss: 0.6257 - val_accuracy: 0.6868\n",
            "Epoch 29/50\n",
            "96/96 [==============================] - ETA: 0s - loss: 0.5717 - accuracy: 0.7704\n",
            "Epoch 29: val_accuracy improved from 0.68680 to 0.69337, saving model to checkpoint_path.keras\n",
            "96/96 [==============================] - 4s 42ms/step - loss: 0.5717 - accuracy: 0.7704 - val_loss: 0.6202 - val_accuracy: 0.6934\n",
            "Epoch 30/50\n",
            "95/96 [============================>.] - ETA: 0s - loss: 0.5616 - accuracy: 0.7786\n",
            "Epoch 30: val_accuracy did not improve from 0.69337\n",
            "96/96 [==============================] - 3s 36ms/step - loss: 0.5618 - accuracy: 0.7782 - val_loss: 0.6142 - val_accuracy: 0.6888\n",
            "Epoch 31/50\n",
            "95/96 [============================>.] - ETA: 0s - loss: 0.5522 - accuracy: 0.7804\n",
            "Epoch 31: val_accuracy improved from 0.69337 to 0.70519, saving model to checkpoint_path.keras\n",
            "96/96 [==============================] - 3s 33ms/step - loss: 0.5524 - accuracy: 0.7801 - val_loss: 0.6089 - val_accuracy: 0.7052\n",
            "Epoch 32/50\n",
            "95/96 [============================>.] - ETA: 0s - loss: 0.5423 - accuracy: 0.7900\n",
            "Epoch 32: val_accuracy improved from 0.70519 to 0.70584, saving model to checkpoint_path.keras\n",
            "96/96 [==============================] - 5s 55ms/step - loss: 0.5424 - accuracy: 0.7898 - val_loss: 0.6035 - val_accuracy: 0.7058\n",
            "Epoch 33/50\n",
            "96/96 [==============================] - ETA: 0s - loss: 0.5329 - accuracy: 0.7897\n",
            "Epoch 33: val_accuracy improved from 0.70584 to 0.70716, saving model to checkpoint_path.keras\n",
            "96/96 [==============================] - 3s 36ms/step - loss: 0.5329 - accuracy: 0.7897 - val_loss: 0.5966 - val_accuracy: 0.7072\n",
            "Epoch 34/50\n",
            "96/96 [==============================] - ETA: 0s - loss: 0.5229 - accuracy: 0.8002\n",
            "Epoch 34: val_accuracy improved from 0.70716 to 0.71504, saving model to checkpoint_path.keras\n",
            "96/96 [==============================] - 4s 38ms/step - loss: 0.5229 - accuracy: 0.8002 - val_loss: 0.5940 - val_accuracy: 0.7150\n",
            "Epoch 35/50\n",
            "96/96 [==============================] - ETA: 0s - loss: 0.5134 - accuracy: 0.8036\n",
            "Epoch 35: val_accuracy did not improve from 0.71504\n",
            "96/96 [==============================] - 4s 42ms/step - loss: 0.5134 - accuracy: 0.8036 - val_loss: 0.5872 - val_accuracy: 0.7118\n",
            "Epoch 36/50\n",
            "96/96 [==============================] - ETA: 0s - loss: 0.5038 - accuracy: 0.8094\n",
            "Epoch 36: val_accuracy improved from 0.71504 to 0.71701, saving model to checkpoint_path.keras\n",
            "96/96 [==============================] - 5s 53ms/step - loss: 0.5038 - accuracy: 0.8094 - val_loss: 0.5836 - val_accuracy: 0.7170\n",
            "Epoch 37/50\n",
            "96/96 [==============================] - ETA: 0s - loss: 0.4951 - accuracy: 0.8117\n",
            "Epoch 37: val_accuracy improved from 0.71701 to 0.72029, saving model to checkpoint_path.keras\n",
            "96/96 [==============================] - 4s 39ms/step - loss: 0.4951 - accuracy: 0.8117 - val_loss: 0.5779 - val_accuracy: 0.7203\n",
            "Epoch 38/50\n",
            "96/96 [==============================] - ETA: 0s - loss: 0.4876 - accuracy: 0.8156\n",
            "Epoch 38: val_accuracy improved from 0.72029 to 0.72226, saving model to checkpoint_path.keras\n",
            "96/96 [==============================] - 3s 36ms/step - loss: 0.4876 - accuracy: 0.8156 - val_loss: 0.5768 - val_accuracy: 0.7223\n",
            "Epoch 39/50\n",
            "96/96 [==============================] - ETA: 0s - loss: 0.4771 - accuracy: 0.8223\n",
            "Epoch 39: val_accuracy improved from 0.72226 to 0.72357, saving model to checkpoint_path.keras\n",
            "96/96 [==============================] - 6s 58ms/step - loss: 0.4771 - accuracy: 0.8223 - val_loss: 0.5693 - val_accuracy: 0.7236\n",
            "Epoch 40/50\n",
            "95/96 [============================>.] - ETA: 0s - loss: 0.4701 - accuracy: 0.8258\n",
            "Epoch 40: val_accuracy improved from 0.72357 to 0.72948, saving model to checkpoint_path.keras\n",
            "96/96 [==============================] - 3s 36ms/step - loss: 0.4700 - accuracy: 0.8259 - val_loss: 0.5663 - val_accuracy: 0.7295\n",
            "Epoch 41/50\n",
            "96/96 [==============================] - ETA: 0s - loss: 0.4619 - accuracy: 0.8276\n",
            "Epoch 41: val_accuracy did not improve from 0.72948\n",
            "96/96 [==============================] - 3s 34ms/step - loss: 0.4619 - accuracy: 0.8276 - val_loss: 0.5626 - val_accuracy: 0.7275\n",
            "Epoch 42/50\n",
            "96/96 [==============================] - ETA: 0s - loss: 0.4542 - accuracy: 0.8292\n",
            "Epoch 42: val_accuracy improved from 0.72948 to 0.73014, saving model to checkpoint_path.keras\n",
            "96/96 [==============================] - 4s 46ms/step - loss: 0.4542 - accuracy: 0.8292 - val_loss: 0.5611 - val_accuracy: 0.7301\n",
            "Epoch 43/50\n",
            "96/96 [==============================] - ETA: 0s - loss: 0.4476 - accuracy: 0.8340\n",
            "Epoch 43: val_accuracy improved from 0.73014 to 0.73342, saving model to checkpoint_path.keras\n",
            "96/96 [==============================] - 4s 43ms/step - loss: 0.4476 - accuracy: 0.8340 - val_loss: 0.5588 - val_accuracy: 0.7334\n",
            "Epoch 44/50\n",
            "95/96 [============================>.] - ETA: 0s - loss: 0.4402 - accuracy: 0.8385\n",
            "Epoch 44: val_accuracy did not improve from 0.73342\n",
            "96/96 [==============================] - 3s 34ms/step - loss: 0.4399 - accuracy: 0.8388 - val_loss: 0.5572 - val_accuracy: 0.7177\n",
            "Epoch 45/50\n",
            "96/96 [==============================] - ETA: 0s - loss: 0.4339 - accuracy: 0.8401\n",
            "Epoch 45: val_accuracy did not improve from 0.73342\n",
            "96/96 [==============================] - 3s 36ms/step - loss: 0.4339 - accuracy: 0.8401 - val_loss: 0.5538 - val_accuracy: 0.7249\n",
            "Epoch 46/50\n",
            "95/96 [============================>.] - ETA: 0s - loss: 0.4252 - accuracy: 0.8454\n",
            "Epoch 46: val_accuracy improved from 0.73342 to 0.73736, saving model to checkpoint_path.keras\n",
            "96/96 [==============================] - 5s 55ms/step - loss: 0.4253 - accuracy: 0.8455 - val_loss: 0.5510 - val_accuracy: 0.7374\n",
            "Epoch 47/50\n",
            "96/96 [==============================] - ETA: 0s - loss: 0.4195 - accuracy: 0.8489\n",
            "Epoch 47: val_accuracy did not improve from 0.73736\n",
            "96/96 [==============================] - 4s 38ms/step - loss: 0.4195 - accuracy: 0.8489 - val_loss: 0.5486 - val_accuracy: 0.7374\n",
            "Epoch 48/50\n",
            "95/96 [============================>.] - ETA: 0s - loss: 0.4146 - accuracy: 0.8436\n",
            "Epoch 48: val_accuracy improved from 0.73736 to 0.73802, saving model to checkpoint_path.keras\n",
            "96/96 [==============================] - 3s 34ms/step - loss: 0.4148 - accuracy: 0.8433 - val_loss: 0.5480 - val_accuracy: 0.7380\n",
            "Epoch 49/50\n",
            "96/96 [==============================] - ETA: 0s - loss: 0.4092 - accuracy: 0.8522\n",
            "Epoch 49: val_accuracy improved from 0.73802 to 0.74130, saving model to checkpoint_path.keras\n",
            "96/96 [==============================] - 3s 36ms/step - loss: 0.4092 - accuracy: 0.8522 - val_loss: 0.5444 - val_accuracy: 0.7413\n",
            "Epoch 50/50\n",
            "96/96 [==============================] - ETA: 0s - loss: 0.4042 - accuracy: 0.8527\n",
            "Epoch 50: val_accuracy did not improve from 0.74130\n",
            "96/96 [==============================] - 5s 55ms/step - loss: 0.4042 - accuracy: 0.8527 - val_loss: 0.5445 - val_accuracy: 0.7360\n"
          ]
        }
      ]
    },
    {
      "cell_type": "code",
      "source": [
        "history_dict = history.history\n",
        "history_dict.keys()"
      ],
      "metadata": {
        "outputId": "224dd1c5-d8aa-4a38-fb9e-51279bf24b35",
        "colab": {
          "base_uri": "https://localhost:8080/"
        },
        "id": "Unh3HZTz7Hif"
      },
      "execution_count": 95,
      "outputs": [
        {
          "output_type": "execute_result",
          "data": {
            "text/plain": [
              "dict_keys(['loss', 'accuracy', 'val_loss', 'val_accuracy'])"
            ]
          },
          "metadata": {},
          "execution_count": 95
        }
      ]
    },
    {
      "cell_type": "code",
      "source": [
        "history_dict = history.history\n",
        "loss_values = history_dict[\"loss\"]\n",
        "val_loss_values = history_dict[\"val_loss\"]\n",
        "epochs = range(1, len(loss_values) + 1)\n",
        "plt.plot(epochs, loss_values, \"bo\", label=\"Training loss\")\n",
        "plt.plot(epochs, val_loss_values, \"b\", label=\"Validation loss\")\n",
        "plt.title(\"Training and validation loss\")\n",
        "plt.xlabel(\"Epochs\")\n",
        "plt.ylabel(\"Loss\")\n",
        "plt.legend()\n",
        "plt.show()"
      ],
      "metadata": {
        "outputId": "c951847f-d11c-45c3-f757-ca90b5383005",
        "colab": {
          "base_uri": "https://localhost:8080/",
          "height": 477
        },
        "id": "5i8KDyGV7Hig"
      },
      "execution_count": 96,
      "outputs": [
        {
          "output_type": "display_data",
          "data": {
            "text/plain": [
              "<Figure size 640x480 with 1 Axes>"
            ],
            "image/png": "[encoded data removed]"
          },
          "metadata": {}
        }
      ]
    },
    {
      "cell_type": "code",
      "source": [
        "plt.clf()\n",
        "acc = history_dict[\"accuracy\"]\n",
        "val_acc = history_dict[\"val_accuracy\"]\n",
        "plt.plot(epochs, acc, \"bo\", label=\"Training acc\")\n",
        "plt.plot(epochs, val_acc, \"b\", label=\"Validation acc\")\n",
        "plt.title(\"Training and validation accuracy\")\n",
        "plt.xlabel(\"Epochs\")\n",
        "plt.ylabel(\"Accuracy\")\n",
        "plt.legend()\n",
        "plt.show()"
      ],
      "metadata": {
        "outputId": "ddad0b85-2abf-40aa-e4a6-43fee8012f33",
        "colab": {
          "base_uri": "https://localhost:8080/",
          "height": 477
        },
        "id": "jqZqpMlf7Hig"
      },
      "execution_count": 97,
      "outputs": [
        {
          "output_type": "display_data",
          "data": {
            "text/plain": [
              "<Figure size 640x480 with 1 Axes>"
            ],
            "image/png": "[encoded data removed]"
          },
          "metadata": {}
        }
      ]
    },
    {
      "cell_type": "code",
      "source": [
        "loaded_model = tf.keras.models.load_model('checkpoint_path.keras')\n",
        "predicted = loaded_model.predict(X_train_padded[df_train.shape[0]:])\n",
        "y_predicted = np.where(predicted>0.5,1,0)\n",
        "y_predicted = y_predicted.reshape((1,3263))[0]\n",
        "df_sample['id'] = df_test.id\n",
        "df_sample['target'] = y_predicted\n",
        "df_sample.to_csv('submission.csv',index = False)\n",
        "#리더보드 결과 : 0.71437"
      ],
      "metadata": {
        "outputId": "38845480-3bfd-4418-f25c-d749ec8f3832",
        "colab": {
          "base_uri": "https://localhost:8080/"
        },
        "id": "76KzeqIs7Hig"
      },
      "execution_count": 98,
      "outputs": [
        {
          "output_type": "stream",
          "name": "stdout",
          "text": [
            "102/102 [==============================] - 1s 4ms/step\n"
          ]
        }
      ]
    },
    {
      "cell_type": "markdown",
      "source": [
        "# LSTM"
      ],
      "metadata": {
        "id": "_JYIQpTv9elK"
      }
    },
    {
      "cell_type": "code",
      "source": [],
      "metadata": {
        "id": "rPEKVsfv9ho6"
      },
      "execution_count": null,
      "outputs": []
    },
    {
      "cell_type": "markdown",
      "source": [
        "# GLOVE"
      ],
      "metadata": {
        "id": "GtXo_job9ZkC"
      }
    },
    {
      "cell_type": "code",
      "source": [
        "def create_corpus(df):\n",
        "    corpus=[]\n",
        "    for tweet in tqdm(df['text']):\n",
        "        words=[word.lower() for word in word_tokenize(tweet) if((word.isalpha()==1) & (word not in stop))]\n",
        "        corpus.append(words)\n",
        "    return corpus"
      ],
      "metadata": {
        "id": "ABinmDVqUeFQ"
      },
      "execution_count": null,
      "outputs": []
    },
    {
      "cell_type": "code",
      "source": [
        "corpus=create_corpus(df)"
      ],
      "metadata": {
        "colab": {
          "base_uri": "https://localhost:8080/",
          "height": 345
        },
        "id": "yOqh8ghvU46G",
        "outputId": "6e54b079-dc94-44be-e0a6-2567a44622f6"
      },
      "execution_count": null,
      "outputs": [
        {
          "output_type": "stream",
          "name": "stderr",
          "text": [
            " 73%|███████▎  | 7933/10876 [00:00<00:00, 9413.91it/s]\n"
          ]
        },
        {
          "output_type": "error",
          "ename": "KeyboardInterrupt",
          "evalue": "ignored",
          "traceback": [
            "\u001b[0;31m---------------------------------------------------------------------------\u001b[0m",
            "\u001b[0;31mKeyboardInterrupt\u001b[0m                         Traceback (most recent call last)",
            "\u001b[0;32m<ipython-input-63-04738867199c>\u001b[0m in \u001b[0;36m<cell line: 1>\u001b[0;34m()\u001b[0m\n\u001b[0;32m----> 1\u001b[0;31m \u001b[0mcorpus\u001b[0m\u001b[0;34m=\u001b[0m\u001b[0mcreate_corpus\u001b[0m\u001b[0;34m(\u001b[0m\u001b[0mdf\u001b[0m\u001b[0;34m)\u001b[0m\u001b[0;34m\u001b[0m\u001b[0;34m\u001b[0m\u001b[0m\n\u001b[0m",
            "\u001b[0;32m<ipython-input-62-4b774c8832fb>\u001b[0m in \u001b[0;36mcreate_corpus\u001b[0;34m(df)\u001b[0m\n\u001b[1;32m      2\u001b[0m     \u001b[0mcorpus\u001b[0m\u001b[0;34m=\u001b[0m\u001b[0;34m[\u001b[0m\u001b[0;34m]\u001b[0m\u001b[0;34m\u001b[0m\u001b[0;34m\u001b[0m\u001b[0m\n\u001b[1;32m      3\u001b[0m     \u001b[0;32mfor\u001b[0m \u001b[0mtweet\u001b[0m \u001b[0;32min\u001b[0m \u001b[0mtqdm\u001b[0m\u001b[0;34m(\u001b[0m\u001b[0mdf\u001b[0m\u001b[0;34m[\u001b[0m\u001b[0;34m'text'\u001b[0m\u001b[0;34m]\u001b[0m\u001b[0;34m)\u001b[0m\u001b[0;34m:\u001b[0m\u001b[0;34m\u001b[0m\u001b[0;34m\u001b[0m\u001b[0m\n\u001b[0;32m----> 4\u001b[0;31m         \u001b[0mwords\u001b[0m\u001b[0;34m=\u001b[0m\u001b[0;34m[\u001b[0m\u001b[0mword\u001b[0m\u001b[0;34m.\u001b[0m\u001b[0mlower\u001b[0m\u001b[0;34m(\u001b[0m\u001b[0;34m)\u001b[0m \u001b[0;32mfor\u001b[0m \u001b[0mword\u001b[0m \u001b[0;32min\u001b[0m \u001b[0mword_tokenize\u001b[0m\u001b[0;34m(\u001b[0m\u001b[0mtweet\u001b[0m\u001b[0;34m)\u001b[0m \u001b[0;32mif\u001b[0m\u001b[0;34m(\u001b[0m\u001b[0;34m(\u001b[0m\u001b[0mword\u001b[0m\u001b[0;34m.\u001b[0m\u001b[0misalpha\u001b[0m\u001b[0;34m(\u001b[0m\u001b[0;34m)\u001b[0m\u001b[0;34m==\u001b[0m\u001b[0;36m1\u001b[0m\u001b[0;34m)\u001b[0m \u001b[0;34m&\u001b[0m \u001b[0;34m(\u001b[0m\u001b[0mword\u001b[0m \u001b[0;32mnot\u001b[0m \u001b[0;32min\u001b[0m \u001b[0mstop\u001b[0m\u001b[0;34m)\u001b[0m\u001b[0;34m)\u001b[0m\u001b[0;34m]\u001b[0m\u001b[0;34m\u001b[0m\u001b[0;34m\u001b[0m\u001b[0m\n\u001b[0m\u001b[1;32m      5\u001b[0m         \u001b[0mcorpus\u001b[0m\u001b[0;34m.\u001b[0m\u001b[0mappend\u001b[0m\u001b[0;34m(\u001b[0m\u001b[0mwords\u001b[0m\u001b[0;34m)\u001b[0m\u001b[0;34m\u001b[0m\u001b[0;34m\u001b[0m\u001b[0m\n\u001b[1;32m      6\u001b[0m     \u001b[0;32mreturn\u001b[0m \u001b[0mcorpus\u001b[0m\u001b[0;34m\u001b[0m\u001b[0;34m\u001b[0m\u001b[0m\n",
            "\u001b[0;32m/usr/local/lib/python3.10/dist-packages/nltk/tokenize/__init__.py\u001b[0m in \u001b[0;36mword_tokenize\u001b[0;34m(text, language, preserve_line)\u001b[0m\n\u001b[1;32m    128\u001b[0m     \"\"\"\n\u001b[1;32m    129\u001b[0m     \u001b[0msentences\u001b[0m \u001b[0;34m=\u001b[0m \u001b[0;34m[\u001b[0m\u001b[0mtext\u001b[0m\u001b[0;34m]\u001b[0m \u001b[0;32mif\u001b[0m \u001b[0mpreserve_line\u001b[0m \u001b[0;32melse\u001b[0m \u001b[0msent_tokenize\u001b[0m\u001b[0;34m(\u001b[0m\u001b[0mtext\u001b[0m\u001b[0;34m,\u001b[0m \u001b[0mlanguage\u001b[0m\u001b[0;34m)\u001b[0m\u001b[0;34m\u001b[0m\u001b[0;34m\u001b[0m\u001b[0m\n\u001b[0;32m--> 130\u001b[0;31m     return [\n\u001b[0m\u001b[1;32m    131\u001b[0m         \u001b[0mtoken\u001b[0m \u001b[0;32mfor\u001b[0m \u001b[0msent\u001b[0m \u001b[0;32min\u001b[0m \u001b[0msentences\u001b[0m \u001b[0;32mfor\u001b[0m \u001b[0mtoken\u001b[0m \u001b[0;32min\u001b[0m \u001b[0m_treebank_word_tokenizer\u001b[0m\u001b[0;34m.\u001b[0m\u001b[0mtokenize\u001b[0m\u001b[0;34m(\u001b[0m\u001b[0msent\u001b[0m\u001b[0;34m)\u001b[0m\u001b[0;34m\u001b[0m\u001b[0;34m\u001b[0m\u001b[0m\n\u001b[1;32m    132\u001b[0m     ]\n",
            "\u001b[0;32m/usr/local/lib/python3.10/dist-packages/nltk/tokenize/__init__.py\u001b[0m in \u001b[0;36m<listcomp>\u001b[0;34m(.0)\u001b[0m\n\u001b[1;32m    129\u001b[0m     \u001b[0msentences\u001b[0m \u001b[0;34m=\u001b[0m \u001b[0;34m[\u001b[0m\u001b[0mtext\u001b[0m\u001b[0;34m]\u001b[0m \u001b[0;32mif\u001b[0m \u001b[0mpreserve_line\u001b[0m \u001b[0;32melse\u001b[0m \u001b[0msent_tokenize\u001b[0m\u001b[0;34m(\u001b[0m\u001b[0mtext\u001b[0m\u001b[0;34m,\u001b[0m \u001b[0mlanguage\u001b[0m\u001b[0;34m)\u001b[0m\u001b[0;34m\u001b[0m\u001b[0;34m\u001b[0m\u001b[0m\n\u001b[1;32m    130\u001b[0m     return [\n\u001b[0;32m--> 131\u001b[0;31m         \u001b[0mtoken\u001b[0m \u001b[0;32mfor\u001b[0m \u001b[0msent\u001b[0m \u001b[0;32min\u001b[0m \u001b[0msentences\u001b[0m \u001b[0;32mfor\u001b[0m \u001b[0mtoken\u001b[0m \u001b[0;32min\u001b[0m \u001b[0m_treebank_word_tokenizer\u001b[0m\u001b[0;34m.\u001b[0m\u001b[0mtokenize\u001b[0m\u001b[0;34m(\u001b[0m\u001b[0msent\u001b[0m\u001b[0;34m)\u001b[0m\u001b[0;34m\u001b[0m\u001b[0;34m\u001b[0m\u001b[0m\n\u001b[0m\u001b[1;32m    132\u001b[0m     ]\n",
            "\u001b[0;32m/usr/local/lib/python3.10/dist-packages/nltk/tokenize/destructive.py\u001b[0m in \u001b[0;36mtokenize\u001b[0;34m(self, text, convert_parentheses, return_str)\u001b[0m\n\u001b[1;32m    158\u001b[0m \u001b[0;34m\u001b[0m\u001b[0m\n\u001b[1;32m    159\u001b[0m         \u001b[0;32mfor\u001b[0m \u001b[0mregexp\u001b[0m\u001b[0;34m,\u001b[0m \u001b[0msubstitution\u001b[0m \u001b[0;32min\u001b[0m \u001b[0mself\u001b[0m\u001b[0;34m.\u001b[0m\u001b[0mPUNCTUATION\u001b[0m\u001b[0;34m:\u001b[0m\u001b[0;34m\u001b[0m\u001b[0;34m\u001b[0m\u001b[0m\n\u001b[0;32m--> 160\u001b[0;31m             \u001b[0mtext\u001b[0m \u001b[0;34m=\u001b[0m \u001b[0mregexp\u001b[0m\u001b[0;34m.\u001b[0m\u001b[0msub\u001b[0m\u001b[0;34m(\u001b[0m\u001b[0msubstitution\u001b[0m\u001b[0;34m,\u001b[0m \u001b[0mtext\u001b[0m\u001b[0;34m)\u001b[0m\u001b[0;34m\u001b[0m\u001b[0;34m\u001b[0m\u001b[0m\n\u001b[0m\u001b[1;32m    161\u001b[0m \u001b[0;34m\u001b[0m\u001b[0m\n\u001b[1;32m    162\u001b[0m         \u001b[0;31m# Handles parentheses.\u001b[0m\u001b[0;34m\u001b[0m\u001b[0;34m\u001b[0m\u001b[0m\n",
            "\u001b[0;31mKeyboardInterrupt\u001b[0m: "
          ]
        }
      ]
    },
    {
      "cell_type": "code",
      "source": [
        "from urllib.request import urlretrieve, urlopen\n",
        "import gzip\n",
        "import zipfile\n",
        "\n",
        "#pre-trained word embedding download\n",
        "urlretrieve(\"http://nlp.stanford.edu/data/glove.6B.zip\", filename=\"glove.6B.zip\")\n",
        "zf = zipfile.ZipFile('glove.6B.zip')\n",
        "zf.extractall() \n",
        "zf.close()"
      ],
      "metadata": {
        "id": "v5FQpeyuGB-s"
      },
      "execution_count": null,
      "outputs": []
    },
    {
      "cell_type": "code",
      "source": [
        "embedding_dict = dict()\n",
        "\n",
        "f = open('glove.6B.100d.txt', encoding=\"utf8\")\n",
        "\n",
        "for line in f:\n",
        "    word_vector = line.split()\n",
        "    word = word_vector[0]\n",
        "\n",
        "    #100개의 값을 가지는 array로 변환\n",
        "    word_vector_arr = np.asarray(word_vector[1:], dtype='float32')\n",
        "    embedding_dict[word] = word_vector_arr\n",
        "f.close()\n",
        "\n",
        "print('%s개의 Embedding vector가 있습니다.' % len(embedding_dict))"
      ],
      "metadata": {
        "id": "ueNE__xpGppP"
      },
      "execution_count": null,
      "outputs": []
    },
    {
      "cell_type": "code",
      "source": [
        "embedding_dict['described']\n",
        "#임의의 단어의 임베딩 벡터"
      ],
      "metadata": {
        "id": "HjiFhGE8QRdP"
      },
      "execution_count": null,
      "outputs": []
    },
    {
      "cell_type": "code",
      "source": [
        "print('벡터의 차원 수 :',len(embedding_dict['described']))"
      ],
      "metadata": {
        "id": "MCQKSgUfQs7v"
      },
      "execution_count": null,
      "outputs": []
    },
    {
      "cell_type": "code",
      "source": [
        "MAX_LEN=50\n",
        "tokenizer_obj=Tokenizer()\n",
        "tokenizer_obj.fit_on_texts(corpus)\n",
        "\n",
        "sequences=tokenizer_obj.texts_to_sequences(corpus)\n",
        "\n",
        "tweet_pad=pad_sequences(sequences,maxlen=MAX_LEN,truncating='post',padding='post')"
      ],
      "metadata": {
        "id": "9WaYXIM7VMSm"
      },
      "execution_count": null,
      "outputs": []
    },
    {
      "cell_type": "code",
      "source": [
        "tweet_pad"
      ],
      "metadata": {
        "id": "T-vNy_OrKj1Z"
      },
      "execution_count": null,
      "outputs": []
    },
    {
      "cell_type": "code",
      "source": [
        "word_index=tokenizer_obj.word_index\n",
        "print('Number of unique words:',len(word_index))"
      ],
      "metadata": {
        "id": "qRgAwpWlVPqT"
      },
      "execution_count": null,
      "outputs": []
    },
    {
      "cell_type": "code",
      "source": [
        "num_words=len(word_index)"
      ],
      "metadata": {
        "id": "yZJBPJQlXPXW"
      },
      "execution_count": null,
      "outputs": []
    },
    {
      "cell_type": "code",
      "source": [
        "embedding_matrix = np.zeros((num_words, 100))"
      ],
      "metadata": {
        "id": "ORI44SDXXuE1"
      },
      "execution_count": null,
      "outputs": []
    },
    {
      "cell_type": "code",
      "source": [
        "len(word_index.items())"
      ],
      "metadata": {
        "id": "BThAVlF_j61o"
      },
      "execution_count": null,
      "outputs": []
    },
    {
      "cell_type": "code",
      "source": [
        "for word,i in tqdm(word_index.items()):\n",
        "    if i > num_words:\n",
        "        continue\n",
        "    emb_vec=embedding_dict.get(word)\n",
        "    if emb_vec is not None:\n",
        "        embedding_matrix[i]=emb_vec"
      ],
      "metadata": {
        "id": "lspV0kZybNXo"
      },
      "execution_count": null,
      "outputs": []
    },
    {
      "cell_type": "code",
      "source": [
        "embedding_matrix.shape"
      ],
      "metadata": {
        "id": "WwwjJ67-bhgI"
      },
      "execution_count": null,
      "outputs": []
    },
    {
      "cell_type": "code",
      "source": [
        "tweet_pad[0][0:]"
      ],
      "metadata": {
        "id": "FUYE4calOFaM"
      },
      "execution_count": null,
      "outputs": []
    },
    {
      "cell_type": "code",
      "source": [
        "model=Sequential()\n",
        "\n",
        "output_dim = 100\n",
        "embedding=Embedding(num_words,output_dim,embeddings_initializer=Constant(embedding_matrix),\n",
        "                   input_length=MAX_LEN,trainable=False)\n",
        "\n",
        "model.add(embedding)\n",
        "model.add(SpatialDropout1D(0.2))\n",
        "model.add(LSTM(64))\n",
        "model.add(Dense(1, activation='sigmoid'))\n",
        "\n",
        "optimzer=Adam(learning_rate=1e-5)\n",
        "\n",
        "callbacks_list = [\n",
        "    tf.keras.callbacks.EarlyStopping(\n",
        "        monitor='val_accuracy',                    \n",
        "        patience=5                                 \n",
        "    ),\n",
        "    tf.keras.callbacks.ModelCheckpoint(                \n",
        "        filepath=\"checkpoint_path.keras\",        \n",
        "        monitor='val_accuracy',                          \n",
        "        save_best_only=True,                       \n",
        "        verbose=1                                   \n",
        "    )\n",
        "]\n",
        "\n",
        "model.compile(loss='binary_crossentropy',optimizer=optimzer,metrics=['accuracy'])"
      ],
      "metadata": {
        "id": "SrgvMwsNkK_t"
      },
      "execution_count": null,
      "outputs": []
    },
    {
      "cell_type": "code",
      "source": [
        "model.summary()"
      ],
      "metadata": {
        "id": "8T1Wnr5dlh7K"
      },
      "execution_count": null,
      "outputs": []
    },
    {
      "cell_type": "code",
      "source": [
        "train_data, val_data, train_labels, val_labels = train_test_split(tweet_pad[:df_train.shape[0]], df_train['target'].values, test_size=0.15, random_state=10)\n",
        "\n",
        "print('Shape of train',train_data.shape)\n",
        "print(\"Shape of Validation \",val_data.shape)"
      ],
      "metadata": {
        "id": "lZ2X2bCKn_H2"
      },
      "execution_count": null,
      "outputs": []
    },
    {
      "cell_type": "code",
      "source": [
        "train_history = model.fit(\n",
        "    train_data, train_labels,\n",
        "    validation_data = (val_data, val_labels),\n",
        "    callbacks=callbacks_list,\n",
        "    #validation_split = 0.1,\n",
        "    epochs=30,\n",
        "    batch_size=4\n",
        ")"
      ],
      "metadata": {
        "id": "0j5aWhEKpLVl"
      },
      "execution_count": null,
      "outputs": []
    },
    {
      "cell_type": "code",
      "source": [
        "loaded_model = tf.keras.models.load_model('checkpoint_path.keras')\n",
        "predicted = loaded_model.predict(tweet_pad[df_train.shape[0]:])\n",
        "y_predicted = np.where(predicted>0.5,1,0)\n",
        "y_predicted = y_predicted.reshape((1,3263))[0]\n",
        "df_sample['id'] = df_test.id\n",
        "df_sample['target'] = y_predicted\n",
        "df_sample.to_csv('submission.csv',index = False)\n",
        "#리더보드 결과 : 0.79098"
      ],
      "metadata": {
        "id": "U2T_gXAwQoX8"
      },
      "execution_count": null,
      "outputs": []
    },
    {
      "cell_type": "markdown",
      "source": [
        "# ELMO"
      ],
      "metadata": {
        "id": "Blyv0EwpZB6r"
      }
    },
    {
      "cell_type": "code",
      "source": [
        "pip install tensorflow-hub"
      ],
      "metadata": {
        "id": "RuWtwO9uZIAl",
        "colab": {
          "base_uri": "https://localhost:8080/"
        },
        "outputId": "8141d3a6-7a2b-4191-d761-6fccf6102e74"
      },
      "execution_count": 20,
      "outputs": [
        {
          "output_type": "stream",
          "name": "stdout",
          "text": [
            "Looking in indexes: https://pypi.org/simple, https://us-python.pkg.dev/colab-wheels/public/simple/\n",
            "Requirement already satisfied: tensorflow-hub in /usr/local/lib/python3.10/dist-packages (0.13.0)\n",
            "Requirement already satisfied: numpy>=1.12.0 in /usr/local/lib/python3.10/dist-packages (from tensorflow-hub) (1.22.4)\n",
            "Requirement already satisfied: protobuf>=3.19.6 in /usr/local/lib/python3.10/dist-packages (from tensorflow-hub) (3.20.3)\n"
          ]
        }
      ]
    },
    {
      "cell_type": "code",
      "source": [
        "import tensorflow_hub as hub\n",
        "from keras import backend as K\n",
        "from keras.models import Model\n",
        "from keras.layers import Dense, Lambda, Input"
      ],
      "metadata": {
        "id": "bNTgojJac5qt"
      },
      "execution_count": 35,
      "outputs": []
    },
    {
      "cell_type": "code",
      "source": [
        "elmo = hub.load(\"https://tfhub.dev/google/elmo/2\")\n",
        "# 텐서플로우 허브로부터 ELMo를 다운로드"
      ],
      "metadata": {
        "id": "YDtKhfIQc8Tt"
      },
      "execution_count": 48,
      "outputs": []
    },
    {
      "cell_type": "code",
      "source": [
        "def ELMoEmbedding(x):\n",
        "    return elmo(tf.squeeze(tf.cast(x, tf.string)), as_dict=True, signature=\"default\")[\"default\"]"
      ],
      "metadata": {
        "id": "YYk0WiZye5cW"
      },
      "execution_count": 49,
      "outputs": []
    },
    {
      "cell_type": "code",
      "source": [
        "input_text = Input(shape=(1,), dtype=tf.string)\n",
        "embedding_layer = Lambda(ELMoEmbedding, output_shape=(1024, ))(input_text)\n",
        "hidden_layer = Dense(256, activation='relu')(embedding_layer)\n",
        "output_layer = Dense(1, activation='sigmoid')(hidden_layer)\n",
        "model = Model(inputs=[input_text], outputs=output_layer)\n",
        "model.compile(loss='binary_crossentropy', optimizer='adam', metrics=['accuracy'])"
      ],
      "metadata": {
        "colab": {
          "base_uri": "https://localhost:8080/",
          "height": 0
        },
        "id": "-muDSXF8e9St",
        "outputId": "269d6d5e-0830-462d-ceab-7a6349f78759"
      },
      "execution_count": 50,
      "outputs": [
        {
          "output_type": "error",
          "ename": "TypeError",
          "evalue": "ignored",
          "traceback": [
            "\u001b[0;31m---------------------------------------------------------------------------\u001b[0m",
            "\u001b[0;31mTypeError\u001b[0m                                 Traceback (most recent call last)",
            "\u001b[0;32m<ipython-input-50-308bba51cb1f>\u001b[0m in \u001b[0;36m<cell line: 2>\u001b[0;34m()\u001b[0m\n\u001b[1;32m      1\u001b[0m \u001b[0minput_text\u001b[0m \u001b[0;34m=\u001b[0m \u001b[0mInput\u001b[0m\u001b[0;34m(\u001b[0m\u001b[0mshape\u001b[0m\u001b[0;34m=\u001b[0m\u001b[0;34m(\u001b[0m\u001b[0;36m1\u001b[0m\u001b[0;34m,\u001b[0m\u001b[0;34m)\u001b[0m\u001b[0;34m,\u001b[0m \u001b[0mdtype\u001b[0m\u001b[0;34m=\u001b[0m\u001b[0mtf\u001b[0m\u001b[0;34m.\u001b[0m\u001b[0mstring\u001b[0m\u001b[0;34m)\u001b[0m\u001b[0;34m\u001b[0m\u001b[0;34m\u001b[0m\u001b[0m\n\u001b[0;32m----> 2\u001b[0;31m \u001b[0membedding_layer\u001b[0m \u001b[0;34m=\u001b[0m \u001b[0mLambda\u001b[0m\u001b[0;34m(\u001b[0m\u001b[0mELMoEmbedding\u001b[0m\u001b[0;34m,\u001b[0m \u001b[0moutput_shape\u001b[0m\u001b[0;34m=\u001b[0m\u001b[0;34m(\u001b[0m\u001b[0;36m1024\u001b[0m\u001b[0;34m,\u001b[0m \u001b[0;34m)\u001b[0m\u001b[0;34m)\u001b[0m\u001b[0;34m(\u001b[0m\u001b[0minput_text\u001b[0m\u001b[0;34m)\u001b[0m\u001b[0;34m\u001b[0m\u001b[0;34m\u001b[0m\u001b[0m\n\u001b[0m\u001b[1;32m      3\u001b[0m \u001b[0mhidden_layer\u001b[0m \u001b[0;34m=\u001b[0m \u001b[0mDense\u001b[0m\u001b[0;34m(\u001b[0m\u001b[0;36m256\u001b[0m\u001b[0;34m,\u001b[0m \u001b[0mactivation\u001b[0m\u001b[0;34m=\u001b[0m\u001b[0;34m'relu'\u001b[0m\u001b[0;34m)\u001b[0m\u001b[0;34m(\u001b[0m\u001b[0membedding_layer\u001b[0m\u001b[0;34m)\u001b[0m\u001b[0;34m\u001b[0m\u001b[0;34m\u001b[0m\u001b[0m\n\u001b[1;32m      4\u001b[0m \u001b[0moutput_layer\u001b[0m \u001b[0;34m=\u001b[0m \u001b[0mDense\u001b[0m\u001b[0;34m(\u001b[0m\u001b[0;36m1\u001b[0m\u001b[0;34m,\u001b[0m \u001b[0mactivation\u001b[0m\u001b[0;34m=\u001b[0m\u001b[0;34m'sigmoid'\u001b[0m\u001b[0;34m)\u001b[0m\u001b[0;34m(\u001b[0m\u001b[0mhidden_layer\u001b[0m\u001b[0;34m)\u001b[0m\u001b[0;34m\u001b[0m\u001b[0;34m\u001b[0m\u001b[0m\n\u001b[1;32m      5\u001b[0m \u001b[0mmodel\u001b[0m \u001b[0;34m=\u001b[0m \u001b[0mModel\u001b[0m\u001b[0;34m(\u001b[0m\u001b[0minputs\u001b[0m\u001b[0;34m=\u001b[0m\u001b[0;34m[\u001b[0m\u001b[0minput_text\u001b[0m\u001b[0;34m]\u001b[0m\u001b[0;34m,\u001b[0m \u001b[0moutputs\u001b[0m\u001b[0;34m=\u001b[0m\u001b[0moutput_layer\u001b[0m\u001b[0;34m)\u001b[0m\u001b[0;34m\u001b[0m\u001b[0;34m\u001b[0m\u001b[0m\n",
            "\u001b[0;32m/usr/local/lib/python3.10/dist-packages/keras/utils/traceback_utils.py\u001b[0m in \u001b[0;36merror_handler\u001b[0;34m(*args, **kwargs)\u001b[0m\n\u001b[1;32m     68\u001b[0m             \u001b[0;31m# To get the full stack trace, call:\u001b[0m\u001b[0;34m\u001b[0m\u001b[0;34m\u001b[0m\u001b[0m\n\u001b[1;32m     69\u001b[0m             \u001b[0;31m# `tf.debugging.disable_traceback_filtering()`\u001b[0m\u001b[0;34m\u001b[0m\u001b[0;34m\u001b[0m\u001b[0m\n\u001b[0;32m---> 70\u001b[0;31m             \u001b[0;32mraise\u001b[0m \u001b[0me\u001b[0m\u001b[0;34m.\u001b[0m\u001b[0mwith_traceback\u001b[0m\u001b[0;34m(\u001b[0m\u001b[0mfiltered_tb\u001b[0m\u001b[0;34m)\u001b[0m \u001b[0;32mfrom\u001b[0m \u001b[0;32mNone\u001b[0m\u001b[0;34m\u001b[0m\u001b[0;34m\u001b[0m\u001b[0m\n\u001b[0m\u001b[1;32m     71\u001b[0m         \u001b[0;32mfinally\u001b[0m\u001b[0;34m:\u001b[0m\u001b[0;34m\u001b[0m\u001b[0;34m\u001b[0m\u001b[0m\n\u001b[1;32m     72\u001b[0m             \u001b[0;32mdel\u001b[0m \u001b[0mfiltered_tb\u001b[0m\u001b[0;34m\u001b[0m\u001b[0;34m\u001b[0m\u001b[0m\n",
            "\u001b[0;32m<ipython-input-49-43c94c56e461>\u001b[0m in \u001b[0;36mELMoEmbedding\u001b[0;34m(x)\u001b[0m\n\u001b[1;32m      1\u001b[0m \u001b[0;32mdef\u001b[0m \u001b[0mELMoEmbedding\u001b[0m\u001b[0;34m(\u001b[0m\u001b[0mx\u001b[0m\u001b[0;34m)\u001b[0m\u001b[0;34m:\u001b[0m\u001b[0;34m\u001b[0m\u001b[0;34m\u001b[0m\u001b[0m\n\u001b[0;32m----> 2\u001b[0;31m     \u001b[0;32mreturn\u001b[0m \u001b[0melmo\u001b[0m\u001b[0;34m(\u001b[0m\u001b[0mtf\u001b[0m\u001b[0;34m.\u001b[0m\u001b[0msqueeze\u001b[0m\u001b[0;34m(\u001b[0m\u001b[0mtf\u001b[0m\u001b[0;34m.\u001b[0m\u001b[0mcast\u001b[0m\u001b[0;34m(\u001b[0m\u001b[0mx\u001b[0m\u001b[0;34m,\u001b[0m \u001b[0mtf\u001b[0m\u001b[0;34m.\u001b[0m\u001b[0mstring\u001b[0m\u001b[0;34m)\u001b[0m\u001b[0;34m)\u001b[0m\u001b[0;34m,\u001b[0m \u001b[0mas_dict\u001b[0m\u001b[0;34m=\u001b[0m\u001b[0;32mTrue\u001b[0m\u001b[0;34m,\u001b[0m \u001b[0msignature\u001b[0m\u001b[0;34m=\u001b[0m\u001b[0;34m\"default\"\u001b[0m\u001b[0;34m)\u001b[0m\u001b[0;34m[\u001b[0m\u001b[0;34m\"default\"\u001b[0m\u001b[0;34m]\u001b[0m\u001b[0;34m\u001b[0m\u001b[0;34m\u001b[0m\u001b[0m\n\u001b[0m",
            "\u001b[0;31mTypeError\u001b[0m: Exception encountered when calling layer \"lambda_5\" (type Lambda).\n\n'AutoTrackable' object is not callable\n\nCall arguments received by layer \"lambda_5\" (type Lambda):\n  • inputs=tf.Tensor(shape=(None, 1), dtype=string)\n  • mask=None\n  • training=None"
          ]
        }
      ]
    },
    {
      "cell_type": "code",
      "source": [],
      "metadata": {
        "id": "YbP5t4aJfwrn"
      },
      "execution_count": null,
      "outputs": []
    },
    {
      "cell_type": "code",
      "source": [],
      "metadata": {
        "id": "Pu1vSJJefRHv"
      },
      "execution_count": null,
      "outputs": []
    },
    {
      "cell_type": "code",
      "source": [],
      "metadata": {
        "id": "hJIvxhXifO5p"
      },
      "execution_count": null,
      "outputs": []
    },
    {
      "cell_type": "markdown",
      "source": [
        "# BERT"
      ],
      "metadata": {
        "id": "QsTn9g1b9ac4"
      }
    },
    {
      "cell_type": "code",
      "source": [
        "max_length = max([len(sent.split()) for sent in df_train.text ])\n",
        "print(max_length)"
      ],
      "metadata": {
        "colab": {
          "base_uri": "https://localhost:8080/"
        },
        "id": "jvnYvpV_ifRP",
        "outputId": "c36b4dbd-74bf-418d-9743-77a72dea5e86"
      },
      "execution_count": null,
      "outputs": [
        {
          "output_type": "stream",
          "name": "stdout",
          "text": [
            "31\n"
          ]
        }
      ]
    },
    {
      "cell_type": "code",
      "source": [
        "max_length = max([len(sent.split()) for sent in df_test.text ])\n",
        "print(max_length)"
      ],
      "metadata": {
        "colab": {
          "base_uri": "https://localhost:8080/"
        },
        "id": "xVltvOxMiim2",
        "outputId": "c445fce7-40c4-4230-e9e8-f87ba73142bd"
      },
      "execution_count": null,
      "outputs": [
        {
          "output_type": "stream",
          "name": "stdout",
          "text": [
            "31\n"
          ]
        }
      ]
    },
    {
      "cell_type": "code",
      "source": [
        "!pip install transformers"
      ],
      "metadata": {
        "id": "ZoJP4Vo_r6Yc",
        "outputId": "7c2cfa6f-e6c0-4c05-c6d4-7a71111deab8",
        "colab": {
          "base_uri": "https://localhost:8080/"
        }
      },
      "execution_count": null,
      "outputs": [
        {
          "output_type": "stream",
          "name": "stdout",
          "text": [
            "Looking in indexes: https://pypi.org/simple, https://us-python.pkg.dev/colab-wheels/public/simple/\n",
            "Collecting transformers\n",
            "  Downloading transformers-4.29.2-py3-none-any.whl (7.1 MB)\n",
            "\u001b[2K     \u001b[90m━━━━━━━━━━━━━━━━━━━━━━━━━━━━━━━━━━━━━━━━\u001b[0m \u001b[32m7.1/7.1 MB\u001b[0m \u001b[31m97.1 MB/s\u001b[0m eta \u001b[36m0:00:00\u001b[0m\n",
            "\u001b[?25hRequirement already satisfied: filelock in /usr/local/lib/python3.10/dist-packages (from transformers) (3.12.0)\n",
            "Collecting huggingface-hub<1.0,>=0.14.1 (from transformers)\n",
            "  Downloading huggingface_hub-0.14.1-py3-none-any.whl (224 kB)\n",
            "\u001b[2K     \u001b[90m━━━━━━━━━━━━━━━━━━━━━━━━━━━━━━━━━━━━━━\u001b[0m \u001b[32m224.5/224.5 kB\u001b[0m \u001b[31m28.7 MB/s\u001b[0m eta \u001b[36m0:00:00\u001b[0m\n",
            "\u001b[?25hRequirement already satisfied: numpy>=1.17 in /usr/local/lib/python3.10/dist-packages (from transformers) (1.22.4)\n",
            "Requirement already satisfied: packaging>=20.0 in /usr/local/lib/python3.10/dist-packages (from transformers) (23.1)\n",
            "Requirement already satisfied: pyyaml>=5.1 in /usr/local/lib/python3.10/dist-packages (from transformers) (6.0)\n",
            "Requirement already satisfied: regex!=2019.12.17 in /usr/local/lib/python3.10/dist-packages (from transformers) (2022.10.31)\n",
            "Requirement already satisfied: requests in /usr/local/lib/python3.10/dist-packages (from transformers) (2.27.1)\n",
            "Collecting tokenizers!=0.11.3,<0.14,>=0.11.1 (from transformers)\n",
            "  Downloading tokenizers-0.13.3-cp310-cp310-manylinux_2_17_x86_64.manylinux2014_x86_64.whl (7.8 MB)\n",
            "\u001b[2K     \u001b[90m━━━━━━━━━━━━━━━━━━━━━━━━━━━━━━━━━━━━━━━━\u001b[0m \u001b[32m7.8/7.8 MB\u001b[0m \u001b[31m103.7 MB/s\u001b[0m eta \u001b[36m0:00:00\u001b[0m\n",
            "\u001b[?25hRequirement already satisfied: tqdm>=4.27 in /usr/local/lib/python3.10/dist-packages (from transformers) (4.65.0)\n",
            "Requirement already satisfied: fsspec in /usr/local/lib/python3.10/dist-packages (from huggingface-hub<1.0,>=0.14.1->transformers) (2023.4.0)\n",
            "Requirement already satisfied: typing-extensions>=3.7.4.3 in /usr/local/lib/python3.10/dist-packages (from huggingface-hub<1.0,>=0.14.1->transformers) (4.5.0)\n",
            "Requirement already satisfied: urllib3<1.27,>=1.21.1 in /usr/local/lib/python3.10/dist-packages (from requests->transformers) (1.26.15)\n",
            "Requirement already satisfied: certifi>=2017.4.17 in /usr/local/lib/python3.10/dist-packages (from requests->transformers) (2022.12.7)\n",
            "Requirement already satisfied: charset-normalizer~=2.0.0 in /usr/local/lib/python3.10/dist-packages (from requests->transformers) (2.0.12)\n",
            "Requirement already satisfied: idna<4,>=2.5 in /usr/local/lib/python3.10/dist-packages (from requests->transformers) (3.4)\n",
            "Installing collected packages: tokenizers, huggingface-hub, transformers\n",
            "Successfully installed huggingface-hub-0.14.1 tokenizers-0.13.3 transformers-4.29.2\n"
          ]
        }
      ]
    },
    {
      "cell_type": "code",
      "source": [
        "from transformers import AutoTokenizer, TFBertModel\n",
        "tokenizer = AutoTokenizer.from_pretrained('bert-base-uncased')\n",
        "bert = TFBertModel.from_pretrained('bert-base-uncased')"
      ],
      "metadata": {
        "id": "HnCf0kAgryyx",
        "outputId": "c67a2165-3039-419b-ca74-df3be8ba6a82",
        "colab": {
          "base_uri": "https://localhost:8080/",
          "height": 270,
          "referenced_widgets": [
            "874fd947d9a84cc496d42e585604683e",
            "44bded3eccdc48a689a4c6f33e78ac9e",
            "182db6abdab3486ea500b71a521fbedb",
            "c8722005ba934af0bd2c0cbb1e85c3d3",
            "34c0f85f072c4438ab51625f27eab3fe",
            "c8749aa02683491fa3b8c9a4465eef5a",
            "b3eeec32e687458286be10055d293820",
            "48e32a4d4f6145ed83942299f4c72d4d",
            "c7443b7d71894ac1b261e9fefda98e6a",
            "4bf5c40b1e49428da3c9aa3f10db352f",
            "7203a417564841d0923ad42305117881",
            "5b48cde099f04257b9015e41ed4367db",
            "d8075fe8d5c449a48d670db75c99fb69",
            "d58f0110a8ed4affac7f64a3962a59e6",
            "7aec2409def5428f86e1ed26dd29bf9c",
            "ec1b874be5864eee876ddca2dfc7e90d",
            "e2766c1e7aba4324ad8b51c8ff2909ae",
            "9f7dbdf9f1b14027b94e9a48be7e708f",
            "e6277174d44847bb9e8b1c4483dee5b9",
            "f08c1f41b35f4fa0b08f6de90614c78e",
            "056be94d410b475e8462f8a0d7a4a1b4",
            "339b27cc039f4879b008510f33ba2d74",
            "2adf9f1a751747ada8994f7ac9799aaa",
            "3ec33fed60ce4c419ddbc9389009c637",
            "33272edb2c464c44bbffc73e013b58df",
            "4573959ee2554e708f2e5bda113c5bc0",
            "b66af55995714e35b3c51ac88449f384",
            "0a8109477c244ef79ab648698ebe5930",
            "2a26f66069414fa2a854ea85219486fc",
            "25897e82253740ca9fea9d5ce52b1e7a",
            "160a9402c6064e78a1b9d336d0e40d6b",
            "f92414b93a63439294f415067b8fceff",
            "2f11d7f7a98f45849dca49ef3feb1185",
            "8a49c5c185364a0b8e707282d7df5365",
            "e03cf21c6eec4467ad110876dca7c833",
            "1371251f35804b2ba38bf7be5b41acfa",
            "00b200b597ff4e19ad2cce02662b738f",
            "7aa4668d06234426993c3b38a14bcb55",
            "05aaac5abbc64d6eadad15cb701a1893",
            "003a306008604c0fa4d8382877e818e5",
            "b54371ef1850493d818128cd3415141d",
            "4131ffb1f3674ee8933ccc2f94f2424b",
            "8fb6c4360a76445d873250f01cb5952b",
            "6a9eb863b3a84e1b9fa399a5433d4fd2",
            "3cc95fe730a645be87e41edbf122f4d0",
            "f453ef2e37a14156ac00a1dbcdc784ff",
            "ac29a524356a4e22b6f8a6add1d9dcd5",
            "858bbfc1dda74cecbfdd20f1b8059a08",
            "5555ac26c5c144e7a57082bfa540d0c5",
            "f18bc50e9ae04972911fdef465092cb9",
            "d525d981ab6e4983a6036b8b48e8768a",
            "72c47ea26b5d415db8e628580ed6a188",
            "e20ed1b883194df689ce51a544e5dd00",
            "f36f6cdd70c348ebb0ddc14f56e63e7d",
            "888526ec84a8464197489b57c8cfc515"
          ]
        }
      },
      "execution_count": null,
      "outputs": [
        {
          "output_type": "display_data",
          "data": {
            "text/plain": [
              "Downloading (…)okenizer_config.json:   0%|          | 0.00/28.0 [00:00<?, ?B/s]"
            ],
            "application/vnd.jupyter.widget-view+json": {
              "version_major": 2,
              "version_minor": 0,
              "model_id": "874fd947d9a84cc496d42e585604683e"
            }
          },
          "metadata": {}
        },
        {
          "output_type": "display_data",
          "data": {
            "text/plain": [
              "Downloading (…)lve/main/config.json:   0%|          | 0.00/570 [00:00<?, ?B/s]"
            ],
            "application/vnd.jupyter.widget-view+json": {
              "version_major": 2,
              "version_minor": 0,
              "model_id": "5b48cde099f04257b9015e41ed4367db"
            }
          },
          "metadata": {}
        },
        {
          "output_type": "display_data",
          "data": {
            "text/plain": [
              "Downloading (…)solve/main/vocab.txt:   0%|          | 0.00/232k [00:00<?, ?B/s]"
            ],
            "application/vnd.jupyter.widget-view+json": {
              "version_major": 2,
              "version_minor": 0,
              "model_id": "2adf9f1a751747ada8994f7ac9799aaa"
            }
          },
          "metadata": {}
        },
        {
          "output_type": "display_data",
          "data": {
            "text/plain": [
              "Downloading (…)/main/tokenizer.json:   0%|          | 0.00/466k [00:00<?, ?B/s]"
            ],
            "application/vnd.jupyter.widget-view+json": {
              "version_major": 2,
              "version_minor": 0,
              "model_id": "8a49c5c185364a0b8e707282d7df5365"
            }
          },
          "metadata": {}
        },
        {
          "output_type": "display_data",
          "data": {
            "text/plain": [
              "Downloading tf_model.h5:   0%|          | 0.00/536M [00:00<?, ?B/s]"
            ],
            "application/vnd.jupyter.widget-view+json": {
              "version_major": 2,
              "version_minor": 0,
              "model_id": "3cc95fe730a645be87e41edbf122f4d0"
            }
          },
          "metadata": {}
        },
        {
          "output_type": "stream",
          "name": "stderr",
          "text": [
            "Some layers from the model checkpoint at bert-base-uncased were not used when initializing TFBertModel: ['nsp___cls', 'mlm___cls']\n",
            "- This IS expected if you are initializing TFBertModel from the checkpoint of a model trained on another task or with another architecture (e.g. initializing a BertForSequenceClassification model from a BertForPreTraining model).\n",
            "- This IS NOT expected if you are initializing TFBertModel from the checkpoint of a model that you expect to be exactly identical (initializing a BertForSequenceClassification model from a BertForSequenceClassification model).\n",
            "All the layers of TFBertModel were initialized from the model checkpoint at bert-base-uncased.\n",
            "If your task is similar to the task the model of the checkpoint was trained on, you can already use TFBertModel for predictions without further training.\n"
          ]
        }
      ]
    },
    {
      "cell_type": "code",
      "source": [
        "train_data, val_data, train_labels, val_labels = train_test_split(df_train.text.values, df_train.target.values, test_size=0.2, random_state=10)"
      ],
      "metadata": {
        "id": "ItPpGxy_T9y8"
      },
      "execution_count": null,
      "outputs": []
    },
    {
      "cell_type": "code",
      "source": [
        "train_data = tokenizer(\n",
        "text = train_data.tolist(),\n",
        "    add_special_tokens = True,\n",
        "    max_length = 34,\n",
        "    truncation = True,\n",
        "    padding = True,\n",
        "    return_tensors = 'tf',\n",
        "    return_token_type_ids = False,\n",
        "    return_attention_mask = True,\n",
        "    verbose = True\n",
        "    \n",
        ")"
      ],
      "metadata": {
        "id": "H6rBXI7wiRqg"
      },
      "execution_count": null,
      "outputs": []
    },
    {
      "cell_type": "code",
      "source": [
        "train_data"
      ],
      "metadata": {
        "colab": {
          "base_uri": "https://localhost:8080/"
        },
        "id": "dV8bNxFDjYKi",
        "outputId": "b596c18d-c24a-4d7e-a1c0-58828b45b033"
      },
      "execution_count": null,
      "outputs": [
        {
          "output_type": "execute_result",
          "data": {
            "text/plain": [
              "{'input_ids': <tf.Tensor: shape=(6090, 34), dtype=int32, numpy=\n",
              "array([[  101,  5796,  4328, ...,     0,     0,     0],\n",
              "       [  101,  8026, 14887, ...,     0,     0,     0],\n",
              "       [  101,  3963,  2086, ...,     0,     0,     0],\n",
              "       ...,\n",
              "       [  101,  5043,  2007, ...,     0,     0,     0],\n",
              "       [  101,  2663,  5622, ...,     0,     0,     0],\n",
              "       [  101,  5506,  2314, ...,     0,     0,     0]], dtype=int32)>, 'attention_mask': <tf.Tensor: shape=(6090, 34), dtype=int32, numpy=\n",
              "array([[1, 1, 1, ..., 0, 0, 0],\n",
              "       [1, 1, 1, ..., 0, 0, 0],\n",
              "       [1, 1, 1, ..., 0, 0, 0],\n",
              "       ...,\n",
              "       [1, 1, 1, ..., 0, 0, 0],\n",
              "       [1, 1, 1, ..., 0, 0, 0],\n",
              "       [1, 1, 1, ..., 0, 0, 0]], dtype=int32)>}"
            ]
          },
          "metadata": {},
          "execution_count": 36
        }
      ]
    },
    {
      "cell_type": "code",
      "source": [
        "val_data = tokenizer(\n",
        "text = val_data.tolist(),\n",
        "    add_special_tokens = True,\n",
        "    max_length = 34,\n",
        "    truncation = True,\n",
        "    padding = True,\n",
        "    return_tensors = 'tf',\n",
        "    return_token_type_ids = False,\n",
        "    return_attention_mask = True,\n",
        "    verbose = True\n",
        "    \n",
        ")"
      ],
      "metadata": {
        "id": "tNPeY2I7VaiQ"
      },
      "execution_count": null,
      "outputs": []
    },
    {
      "cell_type": "markdown",
      "source": [
        "##Model"
      ],
      "metadata": {
        "id": "bPr9J2yCisih"
      }
    },
    {
      "cell_type": "code",
      "source": [
        "import tensorflow as tf\n",
        "from tensorflow import keras\n",
        "from tensorflow.keras import layers\n",
        "from tensorflow.keras.optimizers import Adam\n",
        "from tensorflow.keras.callbacks import EarlyStopping\n",
        "from tensorflow.keras.initializers import TruncatedNormal\n",
        "from tensorflow.keras.losses import CategoricalCrossentropy,BinaryCrossentropy\n",
        "from tensorflow.keras.metrics import CategoricalAccuracy,BinaryAccuracy\n",
        "from tensorflow.keras.utils import to_categorical\n",
        "from tensorflow.keras.utils import plot_model"
      ],
      "metadata": {
        "id": "cyoE3br3isa_"
      },
      "execution_count": null,
      "outputs": []
    },
    {
      "cell_type": "code",
      "source": [
        "max_len = 34\n",
        "\n",
        "\n",
        "input_ids = keras.Input(shape = (max_len,), dtype = tf.int32, name = 'input_ids')\n",
        "input_mask = keras.Input(shape = (max_len,), dtype = tf.int32, name = 'input_mask')\n",
        "\n",
        "embeddings = bert([input_ids, input_mask])[1]\n",
        "\n",
        "out = tf.keras.layers.Dropout(0.1)(embeddings)\n",
        "\n",
        "out = Dense(128, activation='relu')(out)\n",
        "out = tf.keras.layers.Dropout(0.1)(out)\n",
        "out = Dense(32,activation = 'relu')(out)\n",
        "\n",
        "y = Dense(1,activation = 'sigmoid')(out)\n",
        "    \n",
        "model = tf.keras.Model(inputs=[input_ids, input_mask], outputs=y)\n",
        "model.layers[2].trainable = True"
      ],
      "metadata": {
        "id": "MK942QLUkISi"
      },
      "execution_count": null,
      "outputs": []
    },
    {
      "cell_type": "code",
      "source": [
        "model.summary()"
      ],
      "metadata": {
        "id": "gvigHui-kRwh"
      },
      "execution_count": null,
      "outputs": []
    },
    {
      "cell_type": "code",
      "source": [
        "train_data['input_ids']"
      ],
      "metadata": {
        "id": "N-n-g8PKmG9O"
      },
      "execution_count": null,
      "outputs": []
    },
    {
      "cell_type": "code",
      "source": [
        "from keras.optimizers import Adam\n",
        "optimizer = Adam(\n",
        "    learning_rate=6e-06, # this learning rate is for bert model , taken from huggingface website \n",
        "    epsilon=1e-08,\n",
        "    decay=0.01,\n",
        "    clipnorm=1.0)\n",
        "loss = BinaryCrossentropy(from_logits = True)\n",
        "metric = BinaryAccuracy('accuracy')\n",
        "\n",
        "\n",
        "model.compile(\n",
        "    optimizer = optimizer,\n",
        "    loss = loss, \n",
        "    metrics = metric)\n",
        "\n",
        "callbacks_list = [\n",
        "    tf.keras.callbacks.EarlyStopping(\n",
        "        monitor='val_accuracy',                    \n",
        "        patience=2                                 \n",
        "    ),\n",
        "    tf.keras.callbacks.ModelCheckpoint(                \n",
        "        filepath=\"checkpoint_path.keras\",        \n",
        "        monitor='val_accuracy',                          \n",
        "        save_best_only=True,                       \n",
        "        verbose=1                                   \n",
        "    )\n",
        "]"
      ],
      "metadata": {
        "id": "5F8X-6wekX3E"
      },
      "execution_count": null,
      "outputs": []
    },
    {
      "cell_type": "code",
      "source": [
        "train_history = model.fit(\n",
        "    x ={'input_ids':train_data['input_ids'],'input_mask':train_data['attention_mask']} ,\n",
        "    y = train_labels,\n",
        "    validation_data = ({'input_ids':val_data['input_ids'],'input_mask':val_data['attention_mask']},val_labels),\n",
        "    callbacks=callbacks_list,\n",
        "    #validation_split = 0.1,\n",
        "    epochs=20,\n",
        "    batch_size=10\n",
        ")"
      ],
      "metadata": {
        "colab": {
          "base_uri": "https://localhost:8080/",
          "height": 247
        },
        "id": "tlFyzInUkS2W",
        "outputId": "1ea218f1-3c04-4bdf-f916-6af0b9afb0f0"
      },
      "execution_count": null,
      "outputs": [
        {
          "output_type": "error",
          "ename": "IndexError",
          "evalue": "ignored",
          "traceback": [
            "\u001b[0;31m---------------------------------------------------------------------------\u001b[0m",
            "\u001b[0;31mIndexError\u001b[0m                                Traceback (most recent call last)",
            "\u001b[0;32m<ipython-input-58-6dd81c5bb0ab>\u001b[0m in \u001b[0;36m<cell line: 1>\u001b[0;34m()\u001b[0m\n\u001b[1;32m      1\u001b[0m train_history = model.fit(\n\u001b[0;32m----> 2\u001b[0;31m     \u001b[0mx\u001b[0m \u001b[0;34m=\u001b[0m\u001b[0;34m{\u001b[0m\u001b[0;34m'input_ids'\u001b[0m\u001b[0;34m:\u001b[0m\u001b[0mtrain_data\u001b[0m\u001b[0;34m[\u001b[0m\u001b[0;34m'input_ids'\u001b[0m\u001b[0;34m]\u001b[0m\u001b[0;34m,\u001b[0m\u001b[0;34m'input_mask'\u001b[0m\u001b[0;34m:\u001b[0m\u001b[0mtrain_data\u001b[0m\u001b[0;34m[\u001b[0m\u001b[0;34m'attention_mask'\u001b[0m\u001b[0;34m]\u001b[0m\u001b[0;34m}\u001b[0m \u001b[0;34m,\u001b[0m\u001b[0;34m\u001b[0m\u001b[0;34m\u001b[0m\u001b[0m\n\u001b[0m\u001b[1;32m      3\u001b[0m     \u001b[0my\u001b[0m \u001b[0;34m=\u001b[0m \u001b[0mtrain_labels\u001b[0m\u001b[0;34m,\u001b[0m\u001b[0;34m\u001b[0m\u001b[0;34m\u001b[0m\u001b[0m\n\u001b[1;32m      4\u001b[0m     \u001b[0mvalidation_data\u001b[0m \u001b[0;34m=\u001b[0m \u001b[0;34m(\u001b[0m\u001b[0;34m{\u001b[0m\u001b[0;34m'input_ids'\u001b[0m\u001b[0;34m:\u001b[0m\u001b[0mval_data\u001b[0m\u001b[0;34m[\u001b[0m\u001b[0;34m'input_ids'\u001b[0m\u001b[0;34m]\u001b[0m\u001b[0;34m,\u001b[0m\u001b[0;34m'input_mask'\u001b[0m\u001b[0;34m:\u001b[0m\u001b[0mval_data\u001b[0m\u001b[0;34m[\u001b[0m\u001b[0;34m'attention_mask'\u001b[0m\u001b[0;34m]\u001b[0m\u001b[0;34m}\u001b[0m\u001b[0;34m,\u001b[0m\u001b[0mval_labels\u001b[0m\u001b[0;34m)\u001b[0m\u001b[0;34m,\u001b[0m\u001b[0;34m\u001b[0m\u001b[0;34m\u001b[0m\u001b[0m\n\u001b[1;32m      5\u001b[0m     \u001b[0mcallbacks\u001b[0m\u001b[0;34m=\u001b[0m\u001b[0mcallbacks_list\u001b[0m\u001b[0;34m,\u001b[0m\u001b[0;34m\u001b[0m\u001b[0;34m\u001b[0m\u001b[0m\n",
            "\u001b[0;31mIndexError\u001b[0m: only integers, slices (`:`), ellipsis (`...`), numpy.newaxis (`None`) and integer or boolean arrays are valid indices"
          ]
        }
      ]
    },
    {
      "cell_type": "code",
      "source": [
        "loaded_model = tf.keras.models.load_model('checkpoint_path.keras', custom_objects={\"TFBertModel\": TFBertModel})"
      ],
      "metadata": {
        "id": "eFeY60bMxDa4"
      },
      "execution_count": null,
      "outputs": []
    },
    {
      "cell_type": "code",
      "source": [
        "x_test = tokenizer(\n",
        "    text=df_test.text.tolist(),\n",
        "    add_special_tokens=True,\n",
        "    max_length=34,\n",
        "    truncation=True,\n",
        "    padding=True, \n",
        "    return_tensors='tf',\n",
        "    return_token_type_ids = False,\n",
        "    return_attention_mask = True,\n",
        "    verbose = True)"
      ],
      "metadata": {
        "id": "kS2bWiTIyD07"
      },
      "execution_count": null,
      "outputs": []
    },
    {
      "cell_type": "code",
      "source": [
        "x_test['attention_mask']"
      ],
      "metadata": {
        "id": "emw0XBARyHVO"
      },
      "execution_count": null,
      "outputs": []
    },
    {
      "cell_type": "code",
      "source": [
        "predicted = loaded_model.predict({'input_ids':x_test['input_ids'],'input_mask':x_test['attention_mask']})"
      ],
      "metadata": {
        "id": "93xTYO0ayJCW"
      },
      "execution_count": null,
      "outputs": []
    },
    {
      "cell_type": "code",
      "source": [
        "y_predicted = np.where(predicted>0.5,1,0)\n",
        "y_predicted = y_predicted.reshape((1,3263))[0]\n",
        "df_sample['id'] = df_test.id\n",
        "df_sample['target'] = y_predicted\n",
        "df_sample.to_csv('submission.csv',index = False)\n",
        "# 리더보드 0.82929"
      ],
      "metadata": {
        "id": "YJRUShIzyg8o"
      },
      "execution_count": null,
      "outputs": []
    },
    {
      "cell_type": "markdown",
      "source": [],
      "metadata": {
        "id": "fcIElItHaJhK"
      }
    },
    {
      "cell_type": "markdown",
      "source": [
        "# BERTweet"
      ],
      "metadata": {
        "id": "FdlVh87AZlYx"
      }
    },
    {
      "cell_type": "code",
      "source": [],
      "metadata": {
        "id": "lAdqwHHMZoPr"
      },
      "execution_count": null,
      "outputs": []
    }
  ],
  "metadata": {
    "colab": {
      "provenance": [],
      "gpuType": "T4",
      "include_colab_link": true
    },
    "kernelspec": {
      "display_name": "Python 3",
      "name": "python3"
    },
    "widgets": {
      "application/vnd.jupyter.widget-state+json": {
        "874fd947d9a84cc496d42e585604683e": {
          "model_module": "@jupyter-widgets/controls",
          "model_name": "HBoxModel",
          "model_module_version": "1.5.0",
          "state": {
            "_dom_classes": [],
            "_model_module": "@jupyter-widgets/controls",
            "_model_module_version": "1.5.0",
            "_model_name": "HBoxModel",
            "_view_count": null,
            "_view_module": "@jupyter-widgets/controls",
            "_view_module_version": "1.5.0",
            "_view_name": "HBoxView",
            "box_style": "",
            "children": [
              "IPY_MODEL_44bded3eccdc48a689a4c6f33e78ac9e",
              "IPY_MODEL_182db6abdab3486ea500b71a521fbedb",
              "IPY_MODEL_c8722005ba934af0bd2c0cbb1e85c3d3"
            ],
            "layout": "IPY_MODEL_34c0f85f072c4438ab51625f27eab3fe"
          }
        },
        "44bded3eccdc48a689a4c6f33e78ac9e": {
          "model_module": "@jupyter-widgets/controls",
          "model_name": "HTMLModel",
          "model_module_version": "1.5.0",
          "state": {
            "_dom_classes": [],
            "_model_module": "@jupyter-widgets/controls",
            "_model_module_version": "1.5.0",
            "_model_name": "HTMLModel",
            "_view_count": null,
            "_view_module": "@jupyter-widgets/controls",
            "_view_module_version": "1.5.0",
            "_view_name": "HTMLView",
            "description": "",
            "description_tooltip": null,
            "layout": "IPY_MODEL_c8749aa02683491fa3b8c9a4465eef5a",
            "placeholder": "​",
            "style": "IPY_MODEL_b3eeec32e687458286be10055d293820",
            "value": "Downloading (…)okenizer_config.json: 100%"
          }
        },
        "182db6abdab3486ea500b71a521fbedb": {
          "model_module": "@jupyter-widgets/controls",
          "model_name": "FloatProgressModel",
          "model_module_version": "1.5.0",
          "state": {
            "_dom_classes": [],
            "_model_module": "@jupyter-widgets/controls",
            "_model_module_version": "1.5.0",
            "_model_name": "FloatProgressModel",
            "_view_count": null,
            "_view_module": "@jupyter-widgets/controls",
            "_view_module_version": "1.5.0",
            "_view_name": "ProgressView",
            "bar_style": "success",
            "description": "",
            "description_tooltip": null,
            "layout": "IPY_MODEL_48e32a4d4f6145ed83942299f4c72d4d",
            "max": 28,
            "min": 0,
            "orientation": "horizontal",
            "style": "IPY_MODEL_c7443b7d71894ac1b261e9fefda98e6a",
            "value": 28
          }
        },
        "c8722005ba934af0bd2c0cbb1e85c3d3": {
          "model_module": "@jupyter-widgets/controls",
          "model_name": "HTMLModel",
          "model_module_version": "1.5.0",
          "state": {
            "_dom_classes": [],
            "_model_module": "@jupyter-widgets/controls",
            "_model_module_version": "1.5.0",
            "_model_name": "HTMLModel",
            "_view_count": null,
            "_view_module": "@jupyter-widgets/controls",
            "_view_module_version": "1.5.0",
            "_view_name": "HTMLView",
            "description": "",
            "description_tooltip": null,
            "layout": "IPY_MODEL_4bf5c40b1e49428da3c9aa3f10db352f",
            "placeholder": "​",
            "style": "IPY_MODEL_7203a417564841d0923ad42305117881",
            "value": " 28.0/28.0 [00:00&lt;00:00, 1.48kB/s]"
          }
        },
        "34c0f85f072c4438ab51625f27eab3fe": {
          "model_module": "@jupyter-widgets/base",
          "model_name": "LayoutModel",
          "model_module_version": "1.2.0",
          "state": {
            "_model_module": "@jupyter-widgets/base",
            "_model_module_version": "1.2.0",
            "_model_name": "LayoutModel",
            "_view_count": null,
            "_view_module": "@jupyter-widgets/base",
            "_view_module_version": "1.2.0",
            "_view_name": "LayoutView",
            "align_content": null,
            "align_items": null,
            "align_self": null,
            "border": null,
            "bottom": null,
            "display": null,
            "flex": null,
            "flex_flow": null,
            "grid_area": null,
            "grid_auto_columns": null,
            "grid_auto_flow": null,
            "grid_auto_rows": null,
            "grid_column": null,
            "grid_gap": null,
            "grid_row": null,
            "grid_template_areas": null,
            "grid_template_columns": null,
            "grid_template_rows": null,
            "height": null,
            "justify_content": null,
            "justify_items": null,
            "left": null,
            "margin": null,
            "max_height": null,
            "max_width": null,
            "min_height": null,
            "min_width": null,
            "object_fit": null,
            "object_position": null,
            "order": null,
            "overflow": null,
            "overflow_x": null,
            "overflow_y": null,
            "padding": null,
            "right": null,
            "top": null,
            "visibility": null,
            "width": null
          }
        },
        "c8749aa02683491fa3b8c9a4465eef5a": {
          "model_module": "@jupyter-widgets/base",
          "model_name": "LayoutModel",
          "model_module_version": "1.2.0",
          "state": {
            "_model_module": "@jupyter-widgets/base",
            "_model_module_version": "1.2.0",
            "_model_name": "LayoutModel",
            "_view_count": null,
            "_view_module": "@jupyter-widgets/base",
            "_view_module_version": "1.2.0",
            "_view_name": "LayoutView",
            "align_content": null,
            "align_items": null,
            "align_self": null,
            "border": null,
            "bottom": null,
            "display": null,
            "flex": null,
            "flex_flow": null,
            "grid_area": null,
            "grid_auto_columns": null,
            "grid_auto_flow": null,
            "grid_auto_rows": null,
            "grid_column": null,
            "grid_gap": null,
            "grid_row": null,
            "grid_template_areas": null,
            "grid_template_columns": null,
            "grid_template_rows": null,
            "height": null,
            "justify_content": null,
            "justify_items": null,
            "left": null,
            "margin": null,
            "max_height": null,
            "max_width": null,
            "min_height": null,
            "min_width": null,
            "object_fit": null,
            "object_position": null,
            "order": null,
            "overflow": null,
            "overflow_x": null,
            "overflow_y": null,
            "padding": null,
            "right": null,
            "top": null,
            "visibility": null,
            "width": null
          }
        },
        "b3eeec32e687458286be10055d293820": {
          "model_module": "@jupyter-widgets/controls",
          "model_name": "DescriptionStyleModel",
          "model_module_version": "1.5.0",
          "state": {
            "_model_module": "@jupyter-widgets/controls",
            "_model_module_version": "1.5.0",
            "_model_name": "DescriptionStyleModel",
            "_view_count": null,
            "_view_module": "@jupyter-widgets/base",
            "_view_module_version": "1.2.0",
            "_view_name": "StyleView",
            "description_width": ""
          }
        },
        "48e32a4d4f6145ed83942299f4c72d4d": {
          "model_module": "@jupyter-widgets/base",
          "model_name": "LayoutModel",
          "model_module_version": "1.2.0",
          "state": {
            "_model_module": "@jupyter-widgets/base",
            "_model_module_version": "1.2.0",
            "_model_name": "LayoutModel",
            "_view_count": null,
            "_view_module": "@jupyter-widgets/base",
            "_view_module_version": "1.2.0",
            "_view_name": "LayoutView",
            "align_content": null,
            "align_items": null,
            "align_self": null,
            "border": null,
            "bottom": null,
            "display": null,
            "flex": null,
            "flex_flow": null,
            "grid_area": null,
            "grid_auto_columns": null,
            "grid_auto_flow": null,
            "grid_auto_rows": null,
            "grid_column": null,
            "grid_gap": null,
            "grid_row": null,
            "grid_template_areas": null,
            "grid_template_columns": null,
            "grid_template_rows": null,
            "height": null,
            "justify_content": null,
            "justify_items": null,
            "left": null,
            "margin": null,
            "max_height": null,
            "max_width": null,
            "min_height": null,
            "min_width": null,
            "object_fit": null,
            "object_position": null,
            "order": null,
            "overflow": null,
            "overflow_x": null,
            "overflow_y": null,
            "padding": null,
            "right": null,
            "top": null,
            "visibility": null,
            "width": null
          }
        },
        "c7443b7d71894ac1b261e9fefda98e6a": {
          "model_module": "@jupyter-widgets/controls",
          "model_name": "ProgressStyleModel",
          "model_module_version": "1.5.0",
          "state": {
            "_model_module": "@jupyter-widgets/controls",
            "_model_module_version": "1.5.0",
            "_model_name": "ProgressStyleModel",
            "_view_count": null,
            "_view_module": "@jupyter-widgets/base",
            "_view_module_version": "1.2.0",
            "_view_name": "StyleView",
            "bar_color": null,
            "description_width": ""
          }
        },
        "4bf5c40b1e49428da3c9aa3f10db352f": {
          "model_module": "@jupyter-widgets/base",
          "model_name": "LayoutModel",
          "model_module_version": "1.2.0",
          "state": {
            "_model_module": "@jupyter-widgets/base",
            "_model_module_version": "1.2.0",
            "_model_name": "LayoutModel",
            "_view_count": null,
            "_view_module": "@jupyter-widgets/base",
            "_view_module_version": "1.2.0",
            "_view_name": "LayoutView",
            "align_content": null,
            "align_items": null,
            "align_self": null,
            "border": null,
            "bottom": null,
            "display": null,
            "flex": null,
            "flex_flow": null,
            "grid_area": null,
            "grid_auto_columns": null,
            "grid_auto_flow": null,
            "grid_auto_rows": null,
            "grid_column": null,
            "grid_gap": null,
            "grid_row": null,
            "grid_template_areas": null,
            "grid_template_columns": null,
            "grid_template_rows": null,
            "height": null,
            "justify_content": null,
            "justify_items": null,
            "left": null,
            "margin": null,
            "max_height": null,
            "max_width": null,
            "min_height": null,
            "min_width": null,
            "object_fit": null,
            "object_position": null,
            "order": null,
            "overflow": null,
            "overflow_x": null,
            "overflow_y": null,
            "padding": null,
            "right": null,
            "top": null,
            "visibility": null,
            "width": null
          }
        },
        "7203a417564841d0923ad42305117881": {
          "model_module": "@jupyter-widgets/controls",
          "model_name": "DescriptionStyleModel",
          "model_module_version": "1.5.0",
          "state": {
            "_model_module": "@jupyter-widgets/controls",
            "_model_module_version": "1.5.0",
            "_model_name": "DescriptionStyleModel",
            "_view_count": null,
            "_view_module": "@jupyter-widgets/base",
            "_view_module_version": "1.2.0",
            "_view_name": "StyleView",
            "description_width": ""
          }
        },
        "5b48cde099f04257b9015e41ed4367db": {
          "model_module": "@jupyter-widgets/controls",
          "model_name": "HBoxModel",
          "model_module_version": "1.5.0",
          "state": {
            "_dom_classes": [],
            "_model_module": "@jupyter-widgets/controls",
            "_model_module_version": "1.5.0",
            "_model_name": "HBoxModel",
            "_view_count": null,
            "_view_module": "@jupyter-widgets/controls",
            "_view_module_version": "1.5.0",
            "_view_name": "HBoxView",
            "box_style": "",
            "children": [
              "IPY_MODEL_d8075fe8d5c449a48d670db75c99fb69",
              "IPY_MODEL_d58f0110a8ed4affac7f64a3962a59e6",
              "IPY_MODEL_7aec2409def5428f86e1ed26dd29bf9c"
            ],
            "layout": "IPY_MODEL_ec1b874be5864eee876ddca2dfc7e90d"
          }
        },
        "d8075fe8d5c449a48d670db75c99fb69": {
          "model_module": "@jupyter-widgets/controls",
          "model_name": "HTMLModel",
          "model_module_version": "1.5.0",
          "state": {
            "_dom_classes": [],
            "_model_module": "@jupyter-widgets/controls",
            "_model_module_version": "1.5.0",
            "_model_name": "HTMLModel",
            "_view_count": null,
            "_view_module": "@jupyter-widgets/controls",
            "_view_module_version": "1.5.0",
            "_view_name": "HTMLView",
            "description": "",
            "description_tooltip": null,
            "layout": "IPY_MODEL_e2766c1e7aba4324ad8b51c8ff2909ae",
            "placeholder": "​",
            "style": "IPY_MODEL_9f7dbdf9f1b14027b94e9a48be7e708f",
            "value": "Downloading (…)lve/main/config.json: 100%"
          }
        },
        "d58f0110a8ed4affac7f64a3962a59e6": {
          "model_module": "@jupyter-widgets/controls",
          "model_name": "FloatProgressModel",
          "model_module_version": "1.5.0",
          "state": {
            "_dom_classes": [],
            "_model_module": "@jupyter-widgets/controls",
            "_model_module_version": "1.5.0",
            "_model_name": "FloatProgressModel",
            "_view_count": null,
            "_view_module": "@jupyter-widgets/controls",
            "_view_module_version": "1.5.0",
            "_view_name": "ProgressView",
            "bar_style": "success",
            "description": "",
            "description_tooltip": null,
            "layout": "IPY_MODEL_e6277174d44847bb9e8b1c4483dee5b9",
            "max": 570,
            "min": 0,
            "orientation": "horizontal",
            "style": "IPY_MODEL_f08c1f41b35f4fa0b08f6de90614c78e",
            "value": 570
          }
        },
        "7aec2409def5428f86e1ed26dd29bf9c": {
          "model_module": "@jupyter-widgets/controls",
          "model_name": "HTMLModel",
          "model_module_version": "1.5.0",
          "state": {
            "_dom_classes": [],
            "_model_module": "@jupyter-widgets/controls",
            "_model_module_version": "1.5.0",
            "_model_name": "HTMLModel",
            "_view_count": null,
            "_view_module": "@jupyter-widgets/controls",
            "_view_module_version": "1.5.0",
            "_view_name": "HTMLView",
            "description": "",
            "description_tooltip": null,
            "layout": "IPY_MODEL_056be94d410b475e8462f8a0d7a4a1b4",
            "placeholder": "​",
            "style": "IPY_MODEL_339b27cc039f4879b008510f33ba2d74",
            "value": " 570/570 [00:00&lt;00:00, 33.9kB/s]"
          }
        },
        "ec1b874be5864eee876ddca2dfc7e90d": {
          "model_module": "@jupyter-widgets/base",
          "model_name": "LayoutModel",
          "model_module_version": "1.2.0",
          "state": {
            "_model_module": "@jupyter-widgets/base",
            "_model_module_version": "1.2.0",
            "_model_name": "LayoutModel",
            "_view_count": null,
            "_view_module": "@jupyter-widgets/base",
            "_view_module_version": "1.2.0",
            "_view_name": "LayoutView",
            "align_content": null,
            "align_items": null,
            "align_self": null,
            "border": null,
            "bottom": null,
            "display": null,
            "flex": null,
            "flex_flow": null,
            "grid_area": null,
            "grid_auto_columns": null,
            "grid_auto_flow": null,
            "grid_auto_rows": null,
            "grid_column": null,
            "grid_gap": null,
            "grid_row": null,
            "grid_template_areas": null,
            "grid_template_columns": null,
            "grid_template_rows": null,
            "height": null,
            "justify_content": null,
            "justify_items": null,
            "left": null,
            "margin": null,
            "max_height": null,
            "max_width": null,
            "min_height": null,
            "min_width": null,
            "object_fit": null,
            "object_position": null,
            "order": null,
            "overflow": null,
            "overflow_x": null,
            "overflow_y": null,
            "padding": null,
            "right": null,
            "top": null,
            "visibility": null,
            "width": null
          }
        },
        "e2766c1e7aba4324ad8b51c8ff2909ae": {
          "model_module": "@jupyter-widgets/base",
          "model_name": "LayoutModel",
          "model_module_version": "1.2.0",
          "state": {
            "_model_module": "@jupyter-widgets/base",
            "_model_module_version": "1.2.0",
            "_model_name": "LayoutModel",
            "_view_count": null,
            "_view_module": "@jupyter-widgets/base",
            "_view_module_version": "1.2.0",
            "_view_name": "LayoutView",
            "align_content": null,
            "align_items": null,
            "align_self": null,
            "border": null,
            "bottom": null,
            "display": null,
            "flex": null,
            "flex_flow": null,
            "grid_area": null,
            "grid_auto_columns": null,
            "grid_auto_flow": null,
            "grid_auto_rows": null,
            "grid_column": null,
            "grid_gap": null,
            "grid_row": null,
            "grid_template_areas": null,
            "grid_template_columns": null,
            "grid_template_rows": null,
            "height": null,
            "justify_content": null,
            "justify_items": null,
            "left": null,
            "margin": null,
            "max_height": null,
            "max_width": null,
            "min_height": null,
            "min_width": null,
            "object_fit": null,
            "object_position": null,
            "order": null,
            "overflow": null,
            "overflow_x": null,
            "overflow_y": null,
            "padding": null,
            "right": null,
            "top": null,
            "visibility": null,
            "width": null
          }
        },
        "9f7dbdf9f1b14027b94e9a48be7e708f": {
          "model_module": "@jupyter-widgets/controls",
          "model_name": "DescriptionStyleModel",
          "model_module_version": "1.5.0",
          "state": {
            "_model_module": "@jupyter-widgets/controls",
            "_model_module_version": "1.5.0",
            "_model_name": "DescriptionStyleModel",
            "_view_count": null,
            "_view_module": "@jupyter-widgets/base",
            "_view_module_version": "1.2.0",
            "_view_name": "StyleView",
            "description_width": ""
          }
        },
        "e6277174d44847bb9e8b1c4483dee5b9": {
          "model_module": "@jupyter-widgets/base",
          "model_name": "LayoutModel",
          "model_module_version": "1.2.0",
          "state": {
            "_model_module": "@jupyter-widgets/base",
            "_model_module_version": "1.2.0",
            "_model_name": "LayoutModel",
            "_view_count": null,
            "_view_module": "@jupyter-widgets/base",
            "_view_module_version": "1.2.0",
            "_view_name": "LayoutView",
            "align_content": null,
            "align_items": null,
            "align_self": null,
            "border": null,
            "bottom": null,
            "display": null,
            "flex": null,
            "flex_flow": null,
            "grid_area": null,
            "grid_auto_columns": null,
            "grid_auto_flow": null,
            "grid_auto_rows": null,
            "grid_column": null,
            "grid_gap": null,
            "grid_row": null,
            "grid_template_areas": null,
            "grid_template_columns": null,
            "grid_template_rows": null,
            "height": null,
            "justify_content": null,
            "justify_items": null,
            "left": null,
            "margin": null,
            "max_height": null,
            "max_width": null,
            "min_height": null,
            "min_width": null,
            "object_fit": null,
            "object_position": null,
            "order": null,
            "overflow": null,
            "overflow_x": null,
            "overflow_y": null,
            "padding": null,
            "right": null,
            "top": null,
            "visibility": null,
            "width": null
          }
        },
        "f08c1f41b35f4fa0b08f6de90614c78e": {
          "model_module": "@jupyter-widgets/controls",
          "model_name": "ProgressStyleModel",
          "model_module_version": "1.5.0",
          "state": {
            "_model_module": "@jupyter-widgets/controls",
            "_model_module_version": "1.5.0",
            "_model_name": "ProgressStyleModel",
            "_view_count": null,
            "_view_module": "@jupyter-widgets/base",
            "_view_module_version": "1.2.0",
            "_view_name": "StyleView",
            "bar_color": null,
            "description_width": ""
          }
        },
        "056be94d410b475e8462f8a0d7a4a1b4": {
          "model_module": "@jupyter-widgets/base",
          "model_name": "LayoutModel",
          "model_module_version": "1.2.0",
          "state": {
            "_model_module": "@jupyter-widgets/base",
            "_model_module_version": "1.2.0",
            "_model_name": "LayoutModel",
            "_view_count": null,
            "_view_module": "@jupyter-widgets/base",
            "_view_module_version": "1.2.0",
            "_view_name": "LayoutView",
            "align_content": null,
            "align_items": null,
            "align_self": null,
            "border": null,
            "bottom": null,
            "display": null,
            "flex": null,
            "flex_flow": null,
            "grid_area": null,
            "grid_auto_columns": null,
            "grid_auto_flow": null,
            "grid_auto_rows": null,
            "grid_column": null,
            "grid_gap": null,
            "grid_row": null,
            "grid_template_areas": null,
            "grid_template_columns": null,
            "grid_template_rows": null,
            "height": null,
            "justify_content": null,
            "justify_items": null,
            "left": null,
            "margin": null,
            "max_height": null,
            "max_width": null,
            "min_height": null,
            "min_width": null,
            "object_fit": null,
            "object_position": null,
            "order": null,
            "overflow": null,
            "overflow_x": null,
            "overflow_y": null,
            "padding": null,
            "right": null,
            "top": null,
            "visibility": null,
            "width": null
          }
        },
        "339b27cc039f4879b008510f33ba2d74": {
          "model_module": "@jupyter-widgets/controls",
          "model_name": "DescriptionStyleModel",
          "model_module_version": "1.5.0",
          "state": {
            "_model_module": "@jupyter-widgets/controls",
            "_model_module_version": "1.5.0",
            "_model_name": "DescriptionStyleModel",
            "_view_count": null,
            "_view_module": "@jupyter-widgets/base",
            "_view_module_version": "1.2.0",
            "_view_name": "StyleView",
            "description_width": ""
          }
        },
        "2adf9f1a751747ada8994f7ac9799aaa": {
          "model_module": "@jupyter-widgets/controls",
          "model_name": "HBoxModel",
          "model_module_version": "1.5.0",
          "state": {
            "_dom_classes": [],
            "_model_module": "@jupyter-widgets/controls",
            "_model_module_version": "1.5.0",
            "_model_name": "HBoxModel",
            "_view_count": null,
            "_view_module": "@jupyter-widgets/controls",
            "_view_module_version": "1.5.0",
            "_view_name": "HBoxView",
            "box_style": "",
            "children": [
              "IPY_MODEL_3ec33fed60ce4c419ddbc9389009c637",
              "IPY_MODEL_33272edb2c464c44bbffc73e013b58df",
              "IPY_MODEL_4573959ee2554e708f2e5bda113c5bc0"
            ],
            "layout": "IPY_MODEL_b66af55995714e35b3c51ac88449f384"
          }
        },
        "3ec33fed60ce4c419ddbc9389009c637": {
          "model_module": "@jupyter-widgets/controls",
          "model_name": "HTMLModel",
          "model_module_version": "1.5.0",
          "state": {
            "_dom_classes": [],
            "_model_module": "@jupyter-widgets/controls",
            "_model_module_version": "1.5.0",
            "_model_name": "HTMLModel",
            "_view_count": null,
            "_view_module": "@jupyter-widgets/controls",
            "_view_module_version": "1.5.0",
            "_view_name": "HTMLView",
            "description": "",
            "description_tooltip": null,
            "layout": "IPY_MODEL_0a8109477c244ef79ab648698ebe5930",
            "placeholder": "​",
            "style": "IPY_MODEL_2a26f66069414fa2a854ea85219486fc",
            "value": "Downloading (…)solve/main/vocab.txt: 100%"
          }
        },
        "33272edb2c464c44bbffc73e013b58df": {
          "model_module": "@jupyter-widgets/controls",
          "model_name": "FloatProgressModel",
          "model_module_version": "1.5.0",
          "state": {
            "_dom_classes": [],
            "_model_module": "@jupyter-widgets/controls",
            "_model_module_version": "1.5.0",
            "_model_name": "FloatProgressModel",
            "_view_count": null,
            "_view_module": "@jupyter-widgets/controls",
            "_view_module_version": "1.5.0",
            "_view_name": "ProgressView",
            "bar_style": "success",
            "description": "",
            "description_tooltip": null,
            "layout": "IPY_MODEL_25897e82253740ca9fea9d5ce52b1e7a",
            "max": 231508,
            "min": 0,
            "orientation": "horizontal",
            "style": "IPY_MODEL_160a9402c6064e78a1b9d336d0e40d6b",
            "value": 231508
          }
        },
        "4573959ee2554e708f2e5bda113c5bc0": {
          "model_module": "@jupyter-widgets/controls",
          "model_name": "HTMLModel",
          "model_module_version": "1.5.0",
          "state": {
            "_dom_classes": [],
            "_model_module": "@jupyter-widgets/controls",
            "_model_module_version": "1.5.0",
            "_model_name": "HTMLModel",
            "_view_count": null,
            "_view_module": "@jupyter-widgets/controls",
            "_view_module_version": "1.5.0",
            "_view_name": "HTMLView",
            "description": "",
            "description_tooltip": null,
            "layout": "IPY_MODEL_f92414b93a63439294f415067b8fceff",
            "placeholder": "​",
            "style": "IPY_MODEL_2f11d7f7a98f45849dca49ef3feb1185",
            "value": " 232k/232k [00:00&lt;00:00, 6.77MB/s]"
          }
        },
        "b66af55995714e35b3c51ac88449f384": {
          "model_module": "@jupyter-widgets/base",
          "model_name": "LayoutModel",
          "model_module_version": "1.2.0",
          "state": {
            "_model_module": "@jupyter-widgets/base",
            "_model_module_version": "1.2.0",
            "_model_name": "LayoutModel",
            "_view_count": null,
            "_view_module": "@jupyter-widgets/base",
            "_view_module_version": "1.2.0",
            "_view_name": "LayoutView",
            "align_content": null,
            "align_items": null,
            "align_self": null,
            "border": null,
            "bottom": null,
            "display": null,
            "flex": null,
            "flex_flow": null,
            "grid_area": null,
            "grid_auto_columns": null,
            "grid_auto_flow": null,
            "grid_auto_rows": null,
            "grid_column": null,
            "grid_gap": null,
            "grid_row": null,
            "grid_template_areas": null,
            "grid_template_columns": null,
            "grid_template_rows": null,
            "height": null,
            "justify_content": null,
            "justify_items": null,
            "left": null,
            "margin": null,
            "max_height": null,
            "max_width": null,
            "min_height": null,
            "min_width": null,
            "object_fit": null,
            "object_position": null,
            "order": null,
            "overflow": null,
            "overflow_x": null,
            "overflow_y": null,
            "padding": null,
            "right": null,
            "top": null,
            "visibility": null,
            "width": null
          }
        },
        "0a8109477c244ef79ab648698ebe5930": {
          "model_module": "@jupyter-widgets/base",
          "model_name": "LayoutModel",
          "model_module_version": "1.2.0",
          "state": {
            "_model_module": "@jupyter-widgets/base",
            "_model_module_version": "1.2.0",
            "_model_name": "LayoutModel",
            "_view_count": null,
            "_view_module": "@jupyter-widgets/base",
            "_view_module_version": "1.2.0",
            "_view_name": "LayoutView",
            "align_content": null,
            "align_items": null,
            "align_self": null,
            "border": null,
            "bottom": null,
            "display": null,
            "flex": null,
            "flex_flow": null,
            "grid_area": null,
            "grid_auto_columns": null,
            "grid_auto_flow": null,
            "grid_auto_rows": null,
            "grid_column": null,
            "grid_gap": null,
            "grid_row": null,
            "grid_template_areas": null,
            "grid_template_columns": null,
            "grid_template_rows": null,
            "height": null,
            "justify_content": null,
            "justify_items": null,
            "left": null,
            "margin": null,
            "max_height": null,
            "max_width": null,
            "min_height": null,
            "min_width": null,
            "object_fit": null,
            "object_position": null,
            "order": null,
            "overflow": null,
            "overflow_x": null,
            "overflow_y": null,
            "padding": null,
            "right": null,
            "top": null,
            "visibility": null,
            "width": null
          }
        },
        "2a26f66069414fa2a854ea85219486fc": {
          "model_module": "@jupyter-widgets/controls",
          "model_name": "DescriptionStyleModel",
          "model_module_version": "1.5.0",
          "state": {
            "_model_module": "@jupyter-widgets/controls",
            "_model_module_version": "1.5.0",
            "_model_name": "DescriptionStyleModel",
            "_view_count": null,
            "_view_module": "@jupyter-widgets/base",
            "_view_module_version": "1.2.0",
            "_view_name": "StyleView",
            "description_width": ""
          }
        },
        "25897e82253740ca9fea9d5ce52b1e7a": {
          "model_module": "@jupyter-widgets/base",
          "model_name": "LayoutModel",
          "model_module_version": "1.2.0",
          "state": {
            "_model_module": "@jupyter-widgets/base",
            "_model_module_version": "1.2.0",
            "_model_name": "LayoutModel",
            "_view_count": null,
            "_view_module": "@jupyter-widgets/base",
            "_view_module_version": "1.2.0",
            "_view_name": "LayoutView",
            "align_content": null,
            "align_items": null,
            "align_self": null,
            "border": null,
            "bottom": null,
            "display": null,
            "flex": null,
            "flex_flow": null,
            "grid_area": null,
            "grid_auto_columns": null,
            "grid_auto_flow": null,
            "grid_auto_rows": null,
            "grid_column": null,
            "grid_gap": null,
            "grid_row": null,
            "grid_template_areas": null,
            "grid_template_columns": null,
            "grid_template_rows": null,
            "height": null,
            "justify_content": null,
            "justify_items": null,
            "left": null,
            "margin": null,
            "max_height": null,
            "max_width": null,
            "min_height": null,
            "min_width": null,
            "object_fit": null,
            "object_position": null,
            "order": null,
            "overflow": null,
            "overflow_x": null,
            "overflow_y": null,
            "padding": null,
            "right": null,
            "top": null,
            "visibility": null,
            "width": null
          }
        },
        "160a9402c6064e78a1b9d336d0e40d6b": {
          "model_module": "@jupyter-widgets/controls",
          "model_name": "ProgressStyleModel",
          "model_module_version": "1.5.0",
          "state": {
            "_model_module": "@jupyter-widgets/controls",
            "_model_module_version": "1.5.0",
            "_model_name": "ProgressStyleModel",
            "_view_count": null,
            "_view_module": "@jupyter-widgets/base",
            "_view_module_version": "1.2.0",
            "_view_name": "StyleView",
            "bar_color": null,
            "description_width": ""
          }
        },
        "f92414b93a63439294f415067b8fceff": {
          "model_module": "@jupyter-widgets/base",
          "model_name": "LayoutModel",
          "model_module_version": "1.2.0",
          "state": {
            "_model_module": "@jupyter-widgets/base",
            "_model_module_version": "1.2.0",
            "_model_name": "LayoutModel",
            "_view_count": null,
            "_view_module": "@jupyter-widgets/base",
            "_view_module_version": "1.2.0",
            "_view_name": "LayoutView",
            "align_content": null,
            "align_items": null,
            "align_self": null,
            "border": null,
            "bottom": null,
            "display": null,
            "flex": null,
            "flex_flow": null,
            "grid_area": null,
            "grid_auto_columns": null,
            "grid_auto_flow": null,
            "grid_auto_rows": null,
            "grid_column": null,
            "grid_gap": null,
            "grid_row": null,
            "grid_template_areas": null,
            "grid_template_columns": null,
            "grid_template_rows": null,
            "height": null,
            "justify_content": null,
            "justify_items": null,
            "left": null,
            "margin": null,
            "max_height": null,
            "max_width": null,
            "min_height": null,
            "min_width": null,
            "object_fit": null,
            "object_position": null,
            "order": null,
            "overflow": null,
            "overflow_x": null,
            "overflow_y": null,
            "padding": null,
            "right": null,
            "top": null,
            "visibility": null,
            "width": null
          }
        },
        "2f11d7f7a98f45849dca49ef3feb1185": {
          "model_module": "@jupyter-widgets/controls",
          "model_name": "DescriptionStyleModel",
          "model_module_version": "1.5.0",
          "state": {
            "_model_module": "@jupyter-widgets/controls",
            "_model_module_version": "1.5.0",
            "_model_name": "DescriptionStyleModel",
            "_view_count": null,
            "_view_module": "@jupyter-widgets/base",
            "_view_module_version": "1.2.0",
            "_view_name": "StyleView",
            "description_width": ""
          }
        },
        "8a49c5c185364a0b8e707282d7df5365": {
          "model_module": "@jupyter-widgets/controls",
          "model_name": "HBoxModel",
          "model_module_version": "1.5.0",
          "state": {
            "_dom_classes": [],
            "_model_module": "@jupyter-widgets/controls",
            "_model_module_version": "1.5.0",
            "_model_name": "HBoxModel",
            "_view_count": null,
            "_view_module": "@jupyter-widgets/controls",
            "_view_module_version": "1.5.0",
            "_view_name": "HBoxView",
            "box_style": "",
            "children": [
              "IPY_MODEL_e03cf21c6eec4467ad110876dca7c833",
              "IPY_MODEL_1371251f35804b2ba38bf7be5b41acfa",
              "IPY_MODEL_00b200b597ff4e19ad2cce02662b738f"
            ],
            "layout": "IPY_MODEL_7aa4668d06234426993c3b38a14bcb55"
          }
        },
        "e03cf21c6eec4467ad110876dca7c833": {
          "model_module": "@jupyter-widgets/controls",
          "model_name": "HTMLModel",
          "model_module_version": "1.5.0",
          "state": {
            "_dom_classes": [],
            "_model_module": "@jupyter-widgets/controls",
            "_model_module_version": "1.5.0",
            "_model_name": "HTMLModel",
            "_view_count": null,
            "_view_module": "@jupyter-widgets/controls",
            "_view_module_version": "1.5.0",
            "_view_name": "HTMLView",
            "description": "",
            "description_tooltip": null,
            "layout": "IPY_MODEL_05aaac5abbc64d6eadad15cb701a1893",
            "placeholder": "​",
            "style": "IPY_MODEL_003a306008604c0fa4d8382877e818e5",
            "value": "Downloading (…)/main/tokenizer.json: 100%"
          }
        },
        "1371251f35804b2ba38bf7be5b41acfa": {
          "model_module": "@jupyter-widgets/controls",
          "model_name": "FloatProgressModel",
          "model_module_version": "1.5.0",
          "state": {
            "_dom_classes": [],
            "_model_module": "@jupyter-widgets/controls",
            "_model_module_version": "1.5.0",
            "_model_name": "FloatProgressModel",
            "_view_count": null,
            "_view_module": "@jupyter-widgets/controls",
            "_view_module_version": "1.5.0",
            "_view_name": "ProgressView",
            "bar_style": "success",
            "description": "",
            "description_tooltip": null,
            "layout": "IPY_MODEL_b54371ef1850493d818128cd3415141d",
            "max": 466062,
            "min": 0,
            "orientation": "horizontal",
            "style": "IPY_MODEL_4131ffb1f3674ee8933ccc2f94f2424b",
            "value": 466062
          }
        },
        "00b200b597ff4e19ad2cce02662b738f": {
          "model_module": "@jupyter-widgets/controls",
          "model_name": "HTMLModel",
          "model_module_version": "1.5.0",
          "state": {
            "_dom_classes": [],
            "_model_module": "@jupyter-widgets/controls",
            "_model_module_version": "1.5.0",
            "_model_name": "HTMLModel",
            "_view_count": null,
            "_view_module": "@jupyter-widgets/controls",
            "_view_module_version": "1.5.0",
            "_view_name": "HTMLView",
            "description": "",
            "description_tooltip": null,
            "layout": "IPY_MODEL_8fb6c4360a76445d873250f01cb5952b",
            "placeholder": "​",
            "style": "IPY_MODEL_6a9eb863b3a84e1b9fa399a5433d4fd2",
            "value": " 466k/466k [00:00&lt;00:00, 737kB/s]"
          }
        },
        "7aa4668d06234426993c3b38a14bcb55": {
          "model_module": "@jupyter-widgets/base",
          "model_name": "LayoutModel",
          "model_module_version": "1.2.0",
          "state": {
            "_model_module": "@jupyter-widgets/base",
            "_model_module_version": "1.2.0",
            "_model_name": "LayoutModel",
            "_view_count": null,
            "_view_module": "@jupyter-widgets/base",
            "_view_module_version": "1.2.0",
            "_view_name": "LayoutView",
            "align_content": null,
            "align_items": null,
            "align_self": null,
            "border": null,
            "bottom": null,
            "display": null,
            "flex": null,
            "flex_flow": null,
            "grid_area": null,
            "grid_auto_columns": null,
            "grid_auto_flow": null,
            "grid_auto_rows": null,
            "grid_column": null,
            "grid_gap": null,
            "grid_row": null,
            "grid_template_areas": null,
            "grid_template_columns": null,
            "grid_template_rows": null,
            "height": null,
            "justify_content": null,
            "justify_items": null,
            "left": null,
            "margin": null,
            "max_height": null,
            "max_width": null,
            "min_height": null,
            "min_width": null,
            "object_fit": null,
            "object_position": null,
            "order": null,
            "overflow": null,
            "overflow_x": null,
            "overflow_y": null,
            "padding": null,
            "right": null,
            "top": null,
            "visibility": null,
            "width": null
          }
        },
        "05aaac5abbc64d6eadad15cb701a1893": {
          "model_module": "@jupyter-widgets/base",
          "model_name": "LayoutModel",
          "model_module_version": "1.2.0",
          "state": {
            "_model_module": "@jupyter-widgets/base",
            "_model_module_version": "1.2.0",
            "_model_name": "LayoutModel",
            "_view_count": null,
            "_view_module": "@jupyter-widgets/base",
            "_view_module_version": "1.2.0",
            "_view_name": "LayoutView",
            "align_content": null,
            "align_items": null,
            "align_self": null,
            "border": null,
            "bottom": null,
            "display": null,
            "flex": null,
            "flex_flow": null,
            "grid_area": null,
            "grid_auto_columns": null,
            "grid_auto_flow": null,
            "grid_auto_rows": null,
            "grid_column": null,
            "grid_gap": null,
            "grid_row": null,
            "grid_template_areas": null,
            "grid_template_columns": null,
            "grid_template_rows": null,
            "height": null,
            "justify_content": null,
            "justify_items": null,
            "left": null,
            "margin": null,
            "max_height": null,
            "max_width": null,
            "min_height": null,
            "min_width": null,
            "object_fit": null,
            "object_position": null,
            "order": null,
            "overflow": null,
            "overflow_x": null,
            "overflow_y": null,
            "padding": null,
            "right": null,
            "top": null,
            "visibility": null,
            "width": null
          }
        },
        "003a306008604c0fa4d8382877e818e5": {
          "model_module": "@jupyter-widgets/controls",
          "model_name": "DescriptionStyleModel",
          "model_module_version": "1.5.0",
          "state": {
            "_model_module": "@jupyter-widgets/controls",
            "_model_module_version": "1.5.0",
            "_model_name": "DescriptionStyleModel",
            "_view_count": null,
            "_view_module": "@jupyter-widgets/base",
            "_view_module_version": "1.2.0",
            "_view_name": "StyleView",
            "description_width": ""
          }
        },
        "b54371ef1850493d818128cd3415141d": {
          "model_module": "@jupyter-widgets/base",
          "model_name": "LayoutModel",
          "model_module_version": "1.2.0",
          "state": {
            "_model_module": "@jupyter-widgets/base",
            "_model_module_version": "1.2.0",
            "_model_name": "LayoutModel",
            "_view_count": null,
            "_view_module": "@jupyter-widgets/base",
            "_view_module_version": "1.2.0",
            "_view_name": "LayoutView",
            "align_content": null,
            "align_items": null,
            "align_self": null,
            "border": null,
            "bottom": null,
            "display": null,
            "flex": null,
            "flex_flow": null,
            "grid_area": null,
            "grid_auto_columns": null,
            "grid_auto_flow": null,
            "grid_auto_rows": null,
            "grid_column": null,
            "grid_gap": null,
            "grid_row": null,
            "grid_template_areas": null,
            "grid_template_columns": null,
            "grid_template_rows": null,
            "height": null,
            "justify_content": null,
            "justify_items": null,
            "left": null,
            "margin": null,
            "max_height": null,
            "max_width": null,
            "min_height": null,
            "min_width": null,
            "object_fit": null,
            "object_position": null,
            "order": null,
            "overflow": null,
            "overflow_x": null,
            "overflow_y": null,
            "padding": null,
            "right": null,
            "top": null,
            "visibility": null,
            "width": null
          }
        },
        "4131ffb1f3674ee8933ccc2f94f2424b": {
          "model_module": "@jupyter-widgets/controls",
          "model_name": "ProgressStyleModel",
          "model_module_version": "1.5.0",
          "state": {
            "_model_module": "@jupyter-widgets/controls",
            "_model_module_version": "1.5.0",
            "_model_name": "ProgressStyleModel",
            "_view_count": null,
            "_view_module": "@jupyter-widgets/base",
            "_view_module_version": "1.2.0",
            "_view_name": "StyleView",
            "bar_color": null,
            "description_width": ""
          }
        },
        "8fb6c4360a76445d873250f01cb5952b": {
          "model_module": "@jupyter-widgets/base",
          "model_name": "LayoutModel",
          "model_module_version": "1.2.0",
          "state": {
            "_model_module": "@jupyter-widgets/base",
            "_model_module_version": "1.2.0",
            "_model_name": "LayoutModel",
            "_view_count": null,
            "_view_module": "@jupyter-widgets/base",
            "_view_module_version": "1.2.0",
            "_view_name": "LayoutView",
            "align_content": null,
            "align_items": null,
            "align_self": null,
            "border": null,
            "bottom": null,
            "display": null,
            "flex": null,
            "flex_flow": null,
            "grid_area": null,
            "grid_auto_columns": null,
            "grid_auto_flow": null,
            "grid_auto_rows": null,
            "grid_column": null,
            "grid_gap": null,
            "grid_row": null,
            "grid_template_areas": null,
            "grid_template_columns": null,
            "grid_template_rows": null,
            "height": null,
            "justify_content": null,
            "justify_items": null,
            "left": null,
            "margin": null,
            "max_height": null,
            "max_width": null,
            "min_height": null,
            "min_width": null,
            "object_fit": null,
            "object_position": null,
            "order": null,
            "overflow": null,
            "overflow_x": null,
            "overflow_y": null,
            "padding": null,
            "right": null,
            "top": null,
            "visibility": null,
            "width": null
          }
        },
        "6a9eb863b3a84e1b9fa399a5433d4fd2": {
          "model_module": "@jupyter-widgets/controls",
          "model_name": "DescriptionStyleModel",
          "model_module_version": "1.5.0",
          "state": {
            "_model_module": "@jupyter-widgets/controls",
            "_model_module_version": "1.5.0",
            "_model_name": "DescriptionStyleModel",
            "_view_count": null,
            "_view_module": "@jupyter-widgets/base",
            "_view_module_version": "1.2.0",
            "_view_name": "StyleView",
            "description_width": ""
          }
        },
        "3cc95fe730a645be87e41edbf122f4d0": {
          "model_module": "@jupyter-widgets/controls",
          "model_name": "HBoxModel",
          "model_module_version": "1.5.0",
          "state": {
            "_dom_classes": [],
            "_model_module": "@jupyter-widgets/controls",
            "_model_module_version": "1.5.0",
            "_model_name": "HBoxModel",
            "_view_count": null,
            "_view_module": "@jupyter-widgets/controls",
            "_view_module_version": "1.5.0",
            "_view_name": "HBoxView",
            "box_style": "",
            "children": [
              "IPY_MODEL_f453ef2e37a14156ac00a1dbcdc784ff",
              "IPY_MODEL_ac29a524356a4e22b6f8a6add1d9dcd5",
              "IPY_MODEL_858bbfc1dda74cecbfdd20f1b8059a08"
            ],
            "layout": "IPY_MODEL_5555ac26c5c144e7a57082bfa540d0c5"
          }
        },
        "f453ef2e37a14156ac00a1dbcdc784ff": {
          "model_module": "@jupyter-widgets/controls",
          "model_name": "HTMLModel",
          "model_module_version": "1.5.0",
          "state": {
            "_dom_classes": [],
            "_model_module": "@jupyter-widgets/controls",
            "_model_module_version": "1.5.0",
            "_model_name": "HTMLModel",
            "_view_count": null,
            "_view_module": "@jupyter-widgets/controls",
            "_view_module_version": "1.5.0",
            "_view_name": "HTMLView",
            "description": "",
            "description_tooltip": null,
            "layout": "IPY_MODEL_f18bc50e9ae04972911fdef465092cb9",
            "placeholder": "​",
            "style": "IPY_MODEL_d525d981ab6e4983a6036b8b48e8768a",
            "value": "Downloading tf_model.h5: 100%"
          }
        },
        "ac29a524356a4e22b6f8a6add1d9dcd5": {
          "model_module": "@jupyter-widgets/controls",
          "model_name": "FloatProgressModel",
          "model_module_version": "1.5.0",
          "state": {
            "_dom_classes": [],
            "_model_module": "@jupyter-widgets/controls",
            "_model_module_version": "1.5.0",
            "_model_name": "FloatProgressModel",
            "_view_count": null,
            "_view_module": "@jupyter-widgets/controls",
            "_view_module_version": "1.5.0",
            "_view_name": "ProgressView",
            "bar_style": "success",
            "description": "",
            "description_tooltip": null,
            "layout": "IPY_MODEL_72c47ea26b5d415db8e628580ed6a188",
            "max": 536063208,
            "min": 0,
            "orientation": "horizontal",
            "style": "IPY_MODEL_e20ed1b883194df689ce51a544e5dd00",
            "value": 536063208
          }
        },
        "858bbfc1dda74cecbfdd20f1b8059a08": {
          "model_module": "@jupyter-widgets/controls",
          "model_name": "HTMLModel",
          "model_module_version": "1.5.0",
          "state": {
            "_dom_classes": [],
            "_model_module": "@jupyter-widgets/controls",
            "_model_module_version": "1.5.0",
            "_model_name": "HTMLModel",
            "_view_count": null,
            "_view_module": "@jupyter-widgets/controls",
            "_view_module_version": "1.5.0",
            "_view_name": "HTMLView",
            "description": "",
            "description_tooltip": null,
            "layout": "IPY_MODEL_f36f6cdd70c348ebb0ddc14f56e63e7d",
            "placeholder": "​",
            "style": "IPY_MODEL_888526ec84a8464197489b57c8cfc515",
            "value": " 536M/536M [00:01&lt;00:00, 340MB/s]"
          }
        },
        "5555ac26c5c144e7a57082bfa540d0c5": {
          "model_module": "@jupyter-widgets/base",
          "model_name": "LayoutModel",
          "model_module_version": "1.2.0",
          "state": {
            "_model_module": "@jupyter-widgets/base",
            "_model_module_version": "1.2.0",
            "_model_name": "LayoutModel",
            "_view_count": null,
            "_view_module": "@jupyter-widgets/base",
            "_view_module_version": "1.2.0",
            "_view_name": "LayoutView",
            "align_content": null,
            "align_items": null,
            "align_self": null,
            "border": null,
            "bottom": null,
            "display": null,
            "flex": null,
            "flex_flow": null,
            "grid_area": null,
            "grid_auto_columns": null,
            "grid_auto_flow": null,
            "grid_auto_rows": null,
            "grid_column": null,
            "grid_gap": null,
            "grid_row": null,
            "grid_template_areas": null,
            "grid_template_columns": null,
            "grid_template_rows": null,
            "height": null,
            "justify_content": null,
            "justify_items": null,
            "left": null,
            "margin": null,
            "max_height": null,
            "max_width": null,
            "min_height": null,
            "min_width": null,
            "object_fit": null,
            "object_position": null,
            "order": null,
            "overflow": null,
            "overflow_x": null,
            "overflow_y": null,
            "padding": null,
            "right": null,
            "top": null,
            "visibility": null,
            "width": null
          }
        },
        "f18bc50e9ae04972911fdef465092cb9": {
          "model_module": "@jupyter-widgets/base",
          "model_name": "LayoutModel",
          "model_module_version": "1.2.0",
          "state": {
            "_model_module": "@jupyter-widgets/base",
            "_model_module_version": "1.2.0",
            "_model_name": "LayoutModel",
            "_view_count": null,
            "_view_module": "@jupyter-widgets/base",
            "_view_module_version": "1.2.0",
            "_view_name": "LayoutView",
            "align_content": null,
            "align_items": null,
            "align_self": null,
            "border": null,
            "bottom": null,
            "display": null,
            "flex": null,
            "flex_flow": null,
            "grid_area": null,
            "grid_auto_columns": null,
            "grid_auto_flow": null,
            "grid_auto_rows": null,
            "grid_column": null,
            "grid_gap": null,
            "grid_row": null,
            "grid_template_areas": null,
            "grid_template_columns": null,
            "grid_template_rows": null,
            "height": null,
            "justify_content": null,
            "justify_items": null,
            "left": null,
            "margin": null,
            "max_height": null,
            "max_width": null,
            "min_height": null,
            "min_width": null,
            "object_fit": null,
            "object_position": null,
            "order": null,
            "overflow": null,
            "overflow_x": null,
            "overflow_y": null,
            "padding": null,
            "right": null,
            "top": null,
            "visibility": null,
            "width": null
          }
        },
        "d525d981ab6e4983a6036b8b48e8768a": {
          "model_module": "@jupyter-widgets/controls",
          "model_name": "DescriptionStyleModel",
          "model_module_version": "1.5.0",
          "state": {
            "_model_module": "@jupyter-widgets/controls",
            "_model_module_version": "1.5.0",
            "_model_name": "DescriptionStyleModel",
            "_view_count": null,
            "_view_module": "@jupyter-widgets/base",
            "_view_module_version": "1.2.0",
            "_view_name": "StyleView",
            "description_width": ""
          }
        },
        "72c47ea26b5d415db8e628580ed6a188": {
          "model_module": "@jupyter-widgets/base",
          "model_name": "LayoutModel",
          "model_module_version": "1.2.0",
          "state": {
            "_model_module": "@jupyter-widgets/base",
            "_model_module_version": "1.2.0",
            "_model_name": "LayoutModel",
            "_view_count": null,
            "_view_module": "@jupyter-widgets/base",
            "_view_module_version": "1.2.0",
            "_view_name": "LayoutView",
            "align_content": null,
            "align_items": null,
            "align_self": null,
            "border": null,
            "bottom": null,
            "display": null,
            "flex": null,
            "flex_flow": null,
            "grid_area": null,
            "grid_auto_columns": null,
            "grid_auto_flow": null,
            "grid_auto_rows": null,
            "grid_column": null,
            "grid_gap": null,
            "grid_row": null,
            "grid_template_areas": null,
            "grid_template_columns": null,
            "grid_template_rows": null,
            "height": null,
            "justify_content": null,
            "justify_items": null,
            "left": null,
            "margin": null,
            "max_height": null,
            "max_width": null,
            "min_height": null,
            "min_width": null,
            "object_fit": null,
            "object_position": null,
            "order": null,
            "overflow": null,
            "overflow_x": null,
            "overflow_y": null,
            "padding": null,
            "right": null,
            "top": null,
            "visibility": null,
            "width": null
          }
        },
        "e20ed1b883194df689ce51a544e5dd00": {
          "model_module": "@jupyter-widgets/controls",
          "model_name": "ProgressStyleModel",
          "model_module_version": "1.5.0",
          "state": {
            "_model_module": "@jupyter-widgets/controls",
            "_model_module_version": "1.5.0",
            "_model_name": "ProgressStyleModel",
            "_view_count": null,
            "_view_module": "@jupyter-widgets/base",
            "_view_module_version": "1.2.0",
            "_view_name": "StyleView",
            "bar_color": null,
            "description_width": ""
          }
        },
        "f36f6cdd70c348ebb0ddc14f56e63e7d": {
          "model_module": "@jupyter-widgets/base",
          "model_name": "LayoutModel",
          "model_module_version": "1.2.0",
          "state": {
            "_model_module": "@jupyter-widgets/base",
            "_model_module_version": "1.2.0",
            "_model_name": "LayoutModel",
            "_view_count": null,
            "_view_module": "@jupyter-widgets/base",
            "_view_module_version": "1.2.0",
            "_view_name": "LayoutView",
            "align_content": null,
            "align_items": null,
            "align_self": null,
            "border": null,
            "bottom": null,
            "display": null,
            "flex": null,
            "flex_flow": null,
            "grid_area": null,
            "grid_auto_columns": null,
            "grid_auto_flow": null,
            "grid_auto_rows": null,
            "grid_column": null,
            "grid_gap": null,
            "grid_row": null,
            "grid_template_areas": null,
            "grid_template_columns": null,
            "grid_template_rows": null,
            "height": null,
            "justify_content": null,
            "justify_items": null,
            "left": null,
            "margin": null,
            "max_height": null,
            "max_width": null,
            "min_height": null,
            "min_width": null,
            "object_fit": null,
            "object_position": null,
            "order": null,
            "overflow": null,
            "overflow_x": null,
            "overflow_y": null,
            "padding": null,
            "right": null,
            "top": null,
            "visibility": null,
            "width": null
          }
        },
        "888526ec84a8464197489b57c8cfc515": {
          "model_module": "@jupyter-widgets/controls",
          "model_name": "DescriptionStyleModel",
          "model_module_version": "1.5.0",
          "state": {
            "_model_module": "@jupyter-widgets/controls",
            "_model_module_version": "1.5.0",
            "_model_name": "DescriptionStyleModel",
            "_view_count": null,
            "_view_module": "@jupyter-widgets/base",
            "_view_module_version": "1.2.0",
            "_view_name": "StyleView",
            "description_width": ""
          }
        }
      }
    },
    "accelerator": "GPU",
    "gpuClass": "standard"
  },
  "nbformat": 4,
  "nbformat_minor": 0
}