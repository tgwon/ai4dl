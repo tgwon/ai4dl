{
  "cells": [
    {
      "cell_type": "markdown",
      "metadata": {
        "id": "view-in-github",
        "colab_type": "text"
      },
      "source": [
        "<a href=\"https://colab.research.google.com/github/ytg000629/ai4dl/blob/main/week5/chapter05_fundamentals-of-ml.ipynb\" target=\"_parent\"><img src=\"https://colab.research.google.com/assets/colab-badge.svg\" alt=\"Open In Colab\"/></a>"
      ]
    },
    {
      "cell_type": "markdown",
      "metadata": {
        "id": "t--ATB0WWkNE"
      },
      "source": [
        "This is a companion notebook for the book [Deep Learning with Python, Second Edition](https://www.manning.com/books/deep-learning-with-python-second-edition?a_aid=keras&a_bid=76564dff). For readability, it only contains runnable code blocks and section titles, and omits everything else in the book: text paragraphs, figures, and pseudocode.\n",
        "\n",
        "**If you want to be able to follow what's going on, I recommend reading the notebook side by side with your copy of the book.**\n",
        "\n",
        "This notebook was generated for TensorFlow 2.6."
      ]
    },
    {
      "cell_type": "markdown",
      "metadata": {
        "id": "mERjSpIwWkNH"
      },
      "source": [
        "# Fundamentals of machine learning"
      ]
    },
    {
      "cell_type": "markdown",
      "metadata": {
        "id": "8OseK9yMWkNH"
      },
      "source": [
        "## Generalization: The goal of machine learning"
      ]
    },
    {
      "cell_type": "markdown",
      "metadata": {
        "id": "mnuObbBwWkNJ"
      },
      "source": [
        "### Underfitting and overfitting"
      ]
    },
    {
      "cell_type": "markdown",
      "metadata": {
        "id": "vwznKdOUWkNK"
      },
      "source": [
        "#### Noisy training data"
      ]
    },
    {
      "cell_type": "markdown",
      "metadata": {
        "id": "UHDJqF4HWkNK"
      },
      "source": [
        "#### Ambiguous features"
      ]
    },
    {
      "cell_type": "markdown",
      "metadata": {
        "id": "Iy8-1moPWkNK"
      },
      "source": [
        "#### Rare features and spurious correlations"
      ]
    },
    {
      "cell_type": "markdown",
      "metadata": {
        "id": "t4tmDENyWkNK"
      },
      "source": [
        "**Adding white-noise channels or all-zeros channels to MNIST**"
      ]
    },
    {
      "cell_type": "code",
      "execution_count": 1,
      "metadata": {
        "id": "ZAJHc0YcWkNK",
        "outputId": "b90772b6-6a7b-42be-d381-72034e6dc18e",
        "colab": {
          "base_uri": "https://localhost:8080/"
        }
      },
      "outputs": [
        {
          "output_type": "stream",
          "name": "stdout",
          "text": [
            "Downloading data from https://storage.googleapis.com/tensorflow/tf-keras-datasets/mnist.npz\n",
            "11490434/11490434 [==============================] - 1s 0us/step\n"
          ]
        }
      ],
      "source": [
        "from tensorflow.keras.datasets import mnist\n",
        "import numpy as np\n",
        "\n",
        "(train_images, train_labels), _ = mnist.load_data()\n",
        "train_images = train_images.reshape((60000, 28 * 28))\n",
        "train_images = train_images.astype(\"float32\") / 255\n",
        "\n",
        "train_images_with_noise_channels = np.concatenate(\n",
        "    [train_images, np.random.random((len(train_images), 784))], axis=1)\n",
        "\n",
        "train_images_with_zeros_channels = np.concatenate(\n",
        "    [train_images, np.zeros((len(train_images), 784))], axis=1)\n",
        "\n",
        "#concatenate axis =1 : 열방향(좌->우)으로 배열 합치기"
      ]
    },
    {
      "cell_type": "code",
      "source": [
        "train_images.shape"
      ],
      "metadata": {
        "id": "z0RCJw-rYE7l",
        "outputId": "89eedc5b-9969-4c37-fc38-63ca59efd218",
        "colab": {
          "base_uri": "https://localhost:8080/"
        }
      },
      "execution_count": 2,
      "outputs": [
        {
          "output_type": "execute_result",
          "data": {
            "text/plain": [
              "(60000, 784)"
            ]
          },
          "metadata": {},
          "execution_count": 2
        }
      ]
    },
    {
      "cell_type": "code",
      "source": [
        "np.random.random((len(train_images), 784)).shape"
      ],
      "metadata": {
        "id": "1QXwGh4DYJOQ",
        "outputId": "47916f7a-d8c6-42b7-a303-bf9ec39af925",
        "colab": {
          "base_uri": "https://localhost:8080/"
        }
      },
      "execution_count": 7,
      "outputs": [
        {
          "output_type": "execute_result",
          "data": {
            "text/plain": [
              "(60000, 784)"
            ]
          },
          "metadata": {},
          "execution_count": 7
        }
      ]
    },
    {
      "cell_type": "code",
      "source": [
        "np.concatenate(\n",
        "    [train_images, np.random.random((len(train_images), 784))], axis=1).shape"
      ],
      "metadata": {
        "id": "Ysgs0dmWYK9b",
        "outputId": "3e2a0903-7fa6-440b-811c-e22e23ee47c4",
        "colab": {
          "base_uri": "https://localhost:8080/"
        }
      },
      "execution_count": 8,
      "outputs": [
        {
          "output_type": "execute_result",
          "data": {
            "text/plain": [
              "(60000, 1568)"
            ]
          },
          "metadata": {},
          "execution_count": 8
        }
      ]
    },
    {
      "cell_type": "code",
      "source": [
        "train_images_with_noise_channels[0]"
      ],
      "metadata": {
        "id": "57h9Yu5lZCIs",
        "outputId": "593878a8-b563-4f77-fcf7-0956f3c221f1",
        "colab": {
          "base_uri": "https://localhost:8080/"
        }
      },
      "execution_count": 9,
      "outputs": [
        {
          "output_type": "execute_result",
          "data": {
            "text/plain": [
              "array([0.        , 0.        , 0.        , ..., 0.45998036, 0.83883052,\n",
              "       0.02026337])"
            ]
          },
          "metadata": {},
          "execution_count": 9
        }
      ]
    },
    {
      "cell_type": "code",
      "source": [
        "train_images_with_zeros_channels[0]"
      ],
      "metadata": {
        "id": "qVx7Xo43ZNqL",
        "outputId": "bc5c884a-f4a3-430f-9f1d-3e5e6ceef9f2",
        "colab": {
          "base_uri": "https://localhost:8080/"
        }
      },
      "execution_count": 10,
      "outputs": [
        {
          "output_type": "execute_result",
          "data": {
            "text/plain": [
              "array([0., 0., 0., ..., 0., 0., 0.])"
            ]
          },
          "metadata": {},
          "execution_count": 10
        }
      ]
    },
    {
      "cell_type": "markdown",
      "metadata": {
        "id": "8XlTwbOPWkNL"
      },
      "source": [
        "**Training the same model on MNIST data with noise channels or all-zero channels**"
      ]
    },
    {
      "cell_type": "code",
      "execution_count": 11,
      "metadata": {
        "id": "k4zMlILqWkNL",
        "outputId": "686973c2-11e9-4049-f8da-f0a8135c78c6",
        "colab": {
          "base_uri": "https://localhost:8080/"
        }
      },
      "outputs": [
        {
          "output_type": "stream",
          "name": "stdout",
          "text": [
            "Epoch 1/10\n",
            "375/375 [==============================] - 7s 17ms/step - loss: 0.6239 - accuracy: 0.8103 - val_loss: 0.2553 - val_accuracy: 0.9239\n",
            "Epoch 2/10\n",
            "375/375 [==============================] - 9s 25ms/step - loss: 0.2539 - accuracy: 0.9218 - val_loss: 0.2248 - val_accuracy: 0.9313\n",
            "Epoch 3/10\n",
            "375/375 [==============================] - 6s 16ms/step - loss: 0.1672 - accuracy: 0.9476 - val_loss: 0.1839 - val_accuracy: 0.9450\n",
            "Epoch 4/10\n",
            "375/375 [==============================] - 6s 17ms/step - loss: 0.1187 - accuracy: 0.9632 - val_loss: 0.1359 - val_accuracy: 0.9599\n",
            "Epoch 5/10\n",
            "375/375 [==============================] - 6s 15ms/step - loss: 0.0880 - accuracy: 0.9727 - val_loss: 0.1422 - val_accuracy: 0.9578\n",
            "Epoch 6/10\n",
            "375/375 [==============================] - 7s 18ms/step - loss: 0.0645 - accuracy: 0.9800 - val_loss: 0.1502 - val_accuracy: 0.9572\n",
            "Epoch 7/10\n",
            "375/375 [==============================] - 6s 16ms/step - loss: 0.0474 - accuracy: 0.9852 - val_loss: 0.1419 - val_accuracy: 0.9604\n",
            "Epoch 8/10\n",
            "375/375 [==============================] - 7s 17ms/step - loss: 0.0351 - accuracy: 0.9885 - val_loss: 0.1352 - val_accuracy: 0.9641\n",
            "Epoch 9/10\n",
            "375/375 [==============================] - 6s 16ms/step - loss: 0.0265 - accuracy: 0.9913 - val_loss: 0.1407 - val_accuracy: 0.9641\n",
            "Epoch 10/10\n",
            "375/375 [==============================] - 6s 17ms/step - loss: 0.0191 - accuracy: 0.9944 - val_loss: 0.1269 - val_accuracy: 0.9692\n",
            "Epoch 1/10\n",
            "375/375 [==============================] - 7s 17ms/step - loss: 0.2925 - accuracy: 0.9147 - val_loss: 0.1726 - val_accuracy: 0.9506\n",
            "Epoch 2/10\n",
            "375/375 [==============================] - 7s 18ms/step - loss: 0.1231 - accuracy: 0.9647 - val_loss: 0.1280 - val_accuracy: 0.9627\n",
            "Epoch 3/10\n",
            "375/375 [==============================] - 6s 16ms/step - loss: 0.0817 - accuracy: 0.9753 - val_loss: 0.0858 - val_accuracy: 0.9741\n",
            "Epoch 4/10\n",
            "375/375 [==============================] - 7s 19ms/step - loss: 0.0591 - accuracy: 0.9827 - val_loss: 0.0809 - val_accuracy: 0.9753\n",
            "Epoch 5/10\n",
            "375/375 [==============================] - 6s 16ms/step - loss: 0.0439 - accuracy: 0.9869 - val_loss: 0.0749 - val_accuracy: 0.9774\n",
            "Epoch 6/10\n",
            "375/375 [==============================] - 7s 17ms/step - loss: 0.0333 - accuracy: 0.9903 - val_loss: 0.0765 - val_accuracy: 0.9781\n",
            "Epoch 7/10\n",
            "375/375 [==============================] - 6s 15ms/step - loss: 0.0250 - accuracy: 0.9930 - val_loss: 0.0741 - val_accuracy: 0.9787\n",
            "Epoch 8/10\n",
            "375/375 [==============================] - 7s 17ms/step - loss: 0.0190 - accuracy: 0.9946 - val_loss: 0.0795 - val_accuracy: 0.9782\n",
            "Epoch 9/10\n",
            "375/375 [==============================] - 6s 16ms/step - loss: 0.0142 - accuracy: 0.9961 - val_loss: 0.0766 - val_accuracy: 0.9793\n",
            "Epoch 10/10\n",
            "375/375 [==============================] - 7s 18ms/step - loss: 0.0102 - accuracy: 0.9977 - val_loss: 0.0780 - val_accuracy: 0.9787\n"
          ]
        }
      ],
      "source": [
        "from tensorflow import keras\n",
        "from tensorflow.keras import layers\n",
        "\n",
        "def get_model():\n",
        "    model = keras.Sequential([\n",
        "        layers.Dense(512, activation=\"relu\"),\n",
        "        layers.Dense(10, activation=\"softmax\")\n",
        "    ])\n",
        "    model.compile(optimizer=\"rmsprop\",\n",
        "                  loss=\"sparse_categorical_crossentropy\",\n",
        "                  metrics=[\"accuracy\"])\n",
        "    return model\n",
        "\n",
        "model = get_model()\n",
        "history_noise = model.fit(\n",
        "    train_images_with_noise_channels, train_labels,\n",
        "    epochs=10,\n",
        "    batch_size=128,\n",
        "    validation_split=0.2)\n",
        "\n",
        "model = get_model()\n",
        "history_zeros = model.fit(\n",
        "    train_images_with_zeros_channels, train_labels,\n",
        "    epochs=10,\n",
        "    batch_size=128,\n",
        "    validation_split=0.2)"
      ]
    },
    {
      "cell_type": "markdown",
      "metadata": {
        "id": "S8wdB34IWkNM"
      },
      "source": [
        "**Plotting a validation accuracy comparison**"
      ]
    },
    {
      "cell_type": "code",
      "execution_count": 12,
      "metadata": {
        "id": "Lcon2h2IWkNM",
        "outputId": "2ae56edf-ff7a-4417-c8ea-a34ddeaaf424",
        "colab": {
          "base_uri": "https://localhost:8080/",
          "height": 490
        }
      },
      "outputs": [
        {
          "output_type": "execute_result",
          "data": {
            "text/plain": [
              "<matplotlib.legend.Legend at 0x7f7fa01da5b0>"
            ]
          },
          "metadata": {},
          "execution_count": 12
        },
        {
          "output_type": "display_data",
          "data": {
            "text/plain": [
              "<Figure size 640x480 with 1 Axes>"
            ],
            "image/png": "[encoded data removed]"
          },
          "metadata": {}
        }
      ],
      "source": [
        "import matplotlib.pyplot as plt\n",
        "val_acc_noise = history_noise.history[\"val_accuracy\"]\n",
        "val_acc_zeros = history_zeros.history[\"val_accuracy\"]\n",
        "epochs = range(1, 11)\n",
        "plt.plot(epochs, val_acc_noise, \"b-\",\n",
        "         label=\"Validation accuracy with noise channels\")\n",
        "plt.plot(epochs, val_acc_zeros, \"b--\",\n",
        "         label=\"Validation accuracy with zeros channels\")\n",
        "plt.title(\"Effect of noise channels on validation accuracy\")\n",
        "plt.xlabel(\"Epochs\")\n",
        "plt.ylabel(\"Accuracy\")\n",
        "plt.legend()"
      ]
    },
    {
      "cell_type": "markdown",
      "source": [
        "noisy information을 딥러닝 모델에 넣었을 때 퍼포먼스 하락\n",
        "feature engineering을 통해 퍼포먼스 향상 가능할 수 있다\n",
        "\n",
        "딥러닝에서 feature engineering이 필요하지 않다? 일부는 맞는 얘기\n",
        "\n",
        "딥러닝에서는 모델이 중요한 feature를 스스로 learn, train 가능\n",
        "하지만 feature engineering을 올바른 방식으로 한다면 더 나은 퍼포먼스를 얻을 수 있음\n",
        "\n",
        "noisy dataset을 제거하는 게 딥러닝에서 여전히 중요"
      ],
      "metadata": {
        "id": "CGWtUn3raNPa"
      }
    },
    {
      "cell_type": "markdown",
      "metadata": {
        "id": "S3JFpn9MWkNM"
      },
      "source": [
        "### The nature of generalization in deep learning"
      ]
    },
    {
      "cell_type": "markdown",
      "metadata": {
        "id": "8eMg2sOdWkNM"
      },
      "source": [
        "**Fitting a MNIST model with randomly shuffled labels**"
      ]
    },
    {
      "cell_type": "code",
      "execution_count": 13,
      "metadata": {
        "id": "gEi_aibRWkNM",
        "outputId": "9b6aaa47-e955-4c85-94c0-f09dca2d5c53",
        "colab": {
          "base_uri": "https://localhost:8080/"
        }
      },
      "outputs": [
        {
          "output_type": "stream",
          "name": "stdout",
          "text": [
            "Epoch 1/100\n",
            "375/375 [==============================] - 4s 11ms/step - loss: 2.3148 - accuracy: 0.1043 - val_loss: 2.3027 - val_accuracy: 0.1115\n",
            "Epoch 2/100\n",
            "375/375 [==============================] - 4s 10ms/step - loss: 2.2994 - accuracy: 0.1157 - val_loss: 2.3117 - val_accuracy: 0.1048\n",
            "Epoch 3/100\n",
            "375/375 [==============================] - 4s 11ms/step - loss: 2.2919 - accuracy: 0.1249 - val_loss: 2.3169 - val_accuracy: 0.1031\n",
            "Epoch 4/100\n",
            "375/375 [==============================] - 4s 10ms/step - loss: 2.2782 - accuracy: 0.1389 - val_loss: 2.3261 - val_accuracy: 0.1018\n",
            "Epoch 5/100\n",
            "375/375 [==============================] - 4s 10ms/step - loss: 2.2636 - accuracy: 0.1506 - val_loss: 2.3416 - val_accuracy: 0.1013\n",
            "Epoch 6/100\n",
            "375/375 [==============================] - 4s 11ms/step - loss: 2.2440 - accuracy: 0.1643 - val_loss: 2.3482 - val_accuracy: 0.0984\n",
            "Epoch 7/100\n",
            "375/375 [==============================] - 4s 10ms/step - loss: 2.2206 - accuracy: 0.1795 - val_loss: 2.3614 - val_accuracy: 0.0988\n",
            "Epoch 8/100\n",
            "375/375 [==============================] - 4s 10ms/step - loss: 2.1947 - accuracy: 0.1946 - val_loss: 2.3811 - val_accuracy: 0.0988\n",
            "Epoch 9/100\n",
            "375/375 [==============================] - 4s 11ms/step - loss: 2.1644 - accuracy: 0.2112 - val_loss: 2.3953 - val_accuracy: 0.0985\n",
            "Epoch 10/100\n",
            "375/375 [==============================] - 4s 10ms/step - loss: 2.1323 - accuracy: 0.2275 - val_loss: 2.4226 - val_accuracy: 0.1009\n",
            "Epoch 11/100\n",
            "375/375 [==============================] - 4s 10ms/step - loss: 2.0970 - accuracy: 0.2439 - val_loss: 2.4469 - val_accuracy: 0.0993\n",
            "Epoch 12/100\n",
            "375/375 [==============================] - 4s 12ms/step - loss: 2.0619 - accuracy: 0.2602 - val_loss: 2.4632 - val_accuracy: 0.1013\n",
            "Epoch 13/100\n",
            "375/375 [==============================] - 4s 10ms/step - loss: 2.0246 - accuracy: 0.2775 - val_loss: 2.5073 - val_accuracy: 0.1016\n",
            "Epoch 14/100\n",
            "375/375 [==============================] - 4s 10ms/step - loss: 1.9872 - accuracy: 0.2949 - val_loss: 2.5295 - val_accuracy: 0.1018\n",
            "Epoch 15/100\n",
            "375/375 [==============================] - 4s 11ms/step - loss: 1.9483 - accuracy: 0.3126 - val_loss: 2.5485 - val_accuracy: 0.0991\n",
            "Epoch 16/100\n",
            "375/375 [==============================] - 4s 10ms/step - loss: 1.9085 - accuracy: 0.3294 - val_loss: 2.5942 - val_accuracy: 0.0997\n",
            "Epoch 17/100\n",
            "375/375 [==============================] - 4s 10ms/step - loss: 1.8689 - accuracy: 0.3448 - val_loss: 2.6192 - val_accuracy: 0.0981\n",
            "Epoch 18/100\n",
            "375/375 [==============================] - 4s 11ms/step - loss: 1.8297 - accuracy: 0.3619 - val_loss: 2.6589 - val_accuracy: 0.1019\n",
            "Epoch 19/100\n",
            "375/375 [==============================] - 4s 10ms/step - loss: 1.7904 - accuracy: 0.3770 - val_loss: 2.7026 - val_accuracy: 0.0970\n",
            "Epoch 20/100\n",
            "375/375 [==============================] - 4s 10ms/step - loss: 1.7520 - accuracy: 0.3910 - val_loss: 2.7825 - val_accuracy: 0.0989\n",
            "Epoch 21/100\n",
            "375/375 [==============================] - 4s 11ms/step - loss: 1.7145 - accuracy: 0.4045 - val_loss: 2.7901 - val_accuracy: 0.1011\n",
            "Epoch 22/100\n",
            "375/375 [==============================] - 4s 10ms/step - loss: 1.6793 - accuracy: 0.4199 - val_loss: 2.8298 - val_accuracy: 0.0983\n",
            "Epoch 23/100\n",
            "375/375 [==============================] - 4s 10ms/step - loss: 1.6379 - accuracy: 0.4359 - val_loss: 2.8805 - val_accuracy: 0.0986\n",
            "Epoch 24/100\n",
            "375/375 [==============================] - 4s 11ms/step - loss: 1.6061 - accuracy: 0.4499 - val_loss: 2.9143 - val_accuracy: 0.0964\n",
            "Epoch 25/100\n",
            "375/375 [==============================] - 4s 10ms/step - loss: 1.5704 - accuracy: 0.4616 - val_loss: 2.9793 - val_accuracy: 0.1041\n",
            "Epoch 26/100\n",
            "375/375 [==============================] - 4s 10ms/step - loss: 1.5371 - accuracy: 0.4704 - val_loss: 3.0129 - val_accuracy: 0.1021\n",
            "Epoch 27/100\n",
            "375/375 [==============================] - 4s 10ms/step - loss: 1.5020 - accuracy: 0.4873 - val_loss: 3.0696 - val_accuracy: 0.0975\n",
            "Epoch 28/100\n",
            "375/375 [==============================] - 4s 11ms/step - loss: 1.4693 - accuracy: 0.4995 - val_loss: 3.1095 - val_accuracy: 0.1003\n",
            "Epoch 29/100\n",
            "375/375 [==============================] - 4s 10ms/step - loss: 1.4383 - accuracy: 0.5108 - val_loss: 3.1757 - val_accuracy: 0.0984\n",
            "Epoch 30/100\n",
            "375/375 [==============================] - 4s 10ms/step - loss: 1.4043 - accuracy: 0.5247 - val_loss: 3.2259 - val_accuracy: 0.1003\n",
            "Epoch 31/100\n",
            "375/375 [==============================] - 4s 11ms/step - loss: 1.3755 - accuracy: 0.5320 - val_loss: 3.2745 - val_accuracy: 0.1044\n",
            "Epoch 32/100\n",
            "375/375 [==============================] - 4s 11ms/step - loss: 1.3451 - accuracy: 0.5465 - val_loss: 3.3457 - val_accuracy: 0.0997\n",
            "Epoch 33/100\n",
            "375/375 [==============================] - 4s 10ms/step - loss: 1.3155 - accuracy: 0.5558 - val_loss: 3.3757 - val_accuracy: 0.1032\n",
            "Epoch 34/100\n",
            "375/375 [==============================] - 4s 12ms/step - loss: 1.2875 - accuracy: 0.5673 - val_loss: 3.4416 - val_accuracy: 0.0996\n",
            "Epoch 35/100\n",
            "375/375 [==============================] - 4s 10ms/step - loss: 1.2578 - accuracy: 0.5784 - val_loss: 3.4913 - val_accuracy: 0.1030\n",
            "Epoch 36/100\n",
            "375/375 [==============================] - 4s 10ms/step - loss: 1.2344 - accuracy: 0.5882 - val_loss: 3.5365 - val_accuracy: 0.1018\n",
            "Epoch 37/100\n",
            "375/375 [==============================] - 4s 11ms/step - loss: 1.2074 - accuracy: 0.5953 - val_loss: 3.5776 - val_accuracy: 0.1018\n",
            "Epoch 38/100\n",
            "375/375 [==============================] - 4s 10ms/step - loss: 1.1827 - accuracy: 0.6062 - val_loss: 3.6619 - val_accuracy: 0.1002\n",
            "Epoch 39/100\n",
            "375/375 [==============================] - 4s 11ms/step - loss: 1.1578 - accuracy: 0.6137 - val_loss: 3.6892 - val_accuracy: 0.1008\n",
            "Epoch 40/100\n",
            "375/375 [==============================] - 5s 12ms/step - loss: 1.1315 - accuracy: 0.6237 - val_loss: 3.7965 - val_accuracy: 0.0995\n",
            "Epoch 41/100\n",
            "375/375 [==============================] - 6s 15ms/step - loss: 1.1079 - accuracy: 0.6309 - val_loss: 3.8634 - val_accuracy: 0.0995\n",
            "Epoch 42/100\n",
            "375/375 [==============================] - 6s 16ms/step - loss: 1.0845 - accuracy: 0.6387 - val_loss: 3.8980 - val_accuracy: 0.1011\n",
            "Epoch 43/100\n",
            "375/375 [==============================] - 4s 10ms/step - loss: 1.0608 - accuracy: 0.6499 - val_loss: 3.9398 - val_accuracy: 0.1026\n",
            "Epoch 44/100\n",
            "375/375 [==============================] - 4s 10ms/step - loss: 1.0381 - accuracy: 0.6571 - val_loss: 4.0120 - val_accuracy: 0.1006\n",
            "Epoch 45/100\n",
            "375/375 [==============================] - 5s 14ms/step - loss: 1.0172 - accuracy: 0.6639 - val_loss: 4.0707 - val_accuracy: 0.1035\n",
            "Epoch 46/100\n",
            "375/375 [==============================] - 5s 12ms/step - loss: 0.9982 - accuracy: 0.6720 - val_loss: 4.1311 - val_accuracy: 0.0988\n",
            "Epoch 47/100\n",
            "375/375 [==============================] - 4s 12ms/step - loss: 0.9767 - accuracy: 0.6764 - val_loss: 4.2096 - val_accuracy: 0.1001\n",
            "Epoch 48/100\n",
            "375/375 [==============================] - 5s 13ms/step - loss: 0.9556 - accuracy: 0.6859 - val_loss: 4.2488 - val_accuracy: 0.1018\n",
            "Epoch 49/100\n",
            "375/375 [==============================] - 4s 11ms/step - loss: 0.9362 - accuracy: 0.6934 - val_loss: 4.3334 - val_accuracy: 0.0994\n",
            "Epoch 50/100\n",
            "375/375 [==============================] - 4s 12ms/step - loss: 0.9171 - accuracy: 0.6995 - val_loss: 4.3902 - val_accuracy: 0.0999\n",
            "Epoch 51/100\n",
            "375/375 [==============================] - 5s 13ms/step - loss: 0.8995 - accuracy: 0.7018 - val_loss: 4.4576 - val_accuracy: 0.0996\n",
            "Epoch 52/100\n",
            "375/375 [==============================] - 5s 13ms/step - loss: 0.8789 - accuracy: 0.7130 - val_loss: 4.5263 - val_accuracy: 0.0997\n",
            "Epoch 53/100\n",
            "375/375 [==============================] - 5s 13ms/step - loss: 0.8631 - accuracy: 0.7175 - val_loss: 4.5784 - val_accuracy: 0.1010\n",
            "Epoch 54/100\n",
            "375/375 [==============================] - 4s 11ms/step - loss: 0.8447 - accuracy: 0.7234 - val_loss: 4.6469 - val_accuracy: 0.0991\n",
            "Epoch 55/100\n",
            "375/375 [==============================] - 4s 11ms/step - loss: 0.8279 - accuracy: 0.7299 - val_loss: 4.7399 - val_accuracy: 0.0983\n",
            "Epoch 56/100\n",
            "375/375 [==============================] - 4s 12ms/step - loss: 0.8099 - accuracy: 0.7350 - val_loss: 4.8214 - val_accuracy: 0.0990\n",
            "Epoch 57/100\n",
            "375/375 [==============================] - 4s 11ms/step - loss: 0.7935 - accuracy: 0.7435 - val_loss: 4.8365 - val_accuracy: 0.0983\n",
            "Epoch 58/100\n",
            "375/375 [==============================] - 4s 11ms/step - loss: 0.7770 - accuracy: 0.7480 - val_loss: 4.9453 - val_accuracy: 0.0972\n",
            "Epoch 59/100\n",
            "375/375 [==============================] - 4s 12ms/step - loss: 0.7623 - accuracy: 0.7558 - val_loss: 4.9970 - val_accuracy: 0.1028\n",
            "Epoch 60/100\n",
            "375/375 [==============================] - 5s 12ms/step - loss: 0.7483 - accuracy: 0.7586 - val_loss: 5.0804 - val_accuracy: 0.0983\n",
            "Epoch 61/100\n",
            "375/375 [==============================] - 5s 13ms/step - loss: 0.7330 - accuracy: 0.7629 - val_loss: 5.1380 - val_accuracy: 0.0986\n",
            "Epoch 62/100\n",
            "375/375 [==============================] - 4s 11ms/step - loss: 0.7163 - accuracy: 0.7697 - val_loss: 5.2295 - val_accuracy: 0.0984\n",
            "Epoch 63/100\n",
            "375/375 [==============================] - 4s 11ms/step - loss: 0.7042 - accuracy: 0.7721 - val_loss: 5.3029 - val_accuracy: 0.0962\n",
            "Epoch 64/100\n",
            "375/375 [==============================] - 5s 13ms/step - loss: 0.6902 - accuracy: 0.7774 - val_loss: 5.3694 - val_accuracy: 0.0989\n",
            "Epoch 65/100\n",
            "375/375 [==============================] - 4s 10ms/step - loss: 0.6765 - accuracy: 0.7820 - val_loss: 5.4083 - val_accuracy: 0.0979\n",
            "Epoch 66/100\n",
            "375/375 [==============================] - 4s 11ms/step - loss: 0.6623 - accuracy: 0.7871 - val_loss: 5.4849 - val_accuracy: 0.0980\n",
            "Epoch 67/100\n",
            "375/375 [==============================] - 5s 12ms/step - loss: 0.6494 - accuracy: 0.7909 - val_loss: 5.5572 - val_accuracy: 0.1007\n",
            "Epoch 68/100\n",
            "375/375 [==============================] - 4s 11ms/step - loss: 0.6373 - accuracy: 0.7971 - val_loss: 5.6197 - val_accuracy: 0.0965\n",
            "Epoch 69/100\n",
            "375/375 [==============================] - 5s 14ms/step - loss: 0.6243 - accuracy: 0.8018 - val_loss: 5.7696 - val_accuracy: 0.0948\n",
            "Epoch 70/100\n",
            "375/375 [==============================] - 4s 12ms/step - loss: 0.6122 - accuracy: 0.8028 - val_loss: 5.7695 - val_accuracy: 0.1012\n",
            "Epoch 71/100\n",
            "375/375 [==============================] - 4s 10ms/step - loss: 0.6013 - accuracy: 0.8087 - val_loss: 5.8374 - val_accuracy: 0.0963\n",
            "Epoch 72/100\n",
            "375/375 [==============================] - 4s 11ms/step - loss: 0.5876 - accuracy: 0.8138 - val_loss: 5.9033 - val_accuracy: 0.0991\n",
            "Epoch 73/100\n",
            "375/375 [==============================] - 4s 12ms/step - loss: 0.5775 - accuracy: 0.8156 - val_loss: 6.0294 - val_accuracy: 0.1017\n",
            "Epoch 74/100\n",
            "375/375 [==============================] - 4s 11ms/step - loss: 0.5632 - accuracy: 0.8209 - val_loss: 6.0381 - val_accuracy: 0.0997\n",
            "Epoch 75/100\n",
            "375/375 [==============================] - 4s 11ms/step - loss: 0.5553 - accuracy: 0.8229 - val_loss: 6.1826 - val_accuracy: 0.0980\n",
            "Epoch 76/100\n",
            "375/375 [==============================] - 4s 11ms/step - loss: 0.5442 - accuracy: 0.8273 - val_loss: 6.2018 - val_accuracy: 0.0979\n",
            "Epoch 77/100\n",
            "375/375 [==============================] - 4s 10ms/step - loss: 0.5335 - accuracy: 0.8324 - val_loss: 6.3706 - val_accuracy: 0.1002\n",
            "Epoch 78/100\n",
            "375/375 [==============================] - 5s 14ms/step - loss: 0.5249 - accuracy: 0.8330 - val_loss: 6.3357 - val_accuracy: 0.0973\n",
            "Epoch 79/100\n",
            "375/375 [==============================] - 4s 11ms/step - loss: 0.5158 - accuracy: 0.8374 - val_loss: 6.4507 - val_accuracy: 0.0967\n",
            "Epoch 80/100\n",
            "375/375 [==============================] - 4s 10ms/step - loss: 0.5043 - accuracy: 0.8401 - val_loss: 6.6015 - val_accuracy: 0.0993\n",
            "Epoch 81/100\n",
            "375/375 [==============================] - 4s 11ms/step - loss: 0.4960 - accuracy: 0.8428 - val_loss: 6.5724 - val_accuracy: 0.0975\n",
            "Epoch 82/100\n",
            "375/375 [==============================] - 4s 10ms/step - loss: 0.4877 - accuracy: 0.8461 - val_loss: 6.6162 - val_accuracy: 0.0986\n",
            "Epoch 83/100\n",
            "375/375 [==============================] - 4s 11ms/step - loss: 0.4754 - accuracy: 0.8515 - val_loss: 6.7565 - val_accuracy: 0.0972\n",
            "Epoch 84/100\n",
            "375/375 [==============================] - 4s 12ms/step - loss: 0.4652 - accuracy: 0.8551 - val_loss: 6.7835 - val_accuracy: 0.0966\n",
            "Epoch 85/100\n",
            "375/375 [==============================] - 4s 10ms/step - loss: 0.4593 - accuracy: 0.8553 - val_loss: 6.8480 - val_accuracy: 0.0982\n",
            "Epoch 86/100\n",
            "375/375 [==============================] - 4s 10ms/step - loss: 0.4492 - accuracy: 0.8590 - val_loss: 6.9378 - val_accuracy: 0.0979\n",
            "Epoch 87/100\n",
            "375/375 [==============================] - 4s 12ms/step - loss: 0.4415 - accuracy: 0.8624 - val_loss: 7.0103 - val_accuracy: 0.0962\n",
            "Epoch 88/100\n",
            "375/375 [==============================] - 4s 10ms/step - loss: 0.4324 - accuracy: 0.8643 - val_loss: 7.1528 - val_accuracy: 0.0997\n",
            "Epoch 89/100\n",
            "375/375 [==============================] - 4s 10ms/step - loss: 0.4260 - accuracy: 0.8678 - val_loss: 7.1634 - val_accuracy: 0.0962\n",
            "Epoch 90/100\n",
            "375/375 [==============================] - 4s 12ms/step - loss: 0.4168 - accuracy: 0.8711 - val_loss: 7.2343 - val_accuracy: 0.0953\n",
            "Epoch 91/100\n",
            "375/375 [==============================] - 4s 10ms/step - loss: 0.4102 - accuracy: 0.8729 - val_loss: 7.2984 - val_accuracy: 0.0970\n",
            "Epoch 92/100\n",
            "375/375 [==============================] - 4s 10ms/step - loss: 0.4029 - accuracy: 0.8735 - val_loss: 7.3828 - val_accuracy: 0.0969\n",
            "Epoch 93/100\n",
            "375/375 [==============================] - 4s 12ms/step - loss: 0.3954 - accuracy: 0.8771 - val_loss: 7.4569 - val_accuracy: 0.0946\n",
            "Epoch 94/100\n",
            "375/375 [==============================] - 4s 10ms/step - loss: 0.3884 - accuracy: 0.8779 - val_loss: 7.4984 - val_accuracy: 0.0997\n",
            "Epoch 95/100\n",
            "375/375 [==============================] - 4s 10ms/step - loss: 0.3826 - accuracy: 0.8814 - val_loss: 7.6057 - val_accuracy: 0.0977\n",
            "Epoch 96/100\n",
            "375/375 [==============================] - 4s 11ms/step - loss: 0.3750 - accuracy: 0.8839 - val_loss: 7.6422 - val_accuracy: 0.1001\n",
            "Epoch 97/100\n",
            "375/375 [==============================] - 4s 10ms/step - loss: 0.3678 - accuracy: 0.8863 - val_loss: 7.7251 - val_accuracy: 0.0996\n",
            "Epoch 98/100\n",
            "375/375 [==============================] - 5s 12ms/step - loss: 0.3618 - accuracy: 0.8892 - val_loss: 7.8851 - val_accuracy: 0.0982\n",
            "Epoch 99/100\n",
            "375/375 [==============================] - 6s 15ms/step - loss: 0.3556 - accuracy: 0.8911 - val_loss: 7.9192 - val_accuracy: 0.0975\n",
            "Epoch 100/100\n",
            "375/375 [==============================] - 4s 12ms/step - loss: 0.3495 - accuracy: 0.8920 - val_loss: 7.9741 - val_accuracy: 0.0970\n"
          ]
        },
        {
          "output_type": "execute_result",
          "data": {
            "text/plain": [
              "<keras.callbacks.History at 0x7f7fa00c8850>"
            ]
          },
          "metadata": {},
          "execution_count": 13
        }
      ],
      "source": [
        "(train_images, train_labels), _ = mnist.load_data()\n",
        "train_images = train_images.reshape((60000, 28 * 28))\n",
        "train_images = train_images.astype(\"float32\") / 255\n",
        "\n",
        "random_train_labels = train_labels[:]\n",
        "np.random.shuffle(random_train_labels)\n",
        "\n",
        "model = keras.Sequential([\n",
        "    layers.Dense(512, activation=\"relu\"),\n",
        "    layers.Dense(10, activation=\"softmax\")\n",
        "])\n",
        "model.compile(optimizer=\"rmsprop\",\n",
        "              loss=\"sparse_categorical_crossentropy\",\n",
        "              metrics=[\"accuracy\"])\n",
        "model.fit(train_images, random_train_labels,\n",
        "          epochs=100,\n",
        "          batch_size=128,\n",
        "          validation_split=0.2)"
      ]
    },
    {
      "cell_type": "markdown",
      "source": [
        "라벨을 셔플 했음\n",
        "\n",
        "0~9까지의 라벨을 분류하는 모델이니까 처음 train_accuracy는 0.1 정도\n",
        "\n",
        "딥러닝에서 어떤 dataset으로도 train 하면 train_accuracy는 always 증가\n",
        "하지만 val_accuracy를 보고 generalization power를 확인해야함\n",
        "\n",
        "위의 사례에선 train_accuracy가 0.9정도로 높지만 val_accuracy는 0.1\n",
        "generalization이 잘 이루어지지 않음"
      ],
      "metadata": {
        "id": "TD6IEHdncmyn"
      }
    },
    {
      "cell_type": "markdown",
      "metadata": {
        "id": "f04jtdKLWkNN"
      },
      "source": [
        "#### The manifold hypothesis"
      ]
    },
    {
      "cell_type": "markdown",
      "metadata": {
        "id": "E8VGF5ZPWkNN"
      },
      "source": [
        "#### Interpolation as a source of generalization"
      ]
    },
    {
      "cell_type": "markdown",
      "metadata": {
        "id": "l1m9SkuiWkNN"
      },
      "source": [
        "#### Why deep learning works"
      ]
    },
    {
      "cell_type": "markdown",
      "metadata": {
        "id": "-m9KD3_BWkNO"
      },
      "source": [
        "#### Training data is paramount"
      ]
    },
    {
      "cell_type": "markdown",
      "metadata": {
        "id": "6MpUEFlRWkNO"
      },
      "source": [
        "## Evaluating machine-learning models"
      ]
    },
    {
      "cell_type": "markdown",
      "metadata": {
        "id": "DYSopxbTWkNO"
      },
      "source": [
        "### Training, validation, and test sets"
      ]
    },
    {
      "cell_type": "markdown",
      "metadata": {
        "id": "BbfpyJs0WkNO"
      },
      "source": [
        "#### Simple hold-out validation"
      ]
    },
    {
      "cell_type": "markdown",
      "metadata": {
        "id": "0auZbQEhWkNO"
      },
      "source": [
        "#### K-fold validation"
      ]
    },
    {
      "cell_type": "markdown",
      "metadata": {
        "id": "TFIKjBkUWkNO"
      },
      "source": [
        "#### Iterated K-fold validation with shuffling"
      ]
    },
    {
      "cell_type": "markdown",
      "metadata": {
        "id": "v2RoMvtMWkNO"
      },
      "source": [
        "### Beating a common-sense baseline"
      ]
    },
    {
      "cell_type": "markdown",
      "metadata": {
        "id": "Je8Yx4P1WkNO"
      },
      "source": [
        "### Things to keep in mind about model evaluation"
      ]
    },
    {
      "cell_type": "markdown",
      "metadata": {
        "id": "FeNm0xAeWkNP"
      },
      "source": [
        "## Improving model fit"
      ]
    },
    {
      "cell_type": "markdown",
      "metadata": {
        "id": "UJ_frYTGWkNP"
      },
      "source": [
        "### Tuning key gradient descent parameters"
      ]
    },
    {
      "cell_type": "markdown",
      "metadata": {
        "id": "KUmPFP5sWkNP"
      },
      "source": [
        "**Training a MNIST model with an incorrectly high learning rate**"
      ]
    },
    {
      "cell_type": "code",
      "execution_count": null,
      "metadata": {
        "id": "TwvuFmooWkNP"
      },
      "outputs": [],
      "source": [
        "(train_images, train_labels), _ = mnist.load_data()\n",
        "train_images = train_images.reshape((60000, 28 * 28))\n",
        "train_images = train_images.astype(\"float32\") / 255\n",
        "\n",
        "model = keras.Sequential([\n",
        "    layers.Dense(512, activation=\"relu\"),\n",
        "    layers.Dense(10, activation=\"softmax\")\n",
        "])\n",
        "model.compile(optimizer=keras.optimizers.RMSprop(1.),\n",
        "              loss=\"sparse_categorical_crossentropy\",\n",
        "              metrics=[\"accuracy\"])\n",
        "model.fit(train_images, train_labels,\n",
        "          epochs=10,\n",
        "          batch_size=128,\n",
        "          validation_split=0.2)"
      ]
    },
    {
      "cell_type": "markdown",
      "metadata": {
        "id": "eth1AXWsWkNP"
      },
      "source": [
        "**The same model with a more appropriate learning rate**"
      ]
    },
    {
      "cell_type": "code",
      "execution_count": null,
      "metadata": {
        "id": "O7LBjvY9WkNP"
      },
      "outputs": [],
      "source": [
        "model = keras.Sequential([\n",
        "    layers.Dense(512, activation=\"relu\"),\n",
        "    layers.Dense(10, activation=\"softmax\")\n",
        "])\n",
        "model.compile(optimizer=keras.optimizers.RMSprop(1e-2),\n",
        "              loss=\"sparse_categorical_crossentropy\",\n",
        "              metrics=[\"accuracy\"])\n",
        "model.fit(train_images, train_labels,\n",
        "          epochs=10,\n",
        "          batch_size=128,\n",
        "          validation_split=0.2)"
      ]
    },
    {
      "cell_type": "markdown",
      "metadata": {
        "id": "UFXbKo45WkNP"
      },
      "source": [
        "### Leveraging better architecture priors"
      ]
    },
    {
      "cell_type": "markdown",
      "metadata": {
        "id": "CkHGPqSQWkNQ"
      },
      "source": [
        "### Increasing model capacity"
      ]
    },
    {
      "cell_type": "markdown",
      "metadata": {
        "id": "CclmsmC3WkNQ"
      },
      "source": [
        "**A simple logistic regression on MNIST**"
      ]
    },
    {
      "cell_type": "code",
      "execution_count": null,
      "metadata": {
        "id": "Fzs3k98fWkNQ"
      },
      "outputs": [],
      "source": [
        "model = keras.Sequential([layers.Dense(10, activation=\"softmax\")])\n",
        "model.compile(optimizer=\"rmsprop\",\n",
        "              loss=\"sparse_categorical_crossentropy\",\n",
        "              metrics=[\"accuracy\"])\n",
        "history_small_model = model.fit(\n",
        "    train_images, train_labels,\n",
        "    epochs=20,\n",
        "    batch_size=128,\n",
        "    validation_split=0.2)"
      ]
    },
    {
      "cell_type": "code",
      "execution_count": null,
      "metadata": {
        "id": "FSp_QCMcWkNQ"
      },
      "outputs": [],
      "source": [
        "import matplotlib.pyplot as plt\n",
        "val_loss = history_small_model.history[\"val_loss\"]\n",
        "epochs = range(1, 21)\n",
        "plt.plot(epochs, val_loss, \"b--\",\n",
        "         label=\"Validation loss\")\n",
        "plt.title(\"Effect of insufficient model capacity on validation loss\")\n",
        "plt.xlabel(\"Epochs\")\n",
        "plt.ylabel(\"Loss\")\n",
        "plt.legend()"
      ]
    },
    {
      "cell_type": "code",
      "execution_count": null,
      "metadata": {
        "id": "FGpYMX1oWkNQ"
      },
      "outputs": [],
      "source": [
        "model = keras.Sequential([\n",
        "    layers.Dense(96, activation=\"relu\"),\n",
        "    layers.Dense(96, activation=\"relu\"),\n",
        "    layers.Dense(10, activation=\"softmax\"),\n",
        "])\n",
        "model.compile(optimizer=\"rmsprop\",\n",
        "              loss=\"sparse_categorical_crossentropy\",\n",
        "              metrics=[\"accuracy\"])\n",
        "history_large_model = model.fit(\n",
        "    train_images, train_labels,\n",
        "    epochs=20,\n",
        "    batch_size=128,\n",
        "    validation_split=0.2)"
      ]
    },
    {
      "cell_type": "markdown",
      "metadata": {
        "id": "PK3gSEkEWkNQ"
      },
      "source": [
        "## Improving generalization"
      ]
    },
    {
      "cell_type": "markdown",
      "metadata": {
        "id": "wFTQmlA_WkNQ"
      },
      "source": [
        "### Dataset curation"
      ]
    },
    {
      "cell_type": "markdown",
      "metadata": {
        "id": "C3whnNvaWkNQ"
      },
      "source": [
        "### Feature engineering"
      ]
    },
    {
      "cell_type": "markdown",
      "metadata": {
        "id": "CzIuUyVvWkNR"
      },
      "source": [
        "### Using early stopping"
      ]
    },
    {
      "cell_type": "markdown",
      "metadata": {
        "id": "TSHsDsdsWkNR"
      },
      "source": [
        "### Regularizing your model"
      ]
    },
    {
      "cell_type": "markdown",
      "metadata": {
        "id": "Bq7ik3FkWkNS"
      },
      "source": [
        "#### Reducing the network's size"
      ]
    },
    {
      "cell_type": "markdown",
      "metadata": {
        "id": "MUveY-UeWkNS"
      },
      "source": [
        "**Original model**"
      ]
    },
    {
      "cell_type": "code",
      "execution_count": null,
      "metadata": {
        "id": "qfvBaNifWkNS"
      },
      "outputs": [],
      "source": [
        "from tensorflow.keras.datasets import imdb\n",
        "(train_data, train_labels), _ = imdb.load_data(num_words=10000)\n",
        "\n",
        "def vectorize_sequences(sequences, dimension=10000):\n",
        "    results = np.zeros((len(sequences), dimension))\n",
        "    for i, sequence in enumerate(sequences):\n",
        "        results[i, sequence] = 1.\n",
        "    return results\n",
        "train_data = vectorize_sequences(train_data)\n",
        "\n",
        "model = keras.Sequential([\n",
        "    layers.Dense(16, activation=\"relu\"),\n",
        "    layers.Dense(16, activation=\"relu\"),\n",
        "    layers.Dense(1, activation=\"sigmoid\")\n",
        "])\n",
        "model.compile(optimizer=\"rmsprop\",\n",
        "              loss=\"binary_crossentropy\",\n",
        "              metrics=[\"accuracy\"])\n",
        "history_original = model.fit(train_data, train_labels,\n",
        "                             epochs=20, batch_size=512, validation_split=0.4)"
      ]
    },
    {
      "cell_type": "markdown",
      "metadata": {
        "id": "gr1ntKuTWkNT"
      },
      "source": [
        "**Version of the model with lower capacity**"
      ]
    },
    {
      "cell_type": "code",
      "execution_count": null,
      "metadata": {
        "id": "6rbZdPxUWkNT"
      },
      "outputs": [],
      "source": [
        "model = keras.Sequential([\n",
        "    layers.Dense(4, activation=\"relu\"),\n",
        "    layers.Dense(4, activation=\"relu\"),\n",
        "    layers.Dense(1, activation=\"sigmoid\")\n",
        "])\n",
        "model.compile(optimizer=\"rmsprop\",\n",
        "              loss=\"binary_crossentropy\",\n",
        "              metrics=[\"accuracy\"])\n",
        "history_smaller_model = model.fit(\n",
        "    train_data, train_labels,\n",
        "    epochs=20, batch_size=512, validation_split=0.4)"
      ]
    },
    {
      "cell_type": "markdown",
      "metadata": {
        "id": "ZBcPSTzoWkNU"
      },
      "source": [
        "**Version of the model with higher capacity**"
      ]
    },
    {
      "cell_type": "code",
      "execution_count": null,
      "metadata": {
        "id": "SOMTo5lxWkNU"
      },
      "outputs": [],
      "source": [
        "model = keras.Sequential([\n",
        "    layers.Dense(512, activation=\"relu\"),\n",
        "    layers.Dense(512, activation=\"relu\"),\n",
        "    layers.Dense(1, activation=\"sigmoid\")\n",
        "])\n",
        "model.compile(optimizer=\"rmsprop\",\n",
        "              loss=\"binary_crossentropy\",\n",
        "              metrics=[\"accuracy\"])\n",
        "history_larger_model = model.fit(\n",
        "    train_data, train_labels,\n",
        "    epochs=20, batch_size=512, validation_split=0.4)"
      ]
    },
    {
      "cell_type": "markdown",
      "metadata": {
        "id": "bGun7XMvWkNU"
      },
      "source": [
        "#### Adding weight regularization"
      ]
    },
    {
      "cell_type": "markdown",
      "metadata": {
        "id": "fAo853NVWkNU"
      },
      "source": [
        "**Adding L2 weight regularization to the model**"
      ]
    },
    {
      "cell_type": "code",
      "execution_count": null,
      "metadata": {
        "id": "8rT58fz0WkNV"
      },
      "outputs": [],
      "source": [
        "from tensorflow.keras import regularizers\n",
        "model = keras.Sequential([\n",
        "    layers.Dense(16,\n",
        "                 kernel_regularizer=regularizers.l2(0.002),\n",
        "                 activation=\"relu\"),\n",
        "    layers.Dense(16,\n",
        "                 kernel_regularizer=regularizers.l2(0.002),\n",
        "                 activation=\"relu\"),\n",
        "    layers.Dense(1, activation=\"sigmoid\")\n",
        "])\n",
        "model.compile(optimizer=\"rmsprop\",\n",
        "              loss=\"binary_crossentropy\",\n",
        "              metrics=[\"accuracy\"])\n",
        "history_l2_reg = model.fit(\n",
        "    train_data, train_labels,\n",
        "    epochs=20, batch_size=512, validation_split=0.4)"
      ]
    },
    {
      "cell_type": "markdown",
      "metadata": {
        "id": "-7nfP8VBWkNV"
      },
      "source": [
        "**Different weight regularizers available in Keras**"
      ]
    },
    {
      "cell_type": "code",
      "execution_count": null,
      "metadata": {
        "id": "UiR22rSCWkNV"
      },
      "outputs": [],
      "source": [
        "from tensorflow.keras import regularizers\n",
        "regularizers.l1(0.001)\n",
        "regularizers.l1_l2(l1=0.001, l2=0.001)"
      ]
    },
    {
      "cell_type": "markdown",
      "metadata": {
        "id": "U5jA0LX3WkNV"
      },
      "source": [
        "#### Adding dropout"
      ]
    },
    {
      "cell_type": "markdown",
      "metadata": {
        "id": "Gl4cI0wBWkNW"
      },
      "source": [
        "**Adding dropout to the IMDB model**"
      ]
    },
    {
      "cell_type": "code",
      "execution_count": null,
      "metadata": {
        "id": "EllhKxmuWkNW"
      },
      "outputs": [],
      "source": [
        "model = keras.Sequential([\n",
        "    layers.Dense(16, activation=\"relu\"),\n",
        "    layers.Dropout(0.5),\n",
        "    layers.Dense(16, activation=\"relu\"),\n",
        "    layers.Dropout(0.5),\n",
        "    layers.Dense(1, activation=\"sigmoid\")\n",
        "])\n",
        "model.compile(optimizer=\"rmsprop\",\n",
        "              loss=\"binary_crossentropy\",\n",
        "              metrics=[\"accuracy\"])\n",
        "history_dropout = model.fit(\n",
        "    train_data, train_labels,\n",
        "    epochs=20, batch_size=512, validation_split=0.4)"
      ]
    },
    {
      "cell_type": "markdown",
      "metadata": {
        "id": "SlYEvWunWkNX"
      },
      "source": [
        "## Summary"
      ]
    }
  ],
  "metadata": {
    "colab": {
      "name": "chapter05_fundamentals-of-ml.i",
      "provenance": [],
      "toc_visible": true,
      "include_colab_link": true
    },
    "kernelspec": {
      "display_name": "Python 3",
      "language": "python",
      "name": "python3"
    },
    "language_info": {
      "codemirror_mode": {
        "name": "ipython",
        "version": 3
      },
      "file_extension": ".py",
      "mimetype": "text/x-python",
      "name": "python",
      "nbconvert_exporter": "python",
      "pygments_lexer": "ipython3",
      "version": "3.7.0"
    }
  },
  "nbformat": 4,
  "nbformat_minor": 0
}