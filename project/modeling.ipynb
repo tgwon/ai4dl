{
  "cells": [
    {
      "cell_type": "markdown",
      "metadata": {
        "id": "view-in-github",
        "colab_type": "text"
      },
      "source": [
        "<a href=\"https://colab.research.google.com/github/ytg000629/ai4dl/blob/main/project/modeling.ipynb\" target=\"_parent\"><img src=\"https://colab.research.google.com/assets/colab-badge.svg\" alt=\"Open In Colab\"/></a>"
      ]
    },
    {
      "cell_type": "markdown",
      "source": [
        "# 라이브러리 설치,import, 데이터 준비\n",
        "\n"
      ],
      "metadata": {
        "id": "93y-No3c9vFa"
      }
    },
    {
      "cell_type": "code",
      "source": [
        "!pip install keras_preprocessing"
      ],
      "metadata": {
        "id": "s5GNjkvXn6jh",
        "outputId": "20b82e1b-8256-4eb8-dc32-d0167263ab71",
        "colab": {
          "base_uri": "https://localhost:8080/"
        }
      },
      "execution_count": 1,
      "outputs": [
        {
          "output_type": "stream",
          "name": "stdout",
          "text": [
            "Looking in indexes: https://pypi.org/simple, https://us-python.pkg.dev/colab-wheels/public/simple/\n",
            "Collecting keras_preprocessing\n",
            "  Downloading Keras_Preprocessing-1.1.2-py2.py3-none-any.whl (42 kB)\n",
            "\u001b[2K     \u001b[90m━━━━━━━━━━━━━━━━━━━━━━━━━━━━━━━━━━━━━━━━\u001b[0m \u001b[32m42.6/42.6 kB\u001b[0m \u001b[31m3.1 MB/s\u001b[0m eta \u001b[36m0:00:00\u001b[0m\n",
            "\u001b[?25hRequirement already satisfied: numpy>=1.9.1 in /usr/local/lib/python3.10/dist-packages (from keras_preprocessing) (1.22.4)\n",
            "Requirement already satisfied: six>=1.9.0 in /usr/local/lib/python3.10/dist-packages (from keras_preprocessing) (1.16.0)\n",
            "Installing collected packages: keras_preprocessing\n",
            "Successfully installed keras_preprocessing-1.1.2\n"
          ]
        }
      ]
    },
    {
      "cell_type": "code",
      "source": [
        "!pip install emoji"
      ],
      "metadata": {
        "id": "ms11RtN3q7K1",
        "outputId": "211997c6-0392-42b2-c075-71b3da134c5a",
        "colab": {
          "base_uri": "https://localhost:8080/"
        }
      },
      "execution_count": 2,
      "outputs": [
        {
          "output_type": "stream",
          "name": "stdout",
          "text": [
            "Looking in indexes: https://pypi.org/simple, https://us-python.pkg.dev/colab-wheels/public/simple/\n",
            "Collecting emoji\n",
            "  Downloading emoji-2.4.0.tar.gz (353 kB)\n",
            "\u001b[2K     \u001b[90m━━━━━━━━━━━━━━━━━━━━━━━━━━━━━━━━━━━━━━\u001b[0m \u001b[32m353.7/353.7 kB\u001b[0m \u001b[31m16.9 MB/s\u001b[0m eta \u001b[36m0:00:00\u001b[0m\n",
            "\u001b[?25h  Preparing metadata (setup.py) ... \u001b[?25l\u001b[?25hdone\n",
            "Building wheels for collected packages: emoji\n",
            "  Building wheel for emoji (setup.py) ... \u001b[?25l\u001b[?25hdone\n",
            "  Created wheel for emoji: filename=emoji-2.4.0-py2.py3-none-any.whl size=350809 sha256=3cfd561f376e3971d93eaf09be47432ab05dc969f57987c99ddd18ada8bb426e\n",
            "  Stored in directory: /root/.cache/pip/wheels/79/29/1c/234cae4632803c2ba4a76a71a679eb1383cf590775714e2a21\n",
            "Successfully built emoji\n",
            "Installing collected packages: emoji\n",
            "Successfully installed emoji-2.4.0\n"
          ]
        }
      ]
    },
    {
      "cell_type": "code",
      "source": [
        "!pip install autocorrect"
      ],
      "metadata": {
        "colab": {
          "base_uri": "https://localhost:8080/"
        },
        "id": "zaN9KLEadOp9",
        "outputId": "884bfc9b-45c9-4077-f7d4-db02bd14b0bd"
      },
      "execution_count": 3,
      "outputs": [
        {
          "output_type": "stream",
          "name": "stdout",
          "text": [
            "Looking in indexes: https://pypi.org/simple, https://us-python.pkg.dev/colab-wheels/public/simple/\n",
            "Collecting autocorrect\n",
            "  Downloading autocorrect-2.6.1.tar.gz (622 kB)\n",
            "\u001b[2K     \u001b[90m━━━━━━━━━━━━━━━━━━━━━━━━━━━━━━━━━━━━━━\u001b[0m \u001b[32m622.8/622.8 kB\u001b[0m \u001b[31m23.3 MB/s\u001b[0m eta \u001b[36m0:00:00\u001b[0m\n",
            "\u001b[?25h  Preparing metadata (setup.py) ... \u001b[?25l\u001b[?25hdone\n",
            "Building wheels for collected packages: autocorrect\n",
            "  Building wheel for autocorrect (setup.py) ... \u001b[?25l\u001b[?25hdone\n",
            "  Created wheel for autocorrect: filename=autocorrect-2.6.1-py3-none-any.whl size=622363 sha256=7d524823ee7670f4a22068e696501037aa3abcfe817cdda137bccf5ff896ddc0\n",
            "  Stored in directory: /root/.cache/pip/wheels/b5/7b/6d/b76b29ce11ff8e2521c8c7dd0e5bfee4fb1789d76193124343\n",
            "Successfully built autocorrect\n",
            "Installing collected packages: autocorrect\n",
            "Successfully installed autocorrect-2.6.1\n"
          ]
        }
      ]
    },
    {
      "cell_type": "code",
      "source": [
        "import nltk\n",
        "nltk.download('punkt')\n",
        "nltk.download('stopwords')\n",
        "from nltk.corpus import stopwords"
      ],
      "metadata": {
        "id": "1m4AvoWrnYw7",
        "outputId": "064e617a-31fa-4fb9-954a-4175dd3dea7b",
        "colab": {
          "base_uri": "https://localhost:8080/"
        }
      },
      "execution_count": 4,
      "outputs": [
        {
          "output_type": "stream",
          "name": "stderr",
          "text": [
            "[nltk_data] Downloading package punkt to /root/nltk_data...\n",
            "[nltk_data]   Unzipping tokenizers/punkt.zip.\n",
            "[nltk_data] Downloading package stopwords to /root/nltk_data...\n",
            "[nltk_data]   Unzipping corpora/stopwords.zip.\n"
          ]
        }
      ]
    },
    {
      "cell_type": "code",
      "source": [
        "import pandas as pd\n",
        "import matplotlib.pyplot as plt\n",
        "import seaborn as sns\n",
        "import numpy as np\n",
        "\n",
        "from nltk.util import ngrams\n",
        "from sklearn.feature_extraction.text import CountVectorizer\n",
        "from collections import defaultdict\n",
        "from collections import  Counter\n",
        "plt.style.use('ggplot')\n",
        "\n",
        "import re\n",
        "from nltk.tokenize import word_tokenize\n",
        "import wordcloud\n",
        "import gensim\n",
        "import string\n",
        "from keras.preprocessing.text import Tokenizer\n",
        "from keras_preprocessing.sequence import pad_sequences #keras_preprocessing\n",
        "\n",
        "from tqdm import tqdm\n",
        "from keras.models import Sequential\n",
        "from keras.layers import Embedding,LSTM,Dense,SpatialDropout1D\n",
        "from keras.initializers import Constant\n",
        "from sklearn.model_selection import train_test_split\n",
        "\n",
        "import os \n",
        "import warnings\n",
        "warnings.filterwarnings(action  = 'ignore')\n",
        "\n",
        "import tensorflow as tf\n",
        "from tensorflow import keras\n",
        "from tensorflow.keras import layers\n",
        "from tensorflow.keras.optimizers import Adam\n",
        "from tensorflow.keras.callbacks import EarlyStopping\n",
        "from keras.callbacks import ReduceLROnPlateau\n",
        "from tensorflow.keras.initializers import TruncatedNormal\n",
        "from tensorflow.keras.losses import CategoricalCrossentropy,BinaryCrossentropy\n",
        "from tensorflow.keras.metrics import CategoricalAccuracy,BinaryAccuracy\n",
        "from tensorflow.keras.utils import to_categorical\n",
        "from tensorflow.keras.utils import plot_model\n",
        "\n",
        "from autocorrect import Speller "
      ],
      "metadata": {
        "id": "kgMw6dTnnMCX"
      },
      "execution_count": 5,
      "outputs": []
    },
    {
      "cell_type": "code",
      "source": [
        "#%config Completer.use_jedi = False"
      ],
      "metadata": {
        "id": "yMQH_aeInMNe"
      },
      "execution_count": 6,
      "outputs": []
    },
    {
      "cell_type": "code",
      "source": [
        "from google.colab import drive\n",
        "drive.mount('/content/drive')"
      ],
      "metadata": {
        "id": "mnf4tDo-oxeZ",
        "outputId": "d6b2e203-8447-4896-f029-72c52a74cad7",
        "colab": {
          "base_uri": "https://localhost:8080/"
        }
      },
      "execution_count": 7,
      "outputs": [
        {
          "output_type": "stream",
          "name": "stdout",
          "text": [
            "Mounted at /content/drive\n"
          ]
        }
      ]
    },
    {
      "cell_type": "code",
      "source": [
        "df_train = pd.read_csv('drive/MyDrive/nlp-getting-started/train.csv')\n",
        "df_test = pd.read_csv('drive/MyDrive//nlp-getting-started/test.csv')\n",
        "df_sample = pd.read_csv('drive/MyDrive//nlp-getting-started/sample_submission.csv')"
      ],
      "metadata": {
        "id": "8oSs_FkQoo5L"
      },
      "execution_count": 8,
      "outputs": []
    },
    {
      "cell_type": "code",
      "source": [
        "df_train.head()"
      ],
      "metadata": {
        "id": "sMx-tzcTnMQI",
        "outputId": "2b0c5c25-e1d3-4b32-df24-b14b01228b14",
        "colab": {
          "base_uri": "https://localhost:8080/",
          "height": 0
        }
      },
      "execution_count": 9,
      "outputs": [
        {
          "output_type": "execute_result",
          "data": {
            "text/plain": [
              "   id keyword location                                               text  \\\n",
              "0   1     NaN      NaN  Our Deeds are the Reason of this #earthquake M...   \n",
              "1   4     NaN      NaN             Forest fire near La Ronge Sask. Canada   \n",
              "2   5     NaN      NaN  All residents asked to 'shelter in place' are ...   \n",
              "3   6     NaN      NaN  13,000 people receive #wildfires evacuation or...   \n",
              "4   7     NaN      NaN  Just got sent this photo from Ruby #Alaska as ...   \n",
              "\n",
              "   target  \n",
              "0       1  \n",
              "1       1  \n",
              "2       1  \n",
              "3       1  \n",
              "4       1  "
            ],
            "text/html": [
              "\n",
              "  <div id=\"df-731db719-e717-40fc-bab7-8b98110eb948\">\n",
              "    <div class=\"colab-df-container\">\n",
              "      <div>\n",
              "<style scoped>\n",
              "    .dataframe tbody tr th:only-of-type {\n",
              "        vertical-align: middle;\n",
              "    }\n",
              "\n",
              "    .dataframe tbody tr th {\n",
              "        vertical-align: top;\n",
              "    }\n",
              "\n",
              "    .dataframe thead th {\n",
              "        text-align: right;\n",
              "    }\n",
              "</style>\n",
              "<table border=\"1\" class=\"dataframe\">\n",
              "  <thead>\n",
              "    <tr style=\"text-align: right;\">\n",
              "      <th></th>\n",
              "      <th>id</th>\n",
              "      <th>keyword</th>\n",
              "      <th>location</th>\n",
              "      <th>text</th>\n",
              "      <th>target</th>\n",
              "    </tr>\n",
              "  </thead>\n",
              "  <tbody>\n",
              "    <tr>\n",
              "      <th>0</th>\n",
              "      <td>1</td>\n",
              "      <td>NaN</td>\n",
              "      <td>NaN</td>\n",
              "      <td>Our Deeds are the Reason of this #earthquake M...</td>\n",
              "      <td>1</td>\n",
              "    </tr>\n",
              "    <tr>\n",
              "      <th>1</th>\n",
              "      <td>4</td>\n",
              "      <td>NaN</td>\n",
              "      <td>NaN</td>\n",
              "      <td>Forest fire near La Ronge Sask. Canada</td>\n",
              "      <td>1</td>\n",
              "    </tr>\n",
              "    <tr>\n",
              "      <th>2</th>\n",
              "      <td>5</td>\n",
              "      <td>NaN</td>\n",
              "      <td>NaN</td>\n",
              "      <td>All residents asked to 'shelter in place' are ...</td>\n",
              "      <td>1</td>\n",
              "    </tr>\n",
              "    <tr>\n",
              "      <th>3</th>\n",
              "      <td>6</td>\n",
              "      <td>NaN</td>\n",
              "      <td>NaN</td>\n",
              "      <td>13,000 people receive #wildfires evacuation or...</td>\n",
              "      <td>1</td>\n",
              "    </tr>\n",
              "    <tr>\n",
              "      <th>4</th>\n",
              "      <td>7</td>\n",
              "      <td>NaN</td>\n",
              "      <td>NaN</td>\n",
              "      <td>Just got sent this photo from Ruby #Alaska as ...</td>\n",
              "      <td>1</td>\n",
              "    </tr>\n",
              "  </tbody>\n",
              "</table>\n",
              "</div>\n",
              "      <button class=\"colab-df-convert\" onclick=\"convertToInteractive('df-731db719-e717-40fc-bab7-8b98110eb948')\"\n",
              "              title=\"Convert this dataframe to an interactive table.\"\n",
              "              style=\"display:none;\">\n",
              "        \n",
              "  <svg xmlns=\"http://www.w3.org/2000/svg\" height=\"24px\"viewBox=\"0 0 24 24\"\n",
              "       width=\"24px\">\n",
              "    <path d=\"M0 0h24v24H0V0z\" fill=\"none\"/>\n",
              "    <path d=\"M18.56 5.44l.94 2.06.94-2.06 2.06-.94-2.06-.94-.94-2.06-.94 2.06-2.06.94zm-11 1L8.5 8.5l.94-2.06 2.06-.94-2.06-.94L8.5 2.5l-.94 2.06-2.06.94zm10 10l.94 2.06.94-2.06 2.06-.94-2.06-.94-.94-2.06-.94 2.06-2.06.94z\"/><path d=\"M17.41 7.96l-1.37-1.37c-.4-.4-.92-.59-1.43-.59-.52 0-1.04.2-1.43.59L10.3 9.45l-7.72 7.72c-.78.78-.78 2.05 0 2.83L4 21.41c.39.39.9.59 1.41.59.51 0 1.02-.2 1.41-.59l7.78-7.78 2.81-2.81c.8-.78.8-2.07 0-2.86zM5.41 20L4 18.59l7.72-7.72 1.47 1.35L5.41 20z\"/>\n",
              "  </svg>\n",
              "      </button>\n",
              "      \n",
              "  <style>\n",
              "    .colab-df-container {\n",
              "      display:flex;\n",
              "      flex-wrap:wrap;\n",
              "      gap: 12px;\n",
              "    }\n",
              "\n",
              "    .colab-df-convert {\n",
              "      background-color: #E8F0FE;\n",
              "      border: none;\n",
              "      border-radius: 50%;\n",
              "      cursor: pointer;\n",
              "      display: none;\n",
              "      fill: #1967D2;\n",
              "      height: 32px;\n",
              "      padding: 0 0 0 0;\n",
              "      width: 32px;\n",
              "    }\n",
              "\n",
              "    .colab-df-convert:hover {\n",
              "      background-color: #E2EBFA;\n",
              "      box-shadow: 0px 1px 2px rgba(60, 64, 67, 0.3), 0px 1px 3px 1px rgba(60, 64, 67, 0.15);\n",
              "      fill: #174EA6;\n",
              "    }\n",
              "\n",
              "    [theme=dark] .colab-df-convert {\n",
              "      background-color: #3B4455;\n",
              "      fill: #D2E3FC;\n",
              "    }\n",
              "\n",
              "    [theme=dark] .colab-df-convert:hover {\n",
              "      background-color: #434B5C;\n",
              "      box-shadow: 0px 1px 3px 1px rgba(0, 0, 0, 0.15);\n",
              "      filter: drop-shadow(0px 1px 2px rgba(0, 0, 0, 0.3));\n",
              "      fill: #FFFFFF;\n",
              "    }\n",
              "  </style>\n",
              "\n",
              "      <script>\n",
              "        const buttonEl =\n",
              "          document.querySelector('#df-731db719-e717-40fc-bab7-8b98110eb948 button.colab-df-convert');\n",
              "        buttonEl.style.display =\n",
              "          google.colab.kernel.accessAllowed ? 'block' : 'none';\n",
              "\n",
              "        async function convertToInteractive(key) {\n",
              "          const element = document.querySelector('#df-731db719-e717-40fc-bab7-8b98110eb948');\n",
              "          const dataTable =\n",
              "            await google.colab.kernel.invokeFunction('convertToInteractive',\n",
              "                                                     [key], {});\n",
              "          if (!dataTable) return;\n",
              "\n",
              "          const docLinkHtml = 'Like what you see? Visit the ' +\n",
              "            '<a target=\"_blank\" href=https://colab.research.google.com/notebooks/data_table.ipynb>data table notebook</a>'\n",
              "            + ' to learn more about interactive tables.';\n",
              "          element.innerHTML = '';\n",
              "          dataTable['output_type'] = 'display_data';\n",
              "          await google.colab.output.renderOutput(dataTable, element);\n",
              "          const docLink = document.createElement('div');\n",
              "          docLink.innerHTML = docLinkHtml;\n",
              "          element.appendChild(docLink);\n",
              "        }\n",
              "      </script>\n",
              "    </div>\n",
              "  </div>\n",
              "  "
            ]
          },
          "metadata": {},
          "execution_count": 9
        }
      ]
    },
    {
      "cell_type": "code",
      "source": [
        "df_train.shape"
      ],
      "metadata": {
        "id": "zi58Xu9qqKJf",
        "outputId": "dfdb0865-08da-4a3c-ddaa-df1c3a5b5ff7",
        "colab": {
          "base_uri": "https://localhost:8080/"
        }
      },
      "execution_count": 10,
      "outputs": [
        {
          "output_type": "execute_result",
          "data": {
            "text/plain": [
              "(7613, 5)"
            ]
          },
          "metadata": {},
          "execution_count": 10
        }
      ]
    },
    {
      "cell_type": "code",
      "source": [
        "df_test.shape"
      ],
      "metadata": {
        "id": "eqq3SSkDqISy",
        "outputId": "7a294462-1d0b-4042-f487-47fe279f14cf",
        "colab": {
          "base_uri": "https://localhost:8080/"
        }
      },
      "execution_count": 11,
      "outputs": [
        {
          "output_type": "execute_result",
          "data": {
            "text/plain": [
              "(3263, 4)"
            ]
          },
          "metadata": {},
          "execution_count": 11
        }
      ]
    },
    {
      "cell_type": "code",
      "source": [
        "df_test.head()"
      ],
      "metadata": {
        "colab": {
          "base_uri": "https://localhost:8080/",
          "height": 0
        },
        "id": "qTxk3CgWoGA4",
        "outputId": "6389ba25-b8b0-449e-bfd0-0ff5676e0691"
      },
      "execution_count": 12,
      "outputs": [
        {
          "output_type": "execute_result",
          "data": {
            "text/plain": [
              "   id keyword location                                               text\n",
              "0   0     NaN      NaN                 Just happened a terrible car crash\n",
              "1   2     NaN      NaN  Heard about #earthquake is different cities, s...\n",
              "2   3     NaN      NaN  there is a forest fire at spot pond, geese are...\n",
              "3   9     NaN      NaN           Apocalypse lighting. #Spokane #wildfires\n",
              "4  11     NaN      NaN      Typhoon Soudelor kills 28 in China and Taiwan"
            ],
            "text/html": [
              "\n",
              "  <div id=\"df-4c3019a8-25e0-4185-ad85-8d4d178f8786\">\n",
              "    <div class=\"colab-df-container\">\n",
              "      <div>\n",
              "<style scoped>\n",
              "    .dataframe tbody tr th:only-of-type {\n",
              "        vertical-align: middle;\n",
              "    }\n",
              "\n",
              "    .dataframe tbody tr th {\n",
              "        vertical-align: top;\n",
              "    }\n",
              "\n",
              "    .dataframe thead th {\n",
              "        text-align: right;\n",
              "    }\n",
              "</style>\n",
              "<table border=\"1\" class=\"dataframe\">\n",
              "  <thead>\n",
              "    <tr style=\"text-align: right;\">\n",
              "      <th></th>\n",
              "      <th>id</th>\n",
              "      <th>keyword</th>\n",
              "      <th>location</th>\n",
              "      <th>text</th>\n",
              "    </tr>\n",
              "  </thead>\n",
              "  <tbody>\n",
              "    <tr>\n",
              "      <th>0</th>\n",
              "      <td>0</td>\n",
              "      <td>NaN</td>\n",
              "      <td>NaN</td>\n",
              "      <td>Just happened a terrible car crash</td>\n",
              "    </tr>\n",
              "    <tr>\n",
              "      <th>1</th>\n",
              "      <td>2</td>\n",
              "      <td>NaN</td>\n",
              "      <td>NaN</td>\n",
              "      <td>Heard about #earthquake is different cities, s...</td>\n",
              "    </tr>\n",
              "    <tr>\n",
              "      <th>2</th>\n",
              "      <td>3</td>\n",
              "      <td>NaN</td>\n",
              "      <td>NaN</td>\n",
              "      <td>there is a forest fire at spot pond, geese are...</td>\n",
              "    </tr>\n",
              "    <tr>\n",
              "      <th>3</th>\n",
              "      <td>9</td>\n",
              "      <td>NaN</td>\n",
              "      <td>NaN</td>\n",
              "      <td>Apocalypse lighting. #Spokane #wildfires</td>\n",
              "    </tr>\n",
              "    <tr>\n",
              "      <th>4</th>\n",
              "      <td>11</td>\n",
              "      <td>NaN</td>\n",
              "      <td>NaN</td>\n",
              "      <td>Typhoon Soudelor kills 28 in China and Taiwan</td>\n",
              "    </tr>\n",
              "  </tbody>\n",
              "</table>\n",
              "</div>\n",
              "      <button class=\"colab-df-convert\" onclick=\"convertToInteractive('df-4c3019a8-25e0-4185-ad85-8d4d178f8786')\"\n",
              "              title=\"Convert this dataframe to an interactive table.\"\n",
              "              style=\"display:none;\">\n",
              "        \n",
              "  <svg xmlns=\"http://www.w3.org/2000/svg\" height=\"24px\"viewBox=\"0 0 24 24\"\n",
              "       width=\"24px\">\n",
              "    <path d=\"M0 0h24v24H0V0z\" fill=\"none\"/>\n",
              "    <path d=\"M18.56 5.44l.94 2.06.94-2.06 2.06-.94-2.06-.94-.94-2.06-.94 2.06-2.06.94zm-11 1L8.5 8.5l.94-2.06 2.06-.94-2.06-.94L8.5 2.5l-.94 2.06-2.06.94zm10 10l.94 2.06.94-2.06 2.06-.94-2.06-.94-.94-2.06-.94 2.06-2.06.94z\"/><path d=\"M17.41 7.96l-1.37-1.37c-.4-.4-.92-.59-1.43-.59-.52 0-1.04.2-1.43.59L10.3 9.45l-7.72 7.72c-.78.78-.78 2.05 0 2.83L4 21.41c.39.39.9.59 1.41.59.51 0 1.02-.2 1.41-.59l7.78-7.78 2.81-2.81c.8-.78.8-2.07 0-2.86zM5.41 20L4 18.59l7.72-7.72 1.47 1.35L5.41 20z\"/>\n",
              "  </svg>\n",
              "      </button>\n",
              "      \n",
              "  <style>\n",
              "    .colab-df-container {\n",
              "      display:flex;\n",
              "      flex-wrap:wrap;\n",
              "      gap: 12px;\n",
              "    }\n",
              "\n",
              "    .colab-df-convert {\n",
              "      background-color: #E8F0FE;\n",
              "      border: none;\n",
              "      border-radius: 50%;\n",
              "      cursor: pointer;\n",
              "      display: none;\n",
              "      fill: #1967D2;\n",
              "      height: 32px;\n",
              "      padding: 0 0 0 0;\n",
              "      width: 32px;\n",
              "    }\n",
              "\n",
              "    .colab-df-convert:hover {\n",
              "      background-color: #E2EBFA;\n",
              "      box-shadow: 0px 1px 2px rgba(60, 64, 67, 0.3), 0px 1px 3px 1px rgba(60, 64, 67, 0.15);\n",
              "      fill: #174EA6;\n",
              "    }\n",
              "\n",
              "    [theme=dark] .colab-df-convert {\n",
              "      background-color: #3B4455;\n",
              "      fill: #D2E3FC;\n",
              "    }\n",
              "\n",
              "    [theme=dark] .colab-df-convert:hover {\n",
              "      background-color: #434B5C;\n",
              "      box-shadow: 0px 1px 3px 1px rgba(0, 0, 0, 0.15);\n",
              "      filter: drop-shadow(0px 1px 2px rgba(0, 0, 0, 0.3));\n",
              "      fill: #FFFFFF;\n",
              "    }\n",
              "  </style>\n",
              "\n",
              "      <script>\n",
              "        const buttonEl =\n",
              "          document.querySelector('#df-4c3019a8-25e0-4185-ad85-8d4d178f8786 button.colab-df-convert');\n",
              "        buttonEl.style.display =\n",
              "          google.colab.kernel.accessAllowed ? 'block' : 'none';\n",
              "\n",
              "        async function convertToInteractive(key) {\n",
              "          const element = document.querySelector('#df-4c3019a8-25e0-4185-ad85-8d4d178f8786');\n",
              "          const dataTable =\n",
              "            await google.colab.kernel.invokeFunction('convertToInteractive',\n",
              "                                                     [key], {});\n",
              "          if (!dataTable) return;\n",
              "\n",
              "          const docLinkHtml = 'Like what you see? Visit the ' +\n",
              "            '<a target=\"_blank\" href=https://colab.research.google.com/notebooks/data_table.ipynb>data table notebook</a>'\n",
              "            + ' to learn more about interactive tables.';\n",
              "          element.innerHTML = '';\n",
              "          dataTable['output_type'] = 'display_data';\n",
              "          await google.colab.output.renderOutput(dataTable, element);\n",
              "          const docLink = document.createElement('div');\n",
              "          docLink.innerHTML = docLinkHtml;\n",
              "          element.appendChild(docLink);\n",
              "        }\n",
              "      </script>\n",
              "    </div>\n",
              "  </div>\n",
              "  "
            ]
          },
          "metadata": {},
          "execution_count": 12
        }
      ]
    },
    {
      "cell_type": "markdown",
      "source": [
        "# EDA"
      ],
      "metadata": {
        "id": "jkxF_Rw8_Bfi"
      }
    },
    {
      "cell_type": "code",
      "source": [
        "def create_corpus(target):\n",
        "    corpus = []\n",
        "    for x in df_train[df_train[\"target\"] == target][\"text\"].str.split():\n",
        "        print(x)\n",
        "        for i in x:\n",
        "            corpus.append(i)\n",
        "            \n",
        "    return corpus"
      ],
      "metadata": {
        "id": "4MQAzX2J4dKS"
      },
      "execution_count": null,
      "outputs": []
    },
    {
      "cell_type": "code",
      "source": [
        "corpus = create_corpus(0)\n",
        "\n",
        "stop = set(stopwords.words(\"english\"))\n",
        "\n",
        "dictionary = defaultdict(int)\n",
        "for word in corpus:\n",
        "    if word in stop:\n",
        "        dictionary[word] +=1\n",
        "        \n",
        "top = sorted(dictionary.items(), key = lambda x:x[1], reverse=True)[:10]"
      ],
      "metadata": {
        "id": "-OWzND5o4hk2"
      },
      "execution_count": null,
      "outputs": []
    },
    {
      "cell_type": "code",
      "source": [
        "x, y = zip(*top)\n",
        "\n",
        "plt.grid()\n",
        "plt.bar(x,y)\n",
        "plt.title(\"top words 0\")"
      ],
      "metadata": {
        "colab": {
          "base_uri": "https://localhost:8080/",
          "height": 471
        },
        "id": "4EJJ-sfQ6LwJ",
        "outputId": "fa0e86ec-c082-4b18-cd2e-8fd0e8c0efd3"
      },
      "execution_count": null,
      "outputs": [
        {
          "output_type": "execute_result",
          "data": {
            "text/plain": [
              "Text(0.5, 1.0, 'top words 0')"
            ]
          },
          "metadata": {},
          "execution_count": 21
        },
        {
          "output_type": "display_data",
          "data": {
            "text/plain": [
              "<Figure size 640x480 with 1 Axes>"
            ],
            "image/png": "[encoded data removed]"
          },
          "metadata": {}
        }
      ]
    },
    {
      "cell_type": "code",
      "source": [
        "corpus = create_corpus(1)\n",
        "\n",
        "stop = set(stopwords.words(\"english\"))\n",
        "\n",
        "dictionary = defaultdict(int)\n",
        "for word in corpus:\n",
        "    if word in stop:\n",
        "        dictionary[word] +=1\n",
        "        \n",
        "top = sorted(dictionary.items(), key = lambda x:x[1], reverse=True)[:10]"
      ],
      "metadata": {
        "id": "0c6oX8EH6PAi"
      },
      "execution_count": null,
      "outputs": []
    },
    {
      "cell_type": "code",
      "source": [
        "x, y = zip(*top)\n",
        "\n",
        "plt.grid()\n",
        "plt.bar(x,y, color = 'r')\n",
        "plt.title(\"top words 1\")"
      ],
      "metadata": {
        "colab": {
          "base_uri": "https://localhost:8080/",
          "height": 471
        },
        "id": "62wmk00t6wU4",
        "outputId": "9c629209-2de1-402f-bd7f-aa39aa7c8a14"
      },
      "execution_count": null,
      "outputs": [
        {
          "output_type": "execute_result",
          "data": {
            "text/plain": [
              "Text(0.5, 1.0, 'top words 1')"
            ]
          },
          "metadata": {},
          "execution_count": 25
        },
        {
          "output_type": "display_data",
          "data": {
            "text/plain": [
              "<Figure size 640x480 with 1 Axes>"
            ],
            "image/png": "[encoded data removed]"
          },
          "metadata": {}
        }
      ]
    },
    {
      "cell_type": "code",
      "source": [
        "corpus = create_corpus(1)\n",
        "\n",
        "dictionary = defaultdict(int)\n",
        "\n",
        "import string\n",
        "\n",
        "special_char = string.punctuation\n",
        "\n",
        "for i in corpus:\n",
        "    if i in special_char:\n",
        "        dictionary[i] +=1"
      ],
      "metadata": {
        "id": "srfmXCED61lP"
      },
      "execution_count": null,
      "outputs": []
    },
    {
      "cell_type": "code",
      "source": [
        "x,y = zip(*dictionary.items())\n",
        "\n",
        "plt.grid()\n",
        "plt.bar(x,y)\n",
        "plt.title(\"Punctuation disaster 1\")"
      ],
      "metadata": {
        "colab": {
          "base_uri": "https://localhost:8080/",
          "height": 472
        },
        "id": "iR8b_9Fv6NF-",
        "outputId": "6a6de572-845d-4fb3-8e99-32228dba1855"
      },
      "execution_count": null,
      "outputs": [
        {
          "output_type": "execute_result",
          "data": {
            "text/plain": [
              "Text(0.5, 1.0, 'Punctuation disaster 1')"
            ]
          },
          "metadata": {},
          "execution_count": 27
        },
        {
          "output_type": "display_data",
          "data": {
            "text/plain": [
              "<Figure size 640x480 with 1 Axes>"
            ],
            "image/png": "[encoded data removed]"
          },
          "metadata": {}
        }
      ]
    },
    {
      "cell_type": "code",
      "source": [
        "corpus = create_corpus(0)\n",
        "\n",
        "dictionary = defaultdict(int)\n",
        "\n",
        "import string\n",
        "\n",
        "special_char = string.punctuation\n",
        "\n",
        "for i in corpus:\n",
        "    if i in special_char:\n",
        "        dictionary[i] +=1"
      ],
      "metadata": {
        "id": "7ViSlo2X7GxP"
      },
      "execution_count": null,
      "outputs": []
    },
    {
      "cell_type": "code",
      "source": [
        "x,y = zip(*dictionary.items())\n",
        "\n",
        "plt.grid()\n",
        "plt.bar(x,y, color = 'r')\n",
        "plt.title(\"Punctuation disaster 0\")"
      ],
      "metadata": {
        "colab": {
          "base_uri": "https://localhost:8080/",
          "height": 472
        },
        "id": "LkI86-kH7Vlk",
        "outputId": "559a5e74-31f8-4ad6-c45f-d405a1f0ea95"
      },
      "execution_count": null,
      "outputs": [
        {
          "output_type": "execute_result",
          "data": {
            "text/plain": [
              "Text(0.5, 1.0, 'Punctuation disaster 0')"
            ]
          },
          "metadata": {},
          "execution_count": 30
        },
        {
          "output_type": "display_data",
          "data": {
            "text/plain": [
              "<Figure size 640x480 with 1 Axes>"
            ],
            "image/png": "[encoded data removed]"
          },
          "metadata": {}
        }
      ]
    },
    {
      "cell_type": "code",
      "source": [
        "counter = Counter(corpus)\n",
        "most = counter.most_common()\n",
        "x = []\n",
        "y = []\n",
        "\n",
        "for word, count in most[:40]:\n",
        "    if word not in stop:\n",
        "        x.append(word)\n",
        "        y.append(count)"
      ],
      "metadata": {
        "id": "I3stcZvv7fbQ"
      },
      "execution_count": null,
      "outputs": []
    },
    {
      "cell_type": "code",
      "source": [
        "plt.title(\"most common words\")\n",
        "plt.grid()\n",
        "sns.barplot(x = y, y = x)"
      ],
      "metadata": {
        "colab": {
          "base_uri": "https://localhost:8080/",
          "height": 471
        },
        "id": "fjeZVaZE7hWQ",
        "outputId": "10381ae9-54d8-4bb2-d982-7212319c28cd"
      },
      "execution_count": null,
      "outputs": [
        {
          "output_type": "execute_result",
          "data": {
            "text/plain": [
              "<Axes: title={'center': 'most common words'}>"
            ]
          },
          "metadata": {},
          "execution_count": 33
        },
        {
          "output_type": "display_data",
          "data": {
            "text/plain": [
              "<Figure size 640x480 with 1 Axes>"
            ],
            "image/png": "[encoded data removed]"
          },
          "metadata": {}
        }
      ]
    },
    {
      "cell_type": "markdown",
      "source": [
        "# 데이터 전처리"
      ],
      "metadata": {
        "id": "BwCp4wUX_INK"
      }
    },
    {
      "cell_type": "code",
      "source": [
        "import emoji\n",
        "stop=set(stopwords.words('english'))\n",
        "\n",
        "def text_preproccessing(df):  \n",
        "    \n",
        "    df = df.copy()\n",
        "    \n",
        "    def remove_URL(text):\n",
        "        url = re.compile(r'https?://\\S+|www\\.\\S+')\n",
        "        return url.sub(r'',text)\n",
        "\n",
        "    def remove_html(text):\n",
        "        html=re.compile(r'<.*?>')\n",
        "        return html.sub(r'',text)\n",
        "\n",
        "    def remove_punct(text):\n",
        "        table=str.maketrans('','',string.punctuation)\n",
        "        return text.translate(table)\n",
        "\n",
        "    # Reference : https://gist.github.com/slowkow/7a7f61f495e3dbb7e3d767f97bd7304b\n",
        "    def remove_emoji(text):\n",
        "        emoji_pattern = re.compile(\"[\"\n",
        "                               u\"\\U0001F600-\\U0001F64F\"  # emoticons\n",
        "                               u\"\\U0001F300-\\U0001F5FF\"  # symbols & pictographs\n",
        "                               u\"\\U0001F680-\\U0001F6FF\"  # transport & map symbols\n",
        "                               u\"\\U0001F1E0-\\U0001F1FF\"  # flags (iOS)\n",
        "                               u\"\\U00002702-\\U000027B0\"\n",
        "                               u\"\\U000024C2-\\U0001F251\"\n",
        "                               \"]+\", flags=re.UNICODE)\n",
        "        return emoji_pattern.sub(r'', text)\n",
        "\n",
        "    def remove_stopwords(x):\n",
        "        return ' '.join([i for i in x.split() if i not in stop])\n",
        "\n",
        "    def spell_check(x):\n",
        "        spell = Speller(lang='en')\n",
        "        return \" \".join([spell(i) for i in x.split()])\n",
        "\n",
        "    df['text']=df['text'].apply(lambda x : remove_URL(x))\n",
        "    df['text']=df['text'].apply(lambda x : remove_html(x))\n",
        "    df['text']=df['text'].apply(lambda x : remove_punct(x))\n",
        "    df['text']=df['text'].apply(lambda x : remove_emoji(x))\n",
        "    df['text']=df['text'].apply(lambda x : remove_stopwords(x))\n",
        "    #df['text']=df['text'].apply(lambda x : spell_check(x))\n",
        "\n",
        "    return df\n"
      ],
      "metadata": {
        "id": "H5LB77HDq0yE"
      },
      "execution_count": 13,
      "outputs": []
    },
    {
      "cell_type": "code",
      "source": [
        "df_train = text_preproccessing(df_train)\n",
        "df_test = text_preproccessing(df_test)"
      ],
      "metadata": {
        "id": "JS3VdyZ7hzAv"
      },
      "execution_count": 14,
      "outputs": []
    },
    {
      "cell_type": "code",
      "source": [
        "df_train.shape"
      ],
      "metadata": {
        "id": "KYdrMISrufO1",
        "outputId": "fd75af63-7e7e-4b37-c143-e0e352f4b80e",
        "colab": {
          "base_uri": "https://localhost:8080/"
        }
      },
      "execution_count": 15,
      "outputs": [
        {
          "output_type": "execute_result",
          "data": {
            "text/plain": [
              "(7613, 5)"
            ]
          },
          "metadata": {},
          "execution_count": 15
        }
      ]
    },
    {
      "cell_type": "code",
      "source": [
        "df_train.head()"
      ],
      "metadata": {
        "colab": {
          "base_uri": "https://localhost:8080/",
          "height": 0
        },
        "id": "MPuBo_0XiNLS",
        "outputId": "64529c17-fa75-4871-923f-5e9dc36ea358"
      },
      "execution_count": 16,
      "outputs": [
        {
          "output_type": "execute_result",
          "data": {
            "text/plain": [
              "   id keyword location                                               text  \\\n",
              "0   1     NaN      NaN   Our Deeds Reason earthquake May ALLAH Forgive us   \n",
              "1   4     NaN      NaN              Forest fire near La Ronge Sask Canada   \n",
              "2   5     NaN      NaN  All residents asked shelter place notified off...   \n",
              "3   6     NaN      NaN  13000 people receive wildfires evacuation orde...   \n",
              "4   7     NaN      NaN  Just got sent photo Ruby Alaska smoke wildfire...   \n",
              "\n",
              "   target  \n",
              "0       1  \n",
              "1       1  \n",
              "2       1  \n",
              "3       1  \n",
              "4       1  "
            ],
            "text/html": [
              "\n",
              "  <div id=\"df-73778f0e-8237-4fe6-b50a-bcaac4d973db\">\n",
              "    <div class=\"colab-df-container\">\n",
              "      <div>\n",
              "<style scoped>\n",
              "    .dataframe tbody tr th:only-of-type {\n",
              "        vertical-align: middle;\n",
              "    }\n",
              "\n",
              "    .dataframe tbody tr th {\n",
              "        vertical-align: top;\n",
              "    }\n",
              "\n",
              "    .dataframe thead th {\n",
              "        text-align: right;\n",
              "    }\n",
              "</style>\n",
              "<table border=\"1\" class=\"dataframe\">\n",
              "  <thead>\n",
              "    <tr style=\"text-align: right;\">\n",
              "      <th></th>\n",
              "      <th>id</th>\n",
              "      <th>keyword</th>\n",
              "      <th>location</th>\n",
              "      <th>text</th>\n",
              "      <th>target</th>\n",
              "    </tr>\n",
              "  </thead>\n",
              "  <tbody>\n",
              "    <tr>\n",
              "      <th>0</th>\n",
              "      <td>1</td>\n",
              "      <td>NaN</td>\n",
              "      <td>NaN</td>\n",
              "      <td>Our Deeds Reason earthquake May ALLAH Forgive us</td>\n",
              "      <td>1</td>\n",
              "    </tr>\n",
              "    <tr>\n",
              "      <th>1</th>\n",
              "      <td>4</td>\n",
              "      <td>NaN</td>\n",
              "      <td>NaN</td>\n",
              "      <td>Forest fire near La Ronge Sask Canada</td>\n",
              "      <td>1</td>\n",
              "    </tr>\n",
              "    <tr>\n",
              "      <th>2</th>\n",
              "      <td>5</td>\n",
              "      <td>NaN</td>\n",
              "      <td>NaN</td>\n",
              "      <td>All residents asked shelter place notified off...</td>\n",
              "      <td>1</td>\n",
              "    </tr>\n",
              "    <tr>\n",
              "      <th>3</th>\n",
              "      <td>6</td>\n",
              "      <td>NaN</td>\n",
              "      <td>NaN</td>\n",
              "      <td>13000 people receive wildfires evacuation orde...</td>\n",
              "      <td>1</td>\n",
              "    </tr>\n",
              "    <tr>\n",
              "      <th>4</th>\n",
              "      <td>7</td>\n",
              "      <td>NaN</td>\n",
              "      <td>NaN</td>\n",
              "      <td>Just got sent photo Ruby Alaska smoke wildfire...</td>\n",
              "      <td>1</td>\n",
              "    </tr>\n",
              "  </tbody>\n",
              "</table>\n",
              "</div>\n",
              "      <button class=\"colab-df-convert\" onclick=\"convertToInteractive('df-73778f0e-8237-4fe6-b50a-bcaac4d973db')\"\n",
              "              title=\"Convert this dataframe to an interactive table.\"\n",
              "              style=\"display:none;\">\n",
              "        \n",
              "  <svg xmlns=\"http://www.w3.org/2000/svg\" height=\"24px\"viewBox=\"0 0 24 24\"\n",
              "       width=\"24px\">\n",
              "    <path d=\"M0 0h24v24H0V0z\" fill=\"none\"/>\n",
              "    <path d=\"M18.56 5.44l.94 2.06.94-2.06 2.06-.94-2.06-.94-.94-2.06-.94 2.06-2.06.94zm-11 1L8.5 8.5l.94-2.06 2.06-.94-2.06-.94L8.5 2.5l-.94 2.06-2.06.94zm10 10l.94 2.06.94-2.06 2.06-.94-2.06-.94-.94-2.06-.94 2.06-2.06.94z\"/><path d=\"M17.41 7.96l-1.37-1.37c-.4-.4-.92-.59-1.43-.59-.52 0-1.04.2-1.43.59L10.3 9.45l-7.72 7.72c-.78.78-.78 2.05 0 2.83L4 21.41c.39.39.9.59 1.41.59.51 0 1.02-.2 1.41-.59l7.78-7.78 2.81-2.81c.8-.78.8-2.07 0-2.86zM5.41 20L4 18.59l7.72-7.72 1.47 1.35L5.41 20z\"/>\n",
              "  </svg>\n",
              "      </button>\n",
              "      \n",
              "  <style>\n",
              "    .colab-df-container {\n",
              "      display:flex;\n",
              "      flex-wrap:wrap;\n",
              "      gap: 12px;\n",
              "    }\n",
              "\n",
              "    .colab-df-convert {\n",
              "      background-color: #E8F0FE;\n",
              "      border: none;\n",
              "      border-radius: 50%;\n",
              "      cursor: pointer;\n",
              "      display: none;\n",
              "      fill: #1967D2;\n",
              "      height: 32px;\n",
              "      padding: 0 0 0 0;\n",
              "      width: 32px;\n",
              "    }\n",
              "\n",
              "    .colab-df-convert:hover {\n",
              "      background-color: #E2EBFA;\n",
              "      box-shadow: 0px 1px 2px rgba(60, 64, 67, 0.3), 0px 1px 3px 1px rgba(60, 64, 67, 0.15);\n",
              "      fill: #174EA6;\n",
              "    }\n",
              "\n",
              "    [theme=dark] .colab-df-convert {\n",
              "      background-color: #3B4455;\n",
              "      fill: #D2E3FC;\n",
              "    }\n",
              "\n",
              "    [theme=dark] .colab-df-convert:hover {\n",
              "      background-color: #434B5C;\n",
              "      box-shadow: 0px 1px 3px 1px rgba(0, 0, 0, 0.15);\n",
              "      filter: drop-shadow(0px 1px 2px rgba(0, 0, 0, 0.3));\n",
              "      fill: #FFFFFF;\n",
              "    }\n",
              "  </style>\n",
              "\n",
              "      <script>\n",
              "        const buttonEl =\n",
              "          document.querySelector('#df-73778f0e-8237-4fe6-b50a-bcaac4d973db button.colab-df-convert');\n",
              "        buttonEl.style.display =\n",
              "          google.colab.kernel.accessAllowed ? 'block' : 'none';\n",
              "\n",
              "        async function convertToInteractive(key) {\n",
              "          const element = document.querySelector('#df-73778f0e-8237-4fe6-b50a-bcaac4d973db');\n",
              "          const dataTable =\n",
              "            await google.colab.kernel.invokeFunction('convertToInteractive',\n",
              "                                                     [key], {});\n",
              "          if (!dataTable) return;\n",
              "\n",
              "          const docLinkHtml = 'Like what you see? Visit the ' +\n",
              "            '<a target=\"_blank\" href=https://colab.research.google.com/notebooks/data_table.ipynb>data table notebook</a>'\n",
              "            + ' to learn more about interactive tables.';\n",
              "          element.innerHTML = '';\n",
              "          dataTable['output_type'] = 'display_data';\n",
              "          await google.colab.output.renderOutput(dataTable, element);\n",
              "          const docLink = document.createElement('div');\n",
              "          docLink.innerHTML = docLinkHtml;\n",
              "          element.appendChild(docLink);\n",
              "        }\n",
              "      </script>\n",
              "    </div>\n",
              "  </div>\n",
              "  "
            ]
          },
          "metadata": {},
          "execution_count": 16
        }
      ]
    },
    {
      "cell_type": "code",
      "source": [
        "df_test.shape"
      ],
      "metadata": {
        "id": "07YGosD8u4m2",
        "outputId": "d7b1616b-1729-4d7f-ce4d-afb5e57d576c",
        "colab": {
          "base_uri": "https://localhost:8080/"
        }
      },
      "execution_count": 17,
      "outputs": [
        {
          "output_type": "execute_result",
          "data": {
            "text/plain": [
              "(3263, 4)"
            ]
          },
          "metadata": {},
          "execution_count": 17
        }
      ]
    },
    {
      "cell_type": "code",
      "source": [
        "df_test.head()"
      ],
      "metadata": {
        "colab": {
          "base_uri": "https://localhost:8080/",
          "height": 0
        },
        "id": "_w4IUpGnhcMw",
        "outputId": "39372817-9df9-4922-d105-35a389361d80"
      },
      "execution_count": 18,
      "outputs": [
        {
          "output_type": "execute_result",
          "data": {
            "text/plain": [
              "   id keyword location                                               text\n",
              "0   0     NaN      NaN                   Just happened terrible car crash\n",
              "1   2     NaN      NaN  Heard earthquake different cities stay safe ev...\n",
              "2   3     NaN      NaN  forest fire spot pond geese fleeing across str...\n",
              "3   9     NaN      NaN              Apocalypse lighting Spokane wildfires\n",
              "4  11     NaN      NaN             Typhoon Soudelor kills 28 China Taiwan"
            ],
            "text/html": [
              "\n",
              "  <div id=\"df-ed3ea8ea-8b31-4e79-a533-e2e876e6fb40\">\n",
              "    <div class=\"colab-df-container\">\n",
              "      <div>\n",
              "<style scoped>\n",
              "    .dataframe tbody tr th:only-of-type {\n",
              "        vertical-align: middle;\n",
              "    }\n",
              "\n",
              "    .dataframe tbody tr th {\n",
              "        vertical-align: top;\n",
              "    }\n",
              "\n",
              "    .dataframe thead th {\n",
              "        text-align: right;\n",
              "    }\n",
              "</style>\n",
              "<table border=\"1\" class=\"dataframe\">\n",
              "  <thead>\n",
              "    <tr style=\"text-align: right;\">\n",
              "      <th></th>\n",
              "      <th>id</th>\n",
              "      <th>keyword</th>\n",
              "      <th>location</th>\n",
              "      <th>text</th>\n",
              "    </tr>\n",
              "  </thead>\n",
              "  <tbody>\n",
              "    <tr>\n",
              "      <th>0</th>\n",
              "      <td>0</td>\n",
              "      <td>NaN</td>\n",
              "      <td>NaN</td>\n",
              "      <td>Just happened terrible car crash</td>\n",
              "    </tr>\n",
              "    <tr>\n",
              "      <th>1</th>\n",
              "      <td>2</td>\n",
              "      <td>NaN</td>\n",
              "      <td>NaN</td>\n",
              "      <td>Heard earthquake different cities stay safe ev...</td>\n",
              "    </tr>\n",
              "    <tr>\n",
              "      <th>2</th>\n",
              "      <td>3</td>\n",
              "      <td>NaN</td>\n",
              "      <td>NaN</td>\n",
              "      <td>forest fire spot pond geese fleeing across str...</td>\n",
              "    </tr>\n",
              "    <tr>\n",
              "      <th>3</th>\n",
              "      <td>9</td>\n",
              "      <td>NaN</td>\n",
              "      <td>NaN</td>\n",
              "      <td>Apocalypse lighting Spokane wildfires</td>\n",
              "    </tr>\n",
              "    <tr>\n",
              "      <th>4</th>\n",
              "      <td>11</td>\n",
              "      <td>NaN</td>\n",
              "      <td>NaN</td>\n",
              "      <td>Typhoon Soudelor kills 28 China Taiwan</td>\n",
              "    </tr>\n",
              "  </tbody>\n",
              "</table>\n",
              "</div>\n",
              "      <button class=\"colab-df-convert\" onclick=\"convertToInteractive('df-ed3ea8ea-8b31-4e79-a533-e2e876e6fb40')\"\n",
              "              title=\"Convert this dataframe to an interactive table.\"\n",
              "              style=\"display:none;\">\n",
              "        \n",
              "  <svg xmlns=\"http://www.w3.org/2000/svg\" height=\"24px\"viewBox=\"0 0 24 24\"\n",
              "       width=\"24px\">\n",
              "    <path d=\"M0 0h24v24H0V0z\" fill=\"none\"/>\n",
              "    <path d=\"M18.56 5.44l.94 2.06.94-2.06 2.06-.94-2.06-.94-.94-2.06-.94 2.06-2.06.94zm-11 1L8.5 8.5l.94-2.06 2.06-.94-2.06-.94L8.5 2.5l-.94 2.06-2.06.94zm10 10l.94 2.06.94-2.06 2.06-.94-2.06-.94-.94-2.06-.94 2.06-2.06.94z\"/><path d=\"M17.41 7.96l-1.37-1.37c-.4-.4-.92-.59-1.43-.59-.52 0-1.04.2-1.43.59L10.3 9.45l-7.72 7.72c-.78.78-.78 2.05 0 2.83L4 21.41c.39.39.9.59 1.41.59.51 0 1.02-.2 1.41-.59l7.78-7.78 2.81-2.81c.8-.78.8-2.07 0-2.86zM5.41 20L4 18.59l7.72-7.72 1.47 1.35L5.41 20z\"/>\n",
              "  </svg>\n",
              "      </button>\n",
              "      \n",
              "  <style>\n",
              "    .colab-df-container {\n",
              "      display:flex;\n",
              "      flex-wrap:wrap;\n",
              "      gap: 12px;\n",
              "    }\n",
              "\n",
              "    .colab-df-convert {\n",
              "      background-color: #E8F0FE;\n",
              "      border: none;\n",
              "      border-radius: 50%;\n",
              "      cursor: pointer;\n",
              "      display: none;\n",
              "      fill: #1967D2;\n",
              "      height: 32px;\n",
              "      padding: 0 0 0 0;\n",
              "      width: 32px;\n",
              "    }\n",
              "\n",
              "    .colab-df-convert:hover {\n",
              "      background-color: #E2EBFA;\n",
              "      box-shadow: 0px 1px 2px rgba(60, 64, 67, 0.3), 0px 1px 3px 1px rgba(60, 64, 67, 0.15);\n",
              "      fill: #174EA6;\n",
              "    }\n",
              "\n",
              "    [theme=dark] .colab-df-convert {\n",
              "      background-color: #3B4455;\n",
              "      fill: #D2E3FC;\n",
              "    }\n",
              "\n",
              "    [theme=dark] .colab-df-convert:hover {\n",
              "      background-color: #434B5C;\n",
              "      box-shadow: 0px 1px 3px 1px rgba(0, 0, 0, 0.15);\n",
              "      filter: drop-shadow(0px 1px 2px rgba(0, 0, 0, 0.3));\n",
              "      fill: #FFFFFF;\n",
              "    }\n",
              "  </style>\n",
              "\n",
              "      <script>\n",
              "        const buttonEl =\n",
              "          document.querySelector('#df-ed3ea8ea-8b31-4e79-a533-e2e876e6fb40 button.colab-df-convert');\n",
              "        buttonEl.style.display =\n",
              "          google.colab.kernel.accessAllowed ? 'block' : 'none';\n",
              "\n",
              "        async function convertToInteractive(key) {\n",
              "          const element = document.querySelector('#df-ed3ea8ea-8b31-4e79-a533-e2e876e6fb40');\n",
              "          const dataTable =\n",
              "            await google.colab.kernel.invokeFunction('convertToInteractive',\n",
              "                                                     [key], {});\n",
              "          if (!dataTable) return;\n",
              "\n",
              "          const docLinkHtml = 'Like what you see? Visit the ' +\n",
              "            '<a target=\"_blank\" href=https://colab.research.google.com/notebooks/data_table.ipynb>data table notebook</a>'\n",
              "            + ' to learn more about interactive tables.';\n",
              "          element.innerHTML = '';\n",
              "          dataTable['output_type'] = 'display_data';\n",
              "          await google.colab.output.renderOutput(dataTable, element);\n",
              "          const docLink = document.createElement('div');\n",
              "          docLink.innerHTML = docLinkHtml;\n",
              "          element.appendChild(docLink);\n",
              "        }\n",
              "      </script>\n",
              "    </div>\n",
              "  </div>\n",
              "  "
            ]
          },
          "metadata": {},
          "execution_count": 18
        }
      ]
    },
    {
      "cell_type": "code",
      "source": [
        "df=pd.concat([df_train,df_test])\n",
        "df.shape"
      ],
      "metadata": {
        "colab": {
          "base_uri": "https://localhost:8080/"
        },
        "id": "5P6QY6DBSqxT",
        "outputId": "f325bd4f-97c9-41bb-8ea3-5e14442d3706"
      },
      "execution_count": 19,
      "outputs": [
        {
          "output_type": "execute_result",
          "data": {
            "text/plain": [
              "(10876, 5)"
            ]
          },
          "metadata": {},
          "execution_count": 19
        }
      ]
    },
    {
      "cell_type": "markdown",
      "source": [
        "#  simple RNN"
      ],
      "metadata": {
        "id": "-1CxzPtonTa1"
      }
    },
    {
      "cell_type": "code",
      "source": [
        "tokenizer = Tokenizer()\n",
        "tokenizer.fit_on_texts(df['text'])\n",
        "X_train_encoded = tokenizer.texts_to_sequences(df['text']) #단어를 숫자로\n",
        "\n",
        "print(X_train_encoded[:5])"
      ],
      "metadata": {
        "colab": {
          "base_uri": "https://localhost:8080/"
        },
        "id": "aIuY3E4Yn1yf",
        "outputId": "33592e81-cbdf-4de1-cdce-a0b703d69c83"
      },
      "execution_count": null,
      "outputs": [
        {
          "output_type": "stream",
          "name": "stdout",
          "text": [
            "[[642, 5761, 761, 182, 82, 1873, 3684, 16], [97, 7, 144, 762, 8487, 8488, 1354], [123, 1522, 1434, 2187, 665, 8489, 1729, 79, 210, 2187, 665, 1615, 1179], [3121, 12, 4452, 1222, 210, 1615, 41], [141, 38, 1435, 231, 5762, 2432, 218, 1222, 8490, 142]]\n"
          ]
        }
      ]
    },
    {
      "cell_type": "code",
      "source": [
        "word_to_index = tokenizer.word_index\n",
        "print(word_to_index)"
      ],
      "metadata": {
        "id": "WFwMuTU3o-8v"
      },
      "execution_count": null,
      "outputs": []
    },
    {
      "cell_type": "code",
      "source": [
        "threshold = 2\n",
        "total_cnt = len(word_to_index) # 단어의 수\n",
        "rare_cnt = 0 # 등장 빈도수가 1인 것들 개수 카운트\n",
        "total_freq = 0 # 훈련 데이터 전체 단어 빈도수 총 합\n",
        "rare_freq = 0 # 등장 빈도수가 1인 것들의 등장 빈도수의 총 합\n",
        "\n",
        "# 단어와 빈도수의 쌍(pair)을 key와 value로 받는다.\n",
        "for key, value in tokenizer.word_counts.items():\n",
        "    total_freq = total_freq + value\n",
        "\n",
        "    if(value < threshold):\n",
        "        rare_cnt = rare_cnt + 1\n",
        "        rare_freq = rare_freq + value\n",
        "\n",
        "print('등장 빈도가 %s번 이하인 희귀 단어의 수: %s'%(threshold - 1, rare_cnt))\n",
        "print(\"단어 집합(vocabulary)에서 희귀 단어의 비율:\", (rare_cnt / total_cnt)*100)\n",
        "print(\"전체 등장 빈도에서 희귀 단어 등장 빈도 비율:\", (rare_freq / total_freq)*100)"
      ],
      "metadata": {
        "colab": {
          "base_uri": "https://localhost:8080/"
        },
        "id": "dLGg4ttCpa57",
        "outputId": "a0e89988-1dba-469e-bf29-b2da072f894d"
      },
      "execution_count": null,
      "outputs": [
        {
          "output_type": "stream",
          "name": "stdout",
          "text": [
            "등장 빈도가 1번 이하인 희귀 단어의 수: 14308\n",
            "단어 집합(vocabulary)에서 희귀 단어의 비율: 62.77090462402387\n",
            "전체 등장 빈도에서 희귀 단어 등장 빈도 비율: 12.831596506017615\n"
          ]
        }
      ]
    },
    {
      "cell_type": "code",
      "source": [
        "a = []\n",
        "for i in range(len(X_train_encoded)):\n",
        "    a.append(len(X_train_encoded[i]))\n",
        "max(a)\n",
        "\n",
        "#가장 긴 tweet의 길이 : 28개의 단어"
      ],
      "metadata": {
        "colab": {
          "base_uri": "https://localhost:8080/"
        },
        "id": "pKHnregpsAre",
        "outputId": "1f90d6d1-c9bd-4f8a-9d26-27506082ccb9"
      },
      "execution_count": null,
      "outputs": [
        {
          "output_type": "execute_result",
          "data": {
            "text/plain": [
              "28"
            ]
          },
          "metadata": {},
          "execution_count": 24
        }
      ]
    },
    {
      "cell_type": "code",
      "source": [
        "tokenizer.word_counts.items()\n",
        "#등장 빈도가 1번인 애들 살펴보기"
      ],
      "metadata": {
        "id": "6ApWBsEYqaHD"
      },
      "execution_count": null,
      "outputs": []
    },
    {
      "cell_type": "code",
      "source": [
        "total_cnt - rare_cnt + 1"
      ],
      "metadata": {
        "colab": {
          "base_uri": "https://localhost:8080/"
        },
        "id": "W2DUOmtmy1uY",
        "outputId": "f39498a5-4bf1-4019-b05c-2ac88a14b532"
      },
      "execution_count": null,
      "outputs": [
        {
          "output_type": "execute_result",
          "data": {
            "text/plain": [
              "8487"
            ]
          },
          "metadata": {},
          "execution_count": 26
        }
      ]
    },
    {
      "cell_type": "markdown",
      "source": [
        "# RNN 한번만 나오는 단어 제거"
      ],
      "metadata": {
        "id": "tBsfWBHz6bVq"
      }
    },
    {
      "cell_type": "code",
      "source": [
        "tokenizer = Tokenizer(num_words = total_cnt - rare_cnt + 1)    #한번만 나오는 단어 제거, 단어 빈도가 많은 순서로 5767개 단어 보존\n",
        "tokenizer.fit_on_texts(df['text'])                             #key value로 이루어진 딕셔너리 만들기    \n",
        "X_train_encoded = tokenizer.texts_to_sequences(df['text'])     #단어를 숫자로\n",
        "\n",
        "print(X_train_encoded[:5])"
      ],
      "metadata": {
        "colab": {
          "base_uri": "https://localhost:8080/"
        },
        "id": "s8DCpj8uvSLO",
        "outputId": "ee715ad0-6635-4a37-a870-cd8f4447c7f6"
      },
      "execution_count": null,
      "outputs": [
        {
          "output_type": "stream",
          "name": "stdout",
          "text": [
            "[[642, 5761, 761, 182, 82, 1873, 3684, 16], [97, 7, 144, 762, 1354], [123, 1522, 1434, 2187, 665, 1729, 79, 210, 2187, 665, 1615, 1179], [3121, 12, 4452, 1222, 210, 1615, 41], [141, 38, 1435, 231, 5762, 2432, 218, 1222, 142]]\n"
          ]
        }
      ]
    },
    {
      "cell_type": "code",
      "source": [
        "a = []\n",
        "for i in range(len(X_train_encoded)):\n",
        "    a.append(len(X_train_encoded[i]))\n",
        "max(a)\n",
        "\n",
        "#등장 빈도 1번인 애들 제거 후 가장 긴 tweet의 길이 : 26개의 단어"
      ],
      "metadata": {
        "colab": {
          "base_uri": "https://localhost:8080/"
        },
        "id": "1BoyJRb2v5YL",
        "outputId": "14ace74f-8c61-4874-8da9-07f0543c3d9d"
      },
      "execution_count": null,
      "outputs": [
        {
          "output_type": "execute_result",
          "data": {
            "text/plain": [
              "26"
            ]
          },
          "metadata": {},
          "execution_count": 28
        }
      ]
    },
    {
      "cell_type": "code",
      "source": [
        "max_len = 26\n",
        "X_train_padded = pad_sequences(X_train_encoded, maxlen = max_len)     # padding\n",
        "print(\"훈련 데이터의 크기(shape):\", X_train_padded.shape)"
      ],
      "metadata": {
        "colab": {
          "base_uri": "https://localhost:8080/"
        },
        "id": "fK0aPQKiwZQW",
        "outputId": "7893a331-7c86-44d3-cec5-a84077823425"
      },
      "execution_count": null,
      "outputs": [
        {
          "output_type": "stream",
          "name": "stdout",
          "text": [
            "훈련 데이터의 크기(shape): (10876, 26)\n"
          ]
        }
      ]
    },
    {
      "cell_type": "code",
      "source": [
        "vocab_size = total_cnt - rare_cnt + 1\n",
        "print('단어 집합의 크기: {}'.format((vocab_size)))"
      ],
      "metadata": {
        "colab": {
          "base_uri": "https://localhost:8080/"
        },
        "id": "8vm5_aOpwst3",
        "outputId": "3d0096ed-f64f-49ea-ab64-17485ae77030"
      },
      "execution_count": null,
      "outputs": [
        {
          "output_type": "stream",
          "name": "stdout",
          "text": [
            "단어 집합의 크기: 8487\n"
          ]
        }
      ]
    },
    {
      "cell_type": "code",
      "source": [
        "train_data, val_data, train_labels, val_labels = train_test_split(X_train_padded[:df_train.shape[0]], df_train['target'].values, test_size=0.2, random_state=0, stratify=df_train['target'].values)\n",
        "#stratify=df_train['target'].values -> train, test에서 0,1의 비율이 똑같"
      ],
      "metadata": {
        "id": "kgo9T6aAnYG3"
      },
      "execution_count": null,
      "outputs": []
    },
    {
      "cell_type": "code",
      "source": [
        "from tensorflow.keras.layers import SimpleRNN, Embedding, Dense\n",
        "from tensorflow.keras.models import Sequential\n",
        "\n",
        "embedding_dim = 32\n",
        "hidden_units = 32\n",
        "\n",
        "model = Sequential()\n",
        "model.add(Embedding(vocab_size, embedding_dim))\n",
        "model.add(SimpleRNN(hidden_units))\n",
        "model.add(Dense(1, activation='sigmoid'))\n",
        "\n",
        "optimzer=Adam(learning_rate=1e-4)\n",
        "\n",
        "model.compile(loss='binary_crossentropy',optimizer=optimzer,metrics=['accuracy'])\n",
        "\n",
        "callbacks_list = [\n",
        "    tf.keras.callbacks.EarlyStopping(\n",
        "        monitor='val_accuracy',                    \n",
        "        patience=5                                 \n",
        "    ),\n",
        "    tf.keras.callbacks.ModelCheckpoint(                \n",
        "        filepath=\"checkpoint_path.keras\",        \n",
        "        monitor='val_accuracy',                          \n",
        "        save_best_only=True,                       \n",
        "        verbose=1                                   \n",
        "    ),\n",
        "    tf.keras.callbacks.ReduceLROnPlateau(\n",
        "        monitor='val_loss',  \n",
        "        factor=0.5,          # callback 호출시 학습률을 1/2로 줄입니다\n",
        "        patience=5,         # epoch 5 동안 개선되지 않으면 callback이 호출됩니다\n",
        ")\n",
        "]\n",
        "\n",
        "\n",
        "history = model.fit(train_data, train_labels, \n",
        "                    validation_data = [val_data, val_labels], \n",
        "                    epochs=50,                           #그래프 보면서 에포크 늘려봤음 \n",
        "                    batch_size=64, \n",
        "                    callbacks = callbacks_list)"
      ],
      "metadata": {
        "colab": {
          "base_uri": "https://localhost:8080/"
        },
        "id": "u31zFcQfwjR_",
        "outputId": "ff213a8b-a891-4ef6-f8e4-0d184dddebf9"
      },
      "execution_count": null,
      "outputs": [
        {
          "output_type": "stream",
          "name": "stdout",
          "text": [
            "Epoch 1/50\n",
            "96/96 [==============================] - ETA: 0s - loss: 0.6826 - accuracy: 0.5609\n",
            "Epoch 1: val_accuracy improved from -inf to 0.57058, saving model to checkpoint_path.keras\n",
            "96/96 [==============================] - 22s 159ms/step - loss: 0.6826 - accuracy: 0.5609 - val_loss: 0.6749 - val_accuracy: 0.5706 - lr: 1.0000e-04\n",
            "Epoch 2/50\n",
            "96/96 [==============================] - ETA: 0s - loss: 0.6633 - accuracy: 0.5993\n",
            "Epoch 2: val_accuracy improved from 0.57058 to 0.60473, saving model to checkpoint_path.keras\n",
            "96/96 [==============================] - 11s 117ms/step - loss: 0.6633 - accuracy: 0.5993 - val_loss: 0.6629 - val_accuracy: 0.6047 - lr: 1.0000e-04\n",
            "Epoch 3/50\n",
            "96/96 [==============================] - ETA: 0s - loss: 0.6381 - accuracy: 0.6654\n",
            "Epoch 3: val_accuracy improved from 0.60473 to 0.64150, saving model to checkpoint_path.keras\n",
            "96/96 [==============================] - 5s 54ms/step - loss: 0.6381 - accuracy: 0.6654 - val_loss: 0.6437 - val_accuracy: 0.6415 - lr: 1.0000e-04\n",
            "Epoch 4/50\n",
            "96/96 [==============================] - ETA: 0s - loss: 0.5987 - accuracy: 0.7304\n",
            "Epoch 4: val_accuracy improved from 0.64150 to 0.68221, saving model to checkpoint_path.keras\n",
            "96/96 [==============================] - 4s 43ms/step - loss: 0.5987 - accuracy: 0.7304 - val_loss: 0.6114 - val_accuracy: 0.6822 - lr: 1.0000e-04\n",
            "Epoch 5/50\n",
            "96/96 [==============================] - ETA: 0s - loss: 0.5345 - accuracy: 0.7691\n",
            "Epoch 5: val_accuracy improved from 0.68221 to 0.73145, saving model to checkpoint_path.keras\n",
            "96/96 [==============================] - 6s 57ms/step - loss: 0.5345 - accuracy: 0.7691 - val_loss: 0.5577 - val_accuracy: 0.7315 - lr: 1.0000e-04\n",
            "Epoch 6/50\n",
            "96/96 [==============================] - ETA: 0s - loss: 0.4625 - accuracy: 0.8125\n",
            "Epoch 6: val_accuracy improved from 0.73145 to 0.74590, saving model to checkpoint_path.keras\n",
            "96/96 [==============================] - 4s 38ms/step - loss: 0.4625 - accuracy: 0.8125 - val_loss: 0.5273 - val_accuracy: 0.7459 - lr: 1.0000e-04\n",
            "Epoch 7/50\n",
            "96/96 [==============================] - ETA: 0s - loss: 0.4037 - accuracy: 0.8414\n",
            "Epoch 7: val_accuracy improved from 0.74590 to 0.76297, saving model to checkpoint_path.keras\n",
            "96/96 [==============================] - 3s 35ms/step - loss: 0.4037 - accuracy: 0.8414 - val_loss: 0.5091 - val_accuracy: 0.7630 - lr: 1.0000e-04\n",
            "Epoch 8/50\n",
            "96/96 [==============================] - ETA: 0s - loss: 0.3532 - accuracy: 0.8675\n",
            "Epoch 8: val_accuracy improved from 0.76297 to 0.76822, saving model to checkpoint_path.keras\n",
            "96/96 [==============================] - 6s 63ms/step - loss: 0.3532 - accuracy: 0.8675 - val_loss: 0.5043 - val_accuracy: 0.7682 - lr: 1.0000e-04\n",
            "Epoch 9/50\n",
            "96/96 [==============================] - ETA: 0s - loss: 0.3167 - accuracy: 0.8823\n",
            "Epoch 9: val_accuracy did not improve from 0.76822\n",
            "96/96 [==============================] - 3s 33ms/step - loss: 0.3167 - accuracy: 0.8823 - val_loss: 0.4950 - val_accuracy: 0.7682 - lr: 1.0000e-04\n",
            "Epoch 10/50\n",
            "96/96 [==============================] - ETA: 0s - loss: 0.2828 - accuracy: 0.8951\n",
            "Epoch 10: val_accuracy did not improve from 0.76822\n",
            "96/96 [==============================] - 3s 35ms/step - loss: 0.2828 - accuracy: 0.8951 - val_loss: 0.5205 - val_accuracy: 0.7630 - lr: 1.0000e-04\n",
            "Epoch 11/50\n",
            "96/96 [==============================] - ETA: 0s - loss: 0.2591 - accuracy: 0.9080\n",
            "Epoch 11: val_accuracy did not improve from 0.76822\n",
            "96/96 [==============================] - 3s 35ms/step - loss: 0.2591 - accuracy: 0.9080 - val_loss: 0.5121 - val_accuracy: 0.7636 - lr: 1.0000e-04\n",
            "Epoch 12/50\n",
            "96/96 [==============================] - ETA: 0s - loss: 0.2335 - accuracy: 0.9176\n",
            "Epoch 12: val_accuracy improved from 0.76822 to 0.77741, saving model to checkpoint_path.keras\n",
            "96/96 [==============================] - 5s 51ms/step - loss: 0.2335 - accuracy: 0.9176 - val_loss: 0.5148 - val_accuracy: 0.7774 - lr: 1.0000e-04\n",
            "Epoch 13/50\n",
            "96/96 [==============================] - ETA: 0s - loss: 0.2143 - accuracy: 0.9264\n",
            "Epoch 13: val_accuracy did not improve from 0.77741\n",
            "96/96 [==============================] - 3s 33ms/step - loss: 0.2143 - accuracy: 0.9264 - val_loss: 0.5146 - val_accuracy: 0.7715 - lr: 1.0000e-04\n",
            "Epoch 14/50\n",
            "96/96 [==============================] - ETA: 0s - loss: 0.1993 - accuracy: 0.9315\n",
            "Epoch 14: val_accuracy did not improve from 0.77741\n",
            "96/96 [==============================] - 3s 31ms/step - loss: 0.1993 - accuracy: 0.9315 - val_loss: 0.5326 - val_accuracy: 0.7722 - lr: 1.0000e-04\n",
            "Epoch 15/50\n",
            "96/96 [==============================] - ETA: 0s - loss: 0.1833 - accuracy: 0.9388\n",
            "Epoch 15: val_accuracy did not improve from 0.77741\n",
            "96/96 [==============================] - 4s 42ms/step - loss: 0.1833 - accuracy: 0.9388 - val_loss: 0.5560 - val_accuracy: 0.7584 - lr: 1.0000e-04\n",
            "Epoch 16/50\n",
            "96/96 [==============================] - ETA: 0s - loss: 0.1710 - accuracy: 0.9435\n",
            "Epoch 16: val_accuracy did not improve from 0.77741\n",
            "96/96 [==============================] - 4s 46ms/step - loss: 0.1710 - accuracy: 0.9435 - val_loss: 0.5686 - val_accuracy: 0.7610 - lr: 1.0000e-04\n",
            "Epoch 17/50\n",
            "96/96 [==============================] - ETA: 0s - loss: 0.1612 - accuracy: 0.9476\n",
            "Epoch 17: val_accuracy did not improve from 0.77741\n",
            "96/96 [==============================] - 4s 40ms/step - loss: 0.1612 - accuracy: 0.9476 - val_loss: 0.5714 - val_accuracy: 0.7715 - lr: 1.0000e-04\n"
          ]
        }
      ]
    },
    {
      "cell_type": "code",
      "source": [
        "history_dict = history.history\n",
        "history_dict.keys()"
      ],
      "metadata": {
        "colab": {
          "base_uri": "https://localhost:8080/"
        },
        "id": "UqqpX3pB0l0v",
        "outputId": "aea7d8c4-c552-465f-f5b2-3124e13e3988"
      },
      "execution_count": null,
      "outputs": [
        {
          "output_type": "execute_result",
          "data": {
            "text/plain": [
              "dict_keys(['loss', 'accuracy', 'val_loss', 'val_accuracy', 'lr'])"
            ]
          },
          "metadata": {},
          "execution_count": 33
        }
      ]
    },
    {
      "cell_type": "code",
      "source": [
        "history_dict = history.history\n",
        "loss_values = history_dict[\"loss\"]\n",
        "val_loss_values = history_dict[\"val_loss\"]\n",
        "epochs = range(1, len(loss_values) + 1)\n",
        "plt.plot(epochs, loss_values, \"bo\", label=\"Training loss\")\n",
        "plt.plot(epochs, val_loss_values, \"b\", label=\"Validation loss\")\n",
        "plt.title(\"Training and validation loss\")\n",
        "plt.xlabel(\"Epochs\")\n",
        "plt.ylabel(\"Loss\")\n",
        "plt.legend()\n",
        "plt.show()"
      ],
      "metadata": {
        "colab": {
          "base_uri": "https://localhost:8080/",
          "height": 477
        },
        "id": "h0s9gMBt1n4y",
        "outputId": "bdcdc7a9-e1fd-423f-c5ef-cef161b13e8c"
      },
      "execution_count": null,
      "outputs": [
        {
          "output_type": "display_data",
          "data": {
            "text/plain": [
              "<Figure size 640x480 with 1 Axes>"
            ],
            "image/png": "[encoded data removed]"
          },
          "metadata": {}
        }
      ]
    },
    {
      "cell_type": "code",
      "source": [
        "plt.clf()\n",
        "acc = history_dict[\"accuracy\"]\n",
        "val_acc = history_dict[\"val_accuracy\"]\n",
        "plt.plot(epochs, acc, \"bo\", label=\"Training acc\")\n",
        "plt.plot(epochs, val_acc, \"b\", label=\"Validation acc\")\n",
        "plt.title(\"Training and validation accuracy\")\n",
        "plt.xlabel(\"Epochs\")\n",
        "plt.ylabel(\"Accuracy\")\n",
        "plt.legend()\n",
        "plt.show()"
      ],
      "metadata": {
        "colab": {
          "base_uri": "https://localhost:8080/",
          "height": 477
        },
        "id": "PhPKlxqg0ZfC",
        "outputId": "596d437f-4c17-4642-b66d-ac987b7c3628"
      },
      "execution_count": null,
      "outputs": [
        {
          "output_type": "display_data",
          "data": {
            "text/plain": [
              "<Figure size 640x480 with 1 Axes>"
            ],
            "image/png": "[encoded data removed]"
          },
          "metadata": {}
        }
      ]
    },
    {
      "cell_type": "code",
      "source": [
        "loaded_model = tf.keras.models.load_model('checkpoint_path.keras')\n",
        "predicted = loaded_model.predict(X_train_padded[df_train.shape[0]:])\n",
        "y_predicted = np.where(predicted>0.5,1,0)\n",
        "y_predicted = y_predicted.reshape((1,3263))[0]\n",
        "df_sample['id'] = df_test.id\n",
        "df_sample['target'] = y_predicted\n",
        "df_sample.to_csv('submission.csv',index = False)\n",
        "#리더보드 결과 : "
      ],
      "metadata": {
        "colab": {
          "base_uri": "https://localhost:8080/"
        },
        "id": "HD2uGqOm1T7i",
        "outputId": "a298ffb0-1f93-4961-9004-15c729878695"
      },
      "execution_count": null,
      "outputs": [
        {
          "output_type": "stream",
          "name": "stdout",
          "text": [
            "102/102 [==============================] - 1s 5ms/step\n"
          ]
        }
      ]
    },
    {
      "cell_type": "markdown",
      "source": [
        "#RNN 한번만 나오는 단어 제거 X"
      ],
      "metadata": {
        "id": "0F9A2V_V6jFS"
      }
    },
    {
      "cell_type": "code",
      "source": [
        "tokenizer = Tokenizer()                                        #한번만 나오는 단어 제거X\n",
        "tokenizer.fit_on_texts(df['text'])                             #key value로 이루어진 딕셔너리 만들기    \n",
        "X_train_encoded = tokenizer.texts_to_sequences(df['text'])     #단어를 숫자로\n",
        "\n",
        "print(X_train_encoded[:5])"
      ],
      "metadata": {
        "colab": {
          "base_uri": "https://localhost:8080/"
        },
        "id": "-aFhwMep6xd2",
        "outputId": "04164078-8a28-4e27-d392-98a5d7405821"
      },
      "execution_count": null,
      "outputs": [
        {
          "output_type": "stream",
          "name": "stdout",
          "text": [
            "[[642, 5761, 761, 182, 82, 1873, 3684, 16], [97, 7, 144, 762, 8487, 8488, 1354], [123, 1522, 1434, 2187, 665, 8489, 1729, 79, 210, 2187, 665, 1615, 1179], [3121, 12, 4452, 1222, 210, 1615, 41], [141, 38, 1435, 231, 5762, 2432, 218, 1222, 8490, 142]]\n"
          ]
        }
      ]
    },
    {
      "cell_type": "code",
      "source": [
        "a = []\n",
        "for i in range(len(X_train_encoded)):\n",
        "    a.append(len(X_train_encoded[i]))\n",
        "max(a)\n",
        "\n",
        "#등장 빈도 1번인 애들 제거 후 가장 긴 tweet의 길이 : 28개의 단어"
      ],
      "metadata": {
        "outputId": "6540b714-ad6e-498f-efa8-8e084d81cec5",
        "colab": {
          "base_uri": "https://localhost:8080/"
        },
        "id": "eVTaKo9_7ALW"
      },
      "execution_count": null,
      "outputs": [
        {
          "output_type": "execute_result",
          "data": {
            "text/plain": [
              "28"
            ]
          },
          "metadata": {},
          "execution_count": 37
        }
      ]
    },
    {
      "cell_type": "code",
      "source": [
        "max_len = 28\n",
        "X_train_padded = pad_sequences(X_train_encoded, maxlen = max_len)     # padding\n",
        "print(\"훈련 데이터의 크기(shape):\", X_train_padded.shape)"
      ],
      "metadata": {
        "outputId": "a14cad65-7d8e-4a0c-840d-e768f7a4292c",
        "colab": {
          "base_uri": "https://localhost:8080/"
        },
        "id": "f7zJsm537ALe"
      },
      "execution_count": null,
      "outputs": [
        {
          "output_type": "stream",
          "name": "stdout",
          "text": [
            "훈련 데이터의 크기(shape): (10876, 28)\n"
          ]
        }
      ]
    },
    {
      "cell_type": "code",
      "source": [
        "vocab_size = len(word_to_index) + 1\n",
        "print('단어 집합의 크기: {}'.format((vocab_size)))"
      ],
      "metadata": {
        "outputId": "5d9fc3a7-127b-4b39-cb3b-cb0fd1441191",
        "colab": {
          "base_uri": "https://localhost:8080/"
        },
        "id": "zOC1bxGz7ALe"
      },
      "execution_count": null,
      "outputs": [
        {
          "output_type": "stream",
          "name": "stdout",
          "text": [
            "단어 집합의 크기: 22795\n"
          ]
        }
      ]
    },
    {
      "cell_type": "code",
      "source": [
        "train_data, val_data, train_labels, val_labels = train_test_split(X_train_padded[:df_train.shape[0]], df_train['target'].values, test_size=0.2, random_state=0, stratify=df_train['target'].values)\n",
        "#stratify=df_train['target'].values -> train, test에서 0,1의 비율이 똑같"
      ],
      "metadata": {
        "id": "PMOp6bIF7ALe"
      },
      "execution_count": null,
      "outputs": []
    },
    {
      "cell_type": "code",
      "source": [
        "from tensorflow.keras.layers import SimpleRNN, Embedding, Dense\n",
        "from tensorflow.keras.models import Sequential\n",
        "\n",
        "embedding_dim = 32\n",
        "hidden_units = 32\n",
        "\n",
        "model = Sequential()\n",
        "model.add(Embedding(vocab_size, embedding_dim))\n",
        "model.add(SimpleRNN(hidden_units))\n",
        "model.add(Dense(1, activation='sigmoid'))\n",
        "\n",
        "optimzer=Adam(learning_rate=1e-4)\n",
        "\n",
        "model.compile(loss='binary_crossentropy',optimizer=optimzer,metrics=['accuracy'])\n",
        "\n",
        "callbacks_list = [\n",
        "    tf.keras.callbacks.EarlyStopping(\n",
        "        monitor='val_accuracy',                    \n",
        "        patience=5                                 \n",
        "    ),\n",
        "    tf.keras.callbacks.ModelCheckpoint(                \n",
        "        filepath=\"checkpoint_path.keras\",        \n",
        "        monitor='val_accuracy',                          \n",
        "        save_best_only=True,                       \n",
        "        verbose=1                                   \n",
        "    ),\n",
        "    tf.keras.callbacks.ReduceLROnPlateau(\n",
        "        monitor='val_loss',  \n",
        "        factor=0.5,          # callback 호출시 학습률을 1/2로 줄입니다\n",
        "        patience=5,         # epoch 5 동안 개선되지 않으면 callback이 호출됩니다\n",
        ")\n",
        "]\n",
        "\n",
        "\n",
        "history = model.fit(train_data, train_labels, \n",
        "                    validation_data = [val_data, val_labels], \n",
        "                    epochs=50,                           #그래프 보면서 에포크 늘려봤음 \n",
        "                    batch_size=64, \n",
        "                    callbacks = callbacks_list)"
      ],
      "metadata": {
        "outputId": "d3295412-ab30-46b5-bcbc-b8c53767e23f",
        "colab": {
          "base_uri": "https://localhost:8080/"
        },
        "id": "vG5F8LQS7ALf"
      },
      "execution_count": null,
      "outputs": [
        {
          "output_type": "stream",
          "name": "stdout",
          "text": [
            "Epoch 1/50\n",
            "96/96 [==============================] - ETA: 0s - loss: 0.6785 - accuracy: 0.5634\n",
            "Epoch 1: val_accuracy improved from -inf to 0.57321, saving model to checkpoint_path.keras\n",
            "96/96 [==============================] - 20s 189ms/step - loss: 0.6785 - accuracy: 0.5634 - val_loss: 0.6735 - val_accuracy: 0.5732 - lr: 1.0000e-04\n",
            "Epoch 2/50\n",
            "96/96 [==============================] - ETA: 0s - loss: 0.6574 - accuracy: 0.6141\n",
            "Epoch 2: val_accuracy improved from 0.57321 to 0.62443, saving model to checkpoint_path.keras\n",
            "96/96 [==============================] - 11s 111ms/step - loss: 0.6574 - accuracy: 0.6141 - val_loss: 0.6567 - val_accuracy: 0.6244 - lr: 1.0000e-04\n",
            "Epoch 3/50\n",
            "96/96 [==============================] - ETA: 0s - loss: 0.6226 - accuracy: 0.7016\n",
            "Epoch 3: val_accuracy improved from 0.62443 to 0.68155, saving model to checkpoint_path.keras\n",
            "96/96 [==============================] - 5s 53ms/step - loss: 0.6226 - accuracy: 0.7016 - val_loss: 0.6298 - val_accuracy: 0.6815 - lr: 1.0000e-04\n",
            "Epoch 4/50\n",
            "96/96 [==============================] - ETA: 0s - loss: 0.5608 - accuracy: 0.7685\n",
            "Epoch 4: val_accuracy improved from 0.68155 to 0.71701, saving model to checkpoint_path.keras\n",
            "96/96 [==============================] - 7s 74ms/step - loss: 0.5608 - accuracy: 0.7685 - val_loss: 0.5778 - val_accuracy: 0.7170 - lr: 1.0000e-04\n",
            "Epoch 5/50\n",
            "96/96 [==============================] - ETA: 0s - loss: 0.4671 - accuracy: 0.8182\n",
            "Epoch 5: val_accuracy improved from 0.71701 to 0.75181, saving model to checkpoint_path.keras\n",
            "96/96 [==============================] - 4s 47ms/step - loss: 0.4671 - accuracy: 0.8182 - val_loss: 0.5242 - val_accuracy: 0.7518 - lr: 1.0000e-04\n",
            "Epoch 6/50\n",
            "95/96 [============================>.] - ETA: 0s - loss: 0.3879 - accuracy: 0.8554\n",
            "Epoch 6: val_accuracy improved from 0.75181 to 0.76231, saving model to checkpoint_path.keras\n",
            "96/96 [==============================] - 4s 47ms/step - loss: 0.3877 - accuracy: 0.8555 - val_loss: 0.5005 - val_accuracy: 0.7623 - lr: 1.0000e-04\n",
            "Epoch 7/50\n",
            "96/96 [==============================] - ETA: 0s - loss: 0.3224 - accuracy: 0.8867\n",
            "Epoch 7: val_accuracy improved from 0.76231 to 0.76297, saving model to checkpoint_path.keras\n",
            "96/96 [==============================] - 6s 58ms/step - loss: 0.3224 - accuracy: 0.8867 - val_loss: 0.4964 - val_accuracy: 0.7630 - lr: 1.0000e-04\n",
            "Epoch 8/50\n",
            "96/96 [==============================] - ETA: 0s - loss: 0.2740 - accuracy: 0.9053\n",
            "Epoch 8: val_accuracy improved from 0.76297 to 0.76625, saving model to checkpoint_path.keras\n",
            "96/96 [==============================] - 4s 42ms/step - loss: 0.2740 - accuracy: 0.9053 - val_loss: 0.5012 - val_accuracy: 0.7663 - lr: 1.0000e-04\n",
            "Epoch 9/50\n",
            "96/96 [==============================] - ETA: 0s - loss: 0.2343 - accuracy: 0.9212\n",
            "Epoch 9: val_accuracy did not improve from 0.76625\n",
            "96/96 [==============================] - 4s 41ms/step - loss: 0.2343 - accuracy: 0.9212 - val_loss: 0.5237 - val_accuracy: 0.7597 - lr: 1.0000e-04\n",
            "Epoch 10/50\n",
            "96/96 [==============================] - ETA: 0s - loss: 0.2015 - accuracy: 0.9332\n",
            "Epoch 10: val_accuracy did not improve from 0.76625\n",
            "96/96 [==============================] - 5s 56ms/step - loss: 0.2015 - accuracy: 0.9332 - val_loss: 0.5286 - val_accuracy: 0.7623 - lr: 1.0000e-04\n",
            "Epoch 11/50\n",
            "96/96 [==============================] - ETA: 0s - loss: 0.1802 - accuracy: 0.9440\n",
            "Epoch 11: val_accuracy did not improve from 0.76625\n",
            "96/96 [==============================] - 3s 35ms/step - loss: 0.1802 - accuracy: 0.9440 - val_loss: 0.5571 - val_accuracy: 0.7571 - lr: 1.0000e-04\n",
            "Epoch 12/50\n",
            "96/96 [==============================] - ETA: 0s - loss: 0.1597 - accuracy: 0.9488\n",
            "Epoch 12: val_accuracy did not improve from 0.76625\n",
            "96/96 [==============================] - 3s 35ms/step - loss: 0.1597 - accuracy: 0.9488 - val_loss: 0.5596 - val_accuracy: 0.7617 - lr: 1.0000e-04\n",
            "Epoch 13/50\n",
            "96/96 [==============================] - ETA: 0s - loss: 0.1414 - accuracy: 0.9558\n",
            "Epoch 13: val_accuracy did not improve from 0.76625\n",
            "96/96 [==============================] - 5s 50ms/step - loss: 0.1414 - accuracy: 0.9558 - val_loss: 0.5883 - val_accuracy: 0.7538 - lr: 5.0000e-05\n"
          ]
        }
      ]
    },
    {
      "cell_type": "code",
      "source": [
        "history_dict = history.history\n",
        "history_dict.keys()"
      ],
      "metadata": {
        "outputId": "2c0ef39b-9c1f-43b9-c396-ba12a29de508",
        "colab": {
          "base_uri": "https://localhost:8080/"
        },
        "id": "Unh3HZTz7Hif"
      },
      "execution_count": null,
      "outputs": [
        {
          "output_type": "execute_result",
          "data": {
            "text/plain": [
              "dict_keys(['loss', 'accuracy', 'val_loss', 'val_accuracy', 'lr'])"
            ]
          },
          "metadata": {},
          "execution_count": 42
        }
      ]
    },
    {
      "cell_type": "code",
      "source": [
        "history_dict = history.history\n",
        "loss_values = history_dict[\"loss\"]\n",
        "val_loss_values = history_dict[\"val_loss\"]\n",
        "epochs = range(1, len(loss_values) + 1)\n",
        "plt.plot(epochs, loss_values, \"bo\", label=\"Training loss\")\n",
        "plt.plot(epochs, val_loss_values, \"b\", label=\"Validation loss\")\n",
        "plt.title(\"Training and validation loss\")\n",
        "plt.xlabel(\"Epochs\")\n",
        "plt.ylabel(\"Loss\")\n",
        "plt.legend()\n",
        "plt.show()"
      ],
      "metadata": {
        "outputId": "7b200104-9905-471c-9112-cde6ce3364f4",
        "colab": {
          "base_uri": "https://localhost:8080/",
          "height": 477
        },
        "id": "5i8KDyGV7Hig"
      },
      "execution_count": null,
      "outputs": [
        {
          "output_type": "display_data",
          "data": {
            "text/plain": [
              "<Figure size 640x480 with 1 Axes>"
            ],
            "image/png": "[encoded data removed]"
          },
          "metadata": {}
        }
      ]
    },
    {
      "cell_type": "code",
      "source": [
        "plt.clf()\n",
        "acc = history_dict[\"accuracy\"]\n",
        "val_acc = history_dict[\"val_accuracy\"]\n",
        "plt.plot(epochs, acc, \"bo\", label=\"Training acc\")\n",
        "plt.plot(epochs, val_acc, \"b\", label=\"Validation acc\")\n",
        "plt.title(\"Training and validation accuracy\")\n",
        "plt.xlabel(\"Epochs\")\n",
        "plt.ylabel(\"Accuracy\")\n",
        "plt.legend()\n",
        "plt.show()"
      ],
      "metadata": {
        "outputId": "23dc1f4a-16d1-426d-de8d-6a3e71fb1cde",
        "colab": {
          "base_uri": "https://localhost:8080/",
          "height": 477
        },
        "id": "jqZqpMlf7Hig"
      },
      "execution_count": null,
      "outputs": [
        {
          "output_type": "display_data",
          "data": {
            "text/plain": [
              "<Figure size 640x480 with 1 Axes>"
            ],
            "image/png": "[encoded data removed]"
          },
          "metadata": {}
        }
      ]
    },
    {
      "cell_type": "code",
      "source": [
        "loaded_model = tf.keras.models.load_model('checkpoint_path.keras')\n",
        "predicted = loaded_model.predict(X_train_padded[df_train.shape[0]:])\n",
        "y_predicted = np.where(predicted>0.5,1,0)\n",
        "y_predicted = y_predicted.reshape((1,3263))[0]\n",
        "df_sample['id'] = df_test.id\n",
        "df_sample['target'] = y_predicted\n",
        "df_sample.to_csv('submission.csv',index = False)\n",
        "#리더보드 결과 : "
      ],
      "metadata": {
        "outputId": "38845480-3bfd-4418-f25c-d749ec8f3832",
        "colab": {
          "base_uri": "https://localhost:8080/"
        },
        "id": "76KzeqIs7Hig"
      },
      "execution_count": null,
      "outputs": [
        {
          "output_type": "stream",
          "name": "stdout",
          "text": [
            "102/102 [==============================] - 1s 4ms/step\n"
          ]
        }
      ]
    },
    {
      "cell_type": "markdown",
      "source": [
        "# LSTM"
      ],
      "metadata": {
        "id": "_JYIQpTv9elK"
      }
    },
    {
      "cell_type": "code",
      "source": [
        "tokenizer = Tokenizer()                                        \n",
        "tokenizer.fit_on_texts(df['text'])                                \n",
        "X_train_encoded = tokenizer.texts_to_sequences(df['text'])     \n",
        "\n",
        "print(X_train_encoded[:5])"
      ],
      "metadata": {
        "id": "TjADGCzuywu8",
        "outputId": "aaa77bf6-403b-4498-e6d1-bb7f02d0040a",
        "colab": {
          "base_uri": "https://localhost:8080/"
        }
      },
      "execution_count": null,
      "outputs": [
        {
          "output_type": "stream",
          "name": "stdout",
          "text": [
            "[[642, 5761, 761, 182, 82, 1873, 3684, 16], [97, 7, 144, 762, 8487, 8488, 1354], [123, 1522, 1434, 2187, 665, 8489, 1729, 79, 210, 2187, 665, 1615, 1179], [3121, 12, 4452, 1222, 210, 1615, 41], [141, 38, 1435, 231, 5762, 2432, 218, 1222, 8490, 142]]\n"
          ]
        }
      ]
    },
    {
      "cell_type": "code",
      "source": [
        "a = []\n",
        "for i in range(len(X_train_encoded)):\n",
        "    a.append(len(X_train_encoded[i]))\n",
        "max(a)\n",
        "\n",
        "#가장 긴 tweet의 길이 : 28개의 단어"
      ],
      "metadata": {
        "id": "ymoovllby8oT",
        "outputId": "bfe086c1-ddbf-4e0c-f2d1-5737d3eccb13",
        "colab": {
          "base_uri": "https://localhost:8080/"
        }
      },
      "execution_count": null,
      "outputs": [
        {
          "output_type": "execute_result",
          "data": {
            "text/plain": [
              "28"
            ]
          },
          "metadata": {},
          "execution_count": 48
        }
      ]
    },
    {
      "cell_type": "code",
      "source": [
        "max_len = 28\n",
        "X_train_padded = pad_sequences(X_train_encoded, maxlen = max_len)     # padding\n",
        "print(\"훈련 데이터의 크기(shape):\", X_train_padded.shape)"
      ],
      "metadata": {
        "id": "l0p3fITXzH9S",
        "outputId": "49d0e466-6f8d-482e-f0aa-fda28aab2215",
        "colab": {
          "base_uri": "https://localhost:8080/"
        }
      },
      "execution_count": null,
      "outputs": [
        {
          "output_type": "stream",
          "name": "stdout",
          "text": [
            "훈련 데이터의 크기(shape): (10876, 28)\n"
          ]
        }
      ]
    },
    {
      "cell_type": "code",
      "source": [
        "vocab_size = len(word_to_index)\n",
        "print('단어 집합의 크기: {}'.format((vocab_size)))"
      ],
      "metadata": {
        "id": "aK6FhKOrzT7P",
        "outputId": "4d49e1d0-99c2-4dce-fc7c-123a66452e12",
        "colab": {
          "base_uri": "https://localhost:8080/"
        }
      },
      "execution_count": null,
      "outputs": [
        {
          "output_type": "stream",
          "name": "stdout",
          "text": [
            "단어 집합의 크기: 22794\n"
          ]
        }
      ]
    },
    {
      "cell_type": "code",
      "source": [
        "train_data, val_data, train_labels, val_labels = train_test_split(X_train_padded[:df_train.shape[0]], df_train['target'].values, test_size=0.2, random_state=0, stratify=df_train['target'].values)\n",
        "#stratify=df_train['target'].values -> train, test에서 0,1의 비율이 똑같"
      ],
      "metadata": {
        "id": "ipiwXt2xxs17"
      },
      "execution_count": null,
      "outputs": []
    },
    {
      "cell_type": "code",
      "source": [
        "from tensorflow.keras.layers import SimpleRNN, Embedding, Dense, Bidirectional\n",
        "from tensorflow.keras.models import Sequential\n",
        "\n",
        "embedding_dim = 128\n",
        "\n",
        "\n",
        "model = Sequential()\n",
        "model.add(Embedding(vocab_size, embedding_dim))\n",
        "model.add(Bidirectional(tf.keras.layers.LSTM(128,  return_sequences=True)))\n",
        "model.add(Bidirectional(tf.keras.layers.LSTM(64)))\n",
        "model.add(Dense(64, activation='relu'))\n",
        "model.add(Dense(1, activation='sigmoid'))\n",
        "\n",
        "optimzer=Adam(learning_rate=1e-4)\n",
        "\n",
        "model.compile(loss='binary_crossentropy',optimizer=optimzer,metrics=['accuracy'])\n",
        "\n",
        "callbacks_list = [\n",
        "    tf.keras.callbacks.EarlyStopping(\n",
        "        monitor='val_accuracy',                    \n",
        "        patience=5                                 \n",
        "    ),\n",
        "    tf.keras.callbacks.ModelCheckpoint(                \n",
        "        filepath=\"checkpoint_path.keras\",        \n",
        "        monitor='val_accuracy',                          \n",
        "        save_best_only=True,                       \n",
        "        verbose=1                                   \n",
        "    ),\n",
        "    tf.keras.callbacks.ReduceLROnPlateau(\n",
        "        monitor='val_loss',  \n",
        "        factor=0.5,          # callback 호출시 학습률을 1/2로 줄입니다\n",
        "        patience=5,          # epoch 5 동안 개선되지 않으면 callback이 호출됩니다\n",
        ")\n",
        "]\n",
        "\n",
        "\n",
        "history = model.fit(train_data, train_labels, \n",
        "                    validation_data = [val_data, val_labels], \n",
        "                    epochs=50,                           #그래프 보면서 에포크 늘려봤음 \n",
        "                    batch_size=64, \n",
        "                    callbacks = callbacks_list)"
      ],
      "metadata": {
        "id": "rPEKVsfv9ho6",
        "outputId": "fe8f5f3f-88f9-41aa-d204-6708e9102cf7",
        "colab": {
          "base_uri": "https://localhost:8080/"
        }
      },
      "execution_count": null,
      "outputs": [
        {
          "output_type": "stream",
          "name": "stdout",
          "text": [
            "Epoch 1/50\n",
            "96/96 [==============================] - ETA: 0s - loss: 0.6814 - accuracy: 0.5691\n",
            "Epoch 1: val_accuracy improved from -inf to 0.57058, saving model to checkpoint_path.keras\n",
            "96/96 [==============================] - 22s 150ms/step - loss: 0.6814 - accuracy: 0.5691 - val_loss: 0.6716 - val_accuracy: 0.5706 - lr: 1.0000e-04\n",
            "Epoch 2/50\n",
            "96/96 [==============================] - ETA: 0s - loss: 0.6169 - accuracy: 0.6668\n",
            "Epoch 2: val_accuracy improved from 0.57058 to 0.77544, saving model to checkpoint_path.keras\n",
            "96/96 [==============================] - 7s 74ms/step - loss: 0.6169 - accuracy: 0.6668 - val_loss: 0.5235 - val_accuracy: 0.7754 - lr: 1.0000e-04\n",
            "Epoch 3/50\n",
            "96/96 [==============================] - ETA: 0s - loss: 0.3744 - accuracy: 0.8504\n",
            "Epoch 3: val_accuracy improved from 0.77544 to 0.79383, saving model to checkpoint_path.keras\n",
            "96/96 [==============================] - 4s 37ms/step - loss: 0.3744 - accuracy: 0.8504 - val_loss: 0.4772 - val_accuracy: 0.7938 - lr: 1.0000e-04\n",
            "Epoch 4/50\n",
            "96/96 [==============================] - ETA: 0s - loss: 0.2376 - accuracy: 0.9115\n",
            "Epoch 4: val_accuracy improved from 0.79383 to 0.79448, saving model to checkpoint_path.keras\n",
            "96/96 [==============================] - 3s 31ms/step - loss: 0.2376 - accuracy: 0.9115 - val_loss: 0.5376 - val_accuracy: 0.7945 - lr: 1.0000e-04\n",
            "Epoch 5/50\n",
            "96/96 [==============================] - ETA: 0s - loss: 0.1562 - accuracy: 0.9466\n",
            "Epoch 5: val_accuracy did not improve from 0.79448\n",
            "96/96 [==============================] - 2s 18ms/step - loss: 0.1562 - accuracy: 0.9466 - val_loss: 0.6282 - val_accuracy: 0.7800 - lr: 1.0000e-04\n",
            "Epoch 6/50\n",
            "96/96 [==============================] - ETA: 0s - loss: 0.1127 - accuracy: 0.9644\n",
            "Epoch 6: val_accuracy did not improve from 0.79448\n",
            "96/96 [==============================] - 2s 21ms/step - loss: 0.1127 - accuracy: 0.9644 - val_loss: 0.6913 - val_accuracy: 0.7682 - lr: 1.0000e-04\n",
            "Epoch 7/50\n",
            "96/96 [==============================] - ETA: 0s - loss: 0.0926 - accuracy: 0.9732\n",
            "Epoch 7: val_accuracy did not improve from 0.79448\n",
            "96/96 [==============================] - 3s 30ms/step - loss: 0.0926 - accuracy: 0.9732 - val_loss: 0.6907 - val_accuracy: 0.7781 - lr: 1.0000e-04\n",
            "Epoch 8/50\n",
            "96/96 [==============================] - ETA: 0s - loss: 0.0738 - accuracy: 0.9757\n",
            "Epoch 8: val_accuracy did not improve from 0.79448\n",
            "96/96 [==============================] - 2s 17ms/step - loss: 0.0738 - accuracy: 0.9757 - val_loss: 0.7869 - val_accuracy: 0.7682 - lr: 1.0000e-04\n",
            "Epoch 9/50\n",
            "96/96 [==============================] - ETA: 0s - loss: 0.0534 - accuracy: 0.9824\n",
            "Epoch 9: val_accuracy did not improve from 0.79448\n",
            "96/96 [==============================] - 2s 22ms/step - loss: 0.0534 - accuracy: 0.9824 - val_loss: 0.8541 - val_accuracy: 0.7663 - lr: 5.0000e-05\n"
          ]
        }
      ]
    },
    {
      "cell_type": "code",
      "source": [
        "history_dict = history.history\n",
        "history_dict.keys()"
      ],
      "metadata": {
        "outputId": "7213ddb9-02a6-4fc2-bd7b-20aeeb2c5381",
        "colab": {
          "base_uri": "https://localhost:8080/"
        },
        "id": "XHSQdWcw09V2"
      },
      "execution_count": null,
      "outputs": [
        {
          "output_type": "execute_result",
          "data": {
            "text/plain": [
              "dict_keys(['loss', 'accuracy', 'val_loss', 'val_accuracy', 'lr'])"
            ]
          },
          "metadata": {},
          "execution_count": 64
        }
      ]
    },
    {
      "cell_type": "code",
      "source": [
        "history_dict = history.history\n",
        "loss_values = history_dict[\"loss\"]\n",
        "val_loss_values = history_dict[\"val_loss\"]\n",
        "epochs = range(1, len(loss_values) + 1)\n",
        "plt.plot(epochs, loss_values, \"bo\", label=\"Training loss\")\n",
        "plt.plot(epochs, val_loss_values, \"b\", label=\"Validation loss\")\n",
        "plt.title(\"Training and validation loss\")\n",
        "plt.xlabel(\"Epochs\")\n",
        "plt.ylabel(\"Loss\")\n",
        "plt.legend()\n",
        "plt.show()"
      ],
      "metadata": {
        "outputId": "06458219-c109-4d9b-bb2e-69dc39453bd5",
        "colab": {
          "base_uri": "https://localhost:8080/",
          "height": 477
        },
        "id": "l0gEJ7P809V4"
      },
      "execution_count": null,
      "outputs": [
        {
          "output_type": "display_data",
          "data": {
            "text/plain": [
              "<Figure size 640x480 with 1 Axes>"
            ],
            "image/png": "[encoded data removed]"
          },
          "metadata": {}
        }
      ]
    },
    {
      "cell_type": "code",
      "source": [
        "plt.clf()\n",
        "acc = history_dict[\"accuracy\"]\n",
        "val_acc = history_dict[\"val_accuracy\"]\n",
        "plt.plot(epochs, acc, \"bo\", label=\"Training acc\")\n",
        "plt.plot(epochs, val_acc, \"b\", label=\"Validation acc\")\n",
        "plt.title(\"Training and validation accuracy\")\n",
        "plt.xlabel(\"Epochs\")\n",
        "plt.ylabel(\"Accuracy\")\n",
        "plt.legend()\n",
        "plt.show()"
      ],
      "metadata": {
        "outputId": "49ee931a-f9ce-4e29-8e06-d2cc1766916d",
        "colab": {
          "base_uri": "https://localhost:8080/",
          "height": 477
        },
        "id": "WXQqlgrt09V4"
      },
      "execution_count": null,
      "outputs": [
        {
          "output_type": "display_data",
          "data": {
            "text/plain": [
              "<Figure size 640x480 with 1 Axes>"
            ],
            "image/png": "[encoded data removed]"
          },
          "metadata": {}
        }
      ]
    },
    {
      "cell_type": "code",
      "source": [
        "loaded_model = tf.keras.models.load_model('checkpoint_path.keras')\n",
        "predicted = loaded_model.predict(X_train_padded[df_train.shape[0]:])\n",
        "y_predicted = np.where(predicted>0.5,1,0)\n",
        "y_predicted = y_predicted.reshape((1,3263))[0]\n",
        "df_sample['id'] = df_test.id\n",
        "df_sample['target'] = y_predicted\n",
        "df_sample.to_csv('submission.csv',index = False)\n",
        "#리더보드 결과 : "
      ],
      "metadata": {
        "outputId": "db26d70a-faae-44bb-f38f-a50d0a5b480a",
        "colab": {
          "base_uri": "https://localhost:8080/"
        },
        "id": "GEyDDcUr09V5"
      },
      "execution_count": null,
      "outputs": [
        {
          "output_type": "stream",
          "name": "stdout",
          "text": [
            "102/102 [==============================] - 2s 5ms/step\n"
          ]
        }
      ]
    },
    {
      "cell_type": "markdown",
      "source": [
        "# GLOVE"
      ],
      "metadata": {
        "id": "GtXo_job9ZkC"
      }
    },
    {
      "cell_type": "code",
      "source": [
        "def create_corpus(df):\n",
        "    corpus=[]\n",
        "    for tweet in tqdm(df['text']):\n",
        "        words=[word.lower() for word in word_tokenize(tweet) if((word.isalpha()==1) & (word not in stop))]\n",
        "        corpus.append(words)\n",
        "    return corpus"
      ],
      "metadata": {
        "id": "ABinmDVqUeFQ"
      },
      "execution_count": 68,
      "outputs": []
    },
    {
      "cell_type": "code",
      "source": [
        "corpus=create_corpus(df)"
      ],
      "metadata": {
        "colab": {
          "base_uri": "https://localhost:8080/"
        },
        "id": "yOqh8ghvU46G",
        "outputId": "b1ba409f-28c3-4b91-e3c1-117dc174f858"
      },
      "execution_count": 69,
      "outputs": [
        {
          "output_type": "stream",
          "name": "stderr",
          "text": [
            "100%|██████████| 10876/10876 [00:01<00:00, 10728.02it/s]\n"
          ]
        }
      ]
    },
    {
      "cell_type": "code",
      "source": [
        "from urllib.request import urlretrieve, urlopen\n",
        "import gzip\n",
        "import zipfile\n",
        "\n",
        "#pre-trained word embedding download\n",
        "urlretrieve(\"http://nlp.stanford.edu/data/glove.6B.zip\", filename=\"glove.6B.zip\")\n",
        "zf = zipfile.ZipFile('glove.6B.zip')\n",
        "zf.extractall() \n",
        "zf.close()"
      ],
      "metadata": {
        "id": "v5FQpeyuGB-s"
      },
      "execution_count": 40,
      "outputs": []
    },
    {
      "cell_type": "code",
      "source": [
        "embedding_dict = dict()\n",
        "\n",
        "f = open('glove.6B.100d.txt', encoding=\"utf8\")\n",
        "\n",
        "for line in f:\n",
        "    word_vector = line.split()\n",
        "    word = word_vector[0]\n",
        "\n",
        "    #100개의 값을 가지는 array로 변환\n",
        "    word_vector_arr = np.asarray(word_vector[1:], dtype='float32')\n",
        "    embedding_dict[word] = word_vector_arr\n",
        "f.close()\n",
        "\n",
        "print('%s개의 Embedding vector가 있습니다.' % len(embedding_dict))"
      ],
      "metadata": {
        "id": "ueNE__xpGppP",
        "colab": {
          "base_uri": "https://localhost:8080/"
        },
        "outputId": "70d61bf6-7591-41ad-d73d-ffd2e35a5485"
      },
      "execution_count": 70,
      "outputs": [
        {
          "output_type": "stream",
          "name": "stdout",
          "text": [
            "400000개의 Embedding vector가 있습니다.\n"
          ]
        }
      ]
    },
    {
      "cell_type": "code",
      "source": [
        "embedding_dict['described']\n",
        "#임의의 단어의 임베딩 벡터"
      ],
      "metadata": {
        "id": "HjiFhGE8QRdP",
        "colab": {
          "base_uri": "https://localhost:8080/"
        },
        "outputId": "f06be922-dcc5-4df7-b2df-1e70cfb1d05f"
      },
      "execution_count": 71,
      "outputs": [
        {
          "output_type": "execute_result",
          "data": {
            "text/plain": [
              "array([-0.77675  , -0.39544  , -0.23503  ,  0.12374  , -0.062412 ,\n",
              "        0.16114  ,  0.41224  , -0.1183   , -0.24595  , -0.0042676,\n",
              "       -0.46711  , -0.1773   ,  0.22936  , -0.15351  ,  0.19196  ,\n",
              "        0.3456   ,  0.19291  , -0.48402  , -0.62981  , -0.05973  ,\n",
              "        0.30394  , -0.20145  ,  0.12788  , -0.29756  ,  0.014653 ,\n",
              "       -0.042935 , -0.097113 ,  0.043257 ,  0.02393  ,  0.73688  ,\n",
              "        0.22381  ,  0.18879  , -0.30323  ,  0.012293 ,  0.29425  ,\n",
              "        0.24309  ,  0.048583 ,  0.26707  , -0.056675 , -0.10544  ,\n",
              "       -0.80896  ,  0.23054  ,  0.70457  ,  0.37263  , -0.036724 ,\n",
              "       -0.23211  ,  0.12504  ,  0.044823 , -0.060565 , -0.14451  ,\n",
              "        0.66952  , -0.42189  ,  0.94151  ,  0.78102  , -0.50328  ,\n",
              "       -2.0984   , -0.18119  , -0.18671  ,  0.6576   ,  0.55676  ,\n",
              "       -0.081965 ,  0.61956  , -0.18996  , -0.38323  ,  0.94778  ,\n",
              "       -0.45197  ,  0.62815  ,  0.42958  ,  0.20367  ,  0.18164  ,\n",
              "       -0.2055   ,  0.35146  , -0.19534  , -0.034256 ,  0.2947   ,\n",
              "       -0.23132  ,  0.42717  , -0.19503  , -1.2855   ,  0.012154 ,\n",
              "        0.11264  ,  0.16971  , -0.2398   , -0.14967  , -1.1604   ,\n",
              "       -0.41215  , -0.19192  , -0.53752  , -0.61696  , -0.40836  ,\n",
              "        0.30794  , -0.41041  ,  0.028309 ,  0.25701  ,  0.30928  ,\n",
              "        0.09268  , -1.0273   , -0.74498  , -0.054252 , -0.2868   ],\n",
              "      dtype=float32)"
            ]
          },
          "metadata": {},
          "execution_count": 71
        }
      ]
    },
    {
      "cell_type": "code",
      "source": [
        "print('벡터의 차원 수 :',len(embedding_dict['described']))"
      ],
      "metadata": {
        "id": "MCQKSgUfQs7v",
        "colab": {
          "base_uri": "https://localhost:8080/"
        },
        "outputId": "794caf42-6499-4cda-e61b-2df76bfe10a1"
      },
      "execution_count": 72,
      "outputs": [
        {
          "output_type": "stream",
          "name": "stdout",
          "text": [
            "벡터의 차원 수 : 100\n"
          ]
        }
      ]
    },
    {
      "cell_type": "code",
      "source": [
        "MAX_LEN=28\n",
        "tokenizer_obj=Tokenizer()\n",
        "tokenizer_obj.fit_on_texts(corpus)\n",
        "\n",
        "sequences=tokenizer_obj.texts_to_sequences(corpus)\n",
        "\n",
        "pad=pad_sequences(sequences,maxlen=MAX_LEN,truncating='post',padding='post')"
      ],
      "metadata": {
        "id": "9WaYXIM7VMSm"
      },
      "execution_count": 74,
      "outputs": []
    },
    {
      "cell_type": "code",
      "source": [
        "word_index=tokenizer_obj.word_index\n",
        "print('Number of unique words:',len(word_index))"
      ],
      "metadata": {
        "id": "qRgAwpWlVPqT",
        "colab": {
          "base_uri": "https://localhost:8080/"
        },
        "outputId": "620b389b-8e89-451d-c3bb-4a63b66ec48a"
      },
      "execution_count": 75,
      "outputs": [
        {
          "output_type": "stream",
          "name": "stdout",
          "text": [
            "Number of unique words: 20342\n"
          ]
        }
      ]
    },
    {
      "cell_type": "code",
      "source": [
        "num_words=len(word_index)\n",
        "print(num_words)"
      ],
      "metadata": {
        "id": "yZJBPJQlXPXW",
        "colab": {
          "base_uri": "https://localhost:8080/"
        },
        "outputId": "84f28255-a919-46b5-adb6-1e37599914b4"
      },
      "execution_count": 76,
      "outputs": [
        {
          "output_type": "stream",
          "name": "stdout",
          "text": [
            "20342\n"
          ]
        }
      ]
    },
    {
      "cell_type": "code",
      "source": [
        "embedding_matrix = np.zeros((num_words, 100))"
      ],
      "metadata": {
        "id": "ORI44SDXXuE1"
      },
      "execution_count": 77,
      "outputs": []
    },
    {
      "cell_type": "code",
      "source": [
        "for word,i in tqdm(word_index.items()):\n",
        "    if i > num_words:\n",
        "        continue\n",
        "    emb_vec=embedding_dict.get(word)\n",
        "    if emb_vec is not None:\n",
        "        embedding_matrix[i]=emb_vec"
      ],
      "metadata": {
        "id": "lspV0kZybNXo",
        "colab": {
          "base_uri": "https://localhost:8080/"
        },
        "outputId": "6afeab3a-9aba-4ef4-ea6a-7c7f8e4f0451"
      },
      "execution_count": 78,
      "outputs": [
        {
          "output_type": "stream",
          "name": "stderr",
          "text": [
            "100%|██████████| 20342/20342 [00:00<00:00, 387820.60it/s]\n"
          ]
        }
      ]
    },
    {
      "cell_type": "code",
      "source": [
        "embedding_matrix.shape"
      ],
      "metadata": {
        "id": "WwwjJ67-bhgI",
        "colab": {
          "base_uri": "https://localhost:8080/"
        },
        "outputId": "39b540da-8df0-462b-aaee-cc708265f59a"
      },
      "execution_count": 79,
      "outputs": [
        {
          "output_type": "execute_result",
          "data": {
            "text/plain": [
              "(20342, 100)"
            ]
          },
          "metadata": {},
          "execution_count": 79
        }
      ]
    },
    {
      "cell_type": "code",
      "source": [
        "pad[0][0:]"
      ],
      "metadata": {
        "id": "FUYE4calOFaM",
        "colab": {
          "base_uri": "https://localhost:8080/"
        },
        "outputId": "d134805a-81e8-4b73-82ee-ab6c1388db08"
      },
      "execution_count": 80,
      "outputs": [
        {
          "output_type": "execute_result",
          "data": {
            "text/plain": [
              "array([ 622, 5467,  738,  175,   80, 1805, 3529,   16,    0,    0,    0,\n",
              "          0,    0,    0,    0,    0,    0,    0,    0,    0,    0,    0,\n",
              "          0,    0,    0,    0,    0,    0], dtype=int32)"
            ]
          },
          "metadata": {},
          "execution_count": 80
        }
      ]
    },
    {
      "cell_type": "code",
      "source": [
        "from tensorflow.keras.layers import SimpleRNN, Embedding, Dense, Bidirectional\n",
        "from tensorflow.keras.models import Sequential\n",
        "\n",
        "model=Sequential()\n",
        "\n",
        "output_dim = 100\n",
        "embedding=Embedding(num_words,output_dim,embeddings_initializer=Constant(embedding_matrix),\n",
        "                   input_length=MAX_LEN,trainable=False)\n",
        "\n",
        "model.add(embedding)\n",
        "model.add(Bidirectional(tf.keras.layers.LSTM(128,  return_sequences=True)))\n",
        "model.add(Bidirectional(tf.keras.layers.LSTM(64)))\n",
        "model.add(Dense(64, activation='relu'))\n",
        "model.add(Dense(1, activation='sigmoid'))\n",
        "\n",
        "optimzer=Adam(learning_rate=1e-5)\n",
        "\n",
        "model.compile(loss='binary_crossentropy',optimizer=optimzer,metrics=['accuracy'])\n",
        "\n",
        "callbacks_list = [\n",
        "    tf.keras.callbacks.EarlyStopping(\n",
        "        monitor='val_accuracy',                    \n",
        "        patience=10                                 \n",
        "    ),\n",
        "    tf.keras.callbacks.ModelCheckpoint(                \n",
        "        filepath=\"checkpoint_path.keras\",        \n",
        "        monitor='val_accuracy',                          \n",
        "        save_best_only=True,                       \n",
        "        verbose=1                                   \n",
        "    ),\n",
        "    tf.keras.callbacks.ReduceLROnPlateau(\n",
        "        monitor='val_loss',  \n",
        "        factor=0.5,          # callback 호출시 학습률을 1/2로 줄입니다\n",
        "        patience=5,          # epoch 5 동안 개선되지 않으면 callback이 호출됩니다\n",
        ")\n",
        "]"
      ],
      "metadata": {
        "id": "SrgvMwsNkK_t"
      },
      "execution_count": 81,
      "outputs": []
    },
    {
      "cell_type": "code",
      "source": [
        "model.summary()"
      ],
      "metadata": {
        "id": "8T1Wnr5dlh7K",
        "colab": {
          "base_uri": "https://localhost:8080/"
        },
        "outputId": "0010c5df-c256-4fb2-e67f-947a3d4d95f0"
      },
      "execution_count": 82,
      "outputs": [
        {
          "output_type": "stream",
          "name": "stdout",
          "text": [
            "Model: \"sequential_2\"\n",
            "_________________________________________________________________\n",
            " Layer (type)                Output Shape              Param #   \n",
            "=================================================================\n",
            " embedding_2 (Embedding)     (None, 28, 100)           2034200   \n",
            "                                                                 \n",
            " bidirectional_2 (Bidirectio  (None, 28, 256)          234496    \n",
            " nal)                                                            \n",
            "                                                                 \n",
            " bidirectional_3 (Bidirectio  (None, 128)              164352    \n",
            " nal)                                                            \n",
            "                                                                 \n",
            " dense_2 (Dense)             (None, 64)                8256      \n",
            "                                                                 \n",
            " dense_3 (Dense)             (None, 1)                 65        \n",
            "                                                                 \n",
            "=================================================================\n",
            "Total params: 2,441,369\n",
            "Trainable params: 407,169\n",
            "Non-trainable params: 2,034,200\n",
            "_________________________________________________________________\n"
          ]
        }
      ]
    },
    {
      "cell_type": "code",
      "source": [
        "train_data, val_data, train_labels, val_labels = train_test_split(pad[:df_train.shape[0]], df_train['target'].values, test_size=0.2, stratify=df_train['target'].values, random_state=10)\n",
        "\n",
        "print('Shape of train',train_data.shape)\n",
        "print(\"Shape of Validation \",val_data.shape)"
      ],
      "metadata": {
        "id": "lZ2X2bCKn_H2",
        "colab": {
          "base_uri": "https://localhost:8080/"
        },
        "outputId": "a8266bf8-2fb4-4427-bc8b-dcbe44e7a0e8"
      },
      "execution_count": 83,
      "outputs": [
        {
          "output_type": "stream",
          "name": "stdout",
          "text": [
            "Shape of train (6090, 28)\n",
            "Shape of Validation  (1523, 28)\n"
          ]
        }
      ]
    },
    {
      "cell_type": "code",
      "source": [
        "history = model.fit(train_data, train_labels, \n",
        "                    validation_data = [val_data, val_labels], \n",
        "                    epochs=50,                           #그래프 보면서 에포크 늘려봤음 \n",
        "                    batch_size=64, \n",
        "                    callbacks = callbacks_list)"
      ],
      "metadata": {
        "id": "0j5aWhEKpLVl",
        "colab": {
          "base_uri": "https://localhost:8080/"
        },
        "outputId": "1121bc15-2c99-4990-9f97-7017259d659e"
      },
      "execution_count": 84,
      "outputs": [
        {
          "output_type": "stream",
          "name": "stdout",
          "text": [
            "Epoch 1/50\n",
            "95/96 [============================>.] - ETA: 0s - loss: 0.6874 - accuracy: 0.5896\n",
            "Epoch 1: val_accuracy improved from -inf to 0.66448, saving model to checkpoint_path.keras\n",
            "96/96 [==============================] - 19s 87ms/step - loss: 0.6874 - accuracy: 0.5897 - val_loss: 0.6783 - val_accuracy: 0.6645 - lr: 1.0000e-05\n",
            "Epoch 2/50\n",
            "95/96 [============================>.] - ETA: 0s - loss: 0.6691 - accuracy: 0.6832\n",
            "Epoch 2: val_accuracy improved from 0.66448 to 0.69796, saving model to checkpoint_path.keras\n",
            "96/96 [==============================] - 5s 47ms/step - loss: 0.6690 - accuracy: 0.6836 - val_loss: 0.6589 - val_accuracy: 0.6980 - lr: 1.0000e-05\n",
            "Epoch 3/50\n",
            "96/96 [==============================] - ETA: 0s - loss: 0.6476 - accuracy: 0.7176\n",
            "Epoch 3: val_accuracy improved from 0.69796 to 0.73933, saving model to checkpoint_path.keras\n",
            "96/96 [==============================] - 6s 58ms/step - loss: 0.6476 - accuracy: 0.7176 - val_loss: 0.6344 - val_accuracy: 0.7393 - lr: 1.0000e-05\n",
            "Epoch 4/50\n",
            "96/96 [==============================] - ETA: 0s - loss: 0.6196 - accuracy: 0.7537\n",
            "Epoch 4: val_accuracy improved from 0.73933 to 0.76888, saving model to checkpoint_path.keras\n",
            "96/96 [==============================] - 4s 45ms/step - loss: 0.6196 - accuracy: 0.7537 - val_loss: 0.6017 - val_accuracy: 0.7689 - lr: 1.0000e-05\n",
            "Epoch 5/50\n",
            "96/96 [==============================] - ETA: 0s - loss: 0.5829 - accuracy: 0.7714\n",
            "Epoch 5: val_accuracy improved from 0.76888 to 0.78398, saving model to checkpoint_path.keras\n",
            "96/96 [==============================] - 6s 61ms/step - loss: 0.5829 - accuracy: 0.7714 - val_loss: 0.5601 - val_accuracy: 0.7840 - lr: 1.0000e-05\n",
            "Epoch 6/50\n",
            "94/96 [============================>.] - ETA: 0s - loss: 0.5413 - accuracy: 0.7783\n",
            "Epoch 6: val_accuracy did not improve from 0.78398\n",
            "96/96 [==============================] - 3s 28ms/step - loss: 0.5406 - accuracy: 0.7788 - val_loss: 0.5193 - val_accuracy: 0.7820 - lr: 1.0000e-05\n",
            "Epoch 7/50\n",
            "93/96 [============================>.] - ETA: 0s - loss: 0.5071 - accuracy: 0.7824\n",
            "Epoch 7: val_accuracy improved from 0.78398 to 0.78661, saving model to checkpoint_path.keras\n",
            "96/96 [==============================] - 5s 49ms/step - loss: 0.5073 - accuracy: 0.7826 - val_loss: 0.4945 - val_accuracy: 0.7866 - lr: 1.0000e-05\n",
            "Epoch 8/50\n",
            "95/96 [============================>.] - ETA: 0s - loss: 0.4882 - accuracy: 0.7878\n",
            "Epoch 8: val_accuracy improved from 0.78661 to 0.79448, saving model to checkpoint_path.keras\n",
            "96/96 [==============================] - 3s 29ms/step - loss: 0.4886 - accuracy: 0.7877 - val_loss: 0.4803 - val_accuracy: 0.7945 - lr: 1.0000e-05\n",
            "Epoch 9/50\n",
            "94/96 [============================>.] - ETA: 0s - loss: 0.4769 - accuracy: 0.7904\n",
            "Epoch 9: val_accuracy did not improve from 0.79448\n",
            "96/96 [==============================] - 1s 13ms/step - loss: 0.4769 - accuracy: 0.7900 - val_loss: 0.4699 - val_accuracy: 0.7932 - lr: 1.0000e-05\n",
            "Epoch 10/50\n",
            "93/96 [============================>.] - ETA: 0s - loss: 0.4677 - accuracy: 0.7955\n",
            "Epoch 10: val_accuracy improved from 0.79448 to 0.80039, saving model to checkpoint_path.keras\n",
            "96/96 [==============================] - 2s 26ms/step - loss: 0.4679 - accuracy: 0.7954 - val_loss: 0.4622 - val_accuracy: 0.8004 - lr: 1.0000e-05\n",
            "Epoch 11/50\n",
            "93/96 [============================>.] - ETA: 0s - loss: 0.4604 - accuracy: 0.8017\n",
            "Epoch 11: val_accuracy improved from 0.80039 to 0.80171, saving model to checkpoint_path.keras\n",
            "96/96 [==============================] - 4s 41ms/step - loss: 0.4608 - accuracy: 0.8010 - val_loss: 0.4559 - val_accuracy: 0.8017 - lr: 1.0000e-05\n",
            "Epoch 12/50\n",
            "96/96 [==============================] - ETA: 0s - loss: 0.4565 - accuracy: 0.8016\n",
            "Epoch 12: val_accuracy improved from 0.80171 to 0.80236, saving model to checkpoint_path.keras\n",
            "96/96 [==============================] - 3s 33ms/step - loss: 0.4565 - accuracy: 0.8016 - val_loss: 0.4512 - val_accuracy: 0.8024 - lr: 1.0000e-05\n",
            "Epoch 13/50\n",
            "93/96 [============================>.] - ETA: 0s - loss: 0.4506 - accuracy: 0.8046\n",
            "Epoch 13: val_accuracy improved from 0.80236 to 0.80368, saving model to checkpoint_path.keras\n",
            "96/96 [==============================] - 3s 28ms/step - loss: 0.4518 - accuracy: 0.8043 - val_loss: 0.4471 - val_accuracy: 0.8037 - lr: 1.0000e-05\n",
            "Epoch 14/50\n",
            "93/96 [============================>.] - ETA: 0s - loss: 0.4475 - accuracy: 0.8068\n",
            "Epoch 14: val_accuracy did not improve from 0.80368\n",
            "96/96 [==============================] - 1s 13ms/step - loss: 0.4482 - accuracy: 0.8064 - val_loss: 0.4449 - val_accuracy: 0.8024 - lr: 1.0000e-05\n",
            "Epoch 15/50\n",
            "94/96 [============================>.] - ETA: 0s - loss: 0.4455 - accuracy: 0.8072\n",
            "Epoch 15: val_accuracy did not improve from 0.80368\n",
            "96/96 [==============================] - 1s 13ms/step - loss: 0.4455 - accuracy: 0.8072 - val_loss: 0.4443 - val_accuracy: 0.8024 - lr: 1.0000e-05\n",
            "Epoch 16/50\n",
            "95/96 [============================>.] - ETA: 0s - loss: 0.4417 - accuracy: 0.8099\n",
            "Epoch 16: val_accuracy improved from 0.80368 to 0.80696, saving model to checkpoint_path.keras\n",
            "96/96 [==============================] - 3s 31ms/step - loss: 0.4425 - accuracy: 0.8092 - val_loss: 0.4400 - val_accuracy: 0.8070 - lr: 1.0000e-05\n",
            "Epoch 17/50\n",
            "95/96 [============================>.] - ETA: 0s - loss: 0.4398 - accuracy: 0.8077\n",
            "Epoch 17: val_accuracy did not improve from 0.80696\n",
            "96/96 [==============================] - 2s 16ms/step - loss: 0.4401 - accuracy: 0.8074 - val_loss: 0.4390 - val_accuracy: 0.8056 - lr: 1.0000e-05\n",
            "Epoch 18/50\n",
            "93/96 [============================>.] - ETA: 0s - loss: 0.4394 - accuracy: 0.8100\n",
            "Epoch 18: val_accuracy did not improve from 0.80696\n",
            "96/96 [==============================] - 2s 20ms/step - loss: 0.4390 - accuracy: 0.8103 - val_loss: 0.4371 - val_accuracy: 0.8063 - lr: 1.0000e-05\n",
            "Epoch 19/50\n",
            "94/96 [============================>.] - ETA: 0s - loss: 0.4364 - accuracy: 0.8103\n",
            "Epoch 19: val_accuracy improved from 0.80696 to 0.80762, saving model to checkpoint_path.keras\n",
            "96/96 [==============================] - 3s 34ms/step - loss: 0.4367 - accuracy: 0.8105 - val_loss: 0.4359 - val_accuracy: 0.8076 - lr: 1.0000e-05\n",
            "Epoch 20/50\n",
            "95/96 [============================>.] - ETA: 0s - loss: 0.4348 - accuracy: 0.8120\n",
            "Epoch 20: val_accuracy did not improve from 0.80762\n",
            "96/96 [==============================] - 1s 14ms/step - loss: 0.4349 - accuracy: 0.8118 - val_loss: 0.4364 - val_accuracy: 0.8050 - lr: 1.0000e-05\n",
            "Epoch 21/50\n",
            "96/96 [==============================] - ETA: 0s - loss: 0.4332 - accuracy: 0.8126\n",
            "Epoch 21: val_accuracy did not improve from 0.80762\n",
            "96/96 [==============================] - 1s 14ms/step - loss: 0.4332 - accuracy: 0.8126 - val_loss: 0.4347 - val_accuracy: 0.8063 - lr: 1.0000e-05\n",
            "Epoch 22/50\n",
            "93/96 [============================>.] - ETA: 0s - loss: 0.4323 - accuracy: 0.8130\n",
            "Epoch 22: val_accuracy did not improve from 0.80762\n",
            "96/96 [==============================] - 1s 13ms/step - loss: 0.4330 - accuracy: 0.8118 - val_loss: 0.4338 - val_accuracy: 0.8056 - lr: 1.0000e-05\n",
            "Epoch 23/50\n",
            "96/96 [==============================] - ETA: 0s - loss: 0.4305 - accuracy: 0.8133\n",
            "Epoch 23: val_accuracy did not improve from 0.80762\n",
            "96/96 [==============================] - 1s 14ms/step - loss: 0.4305 - accuracy: 0.8133 - val_loss: 0.4338 - val_accuracy: 0.8056 - lr: 1.0000e-05\n",
            "Epoch 24/50\n",
            "95/96 [============================>.] - ETA: 0s - loss: 0.4296 - accuracy: 0.8128\n",
            "Epoch 24: val_accuracy did not improve from 0.80762\n",
            "96/96 [==============================] - 1s 13ms/step - loss: 0.4298 - accuracy: 0.8130 - val_loss: 0.4320 - val_accuracy: 0.8043 - lr: 1.0000e-05\n",
            "Epoch 25/50\n",
            "95/96 [============================>.] - ETA: 0s - loss: 0.4284 - accuracy: 0.8132\n",
            "Epoch 25: val_accuracy did not improve from 0.80762\n",
            "96/96 [==============================] - 1s 13ms/step - loss: 0.4284 - accuracy: 0.8131 - val_loss: 0.4315 - val_accuracy: 0.8056 - lr: 1.0000e-05\n",
            "Epoch 26/50\n",
            "95/96 [============================>.] - ETA: 0s - loss: 0.4270 - accuracy: 0.8128\n",
            "Epoch 26: val_accuracy did not improve from 0.80762\n",
            "96/96 [==============================] - 1s 13ms/step - loss: 0.4272 - accuracy: 0.8128 - val_loss: 0.4309 - val_accuracy: 0.8037 - lr: 1.0000e-05\n",
            "Epoch 27/50\n",
            "96/96 [==============================] - ETA: 0s - loss: 0.4260 - accuracy: 0.8135\n",
            "Epoch 27: val_accuracy did not improve from 0.80762\n",
            "96/96 [==============================] - 2s 18ms/step - loss: 0.4260 - accuracy: 0.8135 - val_loss: 0.4303 - val_accuracy: 0.8037 - lr: 1.0000e-05\n",
            "Epoch 28/50\n",
            "93/96 [============================>.] - ETA: 0s - loss: 0.4271 - accuracy: 0.8127\n",
            "Epoch 28: val_accuracy did not improve from 0.80762\n",
            "96/96 [==============================] - 2s 19ms/step - loss: 0.4252 - accuracy: 0.8144 - val_loss: 0.4303 - val_accuracy: 0.8056 - lr: 1.0000e-05\n",
            "Epoch 29/50\n",
            "94/96 [============================>.] - ETA: 0s - loss: 0.4237 - accuracy: 0.8152\n",
            "Epoch 29: val_accuracy did not improve from 0.80762\n",
            "96/96 [==============================] - 2s 19ms/step - loss: 0.4242 - accuracy: 0.8149 - val_loss: 0.4297 - val_accuracy: 0.8043 - lr: 1.0000e-05\n"
          ]
        }
      ]
    },
    {
      "cell_type": "code",
      "source": [
        "history_dict = history.history\n",
        "history_dict.keys()"
      ],
      "metadata": {
        "outputId": "81d2eb62-5a72-436b-d4d4-ccde34eb629f",
        "colab": {
          "base_uri": "https://localhost:8080/"
        },
        "id": "7mF8E3LpmEer"
      },
      "execution_count": 85,
      "outputs": [
        {
          "output_type": "execute_result",
          "data": {
            "text/plain": [
              "dict_keys(['loss', 'accuracy', 'val_loss', 'val_accuracy', 'lr'])"
            ]
          },
          "metadata": {},
          "execution_count": 85
        }
      ]
    },
    {
      "cell_type": "code",
      "source": [
        "history_dict = history.history\n",
        "loss_values = history_dict[\"loss\"]\n",
        "val_loss_values = history_dict[\"val_loss\"]\n",
        "epochs = range(1, len(loss_values) + 1)\n",
        "plt.plot(epochs, loss_values, \"bo\", label=\"Training loss\")\n",
        "plt.plot(epochs, val_loss_values, \"b\", label=\"Validation loss\")\n",
        "plt.title(\"Training and validation loss\")\n",
        "plt.xlabel(\"Epochs\")\n",
        "plt.ylabel(\"Loss\")\n",
        "plt.legend()\n",
        "plt.show()"
      ],
      "metadata": {
        "outputId": "4b5671d0-3315-4c18-f1a9-52ff0de2a560",
        "colab": {
          "base_uri": "https://localhost:8080/",
          "height": 477
        },
        "id": "IgXU2TX-mEes"
      },
      "execution_count": 86,
      "outputs": [
        {
          "output_type": "display_data",
          "data": {
            "text/plain": [
              "<Figure size 640x480 with 1 Axes>"
            ],
            "image/png": "[encoded data removed]"
          },
          "metadata": {}
        }
      ]
    },
    {
      "cell_type": "code",
      "source": [
        "plt.clf()\n",
        "acc = history_dict[\"accuracy\"]\n",
        "val_acc = history_dict[\"val_accuracy\"]\n",
        "plt.plot(epochs, acc, \"bo\", label=\"Training acc\")\n",
        "plt.plot(epochs, val_acc, \"b\", label=\"Validation acc\")\n",
        "plt.title(\"Training and validation accuracy\")\n",
        "plt.xlabel(\"Epochs\")\n",
        "plt.ylabel(\"Accuracy\")\n",
        "plt.legend()\n",
        "plt.show()"
      ],
      "metadata": {
        "outputId": "7537ebb6-c8d6-485f-dafe-d65f793f403c",
        "colab": {
          "base_uri": "https://localhost:8080/",
          "height": 477
        },
        "id": "KHEE1LdumEet"
      },
      "execution_count": 87,
      "outputs": [
        {
          "output_type": "display_data",
          "data": {
            "text/plain": [
              "<Figure size 640x480 with 1 Axes>"
            ],
            "image/png": "[encoded data removed]"
          },
          "metadata": {}
        }
      ]
    },
    {
      "cell_type": "code",
      "source": [
        "loaded_model = tf.keras.models.load_model('checkpoint_path.keras')\n",
        "predicted = loaded_model.predict(pad[df_train.shape[0]:])\n",
        "y_predicted = np.where(predicted>0.5,1,0)\n",
        "y_predicted = y_predicted.reshape((1,3263))[0]\n",
        "df_sample['id'] = df_test.id\n",
        "df_sample['target'] = y_predicted\n",
        "df_sample.to_csv('submission.csv',index = False)\n",
        "#리더보드 결과 : 0.79098"
      ],
      "metadata": {
        "id": "U2T_gXAwQoX8",
        "colab": {
          "base_uri": "https://localhost:8080/"
        },
        "outputId": "cab759ef-b9ba-4d23-8ece-7315a317b114"
      },
      "execution_count": 88,
      "outputs": [
        {
          "output_type": "stream",
          "name": "stdout",
          "text": [
            "102/102 [==============================] - 2s 5ms/step\n"
          ]
        }
      ]
    },
    {
      "cell_type": "markdown",
      "source": [
        "# ELMO (이거 안됨)"
      ],
      "metadata": {
        "id": "Blyv0EwpZB6r"
      }
    },
    {
      "cell_type": "code",
      "source": [
        "pip install tensorflow-hub"
      ],
      "metadata": {
        "id": "RuWtwO9uZIAl",
        "colab": {
          "base_uri": "https://localhost:8080/"
        },
        "outputId": "6ab27c79-a538-4e1d-8172-f1d3ca98b10c"
      },
      "execution_count": 20,
      "outputs": [
        {
          "output_type": "stream",
          "name": "stdout",
          "text": [
            "Looking in indexes: https://pypi.org/simple, https://us-python.pkg.dev/colab-wheels/public/simple/\n",
            "Requirement already satisfied: tensorflow-hub in /usr/local/lib/python3.10/dist-packages (0.13.0)\n",
            "Requirement already satisfied: numpy>=1.12.0 in /usr/local/lib/python3.10/dist-packages (from tensorflow-hub) (1.22.4)\n",
            "Requirement already satisfied: protobuf>=3.19.6 in /usr/local/lib/python3.10/dist-packages (from tensorflow-hub) (3.20.3)\n"
          ]
        }
      ]
    },
    {
      "cell_type": "code",
      "source": [
        "import tensorflow_hub as hub\n",
        "from keras import backend as K\n",
        "from keras.models import Model\n",
        "from keras.layers import Dense, Lambda, Input"
      ],
      "metadata": {
        "id": "bNTgojJac5qt"
      },
      "execution_count": 21,
      "outputs": []
    },
    {
      "cell_type": "code",
      "source": [
        "elmo = hub.load(\"https://tfhub.dev/google/elmo/2\")\n",
        "# 텐서플로우 허브로부터 ELMo를 다운로드"
      ],
      "metadata": {
        "id": "YDtKhfIQc8Tt"
      },
      "execution_count": 22,
      "outputs": []
    },
    {
      "cell_type": "code",
      "source": [
        "def ELMoEmbedding(x):\n",
        "    return elmo(tf.squeeze(tf.cast(x, tf.string)), as_dict=True, signature=\"default\")[\"default\"]"
      ],
      "metadata": {
        "id": "YYk0WiZye5cW"
      },
      "execution_count": 23,
      "outputs": []
    },
    {
      "cell_type": "code",
      "source": [
        "input_text = Input(shape=(1,), dtype=tf.string)\n",
        "embedding_layer = Lambda(ELMoEmbedding, output_shape=(None, 1024 ), mask=None, arguments=None)(input_text)\n",
        "hidden_layer = Dense(256, activation='relu')(embedding_layer)\n",
        "output_layer = Dense(1, activation='sigmoid')(hidden_layer)\n",
        "model = Model(inputs=[input_text], outputs=output_layer)\n",
        "model.compile(loss='binary_crossentropy', optimizer='adam', metrics=['accuracy'])"
      ],
      "metadata": {
        "colab": {
          "base_uri": "https://localhost:8080/",
          "height": 0
        },
        "id": "-muDSXF8e9St",
        "outputId": "f658d13f-0487-4544-99a7-69fd722b92bf"
      },
      "execution_count": 37,
      "outputs": [
        {
          "output_type": "error",
          "ename": "TypeError",
          "evalue": "ignored",
          "traceback": [
            "\u001b[0;31m---------------------------------------------------------------------------\u001b[0m",
            "\u001b[0;31mTypeError\u001b[0m                                 Traceback (most recent call last)",
            "\u001b[0;32m<ipython-input-37-a2d5d05dee8a>\u001b[0m in \u001b[0;36m<cell line: 2>\u001b[0;34m()\u001b[0m\n\u001b[1;32m      1\u001b[0m \u001b[0minput_text\u001b[0m \u001b[0;34m=\u001b[0m \u001b[0mInput\u001b[0m\u001b[0;34m(\u001b[0m\u001b[0mshape\u001b[0m\u001b[0;34m=\u001b[0m\u001b[0;34m(\u001b[0m\u001b[0;36m1\u001b[0m\u001b[0;34m,\u001b[0m\u001b[0;34m)\u001b[0m\u001b[0;34m,\u001b[0m \u001b[0mdtype\u001b[0m\u001b[0;34m=\u001b[0m\u001b[0mtf\u001b[0m\u001b[0;34m.\u001b[0m\u001b[0mstring\u001b[0m\u001b[0;34m)\u001b[0m\u001b[0;34m\u001b[0m\u001b[0;34m\u001b[0m\u001b[0m\n\u001b[0;32m----> 2\u001b[0;31m \u001b[0membedding_layer\u001b[0m \u001b[0;34m=\u001b[0m \u001b[0mLambda\u001b[0m\u001b[0;34m(\u001b[0m\u001b[0mELMoEmbedding\u001b[0m\u001b[0;34m,\u001b[0m \u001b[0moutput_shape\u001b[0m\u001b[0;34m=\u001b[0m\u001b[0;34m(\u001b[0m\u001b[0;32mNone\u001b[0m\u001b[0;34m,\u001b[0m \u001b[0;36m1024\u001b[0m \u001b[0;34m)\u001b[0m\u001b[0;34m,\u001b[0m \u001b[0mmask\u001b[0m\u001b[0;34m=\u001b[0m\u001b[0;32mNone\u001b[0m\u001b[0;34m,\u001b[0m \u001b[0marguments\u001b[0m\u001b[0;34m=\u001b[0m\u001b[0;32mNone\u001b[0m\u001b[0;34m)\u001b[0m\u001b[0;34m(\u001b[0m\u001b[0minput_text\u001b[0m\u001b[0;34m)\u001b[0m\u001b[0;34m\u001b[0m\u001b[0;34m\u001b[0m\u001b[0m\n\u001b[0m\u001b[1;32m      3\u001b[0m \u001b[0mhidden_layer\u001b[0m \u001b[0;34m=\u001b[0m \u001b[0mDense\u001b[0m\u001b[0;34m(\u001b[0m\u001b[0;36m256\u001b[0m\u001b[0;34m,\u001b[0m \u001b[0mactivation\u001b[0m\u001b[0;34m=\u001b[0m\u001b[0;34m'relu'\u001b[0m\u001b[0;34m)\u001b[0m\u001b[0;34m(\u001b[0m\u001b[0membedding_layer\u001b[0m\u001b[0;34m)\u001b[0m\u001b[0;34m\u001b[0m\u001b[0;34m\u001b[0m\u001b[0m\n\u001b[1;32m      4\u001b[0m \u001b[0moutput_layer\u001b[0m \u001b[0;34m=\u001b[0m \u001b[0mDense\u001b[0m\u001b[0;34m(\u001b[0m\u001b[0;36m1\u001b[0m\u001b[0;34m,\u001b[0m \u001b[0mactivation\u001b[0m\u001b[0;34m=\u001b[0m\u001b[0;34m'sigmoid'\u001b[0m\u001b[0;34m)\u001b[0m\u001b[0;34m(\u001b[0m\u001b[0mhidden_layer\u001b[0m\u001b[0;34m)\u001b[0m\u001b[0;34m\u001b[0m\u001b[0;34m\u001b[0m\u001b[0m\n\u001b[1;32m      5\u001b[0m \u001b[0mmodel\u001b[0m \u001b[0;34m=\u001b[0m \u001b[0mModel\u001b[0m\u001b[0;34m(\u001b[0m\u001b[0minputs\u001b[0m\u001b[0;34m=\u001b[0m\u001b[0;34m[\u001b[0m\u001b[0minput_text\u001b[0m\u001b[0;34m]\u001b[0m\u001b[0;34m,\u001b[0m \u001b[0moutputs\u001b[0m\u001b[0;34m=\u001b[0m\u001b[0moutput_layer\u001b[0m\u001b[0;34m)\u001b[0m\u001b[0;34m\u001b[0m\u001b[0;34m\u001b[0m\u001b[0m\n",
            "\u001b[0;32m/usr/local/lib/python3.10/dist-packages/keras/utils/traceback_utils.py\u001b[0m in \u001b[0;36merror_handler\u001b[0;34m(*args, **kwargs)\u001b[0m\n\u001b[1;32m     68\u001b[0m             \u001b[0;31m# To get the full stack trace, call:\u001b[0m\u001b[0;34m\u001b[0m\u001b[0;34m\u001b[0m\u001b[0m\n\u001b[1;32m     69\u001b[0m             \u001b[0;31m# `tf.debugging.disable_traceback_filtering()`\u001b[0m\u001b[0;34m\u001b[0m\u001b[0;34m\u001b[0m\u001b[0m\n\u001b[0;32m---> 70\u001b[0;31m             \u001b[0;32mraise\u001b[0m \u001b[0me\u001b[0m\u001b[0;34m.\u001b[0m\u001b[0mwith_traceback\u001b[0m\u001b[0;34m(\u001b[0m\u001b[0mfiltered_tb\u001b[0m\u001b[0;34m)\u001b[0m \u001b[0;32mfrom\u001b[0m \u001b[0;32mNone\u001b[0m\u001b[0;34m\u001b[0m\u001b[0;34m\u001b[0m\u001b[0m\n\u001b[0m\u001b[1;32m     71\u001b[0m         \u001b[0;32mfinally\u001b[0m\u001b[0;34m:\u001b[0m\u001b[0;34m\u001b[0m\u001b[0;34m\u001b[0m\u001b[0m\n\u001b[1;32m     72\u001b[0m             \u001b[0;32mdel\u001b[0m \u001b[0mfiltered_tb\u001b[0m\u001b[0;34m\u001b[0m\u001b[0;34m\u001b[0m\u001b[0m\n",
            "\u001b[0;32m<ipython-input-23-43c94c56e461>\u001b[0m in \u001b[0;36mELMoEmbedding\u001b[0;34m(x)\u001b[0m\n\u001b[1;32m      1\u001b[0m \u001b[0;32mdef\u001b[0m \u001b[0mELMoEmbedding\u001b[0m\u001b[0;34m(\u001b[0m\u001b[0mx\u001b[0m\u001b[0;34m)\u001b[0m\u001b[0;34m:\u001b[0m\u001b[0;34m\u001b[0m\u001b[0;34m\u001b[0m\u001b[0m\n\u001b[0;32m----> 2\u001b[0;31m     \u001b[0;32mreturn\u001b[0m \u001b[0melmo\u001b[0m\u001b[0;34m(\u001b[0m\u001b[0mtf\u001b[0m\u001b[0;34m.\u001b[0m\u001b[0msqueeze\u001b[0m\u001b[0;34m(\u001b[0m\u001b[0mtf\u001b[0m\u001b[0;34m.\u001b[0m\u001b[0mcast\u001b[0m\u001b[0;34m(\u001b[0m\u001b[0mx\u001b[0m\u001b[0;34m,\u001b[0m \u001b[0mtf\u001b[0m\u001b[0;34m.\u001b[0m\u001b[0mstring\u001b[0m\u001b[0;34m)\u001b[0m\u001b[0;34m)\u001b[0m\u001b[0;34m,\u001b[0m \u001b[0mas_dict\u001b[0m\u001b[0;34m=\u001b[0m\u001b[0;32mTrue\u001b[0m\u001b[0;34m,\u001b[0m \u001b[0msignature\u001b[0m\u001b[0;34m=\u001b[0m\u001b[0;34m\"default\"\u001b[0m\u001b[0;34m)\u001b[0m\u001b[0;34m[\u001b[0m\u001b[0;34m\"default\"\u001b[0m\u001b[0;34m]\u001b[0m\u001b[0;34m\u001b[0m\u001b[0;34m\u001b[0m\u001b[0m\n\u001b[0m",
            "\u001b[0;31mTypeError\u001b[0m: Exception encountered when calling layer \"lambda_6\" (type Lambda).\n\n'AutoTrackable' object is not callable\n\nCall arguments received by layer \"lambda_6\" (type Lambda):\n  • inputs=tf.Tensor(shape=(None, 1), dtype=string)\n  • mask=None\n  • training=None"
          ]
        }
      ]
    },
    {
      "cell_type": "code",
      "source": [],
      "metadata": {
        "id": "YbP5t4aJfwrn"
      },
      "execution_count": null,
      "outputs": []
    },
    {
      "cell_type": "code",
      "source": [],
      "metadata": {
        "id": "Pu1vSJJefRHv"
      },
      "execution_count": null,
      "outputs": []
    },
    {
      "cell_type": "code",
      "source": [],
      "metadata": {
        "id": "hJIvxhXifO5p"
      },
      "execution_count": null,
      "outputs": []
    },
    {
      "cell_type": "markdown",
      "source": [
        "# BERTweet(코랩에서는 자꾸 오류남 포기.)"
      ],
      "metadata": {
        "id": "FdlVh87AZlYx"
      }
    },
    {
      "cell_type": "markdown",
      "source": [
        "# BERT"
      ],
      "metadata": {
        "id": "QsTn9g1b9ac4"
      }
    },
    {
      "cell_type": "code",
      "source": [
        "max_length = max([len(sent.split()) for sent in df.text ])\n",
        "print(max_length)"
      ],
      "metadata": {
        "colab": {
          "base_uri": "https://localhost:8080/"
        },
        "id": "jvnYvpV_ifRP",
        "outputId": "7089a596-c818-4d9d-c5c4-56062dbd5fc8"
      },
      "execution_count": 64,
      "outputs": [
        {
          "output_type": "stream",
          "name": "stdout",
          "text": [
            "28\n"
          ]
        }
      ]
    },
    {
      "cell_type": "code",
      "source": [
        "!pip install transformers"
      ],
      "metadata": {
        "id": "ZoJP4Vo_r6Yc",
        "outputId": "575e06e0-3f64-4fdc-a960-e0f2290f6ebe",
        "colab": {
          "base_uri": "https://localhost:8080/"
        }
      },
      "execution_count": 66,
      "outputs": [
        {
          "output_type": "stream",
          "name": "stdout",
          "text": [
            "Looking in indexes: https://pypi.org/simple, https://us-python.pkg.dev/colab-wheels/public/simple/\n",
            "Collecting transformers\n",
            "  Downloading transformers-4.29.2-py3-none-any.whl (7.1 MB)\n",
            "\u001b[2K     \u001b[90m━━━━━━━━━━━━━━━━━━━━━━━━━━━━━━━━━━━━━━━━\u001b[0m \u001b[32m7.1/7.1 MB\u001b[0m \u001b[31m53.5 MB/s\u001b[0m eta \u001b[36m0:00:00\u001b[0m\n",
            "\u001b[?25hRequirement already satisfied: filelock in /usr/local/lib/python3.10/dist-packages (from transformers) (3.12.0)\n",
            "Collecting huggingface-hub<1.0,>=0.14.1 (from transformers)\n",
            "  Downloading huggingface_hub-0.15.1-py3-none-any.whl (236 kB)\n",
            "\u001b[2K     \u001b[90m━━━━━━━━━━━━━━━━━━━━━━━━━━━━━━━━━━━━━━\u001b[0m \u001b[32m236.8/236.8 kB\u001b[0m \u001b[31m30.0 MB/s\u001b[0m eta \u001b[36m0:00:00\u001b[0m\n",
            "\u001b[?25hRequirement already satisfied: numpy>=1.17 in /usr/local/lib/python3.10/dist-packages (from transformers) (1.22.4)\n",
            "Requirement already satisfied: packaging>=20.0 in /usr/local/lib/python3.10/dist-packages (from transformers) (23.1)\n",
            "Requirement already satisfied: pyyaml>=5.1 in /usr/local/lib/python3.10/dist-packages (from transformers) (6.0)\n",
            "Requirement already satisfied: regex!=2019.12.17 in /usr/local/lib/python3.10/dist-packages (from transformers) (2022.10.31)\n",
            "Requirement already satisfied: requests in /usr/local/lib/python3.10/dist-packages (from transformers) (2.27.1)\n",
            "Collecting tokenizers!=0.11.3,<0.14,>=0.11.1 (from transformers)\n",
            "  Downloading tokenizers-0.13.3-cp310-cp310-manylinux_2_17_x86_64.manylinux2014_x86_64.whl (7.8 MB)\n",
            "\u001b[2K     \u001b[90m━━━━━━━━━━━━━━━━━━━━━━━━━━━━━━━━━━━━━━━━\u001b[0m \u001b[32m7.8/7.8 MB\u001b[0m \u001b[31m110.0 MB/s\u001b[0m eta \u001b[36m0:00:00\u001b[0m\n",
            "\u001b[?25hRequirement already satisfied: tqdm>=4.27 in /usr/local/lib/python3.10/dist-packages (from transformers) (4.65.0)\n",
            "Requirement already satisfied: fsspec in /usr/local/lib/python3.10/dist-packages (from huggingface-hub<1.0,>=0.14.1->transformers) (2023.4.0)\n",
            "Requirement already satisfied: typing-extensions>=3.7.4.3 in /usr/local/lib/python3.10/dist-packages (from huggingface-hub<1.0,>=0.14.1->transformers) (4.5.0)\n",
            "Requirement already satisfied: urllib3<1.27,>=1.21.1 in /usr/local/lib/python3.10/dist-packages (from requests->transformers) (1.26.15)\n",
            "Requirement already satisfied: certifi>=2017.4.17 in /usr/local/lib/python3.10/dist-packages (from requests->transformers) (2022.12.7)\n",
            "Requirement already satisfied: charset-normalizer~=2.0.0 in /usr/local/lib/python3.10/dist-packages (from requests->transformers) (2.0.12)\n",
            "Requirement already satisfied: idna<4,>=2.5 in /usr/local/lib/python3.10/dist-packages (from requests->transformers) (3.4)\n",
            "Installing collected packages: tokenizers, huggingface-hub, transformers\n",
            "Successfully installed huggingface-hub-0.15.1 tokenizers-0.13.3 transformers-4.29.2\n"
          ]
        }
      ]
    },
    {
      "cell_type": "code",
      "source": [
        "from transformers import AutoTokenizer, TFBertModel\n",
        "tokenizer = AutoTokenizer.from_pretrained('bert-base-uncased')\n",
        "bert = TFBertModel.from_pretrained('bert-base-uncased')"
      ],
      "metadata": {
        "id": "HnCf0kAgryyx",
        "outputId": "ed6233ee-ed84-4bd1-9170-b0b2d0ac8212",
        "colab": {
          "base_uri": "https://localhost:8080/",
          "height": 290,
          "referenced_widgets": [
            "d4652b607dfd4cd4b610cfb87f320a79",
            "2a1bb148d7784fb19e02fb6a3ea71f3f",
            "58990a369ef0467888575f26b4138833",
            "1baf010dd4b24df6a69bc552678cdbe8",
            "d9d9942a5806400cb99c86211aecbcf6",
            "c2eab1436d9149d19cd8c8f8d3a2d602",
            "52cd39e5da5d43d3aa3c39b46b660151",
            "e8b977695eaf42ea81b34b16568b049a",
            "5455d26e4835466fb8d3119baacdc0e2",
            "495976d935034035ab04a1b847815b20",
            "490b56ba0881455ba665b1395c6296c2",
            "4cc6dadbb4764f21870a7b7b1f7be42f",
            "d3bcc26592e54f52b07f3c2ca7845338",
            "8b65867491ca413895461a456932153b",
            "da13a9ab9888437db4bd4ab6a1c581f3",
            "ee54c011e5a84bd8a0ee1cd88e52ba25",
            "e69012d1e68f41228dc31a89c0b1870b",
            "8ca770910d1a4f65b72eb360b9d7de73",
            "384db0d05264441aaf35089549725068",
            "d62a7e4c028e4b10abb168d733a3d617",
            "4785bd1081ba40709d3c56591ff38cf6",
            "a5146b345b5148dfbf134a423a231da7",
            "f3009ce74dbb4422b24b77fdd669c780",
            "a274a967755845eea23bf19b4d3b7920",
            "d40fef4149e94ba59857ace4932b827b",
            "ee3fdc9b04d54f4b95319eb288b9fde9",
            "f5aec27690e34a9a93a52cb2af9e8be0",
            "bf5a2e21f8c14c1f834ddd134dc53388",
            "24d52fcfb1654efb8c0b764ab42cd47c",
            "22ebb52e3b4d4b91b9e72e4324314e33",
            "c2ac9a9b87824afa81c95508f5a63d52",
            "de762de7634d4da2b6f6480933ff0b90",
            "235263da886e47c8bbdee39cb761aa01",
            "6d0dc865e7e64310a31857022c32ac41",
            "386f65b0ab48438d803c29026a1c08af",
            "5cf9d9859e534b288a608b7227c10547",
            "6d964595d40c44ce82cc27ab334081ed",
            "b0f86e44c1ad41b5ba1d6e73c4574800",
            "8d648ec9935643ec93c78d76a5c188d6",
            "d348c73ba77143f6a930ea010f581e85",
            "d6f7fbd5361b439286a3f74f021d30ee",
            "3cf792e10ff54d4697f11d289ea6b408",
            "a2dee6b8f96a439a82f72c96f5b351dd",
            "fd12f578edb1409a8c3ee6837f37ffe8",
            "c373d32bc643400383bfc3939362ef01",
            "286fc6a53e1442acaed84395ac52ac12",
            "cdcb0a710c3a4616a03c03cf5547aa7b",
            "e4ce6e7d830743649496cf693cb79055",
            "f3fd937342d94aa3b1f1734c63751c10",
            "ebe265da8ff04e1ba89211bb7c394d56",
            "5ece94bacffa4acdacef4ab3d92c98c1",
            "45831f4e217c449d884708deb22e67dd",
            "3671207f604d40cc9f7f87b00ae5b948",
            "cc9a701998024de580a2a739ab7d4243",
            "07ab40072006474c8c57dda5d7e8ff3c"
          ]
        }
      },
      "execution_count": 67,
      "outputs": [
        {
          "output_type": "display_data",
          "data": {
            "text/plain": [
              "Downloading (…)okenizer_config.json:   0%|          | 0.00/28.0 [00:00<?, ?B/s]"
            ],
            "application/vnd.jupyter.widget-view+json": {
              "version_major": 2,
              "version_minor": 0,
              "model_id": "d4652b607dfd4cd4b610cfb87f320a79"
            }
          },
          "metadata": {}
        },
        {
          "output_type": "display_data",
          "data": {
            "text/plain": [
              "Downloading (…)lve/main/config.json:   0%|          | 0.00/570 [00:00<?, ?B/s]"
            ],
            "application/vnd.jupyter.widget-view+json": {
              "version_major": 2,
              "version_minor": 0,
              "model_id": "4cc6dadbb4764f21870a7b7b1f7be42f"
            }
          },
          "metadata": {}
        },
        {
          "output_type": "display_data",
          "data": {
            "text/plain": [
              "Downloading (…)solve/main/vocab.txt:   0%|          | 0.00/232k [00:00<?, ?B/s]"
            ],
            "application/vnd.jupyter.widget-view+json": {
              "version_major": 2,
              "version_minor": 0,
              "model_id": "f3009ce74dbb4422b24b77fdd669c780"
            }
          },
          "metadata": {}
        },
        {
          "output_type": "display_data",
          "data": {
            "text/plain": [
              "Downloading (…)/main/tokenizer.json:   0%|          | 0.00/466k [00:00<?, ?B/s]"
            ],
            "application/vnd.jupyter.widget-view+json": {
              "version_major": 2,
              "version_minor": 0,
              "model_id": "6d0dc865e7e64310a31857022c32ac41"
            }
          },
          "metadata": {}
        },
        {
          "output_type": "display_data",
          "data": {
            "text/plain": [
              "Downloading tf_model.h5:   0%|          | 0.00/536M [00:00<?, ?B/s]"
            ],
            "application/vnd.jupyter.widget-view+json": {
              "version_major": 2,
              "version_minor": 0,
              "model_id": "c373d32bc643400383bfc3939362ef01"
            }
          },
          "metadata": {}
        },
        {
          "output_type": "stream",
          "name": "stderr",
          "text": [
            "Some layers from the model checkpoint at bert-base-uncased were not used when initializing TFBertModel: ['mlm___cls', 'nsp___cls']\n",
            "- This IS expected if you are initializing TFBertModel from the checkpoint of a model trained on another task or with another architecture (e.g. initializing a BertForSequenceClassification model from a BertForPreTraining model).\n",
            "- This IS NOT expected if you are initializing TFBertModel from the checkpoint of a model that you expect to be exactly identical (initializing a BertForSequenceClassification model from a BertForSequenceClassification model).\n",
            "All the layers of TFBertModel were initialized from the model checkpoint at bert-base-uncased.\n",
            "If your task is similar to the task the model of the checkpoint was trained on, you can already use TFBertModel for predictions without further training.\n"
          ]
        }
      ]
    },
    {
      "cell_type": "code",
      "source": [
        "#train_data, val_data, train_labels, val_labels = train_test_split(df_train.text.values, df_train.target.values, test_size=0.2, random_state=10)\n",
        "train_data, val_data, train_labels, val_labels = train_test_split(df['text'][:df_train.shape[0]].values, df_train['target'].values, test_size=0.2, stratify=df_train['target'].values, random_state=10)"
      ],
      "metadata": {
        "id": "ItPpGxy_T9y8"
      },
      "execution_count": 105,
      "outputs": []
    },
    {
      "cell_type": "code",
      "source": [
        "train_data = tokenizer(\n",
        "text = train_data.tolist(),\n",
        "    add_special_tokens = True,\n",
        "    max_length = max_length,\n",
        "    truncation = True,\n",
        "    padding = True,\n",
        "    return_tensors = 'tf',\n",
        "    return_token_type_ids = False,\n",
        "    return_attention_mask = True,\n",
        "    verbose = True\n",
        "    \n",
        ")"
      ],
      "metadata": {
        "id": "H6rBXI7wiRqg"
      },
      "execution_count": 106,
      "outputs": []
    },
    {
      "cell_type": "code",
      "source": [
        "train_data"
      ],
      "metadata": {
        "colab": {
          "base_uri": "https://localhost:8080/"
        },
        "id": "dV8bNxFDjYKi",
        "outputId": "19d2205b-b3ee-4d09-d085-c2ca8e9b3624"
      },
      "execution_count": 107,
      "outputs": [
        {
          "output_type": "execute_result",
          "data": {
            "text/plain": [
              "{'input_ids': <tf.Tensor: shape=(6090, 28), dtype=int32, numpy=\n",
              "array([[  101,  2610,  3102, ...,     0,     0,     0],\n",
              "       [  101,  1049,  2232, ...,     0,     0,     0],\n",
              "       [  101, 11352,  5856, ...,     0,     0,     0],\n",
              "       ...,\n",
              "       [  101, 12632,  3521, ...,     0,     0,     0],\n",
              "       [  101,  2017,  4148, ...,     0,     0,     0],\n",
              "       [  101,  2018,  3167, ...,     0,     0,     0]], dtype=int32)>, 'attention_mask': <tf.Tensor: shape=(6090, 28), dtype=int32, numpy=\n",
              "array([[1, 1, 1, ..., 0, 0, 0],\n",
              "       [1, 1, 1, ..., 0, 0, 0],\n",
              "       [1, 1, 1, ..., 0, 0, 0],\n",
              "       ...,\n",
              "       [1, 1, 1, ..., 0, 0, 0],\n",
              "       [1, 1, 1, ..., 0, 0, 0],\n",
              "       [1, 1, 1, ..., 0, 0, 0]], dtype=int32)>}"
            ]
          },
          "metadata": {},
          "execution_count": 107
        }
      ]
    },
    {
      "cell_type": "code",
      "source": [
        "val_data = tokenizer(\n",
        "text = val_data.tolist(),\n",
        "    add_special_tokens = True,\n",
        "    max_length = max_length,\n",
        "    truncation = True,\n",
        "    padding = True,\n",
        "    return_tensors = 'tf',\n",
        "    return_token_type_ids = False,\n",
        "    return_attention_mask = True,\n",
        "    verbose = True\n",
        "    \n",
        ")"
      ],
      "metadata": {
        "id": "tNPeY2I7VaiQ"
      },
      "execution_count": 108,
      "outputs": []
    },
    {
      "cell_type": "markdown",
      "source": [
        "##Model"
      ],
      "metadata": {
        "id": "bPr9J2yCisih"
      }
    },
    {
      "cell_type": "code",
      "source": [
        "import tensorflow as tf\n",
        "from tensorflow import keras\n",
        "from tensorflow.keras import layers\n",
        "from tensorflow.keras.optimizers import Adam\n",
        "from tensorflow.keras.callbacks import EarlyStopping\n",
        "from tensorflow.keras.initializers import TruncatedNormal\n",
        "from tensorflow.keras.losses import CategoricalCrossentropy,BinaryCrossentropy\n",
        "from tensorflow.keras.metrics import CategoricalAccuracy,BinaryAccuracy\n",
        "from tensorflow.keras.utils import to_categorical\n",
        "from tensorflow.keras.utils import plot_model"
      ],
      "metadata": {
        "id": "cyoE3br3isa_"
      },
      "execution_count": 109,
      "outputs": []
    },
    {
      "cell_type": "code",
      "source": [
        "max_len = 28\n",
        "\n",
        "\n",
        "input_ids = keras.Input(shape = (max_len,), dtype = tf.int32, name = 'input_ids')\n",
        "input_mask = keras.Input(shape = (max_len,), dtype = tf.int32, name = 'input_mask')\n",
        "\n",
        "embeddings = bert([input_ids, input_mask])[1]\n",
        "\n",
        "out = tf.keras.layers.Dropout(0.1)(embeddings)\n",
        "\n",
        "out = Dense(128, activation='relu')(out)\n",
        "out = tf.keras.layers.Dropout(0.1)(out)\n",
        "out = Dense(32,activation = 'relu')(out)\n",
        "\n",
        "y = Dense(1,activation = 'sigmoid')(out)\n",
        "    \n",
        "model = tf.keras.Model(inputs=[input_ids, input_mask], outputs=y)\n",
        "model.layers[2].trainable = True"
      ],
      "metadata": {
        "id": "MK942QLUkISi"
      },
      "execution_count": 110,
      "outputs": []
    },
    {
      "cell_type": "code",
      "source": [
        "model.summary()"
      ],
      "metadata": {
        "id": "gvigHui-kRwh",
        "colab": {
          "base_uri": "https://localhost:8080/"
        },
        "outputId": "7cde0156-3d52-4606-a13c-943e2ae4ef21"
      },
      "execution_count": 111,
      "outputs": [
        {
          "output_type": "stream",
          "name": "stdout",
          "text": [
            "Model: \"model_1\"\n",
            "__________________________________________________________________________________________________\n",
            " Layer (type)                   Output Shape         Param #     Connected to                     \n",
            "==================================================================================================\n",
            " input_ids (InputLayer)         [(None, 28)]         0           []                               \n",
            "                                                                                                  \n",
            " input_mask (InputLayer)        [(None, 28)]         0           []                               \n",
            "                                                                                                  \n",
            " tf_bert_model (TFBertModel)    TFBaseModelOutputWi  109482240   ['input_ids[0][0]',              \n",
            "                                thPoolingAndCrossAt               'input_mask[0][0]']             \n",
            "                                tentions(last_hidde                                               \n",
            "                                n_state=(None, 28,                                                \n",
            "                                768),                                                             \n",
            "                                 pooler_output=(Non                                               \n",
            "                                e, 768),                                                          \n",
            "                                 past_key_values=No                                               \n",
            "                                ne, hidden_states=N                                               \n",
            "                                one, attentions=Non                                               \n",
            "                                e, cross_attentions                                               \n",
            "                                =None)                                                            \n",
            "                                                                                                  \n",
            " dropout_39 (Dropout)           (None, 768)          0           ['tf_bert_model[1][1]']          \n",
            "                                                                                                  \n",
            " dense_7 (Dense)                (None, 128)          98432       ['dropout_39[0][0]']             \n",
            "                                                                                                  \n",
            " dropout_40 (Dropout)           (None, 128)          0           ['dense_7[0][0]']                \n",
            "                                                                                                  \n",
            " dense_8 (Dense)                (None, 32)           4128        ['dropout_40[0][0]']             \n",
            "                                                                                                  \n",
            " dense_9 (Dense)                (None, 1)            33          ['dense_8[0][0]']                \n",
            "                                                                                                  \n",
            "==================================================================================================\n",
            "Total params: 109,584,833\n",
            "Trainable params: 109,584,833\n",
            "Non-trainable params: 0\n",
            "__________________________________________________________________________________________________\n"
          ]
        }
      ]
    },
    {
      "cell_type": "code",
      "source": [
        "train_data['input_ids']"
      ],
      "metadata": {
        "id": "N-n-g8PKmG9O",
        "colab": {
          "base_uri": "https://localhost:8080/"
        },
        "outputId": "fbb4d056-5166-4154-e3ba-3ebc2f2d871f"
      },
      "execution_count": 112,
      "outputs": [
        {
          "output_type": "execute_result",
          "data": {
            "text/plain": [
              "<tf.Tensor: shape=(6090, 28), dtype=int32, numpy=\n",
              "array([[  101,  2610,  3102, ...,     0,     0,     0],\n",
              "       [  101,  1049,  2232, ...,     0,     0,     0],\n",
              "       [  101, 11352,  5856, ...,     0,     0,     0],\n",
              "       ...,\n",
              "       [  101, 12632,  3521, ...,     0,     0,     0],\n",
              "       [  101,  2017,  4148, ...,     0,     0,     0],\n",
              "       [  101,  2018,  3167, ...,     0,     0,     0]], dtype=int32)>"
            ]
          },
          "metadata": {},
          "execution_count": 112
        }
      ]
    },
    {
      "cell_type": "code",
      "source": [
        "from keras.optimizers import Adam\n",
        "optimizer = Adam(\n",
        "    learning_rate=6e-06, # this learning rate is for bert model , taken from huggingface website \n",
        "    epsilon=1e-08,\n",
        "    decay=0.01,\n",
        "    clipnorm=1.0)\n",
        "\n",
        "loss = BinaryCrossentropy(from_logits = True)\n",
        "metric = BinaryAccuracy('accuracy')\n",
        "\n",
        "\n",
        "model.compile(\n",
        "    optimizer = optimizer,\n",
        "    loss = loss, \n",
        "    metrics = metric)\n",
        "\n",
        "callbacks_list = [\n",
        "    tf.keras.callbacks.EarlyStopping(\n",
        "        monitor='val_accuracy',                    \n",
        "        patience=10                                 \n",
        "    ),\n",
        "    tf.keras.callbacks.ModelCheckpoint(                \n",
        "        filepath=\"checkpoint_path.keras\",        \n",
        "        monitor='val_accuracy',                          \n",
        "        save_best_only=True,                       \n",
        "        verbose=1                                   \n",
        "    ),\n",
        "    tf.keras.callbacks.ReduceLROnPlateau(\n",
        "        monitor='val_loss',  \n",
        "        factor=0.5,          # callback 호출시 학습률을 1/2로 줄입니다\n",
        "        patience=5,          # epoch 5 동안 개선되지 않으면 callback이 호출됩니다\n",
        ")\n",
        "]"
      ],
      "metadata": {
        "id": "5F8X-6wekX3E"
      },
      "execution_count": 113,
      "outputs": []
    },
    {
      "cell_type": "code",
      "source": [
        "history = model.fit(\n",
        "    x ={'input_ids':train_data['input_ids'],'input_mask':train_data['attention_mask']} ,\n",
        "    y = train_labels,\n",
        "    validation_data = ({'input_ids':val_data['input_ids'],'input_mask':val_data['attention_mask']},val_labels),\n",
        "    callbacks=callbacks_list,\n",
        "    #validation_split = 0.1,\n",
        "    epochs=50,\n",
        "    batch_size=32\n",
        ")"
      ],
      "metadata": {
        "colab": {
          "base_uri": "https://localhost:8080/"
        },
        "id": "tlFyzInUkS2W",
        "outputId": "075deb31-6718-4c72-b163-3b1b77282897"
      },
      "execution_count": 114,
      "outputs": [
        {
          "output_type": "stream",
          "name": "stdout",
          "text": [
            "Epoch 1/50\n",
            "191/191 [==============================] - ETA: 0s - loss: 0.5375 - accuracy: 0.7263\n",
            "Epoch 1: val_accuracy improved from -inf to 0.82009, saving model to checkpoint_path.keras\n",
            "191/191 [==============================] - 102s 331ms/step - loss: 0.5375 - accuracy: 0.7263 - val_loss: 0.4319 - val_accuracy: 0.8201 - lr: 6.0000e-06\n",
            "Epoch 2/50\n",
            "191/191 [==============================] - ETA: 0s - loss: 0.4261 - accuracy: 0.8223\n",
            "Epoch 2: val_accuracy improved from 0.82009 to 0.82928, saving model to checkpoint_path.keras\n",
            "191/191 [==============================] - 51s 269ms/step - loss: 0.4261 - accuracy: 0.8223 - val_loss: 0.4110 - val_accuracy: 0.8293 - lr: 6.0000e-06\n",
            "Epoch 3/50\n",
            "191/191 [==============================] - ETA: 0s - loss: 0.4029 - accuracy: 0.8356\n",
            "Epoch 3: val_accuracy did not improve from 0.82928\n",
            "191/191 [==============================] - 46s 243ms/step - loss: 0.4029 - accuracy: 0.8356 - val_loss: 0.4067 - val_accuracy: 0.8280 - lr: 6.0000e-06\n",
            "Epoch 4/50\n",
            "191/191 [==============================] - ETA: 0s - loss: 0.3926 - accuracy: 0.8386\n",
            "Epoch 4: val_accuracy improved from 0.82928 to 0.82994, saving model to checkpoint_path.keras\n",
            "191/191 [==============================] - 59s 307ms/step - loss: 0.3926 - accuracy: 0.8386 - val_loss: 0.4028 - val_accuracy: 0.8299 - lr: 6.0000e-06\n",
            "Epoch 5/50\n",
            "191/191 [==============================] - ETA: 0s - loss: 0.3785 - accuracy: 0.8475\n",
            "Epoch 5: val_accuracy did not improve from 0.82994\n",
            "191/191 [==============================] - 45s 237ms/step - loss: 0.3785 - accuracy: 0.8475 - val_loss: 0.4122 - val_accuracy: 0.8253 - lr: 6.0000e-06\n",
            "Epoch 6/50\n",
            "191/191 [==============================] - ETA: 0s - loss: 0.3706 - accuracy: 0.8529\n",
            "Epoch 6: val_accuracy did not improve from 0.82994\n",
            "191/191 [==============================] - 47s 247ms/step - loss: 0.3706 - accuracy: 0.8529 - val_loss: 0.4141 - val_accuracy: 0.8267 - lr: 6.0000e-06\n",
            "Epoch 7/50\n",
            "191/191 [==============================] - ETA: 0s - loss: 0.3676 - accuracy: 0.8552\n",
            "Epoch 7: val_accuracy did not improve from 0.82994\n",
            "191/191 [==============================] - 47s 244ms/step - loss: 0.3676 - accuracy: 0.8552 - val_loss: 0.4113 - val_accuracy: 0.8286 - lr: 6.0000e-06\n",
            "Epoch 8/50\n",
            "191/191 [==============================] - ETA: 0s - loss: 0.3665 - accuracy: 0.8544\n",
            "Epoch 8: val_accuracy improved from 0.82994 to 0.83257, saving model to checkpoint_path.keras\n",
            "191/191 [==============================] - 54s 283ms/step - loss: 0.3665 - accuracy: 0.8544 - val_loss: 0.4084 - val_accuracy: 0.8326 - lr: 6.0000e-06\n",
            "Epoch 9/50\n",
            "191/191 [==============================] - ETA: 0s - loss: 0.3608 - accuracy: 0.8563\n",
            "Epoch 9: val_accuracy did not improve from 0.83257\n",
            "191/191 [==============================] - 46s 242ms/step - loss: 0.3608 - accuracy: 0.8563 - val_loss: 0.4105 - val_accuracy: 0.8313 - lr: 6.0000e-06\n",
            "Epoch 10/50\n",
            "191/191 [==============================] - ETA: 0s - loss: 0.3590 - accuracy: 0.8606\n",
            "Epoch 10: val_accuracy did not improve from 0.83257\n",
            "191/191 [==============================] - 46s 241ms/step - loss: 0.3590 - accuracy: 0.8606 - val_loss: 0.4124 - val_accuracy: 0.8286 - lr: 3.0000e-06\n",
            "Epoch 11/50\n",
            "191/191 [==============================] - ETA: 0s - loss: 0.3591 - accuracy: 0.8558\n",
            "Epoch 11: val_accuracy did not improve from 0.83257\n",
            "191/191 [==============================] - 46s 242ms/step - loss: 0.3591 - accuracy: 0.8558 - val_loss: 0.4113 - val_accuracy: 0.8313 - lr: 3.0000e-06\n",
            "Epoch 12/50\n",
            "191/191 [==============================] - ETA: 0s - loss: 0.3525 - accuracy: 0.8603\n",
            "Epoch 12: val_accuracy did not improve from 0.83257\n",
            "191/191 [==============================] - 45s 236ms/step - loss: 0.3525 - accuracy: 0.8603 - val_loss: 0.4123 - val_accuracy: 0.8299 - lr: 3.0000e-06\n",
            "Epoch 13/50\n",
            "191/191 [==============================] - ETA: 0s - loss: 0.3563 - accuracy: 0.8619\n",
            "Epoch 13: val_accuracy did not improve from 0.83257\n",
            "191/191 [==============================] - 46s 243ms/step - loss: 0.3563 - accuracy: 0.8619 - val_loss: 0.4145 - val_accuracy: 0.8286 - lr: 3.0000e-06\n",
            "Epoch 14/50\n",
            "191/191 [==============================] - ETA: 0s - loss: 0.3499 - accuracy: 0.8639\n",
            "Epoch 14: val_accuracy did not improve from 0.83257\n",
            "191/191 [==============================] - 46s 243ms/step - loss: 0.3499 - accuracy: 0.8639 - val_loss: 0.4134 - val_accuracy: 0.8306 - lr: 3.0000e-06\n",
            "Epoch 15/50\n",
            "191/191 [==============================] - ETA: 0s - loss: 0.3485 - accuracy: 0.8627\n",
            "Epoch 15: val_accuracy did not improve from 0.83257\n",
            "191/191 [==============================] - 48s 250ms/step - loss: 0.3485 - accuracy: 0.8627 - val_loss: 0.4144 - val_accuracy: 0.8299 - lr: 1.5000e-06\n",
            "Epoch 16/50\n",
            "191/191 [==============================] - ETA: 0s - loss: 0.3515 - accuracy: 0.8642\n",
            "Epoch 16: val_accuracy did not improve from 0.83257\n",
            "191/191 [==============================] - 47s 244ms/step - loss: 0.3515 - accuracy: 0.8642 - val_loss: 0.4141 - val_accuracy: 0.8313 - lr: 1.5000e-06\n",
            "Epoch 17/50\n",
            "191/191 [==============================] - ETA: 0s - loss: 0.3498 - accuracy: 0.8662\n",
            "Epoch 17: val_accuracy did not improve from 0.83257\n",
            "191/191 [==============================] - 47s 245ms/step - loss: 0.3498 - accuracy: 0.8662 - val_loss: 0.4143 - val_accuracy: 0.8313 - lr: 1.5000e-06\n",
            "Epoch 18/50\n",
            "191/191 [==============================] - ETA: 0s - loss: 0.3491 - accuracy: 0.8627\n",
            "Epoch 18: val_accuracy did not improve from 0.83257\n",
            "191/191 [==============================] - 48s 249ms/step - loss: 0.3491 - accuracy: 0.8627 - val_loss: 0.4143 - val_accuracy: 0.8306 - lr: 1.5000e-06\n"
          ]
        }
      ]
    },
    {
      "cell_type": "code",
      "source": [
        "loaded_model = tf.keras.models.load_model('checkpoint_path.keras', custom_objects={\"TFBertModel\": TFBertModel})"
      ],
      "metadata": {
        "id": "eFeY60bMxDa4"
      },
      "execution_count": 115,
      "outputs": []
    },
    {
      "cell_type": "code",
      "source": [
        "history_dict = history.history\n",
        "history_dict.keys()"
      ],
      "metadata": {
        "outputId": "d8060854-c448-422d-f324-d38fab1628b0",
        "colab": {
          "base_uri": "https://localhost:8080/"
        },
        "id": "NZkFjrYKvKSO"
      },
      "execution_count": 116,
      "outputs": [
        {
          "output_type": "execute_result",
          "data": {
            "text/plain": [
              "dict_keys(['loss', 'accuracy', 'val_loss', 'val_accuracy', 'lr'])"
            ]
          },
          "metadata": {},
          "execution_count": 116
        }
      ]
    },
    {
      "cell_type": "code",
      "source": [
        "history_dict = history.history\n",
        "loss_values = history_dict[\"loss\"]\n",
        "val_loss_values = history_dict[\"val_loss\"]\n",
        "epochs = range(1, len(loss_values) + 1)\n",
        "plt.plot(epochs, loss_values, \"bo\", label=\"Training loss\")\n",
        "plt.plot(epochs, val_loss_values, \"b\", label=\"Validation loss\")\n",
        "plt.title(\"Training and validation loss\")\n",
        "plt.xlabel(\"Epochs\")\n",
        "plt.ylabel(\"Loss\")\n",
        "plt.legend()\n",
        "plt.show()"
      ],
      "metadata": {
        "outputId": "4e0a24a8-2b6c-48d6-876c-634f12cfdbd4",
        "colab": {
          "base_uri": "https://localhost:8080/",
          "height": 477
        },
        "id": "0DUw0bJAvKSO"
      },
      "execution_count": 117,
      "outputs": [
        {
          "output_type": "display_data",
          "data": {
            "text/plain": [
              "<Figure size 640x480 with 1 Axes>"
            ],
            "image/png": "[encoded data removed]"
          },
          "metadata": {}
        }
      ]
    },
    {
      "cell_type": "code",
      "source": [
        "plt.clf()\n",
        "acc = history_dict[\"accuracy\"]\n",
        "val_acc = history_dict[\"val_accuracy\"]\n",
        "plt.plot(epochs, acc, \"bo\", label=\"Training acc\")\n",
        "plt.plot(epochs, val_acc, \"b\", label=\"Validation acc\")\n",
        "plt.title(\"Training and validation accuracy\")\n",
        "plt.xlabel(\"Epochs\")\n",
        "plt.ylabel(\"Accuracy\")\n",
        "plt.legend()\n",
        "plt.show()"
      ],
      "metadata": {
        "outputId": "b79aba70-2e0d-4e29-e48e-b01e9364cfdb",
        "colab": {
          "base_uri": "https://localhost:8080/",
          "height": 477
        },
        "id": "1RrbO1hdvKSP"
      },
      "execution_count": 118,
      "outputs": [
        {
          "output_type": "display_data",
          "data": {
            "text/plain": [
              "<Figure size 640x480 with 1 Axes>"
            ],
            "image/png": "[encoded data removed]"
          },
          "metadata": {}
        }
      ]
    },
    {
      "cell_type": "code",
      "source": [
        "x_test = tokenizer(\n",
        "    text=df_test.text.tolist(),\n",
        "    add_special_tokens=True,\n",
        "    max_length=max_length,\n",
        "    truncation=True,\n",
        "    padding=True, \n",
        "    return_tensors='tf',\n",
        "    return_token_type_ids = False,\n",
        "    return_attention_mask = True,\n",
        "    verbose = True)"
      ],
      "metadata": {
        "id": "kS2bWiTIyD07"
      },
      "execution_count": 119,
      "outputs": []
    },
    {
      "cell_type": "code",
      "source": [
        "x_test['attention_mask']"
      ],
      "metadata": {
        "id": "emw0XBARyHVO",
        "colab": {
          "base_uri": "https://localhost:8080/"
        },
        "outputId": "e64b4d59-bf0c-4218-d942-fa71032dbe2b"
      },
      "execution_count": 120,
      "outputs": [
        {
          "output_type": "execute_result",
          "data": {
            "text/plain": [
              "<tf.Tensor: shape=(3263, 28), dtype=int32, numpy=\n",
              "array([[1, 1, 1, ..., 0, 0, 0],\n",
              "       [1, 1, 1, ..., 0, 0, 0],\n",
              "       [1, 1, 1, ..., 0, 0, 0],\n",
              "       ...,\n",
              "       [1, 1, 1, ..., 0, 0, 0],\n",
              "       [1, 1, 1, ..., 0, 0, 0],\n",
              "       [1, 1, 1, ..., 0, 0, 0]], dtype=int32)>"
            ]
          },
          "metadata": {},
          "execution_count": 120
        }
      ]
    },
    {
      "cell_type": "code",
      "source": [
        "predicted = loaded_model.predict({'input_ids':x_test['input_ids'],'input_mask':x_test['attention_mask']})"
      ],
      "metadata": {
        "id": "93xTYO0ayJCW",
        "colab": {
          "base_uri": "https://localhost:8080/"
        },
        "outputId": "6564a2da-71e0-471b-db06-2a6b951ff7f3"
      },
      "execution_count": 121,
      "outputs": [
        {
          "output_type": "stream",
          "name": "stdout",
          "text": [
            "102/102 [==============================] - 11s 75ms/step\n"
          ]
        }
      ]
    },
    {
      "cell_type": "code",
      "source": [
        "y_predicted = np.where(predicted>0.5,1,0)\n",
        "y_predicted = y_predicted.reshape((1,3263))[0]\n",
        "df_sample['id'] = df_test.id\n",
        "df_sample['target'] = y_predicted\n",
        "df_sample.to_csv('submission.csv',index = False)\n",
        "# 리더보드 0.82929"
      ],
      "metadata": {
        "id": "YJRUShIzyg8o"
      },
      "execution_count": 122,
      "outputs": []
    },
    {
      "cell_type": "markdown",
      "source": [
        "# BERT - StratifiedKFold CV"
      ],
      "metadata": {
        "id": "3uZ36qS5dYY0"
      }
    }
  ],
  "metadata": {
    "colab": {
      "provenance": [],
      "gpuType": "T4",
      "include_colab_link": true
    },
    "kernelspec": {
      "display_name": "Python 3",
      "name": "python3"
    },
    "widgets": {
      "application/vnd.jupyter.widget-state+json": {
        "d4652b607dfd4cd4b610cfb87f320a79": {
          "model_module": "@jupyter-widgets/controls",
          "model_name": "HBoxModel",
          "model_module_version": "1.5.0",
          "state": {
            "_dom_classes": [],
            "_model_module": "@jupyter-widgets/controls",
            "_model_module_version": "1.5.0",
            "_model_name": "HBoxModel",
            "_view_count": null,
            "_view_module": "@jupyter-widgets/controls",
            "_view_module_version": "1.5.0",
            "_view_name": "HBoxView",
            "box_style": "",
            "children": [
              "IPY_MODEL_2a1bb148d7784fb19e02fb6a3ea71f3f",
              "IPY_MODEL_58990a369ef0467888575f26b4138833",
              "IPY_MODEL_1baf010dd4b24df6a69bc552678cdbe8"
            ],
            "layout": "IPY_MODEL_d9d9942a5806400cb99c86211aecbcf6"
          }
        },
        "2a1bb148d7784fb19e02fb6a3ea71f3f": {
          "model_module": "@jupyter-widgets/controls",
          "model_name": "HTMLModel",
          "model_module_version": "1.5.0",
          "state": {
            "_dom_classes": [],
            "_model_module": "@jupyter-widgets/controls",
            "_model_module_version": "1.5.0",
            "_model_name": "HTMLModel",
            "_view_count": null,
            "_view_module": "@jupyter-widgets/controls",
            "_view_module_version": "1.5.0",
            "_view_name": "HTMLView",
            "description": "",
            "description_tooltip": null,
            "layout": "IPY_MODEL_c2eab1436d9149d19cd8c8f8d3a2d602",
            "placeholder": "​",
            "style": "IPY_MODEL_52cd39e5da5d43d3aa3c39b46b660151",
            "value": "Downloading (…)okenizer_config.json: 100%"
          }
        },
        "58990a369ef0467888575f26b4138833": {
          "model_module": "@jupyter-widgets/controls",
          "model_name": "FloatProgressModel",
          "model_module_version": "1.5.0",
          "state": {
            "_dom_classes": [],
            "_model_module": "@jupyter-widgets/controls",
            "_model_module_version": "1.5.0",
            "_model_name": "FloatProgressModel",
            "_view_count": null,
            "_view_module": "@jupyter-widgets/controls",
            "_view_module_version": "1.5.0",
            "_view_name": "ProgressView",
            "bar_style": "success",
            "description": "",
            "description_tooltip": null,
            "layout": "IPY_MODEL_e8b977695eaf42ea81b34b16568b049a",
            "max": 28,
            "min": 0,
            "orientation": "horizontal",
            "style": "IPY_MODEL_5455d26e4835466fb8d3119baacdc0e2",
            "value": 28
          }
        },
        "1baf010dd4b24df6a69bc552678cdbe8": {
          "model_module": "@jupyter-widgets/controls",
          "model_name": "HTMLModel",
          "model_module_version": "1.5.0",
          "state": {
            "_dom_classes": [],
            "_model_module": "@jupyter-widgets/controls",
            "_model_module_version": "1.5.0",
            "_model_name": "HTMLModel",
            "_view_count": null,
            "_view_module": "@jupyter-widgets/controls",
            "_view_module_version": "1.5.0",
            "_view_name": "HTMLView",
            "description": "",
            "description_tooltip": null,
            "layout": "IPY_MODEL_495976d935034035ab04a1b847815b20",
            "placeholder": "​",
            "style": "IPY_MODEL_490b56ba0881455ba665b1395c6296c2",
            "value": " 28.0/28.0 [00:00&lt;00:00, 623B/s]"
          }
        },
        "d9d9942a5806400cb99c86211aecbcf6": {
          "model_module": "@jupyter-widgets/base",
          "model_name": "LayoutModel",
          "model_module_version": "1.2.0",
          "state": {
            "_model_module": "@jupyter-widgets/base",
            "_model_module_version": "1.2.0",
            "_model_name": "LayoutModel",
            "_view_count": null,
            "_view_module": "@jupyter-widgets/base",
            "_view_module_version": "1.2.0",
            "_view_name": "LayoutView",
            "align_content": null,
            "align_items": null,
            "align_self": null,
            "border": null,
            "bottom": null,
            "display": null,
            "flex": null,
            "flex_flow": null,
            "grid_area": null,
            "grid_auto_columns": null,
            "grid_auto_flow": null,
            "grid_auto_rows": null,
            "grid_column": null,
            "grid_gap": null,
            "grid_row": null,
            "grid_template_areas": null,
            "grid_template_columns": null,
            "grid_template_rows": null,
            "height": null,
            "justify_content": null,
            "justify_items": null,
            "left": null,
            "margin": null,
            "max_height": null,
            "max_width": null,
            "min_height": null,
            "min_width": null,
            "object_fit": null,
            "object_position": null,
            "order": null,
            "overflow": null,
            "overflow_x": null,
            "overflow_y": null,
            "padding": null,
            "right": null,
            "top": null,
            "visibility": null,
            "width": null
          }
        },
        "c2eab1436d9149d19cd8c8f8d3a2d602": {
          "model_module": "@jupyter-widgets/base",
          "model_name": "LayoutModel",
          "model_module_version": "1.2.0",
          "state": {
            "_model_module": "@jupyter-widgets/base",
            "_model_module_version": "1.2.0",
            "_model_name": "LayoutModel",
            "_view_count": null,
            "_view_module": "@jupyter-widgets/base",
            "_view_module_version": "1.2.0",
            "_view_name": "LayoutView",
            "align_content": null,
            "align_items": null,
            "align_self": null,
            "border": null,
            "bottom": null,
            "display": null,
            "flex": null,
            "flex_flow": null,
            "grid_area": null,
            "grid_auto_columns": null,
            "grid_auto_flow": null,
            "grid_auto_rows": null,
            "grid_column": null,
            "grid_gap": null,
            "grid_row": null,
            "grid_template_areas": null,
            "grid_template_columns": null,
            "grid_template_rows": null,
            "height": null,
            "justify_content": null,
            "justify_items": null,
            "left": null,
            "margin": null,
            "max_height": null,
            "max_width": null,
            "min_height": null,
            "min_width": null,
            "object_fit": null,
            "object_position": null,
            "order": null,
            "overflow": null,
            "overflow_x": null,
            "overflow_y": null,
            "padding": null,
            "right": null,
            "top": null,
            "visibility": null,
            "width": null
          }
        },
        "52cd39e5da5d43d3aa3c39b46b660151": {
          "model_module": "@jupyter-widgets/controls",
          "model_name": "DescriptionStyleModel",
          "model_module_version": "1.5.0",
          "state": {
            "_model_module": "@jupyter-widgets/controls",
            "_model_module_version": "1.5.0",
            "_model_name": "DescriptionStyleModel",
            "_view_count": null,
            "_view_module": "@jupyter-widgets/base",
            "_view_module_version": "1.2.0",
            "_view_name": "StyleView",
            "description_width": ""
          }
        },
        "e8b977695eaf42ea81b34b16568b049a": {
          "model_module": "@jupyter-widgets/base",
          "model_name": "LayoutModel",
          "model_module_version": "1.2.0",
          "state": {
            "_model_module": "@jupyter-widgets/base",
            "_model_module_version": "1.2.0",
            "_model_name": "LayoutModel",
            "_view_count": null,
            "_view_module": "@jupyter-widgets/base",
            "_view_module_version": "1.2.0",
            "_view_name": "LayoutView",
            "align_content": null,
            "align_items": null,
            "align_self": null,
            "border": null,
            "bottom": null,
            "display": null,
            "flex": null,
            "flex_flow": null,
            "grid_area": null,
            "grid_auto_columns": null,
            "grid_auto_flow": null,
            "grid_auto_rows": null,
            "grid_column": null,
            "grid_gap": null,
            "grid_row": null,
            "grid_template_areas": null,
            "grid_template_columns": null,
            "grid_template_rows": null,
            "height": null,
            "justify_content": null,
            "justify_items": null,
            "left": null,
            "margin": null,
            "max_height": null,
            "max_width": null,
            "min_height": null,
            "min_width": null,
            "object_fit": null,
            "object_position": null,
            "order": null,
            "overflow": null,
            "overflow_x": null,
            "overflow_y": null,
            "padding": null,
            "right": null,
            "top": null,
            "visibility": null,
            "width": null
          }
        },
        "5455d26e4835466fb8d3119baacdc0e2": {
          "model_module": "@jupyter-widgets/controls",
          "model_name": "ProgressStyleModel",
          "model_module_version": "1.5.0",
          "state": {
            "_model_module": "@jupyter-widgets/controls",
            "_model_module_version": "1.5.0",
            "_model_name": "ProgressStyleModel",
            "_view_count": null,
            "_view_module": "@jupyter-widgets/base",
            "_view_module_version": "1.2.0",
            "_view_name": "StyleView",
            "bar_color": null,
            "description_width": ""
          }
        },
        "495976d935034035ab04a1b847815b20": {
          "model_module": "@jupyter-widgets/base",
          "model_name": "LayoutModel",
          "model_module_version": "1.2.0",
          "state": {
            "_model_module": "@jupyter-widgets/base",
            "_model_module_version": "1.2.0",
            "_model_name": "LayoutModel",
            "_view_count": null,
            "_view_module": "@jupyter-widgets/base",
            "_view_module_version": "1.2.0",
            "_view_name": "LayoutView",
            "align_content": null,
            "align_items": null,
            "align_self": null,
            "border": null,
            "bottom": null,
            "display": null,
            "flex": null,
            "flex_flow": null,
            "grid_area": null,
            "grid_auto_columns": null,
            "grid_auto_flow": null,
            "grid_auto_rows": null,
            "grid_column": null,
            "grid_gap": null,
            "grid_row": null,
            "grid_template_areas": null,
            "grid_template_columns": null,
            "grid_template_rows": null,
            "height": null,
            "justify_content": null,
            "justify_items": null,
            "left": null,
            "margin": null,
            "max_height": null,
            "max_width": null,
            "min_height": null,
            "min_width": null,
            "object_fit": null,
            "object_position": null,
            "order": null,
            "overflow": null,
            "overflow_x": null,
            "overflow_y": null,
            "padding": null,
            "right": null,
            "top": null,
            "visibility": null,
            "width": null
          }
        },
        "490b56ba0881455ba665b1395c6296c2": {
          "model_module": "@jupyter-widgets/controls",
          "model_name": "DescriptionStyleModel",
          "model_module_version": "1.5.0",
          "state": {
            "_model_module": "@jupyter-widgets/controls",
            "_model_module_version": "1.5.0",
            "_model_name": "DescriptionStyleModel",
            "_view_count": null,
            "_view_module": "@jupyter-widgets/base",
            "_view_module_version": "1.2.0",
            "_view_name": "StyleView",
            "description_width": ""
          }
        },
        "4cc6dadbb4764f21870a7b7b1f7be42f": {
          "model_module": "@jupyter-widgets/controls",
          "model_name": "HBoxModel",
          "model_module_version": "1.5.0",
          "state": {
            "_dom_classes": [],
            "_model_module": "@jupyter-widgets/controls",
            "_model_module_version": "1.5.0",
            "_model_name": "HBoxModel",
            "_view_count": null,
            "_view_module": "@jupyter-widgets/controls",
            "_view_module_version": "1.5.0",
            "_view_name": "HBoxView",
            "box_style": "",
            "children": [
              "IPY_MODEL_d3bcc26592e54f52b07f3c2ca7845338",
              "IPY_MODEL_8b65867491ca413895461a456932153b",
              "IPY_MODEL_da13a9ab9888437db4bd4ab6a1c581f3"
            ],
            "layout": "IPY_MODEL_ee54c011e5a84bd8a0ee1cd88e52ba25"
          }
        },
        "d3bcc26592e54f52b07f3c2ca7845338": {
          "model_module": "@jupyter-widgets/controls",
          "model_name": "HTMLModel",
          "model_module_version": "1.5.0",
          "state": {
            "_dom_classes": [],
            "_model_module": "@jupyter-widgets/controls",
            "_model_module_version": "1.5.0",
            "_model_name": "HTMLModel",
            "_view_count": null,
            "_view_module": "@jupyter-widgets/controls",
            "_view_module_version": "1.5.0",
            "_view_name": "HTMLView",
            "description": "",
            "description_tooltip": null,
            "layout": "IPY_MODEL_e69012d1e68f41228dc31a89c0b1870b",
            "placeholder": "​",
            "style": "IPY_MODEL_8ca770910d1a4f65b72eb360b9d7de73",
            "value": "Downloading (…)lve/main/config.json: 100%"
          }
        },
        "8b65867491ca413895461a456932153b": {
          "model_module": "@jupyter-widgets/controls",
          "model_name": "FloatProgressModel",
          "model_module_version": "1.5.0",
          "state": {
            "_dom_classes": [],
            "_model_module": "@jupyter-widgets/controls",
            "_model_module_version": "1.5.0",
            "_model_name": "FloatProgressModel",
            "_view_count": null,
            "_view_module": "@jupyter-widgets/controls",
            "_view_module_version": "1.5.0",
            "_view_name": "ProgressView",
            "bar_style": "success",
            "description": "",
            "description_tooltip": null,
            "layout": "IPY_MODEL_384db0d05264441aaf35089549725068",
            "max": 570,
            "min": 0,
            "orientation": "horizontal",
            "style": "IPY_MODEL_d62a7e4c028e4b10abb168d733a3d617",
            "value": 570
          }
        },
        "da13a9ab9888437db4bd4ab6a1c581f3": {
          "model_module": "@jupyter-widgets/controls",
          "model_name": "HTMLModel",
          "model_module_version": "1.5.0",
          "state": {
            "_dom_classes": [],
            "_model_module": "@jupyter-widgets/controls",
            "_model_module_version": "1.5.0",
            "_model_name": "HTMLModel",
            "_view_count": null,
            "_view_module": "@jupyter-widgets/controls",
            "_view_module_version": "1.5.0",
            "_view_name": "HTMLView",
            "description": "",
            "description_tooltip": null,
            "layout": "IPY_MODEL_4785bd1081ba40709d3c56591ff38cf6",
            "placeholder": "​",
            "style": "IPY_MODEL_a5146b345b5148dfbf134a423a231da7",
            "value": " 570/570 [00:00&lt;00:00, 6.86kB/s]"
          }
        },
        "ee54c011e5a84bd8a0ee1cd88e52ba25": {
          "model_module": "@jupyter-widgets/base",
          "model_name": "LayoutModel",
          "model_module_version": "1.2.0",
          "state": {
            "_model_module": "@jupyter-widgets/base",
            "_model_module_version": "1.2.0",
            "_model_name": "LayoutModel",
            "_view_count": null,
            "_view_module": "@jupyter-widgets/base",
            "_view_module_version": "1.2.0",
            "_view_name": "LayoutView",
            "align_content": null,
            "align_items": null,
            "align_self": null,
            "border": null,
            "bottom": null,
            "display": null,
            "flex": null,
            "flex_flow": null,
            "grid_area": null,
            "grid_auto_columns": null,
            "grid_auto_flow": null,
            "grid_auto_rows": null,
            "grid_column": null,
            "grid_gap": null,
            "grid_row": null,
            "grid_template_areas": null,
            "grid_template_columns": null,
            "grid_template_rows": null,
            "height": null,
            "justify_content": null,
            "justify_items": null,
            "left": null,
            "margin": null,
            "max_height": null,
            "max_width": null,
            "min_height": null,
            "min_width": null,
            "object_fit": null,
            "object_position": null,
            "order": null,
            "overflow": null,
            "overflow_x": null,
            "overflow_y": null,
            "padding": null,
            "right": null,
            "top": null,
            "visibility": null,
            "width": null
          }
        },
        "e69012d1e68f41228dc31a89c0b1870b": {
          "model_module": "@jupyter-widgets/base",
          "model_name": "LayoutModel",
          "model_module_version": "1.2.0",
          "state": {
            "_model_module": "@jupyter-widgets/base",
            "_model_module_version": "1.2.0",
            "_model_name": "LayoutModel",
            "_view_count": null,
            "_view_module": "@jupyter-widgets/base",
            "_view_module_version": "1.2.0",
            "_view_name": "LayoutView",
            "align_content": null,
            "align_items": null,
            "align_self": null,
            "border": null,
            "bottom": null,
            "display": null,
            "flex": null,
            "flex_flow": null,
            "grid_area": null,
            "grid_auto_columns": null,
            "grid_auto_flow": null,
            "grid_auto_rows": null,
            "grid_column": null,
            "grid_gap": null,
            "grid_row": null,
            "grid_template_areas": null,
            "grid_template_columns": null,
            "grid_template_rows": null,
            "height": null,
            "justify_content": null,
            "justify_items": null,
            "left": null,
            "margin": null,
            "max_height": null,
            "max_width": null,
            "min_height": null,
            "min_width": null,
            "object_fit": null,
            "object_position": null,
            "order": null,
            "overflow": null,
            "overflow_x": null,
            "overflow_y": null,
            "padding": null,
            "right": null,
            "top": null,
            "visibility": null,
            "width": null
          }
        },
        "8ca770910d1a4f65b72eb360b9d7de73": {
          "model_module": "@jupyter-widgets/controls",
          "model_name": "DescriptionStyleModel",
          "model_module_version": "1.5.0",
          "state": {
            "_model_module": "@jupyter-widgets/controls",
            "_model_module_version": "1.5.0",
            "_model_name": "DescriptionStyleModel",
            "_view_count": null,
            "_view_module": "@jupyter-widgets/base",
            "_view_module_version": "1.2.0",
            "_view_name": "StyleView",
            "description_width": ""
          }
        },
        "384db0d05264441aaf35089549725068": {
          "model_module": "@jupyter-widgets/base",
          "model_name": "LayoutModel",
          "model_module_version": "1.2.0",
          "state": {
            "_model_module": "@jupyter-widgets/base",
            "_model_module_version": "1.2.0",
            "_model_name": "LayoutModel",
            "_view_count": null,
            "_view_module": "@jupyter-widgets/base",
            "_view_module_version": "1.2.0",
            "_view_name": "LayoutView",
            "align_content": null,
            "align_items": null,
            "align_self": null,
            "border": null,
            "bottom": null,
            "display": null,
            "flex": null,
            "flex_flow": null,
            "grid_area": null,
            "grid_auto_columns": null,
            "grid_auto_flow": null,
            "grid_auto_rows": null,
            "grid_column": null,
            "grid_gap": null,
            "grid_row": null,
            "grid_template_areas": null,
            "grid_template_columns": null,
            "grid_template_rows": null,
            "height": null,
            "justify_content": null,
            "justify_items": null,
            "left": null,
            "margin": null,
            "max_height": null,
            "max_width": null,
            "min_height": null,
            "min_width": null,
            "object_fit": null,
            "object_position": null,
            "order": null,
            "overflow": null,
            "overflow_x": null,
            "overflow_y": null,
            "padding": null,
            "right": null,
            "top": null,
            "visibility": null,
            "width": null
          }
        },
        "d62a7e4c028e4b10abb168d733a3d617": {
          "model_module": "@jupyter-widgets/controls",
          "model_name": "ProgressStyleModel",
          "model_module_version": "1.5.0",
          "state": {
            "_model_module": "@jupyter-widgets/controls",
            "_model_module_version": "1.5.0",
            "_model_name": "ProgressStyleModel",
            "_view_count": null,
            "_view_module": "@jupyter-widgets/base",
            "_view_module_version": "1.2.0",
            "_view_name": "StyleView",
            "bar_color": null,
            "description_width": ""
          }
        },
        "4785bd1081ba40709d3c56591ff38cf6": {
          "model_module": "@jupyter-widgets/base",
          "model_name": "LayoutModel",
          "model_module_version": "1.2.0",
          "state": {
            "_model_module": "@jupyter-widgets/base",
            "_model_module_version": "1.2.0",
            "_model_name": "LayoutModel",
            "_view_count": null,
            "_view_module": "@jupyter-widgets/base",
            "_view_module_version": "1.2.0",
            "_view_name": "LayoutView",
            "align_content": null,
            "align_items": null,
            "align_self": null,
            "border": null,
            "bottom": null,
            "display": null,
            "flex": null,
            "flex_flow": null,
            "grid_area": null,
            "grid_auto_columns": null,
            "grid_auto_flow": null,
            "grid_auto_rows": null,
            "grid_column": null,
            "grid_gap": null,
            "grid_row": null,
            "grid_template_areas": null,
            "grid_template_columns": null,
            "grid_template_rows": null,
            "height": null,
            "justify_content": null,
            "justify_items": null,
            "left": null,
            "margin": null,
            "max_height": null,
            "max_width": null,
            "min_height": null,
            "min_width": null,
            "object_fit": null,
            "object_position": null,
            "order": null,
            "overflow": null,
            "overflow_x": null,
            "overflow_y": null,
            "padding": null,
            "right": null,
            "top": null,
            "visibility": null,
            "width": null
          }
        },
        "a5146b345b5148dfbf134a423a231da7": {
          "model_module": "@jupyter-widgets/controls",
          "model_name": "DescriptionStyleModel",
          "model_module_version": "1.5.0",
          "state": {
            "_model_module": "@jupyter-widgets/controls",
            "_model_module_version": "1.5.0",
            "_model_name": "DescriptionStyleModel",
            "_view_count": null,
            "_view_module": "@jupyter-widgets/base",
            "_view_module_version": "1.2.0",
            "_view_name": "StyleView",
            "description_width": ""
          }
        },
        "f3009ce74dbb4422b24b77fdd669c780": {
          "model_module": "@jupyter-widgets/controls",
          "model_name": "HBoxModel",
          "model_module_version": "1.5.0",
          "state": {
            "_dom_classes": [],
            "_model_module": "@jupyter-widgets/controls",
            "_model_module_version": "1.5.0",
            "_model_name": "HBoxModel",
            "_view_count": null,
            "_view_module": "@jupyter-widgets/controls",
            "_view_module_version": "1.5.0",
            "_view_name": "HBoxView",
            "box_style": "",
            "children": [
              "IPY_MODEL_a274a967755845eea23bf19b4d3b7920",
              "IPY_MODEL_d40fef4149e94ba59857ace4932b827b",
              "IPY_MODEL_ee3fdc9b04d54f4b95319eb288b9fde9"
            ],
            "layout": "IPY_MODEL_f5aec27690e34a9a93a52cb2af9e8be0"
          }
        },
        "a274a967755845eea23bf19b4d3b7920": {
          "model_module": "@jupyter-widgets/controls",
          "model_name": "HTMLModel",
          "model_module_version": "1.5.0",
          "state": {
            "_dom_classes": [],
            "_model_module": "@jupyter-widgets/controls",
            "_model_module_version": "1.5.0",
            "_model_name": "HTMLModel",
            "_view_count": null,
            "_view_module": "@jupyter-widgets/controls",
            "_view_module_version": "1.5.0",
            "_view_name": "HTMLView",
            "description": "",
            "description_tooltip": null,
            "layout": "IPY_MODEL_bf5a2e21f8c14c1f834ddd134dc53388",
            "placeholder": "​",
            "style": "IPY_MODEL_24d52fcfb1654efb8c0b764ab42cd47c",
            "value": "Downloading (…)solve/main/vocab.txt: 100%"
          }
        },
        "d40fef4149e94ba59857ace4932b827b": {
          "model_module": "@jupyter-widgets/controls",
          "model_name": "FloatProgressModel",
          "model_module_version": "1.5.0",
          "state": {
            "_dom_classes": [],
            "_model_module": "@jupyter-widgets/controls",
            "_model_module_version": "1.5.0",
            "_model_name": "FloatProgressModel",
            "_view_count": null,
            "_view_module": "@jupyter-widgets/controls",
            "_view_module_version": "1.5.0",
            "_view_name": "ProgressView",
            "bar_style": "success",
            "description": "",
            "description_tooltip": null,
            "layout": "IPY_MODEL_22ebb52e3b4d4b91b9e72e4324314e33",
            "max": 231508,
            "min": 0,
            "orientation": "horizontal",
            "style": "IPY_MODEL_c2ac9a9b87824afa81c95508f5a63d52",
            "value": 231508
          }
        },
        "ee3fdc9b04d54f4b95319eb288b9fde9": {
          "model_module": "@jupyter-widgets/controls",
          "model_name": "HTMLModel",
          "model_module_version": "1.5.0",
          "state": {
            "_dom_classes": [],
            "_model_module": "@jupyter-widgets/controls",
            "_model_module_version": "1.5.0",
            "_model_name": "HTMLModel",
            "_view_count": null,
            "_view_module": "@jupyter-widgets/controls",
            "_view_module_version": "1.5.0",
            "_view_name": "HTMLView",
            "description": "",
            "description_tooltip": null,
            "layout": "IPY_MODEL_de762de7634d4da2b6f6480933ff0b90",
            "placeholder": "​",
            "style": "IPY_MODEL_235263da886e47c8bbdee39cb761aa01",
            "value": " 232k/232k [00:00&lt;00:00, 1.43MB/s]"
          }
        },
        "f5aec27690e34a9a93a52cb2af9e8be0": {
          "model_module": "@jupyter-widgets/base",
          "model_name": "LayoutModel",
          "model_module_version": "1.2.0",
          "state": {
            "_model_module": "@jupyter-widgets/base",
            "_model_module_version": "1.2.0",
            "_model_name": "LayoutModel",
            "_view_count": null,
            "_view_module": "@jupyter-widgets/base",
            "_view_module_version": "1.2.0",
            "_view_name": "LayoutView",
            "align_content": null,
            "align_items": null,
            "align_self": null,
            "border": null,
            "bottom": null,
            "display": null,
            "flex": null,
            "flex_flow": null,
            "grid_area": null,
            "grid_auto_columns": null,
            "grid_auto_flow": null,
            "grid_auto_rows": null,
            "grid_column": null,
            "grid_gap": null,
            "grid_row": null,
            "grid_template_areas": null,
            "grid_template_columns": null,
            "grid_template_rows": null,
            "height": null,
            "justify_content": null,
            "justify_items": null,
            "left": null,
            "margin": null,
            "max_height": null,
            "max_width": null,
            "min_height": null,
            "min_width": null,
            "object_fit": null,
            "object_position": null,
            "order": null,
            "overflow": null,
            "overflow_x": null,
            "overflow_y": null,
            "padding": null,
            "right": null,
            "top": null,
            "visibility": null,
            "width": null
          }
        },
        "bf5a2e21f8c14c1f834ddd134dc53388": {
          "model_module": "@jupyter-widgets/base",
          "model_name": "LayoutModel",
          "model_module_version": "1.2.0",
          "state": {
            "_model_module": "@jupyter-widgets/base",
            "_model_module_version": "1.2.0",
            "_model_name": "LayoutModel",
            "_view_count": null,
            "_view_module": "@jupyter-widgets/base",
            "_view_module_version": "1.2.0",
            "_view_name": "LayoutView",
            "align_content": null,
            "align_items": null,
            "align_self": null,
            "border": null,
            "bottom": null,
            "display": null,
            "flex": null,
            "flex_flow": null,
            "grid_area": null,
            "grid_auto_columns": null,
            "grid_auto_flow": null,
            "grid_auto_rows": null,
            "grid_column": null,
            "grid_gap": null,
            "grid_row": null,
            "grid_template_areas": null,
            "grid_template_columns": null,
            "grid_template_rows": null,
            "height": null,
            "justify_content": null,
            "justify_items": null,
            "left": null,
            "margin": null,
            "max_height": null,
            "max_width": null,
            "min_height": null,
            "min_width": null,
            "object_fit": null,
            "object_position": null,
            "order": null,
            "overflow": null,
            "overflow_x": null,
            "overflow_y": null,
            "padding": null,
            "right": null,
            "top": null,
            "visibility": null,
            "width": null
          }
        },
        "24d52fcfb1654efb8c0b764ab42cd47c": {
          "model_module": "@jupyter-widgets/controls",
          "model_name": "DescriptionStyleModel",
          "model_module_version": "1.5.0",
          "state": {
            "_model_module": "@jupyter-widgets/controls",
            "_model_module_version": "1.5.0",
            "_model_name": "DescriptionStyleModel",
            "_view_count": null,
            "_view_module": "@jupyter-widgets/base",
            "_view_module_version": "1.2.0",
            "_view_name": "StyleView",
            "description_width": ""
          }
        },
        "22ebb52e3b4d4b91b9e72e4324314e33": {
          "model_module": "@jupyter-widgets/base",
          "model_name": "LayoutModel",
          "model_module_version": "1.2.0",
          "state": {
            "_model_module": "@jupyter-widgets/base",
            "_model_module_version": "1.2.0",
            "_model_name": "LayoutModel",
            "_view_count": null,
            "_view_module": "@jupyter-widgets/base",
            "_view_module_version": "1.2.0",
            "_view_name": "LayoutView",
            "align_content": null,
            "align_items": null,
            "align_self": null,
            "border": null,
            "bottom": null,
            "display": null,
            "flex": null,
            "flex_flow": null,
            "grid_area": null,
            "grid_auto_columns": null,
            "grid_auto_flow": null,
            "grid_auto_rows": null,
            "grid_column": null,
            "grid_gap": null,
            "grid_row": null,
            "grid_template_areas": null,
            "grid_template_columns": null,
            "grid_template_rows": null,
            "height": null,
            "justify_content": null,
            "justify_items": null,
            "left": null,
            "margin": null,
            "max_height": null,
            "max_width": null,
            "min_height": null,
            "min_width": null,
            "object_fit": null,
            "object_position": null,
            "order": null,
            "overflow": null,
            "overflow_x": null,
            "overflow_y": null,
            "padding": null,
            "right": null,
            "top": null,
            "visibility": null,
            "width": null
          }
        },
        "c2ac9a9b87824afa81c95508f5a63d52": {
          "model_module": "@jupyter-widgets/controls",
          "model_name": "ProgressStyleModel",
          "model_module_version": "1.5.0",
          "state": {
            "_model_module": "@jupyter-widgets/controls",
            "_model_module_version": "1.5.0",
            "_model_name": "ProgressStyleModel",
            "_view_count": null,
            "_view_module": "@jupyter-widgets/base",
            "_view_module_version": "1.2.0",
            "_view_name": "StyleView",
            "bar_color": null,
            "description_width": ""
          }
        },
        "de762de7634d4da2b6f6480933ff0b90": {
          "model_module": "@jupyter-widgets/base",
          "model_name": "LayoutModel",
          "model_module_version": "1.2.0",
          "state": {
            "_model_module": "@jupyter-widgets/base",
            "_model_module_version": "1.2.0",
            "_model_name": "LayoutModel",
            "_view_count": null,
            "_view_module": "@jupyter-widgets/base",
            "_view_module_version": "1.2.0",
            "_view_name": "LayoutView",
            "align_content": null,
            "align_items": null,
            "align_self": null,
            "border": null,
            "bottom": null,
            "display": null,
            "flex": null,
            "flex_flow": null,
            "grid_area": null,
            "grid_auto_columns": null,
            "grid_auto_flow": null,
            "grid_auto_rows": null,
            "grid_column": null,
            "grid_gap": null,
            "grid_row": null,
            "grid_template_areas": null,
            "grid_template_columns": null,
            "grid_template_rows": null,
            "height": null,
            "justify_content": null,
            "justify_items": null,
            "left": null,
            "margin": null,
            "max_height": null,
            "max_width": null,
            "min_height": null,
            "min_width": null,
            "object_fit": null,
            "object_position": null,
            "order": null,
            "overflow": null,
            "overflow_x": null,
            "overflow_y": null,
            "padding": null,
            "right": null,
            "top": null,
            "visibility": null,
            "width": null
          }
        },
        "235263da886e47c8bbdee39cb761aa01": {
          "model_module": "@jupyter-widgets/controls",
          "model_name": "DescriptionStyleModel",
          "model_module_version": "1.5.0",
          "state": {
            "_model_module": "@jupyter-widgets/controls",
            "_model_module_version": "1.5.0",
            "_model_name": "DescriptionStyleModel",
            "_view_count": null,
            "_view_module": "@jupyter-widgets/base",
            "_view_module_version": "1.2.0",
            "_view_name": "StyleView",
            "description_width": ""
          }
        },
        "6d0dc865e7e64310a31857022c32ac41": {
          "model_module": "@jupyter-widgets/controls",
          "model_name": "HBoxModel",
          "model_module_version": "1.5.0",
          "state": {
            "_dom_classes": [],
            "_model_module": "@jupyter-widgets/controls",
            "_model_module_version": "1.5.0",
            "_model_name": "HBoxModel",
            "_view_count": null,
            "_view_module": "@jupyter-widgets/controls",
            "_view_module_version": "1.5.0",
            "_view_name": "HBoxView",
            "box_style": "",
            "children": [
              "IPY_MODEL_386f65b0ab48438d803c29026a1c08af",
              "IPY_MODEL_5cf9d9859e534b288a608b7227c10547",
              "IPY_MODEL_6d964595d40c44ce82cc27ab334081ed"
            ],
            "layout": "IPY_MODEL_b0f86e44c1ad41b5ba1d6e73c4574800"
          }
        },
        "386f65b0ab48438d803c29026a1c08af": {
          "model_module": "@jupyter-widgets/controls",
          "model_name": "HTMLModel",
          "model_module_version": "1.5.0",
          "state": {
            "_dom_classes": [],
            "_model_module": "@jupyter-widgets/controls",
            "_model_module_version": "1.5.0",
            "_model_name": "HTMLModel",
            "_view_count": null,
            "_view_module": "@jupyter-widgets/controls",
            "_view_module_version": "1.5.0",
            "_view_name": "HTMLView",
            "description": "",
            "description_tooltip": null,
            "layout": "IPY_MODEL_8d648ec9935643ec93c78d76a5c188d6",
            "placeholder": "​",
            "style": "IPY_MODEL_d348c73ba77143f6a930ea010f581e85",
            "value": "Downloading (…)/main/tokenizer.json: 100%"
          }
        },
        "5cf9d9859e534b288a608b7227c10547": {
          "model_module": "@jupyter-widgets/controls",
          "model_name": "FloatProgressModel",
          "model_module_version": "1.5.0",
          "state": {
            "_dom_classes": [],
            "_model_module": "@jupyter-widgets/controls",
            "_model_module_version": "1.5.0",
            "_model_name": "FloatProgressModel",
            "_view_count": null,
            "_view_module": "@jupyter-widgets/controls",
            "_view_module_version": "1.5.0",
            "_view_name": "ProgressView",
            "bar_style": "success",
            "description": "",
            "description_tooltip": null,
            "layout": "IPY_MODEL_d6f7fbd5361b439286a3f74f021d30ee",
            "max": 466062,
            "min": 0,
            "orientation": "horizontal",
            "style": "IPY_MODEL_3cf792e10ff54d4697f11d289ea6b408",
            "value": 466062
          }
        },
        "6d964595d40c44ce82cc27ab334081ed": {
          "model_module": "@jupyter-widgets/controls",
          "model_name": "HTMLModel",
          "model_module_version": "1.5.0",
          "state": {
            "_dom_classes": [],
            "_model_module": "@jupyter-widgets/controls",
            "_model_module_version": "1.5.0",
            "_model_name": "HTMLModel",
            "_view_count": null,
            "_view_module": "@jupyter-widgets/controls",
            "_view_module_version": "1.5.0",
            "_view_name": "HTMLView",
            "description": "",
            "description_tooltip": null,
            "layout": "IPY_MODEL_a2dee6b8f96a439a82f72c96f5b351dd",
            "placeholder": "​",
            "style": "IPY_MODEL_fd12f578edb1409a8c3ee6837f37ffe8",
            "value": " 466k/466k [00:00&lt;00:00, 5.65MB/s]"
          }
        },
        "b0f86e44c1ad41b5ba1d6e73c4574800": {
          "model_module": "@jupyter-widgets/base",
          "model_name": "LayoutModel",
          "model_module_version": "1.2.0",
          "state": {
            "_model_module": "@jupyter-widgets/base",
            "_model_module_version": "1.2.0",
            "_model_name": "LayoutModel",
            "_view_count": null,
            "_view_module": "@jupyter-widgets/base",
            "_view_module_version": "1.2.0",
            "_view_name": "LayoutView",
            "align_content": null,
            "align_items": null,
            "align_self": null,
            "border": null,
            "bottom": null,
            "display": null,
            "flex": null,
            "flex_flow": null,
            "grid_area": null,
            "grid_auto_columns": null,
            "grid_auto_flow": null,
            "grid_auto_rows": null,
            "grid_column": null,
            "grid_gap": null,
            "grid_row": null,
            "grid_template_areas": null,
            "grid_template_columns": null,
            "grid_template_rows": null,
            "height": null,
            "justify_content": null,
            "justify_items": null,
            "left": null,
            "margin": null,
            "max_height": null,
            "max_width": null,
            "min_height": null,
            "min_width": null,
            "object_fit": null,
            "object_position": null,
            "order": null,
            "overflow": null,
            "overflow_x": null,
            "overflow_y": null,
            "padding": null,
            "right": null,
            "top": null,
            "visibility": null,
            "width": null
          }
        },
        "8d648ec9935643ec93c78d76a5c188d6": {
          "model_module": "@jupyter-widgets/base",
          "model_name": "LayoutModel",
          "model_module_version": "1.2.0",
          "state": {
            "_model_module": "@jupyter-widgets/base",
            "_model_module_version": "1.2.0",
            "_model_name": "LayoutModel",
            "_view_count": null,
            "_view_module": "@jupyter-widgets/base",
            "_view_module_version": "1.2.0",
            "_view_name": "LayoutView",
            "align_content": null,
            "align_items": null,
            "align_self": null,
            "border": null,
            "bottom": null,
            "display": null,
            "flex": null,
            "flex_flow": null,
            "grid_area": null,
            "grid_auto_columns": null,
            "grid_auto_flow": null,
            "grid_auto_rows": null,
            "grid_column": null,
            "grid_gap": null,
            "grid_row": null,
            "grid_template_areas": null,
            "grid_template_columns": null,
            "grid_template_rows": null,
            "height": null,
            "justify_content": null,
            "justify_items": null,
            "left": null,
            "margin": null,
            "max_height": null,
            "max_width": null,
            "min_height": null,
            "min_width": null,
            "object_fit": null,
            "object_position": null,
            "order": null,
            "overflow": null,
            "overflow_x": null,
            "overflow_y": null,
            "padding": null,
            "right": null,
            "top": null,
            "visibility": null,
            "width": null
          }
        },
        "d348c73ba77143f6a930ea010f581e85": {
          "model_module": "@jupyter-widgets/controls",
          "model_name": "DescriptionStyleModel",
          "model_module_version": "1.5.0",
          "state": {
            "_model_module": "@jupyter-widgets/controls",
            "_model_module_version": "1.5.0",
            "_model_name": "DescriptionStyleModel",
            "_view_count": null,
            "_view_module": "@jupyter-widgets/base",
            "_view_module_version": "1.2.0",
            "_view_name": "StyleView",
            "description_width": ""
          }
        },
        "d6f7fbd5361b439286a3f74f021d30ee": {
          "model_module": "@jupyter-widgets/base",
          "model_name": "LayoutModel",
          "model_module_version": "1.2.0",
          "state": {
            "_model_module": "@jupyter-widgets/base",
            "_model_module_version": "1.2.0",
            "_model_name": "LayoutModel",
            "_view_count": null,
            "_view_module": "@jupyter-widgets/base",
            "_view_module_version": "1.2.0",
            "_view_name": "LayoutView",
            "align_content": null,
            "align_items": null,
            "align_self": null,
            "border": null,
            "bottom": null,
            "display": null,
            "flex": null,
            "flex_flow": null,
            "grid_area": null,
            "grid_auto_columns": null,
            "grid_auto_flow": null,
            "grid_auto_rows": null,
            "grid_column": null,
            "grid_gap": null,
            "grid_row": null,
            "grid_template_areas": null,
            "grid_template_columns": null,
            "grid_template_rows": null,
            "height": null,
            "justify_content": null,
            "justify_items": null,
            "left": null,
            "margin": null,
            "max_height": null,
            "max_width": null,
            "min_height": null,
            "min_width": null,
            "object_fit": null,
            "object_position": null,
            "order": null,
            "overflow": null,
            "overflow_x": null,
            "overflow_y": null,
            "padding": null,
            "right": null,
            "top": null,
            "visibility": null,
            "width": null
          }
        },
        "3cf792e10ff54d4697f11d289ea6b408": {
          "model_module": "@jupyter-widgets/controls",
          "model_name": "ProgressStyleModel",
          "model_module_version": "1.5.0",
          "state": {
            "_model_module": "@jupyter-widgets/controls",
            "_model_module_version": "1.5.0",
            "_model_name": "ProgressStyleModel",
            "_view_count": null,
            "_view_module": "@jupyter-widgets/base",
            "_view_module_version": "1.2.0",
            "_view_name": "StyleView",
            "bar_color": null,
            "description_width": ""
          }
        },
        "a2dee6b8f96a439a82f72c96f5b351dd": {
          "model_module": "@jupyter-widgets/base",
          "model_name": "LayoutModel",
          "model_module_version": "1.2.0",
          "state": {
            "_model_module": "@jupyter-widgets/base",
            "_model_module_version": "1.2.0",
            "_model_name": "LayoutModel",
            "_view_count": null,
            "_view_module": "@jupyter-widgets/base",
            "_view_module_version": "1.2.0",
            "_view_name": "LayoutView",
            "align_content": null,
            "align_items": null,
            "align_self": null,
            "border": null,
            "bottom": null,
            "display": null,
            "flex": null,
            "flex_flow": null,
            "grid_area": null,
            "grid_auto_columns": null,
            "grid_auto_flow": null,
            "grid_auto_rows": null,
            "grid_column": null,
            "grid_gap": null,
            "grid_row": null,
            "grid_template_areas": null,
            "grid_template_columns": null,
            "grid_template_rows": null,
            "height": null,
            "justify_content": null,
            "justify_items": null,
            "left": null,
            "margin": null,
            "max_height": null,
            "max_width": null,
            "min_height": null,
            "min_width": null,
            "object_fit": null,
            "object_position": null,
            "order": null,
            "overflow": null,
            "overflow_x": null,
            "overflow_y": null,
            "padding": null,
            "right": null,
            "top": null,
            "visibility": null,
            "width": null
          }
        },
        "fd12f578edb1409a8c3ee6837f37ffe8": {
          "model_module": "@jupyter-widgets/controls",
          "model_name": "DescriptionStyleModel",
          "model_module_version": "1.5.0",
          "state": {
            "_model_module": "@jupyter-widgets/controls",
            "_model_module_version": "1.5.0",
            "_model_name": "DescriptionStyleModel",
            "_view_count": null,
            "_view_module": "@jupyter-widgets/base",
            "_view_module_version": "1.2.0",
            "_view_name": "StyleView",
            "description_width": ""
          }
        },
        "c373d32bc643400383bfc3939362ef01": {
          "model_module": "@jupyter-widgets/controls",
          "model_name": "HBoxModel",
          "model_module_version": "1.5.0",
          "state": {
            "_dom_classes": [],
            "_model_module": "@jupyter-widgets/controls",
            "_model_module_version": "1.5.0",
            "_model_name": "HBoxModel",
            "_view_count": null,
            "_view_module": "@jupyter-widgets/controls",
            "_view_module_version": "1.5.0",
            "_view_name": "HBoxView",
            "box_style": "",
            "children": [
              "IPY_MODEL_286fc6a53e1442acaed84395ac52ac12",
              "IPY_MODEL_cdcb0a710c3a4616a03c03cf5547aa7b",
              "IPY_MODEL_e4ce6e7d830743649496cf693cb79055"
            ],
            "layout": "IPY_MODEL_f3fd937342d94aa3b1f1734c63751c10"
          }
        },
        "286fc6a53e1442acaed84395ac52ac12": {
          "model_module": "@jupyter-widgets/controls",
          "model_name": "HTMLModel",
          "model_module_version": "1.5.0",
          "state": {
            "_dom_classes": [],
            "_model_module": "@jupyter-widgets/controls",
            "_model_module_version": "1.5.0",
            "_model_name": "HTMLModel",
            "_view_count": null,
            "_view_module": "@jupyter-widgets/controls",
            "_view_module_version": "1.5.0",
            "_view_name": "HTMLView",
            "description": "",
            "description_tooltip": null,
            "layout": "IPY_MODEL_ebe265da8ff04e1ba89211bb7c394d56",
            "placeholder": "​",
            "style": "IPY_MODEL_5ece94bacffa4acdacef4ab3d92c98c1",
            "value": "Downloading tf_model.h5: 100%"
          }
        },
        "cdcb0a710c3a4616a03c03cf5547aa7b": {
          "model_module": "@jupyter-widgets/controls",
          "model_name": "FloatProgressModel",
          "model_module_version": "1.5.0",
          "state": {
            "_dom_classes": [],
            "_model_module": "@jupyter-widgets/controls",
            "_model_module_version": "1.5.0",
            "_model_name": "FloatProgressModel",
            "_view_count": null,
            "_view_module": "@jupyter-widgets/controls",
            "_view_module_version": "1.5.0",
            "_view_name": "ProgressView",
            "bar_style": "success",
            "description": "",
            "description_tooltip": null,
            "layout": "IPY_MODEL_45831f4e217c449d884708deb22e67dd",
            "max": 536063208,
            "min": 0,
            "orientation": "horizontal",
            "style": "IPY_MODEL_3671207f604d40cc9f7f87b00ae5b948",
            "value": 536063208
          }
        },
        "e4ce6e7d830743649496cf693cb79055": {
          "model_module": "@jupyter-widgets/controls",
          "model_name": "HTMLModel",
          "model_module_version": "1.5.0",
          "state": {
            "_dom_classes": [],
            "_model_module": "@jupyter-widgets/controls",
            "_model_module_version": "1.5.0",
            "_model_name": "HTMLModel",
            "_view_count": null,
            "_view_module": "@jupyter-widgets/controls",
            "_view_module_version": "1.5.0",
            "_view_name": "HTMLView",
            "description": "",
            "description_tooltip": null,
            "layout": "IPY_MODEL_cc9a701998024de580a2a739ab7d4243",
            "placeholder": "​",
            "style": "IPY_MODEL_07ab40072006474c8c57dda5d7e8ff3c",
            "value": " 536M/536M [00:03&lt;00:00, 107MB/s]"
          }
        },
        "f3fd937342d94aa3b1f1734c63751c10": {
          "model_module": "@jupyter-widgets/base",
          "model_name": "LayoutModel",
          "model_module_version": "1.2.0",
          "state": {
            "_model_module": "@jupyter-widgets/base",
            "_model_module_version": "1.2.0",
            "_model_name": "LayoutModel",
            "_view_count": null,
            "_view_module": "@jupyter-widgets/base",
            "_view_module_version": "1.2.0",
            "_view_name": "LayoutView",
            "align_content": null,
            "align_items": null,
            "align_self": null,
            "border": null,
            "bottom": null,
            "display": null,
            "flex": null,
            "flex_flow": null,
            "grid_area": null,
            "grid_auto_columns": null,
            "grid_auto_flow": null,
            "grid_auto_rows": null,
            "grid_column": null,
            "grid_gap": null,
            "grid_row": null,
            "grid_template_areas": null,
            "grid_template_columns": null,
            "grid_template_rows": null,
            "height": null,
            "justify_content": null,
            "justify_items": null,
            "left": null,
            "margin": null,
            "max_height": null,
            "max_width": null,
            "min_height": null,
            "min_width": null,
            "object_fit": null,
            "object_position": null,
            "order": null,
            "overflow": null,
            "overflow_x": null,
            "overflow_y": null,
            "padding": null,
            "right": null,
            "top": null,
            "visibility": null,
            "width": null
          }
        },
        "ebe265da8ff04e1ba89211bb7c394d56": {
          "model_module": "@jupyter-widgets/base",
          "model_name": "LayoutModel",
          "model_module_version": "1.2.0",
          "state": {
            "_model_module": "@jupyter-widgets/base",
            "_model_module_version": "1.2.0",
            "_model_name": "LayoutModel",
            "_view_count": null,
            "_view_module": "@jupyter-widgets/base",
            "_view_module_version": "1.2.0",
            "_view_name": "LayoutView",
            "align_content": null,
            "align_items": null,
            "align_self": null,
            "border": null,
            "bottom": null,
            "display": null,
            "flex": null,
            "flex_flow": null,
            "grid_area": null,
            "grid_auto_columns": null,
            "grid_auto_flow": null,
            "grid_auto_rows": null,
            "grid_column": null,
            "grid_gap": null,
            "grid_row": null,
            "grid_template_areas": null,
            "grid_template_columns": null,
            "grid_template_rows": null,
            "height": null,
            "justify_content": null,
            "justify_items": null,
            "left": null,
            "margin": null,
            "max_height": null,
            "max_width": null,
            "min_height": null,
            "min_width": null,
            "object_fit": null,
            "object_position": null,
            "order": null,
            "overflow": null,
            "overflow_x": null,
            "overflow_y": null,
            "padding": null,
            "right": null,
            "top": null,
            "visibility": null,
            "width": null
          }
        },
        "5ece94bacffa4acdacef4ab3d92c98c1": {
          "model_module": "@jupyter-widgets/controls",
          "model_name": "DescriptionStyleModel",
          "model_module_version": "1.5.0",
          "state": {
            "_model_module": "@jupyter-widgets/controls",
            "_model_module_version": "1.5.0",
            "_model_name": "DescriptionStyleModel",
            "_view_count": null,
            "_view_module": "@jupyter-widgets/base",
            "_view_module_version": "1.2.0",
            "_view_name": "StyleView",
            "description_width": ""
          }
        },
        "45831f4e217c449d884708deb22e67dd": {
          "model_module": "@jupyter-widgets/base",
          "model_name": "LayoutModel",
          "model_module_version": "1.2.0",
          "state": {
            "_model_module": "@jupyter-widgets/base",
            "_model_module_version": "1.2.0",
            "_model_name": "LayoutModel",
            "_view_count": null,
            "_view_module": "@jupyter-widgets/base",
            "_view_module_version": "1.2.0",
            "_view_name": "LayoutView",
            "align_content": null,
            "align_items": null,
            "align_self": null,
            "border": null,
            "bottom": null,
            "display": null,
            "flex": null,
            "flex_flow": null,
            "grid_area": null,
            "grid_auto_columns": null,
            "grid_auto_flow": null,
            "grid_auto_rows": null,
            "grid_column": null,
            "grid_gap": null,
            "grid_row": null,
            "grid_template_areas": null,
            "grid_template_columns": null,
            "grid_template_rows": null,
            "height": null,
            "justify_content": null,
            "justify_items": null,
            "left": null,
            "margin": null,
            "max_height": null,
            "max_width": null,
            "min_height": null,
            "min_width": null,
            "object_fit": null,
            "object_position": null,
            "order": null,
            "overflow": null,
            "overflow_x": null,
            "overflow_y": null,
            "padding": null,
            "right": null,
            "top": null,
            "visibility": null,
            "width": null
          }
        },
        "3671207f604d40cc9f7f87b00ae5b948": {
          "model_module": "@jupyter-widgets/controls",
          "model_name": "ProgressStyleModel",
          "model_module_version": "1.5.0",
          "state": {
            "_model_module": "@jupyter-widgets/controls",
            "_model_module_version": "1.5.0",
            "_model_name": "ProgressStyleModel",
            "_view_count": null,
            "_view_module": "@jupyter-widgets/base",
            "_view_module_version": "1.2.0",
            "_view_name": "StyleView",
            "bar_color": null,
            "description_width": ""
          }
        },
        "cc9a701998024de580a2a739ab7d4243": {
          "model_module": "@jupyter-widgets/base",
          "model_name": "LayoutModel",
          "model_module_version": "1.2.0",
          "state": {
            "_model_module": "@jupyter-widgets/base",
            "_model_module_version": "1.2.0",
            "_model_name": "LayoutModel",
            "_view_count": null,
            "_view_module": "@jupyter-widgets/base",
            "_view_module_version": "1.2.0",
            "_view_name": "LayoutView",
            "align_content": null,
            "align_items": null,
            "align_self": null,
            "border": null,
            "bottom": null,
            "display": null,
            "flex": null,
            "flex_flow": null,
            "grid_area": null,
            "grid_auto_columns": null,
            "grid_auto_flow": null,
            "grid_auto_rows": null,
            "grid_column": null,
            "grid_gap": null,
            "grid_row": null,
            "grid_template_areas": null,
            "grid_template_columns": null,
            "grid_template_rows": null,
            "height": null,
            "justify_content": null,
            "justify_items": null,
            "left": null,
            "margin": null,
            "max_height": null,
            "max_width": null,
            "min_height": null,
            "min_width": null,
            "object_fit": null,
            "object_position": null,
            "order": null,
            "overflow": null,
            "overflow_x": null,
            "overflow_y": null,
            "padding": null,
            "right": null,
            "top": null,
            "visibility": null,
            "width": null
          }
        },
        "07ab40072006474c8c57dda5d7e8ff3c": {
          "model_module": "@jupyter-widgets/controls",
          "model_name": "DescriptionStyleModel",
          "model_module_version": "1.5.0",
          "state": {
            "_model_module": "@jupyter-widgets/controls",
            "_model_module_version": "1.5.0",
            "_model_name": "DescriptionStyleModel",
            "_view_count": null,
            "_view_module": "@jupyter-widgets/base",
            "_view_module_version": "1.2.0",
            "_view_name": "StyleView",
            "description_width": ""
          }
        }
      }
    },
    "accelerator": "GPU",
    "gpuClass": "standard"
  },
  "nbformat": 4,
  "nbformat_minor": 0
}