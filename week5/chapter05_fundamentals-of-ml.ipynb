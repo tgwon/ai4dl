{
  "cells": [
    {
      "cell_type": "markdown",
      "metadata": {
        "id": "view-in-github",
        "colab_type": "text"
      },
      "source": [
        "<a href=\"https://colab.research.google.com/github/ytg000629/ai4dl/blob/main/week5/chapter05_fundamentals-of-ml.ipynb\" target=\"_parent\"><img src=\"https://colab.research.google.com/assets/colab-badge.svg\" alt=\"Open In Colab\"/></a>"
      ]
    },
    {
      "cell_type": "markdown",
      "metadata": {
        "id": "t--ATB0WWkNE"
      },
      "source": [
        "This is a companion notebook for the book [Deep Learning with Python, Second Edition](https://www.manning.com/books/deep-learning-with-python-second-edition?a_aid=keras&a_bid=76564dff). For readability, it only contains runnable code blocks and section titles, and omits everything else in the book: text paragraphs, figures, and pseudocode.\n",
        "\n",
        "**If you want to be able to follow what's going on, I recommend reading the notebook side by side with your copy of the book.**\n",
        "\n",
        "This notebook was generated for TensorFlow 2.6."
      ]
    },
    {
      "cell_type": "markdown",
      "metadata": {
        "id": "mERjSpIwWkNH"
      },
      "source": [
        "# Fundamentals of machine learning"
      ]
    },
    {
      "cell_type": "markdown",
      "metadata": {
        "id": "8OseK9yMWkNH"
      },
      "source": [
        "## Generalization: The goal of machine learning"
      ]
    },
    {
      "cell_type": "markdown",
      "metadata": {
        "id": "mnuObbBwWkNJ"
      },
      "source": [
        "### Underfitting and overfitting"
      ]
    },
    {
      "cell_type": "markdown",
      "metadata": {
        "id": "vwznKdOUWkNK"
      },
      "source": [
        "#### Noisy training data"
      ]
    },
    {
      "cell_type": "markdown",
      "metadata": {
        "id": "UHDJqF4HWkNK"
      },
      "source": [
        "#### Ambiguous features"
      ]
    },
    {
      "cell_type": "markdown",
      "metadata": {
        "id": "Iy8-1moPWkNK"
      },
      "source": [
        "#### Rare features and spurious correlations"
      ]
    },
    {
      "cell_type": "markdown",
      "metadata": {
        "id": "t4tmDENyWkNK"
      },
      "source": [
        "**Adding white-noise channels or all-zeros channels to MNIST**"
      ]
    },
    {
      "cell_type": "code",
      "execution_count": 1,
      "metadata": {
        "id": "ZAJHc0YcWkNK",
        "outputId": "80884bfa-5e6b-4b09-ed7b-4df3022fcd77",
        "colab": {
          "base_uri": "https://localhost:8080/"
        }
      },
      "outputs": [
        {
          "output_type": "stream",
          "name": "stdout",
          "text": [
            "Downloading data from https://storage.googleapis.com/tensorflow/tf-keras-datasets/mnist.npz\n",
            "11490434/11490434 [==============================] - 1s 0us/step\n"
          ]
        }
      ],
      "source": [
        "from tensorflow.keras.datasets import mnist\n",
        "import numpy as np\n",
        "\n",
        "(train_images, train_labels), _ = mnist.load_data()\n",
        "train_images = train_images.reshape((60000, 28 * 28))\n",
        "train_images = train_images.astype(\"float32\") / 255\n",
        "\n",
        "train_images_with_noise_channels = np.concatenate(\n",
        "    [train_images, np.random.random((len(train_images), 784))], axis=1)\n",
        "\n",
        "train_images_with_zeros_channels = np.concatenate(\n",
        "    [train_images, np.zeros((len(train_images), 784))], axis=1)\n",
        "\n",
        "#concatenate axis =1 : 열방향(좌->우)으로 배열 합치기"
      ]
    },
    {
      "cell_type": "code",
      "source": [
        "train_images.shape"
      ],
      "metadata": {
        "id": "z0RCJw-rYE7l",
        "outputId": "c9d56e21-d145-4c7e-84f8-77dcc149dab6",
        "colab": {
          "base_uri": "https://localhost:8080/"
        }
      },
      "execution_count": 2,
      "outputs": [
        {
          "output_type": "execute_result",
          "data": {
            "text/plain": [
              "(60000, 784)"
            ]
          },
          "metadata": {},
          "execution_count": 2
        }
      ]
    },
    {
      "cell_type": "code",
      "source": [
        "np.random.random((len(train_images), 784)).shape"
      ],
      "metadata": {
        "id": "1QXwGh4DYJOQ",
        "outputId": "117edd16-1b4e-4c06-907d-8c6900b56e4d",
        "colab": {
          "base_uri": "https://localhost:8080/"
        }
      },
      "execution_count": 3,
      "outputs": [
        {
          "output_type": "execute_result",
          "data": {
            "text/plain": [
              "(60000, 784)"
            ]
          },
          "metadata": {},
          "execution_count": 3
        }
      ]
    },
    {
      "cell_type": "code",
      "source": [
        "np.concatenate(\n",
        "    [train_images, np.random.random((len(train_images), 784))], axis=1).shape"
      ],
      "metadata": {
        "id": "Ysgs0dmWYK9b",
        "outputId": "33958828-d5c3-4d9d-8470-9bbc4651d216",
        "colab": {
          "base_uri": "https://localhost:8080/"
        }
      },
      "execution_count": 4,
      "outputs": [
        {
          "output_type": "execute_result",
          "data": {
            "text/plain": [
              "(60000, 1568)"
            ]
          },
          "metadata": {},
          "execution_count": 4
        }
      ]
    },
    {
      "cell_type": "code",
      "source": [
        "train_images_with_noise_channels[0]"
      ],
      "metadata": {
        "id": "57h9Yu5lZCIs",
        "outputId": "963445f7-8845-463a-da4a-1e32515b9de6",
        "colab": {
          "base_uri": "https://localhost:8080/"
        }
      },
      "execution_count": 5,
      "outputs": [
        {
          "output_type": "execute_result",
          "data": {
            "text/plain": [
              "array([0.        , 0.        , 0.        , ..., 0.02044269, 0.69614171,\n",
              "       0.81061826])"
            ]
          },
          "metadata": {},
          "execution_count": 5
        }
      ]
    },
    {
      "cell_type": "code",
      "source": [
        "train_images_with_zeros_channels[0]"
      ],
      "metadata": {
        "id": "qVx7Xo43ZNqL",
        "outputId": "a759a447-b58c-4199-e78d-f59c86567047",
        "colab": {
          "base_uri": "https://localhost:8080/"
        }
      },
      "execution_count": 6,
      "outputs": [
        {
          "output_type": "execute_result",
          "data": {
            "text/plain": [
              "array([0., 0., 0., ..., 0., 0., 0.])"
            ]
          },
          "metadata": {},
          "execution_count": 6
        }
      ]
    },
    {
      "cell_type": "markdown",
      "metadata": {
        "id": "8XlTwbOPWkNL"
      },
      "source": [
        "**Training the same model on MNIST data with noise channels or all-zero channels**"
      ]
    },
    {
      "cell_type": "code",
      "execution_count": 7,
      "metadata": {
        "id": "k4zMlILqWkNL",
        "outputId": "fd18d75b-dd18-410a-c5e0-f6afcbac6bdd",
        "colab": {
          "base_uri": "https://localhost:8080/"
        }
      },
      "outputs": [
        {
          "output_type": "stream",
          "name": "stdout",
          "text": [
            "Epoch 1/10\n",
            "375/375 [==============================] - 7s 4ms/step - loss: 0.6130 - accuracy: 0.8108 - val_loss: 0.2525 - val_accuracy: 0.9278\n",
            "Epoch 2/10\n",
            "375/375 [==============================] - 1s 4ms/step - loss: 0.2571 - accuracy: 0.9204 - val_loss: 0.1874 - val_accuracy: 0.9454\n",
            "Epoch 3/10\n",
            "375/375 [==============================] - 1s 3ms/step - loss: 0.1690 - accuracy: 0.9481 - val_loss: 0.1810 - val_accuracy: 0.9477\n",
            "Epoch 4/10\n",
            "375/375 [==============================] - 1s 3ms/step - loss: 0.1187 - accuracy: 0.9624 - val_loss: 0.1372 - val_accuracy: 0.9607\n",
            "Epoch 5/10\n",
            "375/375 [==============================] - 1s 3ms/step - loss: 0.0872 - accuracy: 0.9730 - val_loss: 0.1257 - val_accuracy: 0.9613\n",
            "Epoch 6/10\n",
            "375/375 [==============================] - 1s 3ms/step - loss: 0.0659 - accuracy: 0.9786 - val_loss: 0.1543 - val_accuracy: 0.9576\n",
            "Epoch 7/10\n",
            "375/375 [==============================] - 2s 5ms/step - loss: 0.0495 - accuracy: 0.9842 - val_loss: 0.1621 - val_accuracy: 0.9546\n",
            "Epoch 8/10\n",
            "375/375 [==============================] - 2s 4ms/step - loss: 0.0335 - accuracy: 0.9896 - val_loss: 0.1420 - val_accuracy: 0.9603\n",
            "Epoch 9/10\n",
            "375/375 [==============================] - 1s 3ms/step - loss: 0.0268 - accuracy: 0.9915 - val_loss: 0.1347 - val_accuracy: 0.9632\n",
            "Epoch 10/10\n",
            "375/375 [==============================] - 1s 4ms/step - loss: 0.0211 - accuracy: 0.9937 - val_loss: 0.1524 - val_accuracy: 0.9657\n",
            "Epoch 1/10\n",
            "375/375 [==============================] - 2s 4ms/step - loss: 0.2971 - accuracy: 0.9151 - val_loss: 0.1507 - val_accuracy: 0.9580\n",
            "Epoch 2/10\n",
            "375/375 [==============================] - 1s 3ms/step - loss: 0.1244 - accuracy: 0.9631 - val_loss: 0.1018 - val_accuracy: 0.9706\n",
            "Epoch 3/10\n",
            "375/375 [==============================] - 1s 4ms/step - loss: 0.0801 - accuracy: 0.9766 - val_loss: 0.0952 - val_accuracy: 0.9714\n",
            "Epoch 4/10\n",
            "375/375 [==============================] - 2s 5ms/step - loss: 0.0594 - accuracy: 0.9823 - val_loss: 0.0807 - val_accuracy: 0.9768\n",
            "Epoch 5/10\n",
            "375/375 [==============================] - 2s 4ms/step - loss: 0.0439 - accuracy: 0.9863 - val_loss: 0.0781 - val_accuracy: 0.9779\n",
            "Epoch 6/10\n",
            "375/375 [==============================] - 1s 4ms/step - loss: 0.0332 - accuracy: 0.9909 - val_loss: 0.0766 - val_accuracy: 0.9783\n",
            "Epoch 7/10\n",
            "375/375 [==============================] - 1s 3ms/step - loss: 0.0250 - accuracy: 0.9933 - val_loss: 0.0804 - val_accuracy: 0.9772\n",
            "Epoch 8/10\n",
            "375/375 [==============================] - 1s 3ms/step - loss: 0.0196 - accuracy: 0.9948 - val_loss: 0.0796 - val_accuracy: 0.9781\n",
            "Epoch 9/10\n",
            "375/375 [==============================] - 1s 3ms/step - loss: 0.0148 - accuracy: 0.9959 - val_loss: 0.0749 - val_accuracy: 0.9788\n",
            "Epoch 10/10\n",
            "375/375 [==============================] - 1s 4ms/step - loss: 0.0103 - accuracy: 0.9977 - val_loss: 0.0755 - val_accuracy: 0.9801\n",
            "Epoch 1/10\n",
            "375/375 [==============================] - 2s 4ms/step - loss: 0.2940 - accuracy: 0.9153 - val_loss: 0.1625 - val_accuracy: 0.9526\n",
            "Epoch 2/10\n",
            "375/375 [==============================] - 1s 3ms/step - loss: 0.1223 - accuracy: 0.9641 - val_loss: 0.1074 - val_accuracy: 0.9693\n",
            "Epoch 3/10\n",
            "375/375 [==============================] - 1s 3ms/step - loss: 0.0802 - accuracy: 0.9759 - val_loss: 0.0869 - val_accuracy: 0.9749\n",
            "Epoch 4/10\n",
            "375/375 [==============================] - 1s 3ms/step - loss: 0.0582 - accuracy: 0.9829 - val_loss: 0.0770 - val_accuracy: 0.9762\n",
            "Epoch 5/10\n",
            "375/375 [==============================] - 1s 4ms/step - loss: 0.0437 - accuracy: 0.9873 - val_loss: 0.0923 - val_accuracy: 0.9725\n",
            "Epoch 6/10\n",
            "375/375 [==============================] - 1s 4ms/step - loss: 0.0320 - accuracy: 0.9904 - val_loss: 0.0799 - val_accuracy: 0.9770\n",
            "Epoch 7/10\n",
            "375/375 [==============================] - 2s 5ms/step - loss: 0.0243 - accuracy: 0.9931 - val_loss: 0.0738 - val_accuracy: 0.9805\n",
            "Epoch 8/10\n",
            "375/375 [==============================] - 2s 4ms/step - loss: 0.0181 - accuracy: 0.9951 - val_loss: 0.0730 - val_accuracy: 0.9815\n",
            "Epoch 9/10\n",
            "375/375 [==============================] - 1s 3ms/step - loss: 0.0138 - accuracy: 0.9965 - val_loss: 0.0748 - val_accuracy: 0.9812\n",
            "Epoch 10/10\n",
            "375/375 [==============================] - 1s 3ms/step - loss: 0.0102 - accuracy: 0.9978 - val_loss: 0.0831 - val_accuracy: 0.9795\n"
          ]
        }
      ],
      "source": [
        "from tensorflow import keras\n",
        "from tensorflow.keras import layers\n",
        "\n",
        "def get_model():\n",
        "    model = keras.Sequential([\n",
        "        layers.Dense(512, activation=\"relu\"),\n",
        "        layers.Dense(10, activation=\"softmax\")\n",
        "    ])\n",
        "    model.compile(optimizer=\"rmsprop\",\n",
        "                  loss=\"sparse_categorical_crossentropy\",\n",
        "                  metrics=[\"accuracy\"])\n",
        "    return model\n",
        "\n",
        "model = get_model()\n",
        "history_noise = model.fit(\n",
        "    train_images_with_noise_channels, train_labels,\n",
        "    epochs=10,\n",
        "    batch_size=128,\n",
        "    validation_split=0.2)\n",
        "\n",
        "model = get_model()\n",
        "history_zeros = model.fit(\n",
        "    train_images_with_zeros_channels, train_labels,\n",
        "    epochs=10,\n",
        "    batch_size=128,\n",
        "    validation_split=0.2)\n",
        "\n",
        "model = get_model()\n",
        "history_original = model.fit(\n",
        "    train_images, train_labels,\n",
        "    epochs=10,\n",
        "    batch_size=128,\n",
        "    validation_split=0.2)"
      ]
    },
    {
      "cell_type": "markdown",
      "metadata": {
        "id": "S8wdB34IWkNM"
      },
      "source": [
        "**Plotting a validation accuracy comparison**"
      ]
    },
    {
      "cell_type": "code",
      "execution_count": 8,
      "metadata": {
        "id": "Lcon2h2IWkNM",
        "outputId": "bcdd2dae-2328-4474-b3d4-522b09cad6f4",
        "colab": {
          "base_uri": "https://localhost:8080/",
          "height": 491
        }
      },
      "outputs": [
        {
          "output_type": "execute_result",
          "data": {
            "text/plain": [
              "<matplotlib.legend.Legend at 0x7f0d8da3c3d0>"
            ]
          },
          "metadata": {},
          "execution_count": 8
        },
        {
          "output_type": "display_data",
          "data": {
            "text/plain": [
              "<Figure size 640x480 with 1 Axes>"
            ],
            "image/png": "[encoded data removed]"
          },
          "metadata": {}
        }
      ],
      "source": [
        "import matplotlib.pyplot as plt\n",
        "val_acc_noise = history_noise.history[\"val_accuracy\"]\n",
        "val_acc_zeros = history_zeros.history[\"val_accuracy\"]\n",
        "val_acc_original = history_original.history['val_accuracy']\n",
        "epochs = range(1, 11)\n",
        "plt.plot(epochs, val_acc_noise, \"b-\",\n",
        "         label=\"Validation accuracy with noise channels\")\n",
        "plt.plot(epochs, val_acc_zeros, \"b--\",\n",
        "         label=\"Validation accuracy with zeros channels\")\n",
        "plt.plot(epochs, val_acc_original, 'r',\n",
        "         label = 'Validation accuracy with origianl data')\n",
        "plt.title(\"Effect of noise channels on validation accuracy\")\n",
        "plt.xlabel(\"Epochs\")\n",
        "plt.ylabel(\"Accuracy\")\n",
        "plt.legend()"
      ]
    },
    {
      "cell_type": "markdown",
      "source": [
        "noisy information을 딥러닝 모델에 넣었을 때 퍼포먼스 하락\n",
        "feature engineering을 통해 퍼포먼스 향상 가능할 수 있다\n",
        "\n",
        "딥러닝에서 feature engineering이 필요하지 않다? 일부는 맞는 얘기\n",
        "\n",
        "딥러닝에서는 모델이 중요한 feature를 스스로 learn, train 가능\n",
        "하지만 feature engineering을 올바른 방식으로 한다면 더 나은 퍼포먼스를 얻을 수 있음\n",
        "\n",
        "noisy dataset을 제거하는 게 딥러닝에서 여전히 중요\n",
        "\n",
        "training 전에 feature selection "
      ],
      "metadata": {
        "id": "CGWtUn3raNPa"
      }
    },
    {
      "cell_type": "markdown",
      "metadata": {
        "id": "S3JFpn9MWkNM"
      },
      "source": [
        "### The nature of generalization in deep learning"
      ]
    },
    {
      "cell_type": "markdown",
      "metadata": {
        "id": "8eMg2sOdWkNM"
      },
      "source": [
        "**Fitting a MNIST model with randomly shuffled labels**"
      ]
    },
    {
      "cell_type": "code",
      "execution_count": 9,
      "metadata": {
        "id": "gEi_aibRWkNM",
        "outputId": "1f093aa6-180d-452e-8fa1-c0f9a7a07afa",
        "colab": {
          "base_uri": "https://localhost:8080/"
        }
      },
      "outputs": [
        {
          "output_type": "stream",
          "name": "stdout",
          "text": [
            "Epoch 1/100\n",
            "375/375 [==============================] - 3s 5ms/step - loss: 2.3145 - accuracy: 0.1048 - val_loss: 2.3040 - val_accuracy: 0.1035\n",
            "Epoch 2/100\n",
            "375/375 [==============================] - 1s 4ms/step - loss: 2.2986 - accuracy: 0.1160 - val_loss: 2.3125 - val_accuracy: 0.0923\n",
            "Epoch 3/100\n",
            "375/375 [==============================] - 1s 3ms/step - loss: 2.2907 - accuracy: 0.1271 - val_loss: 2.3129 - val_accuracy: 0.1002\n",
            "Epoch 4/100\n",
            "375/375 [==============================] - 1s 3ms/step - loss: 2.2795 - accuracy: 0.1373 - val_loss: 2.3282 - val_accuracy: 0.1072\n",
            "Epoch 5/100\n",
            "375/375 [==============================] - 1s 3ms/step - loss: 2.2632 - accuracy: 0.1526 - val_loss: 2.3368 - val_accuracy: 0.1037\n",
            "Epoch 6/100\n",
            "375/375 [==============================] - 1s 3ms/step - loss: 2.2437 - accuracy: 0.1665 - val_loss: 2.3475 - val_accuracy: 0.1021\n",
            "Epoch 7/100\n",
            "375/375 [==============================] - 1s 4ms/step - loss: 2.2193 - accuracy: 0.1829 - val_loss: 2.3631 - val_accuracy: 0.1025\n",
            "Epoch 8/100\n",
            "375/375 [==============================] - 1s 4ms/step - loss: 2.1917 - accuracy: 0.1994 - val_loss: 2.3841 - val_accuracy: 0.1007\n",
            "Epoch 9/100\n",
            "375/375 [==============================] - 2s 5ms/step - loss: 2.1632 - accuracy: 0.2130 - val_loss: 2.3996 - val_accuracy: 0.1019\n",
            "Epoch 10/100\n",
            "375/375 [==============================] - 1s 3ms/step - loss: 2.1314 - accuracy: 0.2289 - val_loss: 2.4193 - val_accuracy: 0.1016\n",
            "Epoch 11/100\n",
            "375/375 [==============================] - 1s 4ms/step - loss: 2.0963 - accuracy: 0.2439 - val_loss: 2.4372 - val_accuracy: 0.1023\n",
            "Epoch 12/100\n",
            "375/375 [==============================] - 1s 4ms/step - loss: 2.0611 - accuracy: 0.2626 - val_loss: 2.4665 - val_accuracy: 0.1005\n",
            "Epoch 13/100\n",
            "375/375 [==============================] - 1s 3ms/step - loss: 2.0246 - accuracy: 0.2828 - val_loss: 2.4953 - val_accuracy: 0.0997\n",
            "Epoch 14/100\n",
            "375/375 [==============================] - 1s 4ms/step - loss: 1.9855 - accuracy: 0.2970 - val_loss: 2.5318 - val_accuracy: 0.0980\n",
            "Epoch 15/100\n",
            "375/375 [==============================] - 1s 4ms/step - loss: 1.9456 - accuracy: 0.3126 - val_loss: 2.5430 - val_accuracy: 0.1036\n",
            "Epoch 16/100\n",
            "375/375 [==============================] - 1s 4ms/step - loss: 1.9086 - accuracy: 0.3275 - val_loss: 2.5792 - val_accuracy: 0.1005\n",
            "Epoch 17/100\n",
            "375/375 [==============================] - 2s 4ms/step - loss: 1.8680 - accuracy: 0.3463 - val_loss: 2.6229 - val_accuracy: 0.1025\n",
            "Epoch 18/100\n",
            "375/375 [==============================] - 2s 4ms/step - loss: 1.8299 - accuracy: 0.3613 - val_loss: 2.6461 - val_accuracy: 0.1021\n",
            "Epoch 19/100\n",
            "375/375 [==============================] - 1s 3ms/step - loss: 1.7914 - accuracy: 0.3747 - val_loss: 2.6948 - val_accuracy: 0.1000\n",
            "Epoch 20/100\n",
            "375/375 [==============================] - 1s 3ms/step - loss: 1.7549 - accuracy: 0.3932 - val_loss: 2.7208 - val_accuracy: 0.1019\n",
            "Epoch 21/100\n",
            "375/375 [==============================] - 1s 4ms/step - loss: 1.7148 - accuracy: 0.4067 - val_loss: 2.7929 - val_accuracy: 0.1032\n",
            "Epoch 22/100\n",
            "375/375 [==============================] - 1s 3ms/step - loss: 1.6801 - accuracy: 0.4206 - val_loss: 2.8043 - val_accuracy: 0.0991\n",
            "Epoch 23/100\n",
            "375/375 [==============================] - 1s 3ms/step - loss: 1.6448 - accuracy: 0.4321 - val_loss: 2.8786 - val_accuracy: 0.0991\n",
            "Epoch 24/100\n",
            "375/375 [==============================] - 1s 3ms/step - loss: 1.6059 - accuracy: 0.4493 - val_loss: 2.8954 - val_accuracy: 0.1021\n",
            "Epoch 25/100\n",
            "375/375 [==============================] - 1s 3ms/step - loss: 1.5712 - accuracy: 0.4624 - val_loss: 2.9336 - val_accuracy: 0.1031\n",
            "Epoch 26/100\n",
            "375/375 [==============================] - 1s 4ms/step - loss: 1.5393 - accuracy: 0.4712 - val_loss: 2.9785 - val_accuracy: 0.1023\n",
            "Epoch 27/100\n",
            "375/375 [==============================] - 2s 5ms/step - loss: 1.5050 - accuracy: 0.4873 - val_loss: 3.0250 - val_accuracy: 0.1014\n",
            "Epoch 28/100\n",
            "375/375 [==============================] - 1s 4ms/step - loss: 1.4721 - accuracy: 0.5005 - val_loss: 3.0671 - val_accuracy: 0.1070\n",
            "Epoch 29/100\n",
            "375/375 [==============================] - 1s 4ms/step - loss: 1.4412 - accuracy: 0.5114 - val_loss: 3.1214 - val_accuracy: 0.1043\n",
            "Epoch 30/100\n",
            "375/375 [==============================] - 1s 4ms/step - loss: 1.4101 - accuracy: 0.5236 - val_loss: 3.1802 - val_accuracy: 0.1064\n",
            "Epoch 31/100\n",
            "375/375 [==============================] - 1s 3ms/step - loss: 1.3789 - accuracy: 0.5328 - val_loss: 3.2306 - val_accuracy: 0.1070\n",
            "Epoch 32/100\n",
            "375/375 [==============================] - 1s 4ms/step - loss: 1.3491 - accuracy: 0.5452 - val_loss: 3.2829 - val_accuracy: 0.1057\n",
            "Epoch 33/100\n",
            "375/375 [==============================] - 1s 4ms/step - loss: 1.3199 - accuracy: 0.5520 - val_loss: 3.3492 - val_accuracy: 0.1035\n",
            "Epoch 34/100\n",
            "375/375 [==============================] - 1s 4ms/step - loss: 1.2922 - accuracy: 0.5663 - val_loss: 3.4216 - val_accuracy: 0.1046\n",
            "Epoch 35/100\n",
            "375/375 [==============================] - 2s 6ms/step - loss: 1.2636 - accuracy: 0.5754 - val_loss: 3.4380 - val_accuracy: 0.1068\n",
            "Epoch 36/100\n",
            "375/375 [==============================] - 2s 4ms/step - loss: 1.2390 - accuracy: 0.5834 - val_loss: 3.5023 - val_accuracy: 0.1028\n",
            "Epoch 37/100\n",
            "375/375 [==============================] - 1s 3ms/step - loss: 1.2112 - accuracy: 0.5944 - val_loss: 3.5674 - val_accuracy: 0.1061\n",
            "Epoch 38/100\n",
            "375/375 [==============================] - 1s 3ms/step - loss: 1.1859 - accuracy: 0.6016 - val_loss: 3.5955 - val_accuracy: 0.1043\n",
            "Epoch 39/100\n",
            "375/375 [==============================] - 1s 3ms/step - loss: 1.1613 - accuracy: 0.6122 - val_loss: 3.6626 - val_accuracy: 0.1088\n",
            "Epoch 40/100\n",
            "375/375 [==============================] - 1s 3ms/step - loss: 1.1380 - accuracy: 0.6201 - val_loss: 3.7158 - val_accuracy: 0.1039\n",
            "Epoch 41/100\n",
            "375/375 [==============================] - 1s 3ms/step - loss: 1.1158 - accuracy: 0.6305 - val_loss: 3.7764 - val_accuracy: 0.1069\n",
            "Epoch 42/100\n",
            "375/375 [==============================] - 1s 4ms/step - loss: 1.0922 - accuracy: 0.6369 - val_loss: 3.8442 - val_accuracy: 0.1072\n",
            "Epoch 43/100\n",
            "375/375 [==============================] - 1s 3ms/step - loss: 1.0685 - accuracy: 0.6451 - val_loss: 3.9381 - val_accuracy: 0.1063\n",
            "Epoch 44/100\n",
            "375/375 [==============================] - 2s 4ms/step - loss: 1.0455 - accuracy: 0.6540 - val_loss: 3.9428 - val_accuracy: 0.1106\n",
            "Epoch 45/100\n",
            "375/375 [==============================] - 2s 5ms/step - loss: 1.0263 - accuracy: 0.6607 - val_loss: 4.0084 - val_accuracy: 0.1069\n",
            "Epoch 46/100\n",
            "375/375 [==============================] - 1s 4ms/step - loss: 1.0021 - accuracy: 0.6703 - val_loss: 4.0973 - val_accuracy: 0.1053\n",
            "Epoch 47/100\n",
            "375/375 [==============================] - 1s 3ms/step - loss: 0.9833 - accuracy: 0.6755 - val_loss: 4.1168 - val_accuracy: 0.1042\n",
            "Epoch 48/100\n",
            "375/375 [==============================] - 1s 3ms/step - loss: 0.9606 - accuracy: 0.6837 - val_loss: 4.1937 - val_accuracy: 0.1047\n",
            "Epoch 49/100\n",
            "375/375 [==============================] - 1s 3ms/step - loss: 0.9405 - accuracy: 0.6900 - val_loss: 4.2834 - val_accuracy: 0.1043\n",
            "Epoch 50/100\n",
            "375/375 [==============================] - 1s 3ms/step - loss: 0.9247 - accuracy: 0.6975 - val_loss: 4.3516 - val_accuracy: 0.1044\n",
            "Epoch 51/100\n",
            "375/375 [==============================] - 1s 3ms/step - loss: 0.9064 - accuracy: 0.7029 - val_loss: 4.4079 - val_accuracy: 0.1066\n",
            "Epoch 52/100\n",
            "375/375 [==============================] - 1s 3ms/step - loss: 0.8853 - accuracy: 0.7113 - val_loss: 4.4387 - val_accuracy: 0.1066\n",
            "Epoch 53/100\n",
            "375/375 [==============================] - 1s 3ms/step - loss: 0.8673 - accuracy: 0.7181 - val_loss: 4.4956 - val_accuracy: 0.1071\n",
            "Epoch 54/100\n",
            "375/375 [==============================] - 2s 5ms/step - loss: 0.8505 - accuracy: 0.7237 - val_loss: 4.6154 - val_accuracy: 0.1045\n",
            "Epoch 55/100\n",
            "375/375 [==============================] - 1s 3ms/step - loss: 0.8345 - accuracy: 0.7282 - val_loss: 4.6547 - val_accuracy: 0.1039\n",
            "Epoch 56/100\n",
            "375/375 [==============================] - 1s 3ms/step - loss: 0.8167 - accuracy: 0.7346 - val_loss: 4.7298 - val_accuracy: 0.1060\n",
            "Epoch 57/100\n",
            "375/375 [==============================] - 1s 3ms/step - loss: 0.8019 - accuracy: 0.7404 - val_loss: 4.7851 - val_accuracy: 0.1085\n",
            "Epoch 58/100\n",
            "375/375 [==============================] - 1s 3ms/step - loss: 0.7837 - accuracy: 0.7456 - val_loss: 4.8527 - val_accuracy: 0.1016\n",
            "Epoch 59/100\n",
            "375/375 [==============================] - 1s 3ms/step - loss: 0.7679 - accuracy: 0.7516 - val_loss: 4.8828 - val_accuracy: 0.1063\n",
            "Epoch 60/100\n",
            "375/375 [==============================] - 1s 4ms/step - loss: 0.7515 - accuracy: 0.7554 - val_loss: 4.9750 - val_accuracy: 0.1063\n",
            "Epoch 61/100\n",
            "375/375 [==============================] - 1s 3ms/step - loss: 0.7388 - accuracy: 0.7600 - val_loss: 5.0466 - val_accuracy: 0.1071\n",
            "Epoch 62/100\n",
            "375/375 [==============================] - 1s 3ms/step - loss: 0.7239 - accuracy: 0.7683 - val_loss: 5.1044 - val_accuracy: 0.1082\n",
            "Epoch 63/100\n",
            "375/375 [==============================] - 2s 4ms/step - loss: 0.7066 - accuracy: 0.7731 - val_loss: 5.2268 - val_accuracy: 0.1028\n",
            "Epoch 64/100\n",
            "375/375 [==============================] - 2s 4ms/step - loss: 0.6955 - accuracy: 0.7767 - val_loss: 5.2240 - val_accuracy: 0.1032\n",
            "Epoch 65/100\n",
            "375/375 [==============================] - 1s 3ms/step - loss: 0.6833 - accuracy: 0.7805 - val_loss: 5.3015 - val_accuracy: 0.1060\n",
            "Epoch 66/100\n",
            "375/375 [==============================] - 1s 3ms/step - loss: 0.6689 - accuracy: 0.7834 - val_loss: 5.3551 - val_accuracy: 0.1053\n",
            "Epoch 67/100\n",
            "375/375 [==============================] - 1s 3ms/step - loss: 0.6543 - accuracy: 0.7925 - val_loss: 5.4356 - val_accuracy: 0.1042\n",
            "Epoch 68/100\n",
            "375/375 [==============================] - 1s 3ms/step - loss: 0.6420 - accuracy: 0.7961 - val_loss: 5.5180 - val_accuracy: 0.1042\n",
            "Epoch 69/100\n",
            "375/375 [==============================] - 1s 3ms/step - loss: 0.6327 - accuracy: 0.7971 - val_loss: 5.5777 - val_accuracy: 0.1043\n",
            "Epoch 70/100\n",
            "375/375 [==============================] - 1s 3ms/step - loss: 0.6168 - accuracy: 0.8030 - val_loss: 5.6674 - val_accuracy: 0.1049\n",
            "Epoch 71/100\n",
            "375/375 [==============================] - 1s 4ms/step - loss: 0.6068 - accuracy: 0.8067 - val_loss: 5.7278 - val_accuracy: 0.1063\n",
            "Epoch 72/100\n",
            "375/375 [==============================] - 1s 4ms/step - loss: 0.5936 - accuracy: 0.8108 - val_loss: 5.8211 - val_accuracy: 0.1071\n",
            "Epoch 73/100\n",
            "375/375 [==============================] - 2s 5ms/step - loss: 0.5826 - accuracy: 0.8149 - val_loss: 5.8937 - val_accuracy: 0.1050\n",
            "Epoch 74/100\n",
            "375/375 [==============================] - 1s 3ms/step - loss: 0.5718 - accuracy: 0.8173 - val_loss: 5.9543 - val_accuracy: 0.1055\n",
            "Epoch 75/100\n",
            "375/375 [==============================] - 1s 4ms/step - loss: 0.5610 - accuracy: 0.8218 - val_loss: 6.0569 - val_accuracy: 0.1054\n",
            "Epoch 76/100\n",
            "375/375 [==============================] - 1s 3ms/step - loss: 0.5486 - accuracy: 0.8260 - val_loss: 6.1250 - val_accuracy: 0.1088\n",
            "Epoch 77/100\n",
            "375/375 [==============================] - 1s 4ms/step - loss: 0.5398 - accuracy: 0.8289 - val_loss: 6.1199 - val_accuracy: 0.1104\n",
            "Epoch 78/100\n",
            "375/375 [==============================] - 1s 3ms/step - loss: 0.5284 - accuracy: 0.8330 - val_loss: 6.2533 - val_accuracy: 0.1085\n",
            "Epoch 79/100\n",
            "375/375 [==============================] - 1s 4ms/step - loss: 0.5204 - accuracy: 0.8360 - val_loss: 6.2894 - val_accuracy: 0.1062\n",
            "Epoch 80/100\n",
            "375/375 [==============================] - 1s 3ms/step - loss: 0.5099 - accuracy: 0.8390 - val_loss: 6.3935 - val_accuracy: 0.1094\n",
            "Epoch 81/100\n",
            "375/375 [==============================] - 1s 4ms/step - loss: 0.4988 - accuracy: 0.8424 - val_loss: 6.4711 - val_accuracy: 0.1083\n",
            "Epoch 82/100\n",
            "375/375 [==============================] - 2s 5ms/step - loss: 0.4911 - accuracy: 0.8439 - val_loss: 6.5121 - val_accuracy: 0.1079\n",
            "Epoch 83/100\n",
            "375/375 [==============================] - 1s 3ms/step - loss: 0.4820 - accuracy: 0.8486 - val_loss: 6.5945 - val_accuracy: 0.1096\n",
            "Epoch 84/100\n",
            "375/375 [==============================] - 1s 3ms/step - loss: 0.4740 - accuracy: 0.8491 - val_loss: 6.6445 - val_accuracy: 0.1042\n",
            "Epoch 85/100\n",
            "375/375 [==============================] - 1s 4ms/step - loss: 0.4613 - accuracy: 0.8556 - val_loss: 6.7561 - val_accuracy: 0.1066\n",
            "Epoch 86/100\n",
            "375/375 [==============================] - 1s 3ms/step - loss: 0.4571 - accuracy: 0.8564 - val_loss: 6.8377 - val_accuracy: 0.1029\n",
            "Epoch 87/100\n",
            "375/375 [==============================] - 1s 4ms/step - loss: 0.4458 - accuracy: 0.8619 - val_loss: 6.8677 - val_accuracy: 0.1094\n",
            "Epoch 88/100\n",
            "375/375 [==============================] - 1s 4ms/step - loss: 0.4386 - accuracy: 0.8628 - val_loss: 6.9861 - val_accuracy: 0.1068\n",
            "Epoch 89/100\n",
            "375/375 [==============================] - 1s 3ms/step - loss: 0.4307 - accuracy: 0.8652 - val_loss: 7.0483 - val_accuracy: 0.1070\n",
            "Epoch 90/100\n",
            "375/375 [==============================] - 1s 3ms/step - loss: 0.4247 - accuracy: 0.8661 - val_loss: 7.0996 - val_accuracy: 0.1066\n",
            "Epoch 91/100\n",
            "375/375 [==============================] - 2s 5ms/step - loss: 0.4146 - accuracy: 0.8711 - val_loss: 7.2004 - val_accuracy: 0.1078\n",
            "Epoch 92/100\n",
            "375/375 [==============================] - 1s 4ms/step - loss: 0.4073 - accuracy: 0.8729 - val_loss: 7.2395 - val_accuracy: 0.1067\n",
            "Epoch 93/100\n",
            "375/375 [==============================] - 1s 3ms/step - loss: 0.3996 - accuracy: 0.8766 - val_loss: 7.3504 - val_accuracy: 0.1084\n",
            "Epoch 94/100\n",
            "375/375 [==============================] - 1s 3ms/step - loss: 0.3936 - accuracy: 0.8776 - val_loss: 7.3868 - val_accuracy: 0.1062\n",
            "Epoch 95/100\n",
            "375/375 [==============================] - 1s 4ms/step - loss: 0.3868 - accuracy: 0.8805 - val_loss: 7.4701 - val_accuracy: 0.1088\n",
            "Epoch 96/100\n",
            "375/375 [==============================] - 1s 3ms/step - loss: 0.3775 - accuracy: 0.8836 - val_loss: 7.5330 - val_accuracy: 0.1062\n",
            "Epoch 97/100\n",
            "375/375 [==============================] - 1s 4ms/step - loss: 0.3743 - accuracy: 0.8833 - val_loss: 7.6015 - val_accuracy: 0.1093\n",
            "Epoch 98/100\n",
            "375/375 [==============================] - 1s 3ms/step - loss: 0.3664 - accuracy: 0.8869 - val_loss: 7.6844 - val_accuracy: 0.1081\n",
            "Epoch 99/100\n",
            "375/375 [==============================] - 1s 3ms/step - loss: 0.3599 - accuracy: 0.8880 - val_loss: 7.7921 - val_accuracy: 0.1068\n",
            "Epoch 100/100\n",
            "375/375 [==============================] - 1s 4ms/step - loss: 0.3533 - accuracy: 0.8906 - val_loss: 7.8100 - val_accuracy: 0.1067\n"
          ]
        }
      ],
      "source": [
        "(train_images, train_labels), _ = mnist.load_data()\n",
        "train_images = train_images.reshape((60000, 28 * 28))\n",
        "train_images = train_images.astype(\"float32\") / 255\n",
        "\n",
        "random_train_labels = train_labels[:]\n",
        "np.random.shuffle(random_train_labels)\n",
        "\n",
        "model = keras.Sequential([\n",
        "    layers.Dense(512, activation=\"relu\"),\n",
        "    layers.Dense(10, activation=\"softmax\")\n",
        "])\n",
        "model.compile(optimizer=\"rmsprop\",\n",
        "              loss=\"sparse_categorical_crossentropy\",\n",
        "              metrics=[\"accuracy\"])\n",
        "history = model.fit(train_images, random_train_labels,\n",
        "          epochs=100,\n",
        "          batch_size=128,\n",
        "          validation_split=0.2)"
      ]
    },
    {
      "cell_type": "code",
      "source": [
        "history_dict = history.history\n",
        "history_dict.keys()"
      ],
      "metadata": {
        "id": "515rlqfw0Njj",
        "outputId": "67221e53-7790-434a-938a-c73764fce441",
        "colab": {
          "base_uri": "https://localhost:8080/"
        }
      },
      "execution_count": 10,
      "outputs": [
        {
          "output_type": "execute_result",
          "data": {
            "text/plain": [
              "dict_keys(['loss', 'accuracy', 'val_loss', 'val_accuracy'])"
            ]
          },
          "metadata": {},
          "execution_count": 10
        }
      ]
    },
    {
      "cell_type": "code",
      "source": [
        "import matplotlib.pyplot as plt\n",
        "history_dict = history.history\n",
        "train_accuracy = history_dict[\"accuracy\"]\n",
        "val_accuracy = history_dict[\"val_accuracy\"]\n",
        "epochs = range(1, len(train_accuracy) + 1)\n",
        "plt.plot(epochs, train_accuracy, \"bo\", label=\"Training accuracy\")\n",
        "plt.plot(epochs, val_accuracy, \"b\", label=\"Validation accuracy\")\n",
        "plt.title(\"Training and validation accuracy\")\n",
        "plt.xlabel(\"Epochs\")\n",
        "plt.ylabel(\"Accuracy\")\n",
        "plt.legend()\n",
        "plt.show()"
      ],
      "metadata": {
        "id": "SePYTacr0E4v",
        "outputId": "82482f1b-4f69-41d0-e7e4-91f5a21a4ff1",
        "colab": {
          "base_uri": "https://localhost:8080/",
          "height": 472
        }
      },
      "execution_count": 11,
      "outputs": [
        {
          "output_type": "display_data",
          "data": {
            "text/plain": [
              "<Figure size 640x480 with 1 Axes>"
            ],
            "image/png": "[encoded data removed]"
          },
          "metadata": {}
        }
      ]
    },
    {
      "cell_type": "markdown",
      "source": [
        "라벨을 셔플 했음\n",
        "\n",
        "0~9까지의 라벨을 분류하는 모델이니까 처음 train_accuracy는 0.1 정도\n",
        "\n",
        "딥러닝에서 어떤 dataset으로도 train 하면 train_accuracy는 always 증가\n",
        "하지만 val_accuracy를 보고 generalization power를 확인해야함\n",
        "\n",
        "위의 사례에선 train_accuracy가 0.9정도로 높지만 val_accuracy는 0.1\n",
        "generalization이 잘 이루어지지 않음"
      ],
      "metadata": {
        "id": "TD6IEHdncmyn"
      }
    },
    {
      "cell_type": "markdown",
      "metadata": {
        "id": "f04jtdKLWkNN"
      },
      "source": [
        "#### The manifold hypothesis"
      ]
    },
    {
      "cell_type": "markdown",
      "metadata": {
        "id": "E8VGF5ZPWkNN"
      },
      "source": [
        "#### Interpolation as a source of generalization"
      ]
    },
    {
      "cell_type": "markdown",
      "metadata": {
        "id": "l1m9SkuiWkNN"
      },
      "source": [
        "#### Why deep learning works"
      ]
    },
    {
      "cell_type": "markdown",
      "metadata": {
        "id": "-m9KD3_BWkNO"
      },
      "source": [
        "#### Training data is paramount"
      ]
    },
    {
      "cell_type": "markdown",
      "metadata": {
        "id": "6MpUEFlRWkNO"
      },
      "source": [
        "## Evaluating machine-learning models"
      ]
    },
    {
      "cell_type": "markdown",
      "metadata": {
        "id": "DYSopxbTWkNO"
      },
      "source": [
        "### Training, validation, and test sets"
      ]
    },
    {
      "cell_type": "markdown",
      "metadata": {
        "id": "BbfpyJs0WkNO"
      },
      "source": [
        "#### Simple hold-out validation"
      ]
    },
    {
      "cell_type": "markdown",
      "metadata": {
        "id": "0auZbQEhWkNO"
      },
      "source": [
        "#### K-fold validation"
      ]
    },
    {
      "cell_type": "markdown",
      "metadata": {
        "id": "TFIKjBkUWkNO"
      },
      "source": [
        "#### Iterated K-fold validation with shuffling"
      ]
    },
    {
      "cell_type": "markdown",
      "metadata": {
        "id": "v2RoMvtMWkNO"
      },
      "source": [
        "### Beating a common-sense baseline"
      ]
    },
    {
      "cell_type": "markdown",
      "metadata": {
        "id": "Je8Yx4P1WkNO"
      },
      "source": [
        "### Things to keep in mind about model evaluation"
      ]
    },
    {
      "cell_type": "markdown",
      "metadata": {
        "id": "FeNm0xAeWkNP"
      },
      "source": [
        "## Improving model fit"
      ]
    },
    {
      "cell_type": "markdown",
      "metadata": {
        "id": "UJ_frYTGWkNP"
      },
      "source": [
        "### Tuning key gradient descent parameters"
      ]
    },
    {
      "cell_type": "markdown",
      "metadata": {
        "id": "KUmPFP5sWkNP"
      },
      "source": [
        "**Training a MNIST model with an incorrectly high learning rate**"
      ]
    },
    {
      "cell_type": "code",
      "execution_count": null,
      "metadata": {
        "id": "TwvuFmooWkNP"
      },
      "outputs": [],
      "source": [
        "(train_images, train_labels), _ = mnist.load_data()\n",
        "train_images = train_images.reshape((60000, 28 * 28))\n",
        "train_images = train_images.astype(\"float32\") / 255\n",
        "\n",
        "model = keras.Sequential([\n",
        "    layers.Dense(512, activation=\"relu\"),\n",
        "    layers.Dense(10, activation=\"softmax\")\n",
        "])\n",
        "model.compile(optimizer=keras.optimizers.RMSprop(1.),\n",
        "              loss=\"sparse_categorical_crossentropy\",\n",
        "              metrics=[\"accuracy\"])\n",
        "model.fit(train_images, train_labels,\n",
        "          epochs=10,\n",
        "          batch_size=128,\n",
        "          validation_split=0.2)"
      ]
    },
    {
      "cell_type": "markdown",
      "metadata": {
        "id": "eth1AXWsWkNP"
      },
      "source": [
        "**The same model with a more appropriate learning rate**"
      ]
    },
    {
      "cell_type": "code",
      "execution_count": null,
      "metadata": {
        "id": "O7LBjvY9WkNP"
      },
      "outputs": [],
      "source": [
        "model = keras.Sequential([\n",
        "    layers.Dense(512, activation=\"relu\"),\n",
        "    layers.Dense(10, activation=\"softmax\")\n",
        "])\n",
        "model.compile(optimizer=keras.optimizers.RMSprop(1e-2),\n",
        "              loss=\"sparse_categorical_crossentropy\",\n",
        "              metrics=[\"accuracy\"])\n",
        "model.fit(train_images, train_labels,\n",
        "          epochs=10,\n",
        "          batch_size=128,\n",
        "          validation_split=0.2)"
      ]
    },
    {
      "cell_type": "markdown",
      "metadata": {
        "id": "UFXbKo45WkNP"
      },
      "source": [
        "### Leveraging better architecture priors"
      ]
    },
    {
      "cell_type": "markdown",
      "metadata": {
        "id": "CkHGPqSQWkNQ"
      },
      "source": [
        "### Increasing model capacity"
      ]
    },
    {
      "cell_type": "markdown",
      "metadata": {
        "id": "CclmsmC3WkNQ"
      },
      "source": [
        "**A simple logistic regression on MNIST**"
      ]
    },
    {
      "cell_type": "code",
      "execution_count": null,
      "metadata": {
        "id": "Fzs3k98fWkNQ",
        "outputId": "cb139081-b1cd-448b-fab1-c2bb499e74d6",
        "colab": {
          "base_uri": "https://localhost:8080/"
        }
      },
      "outputs": [
        {
          "output_type": "stream",
          "name": "stdout",
          "text": [
            "Epoch 1/20\n",
            "375/375 [==============================] - 2s 4ms/step - loss: 2.3284 - accuracy: 0.1035 - val_loss: 2.3171 - val_accuracy: 0.1013\n",
            "Epoch 2/20\n",
            "375/375 [==============================] - 1s 3ms/step - loss: 2.3120 - accuracy: 0.1105 - val_loss: 2.3165 - val_accuracy: 0.1047\n",
            "Epoch 3/20\n",
            "375/375 [==============================] - 1s 3ms/step - loss: 2.3059 - accuracy: 0.1164 - val_loss: 2.3236 - val_accuracy: 0.1011\n",
            "Epoch 4/20\n",
            "375/375 [==============================] - 2s 4ms/step - loss: 2.3020 - accuracy: 0.1176 - val_loss: 2.3204 - val_accuracy: 0.1054\n",
            "Epoch 5/20\n",
            "375/375 [==============================] - 1s 3ms/step - loss: 2.2989 - accuracy: 0.1209 - val_loss: 2.3255 - val_accuracy: 0.0996\n",
            "Epoch 6/20\n",
            "375/375 [==============================] - 1s 3ms/step - loss: 2.2966 - accuracy: 0.1237 - val_loss: 2.3200 - val_accuracy: 0.1042\n",
            "Epoch 7/20\n",
            "375/375 [==============================] - 1s 3ms/step - loss: 2.2943 - accuracy: 0.1270 - val_loss: 2.3233 - val_accuracy: 0.1028\n",
            "Epoch 8/20\n",
            "375/375 [==============================] - 1s 4ms/step - loss: 2.2927 - accuracy: 0.1273 - val_loss: 2.3234 - val_accuracy: 0.1011\n",
            "Epoch 9/20\n",
            "375/375 [==============================] - 1s 4ms/step - loss: 2.2914 - accuracy: 0.1281 - val_loss: 2.3231 - val_accuracy: 0.1036\n",
            "Epoch 10/20\n",
            "375/375 [==============================] - 1s 4ms/step - loss: 2.2896 - accuracy: 0.1301 - val_loss: 2.3231 - val_accuracy: 0.1068\n",
            "Epoch 11/20\n",
            "375/375 [==============================] - 1s 3ms/step - loss: 2.2883 - accuracy: 0.1297 - val_loss: 2.3245 - val_accuracy: 0.1036\n",
            "Epoch 12/20\n",
            "375/375 [==============================] - 1s 3ms/step - loss: 2.2868 - accuracy: 0.1321 - val_loss: 2.3245 - val_accuracy: 0.1014\n",
            "Epoch 13/20\n",
            "375/375 [==============================] - 1s 3ms/step - loss: 2.2855 - accuracy: 0.1341 - val_loss: 2.3248 - val_accuracy: 0.1039\n",
            "Epoch 14/20\n",
            "375/375 [==============================] - 1s 3ms/step - loss: 2.2853 - accuracy: 0.1337 - val_loss: 2.3274 - val_accuracy: 0.1073\n",
            "Epoch 15/20\n",
            "375/375 [==============================] - 1s 3ms/step - loss: 2.2836 - accuracy: 0.1351 - val_loss: 2.3293 - val_accuracy: 0.0989\n",
            "Epoch 16/20\n",
            "375/375 [==============================] - 1s 3ms/step - loss: 2.2828 - accuracy: 0.1365 - val_loss: 2.3313 - val_accuracy: 0.1048\n",
            "Epoch 17/20\n",
            "375/375 [==============================] - 1s 3ms/step - loss: 2.2820 - accuracy: 0.1382 - val_loss: 2.3270 - val_accuracy: 0.1013\n",
            "Epoch 18/20\n",
            "375/375 [==============================] - 1s 3ms/step - loss: 2.2812 - accuracy: 0.1360 - val_loss: 2.3295 - val_accuracy: 0.1048\n",
            "Epoch 19/20\n",
            "375/375 [==============================] - 1s 4ms/step - loss: 2.2804 - accuracy: 0.1378 - val_loss: 2.3356 - val_accuracy: 0.1007\n",
            "Epoch 20/20\n",
            "375/375 [==============================] - 1s 4ms/step - loss: 2.2795 - accuracy: 0.1379 - val_loss: 2.3403 - val_accuracy: 0.1018\n"
          ]
        }
      ],
      "source": [
        "model = keras.Sequential([layers.Dense(10, activation=\"softmax\")])\n",
        "model.compile(optimizer=\"rmsprop\",\n",
        "              loss=\"sparse_categorical_crossentropy\",\n",
        "              metrics=[\"accuracy\"])\n",
        "history_small_model = model.fit(\n",
        "    train_images, train_labels,\n",
        "    epochs=20,\n",
        "    batch_size=128,\n",
        "    validation_split=0.2)"
      ]
    },
    {
      "cell_type": "code",
      "execution_count": null,
      "metadata": {
        "id": "FGpYMX1oWkNQ",
        "outputId": "a9084b4b-bb70-4f9d-e424-3d68ca63d4f7",
        "colab": {
          "base_uri": "https://localhost:8080/"
        }
      },
      "outputs": [
        {
          "output_type": "stream",
          "name": "stdout",
          "text": [
            "Epoch 1/20\n",
            "375/375 [==============================] - 3s 4ms/step - loss: 2.3058 - accuracy: 0.1031 - val_loss: 2.3021 - val_accuracy: 0.1123\n",
            "Epoch 2/20\n",
            "375/375 [==============================] - 1s 3ms/step - loss: 2.3016 - accuracy: 0.1109 - val_loss: 2.3025 - val_accuracy: 0.1107\n",
            "Epoch 3/20\n",
            "375/375 [==============================] - 1s 3ms/step - loss: 2.2989 - accuracy: 0.1141 - val_loss: 2.3044 - val_accuracy: 0.1097\n",
            "Epoch 4/20\n",
            "375/375 [==============================] - 2s 4ms/step - loss: 2.2957 - accuracy: 0.1202 - val_loss: 2.3058 - val_accuracy: 0.1095\n",
            "Epoch 5/20\n",
            "375/375 [==============================] - 2s 5ms/step - loss: 2.2908 - accuracy: 0.1267 - val_loss: 2.3089 - val_accuracy: 0.1086\n",
            "Epoch 6/20\n",
            "375/375 [==============================] - 1s 3ms/step - loss: 2.2841 - accuracy: 0.1304 - val_loss: 2.3153 - val_accuracy: 0.1014\n",
            "Epoch 7/20\n",
            "375/375 [==============================] - 1s 3ms/step - loss: 2.2767 - accuracy: 0.1371 - val_loss: 2.3181 - val_accuracy: 0.1056\n",
            "Epoch 8/20\n",
            "375/375 [==============================] - 1s 3ms/step - loss: 2.2670 - accuracy: 0.1498 - val_loss: 2.3295 - val_accuracy: 0.1023\n",
            "Epoch 9/20\n",
            "375/375 [==============================] - 1s 3ms/step - loss: 2.2575 - accuracy: 0.1540 - val_loss: 2.3308 - val_accuracy: 0.1028\n",
            "Epoch 10/20\n",
            "375/375 [==============================] - 1s 4ms/step - loss: 2.2462 - accuracy: 0.1635 - val_loss: 2.3378 - val_accuracy: 0.1037\n",
            "Epoch 11/20\n",
            "375/375 [==============================] - 1s 3ms/step - loss: 2.2342 - accuracy: 0.1693 - val_loss: 2.3624 - val_accuracy: 0.0990\n",
            "Epoch 12/20\n",
            "375/375 [==============================] - 1s 3ms/step - loss: 2.2229 - accuracy: 0.1747 - val_loss: 2.3604 - val_accuracy: 0.1057\n",
            "Epoch 13/20\n",
            "375/375 [==============================] - 1s 3ms/step - loss: 2.2095 - accuracy: 0.1837 - val_loss: 2.3788 - val_accuracy: 0.1007\n",
            "Epoch 14/20\n",
            "375/375 [==============================] - 2s 5ms/step - loss: 2.1955 - accuracy: 0.1924 - val_loss: 2.3904 - val_accuracy: 0.0999\n",
            "Epoch 15/20\n",
            "375/375 [==============================] - 2s 5ms/step - loss: 2.1824 - accuracy: 0.1974 - val_loss: 2.4022 - val_accuracy: 0.1018\n",
            "Epoch 16/20\n",
            "375/375 [==============================] - 1s 3ms/step - loss: 2.1696 - accuracy: 0.2052 - val_loss: 2.4264 - val_accuracy: 0.0985\n",
            "Epoch 17/20\n",
            "375/375 [==============================] - 1s 4ms/step - loss: 2.1550 - accuracy: 0.2139 - val_loss: 2.4269 - val_accuracy: 0.1012\n",
            "Epoch 18/20\n",
            "375/375 [==============================] - 1s 4ms/step - loss: 2.1407 - accuracy: 0.2174 - val_loss: 2.4527 - val_accuracy: 0.1016\n",
            "Epoch 19/20\n",
            "375/375 [==============================] - 1s 3ms/step - loss: 2.1265 - accuracy: 0.2252 - val_loss: 2.4578 - val_accuracy: 0.0993\n",
            "Epoch 20/20\n",
            "375/375 [==============================] - 1s 4ms/step - loss: 2.1144 - accuracy: 0.2302 - val_loss: 2.4809 - val_accuracy: 0.0943\n"
          ]
        }
      ],
      "source": [
        "model = keras.Sequential([\n",
        "    layers.Dense(96, activation=\"relu\"),\n",
        "    layers.Dense(96, activation=\"relu\"),\n",
        "    layers.Dense(10, activation=\"softmax\"),\n",
        "])\n",
        "model.compile(optimizer=\"rmsprop\",\n",
        "              loss=\"sparse_categorical_crossentropy\",\n",
        "              metrics=[\"accuracy\"])\n",
        "history_large_model = model.fit(\n",
        "    train_images, train_labels,\n",
        "    epochs=20,\n",
        "    batch_size=128,\n",
        "    validation_split=0.2)"
      ]
    },
    {
      "cell_type": "markdown",
      "metadata": {
        "id": "PK3gSEkEWkNQ"
      },
      "source": [
        "## Improving generalization"
      ]
    },
    {
      "cell_type": "markdown",
      "metadata": {
        "id": "wFTQmlA_WkNQ"
      },
      "source": [
        "### Dataset curation"
      ]
    },
    {
      "cell_type": "markdown",
      "metadata": {
        "id": "C3whnNvaWkNQ"
      },
      "source": [
        "### Feature engineering"
      ]
    },
    {
      "cell_type": "markdown",
      "metadata": {
        "id": "CzIuUyVvWkNR"
      },
      "source": [
        "### Using early stopping"
      ]
    },
    {
      "cell_type": "markdown",
      "metadata": {
        "id": "TSHsDsdsWkNR"
      },
      "source": [
        "### Regularizing your model"
      ]
    },
    {
      "cell_type": "markdown",
      "metadata": {
        "id": "Bq7ik3FkWkNS"
      },
      "source": [
        "#### Reducing the network's size"
      ]
    },
    {
      "cell_type": "markdown",
      "metadata": {
        "id": "MUveY-UeWkNS"
      },
      "source": [
        "**Original model**"
      ]
    },
    {
      "cell_type": "code",
      "execution_count": null,
      "metadata": {
        "id": "qfvBaNifWkNS",
        "outputId": "a782e8af-be14-4b41-d783-e27b2a9fcd44",
        "colab": {
          "base_uri": "https://localhost:8080/"
        }
      },
      "outputs": [
        {
          "output_type": "stream",
          "name": "stdout",
          "text": [
            "Downloading data from https://storage.googleapis.com/tensorflow/tf-keras-datasets/imdb.npz\n",
            "17464789/17464789 [==============================] - 0s 0us/step\n",
            "Epoch 1/20\n",
            "30/30 [==============================] - 4s 74ms/step - loss: 0.5510 - accuracy: 0.7799 - val_loss: 0.4255 - val_accuracy: 0.8554\n",
            "Epoch 2/20\n",
            "30/30 [==============================] - 1s 27ms/step - loss: 0.3473 - accuracy: 0.8888 - val_loss: 0.3506 - val_accuracy: 0.8605\n",
            "Epoch 3/20\n",
            "30/30 [==============================] - 1s 37ms/step - loss: 0.2608 - accuracy: 0.9122 - val_loss: 0.2865 - val_accuracy: 0.8897\n",
            "Epoch 4/20\n",
            "30/30 [==============================] - 1s 29ms/step - loss: 0.2100 - accuracy: 0.9281 - val_loss: 0.2790 - val_accuracy: 0.8892\n",
            "Epoch 5/20\n",
            "30/30 [==============================] - 1s 34ms/step - loss: 0.1756 - accuracy: 0.9403 - val_loss: 0.2745 - val_accuracy: 0.8905\n",
            "Epoch 6/20\n",
            "30/30 [==============================] - 1s 38ms/step - loss: 0.1497 - accuracy: 0.9520 - val_loss: 0.3087 - val_accuracy: 0.8799\n",
            "Epoch 7/20\n",
            "30/30 [==============================] - 1s 40ms/step - loss: 0.1292 - accuracy: 0.9585 - val_loss: 0.2943 - val_accuracy: 0.8843\n",
            "Epoch 8/20\n",
            "30/30 [==============================] - 1s 39ms/step - loss: 0.1130 - accuracy: 0.9659 - val_loss: 0.3023 - val_accuracy: 0.8846\n",
            "Epoch 9/20\n",
            "30/30 [==============================] - 1s 36ms/step - loss: 0.0997 - accuracy: 0.9707 - val_loss: 0.3592 - val_accuracy: 0.8727\n",
            "Epoch 10/20\n",
            "30/30 [==============================] - 1s 30ms/step - loss: 0.0894 - accuracy: 0.9737 - val_loss: 0.3348 - val_accuracy: 0.8812\n",
            "Epoch 11/20\n",
            "30/30 [==============================] - 1s 39ms/step - loss: 0.0737 - accuracy: 0.9804 - val_loss: 0.3514 - val_accuracy: 0.8798\n",
            "Epoch 12/20\n",
            "30/30 [==============================] - 1s 30ms/step - loss: 0.0685 - accuracy: 0.9807 - val_loss: 0.3683 - val_accuracy: 0.8789\n",
            "Epoch 13/20\n",
            "30/30 [==============================] - 1s 28ms/step - loss: 0.0582 - accuracy: 0.9851 - val_loss: 0.4183 - val_accuracy: 0.8707\n",
            "Epoch 14/20\n",
            "30/30 [==============================] - 1s 30ms/step - loss: 0.0510 - accuracy: 0.9885 - val_loss: 0.4221 - val_accuracy: 0.8742\n",
            "Epoch 15/20\n",
            "30/30 [==============================] - 1s 26ms/step - loss: 0.0426 - accuracy: 0.9915 - val_loss: 0.4322 - val_accuracy: 0.8748\n",
            "Epoch 16/20\n",
            "30/30 [==============================] - 1s 36ms/step - loss: 0.0391 - accuracy: 0.9917 - val_loss: 0.4595 - val_accuracy: 0.8729\n",
            "Epoch 17/20\n",
            "30/30 [==============================] - 1s 47ms/step - loss: 0.0288 - accuracy: 0.9952 - val_loss: 0.5733 - val_accuracy: 0.8584\n",
            "Epoch 18/20\n",
            "30/30 [==============================] - 1s 38ms/step - loss: 0.0294 - accuracy: 0.9943 - val_loss: 0.5220 - val_accuracy: 0.8699\n",
            "Epoch 19/20\n",
            "30/30 [==============================] - 1s 35ms/step - loss: 0.0244 - accuracy: 0.9957 - val_loss: 0.5264 - val_accuracy: 0.8720\n",
            "Epoch 20/20\n",
            "30/30 [==============================] - 1s 24ms/step - loss: 0.0196 - accuracy: 0.9969 - val_loss: 0.5539 - val_accuracy: 0.8697\n"
          ]
        }
      ],
      "source": [
        "from tensorflow.keras.datasets import imdb\n",
        "(train_data, train_labels), _ = imdb.load_data(num_words=10000)\n",
        "\n",
        "def vectorize_sequences(sequences, dimension=10000):\n",
        "    results = np.zeros((len(sequences), dimension))\n",
        "    for i, sequence in enumerate(sequences):\n",
        "        results[i, sequence] = 1.\n",
        "    return results\n",
        "train_data = vectorize_sequences(train_data)\n",
        "\n",
        "model = keras.Sequential([\n",
        "    layers.Dense(16, activation=\"relu\"),\n",
        "    layers.Dense(16, activation=\"relu\"),\n",
        "    layers.Dense(1, activation=\"sigmoid\")\n",
        "])\n",
        "model.compile(optimizer=\"rmsprop\",\n",
        "              loss=\"binary_crossentropy\",\n",
        "              metrics=[\"accuracy\"])\n",
        "history_original = model.fit(train_data, train_labels,\n",
        "                             epochs=20, batch_size=512, validation_split=0.4)"
      ]
    },
    {
      "cell_type": "markdown",
      "metadata": {
        "id": "gr1ntKuTWkNT"
      },
      "source": [
        "**Version of the model with lower capacity**"
      ]
    },
    {
      "cell_type": "code",
      "execution_count": null,
      "metadata": {
        "id": "6rbZdPxUWkNT",
        "outputId": "0ae7fdc2-f855-4804-d854-1a8feae94fcc",
        "colab": {
          "base_uri": "https://localhost:8080/"
        }
      },
      "outputs": [
        {
          "output_type": "stream",
          "name": "stdout",
          "text": [
            "Epoch 1/20\n",
            "30/30 [==============================] - 3s 59ms/step - loss: 0.5929 - accuracy: 0.7375 - val_loss: 0.5043 - val_accuracy: 0.7972\n",
            "Epoch 2/20\n",
            "30/30 [==============================] - 1s 39ms/step - loss: 0.4299 - accuracy: 0.8745 - val_loss: 0.4003 - val_accuracy: 0.8694\n",
            "Epoch 3/20\n",
            "30/30 [==============================] - 1s 30ms/step - loss: 0.3379 - accuracy: 0.8993 - val_loss: 0.3411 - val_accuracy: 0.8779\n",
            "Epoch 4/20\n",
            "30/30 [==============================] - 1s 29ms/step - loss: 0.2788 - accuracy: 0.9157 - val_loss: 0.3087 - val_accuracy: 0.8868\n",
            "Epoch 5/20\n",
            "30/30 [==============================] - 1s 29ms/step - loss: 0.2381 - accuracy: 0.9259 - val_loss: 0.2985 - val_accuracy: 0.8818\n",
            "Epoch 6/20\n",
            "30/30 [==============================] - 1s 41ms/step - loss: 0.2073 - accuracy: 0.9356 - val_loss: 0.2881 - val_accuracy: 0.8845\n",
            "Epoch 7/20\n",
            "30/30 [==============================] - 1s 24ms/step - loss: 0.1841 - accuracy: 0.9421 - val_loss: 0.2750 - val_accuracy: 0.8898\n",
            "Epoch 8/20\n",
            "30/30 [==============================] - 1s 26ms/step - loss: 0.1643 - accuracy: 0.9496 - val_loss: 0.2731 - val_accuracy: 0.8914\n",
            "Epoch 9/20\n",
            "30/30 [==============================] - 1s 24ms/step - loss: 0.1474 - accuracy: 0.9557 - val_loss: 0.2746 - val_accuracy: 0.8896\n",
            "Epoch 10/20\n",
            "30/30 [==============================] - 1s 24ms/step - loss: 0.1329 - accuracy: 0.9597 - val_loss: 0.2806 - val_accuracy: 0.8877\n",
            "Epoch 11/20\n",
            "30/30 [==============================] - 1s 25ms/step - loss: 0.1209 - accuracy: 0.9645 - val_loss: 0.2915 - val_accuracy: 0.8860\n",
            "Epoch 12/20\n",
            "30/30 [==============================] - 1s 26ms/step - loss: 0.1089 - accuracy: 0.9689 - val_loss: 0.2915 - val_accuracy: 0.8854\n",
            "Epoch 13/20\n",
            "30/30 [==============================] - 1s 22ms/step - loss: 0.0989 - accuracy: 0.9733 - val_loss: 0.3028 - val_accuracy: 0.8834\n",
            "Epoch 14/20\n",
            "30/30 [==============================] - 1s 24ms/step - loss: 0.0895 - accuracy: 0.9767 - val_loss: 0.3123 - val_accuracy: 0.8834\n",
            "Epoch 15/20\n",
            "30/30 [==============================] - 1s 23ms/step - loss: 0.0817 - accuracy: 0.9777 - val_loss: 0.3216 - val_accuracy: 0.8830\n",
            "Epoch 16/20\n",
            "30/30 [==============================] - 1s 23ms/step - loss: 0.0737 - accuracy: 0.9817 - val_loss: 0.3354 - val_accuracy: 0.8803\n",
            "Epoch 17/20\n",
            "30/30 [==============================] - 1s 25ms/step - loss: 0.0668 - accuracy: 0.9846 - val_loss: 0.3473 - val_accuracy: 0.8808\n",
            "Epoch 18/20\n",
            "30/30 [==============================] - 1s 23ms/step - loss: 0.0610 - accuracy: 0.9857 - val_loss: 0.3604 - val_accuracy: 0.8787\n",
            "Epoch 19/20\n",
            "30/30 [==============================] - 1s 23ms/step - loss: 0.0548 - accuracy: 0.9875 - val_loss: 0.3815 - val_accuracy: 0.8774\n",
            "Epoch 20/20\n",
            "30/30 [==============================] - 1s 29ms/step - loss: 0.0496 - accuracy: 0.9899 - val_loss: 0.3918 - val_accuracy: 0.8771\n"
          ]
        }
      ],
      "source": [
        "model = keras.Sequential([\n",
        "    layers.Dense(4, activation=\"relu\"),\n",
        "    layers.Dense(4, activation=\"relu\"),\n",
        "    layers.Dense(1, activation=\"sigmoid\")\n",
        "])\n",
        "model.compile(optimizer=\"rmsprop\",\n",
        "              loss=\"binary_crossentropy\",\n",
        "              metrics=[\"accuracy\"])\n",
        "history_smaller_model = model.fit(\n",
        "    train_data, train_labels,\n",
        "    epochs=20, batch_size=512, validation_split=0.4)"
      ]
    },
    {
      "cell_type": "markdown",
      "metadata": {
        "id": "ZBcPSTzoWkNU"
      },
      "source": [
        "**Version of the model with higher capacity**"
      ]
    },
    {
      "cell_type": "code",
      "execution_count": null,
      "metadata": {
        "id": "SOMTo5lxWkNU",
        "outputId": "d9b76055-133a-405b-e7f0-e4fa8836d639",
        "colab": {
          "base_uri": "https://localhost:8080/"
        }
      },
      "outputs": [
        {
          "output_type": "stream",
          "name": "stdout",
          "text": [
            "Epoch 1/20\n",
            "30/30 [==============================] - 3s 60ms/step - loss: 0.5760 - accuracy: 0.7288 - val_loss: 0.4992 - val_accuracy: 0.7462\n",
            "Epoch 2/20\n",
            "30/30 [==============================] - 1s 28ms/step - loss: 0.3168 - accuracy: 0.8711 - val_loss: 0.2816 - val_accuracy: 0.8842\n",
            "Epoch 3/20\n",
            "30/30 [==============================] - 1s 28ms/step - loss: 0.2669 - accuracy: 0.8941 - val_loss: 0.2829 - val_accuracy: 0.8827\n",
            "Epoch 4/20\n",
            "30/30 [==============================] - 1s 28ms/step - loss: 0.1917 - accuracy: 0.9272 - val_loss: 0.2830 - val_accuracy: 0.8867\n",
            "Epoch 5/20\n",
            "30/30 [==============================] - 1s 28ms/step - loss: 0.1453 - accuracy: 0.9449 - val_loss: 0.2904 - val_accuracy: 0.8882\n",
            "Epoch 6/20\n",
            "30/30 [==============================] - 1s 32ms/step - loss: 0.1101 - accuracy: 0.9621 - val_loss: 0.4762 - val_accuracy: 0.8449\n",
            "Epoch 7/20\n",
            "30/30 [==============================] - 1s 42ms/step - loss: 0.1074 - accuracy: 0.9582 - val_loss: 0.3294 - val_accuracy: 0.8831\n",
            "Epoch 8/20\n",
            "30/30 [==============================] - 1s 33ms/step - loss: 0.0798 - accuracy: 0.9765 - val_loss: 0.3151 - val_accuracy: 0.8845\n",
            "Epoch 9/20\n",
            "30/30 [==============================] - 1s 27ms/step - loss: 0.0190 - accuracy: 0.9977 - val_loss: 0.4134 - val_accuracy: 0.8830\n",
            "Epoch 10/20\n",
            "30/30 [==============================] - 1s 49ms/step - loss: 0.0878 - accuracy: 0.9817 - val_loss: 0.3919 - val_accuracy: 0.8833\n",
            "Epoch 11/20\n",
            "30/30 [==============================] - 1s 28ms/step - loss: 0.0064 - accuracy: 0.9996 - val_loss: 0.4741 - val_accuracy: 0.8830\n",
            "Epoch 12/20\n",
            "30/30 [==============================] - 1s 28ms/step - loss: 0.0903 - accuracy: 0.9804 - val_loss: 0.3996 - val_accuracy: 0.8832\n",
            "Epoch 13/20\n",
            "30/30 [==============================] - 1s 29ms/step - loss: 0.0049 - accuracy: 1.0000 - val_loss: 0.4907 - val_accuracy: 0.8835\n",
            "Epoch 14/20\n",
            "30/30 [==============================] - 1s 28ms/step - loss: 0.0019 - accuracy: 1.0000 - val_loss: 0.5650 - val_accuracy: 0.8841\n",
            "Epoch 15/20\n",
            "30/30 [==============================] - 1s 27ms/step - loss: 0.1050 - accuracy: 0.9823 - val_loss: 0.4579 - val_accuracy: 0.8828\n",
            "Epoch 16/20\n",
            "30/30 [==============================] - 1s 27ms/step - loss: 0.0025 - accuracy: 1.0000 - val_loss: 0.5119 - val_accuracy: 0.8842\n",
            "Epoch 17/20\n",
            "30/30 [==============================] - 1s 27ms/step - loss: 0.0012 - accuracy: 1.0000 - val_loss: 0.5815 - val_accuracy: 0.8833\n",
            "Epoch 18/20\n",
            "30/30 [==============================] - 1s 28ms/step - loss: 6.8360e-04 - accuracy: 1.0000 - val_loss: 0.6259 - val_accuracy: 0.8833\n",
            "Epoch 19/20\n",
            "30/30 [==============================] - 1s 28ms/step - loss: 4.3669e-04 - accuracy: 1.0000 - val_loss: 0.6638 - val_accuracy: 0.8832\n",
            "Epoch 20/20\n",
            "30/30 [==============================] - 1s 43ms/step - loss: 3.0767e-04 - accuracy: 1.0000 - val_loss: 0.6909 - val_accuracy: 0.8833\n"
          ]
        }
      ],
      "source": [
        "model = keras.Sequential([\n",
        "    layers.Dense(512, activation=\"relu\"),\n",
        "    layers.Dense(512, activation=\"relu\"),\n",
        "    layers.Dense(1, activation=\"sigmoid\")\n",
        "])\n",
        "model.compile(optimizer=\"rmsprop\",\n",
        "              loss=\"binary_crossentropy\",\n",
        "              metrics=[\"accuracy\"])\n",
        "history_larger_model = model.fit(\n",
        "    train_data, train_labels,\n",
        "    epochs=20, batch_size=512, validation_split=0.4)"
      ]
    },
    {
      "cell_type": "code",
      "source": [
        "import matplotlib.pyplot as plt\n",
        "val_loss_small_model = history_smaller_model.history[\"val_loss\"]\n",
        "val_loss_large_model = history_larger_model.history['val_loss']\n",
        "val_loss_original_model = history_original.history['val_loss']\n",
        "epochs = range(1, 21)\n",
        "plt.plot(epochs, val_loss_small_model, \"b--\",\n",
        "         label=\"Validation loss of smaller model\")\n",
        "plt.plot(epochs, val_loss_large_model, \"r--\",\n",
        "         label=\"Validation loss of larger model\")\n",
        "plt.plot(epochs, val_loss_original_model, \"c--\",\n",
        "         label=\"Validation loss of original model\")\n",
        "plt.title(\"Effect of insufficient model capacity on validation loss\")\n",
        "plt.xlabel(\"Epochs\")\n",
        "plt.ylabel(\"Loss\")\n",
        "plt.legend()\n",
        "plt.show()"
      ],
      "metadata": {
        "id": "rlOuhkrM5sdY",
        "outputId": "bb9b4992-86ac-4d25-b144-cd951ff590d6",
        "colab": {
          "base_uri": "https://localhost:8080/",
          "height": 472
        }
      },
      "execution_count": null,
      "outputs": [
        {
          "output_type": "display_data",
          "data": {
            "text/plain": [
              "<Figure size 640x480 with 1 Axes>"
            ],
            "image/png": "[encoded data removed]"
          },
          "metadata": {}
        }
      ]
    },
    {
      "cell_type": "markdown",
      "metadata": {
        "id": "bGun7XMvWkNU"
      },
      "source": [
        "#### Adding weight regularization"
      ]
    },
    {
      "cell_type": "markdown",
      "metadata": {
        "id": "fAo853NVWkNU"
      },
      "source": [
        "**Adding L2 weight regularization to the model**"
      ]
    },
    {
      "cell_type": "code",
      "execution_count": null,
      "metadata": {
        "id": "8rT58fz0WkNV"
      },
      "outputs": [],
      "source": [
        "from tensorflow.keras import regularizers\n",
        "model = keras.Sequential([\n",
        "    layers.Dense(16,\n",
        "                 kernel_regularizer=regularizers.l2(0.002),\n",
        "                 activation=\"relu\"),\n",
        "    layers.Dense(16,\n",
        "                 kernel_regularizer=regularizers.l2(0.002),\n",
        "                 activation=\"relu\"),\n",
        "    layers.Dense(1, activation=\"sigmoid\")\n",
        "])\n",
        "model.compile(optimizer=\"rmsprop\",\n",
        "              loss=\"binary_crossentropy\",\n",
        "              metrics=[\"accuracy\"])\n",
        "history_l2_reg = model.fit(\n",
        "    train_data, train_labels,\n",
        "    epochs=20, batch_size=512, validation_split=0.4)"
      ]
    },
    {
      "cell_type": "markdown",
      "metadata": {
        "id": "-7nfP8VBWkNV"
      },
      "source": [
        "**Different weight regularizers available in Keras**"
      ]
    },
    {
      "cell_type": "code",
      "execution_count": null,
      "metadata": {
        "id": "UiR22rSCWkNV"
      },
      "outputs": [],
      "source": [
        "from tensorflow.keras import regularizers\n",
        "regularizers.l1(0.001)\n",
        "regularizers.l1_l2(l1=0.001, l2=0.001)"
      ]
    },
    {
      "cell_type": "markdown",
      "metadata": {
        "id": "U5jA0LX3WkNV"
      },
      "source": [
        "#### Adding dropout"
      ]
    },
    {
      "cell_type": "markdown",
      "metadata": {
        "id": "Gl4cI0wBWkNW"
      },
      "source": [
        "**Adding dropout to the IMDB model**"
      ]
    },
    {
      "cell_type": "code",
      "execution_count": null,
      "metadata": {
        "id": "EllhKxmuWkNW",
        "outputId": "ee3f4197-3962-48a8-9cd9-c233d80a7c19",
        "colab": {
          "base_uri": "https://localhost:8080/"
        }
      },
      "outputs": [
        {
          "output_type": "stream",
          "name": "stdout",
          "text": [
            "Epoch 1/20\n",
            "30/30 [==============================] - 5s 122ms/step - loss: 0.6570 - accuracy: 0.6065 - val_loss: 0.6051 - val_accuracy: 0.7978\n",
            "Epoch 2/20\n",
            "30/30 [==============================] - 1s 25ms/step - loss: 0.5794 - accuracy: 0.7689 - val_loss: 0.5333 - val_accuracy: 0.8573\n",
            "Epoch 3/20\n",
            "30/30 [==============================] - 1s 31ms/step - loss: 0.5129 - accuracy: 0.8191 - val_loss: 0.4574 - val_accuracy: 0.8706\n",
            "Epoch 4/20\n",
            "30/30 [==============================] - 1s 32ms/step - loss: 0.4536 - accuracy: 0.8534 - val_loss: 0.4170 - val_accuracy: 0.8819\n",
            "Epoch 5/20\n",
            "30/30 [==============================] - 1s 29ms/step - loss: 0.4064 - accuracy: 0.8743 - val_loss: 0.3793 - val_accuracy: 0.8736\n",
            "Epoch 6/20\n",
            "30/30 [==============================] - 1s 42ms/step - loss: 0.3616 - accuracy: 0.8943 - val_loss: 0.3425 - val_accuracy: 0.8885\n",
            "Epoch 7/20\n",
            "30/30 [==============================] - 1s 44ms/step - loss: 0.3248 - accuracy: 0.9099 - val_loss: 0.3310 - val_accuracy: 0.8885\n",
            "Epoch 8/20\n",
            "30/30 [==============================] - 1s 25ms/step - loss: 0.2956 - accuracy: 0.9202 - val_loss: 0.3087 - val_accuracy: 0.8903\n",
            "Epoch 9/20\n",
            "30/30 [==============================] - 1s 25ms/step - loss: 0.2689 - accuracy: 0.9267 - val_loss: 0.3318 - val_accuracy: 0.8865\n",
            "Epoch 10/20\n",
            "30/30 [==============================] - 1s 29ms/step - loss: 0.2425 - accuracy: 0.9386 - val_loss: 0.3464 - val_accuracy: 0.8831\n",
            "Epoch 11/20\n",
            "30/30 [==============================] - 1s 25ms/step - loss: 0.2209 - accuracy: 0.9445 - val_loss: 0.3088 - val_accuracy: 0.8890\n",
            "Epoch 12/20\n",
            "30/30 [==============================] - 1s 40ms/step - loss: 0.2097 - accuracy: 0.9460 - val_loss: 0.3778 - val_accuracy: 0.8806\n",
            "Epoch 13/20\n",
            "30/30 [==============================] - 1s 37ms/step - loss: 0.1826 - accuracy: 0.9545 - val_loss: 0.3286 - val_accuracy: 0.8874\n",
            "Epoch 14/20\n",
            "30/30 [==============================] - 2s 53ms/step - loss: 0.1709 - accuracy: 0.9580 - val_loss: 0.3942 - val_accuracy: 0.8811\n",
            "Epoch 15/20\n",
            "30/30 [==============================] - 2s 51ms/step - loss: 0.1584 - accuracy: 0.9601 - val_loss: 0.3652 - val_accuracy: 0.8859\n",
            "Epoch 16/20\n",
            "30/30 [==============================] - 1s 25ms/step - loss: 0.1474 - accuracy: 0.9634 - val_loss: 0.4188 - val_accuracy: 0.8829\n",
            "Epoch 17/20\n",
            "30/30 [==============================] - 1s 24ms/step - loss: 0.1386 - accuracy: 0.9657 - val_loss: 0.4967 - val_accuracy: 0.8747\n",
            "Epoch 18/20\n",
            "30/30 [==============================] - 1s 23ms/step - loss: 0.1258 - accuracy: 0.9705 - val_loss: 0.4652 - val_accuracy: 0.8819\n",
            "Epoch 19/20\n",
            "30/30 [==============================] - 1s 31ms/step - loss: 0.1216 - accuracy: 0.9700 - val_loss: 0.4318 - val_accuracy: 0.8830\n",
            "Epoch 20/20\n",
            "30/30 [==============================] - 1s 25ms/step - loss: 0.1163 - accuracy: 0.9710 - val_loss: 0.5068 - val_accuracy: 0.8798\n"
          ]
        }
      ],
      "source": [
        "model = keras.Sequential([\n",
        "    layers.Dense(16, activation=\"relu\"),\n",
        "    layers.Dropout(0.5),\n",
        "    layers.Dense(16, activation=\"relu\"),\n",
        "    layers.Dropout(0.5),\n",
        "    layers.Dense(1, activation=\"sigmoid\")\n",
        "])\n",
        "model.compile(optimizer=\"rmsprop\",\n",
        "              loss=\"binary_crossentropy\",\n",
        "              metrics=[\"accuracy\"])\n",
        "history_dropout = model.fit(\n",
        "    train_data, train_labels,\n",
        "    epochs=20, batch_size=512, validation_split=0.4)"
      ]
    },
    {
      "cell_type": "code",
      "source": [
        "model = keras.Sequential([\n",
        "    layers.Dense(16, activation=\"relu\"),\n",
        "    \n",
        "    layers.Dense(16, activation=\"relu\"),\n",
        "    \n",
        "    layers.Dense(1, activation=\"sigmoid\")\n",
        "])\n",
        "model.compile(optimizer=\"rmsprop\",\n",
        "              loss=\"binary_crossentropy\",\n",
        "              metrics=[\"accuracy\"])\n",
        "history_original = model.fit(\n",
        "    train_data, train_labels,\n",
        "    epochs=20, batch_size=512, validation_split=0.4)"
      ],
      "metadata": {
        "id": "vflF7PrE8HwS",
        "outputId": "d75fb7a8-b505-4d18-f6b4-bb3fe364d4f9",
        "colab": {
          "base_uri": "https://localhost:8080/"
        }
      },
      "execution_count": null,
      "outputs": [
        {
          "output_type": "stream",
          "name": "stdout",
          "text": [
            "Epoch 1/20\n",
            "30/30 [==============================] - 4s 63ms/step - loss: 0.5567 - accuracy: 0.7657 - val_loss: 0.4408 - val_accuracy: 0.8675\n",
            "Epoch 2/20\n",
            "30/30 [==============================] - 1s 22ms/step - loss: 0.3620 - accuracy: 0.8895 - val_loss: 0.3389 - val_accuracy: 0.8823\n",
            "Epoch 3/20\n",
            "30/30 [==============================] - 1s 27ms/step - loss: 0.2702 - accuracy: 0.9128 - val_loss: 0.2933 - val_accuracy: 0.8909\n",
            "Epoch 4/20\n",
            "30/30 [==============================] - 1s 25ms/step - loss: 0.2151 - accuracy: 0.9325 - val_loss: 0.3024 - val_accuracy: 0.8788\n",
            "Epoch 5/20\n",
            "30/30 [==============================] - 1s 22ms/step - loss: 0.1809 - accuracy: 0.9435 - val_loss: 0.3002 - val_accuracy: 0.8799\n",
            "Epoch 6/20\n",
            "30/30 [==============================] - 1s 24ms/step - loss: 0.1562 - accuracy: 0.9509 - val_loss: 0.2905 - val_accuracy: 0.8852\n",
            "Epoch 7/20\n",
            "30/30 [==============================] - 1s 23ms/step - loss: 0.1324 - accuracy: 0.9597 - val_loss: 0.2906 - val_accuracy: 0.8869\n",
            "Epoch 8/20\n",
            "30/30 [==============================] - 1s 26ms/step - loss: 0.1137 - accuracy: 0.9665 - val_loss: 0.3015 - val_accuracy: 0.8857\n",
            "Epoch 9/20\n",
            "30/30 [==============================] - 1s 23ms/step - loss: 0.0980 - accuracy: 0.9721 - val_loss: 0.3697 - val_accuracy: 0.8700\n",
            "Epoch 10/20\n",
            "30/30 [==============================] - 1s 23ms/step - loss: 0.0843 - accuracy: 0.9758 - val_loss: 0.3521 - val_accuracy: 0.8765\n",
            "Epoch 11/20\n",
            "30/30 [==============================] - 1s 24ms/step - loss: 0.0749 - accuracy: 0.9807 - val_loss: 0.3605 - val_accuracy: 0.8779\n",
            "Epoch 12/20\n",
            "30/30 [==============================] - 1s 23ms/step - loss: 0.0645 - accuracy: 0.9843 - val_loss: 0.3742 - val_accuracy: 0.8767\n",
            "Epoch 13/20\n",
            "30/30 [==============================] - 1s 23ms/step - loss: 0.0554 - accuracy: 0.9869 - val_loss: 0.3921 - val_accuracy: 0.8785\n",
            "Epoch 14/20\n",
            "30/30 [==============================] - 1s 23ms/step - loss: 0.0461 - accuracy: 0.9901 - val_loss: 0.4199 - val_accuracy: 0.8759\n",
            "Epoch 15/20\n",
            "30/30 [==============================] - 1s 39ms/step - loss: 0.0409 - accuracy: 0.9909 - val_loss: 0.4336 - val_accuracy: 0.8764\n",
            "Epoch 16/20\n",
            "30/30 [==============================] - 1s 41ms/step - loss: 0.0329 - accuracy: 0.9941 - val_loss: 0.4599 - val_accuracy: 0.8742\n",
            "Epoch 17/20\n",
            "30/30 [==============================] - 1s 27ms/step - loss: 0.0286 - accuracy: 0.9946 - val_loss: 0.5433 - val_accuracy: 0.8597\n",
            "Epoch 18/20\n",
            "30/30 [==============================] - 1s 22ms/step - loss: 0.0261 - accuracy: 0.9951 - val_loss: 0.5038 - val_accuracy: 0.8718\n",
            "Epoch 19/20\n",
            "30/30 [==============================] - 1s 25ms/step - loss: 0.0204 - accuracy: 0.9967 - val_loss: 0.5251 - val_accuracy: 0.8714\n",
            "Epoch 20/20\n",
            "30/30 [==============================] - 1s 23ms/step - loss: 0.0160 - accuracy: 0.9981 - val_loss: 0.5511 - val_accuracy: 0.8715\n"
          ]
        }
      ]
    },
    {
      "cell_type": "code",
      "source": [
        "import matplotlib.pyplot as plt\n",
        "val_loss_dropout_model = history_dropout.history[\"val_loss\"]\n",
        "val_loss_original_model = history_original.history['val_loss']\n",
        "epochs = range(1, 21)\n",
        "plt.plot(epochs, val_loss_dropout_model, \"b--\",\n",
        "         label=\"Validation loss of dropout model\")\n",
        "plt.plot(epochs, val_loss_original_model, \"c--\",\n",
        "         label=\"Validation loss of original model\")\n",
        "plt.title(\"Effect of dropout on validation loss\")\n",
        "plt.xlabel(\"Epochs\")\n",
        "plt.ylabel(\"Loss\")\n",
        "plt.legend()\n",
        "plt.show()"
      ],
      "metadata": {
        "id": "FWzUUTax8VE-",
        "outputId": "6ed6c90a-070f-4a56-9aca-48f290523885",
        "colab": {
          "base_uri": "https://localhost:8080/",
          "height": 472
        }
      },
      "execution_count": null,
      "outputs": [
        {
          "output_type": "display_data",
          "data": {
            "text/plain": [
              "<Figure size 640x480 with 1 Axes>"
            ],
            "image/png": "[encoded data removed]"
          },
          "metadata": {}
        }
      ]
    },
    {
      "cell_type": "markdown",
      "source": [
        "accuracy도 중요.\n",
        "\n",
        "이 그래프가 시사하는 바는 드롭아웃의 효과. 과적합의 지연?"
      ],
      "metadata": {
        "id": "zrZQfT6UANpD"
      }
    },
    {
      "cell_type": "markdown",
      "metadata": {
        "id": "SlYEvWunWkNX"
      },
      "source": [
        "## Summary"
      ]
    }
  ],
  "metadata": {
    "colab": {
      "name": "chapter05_fundamentals-of-ml.i",
      "provenance": [],
      "toc_visible": true,
      "include_colab_link": true
    },
    "kernelspec": {
      "display_name": "Python 3",
      "language": "python",
      "name": "python3"
    },
    "language_info": {
      "codemirror_mode": {
        "name": "ipython",
        "version": 3
      },
      "file_extension": ".py",
      "mimetype": "text/x-python",
      "name": "python",
      "nbconvert_exporter": "python",
      "pygments_lexer": "ipython3",
      "version": "3.7.0"
    },
    "accelerator": "GPU",
    "gpuClass": "standard"
  },
  "nbformat": 4,
  "nbformat_minor": 0
}