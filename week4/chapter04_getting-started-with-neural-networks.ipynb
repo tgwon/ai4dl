{
  "cells": [
    {
      "cell_type": "markdown",
      "metadata": {
        "id": "view-in-github",
        "colab_type": "text"
      },
      "source": [
        "<a href=\"https://colab.research.google.com/github/ytg000629/ai4dl/blob/main/week4/chapter04_getting-started-with-neural-networks.ipynb\" target=\"_parent\"><img src=\"https://colab.research.google.com/assets/colab-badge.svg\" alt=\"Open In Colab\"/></a>"
      ]
    },
    {
      "cell_type": "markdown",
      "metadata": {
        "id": "ylQSOho8x3Gn"
      },
      "source": [
        "This is a companion notebook for the book [Deep Learning with Python, Second Edition](https://www.manning.com/books/deep-learning-with-python-second-edition?a_aid=keras&a_bid=76564dff). For readability, it only contains runnable code blocks and section titles, and omits everything else in the book: text paragraphs, figures, and pseudocode.\n",
        "\n",
        "**If you want to be able to follow what's going on, I recommend reading the notebook side by side with your copy of the book.**\n",
        "\n",
        "This notebook was generated for TensorFlow 2.6."
      ]
    },
    {
      "cell_type": "markdown",
      "metadata": {
        "id": "GxqJ0LuGx3Gt"
      },
      "source": [
        "# Getting started with neural networks: Classification and regression"
      ]
    },
    {
      "cell_type": "markdown",
      "metadata": {
        "id": "mnYoNI39x3Gu"
      },
      "source": [
        "## Classifying movie reviews: A binary classification example"
      ]
    },
    {
      "cell_type": "markdown",
      "metadata": {
        "id": "4YuX5TqFx3Gv"
      },
      "source": [
        "### The IMDB dataset"
      ]
    },
    {
      "cell_type": "markdown",
      "metadata": {
        "id": "syOfd-W_x3Gv"
      },
      "source": [
        "**Loading the IMDB dataset**"
      ]
    },
    {
      "cell_type": "code",
      "source": [
        "?imdb.load_data"
      ],
      "metadata": {
        "colab": {
          "base_uri": "https://localhost:8080/"
        },
        "id": "zu7BsfeU4iNr",
        "outputId": "8561b414-a4bc-44bd-fbfb-17625d2c075c"
      },
      "execution_count": null,
      "outputs": [
        {
          "output_type": "stream",
          "name": "stdout",
          "text": [
            "Object `imdb.load_data` not found.\n"
          ]
        }
      ]
    },
    {
      "cell_type": "code",
      "execution_count": 107,
      "metadata": {
        "id": "jwUbqtCWx3Gw"
      },
      "outputs": [],
      "source": [
        "from tensorflow.keras.datasets import imdb\n",
        "(train_data, train_labels), (test_data, test_labels) = imdb.load_data(\n",
        "    num_words=10000)\n",
        "#num_words\n",
        "#등장 빈도 순위로 몇 등까지의 단어를 사용할 것인지\n",
        "#10,000을 넣으면, 등장 빈도 순위가 1~10,000에 해당하는 단어만 사용\n",
        "#단어 집합의 크기는 10,000\n",
        "\n",
        "#토큰화와 정수 인코딩이라는 텍스트 전처리가 끝난 상태\n",
        "#IMDB 리뷰 데이터는 전체 데이터에서 각 단어들의 등장 빈도에 따라서 인덱스를 부여"
      ]
    },
    {
      "cell_type": "code",
      "source": [
        "train_data.shape"
      ],
      "metadata": {
        "colab": {
          "base_uri": "https://localhost:8080/"
        },
        "id": "E0_M_IGkGmXp",
        "outputId": "21595607-1928-47f6-9ef9-f46c5fdfc646"
      },
      "execution_count": 108,
      "outputs": [
        {
          "output_type": "execute_result",
          "data": {
            "text/plain": [
              "(25000,)"
            ]
          },
          "metadata": {},
          "execution_count": 108
        }
      ]
    },
    {
      "cell_type": "code",
      "execution_count": 109,
      "metadata": {
        "colab": {
          "base_uri": "https://localhost:8080/"
        },
        "id": "B0X-w_Pdx3Gy",
        "outputId": "5a5831b8-9001-469d-ebc7-667bc8245786"
      },
      "outputs": [
        {
          "output_type": "execute_result",
          "data": {
            "text/plain": [
              "[1,\n",
              " 14,\n",
              " 22,\n",
              " 16,\n",
              " 43,\n",
              " 530,\n",
              " 973,\n",
              " 1622,\n",
              " 1385,\n",
              " 65,\n",
              " 458,\n",
              " 4468,\n",
              " 66,\n",
              " 3941,\n",
              " 4,\n",
              " 173,\n",
              " 36,\n",
              " 256,\n",
              " 5,\n",
              " 25]"
            ]
          },
          "metadata": {},
          "execution_count": 109
        }
      ],
      "source": [
        "train_data[0][:20]\n",
        "#실제 순위에서 +3 된 정수들임\n",
        "#(맵핑된 수 - 3)은 몇번째로 많이 반복된 단어인가를 나타냄\n",
        "#IMDB 리뷰 데이터셋에서는 0, 1, 2, 3은 특별 토큰으로 취급하고 있음. 그래서 정수 4부터가 실제 IMDB 리뷰 데이터셋에서 빈도수가 가장 높은 실제 영단어"
      ]
    },
    {
      "cell_type": "code",
      "source": [
        "len(train_data[0])"
      ],
      "metadata": {
        "colab": {
          "base_uri": "https://localhost:8080/"
        },
        "id": "wAVCykJFINP9",
        "outputId": "e4639113-e5f5-4e59-ca52-e11e0a6d9632"
      },
      "execution_count": 111,
      "outputs": [
        {
          "output_type": "execute_result",
          "data": {
            "text/plain": [
              "218"
            ]
          },
          "metadata": {},
          "execution_count": 111
        }
      ]
    },
    {
      "cell_type": "code",
      "execution_count": 112,
      "metadata": {
        "colab": {
          "base_uri": "https://localhost:8080/"
        },
        "id": "Tm1kEUknx3Gz",
        "outputId": "13388b2f-18b8-4fbf-cc40-2ac604c15948"
      },
      "outputs": [
        {
          "output_type": "execute_result",
          "data": {
            "text/plain": [
              "1"
            ]
          },
          "metadata": {},
          "execution_count": 112
        }
      ],
      "source": [
        "train_labels[0]\n",
        "#positive 1\n",
        "#negative 0"
      ]
    },
    {
      "cell_type": "code",
      "source": [
        "[ 3*i if (i*3 > 5) else 0 for i in range(3)]"
      ],
      "metadata": {
        "colab": {
          "base_uri": "https://localhost:8080/"
        },
        "id": "CMlfo7tP-skx",
        "outputId": "9e4b8812-2cf9-400e-a13d-7f157bef1630"
      },
      "execution_count": 113,
      "outputs": [
        {
          "output_type": "execute_result",
          "data": {
            "text/plain": [
              "[0, 0, 6]"
            ]
          },
          "metadata": {},
          "execution_count": 113
        }
      ]
    },
    {
      "cell_type": "code",
      "source": [
        "[ 3*i for i in range(3) if (i*3 > 5)]"
      ],
      "metadata": {
        "colab": {
          "base_uri": "https://localhost:8080/"
        },
        "id": "LfhpJQBK-5Py",
        "outputId": "981079f5-be3d-4168-9de7-688772c153c5"
      },
      "execution_count": 114,
      "outputs": [
        {
          "output_type": "execute_result",
          "data": {
            "text/plain": [
              "[6]"
            ]
          },
          "metadata": {},
          "execution_count": 114
        }
      ]
    },
    {
      "cell_type": "code",
      "execution_count": 115,
      "metadata": {
        "colab": {
          "base_uri": "https://localhost:8080/"
        },
        "id": "uMF-oMoPx3G0",
        "outputId": "8976024b-018e-45f0-ded8-ed345a43c32d"
      },
      "outputs": [
        {
          "output_type": "execute_result",
          "data": {
            "text/plain": [
              "9999"
            ]
          },
          "metadata": {},
          "execution_count": 115
        }
      ],
      "source": [
        "max([max(sequence) for sequence in train_data])\n",
        "#num_words 를 10000으로 했기 때문"
      ]
    },
    {
      "cell_type": "markdown",
      "metadata": {
        "id": "qEIHzY6xx3G0"
      },
      "source": [
        "**Decoding reviews back to text**"
      ]
    },
    {
      "cell_type": "code",
      "execution_count": 116,
      "metadata": {
        "id": "KOujAGFsx3G1"
      },
      "outputs": [],
      "source": [
        "#실제 순위\n",
        "word_index = imdb.get_word_index()\n",
        "reverse_word_index = dict(\n",
        "    [(value, key) for (key, value) in word_index.items()])\n",
        "decoded_review = \" \".join(\n",
        "    [reverse_word_index.get(i - 3, \"?\") for i in train_data[0]])\n",
        "\n",
        "#items() 사용해서 딕셔너리에 있는 키와 값들의 쌍을 얻기\n",
        "\n",
        "#get(x) 함수는 x라는 Key에 대응되는 Value를 리턴\n",
        "#딕셔너리 안에 찾으려는 Key가 없을 경우 미리 정해 둔 디폴트 값을 대신 가져오게 함 -> \"?\"\"\n",
        "\n",
        "#'구분자'.join(list)를 이용하면 list의 값과 값 사이에 '구분자'에 들어온 구분자를 넣어서 하나의 문자열로 합쳐줌"
      ]
    },
    {
      "cell_type": "code",
      "source": [
        "from itertools import islice\n",
        "#딕셔너리 일부만 출력하려고"
      ],
      "metadata": {
        "id": "9mrgSx6JHuOA"
      },
      "execution_count": 117,
      "outputs": []
    },
    {
      "cell_type": "code",
      "source": [
        "dict(islice(imdb.get_word_index().items(), 20))\n",
        "# imdb.get_word_index()에 각 단어와 맵핑되는 정수가 저장되어져 있음 -> 실제로 각각의 수는 몇번째로 많이 반복된 단어인가를 나타냄\n",
        "# imdb.get_word_index()에 저장된 값에 +3을 해야 실제 맵핑되는 정수임. 이건 그냥 IMDB 리뷰 데이터셋에서 정한 규칙"
      ],
      "metadata": {
        "colab": {
          "base_uri": "https://localhost:8080/"
        },
        "id": "CHZYlx5l7FgW",
        "outputId": "1f588397-dc26-477d-c820-2cb6b5a75a15"
      },
      "execution_count": 118,
      "outputs": [
        {
          "output_type": "execute_result",
          "data": {
            "text/plain": [
              "{'fawn': 34701,\n",
              " 'tsukino': 52006,\n",
              " 'nunnery': 52007,\n",
              " 'sonja': 16816,\n",
              " 'vani': 63951,\n",
              " 'woods': 1408,\n",
              " 'spiders': 16115,\n",
              " 'hanging': 2345,\n",
              " 'woody': 2289,\n",
              " 'trawling': 52008,\n",
              " \"hold's\": 52009,\n",
              " 'comically': 11307,\n",
              " 'localized': 40830,\n",
              " 'disobeying': 30568,\n",
              " \"'royale\": 52010,\n",
              " \"harpo's\": 40831,\n",
              " 'canet': 52011,\n",
              " 'aileen': 19313,\n",
              " 'acurately': 52012,\n",
              " \"diplomat's\": 52013}"
            ]
          },
          "metadata": {},
          "execution_count": 118
        }
      ]
    },
    {
      "cell_type": "code",
      "source": [
        "imdb.get_word_index().get('the')"
      ],
      "metadata": {
        "colab": {
          "base_uri": "https://localhost:8080/"
        },
        "id": "T4fAytBHGZfC",
        "outputId": "6ed2f9e2-def4-4cac-f13a-18c1f00b7753"
      },
      "execution_count": 119,
      "outputs": [
        {
          "output_type": "execute_result",
          "data": {
            "text/plain": [
              "1"
            ]
          },
          "metadata": {},
          "execution_count": 119
        }
      ]
    },
    {
      "cell_type": "code",
      "source": [
        "dict(islice(reverse_word_index.items(), 20))\n",
        "#key와 value를 바꿈"
      ],
      "metadata": {
        "colab": {
          "base_uri": "https://localhost:8080/"
        },
        "id": "UTBEklCJ7bKQ",
        "outputId": "72f70434-f0eb-42d3-b616-e5dbc13ac0a7"
      },
      "execution_count": 120,
      "outputs": [
        {
          "output_type": "execute_result",
          "data": {
            "text/plain": [
              "{34701: 'fawn',\n",
              " 52006: 'tsukino',\n",
              " 52007: 'nunnery',\n",
              " 16816: 'sonja',\n",
              " 63951: 'vani',\n",
              " 1408: 'woods',\n",
              " 16115: 'spiders',\n",
              " 2345: 'hanging',\n",
              " 2289: 'woody',\n",
              " 52008: 'trawling',\n",
              " 52009: \"hold's\",\n",
              " 11307: 'comically',\n",
              " 40830: 'localized',\n",
              " 30568: 'disobeying',\n",
              " 52010: \"'royale\",\n",
              " 40831: \"harpo's\",\n",
              " 52011: 'canet',\n",
              " 19313: 'aileen',\n",
              " 52012: 'acurately',\n",
              " 52013: \"diplomat's\"}"
            ]
          },
          "metadata": {},
          "execution_count": 120
        }
      ]
    },
    {
      "cell_type": "code",
      "source": [
        "train_data[0][:3]\n",
        "#실제 순위는 -2,11,19"
      ],
      "metadata": {
        "colab": {
          "base_uri": "https://localhost:8080/"
        },
        "id": "if2nRUEqAV3U",
        "outputId": "7416fb46-67ea-44db-81b0-98705bc887a8"
      },
      "execution_count": 121,
      "outputs": [
        {
          "output_type": "execute_result",
          "data": {
            "text/plain": [
              "[1, 14, 22]"
            ]
          },
          "metadata": {},
          "execution_count": 121
        }
      ]
    },
    {
      "cell_type": "code",
      "source": [
        "reverse_word_index.get(1 - 3, \"?\")"
      ],
      "metadata": {
        "colab": {
          "base_uri": "https://localhost:8080/",
          "height": 36
        },
        "id": "44TkmIIDAbkf",
        "outputId": "a43e31f5-9238-485b-ff3b-8d96feb93e8b"
      },
      "execution_count": 122,
      "outputs": [
        {
          "output_type": "execute_result",
          "data": {
            "text/plain": [
              "'?'"
            ],
            "application/vnd.google.colaboratory.intrinsic+json": {
              "type": "string"
            }
          },
          "metadata": {},
          "execution_count": 122
        }
      ]
    },
    {
      "cell_type": "code",
      "source": [
        "reverse_word_index.get(14 - 3, \"?\")"
      ],
      "metadata": {
        "colab": {
          "base_uri": "https://localhost:8080/",
          "height": 36
        },
        "id": "JtBdc5KLAg3u",
        "outputId": "52e0ed4c-da91-4607-9080-cb2884ce3358"
      },
      "execution_count": 123,
      "outputs": [
        {
          "output_type": "execute_result",
          "data": {
            "text/plain": [
              "'this'"
            ],
            "application/vnd.google.colaboratory.intrinsic+json": {
              "type": "string"
            }
          },
          "metadata": {},
          "execution_count": 123
        }
      ]
    },
    {
      "cell_type": "code",
      "source": [
        "reverse_word_index.get(22 - 3, \"?\")"
      ],
      "metadata": {
        "colab": {
          "base_uri": "https://localhost:8080/",
          "height": 36
        },
        "id": "TKWkL8qnAikm",
        "outputId": "109b5817-64a2-4cb6-9995-5f640974e1b9"
      },
      "execution_count": 124,
      "outputs": [
        {
          "output_type": "execute_result",
          "data": {
            "text/plain": [
              "'film'"
            ],
            "application/vnd.google.colaboratory.intrinsic+json": {
              "type": "string"
            }
          },
          "metadata": {},
          "execution_count": 124
        }
      ]
    },
    {
      "cell_type": "code",
      "source": [
        "decoded_review"
      ],
      "metadata": {
        "colab": {
          "base_uri": "https://localhost:8080/",
          "height": 147
        },
        "id": "f9wN_g9I7q-8",
        "outputId": "e92e02f0-b91b-4990-d52f-e715933268e9"
      },
      "execution_count": 125,
      "outputs": [
        {
          "output_type": "execute_result",
          "data": {
            "text/plain": [
              "\"? this film was just brilliant casting location scenery story direction everyone's really suited the part they played and you could just imagine being there robert ? is an amazing actor and now the same being director ? father came from the same scottish island as myself so i loved the fact there was a real connection with this film the witty remarks throughout the film were great it was just brilliant so much that i bought the film as soon as it was released for ? and would recommend it to everyone to watch and the fly fishing was amazing really cried at the end it was so sad and you know what they say if you cry at a film it must have been good and this definitely was also ? to the two little boy's that played the ? of norman and paul they were just brilliant children are often left out of the ? list i think because the stars that play them all grown up are such a big profile for the whole film but these children are amazing and should be praised for what they have done don't you think the whole story was so lovely because it was true and was someone's life after all that was shared with us all\""
            ],
            "application/vnd.google.colaboratory.intrinsic+json": {
              "type": "string"
            }
          },
          "metadata": {},
          "execution_count": 125
        }
      ]
    },
    {
      "cell_type": "markdown",
      "metadata": {
        "id": "d1mksgiUx3G1"
      },
      "source": [
        "### Preparing the data"
      ]
    },
    {
      "cell_type": "markdown",
      "metadata": {
        "id": "yD-xCzl7x3G2"
      },
      "source": [
        "**Encoding the integer sequences via multi-hot encoding**"
      ]
    },
    {
      "cell_type": "code",
      "execution_count": 126,
      "metadata": {
        "id": "KPpTwRiSx3G2"
      },
      "outputs": [],
      "source": [
        "#멀티 핫 인코딩\n",
        "import numpy as np\n",
        "def vectorize_sequences(sequences, dimension=10000):\n",
        "    results = np.zeros((len(sequences), dimension))\n",
        "    for i, sequence in enumerate(sequences):\n",
        "        for j in sequence:\n",
        "            results[i, j] = 1.\n",
        "    return results\n",
        "x_train = vectorize_sequences(train_data)\n",
        "x_test = vectorize_sequences(test_data)"
      ]
    },
    {
      "cell_type": "code",
      "source": [
        "x_train.shape"
      ],
      "metadata": {
        "colab": {
          "base_uri": "https://localhost:8080/"
        },
        "id": "kw2MVXb6NC2O",
        "outputId": "f808d7ba-1ea2-4268-fc1e-3f6c69fe796b"
      },
      "execution_count": 127,
      "outputs": [
        {
          "output_type": "execute_result",
          "data": {
            "text/plain": [
              "(25000, 10000)"
            ]
          },
          "metadata": {},
          "execution_count": 127
        }
      ]
    },
    {
      "cell_type": "code",
      "execution_count": 128,
      "metadata": {
        "colab": {
          "base_uri": "https://localhost:8080/"
        },
        "id": "GyfjOmsTx3G2",
        "outputId": "ef06a039-8fa8-4d83-9095-79ffa302e1e0"
      },
      "outputs": [
        {
          "output_type": "execute_result",
          "data": {
            "text/plain": [
              "array([0., 1., 1., ..., 0., 0., 0.])"
            ]
          },
          "metadata": {},
          "execution_count": 128
        }
      ],
      "source": [
        "x_train[0]\n",
        "# 맵핑된 정수가 1,14,22면 1번째 14번째 22번째 원소가 1, 나머지는 0"
      ]
    },
    {
      "cell_type": "code",
      "source": [
        "x_train[0][1]"
      ],
      "metadata": {
        "colab": {
          "base_uri": "https://localhost:8080/"
        },
        "id": "dE1nBJhOW-2H",
        "outputId": "ecfd3c27-39c0-40a8-90c6-9d40c2aaef6d"
      },
      "execution_count": 129,
      "outputs": [
        {
          "output_type": "execute_result",
          "data": {
            "text/plain": [
              "1.0"
            ]
          },
          "metadata": {},
          "execution_count": 129
        }
      ]
    },
    {
      "cell_type": "code",
      "source": [
        "x_train[0][14]"
      ],
      "metadata": {
        "colab": {
          "base_uri": "https://localhost:8080/"
        },
        "id": "5arNR10-XxRJ",
        "outputId": "15fb2219-ecb8-485d-8c16-61b52c946195"
      },
      "execution_count": 130,
      "outputs": [
        {
          "output_type": "execute_result",
          "data": {
            "text/plain": [
              "1.0"
            ]
          },
          "metadata": {},
          "execution_count": 130
        }
      ]
    },
    {
      "cell_type": "code",
      "source": [
        "x_train[0][22]"
      ],
      "metadata": {
        "colab": {
          "base_uri": "https://localhost:8080/"
        },
        "id": "RNbpNVKAXzVb",
        "outputId": "a7e835fb-5e5c-4dfc-fa43-ac19fa22822e"
      },
      "execution_count": 131,
      "outputs": [
        {
          "output_type": "execute_result",
          "data": {
            "text/plain": [
              "1.0"
            ]
          },
          "metadata": {},
          "execution_count": 131
        }
      ]
    },
    {
      "cell_type": "code",
      "execution_count": 132,
      "metadata": {
        "id": "RkqaWGsGx3G3"
      },
      "outputs": [],
      "source": [
        "y_train = np.asarray(train_labels).astype(\"float32\")\n",
        "y_test = np.asarray(test_labels).astype(\"float32\")"
      ]
    },
    {
      "cell_type": "markdown",
      "metadata": {
        "id": "NAcxx7Zyx3G3"
      },
      "source": [
        "### Building your model"
      ]
    },
    {
      "cell_type": "markdown",
      "metadata": {
        "id": "nc5MFmDjx3G3"
      },
      "source": [
        "**Model definition**"
      ]
    },
    {
      "cell_type": "code",
      "execution_count": 133,
      "metadata": {
        "id": "y9R6UC1Hx3G3"
      },
      "outputs": [],
      "source": [
        "from tensorflow import keras\n",
        "from tensorflow.keras import layers\n",
        "\n",
        "model = keras.Sequential([\n",
        "    layers.Dense(16, activation=\"relu\"),\n",
        "    layers.Dense(16, activation=\"relu\"),\n",
        "    layers.Dense(1, activation=\"sigmoid\") #output 0,1 -> 크기 1\n",
        "])"
      ]
    },
    {
      "cell_type": "markdown",
      "metadata": {
        "id": "n9hTrUYix3G4"
      },
      "source": [
        "**Compiling the model**"
      ]
    },
    {
      "cell_type": "code",
      "execution_count": 134,
      "metadata": {
        "id": "QG0L0mpRx3G4"
      },
      "outputs": [],
      "source": [
        "model.compile(optimizer=\"rmsprop\",\n",
        "              loss=\"binary_crossentropy\",\n",
        "              metrics=[\"accuracy\"])"
      ]
    },
    {
      "cell_type": "markdown",
      "metadata": {
        "id": "3r9GnZzvx3G4"
      },
      "source": [
        "### Validating your approach"
      ]
    },
    {
      "cell_type": "markdown",
      "metadata": {
        "id": "0q23Sr-Tx3G4"
      },
      "source": [
        "**Setting aside a validation set**"
      ]
    },
    {
      "cell_type": "code",
      "execution_count": 135,
      "metadata": {
        "id": "Is4OYMzMx3G5"
      },
      "outputs": [],
      "source": [
        "x_val = x_train[:10000]\n",
        "partial_x_train = x_train[10000:]\n",
        "y_val = y_train[:10000]\n",
        "partial_y_train = y_train[10000:]"
      ]
    },
    {
      "cell_type": "markdown",
      "metadata": {
        "id": "ZnKc-XFix3G5"
      },
      "source": [
        "**Training your model**"
      ]
    },
    {
      "cell_type": "code",
      "source": [
        "history = model.fit(partial_x_train,\n",
        "                    partial_y_train,\n",
        "                    epochs=20,\n",
        "                    batch_size=512,\n",
        "                    validation_data=(x_val, y_val))"
      ],
      "metadata": {
        "colab": {
          "base_uri": "https://localhost:8080/"
        },
        "id": "0p_BLS-qOX_E",
        "outputId": "2d0911e9-3864-4e6e-965e-0243d678c7cd"
      },
      "execution_count": 136,
      "outputs": [
        {
          "output_type": "stream",
          "name": "stdout",
          "text": [
            "Epoch 1/20\n",
            "30/30 [==============================] - 3s 78ms/step - loss: 0.5170 - accuracy: 0.7686 - val_loss: 0.3983 - val_accuracy: 0.8562\n",
            "Epoch 2/20\n",
            "30/30 [==============================] - 1s 38ms/step - loss: 0.3221 - accuracy: 0.8915 - val_loss: 0.3392 - val_accuracy: 0.8635\n",
            "Epoch 3/20\n",
            "30/30 [==============================] - 1s 42ms/step - loss: 0.2419 - accuracy: 0.9186 - val_loss: 0.2897 - val_accuracy: 0.8846\n",
            "Epoch 4/20\n",
            "30/30 [==============================] - 1s 36ms/step - loss: 0.1966 - accuracy: 0.9357 - val_loss: 0.2829 - val_accuracy: 0.8861\n",
            "Epoch 5/20\n",
            "30/30 [==============================] - 1s 39ms/step - loss: 0.1658 - accuracy: 0.9466 - val_loss: 0.2839 - val_accuracy: 0.8848\n",
            "Epoch 6/20\n",
            "30/30 [==============================] - 2s 55ms/step - loss: 0.1404 - accuracy: 0.9550 - val_loss: 0.2882 - val_accuracy: 0.8835\n",
            "Epoch 7/20\n",
            "30/30 [==============================] - 1s 41ms/step - loss: 0.1182 - accuracy: 0.9648 - val_loss: 0.3503 - val_accuracy: 0.8660\n",
            "Epoch 8/20\n",
            "30/30 [==============================] - 1s 38ms/step - loss: 0.1041 - accuracy: 0.9677 - val_loss: 0.3276 - val_accuracy: 0.8790\n",
            "Epoch 9/20\n",
            "30/30 [==============================] - 2s 65ms/step - loss: 0.0882 - accuracy: 0.9757 - val_loss: 0.3210 - val_accuracy: 0.8814\n",
            "Epoch 10/20\n",
            "30/30 [==============================] - 1s 43ms/step - loss: 0.0762 - accuracy: 0.9803 - val_loss: 0.3487 - val_accuracy: 0.8766\n",
            "Epoch 11/20\n",
            "30/30 [==============================] - 1s 43ms/step - loss: 0.0608 - accuracy: 0.9856 - val_loss: 0.3700 - val_accuracy: 0.8779\n",
            "Epoch 12/20\n",
            "30/30 [==============================] - 1s 45ms/step - loss: 0.0520 - accuracy: 0.9881 - val_loss: 0.3817 - val_accuracy: 0.8762\n",
            "Epoch 13/20\n",
            "30/30 [==============================] - 1s 43ms/step - loss: 0.0448 - accuracy: 0.9908 - val_loss: 0.4019 - val_accuracy: 0.8750\n",
            "Epoch 14/20\n",
            "30/30 [==============================] - 1s 40ms/step - loss: 0.0420 - accuracy: 0.9901 - val_loss: 0.4190 - val_accuracy: 0.8767\n",
            "Epoch 15/20\n",
            "30/30 [==============================] - 1s 43ms/step - loss: 0.0319 - accuracy: 0.9939 - val_loss: 0.4461 - val_accuracy: 0.8727\n",
            "Epoch 16/20\n",
            "30/30 [==============================] - 1s 43ms/step - loss: 0.0274 - accuracy: 0.9951 - val_loss: 0.4620 - val_accuracy: 0.8751\n",
            "Epoch 17/20\n",
            "30/30 [==============================] - 2s 54ms/step - loss: 0.0229 - accuracy: 0.9972 - val_loss: 0.4783 - val_accuracy: 0.8736\n",
            "Epoch 18/20\n",
            "30/30 [==============================] - 2s 62ms/step - loss: 0.0194 - accuracy: 0.9977 - val_loss: 0.4989 - val_accuracy: 0.8717\n",
            "Epoch 19/20\n",
            "30/30 [==============================] - 2s 58ms/step - loss: 0.0178 - accuracy: 0.9979 - val_loss: 0.5208 - val_accuracy: 0.8718\n",
            "Epoch 20/20\n",
            "30/30 [==============================] - 1s 35ms/step - loss: 0.0108 - accuracy: 0.9996 - val_loss: 0.5534 - val_accuracy: 0.8696\n"
          ]
        }
      ]
    },
    {
      "cell_type": "code",
      "execution_count": 137,
      "metadata": {
        "colab": {
          "base_uri": "https://localhost:8080/"
        },
        "id": "OgXNHAzKx3G5",
        "outputId": "e3cfe2e9-d456-417d-9051-9874ffbf33f6"
      },
      "outputs": [
        {
          "output_type": "execute_result",
          "data": {
            "text/plain": [
              "dict_keys(['loss', 'accuracy', 'val_loss', 'val_accuracy'])"
            ]
          },
          "metadata": {},
          "execution_count": 137
        }
      ],
      "source": [
        "history_dict = history.history\n",
        "history_dict.keys()"
      ]
    },
    {
      "cell_type": "markdown",
      "metadata": {
        "id": "I14cZqG6x3G5"
      },
      "source": [
        "**Plotting the training and validation loss**"
      ]
    },
    {
      "cell_type": "code",
      "execution_count": 138,
      "metadata": {
        "colab": {
          "base_uri": "https://localhost:8080/",
          "height": 472
        },
        "id": "MPuVpt_Xx3G6",
        "outputId": "cd87fc43-ee18-49a3-e1c8-b4f719ec1403"
      },
      "outputs": [
        {
          "output_type": "display_data",
          "data": {
            "text/plain": [
              "<Figure size 640x480 with 1 Axes>"
            ],
            "image/png": "[encoded data removed]"
          },
          "metadata": {}
        }
      ],
      "source": [
        "import matplotlib.pyplot as plt\n",
        "history_dict = history.history\n",
        "loss_values = history_dict[\"loss\"]\n",
        "val_loss_values = history_dict[\"val_loss\"]\n",
        "epochs = range(1, len(loss_values) + 1)\n",
        "plt.plot(epochs, loss_values, \"bo\", label=\"Training loss\")\n",
        "plt.plot(epochs, val_loss_values, \"b\", label=\"Validation loss\")\n",
        "plt.title(\"Training and validation loss\")\n",
        "plt.xlabel(\"Epochs\")\n",
        "plt.ylabel(\"Loss\")\n",
        "plt.legend()\n",
        "plt.show()"
      ]
    },
    {
      "cell_type": "markdown",
      "metadata": {
        "id": "ZO0LzSeXx3G6"
      },
      "source": [
        "**Plotting the training and validation accuracy**"
      ]
    },
    {
      "cell_type": "code",
      "execution_count": 139,
      "metadata": {
        "colab": {
          "base_uri": "https://localhost:8080/",
          "height": 472
        },
        "id": "JG3LQedWx3G6",
        "outputId": "fa1cfac4-8f8e-411a-edc0-80816e316b7a"
      },
      "outputs": [
        {
          "output_type": "display_data",
          "data": {
            "text/plain": [
              "<Figure size 640x480 with 1 Axes>"
            ],
            "image/png": "[encoded data removed]"
          },
          "metadata": {}
        }
      ],
      "source": [
        "plt.clf()\n",
        "acc = history_dict[\"accuracy\"]\n",
        "val_acc = history_dict[\"val_accuracy\"]\n",
        "plt.plot(epochs, acc, \"bo\", label=\"Training acc\")\n",
        "plt.plot(epochs, val_acc, \"b\", label=\"Validation acc\")\n",
        "plt.title(\"Training and validation accuracy\")\n",
        "plt.xlabel(\"Epochs\")\n",
        "plt.ylabel(\"Accuracy\")\n",
        "plt.legend()\n",
        "plt.show()"
      ]
    },
    {
      "cell_type": "markdown",
      "source": [
        "에포크를 4로 설정하는 게 가장 좋아보임"
      ],
      "metadata": {
        "id": "VryxVkbja6dZ"
      }
    },
    {
      "cell_type": "markdown",
      "metadata": {
        "id": "Ij1kRql7x3G7"
      },
      "source": [
        "**Retraining a model from scratch**"
      ]
    },
    {
      "cell_type": "code",
      "execution_count": 140,
      "metadata": {
        "colab": {
          "base_uri": "https://localhost:8080/"
        },
        "id": "RO43-XQXx3G7",
        "outputId": "1698c02c-6d8a-4193-ce7e-b6ee4f944039"
      },
      "outputs": [
        {
          "output_type": "stream",
          "name": "stdout",
          "text": [
            "Epoch 1/4\n",
            "49/49 [==============================] - 2s 33ms/step - loss: 0.4721 - accuracy: 0.8084\n",
            "Epoch 2/4\n",
            "49/49 [==============================] - 2s 42ms/step - loss: 0.2770 - accuracy: 0.9022\n",
            "Epoch 3/4\n",
            "49/49 [==============================] - 2s 37ms/step - loss: 0.2140 - accuracy: 0.9230\n",
            "Epoch 4/4\n",
            "49/49 [==============================] - 1s 25ms/step - loss: 0.1837 - accuracy: 0.9346\n",
            "782/782 [==============================] - 2s 2ms/step - loss: 0.3085 - accuracy: 0.8765\n"
          ]
        }
      ],
      "source": [
        "#에포크 4로 해보기\n",
        "model = keras.Sequential([\n",
        "    layers.Dense(16, activation=\"relu\"),\n",
        "    layers.Dense(16, activation=\"relu\"),\n",
        "    layers.Dense(1, activation=\"sigmoid\")\n",
        "])\n",
        "model.compile(optimizer=\"rmsprop\",\n",
        "              loss=\"binary_crossentropy\",\n",
        "              metrics=[\"accuracy\"])\n",
        "model.fit(x_train, y_train, epochs=4, batch_size=512)\n",
        "results = model.evaluate(x_test, y_test)"
      ]
    },
    {
      "cell_type": "code",
      "execution_count": 141,
      "metadata": {
        "colab": {
          "base_uri": "https://localhost:8080/"
        },
        "id": "r6U2e84ix3G7",
        "outputId": "fae63645-2c32-4f91-9a58-03fdd291142b"
      },
      "outputs": [
        {
          "output_type": "execute_result",
          "data": {
            "text/plain": [
              "[0.30851536989212036, 0.876479983329773]"
            ]
          },
          "metadata": {},
          "execution_count": 141
        }
      ],
      "source": [
        "results\n",
        "#test loss, test accuracy"
      ]
    },
    {
      "cell_type": "markdown",
      "metadata": {
        "id": "a4o6cVVYx3G7"
      },
      "source": [
        "### Using a trained model to generate predictions on new data"
      ]
    },
    {
      "cell_type": "code",
      "execution_count": 142,
      "metadata": {
        "colab": {
          "base_uri": "https://localhost:8080/"
        },
        "id": "3V4btZrtx3G8",
        "outputId": "3e3d8bea-6aa7-4e31-d3c4-c76650b671ae"
      },
      "outputs": [
        {
          "output_type": "stream",
          "name": "stdout",
          "text": [
            "782/782 [==============================] - 2s 2ms/step\n"
          ]
        },
        {
          "output_type": "execute_result",
          "data": {
            "text/plain": [
              "array([[0.27700102],\n",
              "       [0.9995814 ],\n",
              "       [0.96176267],\n",
              "       ...,\n",
              "       [0.13898587],\n",
              "       [0.1131744 ],\n",
              "       [0.7826724 ]], dtype=float32)"
            ]
          },
          "metadata": {},
          "execution_count": 142
        }
      ],
      "source": [
        "model.predict(x_test)"
      ]
    },
    {
      "cell_type": "markdown",
      "metadata": {
        "id": "fJygO1sjx3G8"
      },
      "source": [
        "### Further experiments"
      ]
    },
    {
      "cell_type": "markdown",
      "metadata": {
        "id": "x5lBlbv7x3G8"
      },
      "source": [
        "### Wrapping up"
      ]
    },
    {
      "cell_type": "markdown",
      "metadata": {
        "id": "s_D42Kw0x3G8"
      },
      "source": [
        "## Classifying newswires: A multiclass classification example"
      ]
    },
    {
      "cell_type": "markdown",
      "metadata": {
        "id": "ImQbmb-rx3G8"
      },
      "source": [
        "### The Reuters dataset"
      ]
    },
    {
      "cell_type": "markdown",
      "metadata": {
        "id": "_ZrjRLh5x3G8"
      },
      "source": [
        "**Loading the Reuters dataset**"
      ]
    },
    {
      "cell_type": "code",
      "execution_count": 143,
      "metadata": {
        "id": "6GRjyOARx3G8"
      },
      "outputs": [],
      "source": [
        "from tensorflow.keras.datasets import reuters\n",
        "(train_data, train_labels), (test_data, test_labels) = reuters.load_data(\n",
        "    num_words=10000)"
      ]
    },
    {
      "cell_type": "code",
      "execution_count": 144,
      "metadata": {
        "id": "xujz8KU6x3G8",
        "colab": {
          "base_uri": "https://localhost:8080/"
        },
        "outputId": "6fe4179c-0c72-4ee1-ae26-cd552953c247"
      },
      "outputs": [
        {
          "output_type": "execute_result",
          "data": {
            "text/plain": [
              "8982"
            ]
          },
          "metadata": {},
          "execution_count": 144
        }
      ],
      "source": [
        "len(train_data)"
      ]
    },
    {
      "cell_type": "code",
      "source": [
        "train_data.shape"
      ],
      "metadata": {
        "id": "XLRuNUm_ZPej",
        "outputId": "d8cb86c7-593b-43aa-c8c5-5badb60f33a2",
        "colab": {
          "base_uri": "https://localhost:8080/"
        }
      },
      "execution_count": 145,
      "outputs": [
        {
          "output_type": "execute_result",
          "data": {
            "text/plain": [
              "(8982,)"
            ]
          },
          "metadata": {},
          "execution_count": 145
        }
      ]
    },
    {
      "cell_type": "code",
      "execution_count": 146,
      "metadata": {
        "id": "VMx7cUW4x3G9",
        "colab": {
          "base_uri": "https://localhost:8080/"
        },
        "outputId": "267c331b-e0f5-452b-8289-5a78bf2238a1"
      },
      "outputs": [
        {
          "output_type": "execute_result",
          "data": {
            "text/plain": [
              "2246"
            ]
          },
          "metadata": {},
          "execution_count": 146
        }
      ],
      "source": [
        "len(test_data)"
      ]
    },
    {
      "cell_type": "code",
      "execution_count": 147,
      "metadata": {
        "id": "0BiHWHMfx3G9",
        "colab": {
          "base_uri": "https://localhost:8080/"
        },
        "outputId": "fee540e3-2399-4f19-dda5-d26f06e74e21"
      },
      "outputs": [
        {
          "output_type": "execute_result",
          "data": {
            "text/plain": [
              "[1,\n",
              " 245,\n",
              " 273,\n",
              " 207,\n",
              " 156,\n",
              " 53,\n",
              " 74,\n",
              " 160,\n",
              " 26,\n",
              " 14,\n",
              " 46,\n",
              " 296,\n",
              " 26,\n",
              " 39,\n",
              " 74,\n",
              " 2979,\n",
              " 3554,\n",
              " 14,\n",
              " 46,\n",
              " 4689,\n",
              " 4329,\n",
              " 86,\n",
              " 61,\n",
              " 3499,\n",
              " 4795,\n",
              " 14,\n",
              " 61,\n",
              " 451,\n",
              " 4329,\n",
              " 17,\n",
              " 12]"
            ]
          },
          "metadata": {},
          "execution_count": 147
        }
      ],
      "source": [
        "train_data[10]\n",
        "#실제 순위에서 +3 된 정수들임\n",
        "#(맵핑된 수 - 3)은 몇번째로 많이 반복된 단어인가를 나타냄\n",
        "#IMDB 리뷰 데이터셋에서는 0, 1, 2, 3은 특별 토큰으로 취급하고 있음. 그래서 정수 4부터가 실제로 빈도수가 가장 높은 영단어"
      ]
    },
    {
      "cell_type": "code",
      "source": [
        "import numpy as np\n",
        "np.unique(train_labels)\n",
        "#0-45"
      ],
      "metadata": {
        "id": "UGBpRU08YB_i",
        "outputId": "e58d006d-deb4-4324-a1b4-31c7f793ac5e",
        "colab": {
          "base_uri": "https://localhost:8080/"
        }
      },
      "execution_count": 148,
      "outputs": [
        {
          "output_type": "execute_result",
          "data": {
            "text/plain": [
              "array([ 0,  1,  2,  3,  4,  5,  6,  7,  8,  9, 10, 11, 12, 13, 14, 15, 16,\n",
              "       17, 18, 19, 20, 21, 22, 23, 24, 25, 26, 27, 28, 29, 30, 31, 32, 33,\n",
              "       34, 35, 36, 37, 38, 39, 40, 41, 42, 43, 44, 45])"
            ]
          },
          "metadata": {},
          "execution_count": 148
        }
      ]
    },
    {
      "cell_type": "markdown",
      "metadata": {
        "id": "-ot8-nHbx3G9"
      },
      "source": [
        "**Decoding newswires back to text**"
      ]
    },
    {
      "cell_type": "code",
      "execution_count": 149,
      "metadata": {
        "id": "LohxOmubx3G9"
      },
      "outputs": [],
      "source": [
        "#실제 순위  \n",
        "word_index = reuters.get_word_index()\n",
        "reverse_word_index = dict([(value, key) for (key, value) in word_index.items()])\n",
        "decoded_newswire = \" \".join([reverse_word_index.get(i - 3, \"?\") for i in\n",
        "    train_data[0]])"
      ]
    },
    {
      "cell_type": "code",
      "execution_count": 150,
      "metadata": {
        "id": "PbA_zkRjx3G9",
        "colab": {
          "base_uri": "https://localhost:8080/"
        },
        "outputId": "6125c4b8-b8ee-4d0b-9f99-8cd4b68da226"
      },
      "outputs": [
        {
          "output_type": "execute_result",
          "data": {
            "text/plain": [
              "3"
            ]
          },
          "metadata": {},
          "execution_count": 150
        }
      ],
      "source": [
        "train_labels[10]"
      ]
    },
    {
      "cell_type": "code",
      "source": [
        "train_data[0][4:6]\n",
        "#실제 순위는 40, 7"
      ],
      "metadata": {
        "id": "84o3vpDdaAtx",
        "outputId": "f02536db-4f2c-4a99-bd28-9f8e22e321fb",
        "colab": {
          "base_uri": "https://localhost:8080/"
        }
      },
      "execution_count": 151,
      "outputs": [
        {
          "output_type": "execute_result",
          "data": {
            "text/plain": [
              "[43, 10]"
            ]
          },
          "metadata": {},
          "execution_count": 151
        }
      ]
    },
    {
      "cell_type": "code",
      "source": [
        "reverse_word_index.get(43 - 3, \"?\")"
      ],
      "metadata": {
        "id": "01ik_zHmaPLw",
        "outputId": "e388bad8-f35a-4650-abc2-6649a38fd308",
        "colab": {
          "base_uri": "https://localhost:8080/",
          "height": 36
        }
      },
      "execution_count": 152,
      "outputs": [
        {
          "output_type": "execute_result",
          "data": {
            "text/plain": [
              "'as'"
            ],
            "application/vnd.google.colaboratory.intrinsic+json": {
              "type": "string"
            }
          },
          "metadata": {},
          "execution_count": 152
        }
      ]
    },
    {
      "cell_type": "code",
      "source": [
        "reverse_word_index.get(10 - 3, \"?\")"
      ],
      "metadata": {
        "id": "ggA36-DKaV54",
        "outputId": "0415221c-1651-4fbe-b898-d99b9f57a8a8",
        "colab": {
          "base_uri": "https://localhost:8080/",
          "height": 36
        }
      },
      "execution_count": 153,
      "outputs": [
        {
          "output_type": "execute_result",
          "data": {
            "text/plain": [
              "'a'"
            ],
            "application/vnd.google.colaboratory.intrinsic+json": {
              "type": "string"
            }
          },
          "metadata": {},
          "execution_count": 153
        }
      ]
    },
    {
      "cell_type": "code",
      "source": [
        "decoded_newswire"
      ],
      "metadata": {
        "id": "YbZo_5oyZXlx",
        "outputId": "49bc4724-eb1f-41b1-98b3-ad2a3fdeb508",
        "colab": {
          "base_uri": "https://localhost:8080/",
          "height": 73
        }
      },
      "execution_count": 154,
      "outputs": [
        {
          "output_type": "execute_result",
          "data": {
            "text/plain": [
              "'? ? ? said as a result of its december acquisition of space co it expects earnings per share in 1987 of 1 15 to 1 30 dlrs per share up from 70 cts in 1986 the company said pretax net should rise to nine to 10 mln dlrs from six mln dlrs in 1986 and rental operation revenues to 19 to 22 mln dlrs from 12 5 mln dlrs it said cash flow per share this year should be 2 50 to three dlrs reuter 3'"
            ],
            "application/vnd.google.colaboratory.intrinsic+json": {
              "type": "string"
            }
          },
          "metadata": {},
          "execution_count": 154
        }
      ]
    },
    {
      "cell_type": "markdown",
      "metadata": {
        "id": "Q8q5Z9BZx3G-"
      },
      "source": [
        "### Preparing the data"
      ]
    },
    {
      "cell_type": "markdown",
      "metadata": {
        "id": "kpaQWU5Tx3G-"
      },
      "source": [
        "**Encoding the input data**"
      ]
    },
    {
      "cell_type": "code",
      "execution_count": 155,
      "metadata": {
        "id": "f8b26h3Ex3G-"
      },
      "outputs": [],
      "source": [
        "#멀티 핫 인코딩\n",
        "x_train = vectorize_sequences(train_data)\n",
        "x_test = vectorize_sequences(test_data)"
      ]
    },
    {
      "cell_type": "code",
      "source": [
        "x_train.shape"
      ],
      "metadata": {
        "id": "GQ90_WzsapOH",
        "outputId": "c4f7c1a7-5767-49ab-823a-a2ab25c6f8ae",
        "colab": {
          "base_uri": "https://localhost:8080/"
        }
      },
      "execution_count": 156,
      "outputs": [
        {
          "output_type": "execute_result",
          "data": {
            "text/plain": [
              "(8982, 10000)"
            ]
          },
          "metadata": {},
          "execution_count": 156
        }
      ]
    },
    {
      "cell_type": "code",
      "source": [
        "x_test.shape"
      ],
      "metadata": {
        "id": "rcDbYDmUaraI",
        "outputId": "92aea02b-f665-4991-def2-c533ea22cdcb",
        "colab": {
          "base_uri": "https://localhost:8080/"
        }
      },
      "execution_count": 157,
      "outputs": [
        {
          "output_type": "execute_result",
          "data": {
            "text/plain": [
              "(2246, 10000)"
            ]
          },
          "metadata": {},
          "execution_count": 157
        }
      ]
    },
    {
      "cell_type": "markdown",
      "metadata": {
        "id": "wrFckbCGx3G-"
      },
      "source": [
        "**Encoding the labels**"
      ]
    },
    {
      "cell_type": "code",
      "execution_count": 159,
      "metadata": {
        "id": "WK7cvh7kx3G_"
      },
      "outputs": [],
      "source": [
        "#원 핫 인코딩\n",
        "#46개의 분류 토픽으로 원 핫 인코딩  \n",
        "def to_one_hot(labels, dimension=46):\n",
        "    results = np.zeros((len(labels), dimension))\n",
        "    for i, label in enumerate(labels):\n",
        "        results[i, label] = 1.\n",
        "    return results\n",
        "y_train = to_one_hot(train_labels)\n",
        "y_test = to_one_hot(test_labels)"
      ]
    },
    {
      "cell_type": "code",
      "execution_count": 160,
      "metadata": {
        "id": "xvmmcQKhx3G_"
      },
      "outputs": [],
      "source": [
        "from tensorflow.keras.utils import to_categorical\n",
        "#to_categorical : 원핫벡터로 바꿔주는 함수  \n",
        "y_train = to_categorical(train_labels)\n",
        "y_test = to_categorical(test_labels)"
      ]
    },
    {
      "cell_type": "markdown",
      "metadata": {
        "id": "HIuPw2TKx3G_"
      },
      "source": [
        "### Building your model"
      ]
    },
    {
      "cell_type": "markdown",
      "metadata": {
        "id": "TQOm6Sybx3G_"
      },
      "source": [
        "**Model definition**"
      ]
    },
    {
      "cell_type": "code",
      "execution_count": 161,
      "metadata": {
        "id": "lJb8lK-hx3G_"
      },
      "outputs": [],
      "source": [
        "from tensorflow import keras\n",
        "from tensorflow.keras import layers\n",
        "\n",
        "model = keras.Sequential([\n",
        "    layers.Dense(64, activation=\"relu\"),\n",
        "    layers.Dense(64, activation=\"relu\"),\n",
        "    layers.Dense(46, activation=\"softmax\") #다중분류일 때는 시그모이드 아니라 소프트맥스    \n",
        "])"
      ]
    },
    {
      "cell_type": "markdown",
      "metadata": {
        "id": "TXdVBZNHx3HA"
      },
      "source": [
        "**Compiling the model**"
      ]
    },
    {
      "cell_type": "code",
      "execution_count": 162,
      "metadata": {
        "id": "1M6-7ucZx3HA"
      },
      "outputs": [],
      "source": [
        "model.compile(optimizer=\"rmsprop\",\n",
        "              loss=\"categorical_crossentropy\",  #outcome이 원핫벡터\n",
        "              metrics=[\"accuracy\"])"
      ]
    },
    {
      "cell_type": "markdown",
      "metadata": {
        "id": "HoRpT_1Px3HA"
      },
      "source": [
        "### Validating your approach"
      ]
    },
    {
      "cell_type": "markdown",
      "metadata": {
        "id": "6fXhkYeKx3HA"
      },
      "source": [
        "**Setting aside a validation set**"
      ]
    },
    {
      "cell_type": "code",
      "execution_count": 163,
      "metadata": {
        "id": "I9fknN71x3HA"
      },
      "outputs": [],
      "source": [
        "x_val = x_train[:1000]\n",
        "partial_x_train = x_train[1000:]\n",
        "y_val = y_train[:1000]\n",
        "partial_y_train = y_train[1000:]"
      ]
    },
    {
      "cell_type": "markdown",
      "metadata": {
        "id": "aWmRuzdqx3HB"
      },
      "source": [
        "**Training the model**"
      ]
    },
    {
      "cell_type": "code",
      "execution_count": 164,
      "metadata": {
        "id": "A_Ft_pzxx3HB",
        "colab": {
          "base_uri": "https://localhost:8080/"
        },
        "outputId": "32f7b2f1-1ed8-431e-a673-0f2b8f081570"
      },
      "outputs": [
        {
          "output_type": "stream",
          "name": "stdout",
          "text": [
            "Epoch 1/20\n",
            "16/16 [==============================] - 2s 83ms/step - loss: 2.6498 - accuracy: 0.4402 - val_loss: 1.7863 - val_accuracy: 0.6110\n",
            "Epoch 2/20\n",
            "16/16 [==============================] - 2s 94ms/step - loss: 1.5147 - accuracy: 0.6804 - val_loss: 1.3453 - val_accuracy: 0.7000\n",
            "Epoch 3/20\n",
            "16/16 [==============================] - 1s 79ms/step - loss: 1.1640 - accuracy: 0.7449 - val_loss: 1.1860 - val_accuracy: 0.7260\n",
            "Epoch 4/20\n",
            "16/16 [==============================] - 1s 50ms/step - loss: 0.9561 - accuracy: 0.7934 - val_loss: 1.0888 - val_accuracy: 0.7590\n",
            "Epoch 5/20\n",
            "16/16 [==============================] - 1s 55ms/step - loss: 0.7984 - accuracy: 0.8241 - val_loss: 1.0057 - val_accuracy: 0.7920\n",
            "Epoch 6/20\n",
            "16/16 [==============================] - 1s 55ms/step - loss: 0.6651 - accuracy: 0.8573 - val_loss: 0.9528 - val_accuracy: 0.8040\n",
            "Epoch 7/20\n",
            "16/16 [==============================] - 1s 56ms/step - loss: 0.5631 - accuracy: 0.8775 - val_loss: 0.9351 - val_accuracy: 0.7960\n",
            "Epoch 8/20\n",
            "16/16 [==============================] - 1s 60ms/step - loss: 0.4689 - accuracy: 0.8995 - val_loss: 0.9113 - val_accuracy: 0.7970\n",
            "Epoch 9/20\n",
            "16/16 [==============================] - 1s 53ms/step - loss: 0.4021 - accuracy: 0.9162 - val_loss: 0.9054 - val_accuracy: 0.8050\n",
            "Epoch 10/20\n",
            "16/16 [==============================] - 1s 49ms/step - loss: 0.3416 - accuracy: 0.9267 - val_loss: 0.8753 - val_accuracy: 0.8160\n",
            "Epoch 11/20\n",
            "16/16 [==============================] - 1s 51ms/step - loss: 0.2980 - accuracy: 0.9357 - val_loss: 0.8728 - val_accuracy: 0.8170\n",
            "Epoch 12/20\n",
            "16/16 [==============================] - 1s 51ms/step - loss: 0.2554 - accuracy: 0.9411 - val_loss: 0.8849 - val_accuracy: 0.8110\n",
            "Epoch 13/20\n",
            "16/16 [==============================] - 1s 55ms/step - loss: 0.2328 - accuracy: 0.9451 - val_loss: 0.8992 - val_accuracy: 0.8160\n",
            "Epoch 14/20\n",
            "16/16 [==============================] - 1s 55ms/step - loss: 0.2062 - accuracy: 0.9490 - val_loss: 0.8992 - val_accuracy: 0.8150\n",
            "Epoch 15/20\n",
            "16/16 [==============================] - 1s 83ms/step - loss: 0.1842 - accuracy: 0.9528 - val_loss: 0.8977 - val_accuracy: 0.8140\n",
            "Epoch 16/20\n",
            "16/16 [==============================] - 2s 98ms/step - loss: 0.1704 - accuracy: 0.9530 - val_loss: 0.9469 - val_accuracy: 0.8130\n",
            "Epoch 17/20\n",
            "16/16 [==============================] - 1s 60ms/step - loss: 0.1601 - accuracy: 0.9557 - val_loss: 0.9319 - val_accuracy: 0.8060\n",
            "Epoch 18/20\n",
            "16/16 [==============================] - 1s 52ms/step - loss: 0.1458 - accuracy: 0.9546 - val_loss: 0.9547 - val_accuracy: 0.8080\n",
            "Epoch 19/20\n",
            "16/16 [==============================] - 1s 55ms/step - loss: 0.1407 - accuracy: 0.9572 - val_loss: 0.9779 - val_accuracy: 0.8110\n",
            "Epoch 20/20\n",
            "16/16 [==============================] - 1s 51ms/step - loss: 0.1372 - accuracy: 0.9564 - val_loss: 0.9716 - val_accuracy: 0.8140\n"
          ]
        }
      ],
      "source": [
        "history = model.fit(partial_x_train,\n",
        "                    partial_y_train,\n",
        "                    epochs=20,\n",
        "                    batch_size=512,\n",
        "                    validation_data=(x_val, y_val))"
      ]
    },
    {
      "cell_type": "markdown",
      "metadata": {
        "id": "3QEa_tgfx3HC"
      },
      "source": [
        "**Plotting the training and validation loss**"
      ]
    },
    {
      "cell_type": "code",
      "execution_count": 165,
      "metadata": {
        "id": "voO9OhQ0x3HC",
        "colab": {
          "base_uri": "https://localhost:8080/",
          "height": 472
        },
        "outputId": "9788f4b9-4076-49a6-806e-ee7ad2233fd4"
      },
      "outputs": [
        {
          "output_type": "display_data",
          "data": {
            "text/plain": [
              "<Figure size 640x480 with 1 Axes>"
            ],
            "image/png": "[encoded data removed]"
          },
          "metadata": {}
        }
      ],
      "source": [
        "import matplotlib.pyplot as plt\n",
        "loss = history.history[\"loss\"]\n",
        "val_loss = history.history[\"val_loss\"]\n",
        "epochs = range(1, len(loss) + 1)\n",
        "plt.plot(epochs, loss, \"bo\", label=\"Training loss\")\n",
        "plt.plot(epochs, val_loss, \"b\", label=\"Validation loss\")\n",
        "plt.title(\"Training and validation loss\")\n",
        "plt.xlabel(\"Epochs\")\n",
        "plt.ylabel(\"Loss\")\n",
        "plt.legend()\n",
        "plt.show()"
      ]
    },
    {
      "cell_type": "markdown",
      "metadata": {
        "id": "z1E5fKJEx3HD"
      },
      "source": [
        "**Plotting the training and validation accuracy**"
      ]
    },
    {
      "cell_type": "code",
      "execution_count": 166,
      "metadata": {
        "id": "DPjtH9MBx3HD",
        "colab": {
          "base_uri": "https://localhost:8080/",
          "height": 472
        },
        "outputId": "9a9333c7-3a74-473b-db25-7251dfbc0bee"
      },
      "outputs": [
        {
          "output_type": "display_data",
          "data": {
            "text/plain": [
              "<Figure size 640x480 with 1 Axes>"
            ],
            "image/png": "[encoded data removed]"
          },
          "metadata": {}
        }
      ],
      "source": [
        "plt.clf()\n",
        "acc = history.history[\"accuracy\"]\n",
        "val_acc = history.history[\"val_accuracy\"]\n",
        "plt.plot(epochs, acc, \"bo\", label=\"Training accuracy\")\n",
        "plt.plot(epochs, val_acc, \"b\", label=\"Validation accuracy\")\n",
        "plt.title(\"Training and validation accuracy\")\n",
        "plt.xlabel(\"Epochs\")\n",
        "plt.ylabel(\"Accuracy\")\n",
        "plt.legend()\n",
        "plt.show()"
      ]
    },
    {
      "cell_type": "markdown",
      "metadata": {
        "id": "tZifBwb6x3HD"
      },
      "source": [
        "**Retraining a model from scratch**"
      ]
    },
    {
      "cell_type": "code",
      "execution_count": 167,
      "metadata": {
        "id": "x5SyNZ4ix3HE",
        "colab": {
          "base_uri": "https://localhost:8080/"
        },
        "outputId": "30060c44-0568-4bb3-d5f1-20b326071b31"
      },
      "outputs": [
        {
          "output_type": "stream",
          "name": "stdout",
          "text": [
            "Epoch 1/9\n",
            "18/18 [==============================] - 2s 60ms/step - loss: 2.6613 - accuracy: 0.5163\n",
            "Epoch 2/9\n",
            "18/18 [==============================] - 2s 84ms/step - loss: 1.4981 - accuracy: 0.6806\n",
            "Epoch 3/9\n",
            "18/18 [==============================] - 1s 69ms/step - loss: 1.1412 - accuracy: 0.7475\n",
            "Epoch 4/9\n",
            "18/18 [==============================] - 1s 43ms/step - loss: 0.9201 - accuracy: 0.8044\n",
            "Epoch 5/9\n",
            "18/18 [==============================] - 1s 49ms/step - loss: 0.7604 - accuracy: 0.8401\n",
            "Epoch 6/9\n",
            "18/18 [==============================] - 1s 49ms/step - loss: 0.6303 - accuracy: 0.8646\n",
            "Epoch 7/9\n",
            "18/18 [==============================] - 1s 53ms/step - loss: 0.5255 - accuracy: 0.8897\n",
            "Epoch 8/9\n",
            "18/18 [==============================] - 1s 49ms/step - loss: 0.4418 - accuracy: 0.9068\n",
            "Epoch 9/9\n",
            "18/18 [==============================] - 1s 49ms/step - loss: 0.3810 - accuracy: 0.9187\n",
            "71/71 [==============================] - 0s 3ms/step - loss: 0.9176 - accuracy: 0.7930\n"
          ]
        }
      ],
      "source": [
        "#에포크 9로 해보기  \n",
        "model = keras.Sequential([\n",
        "  layers.Dense(64, activation=\"relu\"),\n",
        "  layers.Dense(64, activation=\"relu\"),\n",
        "  layers.Dense(46, activation=\"softmax\")\n",
        "])\n",
        "model.compile(optimizer=\"rmsprop\",\n",
        "              loss=\"categorical_crossentropy\",\n",
        "              metrics=[\"accuracy\"])\n",
        "model.fit(x_train,\n",
        "          y_train,\n",
        "          epochs=9,\n",
        "          batch_size=512)\n",
        "results = model.evaluate(x_test, y_test)"
      ]
    },
    {
      "cell_type": "code",
      "execution_count": 168,
      "metadata": {
        "id": "QBi2IwaFx3HE",
        "colab": {
          "base_uri": "https://localhost:8080/"
        },
        "outputId": "8280ba31-027b-4ffc-e439-fcfceb61305e"
      },
      "outputs": [
        {
          "output_type": "execute_result",
          "data": {
            "text/plain": [
              "[0.9176416993141174, 0.792965292930603]"
            ]
          },
          "metadata": {},
          "execution_count": 168
        }
      ],
      "source": [
        "results"
      ]
    },
    {
      "cell_type": "markdown",
      "source": [
        "accuracy가 79.2% 나왔는데 이게 좋은건가? 잘 모름"
      ],
      "metadata": {
        "id": "BIYrpo9kfSQz"
      }
    },
    {
      "cell_type": "code",
      "execution_count": 169,
      "metadata": {
        "id": "4BQzJ18kx3HE",
        "colab": {
          "base_uri": "https://localhost:8080/"
        },
        "outputId": "5537e44c-b451-479b-a0ba-aabb95fd613c"
      },
      "outputs": [
        {
          "output_type": "execute_result",
          "data": {
            "text/plain": [
              "0.1714158504007124"
            ]
          },
          "metadata": {},
          "execution_count": 169
        }
      ],
      "source": [
        "import copy\n",
        "test_labels_copy = copy.copy(test_labels) #test label 셔플  \n",
        "np.random.shuffle(test_labels_copy)\n",
        "hits_array = np.array(test_labels) == np.array(test_labels_copy)\n",
        "hits_array.mean()"
      ]
    },
    {
      "cell_type": "markdown",
      "source": [
        "랜덤 레이블과 기존 레이블을 비교했더니 17%의 정확도 보임\n",
        "\n",
        "이게 높았다면? 랜덤으로 예측해도 정확도가 높다는 뜻이니까 78,8%의 정확도가 좋은 거라고 보기 어렵다\n",
        "\n",
        "하지만 17%로 낮기 때문에 78.8의 정확도는 꽤괜"
      ],
      "metadata": {
        "id": "XW6Yl95HjcHR"
      }
    },
    {
      "cell_type": "markdown",
      "metadata": {
        "id": "b81B672mx3HE"
      },
      "source": [
        "### Generating predictions on new data"
      ]
    },
    {
      "cell_type": "code",
      "execution_count": 170,
      "metadata": {
        "id": "zZtcAjTTx3HE",
        "colab": {
          "base_uri": "https://localhost:8080/"
        },
        "outputId": "54df73c2-f252-4858-b17d-18a4cf0a1fee"
      },
      "outputs": [
        {
          "output_type": "stream",
          "name": "stdout",
          "text": [
            "71/71 [==============================] - 0s 3ms/step\n"
          ]
        }
      ],
      "source": [
        "predictions = model.predict(x_test)"
      ]
    },
    {
      "cell_type": "code",
      "execution_count": 171,
      "metadata": {
        "id": "FST-Hk9Cx3HF",
        "colab": {
          "base_uri": "https://localhost:8080/"
        },
        "outputId": "b7aa4846-76aa-47a4-c92d-dc4f2bd6ae2d"
      },
      "outputs": [
        {
          "output_type": "execute_result",
          "data": {
            "text/plain": [
              "(46,)"
            ]
          },
          "metadata": {},
          "execution_count": 171
        }
      ],
      "source": [
        "predictions[0].shape"
      ]
    },
    {
      "cell_type": "code",
      "execution_count": 172,
      "metadata": {
        "id": "5wppfefzx3HF",
        "colab": {
          "base_uri": "https://localhost:8080/"
        },
        "outputId": "0b1229ed-a675-43df-8cb9-7c23735787c1"
      },
      "outputs": [
        {
          "output_type": "execute_result",
          "data": {
            "text/plain": [
              "0.99999994"
            ]
          },
          "metadata": {},
          "execution_count": 172
        }
      ],
      "source": [
        "np.sum(predictions[0])"
      ]
    },
    {
      "cell_type": "code",
      "execution_count": 173,
      "metadata": {
        "id": "N0wytuBNx3HF",
        "colab": {
          "base_uri": "https://localhost:8080/"
        },
        "outputId": "7541b975-ef70-4f41-8f4c-4d6066dc5067"
      },
      "outputs": [
        {
          "output_type": "execute_result",
          "data": {
            "text/plain": [
              "3"
            ]
          },
          "metadata": {},
          "execution_count": 173
        }
      ],
      "source": [
        "np.argmax(predictions[0])"
      ]
    },
    {
      "cell_type": "code",
      "source": [
        "y_test[0]"
      ],
      "metadata": {
        "id": "CPtSqDGvoQDv",
        "outputId": "9a821493-09cb-4903-89d8-c289d269da60",
        "colab": {
          "base_uri": "https://localhost:8080/"
        }
      },
      "execution_count": 176,
      "outputs": [
        {
          "output_type": "execute_result",
          "data": {
            "text/plain": [
              "array([0., 0., 0., 1., 0., 0., 0., 0., 0., 0., 0., 0., 0., 0., 0., 0., 0.,\n",
              "       0., 0., 0., 0., 0., 0., 0., 0., 0., 0., 0., 0., 0., 0., 0., 0., 0.,\n",
              "       0., 0., 0., 0., 0., 0., 0., 0., 0., 0., 0., 0.], dtype=float32)"
            ]
          },
          "metadata": {},
          "execution_count": 176
        }
      ]
    },
    {
      "cell_type": "code",
      "source": [
        "np.argmax(y_test[0])"
      ],
      "metadata": {
        "id": "oFiIfNDQki1C",
        "outputId": "ab102707-2a37-4b43-bf32-dea4de1a0ad5",
        "colab": {
          "base_uri": "https://localhost:8080/"
        }
      },
      "execution_count": 175,
      "outputs": [
        {
          "output_type": "execute_result",
          "data": {
            "text/plain": [
              "3"
            ]
          },
          "metadata": {},
          "execution_count": 175
        }
      ]
    },
    {
      "cell_type": "markdown",
      "metadata": {
        "id": "WwBKYiZ0x3HF"
      },
      "source": [
        "### A different way to handle the labels and the loss"
      ]
    },
    {
      "cell_type": "code",
      "execution_count": 177,
      "metadata": {
        "id": "GGQsEtO5x3HF"
      },
      "outputs": [],
      "source": [
        "y_train = np.array(train_labels)\n",
        "y_test = np.array(test_labels)\n",
        "#원핫인코딩 안하고 그냥하기\n",
        "#이렇게 할 거면 0~45 값이어야함 "
      ]
    },
    {
      "cell_type": "code",
      "source": [
        "y_test[:100]"
      ],
      "metadata": {
        "id": "rNxMCGa2ofki",
        "outputId": "a898cb2f-1eb7-4642-ef3b-cefc2add5a35",
        "colab": {
          "base_uri": "https://localhost:8080/"
        }
      },
      "execution_count": 182,
      "outputs": [
        {
          "output_type": "execute_result",
          "data": {
            "text/plain": [
              "array([ 3, 10,  1,  4,  4,  3,  3,  3,  3,  3,  5,  4,  1,  3,  1, 11, 23,\n",
              "        3, 19,  3,  8,  3,  3,  3,  9,  3,  4,  6, 10,  3,  3, 10, 20,  1,\n",
              "       19,  4, 40,  1,  4,  3, 15, 21,  3, 34,  4,  4,  3,  4,  3, 11, 20,\n",
              "        3,  1,  3,  3,  4, 26,  4, 20, 19,  4,  3,  4,  4,  4,  3,  3,  1,\n",
              "        3,  4, 21, 16,  3, 19, 43,  2,  1,  3, 39,  4,  3,  3,  3, 11, 19,\n",
              "       20,  1, 11,  4,  3,  3,  4,  3,  4,  3, 11, 11,  3, 20, 28])"
            ]
          },
          "metadata": {},
          "execution_count": 182
        }
      ]
    },
    {
      "cell_type": "code",
      "source": [
        "np.min(y_test)"
      ],
      "metadata": {
        "id": "Ko88cVRlov0R",
        "outputId": "27cd686b-cb4c-4778-ae34-3cdaf218edf5",
        "colab": {
          "base_uri": "https://localhost:8080/"
        }
      },
      "execution_count": 184,
      "outputs": [
        {
          "output_type": "execute_result",
          "data": {
            "text/plain": [
              "0"
            ]
          },
          "metadata": {},
          "execution_count": 184
        }
      ]
    },
    {
      "cell_type": "code",
      "source": [
        "np.max(y_test)"
      ],
      "metadata": {
        "id": "9nvyCCW8o0D_",
        "outputId": "4cd6db06-238b-4583-ae1e-135f7592a11b",
        "colab": {
          "base_uri": "https://localhost:8080/"
        }
      },
      "execution_count": 185,
      "outputs": [
        {
          "output_type": "execute_result",
          "data": {
            "text/plain": [
              "45"
            ]
          },
          "metadata": {},
          "execution_count": 185
        }
      ]
    },
    {
      "cell_type": "code",
      "source": [
        "model = keras.Sequential([\n",
        "  layers.Dense(64, activation=\"relu\"),\n",
        "  layers.Dense(64, activation=\"relu\"),\n",
        "  layers.Dense(46, activation=\"softmax\")\n",
        "])\n",
        "\n",
        "model.compile(optimizer=\"rmsprop\",\n",
        "              loss=\"sparse_categorical_crossentropy\",\n",
        "              metrics=[\"accuracy\"])\n",
        "#loss가 categoricla_crossentropy에서 sparse_categorical_crossentropy로 변경\n",
        "#sparse_categorical_crossentropy는 레이블이 정수형태일 때 사용\n",
        "\n",
        "model.fit(x_train,\n",
        "          y_train,\n",
        "          epochs=20,\n",
        "          batch_size=128)\n"
      ],
      "metadata": {
        "id": "IbS5qZAIpVfF",
        "outputId": "dbfb6978-c101-41e6-f49e-ed8cd7f971e4",
        "colab": {
          "base_uri": "https://localhost:8080/"
        }
      },
      "execution_count": 186,
      "outputs": [
        {
          "output_type": "stream",
          "name": "stdout",
          "text": [
            "Epoch 1/20\n",
            "71/71 [==============================] - 2s 19ms/step - loss: 1.7895 - accuracy: 0.6285\n",
            "Epoch 2/20\n",
            "71/71 [==============================] - 1s 17ms/step - loss: 0.9692 - accuracy: 0.7891\n",
            "Epoch 3/20\n",
            "71/71 [==============================] - 2s 23ms/step - loss: 0.6601 - accuracy: 0.8631\n",
            "Epoch 4/20\n",
            "71/71 [==============================] - 2s 26ms/step - loss: 0.4628 - accuracy: 0.9030\n",
            "Epoch 5/20\n",
            "71/71 [==============================] - 1s 17ms/step - loss: 0.3413 - accuracy: 0.9271\n",
            "Epoch 6/20\n",
            "71/71 [==============================] - 1s 18ms/step - loss: 0.2688 - accuracy: 0.9395\n",
            "Epoch 7/20\n",
            "71/71 [==============================] - 1s 19ms/step - loss: 0.2285 - accuracy: 0.9447\n",
            "Epoch 8/20\n",
            "71/71 [==============================] - 1s 18ms/step - loss: 0.2005 - accuracy: 0.9483\n",
            "Epoch 9/20\n",
            "71/71 [==============================] - 2s 35ms/step - loss: 0.1782 - accuracy: 0.9520\n",
            "Epoch 10/20\n",
            "71/71 [==============================] - 1s 19ms/step - loss: 0.1670 - accuracy: 0.9513\n",
            "Epoch 11/20\n",
            "71/71 [==============================] - 2s 22ms/step - loss: 0.1571 - accuracy: 0.9522\n",
            "Epoch 12/20\n",
            "71/71 [==============================] - 2s 27ms/step - loss: 0.1481 - accuracy: 0.9531\n",
            "Epoch 13/20\n",
            "71/71 [==============================] - 1s 19ms/step - loss: 0.1429 - accuracy: 0.9523\n",
            "Epoch 14/20\n",
            "71/71 [==============================] - 1s 16ms/step - loss: 0.1437 - accuracy: 0.9526\n",
            "Epoch 15/20\n",
            "71/71 [==============================] - 1s 17ms/step - loss: 0.1345 - accuracy: 0.9522\n",
            "Epoch 16/20\n",
            "71/71 [==============================] - 1s 19ms/step - loss: 0.1344 - accuracy: 0.9531\n",
            "Epoch 17/20\n",
            "71/71 [==============================] - 1s 18ms/step - loss: 0.1289 - accuracy: 0.9548\n",
            "Epoch 18/20\n",
            "71/71 [==============================] - 1s 19ms/step - loss: 0.1268 - accuracy: 0.9548\n",
            "Epoch 19/20\n",
            "71/71 [==============================] - 1s 18ms/step - loss: 0.1272 - accuracy: 0.9544\n",
            "Epoch 20/20\n",
            "71/71 [==============================] - 1s 17ms/step - loss: 0.1222 - accuracy: 0.9544\n"
          ]
        },
        {
          "output_type": "execute_result",
          "data": {
            "text/plain": [
              "<keras.callbacks.History at 0x7f2f24edd250>"
            ]
          },
          "metadata": {},
          "execution_count": 186
        }
      ]
    },
    {
      "cell_type": "markdown",
      "metadata": {
        "id": "FCm03ulmx3HG"
      },
      "source": [
        "### The importance of having sufficiently large intermediate layers"
      ]
    },
    {
      "cell_type": "markdown",
      "metadata": {
        "id": "cLjvPBSVx3HG"
      },
      "source": [
        "**A model with an information bottleneck**"
      ]
    },
    {
      "cell_type": "code",
      "execution_count": 179,
      "metadata": {
        "id": "tXrX0b2Nx3HG",
        "colab": {
          "base_uri": "https://localhost:8080/"
        },
        "outputId": "b40983f5-a207-42fa-f347-55af897f3126"
      },
      "outputs": [
        {
          "output_type": "stream",
          "name": "stdout",
          "text": [
            "Epoch 1/20\n",
            "63/63 [==============================] - 2s 20ms/step - loss: 2.8002 - accuracy: 0.2439 - val_loss: 2.1049 - val_accuracy: 0.5450\n",
            "Epoch 2/20\n",
            "63/63 [==============================] - 1s 17ms/step - loss: 1.7454 - accuracy: 0.6263 - val_loss: 1.5551 - val_accuracy: 0.6460\n",
            "Epoch 3/20\n",
            "63/63 [==============================] - 1s 20ms/step - loss: 1.3559 - accuracy: 0.6709 - val_loss: 1.3955 - val_accuracy: 0.6630\n",
            "Epoch 4/20\n",
            "63/63 [==============================] - 1s 18ms/step - loss: 1.1863 - accuracy: 0.6963 - val_loss: 1.3310 - val_accuracy: 0.6750\n",
            "Epoch 5/20\n",
            "63/63 [==============================] - 1s 23ms/step - loss: 1.0753 - accuracy: 0.7197 - val_loss: 1.2908 - val_accuracy: 0.6920\n",
            "Epoch 6/20\n",
            "63/63 [==============================] - 2s 30ms/step - loss: 0.9833 - accuracy: 0.7476 - val_loss: 1.2853 - val_accuracy: 0.7000\n",
            "Epoch 7/20\n",
            "63/63 [==============================] - 1s 22ms/step - loss: 0.9061 - accuracy: 0.7633 - val_loss: 1.2625 - val_accuracy: 0.6970\n",
            "Epoch 8/20\n",
            "63/63 [==============================] - 1s 20ms/step - loss: 0.8392 - accuracy: 0.7791 - val_loss: 1.2747 - val_accuracy: 0.7050\n",
            "Epoch 9/20\n",
            "63/63 [==============================] - 1s 18ms/step - loss: 0.7814 - accuracy: 0.7909 - val_loss: 1.2931 - val_accuracy: 0.7040\n",
            "Epoch 10/20\n",
            "63/63 [==============================] - 1s 16ms/step - loss: 0.7333 - accuracy: 0.8039 - val_loss: 1.2881 - val_accuracy: 0.7130\n",
            "Epoch 11/20\n",
            "63/63 [==============================] - 1s 17ms/step - loss: 0.6877 - accuracy: 0.8165 - val_loss: 1.2950 - val_accuracy: 0.7200\n",
            "Epoch 12/20\n",
            "63/63 [==============================] - 1s 16ms/step - loss: 0.6483 - accuracy: 0.8265 - val_loss: 1.3235 - val_accuracy: 0.7220\n",
            "Epoch 13/20\n",
            "63/63 [==============================] - 1s 17ms/step - loss: 0.6140 - accuracy: 0.8400 - val_loss: 1.3333 - val_accuracy: 0.7270\n",
            "Epoch 14/20\n",
            "63/63 [==============================] - 1s 17ms/step - loss: 0.5816 - accuracy: 0.8449 - val_loss: 1.3736 - val_accuracy: 0.7240\n",
            "Epoch 15/20\n",
            "63/63 [==============================] - 1s 19ms/step - loss: 0.5548 - accuracy: 0.8530 - val_loss: 1.4200 - val_accuracy: 0.7280\n",
            "Epoch 16/20\n",
            "63/63 [==============================] - 2s 30ms/step - loss: 0.5289 - accuracy: 0.8568 - val_loss: 1.4344 - val_accuracy: 0.7300\n",
            "Epoch 17/20\n",
            "63/63 [==============================] - 2s 27ms/step - loss: 0.5050 - accuracy: 0.8659 - val_loss: 1.4730 - val_accuracy: 0.7310\n",
            "Epoch 18/20\n",
            "63/63 [==============================] - 1s 18ms/step - loss: 0.4849 - accuracy: 0.8686 - val_loss: 1.5304 - val_accuracy: 0.7260\n",
            "Epoch 19/20\n",
            "63/63 [==============================] - 1s 19ms/step - loss: 0.4686 - accuracy: 0.8716 - val_loss: 1.5656 - val_accuracy: 0.7190\n",
            "Epoch 20/20\n",
            "63/63 [==============================] - 1s 17ms/step - loss: 0.4492 - accuracy: 0.8770 - val_loss: 1.5862 - val_accuracy: 0.7210\n"
          ]
        },
        {
          "output_type": "execute_result",
          "data": {
            "text/plain": [
              "<keras.callbacks.History at 0x7f2f268f05b0>"
            ]
          },
          "metadata": {},
          "execution_count": 179
        }
      ],
      "source": [
        "model = keras.Sequential([\n",
        "    layers.Dense(64, activation=\"relu\"),\n",
        "    layers.Dense(4, activation=\"relu\"),     #64->4로 바꿈\n",
        "    layers.Dense(46, activation=\"softmax\")\n",
        "])\n",
        "model.compile(optimizer=\"rmsprop\",\n",
        "              loss=\"categorical_crossentropy\",\n",
        "              metrics=[\"accuracy\"])\n",
        "model.fit(partial_x_train,\n",
        "          partial_y_train,\n",
        "          epochs=20,\n",
        "          batch_size=128,\n",
        "          validation_data=(x_val, y_val))"
      ]
    },
    {
      "cell_type": "markdown",
      "source": [
        "###val_acc가 81%에서 72%로 하락\n",
        "\n",
        "###: layer 크기의 중요성\n"
      ],
      "metadata": {
        "id": "2U3AmsCdlQt6"
      }
    },
    {
      "cell_type": "markdown",
      "metadata": {
        "id": "5wFk0wsFx3HG"
      },
      "source": [
        "### Further experiments"
      ]
    },
    {
      "cell_type": "markdown",
      "metadata": {
        "id": "TmBX8FiMx3HG"
      },
      "source": [
        "### Wrapping up"
      ]
    },
    {
      "cell_type": "markdown",
      "metadata": {
        "id": "oSeLFUZYx3HH"
      },
      "source": [
        "## Predicting house prices: A regression example"
      ]
    },
    {
      "cell_type": "markdown",
      "metadata": {
        "id": "jqeJEGcnx3HH"
      },
      "source": [
        "### The Boston Housing Price dataset"
      ]
    },
    {
      "cell_type": "markdown",
      "metadata": {
        "id": "7PG5IOhux3HH"
      },
      "source": [
        "**Loading the Boston housing dataset**"
      ]
    },
    {
      "cell_type": "code",
      "execution_count": 187,
      "metadata": {
        "id": "FtiTub9Lx3HH",
        "colab": {
          "base_uri": "https://localhost:8080/"
        },
        "outputId": "f0125d30-6e52-47bb-b31a-54b53ab072b8"
      },
      "outputs": [
        {
          "output_type": "stream",
          "name": "stdout",
          "text": [
            "Downloading data from https://storage.googleapis.com/tensorflow/tf-keras-datasets/boston_housing.npz\n",
            "57026/57026 [==============================] - 0s 0us/step\n"
          ]
        }
      ],
      "source": [
        "from tensorflow.keras.datasets import boston_housing\n",
        "(train_data, train_targets), (test_data, test_targets) = boston_housing.load_data()"
      ]
    },
    {
      "cell_type": "code",
      "execution_count": 188,
      "metadata": {
        "id": "8IX3mrIsx3HH",
        "colab": {
          "base_uri": "https://localhost:8080/"
        },
        "outputId": "927091fd-f3f7-4eaf-e972-113130371d03"
      },
      "outputs": [
        {
          "output_type": "execute_result",
          "data": {
            "text/plain": [
              "(404, 13)"
            ]
          },
          "metadata": {},
          "execution_count": 188
        }
      ],
      "source": [
        "train_data.shape"
      ]
    },
    {
      "cell_type": "code",
      "execution_count": 189,
      "metadata": {
        "id": "5zBnL383x3HH",
        "colab": {
          "base_uri": "https://localhost:8080/"
        },
        "outputId": "b21ce016-0ebd-4827-d745-5633ecd0cca5"
      },
      "outputs": [
        {
          "output_type": "execute_result",
          "data": {
            "text/plain": [
              "(102, 13)"
            ]
          },
          "metadata": {},
          "execution_count": 189
        }
      ],
      "source": [
        "test_data.shape"
      ]
    },
    {
      "cell_type": "code",
      "execution_count": 191,
      "metadata": {
        "id": "bLMKQJyrx3HH",
        "colab": {
          "base_uri": "https://localhost:8080/"
        },
        "outputId": "f18add46-e7e5-4c64-a9e5-1ae2c11379fb"
      },
      "outputs": [
        {
          "output_type": "execute_result",
          "data": {
            "text/plain": [
              "(404,)"
            ]
          },
          "metadata": {},
          "execution_count": 191
        }
      ],
      "source": [
        "train_targets.shape"
      ]
    },
    {
      "cell_type": "code",
      "source": [
        "test_targets.shape"
      ],
      "metadata": {
        "id": "9Av02qmFqFmL",
        "outputId": "ddc9bbca-29cd-4291-dace-a5a273910fa1",
        "colab": {
          "base_uri": "https://localhost:8080/"
        }
      },
      "execution_count": 192,
      "outputs": [
        {
          "output_type": "execute_result",
          "data": {
            "text/plain": [
              "(102,)"
            ]
          },
          "metadata": {},
          "execution_count": 192
        }
      ]
    },
    {
      "cell_type": "markdown",
      "metadata": {
        "id": "nB2Uj5tvx3HI"
      },
      "source": [
        "### Preparing the data"
      ]
    },
    {
      "cell_type": "markdown",
      "metadata": {
        "id": "o3vUeLCxx3HI"
      },
      "source": [
        "**Normalizing the data**"
      ]
    },
    {
      "cell_type": "code",
      "execution_count": 193,
      "metadata": {
        "id": "qwKtPPwrx3HI"
      },
      "outputs": [],
      "source": [
        "mean = train_data.mean(axis=0)\n",
        "train_data -= mean\n",
        "std = train_data.std(axis=0)\n",
        "train_data /= std\n",
        "test_data -= mean\n",
        "test_data /= std"
      ]
    },
    {
      "cell_type": "markdown",
      "source": [
        "정규화하면 더 빠르게 수렴함"
      ],
      "metadata": {
        "id": "n1Ij7NW6qqvH"
      }
    },
    {
      "cell_type": "markdown",
      "metadata": {
        "id": "x0WDkgb6x3HI"
      },
      "source": [
        "### Building your model"
      ]
    },
    {
      "cell_type": "markdown",
      "metadata": {
        "id": "_88C_Vz3x3HI"
      },
      "source": [
        "**Model definition**"
      ]
    },
    {
      "cell_type": "code",
      "execution_count": 195,
      "metadata": {
        "id": "i1UezK9ox3HI"
      },
      "outputs": [],
      "source": [
        "def build_model():\n",
        "    model = keras.Sequential([\n",
        "        layers.Dense(64, activation=\"relu\"),\n",
        "        layers.Dense(64, activation=\"relu\"), \n",
        "        layers.Dense(1)                                                         #regression에서는 활성화함수 없음. 결과값이 -무한대~+무한대여야 하니까      \n",
        "    ])\n",
        "    model.compile(optimizer=\"rmsprop\", loss=\"mse\", metrics=[\"mae\"])             #loss : mse\n",
        "    return model"
      ]
    },
    {
      "cell_type": "markdown",
      "metadata": {
        "id": "fPF_gk2Zx3HI"
      },
      "source": [
        "### Validating your approach using K-fold validation"
      ]
    },
    {
      "cell_type": "markdown",
      "source": [
        "data가 적어서"
      ],
      "metadata": {
        "id": "UFOO_2H2q07c"
      }
    },
    {
      "cell_type": "markdown",
      "metadata": {
        "id": "FtpUYPAAx3HI"
      },
      "source": [
        "**K-fold validation**"
      ]
    },
    {
      "cell_type": "code",
      "execution_count": 196,
      "metadata": {
        "id": "2UlnW8Fdx3HJ",
        "colab": {
          "base_uri": "https://localhost:8080/"
        },
        "outputId": "9cc32927-9333-4b56-f218-7704904f2e5a"
      },
      "outputs": [
        {
          "output_type": "stream",
          "name": "stdout",
          "text": [
            "Processing fold #0\n",
            "Processing fold #1\n",
            "Processing fold #2\n",
            "Processing fold #3\n"
          ]
        }
      ],
      "source": [
        "k = 4\n",
        "num_val_samples = len(train_data) // k\n",
        "num_epochs = 100\n",
        "all_scores = []\n",
        "for i in range(k):\n",
        "    print(f\"Processing fold #{i}\")\n",
        "    val_data = train_data[i * num_val_samples: (i + 1) * num_val_samples]\n",
        "    val_targets = train_targets[i * num_val_samples: (i + 1) * num_val_samples]\n",
        "    partial_train_data = np.concatenate(\n",
        "        [train_data[:i * num_val_samples],\n",
        "         train_data[(i + 1) * num_val_samples:]],\n",
        "        axis=0)\n",
        "    partial_train_targets = np.concatenate(\n",
        "        [train_targets[:i * num_val_samples],\n",
        "         train_targets[(i + 1) * num_val_samples:]],\n",
        "        axis=0)\n",
        "    model = build_model()\n",
        "    model.fit(partial_train_data, partial_train_targets,\n",
        "              epochs=num_epochs, batch_size=16, verbose=0)\n",
        "    val_mse, val_mae = model.evaluate(val_data, val_targets, verbose=0)\n",
        "    all_scores.append(val_mae)"
      ]
    },
    {
      "cell_type": "code",
      "execution_count": 197,
      "metadata": {
        "id": "axS9ANhGx3HJ",
        "colab": {
          "base_uri": "https://localhost:8080/"
        },
        "outputId": "8514371a-f39f-4b6e-a0f8-ad3e907cdcaa"
      },
      "outputs": [
        {
          "output_type": "execute_result",
          "data": {
            "text/plain": [
              "[2.079167366027832, 2.3236703872680664, 2.6181766986846924, 2.3464231491088867]"
            ]
          },
          "metadata": {},
          "execution_count": 197
        }
      ],
      "source": [
        "all_scores"
      ]
    },
    {
      "cell_type": "code",
      "execution_count": 198,
      "metadata": {
        "id": "j_1b-P1yx3HJ",
        "colab": {
          "base_uri": "https://localhost:8080/"
        },
        "outputId": "21ae6ae2-313a-4114-f776-fd3e4dfedb01"
      },
      "outputs": [
        {
          "output_type": "execute_result",
          "data": {
            "text/plain": [
              "2.3418594002723694"
            ]
          },
          "metadata": {},
          "execution_count": 198
        }
      ],
      "source": [
        "np.mean(all_scores)"
      ]
    },
    {
      "cell_type": "markdown",
      "metadata": {
        "id": "BTvSPuh5x3HK"
      },
      "source": [
        "**Saving the validation logs at each fold**"
      ]
    },
    {
      "cell_type": "code",
      "execution_count": 199,
      "metadata": {
        "id": "IirsTOHPx3HK",
        "colab": {
          "base_uri": "https://localhost:8080/"
        },
        "outputId": "2021fc3b-3181-4630-97b5-acf8f6cb3664"
      },
      "outputs": [
        {
          "output_type": "stream",
          "name": "stdout",
          "text": [
            "Processing fold #0\n",
            "Processing fold #1\n",
            "Processing fold #2\n",
            "Processing fold #3\n"
          ]
        }
      ],
      "source": [
        "num_epochs = 500\n",
        "all_mae_histories = []\n",
        "for i in range(k):\n",
        "    print(f\"Processing fold #{i}\")\n",
        "    val_data = train_data[i * num_val_samples: (i + 1) * num_val_samples]\n",
        "    val_targets = train_targets[i * num_val_samples: (i + 1) * num_val_samples]\n",
        "    partial_train_data = np.concatenate(\n",
        "        [train_data[:i * num_val_samples],\n",
        "         train_data[(i + 1) * num_val_samples:]],\n",
        "        axis=0)\n",
        "    partial_train_targets = np.concatenate(\n",
        "        [train_targets[:i * num_val_samples],\n",
        "         train_targets[(i + 1) * num_val_samples:]],\n",
        "        axis=0)\n",
        "    model = build_model()\n",
        "    history = model.fit(partial_train_data, partial_train_targets,\n",
        "                        validation_data=(val_data, val_targets),\n",
        "                        epochs=num_epochs, batch_size=16, verbose=0)\n",
        "    mae_history = history.history[\"val_mae\"]\n",
        "    all_mae_histories.append(mae_history)"
      ]
    },
    {
      "cell_type": "code",
      "source": [
        "history_dict = history.history\n",
        "history_dict.keys()"
      ],
      "metadata": {
        "id": "IMam8kMpx3YP",
        "outputId": "dba0b3c1-c681-498e-e6f8-081021a73439",
        "colab": {
          "base_uri": "https://localhost:8080/"
        }
      },
      "execution_count": 209,
      "outputs": [
        {
          "output_type": "execute_result",
          "data": {
            "text/plain": [
              "dict_keys(['loss', 'mae', 'val_loss', 'val_mae'])"
            ]
          },
          "metadata": {},
          "execution_count": 209
        }
      ]
    },
    {
      "cell_type": "code",
      "source": [
        "len(mae_history)"
      ],
      "metadata": {
        "id": "LuKap4ETzQvR",
        "outputId": "6c6aab17-56cc-4670-b418-8c119d6304ac",
        "colab": {
          "base_uri": "https://localhost:8080/"
        }
      },
      "execution_count": 212,
      "outputs": [
        {
          "output_type": "execute_result",
          "data": {
            "text/plain": [
              "500"
            ]
          },
          "metadata": {},
          "execution_count": 212
        }
      ]
    },
    {
      "cell_type": "code",
      "source": [
        "len(all_mae_histories)\n",
        "#mae_history가 4개 있음. k= 1,2,3,4 "
      ],
      "metadata": {
        "id": "fEFvTvuRu0Ab",
        "outputId": "17cfe20d-fb49-4e63-b754-d718c89138d5",
        "colab": {
          "base_uri": "https://localhost:8080/"
        }
      },
      "execution_count": 207,
      "outputs": [
        {
          "output_type": "execute_result",
          "data": {
            "text/plain": [
              "4"
            ]
          },
          "metadata": {},
          "execution_count": 207
        }
      ]
    },
    {
      "cell_type": "code",
      "source": [
        "len(all_mae_histories[0])"
      ],
      "metadata": {
        "id": "LBdA1WWvyEXM",
        "outputId": "874eb6d9-4796-4062-8d5f-3e58f087501a",
        "colab": {
          "base_uri": "https://localhost:8080/"
        }
      },
      "execution_count": 214,
      "outputs": [
        {
          "output_type": "execute_result",
          "data": {
            "text/plain": [
              "500"
            ]
          },
          "metadata": {},
          "execution_count": 214
        }
      ]
    },
    {
      "cell_type": "markdown",
      "metadata": {
        "id": "XzqdnSN7x3HK"
      },
      "source": [
        "**Building the history of successive mean K-fold validation scores**"
      ]
    },
    {
      "cell_type": "code",
      "execution_count": 216,
      "metadata": {
        "id": "41ZjSFdxx3HK"
      },
      "outputs": [],
      "source": [
        "average_mae_history = [\n",
        "    np.mean([x[i] for x in all_mae_histories]) for i in range(num_epochs)]\n",
        "# i : 0~500\n",
        "# i = 0 : 첫 에포크일 때 k=1,2,3,4 일 때의 mae의 평균"
      ]
    },
    {
      "cell_type": "code",
      "source": [
        "len(average_mae_history)"
      ],
      "metadata": {
        "id": "UBnr50XM0CkQ",
        "outputId": "0dbe689e-ba51-444c-fcad-17d98c54f76b",
        "colab": {
          "base_uri": "https://localhost:8080/"
        }
      },
      "execution_count": 217,
      "outputs": [
        {
          "output_type": "execute_result",
          "data": {
            "text/plain": [
              "500"
            ]
          },
          "metadata": {},
          "execution_count": 217
        }
      ]
    },
    {
      "cell_type": "markdown",
      "metadata": {
        "id": "IffPwk1Ax3HL"
      },
      "source": [
        "**Plotting validation scores**"
      ]
    },
    {
      "cell_type": "code",
      "execution_count": 201,
      "metadata": {
        "id": "NJPKM981x3HL",
        "colab": {
          "base_uri": "https://localhost:8080/",
          "height": 449
        },
        "outputId": "fff79596-c01e-443f-f6ed-619ec00712f2"
      },
      "outputs": [
        {
          "output_type": "display_data",
          "data": {
            "text/plain": [
              "<Figure size 640x480 with 1 Axes>"
            ],
            "image/png": "[encoded data removed]"
          },
          "metadata": {}
        }
      ],
      "source": [
        "plt.plot(range(1, len(average_mae_history) + 1), average_mae_history)\n",
        "plt.xlabel(\"Epochs\")\n",
        "plt.ylabel(\"Validation MAE\")\n",
        "plt.show()"
      ]
    },
    {
      "cell_type": "markdown",
      "metadata": {
        "id": "Gyju2_9nx3HL"
      },
      "source": [
        "**Plotting validation scores, excluding the first 10 data points**"
      ]
    },
    {
      "cell_type": "code",
      "execution_count": 202,
      "metadata": {
        "id": "GlCUz4zKx3HL",
        "colab": {
          "base_uri": "https://localhost:8080/",
          "height": 450
        },
        "outputId": "fcae5395-2801-4828-8801-9ce75198f411"
      },
      "outputs": [
        {
          "output_type": "display_data",
          "data": {
            "text/plain": [
              "<Figure size 640x480 with 1 Axes>"
            ],
            "image/png": "[encoded data removed]"
          },
          "metadata": {}
        }
      ],
      "source": [
        "truncated_mae_history = average_mae_history[10:]\n",
        "plt.plot(range(1, len(truncated_mae_history) + 1), truncated_mae_history)\n",
        "plt.xlabel(\"Epochs\")\n",
        "plt.ylabel(\"Validation MAE\")\n",
        "plt.show()"
      ]
    },
    {
      "cell_type": "markdown",
      "metadata": {
        "id": "cDeMlkxSx3HM"
      },
      "source": [
        "**Training the final model**"
      ]
    },
    {
      "cell_type": "code",
      "execution_count": 203,
      "metadata": {
        "id": "hr0IxBv_x3HN",
        "colab": {
          "base_uri": "https://localhost:8080/"
        },
        "outputId": "e7608ae3-28f5-48f1-f484-8cb0d3582393"
      },
      "outputs": [
        {
          "output_type": "stream",
          "name": "stdout",
          "text": [
            "4/4 [==============================] - 0s 4ms/step - loss: 16.3732 - mae: 2.6377\n"
          ]
        }
      ],
      "source": [
        "model = build_model()\n",
        "model.fit(train_data, train_targets,\n",
        "          epochs=130, batch_size=16, verbose=0)\n",
        "test_mse_score, test_mae_score = model.evaluate(test_data, test_targets)"
      ]
    },
    {
      "cell_type": "code",
      "execution_count": 204,
      "metadata": {
        "id": "WwlhAyuMx3HN",
        "colab": {
          "base_uri": "https://localhost:8080/"
        },
        "outputId": "fd506705-5054-4172-f236-20eeecb94cd9"
      },
      "outputs": [
        {
          "output_type": "execute_result",
          "data": {
            "text/plain": [
              "2.6377437114715576"
            ]
          },
          "metadata": {},
          "execution_count": 204
        }
      ],
      "source": [
        "test_mae_score"
      ]
    },
    {
      "cell_type": "markdown",
      "metadata": {
        "id": "TaKsRb1Wx3HN"
      },
      "source": [
        "### Generating predictions on new data"
      ]
    },
    {
      "cell_type": "code",
      "execution_count": 205,
      "metadata": {
        "id": "teAhwwyIx3HN",
        "colab": {
          "base_uri": "https://localhost:8080/"
        },
        "outputId": "75fe876c-1438-41fb-b88e-e39d0f40b75b"
      },
      "outputs": [
        {
          "output_type": "stream",
          "name": "stdout",
          "text": [
            "4/4 [==============================] - 0s 3ms/step\n"
          ]
        },
        {
          "output_type": "execute_result",
          "data": {
            "text/plain": [
              "array([7.545502], dtype=float32)"
            ]
          },
          "metadata": {},
          "execution_count": 205
        }
      ],
      "source": [
        "predictions = model.predict(test_data)\n",
        "predictions[0]"
      ]
    },
    {
      "cell_type": "markdown",
      "metadata": {
        "id": "tKiiJxTrx3HN"
      },
      "source": [
        "### Wrapping up"
      ]
    },
    {
      "cell_type": "markdown",
      "metadata": {
        "id": "pZa4pM2-x3HO"
      },
      "source": [
        "## Summary"
      ]
    }
  ],
  "metadata": {
    "colab": {
      "name": "chapter04_getting-started-with-neural-networks.i",
      "provenance": [],
      "include_colab_link": true
    },
    "kernelspec": {
      "display_name": "Python 3",
      "language": "python",
      "name": "python3"
    },
    "language_info": {
      "codemirror_mode": {
        "name": "ipython",
        "version": 3
      },
      "file_extension": ".py",
      "mimetype": "text/x-python",
      "name": "python",
      "nbconvert_exporter": "python",
      "pygments_lexer": "ipython3",
      "version": "3.7.0"
    },
    "gpuClass": "standard"
  },
  "nbformat": 4,
  "nbformat_minor": 0
}